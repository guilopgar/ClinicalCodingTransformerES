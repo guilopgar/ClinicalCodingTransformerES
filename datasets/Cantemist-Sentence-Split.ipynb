{
 "cells": [
  {
   "cell_type": "markdown",
   "metadata": {},
   "source": [
    "# Split sentences\n",
    "\n",
    "In this notebook, we perform the sentence splitting (SS) of the Cantemist training and development corpora. To do it, we use a custom version of the [Sentence-Splitter tool](https://github.com/PlanTL-SANIDAD/SPACCC_Sentence-Splitter) developed by the [Plan-TL Sanidad](https://www.plantl.gob.es/sanidad/Paginas/sanidad.aspx). In the custom version, instead of printing the text of each split sentence, we modified SentenceSplitter.java file to print the start and end char positions of each split sentence."
   ]
  },
  {
   "cell_type": "code",
   "execution_count": 1,
   "metadata": {},
   "outputs": [],
   "source": [
    "import pandas as pd\n",
    "import numpy as np\n",
    "import os"
   ]
  },
  {
   "cell_type": "code",
   "execution_count": 2,
   "metadata": {},
   "outputs": [
    {
     "name": "stdout",
     "output_type": "stream",
     "text": [
      "java version \"1.8.0_161\"\r\n",
      "Java(TM) SE Runtime Environment (build 1.8.0_161-b12)\r\n",
      "Java HotSpot(TM) 64-Bit Server VM (build 25.161-b12, mixed mode)\r\n"
     ]
    }
   ],
   "source": [
    "# Java SE 1.8 required\n",
    "!java -version"
   ]
  },
  {
   "cell_type": "code",
   "execution_count": 2,
   "metadata": {},
   "outputs": [],
   "source": [
    "corpus_path = \"../datasets/cantemist_v6/\"\n",
    "sub_task_path = \"cantemist-coding/\""
   ]
  },
  {
   "cell_type": "code",
   "execution_count": 3,
   "metadata": {},
   "outputs": [],
   "source": [
    "out_path = \"./Cantemist-SSplit-text/\""
   ]
  },
  {
   "cell_type": "code",
   "execution_count": 4,
   "metadata": {},
   "outputs": [],
   "source": [
    "ss_tool_path = \"./SPACCC_Sentence-Splitter_Custom/\""
   ]
  },
  {
   "cell_type": "code",
   "execution_count": 5,
   "metadata": {},
   "outputs": [],
   "source": [
    "ss_jar_path = ss_tool_path + \"apache-opennlp-1.8.4/lib/opennlp-tools-1.8.4.jar:\" + \\\n",
    "              ss_tool_path + \"src/ SentenceSplitter\""
   ]
  },
  {
   "cell_type": "code",
   "execution_count": 6,
   "metadata": {},
   "outputs": [],
   "source": [
    "ss_model_path = ss_tool_path + \"model/es-sentence-splitter-model-spaccc.bin\""
   ]
  },
  {
   "cell_type": "markdown",
   "metadata": {},
   "source": [
    "## Training\n",
    "\n",
    "We consider the train & dev1 Cantemist corpora as the training subset."
   ]
  },
  {
   "cell_type": "code",
   "execution_count": 8,
   "metadata": {},
   "outputs": [],
   "source": [
    "sub_corpus = \"train-set/\"\n",
    "sub_corpus_path = corpus_path + sub_corpus + sub_task_path + \"txt/\""
   ]
  },
  {
   "cell_type": "code",
   "execution_count": 9,
   "metadata": {},
   "outputs": [
    {
     "name": "stdout",
     "output_type": "stream",
     "text": [
      "CPU times: user 405 µs, sys: 3.88 ms, total: 4.29 ms\n",
      "Wall time: 24.5 ms\n"
     ]
    }
   ],
   "source": [
    "%%time\n",
    "sub_corpus_files = [sub_corpus_path + f for f in os.listdir(sub_corpus_path) if os.path.isfile(sub_corpus_path + f)]"
   ]
  },
  {
   "cell_type": "code",
   "execution_count": 10,
   "metadata": {},
   "outputs": [
    {
     "data": {
      "text/plain": [
       "501"
      ]
     },
     "execution_count": 10,
     "metadata": {},
     "output_type": "execute_result"
    }
   ],
   "source": [
    "len(sub_corpus_files)"
   ]
  },
  {
   "cell_type": "code",
   "execution_count": 11,
   "metadata": {},
   "outputs": [
    {
     "name": "stdout",
     "output_type": "stream",
     "text": [
      "CPU times: user 256 µs, sys: 1.91 ms, total: 2.16 ms\n",
      "Wall time: 19.5 ms\n"
     ]
    }
   ],
   "source": [
    "%%time\n",
    "sub_corpus = \"dev-set1/\"\n",
    "sub_corpus_path = corpus_path + sub_corpus + sub_task_path + \"txt/\"\n",
    "sub_corpus_files.extend([sub_corpus_path + f for f in os.listdir(sub_corpus_path) if os.path.isfile(sub_corpus_path + f)])"
   ]
  },
  {
   "cell_type": "code",
   "execution_count": 12,
   "metadata": {},
   "outputs": [
    {
     "data": {
      "text/plain": [
       "751"
      ]
     },
     "execution_count": 12,
     "metadata": {},
     "output_type": "execute_result"
    }
   ],
   "source": [
    "len(sub_corpus_files)"
   ]
  },
  {
   "cell_type": "code",
   "execution_count": 13,
   "metadata": {},
   "outputs": [],
   "source": [
    "sub_corpus_out_path = out_path + \"training/\""
   ]
  },
  {
   "cell_type": "code",
   "execution_count": 14,
   "metadata": {
    "collapsed": true
   },
   "outputs": [],
   "source": [
    "# Create dir if it does not exist\n",
    "if not os.path.exists(sub_corpus_out_path):\n",
    "    os.makedirs(sub_corpus_out_path)"
   ]
  },
  {
   "cell_type": "code",
   "execution_count": 15,
   "metadata": {},
   "outputs": [
    {
     "name": "stdout",
     "output_type": "stream",
     "text": [
      "CPU times: user 63.9 ms, sys: 1.27 s, total: 1.34 s\n",
      "Wall time: 3min 38s\n"
     ]
    }
   ],
   "source": [
    "%%time\n",
    "for sub_file in sub_corpus_files:\n",
    "    cmd = \"java -classpath \" + ss_jar_path + \" \" + sub_file + \" \" + ss_model_path + \" > \" + \\\n",
    "          sub_corpus_out_path + sub_file.split('/')[-1]\n",
    "    os.system(cmd)"
   ]
  },
  {
   "cell_type": "markdown",
   "metadata": {},
   "source": [
    "## Development\n",
    "\n",
    "We consider the dev2 Cantemist corpus as the development subset."
   ]
  },
  {
   "cell_type": "code",
   "execution_count": 20,
   "metadata": {},
   "outputs": [],
   "source": [
    "sub_corpus = \"dev-set2/\"\n",
    "sub_corpus_path = corpus_path + sub_corpus + sub_task_path + \"txt/\""
   ]
  },
  {
   "cell_type": "code",
   "execution_count": 21,
   "metadata": {},
   "outputs": [
    {
     "name": "stdout",
     "output_type": "stream",
     "text": [
      "CPU times: user 0 ns, sys: 6.64 ms, total: 6.64 ms\n",
      "Wall time: 27.6 ms\n"
     ]
    }
   ],
   "source": [
    "%%time\n",
    "sub_corpus_files = [f for f in os.listdir(sub_corpus_path) if os.path.isfile(sub_corpus_path + f)]"
   ]
  },
  {
   "cell_type": "code",
   "execution_count": 22,
   "metadata": {},
   "outputs": [
    {
     "data": {
      "text/plain": [
       "250"
      ]
     },
     "execution_count": 22,
     "metadata": {},
     "output_type": "execute_result"
    }
   ],
   "source": [
    "len(sub_corpus_files)"
   ]
  },
  {
   "cell_type": "code",
   "execution_count": 23,
   "metadata": {},
   "outputs": [],
   "source": [
    "sub_corpus_out_path = out_path + \"development/\""
   ]
  },
  {
   "cell_type": "code",
   "execution_count": 20,
   "metadata": {
    "collapsed": true
   },
   "outputs": [],
   "source": [
    "# Create dir if it does not exist\n",
    "if not os.path.exists(sub_corpus_out_path):\n",
    "    os.makedirs(sub_corpus_out_path)"
   ]
  },
  {
   "cell_type": "code",
   "execution_count": 21,
   "metadata": {},
   "outputs": [
    {
     "name": "stdout",
     "output_type": "stream",
     "text": [
      "CPU times: user 2.43 ms, sys: 411 ms, total: 413 ms\n",
      "Wall time: 1min 7s\n"
     ]
    }
   ],
   "source": [
    "%%time\n",
    "for sub_file in sub_corpus_files:\n",
    "    cmd = \"java -classpath \" + ss_jar_path + \" \" + sub_corpus_path + sub_file + \" \" + ss_model_path + \" > \" + \\\n",
    "          sub_corpus_out_path + sub_file\n",
    "    os.system(cmd)"
   ]
  }
 ],
 "metadata": {
  "kernelspec": {
   "display_name": "Python 3",
   "language": "python",
   "name": "python3"
  },
  "language_info": {
   "codemirror_mode": {
    "name": "ipython",
    "version": 3
   },
   "file_extension": ".py",
   "mimetype": "text/x-python",
   "name": "python",
   "nbconvert_exporter": "python",
   "pygments_lexer": "ipython3",
   "version": "3.6.5"
  }
 },
 "nbformat": 4,
 "nbformat_minor": 2
}
