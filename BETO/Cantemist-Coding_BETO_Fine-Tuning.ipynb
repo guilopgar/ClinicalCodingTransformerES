{
 "cells": [
  {
   "cell_type": "markdown",
   "metadata": {},
   "source": [
    "# Fine-tuning BETO on Cantemist-Coding\n",
    "\n",
    "In this notebook, following a multi-label sequence classification approach, the BETO model is fine-tuned on both the training and development sets of the Cantemist-Coding corpus. Additionally, the predictions made by the model on the test set are saved, in order to futher evaluate the clinical coding performance of the model (see `results/Cantemist-Coding/Evaluation.ipynb`)."
   ]
  },
  {
   "cell_type": "code",
   "execution_count": 1,
   "metadata": {},
   "outputs": [
    {
     "name": "stderr",
     "output_type": "stream",
     "text": [
      "Using TensorFlow backend.\n"
     ]
    }
   ],
   "source": [
    "import tensorflow as tf\n",
    "\n",
    "# Auxiliary components\n",
    "import sys\n",
    "sys.path.append(\"..\")\n",
    "from nlp_utils import *\n",
    "\n",
    "# BETO tokenizer\n",
    "from keras_bert import load_vocabulary, Tokenizer\n",
    "model_path = \"BETO_cased/\"\n",
    "config_path = model_path + \"config.json\"\n",
    "checkpoint_path = model_path + \"model.ckpt-2000000\"\n",
    "vocab_file = \"vocab.txt\"\n",
    "tokenizer = Tokenizer(token_dict=load_vocabulary(model_path + vocab_file), pad_index=1, cased=True)\n",
    "\n",
    "# Hyper-parameters\n",
    "text_col = \"raw_text\"\n",
    "training = False\n",
    "trainable = True\n",
    "SEQ_LEN = 128\n",
    "BATCH_SIZE = 16\n",
    "EPOCHS = 20\n",
    "LR = 3e-5\n",
    "\n",
    "random_seed = 0\n",
    "tf.set_random_seed(random_seed)"
   ]
  },
  {
   "cell_type": "markdown",
   "metadata": {},
   "source": [
    "## Load text\n",
    "\n",
    "Firstly, all text files from training and development Cantemist corpora are loaded in different dataframes.\n",
    "\n",
    "Also, CIE-O codes are loaded."
   ]
  },
  {
   "cell_type": "code",
   "execution_count": 2,
   "metadata": {},
   "outputs": [],
   "source": [
    "corpus_path = \"../datasets/cantemist_v6/\"\n",
    "sub_task_path = \"cantemist-coding/\""
   ]
  },
  {
   "cell_type": "markdown",
   "metadata": {},
   "source": [
    "### Training corpus"
   ]
  },
  {
   "cell_type": "code",
   "execution_count": 3,
   "metadata": {},
   "outputs": [
    {
     "name": "stdout",
     "output_type": "stream",
     "text": [
      "CPU times: user 2.38 ms, sys: 16 ms, total: 18.4 ms\n",
      "Wall time: 18.1 ms\n"
     ]
    }
   ],
   "source": [
    "%%time\n",
    "train_path = corpus_path + \"train-set/\" + sub_task_path + \"txt/\"\n",
    "train_files = [f for f in os.listdir(train_path) if os.path.isfile(train_path + f)]\n",
    "n_train_files = len(train_files)\n",
    "train_data = load_text_files(train_files, train_path)\n",
    "dev1_path = corpus_path + \"dev-set1/\" + sub_task_path + \"txt/\"\n",
    "train_files.extend([f for f in os.listdir(dev1_path) if os.path.isfile(dev1_path + f)])\n",
    "train_data.extend(load_text_files(train_files[n_train_files:], dev1_path))\n",
    "df_text_train = pd.DataFrame({'doc_id': [s.split('.txt')[0] for s in train_files], 'raw_text': train_data})"
   ]
  },
  {
   "cell_type": "code",
   "execution_count": 4,
   "metadata": {},
   "outputs": [
    {
     "data": {
      "text/plain": [
       "(751, 2)"
      ]
     },
     "execution_count": 4,
     "metadata": {},
     "output_type": "execute_result"
    }
   ],
   "source": [
    "df_text_train.shape"
   ]
  },
  {
   "cell_type": "code",
   "execution_count": 5,
   "metadata": {},
   "outputs": [
    {
     "data": {
      "text/html": [
       "<div>\n",
       "<style scoped>\n",
       "    .dataframe tbody tr th:only-of-type {\n",
       "        vertical-align: middle;\n",
       "    }\n",
       "\n",
       "    .dataframe tbody tr th {\n",
       "        vertical-align: top;\n",
       "    }\n",
       "\n",
       "    .dataframe thead th {\n",
       "        text-align: right;\n",
       "    }\n",
       "</style>\n",
       "<table border=\"1\" class=\"dataframe\">\n",
       "  <thead>\n",
       "    <tr style=\"text-align: right;\">\n",
       "      <th></th>\n",
       "      <th>doc_id</th>\n",
       "      <th>raw_text</th>\n",
       "    </tr>\n",
       "  </thead>\n",
       "  <tbody>\n",
       "    <tr>\n",
       "      <th>0</th>\n",
       "      <td>cc_onco453</td>\n",
       "      <td>Anamnesis\\nSe trata de un varón de 55 años, ex...</td>\n",
       "    </tr>\n",
       "    <tr>\n",
       "      <th>1</th>\n",
       "      <td>cc_onco962</td>\n",
       "      <td>Anamnesis\\nMujer de 40 años que consulta por l...</td>\n",
       "    </tr>\n",
       "    <tr>\n",
       "      <th>2</th>\n",
       "      <td>cc_onco989</td>\n",
       "      <td>Anamnesis\\nPaciente de 43 años, perimenopáusic...</td>\n",
       "    </tr>\n",
       "    <tr>\n",
       "      <th>3</th>\n",
       "      <td>cc_onco187</td>\n",
       "      <td>Anamnesis\\nVarón de 72 años, exfumador y bebed...</td>\n",
       "    </tr>\n",
       "    <tr>\n",
       "      <th>4</th>\n",
       "      <td>cc_onco164</td>\n",
       "      <td>Anamnesis\\nMujer de 51 años, sin alergias medi...</td>\n",
       "    </tr>\n",
       "  </tbody>\n",
       "</table>\n",
       "</div>"
      ],
      "text/plain": [
       "       doc_id                                           raw_text\n",
       "0  cc_onco453  Anamnesis\\nSe trata de un varón de 55 años, ex...\n",
       "1  cc_onco962  Anamnesis\\nMujer de 40 años que consulta por l...\n",
       "2  cc_onco989  Anamnesis\\nPaciente de 43 años, perimenopáusic...\n",
       "3  cc_onco187  Anamnesis\\nVarón de 72 años, exfumador y bebed...\n",
       "4  cc_onco164  Anamnesis\\nMujer de 51 años, sin alergias medi..."
      ]
     },
     "execution_count": 5,
     "metadata": {},
     "output_type": "execute_result"
    }
   ],
   "source": [
    "df_text_train.head()"
   ]
  },
  {
   "cell_type": "code",
   "execution_count": 6,
   "metadata": {},
   "outputs": [
    {
     "data": {
      "text/plain": [
       "'Anamnesis\\nSe trata de un varón de 55 años, ex fumador con un índice tabáquico de 40 paquetes-año, HTA, sin antecedentes familiares de interés, en tratamiento con ácido fólico, omeprazol, hierro oral y risperidona.\\nEn junio de 2017, es diagnosticado a raíz de una trombosis iliaca derecha de una masa tumoral pobremente diferenciada que infiltraba tercio distal de apéndice cecal, con obliteración del paquete vascular iliaco, así como infiltración del uréter derecho, condicionando ureterohidronefrosis derecha grado cuatro.\\nSe realiza biopsia de la lesión, con hallazgos anatomopatológicos de neoplasia fusocelular con inmunohistoquímica (IHC) sugerente de origen urotelial con diferenciación sarcomatoide (positividad para p63, p40, GATA3, CD99, EMA CAM 5.2, CK 34, beta E12, CK7, negatividad para CK20, S100, CD34, cKIT y TTF1), con SYT no reordenado.\\nSe lleva a cabo intervención en julio de 2017 con extirpación de la masa tumoral, resección ileocecal, dejando ileostomía terminal y bypass extraanatómico femorofemoral.\\nEn octubre de 2017, se observa en TC toracoabdominopélvica una lesión hepática de nueva aparición que sugiere de metástasis.\\nCon juicio clínico de carcinoma urotelial de alto grado con diferenciación sarcomatoide estadio IV (pT4N2M1) por afectación hepática, se decide iniciar tratamiento sistémico de primera línea en febrero de 2018 dentro de ensayo clínico con antiPD1 y antiCTLA4 hasta julio de 2018, presentando buena tolerancia al tratamiento, pero con progresión de la enfermedad a nivel hepático.\\nInicia entonces segunda línea de tratamiento con carboplatino AUC5 día 1 y gemcitabina 1.000 mg/m2 días 1 y 8 cada 21 días, el 20 de agosto de 2018.\\nEn octubre de 2018, tras cinco ciclos de quimioterapia y una dosis acumulada de gemcitabina de 10.000 mg/m2, el paciente refiere aparición de lesiones ulceradas y dolorosas en regiones acras de dedos de manos.\\nCon sospecha de isquemia digital aguda, es derivado a Urgencias para valoración por Cirugía Vascular.\\n\\nExploración física\\nDurante la exploración física no presenta esclerodactilia, telangiectasias ni otras lesiones sugerentes de conectivopatías. Los pulsos radiales presentes y cubitales ausentes, con relleno capilar sin alteraciones.\\n\\nPruebas complementarias\\nEn analítica destacaba anemia normocítica normocroma grado 1 con Hb 10,2 g/dl (rango 13-15,5), sin otros hallazgos relevantes.\\nSe realiza estudio de autoanticuerpos (ENAS negativos, ANA positivo [1/80], anticuerpo (Ac) anti-P cíclico citrulinado negativo, Ac beta2-glicoproteina IgM e IgG negativos, cardiolipina IgG e IgM negativos, C-ANCAS y P-ANCAS negativos, VSG 137mm [rango 1,00-15] y crioglobulinas débilmente positivas) y estudio serológico con hallazgos de infección pasada de VHE y resto de virus hepatotropos negativos.\\nSe lleva a cabo eco-Doppler de miembros superiores en la que destaca alteración de flujo en arteria cubital derecha, y ecocardiograma transtorácico sin signos de endocarditis infecciosa.\\nEn la capilaroscopia como única alteración, destaca la presencia en segundo dedo de mano izquierda una hemorragia aislada, con distribución y densidad capilar conservada.\\n\\nDiagnóstico\\nCon estas pruebas, el paciente es diagnosticado de isquemia digital con datos de afectación macrovascular en relación al tratamiento de gemcitabina.\\n\\nTratamiento\\nEl paciente inicia tratamiento con prostaglandinas (PG) y anticoagulación con heparina de bajo peso molecular a dosis de 1 mg/kg cada 12 horas, experimentando mejoría progresiva de los síntomas y de las lesiones.\\n\\nEvolución\\nSe decide discontinuar tratamiento de quimioterapia, presentando respuesta parcial de la enfermedad tumoral con disminución de la masa pélvica, adenopatías retroperitoneales y de las metástasis hepáticas en TC de enero de 2019.'"
      ]
     },
     "execution_count": 6,
     "metadata": {},
     "output_type": "execute_result"
    }
   ],
   "source": [
    "df_text_train.raw_text[0]"
   ]
  },
  {
   "cell_type": "markdown",
   "metadata": {},
   "source": [
    "We also load the CIE-O codes table:"
   ]
  },
  {
   "cell_type": "code",
   "execution_count": 7,
   "metadata": {},
   "outputs": [],
   "source": [
    "df_codes_train = pd.concat([pd.read_table(corpus_path + \"train-set/\" + sub_task_path + \"train-coding.tsv\", \n",
    "                                 sep='\\t', header=0), \n",
    "                            pd.read_table(corpus_path + \"dev-set1/\" + sub_task_path + \"dev1-coding.tsv\", \n",
    "                                 sep='\\t', header=0)])"
   ]
  },
  {
   "cell_type": "code",
   "execution_count": 8,
   "metadata": {},
   "outputs": [
    {
     "data": {
      "text/plain": [
       "(4142, 2)"
      ]
     },
     "execution_count": 8,
     "metadata": {},
     "output_type": "execute_result"
    }
   ],
   "source": [
    "df_codes_train.shape"
   ]
  },
  {
   "cell_type": "code",
   "execution_count": 9,
   "metadata": {},
   "outputs": [],
   "source": [
    "df_codes_train[\"code\"] = df_codes_train[\"code\"].str.lower()"
   ]
  },
  {
   "cell_type": "code",
   "execution_count": 10,
   "metadata": {},
   "outputs": [
    {
     "data": {
      "text/html": [
       "<div>\n",
       "<style scoped>\n",
       "    .dataframe tbody tr th:only-of-type {\n",
       "        vertical-align: middle;\n",
       "    }\n",
       "\n",
       "    .dataframe tbody tr th {\n",
       "        vertical-align: top;\n",
       "    }\n",
       "\n",
       "    .dataframe thead th {\n",
       "        text-align: right;\n",
       "    }\n",
       "</style>\n",
       "<table border=\"1\" class=\"dataframe\">\n",
       "  <thead>\n",
       "    <tr style=\"text-align: right;\">\n",
       "      <th></th>\n",
       "      <th>file</th>\n",
       "      <th>code</th>\n",
       "    </tr>\n",
       "  </thead>\n",
       "  <tbody>\n",
       "    <tr>\n",
       "      <th>0</th>\n",
       "      <td>cc_onco860</td>\n",
       "      <td>8140/3</td>\n",
       "    </tr>\n",
       "    <tr>\n",
       "      <th>1</th>\n",
       "      <td>cc_onco860</td>\n",
       "      <td>8000/6</td>\n",
       "    </tr>\n",
       "    <tr>\n",
       "      <th>2</th>\n",
       "      <td>cc_onco860</td>\n",
       "      <td>8140/6</td>\n",
       "    </tr>\n",
       "    <tr>\n",
       "      <th>3</th>\n",
       "      <td>cc_onco98</td>\n",
       "      <td>8000/6</td>\n",
       "    </tr>\n",
       "    <tr>\n",
       "      <th>4</th>\n",
       "      <td>cc_onco98</td>\n",
       "      <td>8070/3</td>\n",
       "    </tr>\n",
       "  </tbody>\n",
       "</table>\n",
       "</div>"
      ],
      "text/plain": [
       "         file    code\n",
       "0  cc_onco860  8140/3\n",
       "1  cc_onco860  8000/6\n",
       "2  cc_onco860  8140/6\n",
       "3   cc_onco98  8000/6\n",
       "4   cc_onco98  8070/3"
      ]
     },
     "execution_count": 10,
     "metadata": {},
     "output_type": "execute_result"
    }
   ],
   "source": [
    "df_codes_train.head()"
   ]
  },
  {
   "cell_type": "code",
   "execution_count": 11,
   "metadata": {},
   "outputs": [
    {
     "data": {
      "text/html": [
       "<div>\n",
       "<style scoped>\n",
       "    .dataframe tbody tr th:only-of-type {\n",
       "        vertical-align: middle;\n",
       "    }\n",
       "\n",
       "    .dataframe tbody tr th {\n",
       "        vertical-align: top;\n",
       "    }\n",
       "\n",
       "    .dataframe thead th {\n",
       "        text-align: right;\n",
       "    }\n",
       "</style>\n",
       "<table border=\"1\" class=\"dataframe\">\n",
       "  <thead>\n",
       "    <tr style=\"text-align: right;\">\n",
       "      <th></th>\n",
       "      <th>file</th>\n",
       "      <th>code</th>\n",
       "    </tr>\n",
       "  </thead>\n",
       "  <tbody>\n",
       "    <tr>\n",
       "      <th>1862</th>\n",
       "      <td>cc_onco768</td>\n",
       "      <td>9080/1</td>\n",
       "    </tr>\n",
       "    <tr>\n",
       "      <th>1863</th>\n",
       "      <td>cc_onco768</td>\n",
       "      <td>9080/1</td>\n",
       "    </tr>\n",
       "  </tbody>\n",
       "</table>\n",
       "</div>"
      ],
      "text/plain": [
       "            file    code\n",
       "1862  cc_onco768  9080/1\n",
       "1863  cc_onco768  9080/1"
      ]
     },
     "execution_count": 11,
     "metadata": {},
     "output_type": "execute_result"
    }
   ],
   "source": [
    "df_codes_train[df_codes_train.duplicated(keep=False)]"
   ]
  },
  {
   "cell_type": "code",
   "execution_count": 12,
   "metadata": {},
   "outputs": [],
   "source": [
    "df_codes_train = df_codes_train[~df_codes_train.duplicated(keep='first')]"
   ]
  },
  {
   "cell_type": "code",
   "execution_count": 13,
   "metadata": {},
   "outputs": [
    {
     "data": {
      "text/plain": [
       "(4141, 2)"
      ]
     },
     "execution_count": 13,
     "metadata": {},
     "output_type": "execute_result"
    }
   ],
   "source": [
    "df_codes_train.shape"
   ]
  },
  {
   "cell_type": "code",
   "execution_count": 14,
   "metadata": {},
   "outputs": [
    {
     "data": {
      "text/plain": [
       "750"
      ]
     },
     "execution_count": 14,
     "metadata": {},
     "output_type": "execute_result"
    }
   ],
   "source": [
    "len(set(df_codes_train[\"file\"]))"
   ]
  },
  {
   "cell_type": "markdown",
   "metadata": {},
   "source": [
    "### Development corpus"
   ]
  },
  {
   "cell_type": "code",
   "execution_count": 15,
   "metadata": {},
   "outputs": [
    {
     "name": "stdout",
     "output_type": "stream",
     "text": [
      "CPU times: user 2.62 ms, sys: 3.92 ms, total: 6.54 ms\n",
      "Wall time: 6.29 ms\n"
     ]
    }
   ],
   "source": [
    "%%time\n",
    "dev_path = corpus_path + \"dev-set2/\" + sub_task_path + \"txt/\"\n",
    "dev_files = [f for f in os.listdir(dev_path) if os.path.isfile(dev_path + f)]\n",
    "dev_data = load_text_files(dev_files, dev_path)\n",
    "df_text_dev = pd.DataFrame({'doc_id': [s.split('.txt')[0] for s in dev_files], 'raw_text': dev_data})"
   ]
  },
  {
   "cell_type": "code",
   "execution_count": 16,
   "metadata": {},
   "outputs": [
    {
     "data": {
      "text/plain": [
       "(250, 2)"
      ]
     },
     "execution_count": 16,
     "metadata": {},
     "output_type": "execute_result"
    }
   ],
   "source": [
    "df_text_dev.shape"
   ]
  },
  {
   "cell_type": "code",
   "execution_count": 17,
   "metadata": {},
   "outputs": [
    {
     "data": {
      "text/html": [
       "<div>\n",
       "<style scoped>\n",
       "    .dataframe tbody tr th:only-of-type {\n",
       "        vertical-align: middle;\n",
       "    }\n",
       "\n",
       "    .dataframe tbody tr th {\n",
       "        vertical-align: top;\n",
       "    }\n",
       "\n",
       "    .dataframe thead th {\n",
       "        text-align: right;\n",
       "    }\n",
       "</style>\n",
       "<table border=\"1\" class=\"dataframe\">\n",
       "  <thead>\n",
       "    <tr style=\"text-align: right;\">\n",
       "      <th></th>\n",
       "      <th>doc_id</th>\n",
       "      <th>raw_text</th>\n",
       "    </tr>\n",
       "  </thead>\n",
       "  <tbody>\n",
       "    <tr>\n",
       "      <th>0</th>\n",
       "      <td>cc_onco1183</td>\n",
       "      <td>Anamnesis\\nVarón de 48 años que acude en agost...</td>\n",
       "    </tr>\n",
       "    <tr>\n",
       "      <th>1</th>\n",
       "      <td>cc_onco751</td>\n",
       "      <td>Anamnesis\\nHombre de 71 años de edad con antec...</td>\n",
       "    </tr>\n",
       "    <tr>\n",
       "      <th>2</th>\n",
       "      <td>cc_onco1384</td>\n",
       "      <td>Anamnesis\\nVarón de 30 años, sin antecedentes ...</td>\n",
       "    </tr>\n",
       "    <tr>\n",
       "      <th>3</th>\n",
       "      <td>cc_onco1208</td>\n",
       "      <td>Anamnesis\\nVarón de 76 años diagnosticado en a...</td>\n",
       "    </tr>\n",
       "    <tr>\n",
       "      <th>4</th>\n",
       "      <td>cc_onco734</td>\n",
       "      <td>Anamnesis\\nTras canalización del reservorio ce...</td>\n",
       "    </tr>\n",
       "  </tbody>\n",
       "</table>\n",
       "</div>"
      ],
      "text/plain": [
       "        doc_id                                           raw_text\n",
       "0  cc_onco1183  Anamnesis\\nVarón de 48 años que acude en agost...\n",
       "1   cc_onco751  Anamnesis\\nHombre de 71 años de edad con antec...\n",
       "2  cc_onco1384  Anamnesis\\nVarón de 30 años, sin antecedentes ...\n",
       "3  cc_onco1208  Anamnesis\\nVarón de 76 años diagnosticado en a...\n",
       "4   cc_onco734  Anamnesis\\nTras canalización del reservorio ce..."
      ]
     },
     "execution_count": 17,
     "metadata": {},
     "output_type": "execute_result"
    }
   ],
   "source": [
    "df_text_dev.head()"
   ]
  },
  {
   "cell_type": "code",
   "execution_count": 18,
   "metadata": {},
   "outputs": [
    {
     "data": {
      "text/plain": [
       "'Anamnesis\\nVarón de 48 años que acude en agosto de 2012 tras la realización de amputación en hallux derecho a la primera valoración por Oncología Médica.\\nAntecedentes: no alérgicos. Patológicos: diabético hace 3 años sin tratamiento. HTA en tratamiento. Enolismo crónico.\\nTrastorno afectivo bipolar. Quirúrgicos: apendicectomizado.\\nEnfermedad actual: desde hace 2 años presentaba una lesión hiperpigmentada en el hallux del pie derecho, que ocasionalmente sangraba.\\n\\nExamen físico\\nMuñón de hallux derecho en buen estado, presencia de adenopatías inguinales derechas. Resto de exploración sin alteraciones.\\n\\nPruebas complementarias\\n- Biopsia cutánea: melanoma ulcerado.\\n- AP de resección de melanoma: melanoma lentiginoso acral en fase de crecimiento vertical, ulcerado. Clark IV. Breslow 6,8 mm, sin infiltración linfovascular.\\n- TC de tórax-abdomen-pelvis: sin signos concluyentes de extensión tóraco-abdómino-pélvica de melanoma.\\nMicronódulos en el lóbulo superior derecho a valorar en controles sucesivos.\\n- Se realiza linfadenectomía inguinal electiva en octubre de 2012.\\n- AP: metástasis de melanoma en 4 de los 13 ganglios aislados.\\n\\nDiagnóstico\\nMelanoma lentiginoso acral en fase de crecimiento vertical ulcerado Clarck IV Breslow6,8 mm pT4b N2a M0 estadio IIIB.\\n\\nTratamiento\\nEn enero de 2013 inicia tratamiento adyuvante con interferón a altas dosis según el esquema Kirkwood, este se basa en el estudio ECOG 1684: interferón alfa-2b 20 millones de unidades i.v. x 20 días, seguido de 10 millones de unidades s.c. 3 veces a la semana durante 48 semanas. El paciente tuvo buena tolerancia a la fase de inducción y a la fase de mantenimiento.\\nEn agosto de 2013 se detecta un nódulo subcutáneo de 1,5 cm en la zona de la cicatriz del hallux derecho y también una lesión en la cara interna de la pierna derecha de 0,5 cm. Se considera recidiva intratratamiento, por lo que se interviene, realizándose exéresis local y ampliación de márgenes.\\nAP: melanoma de 2,4 x 0,7 x 0,8 cm con afectación del margen de resección.\\nSe decide enviar a Oncología Radioterápica por margen afecto.\\n\\nEvolución\\nDe septiembre a octubre de 2013 recibe tratamiento radioterápico \"adyuvante\": PTV en la lesión guiada por cicatriz en el pie derecho más 3 cm de margen, fraccionamiento 2,5 Gy en 24 fracciones hasta adminsitrar una dosis total de 60 Gy.\\nEn noviembre de 2013 presenta progresión cutánea con 4 lesiones hipercrómicas localizadas en el muslo derecho. No hay datos de afectación tóraco-abdominal a distancia.\\nEntre tanto, se realiza determinación del estado mutacional de B-RAF, el cual es nativo.\\nA la progresión cutánea se propone tratamiento con DTIC (1.000 mg/m2 cada 21 días), administrando un primer ciclo en diciembre de 2013. En enero de 2014 acude a consulta con un cuadro de ictericia mucocutánea y coluria. Se detecta bilirrubina total de 7,7 mg/dl, bilirrubina directa de 5,9 mg/dl. ALT 2.022 UI/l, AST 840 UI/l. Se realizan una ecografía hepatobiliar, con resultado normal, y serología de virus de hepatitis, con resultado de perfil de hepatitis B aguda. Se remite al Servicio de Aparato Digestivo, quienes realizan tratamiento conservador, observándose en semanas posteriores un descenso marcado en los valores de bilirrubina, ALT y AST hasta la completa normalidad.\\nEntre tanto, presenta crecimiento de numerosas lesiones subcutáneas distribuidas en la cara anterior e interna del muslo derecho sin datos de afectación a distancia en la TC. Se considera metástasis en tránsito de melanoma, por lo que en marzo de 2014 inicia la administración de interleucina-2 intralesional. Se aplica 1 ml en cada una de las lesiones subcutáneas, cubriendo un total de 20 lesiones por cada ciclo administrado cada 14 días, sin presentar efectos secundarios sistémicos, salvo dolor EVA 3 en los puntos de instilación, que mejoraba con el paracetamol. Con este tratamiento completa 5 ciclos hasta el mayo de 2014, presentando desaparición de la mayoría de las lesiones, persistiendo algunas de localización central.\\nEl 30 de mayo de 2014 acude con una TC de reevaluación, objetivándose progresión inguinal izquierda y una adenopatía en la cadena iliaca externa derecha de 3,3 x 2,3 cm compatible con progresión. Se ha propuesto una nueva línea de tratamiento con ipilimumab, pendiente de iniciar.'"
      ]
     },
     "execution_count": 18,
     "metadata": {},
     "output_type": "execute_result"
    }
   ],
   "source": [
    "df_text_dev.raw_text[0]"
   ]
  },
  {
   "cell_type": "markdown",
   "metadata": {},
   "source": [
    "We also load the CIE-O codes table:"
   ]
  },
  {
   "cell_type": "code",
   "execution_count": 19,
   "metadata": {},
   "outputs": [],
   "source": [
    "df_codes_dev = pd.read_table(corpus_path + \"dev-set2/\" + sub_task_path + \"dev2-coding.tsv\", \n",
    "                                 sep='\\t', header=0)"
   ]
  },
  {
   "cell_type": "code",
   "execution_count": 20,
   "metadata": {},
   "outputs": [
    {
     "data": {
      "text/plain": [
       "(1279, 2)"
      ]
     },
     "execution_count": 20,
     "metadata": {},
     "output_type": "execute_result"
    }
   ],
   "source": [
    "df_codes_dev.shape"
   ]
  },
  {
   "cell_type": "code",
   "execution_count": 21,
   "metadata": {},
   "outputs": [],
   "source": [
    "df_codes_dev[\"code\"] = df_codes_dev[\"code\"].str.lower()"
   ]
  },
  {
   "cell_type": "code",
   "execution_count": 22,
   "metadata": {},
   "outputs": [
    {
     "data": {
      "text/html": [
       "<div>\n",
       "<style scoped>\n",
       "    .dataframe tbody tr th:only-of-type {\n",
       "        vertical-align: middle;\n",
       "    }\n",
       "\n",
       "    .dataframe tbody tr th {\n",
       "        vertical-align: top;\n",
       "    }\n",
       "\n",
       "    .dataframe thead th {\n",
       "        text-align: right;\n",
       "    }\n",
       "</style>\n",
       "<table border=\"1\" class=\"dataframe\">\n",
       "  <thead>\n",
       "    <tr style=\"text-align: right;\">\n",
       "      <th></th>\n",
       "      <th>file</th>\n",
       "      <th>code</th>\n",
       "    </tr>\n",
       "  </thead>\n",
       "  <tbody>\n",
       "    <tr>\n",
       "      <th>0</th>\n",
       "      <td>cc_onco1258</td>\n",
       "      <td>8000/6</td>\n",
       "    </tr>\n",
       "    <tr>\n",
       "      <th>1</th>\n",
       "      <td>cc_onco1258</td>\n",
       "      <td>8010/3</td>\n",
       "    </tr>\n",
       "    <tr>\n",
       "      <th>2</th>\n",
       "      <td>cc_onco1258</td>\n",
       "      <td>8010/3/h</td>\n",
       "    </tr>\n",
       "    <tr>\n",
       "      <th>3</th>\n",
       "      <td>cc_onco1258</td>\n",
       "      <td>8520/3</td>\n",
       "    </tr>\n",
       "    <tr>\n",
       "      <th>4</th>\n",
       "      <td>cc_onco1258</td>\n",
       "      <td>8000/3</td>\n",
       "    </tr>\n",
       "  </tbody>\n",
       "</table>\n",
       "</div>"
      ],
      "text/plain": [
       "          file      code\n",
       "0  cc_onco1258    8000/6\n",
       "1  cc_onco1258    8010/3\n",
       "2  cc_onco1258  8010/3/h\n",
       "3  cc_onco1258    8520/3\n",
       "4  cc_onco1258    8000/3"
      ]
     },
     "execution_count": 22,
     "metadata": {},
     "output_type": "execute_result"
    }
   ],
   "source": [
    "df_codes_dev.head()"
   ]
  },
  {
   "cell_type": "code",
   "execution_count": 23,
   "metadata": {},
   "outputs": [
    {
     "data": {
      "text/plain": [
       "250"
      ]
     },
     "execution_count": 23,
     "metadata": {},
     "output_type": "execute_result"
    }
   ],
   "source": [
    "len(set(df_codes_dev[\"file\"]))"
   ]
  },
  {
   "cell_type": "markdown",
   "metadata": {},
   "source": [
    "We join the training and development Cantemist codes dataframes together:"
   ]
  },
  {
   "cell_type": "code",
   "execution_count": 24,
   "metadata": {},
   "outputs": [],
   "source": [
    "df_codes_train_dev = pd.concat([df_codes_train, df_codes_dev])"
   ]
  },
  {
   "cell_type": "code",
   "execution_count": 25,
   "metadata": {},
   "outputs": [
    {
     "data": {
      "text/plain": [
       "(5420, 2)"
      ]
     },
     "execution_count": 25,
     "metadata": {},
     "output_type": "execute_result"
    }
   ],
   "source": [
    "df_codes_train_dev.shape"
   ]
  },
  {
   "cell_type": "code",
   "execution_count": 26,
   "metadata": {},
   "outputs": [
    {
     "data": {
      "text/html": [
       "<div>\n",
       "<style scoped>\n",
       "    .dataframe tbody tr th:only-of-type {\n",
       "        vertical-align: middle;\n",
       "    }\n",
       "\n",
       "    .dataframe tbody tr th {\n",
       "        vertical-align: top;\n",
       "    }\n",
       "\n",
       "    .dataframe thead th {\n",
       "        text-align: right;\n",
       "    }\n",
       "</style>\n",
       "<table border=\"1\" class=\"dataframe\">\n",
       "  <thead>\n",
       "    <tr style=\"text-align: right;\">\n",
       "      <th></th>\n",
       "      <th>file</th>\n",
       "      <th>code</th>\n",
       "    </tr>\n",
       "  </thead>\n",
       "  <tbody>\n",
       "    <tr>\n",
       "      <th>0</th>\n",
       "      <td>cc_onco860</td>\n",
       "      <td>8140/3</td>\n",
       "    </tr>\n",
       "    <tr>\n",
       "      <th>1</th>\n",
       "      <td>cc_onco860</td>\n",
       "      <td>8000/6</td>\n",
       "    </tr>\n",
       "    <tr>\n",
       "      <th>2</th>\n",
       "      <td>cc_onco860</td>\n",
       "      <td>8140/6</td>\n",
       "    </tr>\n",
       "    <tr>\n",
       "      <th>3</th>\n",
       "      <td>cc_onco98</td>\n",
       "      <td>8000/6</td>\n",
       "    </tr>\n",
       "    <tr>\n",
       "      <th>4</th>\n",
       "      <td>cc_onco98</td>\n",
       "      <td>8070/3</td>\n",
       "    </tr>\n",
       "  </tbody>\n",
       "</table>\n",
       "</div>"
      ],
      "text/plain": [
       "         file    code\n",
       "0  cc_onco860  8140/3\n",
       "1  cc_onco860  8000/6\n",
       "2  cc_onco860  8140/6\n",
       "3   cc_onco98  8000/6\n",
       "4   cc_onco98  8070/3"
      ]
     },
     "execution_count": 26,
     "metadata": {},
     "output_type": "execute_result"
    }
   ],
   "source": [
    "df_codes_train_dev.head()"
   ]
  },
  {
   "cell_type": "markdown",
   "metadata": {},
   "source": [
    "## Creating corpora of annotated sentences\n",
    "\n",
    "Leveraging the information available for the named-entity-recognition and normalization (NER-N) Cantemist-NORM task, we create both a training and a development corpus of annotated sentences with CIE-O codes."
   ]
  },
  {
   "cell_type": "markdown",
   "metadata": {},
   "source": [
    "Firstly, we pre-process the NER-N oncology-codes annotations available for both the training and development corpora."
   ]
  },
  {
   "cell_type": "code",
   "execution_count": 27,
   "metadata": {},
   "outputs": [],
   "source": [
    "# Training corpus"
   ]
  },
  {
   "cell_type": "code",
   "execution_count": 28,
   "metadata": {},
   "outputs": [],
   "source": [
    "train_norm_path = corpus_path + \"train-set/cantemist-norm/\"\n",
    "train_ann_files = [train_norm_path + f for f in os.listdir(train_norm_path) if f.split('.')[-1] == \"ann\"]\n",
    "dev1_norm_path = corpus_path + \"dev-set1/cantemist-norm/\"\n",
    "train_ann_files.extend([dev1_norm_path + f for f in os.listdir(dev1_norm_path) if f.split('.')[-1] == \"ann\"])"
   ]
  },
  {
   "cell_type": "code",
   "execution_count": 29,
   "metadata": {},
   "outputs": [
    {
     "data": {
      "text/plain": [
       "751"
      ]
     },
     "execution_count": 29,
     "metadata": {},
     "output_type": "execute_result"
    }
   ],
   "source": [
    "len(train_ann_files)"
   ]
  },
  {
   "cell_type": "code",
   "execution_count": 30,
   "metadata": {},
   "outputs": [],
   "source": [
    "df_codes_train_ner = process_brat_labels(train_ann_files).sort_values([\"doc_id\", \"start\", \"end\"])"
   ]
  },
  {
   "cell_type": "code",
   "execution_count": 31,
   "metadata": {},
   "outputs": [
    {
     "data": {
      "text/plain": [
       "(9737, 5)"
      ]
     },
     "execution_count": 31,
     "metadata": {},
     "output_type": "execute_result"
    }
   ],
   "source": [
    "df_codes_train_ner.shape"
   ]
  },
  {
   "cell_type": "code",
   "execution_count": 32,
   "metadata": {},
   "outputs": [],
   "source": [
    "df_codes_train_ner[\"code\"] = df_codes_train_ner[\"code\"].str.lower()"
   ]
  },
  {
   "cell_type": "code",
   "execution_count": 33,
   "metadata": {},
   "outputs": [
    {
     "data": {
      "text/html": [
       "<div>\n",
       "<style scoped>\n",
       "    .dataframe tbody tr th:only-of-type {\n",
       "        vertical-align: middle;\n",
       "    }\n",
       "\n",
       "    .dataframe tbody tr th {\n",
       "        vertical-align: top;\n",
       "    }\n",
       "\n",
       "    .dataframe thead th {\n",
       "        text-align: right;\n",
       "    }\n",
       "</style>\n",
       "<table border=\"1\" class=\"dataframe\">\n",
       "  <thead>\n",
       "    <tr style=\"text-align: right;\">\n",
       "      <th></th>\n",
       "      <th>doc_id</th>\n",
       "      <th>code</th>\n",
       "      <th>text_ref</th>\n",
       "      <th>start</th>\n",
       "      <th>end</th>\n",
       "    </tr>\n",
       "  </thead>\n",
       "  <tbody>\n",
       "    <tr>\n",
       "      <th>5230</th>\n",
       "      <td>cc_onco1</td>\n",
       "      <td>8041/3</td>\n",
       "      <td>Carcinoma microcítico</td>\n",
       "      <td>2719</td>\n",
       "      <td>2740</td>\n",
       "    </tr>\n",
       "    <tr>\n",
       "      <th>5231</th>\n",
       "      <td>cc_onco1</td>\n",
       "      <td>8041/3</td>\n",
       "      <td>carcinoma microcítico</td>\n",
       "      <td>2950</td>\n",
       "      <td>2971</td>\n",
       "    </tr>\n",
       "    <tr>\n",
       "      <th>5232</th>\n",
       "      <td>cc_onco1</td>\n",
       "      <td>8000/6</td>\n",
       "      <td>M0</td>\n",
       "      <td>2988</td>\n",
       "      <td>2990</td>\n",
       "    </tr>\n",
       "    <tr>\n",
       "      <th>97</th>\n",
       "      <td>cc_onco10</td>\n",
       "      <td>8000/1</td>\n",
       "      <td>tumor</td>\n",
       "      <td>212</td>\n",
       "      <td>217</td>\n",
       "    </tr>\n",
       "    <tr>\n",
       "      <th>95</th>\n",
       "      <td>cc_onco10</td>\n",
       "      <td>8000/1</td>\n",
       "      <td>neoplasia</td>\n",
       "      <td>976</td>\n",
       "      <td>985</td>\n",
       "    </tr>\n",
       "  </tbody>\n",
       "</table>\n",
       "</div>"
      ],
      "text/plain": [
       "         doc_id    code               text_ref  start   end\n",
       "5230   cc_onco1  8041/3  Carcinoma microcítico   2719  2740\n",
       "5231   cc_onco1  8041/3  carcinoma microcítico   2950  2971\n",
       "5232   cc_onco1  8000/6                     M0   2988  2990\n",
       "97    cc_onco10  8000/1                  tumor    212   217\n",
       "95    cc_onco10  8000/1              neoplasia    976   985"
      ]
     },
     "execution_count": 33,
     "metadata": {},
     "output_type": "execute_result"
    }
   ],
   "source": [
    "df_codes_train_ner.head()"
   ]
  },
  {
   "cell_type": "code",
   "execution_count": 34,
   "metadata": {},
   "outputs": [
    {
     "data": {
      "text/plain": [
       "750"
      ]
     },
     "execution_count": 34,
     "metadata": {},
     "output_type": "execute_result"
    }
   ],
   "source": [
    "len(set(df_codes_train_ner[\"doc_id\"]))"
   ]
  },
  {
   "cell_type": "code",
   "execution_count": 35,
   "metadata": {},
   "outputs": [],
   "source": [
    "# Development corpus"
   ]
  },
  {
   "cell_type": "code",
   "execution_count": 36,
   "metadata": {},
   "outputs": [],
   "source": [
    "dev_norm_path = corpus_path + \"dev-set2/cantemist-norm/\"\n",
    "dev_ann_files = [dev_norm_path + f for f in os.listdir(dev_norm_path) if f.split('.')[-1] == \"ann\"]"
   ]
  },
  {
   "cell_type": "code",
   "execution_count": 37,
   "metadata": {},
   "outputs": [
    {
     "data": {
      "text/plain": [
       "250"
      ]
     },
     "execution_count": 37,
     "metadata": {},
     "output_type": "execute_result"
    }
   ],
   "source": [
    "len(dev_ann_files)"
   ]
  },
  {
   "cell_type": "code",
   "execution_count": 38,
   "metadata": {},
   "outputs": [],
   "source": [
    "df_codes_dev_ner = process_brat_labels(dev_ann_files).sort_values([\"doc_id\", \"start\", \"end\"])"
   ]
  },
  {
   "cell_type": "code",
   "execution_count": 39,
   "metadata": {},
   "outputs": [
    {
     "data": {
      "text/plain": [
       "(2660, 5)"
      ]
     },
     "execution_count": 39,
     "metadata": {},
     "output_type": "execute_result"
    }
   ],
   "source": [
    "df_codes_dev_ner.shape"
   ]
  },
  {
   "cell_type": "code",
   "execution_count": 40,
   "metadata": {},
   "outputs": [],
   "source": [
    "df_codes_dev_ner[\"code\"] = df_codes_dev_ner[\"code\"].str.lower()"
   ]
  },
  {
   "cell_type": "code",
   "execution_count": 41,
   "metadata": {},
   "outputs": [
    {
     "data": {
      "text/html": [
       "<div>\n",
       "<style scoped>\n",
       "    .dataframe tbody tr th:only-of-type {\n",
       "        vertical-align: middle;\n",
       "    }\n",
       "\n",
       "    .dataframe tbody tr th {\n",
       "        vertical-align: top;\n",
       "    }\n",
       "\n",
       "    .dataframe thead th {\n",
       "        text-align: right;\n",
       "    }\n",
       "</style>\n",
       "<table border=\"1\" class=\"dataframe\">\n",
       "  <thead>\n",
       "    <tr style=\"text-align: right;\">\n",
       "      <th></th>\n",
       "      <th>doc_id</th>\n",
       "      <th>code</th>\n",
       "      <th>text_ref</th>\n",
       "      <th>start</th>\n",
       "      <th>end</th>\n",
       "    </tr>\n",
       "  </thead>\n",
       "  <tbody>\n",
       "    <tr>\n",
       "      <th>1852</th>\n",
       "      <td>cc_onco1001</td>\n",
       "      <td>8070/3</td>\n",
       "      <td>carcinoma epidermoide</td>\n",
       "      <td>576</td>\n",
       "      <td>597</td>\n",
       "    </tr>\n",
       "    <tr>\n",
       "      <th>1854</th>\n",
       "      <td>cc_onco1001</td>\n",
       "      <td>8000/1</td>\n",
       "      <td>neoplasia</td>\n",
       "      <td>790</td>\n",
       "      <td>799</td>\n",
       "    </tr>\n",
       "    <tr>\n",
       "      <th>1857</th>\n",
       "      <td>cc_onco1001</td>\n",
       "      <td>8140/6</td>\n",
       "      <td>adenocarcinoma T4N3M1b</td>\n",
       "      <td>836</td>\n",
       "      <td>858</td>\n",
       "    </tr>\n",
       "    <tr>\n",
       "      <th>1853</th>\n",
       "      <td>cc_onco1001</td>\n",
       "      <td>8000/6</td>\n",
       "      <td>enfermedad hepática</td>\n",
       "      <td>1205</td>\n",
       "      <td>1224</td>\n",
       "    </tr>\n",
       "    <tr>\n",
       "      <th>1855</th>\n",
       "      <td>cc_onco1001</td>\n",
       "      <td>8000/1</td>\n",
       "      <td>tumoral</td>\n",
       "      <td>2303</td>\n",
       "      <td>2310</td>\n",
       "    </tr>\n",
       "  </tbody>\n",
       "</table>\n",
       "</div>"
      ],
      "text/plain": [
       "           doc_id    code                text_ref  start   end\n",
       "1852  cc_onco1001  8070/3   carcinoma epidermoide    576   597\n",
       "1854  cc_onco1001  8000/1               neoplasia    790   799\n",
       "1857  cc_onco1001  8140/6  adenocarcinoma T4N3M1b    836   858\n",
       "1853  cc_onco1001  8000/6     enfermedad hepática   1205  1224\n",
       "1855  cc_onco1001  8000/1                 tumoral   2303  2310"
      ]
     },
     "execution_count": 41,
     "metadata": {},
     "output_type": "execute_result"
    }
   ],
   "source": [
    "df_codes_dev_ner.head()"
   ]
  },
  {
   "cell_type": "code",
   "execution_count": 42,
   "metadata": {},
   "outputs": [
    {
     "data": {
      "text/plain": [
       "250"
      ]
     },
     "execution_count": 42,
     "metadata": {},
     "output_type": "execute_result"
    }
   ],
   "source": [
    "len(set(df_codes_dev_ner[\"doc_id\"]))"
   ]
  },
  {
   "cell_type": "markdown",
   "metadata": {},
   "source": [
    "Now, using the character start-end positions of each sentence from the Cantemist corpus (see `datasets/Cantemist-Sentence-Split.ipynb`), we annotate the sentences with CIE-O codes. Also, using BETO tokenizer, each sentence is converted into a sequence of subwords, which are further converted into vocabulary indices (input IDs) and segments arrays (BERT input tensors). We also generate a *fragments* dataset indicating the number of produced annotated sentences for each document."
   ]
  },
  {
   "cell_type": "code",
   "execution_count": 43,
   "metadata": {},
   "outputs": [],
   "source": [
    "# Sentence-Split information\n",
    "ss_corpus_path = \"../datasets/Cantemist-SSplit-text/\""
   ]
  },
  {
   "cell_type": "markdown",
   "metadata": {},
   "source": [
    "### Training corpus"
   ]
  },
  {
   "cell_type": "code",
   "execution_count": 44,
   "metadata": {},
   "outputs": [],
   "source": [
    "label_list = list(df_codes_train_dev[\"code\"])"
   ]
  },
  {
   "cell_type": "code",
   "execution_count": 45,
   "metadata": {},
   "outputs": [
    {
     "data": {
      "text/plain": [
       "5420"
      ]
     },
     "execution_count": 45,
     "metadata": {},
     "output_type": "execute_result"
    }
   ],
   "source": [
    "len(label_list)"
   ]
  },
  {
   "cell_type": "code",
   "execution_count": 46,
   "metadata": {},
   "outputs": [
    {
     "data": {
      "text/plain": [
       "743"
      ]
     },
     "execution_count": 46,
     "metadata": {},
     "output_type": "execute_result"
    }
   ],
   "source": [
    "len(set(label_list))"
   ]
  },
  {
   "cell_type": "code",
   "execution_count": 47,
   "metadata": {},
   "outputs": [
    {
     "data": {
      "text/plain": [
       "MultiLabelBinarizer(classes=None, sparse_output=False)"
      ]
     },
     "execution_count": 47,
     "metadata": {},
     "output_type": "execute_result"
    }
   ],
   "source": [
    "from sklearn.preprocessing import MultiLabelBinarizer\n",
    "\n",
    "mlb_encoder = MultiLabelBinarizer()\n",
    "mlb_encoder.fit([label_list])"
   ]
  },
  {
   "cell_type": "code",
   "execution_count": 48,
   "metadata": {},
   "outputs": [],
   "source": [
    "# Number of distinct codes\n",
    "num_labels = len(mlb_encoder.classes_)"
   ]
  },
  {
   "cell_type": "code",
   "execution_count": 49,
   "metadata": {},
   "outputs": [
    {
     "data": {
      "text/plain": [
       "743"
      ]
     },
     "execution_count": 49,
     "metadata": {},
     "output_type": "execute_result"
    }
   ],
   "source": [
    "num_labels"
   ]
  },
  {
   "cell_type": "markdown",
   "metadata": {},
   "source": [
    "Only training texts that are annotated with CIE-O codes are considered:"
   ]
  },
  {
   "cell_type": "code",
   "execution_count": 50,
   "metadata": {},
   "outputs": [
    {
     "data": {
      "text/plain": [
       "1"
      ]
     },
     "execution_count": 50,
     "metadata": {},
     "output_type": "execute_result"
    }
   ],
   "source": [
    "# Some train documents (texts) are not annotated \n",
    "len(set(df_text_train[\"doc_id\"]) - set(df_codes_train_ner[\"doc_id\"]))"
   ]
  },
  {
   "cell_type": "code",
   "execution_count": 51,
   "metadata": {},
   "outputs": [],
   "source": [
    "train_doc_list = sorted(set(df_codes_train_ner[\"doc_id\"]))"
   ]
  },
  {
   "cell_type": "code",
   "execution_count": 52,
   "metadata": {},
   "outputs": [
    {
     "data": {
      "text/plain": [
       "750"
      ]
     },
     "execution_count": 52,
     "metadata": {},
     "output_type": "execute_result"
    }
   ],
   "source": [
    "len(train_doc_list)"
   ]
  },
  {
   "cell_type": "code",
   "execution_count": 53,
   "metadata": {},
   "outputs": [],
   "source": [
    "# Sentence-Split data"
   ]
  },
  {
   "cell_type": "code",
   "execution_count": 54,
   "metadata": {},
   "outputs": [
    {
     "name": "stdout",
     "output_type": "stream",
     "text": [
      "CPU times: user 32 ms, sys: 4.01 ms, total: 36.1 ms\n",
      "Wall time: 35.9 ms\n"
     ]
    }
   ],
   "source": [
    "%%time\n",
    "ss_sub_corpus_path = ss_corpus_path + \"training/\"\n",
    "ss_files = [f for f in os.listdir(ss_sub_corpus_path) if os.path.isfile(ss_sub_corpus_path + f)]\n",
    "ss_dict_train = load_ss_files(ss_files, ss_sub_corpus_path)"
   ]
  },
  {
   "cell_type": "code",
   "execution_count": 55,
   "metadata": {},
   "outputs": [
    {
     "name": "stderr",
     "output_type": "stream",
     "text": [
      "100%|██████████| 750/750 [00:52<00:00, 14.81it/s]\n"
     ]
    },
    {
     "name": "stdout",
     "output_type": "stream",
     "text": [
      "CPU times: user 52.4 s, sys: 125 ms, total: 52.5 s\n",
      "Wall time: 52.3 s\n"
     ]
    }
   ],
   "source": [
    "%%time\n",
    "train_ind, train_seg, train_y, train_frag, train_start_end_frag = ss_create_frag_input_data_bert(df_text=df_text_train, \n",
    "                                                  text_col=text_col, \n",
    "                                                  df_ann=df_codes_train_ner, doc_list=train_doc_list, ss_dict=ss_dict_train,\n",
    "                                                  tokenizer=tokenizer, lab_encoder=mlb_encoder, seq_len=SEQ_LEN,\n",
    "                                                  greedy=False)"
   ]
  },
  {
   "cell_type": "code",
   "execution_count": 56,
   "metadata": {},
   "outputs": [],
   "source": [
    "# Sanity check"
   ]
  },
  {
   "cell_type": "code",
   "execution_count": 56,
   "metadata": {},
   "outputs": [
    {
     "data": {
      "text/plain": [
       "(27610, 128)"
      ]
     },
     "execution_count": 56,
     "metadata": {},
     "output_type": "execute_result"
    }
   ],
   "source": [
    "train_ind.shape"
   ]
  },
  {
   "cell_type": "code",
   "execution_count": 57,
   "metadata": {},
   "outputs": [
    {
     "data": {
      "text/plain": [
       "(27610, 128)"
      ]
     },
     "execution_count": 57,
     "metadata": {},
     "output_type": "execute_result"
    }
   ],
   "source": [
    "train_seg.shape"
   ]
  },
  {
   "cell_type": "code",
   "execution_count": 58,
   "metadata": {},
   "outputs": [
    {
     "data": {
      "text/plain": [
       "(27610, 743)"
      ]
     },
     "execution_count": 58,
     "metadata": {},
     "output_type": "execute_result"
    }
   ],
   "source": [
    "train_y.shape"
   ]
  },
  {
   "cell_type": "code",
   "execution_count": 59,
   "metadata": {},
   "outputs": [
    {
     "data": {
      "text/plain": [
       "750"
      ]
     },
     "execution_count": 59,
     "metadata": {},
     "output_type": "execute_result"
    }
   ],
   "source": [
    "len(train_frag)"
   ]
  },
  {
   "cell_type": "code",
   "execution_count": 60,
   "metadata": {},
   "outputs": [
    {
     "data": {
      "text/plain": [
       "27610"
      ]
     },
     "execution_count": 60,
     "metadata": {},
     "output_type": "execute_result"
    }
   ],
   "source": [
    "len(train_start_end_frag)"
   ]
  },
  {
   "cell_type": "code",
   "execution_count": 61,
   "metadata": {},
   "outputs": [
    {
     "data": {
      "text/plain": [
       "count    750.000000\n",
       "mean      36.813333\n",
       "std       14.584676\n",
       "min       11.000000\n",
       "25%       27.000000\n",
       "50%       34.000000\n",
       "75%       44.000000\n",
       "max      102.000000\n",
       "dtype: float64"
      ]
     },
     "execution_count": 61,
     "metadata": {},
     "output_type": "execute_result"
    }
   ],
   "source": [
    "# Check n_frag distribution across texts\n",
    "pd.Series(train_frag).describe()"
   ]
  },
  {
   "cell_type": "code",
   "execution_count": 62,
   "metadata": {},
   "outputs": [],
   "source": [
    "# Inspect a randomly selected text and its encoded version\n",
    "check_id = np.random.randint(low=0, high=len(train_doc_list), size=1)[0]"
   ]
  },
  {
   "cell_type": "code",
   "execution_count": 63,
   "metadata": {},
   "outputs": [
    {
     "data": {
      "text/plain": [
       "466"
      ]
     },
     "execution_count": 63,
     "metadata": {},
     "output_type": "execute_result"
    }
   ],
   "source": [
    "check_id"
   ]
  },
  {
   "cell_type": "code",
   "execution_count": 64,
   "metadata": {},
   "outputs": [
    {
     "data": {
      "text/plain": [
       "'cc_onco673'"
      ]
     },
     "execution_count": 64,
     "metadata": {},
     "output_type": "execute_result"
    }
   ],
   "source": [
    "train_doc_list[check_id]"
   ]
  },
  {
   "cell_type": "code",
   "execution_count": 65,
   "metadata": {
    "scrolled": true
   },
   "outputs": [
    {
     "data": {
      "text/plain": [
       "'Anamnesis\\nMujer de 65 años, alérgica a derivados de la colchicina y diclofenaco. Sin factores de riesgo cardiovascular ni medicación crónica. Como único antecedente presentaba cifoescoliosis grave y había sido intervenida de histerectomía con doble anexectomía y extirpación de un neurofibroma.\\nHistoria oncológica: en julio de 2017 fue diagnosticada de carcinoma renal de células claras izquierdo, estadio IV, con afectación pulmonar y ganglionar. En agosto de ese mismo año, comenzó tratamiento con sunitinib 50 mg/24 h (esquema 4/6) como primera línea de enfermedad metastásica.\\nTras un mes del inicio del tratamiento, acudió al Servicio de Urgencias por presentar durante los últimos cuatro días hematuria franca. No refería síndrome miccional ni fiebre. Únicamente asociaba episodios aislados de vómitos con contenido alimenticio, sin abdominalgia ni alteración del tránsito gastrointestinal.\\n\\nExploración física\\nAfebril y hemodinámicamente estable. Índice de Karnofsky 70 %. Palidez mucocutánea. No se observaron hematomas ni se palparon adenopatías. La exploración cardiopulmonar y abdominal resultó normal.\\n\\nPruebas complementarias\\nLa analítica al ingreso presentó, como parámetros a destacar, leucocitos 3.400/mcl, hemoglobina 10,9 g/dl, con el volumen corpuscular medio y la hemoglobina corpuscular media normales, plaquetas 31.000/mcl, urea 43,6 mg/dl, creatinina 0,89 mg/dl y proteína C reactiva 77 mg/l.\\nEl sistemático de orina al ingreso presentó nitritos negativos y en el sedimento 25-50 hematíes/campo y 2-5 leucocitos.\\nEn la radiografía de tórax se observaron los nódulos pulmonares ya conocidos sin objetivarse otros hallazgos relevantes.\\n\\nDiagnóstico\\n» Carcinoma renal estadio IV en tratamiento con sunitinib.\\n» Trombocitopenia grado 4 secundaria a tratamiento antiangiogénico.\\n» Hematuria secundaria a trombocitopenia.\\n\\nTratamiento\\nAnte la hematuria franca se colocó sonda vesical para la realización de lavado vesical continuo, se pautó ácido tranexámico 0,5g/8 h y se trasfundió un concentrado de plaquetas, presentando leve mejoría clínica y analítica.\\nDurante el ingreso se realizaron hemogramas diarios, objetivándose disminución progresiva de la cifra de plaquetas, por lo que se añadió corticoterapia a dosis bajas (metilprednisolona 20 mg/12 h), sin conseguir aumentar dicho parámetro analítico.\\nPese al tratamiento pautado, la paciente continuó con hematuria, y un recuento plaquetario de 6.000/mcl, por lo que se solicitó la realización de un frotis periférico; se comprobó dicha cifra y se descartaron esquistocitos u otras alteraciones morfológicas.\\nDe acuerdo con Hematología, se aumentaron los corticoides a dosis de 1 mg/kg/día y se pautó inmunoglobulina intravenosa (1 g/kg durante 48 horas). A partir de este tratamiento, fueron ascendiendo las cifras de plaquetas progresivamente, hasta presentar al alta 41.000/mcl.\\nA lo largo del ingreso, fue precisa la trasfusión de seis concentrados de plaquetas. Además, como complicaciones, presentó epistaxis bilateral que requirió taponamiento nasal por Otorrinolaringología, e infección del tracto urinario secundario al sondaje vesical. En el urocultivo se aislaron más de 100.000 UFC/ml de Enterococcus faecalis y de Escherichia coli sensibles a nitrofurantoína, por lo que se realizó tratamiento con dicho antibiótico y recambio de sonda vesical.\\n\\nEvolución\\nEn el momento del alta hospitalaria, se decidió retirar definitivamente sunitinib y se inició tratamiento con nivolumab 3 mg/kg/cada 15 días, como segunda línea de enfermedad metastásica. En la actualidad, se encuentra en respuesta parcial (RP) tras 13 ciclos de dicho anti PD-1.'"
      ]
     },
     "execution_count": 65,
     "metadata": {},
     "output_type": "execute_result"
    }
   ],
   "source": [
    "df_text_train[df_text_train[\"doc_id\"] == train_doc_list[check_id]][text_col].values[0]"
   ]
  },
  {
   "cell_type": "code",
   "execution_count": 66,
   "metadata": {},
   "outputs": [
    {
     "name": "stdout",
     "output_type": "stream",
     "text": [
      "[()] \n",
      "\n",
      "[()] \n",
      "\n",
      "[('9540/0',)] \n",
      "\n",
      "[('8310/6',)] \n",
      "\n",
      "[('8000/6',)] \n",
      "\n",
      "[()] \n",
      "\n",
      "[()] \n",
      "\n",
      "[()] \n",
      "\n",
      "[()] \n",
      "\n",
      "[()] \n",
      "\n",
      "[()] \n",
      "\n",
      "[()] \n",
      "\n",
      "[()] \n",
      "\n",
      "[()] \n",
      "\n",
      "[()] \n",
      "\n",
      "[('8000/6',)] \n",
      "\n",
      "[('8010/3',)] \n",
      "\n",
      "[()] \n",
      "\n",
      "[()] \n",
      "\n",
      "[()] \n",
      "\n",
      "[()] \n",
      "\n",
      "[()] \n",
      "\n",
      "[()] \n",
      "\n",
      "[()] \n",
      "\n",
      "[()] \n",
      "\n",
      "[()] \n",
      "\n",
      "[()] \n",
      "\n",
      "[('8000/6',)] \n",
      "\n",
      "[()] \n",
      "\n"
     ]
    }
   ],
   "source": [
    "check_id_frag = sum(train_frag[:check_id])\n",
    "for i in range(check_id_frag, check_id_frag + train_frag[check_id]):\n",
    "    print(mlb_encoder.inverse_transform(np.array([train_y[i]])), \"\\n\")"
   ]
  },
  {
   "cell_type": "code",
   "execution_count": 67,
   "metadata": {},
   "outputs": [
    {
     "name": "stdout",
     "output_type": "stream",
     "text": [
      "[('Ana', (0, 3)), ('##mne', (3, 6)), ('##sis', (6, 9)), ('Mujer', (10, 15)), ('de', (16, 18)), ('65', (19, 21)), ('años', (22, 26)), (',', (26, 27)), ('alér', (28, 32)), ('##gica', (32, 36)), ('a', (37, 38)), ('derivados', (39, 48)), ('de', (49, 51)), ('la', (52, 54)), ('col', (55, 58)), ('##chi', (58, 61)), ('##cina', (61, 65)), ('y', (66, 67)), ('dic', (68, 71)), ('##lo', (71, 73)), ('##fen', (73, 76)), ('##aco', (76, 79)), ('.', (79, 80))]\n",
      "\n",
      "\n",
      "[('Sin', (81, 84)), ('factores', (85, 93)), ('de', (94, 96)), ('riesgo', (97, 103)), ('cardio', (104, 110)), ('##vas', (110, 113)), ('##cular', (113, 118)), ('ni', (119, 121)), ('medicación', (122, 132)), ('crónica', (133, 140)), ('.', (140, 141))]\n",
      "\n",
      "\n",
      "[('Como', (142, 146)), ('único', (147, 152)), ('antece', (153, 159)), ('##dente', (159, 164)), ('presentaba', (165, 175)), ('cif', (176, 179)), ('##oe', (179, 181)), ('##s', (181, 182)), ('##col', (182, 185)), ('##ios', (185, 188)), ('##is', (188, 190)), ('grave', (191, 196)), ('y', (197, 198)), ('había', (199, 204)), ('sido', (205, 209)), ('interven', (210, 218)), ('##ida', (218, 221)), ('de', (222, 224)), ('hist', (225, 229)), ('##ere', (229, 232)), ('##cto', (232, 235)), ('##mí', (235, 237)), ('##a', (237, 238)), ('con', (239, 242)), ('doble', (243, 248)), ('anex', (249, 253)), ('##ec', (253, 255)), ('##tomía', (255, 260)), ('y', (261, 262)), ('ex', (263, 265)), ('##tir', (265, 268)), ('##pac', (268, 271)), ('##ión', (271, 274)), ('de', (275, 277)), ('un', (278, 280)), ('neuro', (281, 286)), ('##fi', (286, 288)), ('##bro', (288, 291)), ('##ma', (291, 293)), ('.', (293, 294))]\n",
      "\n",
      "\n",
      "[('Historia', (295, 303)), ('on', (304, 306)), ('##col', (306, 309)), ('##óg', (309, 311)), ('##ica', (311, 314)), (':', (314, 315)), ('en', (316, 318)), ('julio', (319, 324)), ('de', (325, 327)), ('201', (328, 331)), ('[UNK]', (331, 332)), ('fue', (333, 336)), ('diagnos', (337, 344)), ('##tica', (344, 348)), ('##da', (348, 350)), ('de', (351, 353)), ('car', (354, 357)), ('##cino', (357, 361)), ('##ma', (361, 363)), ('renal', (364, 369)), ('de', (370, 372)), ('células', (373, 380)), ('claras', (381, 387)), ('izquierdo', (388, 397)), (',', (397, 398)), ('estadio', (399, 406)), ('IV', (407, 409)), (',', (409, 410)), ('con', (411, 414)), ('afecta', (415, 421)), ('##ción', (421, 425)), ('pulmonar', (426, 434)), ('y', (435, 436)), ('gan', (437, 440)), ('##gli', (440, 443)), ('##ona', (443, 446)), ('##r', (446, 447)), ('.', (447, 448))]\n",
      "\n",
      "\n",
      "[('En', (449, 451)), ('agosto', (452, 458)), ('de', (459, 461)), ('ese', (462, 465)), ('mismo', (466, 471)), ('año', (472, 475)), (',', (475, 476)), ('comenzó', (477, 484)), ('tratamiento', (485, 496)), ('con', (497, 500)), ('sun', (501, 504)), ('##iti', (504, 507)), ('##ni', (507, 509)), ('##b', (509, 510)), ('50', (511, 513)), ('mg', (514, 516)), ('[UNK]', (516, 517)), ('24', (517, 519)), ('h', (520, 521)), ('(', (522, 523)), ('esquema', (523, 530)), ('4', (531, 532)), ('[UNK]', (532, 533)), ('6', (533, 534)), (')', (534, 535)), ('como', (536, 540)), ('primera', (541, 548)), ('línea', (549, 554)), ('de', (555, 557)), ('enfermedad', (558, 568)), ('metas', (569, 574)), ('##tá', (574, 576)), ('##si', (576, 578)), ('##ca', (578, 580)), ('.', (580, 581))]\n",
      "\n",
      "\n",
      "[('Tras', (582, 586)), ('un', (587, 589)), ('mes', (590, 593)), ('del', (594, 597)), ('inicio', (598, 604)), ('del', (605, 608)), ('tratamiento', (609, 620)), (',', (620, 621)), ('acu', (622, 625)), ('##dió', (625, 628)), ('al', (629, 631)), ('Servicio', (632, 640)), ('de', (641, 643)), ('Ur', (644, 646)), ('##gencias', (646, 653)), ('por', (654, 657)), ('presentar', (658, 667)), ('durante', (668, 675)), ('los', (676, 679)), ('últimos', (680, 687)), ('cuatro', (688, 694)), ('días', (695, 699)), ('hem', (700, 703)), ('##at', (703, 705)), ('##uria', (705, 709)), ('fran', (710, 714)), ('##ca', (714, 716)), ('.', (716, 717))]\n",
      "\n",
      "\n",
      "[('No', (718, 720)), ('refería', (721, 728)), ('síndrome', (729, 737)), ('mic', (738, 741)), ('##cional', (741, 747)), ('ni', (748, 750)), ('fiebre', (751, 757)), ('.', (757, 758))]\n",
      "\n",
      "\n",
      "[('[UNK]', (759, 760)), ('##nicamente', (760, 769)), ('asocia', (770, 776)), ('##ba', (776, 778)), ('episodios', (779, 788)), ('aislados', (789, 797)), ('de', (798, 800)), ('vómi', (801, 805)), ('##tos', (805, 808)), ('con', (809, 812)), ('contenido', (813, 822)), ('aliment', (823, 830)), ('##icio', (830, 834)), (',', (834, 835)), ('sin', (836, 839)), ('abdomin', (840, 847)), ('##al', (847, 849)), ('##gia', (849, 852)), ('ni', (853, 855)), ('alteración', (856, 866)), ('del', (867, 870)), ('tránsito', (871, 879)), ('gas', (880, 883)), ('##tro', (883, 886)), ('##inte', (886, 890)), ('##stin', (890, 894)), ('##al', (894, 896)), ('.', (896, 897))]\n",
      "\n",
      "\n",
      "[('Explor', (899, 905)), ('##ación', (905, 910)), ('física', (911, 917)), ('Af', (918, 920)), ('##eb', (920, 922)), ('##ril', (922, 925)), ('y', (926, 927)), ('hemo', (928, 932)), ('##din', (932, 935)), ('##ámica', (935, 940)), ('##mente', (940, 945)), ('estable', (946, 953)), ('.', (953, 954))]\n",
      "\n",
      "\n",
      "[('[UNK]', (955, 956)), ('##ndice', (956, 961)), ('de', (962, 964)), ('[UNK]', (965, 966)), ('##ar', (966, 968)), ('##no', (968, 970)), ('##f', (970, 971)), ('##s', (971, 972)), ('[UNK]', (972, 973)), ('##y', (973, 974)), ('[UNK]', (975, 976)), ('##0', (976, 977)), ('[UNK]', (978, 979)), ('.', (979, 980))]\n",
      "\n",
      "\n",
      "[('Pal', (981, 984)), ('##ide', (984, 987)), ('##z', (987, 988)), ('mu', (989, 991)), ('##coc', (991, 994)), ('##ut', (994, 996)), ('##án', (996, 998)), ('##ea', (998, 1000)), ('.', (1000, 1001))]\n",
      "\n",
      "\n",
      "[('No', (1002, 1004)), ('se', (1005, 1007)), ('observaron', (1008, 1018)), ('hem', (1019, 1022)), ('##ato', (1022, 1025)), ('##mas', (1025, 1028)), ('ni', (1029, 1031)), ('se', (1032, 1034)), ('pal', (1035, 1038)), ('##paron', (1038, 1043)), ('aden', (1044, 1048)), ('##op', (1048, 1050)), ('##atía', (1050, 1054)), ('##s', (1054, 1055)), ('.', (1055, 1056))]\n",
      "\n",
      "\n",
      "[('La', (1057, 1059)), ('exploración', (1060, 1071)), ('cardio', (1072, 1078)), ('##pul', (1078, 1081)), ('##mon', (1081, 1084)), ('##ar', (1084, 1086)), ('y', (1087, 1088)), ('abdomin', (1089, 1096)), ('##al', (1096, 1098)), ('resultó', (1099, 1106)), ('normal', (1107, 1113)), ('.', (1113, 1114))]\n",
      "\n",
      "\n",
      "[('Prueba', (1116, 1122)), ('##s', (1122, 1123)), ('complementarias', (1124, 1139)), ('La', (1140, 1142)), ('analí', (1143, 1148)), ('##tica', (1148, 1152)), ('al', (1153, 1155)), ('ingreso', (1156, 1163)), ('presentó', (1164, 1172)), (',', (1172, 1173)), ('como', (1174, 1178)), ('parámetros', (1179, 1189)), ('a', (1190, 1191)), ('destacar', (1192, 1200)), (',', (1200, 1201)), ('le', (1202, 1204)), ('##uco', (1204, 1207)), ('##citos', (1207, 1212)), ('3', (1213, 1214)), ('.', (1214, 1215)), ('400', (1215, 1218)), ('[UNK]', (1218, 1219)), ('m', (1219, 1220)), ('##cl', (1220, 1222)), (',', (1222, 1223)), ('hemoglobina', (1224, 1235)), ('10', (1236, 1238)), (',', (1238, 1239)), ('9', (1239, 1240)), ('g', (1241, 1242)), ('[UNK]', (1242, 1243)), ('d', (1243, 1244)), ('##l', (1244, 1245)), (',', (1245, 1246)), ('con', (1247, 1250)), ('el', (1251, 1253)), ('volumen', (1254, 1261)), ('cor', (1262, 1265)), ('##pus', (1265, 1268)), ('##cular', (1268, 1273)), ('medio', (1274, 1279)), ('y', (1280, 1281)), ('la', (1282, 1284)), ('hemoglobina', (1285, 1296)), ('cor', (1297, 1300)), ('##pus', (1300, 1303)), ('##cular', (1303, 1308)), ('media', (1309, 1314)), ('normales', (1315, 1323)), (',', (1323, 1324)), ('pla', (1325, 1328)), ('##quetas', (1328, 1334)), ('31', (1335, 1337)), ('.', (1337, 1338)), ('000', (1338, 1341)), ('[UNK]', (1341, 1342)), ('m', (1342, 1343)), ('##cl', (1343, 1345)), (',', (1345, 1346)), ('ur', (1347, 1349)), ('##ea', (1349, 1351)), ('43', (1352, 1354)), (',', (1354, 1355)), ('6', (1355, 1356)), ('mg', (1357, 1359)), ('[UNK]', (1359, 1360)), ('d', (1360, 1361)), ('##l', (1361, 1362)), (',', (1362, 1363)), ('crea', (1364, 1368)), ('##tini', (1368, 1372)), ('##na', (1372, 1374)), ('0', (1375, 1376)), (',', (1376, 1377)), ('89', (1377, 1379)), ('mg', (1380, 1382)), ('[UNK]', (1382, 1383)), ('d', (1383, 1384)), ('##l', (1384, 1385)), ('y', (1386, 1387)), ('proteína', (1388, 1396)), ('C', (1397, 1398)), ('reactiv', (1399, 1406)), ('##a', (1406, 1407)), ('[UNK]', (1408, 1409)), ('[UNK]', (1409, 1410)), ('mg', (1411, 1413)), ('[UNK]', (1413, 1414)), ('l', (1414, 1415)), ('.', (1415, 1416))]\n",
      "\n",
      "\n",
      "[('El', (1417, 1419)), ('sistemático', (1420, 1431)), ('de', (1432, 1434)), ('orina', (1435, 1440)), ('al', (1441, 1443)), ('ingreso', (1444, 1451)), ('presentó', (1452, 1460)), ('nit', (1461, 1464)), ('##ritos', (1464, 1469)), ('negativos', (1470, 1479)), ('y', (1480, 1481)), ('en', (1482, 1484)), ('el', (1485, 1487)), ('sedi', (1488, 1492)), ('##mento', (1492, 1497)), ('25', (1498, 1500)), ('-', (1500, 1501)), ('50', (1501, 1503)), ('hem', (1504, 1507)), ('##at', (1507, 1509)), ('##íes', (1509, 1512)), ('[UNK]', (1512, 1513)), ('campo', (1513, 1518)), ('y', (1519, 1520)), ('2', (1521, 1522)), ('-', (1522, 1523)), ('5', (1523, 1524)), ('le', (1525, 1527)), ('##uco', (1527, 1530)), ('##citos', (1530, 1535)), ('.', (1535, 1536))]\n",
      "\n",
      "\n",
      "[('En', (1537, 1539)), ('la', (1540, 1542)), ('radio', (1543, 1548)), ('##grafía', (1548, 1554)), ('de', (1555, 1557)), ('tó', (1558, 1560)), ('##ra', (1560, 1562)), ('##x', (1562, 1563)), ('se', (1564, 1566)), ('observaron', (1567, 1577)), ('los', (1578, 1581)), ('nó', (1582, 1584)), ('##dulo', (1584, 1588)), ('##s', (1588, 1589)), ('pulmonar', (1590, 1598)), ('##es', (1598, 1600)), ('ya', (1601, 1603)), ('conocidos', (1604, 1613)), ('sin', (1614, 1617)), ('objetiva', (1618, 1626)), ('##rs', (1626, 1628)), ('##e', (1628, 1629)), ('otros', (1630, 1635)), ('hallazgos', (1636, 1645)), ('relevantes', (1646, 1656)), ('.', (1656, 1657))]\n",
      "\n",
      "\n",
      "[('Dia', (1659, 1662)), ('##gn', (1662, 1664)), ('##óstico', (1664, 1670)), ('[UNK]', (1671, 1672)), ('Car', (1673, 1676)), ('##cino', (1676, 1680)), ('##ma', (1680, 1682)), ('renal', (1683, 1688)), ('estadio', (1689, 1696)), ('IV', (1697, 1699)), ('en', (1700, 1702)), ('tratamiento', (1703, 1714)), ('con', (1715, 1718)), ('sun', (1719, 1722)), ('##iti', (1722, 1725)), ('##ni', (1725, 1727)), ('##b', (1727, 1728)), ('.', (1728, 1729))]\n",
      "\n",
      "\n",
      "[('[UNK]', (1730, 1731)), ('Tro', (1732, 1735)), ('##mbo', (1735, 1738)), ('##cito', (1738, 1742)), ('##pen', (1742, 1745)), ('##ia', (1745, 1747)), ('grado', (1748, 1753)), ('4', (1754, 1755)), ('secundaria', (1756, 1766)), ('a', (1767, 1768)), ('tratamiento', (1769, 1780)), ('anti', (1781, 1785)), ('##ang', (1785, 1788)), ('##io', (1788, 1790)), ('##gén', (1790, 1793)), ('##ico', (1793, 1796)), ('.', (1796, 1797))]\n",
      "\n",
      "\n",
      "[('[UNK]', (1798, 1799)), ('Hem', (1800, 1803)), ('##at', (1803, 1805)), ('##uria', (1805, 1809)), ('secundaria', (1810, 1820)), ('a', (1821, 1822)), ('trom', (1823, 1827)), ('##bo', (1827, 1829)), ('##cito', (1829, 1833)), ('##pen', (1833, 1836)), ('##ia', (1836, 1838)), ('.', (1838, 1839))]\n",
      "\n",
      "\n",
      "[('Tratamiento', (1841, 1852)), ('Ante', (1853, 1857)), ('la', (1858, 1860)), ('hem', (1861, 1864)), ('##at', (1864, 1866)), ('##uria', (1866, 1870)), ('fran', (1871, 1875)), ('##ca', (1875, 1877)), ('se', (1878, 1880)), ('colocó', (1881, 1887)), ('sonda', (1888, 1893)), ('ves', (1894, 1897)), ('##ical', (1897, 1901)), ('para', (1902, 1906)), ('la', (1907, 1909)), ('realización', (1910, 1921)), ('de', (1922, 1924)), ('lavado', (1925, 1931)), ('ves', (1932, 1935)), ('##ical', (1935, 1939)), ('continuo', (1940, 1948)), (',', (1948, 1949)), ('se', (1950, 1952)), ('pa', (1953, 1955)), ('##utó', (1955, 1958)), ('ácido', (1959, 1964)), ('tran', (1965, 1969)), ('##ex', (1969, 1971)), ('##ámico', (1971, 1976)), ('0', (1977, 1978)), (',', (1978, 1979)), ('5', (1979, 1980)), ('##g', (1980, 1981)), ('[UNK]', (1981, 1982)), ('8', (1982, 1983)), ('h', (1984, 1985)), ('y', (1986, 1987)), ('se', (1988, 1990)), ('tras', (1991, 1995)), ('##fun', (1995, 1998)), ('##dió', (1998, 2001)), ('un', (2002, 2004)), ('concentrado', (2005, 2016)), ('de', (2017, 2019)), ('pla', (2020, 2023)), ('##quetas', (2023, 2029)), (',', (2029, 2030)), ('presentando', (2031, 2042)), ('leve', (2043, 2047)), ('mejor', (2048, 2053)), ('##ía', (2053, 2055)), ('clínica', (2056, 2063)), ('y', (2064, 2065)), ('analí', (2066, 2071)), ('##tica', (2071, 2075)), ('.', (2075, 2076))]\n",
      "\n",
      "\n",
      "[('Durante', (2077, 2084)), ('el', (2085, 2087)), ('ingreso', (2088, 2095)), ('se', (2096, 2098)), ('realizaron', (2099, 2109)), ('hemo', (2110, 2114)), ('##gramas', (2114, 2120)), ('diarios', (2121, 2128)), (',', (2128, 2129)), ('obje', (2130, 2134)), ('##tiv', (2134, 2137)), ('##ándose', (2137, 2143)), ('disminución', (2144, 2155)), ('progresiva', (2156, 2166)), ('de', (2167, 2169)), ('la', (2170, 2172)), ('cifra', (2173, 2178)), ('de', (2179, 2181)), ('pla', (2182, 2185)), ('##quetas', (2185, 2191)), (',', (2191, 2192)), ('por', (2193, 2196)), ('lo', (2197, 2199)), ('que', (2200, 2203)), ('se', (2204, 2206)), ('añadió', (2207, 2213)), ('cor', (2214, 2217)), ('##tico', (2217, 2221)), ('##terapia', (2221, 2228)), ('a', (2229, 2230)), ('dosis', (2231, 2236)), ('bajas', (2237, 2242)), ('(', (2243, 2244)), ('metil', (2244, 2249)), ('##pre', (2249, 2252)), ('##dn', (2252, 2254)), ('##iso', (2254, 2257)), ('##lon', (2257, 2260)), ('##a', (2260, 2261)), ('20', (2262, 2264)), ('mg', (2265, 2267)), ('[UNK]', (2267, 2268)), ('12', (2268, 2270)), ('h', (2271, 2272)), (')', (2272, 2273)), (',', (2273, 2274)), ('sin', (2275, 2278)), ('conseguir', (2279, 2288)), ('aumentar', (2289, 2297)), ('dicho', (2298, 2303)), ('parámetro', (2304, 2313)), ('analí', (2314, 2319)), ('##tico', (2319, 2323)), ('.', (2323, 2324))]\n",
      "\n",
      "\n",
      "[('Pese', (2325, 2329)), ('al', (2330, 2332)), ('tratamiento', (2333, 2344)), ('pa', (2345, 2347)), ('##uta', (2347, 2350)), ('##do', (2350, 2352)), (',', (2352, 2353)), ('la', (2354, 2356)), ('paciente', (2357, 2365)), ('continuó', (2366, 2374)), ('con', (2375, 2378)), ('hem', (2379, 2382)), ('##at', (2382, 2384)), ('##uria', (2384, 2388)), (',', (2388, 2389)), ('y', (2390, 2391)), ('un', (2392, 2394)), ('recuento', (2395, 2403)), ('pla', (2404, 2407)), ('##queta', (2407, 2412)), ('##rio', (2412, 2415)), ('de', (2416, 2418)), ('6', (2419, 2420)), ('.', (2420, 2421)), ('000', (2421, 2424)), ('[UNK]', (2424, 2425)), ('m', (2425, 2426)), ('##cl', (2426, 2428)), (',', (2428, 2429)), ('por', (2430, 2433)), ('lo', (2434, 2436)), ('que', (2437, 2440)), ('se', (2441, 2443)), ('solicitó', (2444, 2452)), ('la', (2453, 2455)), ('realización', (2456, 2467)), ('de', (2468, 2470)), ('un', (2471, 2473)), ('fro', (2474, 2477)), ('##tis', (2477, 2480)), ('perif', (2481, 2486)), ('##érico', (2486, 2491)), ('[UNK]', (2491, 2492)), ('se', (2493, 2495)), ('comprob', (2496, 2503)), ('##ó', (2503, 2504)), ('dicha', (2505, 2510)), ('cifra', (2511, 2516)), ('y', (2517, 2518)), ('se', (2519, 2521)), ('descar', (2522, 2528)), ('##taron', (2528, 2533)), ('esqui', (2534, 2539)), ('##sto', (2539, 2542)), ('##citos', (2542, 2547)), ('u', (2548, 2549)), ('otras', (2550, 2555)), ('alteraciones', (2556, 2568)), ('mor', (2569, 2572)), ('##fol', (2572, 2575)), ('##óg', (2575, 2577)), ('##icas', (2577, 2581)), ('.', (2581, 2582))]\n",
      "\n",
      "\n",
      "[('De', (2583, 2585)), ('acuerdo', (2586, 2593)), ('con', (2594, 2597)), ('Hem', (2598, 2601)), ('##ato', (2601, 2604)), ('##logía', (2604, 2609)), (',', (2609, 2610)), ('se', (2611, 2613)), ('aumentaron', (2614, 2624)), ('los', (2625, 2628)), ('cor', (2629, 2632)), ('##tico', (2632, 2636)), ('##ides', (2636, 2640)), ('a', (2641, 2642)), ('dosis', (2643, 2648)), ('de', (2649, 2651)), ('1', (2652, 2653)), ('mg', (2654, 2656)), ('[UNK]', (2656, 2657)), ('[UNK]', (2657, 2658)), ('##g', (2658, 2659)), ('[UNK]', (2659, 2660)), ('día', (2660, 2663)), ('y', (2664, 2665)), ('se', (2666, 2668)), ('pa', (2669, 2671)), ('##utó', (2671, 2674)), ('inmun', (2675, 2680)), ('##o', (2680, 2681)), ('##glo', (2681, 2684)), ('##bul', (2684, 2687)), ('##ina', (2687, 2690)), ('intravenosa', (2691, 2702)), ('(', (2703, 2704)), ('1', (2704, 2705)), ('g', (2706, 2707)), ('[UNK]', (2707, 2708)), ('[UNK]', (2708, 2709)), ('##g', (2709, 2710)), ('durante', (2711, 2718)), ('48', (2719, 2721)), ('horas', (2722, 2727)), (')', (2727, 2728)), ('.', (2728, 2729))]\n",
      "\n",
      "\n",
      "[('A', (2730, 2731)), ('partir', (2732, 2738)), ('de', (2739, 2741)), ('este', (2742, 2746)), ('tratamiento', (2747, 2758)), (',', (2758, 2759)), ('fueron', (2760, 2766)), ('ascen', (2767, 2772)), ('##diendo', (2772, 2778)), ('las', (2779, 2782)), ('cifras', (2783, 2789)), ('de', (2790, 2792)), ('pla', (2793, 2796)), ('##quetas', (2796, 2802)), ('progresivamente', (2803, 2818)), (',', (2818, 2819)), ('hasta', (2820, 2825)), ('presentar', (2826, 2835)), ('al', (2836, 2838)), ('alta', (2839, 2843)), ('41', (2844, 2846)), ('.', (2846, 2847)), ('000', (2847, 2850)), ('[UNK]', (2850, 2851)), ('m', (2851, 2852)), ('##cl', (2852, 2854)), ('.', (2854, 2855))]\n",
      "\n",
      "\n",
      "[('A', (2856, 2857)), ('lo', (2858, 2860)), ('largo', (2861, 2866)), ('del', (2867, 2870)), ('ingreso', (2871, 2878)), (',', (2878, 2879)), ('fue', (2880, 2883)), ('precisa', (2884, 2891)), ('la', (2892, 2894)), ('tras', (2895, 2899)), ('##fusión', (2899, 2905)), ('de', (2906, 2908)), ('seis', (2909, 2913)), ('concentrado', (2914, 2925)), ('##s', (2925, 2926)), ('de', (2927, 2929)), ('pla', (2930, 2933)), ('##quetas', (2933, 2939)), ('.', (2939, 2940))]\n",
      "\n",
      "\n",
      "[('Además', (2941, 2947)), (',', (2947, 2948)), ('como', (2949, 2953)), ('complicaciones', (2954, 2968)), (',', (2968, 2969)), ('presentó', (2970, 2978)), ('epi', (2979, 2982)), ('##sta', (2982, 2985)), ('##xis', (2985, 2988)), ('bilateral', (2989, 2998)), ('que', (2999, 3002)), ('requi', (3003, 3008)), ('##rió', (3008, 3011)), ('tap', (3012, 3015)), ('##ona', (3015, 3018)), ('##miento', (3018, 3024)), ('nas', (3025, 3028)), ('##al', (3028, 3030)), ('por', (3031, 3034)), ('O', (3035, 3036)), ('##tor', (3036, 3039)), ('##rino', (3039, 3043)), ('##lar', (3043, 3046)), ('##ingo', (3046, 3050)), ('##logía', (3050, 3055)), (',', (3055, 3056)), ('e', (3057, 3058)), ('infección', (3059, 3068)), ('del', (3069, 3072)), ('tra', (3073, 3076)), ('##cto', (3076, 3079)), ('ur', (3080, 3082)), ('##inario', (3082, 3088)), ('secundario', (3089, 3099)), ('al', (3100, 3102)), ('sonda', (3103, 3108)), ('##je', (3108, 3110)), ('ves', (3111, 3114)), ('##ical', (3114, 3118)), ('.', (3118, 3119))]\n",
      "\n",
      "\n",
      "[('En', (3120, 3122)), ('el', (3123, 3125)), ('ur', (3126, 3128)), ('##oc', (3128, 3130)), ('##ult', (3130, 3133)), ('##ivo', (3133, 3136)), ('se', (3137, 3139)), ('ais', (3140, 3143)), ('##laron', (3143, 3148)), ('más', (3149, 3152)), ('de', (3153, 3155)), ('100', (3156, 3159)), ('.', (3159, 3160)), ('000', (3160, 3163)), ('UF', (3164, 3166)), ('##C', (3166, 3167)), ('[UNK]', (3167, 3168)), ('ml', (3168, 3170)), ('de', (3171, 3173)), ('Enter', (3174, 3179)), ('##oc', (3179, 3181)), ('##oc', (3181, 3183)), ('##cus', (3183, 3186)), ('fa', (3187, 3189)), ('##eca', (3189, 3192)), ('##lis', (3192, 3195)), ('y', (3196, 3197)), ('de', (3198, 3200)), ('Esc', (3201, 3204)), ('##her', (3204, 3207)), ('##ichi', (3207, 3211)), ('##a', (3211, 3212)), ('col', (3213, 3216)), ('##i', (3216, 3217)), ('sensibles', (3218, 3227)), ('a', (3228, 3229)), ('nit', (3230, 3233)), ('##ro', (3233, 3235)), ('##fur', (3235, 3238)), ('##anto', (3238, 3242)), ('##ína', (3242, 3245)), (',', (3245, 3246)), ('por', (3247, 3250)), ('lo', (3251, 3253)), ('que', (3254, 3257)), ('se', (3258, 3260)), ('realizó', (3261, 3268)), ('tratamiento', (3269, 3280)), ('con', (3281, 3284)), ('dicho', (3285, 3290)), ('antibió', (3291, 3298)), ('##tico', (3298, 3302)), ('y', (3303, 3304)), ('reca', (3305, 3309)), ('##mbi', (3309, 3312)), ('##o', (3312, 3313)), ('de', (3314, 3316)), ('sonda', (3317, 3322)), ('ves', (3323, 3326)), ('##ical', (3326, 3330)), ('.', (3330, 3331))]\n",
      "\n",
      "\n",
      "[('Evolución', (3333, 3342)), ('En', (3343, 3345)), ('el', (3346, 3348)), ('momento', (3349, 3356)), ('del', (3357, 3360)), ('alta', (3361, 3365)), ('hospital', (3366, 3374)), ('##aria', (3374, 3378)), (',', (3378, 3379)), ('se', (3380, 3382)), ('decidió', (3383, 3390)), ('retirar', (3391, 3398)), ('definitivamente', (3399, 3414)), ('sun', (3415, 3418)), ('##iti', (3418, 3421)), ('##ni', (3421, 3423)), ('##b', (3423, 3424)), ('y', (3425, 3426)), ('se', (3427, 3429)), ('inició', (3430, 3436)), ('tratamiento', (3437, 3448)), ('con', (3449, 3452)), ('ni', (3453, 3455)), ('##vol', (3455, 3458)), ('##uma', (3458, 3461)), ('##b', (3461, 3462)), ('3', (3463, 3464)), ('mg', (3465, 3467)), ('[UNK]', (3467, 3468)), ('[UNK]', (3468, 3469)), ('##g', (3469, 3470)), ('[UNK]', (3470, 3471)), ('cada', (3471, 3475)), ('15', (3476, 3478)), ('días', (3479, 3483)), (',', (3483, 3484)), ('como', (3485, 3489)), ('segunda', (3490, 3497)), ('línea', (3498, 3503)), ('de', (3504, 3506)), ('enfermedad', (3507, 3517)), ('metas', (3518, 3523)), ('##tá', (3523, 3525)), ('##si', (3525, 3527)), ('##ca', (3527, 3529)), ('.', (3529, 3530))]\n",
      "\n",
      "\n",
      "[('En', (3531, 3533)), ('la', (3534, 3536)), ('actualidad', (3537, 3547)), (',', (3547, 3548)), ('se', (3549, 3551)), ('encuentra', (3552, 3561)), ('en', (3562, 3564)), ('respuesta', (3565, 3574)), ('parcial', (3575, 3582)), ('(', (3583, 3584)), ('RP', (3584, 3586)), (')', (3586, 3587)), ('tras', (3588, 3592)), ('13', (3593, 3595)), ('ciclos', (3596, 3602)), ('de', (3603, 3605)), ('dicho', (3606, 3611)), ('anti', (3612, 3616)), ('PD', (3617, 3619)), ('-', (3619, 3620)), ('1', (3620, 3621)), ('.', (3621, 3622))]\n",
      "\n",
      "\n"
     ]
    }
   ],
   "source": [
    "for i in range(check_id_frag, check_id_frag + train_frag[check_id]):\n",
    "    print(list(zip([tokenizer._token_dict_inv[ind] for ind in train_ind[i]][1:len(train_start_end_frag[i])+1], \n",
    "               train_start_end_frag[i])))\n",
    "    print(\"\\n\")"
   ]
  },
  {
   "cell_type": "code",
   "execution_count": 68,
   "metadata": {},
   "outputs": [
    {
     "name": "stdout",
     "output_type": "stream",
     "text": [
      "[CLS] Ana ##mne ##sis Mujer de 65 años , alér ##gica a derivados de la col ##chi ##cina y dic ##lo ##fen ##aco . [SEP] [PAD] [PAD] [PAD] [PAD] [PAD] [PAD] [PAD] [PAD] [PAD] [PAD] [PAD] [PAD] [PAD] [PAD] [PAD] [PAD] [PAD] [PAD] [PAD] [PAD] [PAD] [PAD] [PAD] [PAD] [PAD] [PAD] [PAD] [PAD] [PAD] [PAD] [PAD] [PAD] [PAD] [PAD] [PAD] [PAD] [PAD] [PAD] [PAD] [PAD] [PAD] [PAD] [PAD] [PAD] [PAD] [PAD] [PAD] [PAD] [PAD] [PAD] [PAD] [PAD] [PAD] [PAD] [PAD] [PAD] [PAD] [PAD] [PAD] [PAD] [PAD] [PAD] [PAD] [PAD] [PAD] [PAD] [PAD] [PAD] [PAD] [PAD] [PAD] [PAD] [PAD] [PAD] [PAD] [PAD] [PAD] [PAD] [PAD] [PAD] [PAD] [PAD] [PAD] [PAD] [PAD] [PAD] [PAD] [PAD] [PAD] [PAD] [PAD] [PAD] [PAD] [PAD] [PAD] [PAD] [PAD] [PAD] [PAD] [PAD] [PAD] [PAD] [PAD] \n",
      "\n",
      "[CLS] Sin factores de riesgo cardio ##vas ##cular ni medicación crónica . [SEP] [PAD] [PAD] [PAD] [PAD] [PAD] [PAD] [PAD] [PAD] [PAD] [PAD] [PAD] [PAD] [PAD] [PAD] [PAD] [PAD] [PAD] [PAD] [PAD] [PAD] [PAD] [PAD] [PAD] [PAD] [PAD] [PAD] [PAD] [PAD] [PAD] [PAD] [PAD] [PAD] [PAD] [PAD] [PAD] [PAD] [PAD] [PAD] [PAD] [PAD] [PAD] [PAD] [PAD] [PAD] [PAD] [PAD] [PAD] [PAD] [PAD] [PAD] [PAD] [PAD] [PAD] [PAD] [PAD] [PAD] [PAD] [PAD] [PAD] [PAD] [PAD] [PAD] [PAD] [PAD] [PAD] [PAD] [PAD] [PAD] [PAD] [PAD] [PAD] [PAD] [PAD] [PAD] [PAD] [PAD] [PAD] [PAD] [PAD] [PAD] [PAD] [PAD] [PAD] [PAD] [PAD] [PAD] [PAD] [PAD] [PAD] [PAD] [PAD] [PAD] [PAD] [PAD] [PAD] [PAD] [PAD] [PAD] [PAD] [PAD] [PAD] [PAD] [PAD] [PAD] [PAD] [PAD] [PAD] [PAD] [PAD] [PAD] [PAD] [PAD] [PAD] [PAD] [PAD] \n",
      "\n",
      "[CLS] Como único antece ##dente presentaba cif ##oe ##s ##col ##ios ##is grave y había sido interven ##ida de hist ##ere ##cto ##mí ##a con doble anex ##ec ##tomía y ex ##tir ##pac ##ión de un neuro ##fi ##bro ##ma . [SEP] [PAD] [PAD] [PAD] [PAD] [PAD] [PAD] [PAD] [PAD] [PAD] [PAD] [PAD] [PAD] [PAD] [PAD] [PAD] [PAD] [PAD] [PAD] [PAD] [PAD] [PAD] [PAD] [PAD] [PAD] [PAD] [PAD] [PAD] [PAD] [PAD] [PAD] [PAD] [PAD] [PAD] [PAD] [PAD] [PAD] [PAD] [PAD] [PAD] [PAD] [PAD] [PAD] [PAD] [PAD] [PAD] [PAD] [PAD] [PAD] [PAD] [PAD] [PAD] [PAD] [PAD] [PAD] [PAD] [PAD] [PAD] [PAD] [PAD] [PAD] [PAD] [PAD] [PAD] [PAD] [PAD] [PAD] [PAD] [PAD] [PAD] [PAD] [PAD] [PAD] [PAD] [PAD] [PAD] [PAD] [PAD] [PAD] [PAD] [PAD] [PAD] [PAD] [PAD] [PAD] [PAD] [PAD] \n",
      "\n",
      "[CLS] Historia on ##col ##óg ##ica : en julio de 201 [UNK] fue diagnos ##tica ##da de car ##cino ##ma renal de células claras izquierdo , estadio IV , con afecta ##ción pulmonar y gan ##gli ##ona ##r . [SEP] [PAD] [PAD] [PAD] [PAD] [PAD] [PAD] [PAD] [PAD] [PAD] [PAD] [PAD] [PAD] [PAD] [PAD] [PAD] [PAD] [PAD] [PAD] [PAD] [PAD] [PAD] [PAD] [PAD] [PAD] [PAD] [PAD] [PAD] [PAD] [PAD] [PAD] [PAD] [PAD] [PAD] [PAD] [PAD] [PAD] [PAD] [PAD] [PAD] [PAD] [PAD] [PAD] [PAD] [PAD] [PAD] [PAD] [PAD] [PAD] [PAD] [PAD] [PAD] [PAD] [PAD] [PAD] [PAD] [PAD] [PAD] [PAD] [PAD] [PAD] [PAD] [PAD] [PAD] [PAD] [PAD] [PAD] [PAD] [PAD] [PAD] [PAD] [PAD] [PAD] [PAD] [PAD] [PAD] [PAD] [PAD] [PAD] [PAD] [PAD] [PAD] [PAD] [PAD] [PAD] [PAD] [PAD] [PAD] [PAD] \n",
      "\n",
      "[CLS] En agosto de ese mismo año , comenzó tratamiento con sun ##iti ##ni ##b 50 mg [UNK] 24 h ( esquema 4 [UNK] 6 ) como primera línea de enfermedad metas ##tá ##si ##ca . [SEP] [PAD] [PAD] [PAD] [PAD] [PAD] [PAD] [PAD] [PAD] [PAD] [PAD] [PAD] [PAD] [PAD] [PAD] [PAD] [PAD] [PAD] [PAD] [PAD] [PAD] [PAD] [PAD] [PAD] [PAD] [PAD] [PAD] [PAD] [PAD] [PAD] [PAD] [PAD] [PAD] [PAD] [PAD] [PAD] [PAD] [PAD] [PAD] [PAD] [PAD] [PAD] [PAD] [PAD] [PAD] [PAD] [PAD] [PAD] [PAD] [PAD] [PAD] [PAD] [PAD] [PAD] [PAD] [PAD] [PAD] [PAD] [PAD] [PAD] [PAD] [PAD] [PAD] [PAD] [PAD] [PAD] [PAD] [PAD] [PAD] [PAD] [PAD] [PAD] [PAD] [PAD] [PAD] [PAD] [PAD] [PAD] [PAD] [PAD] [PAD] [PAD] [PAD] [PAD] [PAD] [PAD] [PAD] [PAD] [PAD] [PAD] [PAD] [PAD] \n",
      "\n",
      "[CLS] Tras un mes del inicio del tratamiento , acu ##dió al Servicio de Ur ##gencias por presentar durante los últimos cuatro días hem ##at ##uria fran ##ca . [SEP] [PAD] [PAD] [PAD] [PAD] [PAD] [PAD] [PAD] [PAD] [PAD] [PAD] [PAD] [PAD] [PAD] [PAD] [PAD] [PAD] [PAD] [PAD] [PAD] [PAD] [PAD] [PAD] [PAD] [PAD] [PAD] [PAD] [PAD] [PAD] [PAD] [PAD] [PAD] [PAD] [PAD] [PAD] [PAD] [PAD] [PAD] [PAD] [PAD] [PAD] [PAD] [PAD] [PAD] [PAD] [PAD] [PAD] [PAD] [PAD] [PAD] [PAD] [PAD] [PAD] [PAD] [PAD] [PAD] [PAD] [PAD] [PAD] [PAD] [PAD] [PAD] [PAD] [PAD] [PAD] [PAD] [PAD] [PAD] [PAD] [PAD] [PAD] [PAD] [PAD] [PAD] [PAD] [PAD] [PAD] [PAD] [PAD] [PAD] [PAD] [PAD] [PAD] [PAD] [PAD] [PAD] [PAD] [PAD] [PAD] [PAD] [PAD] [PAD] [PAD] [PAD] [PAD] [PAD] [PAD] [PAD] [PAD] \n",
      "\n",
      "[CLS] No refería síndrome mic ##cional ni fiebre . [SEP] [PAD] [PAD] [PAD] [PAD] [PAD] [PAD] [PAD] [PAD] [PAD] [PAD] [PAD] [PAD] [PAD] [PAD] [PAD] [PAD] [PAD] [PAD] [PAD] [PAD] [PAD] [PAD] [PAD] [PAD] [PAD] [PAD] [PAD] [PAD] [PAD] [PAD] [PAD] [PAD] [PAD] [PAD] [PAD] [PAD] [PAD] [PAD] [PAD] [PAD] [PAD] [PAD] [PAD] [PAD] [PAD] [PAD] [PAD] [PAD] [PAD] [PAD] [PAD] [PAD] [PAD] [PAD] [PAD] [PAD] [PAD] [PAD] [PAD] [PAD] [PAD] [PAD] [PAD] [PAD] [PAD] [PAD] [PAD] [PAD] [PAD] [PAD] [PAD] [PAD] [PAD] [PAD] [PAD] [PAD] [PAD] [PAD] [PAD] [PAD] [PAD] [PAD] [PAD] [PAD] [PAD] [PAD] [PAD] [PAD] [PAD] [PAD] [PAD] [PAD] [PAD] [PAD] [PAD] [PAD] [PAD] [PAD] [PAD] [PAD] [PAD] [PAD] [PAD] [PAD] [PAD] [PAD] [PAD] [PAD] [PAD] [PAD] [PAD] [PAD] [PAD] [PAD] [PAD] [PAD] [PAD] [PAD] \n",
      "\n",
      "[CLS] [UNK] ##nicamente asocia ##ba episodios aislados de vómi ##tos con contenido aliment ##icio , sin abdomin ##al ##gia ni alteración del tránsito gas ##tro ##inte ##stin ##al . [SEP] [PAD] [PAD] [PAD] [PAD] [PAD] [PAD] [PAD] [PAD] [PAD] [PAD] [PAD] [PAD] [PAD] [PAD] [PAD] [PAD] [PAD] [PAD] [PAD] [PAD] [PAD] [PAD] [PAD] [PAD] [PAD] [PAD] [PAD] [PAD] [PAD] [PAD] [PAD] [PAD] [PAD] [PAD] [PAD] [PAD] [PAD] [PAD] [PAD] [PAD] [PAD] [PAD] [PAD] [PAD] [PAD] [PAD] [PAD] [PAD] [PAD] [PAD] [PAD] [PAD] [PAD] [PAD] [PAD] [PAD] [PAD] [PAD] [PAD] [PAD] [PAD] [PAD] [PAD] [PAD] [PAD] [PAD] [PAD] [PAD] [PAD] [PAD] [PAD] [PAD] [PAD] [PAD] [PAD] [PAD] [PAD] [PAD] [PAD] [PAD] [PAD] [PAD] [PAD] [PAD] [PAD] [PAD] [PAD] [PAD] [PAD] [PAD] [PAD] [PAD] [PAD] [PAD] [PAD] [PAD] [PAD] [PAD] \n",
      "\n",
      "[CLS] Explor ##ación física Af ##eb ##ril y hemo ##din ##ámica ##mente estable . [SEP] [PAD] [PAD] [PAD] [PAD] [PAD] [PAD] [PAD] [PAD] [PAD] [PAD] [PAD] [PAD] [PAD] [PAD] [PAD] [PAD] [PAD] [PAD] [PAD] [PAD] [PAD] [PAD] [PAD] [PAD] [PAD] [PAD] [PAD] [PAD] [PAD] [PAD] [PAD] [PAD] [PAD] [PAD] [PAD] [PAD] [PAD] [PAD] [PAD] [PAD] [PAD] [PAD] [PAD] [PAD] [PAD] [PAD] [PAD] [PAD] [PAD] [PAD] [PAD] [PAD] [PAD] [PAD] [PAD] [PAD] [PAD] [PAD] [PAD] [PAD] [PAD] [PAD] [PAD] [PAD] [PAD] [PAD] [PAD] [PAD] [PAD] [PAD] [PAD] [PAD] [PAD] [PAD] [PAD] [PAD] [PAD] [PAD] [PAD] [PAD] [PAD] [PAD] [PAD] [PAD] [PAD] [PAD] [PAD] [PAD] [PAD] [PAD] [PAD] [PAD] [PAD] [PAD] [PAD] [PAD] [PAD] [PAD] [PAD] [PAD] [PAD] [PAD] [PAD] [PAD] [PAD] [PAD] [PAD] [PAD] [PAD] [PAD] [PAD] [PAD] [PAD] \n",
      "\n",
      "[CLS] [UNK] ##ndice de [UNK] ##ar ##no ##f ##s [UNK] ##y [UNK] ##0 [UNK] . [SEP] [PAD] [PAD] [PAD] [PAD] [PAD] [PAD] [PAD] [PAD] [PAD] [PAD] [PAD] [PAD] [PAD] [PAD] [PAD] [PAD] [PAD] [PAD] [PAD] [PAD] [PAD] [PAD] [PAD] [PAD] [PAD] [PAD] [PAD] [PAD] [PAD] [PAD] [PAD] [PAD] [PAD] [PAD] [PAD] [PAD] [PAD] [PAD] [PAD] [PAD] [PAD] [PAD] [PAD] [PAD] [PAD] [PAD] [PAD] [PAD] [PAD] [PAD] [PAD] [PAD] [PAD] [PAD] [PAD] [PAD] [PAD] [PAD] [PAD] [PAD] [PAD] [PAD] [PAD] [PAD] [PAD] [PAD] [PAD] [PAD] [PAD] [PAD] [PAD] [PAD] [PAD] [PAD] [PAD] [PAD] [PAD] [PAD] [PAD] [PAD] [PAD] [PAD] [PAD] [PAD] [PAD] [PAD] [PAD] [PAD] [PAD] [PAD] [PAD] [PAD] [PAD] [PAD] [PAD] [PAD] [PAD] [PAD] [PAD] [PAD] [PAD] [PAD] [PAD] [PAD] [PAD] [PAD] [PAD] [PAD] [PAD] [PAD] [PAD] [PAD] \n",
      "\n",
      "[CLS] Pal ##ide ##z mu ##coc ##ut ##án ##ea . [SEP] [PAD] [PAD] [PAD] [PAD] [PAD] [PAD] [PAD] [PAD] [PAD] [PAD] [PAD] [PAD] [PAD] [PAD] [PAD] [PAD] [PAD] [PAD] [PAD] [PAD] [PAD] [PAD] [PAD] [PAD] [PAD] [PAD] [PAD] [PAD] [PAD] [PAD] [PAD] [PAD] [PAD] [PAD] [PAD] [PAD] [PAD] [PAD] [PAD] [PAD] [PAD] [PAD] [PAD] [PAD] [PAD] [PAD] [PAD] [PAD] [PAD] [PAD] [PAD] [PAD] [PAD] [PAD] [PAD] [PAD] [PAD] [PAD] [PAD] [PAD] [PAD] [PAD] [PAD] [PAD] [PAD] [PAD] [PAD] [PAD] [PAD] [PAD] [PAD] [PAD] [PAD] [PAD] [PAD] [PAD] [PAD] [PAD] [PAD] [PAD] [PAD] [PAD] [PAD] [PAD] [PAD] [PAD] [PAD] [PAD] [PAD] [PAD] [PAD] [PAD] [PAD] [PAD] [PAD] [PAD] [PAD] [PAD] [PAD] [PAD] [PAD] [PAD] [PAD] [PAD] [PAD] [PAD] [PAD] [PAD] [PAD] [PAD] [PAD] [PAD] [PAD] [PAD] [PAD] [PAD] [PAD] \n",
      "\n",
      "[CLS] No se observaron hem ##ato ##mas ni se pal ##paron aden ##op ##atía ##s . [SEP] [PAD] [PAD] [PAD] [PAD] [PAD] [PAD] [PAD] [PAD] [PAD] [PAD] [PAD] [PAD] [PAD] [PAD] [PAD] [PAD] [PAD] [PAD] [PAD] [PAD] [PAD] [PAD] [PAD] [PAD] [PAD] [PAD] [PAD] [PAD] [PAD] [PAD] [PAD] [PAD] [PAD] [PAD] [PAD] [PAD] [PAD] [PAD] [PAD] [PAD] [PAD] [PAD] [PAD] [PAD] [PAD] [PAD] [PAD] [PAD] [PAD] [PAD] [PAD] [PAD] [PAD] [PAD] [PAD] [PAD] [PAD] [PAD] [PAD] [PAD] [PAD] [PAD] [PAD] [PAD] [PAD] [PAD] [PAD] [PAD] [PAD] [PAD] [PAD] [PAD] [PAD] [PAD] [PAD] [PAD] [PAD] [PAD] [PAD] [PAD] [PAD] [PAD] [PAD] [PAD] [PAD] [PAD] [PAD] [PAD] [PAD] [PAD] [PAD] [PAD] [PAD] [PAD] [PAD] [PAD] [PAD] [PAD] [PAD] [PAD] [PAD] [PAD] [PAD] [PAD] [PAD] [PAD] [PAD] [PAD] [PAD] [PAD] [PAD] \n",
      "\n",
      "[CLS] La exploración cardio ##pul ##mon ##ar y abdomin ##al resultó normal . [SEP] [PAD] [PAD] [PAD] [PAD] [PAD] [PAD] [PAD] [PAD] [PAD] [PAD] [PAD] [PAD] [PAD] [PAD] [PAD] [PAD] [PAD] [PAD] [PAD] [PAD] [PAD] [PAD] [PAD] [PAD] [PAD] [PAD] [PAD] [PAD] [PAD] [PAD] [PAD] [PAD] [PAD] [PAD] [PAD] [PAD] [PAD] [PAD] [PAD] [PAD] [PAD] [PAD] [PAD] [PAD] [PAD] [PAD] [PAD] [PAD] [PAD] [PAD] [PAD] [PAD] [PAD] [PAD] [PAD] [PAD] [PAD] [PAD] [PAD] [PAD] [PAD] [PAD] [PAD] [PAD] [PAD] [PAD] [PAD] [PAD] [PAD] [PAD] [PAD] [PAD] [PAD] [PAD] [PAD] [PAD] [PAD] [PAD] [PAD] [PAD] [PAD] [PAD] [PAD] [PAD] [PAD] [PAD] [PAD] [PAD] [PAD] [PAD] [PAD] [PAD] [PAD] [PAD] [PAD] [PAD] [PAD] [PAD] [PAD] [PAD] [PAD] [PAD] [PAD] [PAD] [PAD] [PAD] [PAD] [PAD] [PAD] [PAD] [PAD] [PAD] [PAD] [PAD] \n",
      "\n",
      "[CLS] Prueba ##s complementarias La analí ##tica al ingreso presentó , como parámetros a destacar , le ##uco ##citos 3 . 400 [UNK] m ##cl , hemoglobina 10 , 9 g [UNK] d ##l , con el volumen cor ##pus ##cular medio y la hemoglobina cor ##pus ##cular media normales , pla ##quetas 31 . 000 [UNK] m ##cl , ur ##ea 43 , 6 mg [UNK] d ##l , crea ##tini ##na 0 , 89 mg [UNK] d ##l y proteína C reactiv ##a [UNK] [UNK] mg [UNK] l . [SEP] [PAD] [PAD] [PAD] [PAD] [PAD] [PAD] [PAD] [PAD] [PAD] [PAD] [PAD] [PAD] [PAD] [PAD] [PAD] [PAD] [PAD] [PAD] [PAD] [PAD] [PAD] [PAD] [PAD] [PAD] [PAD] [PAD] [PAD] [PAD] [PAD] [PAD] [PAD] [PAD] [PAD] [PAD] [PAD] [PAD] \n",
      "\n",
      "[CLS] El sistemático de orina al ingreso presentó nit ##ritos negativos y en el sedi ##mento 25 - 50 hem ##at ##íes [UNK] campo y 2 - 5 le ##uco ##citos . [SEP] [PAD] [PAD] [PAD] [PAD] [PAD] [PAD] [PAD] [PAD] [PAD] [PAD] [PAD] [PAD] [PAD] [PAD] [PAD] [PAD] [PAD] [PAD] [PAD] [PAD] [PAD] [PAD] [PAD] [PAD] [PAD] [PAD] [PAD] [PAD] [PAD] [PAD] [PAD] [PAD] [PAD] [PAD] [PAD] [PAD] [PAD] [PAD] [PAD] [PAD] [PAD] [PAD] [PAD] [PAD] [PAD] [PAD] [PAD] [PAD] [PAD] [PAD] [PAD] [PAD] [PAD] [PAD] [PAD] [PAD] [PAD] [PAD] [PAD] [PAD] [PAD] [PAD] [PAD] [PAD] [PAD] [PAD] [PAD] [PAD] [PAD] [PAD] [PAD] [PAD] [PAD] [PAD] [PAD] [PAD] [PAD] [PAD] [PAD] [PAD] [PAD] [PAD] [PAD] [PAD] [PAD] [PAD] [PAD] [PAD] [PAD] [PAD] [PAD] [PAD] [PAD] [PAD] [PAD] \n",
      "\n",
      "[CLS] En la radio ##grafía de tó ##ra ##x se observaron los nó ##dulo ##s pulmonar ##es ya conocidos sin objetiva ##rs ##e otros hallazgos relevantes . [SEP] [PAD] [PAD] [PAD] [PAD] [PAD] [PAD] [PAD] [PAD] [PAD] [PAD] [PAD] [PAD] [PAD] [PAD] [PAD] [PAD] [PAD] [PAD] [PAD] [PAD] [PAD] [PAD] [PAD] [PAD] [PAD] [PAD] [PAD] [PAD] [PAD] [PAD] [PAD] [PAD] [PAD] [PAD] [PAD] [PAD] [PAD] [PAD] [PAD] [PAD] [PAD] [PAD] [PAD] [PAD] [PAD] [PAD] [PAD] [PAD] [PAD] [PAD] [PAD] [PAD] [PAD] [PAD] [PAD] [PAD] [PAD] [PAD] [PAD] [PAD] [PAD] [PAD] [PAD] [PAD] [PAD] [PAD] [PAD] [PAD] [PAD] [PAD] [PAD] [PAD] [PAD] [PAD] [PAD] [PAD] [PAD] [PAD] [PAD] [PAD] [PAD] [PAD] [PAD] [PAD] [PAD] [PAD] [PAD] [PAD] [PAD] [PAD] [PAD] [PAD] [PAD] [PAD] [PAD] [PAD] [PAD] [PAD] [PAD] [PAD] \n",
      "\n",
      "[CLS] Dia ##gn ##óstico [UNK] Car ##cino ##ma renal estadio IV en tratamiento con sun ##iti ##ni ##b . [SEP] [PAD] [PAD] [PAD] [PAD] [PAD] [PAD] [PAD] [PAD] [PAD] [PAD] [PAD] [PAD] [PAD] [PAD] [PAD] [PAD] [PAD] [PAD] [PAD] [PAD] [PAD] [PAD] [PAD] [PAD] [PAD] [PAD] [PAD] [PAD] [PAD] [PAD] [PAD] [PAD] [PAD] [PAD] [PAD] [PAD] [PAD] [PAD] [PAD] [PAD] [PAD] [PAD] [PAD] [PAD] [PAD] [PAD] [PAD] [PAD] [PAD] [PAD] [PAD] [PAD] [PAD] [PAD] [PAD] [PAD] [PAD] [PAD] [PAD] [PAD] [PAD] [PAD] [PAD] [PAD] [PAD] [PAD] [PAD] [PAD] [PAD] [PAD] [PAD] [PAD] [PAD] [PAD] [PAD] [PAD] [PAD] [PAD] [PAD] [PAD] [PAD] [PAD] [PAD] [PAD] [PAD] [PAD] [PAD] [PAD] [PAD] [PAD] [PAD] [PAD] [PAD] [PAD] [PAD] [PAD] [PAD] [PAD] [PAD] [PAD] [PAD] [PAD] [PAD] [PAD] [PAD] [PAD] [PAD] [PAD] \n",
      "\n",
      "[CLS] [UNK] Tro ##mbo ##cito ##pen ##ia grado 4 secundaria a tratamiento anti ##ang ##io ##gén ##ico . [SEP] [PAD] [PAD] [PAD] [PAD] [PAD] [PAD] [PAD] [PAD] [PAD] [PAD] [PAD] [PAD] [PAD] [PAD] [PAD] [PAD] [PAD] [PAD] [PAD] [PAD] [PAD] [PAD] [PAD] [PAD] [PAD] [PAD] [PAD] [PAD] [PAD] [PAD] [PAD] [PAD] [PAD] [PAD] [PAD] [PAD] [PAD] [PAD] [PAD] [PAD] [PAD] [PAD] [PAD] [PAD] [PAD] [PAD] [PAD] [PAD] [PAD] [PAD] [PAD] [PAD] [PAD] [PAD] [PAD] [PAD] [PAD] [PAD] [PAD] [PAD] [PAD] [PAD] [PAD] [PAD] [PAD] [PAD] [PAD] [PAD] [PAD] [PAD] [PAD] [PAD] [PAD] [PAD] [PAD] [PAD] [PAD] [PAD] [PAD] [PAD] [PAD] [PAD] [PAD] [PAD] [PAD] [PAD] [PAD] [PAD] [PAD] [PAD] [PAD] [PAD] [PAD] [PAD] [PAD] [PAD] [PAD] [PAD] [PAD] [PAD] [PAD] [PAD] [PAD] [PAD] [PAD] [PAD] [PAD] [PAD] [PAD] \n",
      "\n",
      "[CLS] [UNK] Hem ##at ##uria secundaria a trom ##bo ##cito ##pen ##ia . [SEP] [PAD] [PAD] [PAD] [PAD] [PAD] [PAD] [PAD] [PAD] [PAD] [PAD] [PAD] [PAD] [PAD] [PAD] [PAD] [PAD] [PAD] [PAD] [PAD] [PAD] [PAD] [PAD] [PAD] [PAD] [PAD] [PAD] [PAD] [PAD] [PAD] [PAD] [PAD] [PAD] [PAD] [PAD] [PAD] [PAD] [PAD] [PAD] [PAD] [PAD] [PAD] [PAD] [PAD] [PAD] [PAD] [PAD] [PAD] [PAD] [PAD] [PAD] [PAD] [PAD] [PAD] [PAD] [PAD] [PAD] [PAD] [PAD] [PAD] [PAD] [PAD] [PAD] [PAD] [PAD] [PAD] [PAD] [PAD] [PAD] [PAD] [PAD] [PAD] [PAD] [PAD] [PAD] [PAD] [PAD] [PAD] [PAD] [PAD] [PAD] [PAD] [PAD] [PAD] [PAD] [PAD] [PAD] [PAD] [PAD] [PAD] [PAD] [PAD] [PAD] [PAD] [PAD] [PAD] [PAD] [PAD] [PAD] [PAD] [PAD] [PAD] [PAD] [PAD] [PAD] [PAD] [PAD] [PAD] [PAD] [PAD] [PAD] [PAD] [PAD] [PAD] [PAD] \n",
      "\n",
      "[CLS] Tratamiento Ante la hem ##at ##uria fran ##ca se colocó sonda ves ##ical para la realización de lavado ves ##ical continuo , se pa ##utó ácido tran ##ex ##ámico 0 , 5 ##g [UNK] 8 h y se tras ##fun ##dió un concentrado de pla ##quetas , presentando leve mejor ##ía clínica y analí ##tica . [SEP] [PAD] [PAD] [PAD] [PAD] [PAD] [PAD] [PAD] [PAD] [PAD] [PAD] [PAD] [PAD] [PAD] [PAD] [PAD] [PAD] [PAD] [PAD] [PAD] [PAD] [PAD] [PAD] [PAD] [PAD] [PAD] [PAD] [PAD] [PAD] [PAD] [PAD] [PAD] [PAD] [PAD] [PAD] [PAD] [PAD] [PAD] [PAD] [PAD] [PAD] [PAD] [PAD] [PAD] [PAD] [PAD] [PAD] [PAD] [PAD] [PAD] [PAD] [PAD] [PAD] [PAD] [PAD] [PAD] [PAD] [PAD] [PAD] [PAD] [PAD] [PAD] [PAD] [PAD] [PAD] [PAD] [PAD] [PAD] [PAD] [PAD] [PAD] \n",
      "\n",
      "[CLS] Durante el ingreso se realizaron hemo ##gramas diarios , obje ##tiv ##ándose disminución progresiva de la cifra de pla ##quetas , por lo que se añadió cor ##tico ##terapia a dosis bajas ( metil ##pre ##dn ##iso ##lon ##a 20 mg [UNK] 12 h ) , sin conseguir aumentar dicho parámetro analí ##tico . [SEP] [PAD] [PAD] [PAD] [PAD] [PAD] [PAD] [PAD] [PAD] [PAD] [PAD] [PAD] [PAD] [PAD] [PAD] [PAD] [PAD] [PAD] [PAD] [PAD] [PAD] [PAD] [PAD] [PAD] [PAD] [PAD] [PAD] [PAD] [PAD] [PAD] [PAD] [PAD] [PAD] [PAD] [PAD] [PAD] [PAD] [PAD] [PAD] [PAD] [PAD] [PAD] [PAD] [PAD] [PAD] [PAD] [PAD] [PAD] [PAD] [PAD] [PAD] [PAD] [PAD] [PAD] [PAD] [PAD] [PAD] [PAD] [PAD] [PAD] [PAD] [PAD] [PAD] [PAD] [PAD] [PAD] [PAD] [PAD] [PAD] [PAD] [PAD] [PAD] [PAD] \n",
      "\n",
      "[CLS] Pese al tratamiento pa ##uta ##do , la paciente continuó con hem ##at ##uria , y un recuento pla ##queta ##rio de 6 . 000 [UNK] m ##cl , por lo que se solicitó la realización de un fro ##tis perif ##érico [UNK] se comprob ##ó dicha cifra y se descar ##taron esqui ##sto ##citos u otras alteraciones mor ##fol ##óg ##icas . [SEP] [PAD] [PAD] [PAD] [PAD] [PAD] [PAD] [PAD] [PAD] [PAD] [PAD] [PAD] [PAD] [PAD] [PAD] [PAD] [PAD] [PAD] [PAD] [PAD] [PAD] [PAD] [PAD] [PAD] [PAD] [PAD] [PAD] [PAD] [PAD] [PAD] [PAD] [PAD] [PAD] [PAD] [PAD] [PAD] [PAD] [PAD] [PAD] [PAD] [PAD] [PAD] [PAD] [PAD] [PAD] [PAD] [PAD] [PAD] [PAD] [PAD] [PAD] [PAD] [PAD] [PAD] [PAD] [PAD] [PAD] [PAD] [PAD] [PAD] [PAD] [PAD] [PAD] [PAD] \n",
      "\n",
      "[CLS] De acuerdo con Hem ##ato ##logía , se aumentaron los cor ##tico ##ides a dosis de 1 mg [UNK] [UNK] ##g [UNK] día y se pa ##utó inmun ##o ##glo ##bul ##ina intravenosa ( 1 g [UNK] [UNK] ##g durante 48 horas ) . [SEP] [PAD] [PAD] [PAD] [PAD] [PAD] [PAD] [PAD] [PAD] [PAD] [PAD] [PAD] [PAD] [PAD] [PAD] [PAD] [PAD] [PAD] [PAD] [PAD] [PAD] [PAD] [PAD] [PAD] [PAD] [PAD] [PAD] [PAD] [PAD] [PAD] [PAD] [PAD] [PAD] [PAD] [PAD] [PAD] [PAD] [PAD] [PAD] [PAD] [PAD] [PAD] [PAD] [PAD] [PAD] [PAD] [PAD] [PAD] [PAD] [PAD] [PAD] [PAD] [PAD] [PAD] [PAD] [PAD] [PAD] [PAD] [PAD] [PAD] [PAD] [PAD] [PAD] [PAD] [PAD] [PAD] [PAD] [PAD] [PAD] [PAD] [PAD] [PAD] [PAD] [PAD] [PAD] [PAD] [PAD] [PAD] [PAD] [PAD] [PAD] [PAD] [PAD] \n",
      "\n",
      "[CLS] A partir de este tratamiento , fueron ascen ##diendo las cifras de pla ##quetas progresivamente , hasta presentar al alta 41 . 000 [UNK] m ##cl . [SEP] [PAD] [PAD] [PAD] [PAD] [PAD] [PAD] [PAD] [PAD] [PAD] [PAD] [PAD] [PAD] [PAD] [PAD] [PAD] [PAD] [PAD] [PAD] [PAD] [PAD] [PAD] [PAD] [PAD] [PAD] [PAD] [PAD] [PAD] [PAD] [PAD] [PAD] [PAD] [PAD] [PAD] [PAD] [PAD] [PAD] [PAD] [PAD] [PAD] [PAD] [PAD] [PAD] [PAD] [PAD] [PAD] [PAD] [PAD] [PAD] [PAD] [PAD] [PAD] [PAD] [PAD] [PAD] [PAD] [PAD] [PAD] [PAD] [PAD] [PAD] [PAD] [PAD] [PAD] [PAD] [PAD] [PAD] [PAD] [PAD] [PAD] [PAD] [PAD] [PAD] [PAD] [PAD] [PAD] [PAD] [PAD] [PAD] [PAD] [PAD] [PAD] [PAD] [PAD] [PAD] [PAD] [PAD] [PAD] [PAD] [PAD] [PAD] [PAD] [PAD] [PAD] [PAD] [PAD] [PAD] [PAD] [PAD] [PAD] \n",
      "\n",
      "[CLS] A lo largo del ingreso , fue precisa la tras ##fusión de seis concentrado ##s de pla ##quetas . [SEP] [PAD] [PAD] [PAD] [PAD] [PAD] [PAD] [PAD] [PAD] [PAD] [PAD] [PAD] [PAD] [PAD] [PAD] [PAD] [PAD] [PAD] [PAD] [PAD] [PAD] [PAD] [PAD] [PAD] [PAD] [PAD] [PAD] [PAD] [PAD] [PAD] [PAD] [PAD] [PAD] [PAD] [PAD] [PAD] [PAD] [PAD] [PAD] [PAD] [PAD] [PAD] [PAD] [PAD] [PAD] [PAD] [PAD] [PAD] [PAD] [PAD] [PAD] [PAD] [PAD] [PAD] [PAD] [PAD] [PAD] [PAD] [PAD] [PAD] [PAD] [PAD] [PAD] [PAD] [PAD] [PAD] [PAD] [PAD] [PAD] [PAD] [PAD] [PAD] [PAD] [PAD] [PAD] [PAD] [PAD] [PAD] [PAD] [PAD] [PAD] [PAD] [PAD] [PAD] [PAD] [PAD] [PAD] [PAD] [PAD] [PAD] [PAD] [PAD] [PAD] [PAD] [PAD] [PAD] [PAD] [PAD] [PAD] [PAD] [PAD] [PAD] [PAD] [PAD] [PAD] [PAD] [PAD] [PAD] \n",
      "\n",
      "[CLS] Además , como complicaciones , presentó epi ##sta ##xis bilateral que requi ##rió tap ##ona ##miento nas ##al por O ##tor ##rino ##lar ##ingo ##logía , e infección del tra ##cto ur ##inario secundario al sonda ##je ves ##ical . [SEP] [PAD] [PAD] [PAD] [PAD] [PAD] [PAD] [PAD] [PAD] [PAD] [PAD] [PAD] [PAD] [PAD] [PAD] [PAD] [PAD] [PAD] [PAD] [PAD] [PAD] [PAD] [PAD] [PAD] [PAD] [PAD] [PAD] [PAD] [PAD] [PAD] [PAD] [PAD] [PAD] [PAD] [PAD] [PAD] [PAD] [PAD] [PAD] [PAD] [PAD] [PAD] [PAD] [PAD] [PAD] [PAD] [PAD] [PAD] [PAD] [PAD] [PAD] [PAD] [PAD] [PAD] [PAD] [PAD] [PAD] [PAD] [PAD] [PAD] [PAD] [PAD] [PAD] [PAD] [PAD] [PAD] [PAD] [PAD] [PAD] [PAD] [PAD] [PAD] [PAD] [PAD] [PAD] [PAD] [PAD] [PAD] [PAD] [PAD] [PAD] [PAD] [PAD] [PAD] [PAD] [PAD] [PAD] \n",
      "\n",
      "[CLS] En el ur ##oc ##ult ##ivo se ais ##laron más de 100 . 000 UF ##C [UNK] ml de Enter ##oc ##oc ##cus fa ##eca ##lis y de Esc ##her ##ichi ##a col ##i sensibles a nit ##ro ##fur ##anto ##ína , por lo que se realizó tratamiento con dicho antibió ##tico y reca ##mbi ##o de sonda ves ##ical . [SEP] [PAD] [PAD] [PAD] [PAD] [PAD] [PAD] [PAD] [PAD] [PAD] [PAD] [PAD] [PAD] [PAD] [PAD] [PAD] [PAD] [PAD] [PAD] [PAD] [PAD] [PAD] [PAD] [PAD] [PAD] [PAD] [PAD] [PAD] [PAD] [PAD] [PAD] [PAD] [PAD] [PAD] [PAD] [PAD] [PAD] [PAD] [PAD] [PAD] [PAD] [PAD] [PAD] [PAD] [PAD] [PAD] [PAD] [PAD] [PAD] [PAD] [PAD] [PAD] [PAD] [PAD] [PAD] [PAD] [PAD] [PAD] [PAD] [PAD] [PAD] [PAD] [PAD] [PAD] [PAD] [PAD] \n",
      "\n",
      "[CLS] Evolución En el momento del alta hospital ##aria , se decidió retirar definitivamente sun ##iti ##ni ##b y se inició tratamiento con ni ##vol ##uma ##b 3 mg [UNK] [UNK] ##g [UNK] cada 15 días , como segunda línea de enfermedad metas ##tá ##si ##ca . [SEP] [PAD] [PAD] [PAD] [PAD] [PAD] [PAD] [PAD] [PAD] [PAD] [PAD] [PAD] [PAD] [PAD] [PAD] [PAD] [PAD] [PAD] [PAD] [PAD] [PAD] [PAD] [PAD] [PAD] [PAD] [PAD] [PAD] [PAD] [PAD] [PAD] [PAD] [PAD] [PAD] [PAD] [PAD] [PAD] [PAD] [PAD] [PAD] [PAD] [PAD] [PAD] [PAD] [PAD] [PAD] [PAD] [PAD] [PAD] [PAD] [PAD] [PAD] [PAD] [PAD] [PAD] [PAD] [PAD] [PAD] [PAD] [PAD] [PAD] [PAD] [PAD] [PAD] [PAD] [PAD] [PAD] [PAD] [PAD] [PAD] [PAD] [PAD] [PAD] [PAD] [PAD] [PAD] [PAD] [PAD] [PAD] [PAD] [PAD] [PAD] \n",
      "\n",
      "[CLS] En la actualidad , se encuentra en respuesta parcial ( RP ) tras 13 ciclos de dicho anti PD - 1 . [SEP] [PAD] [PAD] [PAD] [PAD] [PAD] [PAD] [PAD] [PAD] [PAD] [PAD] [PAD] [PAD] [PAD] [PAD] [PAD] [PAD] [PAD] [PAD] [PAD] [PAD] [PAD] [PAD] [PAD] [PAD] [PAD] [PAD] [PAD] [PAD] [PAD] [PAD] [PAD] [PAD] [PAD] [PAD] [PAD] [PAD] [PAD] [PAD] [PAD] [PAD] [PAD] [PAD] [PAD] [PAD] [PAD] [PAD] [PAD] [PAD] [PAD] [PAD] [PAD] [PAD] [PAD] [PAD] [PAD] [PAD] [PAD] [PAD] [PAD] [PAD] [PAD] [PAD] [PAD] [PAD] [PAD] [PAD] [PAD] [PAD] [PAD] [PAD] [PAD] [PAD] [PAD] [PAD] [PAD] [PAD] [PAD] [PAD] [PAD] [PAD] [PAD] [PAD] [PAD] [PAD] [PAD] [PAD] [PAD] [PAD] [PAD] [PAD] [PAD] [PAD] [PAD] [PAD] [PAD] [PAD] [PAD] [PAD] [PAD] [PAD] [PAD] [PAD] [PAD] [PAD] \n",
      "\n"
     ]
    }
   ],
   "source": [
    "check_id_frag = sum(train_frag[:check_id])\n",
    "for frag in train_ind[check_id_frag:check_id_frag + train_frag[check_id]]:\n",
    "    print(' '.join([tokenizer._token_dict_inv[ind] for ind in frag]), \"\\n\")"
   ]
  },
  {
   "cell_type": "code",
   "execution_count": 69,
   "metadata": {},
   "outputs": [
    {
     "data": {
      "text/plain": [
       "count    27610.000000\n",
       "mean         0.317168\n",
       "std          0.621769\n",
       "min          0.000000\n",
       "25%          0.000000\n",
       "50%          0.000000\n",
       "75%          1.000000\n",
       "max         10.000000\n",
       "dtype: float64"
      ]
     },
     "execution_count": 69,
     "metadata": {},
     "output_type": "execute_result"
    }
   ],
   "source": [
    "# Fragment labels distribution\n",
    "pd.Series(np.sum(train_y, axis=1)).describe()"
   ]
  },
  {
   "cell_type": "markdown",
   "metadata": {},
   "source": [
    "### Development corpus\n",
    "\n",
    "Only development texts that are annotated with CIE-O codes are considered:"
   ]
  },
  {
   "cell_type": "code",
   "execution_count": 70,
   "metadata": {},
   "outputs": [
    {
     "data": {
      "text/plain": [
       "0"
      ]
     },
     "execution_count": 70,
     "metadata": {},
     "output_type": "execute_result"
    }
   ],
   "source": [
    "# Some dev documents (texts) are not annotated \n",
    "len(set(df_text_dev[\"doc_id\"]) - set(df_codes_dev_ner[\"doc_id\"]))"
   ]
  },
  {
   "cell_type": "code",
   "execution_count": 71,
   "metadata": {},
   "outputs": [],
   "source": [
    "dev_doc_list = sorted(set(df_codes_dev_ner[\"doc_id\"]))"
   ]
  },
  {
   "cell_type": "code",
   "execution_count": 72,
   "metadata": {},
   "outputs": [
    {
     "data": {
      "text/plain": [
       "250"
      ]
     },
     "execution_count": 72,
     "metadata": {},
     "output_type": "execute_result"
    }
   ],
   "source": [
    "len(dev_doc_list)"
   ]
  },
  {
   "cell_type": "code",
   "execution_count": 73,
   "metadata": {},
   "outputs": [
    {
     "name": "stdout",
     "output_type": "stream",
     "text": [
      "CPU times: user 14.7 ms, sys: 7 µs, total: 14.7 ms\n",
      "Wall time: 13.9 ms\n"
     ]
    }
   ],
   "source": [
    "%%time\n",
    "ss_sub_corpus_path = ss_corpus_path + \"development/\"\n",
    "ss_files = [f for f in os.listdir(ss_sub_corpus_path) if os.path.isfile(ss_sub_corpus_path + f)]\n",
    "ss_dict_dev = load_ss_files(ss_files, ss_sub_corpus_path)"
   ]
  },
  {
   "cell_type": "code",
   "execution_count": 74,
   "metadata": {},
   "outputs": [
    {
     "name": "stderr",
     "output_type": "stream",
     "text": [
      "100%|██████████| 250/250 [00:13<00:00, 18.79it/s]\n"
     ]
    },
    {
     "name": "stdout",
     "output_type": "stream",
     "text": [
      "CPU times: user 13.4 s, sys: 32 ms, total: 13.5 s\n",
      "Wall time: 13.4 s\n"
     ]
    }
   ],
   "source": [
    "%%time\n",
    "dev_ind, dev_seg, dev_y, dev_frag, dev_start_end_frag = ss_create_frag_input_data_bert(df_text=df_text_dev, \n",
    "                                                  text_col=text_col, \n",
    "                                                  df_ann=df_codes_dev_ner, doc_list=dev_doc_list, ss_dict=ss_dict_dev,\n",
    "                                                  tokenizer=tokenizer, lab_encoder=mlb_encoder, seq_len=SEQ_LEN,\n",
    "                                                  greedy=False)"
   ]
  },
  {
   "cell_type": "code",
   "execution_count": 76,
   "metadata": {},
   "outputs": [],
   "source": [
    "# Sanity check"
   ]
  },
  {
   "cell_type": "code",
   "execution_count": 75,
   "metadata": {},
   "outputs": [
    {
     "data": {
      "text/plain": [
       "(8298, 128)"
      ]
     },
     "execution_count": 75,
     "metadata": {},
     "output_type": "execute_result"
    }
   ],
   "source": [
    "dev_ind.shape"
   ]
  },
  {
   "cell_type": "code",
   "execution_count": 76,
   "metadata": {},
   "outputs": [
    {
     "data": {
      "text/plain": [
       "(8298, 128)"
      ]
     },
     "execution_count": 76,
     "metadata": {},
     "output_type": "execute_result"
    }
   ],
   "source": [
    "dev_seg.shape"
   ]
  },
  {
   "cell_type": "code",
   "execution_count": 77,
   "metadata": {},
   "outputs": [
    {
     "data": {
      "text/plain": [
       "(8298, 743)"
      ]
     },
     "execution_count": 77,
     "metadata": {},
     "output_type": "execute_result"
    }
   ],
   "source": [
    "dev_y.shape"
   ]
  },
  {
   "cell_type": "code",
   "execution_count": 78,
   "metadata": {},
   "outputs": [
    {
     "data": {
      "text/plain": [
       "250"
      ]
     },
     "execution_count": 78,
     "metadata": {},
     "output_type": "execute_result"
    }
   ],
   "source": [
    "len(dev_frag)"
   ]
  },
  {
   "cell_type": "code",
   "execution_count": 79,
   "metadata": {},
   "outputs": [
    {
     "data": {
      "text/plain": [
       "8298"
      ]
     },
     "execution_count": 79,
     "metadata": {},
     "output_type": "execute_result"
    }
   ],
   "source": [
    "len(dev_start_end_frag)"
   ]
  },
  {
   "cell_type": "code",
   "execution_count": 80,
   "metadata": {},
   "outputs": [
    {
     "data": {
      "text/plain": [
       "count    250.00000\n",
       "mean      33.19200\n",
       "std       16.26275\n",
       "min       10.00000\n",
       "25%       22.25000\n",
       "50%       30.00000\n",
       "75%       39.00000\n",
       "max      173.00000\n",
       "dtype: float64"
      ]
     },
     "execution_count": 80,
     "metadata": {},
     "output_type": "execute_result"
    }
   ],
   "source": [
    "# Check n_frag distribution across texts\n",
    "pd.Series(dev_frag).describe()"
   ]
  },
  {
   "cell_type": "code",
   "execution_count": 81,
   "metadata": {},
   "outputs": [],
   "source": [
    "# Inspect a randomly selected text and its encoded version\n",
    "check_id = np.random.randint(low=0, high=len(dev_doc_list), size=1)[0]"
   ]
  },
  {
   "cell_type": "code",
   "execution_count": 82,
   "metadata": {},
   "outputs": [
    {
     "data": {
      "text/plain": [
       "94"
      ]
     },
     "execution_count": 82,
     "metadata": {},
     "output_type": "execute_result"
    }
   ],
   "source": [
    "check_id"
   ]
  },
  {
   "cell_type": "code",
   "execution_count": 83,
   "metadata": {},
   "outputs": [
    {
     "data": {
      "text/plain": [
       "'cc_onco1183'"
      ]
     },
     "execution_count": 83,
     "metadata": {},
     "output_type": "execute_result"
    }
   ],
   "source": [
    "dev_doc_list[check_id]"
   ]
  },
  {
   "cell_type": "code",
   "execution_count": 84,
   "metadata": {
    "scrolled": true
   },
   "outputs": [
    {
     "data": {
      "text/plain": [
       "'Anamnesis\\nVarón de 48 años que acude en agosto de 2012 tras la realización de amputación en hallux derecho a la primera valoración por Oncología Médica.\\nAntecedentes: no alérgicos. Patológicos: diabético hace 3 años sin tratamiento. HTA en tratamiento. Enolismo crónico.\\nTrastorno afectivo bipolar. Quirúrgicos: apendicectomizado.\\nEnfermedad actual: desde hace 2 años presentaba una lesión hiperpigmentada en el hallux del pie derecho, que ocasionalmente sangraba.\\n\\nExamen físico\\nMuñón de hallux derecho en buen estado, presencia de adenopatías inguinales derechas. Resto de exploración sin alteraciones.\\n\\nPruebas complementarias\\n- Biopsia cutánea: melanoma ulcerado.\\n- AP de resección de melanoma: melanoma lentiginoso acral en fase de crecimiento vertical, ulcerado. Clark IV. Breslow 6,8 mm, sin infiltración linfovascular.\\n- TC de tórax-abdomen-pelvis: sin signos concluyentes de extensión tóraco-abdómino-pélvica de melanoma.\\nMicronódulos en el lóbulo superior derecho a valorar en controles sucesivos.\\n- Se realiza linfadenectomía inguinal electiva en octubre de 2012.\\n- AP: metástasis de melanoma en 4 de los 13 ganglios aislados.\\n\\nDiagnóstico\\nMelanoma lentiginoso acral en fase de crecimiento vertical ulcerado Clarck IV Breslow6,8 mm pT4b N2a M0 estadio IIIB.\\n\\nTratamiento\\nEn enero de 2013 inicia tratamiento adyuvante con interferón a altas dosis según el esquema Kirkwood, este se basa en el estudio ECOG 1684: interferón alfa-2b 20 millones de unidades i.v. x 20 días, seguido de 10 millones de unidades s.c. 3 veces a la semana durante 48 semanas. El paciente tuvo buena tolerancia a la fase de inducción y a la fase de mantenimiento.\\nEn agosto de 2013 se detecta un nódulo subcutáneo de 1,5 cm en la zona de la cicatriz del hallux derecho y también una lesión en la cara interna de la pierna derecha de 0,5 cm. Se considera recidiva intratratamiento, por lo que se interviene, realizándose exéresis local y ampliación de márgenes.\\nAP: melanoma de 2,4 x 0,7 x 0,8 cm con afectación del margen de resección.\\nSe decide enviar a Oncología Radioterápica por margen afecto.\\n\\nEvolución\\nDe septiembre a octubre de 2013 recibe tratamiento radioterápico \"adyuvante\": PTV en la lesión guiada por cicatriz en el pie derecho más 3 cm de margen, fraccionamiento 2,5 Gy en 24 fracciones hasta adminsitrar una dosis total de 60 Gy.\\nEn noviembre de 2013 presenta progresión cutánea con 4 lesiones hipercrómicas localizadas en el muslo derecho. No hay datos de afectación tóraco-abdominal a distancia.\\nEntre tanto, se realiza determinación del estado mutacional de B-RAF, el cual es nativo.\\nA la progresión cutánea se propone tratamiento con DTIC (1.000 mg/m2 cada 21 días), administrando un primer ciclo en diciembre de 2013. En enero de 2014 acude a consulta con un cuadro de ictericia mucocutánea y coluria. Se detecta bilirrubina total de 7,7 mg/dl, bilirrubina directa de 5,9 mg/dl. ALT 2.022 UI/l, AST 840 UI/l. Se realizan una ecografía hepatobiliar, con resultado normal, y serología de virus de hepatitis, con resultado de perfil de hepatitis B aguda. Se remite al Servicio de Aparato Digestivo, quienes realizan tratamiento conservador, observándose en semanas posteriores un descenso marcado en los valores de bilirrubina, ALT y AST hasta la completa normalidad.\\nEntre tanto, presenta crecimiento de numerosas lesiones subcutáneas distribuidas en la cara anterior e interna del muslo derecho sin datos de afectación a distancia en la TC. Se considera metástasis en tránsito de melanoma, por lo que en marzo de 2014 inicia la administración de interleucina-2 intralesional. Se aplica 1 ml en cada una de las lesiones subcutáneas, cubriendo un total de 20 lesiones por cada ciclo administrado cada 14 días, sin presentar efectos secundarios sistémicos, salvo dolor EVA 3 en los puntos de instilación, que mejoraba con el paracetamol. Con este tratamiento completa 5 ciclos hasta el mayo de 2014, presentando desaparición de la mayoría de las lesiones, persistiendo algunas de localización central.\\nEl 30 de mayo de 2014 acude con una TC de reevaluación, objetivándose progresión inguinal izquierda y una adenopatía en la cadena iliaca externa derecha de 3,3 x 2,3 cm compatible con progresión. Se ha propuesto una nueva línea de tratamiento con ipilimumab, pendiente de iniciar.'"
      ]
     },
     "execution_count": 84,
     "metadata": {},
     "output_type": "execute_result"
    }
   ],
   "source": [
    "df_text_dev[df_text_dev[\"doc_id\"] == dev_doc_list[check_id]][text_col].values[0]"
   ]
  },
  {
   "cell_type": "code",
   "execution_count": 85,
   "metadata": {},
   "outputs": [
    {
     "name": "stdout",
     "output_type": "stream",
     "text": [
      "[()] \n",
      "\n",
      "[()] \n",
      "\n",
      "[()] \n",
      "\n",
      "[()] \n",
      "\n",
      "[()] \n",
      "\n",
      "[()] \n",
      "\n",
      "[()] \n",
      "\n",
      "[()] \n",
      "\n",
      "[()] \n",
      "\n",
      "[()] \n",
      "\n",
      "[('8720/3',)] \n",
      "\n",
      "[('8720/3', '8744/3')] \n",
      "\n",
      "[()] \n",
      "\n",
      "[()] \n",
      "\n",
      "[('8720/3',)] \n",
      "\n",
      "[()] \n",
      "\n",
      "[()] \n",
      "\n",
      "[('8720/6',)] \n",
      "\n",
      "[('8000/6', '8744/3')] \n",
      "\n",
      "[()] \n",
      "\n",
      "[()] \n",
      "\n",
      "[()] \n",
      "\n",
      "[()] \n",
      "\n",
      "[('8720/3',)] \n",
      "\n",
      "[()] \n",
      "\n",
      "[()] \n",
      "\n",
      "[()] \n",
      "\n",
      "[()] \n",
      "\n",
      "[()] \n",
      "\n",
      "[()] \n",
      "\n",
      "[()] \n",
      "\n",
      "[()] \n",
      "\n",
      "[()] \n",
      "\n",
      "[()] \n",
      "\n",
      "[()] \n",
      "\n",
      "[('8000/6',)] \n",
      "\n",
      "[('8000/6', '8720/3')] \n",
      "\n",
      "[('8000/6',)] \n",
      "\n",
      "[()] \n",
      "\n",
      "[('8000/6',)] \n",
      "\n",
      "[()] \n",
      "\n"
     ]
    }
   ],
   "source": [
    "check_id_frag = sum(dev_frag[:check_id])\n",
    "for i in range(check_id_frag, check_id_frag + dev_frag[check_id]):\n",
    "    print(mlb_encoder.inverse_transform(np.array([dev_y[i]])), \"\\n\")"
   ]
  },
  {
   "cell_type": "code",
   "execution_count": 86,
   "metadata": {},
   "outputs": [
    {
     "name": "stdout",
     "output_type": "stream",
     "text": [
      "[('Ana', (0, 3)), ('##mne', (3, 6)), ('##sis', (6, 9)), ('Var', (10, 13)), ('##ón', (13, 15)), ('de', (16, 18)), ('48', (19, 21)), ('años', (22, 26)), ('que', (27, 30)), ('acu', (31, 34)), ('##de', (34, 36)), ('en', (37, 39)), ('agosto', (40, 46)), ('de', (47, 49)), ('2012', (50, 54)), ('tras', (55, 59)), ('la', (60, 62)), ('realización', (63, 74)), ('de', (75, 77)), ('amp', (78, 81)), ('##uta', (81, 84)), ('##ción', (84, 88)), ('en', (89, 91)), ('hall', (92, 96)), ('##ux', (96, 98)), ('derecho', (99, 106)), ('a', (107, 108)), ('la', (109, 111)), ('primera', (112, 119)), ('valoración', (120, 130)), ('por', (131, 134)), ('On', (135, 137)), ('##col', (137, 140)), ('##o', (140, 141)), ('##gía', (141, 144)), ('Mé', (145, 147)), ('##dica', (147, 151)), ('.', (151, 152))]\n",
      "\n",
      "\n",
      "[('Ante', (153, 157)), ('##cede', (157, 161)), ('##n', (161, 162)), ('##tes', (162, 165)), (':', (165, 166)), ('no', (167, 169)), ('alér', (170, 174)), ('##gicos', (174, 179)), ('.', (179, 180))]\n",
      "\n",
      "\n",
      "[('Pat', (181, 184)), ('##ológicos', (184, 192)), (':', (192, 193)), ('diab', (194, 198)), ('##ético', (198, 203)), ('hace', (204, 208)), ('3', (209, 210)), ('años', (211, 215)), ('sin', (216, 219)), ('tratamiento', (220, 231)), ('.', (231, 232))]\n",
      "\n",
      "\n",
      "[('H', (233, 234)), ('##TA', (234, 236)), ('en', (237, 239)), ('tratamiento', (240, 251)), ('.', (251, 252))]\n",
      "\n",
      "\n",
      "[('En', (253, 255)), ('##oli', (255, 258)), ('##smo', (258, 261)), ('cr', (262, 264)), ('##ónico', (264, 269)), ('.', (269, 270))]\n",
      "\n",
      "\n",
      "[('Tras', (271, 275)), ('##torno', (275, 280)), ('afec', (281, 285)), ('##tivo', (285, 289)), ('bi', (290, 292)), ('##pol', (292, 295)), ('##ar', (295, 297)), ('.', (297, 298))]\n",
      "\n",
      "\n",
      "[('Qui', (299, 302)), ('##rúr', (302, 305)), ('##gicos', (305, 310)), (':', (310, 311)), ('ape', (312, 315)), ('##ndice', (315, 320)), ('##cto', (320, 323)), ('##mi', (323, 325)), ('##zado', (325, 329)), ('.', (329, 330))]\n",
      "\n",
      "\n",
      "[('Enferme', (331, 338)), ('##dad', (338, 341)), ('actual', (342, 348)), (':', (348, 349)), ('desde', (350, 355)), ('hace', (356, 360)), ('2', (361, 362)), ('años', (363, 367)), ('presentaba', (368, 378)), ('una', (379, 382)), ('lesión', (383, 389)), ('hiper', (390, 395)), ('##pi', (395, 397)), ('##g', (397, 398)), ('##menta', (398, 403)), ('##da', (403, 405)), ('en', (406, 408)), ('el', (409, 411)), ('hall', (412, 416)), ('##ux', (416, 418)), ('del', (419, 422)), ('pie', (423, 426)), ('derecho', (427, 434)), (',', (434, 435)), ('que', (436, 439)), ('ocasionalmente', (440, 454)), ('san', (455, 458)), ('##gra', (458, 461)), ('##ba', (461, 463)), ('.', (463, 464))]\n",
      "\n",
      "\n",
      "[('Examen', (466, 472)), ('físico', (473, 479)), ('Mu', (480, 482)), ('##ñón', (482, 485)), ('de', (486, 488)), ('hall', (489, 493)), ('##ux', (493, 495)), ('derecho', (496, 503)), ('en', (504, 506)), ('buen', (507, 511)), ('estado', (512, 518)), (',', (518, 519)), ('presencia', (520, 529)), ('de', (530, 532)), ('aden', (533, 537)), ('##op', (537, 539)), ('##atía', (539, 543)), ('##s', (543, 544)), ('ing', (545, 548)), ('##ui', (548, 550)), ('##nal', (550, 553)), ('##es', (553, 555)), ('derecha', (556, 563)), ('##s', (563, 564)), ('.', (564, 565))]\n",
      "\n",
      "\n",
      "[('Res', (566, 569)), ('##to', (569, 571)), ('de', (572, 574)), ('exploración', (575, 586)), ('sin', (587, 590)), ('alteraciones', (591, 603)), ('.', (603, 604))]\n",
      "\n",
      "\n",
      "[('Prueba', (606, 612)), ('##s', (612, 613)), ('complementarias', (614, 629)), ('-', (630, 631)), ('Bio', (632, 635)), ('##psia', (635, 639)), ('cu', (640, 642)), ('##tánea', (642, 647)), (':', (647, 648)), ('melan', (649, 654)), ('##oma', (654, 657)), ('ul', (658, 660)), ('##cera', (660, 664)), ('##do', (664, 666)), ('.', (666, 667))]\n",
      "\n",
      "\n",
      "[('-', (668, 669)), ('AP', (670, 672)), ('de', (673, 675)), ('rese', (676, 680)), ('##cción', (680, 685)), ('de', (686, 688)), ('melan', (689, 694)), ('##oma', (694, 697)), (':', (697, 698)), ('melan', (699, 704)), ('##oma', (704, 707)), ('len', (708, 711)), ('##ti', (711, 713)), ('##gin', (713, 716)), ('##oso', (716, 719)), ('ac', (720, 722)), ('##ral', (722, 725)), ('en', (726, 728)), ('fase', (729, 733)), ('de', (734, 736)), ('crecimiento', (737, 748)), ('vertical', (749, 757)), (',', (757, 758)), ('ul', (759, 761)), ('##cera', (761, 765)), ('##do', (765, 767)), ('.', (767, 768))]\n",
      "\n",
      "\n",
      "[('Clar', (769, 773)), ('[UNK]', (773, 774)), ('IV', (775, 777)), ('.', (777, 778))]\n",
      "\n",
      "\n",
      "[('Bre', (779, 782)), ('##s', (782, 783)), ('##lo', (783, 785)), ('[UNK]', (785, 786)), ('6', (787, 788)), (',', (788, 789)), ('8', (789, 790)), ('mm', (791, 793)), (',', (793, 794)), ('sin', (795, 798)), ('infil', (799, 804)), ('##tración', (804, 811)), ('linf', (812, 816)), ('##ova', (816, 819)), ('##s', (819, 820)), ('##cular', (820, 825)), ('.', (825, 826))]\n",
      "\n",
      "\n",
      "[('-', (827, 828)), ('TC', (829, 831)), ('de', (832, 834)), ('tó', (835, 837)), ('##ra', (837, 839)), ('##x', (839, 840)), ('-', (840, 841)), ('abdomen', (841, 848)), ('-', (848, 849)), ('pel', (849, 852)), ('##vis', (852, 855)), (':', (855, 856)), ('sin', (857, 860)), ('signos', (861, 867)), ('concluye', (868, 876)), ('##n', (876, 877)), ('##tes', (877, 880)), ('de', (881, 883)), ('extensión', (884, 893)), ('tó', (894, 896)), ('##rac', (896, 899)), ('##o', (899, 900)), ('-', (900, 901)), ('ab', (901, 903)), ('##dó', (903, 905)), ('##mino', (905, 909)), ('-', (909, 910)), ('pé', (910, 912)), ('##l', (912, 913)), ('##vic', (913, 916)), ('##a', (916, 917)), ('de', (918, 920)), ('melan', (921, 926)), ('##oma', (926, 929)), ('.', (929, 930))]\n",
      "\n",
      "\n",
      "[('Micro', (931, 936)), ('##n', (936, 937)), ('##ó', (937, 938)), ('##dulo', (938, 942)), ('##s', (942, 943)), ('en', (944, 946)), ('el', (947, 949)), ('ló', (950, 952)), ('##bulo', (952, 956)), ('superior', (957, 965)), ('derecho', (966, 973)), ('a', (974, 975)), ('valorar', (976, 983)), ('en', (984, 986)), ('controles', (987, 996)), ('sucesivos', (997, 1006)), ('.', (1006, 1007))]\n",
      "\n",
      "\n",
      "[('-', (1008, 1009)), ('Se', (1010, 1012)), ('realiza', (1013, 1020)), ('linf', (1021, 1025)), ('##aden', (1025, 1029)), ('##ec', (1029, 1031)), ('##tomía', (1031, 1036)), ('ing', (1037, 1040)), ('##ui', (1040, 1042)), ('##nal', (1042, 1045)), ('elec', (1046, 1050)), ('##tiva', (1050, 1054)), ('en', (1055, 1057)), ('octubre', (1058, 1065)), ('de', (1066, 1068)), ('2012', (1069, 1073)), ('.', (1073, 1074))]\n",
      "\n",
      "\n",
      "[('-', (1075, 1076)), ('AP', (1077, 1079)), (':', (1079, 1080)), ('metá', (1081, 1085)), ('##stas', (1085, 1089)), ('##is', (1089, 1091)), ('de', (1092, 1094)), ('melan', (1095, 1100)), ('##oma', (1100, 1103)), ('en', (1104, 1106)), ('4', (1107, 1108)), ('de', (1109, 1111)), ('los', (1112, 1115)), ('13', (1116, 1118)), ('gan', (1119, 1122)), ('##gli', (1122, 1125)), ('##os', (1125, 1127)), ('aislados', (1128, 1136)), ('.', (1136, 1137))]\n",
      "\n",
      "\n",
      "[('Dia', (1139, 1142)), ('##gn', (1142, 1144)), ('##óstico', (1144, 1150)), ('Mel', (1151, 1154)), ('##ano', (1154, 1157)), ('##ma', (1157, 1159)), ('len', (1160, 1163)), ('##ti', (1163, 1165)), ('##gin', (1165, 1168)), ('##oso', (1168, 1171)), ('ac', (1172, 1174)), ('##ral', (1174, 1177)), ('en', (1178, 1180)), ('fase', (1181, 1185)), ('de', (1186, 1188)), ('crecimiento', (1189, 1200)), ('vertical', (1201, 1209)), ('ul', (1210, 1212)), ('##cera', (1212, 1216)), ('##do', (1216, 1218)), ('Clar', (1219, 1223)), ('##c', (1223, 1224)), ('[UNK]', (1224, 1225)), ('IV', (1226, 1228)), ('Bre', (1229, 1232)), ('##s', (1232, 1233)), ('##lo', (1233, 1235)), ('[UNK]', (1235, 1236)), ('##6', (1236, 1237)), (',', (1237, 1238)), ('8', (1238, 1239)), ('mm', (1240, 1242)), ('p', (1243, 1244)), ('##T', (1244, 1245)), ('##4', (1245, 1246)), ('##b', (1246, 1247)), ('N', (1248, 1249)), ('##2', (1249, 1250)), ('##a', (1250, 1251)), ('M', (1252, 1253)), ('##0', (1253, 1254)), ('estadio', (1255, 1262)), ('III', (1263, 1266)), ('##B', (1266, 1267)), ('.', (1267, 1268))]\n",
      "\n",
      "\n",
      "[('Tratamiento', (1270, 1281)), ('En', (1282, 1284)), ('enero', (1285, 1290)), ('de', (1291, 1293)), ('2013', (1294, 1298)), ('inicia', (1299, 1305)), ('tratamiento', (1306, 1317)), ('ad', (1318, 1320)), ('##yu', (1320, 1322)), ('##van', (1322, 1325)), ('##te', (1325, 1327)), ('con', (1328, 1331)), ('interfer', (1332, 1340)), ('##ón', (1340, 1342)), ('a', (1343, 1344)), ('altas', (1345, 1350)), ('dosis', (1351, 1356)), ('según', (1357, 1362)), ('el', (1363, 1365)), ('esquema', (1366, 1373)), ('[UNK]', (1374, 1375)), ('##ir', (1375, 1377)), ('[UNK]', (1377, 1378)), ('[UNK]', (1378, 1379)), ('##ood', (1379, 1382)), (',', (1382, 1383)), ('este', (1384, 1388)), ('se', (1389, 1391)), ('basa', (1392, 1396)), ('en', (1397, 1399)), ('el', (1400, 1402)), ('estudio', (1403, 1410)), ('EC', (1411, 1413)), ('##OG', (1413, 1415)), ('168', (1416, 1419)), ('##4', (1419, 1420)), (':', (1420, 1421)), ('interfer', (1422, 1430)), ('##ón', (1430, 1432)), ('alfa', (1433, 1437)), ('-', (1437, 1438)), ('2', (1438, 1439)), ('##b', (1439, 1440)), ('20', (1441, 1443)), ('millones', (1444, 1452)), ('de', (1453, 1455)), ('unidades', (1456, 1464)), ('i', (1465, 1466)), ('.', (1466, 1467)), ('v', (1467, 1468)), ('.', (1468, 1469)), ('x', (1470, 1471)), ('20', (1472, 1474)), ('días', (1475, 1479)), (',', (1479, 1480)), ('seguido', (1481, 1488)), ('de', (1489, 1491)), ('10', (1492, 1494)), ('millones', (1495, 1503)), ('de', (1504, 1506)), ('unidades', (1507, 1515)), ('s', (1516, 1517)), ('.', (1517, 1518)), ('c', (1518, 1519)), ('.', (1519, 1520)), ('3', (1521, 1522)), ('veces', (1523, 1528)), ('a', (1529, 1530)), ('la', (1531, 1533)), ('semana', (1534, 1540)), ('durante', (1541, 1548)), ('48', (1549, 1551)), ('semanas', (1552, 1559)), ('.', (1559, 1560))]\n",
      "\n",
      "\n",
      "[('El', (1561, 1563)), ('paciente', (1564, 1572)), ('tuvo', (1573, 1577)), ('buena', (1578, 1583)), ('tolerancia', (1584, 1594)), ('a', (1595, 1596)), ('la', (1597, 1599)), ('fase', (1600, 1604)), ('de', (1605, 1607)), ('indu', (1608, 1612)), ('##cción', (1612, 1617)), ('y', (1618, 1619)), ('a', (1620, 1621)), ('la', (1622, 1624)), ('fase', (1625, 1629)), ('de', (1630, 1632)), ('mantenimiento', (1633, 1646)), ('.', (1646, 1647))]\n",
      "\n",
      "\n",
      "[('En', (1648, 1650)), ('agosto', (1651, 1657)), ('de', (1658, 1660)), ('2013', (1661, 1665)), ('se', (1666, 1668)), ('detec', (1669, 1674)), ('##ta', (1674, 1676)), ('un', (1677, 1679)), ('nó', (1680, 1682)), ('##dulo', (1682, 1686)), ('subcu', (1687, 1692)), ('##táneo', (1692, 1697)), ('de', (1698, 1700)), ('1', (1701, 1702)), (',', (1702, 1703)), ('5', (1703, 1704)), ('cm', (1705, 1707)), ('en', (1708, 1710)), ('la', (1711, 1713)), ('zona', (1714, 1718)), ('de', (1719, 1721)), ('la', (1722, 1724)), ('cicatriz', (1725, 1733)), ('del', (1734, 1737)), ('hall', (1738, 1742)), ('##ux', (1742, 1744)), ('derecho', (1745, 1752)), ('y', (1753, 1754)), ('también', (1755, 1762)), ('una', (1763, 1766)), ('lesión', (1767, 1773)), ('en', (1774, 1776)), ('la', (1777, 1779)), ('cara', (1780, 1784)), ('interna', (1785, 1792)), ('de', (1793, 1795)), ('la', (1796, 1798)), ('pierna', (1799, 1805)), ('derecha', (1806, 1813)), ('de', (1814, 1816)), ('0', (1817, 1818)), (',', (1818, 1819)), ('5', (1819, 1820)), ('cm', (1821, 1823)), ('.', (1823, 1824))]\n",
      "\n",
      "\n",
      "[('Se', (1825, 1827)), ('considera', (1828, 1837)), ('reci', (1838, 1842)), ('##di', (1842, 1844)), ('##va', (1844, 1846)), ('intra', (1847, 1852)), ('##tra', (1852, 1855)), ('##tamiento', (1855, 1863)), (',', (1863, 1864)), ('por', (1865, 1868)), ('lo', (1869, 1871)), ('que', (1872, 1875)), ('se', (1876, 1878)), ('inter', (1879, 1884)), ('##viene', (1884, 1889)), (',', (1889, 1890)), ('realiz', (1891, 1897)), ('##ándose', (1897, 1903)), ('ex', (1904, 1906)), ('##ér', (1906, 1908)), ('##esis', (1908, 1912)), ('local', (1913, 1918)), ('y', (1919, 1920)), ('ampliación', (1921, 1931)), ('de', (1932, 1934)), ('márgenes', (1935, 1943)), ('.', (1943, 1944))]\n",
      "\n",
      "\n",
      "[('AP', (1945, 1947)), (':', (1947, 1948)), ('melan', (1949, 1954)), ('##oma', (1954, 1957)), ('de', (1958, 1960)), ('2', (1961, 1962)), (',', (1962, 1963)), ('4', (1963, 1964)), ('x', (1965, 1966)), ('0', (1967, 1968)), (',', (1968, 1969)), ('[UNK]', (1969, 1970)), ('x', (1971, 1972)), ('0', (1973, 1974)), (',', (1974, 1975)), ('8', (1975, 1976)), ('cm', (1977, 1979)), ('con', (1980, 1983)), ('afecta', (1984, 1990)), ('##ción', (1990, 1994)), ('del', (1995, 1998)), ('margen', (1999, 2005)), ('de', (2006, 2008)), ('rese', (2009, 2013)), ('##cción', (2013, 2018)), ('.', (2018, 2019))]\n",
      "\n",
      "\n",
      "[('Se', (2020, 2022)), ('decide', (2023, 2029)), ('enviar', (2030, 2036)), ('a', (2037, 2038)), ('On', (2039, 2041)), ('##col', (2041, 2044)), ('##o', (2044, 2045)), ('##gía', (2045, 2048)), ('Radio', (2049, 2054)), ('##ter', (2054, 2057)), ('##ápi', (2057, 2060)), ('##ca', (2060, 2062)), ('por', (2063, 2066)), ('margen', (2067, 2073)), ('afecto', (2074, 2080)), ('.', (2080, 2081))]\n",
      "\n",
      "\n",
      "[('Evolución', (2083, 2092)), ('De', (2093, 2095)), ('septiembre', (2096, 2106)), ('a', (2107, 2108)), ('octubre', (2109, 2116)), ('de', (2117, 2119)), ('2013', (2120, 2124)), ('recibe', (2125, 2131)), ('tratamiento', (2132, 2143)), ('radio', (2144, 2149)), ('##ter', (2149, 2152)), ('##ápi', (2152, 2155)), ('##co', (2155, 2157)), ('\"', (2158, 2159)), ('ad', (2159, 2161)), ('##yu', (2161, 2163)), ('##van', (2163, 2166)), ('##te', (2166, 2168)), ('\"', (2168, 2169)), (':', (2169, 2170)), ('PT', (2171, 2173)), ('##V', (2173, 2174)), ('en', (2175, 2177)), ('la', (2178, 2180)), ('lesión', (2181, 2187)), ('gui', (2188, 2191)), ('##ada', (2191, 2194)), ('por', (2195, 2198)), ('cicatriz', (2199, 2207)), ('en', (2208, 2210)), ('el', (2211, 2213)), ('pie', (2214, 2217)), ('derecho', (2218, 2225)), ('más', (2226, 2229)), ('3', (2230, 2231)), ('cm', (2232, 2234)), ('de', (2235, 2237)), ('margen', (2238, 2244)), (',', (2244, 2245)), ('frac', (2246, 2250)), ('##cionamiento', (2250, 2261)), ('2', (2262, 2263)), (',', (2263, 2264)), ('5', (2264, 2265)), ('Gy', (2266, 2268)), ('en', (2269, 2271)), ('24', (2272, 2274)), ('fracciones', (2275, 2285)), ('hasta', (2286, 2291)), ('admi', (2292, 2296)), ('##ns', (2296, 2298)), ('##it', (2298, 2300)), ('##rar', (2300, 2303)), ('una', (2304, 2307)), ('dosis', (2308, 2313)), ('total', (2314, 2319)), ('de', (2320, 2322)), ('60', (2323, 2325)), ('Gy', (2326, 2328)), ('.', (2328, 2329))]\n",
      "\n",
      "\n",
      "[('En', (2330, 2332)), ('noviembre', (2333, 2342)), ('de', (2343, 2345)), ('2013', (2346, 2350)), ('presenta', (2351, 2359)), ('progresión', (2360, 2370)), ('cu', (2371, 2373)), ('##tánea', (2373, 2378)), ('con', (2379, 2382)), ('4', (2383, 2384)), ('lesiones', (2385, 2393)), ('hiper', (2394, 2399)), ('##c', (2399, 2400)), ('##ró', (2400, 2402)), ('##micas', (2402, 2407)), ('localizada', (2408, 2418)), ('##s', (2418, 2419)), ('en', (2420, 2422)), ('el', (2423, 2425)), ('mus', (2426, 2429)), ('##lo', (2429, 2431)), ('derecho', (2432, 2439)), ('.', (2439, 2440))]\n",
      "\n",
      "\n",
      "[('No', (2441, 2443)), ('hay', (2444, 2447)), ('datos', (2448, 2453)), ('de', (2454, 2456)), ('afecta', (2457, 2463)), ('##ción', (2463, 2467)), ('tó', (2468, 2470)), ('##rac', (2470, 2473)), ('##o', (2473, 2474)), ('-', (2474, 2475)), ('abdomin', (2475, 2482)), ('##al', (2482, 2484)), ('a', (2485, 2486)), ('distancia', (2487, 2496)), ('.', (2496, 2497))]\n",
      "\n",
      "\n",
      "[('Entre', (2498, 2503)), ('tanto', (2504, 2509)), (',', (2509, 2510)), ('se', (2511, 2513)), ('realiza', (2514, 2521)), ('determinación', (2522, 2535)), ('del', (2536, 2539)), ('estado', (2540, 2546)), ('mu', (2547, 2549)), ('##ta', (2549, 2551)), ('##cional', (2551, 2557)), ('de', (2558, 2560)), ('B', (2561, 2562)), ('-', (2562, 2563)), ('RA', (2563, 2565)), ('##F', (2565, 2566)), (',', (2566, 2567)), ('el', (2568, 2570)), ('cual', (2571, 2575)), ('es', (2576, 2578)), ('nativo', (2579, 2585)), ('.', (2585, 2586))]\n",
      "\n",
      "\n",
      "[('A', (2587, 2588)), ('la', (2589, 2591)), ('progresión', (2592, 2602)), ('cu', (2603, 2605)), ('##tánea', (2605, 2610)), ('se', (2611, 2613)), ('propone', (2614, 2621)), ('tratamiento', (2622, 2633)), ('con', (2634, 2637)), ('D', (2638, 2639)), ('##TI', (2639, 2641)), ('##C', (2641, 2642)), ('(', (2643, 2644)), ('1', (2644, 2645)), ('.', (2645, 2646)), ('000', (2646, 2649)), ('mg', (2650, 2652)), ('[UNK]', (2652, 2653)), ('m', (2653, 2654)), ('##2', (2654, 2655)), ('cada', (2656, 2660)), ('21', (2661, 2663)), ('días', (2664, 2668)), (')', (2668, 2669)), (',', (2669, 2670)), ('administra', (2671, 2681)), ('##n', (2681, 2682)), ('##do', (2682, 2684)), ('un', (2685, 2687)), ('primer', (2688, 2694)), ('ciclo', (2695, 2700)), ('en', (2701, 2703)), ('diciembre', (2704, 2713)), ('de', (2714, 2716)), ('2013', (2717, 2721)), ('.', (2721, 2722))]\n",
      "\n",
      "\n",
      "[('En', (2723, 2725)), ('enero', (2726, 2731)), ('de', (2732, 2734)), ('2014', (2735, 2739)), ('acu', (2740, 2743)), ('##de', (2743, 2745)), ('a', (2746, 2747)), ('consulta', (2748, 2756)), ('con', (2757, 2760)), ('un', (2761, 2763)), ('cuadro', (2764, 2770)), ('de', (2771, 2773)), ('ic', (2774, 2776)), ('##teri', (2776, 2780)), ('##cia', (2780, 2783)), ('mu', (2784, 2786)), ('##coc', (2786, 2789)), ('##ut', (2789, 2791)), ('##án', (2791, 2793)), ('##ea', (2793, 2795)), ('y', (2796, 2797)), ('col', (2798, 2801)), ('##uria', (2801, 2805)), ('.', (2805, 2806))]\n",
      "\n",
      "\n",
      "[('Se', (2807, 2809)), ('detec', (2810, 2815)), ('##ta', (2815, 2817)), ('bil', (2818, 2821)), ('##ir', (2821, 2823)), ('##ru', (2823, 2825)), ('##bina', (2825, 2829)), ('total', (2830, 2835)), ('de', (2836, 2838)), ('[UNK]', (2839, 2840)), (',', (2840, 2841)), ('[UNK]', (2841, 2842)), ('mg', (2843, 2845)), ('[UNK]', (2845, 2846)), ('d', (2846, 2847)), ('##l', (2847, 2848)), (',', (2848, 2849)), ('bil', (2850, 2853)), ('##ir', (2853, 2855)), ('##ru', (2855, 2857)), ('##bina', (2857, 2861)), ('directa', (2862, 2869)), ('de', (2870, 2872)), ('5', (2873, 2874)), (',', (2874, 2875)), ('9', (2875, 2876)), ('mg', (2877, 2879)), ('[UNK]', (2879, 2880)), ('d', (2880, 2881)), ('##l', (2881, 2882)), ('.', (2882, 2883))]\n",
      "\n",
      "\n",
      "[('AL', (2884, 2886)), ('##T', (2886, 2887)), ('2', (2888, 2889)), ('.', (2889, 2890)), ('02', (2890, 2892)), ('##2', (2892, 2893)), ('UI', (2894, 2896)), ('[UNK]', (2896, 2897)), ('l', (2897, 2898)), (',', (2898, 2899)), ('AS', (2900, 2902)), ('##T', (2902, 2903)), ('84', (2904, 2906)), ('##0', (2906, 2907)), ('UI', (2908, 2910)), ('[UNK]', (2910, 2911)), ('l', (2911, 2912)), ('.', (2912, 2913))]\n",
      "\n",
      "\n",
      "[('Se', (2914, 2916)), ('realizan', (2917, 2925)), ('una', (2926, 2929)), ('eco', (2930, 2933)), ('##grafía', (2933, 2939)), ('he', (2940, 2942)), ('##pa', (2942, 2944)), ('##to', (2944, 2946)), ('##bili', (2946, 2950)), ('##ar', (2950, 2952)), (',', (2952, 2953)), ('con', (2954, 2957)), ('resultado', (2958, 2967)), ('normal', (2968, 2974)), (',', (2974, 2975)), ('y', (2976, 2977)), ('ser', (2978, 2981)), ('##ología', (2981, 2987)), ('de', (2988, 2990)), ('virus', (2991, 2996)), ('de', (2997, 2999)), ('hepatitis', (3000, 3009)), (',', (3009, 3010)), ('con', (3011, 3014)), ('resultado', (3015, 3024)), ('de', (3025, 3027)), ('perfil', (3028, 3034)), ('de', (3035, 3037)), ('hepatitis', (3038, 3047)), ('B', (3048, 3049)), ('aguda', (3050, 3055)), ('.', (3055, 3056))]\n",
      "\n",
      "\n",
      "[('Se', (3057, 3059)), ('remite', (3060, 3066)), ('al', (3067, 3069)), ('Servicio', (3070, 3078)), ('de', (3079, 3081)), ('Apar', (3082, 3086)), ('##ato', (3086, 3089)), ('Dig', (3090, 3093)), ('##estiv', (3093, 3098)), ('##o', (3098, 3099)), (',', (3099, 3100)), ('quienes', (3101, 3108)), ('realizan', (3109, 3117)), ('tratamiento', (3118, 3129)), ('conservador', (3130, 3141)), (',', (3141, 3142)), ('observ', (3143, 3149)), ('##ándose', (3149, 3155)), ('en', (3156, 3158)), ('semanas', (3159, 3166)), ('posteriores', (3167, 3178)), ('un', (3179, 3181)), ('descenso', (3182, 3190)), ('marcado', (3191, 3198)), ('en', (3199, 3201)), ('los', (3202, 3205)), ('valores', (3206, 3213)), ('de', (3214, 3216)), ('bil', (3217, 3220)), ('##ir', (3220, 3222)), ('##ru', (3222, 3224)), ('##bina', (3224, 3228)), (',', (3228, 3229)), ('AL', (3230, 3232)), ('##T', (3232, 3233)), ('y', (3234, 3235)), ('AS', (3236, 3238)), ('##T', (3238, 3239)), ('hasta', (3240, 3245)), ('la', (3246, 3248)), ('completa', (3249, 3257)), ('normalidad', (3258, 3268)), ('.', (3268, 3269))]\n",
      "\n",
      "\n",
      "[('Entre', (3270, 3275)), ('tanto', (3276, 3281)), (',', (3281, 3282)), ('presenta', (3283, 3291)), ('crecimiento', (3292, 3303)), ('de', (3304, 3306)), ('numerosas', (3307, 3316)), ('lesiones', (3317, 3325)), ('subcu', (3326, 3331)), ('##tánea', (3331, 3336)), ('##s', (3336, 3337)), ('distribuida', (3338, 3349)), ('##s', (3349, 3350)), ('en', (3351, 3353)), ('la', (3354, 3356)), ('cara', (3357, 3361)), ('anterior', (3362, 3370)), ('e', (3371, 3372)), ('interna', (3373, 3380)), ('del', (3381, 3384)), ('mus', (3385, 3388)), ('##lo', (3388, 3390)), ('derecho', (3391, 3398)), ('sin', (3399, 3402)), ('datos', (3403, 3408)), ('de', (3409, 3411)), ('afecta', (3412, 3418)), ('##ción', (3418, 3422)), ('a', (3423, 3424)), ('distancia', (3425, 3434)), ('en', (3435, 3437)), ('la', (3438, 3440)), ('TC', (3441, 3443)), ('.', (3443, 3444))]\n",
      "\n",
      "\n",
      "[('Se', (3445, 3447)), ('considera', (3448, 3457)), ('metá', (3458, 3462)), ('##stas', (3462, 3466)), ('##is', (3466, 3468)), ('en', (3469, 3471)), ('tránsito', (3472, 3480)), ('de', (3481, 3483)), ('melan', (3484, 3489)), ('##oma', (3489, 3492)), (',', (3492, 3493)), ('por', (3494, 3497)), ('lo', (3498, 3500)), ('que', (3501, 3504)), ('en', (3505, 3507)), ('marzo', (3508, 3513)), ('de', (3514, 3516)), ('2014', (3517, 3521)), ('inicia', (3522, 3528)), ('la', (3529, 3531)), ('administración', (3532, 3546)), ('de', (3547, 3549)), ('inter', (3550, 3555)), ('##le', (3555, 3557)), ('##uci', (3557, 3560)), ('##na', (3560, 3562)), ('-', (3562, 3563)), ('2', (3563, 3564)), ('intra', (3565, 3570)), ('##les', (3570, 3573)), ('##ional', (3573, 3578)), ('.', (3578, 3579))]\n",
      "\n",
      "\n",
      "[('Se', (3580, 3582)), ('aplica', (3583, 3589)), ('1', (3590, 3591)), ('ml', (3592, 3594)), ('en', (3595, 3597)), ('cada', (3598, 3602)), ('una', (3603, 3606)), ('de', (3607, 3609)), ('las', (3610, 3613)), ('lesiones', (3614, 3622)), ('subcu', (3623, 3628)), ('##tánea', (3628, 3633)), ('##s', (3633, 3634)), (',', (3634, 3635)), ('cubriendo', (3636, 3645)), ('un', (3646, 3648)), ('total', (3649, 3654)), ('de', (3655, 3657)), ('20', (3658, 3660)), ('lesiones', (3661, 3669)), ('por', (3670, 3673)), ('cada', (3674, 3678)), ('ciclo', (3679, 3684)), ('administrado', (3685, 3697)), ('cada', (3698, 3702)), ('14', (3703, 3705)), ('días', (3706, 3710)), (',', (3710, 3711)), ('sin', (3712, 3715)), ('presentar', (3716, 3725)), ('efectos', (3726, 3733)), ('secundarios', (3734, 3745)), ('sist', (3746, 3750)), ('##émico', (3750, 3755)), ('##s', (3755, 3756)), (',', (3756, 3757)), ('salvo', (3758, 3763)), ('dolor', (3764, 3769)), ('EV', (3770, 3772)), ('##A', (3772, 3773)), ('3', (3774, 3775)), ('en', (3776, 3778)), ('los', (3779, 3782)), ('puntos', (3783, 3789)), ('de', (3790, 3792)), ('insti', (3793, 3798)), ('##lación', (3798, 3804)), (',', (3804, 3805)), ('que', (3806, 3809)), ('mejora', (3810, 3816)), ('##ba', (3816, 3818)), ('con', (3819, 3822)), ('el', (3823, 3825)), ('para', (3826, 3830)), ('##ceta', (3830, 3834)), ('##mol', (3834, 3837)), ('.', (3837, 3838))]\n",
      "\n",
      "\n",
      "[('Con', (3839, 3842)), ('este', (3843, 3847)), ('tratamiento', (3848, 3859)), ('completa', (3860, 3868)), ('5', (3869, 3870)), ('ciclos', (3871, 3877)), ('hasta', (3878, 3883)), ('el', (3884, 3886)), ('mayo', (3887, 3891)), ('de', (3892, 3894)), ('2014', (3895, 3899)), (',', (3899, 3900)), ('presentando', (3901, 3912)), ('desaparición', (3913, 3925)), ('de', (3926, 3928)), ('la', (3929, 3931)), ('mayoría', (3932, 3939)), ('de', (3940, 3942)), ('las', (3943, 3946)), ('lesiones', (3947, 3955)), (',', (3955, 3956)), ('persist', (3957, 3964)), ('##iendo', (3964, 3969)), ('algunas', (3970, 3977)), ('de', (3978, 3980)), ('localización', (3981, 3993)), ('central', (3994, 4001)), ('.', (4001, 4002))]\n",
      "\n",
      "\n",
      "[('El', (4003, 4005)), ('30', (4006, 4008)), ('de', (4009, 4011)), ('mayo', (4012, 4016)), ('de', (4017, 4019)), ('2014', (4020, 4024)), ('acu', (4025, 4028)), ('##de', (4028, 4030)), ('con', (4031, 4034)), ('una', (4035, 4038)), ('TC', (4039, 4041)), ('de', (4042, 4044)), ('ree', (4045, 4048)), ('##valuación', (4048, 4057)), (',', (4057, 4058)), ('obje', (4059, 4063)), ('##tiv', (4063, 4066)), ('##ándose', (4066, 4072)), ('progresión', (4073, 4083)), ('ing', (4084, 4087)), ('##ui', (4087, 4089)), ('##nal', (4089, 4092)), ('izquierda', (4093, 4102)), ('y', (4103, 4104)), ('una', (4105, 4108)), ('aden', (4109, 4113)), ('##op', (4113, 4115)), ('##atía', (4115, 4119)), ('en', (4120, 4122)), ('la', (4123, 4125)), ('cadena', (4126, 4132)), ('il', (4133, 4135)), ('##iac', (4135, 4138)), ('##a', (4138, 4139)), ('externa', (4140, 4147)), ('derecha', (4148, 4155)), ('de', (4156, 4158)), ('3', (4159, 4160)), (',', (4160, 4161)), ('3', (4161, 4162)), ('x', (4163, 4164)), ('2', (4165, 4166)), (',', (4166, 4167)), ('3', (4167, 4168)), ('cm', (4169, 4171)), ('compatible', (4172, 4182)), ('con', (4183, 4186)), ('progresión', (4187, 4197)), ('.', (4197, 4198))]\n",
      "\n",
      "\n",
      "[('Se', (4199, 4201)), ('ha', (4202, 4204)), ('propuesto', (4205, 4214)), ('una', (4215, 4218)), ('nueva', (4219, 4224)), ('línea', (4225, 4230)), ('de', (4231, 4233)), ('tratamiento', (4234, 4245)), ('con', (4246, 4249)), ('i', (4250, 4251)), ('##pil', (4251, 4254)), ('##im', (4254, 4256)), ('##uma', (4256, 4259)), ('##b', (4259, 4260)), (',', (4260, 4261)), ('pendiente', (4262, 4271)), ('de', (4272, 4274)), ('iniciar', (4275, 4282)), ('.', (4282, 4283))]\n",
      "\n",
      "\n"
     ]
    }
   ],
   "source": [
    "for i in range(check_id_frag, check_id_frag + dev_frag[check_id]):\n",
    "    print(list(zip([tokenizer._token_dict_inv[ind] for ind in dev_ind[i]][1:len(dev_start_end_frag[i])+1], \n",
    "               dev_start_end_frag[i])))\n",
    "    print(\"\\n\")"
   ]
  },
  {
   "cell_type": "code",
   "execution_count": 87,
   "metadata": {},
   "outputs": [
    {
     "name": "stdout",
     "output_type": "stream",
     "text": [
      "[CLS] Ana ##mne ##sis Var ##ón de 48 años que acu ##de en agosto de 2012 tras la realización de amp ##uta ##ción en hall ##ux derecho a la primera valoración por On ##col ##o ##gía Mé ##dica . [SEP] [PAD] [PAD] [PAD] [PAD] [PAD] [PAD] [PAD] [PAD] [PAD] [PAD] [PAD] [PAD] [PAD] [PAD] [PAD] [PAD] [PAD] [PAD] [PAD] [PAD] [PAD] [PAD] [PAD] [PAD] [PAD] [PAD] [PAD] [PAD] [PAD] [PAD] [PAD] [PAD] [PAD] [PAD] [PAD] [PAD] [PAD] [PAD] [PAD] [PAD] [PAD] [PAD] [PAD] [PAD] [PAD] [PAD] [PAD] [PAD] [PAD] [PAD] [PAD] [PAD] [PAD] [PAD] [PAD] [PAD] [PAD] [PAD] [PAD] [PAD] [PAD] [PAD] [PAD] [PAD] [PAD] [PAD] [PAD] [PAD] [PAD] [PAD] [PAD] [PAD] [PAD] [PAD] [PAD] [PAD] [PAD] [PAD] [PAD] [PAD] [PAD] [PAD] [PAD] [PAD] [PAD] [PAD] [PAD] [PAD] \n",
      "\n",
      "[CLS] Ante ##cede ##n ##tes : no alér ##gicos . [SEP] [PAD] [PAD] [PAD] [PAD] [PAD] [PAD] [PAD] [PAD] [PAD] [PAD] [PAD] [PAD] [PAD] [PAD] [PAD] [PAD] [PAD] [PAD] [PAD] [PAD] [PAD] [PAD] [PAD] [PAD] [PAD] [PAD] [PAD] [PAD] [PAD] [PAD] [PAD] [PAD] [PAD] [PAD] [PAD] [PAD] [PAD] [PAD] [PAD] [PAD] [PAD] [PAD] [PAD] [PAD] [PAD] [PAD] [PAD] [PAD] [PAD] [PAD] [PAD] [PAD] [PAD] [PAD] [PAD] [PAD] [PAD] [PAD] [PAD] [PAD] [PAD] [PAD] [PAD] [PAD] [PAD] [PAD] [PAD] [PAD] [PAD] [PAD] [PAD] [PAD] [PAD] [PAD] [PAD] [PAD] [PAD] [PAD] [PAD] [PAD] [PAD] [PAD] [PAD] [PAD] [PAD] [PAD] [PAD] [PAD] [PAD] [PAD] [PAD] [PAD] [PAD] [PAD] [PAD] [PAD] [PAD] [PAD] [PAD] [PAD] [PAD] [PAD] [PAD] [PAD] [PAD] [PAD] [PAD] [PAD] [PAD] [PAD] [PAD] [PAD] [PAD] [PAD] [PAD] [PAD] [PAD] \n",
      "\n",
      "[CLS] Pat ##ológicos : diab ##ético hace 3 años sin tratamiento . [SEP] [PAD] [PAD] [PAD] [PAD] [PAD] [PAD] [PAD] [PAD] [PAD] [PAD] [PAD] [PAD] [PAD] [PAD] [PAD] [PAD] [PAD] [PAD] [PAD] [PAD] [PAD] [PAD] [PAD] [PAD] [PAD] [PAD] [PAD] [PAD] [PAD] [PAD] [PAD] [PAD] [PAD] [PAD] [PAD] [PAD] [PAD] [PAD] [PAD] [PAD] [PAD] [PAD] [PAD] [PAD] [PAD] [PAD] [PAD] [PAD] [PAD] [PAD] [PAD] [PAD] [PAD] [PAD] [PAD] [PAD] [PAD] [PAD] [PAD] [PAD] [PAD] [PAD] [PAD] [PAD] [PAD] [PAD] [PAD] [PAD] [PAD] [PAD] [PAD] [PAD] [PAD] [PAD] [PAD] [PAD] [PAD] [PAD] [PAD] [PAD] [PAD] [PAD] [PAD] [PAD] [PAD] [PAD] [PAD] [PAD] [PAD] [PAD] [PAD] [PAD] [PAD] [PAD] [PAD] [PAD] [PAD] [PAD] [PAD] [PAD] [PAD] [PAD] [PAD] [PAD] [PAD] [PAD] [PAD] [PAD] [PAD] [PAD] [PAD] [PAD] [PAD] [PAD] [PAD] \n",
      "\n",
      "[CLS] H ##TA en tratamiento . [SEP] [PAD] [PAD] [PAD] [PAD] [PAD] [PAD] [PAD] [PAD] [PAD] [PAD] [PAD] [PAD] [PAD] [PAD] [PAD] [PAD] [PAD] [PAD] [PAD] [PAD] [PAD] [PAD] [PAD] [PAD] [PAD] [PAD] [PAD] [PAD] [PAD] [PAD] [PAD] [PAD] [PAD] [PAD] [PAD] [PAD] [PAD] [PAD] [PAD] [PAD] [PAD] [PAD] [PAD] [PAD] [PAD] [PAD] [PAD] [PAD] [PAD] [PAD] [PAD] [PAD] [PAD] [PAD] [PAD] [PAD] [PAD] [PAD] [PAD] [PAD] [PAD] [PAD] [PAD] [PAD] [PAD] [PAD] [PAD] [PAD] [PAD] [PAD] [PAD] [PAD] [PAD] [PAD] [PAD] [PAD] [PAD] [PAD] [PAD] [PAD] [PAD] [PAD] [PAD] [PAD] [PAD] [PAD] [PAD] [PAD] [PAD] [PAD] [PAD] [PAD] [PAD] [PAD] [PAD] [PAD] [PAD] [PAD] [PAD] [PAD] [PAD] [PAD] [PAD] [PAD] [PAD] [PAD] [PAD] [PAD] [PAD] [PAD] [PAD] [PAD] [PAD] [PAD] [PAD] [PAD] [PAD] [PAD] [PAD] [PAD] [PAD] \n",
      "\n",
      "[CLS] En ##oli ##smo cr ##ónico . [SEP] [PAD] [PAD] [PAD] [PAD] [PAD] [PAD] [PAD] [PAD] [PAD] [PAD] [PAD] [PAD] [PAD] [PAD] [PAD] [PAD] [PAD] [PAD] [PAD] [PAD] [PAD] [PAD] [PAD] [PAD] [PAD] [PAD] [PAD] [PAD] [PAD] [PAD] [PAD] [PAD] [PAD] [PAD] [PAD] [PAD] [PAD] [PAD] [PAD] [PAD] [PAD] [PAD] [PAD] [PAD] [PAD] [PAD] [PAD] [PAD] [PAD] [PAD] [PAD] [PAD] [PAD] [PAD] [PAD] [PAD] [PAD] [PAD] [PAD] [PAD] [PAD] [PAD] [PAD] [PAD] [PAD] [PAD] [PAD] [PAD] [PAD] [PAD] [PAD] [PAD] [PAD] [PAD] [PAD] [PAD] [PAD] [PAD] [PAD] [PAD] [PAD] [PAD] [PAD] [PAD] [PAD] [PAD] [PAD] [PAD] [PAD] [PAD] [PAD] [PAD] [PAD] [PAD] [PAD] [PAD] [PAD] [PAD] [PAD] [PAD] [PAD] [PAD] [PAD] [PAD] [PAD] [PAD] [PAD] [PAD] [PAD] [PAD] [PAD] [PAD] [PAD] [PAD] [PAD] [PAD] [PAD] [PAD] [PAD] [PAD] \n",
      "\n",
      "[CLS] Tras ##torno afec ##tivo bi ##pol ##ar . [SEP] [PAD] [PAD] [PAD] [PAD] [PAD] [PAD] [PAD] [PAD] [PAD] [PAD] [PAD] [PAD] [PAD] [PAD] [PAD] [PAD] [PAD] [PAD] [PAD] [PAD] [PAD] [PAD] [PAD] [PAD] [PAD] [PAD] [PAD] [PAD] [PAD] [PAD] [PAD] [PAD] [PAD] [PAD] [PAD] [PAD] [PAD] [PAD] [PAD] [PAD] [PAD] [PAD] [PAD] [PAD] [PAD] [PAD] [PAD] [PAD] [PAD] [PAD] [PAD] [PAD] [PAD] [PAD] [PAD] [PAD] [PAD] [PAD] [PAD] [PAD] [PAD] [PAD] [PAD] [PAD] [PAD] [PAD] [PAD] [PAD] [PAD] [PAD] [PAD] [PAD] [PAD] [PAD] [PAD] [PAD] [PAD] [PAD] [PAD] [PAD] [PAD] [PAD] [PAD] [PAD] [PAD] [PAD] [PAD] [PAD] [PAD] [PAD] [PAD] [PAD] [PAD] [PAD] [PAD] [PAD] [PAD] [PAD] [PAD] [PAD] [PAD] [PAD] [PAD] [PAD] [PAD] [PAD] [PAD] [PAD] [PAD] [PAD] [PAD] [PAD] [PAD] [PAD] [PAD] [PAD] [PAD] [PAD] \n",
      "\n",
      "[CLS] Qui ##rúr ##gicos : ape ##ndice ##cto ##mi ##zado . [SEP] [PAD] [PAD] [PAD] [PAD] [PAD] [PAD] [PAD] [PAD] [PAD] [PAD] [PAD] [PAD] [PAD] [PAD] [PAD] [PAD] [PAD] [PAD] [PAD] [PAD] [PAD] [PAD] [PAD] [PAD] [PAD] [PAD] [PAD] [PAD] [PAD] [PAD] [PAD] [PAD] [PAD] [PAD] [PAD] [PAD] [PAD] [PAD] [PAD] [PAD] [PAD] [PAD] [PAD] [PAD] [PAD] [PAD] [PAD] [PAD] [PAD] [PAD] [PAD] [PAD] [PAD] [PAD] [PAD] [PAD] [PAD] [PAD] [PAD] [PAD] [PAD] [PAD] [PAD] [PAD] [PAD] [PAD] [PAD] [PAD] [PAD] [PAD] [PAD] [PAD] [PAD] [PAD] [PAD] [PAD] [PAD] [PAD] [PAD] [PAD] [PAD] [PAD] [PAD] [PAD] [PAD] [PAD] [PAD] [PAD] [PAD] [PAD] [PAD] [PAD] [PAD] [PAD] [PAD] [PAD] [PAD] [PAD] [PAD] [PAD] [PAD] [PAD] [PAD] [PAD] [PAD] [PAD] [PAD] [PAD] [PAD] [PAD] [PAD] [PAD] [PAD] [PAD] [PAD] [PAD] \n",
      "\n",
      "[CLS] Enferme ##dad actual : desde hace 2 años presentaba una lesión hiper ##pi ##g ##menta ##da en el hall ##ux del pie derecho , que ocasionalmente san ##gra ##ba . [SEP] [PAD] [PAD] [PAD] [PAD] [PAD] [PAD] [PAD] [PAD] [PAD] [PAD] [PAD] [PAD] [PAD] [PAD] [PAD] [PAD] [PAD] [PAD] [PAD] [PAD] [PAD] [PAD] [PAD] [PAD] [PAD] [PAD] [PAD] [PAD] [PAD] [PAD] [PAD] [PAD] [PAD] [PAD] [PAD] [PAD] [PAD] [PAD] [PAD] [PAD] [PAD] [PAD] [PAD] [PAD] [PAD] [PAD] [PAD] [PAD] [PAD] [PAD] [PAD] [PAD] [PAD] [PAD] [PAD] [PAD] [PAD] [PAD] [PAD] [PAD] [PAD] [PAD] [PAD] [PAD] [PAD] [PAD] [PAD] [PAD] [PAD] [PAD] [PAD] [PAD] [PAD] [PAD] [PAD] [PAD] [PAD] [PAD] [PAD] [PAD] [PAD] [PAD] [PAD] [PAD] [PAD] [PAD] [PAD] [PAD] [PAD] [PAD] [PAD] [PAD] [PAD] [PAD] [PAD] [PAD] \n",
      "\n",
      "[CLS] Examen físico Mu ##ñón de hall ##ux derecho en buen estado , presencia de aden ##op ##atía ##s ing ##ui ##nal ##es derecha ##s . [SEP] [PAD] [PAD] [PAD] [PAD] [PAD] [PAD] [PAD] [PAD] [PAD] [PAD] [PAD] [PAD] [PAD] [PAD] [PAD] [PAD] [PAD] [PAD] [PAD] [PAD] [PAD] [PAD] [PAD] [PAD] [PAD] [PAD] [PAD] [PAD] [PAD] [PAD] [PAD] [PAD] [PAD] [PAD] [PAD] [PAD] [PAD] [PAD] [PAD] [PAD] [PAD] [PAD] [PAD] [PAD] [PAD] [PAD] [PAD] [PAD] [PAD] [PAD] [PAD] [PAD] [PAD] [PAD] [PAD] [PAD] [PAD] [PAD] [PAD] [PAD] [PAD] [PAD] [PAD] [PAD] [PAD] [PAD] [PAD] [PAD] [PAD] [PAD] [PAD] [PAD] [PAD] [PAD] [PAD] [PAD] [PAD] [PAD] [PAD] [PAD] [PAD] [PAD] [PAD] [PAD] [PAD] [PAD] [PAD] [PAD] [PAD] [PAD] [PAD] [PAD] [PAD] [PAD] [PAD] [PAD] [PAD] [PAD] [PAD] [PAD] [PAD] \n",
      "\n",
      "[CLS] Res ##to de exploración sin alteraciones . [SEP] [PAD] [PAD] [PAD] [PAD] [PAD] [PAD] [PAD] [PAD] [PAD] [PAD] [PAD] [PAD] [PAD] [PAD] [PAD] [PAD] [PAD] [PAD] [PAD] [PAD] [PAD] [PAD] [PAD] [PAD] [PAD] [PAD] [PAD] [PAD] [PAD] [PAD] [PAD] [PAD] [PAD] [PAD] [PAD] [PAD] [PAD] [PAD] [PAD] [PAD] [PAD] [PAD] [PAD] [PAD] [PAD] [PAD] [PAD] [PAD] [PAD] [PAD] [PAD] [PAD] [PAD] [PAD] [PAD] [PAD] [PAD] [PAD] [PAD] [PAD] [PAD] [PAD] [PAD] [PAD] [PAD] [PAD] [PAD] [PAD] [PAD] [PAD] [PAD] [PAD] [PAD] [PAD] [PAD] [PAD] [PAD] [PAD] [PAD] [PAD] [PAD] [PAD] [PAD] [PAD] [PAD] [PAD] [PAD] [PAD] [PAD] [PAD] [PAD] [PAD] [PAD] [PAD] [PAD] [PAD] [PAD] [PAD] [PAD] [PAD] [PAD] [PAD] [PAD] [PAD] [PAD] [PAD] [PAD] [PAD] [PAD] [PAD] [PAD] [PAD] [PAD] [PAD] [PAD] [PAD] [PAD] [PAD] [PAD] \n",
      "\n",
      "[CLS] Prueba ##s complementarias - Bio ##psia cu ##tánea : melan ##oma ul ##cera ##do . [SEP] [PAD] [PAD] [PAD] [PAD] [PAD] [PAD] [PAD] [PAD] [PAD] [PAD] [PAD] [PAD] [PAD] [PAD] [PAD] [PAD] [PAD] [PAD] [PAD] [PAD] [PAD] [PAD] [PAD] [PAD] [PAD] [PAD] [PAD] [PAD] [PAD] [PAD] [PAD] [PAD] [PAD] [PAD] [PAD] [PAD] [PAD] [PAD] [PAD] [PAD] [PAD] [PAD] [PAD] [PAD] [PAD] [PAD] [PAD] [PAD] [PAD] [PAD] [PAD] [PAD] [PAD] [PAD] [PAD] [PAD] [PAD] [PAD] [PAD] [PAD] [PAD] [PAD] [PAD] [PAD] [PAD] [PAD] [PAD] [PAD] [PAD] [PAD] [PAD] [PAD] [PAD] [PAD] [PAD] [PAD] [PAD] [PAD] [PAD] [PAD] [PAD] [PAD] [PAD] [PAD] [PAD] [PAD] [PAD] [PAD] [PAD] [PAD] [PAD] [PAD] [PAD] [PAD] [PAD] [PAD] [PAD] [PAD] [PAD] [PAD] [PAD] [PAD] [PAD] [PAD] [PAD] [PAD] [PAD] [PAD] [PAD] [PAD] [PAD] \n",
      "\n",
      "[CLS] - AP de rese ##cción de melan ##oma : melan ##oma len ##ti ##gin ##oso ac ##ral en fase de crecimiento vertical , ul ##cera ##do . [SEP] [PAD] [PAD] [PAD] [PAD] [PAD] [PAD] [PAD] [PAD] [PAD] [PAD] [PAD] [PAD] [PAD] [PAD] [PAD] [PAD] [PAD] [PAD] [PAD] [PAD] [PAD] [PAD] [PAD] [PAD] [PAD] [PAD] [PAD] [PAD] [PAD] [PAD] [PAD] [PAD] [PAD] [PAD] [PAD] [PAD] [PAD] [PAD] [PAD] [PAD] [PAD] [PAD] [PAD] [PAD] [PAD] [PAD] [PAD] [PAD] [PAD] [PAD] [PAD] [PAD] [PAD] [PAD] [PAD] [PAD] [PAD] [PAD] [PAD] [PAD] [PAD] [PAD] [PAD] [PAD] [PAD] [PAD] [PAD] [PAD] [PAD] [PAD] [PAD] [PAD] [PAD] [PAD] [PAD] [PAD] [PAD] [PAD] [PAD] [PAD] [PAD] [PAD] [PAD] [PAD] [PAD] [PAD] [PAD] [PAD] [PAD] [PAD] [PAD] [PAD] [PAD] [PAD] [PAD] [PAD] [PAD] [PAD] [PAD] \n",
      "\n",
      "[CLS] Clar [UNK] IV . [SEP] [PAD] [PAD] [PAD] [PAD] [PAD] [PAD] [PAD] [PAD] [PAD] [PAD] [PAD] [PAD] [PAD] [PAD] [PAD] [PAD] [PAD] [PAD] [PAD] [PAD] [PAD] [PAD] [PAD] [PAD] [PAD] [PAD] [PAD] [PAD] [PAD] [PAD] [PAD] [PAD] [PAD] [PAD] [PAD] [PAD] [PAD] [PAD] [PAD] [PAD] [PAD] [PAD] [PAD] [PAD] [PAD] [PAD] [PAD] [PAD] [PAD] [PAD] [PAD] [PAD] [PAD] [PAD] [PAD] [PAD] [PAD] [PAD] [PAD] [PAD] [PAD] [PAD] [PAD] [PAD] [PAD] [PAD] [PAD] [PAD] [PAD] [PAD] [PAD] [PAD] [PAD] [PAD] [PAD] [PAD] [PAD] [PAD] [PAD] [PAD] [PAD] [PAD] [PAD] [PAD] [PAD] [PAD] [PAD] [PAD] [PAD] [PAD] [PAD] [PAD] [PAD] [PAD] [PAD] [PAD] [PAD] [PAD] [PAD] [PAD] [PAD] [PAD] [PAD] [PAD] [PAD] [PAD] [PAD] [PAD] [PAD] [PAD] [PAD] [PAD] [PAD] [PAD] [PAD] [PAD] [PAD] [PAD] [PAD] [PAD] [PAD] [PAD] \n",
      "\n",
      "[CLS] Bre ##s ##lo [UNK] 6 , 8 mm , sin infil ##tración linf ##ova ##s ##cular . [SEP] [PAD] [PAD] [PAD] [PAD] [PAD] [PAD] [PAD] [PAD] [PAD] [PAD] [PAD] [PAD] [PAD] [PAD] [PAD] [PAD] [PAD] [PAD] [PAD] [PAD] [PAD] [PAD] [PAD] [PAD] [PAD] [PAD] [PAD] [PAD] [PAD] [PAD] [PAD] [PAD] [PAD] [PAD] [PAD] [PAD] [PAD] [PAD] [PAD] [PAD] [PAD] [PAD] [PAD] [PAD] [PAD] [PAD] [PAD] [PAD] [PAD] [PAD] [PAD] [PAD] [PAD] [PAD] [PAD] [PAD] [PAD] [PAD] [PAD] [PAD] [PAD] [PAD] [PAD] [PAD] [PAD] [PAD] [PAD] [PAD] [PAD] [PAD] [PAD] [PAD] [PAD] [PAD] [PAD] [PAD] [PAD] [PAD] [PAD] [PAD] [PAD] [PAD] [PAD] [PAD] [PAD] [PAD] [PAD] [PAD] [PAD] [PAD] [PAD] [PAD] [PAD] [PAD] [PAD] [PAD] [PAD] [PAD] [PAD] [PAD] [PAD] [PAD] [PAD] [PAD] [PAD] [PAD] [PAD] [PAD] [PAD] \n",
      "\n",
      "[CLS] - TC de tó ##ra ##x - abdomen - pel ##vis : sin signos concluye ##n ##tes de extensión tó ##rac ##o - ab ##dó ##mino - pé ##l ##vic ##a de melan ##oma . [SEP] [PAD] [PAD] [PAD] [PAD] [PAD] [PAD] [PAD] [PAD] [PAD] [PAD] [PAD] [PAD] [PAD] [PAD] [PAD] [PAD] [PAD] [PAD] [PAD] [PAD] [PAD] [PAD] [PAD] [PAD] [PAD] [PAD] [PAD] [PAD] [PAD] [PAD] [PAD] [PAD] [PAD] [PAD] [PAD] [PAD] [PAD] [PAD] [PAD] [PAD] [PAD] [PAD] [PAD] [PAD] [PAD] [PAD] [PAD] [PAD] [PAD] [PAD] [PAD] [PAD] [PAD] [PAD] [PAD] [PAD] [PAD] [PAD] [PAD] [PAD] [PAD] [PAD] [PAD] [PAD] [PAD] [PAD] [PAD] [PAD] [PAD] [PAD] [PAD] [PAD] [PAD] [PAD] [PAD] [PAD] [PAD] [PAD] [PAD] [PAD] [PAD] [PAD] [PAD] [PAD] [PAD] [PAD] [PAD] [PAD] [PAD] [PAD] [PAD] \n",
      "\n",
      "[CLS] Micro ##n ##ó ##dulo ##s en el ló ##bulo superior derecho a valorar en controles sucesivos . [SEP] [PAD] [PAD] [PAD] [PAD] [PAD] [PAD] [PAD] [PAD] [PAD] [PAD] [PAD] [PAD] [PAD] [PAD] [PAD] [PAD] [PAD] [PAD] [PAD] [PAD] [PAD] [PAD] [PAD] [PAD] [PAD] [PAD] [PAD] [PAD] [PAD] [PAD] [PAD] [PAD] [PAD] [PAD] [PAD] [PAD] [PAD] [PAD] [PAD] [PAD] [PAD] [PAD] [PAD] [PAD] [PAD] [PAD] [PAD] [PAD] [PAD] [PAD] [PAD] [PAD] [PAD] [PAD] [PAD] [PAD] [PAD] [PAD] [PAD] [PAD] [PAD] [PAD] [PAD] [PAD] [PAD] [PAD] [PAD] [PAD] [PAD] [PAD] [PAD] [PAD] [PAD] [PAD] [PAD] [PAD] [PAD] [PAD] [PAD] [PAD] [PAD] [PAD] [PAD] [PAD] [PAD] [PAD] [PAD] [PAD] [PAD] [PAD] [PAD] [PAD] [PAD] [PAD] [PAD] [PAD] [PAD] [PAD] [PAD] [PAD] [PAD] [PAD] [PAD] [PAD] [PAD] [PAD] [PAD] [PAD] [PAD] \n",
      "\n",
      "[CLS] - Se realiza linf ##aden ##ec ##tomía ing ##ui ##nal elec ##tiva en octubre de 2012 . [SEP] [PAD] [PAD] [PAD] [PAD] [PAD] [PAD] [PAD] [PAD] [PAD] [PAD] [PAD] [PAD] [PAD] [PAD] [PAD] [PAD] [PAD] [PAD] [PAD] [PAD] [PAD] [PAD] [PAD] [PAD] [PAD] [PAD] [PAD] [PAD] [PAD] [PAD] [PAD] [PAD] [PAD] [PAD] [PAD] [PAD] [PAD] [PAD] [PAD] [PAD] [PAD] [PAD] [PAD] [PAD] [PAD] [PAD] [PAD] [PAD] [PAD] [PAD] [PAD] [PAD] [PAD] [PAD] [PAD] [PAD] [PAD] [PAD] [PAD] [PAD] [PAD] [PAD] [PAD] [PAD] [PAD] [PAD] [PAD] [PAD] [PAD] [PAD] [PAD] [PAD] [PAD] [PAD] [PAD] [PAD] [PAD] [PAD] [PAD] [PAD] [PAD] [PAD] [PAD] [PAD] [PAD] [PAD] [PAD] [PAD] [PAD] [PAD] [PAD] [PAD] [PAD] [PAD] [PAD] [PAD] [PAD] [PAD] [PAD] [PAD] [PAD] [PAD] [PAD] [PAD] [PAD] [PAD] [PAD] [PAD] [PAD] \n",
      "\n",
      "[CLS] - AP : metá ##stas ##is de melan ##oma en 4 de los 13 gan ##gli ##os aislados . [SEP] [PAD] [PAD] [PAD] [PAD] [PAD] [PAD] [PAD] [PAD] [PAD] [PAD] [PAD] [PAD] [PAD] [PAD] [PAD] [PAD] [PAD] [PAD] [PAD] [PAD] [PAD] [PAD] [PAD] [PAD] [PAD] [PAD] [PAD] [PAD] [PAD] [PAD] [PAD] [PAD] [PAD] [PAD] [PAD] [PAD] [PAD] [PAD] [PAD] [PAD] [PAD] [PAD] [PAD] [PAD] [PAD] [PAD] [PAD] [PAD] [PAD] [PAD] [PAD] [PAD] [PAD] [PAD] [PAD] [PAD] [PAD] [PAD] [PAD] [PAD] [PAD] [PAD] [PAD] [PAD] [PAD] [PAD] [PAD] [PAD] [PAD] [PAD] [PAD] [PAD] [PAD] [PAD] [PAD] [PAD] [PAD] [PAD] [PAD] [PAD] [PAD] [PAD] [PAD] [PAD] [PAD] [PAD] [PAD] [PAD] [PAD] [PAD] [PAD] [PAD] [PAD] [PAD] [PAD] [PAD] [PAD] [PAD] [PAD] [PAD] [PAD] [PAD] [PAD] [PAD] [PAD] [PAD] [PAD] \n",
      "\n",
      "[CLS] Dia ##gn ##óstico Mel ##ano ##ma len ##ti ##gin ##oso ac ##ral en fase de crecimiento vertical ul ##cera ##do Clar ##c [UNK] IV Bre ##s ##lo [UNK] ##6 , 8 mm p ##T ##4 ##b N ##2 ##a M ##0 estadio III ##B . [SEP] [PAD] [PAD] [PAD] [PAD] [PAD] [PAD] [PAD] [PAD] [PAD] [PAD] [PAD] [PAD] [PAD] [PAD] [PAD] [PAD] [PAD] [PAD] [PAD] [PAD] [PAD] [PAD] [PAD] [PAD] [PAD] [PAD] [PAD] [PAD] [PAD] [PAD] [PAD] [PAD] [PAD] [PAD] [PAD] [PAD] [PAD] [PAD] [PAD] [PAD] [PAD] [PAD] [PAD] [PAD] [PAD] [PAD] [PAD] [PAD] [PAD] [PAD] [PAD] [PAD] [PAD] [PAD] [PAD] [PAD] [PAD] [PAD] [PAD] [PAD] [PAD] [PAD] [PAD] [PAD] [PAD] [PAD] [PAD] [PAD] [PAD] [PAD] [PAD] [PAD] [PAD] [PAD] [PAD] [PAD] [PAD] [PAD] [PAD] [PAD] [PAD] \n",
      "\n",
      "[CLS] Tratamiento En enero de 2013 inicia tratamiento ad ##yu ##van ##te con interfer ##ón a altas dosis según el esquema [UNK] ##ir [UNK] [UNK] ##ood , este se basa en el estudio EC ##OG 168 ##4 : interfer ##ón alfa - 2 ##b 20 millones de unidades i . v . x 20 días , seguido de 10 millones de unidades s . c . 3 veces a la semana durante 48 semanas . [SEP] [PAD] [PAD] [PAD] [PAD] [PAD] [PAD] [PAD] [PAD] [PAD] [PAD] [PAD] [PAD] [PAD] [PAD] [PAD] [PAD] [PAD] [PAD] [PAD] [PAD] [PAD] [PAD] [PAD] [PAD] [PAD] [PAD] [PAD] [PAD] [PAD] [PAD] [PAD] [PAD] [PAD] [PAD] [PAD] [PAD] [PAD] [PAD] [PAD] [PAD] [PAD] [PAD] [PAD] [PAD] [PAD] [PAD] [PAD] [PAD] [PAD] [PAD] [PAD] [PAD] \n",
      "\n",
      "[CLS] El paciente tuvo buena tolerancia a la fase de indu ##cción y a la fase de mantenimiento . [SEP] [PAD] [PAD] [PAD] [PAD] [PAD] [PAD] [PAD] [PAD] [PAD] [PAD] [PAD] [PAD] [PAD] [PAD] [PAD] [PAD] [PAD] [PAD] [PAD] [PAD] [PAD] [PAD] [PAD] [PAD] [PAD] [PAD] [PAD] [PAD] [PAD] [PAD] [PAD] [PAD] [PAD] [PAD] [PAD] [PAD] [PAD] [PAD] [PAD] [PAD] [PAD] [PAD] [PAD] [PAD] [PAD] [PAD] [PAD] [PAD] [PAD] [PAD] [PAD] [PAD] [PAD] [PAD] [PAD] [PAD] [PAD] [PAD] [PAD] [PAD] [PAD] [PAD] [PAD] [PAD] [PAD] [PAD] [PAD] [PAD] [PAD] [PAD] [PAD] [PAD] [PAD] [PAD] [PAD] [PAD] [PAD] [PAD] [PAD] [PAD] [PAD] [PAD] [PAD] [PAD] [PAD] [PAD] [PAD] [PAD] [PAD] [PAD] [PAD] [PAD] [PAD] [PAD] [PAD] [PAD] [PAD] [PAD] [PAD] [PAD] [PAD] [PAD] [PAD] [PAD] [PAD] [PAD] [PAD] [PAD] \n",
      "\n",
      "[CLS] En agosto de 2013 se detec ##ta un nó ##dulo subcu ##táneo de 1 , 5 cm en la zona de la cicatriz del hall ##ux derecho y también una lesión en la cara interna de la pierna derecha de 0 , 5 cm . [SEP] [PAD] [PAD] [PAD] [PAD] [PAD] [PAD] [PAD] [PAD] [PAD] [PAD] [PAD] [PAD] [PAD] [PAD] [PAD] [PAD] [PAD] [PAD] [PAD] [PAD] [PAD] [PAD] [PAD] [PAD] [PAD] [PAD] [PAD] [PAD] [PAD] [PAD] [PAD] [PAD] [PAD] [PAD] [PAD] [PAD] [PAD] [PAD] [PAD] [PAD] [PAD] [PAD] [PAD] [PAD] [PAD] [PAD] [PAD] [PAD] [PAD] [PAD] [PAD] [PAD] [PAD] [PAD] [PAD] [PAD] [PAD] [PAD] [PAD] [PAD] [PAD] [PAD] [PAD] [PAD] [PAD] [PAD] [PAD] [PAD] [PAD] [PAD] [PAD] [PAD] [PAD] [PAD] [PAD] [PAD] [PAD] [PAD] [PAD] [PAD] [PAD] \n",
      "\n",
      "[CLS] Se considera reci ##di ##va intra ##tra ##tamiento , por lo que se inter ##viene , realiz ##ándose ex ##ér ##esis local y ampliación de márgenes . [SEP] [PAD] [PAD] [PAD] [PAD] [PAD] [PAD] [PAD] [PAD] [PAD] [PAD] [PAD] [PAD] [PAD] [PAD] [PAD] [PAD] [PAD] [PAD] [PAD] [PAD] [PAD] [PAD] [PAD] [PAD] [PAD] [PAD] [PAD] [PAD] [PAD] [PAD] [PAD] [PAD] [PAD] [PAD] [PAD] [PAD] [PAD] [PAD] [PAD] [PAD] [PAD] [PAD] [PAD] [PAD] [PAD] [PAD] [PAD] [PAD] [PAD] [PAD] [PAD] [PAD] [PAD] [PAD] [PAD] [PAD] [PAD] [PAD] [PAD] [PAD] [PAD] [PAD] [PAD] [PAD] [PAD] [PAD] [PAD] [PAD] [PAD] [PAD] [PAD] [PAD] [PAD] [PAD] [PAD] [PAD] [PAD] [PAD] [PAD] [PAD] [PAD] [PAD] [PAD] [PAD] [PAD] [PAD] [PAD] [PAD] [PAD] [PAD] [PAD] [PAD] [PAD] [PAD] [PAD] [PAD] [PAD] [PAD] [PAD] \n",
      "\n",
      "[CLS] AP : melan ##oma de 2 , 4 x 0 , [UNK] x 0 , 8 cm con afecta ##ción del margen de rese ##cción . [SEP] [PAD] [PAD] [PAD] [PAD] [PAD] [PAD] [PAD] [PAD] [PAD] [PAD] [PAD] [PAD] [PAD] [PAD] [PAD] [PAD] [PAD] [PAD] [PAD] [PAD] [PAD] [PAD] [PAD] [PAD] [PAD] [PAD] [PAD] [PAD] [PAD] [PAD] [PAD] [PAD] [PAD] [PAD] [PAD] [PAD] [PAD] [PAD] [PAD] [PAD] [PAD] [PAD] [PAD] [PAD] [PAD] [PAD] [PAD] [PAD] [PAD] [PAD] [PAD] [PAD] [PAD] [PAD] [PAD] [PAD] [PAD] [PAD] [PAD] [PAD] [PAD] [PAD] [PAD] [PAD] [PAD] [PAD] [PAD] [PAD] [PAD] [PAD] [PAD] [PAD] [PAD] [PAD] [PAD] [PAD] [PAD] [PAD] [PAD] [PAD] [PAD] [PAD] [PAD] [PAD] [PAD] [PAD] [PAD] [PAD] [PAD] [PAD] [PAD] [PAD] [PAD] [PAD] [PAD] [PAD] [PAD] [PAD] [PAD] [PAD] \n",
      "\n",
      "[CLS] Se decide enviar a On ##col ##o ##gía Radio ##ter ##ápi ##ca por margen afecto . [SEP] [PAD] [PAD] [PAD] [PAD] [PAD] [PAD] [PAD] [PAD] [PAD] [PAD] [PAD] [PAD] [PAD] [PAD] [PAD] [PAD] [PAD] [PAD] [PAD] [PAD] [PAD] [PAD] [PAD] [PAD] [PAD] [PAD] [PAD] [PAD] [PAD] [PAD] [PAD] [PAD] [PAD] [PAD] [PAD] [PAD] [PAD] [PAD] [PAD] [PAD] [PAD] [PAD] [PAD] [PAD] [PAD] [PAD] [PAD] [PAD] [PAD] [PAD] [PAD] [PAD] [PAD] [PAD] [PAD] [PAD] [PAD] [PAD] [PAD] [PAD] [PAD] [PAD] [PAD] [PAD] [PAD] [PAD] [PAD] [PAD] [PAD] [PAD] [PAD] [PAD] [PAD] [PAD] [PAD] [PAD] [PAD] [PAD] [PAD] [PAD] [PAD] [PAD] [PAD] [PAD] [PAD] [PAD] [PAD] [PAD] [PAD] [PAD] [PAD] [PAD] [PAD] [PAD] [PAD] [PAD] [PAD] [PAD] [PAD] [PAD] [PAD] [PAD] [PAD] [PAD] [PAD] [PAD] [PAD] [PAD] [PAD] [PAD] \n",
      "\n",
      "[CLS] Evolución De septiembre a octubre de 2013 recibe tratamiento radio ##ter ##ápi ##co \" ad ##yu ##van ##te \" : PT ##V en la lesión gui ##ada por cicatriz en el pie derecho más 3 cm de margen , frac ##cionamiento 2 , 5 Gy en 24 fracciones hasta admi ##ns ##it ##rar una dosis total de 60 Gy . [SEP] [PAD] [PAD] [PAD] [PAD] [PAD] [PAD] [PAD] [PAD] [PAD] [PAD] [PAD] [PAD] [PAD] [PAD] [PAD] [PAD] [PAD] [PAD] [PAD] [PAD] [PAD] [PAD] [PAD] [PAD] [PAD] [PAD] [PAD] [PAD] [PAD] [PAD] [PAD] [PAD] [PAD] [PAD] [PAD] [PAD] [PAD] [PAD] [PAD] [PAD] [PAD] [PAD] [PAD] [PAD] [PAD] [PAD] [PAD] [PAD] [PAD] [PAD] [PAD] [PAD] [PAD] [PAD] [PAD] [PAD] [PAD] [PAD] [PAD] [PAD] [PAD] [PAD] [PAD] [PAD] [PAD] [PAD] \n",
      "\n",
      "[CLS] En noviembre de 2013 presenta progresión cu ##tánea con 4 lesiones hiper ##c ##ró ##micas localizada ##s en el mus ##lo derecho . [SEP] [PAD] [PAD] [PAD] [PAD] [PAD] [PAD] [PAD] [PAD] [PAD] [PAD] [PAD] [PAD] [PAD] [PAD] [PAD] [PAD] [PAD] [PAD] [PAD] [PAD] [PAD] [PAD] [PAD] [PAD] [PAD] [PAD] [PAD] [PAD] [PAD] [PAD] [PAD] [PAD] [PAD] [PAD] [PAD] [PAD] [PAD] [PAD] [PAD] [PAD] [PAD] [PAD] [PAD] [PAD] [PAD] [PAD] [PAD] [PAD] [PAD] [PAD] [PAD] [PAD] [PAD] [PAD] [PAD] [PAD] [PAD] [PAD] [PAD] [PAD] [PAD] [PAD] [PAD] [PAD] [PAD] [PAD] [PAD] [PAD] [PAD] [PAD] [PAD] [PAD] [PAD] [PAD] [PAD] [PAD] [PAD] [PAD] [PAD] [PAD] [PAD] [PAD] [PAD] [PAD] [PAD] [PAD] [PAD] [PAD] [PAD] [PAD] [PAD] [PAD] [PAD] [PAD] [PAD] [PAD] [PAD] [PAD] [PAD] [PAD] [PAD] [PAD] [PAD] \n",
      "\n",
      "[CLS] No hay datos de afecta ##ción tó ##rac ##o - abdomin ##al a distancia . [SEP] [PAD] [PAD] [PAD] [PAD] [PAD] [PAD] [PAD] [PAD] [PAD] [PAD] [PAD] [PAD] [PAD] [PAD] [PAD] [PAD] [PAD] [PAD] [PAD] [PAD] [PAD] [PAD] [PAD] [PAD] [PAD] [PAD] [PAD] [PAD] [PAD] [PAD] [PAD] [PAD] [PAD] [PAD] [PAD] [PAD] [PAD] [PAD] [PAD] [PAD] [PAD] [PAD] [PAD] [PAD] [PAD] [PAD] [PAD] [PAD] [PAD] [PAD] [PAD] [PAD] [PAD] [PAD] [PAD] [PAD] [PAD] [PAD] [PAD] [PAD] [PAD] [PAD] [PAD] [PAD] [PAD] [PAD] [PAD] [PAD] [PAD] [PAD] [PAD] [PAD] [PAD] [PAD] [PAD] [PAD] [PAD] [PAD] [PAD] [PAD] [PAD] [PAD] [PAD] [PAD] [PAD] [PAD] [PAD] [PAD] [PAD] [PAD] [PAD] [PAD] [PAD] [PAD] [PAD] [PAD] [PAD] [PAD] [PAD] [PAD] [PAD] [PAD] [PAD] [PAD] [PAD] [PAD] [PAD] [PAD] [PAD] [PAD] [PAD] \n",
      "\n",
      "[CLS] Entre tanto , se realiza determinación del estado mu ##ta ##cional de B - RA ##F , el cual es nativo . [SEP] [PAD] [PAD] [PAD] [PAD] [PAD] [PAD] [PAD] [PAD] [PAD] [PAD] [PAD] [PAD] [PAD] [PAD] [PAD] [PAD] [PAD] [PAD] [PAD] [PAD] [PAD] [PAD] [PAD] [PAD] [PAD] [PAD] [PAD] [PAD] [PAD] [PAD] [PAD] [PAD] [PAD] [PAD] [PAD] [PAD] [PAD] [PAD] [PAD] [PAD] [PAD] [PAD] [PAD] [PAD] [PAD] [PAD] [PAD] [PAD] [PAD] [PAD] [PAD] [PAD] [PAD] [PAD] [PAD] [PAD] [PAD] [PAD] [PAD] [PAD] [PAD] [PAD] [PAD] [PAD] [PAD] [PAD] [PAD] [PAD] [PAD] [PAD] [PAD] [PAD] [PAD] [PAD] [PAD] [PAD] [PAD] [PAD] [PAD] [PAD] [PAD] [PAD] [PAD] [PAD] [PAD] [PAD] [PAD] [PAD] [PAD] [PAD] [PAD] [PAD] [PAD] [PAD] [PAD] [PAD] [PAD] [PAD] [PAD] [PAD] [PAD] [PAD] [PAD] [PAD] \n",
      "\n",
      "[CLS] A la progresión cu ##tánea se propone tratamiento con D ##TI ##C ( 1 . 000 mg [UNK] m ##2 cada 21 días ) , administra ##n ##do un primer ciclo en diciembre de 2013 . [SEP] [PAD] [PAD] [PAD] [PAD] [PAD] [PAD] [PAD] [PAD] [PAD] [PAD] [PAD] [PAD] [PAD] [PAD] [PAD] [PAD] [PAD] [PAD] [PAD] [PAD] [PAD] [PAD] [PAD] [PAD] [PAD] [PAD] [PAD] [PAD] [PAD] [PAD] [PAD] [PAD] [PAD] [PAD] [PAD] [PAD] [PAD] [PAD] [PAD] [PAD] [PAD] [PAD] [PAD] [PAD] [PAD] [PAD] [PAD] [PAD] [PAD] [PAD] [PAD] [PAD] [PAD] [PAD] [PAD] [PAD] [PAD] [PAD] [PAD] [PAD] [PAD] [PAD] [PAD] [PAD] [PAD] [PAD] [PAD] [PAD] [PAD] [PAD] [PAD] [PAD] [PAD] [PAD] [PAD] [PAD] [PAD] [PAD] [PAD] [PAD] [PAD] [PAD] [PAD] [PAD] [PAD] [PAD] [PAD] [PAD] [PAD] [PAD] \n",
      "\n",
      "[CLS] En enero de 2014 acu ##de a consulta con un cuadro de ic ##teri ##cia mu ##coc ##ut ##án ##ea y col ##uria . [SEP] [PAD] [PAD] [PAD] [PAD] [PAD] [PAD] [PAD] [PAD] [PAD] [PAD] [PAD] [PAD] [PAD] [PAD] [PAD] [PAD] [PAD] [PAD] [PAD] [PAD] [PAD] [PAD] [PAD] [PAD] [PAD] [PAD] [PAD] [PAD] [PAD] [PAD] [PAD] [PAD] [PAD] [PAD] [PAD] [PAD] [PAD] [PAD] [PAD] [PAD] [PAD] [PAD] [PAD] [PAD] [PAD] [PAD] [PAD] [PAD] [PAD] [PAD] [PAD] [PAD] [PAD] [PAD] [PAD] [PAD] [PAD] [PAD] [PAD] [PAD] [PAD] [PAD] [PAD] [PAD] [PAD] [PAD] [PAD] [PAD] [PAD] [PAD] [PAD] [PAD] [PAD] [PAD] [PAD] [PAD] [PAD] [PAD] [PAD] [PAD] [PAD] [PAD] [PAD] [PAD] [PAD] [PAD] [PAD] [PAD] [PAD] [PAD] [PAD] [PAD] [PAD] [PAD] [PAD] [PAD] [PAD] [PAD] [PAD] [PAD] [PAD] [PAD] \n",
      "\n",
      "[CLS] Se detec ##ta bil ##ir ##ru ##bina total de [UNK] , [UNK] mg [UNK] d ##l , bil ##ir ##ru ##bina directa de 5 , 9 mg [UNK] d ##l . [SEP] [PAD] [PAD] [PAD] [PAD] [PAD] [PAD] [PAD] [PAD] [PAD] [PAD] [PAD] [PAD] [PAD] [PAD] [PAD] [PAD] [PAD] [PAD] [PAD] [PAD] [PAD] [PAD] [PAD] [PAD] [PAD] [PAD] [PAD] [PAD] [PAD] [PAD] [PAD] [PAD] [PAD] [PAD] [PAD] [PAD] [PAD] [PAD] [PAD] [PAD] [PAD] [PAD] [PAD] [PAD] [PAD] [PAD] [PAD] [PAD] [PAD] [PAD] [PAD] [PAD] [PAD] [PAD] [PAD] [PAD] [PAD] [PAD] [PAD] [PAD] [PAD] [PAD] [PAD] [PAD] [PAD] [PAD] [PAD] [PAD] [PAD] [PAD] [PAD] [PAD] [PAD] [PAD] [PAD] [PAD] [PAD] [PAD] [PAD] [PAD] [PAD] [PAD] [PAD] [PAD] [PAD] [PAD] [PAD] [PAD] [PAD] [PAD] [PAD] [PAD] [PAD] [PAD] [PAD] \n",
      "\n",
      "[CLS] AL ##T 2 . 02 ##2 UI [UNK] l , AS ##T 84 ##0 UI [UNK] l . [SEP] [PAD] [PAD] [PAD] [PAD] [PAD] [PAD] [PAD] [PAD] [PAD] [PAD] [PAD] [PAD] [PAD] [PAD] [PAD] [PAD] [PAD] [PAD] [PAD] [PAD] [PAD] [PAD] [PAD] [PAD] [PAD] [PAD] [PAD] [PAD] [PAD] [PAD] [PAD] [PAD] [PAD] [PAD] [PAD] [PAD] [PAD] [PAD] [PAD] [PAD] [PAD] [PAD] [PAD] [PAD] [PAD] [PAD] [PAD] [PAD] [PAD] [PAD] [PAD] [PAD] [PAD] [PAD] [PAD] [PAD] [PAD] [PAD] [PAD] [PAD] [PAD] [PAD] [PAD] [PAD] [PAD] [PAD] [PAD] [PAD] [PAD] [PAD] [PAD] [PAD] [PAD] [PAD] [PAD] [PAD] [PAD] [PAD] [PAD] [PAD] [PAD] [PAD] [PAD] [PAD] [PAD] [PAD] [PAD] [PAD] [PAD] [PAD] [PAD] [PAD] [PAD] [PAD] [PAD] [PAD] [PAD] [PAD] [PAD] [PAD] [PAD] [PAD] [PAD] [PAD] [PAD] [PAD] [PAD] [PAD] \n",
      "\n",
      "[CLS] Se realizan una eco ##grafía he ##pa ##to ##bili ##ar , con resultado normal , y ser ##ología de virus de hepatitis , con resultado de perfil de hepatitis B aguda . [SEP] [PAD] [PAD] [PAD] [PAD] [PAD] [PAD] [PAD] [PAD] [PAD] [PAD] [PAD] [PAD] [PAD] [PAD] [PAD] [PAD] [PAD] [PAD] [PAD] [PAD] [PAD] [PAD] [PAD] [PAD] [PAD] [PAD] [PAD] [PAD] [PAD] [PAD] [PAD] [PAD] [PAD] [PAD] [PAD] [PAD] [PAD] [PAD] [PAD] [PAD] [PAD] [PAD] [PAD] [PAD] [PAD] [PAD] [PAD] [PAD] [PAD] [PAD] [PAD] [PAD] [PAD] [PAD] [PAD] [PAD] [PAD] [PAD] [PAD] [PAD] [PAD] [PAD] [PAD] [PAD] [PAD] [PAD] [PAD] [PAD] [PAD] [PAD] [PAD] [PAD] [PAD] [PAD] [PAD] [PAD] [PAD] [PAD] [PAD] [PAD] [PAD] [PAD] [PAD] [PAD] [PAD] [PAD] [PAD] [PAD] [PAD] [PAD] [PAD] [PAD] [PAD] [PAD] \n",
      "\n",
      "[CLS] Se remite al Servicio de Apar ##ato Dig ##estiv ##o , quienes realizan tratamiento conservador , observ ##ándose en semanas posteriores un descenso marcado en los valores de bil ##ir ##ru ##bina , AL ##T y AS ##T hasta la completa normalidad . [SEP] [PAD] [PAD] [PAD] [PAD] [PAD] [PAD] [PAD] [PAD] [PAD] [PAD] [PAD] [PAD] [PAD] [PAD] [PAD] [PAD] [PAD] [PAD] [PAD] [PAD] [PAD] [PAD] [PAD] [PAD] [PAD] [PAD] [PAD] [PAD] [PAD] [PAD] [PAD] [PAD] [PAD] [PAD] [PAD] [PAD] [PAD] [PAD] [PAD] [PAD] [PAD] [PAD] [PAD] [PAD] [PAD] [PAD] [PAD] [PAD] [PAD] [PAD] [PAD] [PAD] [PAD] [PAD] [PAD] [PAD] [PAD] [PAD] [PAD] [PAD] [PAD] [PAD] [PAD] [PAD] [PAD] [PAD] [PAD] [PAD] [PAD] [PAD] [PAD] [PAD] [PAD] [PAD] [PAD] [PAD] [PAD] [PAD] [PAD] [PAD] [PAD] [PAD] [PAD] \n",
      "\n",
      "[CLS] Entre tanto , presenta crecimiento de numerosas lesiones subcu ##tánea ##s distribuida ##s en la cara anterior e interna del mus ##lo derecho sin datos de afecta ##ción a distancia en la TC . [SEP] [PAD] [PAD] [PAD] [PAD] [PAD] [PAD] [PAD] [PAD] [PAD] [PAD] [PAD] [PAD] [PAD] [PAD] [PAD] [PAD] [PAD] [PAD] [PAD] [PAD] [PAD] [PAD] [PAD] [PAD] [PAD] [PAD] [PAD] [PAD] [PAD] [PAD] [PAD] [PAD] [PAD] [PAD] [PAD] [PAD] [PAD] [PAD] [PAD] [PAD] [PAD] [PAD] [PAD] [PAD] [PAD] [PAD] [PAD] [PAD] [PAD] [PAD] [PAD] [PAD] [PAD] [PAD] [PAD] [PAD] [PAD] [PAD] [PAD] [PAD] [PAD] [PAD] [PAD] [PAD] [PAD] [PAD] [PAD] [PAD] [PAD] [PAD] [PAD] [PAD] [PAD] [PAD] [PAD] [PAD] [PAD] [PAD] [PAD] [PAD] [PAD] [PAD] [PAD] [PAD] [PAD] [PAD] [PAD] [PAD] [PAD] [PAD] [PAD] [PAD] \n",
      "\n",
      "[CLS] Se considera metá ##stas ##is en tránsito de melan ##oma , por lo que en marzo de 2014 inicia la administración de inter ##le ##uci ##na - 2 intra ##les ##ional . [SEP] [PAD] [PAD] [PAD] [PAD] [PAD] [PAD] [PAD] [PAD] [PAD] [PAD] [PAD] [PAD] [PAD] [PAD] [PAD] [PAD] [PAD] [PAD] [PAD] [PAD] [PAD] [PAD] [PAD] [PAD] [PAD] [PAD] [PAD] [PAD] [PAD] [PAD] [PAD] [PAD] [PAD] [PAD] [PAD] [PAD] [PAD] [PAD] [PAD] [PAD] [PAD] [PAD] [PAD] [PAD] [PAD] [PAD] [PAD] [PAD] [PAD] [PAD] [PAD] [PAD] [PAD] [PAD] [PAD] [PAD] [PAD] [PAD] [PAD] [PAD] [PAD] [PAD] [PAD] [PAD] [PAD] [PAD] [PAD] [PAD] [PAD] [PAD] [PAD] [PAD] [PAD] [PAD] [PAD] [PAD] [PAD] [PAD] [PAD] [PAD] [PAD] [PAD] [PAD] [PAD] [PAD] [PAD] [PAD] [PAD] [PAD] [PAD] [PAD] [PAD] [PAD] [PAD] \n",
      "\n",
      "[CLS] Se aplica 1 ml en cada una de las lesiones subcu ##tánea ##s , cubriendo un total de 20 lesiones por cada ciclo administrado cada 14 días , sin presentar efectos secundarios sist ##émico ##s , salvo dolor EV ##A 3 en los puntos de insti ##lación , que mejora ##ba con el para ##ceta ##mol . [SEP] [PAD] [PAD] [PAD] [PAD] [PAD] [PAD] [PAD] [PAD] [PAD] [PAD] [PAD] [PAD] [PAD] [PAD] [PAD] [PAD] [PAD] [PAD] [PAD] [PAD] [PAD] [PAD] [PAD] [PAD] [PAD] [PAD] [PAD] [PAD] [PAD] [PAD] [PAD] [PAD] [PAD] [PAD] [PAD] [PAD] [PAD] [PAD] [PAD] [PAD] [PAD] [PAD] [PAD] [PAD] [PAD] [PAD] [PAD] [PAD] [PAD] [PAD] [PAD] [PAD] [PAD] [PAD] [PAD] [PAD] [PAD] [PAD] [PAD] [PAD] [PAD] [PAD] [PAD] [PAD] [PAD] [PAD] [PAD] [PAD] [PAD] \n",
      "\n",
      "[CLS] Con este tratamiento completa 5 ciclos hasta el mayo de 2014 , presentando desaparición de la mayoría de las lesiones , persist ##iendo algunas de localización central . [SEP] [PAD] [PAD] [PAD] [PAD] [PAD] [PAD] [PAD] [PAD] [PAD] [PAD] [PAD] [PAD] [PAD] [PAD] [PAD] [PAD] [PAD] [PAD] [PAD] [PAD] [PAD] [PAD] [PAD] [PAD] [PAD] [PAD] [PAD] [PAD] [PAD] [PAD] [PAD] [PAD] [PAD] [PAD] [PAD] [PAD] [PAD] [PAD] [PAD] [PAD] [PAD] [PAD] [PAD] [PAD] [PAD] [PAD] [PAD] [PAD] [PAD] [PAD] [PAD] [PAD] [PAD] [PAD] [PAD] [PAD] [PAD] [PAD] [PAD] [PAD] [PAD] [PAD] [PAD] [PAD] [PAD] [PAD] [PAD] [PAD] [PAD] [PAD] [PAD] [PAD] [PAD] [PAD] [PAD] [PAD] [PAD] [PAD] [PAD] [PAD] [PAD] [PAD] [PAD] [PAD] [PAD] [PAD] [PAD] [PAD] [PAD] [PAD] [PAD] [PAD] [PAD] [PAD] [PAD] [PAD] [PAD] [PAD] \n",
      "\n",
      "[CLS] El 30 de mayo de 2014 acu ##de con una TC de ree ##valuación , obje ##tiv ##ándose progresión ing ##ui ##nal izquierda y una aden ##op ##atía en la cadena il ##iac ##a externa derecha de 3 , 3 x 2 , 3 cm compatible con progresión . [SEP] [PAD] [PAD] [PAD] [PAD] [PAD] [PAD] [PAD] [PAD] [PAD] [PAD] [PAD] [PAD] [PAD] [PAD] [PAD] [PAD] [PAD] [PAD] [PAD] [PAD] [PAD] [PAD] [PAD] [PAD] [PAD] [PAD] [PAD] [PAD] [PAD] [PAD] [PAD] [PAD] [PAD] [PAD] [PAD] [PAD] [PAD] [PAD] [PAD] [PAD] [PAD] [PAD] [PAD] [PAD] [PAD] [PAD] [PAD] [PAD] [PAD] [PAD] [PAD] [PAD] [PAD] [PAD] [PAD] [PAD] [PAD] [PAD] [PAD] [PAD] [PAD] [PAD] [PAD] [PAD] [PAD] [PAD] [PAD] [PAD] [PAD] [PAD] [PAD] [PAD] [PAD] [PAD] [PAD] [PAD] [PAD] \n",
      "\n",
      "[CLS] Se ha propuesto una nueva línea de tratamiento con i ##pil ##im ##uma ##b , pendiente de iniciar . [SEP] [PAD] [PAD] [PAD] [PAD] [PAD] [PAD] [PAD] [PAD] [PAD] [PAD] [PAD] [PAD] [PAD] [PAD] [PAD] [PAD] [PAD] [PAD] [PAD] [PAD] [PAD] [PAD] [PAD] [PAD] [PAD] [PAD] [PAD] [PAD] [PAD] [PAD] [PAD] [PAD] [PAD] [PAD] [PAD] [PAD] [PAD] [PAD] [PAD] [PAD] [PAD] [PAD] [PAD] [PAD] [PAD] [PAD] [PAD] [PAD] [PAD] [PAD] [PAD] [PAD] [PAD] [PAD] [PAD] [PAD] [PAD] [PAD] [PAD] [PAD] [PAD] [PAD] [PAD] [PAD] [PAD] [PAD] [PAD] [PAD] [PAD] [PAD] [PAD] [PAD] [PAD] [PAD] [PAD] [PAD] [PAD] [PAD] [PAD] [PAD] [PAD] [PAD] [PAD] [PAD] [PAD] [PAD] [PAD] [PAD] [PAD] [PAD] [PAD] [PAD] [PAD] [PAD] [PAD] [PAD] [PAD] [PAD] [PAD] [PAD] [PAD] [PAD] [PAD] [PAD] [PAD] [PAD] [PAD] \n",
      "\n"
     ]
    }
   ],
   "source": [
    "check_id_frag = sum(dev_frag[:check_id])\n",
    "for frag in dev_ind[check_id_frag:check_id_frag + dev_frag[check_id]]:\n",
    "    print(' '.join([tokenizer._token_dict_inv[ind] for ind in frag]), \"\\n\")"
   ]
  },
  {
   "cell_type": "code",
   "execution_count": 88,
   "metadata": {},
   "outputs": [
    {
     "data": {
      "text/plain": [
       "count    8298.000000\n",
       "mean        0.294408\n",
       "std         0.586679\n",
       "min         0.000000\n",
       "25%         0.000000\n",
       "50%         0.000000\n",
       "75%         0.000000\n",
       "max         6.000000\n",
       "dtype: float64"
      ]
     },
     "execution_count": 88,
     "metadata": {},
     "output_type": "execute_result"
    }
   ],
   "source": [
    "# Fragment labels distribution\n",
    "pd.Series(np.sum(dev_y, axis=1)).describe()"
   ]
  },
  {
   "cell_type": "markdown",
   "metadata": {},
   "source": [
    "### Training & Development corpus\n",
    "\n",
    "We merge the previously generated datasets:"
   ]
  },
  {
   "cell_type": "code",
   "execution_count": 89,
   "metadata": {},
   "outputs": [],
   "source": [
    "# Indices\n",
    "train_dev_ind = np.concatenate((train_ind, dev_ind))"
   ]
  },
  {
   "cell_type": "code",
   "execution_count": 90,
   "metadata": {},
   "outputs": [
    {
     "data": {
      "text/plain": [
       "(35908, 128)"
      ]
     },
     "execution_count": 90,
     "metadata": {},
     "output_type": "execute_result"
    }
   ],
   "source": [
    "train_dev_ind.shape"
   ]
  },
  {
   "cell_type": "code",
   "execution_count": 91,
   "metadata": {},
   "outputs": [],
   "source": [
    "# Segments\n",
    "train_dev_seg = np.concatenate((train_seg, dev_seg))"
   ]
  },
  {
   "cell_type": "code",
   "execution_count": 92,
   "metadata": {},
   "outputs": [
    {
     "data": {
      "text/plain": [
       "(35908, 128)"
      ]
     },
     "execution_count": 92,
     "metadata": {},
     "output_type": "execute_result"
    }
   ],
   "source": [
    "train_dev_seg.shape"
   ]
  },
  {
   "cell_type": "code",
   "execution_count": 93,
   "metadata": {},
   "outputs": [],
   "source": [
    "# y\n",
    "train_dev_y = np.concatenate((train_y, dev_y))"
   ]
  },
  {
   "cell_type": "code",
   "execution_count": 94,
   "metadata": {},
   "outputs": [
    {
     "data": {
      "text/plain": [
       "(35908, 743)"
      ]
     },
     "execution_count": 94,
     "metadata": {},
     "output_type": "execute_result"
    }
   ],
   "source": [
    "train_dev_y.shape"
   ]
  },
  {
   "cell_type": "markdown",
   "metadata": {},
   "source": [
    "## Fine-tuning\n",
    "\n",
    "Using the corpus of labeled sentences, we fine-tune the model on a multi-label sentence classification task."
   ]
  },
  {
   "cell_type": "code",
   "execution_count": 95,
   "metadata": {},
   "outputs": [],
   "source": [
    "from keras.backend.tensorflow_backend import set_session\n",
    "\n",
    "# Prevent GPU memory allocation problems\n",
    "config = tf.ConfigProto()\n",
    "config.gpu_options.allow_growth = True\n",
    "set_session(tf.Session(config=config))"
   ]
  },
  {
   "cell_type": "code",
   "execution_count": 107,
   "metadata": {},
   "outputs": [],
   "source": [
    "from keras_bert import load_trained_model_from_checkpoint\n",
    "\n",
    "model = load_trained_model_from_checkpoint(\n",
    "    config_file=config_path, \n",
    "    checkpoint_file=checkpoint_path, \n",
    "    training=training,                                       \n",
    "    trainable=trainable, \n",
    "    seq_len=SEQ_LEN\n",
    ")"
   ]
  },
  {
   "cell_type": "code",
   "execution_count": 108,
   "metadata": {},
   "outputs": [
    {
     "data": {
      "text/plain": [
       "[<tf.Tensor 'Input-Token:0' shape=(?, 128) dtype=float32>,\n",
       " <tf.Tensor 'Input-Segment:0' shape=(?, 128) dtype=float32>]"
      ]
     },
     "execution_count": 108,
     "metadata": {},
     "output_type": "execute_result"
    }
   ],
   "source": [
    "model.inputs"
   ]
  },
  {
   "cell_type": "code",
   "execution_count": 109,
   "metadata": {},
   "outputs": [
    {
     "data": {
      "text/plain": [
       "[<tf.Tensor 'Encoder-12-FeedForward-Norm/add_1:0' shape=(?, 128, 768) dtype=float32>]"
      ]
     },
     "execution_count": 109,
     "metadata": {},
     "output_type": "execute_result"
    }
   ],
   "source": [
    "model.outputs"
   ]
  },
  {
   "cell_type": "code",
   "execution_count": 110,
   "metadata": {},
   "outputs": [],
   "source": [
    "from keras.layers import Dense, Activation\n",
    "from keras.models import Model\n",
    "from keras.initializers import glorot_uniform\n",
    "from keras_bert.layers import Extract\n",
    "\n",
    "dense_cls = Extract(index=0, name='Extract')(model.output) # In order to extract CLS token embedding\n",
    "dense_out = Dense(units=num_labels, kernel_initializer=glorot_uniform(seed=random_seed))(dense_cls) # Multi-label classification\n",
    "outputs = Activation('sigmoid')(dense_out)\n",
    "\n",
    "model = Model(model.inputs, outputs)"
   ]
  },
  {
   "cell_type": "code",
   "execution_count": 111,
   "metadata": {},
   "outputs": [
    {
     "data": {
      "text/plain": [
       "[<tf.Tensor 'Input-Token:0' shape=(?, 128) dtype=float32>,\n",
       " <tf.Tensor 'Input-Segment:0' shape=(?, 128) dtype=float32>]"
      ]
     },
     "execution_count": 111,
     "metadata": {},
     "output_type": "execute_result"
    }
   ],
   "source": [
    "model.inputs"
   ]
  },
  {
   "cell_type": "code",
   "execution_count": 112,
   "metadata": {},
   "outputs": [
    {
     "data": {
      "text/plain": [
       "[<tf.Tensor 'activation_1/Sigmoid:0' shape=(?, 743) dtype=float32>]"
      ]
     },
     "execution_count": 112,
     "metadata": {},
     "output_type": "execute_result"
    }
   ],
   "source": [
    "model.outputs"
   ]
  },
  {
   "cell_type": "code",
   "execution_count": null,
   "metadata": {},
   "outputs": [
    {
     "name": "stdout",
     "output_type": "stream",
     "text": [
      "Epoch 1/20\n",
      "35908/35908 [==============================] - 595s 17ms/step - loss: 0.0763\n",
      "Epoch 2/20\n",
      "25024/35908 [===================>..........] - ETA: 2:58 - loss: 0.0031"
     ]
    }
   ],
   "source": [
    "%%time\n",
    "from keras_radam import RAdam\n",
    "\n",
    "model.compile(\n",
    "    optimizer=RAdam(learning_rate=LR),\n",
    "    loss='binary_crossentropy'\n",
    ")\n",
    "\n",
    "history = model.fit(\n",
    "    x=[train_dev_ind, train_dev_seg],\n",
    "    y=train_dev_y,\n",
    "    epochs=EPOCHS,\n",
    "    batch_size=BATCH_SIZE,\n",
    "    shuffle=True\n",
    ")"
   ]
  },
  {
   "cell_type": "markdown",
   "metadata": {},
   "source": [
    "## Test set predictions\n",
    "\n",
    "Finally, the predictions made by the model on the test set are saved. For this purpose, firstly, each sentence from the test corpus must be converted into a sequence of subwords (input IDs and attention mask arrays). Then, the predictions made by the model at the sentence-level are saved, to be further evaluated at document-level (see `results/Cantemist-Coding/Evaluation.ipynb`)."
   ]
  },
  {
   "cell_type": "code",
   "execution_count": 97,
   "metadata": {},
   "outputs": [
    {
     "name": "stdout",
     "output_type": "stream",
     "text": [
      "CPU times: user 7.21 ms, sys: 4.14 ms, total: 11.3 ms\n",
      "Wall time: 10.5 ms\n"
     ]
    }
   ],
   "source": [
    "%%time\n",
    "test_path = corpus_path + \"test-set/cantemist-ner/\"\n",
    "test_files = [f for f in os.listdir(test_path) if os.path.isfile(test_path + f) and f.split('.')[-1] == 'txt']\n",
    "test_data = load_text_files(test_files, test_path)\n",
    "df_text_test = pd.DataFrame({'doc_id': [s.split('.txt')[0] for s in test_files], 'raw_text': test_data})"
   ]
  },
  {
   "cell_type": "code",
   "execution_count": 98,
   "metadata": {},
   "outputs": [
    {
     "data": {
      "text/plain": [
       "(300, 2)"
      ]
     },
     "execution_count": 98,
     "metadata": {},
     "output_type": "execute_result"
    }
   ],
   "source": [
    "df_text_test.shape"
   ]
  },
  {
   "cell_type": "code",
   "execution_count": 99,
   "metadata": {},
   "outputs": [
    {
     "data": {
      "text/html": [
       "<div>\n",
       "<style scoped>\n",
       "    .dataframe tbody tr th:only-of-type {\n",
       "        vertical-align: middle;\n",
       "    }\n",
       "\n",
       "    .dataframe tbody tr th {\n",
       "        vertical-align: top;\n",
       "    }\n",
       "\n",
       "    .dataframe thead th {\n",
       "        text-align: right;\n",
       "    }\n",
       "</style>\n",
       "<table border=\"1\" class=\"dataframe\">\n",
       "  <thead>\n",
       "    <tr style=\"text-align: right;\">\n",
       "      <th></th>\n",
       "      <th>doc_id</th>\n",
       "      <th>raw_text</th>\n",
       "    </tr>\n",
       "  </thead>\n",
       "  <tbody>\n",
       "    <tr>\n",
       "      <th>0</th>\n",
       "      <td>cc_onco877</td>\n",
       "      <td>Anamnesis\\nMujer de 59 años, alérgica a penici...</td>\n",
       "    </tr>\n",
       "    <tr>\n",
       "      <th>1</th>\n",
       "      <td>cc_onco1075</td>\n",
       "      <td>Anamnesis\\nMujer de 52 años, sin alergias cono...</td>\n",
       "    </tr>\n",
       "    <tr>\n",
       "      <th>2</th>\n",
       "      <td>cc_onco1450</td>\n",
       "      <td>Anamnesis\\nMujer de 51 años de edad, sin antec...</td>\n",
       "    </tr>\n",
       "    <tr>\n",
       "      <th>3</th>\n",
       "      <td>cc_onco1165</td>\n",
       "      <td>Anamnesis\\nPaciente varón de 75 años sin hábit...</td>\n",
       "    </tr>\n",
       "    <tr>\n",
       "      <th>4</th>\n",
       "      <td>cc_onco1298</td>\n",
       "      <td>Anamnesis\\nMujer de 60 años, exfumadora de 20 ...</td>\n",
       "    </tr>\n",
       "  </tbody>\n",
       "</table>\n",
       "</div>"
      ],
      "text/plain": [
       "        doc_id                                           raw_text\n",
       "0   cc_onco877  Anamnesis\\nMujer de 59 años, alérgica a penici...\n",
       "1  cc_onco1075  Anamnesis\\nMujer de 52 años, sin alergias cono...\n",
       "2  cc_onco1450  Anamnesis\\nMujer de 51 años de edad, sin antec...\n",
       "3  cc_onco1165  Anamnesis\\nPaciente varón de 75 años sin hábit...\n",
       "4  cc_onco1298  Anamnesis\\nMujer de 60 años, exfumadora de 20 ..."
      ]
     },
     "execution_count": 99,
     "metadata": {},
     "output_type": "execute_result"
    }
   ],
   "source": [
    "df_text_test.head()"
   ]
  },
  {
   "cell_type": "code",
   "execution_count": 100,
   "metadata": {},
   "outputs": [
    {
     "data": {
      "text/plain": [
       "'Anamnesis\\nMujer de 59 años, alérgica a penicilina y procaína. Fumadora activa (IPA: 43).\\nAntecedentes familiares: abuelo materno diagnosticado de carcinoma colon a los 70 años; madre diagnosticada de carcinoma de mama bilateral a los 50 años; padre fallecido de carcinoma gástrico a los 47 años; tres tías maternas diagnosticadas de carcinoma de mama a los 55, 56 y 57 años respectivamente; y tres primas afectas de cáncer de mama.\\nAntecedentes personales: bronquitis crónica, poliposis colónica, carcinoma ductal infiltrante clásico mama pT2pN0M0 G2 subtipo tumoral luminal a (RH: +, HER-2: negativo) intervenido en agosto de 2013 mediante tumorectomía mama izquierda (patrón round block) + biopsia selectiva ganglio centinela (negativo) y posterior QT adyuvante con esquema TC (paclitaxel-ciclofosfamida) x 4 ciclos.\\nAcude en noviembre de 2013 a visita de seguimiento tras finalizar tratamiento adyuvante. Asintomática.\\n\\nExploración física\\nTemperatura axilar 36,5ºC, tensión arterial 130/83 mm Hg, frecuencia cardiaca 90 lpm y saturación basal de oxígeno del 98 %.\\nConsciente, orientada en las tres esferas, eupneica en reposo. Buen estado general. Glasgow 15. Exploración mamaria: no se aprecian signos de inflamación, ulceración y/o asimetrías. No hay secreción ni retracción de pezón. No se palpan nódulos, masas ni adenopatías regionales. AC: tonos rítmicos, sin soplos. AP: hipoventilación en hemitórax izquierdo. Abdomen: anodino. Sin edemas ni signos de TVP en EEII.\\n\\nPruebas complementarias\\nTC con contraste: nódulos pulmonares de 10 mm en lóbulo superior derecho (LSD), que presenta amplio contacto con pleura y discreta especulación marginal (apariencia atípica para corresponder a enfermedad secundaria) y dos en lóbulo medio (LM) de bordes bien definidos, el mayor de 16 mm.\\nAnalítica general: bioquímica y hemograma sin alteraciones relevantes. Marcadores tumorales: Ca 15,3: 23,3 U/ml (0-30). CEA: 18,27 ng/ml (0-4,6).\\n\\nDiagnóstico\\n- Nódulos pulmonares a estudio.\\n- Carcinoma ductal infiltrante pT2pN0M0 luminal A.\\n\\nTratamiento\\nNo precisa tratamiento específico en este momento.\\n\\nEvolución\\nSe solicita PET/TC que confirma la existencia de nódulo de 1,3 mm en LSD con SUVmax 6,6 y nódulo de 10 mm en LM con SUVmax de 3; sin otros hallazgos.\\nTC craneoencefálica con contraste: no se evidencian imágenes que sugieran existencia de enfermedad secundaria a nivel encefálico. Espacios subaracnoideos de convexidad y sistema ventricular dentro de límites de normalidad.\\nTras presentar el caso en Comité de Tumores Tórax, se plantea intervención quirúrgica. El día 26/2/2014 se realiza resección atípica de ambos nódulos pulmonares (16 mm LSD y 12 mm LM), con resultado anatomopatológico de adenocarcinoma acinar focalmente mucosecretor de origen pulmonar G2 (perfil inmunohistoquímico, IHQ: TTF1:+). Determinación: mutación EGFR (RT-PCR Cobas®): negativa. Translocación ALK (IHQ Novocastra®): negativa.\\nTras la cirugía se solicita PET/TC que detecta hipercaptación en adenopatías 4R, 7, 10R con SUVmax hasta 4. Tras presentar el caso en comité multidisciplinar, se decide solicitar TC que no muestra hallazgos destacables y ecobroncoscopia (EBUS). Se procede a realizar punción-biopsia de adenopatías 4R y 7 resultando negativas para malignidad con hallazgos inflamatorios.\\nContinúa el seguimiento estrecho y en abril/2015 se detecta en TC nódulo pulmonar de 0,6 cm en LSD y aumento de CEA (8). En PET/TC se aprecia micronódulo LSD de 0,5 cm con SUVmax de 1,6 sospechoso de malignidad, sin más datos de enfermedad regional y/o a distancia. Se solicitan además pruebas funcionales respiratorias y broncoscopia, anodina.\\nAnte sospecha de recidiva local, se presenta nuevamente en Comité de Tumores Tórax y se plantea cirugía. Se interviene bajo anestesia general, el 25-6-2015 realizándose resección sublobar atípica en cuña de LSD, localizando nódulo en segmento posterior de LSD. El resultado anatomopatológico confirma adenocarcinoma moderadamente diferenciado de origen pulmonar pT1aN0M0 (perfil IHQ: TTF1:+, RH: -; Ki 67: 75 %). Posteriormente recibe QT adyuvante esquema cisplatino 75 mg/m2 IV d1 + VNR oral 60 mg/m2 d1y8 c/21d, x 4 ciclos con buena tolerancia y respuesta completa radiológica.\\nControles periódicos posteriores sin evidencia de enfermedad hasta que en mayo/2017 aparece en TC progresión de enfermedad con aparición de masa pulmonar izquierda, nódulos pulmonares metastásicos bilaterales, afectación metastásica ganglionar mediastínica e hiliar izquierda con diseminación ósea. Múltiples adenopatías y conglomerados mediastínicos, lesión blástica en cuerpo vertebral T5.\\nDurante la exploración física, destacaba palpación de conglomerado adenopático en región supraclavicular izquierda doloroso en la palpación.\\nSe solicitó determinación de perfil genómico con material de la biopsia de pieza quirúrgica tumoral previa a través de la plataforma Next Generation Sequencing (NGS) FoundationOne® en el que se identificaron amplificación ERBB2, mutación BRCA-1 (variante D1692fs*10), amplificación MYC, mutación TP53 (splicesite 920-1G>T), además de una alta carga mutacional (TMB-High; 42Muts/Mb).\\nSe solicitó adicionalmente determinación por inmunohistoquímica de PD-L1, encontrando expresión del mismo en menos del 1 % (sin expresión).\\nSe confirma en gammagrafía ósea presencia de múltiples metástasis óseas distribuidas en calota, parrilla costal, raquis, esternón, ambos húmeros, pelvis y fémur derecho.\\nCon todos los hallazgos clínico-radiológicos y perfil genómico e IHQ tumoral, valorando las diferentes opciones terapéuticas, se decide iniciar primera línea de QT paliativa con esquema carboplatino AUC-5+ pemetrexed 500 mg/m2 IV d1 c/21d + ácido zoledrónico 4 mg IV.\\nEn la actualidad, ha completado 2 ciclos con buena tolerancia y se ha solicitado radioterapia paliativa antiálgica sobre lesiones óseas pélvicas, debido al mal control del dolor a pesar de analgesia de tercer escalón.'"
      ]
     },
     "execution_count": 100,
     "metadata": {},
     "output_type": "execute_result"
    }
   ],
   "source": [
    "df_text_test.raw_text[0]"
   ]
  },
  {
   "cell_type": "code",
   "execution_count": 101,
   "metadata": {},
   "outputs": [],
   "source": [
    "test_doc_list = sorted(set(df_text_test[\"doc_id\"]))"
   ]
  },
  {
   "cell_type": "code",
   "execution_count": 102,
   "metadata": {},
   "outputs": [
    {
     "data": {
      "text/plain": [
       "300"
      ]
     },
     "execution_count": 102,
     "metadata": {},
     "output_type": "execute_result"
    }
   ],
   "source": [
    "len(test_doc_list)"
   ]
  },
  {
   "cell_type": "code",
   "execution_count": 103,
   "metadata": {},
   "outputs": [
    {
     "name": "stdout",
     "output_type": "stream",
     "text": [
      "CPU times: user 163 ms, sys: 28.3 ms, total: 191 ms\n",
      "Wall time: 189 ms\n"
     ]
    }
   ],
   "source": [
    "%%time\n",
    "ss_sub_corpus_path = ss_corpus_path + \"test-background/\"\n",
    "ss_files = [f for f in os.listdir(ss_sub_corpus_path) if os.path.isfile(ss_sub_corpus_path + f)]\n",
    "ss_dict_test = load_ss_files(ss_files, ss_sub_corpus_path)"
   ]
  },
  {
   "cell_type": "code",
   "execution_count": 104,
   "metadata": {},
   "outputs": [
    {
     "name": "stderr",
     "output_type": "stream",
     "text": [
      "100%|██████████| 300/300 [00:03<00:00, 84.88it/s] "
     ]
    },
    {
     "name": "stdout",
     "output_type": "stream",
     "text": [
      "CPU times: user 3.58 s, sys: 36.3 ms, total: 3.61 s\n",
      "Wall time: 3.54 s\n"
     ]
    },
    {
     "name": "stderr",
     "output_type": "stream",
     "text": [
      "\n"
     ]
    }
   ],
   "source": [
    "%%time\n",
    "test_ind, test_seg, _, test_frag, _ = ss_create_frag_input_data_bert(df_text=df_text_test, \n",
    "                                                  text_col=text_col,\n",
    "                                                  # Since labels are ignored, we pass df_codes_train_ner as df_ann\n",
    "                                                  df_ann=df_codes_train_ner, doc_list=test_doc_list, ss_dict=ss_dict_test,\n",
    "                                                  tokenizer=tokenizer, lab_encoder=mlb_encoder, seq_len=SEQ_LEN,\n",
    "                                                  greedy=False)"
   ]
  },
  {
   "cell_type": "code",
   "execution_count": null,
   "metadata": {},
   "outputs": [],
   "source": [
    "%%time\n",
    "test_preds = model.predict([test_ind, test_seg])"
   ]
  },
  {
   "cell_type": "code",
   "execution_count": 120,
   "metadata": {},
   "outputs": [
    {
     "data": {
      "text/plain": [
       "(3955, 727)"
      ]
     },
     "execution_count": 120,
     "metadata": {},
     "output_type": "execute_result"
    }
   ],
   "source": [
    "test_preds.shape"
   ]
  },
  {
   "cell_type": "code",
   "execution_count": 105,
   "metadata": {},
   "outputs": [],
   "source": [
    "results_dir_path = \"../results/Cantemist-Coding/\""
   ]
  },
  {
   "cell_type": "code",
   "execution_count": 178,
   "metadata": {},
   "outputs": [
    {
     "name": "stdout",
     "output_type": "stream",
     "text": [
      "CPU times: user 2.21 ms, sys: 4.65 ms, total: 6.87 ms\n",
      "Wall time: 6.02 ms\n"
     ]
    }
   ],
   "source": [
    "%%time\n",
    "np.save(file=results_dir_path + \"predictions/beto_seed_\" + str(random_seed) + \"_test_preds.npy\", arr=test_preds)"
   ]
  },
  {
   "cell_type": "code",
   "execution_count": 106,
   "metadata": {},
   "outputs": [],
   "source": [
    "# To be further used when evaluating model performance at document level\n",
    "np.save(file=results_dir_path + \"beto_test_frags.npy\", arr=test_frag)"
   ]
  }
 ],
 "metadata": {
  "kernelspec": {
   "display_name": "Python 3",
   "language": "python",
   "name": "python3"
  },
  "language_info": {
   "codemirror_mode": {
    "name": "ipython",
    "version": 3
   },
   "file_extension": ".py",
   "mimetype": "text/x-python",
   "name": "python",
   "nbconvert_exporter": "python",
   "pygments_lexer": "ipython3",
   "version": "3.6.5"
  }
 },
 "nbformat": 4,
 "nbformat_minor": 4
}
