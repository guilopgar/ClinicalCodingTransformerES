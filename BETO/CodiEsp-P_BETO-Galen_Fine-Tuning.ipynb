{
 "cells": [
  {
   "cell_type": "markdown",
   "metadata": {},
   "source": [
    "# Fine-tuning BETO-Galén on CodiEsp-P\n",
    "\n",
    "In this notebook, following a multi-label sequence classification approach, the BETO-Galén model is fine-tuned on both the training and development sets of the CodiEsp-P corpus. Additionally, the predictions made by the model on the test set are saved, in order to futher evaluate the clinical coding performance of the model (see `results/CodiEsp-P/Evaluation.ipynb`)."
   ]
  },
  {
   "cell_type": "code",
   "execution_count": 1,
   "metadata": {},
   "outputs": [
    {
     "name": "stderr",
     "output_type": "stream",
     "text": [
      "Using TensorFlow backend.\n"
     ]
    }
   ],
   "source": [
    "import tensorflow as tf\n",
    "\n",
    "# Auxiliary components\n",
    "import sys\n",
    "sys.path.append(\"..\")\n",
    "from nlp_utils import *\n",
    "\n",
    "# BETO tokenizer\n",
    "from keras_bert import load_vocabulary, Tokenizer\n",
    "model_path = \"BETO_cased/\"\n",
    "config_path = model_path + \"config.json\"\n",
    "checkpoint_path = \"BETO-Galen/model.ckpt-1000000\"\n",
    "vocab_file = \"vocab.txt\"\n",
    "tokenizer = Tokenizer(token_dict=load_vocabulary(model_path + vocab_file), pad_index=1, cased=True)\n",
    "\n",
    "# Hyper-parameters\n",
    "text_col = \"raw_text\"\n",
    "training = False\n",
    "trainable = True\n",
    "SEQ_LEN = 128\n",
    "BATCH_SIZE = 16\n",
    "EPOCHS = 29\n",
    "LR = 3e-5\n",
    "\n",
    "random_seed = 0\n",
    "tf.set_random_seed(random_seed)"
   ]
  },
  {
   "cell_type": "markdown",
   "metadata": {},
   "source": [
    "## Load text\n",
    "\n",
    "Firstly, all text files from training and development CodiEsp corpora are loaded in different dataframes.\n",
    "\n",
    "Also, CIE-Procedimiento codes are loaded."
   ]
  },
  {
   "cell_type": "code",
   "execution_count": 2,
   "metadata": {},
   "outputs": [],
   "source": [
    "corpus_path = \"../datasets/codiesp_v4/\""
   ]
  },
  {
   "cell_type": "markdown",
   "metadata": {},
   "source": [
    "### Training corpus"
   ]
  },
  {
   "cell_type": "code",
   "execution_count": 3,
   "metadata": {},
   "outputs": [
    {
     "name": "stdout",
     "output_type": "stream",
     "text": [
      "CPU times: user 9.7 ms, sys: 196 µs, total: 9.89 ms\n",
      "Wall time: 9.29 ms\n"
     ]
    }
   ],
   "source": [
    "%%time\n",
    "train_path = corpus_path + \"train/text_files/\"\n",
    "train_files = [f for f in os.listdir(train_path) if os.path.isfile(train_path + f)]\n",
    "train_data = load_text_files(train_files, train_path)\n",
    "df_text_train = pd.DataFrame({'doc_id': [s.split('.txt')[0] for s in train_files], 'raw_text': train_data})"
   ]
  },
  {
   "cell_type": "code",
   "execution_count": 4,
   "metadata": {},
   "outputs": [
    {
     "data": {
      "text/plain": [
       "(500, 2)"
      ]
     },
     "execution_count": 4,
     "metadata": {},
     "output_type": "execute_result"
    }
   ],
   "source": [
    "df_text_train.shape"
   ]
  },
  {
   "cell_type": "code",
   "execution_count": 5,
   "metadata": {},
   "outputs": [
    {
     "data": {
      "text/html": [
       "<div>\n",
       "<style scoped>\n",
       "    .dataframe tbody tr th:only-of-type {\n",
       "        vertical-align: middle;\n",
       "    }\n",
       "\n",
       "    .dataframe tbody tr th {\n",
       "        vertical-align: top;\n",
       "    }\n",
       "\n",
       "    .dataframe thead th {\n",
       "        text-align: right;\n",
       "    }\n",
       "</style>\n",
       "<table border=\"1\" class=\"dataframe\">\n",
       "  <thead>\n",
       "    <tr style=\"text-align: right;\">\n",
       "      <th></th>\n",
       "      <th>doc_id</th>\n",
       "      <th>raw_text</th>\n",
       "    </tr>\n",
       "  </thead>\n",
       "  <tbody>\n",
       "    <tr>\n",
       "      <th>0</th>\n",
       "      <td>S0004-06142007000600016-2</td>\n",
       "      <td>Paciente varón de 35 años con tumoración en po...</td>\n",
       "    </tr>\n",
       "    <tr>\n",
       "      <th>1</th>\n",
       "      <td>S1137-66272009000500017-1</td>\n",
       "      <td>Lactante de sexo femenino que ingresó a los 7 ...</td>\n",
       "    </tr>\n",
       "    <tr>\n",
       "      <th>2</th>\n",
       "      <td>S0365-66912007001100010-1</td>\n",
       "      <td>Paciente de 63 años que refería déficit de agu...</td>\n",
       "    </tr>\n",
       "    <tr>\n",
       "      <th>3</th>\n",
       "      <td>S0365-66912009000300010-1</td>\n",
       "      <td>Se presenta el caso de un varón de 24 años de ...</td>\n",
       "    </tr>\n",
       "    <tr>\n",
       "      <th>4</th>\n",
       "      <td>S0211-69952013000500035-1</td>\n",
       "      <td>Se presenta el caso de un varón de 64 años sin...</td>\n",
       "    </tr>\n",
       "  </tbody>\n",
       "</table>\n",
       "</div>"
      ],
      "text/plain": [
       "                      doc_id  \\\n",
       "0  S0004-06142007000600016-2   \n",
       "1  S1137-66272009000500017-1   \n",
       "2  S0365-66912007001100010-1   \n",
       "3  S0365-66912009000300010-1   \n",
       "4  S0211-69952013000500035-1   \n",
       "\n",
       "                                            raw_text  \n",
       "0  Paciente varón de 35 años con tumoración en po...  \n",
       "1  Lactante de sexo femenino que ingresó a los 7 ...  \n",
       "2  Paciente de 63 años que refería déficit de agu...  \n",
       "3  Se presenta el caso de un varón de 24 años de ...  \n",
       "4  Se presenta el caso de un varón de 64 años sin...  "
      ]
     },
     "execution_count": 5,
     "metadata": {},
     "output_type": "execute_result"
    }
   ],
   "source": [
    "df_text_train.head()"
   ]
  },
  {
   "cell_type": "code",
   "execution_count": 6,
   "metadata": {},
   "outputs": [
    {
     "data": {
      "text/plain": [
       "'Paciente varón de 35 años con tumoración en polo superior de teste derecho hallada de manera casual durante una autoexploración, motivo por el cual acude a consulta de urología donde se realiza exploración física, apreciando masa de 1cm aproximado de diámetro dependiente de epidídimo, y ecografía testicular, que se informa como lesión nodular sólida en cabeza de epidídimo derecho. Se realiza RMN. Confirmando masa nodular, siendo el tumor adenomatoide de epidídimo la primera posibilidad diagnóstica.\\n\\nSe decide, en los dos casos, resección quirúrgica de tumoración nodular en cola epidídimo derecho, sin realización de orquiectomía posterior.\\nEn ambos casos se realizó examen anátomopatológico de la pieza quirúrgica. Hallazgos histológicos macroscópicos: formación nodular de 1,5 cms (caso1) y 1,2 cms (caso 2) de consistencia firme, coloración blanquecina y bien delimitada. Microscópicamente se observa proliferación tumoral constituida por estructuras tubulares en las que la celularidad muestra núcleos redondeados y elongados sin atipia citológica y que ocasionalmente muestra citoplasmas vacuolados, todo ello compatible con tumor adenomatoide de epidídimo.\\n\\n'"
      ]
     },
     "execution_count": 6,
     "metadata": {},
     "output_type": "execute_result"
    }
   ],
   "source": [
    "df_text_train.raw_text[0]"
   ]
  },
  {
   "cell_type": "markdown",
   "metadata": {},
   "source": [
    "We also load the CIE-Procedimiento codes table:"
   ]
  },
  {
   "cell_type": "code",
   "execution_count": 7,
   "metadata": {},
   "outputs": [],
   "source": [
    "df_codes_train = pd.read_table(corpus_path + \"train/trainP.tsv\", sep='\\t', header=None)"
   ]
  },
  {
   "cell_type": "code",
   "execution_count": 8,
   "metadata": {},
   "outputs": [],
   "source": [
    "df_codes_train.columns = [\"doc_id\", \"code\"]"
   ]
  },
  {
   "cell_type": "code",
   "execution_count": 9,
   "metadata": {},
   "outputs": [
    {
     "data": {
      "text/plain": [
       "(1550, 2)"
      ]
     },
     "execution_count": 9,
     "metadata": {},
     "output_type": "execute_result"
    }
   ],
   "source": [
    "df_codes_train.shape"
   ]
  },
  {
   "cell_type": "code",
   "execution_count": 10,
   "metadata": {},
   "outputs": [
    {
     "data": {
      "text/html": [
       "<div>\n",
       "<style scoped>\n",
       "    .dataframe tbody tr th:only-of-type {\n",
       "        vertical-align: middle;\n",
       "    }\n",
       "\n",
       "    .dataframe tbody tr th {\n",
       "        vertical-align: top;\n",
       "    }\n",
       "\n",
       "    .dataframe thead th {\n",
       "        text-align: right;\n",
       "    }\n",
       "</style>\n",
       "<table border=\"1\" class=\"dataframe\">\n",
       "  <thead>\n",
       "    <tr style=\"text-align: right;\">\n",
       "      <th></th>\n",
       "      <th>doc_id</th>\n",
       "      <th>code</th>\n",
       "    </tr>\n",
       "  </thead>\n",
       "  <tbody>\n",
       "    <tr>\n",
       "      <th>0</th>\n",
       "      <td>S0004-06142005000700014-1</td>\n",
       "      <td>bw03zzz</td>\n",
       "    </tr>\n",
       "    <tr>\n",
       "      <th>1</th>\n",
       "      <td>S0004-06142005000700014-1</td>\n",
       "      <td>3e02329</td>\n",
       "    </tr>\n",
       "    <tr>\n",
       "      <th>2</th>\n",
       "      <td>S0004-06142005000700014-1</td>\n",
       "      <td>bw40zzz</td>\n",
       "    </tr>\n",
       "    <tr>\n",
       "      <th>3</th>\n",
       "      <td>S0004-06142005000700014-1</td>\n",
       "      <td>bv44zzz</td>\n",
       "    </tr>\n",
       "    <tr>\n",
       "      <th>4</th>\n",
       "      <td>S0004-06142005000700014-1</td>\n",
       "      <td>bn20</td>\n",
       "    </tr>\n",
       "  </tbody>\n",
       "</table>\n",
       "</div>"
      ],
      "text/plain": [
       "                      doc_id     code\n",
       "0  S0004-06142005000700014-1  bw03zzz\n",
       "1  S0004-06142005000700014-1  3e02329\n",
       "2  S0004-06142005000700014-1  bw40zzz\n",
       "3  S0004-06142005000700014-1  bv44zzz\n",
       "4  S0004-06142005000700014-1     bn20"
      ]
     },
     "execution_count": 10,
     "metadata": {},
     "output_type": "execute_result"
    }
   ],
   "source": [
    "df_codes_train.head()"
   ]
  },
  {
   "cell_type": "code",
   "execution_count": 11,
   "metadata": {},
   "outputs": [
    {
     "data": {
      "text/plain": [
       "435"
      ]
     },
     "execution_count": 11,
     "metadata": {},
     "output_type": "execute_result"
    }
   ],
   "source": [
    "len(set(df_codes_train[\"doc_id\"]))"
   ]
  },
  {
   "cell_type": "markdown",
   "metadata": {},
   "source": [
    "### Development corpus"
   ]
  },
  {
   "cell_type": "code",
   "execution_count": 12,
   "metadata": {},
   "outputs": [
    {
     "name": "stdout",
     "output_type": "stream",
     "text": [
      "CPU times: user 20.1 ms, sys: 4.03 ms, total: 24.1 ms\n",
      "Wall time: 23.7 ms\n"
     ]
    }
   ],
   "source": [
    "%%time\n",
    "dev_path = corpus_path + \"dev/text_files/\"\n",
    "dev_files = [f for f in os.listdir(dev_path) if os.path.isfile(dev_path + f)]\n",
    "dev_data = load_text_files(dev_files, dev_path)\n",
    "df_text_dev = pd.DataFrame({'doc_id': [s.split('.txt')[0] for s in dev_files], 'raw_text': dev_data})"
   ]
  },
  {
   "cell_type": "code",
   "execution_count": 13,
   "metadata": {},
   "outputs": [
    {
     "data": {
      "text/plain": [
       "(250, 2)"
      ]
     },
     "execution_count": 13,
     "metadata": {},
     "output_type": "execute_result"
    }
   ],
   "source": [
    "df_text_dev.shape"
   ]
  },
  {
   "cell_type": "code",
   "execution_count": 14,
   "metadata": {},
   "outputs": [
    {
     "data": {
      "text/html": [
       "<div>\n",
       "<style scoped>\n",
       "    .dataframe tbody tr th:only-of-type {\n",
       "        vertical-align: middle;\n",
       "    }\n",
       "\n",
       "    .dataframe tbody tr th {\n",
       "        vertical-align: top;\n",
       "    }\n",
       "\n",
       "    .dataframe thead th {\n",
       "        text-align: right;\n",
       "    }\n",
       "</style>\n",
       "<table border=\"1\" class=\"dataframe\">\n",
       "  <thead>\n",
       "    <tr style=\"text-align: right;\">\n",
       "      <th></th>\n",
       "      <th>doc_id</th>\n",
       "      <th>raw_text</th>\n",
       "    </tr>\n",
       "  </thead>\n",
       "  <tbody>\n",
       "    <tr>\n",
       "      <th>0</th>\n",
       "      <td>S1698-44472004000100009-1</td>\n",
       "      <td>Varón de 64 años de edad con tumefacción mandi...</td>\n",
       "    </tr>\n",
       "    <tr>\n",
       "      <th>1</th>\n",
       "      <td>S1139-76322015000300013-1</td>\n",
       "      <td>Niña de tres años que acude a Urgencias tras l...</td>\n",
       "    </tr>\n",
       "    <tr>\n",
       "      <th>2</th>\n",
       "      <td>S1130-05582015000100004-1</td>\n",
       "      <td>Se presenta el caso de una mujer de 60 años de...</td>\n",
       "    </tr>\n",
       "    <tr>\n",
       "      <th>3</th>\n",
       "      <td>S1887-85712015000200005-1</td>\n",
       "      <td>Paciente varón de cinco años de edad que tras ...</td>\n",
       "    </tr>\n",
       "    <tr>\n",
       "      <th>4</th>\n",
       "      <td>S1699-65852010000300002-1</td>\n",
       "      <td>LTR. Paciente de sexo masculino, de 32 años de...</td>\n",
       "    </tr>\n",
       "  </tbody>\n",
       "</table>\n",
       "</div>"
      ],
      "text/plain": [
       "                      doc_id  \\\n",
       "0  S1698-44472004000100009-1   \n",
       "1  S1139-76322015000300013-1   \n",
       "2  S1130-05582015000100004-1   \n",
       "3  S1887-85712015000200005-1   \n",
       "4  S1699-65852010000300002-1   \n",
       "\n",
       "                                            raw_text  \n",
       "0  Varón de 64 años de edad con tumefacción mandi...  \n",
       "1  Niña de tres años que acude a Urgencias tras l...  \n",
       "2  Se presenta el caso de una mujer de 60 años de...  \n",
       "3  Paciente varón de cinco años de edad que tras ...  \n",
       "4  LTR. Paciente de sexo masculino, de 32 años de...  "
      ]
     },
     "execution_count": 14,
     "metadata": {},
     "output_type": "execute_result"
    }
   ],
   "source": [
    "df_text_dev.head()"
   ]
  },
  {
   "cell_type": "code",
   "execution_count": 15,
   "metadata": {},
   "outputs": [
    {
     "data": {
      "text/plain": [
       "'Varón de 64 años de edad con tumefacción mandibular derecha de 6 meses de evolución. La radiografía simple mostraba una lesión expansiva bien delimitada, osteolítica, multiloculada, localizada en rama horizontal mandibular. La tomografía computerizada presentaba una lesión expansiva con destrucción de la cortical ósea. Con el diagnóstico provisional de probable ameloblastoma se procedió a la resección-biopsia de la lesión. Mediante incisión interpapilar se expuso la mandíbula que mostraba la superficie abombada y destruída por una tumoración carnosa de consistencia densa que rodeaba la rama del nervio dentario inferior. Tras un cuidadoso curetaje de la cavidad ósea se reconstruyó la mandíbula y se repuso la mucosa. No hubo complicaciones postquirúrgicas.\\n\\nEl material remitido a Anatomía Patológica consistía en fragmentos tumorales de unos 2x1.5 cm, blanco-grisáceos al corte y de consistencia firme. Se tomaron diversas muestras que tras fijarse en formaldehído se incluyeron en parafina y se procesaron mediante técnicas de rutina: se cortaron secciones de 4m de grosor que se tiñeron con hematoxilina-eosina. Se procedió a estudio inmunohistoquímico de cortes representativos mediante el método avidina-biotina peroxidasa, utilizando anticuerpos primarios anti antígeno de membrana epitelial EMA, (Dako M613, USA, 10/500), proteína S-100 (Dako, L1845, USA, prediluída), neurofilamentos (Biogenex 6670-0154, USA), enolasa neuroespecífica NSE, (Biogenex MU055-VC, USA, 10/1000), CD57 (Becton-Dickinson 7660, USA, 10/500), CD34 (Becton-Dickinson 7660, USA, 10/500), a-actina de músculo liso (Dako MO851, USA, 10/200), desmina (Dako M760, USA, 10/500), y vimentina (Shandon 402255, USA, pred.). El proceso se realizó siguiendo el protocolo estándar, utilizando controles positivos y negativos.\\nLa hibridización in situ con fluorescencia (FISH) se realizó en cortes parafinados de 50m de espesor mediante un mezclador de doble color LSI BCR/ABL (VYSIS Inc, Downers Grove, USA) siguiendo el procedimiento recomendado por el fabricante y se examinaron con un microscopio de fluorescencia Nikon con un filtro de triple banda, siendo estudiados un centenar de núcleos por dos de los autores.\\nHistológicamente los fragmentos tumorales estaban constituídos por células alargadas de forma y tamaño regulares dispuestas en haces entrelazados y en remolinos estructurados en \"bulbo de cebolla\". La densidad celular y del estroma intercelular eran variables, con algunas zonas mostrando aspecto mixoide. No se apreciaron células dispuestas en empalizada ni se observaron pleomorfimso celular o mitosis atípicas. En la periferia de algunos fragmentos se identificaron fibras residuales del tronco nervioso mandibular. Con el diagnóstico provisional de PIN se procedió a los examenes complementarios.\\n\\nLa inmunohistoquímica mostró que las células tumorales eran intensamente positivas para el EMA y la vimentina y negativas para la proteína S-100, NSE, colágeno IV, CD57, a-actina de músculo liso, desmina y CD34. Las células de Schwann en los remolinos eran positivas para la proteína S-100 y en el centro de los \"bulbos\" se identificaron axones positivos para el antígeno anti-neurofilamento. Las fibras residuales del nervio dentario eran positivas para la proteína S-100, la NSE y los neurofilamentos y el perineurio positivo para el EMA.\\n\\nLa hibridización in situ con fluorescencia reveló una delección del brazo largo del cromosoma 22 (22q11) en los núcleos del 75% de las células tumorales así como pérdida de centrómero del cromosoma 22.\\n\\n'"
      ]
     },
     "execution_count": 15,
     "metadata": {},
     "output_type": "execute_result"
    }
   ],
   "source": [
    "df_text_dev.raw_text[0]"
   ]
  },
  {
   "cell_type": "markdown",
   "metadata": {},
   "source": [
    "We also load the CIE-Procedimiento codes table:"
   ]
  },
  {
   "cell_type": "code",
   "execution_count": 16,
   "metadata": {},
   "outputs": [],
   "source": [
    "df_codes_dev = pd.read_table(corpus_path + \"dev/devP.tsv\", sep='\\t', header=None)"
   ]
  },
  {
   "cell_type": "code",
   "execution_count": 17,
   "metadata": {},
   "outputs": [],
   "source": [
    "df_codes_dev.columns = [\"doc_id\", \"code\"]"
   ]
  },
  {
   "cell_type": "code",
   "execution_count": 18,
   "metadata": {},
   "outputs": [
    {
     "data": {
      "text/plain": [
       "(817, 2)"
      ]
     },
     "execution_count": 18,
     "metadata": {},
     "output_type": "execute_result"
    }
   ],
   "source": [
    "df_codes_dev.shape"
   ]
  },
  {
   "cell_type": "code",
   "execution_count": 19,
   "metadata": {},
   "outputs": [
    {
     "data": {
      "text/html": [
       "<div>\n",
       "<style scoped>\n",
       "    .dataframe tbody tr th:only-of-type {\n",
       "        vertical-align: middle;\n",
       "    }\n",
       "\n",
       "    .dataframe tbody tr th {\n",
       "        vertical-align: top;\n",
       "    }\n",
       "\n",
       "    .dataframe thead th {\n",
       "        text-align: right;\n",
       "    }\n",
       "</style>\n",
       "<table border=\"1\" class=\"dataframe\">\n",
       "  <thead>\n",
       "    <tr style=\"text-align: right;\">\n",
       "      <th></th>\n",
       "      <th>doc_id</th>\n",
       "      <th>code</th>\n",
       "    </tr>\n",
       "  </thead>\n",
       "  <tbody>\n",
       "    <tr>\n",
       "      <th>0</th>\n",
       "      <td>S0004-06142005000900016-1</td>\n",
       "      <td>bt41zzz</td>\n",
       "    </tr>\n",
       "    <tr>\n",
       "      <th>1</th>\n",
       "      <td>S0004-06142005000900016-1</td>\n",
       "      <td>ct13</td>\n",
       "    </tr>\n",
       "    <tr>\n",
       "      <th>2</th>\n",
       "      <td>S0004-06142005001000011-1</td>\n",
       "      <td>3e1m39z</td>\n",
       "    </tr>\n",
       "    <tr>\n",
       "      <th>3</th>\n",
       "      <td>S0004-06142005001000011-1</td>\n",
       "      <td>0tcb</td>\n",
       "    </tr>\n",
       "    <tr>\n",
       "      <th>4</th>\n",
       "      <td>S0004-06142005001000011-1</td>\n",
       "      <td>bt02</td>\n",
       "    </tr>\n",
       "  </tbody>\n",
       "</table>\n",
       "</div>"
      ],
      "text/plain": [
       "                      doc_id     code\n",
       "0  S0004-06142005000900016-1  bt41zzz\n",
       "1  S0004-06142005000900016-1     ct13\n",
       "2  S0004-06142005001000011-1  3e1m39z\n",
       "3  S0004-06142005001000011-1     0tcb\n",
       "4  S0004-06142005001000011-1     bt02"
      ]
     },
     "execution_count": 19,
     "metadata": {},
     "output_type": "execute_result"
    }
   ],
   "source": [
    "df_codes_dev.head()"
   ]
  },
  {
   "cell_type": "code",
   "execution_count": 20,
   "metadata": {},
   "outputs": [
    {
     "data": {
      "text/plain": [
       "222"
      ]
     },
     "execution_count": 20,
     "metadata": {},
     "output_type": "execute_result"
    }
   ],
   "source": [
    "len(set(df_codes_dev[\"doc_id\"]))"
   ]
  },
  {
   "cell_type": "markdown",
   "metadata": {},
   "source": [
    "We join the training and development CodiEsp codes dataframes together:"
   ]
  },
  {
   "cell_type": "code",
   "execution_count": 21,
   "metadata": {},
   "outputs": [],
   "source": [
    "df_codes_train_dev = pd.concat([df_codes_train, df_codes_dev])"
   ]
  },
  {
   "cell_type": "code",
   "execution_count": 22,
   "metadata": {},
   "outputs": [
    {
     "data": {
      "text/plain": [
       "(2367, 2)"
      ]
     },
     "execution_count": 22,
     "metadata": {},
     "output_type": "execute_result"
    }
   ],
   "source": [
    "df_codes_train_dev.shape"
   ]
  },
  {
   "cell_type": "code",
   "execution_count": 23,
   "metadata": {},
   "outputs": [
    {
     "data": {
      "text/html": [
       "<div>\n",
       "<style scoped>\n",
       "    .dataframe tbody tr th:only-of-type {\n",
       "        vertical-align: middle;\n",
       "    }\n",
       "\n",
       "    .dataframe tbody tr th {\n",
       "        vertical-align: top;\n",
       "    }\n",
       "\n",
       "    .dataframe thead th {\n",
       "        text-align: right;\n",
       "    }\n",
       "</style>\n",
       "<table border=\"1\" class=\"dataframe\">\n",
       "  <thead>\n",
       "    <tr style=\"text-align: right;\">\n",
       "      <th></th>\n",
       "      <th>doc_id</th>\n",
       "      <th>code</th>\n",
       "    </tr>\n",
       "  </thead>\n",
       "  <tbody>\n",
       "    <tr>\n",
       "      <th>0</th>\n",
       "      <td>S0004-06142005000700014-1</td>\n",
       "      <td>bw03zzz</td>\n",
       "    </tr>\n",
       "    <tr>\n",
       "      <th>1</th>\n",
       "      <td>S0004-06142005000700014-1</td>\n",
       "      <td>3e02329</td>\n",
       "    </tr>\n",
       "    <tr>\n",
       "      <th>2</th>\n",
       "      <td>S0004-06142005000700014-1</td>\n",
       "      <td>bw40zzz</td>\n",
       "    </tr>\n",
       "    <tr>\n",
       "      <th>3</th>\n",
       "      <td>S0004-06142005000700014-1</td>\n",
       "      <td>bv44zzz</td>\n",
       "    </tr>\n",
       "    <tr>\n",
       "      <th>4</th>\n",
       "      <td>S0004-06142005000700014-1</td>\n",
       "      <td>bn20</td>\n",
       "    </tr>\n",
       "  </tbody>\n",
       "</table>\n",
       "</div>"
      ],
      "text/plain": [
       "                      doc_id     code\n",
       "0  S0004-06142005000700014-1  bw03zzz\n",
       "1  S0004-06142005000700014-1  3e02329\n",
       "2  S0004-06142005000700014-1  bw40zzz\n",
       "3  S0004-06142005000700014-1  bv44zzz\n",
       "4  S0004-06142005000700014-1     bn20"
      ]
     },
     "execution_count": 23,
     "metadata": {},
     "output_type": "execute_result"
    }
   ],
   "source": [
    "df_codes_train_dev.head()"
   ]
  },
  {
   "cell_type": "markdown",
   "metadata": {},
   "source": [
    "## Creating corpora of annotated sentences\n",
    "\n",
    "Leveraging the information available for the named-entity-recognition and normalization (NER-N) CodiEsp-X task, we create both a training and a development corpus of annotated sentences with CIE-Procedimiento codes."
   ]
  },
  {
   "cell_type": "markdown",
   "metadata": {},
   "source": [
    "Firstly, we pre-process the NER-N precedure-codes annotations available for both the training and development corpora."
   ]
  },
  {
   "cell_type": "code",
   "execution_count": 24,
   "metadata": {},
   "outputs": [],
   "source": [
    "# Training corpus"
   ]
  },
  {
   "cell_type": "code",
   "execution_count": 25,
   "metadata": {},
   "outputs": [
    {
     "name": "stdout",
     "output_type": "stream",
     "text": [
      "CPU times: user 32.4 ms, sys: 11.7 ms, total: 44.1 ms\n",
      "Wall time: 43.5 ms\n"
     ]
    }
   ],
   "source": [
    "%%time\n",
    "\n",
    "codiesp_x_train = pd.read_table(corpus_path + \"train/trainX.tsv\", sep='\\t', header=None)"
   ]
  },
  {
   "cell_type": "code",
   "execution_count": 26,
   "metadata": {},
   "outputs": [],
   "source": [
    "codiesp_x_train.columns = [\"doc_id\", \"type\", \"code\", \"word\", \"location\"]"
   ]
  },
  {
   "cell_type": "code",
   "execution_count": 27,
   "metadata": {},
   "outputs": [
    {
     "data": {
      "text/plain": [
       "(9181, 5)"
      ]
     },
     "execution_count": 27,
     "metadata": {},
     "output_type": "execute_result"
    }
   ],
   "source": [
    "codiesp_x_train.shape"
   ]
  },
  {
   "cell_type": "code",
   "execution_count": 28,
   "metadata": {},
   "outputs": [
    {
     "data": {
      "text/html": [
       "<div>\n",
       "<style scoped>\n",
       "    .dataframe tbody tr th:only-of-type {\n",
       "        vertical-align: middle;\n",
       "    }\n",
       "\n",
       "    .dataframe tbody tr th {\n",
       "        vertical-align: top;\n",
       "    }\n",
       "\n",
       "    .dataframe thead th {\n",
       "        text-align: right;\n",
       "    }\n",
       "</style>\n",
       "<table border=\"1\" class=\"dataframe\">\n",
       "  <thead>\n",
       "    <tr style=\"text-align: right;\">\n",
       "      <th></th>\n",
       "      <th>doc_id</th>\n",
       "      <th>type</th>\n",
       "      <th>code</th>\n",
       "      <th>word</th>\n",
       "      <th>location</th>\n",
       "    </tr>\n",
       "  </thead>\n",
       "  <tbody>\n",
       "    <tr>\n",
       "      <th>0</th>\n",
       "      <td>S0004-06142005000700014-1</td>\n",
       "      <td>PROCEDIMIENTO</td>\n",
       "      <td>bw03zzz</td>\n",
       "      <td>Rx tórax</td>\n",
       "      <td>2163 2171</td>\n",
       "    </tr>\n",
       "    <tr>\n",
       "      <th>1</th>\n",
       "      <td>S0004-06142005000700014-1</td>\n",
       "      <td>PROCEDIMIENTO</td>\n",
       "      <td>3e02329</td>\n",
       "      <td>Estreptomicina intramuscular</td>\n",
       "      <td>2787 2801;2810 2823</td>\n",
       "    </tr>\n",
       "    <tr>\n",
       "      <th>2</th>\n",
       "      <td>S0004-06142005000700014-1</td>\n",
       "      <td>DIAGNOSTICO</td>\n",
       "      <td>n44.8</td>\n",
       "      <td>teste derecho aumentado de tamaño</td>\n",
       "      <td>1343 1376</td>\n",
       "    </tr>\n",
       "    <tr>\n",
       "      <th>3</th>\n",
       "      <td>S0004-06142005000700014-1</td>\n",
       "      <td>DIAGNOSTICO</td>\n",
       "      <td>z20.818</td>\n",
       "      <td>exposición a Brucella</td>\n",
       "      <td>594 615</td>\n",
       "    </tr>\n",
       "    <tr>\n",
       "      <th>4</th>\n",
       "      <td>S0004-06142005000700014-1</td>\n",
       "      <td>DIAGNOSTICO</td>\n",
       "      <td>r60.9</td>\n",
       "      <td>edemas</td>\n",
       "      <td>1250 1256</td>\n",
       "    </tr>\n",
       "  </tbody>\n",
       "</table>\n",
       "</div>"
      ],
      "text/plain": [
       "                      doc_id           type     code  \\\n",
       "0  S0004-06142005000700014-1  PROCEDIMIENTO  bw03zzz   \n",
       "1  S0004-06142005000700014-1  PROCEDIMIENTO  3e02329   \n",
       "2  S0004-06142005000700014-1    DIAGNOSTICO    n44.8   \n",
       "3  S0004-06142005000700014-1    DIAGNOSTICO  z20.818   \n",
       "4  S0004-06142005000700014-1    DIAGNOSTICO    r60.9   \n",
       "\n",
       "                                word             location  \n",
       "0                           Rx tórax            2163 2171  \n",
       "1       Estreptomicina intramuscular  2787 2801;2810 2823  \n",
       "2  teste derecho aumentado de tamaño            1343 1376  \n",
       "3              exposición a Brucella              594 615  \n",
       "4                             edemas            1250 1256  "
      ]
     },
     "execution_count": 28,
     "metadata": {},
     "output_type": "execute_result"
    }
   ],
   "source": [
    "codiesp_x_train.head()"
   ]
  },
  {
   "cell_type": "code",
   "execution_count": 29,
   "metadata": {},
   "outputs": [],
   "source": [
    "codiesp_x_train = codiesp_x_train[codiesp_x_train[\"type\"] == \"PROCEDIMIENTO\"]"
   ]
  },
  {
   "cell_type": "code",
   "execution_count": 30,
   "metadata": {},
   "outputs": [
    {
     "data": {
      "text/plain": [
       "(1972, 5)"
      ]
     },
     "execution_count": 30,
     "metadata": {},
     "output_type": "execute_result"
    }
   ],
   "source": [
    "codiesp_x_train.shape"
   ]
  },
  {
   "cell_type": "code",
   "execution_count": 31,
   "metadata": {},
   "outputs": [],
   "source": [
    "df_codes_train_ner = process_ner_labels(codiesp_x_train).sort_values([\"doc_id\", \"start\", \"end\"])"
   ]
  },
  {
   "cell_type": "code",
   "execution_count": 32,
   "metadata": {},
   "outputs": [
    {
     "data": {
      "text/html": [
       "<div>\n",
       "<style scoped>\n",
       "    .dataframe tbody tr th:only-of-type {\n",
       "        vertical-align: middle;\n",
       "    }\n",
       "\n",
       "    .dataframe tbody tr th {\n",
       "        vertical-align: top;\n",
       "    }\n",
       "\n",
       "    .dataframe thead th {\n",
       "        text-align: right;\n",
       "    }\n",
       "</style>\n",
       "<table border=\"1\" class=\"dataframe\">\n",
       "  <thead>\n",
       "    <tr style=\"text-align: right;\">\n",
       "      <th></th>\n",
       "      <th>doc_id</th>\n",
       "      <th>type</th>\n",
       "      <th>code</th>\n",
       "      <th>word</th>\n",
       "      <th>start</th>\n",
       "      <th>end</th>\n",
       "    </tr>\n",
       "  </thead>\n",
       "  <tbody>\n",
       "    <tr>\n",
       "      <th>0</th>\n",
       "      <td>S0004-06142005000700014-1</td>\n",
       "      <td>PROCEDIMIENTO</td>\n",
       "      <td>bw03zzz</td>\n",
       "      <td>Rx tórax</td>\n",
       "      <td>2163</td>\n",
       "      <td>2171</td>\n",
       "    </tr>\n",
       "    <tr>\n",
       "      <th>3</th>\n",
       "      <td>S0004-06142005000700014-1</td>\n",
       "      <td>PROCEDIMIENTO</td>\n",
       "      <td>bw40zzz</td>\n",
       "      <td>Ecografía abdominal</td>\n",
       "      <td>2173</td>\n",
       "      <td>2192</td>\n",
       "    </tr>\n",
       "    <tr>\n",
       "      <th>5</th>\n",
       "      <td>S0004-06142005000700014-1</td>\n",
       "      <td>PROCEDIMIENTO</td>\n",
       "      <td>bn20</td>\n",
       "      <td>TAC craneal</td>\n",
       "      <td>2194</td>\n",
       "      <td>2205</td>\n",
       "    </tr>\n",
       "    <tr>\n",
       "      <th>4</th>\n",
       "      <td>S0004-06142005000700014-1</td>\n",
       "      <td>PROCEDIMIENTO</td>\n",
       "      <td>bv44zzz</td>\n",
       "      <td>Ecografía testicular</td>\n",
       "      <td>2287</td>\n",
       "      <td>2307</td>\n",
       "    </tr>\n",
       "    <tr>\n",
       "      <th>1</th>\n",
       "      <td>S0004-06142005000700014-1</td>\n",
       "      <td>PROCEDIMIENTO</td>\n",
       "      <td>3e02329</td>\n",
       "      <td>Estreptomicina intramuscular</td>\n",
       "      <td>2787</td>\n",
       "      <td>2801</td>\n",
       "    </tr>\n",
       "  </tbody>\n",
       "</table>\n",
       "</div>"
      ],
      "text/plain": [
       "                      doc_id           type     code  \\\n",
       "0  S0004-06142005000700014-1  PROCEDIMIENTO  bw03zzz   \n",
       "3  S0004-06142005000700014-1  PROCEDIMIENTO  bw40zzz   \n",
       "5  S0004-06142005000700014-1  PROCEDIMIENTO     bn20   \n",
       "4  S0004-06142005000700014-1  PROCEDIMIENTO  bv44zzz   \n",
       "1  S0004-06142005000700014-1  PROCEDIMIENTO  3e02329   \n",
       "\n",
       "                           word start   end  \n",
       "0                      Rx tórax  2163  2171  \n",
       "3           Ecografía abdominal  2173  2192  \n",
       "5                   TAC craneal  2194  2205  \n",
       "4          Ecografía testicular  2287  2307  \n",
       "1  Estreptomicina intramuscular  2787  2801  "
      ]
     },
     "execution_count": 32,
     "metadata": {},
     "output_type": "execute_result"
    }
   ],
   "source": [
    "df_codes_train_ner.head()"
   ]
  },
  {
   "cell_type": "code",
   "execution_count": 33,
   "metadata": {},
   "outputs": [
    {
     "data": {
      "text/plain": [
       "(2769, 6)"
      ]
     },
     "execution_count": 33,
     "metadata": {},
     "output_type": "execute_result"
    }
   ],
   "source": [
    "df_codes_train_ner.shape"
   ]
  },
  {
   "cell_type": "code",
   "execution_count": 34,
   "metadata": {},
   "outputs": [],
   "source": [
    "# Development corpus"
   ]
  },
  {
   "cell_type": "code",
   "execution_count": 35,
   "metadata": {},
   "outputs": [
    {
     "name": "stdout",
     "output_type": "stream",
     "text": [
      "CPU times: user 23.5 ms, sys: 7.53 ms, total: 31.1 ms\n",
      "Wall time: 30.5 ms\n"
     ]
    }
   ],
   "source": [
    "%%time\n",
    "\n",
    "codiesp_x_dev = pd.read_table(corpus_path + \"dev/devX.tsv\", sep='\\t', header=None)"
   ]
  },
  {
   "cell_type": "code",
   "execution_count": 36,
   "metadata": {},
   "outputs": [],
   "source": [
    "codiesp_x_dev.columns = [\"doc_id\", \"type\", \"code\", \"word\", \"location\"]"
   ]
  },
  {
   "cell_type": "code",
   "execution_count": 37,
   "metadata": {},
   "outputs": [
    {
     "data": {
      "text/plain": [
       "(4477, 5)"
      ]
     },
     "execution_count": 37,
     "metadata": {},
     "output_type": "execute_result"
    }
   ],
   "source": [
    "codiesp_x_dev.shape"
   ]
  },
  {
   "cell_type": "code",
   "execution_count": 38,
   "metadata": {},
   "outputs": [
    {
     "data": {
      "text/html": [
       "<div>\n",
       "<style scoped>\n",
       "    .dataframe tbody tr th:only-of-type {\n",
       "        vertical-align: middle;\n",
       "    }\n",
       "\n",
       "    .dataframe tbody tr th {\n",
       "        vertical-align: top;\n",
       "    }\n",
       "\n",
       "    .dataframe thead th {\n",
       "        text-align: right;\n",
       "    }\n",
       "</style>\n",
       "<table border=\"1\" class=\"dataframe\">\n",
       "  <thead>\n",
       "    <tr style=\"text-align: right;\">\n",
       "      <th></th>\n",
       "      <th>doc_id</th>\n",
       "      <th>type</th>\n",
       "      <th>code</th>\n",
       "      <th>word</th>\n",
       "      <th>location</th>\n",
       "    </tr>\n",
       "  </thead>\n",
       "  <tbody>\n",
       "    <tr>\n",
       "      <th>0</th>\n",
       "      <td>S0004-06142005000900016-1</td>\n",
       "      <td>PROCEDIMIENTO</td>\n",
       "      <td>bt41zzz</td>\n",
       "      <td>ecografía renal derecha</td>\n",
       "      <td>307 316;348 361</td>\n",
       "    </tr>\n",
       "    <tr>\n",
       "      <th>1</th>\n",
       "      <td>S0004-06142005000900016-1</td>\n",
       "      <td>PROCEDIMIENTO</td>\n",
       "      <td>ct13</td>\n",
       "      <td>gammagrafía renal</td>\n",
       "      <td>739 756</td>\n",
       "    </tr>\n",
       "    <tr>\n",
       "      <th>2</th>\n",
       "      <td>S0004-06142005000900016-1</td>\n",
       "      <td>DIAGNOSTICO</td>\n",
       "      <td>q62.11</td>\n",
       "      <td>estenosis en la unión pieloureteral derecha</td>\n",
       "      <td>540 583</td>\n",
       "    </tr>\n",
       "    <tr>\n",
       "      <th>3</th>\n",
       "      <td>S0004-06142005000900016-1</td>\n",
       "      <td>DIAGNOSTICO</td>\n",
       "      <td>n28.89</td>\n",
       "      <td>ectasia pielocalicial</td>\n",
       "      <td>326 347</td>\n",
       "    </tr>\n",
       "    <tr>\n",
       "      <th>4</th>\n",
       "      <td>S0004-06142005000900016-1</td>\n",
       "      <td>DIAGNOSTICO</td>\n",
       "      <td>n39.0</td>\n",
       "      <td>infecciones del tracto urinario</td>\n",
       "      <td>198 229</td>\n",
       "    </tr>\n",
       "  </tbody>\n",
       "</table>\n",
       "</div>"
      ],
      "text/plain": [
       "                      doc_id           type     code  \\\n",
       "0  S0004-06142005000900016-1  PROCEDIMIENTO  bt41zzz   \n",
       "1  S0004-06142005000900016-1  PROCEDIMIENTO     ct13   \n",
       "2  S0004-06142005000900016-1    DIAGNOSTICO   q62.11   \n",
       "3  S0004-06142005000900016-1    DIAGNOSTICO   n28.89   \n",
       "4  S0004-06142005000900016-1    DIAGNOSTICO    n39.0   \n",
       "\n",
       "                                          word         location  \n",
       "0                      ecografía renal derecha  307 316;348 361  \n",
       "1                            gammagrafía renal          739 756  \n",
       "2  estenosis en la unión pieloureteral derecha          540 583  \n",
       "3                        ectasia pielocalicial          326 347  \n",
       "4              infecciones del tracto urinario          198 229  "
      ]
     },
     "execution_count": 38,
     "metadata": {},
     "output_type": "execute_result"
    }
   ],
   "source": [
    "codiesp_x_dev.head()"
   ]
  },
  {
   "cell_type": "code",
   "execution_count": 39,
   "metadata": {},
   "outputs": [],
   "source": [
    "codiesp_x_dev = codiesp_x_dev[codiesp_x_dev[\"type\"] == \"PROCEDIMIENTO\"]"
   ]
  },
  {
   "cell_type": "code",
   "execution_count": 40,
   "metadata": {},
   "outputs": [
    {
     "data": {
      "text/plain": [
       "(1046, 5)"
      ]
     },
     "execution_count": 40,
     "metadata": {},
     "output_type": "execute_result"
    }
   ],
   "source": [
    "codiesp_x_dev.shape"
   ]
  },
  {
   "cell_type": "code",
   "execution_count": 41,
   "metadata": {},
   "outputs": [],
   "source": [
    "df_codes_dev_ner = process_ner_labels(codiesp_x_dev).sort_values([\"doc_id\", \"start\", \"end\"])"
   ]
  },
  {
   "cell_type": "code",
   "execution_count": 42,
   "metadata": {},
   "outputs": [
    {
     "data": {
      "text/html": [
       "<div>\n",
       "<style scoped>\n",
       "    .dataframe tbody tr th:only-of-type {\n",
       "        vertical-align: middle;\n",
       "    }\n",
       "\n",
       "    .dataframe tbody tr th {\n",
       "        vertical-align: top;\n",
       "    }\n",
       "\n",
       "    .dataframe thead th {\n",
       "        text-align: right;\n",
       "    }\n",
       "</style>\n",
       "<table border=\"1\" class=\"dataframe\">\n",
       "  <thead>\n",
       "    <tr style=\"text-align: right;\">\n",
       "      <th></th>\n",
       "      <th>doc_id</th>\n",
       "      <th>type</th>\n",
       "      <th>code</th>\n",
       "      <th>word</th>\n",
       "      <th>start</th>\n",
       "      <th>end</th>\n",
       "    </tr>\n",
       "  </thead>\n",
       "  <tbody>\n",
       "    <tr>\n",
       "      <th>0</th>\n",
       "      <td>S0004-06142005000900016-1</td>\n",
       "      <td>PROCEDIMIENTO</td>\n",
       "      <td>bt41zzz</td>\n",
       "      <td>ecografía renal derecha</td>\n",
       "      <td>307</td>\n",
       "      <td>316</td>\n",
       "    </tr>\n",
       "    <tr>\n",
       "      <th>1</th>\n",
       "      <td>S0004-06142005000900016-1</td>\n",
       "      <td>PROCEDIMIENTO</td>\n",
       "      <td>bt41zzz</td>\n",
       "      <td>ecografía renal derecha</td>\n",
       "      <td>348</td>\n",
       "      <td>361</td>\n",
       "    </tr>\n",
       "    <tr>\n",
       "      <th>2</th>\n",
       "      <td>S0004-06142005000900016-1</td>\n",
       "      <td>PROCEDIMIENTO</td>\n",
       "      <td>ct13</td>\n",
       "      <td>gammagrafía renal</td>\n",
       "      <td>739</td>\n",
       "      <td>756</td>\n",
       "    </tr>\n",
       "    <tr>\n",
       "      <th>3</th>\n",
       "      <td>S0004-06142005001000011-1</td>\n",
       "      <td>PROCEDIMIENTO</td>\n",
       "      <td>3e1m39z</td>\n",
       "      <td>diálisis peritoneal</td>\n",
       "      <td>95</td>\n",
       "      <td>114</td>\n",
       "    </tr>\n",
       "    <tr>\n",
       "      <th>7</th>\n",
       "      <td>S0004-06142005001000011-1</td>\n",
       "      <td>PROCEDIMIENTO</td>\n",
       "      <td>0270</td>\n",
       "      <td>angioplastia transluminal de la coronaria derecha</td>\n",
       "      <td>424</td>\n",
       "      <td>473</td>\n",
       "    </tr>\n",
       "  </tbody>\n",
       "</table>\n",
       "</div>"
      ],
      "text/plain": [
       "                      doc_id           type     code  \\\n",
       "0  S0004-06142005000900016-1  PROCEDIMIENTO  bt41zzz   \n",
       "1  S0004-06142005000900016-1  PROCEDIMIENTO  bt41zzz   \n",
       "2  S0004-06142005000900016-1  PROCEDIMIENTO     ct13   \n",
       "3  S0004-06142005001000011-1  PROCEDIMIENTO  3e1m39z   \n",
       "7  S0004-06142005001000011-1  PROCEDIMIENTO     0270   \n",
       "\n",
       "                                                word start  end  \n",
       "0                            ecografía renal derecha   307  316  \n",
       "1                            ecografía renal derecha   348  361  \n",
       "2                                  gammagrafía renal   739  756  \n",
       "3                                diálisis peritoneal    95  114  \n",
       "7  angioplastia transluminal de la coronaria derecha   424  473  "
      ]
     },
     "execution_count": 42,
     "metadata": {},
     "output_type": "execute_result"
    }
   ],
   "source": [
    "df_codes_dev_ner.head()"
   ]
  },
  {
   "cell_type": "code",
   "execution_count": 43,
   "metadata": {},
   "outputs": [
    {
     "data": {
      "text/plain": [
       "(1540, 6)"
      ]
     },
     "execution_count": 43,
     "metadata": {},
     "output_type": "execute_result"
    }
   ],
   "source": [
    "df_codes_dev_ner.shape"
   ]
  },
  {
   "cell_type": "markdown",
   "metadata": {},
   "source": [
    "Now, using the character start-end positions of each sentence from the CodiEsp corpus (see `datasets/CodiEsp-Sentence-Split.ipynb`), we annotate the sentences with CIE-Procedimiento codes. Also, using BETO tokenizer, each sentence is converted into a sequence of subwords, which are further converted into vocabulary indices (input IDs) and segments arrays (BERT input tensors). We also generate a *fragments* dataset indicating the number of produced annotated sentences for each document."
   ]
  },
  {
   "cell_type": "code",
   "execution_count": 44,
   "metadata": {},
   "outputs": [],
   "source": [
    "# Sentence-Split information\n",
    "ss_corpus_path = \"../datasets/CodiEsp-SSplit-text/\""
   ]
  },
  {
   "cell_type": "markdown",
   "metadata": {},
   "source": [
    "### Training corpus"
   ]
  },
  {
   "cell_type": "code",
   "execution_count": 45,
   "metadata": {},
   "outputs": [],
   "source": [
    "label_list = list(df_codes_train_dev[\"code\"])"
   ]
  },
  {
   "cell_type": "code",
   "execution_count": 46,
   "metadata": {},
   "outputs": [
    {
     "data": {
      "text/plain": [
       "2367"
      ]
     },
     "execution_count": 46,
     "metadata": {},
     "output_type": "execute_result"
    }
   ],
   "source": [
    "len(label_list)"
   ]
  },
  {
   "cell_type": "code",
   "execution_count": 47,
   "metadata": {},
   "outputs": [
    {
     "data": {
      "text/plain": [
       "727"
      ]
     },
     "execution_count": 47,
     "metadata": {},
     "output_type": "execute_result"
    }
   ],
   "source": [
    "len(set(label_list))"
   ]
  },
  {
   "cell_type": "code",
   "execution_count": 48,
   "metadata": {},
   "outputs": [
    {
     "data": {
      "text/plain": [
       "MultiLabelBinarizer(classes=None, sparse_output=False)"
      ]
     },
     "execution_count": 48,
     "metadata": {},
     "output_type": "execute_result"
    }
   ],
   "source": [
    "from sklearn.preprocessing import MultiLabelBinarizer\n",
    "\n",
    "mlb_encoder = MultiLabelBinarizer()\n",
    "mlb_encoder.fit([label_list])"
   ]
  },
  {
   "cell_type": "code",
   "execution_count": 49,
   "metadata": {},
   "outputs": [],
   "source": [
    "# Number of distinct codes\n",
    "num_labels = len(mlb_encoder.classes_)"
   ]
  },
  {
   "cell_type": "code",
   "execution_count": 50,
   "metadata": {},
   "outputs": [
    {
     "data": {
      "text/plain": [
       "727"
      ]
     },
     "execution_count": 50,
     "metadata": {},
     "output_type": "execute_result"
    }
   ],
   "source": [
    "num_labels"
   ]
  },
  {
   "cell_type": "markdown",
   "metadata": {},
   "source": [
    "Only training texts that are annotated with CIE-Procedimiento codes are considered:"
   ]
  },
  {
   "cell_type": "code",
   "execution_count": 51,
   "metadata": {},
   "outputs": [
    {
     "data": {
      "text/plain": [
       "65"
      ]
     },
     "execution_count": 51,
     "metadata": {},
     "output_type": "execute_result"
    }
   ],
   "source": [
    "# Some train documents (texts) are not annotated \n",
    "len(set(df_text_train[\"doc_id\"]) - set(df_codes_train_ner[\"doc_id\"]))"
   ]
  },
  {
   "cell_type": "code",
   "execution_count": 52,
   "metadata": {},
   "outputs": [],
   "source": [
    "train_doc_list = sorted(set(df_codes_train_ner[\"doc_id\"]))"
   ]
  },
  {
   "cell_type": "code",
   "execution_count": 53,
   "metadata": {},
   "outputs": [
    {
     "data": {
      "text/plain": [
       "435"
      ]
     },
     "execution_count": 53,
     "metadata": {},
     "output_type": "execute_result"
    }
   ],
   "source": [
    "len(train_doc_list)"
   ]
  },
  {
   "cell_type": "code",
   "execution_count": 54,
   "metadata": {},
   "outputs": [],
   "source": [
    "# Sentence-Split data"
   ]
  },
  {
   "cell_type": "code",
   "execution_count": 55,
   "metadata": {},
   "outputs": [
    {
     "name": "stdout",
     "output_type": "stream",
     "text": [
      "CPU times: user 10.6 ms, sys: 4.4 ms, total: 15 ms\n",
      "Wall time: 14.9 ms\n"
     ]
    }
   ],
   "source": [
    "%%time\n",
    "ss_sub_corpus_path = ss_corpus_path + \"train/\"\n",
    "ss_files = [f for f in os.listdir(ss_sub_corpus_path) if os.path.isfile(ss_sub_corpus_path + f)]\n",
    "ss_dict_train = load_ss_files(ss_files, ss_sub_corpus_path)"
   ]
  },
  {
   "cell_type": "code",
   "execution_count": 56,
   "metadata": {},
   "outputs": [
    {
     "name": "stderr",
     "output_type": "stream",
     "text": [
      "100%|██████████| 435/435 [00:06<00:00, 66.89it/s]\n"
     ]
    },
    {
     "name": "stdout",
     "output_type": "stream",
     "text": [
      "CPU times: user 6.62 s, sys: 21 ms, total: 6.64 s\n",
      "Wall time: 6.58 s\n"
     ]
    }
   ],
   "source": [
    "%%time\n",
    "train_ind, train_seg, train_y, train_frag, train_start_end_frag = ss_create_frag_input_data_bert(df_text=df_text_train, \n",
    "                                                  text_col=text_col, \n",
    "                                                  df_ann=df_codes_train_ner, doc_list=train_doc_list, ss_dict=ss_dict_train,\n",
    "                                                  tokenizer=tokenizer, lab_encoder=mlb_encoder, seq_len=SEQ_LEN,\n",
    "                                                  greedy=False)"
   ]
  },
  {
   "cell_type": "code",
   "execution_count": 57,
   "metadata": {},
   "outputs": [],
   "source": [
    "# Sanity check"
   ]
  },
  {
   "cell_type": "code",
   "execution_count": 58,
   "metadata": {},
   "outputs": [
    {
     "data": {
      "text/plain": [
       "(7004, 128)"
      ]
     },
     "execution_count": 58,
     "metadata": {},
     "output_type": "execute_result"
    }
   ],
   "source": [
    "train_ind.shape"
   ]
  },
  {
   "cell_type": "code",
   "execution_count": 59,
   "metadata": {},
   "outputs": [
    {
     "data": {
      "text/plain": [
       "(7004, 128)"
      ]
     },
     "execution_count": 59,
     "metadata": {},
     "output_type": "execute_result"
    }
   ],
   "source": [
    "train_seg.shape"
   ]
  },
  {
   "cell_type": "code",
   "execution_count": 60,
   "metadata": {},
   "outputs": [
    {
     "data": {
      "text/plain": [
       "(7004, 727)"
      ]
     },
     "execution_count": 60,
     "metadata": {},
     "output_type": "execute_result"
    }
   ],
   "source": [
    "train_y.shape"
   ]
  },
  {
   "cell_type": "code",
   "execution_count": 61,
   "metadata": {},
   "outputs": [
    {
     "data": {
      "text/plain": [
       "435"
      ]
     },
     "execution_count": 61,
     "metadata": {},
     "output_type": "execute_result"
    }
   ],
   "source": [
    "len(train_frag)"
   ]
  },
  {
   "cell_type": "code",
   "execution_count": 62,
   "metadata": {},
   "outputs": [
    {
     "data": {
      "text/plain": [
       "7004"
      ]
     },
     "execution_count": 62,
     "metadata": {},
     "output_type": "execute_result"
    }
   ],
   "source": [
    "len(train_start_end_frag)"
   ]
  },
  {
   "cell_type": "code",
   "execution_count": 63,
   "metadata": {},
   "outputs": [
    {
     "data": {
      "text/plain": [
       "count    435.000000\n",
       "mean      16.101149\n",
       "std        7.767881\n",
       "min        3.000000\n",
       "25%       10.000000\n",
       "50%       15.000000\n",
       "75%       20.000000\n",
       "max       54.000000\n",
       "dtype: float64"
      ]
     },
     "execution_count": 63,
     "metadata": {},
     "output_type": "execute_result"
    }
   ],
   "source": [
    "# Check n_frag distribution across texts\n",
    "pd.Series(train_frag).describe()"
   ]
  },
  {
   "cell_type": "code",
   "execution_count": 64,
   "metadata": {},
   "outputs": [],
   "source": [
    "# Inspect a randomly selected text and its encoded version\n",
    "check_id = np.random.randint(low=0, high=len(train_doc_list), size=1)[0]"
   ]
  },
  {
   "cell_type": "code",
   "execution_count": 65,
   "metadata": {},
   "outputs": [
    {
     "data": {
      "text/plain": [
       "299"
      ]
     },
     "execution_count": 65,
     "metadata": {},
     "output_type": "execute_result"
    }
   ],
   "source": [
    "check_id"
   ]
  },
  {
   "cell_type": "code",
   "execution_count": 66,
   "metadata": {},
   "outputs": [
    {
     "data": {
      "text/plain": [
       "'S1130-05582015000100005-1'"
      ]
     },
     "execution_count": 66,
     "metadata": {},
     "output_type": "execute_result"
    }
   ],
   "source": [
    "train_doc_list[check_id]"
   ]
  },
  {
   "cell_type": "code",
   "execution_count": 67,
   "metadata": {
    "scrolled": true
   },
   "outputs": [
    {
     "data": {
      "text/plain": [
       "'Un varón de 30 años de edad sufrió un accidente durante la carga de un fusil de pesca submarina en su casa. Se avisó a emergencias. Después del protocolo \"A, B, C\" el examen clínico del paciente mostraba únicamente una herida penetrante a nivel de la región submandibular.\\nEl tamaño aproximado del arpón era de 80 cm de largo y 1 cm de diámetro con un trayecto intracraneal de unos 15 cm. Los bomberos cortaron cuidadosamente el arpón para facilitar el traslado del paciente al hospital.\\nEl paciente estaba hemodinámicamente estable, alerta y orientado (Glasgow 15), sin déficit neurológico y sin sangrado activo. Presentaba coágulos de sangre en el canal auditivo izquierdo.\\nNo había salida de líquido cefalorraquídeo por la herida de entrada ni por el conducto auditivo externo. La radiografía lateral de cráneo mostraba la trayectoria, la dirección y la existencia de mecanismo de barba en el arpón. Se realizó un TAC de urgencia que ponía de manifiesto la dirección de la flecha. El orificio de entrada estaba en la región submaxilar izquierda y penetraba hasta el sifón carotideo del peñasco del hueso temporal izquierdo, pasando muy cerca del seno petroso. La aleta del arpón se encontraba a nivel del cóndilo mandibular izquierdo en su cara interna. Bajo anestesia general e intubación nasotraqueal, el paciente fue colocado en posición supina y posición neutra de la cabeza. La posición del arpón, adyacente al cóndilo mandibular izquierdo dificultaba la apertura oral. A pesar de ello, el acceso se realizó por vía intraoral a nivel de pilar amigdalino izquierdo. Se practicó una incisión de 4 cm. Por este abordaje se procedió a realizar una exposición del arpón a nivel del mecanismo de la aleta. Posteriormente se procedió a la inactivación del mecanismo barba del arpón mediante una ligadura con hilo de acero.\\n\\nPor último y bajo control intraoral, se extrajo el arpón en el sentido contrario a su entrada.\\n\\nNo se observó salida de líquido cefalorraquídeo por la herida de entrada ni por el acceso intraoral. Se suturó entonces con vicryl 3/0 la herida intraoral y con vicryl 4/0 el subcutáneo, y con prolene 4/0 la herida submandibular.\\nInmediatamente después de la operación se le practicó un TAC de control en el que solo se observa un pequeño neumoencéfalo.\\n\\nEl paciente se mantuvo en observación durante 24 horas sin mostrar focalidad neurológica. Posteriormente, pasó a planta y fue dado de alta en el día 3 postoperatorio sin ningún tipo de trastorno neurológico. No se reportaron complicaciones.\\nUn mes más tarde, se le realizó una audiometría que ponía de manifiesto una pérdida de audición conductiva del 60% en el oído izquierdo.\\nActualmente el paciente lleva una vida normal y está únicamente a la espera de una prótesis auditiva.\\n\\n'"
      ]
     },
     "execution_count": 67,
     "metadata": {},
     "output_type": "execute_result"
    }
   ],
   "source": [
    "df_text_train[df_text_train[\"doc_id\"] == train_doc_list[check_id]][text_col].values[0]"
   ]
  },
  {
   "cell_type": "code",
   "execution_count": 68,
   "metadata": {},
   "outputs": [
    {
     "name": "stdout",
     "output_type": "stream",
     "text": [
      "[()] \n",
      "\n",
      "[()] \n",
      "\n",
      "[()] \n",
      "\n",
      "[()] \n",
      "\n",
      "[()] \n",
      "\n",
      "[()] \n",
      "\n",
      "[()] \n",
      "\n",
      "[()] \n",
      "\n",
      "[('bn00zzz', 'bn20')] \n",
      "\n",
      "[('bn20',)] \n",
      "\n",
      "[()] \n",
      "\n",
      "[()] \n",
      "\n",
      "[('0bh1',)] \n",
      "\n",
      "[()] \n",
      "\n",
      "[()] \n",
      "\n",
      "[()] \n",
      "\n",
      "[()] \n",
      "\n",
      "[()] \n",
      "\n",
      "[()] \n",
      "\n",
      "[()] \n",
      "\n",
      "[()] \n",
      "\n",
      "[()] \n",
      "\n",
      "[()] \n",
      "\n",
      "[()] \n",
      "\n",
      "[()] \n",
      "\n",
      "[()] \n",
      "\n",
      "[()] \n",
      "\n"
     ]
    }
   ],
   "source": [
    "check_id_frag = sum(train_frag[:check_id])\n",
    "for i in range(check_id_frag, check_id_frag + train_frag[check_id]):\n",
    "    print(mlb_encoder.inverse_transform(np.array([train_y[i]])), \"\\n\")"
   ]
  },
  {
   "cell_type": "code",
   "execution_count": 69,
   "metadata": {},
   "outputs": [
    {
     "name": "stdout",
     "output_type": "stream",
     "text": [
      "[('Un', (0, 2)), ('varón', (3, 8)), ('de', (9, 11)), ('30', (12, 14)), ('años', (15, 19)), ('de', (20, 22)), ('edad', (23, 27)), ('sufrió', (28, 34)), ('un', (35, 37)), ('accidente', (38, 47)), ('durante', (48, 55)), ('la', (56, 58)), ('carga', (59, 64)), ('de', (65, 67)), ('un', (68, 70)), ('fusil', (71, 76)), ('de', (77, 79)), ('pesca', (80, 85)), ('submar', (86, 92)), ('##ina', (92, 95)), ('en', (96, 98)), ('su', (99, 101)), ('casa', (102, 106)), ('.', (106, 107))]\n",
      "\n",
      "\n",
      "[('Se', (108, 110)), ('avis', (111, 115)), ('##ó', (115, 116)), ('a', (117, 118)), ('emergencias', (119, 130)), ('.', (130, 131))]\n",
      "\n",
      "\n",
      "[('Después', (132, 139)), ('del', (140, 143)), ('protocolo', (144, 153)), ('\"', (154, 155)), ('A', (155, 156)), (',', (156, 157)), ('B', (158, 159)), (',', (159, 160)), ('C', (161, 162)), ('\"', (162, 163)), ('el', (164, 166)), ('examen', (167, 173)), ('clínico', (174, 181)), ('del', (182, 185)), ('paciente', (186, 194)), ('mostraba', (195, 203)), ('únicamente', (204, 214)), ('una', (215, 218)), ('herida', (219, 225)), ('penetr', (226, 232)), ('##ante', (232, 236)), ('a', (237, 238)), ('nivel', (239, 244)), ('de', (245, 247)), ('la', (248, 250)), ('región', (251, 257)), ('sub', (258, 261)), ('##man', (261, 264)), ('##di', (264, 266)), ('##bula', (266, 270)), ('##r', (270, 271)), ('.', (271, 272))]\n",
      "\n",
      "\n",
      "[('El', (273, 275)), ('tamaño', (276, 282)), ('aproximado', (283, 293)), ('del', (294, 297)), ('ar', (298, 300)), ('##pón', (300, 303)), ('era', (304, 307)), ('de', (308, 310)), ('80', (311, 313)), ('cm', (314, 316)), ('de', (317, 319)), ('largo', (320, 325)), ('y', (326, 327)), ('1', (328, 329)), ('cm', (330, 332)), ('de', (333, 335)), ('diámetro', (336, 344)), ('con', (345, 348)), ('un', (349, 351)), ('trayecto', (352, 360)), ('intra', (361, 366)), ('##cran', (366, 370)), ('##eal', (370, 373)), ('de', (374, 376)), ('unos', (377, 381)), ('15', (382, 384)), ('cm', (385, 387)), ('.', (387, 388))]\n",
      "\n",
      "\n",
      "[('Los', (389, 392)), ('bomberos', (393, 401)), ('cortar', (402, 408)), ('##on', (408, 410)), ('cuidadosamente', (411, 425)), ('el', (426, 428)), ('ar', (429, 431)), ('##pón', (431, 434)), ('para', (435, 439)), ('facilitar', (440, 449)), ('el', (450, 452)), ('traslado', (453, 461)), ('del', (462, 465)), ('paciente', (466, 474)), ('al', (475, 477)), ('hospital', (478, 486)), ('.', (486, 487))]\n",
      "\n",
      "\n",
      "[('El', (488, 490)), ('paciente', (491, 499)), ('estaba', (500, 506)), ('hemo', (507, 511)), ('##din', (511, 514)), ('##ámica', (514, 519)), ('##mente', (519, 524)), ('estable', (525, 532)), (',', (532, 533)), ('alerta', (534, 540)), ('y', (541, 542)), ('orientado', (543, 552)), ('(', (553, 554)), ('Glas', (554, 558)), ('##go', (558, 560)), ('[UNK]', (560, 561)), ('15', (562, 564)), (')', (564, 565)), (',', (565, 566)), ('sin', (567, 570)), ('déficit', (571, 578)), ('neuro', (579, 584)), ('##lógico', (584, 590)), ('y', (591, 592)), ('sin', (593, 596)), ('san', (597, 600)), ('##grado', (600, 605)), ('activo', (606, 612)), ('.', (612, 613))]\n",
      "\n",
      "\n",
      "[('Presenta', (614, 622)), ('##ba', (622, 624)), ('co', (625, 627)), ('##ág', (627, 629)), ('##ulos', (629, 633)), ('de', (634, 636)), ('sangre', (637, 643)), ('en', (644, 646)), ('el', (647, 649)), ('canal', (650, 655)), ('audi', (656, 660)), ('##tivo', (660, 664)), ('izquierdo', (665, 674)), ('.', (674, 675))]\n",
      "\n",
      "\n",
      "[('No', (676, 678)), ('había', (679, 684)), ('salida', (685, 691)), ('de', (692, 694)), ('líquido', (695, 702)), ('ce', (703, 705)), ('##falo', (705, 709)), ('##r', (709, 710)), ('##ra', (710, 712)), ('##quí', (712, 715)), ('##deo', (715, 718)), ('por', (719, 722)), ('la', (723, 725)), ('herida', (726, 732)), ('de', (733, 735)), ('entrada', (736, 743)), ('ni', (744, 746)), ('por', (747, 750)), ('el', (751, 753)), ('conducto', (754, 762)), ('audi', (763, 767)), ('##tivo', (767, 771)), ('externo', (772, 779)), ('.', (779, 780))]\n",
      "\n",
      "\n",
      "[('La', (781, 783)), ('radio', (784, 789)), ('##grafía', (789, 795)), ('lateral', (796, 803)), ('de', (804, 806)), ('cráneo', (807, 813)), ('mostraba', (814, 822)), ('la', (823, 825)), ('trayectoria', (826, 837)), (',', (837, 838)), ('la', (839, 841)), ('dirección', (842, 851)), ('y', (852, 853)), ('la', (854, 856)), ('existencia', (857, 867)), ('de', (868, 870)), ('mecanismo', (871, 880)), ('de', (881, 883)), ('barba', (884, 889)), ('en', (890, 892)), ('el', (893, 895)), ('ar', (896, 898)), ('##pón', (898, 901)), ('.', (901, 902))]\n",
      "\n",
      "\n",
      "[('Se', (903, 905)), ('realizó', (906, 913)), ('un', (914, 916)), ('TA', (917, 919)), ('##C', (919, 920)), ('de', (921, 923)), ('urgencia', (924, 932)), ('que', (933, 936)), ('ponía', (937, 942)), ('de', (943, 945)), ('manifiesto', (946, 956)), ('la', (957, 959)), ('dirección', (960, 969)), ('de', (970, 972)), ('la', (973, 975)), ('flecha', (976, 982)), ('.', (982, 983))]\n",
      "\n",
      "\n",
      "[('El', (984, 986)), ('ori', (987, 990)), ('##ficio', (990, 995)), ('de', (996, 998)), ('entrada', (999, 1006)), ('estaba', (1007, 1013)), ('en', (1014, 1016)), ('la', (1017, 1019)), ('región', (1020, 1026)), ('sub', (1027, 1030)), ('##max', (1030, 1033)), ('##ilar', (1033, 1037)), ('izquierda', (1038, 1047)), ('y', (1048, 1049)), ('penetr', (1050, 1056)), ('##aba', (1056, 1059)), ('hasta', (1060, 1065)), ('el', (1066, 1068)), ('si', (1069, 1071)), ('##fón', (1071, 1074)), ('caro', (1075, 1079)), ('##ti', (1079, 1081)), ('##deo', (1081, 1084)), ('del', (1085, 1088)), ('pe', (1089, 1091)), ('##ñas', (1091, 1094)), ('##co', (1094, 1096)), ('del', (1097, 1100)), ('hueso', (1101, 1106)), ('temporal', (1107, 1115)), ('izquierdo', (1116, 1125)), (',', (1125, 1126)), ('pasando', (1127, 1134)), ('muy', (1135, 1138)), ('cerca', (1139, 1144)), ('del', (1145, 1148)), ('seno', (1149, 1153)), ('petro', (1154, 1159)), ('##so', (1159, 1161)), ('.', (1161, 1162))]\n",
      "\n",
      "\n",
      "[('La', (1163, 1165)), ('ale', (1166, 1169)), ('##ta', (1169, 1171)), ('del', (1172, 1175)), ('ar', (1176, 1178)), ('##pón', (1178, 1181)), ('se', (1182, 1184)), ('encontraba', (1185, 1195)), ('a', (1196, 1197)), ('nivel', (1198, 1203)), ('del', (1204, 1207)), ('cón', (1208, 1211)), ('##di', (1211, 1213)), ('##lo', (1213, 1215)), ('mand', (1216, 1220)), ('##ib', (1220, 1222)), ('##ular', (1222, 1226)), ('izquierdo', (1227, 1236)), ('en', (1237, 1239)), ('su', (1240, 1242)), ('cara', (1243, 1247)), ('interna', (1248, 1255)), ('.', (1255, 1256))]\n",
      "\n",
      "\n",
      "[('Bajo', (1257, 1261)), ('anestes', (1262, 1269)), ('##ia', (1269, 1271)), ('general', (1272, 1279)), ('e', (1280, 1281)), ('int', (1282, 1285)), ('##uba', (1285, 1288)), ('##ción', (1288, 1292)), ('nas', (1293, 1296)), ('##ot', (1296, 1298)), ('##ra', (1298, 1300)), ('##que', (1300, 1303)), ('##al', (1303, 1305)), (',', (1305, 1306)), ('el', (1307, 1309)), ('paciente', (1310, 1318)), ('fue', (1319, 1322)), ('colocado', (1323, 1331)), ('en', (1332, 1334)), ('posición', (1335, 1343)), ('supi', (1344, 1348)), ('##na', (1348, 1350)), ('y', (1351, 1352)), ('posición', (1353, 1361)), ('neutr', (1362, 1367)), ('##a', (1367, 1368)), ('de', (1369, 1371)), ('la', (1372, 1374)), ('cabeza', (1375, 1381)), ('.', (1381, 1382))]\n",
      "\n",
      "\n",
      "[('La', (1383, 1385)), ('posición', (1386, 1394)), ('del', (1395, 1398)), ('ar', (1399, 1401)), ('##pón', (1401, 1404)), (',', (1404, 1405)), ('adyac', (1406, 1411)), ('##ente', (1411, 1415)), ('al', (1416, 1418)), ('cón', (1419, 1422)), ('##di', (1422, 1424)), ('##lo', (1424, 1426)), ('mand', (1427, 1431)), ('##ib', (1431, 1433)), ('##ular', (1433, 1437)), ('izquierdo', (1438, 1447)), ('dificul', (1448, 1455)), ('##taba', (1455, 1459)), ('la', (1460, 1462)), ('apertura', (1463, 1471)), ('oral', (1472, 1476)), ('.', (1476, 1477))]\n",
      "\n",
      "\n",
      "[('A', (1478, 1479)), ('pesar', (1480, 1485)), ('de', (1486, 1488)), ('ello', (1489, 1493)), (',', (1493, 1494)), ('el', (1495, 1497)), ('acceso', (1498, 1504)), ('se', (1505, 1507)), ('realizó', (1508, 1515)), ('por', (1516, 1519)), ('vía', (1520, 1523)), ('intra', (1524, 1529)), ('##ora', (1529, 1532)), ('##l', (1532, 1533)), ('a', (1534, 1535)), ('nivel', (1536, 1541)), ('de', (1542, 1544)), ('pilar', (1545, 1550)), ('ami', (1551, 1554)), ('##g', (1554, 1555)), ('##dal', (1555, 1558)), ('##ino', (1558, 1561)), ('izquierdo', (1562, 1571)), ('.', (1571, 1572))]\n",
      "\n",
      "\n",
      "[('Se', (1573, 1575)), ('practic', (1576, 1583)), ('##ó', (1583, 1584)), ('una', (1585, 1588)), ('inci', (1589, 1593)), ('##sión', (1593, 1597)), ('de', (1598, 1600)), ('4', (1601, 1602)), ('cm', (1603, 1605)), ('.', (1605, 1606))]\n",
      "\n",
      "\n",
      "[('Por', (1607, 1610)), ('este', (1611, 1615)), ('aborda', (1616, 1622)), ('##je', (1622, 1624)), ('se', (1625, 1627)), ('procedió', (1628, 1636)), ('a', (1637, 1638)), ('realizar', (1639, 1647)), ('una', (1648, 1651)), ('exposición', (1652, 1662)), ('del', (1663, 1666)), ('ar', (1667, 1669)), ('##pón', (1669, 1672)), ('a', (1673, 1674)), ('nivel', (1675, 1680)), ('del', (1681, 1684)), ('mecanismo', (1685, 1694)), ('de', (1695, 1697)), ('la', (1698, 1700)), ('ale', (1701, 1704)), ('##ta', (1704, 1706)), ('.', (1706, 1707))]\n",
      "\n",
      "\n",
      "[('Posteriormente', (1708, 1722)), ('se', (1723, 1725)), ('procedió', (1726, 1734)), ('a', (1735, 1736)), ('la', (1737, 1739)), ('inac', (1740, 1744)), ('##tiva', (1744, 1748)), ('##ción', (1748, 1752)), ('del', (1753, 1756)), ('mecanismo', (1757, 1766)), ('barba', (1767, 1772)), ('del', (1773, 1776)), ('ar', (1777, 1779)), ('##pón', (1779, 1782)), ('mediante', (1783, 1791)), ('una', (1792, 1795)), ('liga', (1796, 1800)), ('##dura', (1800, 1804)), ('con', (1805, 1808)), ('hilo', (1809, 1813)), ('de', (1814, 1816)), ('acero', (1817, 1822)), ('.', (1822, 1823))]\n",
      "\n",
      "\n",
      "[('Por', (1825, 1828)), ('último', (1829, 1835)), ('y', (1836, 1837)), ('bajo', (1838, 1842)), ('control', (1843, 1850)), ('intra', (1851, 1856)), ('##ora', (1856, 1859)), ('##l', (1859, 1860)), (',', (1860, 1861)), ('se', (1862, 1864)), ('extraj', (1865, 1871)), ('##o', (1871, 1872)), ('el', (1873, 1875)), ('ar', (1876, 1878)), ('##pón', (1878, 1881)), ('en', (1882, 1884)), ('el', (1885, 1887)), ('sentido', (1888, 1895)), ('contrario', (1896, 1905)), ('a', (1906, 1907)), ('su', (1908, 1910)), ('entrada', (1911, 1918)), ('.', (1918, 1919))]\n",
      "\n",
      "\n",
      "[('No', (1921, 1923)), ('se', (1924, 1926)), ('observó', (1927, 1934)), ('salida', (1935, 1941)), ('de', (1942, 1944)), ('líquido', (1945, 1952)), ('ce', (1953, 1955)), ('##falo', (1955, 1959)), ('##r', (1959, 1960)), ('##ra', (1960, 1962)), ('##quí', (1962, 1965)), ('##deo', (1965, 1968)), ('por', (1969, 1972)), ('la', (1973, 1975)), ('herida', (1976, 1982)), ('de', (1983, 1985)), ('entrada', (1986, 1993)), ('ni', (1994, 1996)), ('por', (1997, 2000)), ('el', (2001, 2003)), ('acceso', (2004, 2010)), ('intra', (2011, 2016)), ('##ora', (2016, 2019)), ('##l', (2019, 2020)), ('.', (2020, 2021))]\n",
      "\n",
      "\n",
      "[('Se', (2022, 2024)), ('su', (2025, 2027)), ('##tur', (2027, 2030)), ('##ó', (2030, 2031)), ('entonces', (2032, 2040)), ('con', (2041, 2044)), ('vic', (2045, 2048)), ('##ry', (2048, 2050)), ('##l', (2050, 2051)), ('3', (2052, 2053)), ('[UNK]', (2053, 2054)), ('0', (2054, 2055)), ('la', (2056, 2058)), ('herida', (2059, 2065)), ('intra', (2066, 2071)), ('##ora', (2071, 2074)), ('##l', (2074, 2075)), ('y', (2076, 2077)), ('con', (2078, 2081)), ('vic', (2082, 2085)), ('##ry', (2085, 2087)), ('##l', (2087, 2088)), ('4', (2089, 2090)), ('[UNK]', (2090, 2091)), ('0', (2091, 2092)), ('el', (2093, 2095)), ('subcu', (2096, 2101)), ('##táneo', (2101, 2106)), (',', (2106, 2107)), ('y', (2108, 2109)), ('con', (2110, 2113)), ('prol', (2114, 2118)), ('##ene', (2118, 2121)), ('4', (2122, 2123)), ('[UNK]', (2123, 2124)), ('0', (2124, 2125)), ('la', (2126, 2128)), ('herida', (2129, 2135)), ('sub', (2136, 2139)), ('##man', (2139, 2142)), ('##di', (2142, 2144)), ('##bula', (2144, 2148)), ('##r', (2148, 2149)), ('.', (2149, 2150))]\n",
      "\n",
      "\n",
      "[('Inmediatamente', (2151, 2165)), ('después', (2166, 2173)), ('de', (2174, 2176)), ('la', (2177, 2179)), ('operación', (2180, 2189)), ('se', (2190, 2192)), ('le', (2193, 2195)), ('practic', (2196, 2203)), ('##ó', (2203, 2204)), ('un', (2205, 2207)), ('TA', (2208, 2210)), ('##C', (2210, 2211)), ('de', (2212, 2214)), ('control', (2215, 2222)), ('en', (2223, 2225)), ('el', (2226, 2228)), ('que', (2229, 2232)), ('solo', (2233, 2237)), ('se', (2238, 2240)), ('observa', (2241, 2248)), ('un', (2249, 2251)), ('pequeño', (2252, 2259)), ('neum', (2260, 2264)), ('##oe', (2264, 2266)), ('##n', (2266, 2267)), ('##cé', (2267, 2269)), ('##falo', (2269, 2273)), ('.', (2273, 2274))]\n",
      "\n",
      "\n",
      "[('El', (2276, 2278)), ('paciente', (2279, 2287)), ('se', (2288, 2290)), ('mantuvo', (2291, 2298)), ('en', (2299, 2301)), ('observación', (2302, 2313)), ('durante', (2314, 2321)), ('24', (2322, 2324)), ('horas', (2325, 2330)), ('sin', (2331, 2334)), ('mostrar', (2335, 2342)), ('fo', (2343, 2345)), ('##cali', (2345, 2349)), ('##dad', (2349, 2352)), ('neuro', (2353, 2358)), ('##lógica', (2358, 2364)), ('.', (2364, 2365))]\n",
      "\n",
      "\n",
      "[('Posteriormente', (2366, 2380)), (',', (2380, 2381)), ('pasó', (2382, 2386)), ('a', (2387, 2388)), ('planta', (2389, 2395)), ('y', (2396, 2397)), ('fue', (2398, 2401)), ('dado', (2402, 2406)), ('de', (2407, 2409)), ('alta', (2410, 2414)), ('en', (2415, 2417)), ('el', (2418, 2420)), ('día', (2421, 2424)), ('3', (2425, 2426)), ('post', (2427, 2431)), ('##op', (2431, 2433)), ('##erato', (2433, 2438)), ('##rio', (2438, 2441)), ('sin', (2442, 2445)), ('ningún', (2446, 2452)), ('tipo', (2453, 2457)), ('de', (2458, 2460)), ('trastorno', (2461, 2470)), ('neuro', (2471, 2476)), ('##lógico', (2476, 2482)), ('.', (2482, 2483))]\n",
      "\n",
      "\n",
      "[('No', (2484, 2486)), ('se', (2487, 2489)), ('reportar', (2490, 2498)), ('##on', (2498, 2500)), ('complicaciones', (2501, 2515)), ('.', (2515, 2516))]\n",
      "\n",
      "\n",
      "[('Un', (2517, 2519)), ('mes', (2520, 2523)), ('más', (2524, 2527)), ('tarde', (2528, 2533)), (',', (2533, 2534)), ('se', (2535, 2537)), ('le', (2538, 2540)), ('realizó', (2541, 2548)), ('una', (2549, 2552)), ('audio', (2553, 2558)), ('##metría', (2558, 2564)), ('que', (2565, 2568)), ('ponía', (2569, 2574)), ('de', (2575, 2577)), ('manifiesto', (2578, 2588)), ('una', (2589, 2592)), ('pérdida', (2593, 2600)), ('de', (2601, 2603)), ('audición', (2604, 2612)), ('conduc', (2613, 2619)), ('##tiva', (2619, 2623)), ('del', (2624, 2627)), ('60', (2628, 2630)), ('[UNK]', (2630, 2631)), ('en', (2632, 2634)), ('el', (2635, 2637)), ('oído', (2638, 2642)), ('izquierdo', (2643, 2652)), ('.', (2652, 2653))]\n",
      "\n",
      "\n",
      "[('Actualmente', (2654, 2665)), ('el', (2666, 2668)), ('paciente', (2669, 2677)), ('lleva', (2678, 2683)), ('una', (2684, 2687)), ('vida', (2688, 2692)), ('normal', (2693, 2699)), ('y', (2700, 2701)), ('está', (2702, 2706)), ('únicamente', (2707, 2717)), ('a', (2718, 2719)), ('la', (2720, 2722)), ('espera', (2723, 2729)), ('de', (2730, 2732)), ('una', (2733, 2736)), ('pró', (2737, 2740)), ('##tesis', (2740, 2745)), ('audi', (2746, 2750)), ('##tiva', (2750, 2754)), ('.', (2754, 2755))]\n",
      "\n",
      "\n"
     ]
    }
   ],
   "source": [
    "for i in range(check_id_frag, check_id_frag + train_frag[check_id]):\n",
    "    print(list(zip([tokenizer._token_dict_inv[ind] for ind in train_ind[i]][1:len(train_start_end_frag[i])+1], \n",
    "               train_start_end_frag[i])))\n",
    "    print(\"\\n\")"
   ]
  },
  {
   "cell_type": "code",
   "execution_count": 70,
   "metadata": {},
   "outputs": [
    {
     "name": "stdout",
     "output_type": "stream",
     "text": [
      "[CLS] Un varón de 30 años de edad sufrió un accidente durante la carga de un fusil de pesca submar ##ina en su casa . [SEP] [PAD] [PAD] [PAD] [PAD] [PAD] [PAD] [PAD] [PAD] [PAD] [PAD] [PAD] [PAD] [PAD] [PAD] [PAD] [PAD] [PAD] [PAD] [PAD] [PAD] [PAD] [PAD] [PAD] [PAD] [PAD] [PAD] [PAD] [PAD] [PAD] [PAD] [PAD] [PAD] [PAD] [PAD] [PAD] [PAD] [PAD] [PAD] [PAD] [PAD] [PAD] [PAD] [PAD] [PAD] [PAD] [PAD] [PAD] [PAD] [PAD] [PAD] [PAD] [PAD] [PAD] [PAD] [PAD] [PAD] [PAD] [PAD] [PAD] [PAD] [PAD] [PAD] [PAD] [PAD] [PAD] [PAD] [PAD] [PAD] [PAD] [PAD] [PAD] [PAD] [PAD] [PAD] [PAD] [PAD] [PAD] [PAD] [PAD] [PAD] [PAD] [PAD] [PAD] [PAD] [PAD] [PAD] [PAD] [PAD] [PAD] [PAD] [PAD] [PAD] [PAD] [PAD] [PAD] [PAD] [PAD] [PAD] [PAD] [PAD] [PAD] [PAD] \n",
      "\n",
      "[CLS] Se avis ##ó a emergencias . [SEP] [PAD] [PAD] [PAD] [PAD] [PAD] [PAD] [PAD] [PAD] [PAD] [PAD] [PAD] [PAD] [PAD] [PAD] [PAD] [PAD] [PAD] [PAD] [PAD] [PAD] [PAD] [PAD] [PAD] [PAD] [PAD] [PAD] [PAD] [PAD] [PAD] [PAD] [PAD] [PAD] [PAD] [PAD] [PAD] [PAD] [PAD] [PAD] [PAD] [PAD] [PAD] [PAD] [PAD] [PAD] [PAD] [PAD] [PAD] [PAD] [PAD] [PAD] [PAD] [PAD] [PAD] [PAD] [PAD] [PAD] [PAD] [PAD] [PAD] [PAD] [PAD] [PAD] [PAD] [PAD] [PAD] [PAD] [PAD] [PAD] [PAD] [PAD] [PAD] [PAD] [PAD] [PAD] [PAD] [PAD] [PAD] [PAD] [PAD] [PAD] [PAD] [PAD] [PAD] [PAD] [PAD] [PAD] [PAD] [PAD] [PAD] [PAD] [PAD] [PAD] [PAD] [PAD] [PAD] [PAD] [PAD] [PAD] [PAD] [PAD] [PAD] [PAD] [PAD] [PAD] [PAD] [PAD] [PAD] [PAD] [PAD] [PAD] [PAD] [PAD] [PAD] [PAD] [PAD] [PAD] [PAD] [PAD] [PAD] [PAD] \n",
      "\n",
      "[CLS] Después del protocolo \" A , B , C \" el examen clínico del paciente mostraba únicamente una herida penetr ##ante a nivel de la región sub ##man ##di ##bula ##r . [SEP] [PAD] [PAD] [PAD] [PAD] [PAD] [PAD] [PAD] [PAD] [PAD] [PAD] [PAD] [PAD] [PAD] [PAD] [PAD] [PAD] [PAD] [PAD] [PAD] [PAD] [PAD] [PAD] [PAD] [PAD] [PAD] [PAD] [PAD] [PAD] [PAD] [PAD] [PAD] [PAD] [PAD] [PAD] [PAD] [PAD] [PAD] [PAD] [PAD] [PAD] [PAD] [PAD] [PAD] [PAD] [PAD] [PAD] [PAD] [PAD] [PAD] [PAD] [PAD] [PAD] [PAD] [PAD] [PAD] [PAD] [PAD] [PAD] [PAD] [PAD] [PAD] [PAD] [PAD] [PAD] [PAD] [PAD] [PAD] [PAD] [PAD] [PAD] [PAD] [PAD] [PAD] [PAD] [PAD] [PAD] [PAD] [PAD] [PAD] [PAD] [PAD] [PAD] [PAD] [PAD] [PAD] [PAD] [PAD] [PAD] [PAD] [PAD] [PAD] [PAD] [PAD] [PAD] \n",
      "\n",
      "[CLS] El tamaño aproximado del ar ##pón era de 80 cm de largo y 1 cm de diámetro con un trayecto intra ##cran ##eal de unos 15 cm . [SEP] [PAD] [PAD] [PAD] [PAD] [PAD] [PAD] [PAD] [PAD] [PAD] [PAD] [PAD] [PAD] [PAD] [PAD] [PAD] [PAD] [PAD] [PAD] [PAD] [PAD] [PAD] [PAD] [PAD] [PAD] [PAD] [PAD] [PAD] [PAD] [PAD] [PAD] [PAD] [PAD] [PAD] [PAD] [PAD] [PAD] [PAD] [PAD] [PAD] [PAD] [PAD] [PAD] [PAD] [PAD] [PAD] [PAD] [PAD] [PAD] [PAD] [PAD] [PAD] [PAD] [PAD] [PAD] [PAD] [PAD] [PAD] [PAD] [PAD] [PAD] [PAD] [PAD] [PAD] [PAD] [PAD] [PAD] [PAD] [PAD] [PAD] [PAD] [PAD] [PAD] [PAD] [PAD] [PAD] [PAD] [PAD] [PAD] [PAD] [PAD] [PAD] [PAD] [PAD] [PAD] [PAD] [PAD] [PAD] [PAD] [PAD] [PAD] [PAD] [PAD] [PAD] [PAD] [PAD] [PAD] [PAD] [PAD] \n",
      "\n",
      "[CLS] Los bomberos cortar ##on cuidadosamente el ar ##pón para facilitar el traslado del paciente al hospital . [SEP] [PAD] [PAD] [PAD] [PAD] [PAD] [PAD] [PAD] [PAD] [PAD] [PAD] [PAD] [PAD] [PAD] [PAD] [PAD] [PAD] [PAD] [PAD] [PAD] [PAD] [PAD] [PAD] [PAD] [PAD] [PAD] [PAD] [PAD] [PAD] [PAD] [PAD] [PAD] [PAD] [PAD] [PAD] [PAD] [PAD] [PAD] [PAD] [PAD] [PAD] [PAD] [PAD] [PAD] [PAD] [PAD] [PAD] [PAD] [PAD] [PAD] [PAD] [PAD] [PAD] [PAD] [PAD] [PAD] [PAD] [PAD] [PAD] [PAD] [PAD] [PAD] [PAD] [PAD] [PAD] [PAD] [PAD] [PAD] [PAD] [PAD] [PAD] [PAD] [PAD] [PAD] [PAD] [PAD] [PAD] [PAD] [PAD] [PAD] [PAD] [PAD] [PAD] [PAD] [PAD] [PAD] [PAD] [PAD] [PAD] [PAD] [PAD] [PAD] [PAD] [PAD] [PAD] [PAD] [PAD] [PAD] [PAD] [PAD] [PAD] [PAD] [PAD] [PAD] [PAD] [PAD] [PAD] [PAD] [PAD] [PAD] \n",
      "\n",
      "[CLS] El paciente estaba hemo ##din ##ámica ##mente estable , alerta y orientado ( Glas ##go [UNK] 15 ) , sin déficit neuro ##lógico y sin san ##grado activo . [SEP] [PAD] [PAD] [PAD] [PAD] [PAD] [PAD] [PAD] [PAD] [PAD] [PAD] [PAD] [PAD] [PAD] [PAD] [PAD] [PAD] [PAD] [PAD] [PAD] [PAD] [PAD] [PAD] [PAD] [PAD] [PAD] [PAD] [PAD] [PAD] [PAD] [PAD] [PAD] [PAD] [PAD] [PAD] [PAD] [PAD] [PAD] [PAD] [PAD] [PAD] [PAD] [PAD] [PAD] [PAD] [PAD] [PAD] [PAD] [PAD] [PAD] [PAD] [PAD] [PAD] [PAD] [PAD] [PAD] [PAD] [PAD] [PAD] [PAD] [PAD] [PAD] [PAD] [PAD] [PAD] [PAD] [PAD] [PAD] [PAD] [PAD] [PAD] [PAD] [PAD] [PAD] [PAD] [PAD] [PAD] [PAD] [PAD] [PAD] [PAD] [PAD] [PAD] [PAD] [PAD] [PAD] [PAD] [PAD] [PAD] [PAD] [PAD] [PAD] [PAD] [PAD] [PAD] [PAD] [PAD] [PAD] \n",
      "\n",
      "[CLS] Presenta ##ba co ##ág ##ulos de sangre en el canal audi ##tivo izquierdo . [SEP] [PAD] [PAD] [PAD] [PAD] [PAD] [PAD] [PAD] [PAD] [PAD] [PAD] [PAD] [PAD] [PAD] [PAD] [PAD] [PAD] [PAD] [PAD] [PAD] [PAD] [PAD] [PAD] [PAD] [PAD] [PAD] [PAD] [PAD] [PAD] [PAD] [PAD] [PAD] [PAD] [PAD] [PAD] [PAD] [PAD] [PAD] [PAD] [PAD] [PAD] [PAD] [PAD] [PAD] [PAD] [PAD] [PAD] [PAD] [PAD] [PAD] [PAD] [PAD] [PAD] [PAD] [PAD] [PAD] [PAD] [PAD] [PAD] [PAD] [PAD] [PAD] [PAD] [PAD] [PAD] [PAD] [PAD] [PAD] [PAD] [PAD] [PAD] [PAD] [PAD] [PAD] [PAD] [PAD] [PAD] [PAD] [PAD] [PAD] [PAD] [PAD] [PAD] [PAD] [PAD] [PAD] [PAD] [PAD] [PAD] [PAD] [PAD] [PAD] [PAD] [PAD] [PAD] [PAD] [PAD] [PAD] [PAD] [PAD] [PAD] [PAD] [PAD] [PAD] [PAD] [PAD] [PAD] [PAD] [PAD] [PAD] [PAD] [PAD] [PAD] \n",
      "\n",
      "[CLS] No había salida de líquido ce ##falo ##r ##ra ##quí ##deo por la herida de entrada ni por el conducto audi ##tivo externo . [SEP] [PAD] [PAD] [PAD] [PAD] [PAD] [PAD] [PAD] [PAD] [PAD] [PAD] [PAD] [PAD] [PAD] [PAD] [PAD] [PAD] [PAD] [PAD] [PAD] [PAD] [PAD] [PAD] [PAD] [PAD] [PAD] [PAD] [PAD] [PAD] [PAD] [PAD] [PAD] [PAD] [PAD] [PAD] [PAD] [PAD] [PAD] [PAD] [PAD] [PAD] [PAD] [PAD] [PAD] [PAD] [PAD] [PAD] [PAD] [PAD] [PAD] [PAD] [PAD] [PAD] [PAD] [PAD] [PAD] [PAD] [PAD] [PAD] [PAD] [PAD] [PAD] [PAD] [PAD] [PAD] [PAD] [PAD] [PAD] [PAD] [PAD] [PAD] [PAD] [PAD] [PAD] [PAD] [PAD] [PAD] [PAD] [PAD] [PAD] [PAD] [PAD] [PAD] [PAD] [PAD] [PAD] [PAD] [PAD] [PAD] [PAD] [PAD] [PAD] [PAD] [PAD] [PAD] [PAD] [PAD] [PAD] [PAD] [PAD] [PAD] [PAD] [PAD] \n",
      "\n",
      "[CLS] La radio ##grafía lateral de cráneo mostraba la trayectoria , la dirección y la existencia de mecanismo de barba en el ar ##pón . [SEP] [PAD] [PAD] [PAD] [PAD] [PAD] [PAD] [PAD] [PAD] [PAD] [PAD] [PAD] [PAD] [PAD] [PAD] [PAD] [PAD] [PAD] [PAD] [PAD] [PAD] [PAD] [PAD] [PAD] [PAD] [PAD] [PAD] [PAD] [PAD] [PAD] [PAD] [PAD] [PAD] [PAD] [PAD] [PAD] [PAD] [PAD] [PAD] [PAD] [PAD] [PAD] [PAD] [PAD] [PAD] [PAD] [PAD] [PAD] [PAD] [PAD] [PAD] [PAD] [PAD] [PAD] [PAD] [PAD] [PAD] [PAD] [PAD] [PAD] [PAD] [PAD] [PAD] [PAD] [PAD] [PAD] [PAD] [PAD] [PAD] [PAD] [PAD] [PAD] [PAD] [PAD] [PAD] [PAD] [PAD] [PAD] [PAD] [PAD] [PAD] [PAD] [PAD] [PAD] [PAD] [PAD] [PAD] [PAD] [PAD] [PAD] [PAD] [PAD] [PAD] [PAD] [PAD] [PAD] [PAD] [PAD] [PAD] [PAD] [PAD] [PAD] [PAD] \n",
      "\n",
      "[CLS] Se realizó un TA ##C de urgencia que ponía de manifiesto la dirección de la flecha . [SEP] [PAD] [PAD] [PAD] [PAD] [PAD] [PAD] [PAD] [PAD] [PAD] [PAD] [PAD] [PAD] [PAD] [PAD] [PAD] [PAD] [PAD] [PAD] [PAD] [PAD] [PAD] [PAD] [PAD] [PAD] [PAD] [PAD] [PAD] [PAD] [PAD] [PAD] [PAD] [PAD] [PAD] [PAD] [PAD] [PAD] [PAD] [PAD] [PAD] [PAD] [PAD] [PAD] [PAD] [PAD] [PAD] [PAD] [PAD] [PAD] [PAD] [PAD] [PAD] [PAD] [PAD] [PAD] [PAD] [PAD] [PAD] [PAD] [PAD] [PAD] [PAD] [PAD] [PAD] [PAD] [PAD] [PAD] [PAD] [PAD] [PAD] [PAD] [PAD] [PAD] [PAD] [PAD] [PAD] [PAD] [PAD] [PAD] [PAD] [PAD] [PAD] [PAD] [PAD] [PAD] [PAD] [PAD] [PAD] [PAD] [PAD] [PAD] [PAD] [PAD] [PAD] [PAD] [PAD] [PAD] [PAD] [PAD] [PAD] [PAD] [PAD] [PAD] [PAD] [PAD] [PAD] [PAD] [PAD] [PAD] [PAD] \n",
      "\n",
      "[CLS] El ori ##ficio de entrada estaba en la región sub ##max ##ilar izquierda y penetr ##aba hasta el si ##fón caro ##ti ##deo del pe ##ñas ##co del hueso temporal izquierdo , pasando muy cerca del seno petro ##so . [SEP] [PAD] [PAD] [PAD] [PAD] [PAD] [PAD] [PAD] [PAD] [PAD] [PAD] [PAD] [PAD] [PAD] [PAD] [PAD] [PAD] [PAD] [PAD] [PAD] [PAD] [PAD] [PAD] [PAD] [PAD] [PAD] [PAD] [PAD] [PAD] [PAD] [PAD] [PAD] [PAD] [PAD] [PAD] [PAD] [PAD] [PAD] [PAD] [PAD] [PAD] [PAD] [PAD] [PAD] [PAD] [PAD] [PAD] [PAD] [PAD] [PAD] [PAD] [PAD] [PAD] [PAD] [PAD] [PAD] [PAD] [PAD] [PAD] [PAD] [PAD] [PAD] [PAD] [PAD] [PAD] [PAD] [PAD] [PAD] [PAD] [PAD] [PAD] [PAD] [PAD] [PAD] [PAD] [PAD] [PAD] [PAD] [PAD] [PAD] [PAD] [PAD] [PAD] [PAD] [PAD] [PAD] [PAD] \n",
      "\n",
      "[CLS] La ale ##ta del ar ##pón se encontraba a nivel del cón ##di ##lo mand ##ib ##ular izquierdo en su cara interna . [SEP] [PAD] [PAD] [PAD] [PAD] [PAD] [PAD] [PAD] [PAD] [PAD] [PAD] [PAD] [PAD] [PAD] [PAD] [PAD] [PAD] [PAD] [PAD] [PAD] [PAD] [PAD] [PAD] [PAD] [PAD] [PAD] [PAD] [PAD] [PAD] [PAD] [PAD] [PAD] [PAD] [PAD] [PAD] [PAD] [PAD] [PAD] [PAD] [PAD] [PAD] [PAD] [PAD] [PAD] [PAD] [PAD] [PAD] [PAD] [PAD] [PAD] [PAD] [PAD] [PAD] [PAD] [PAD] [PAD] [PAD] [PAD] [PAD] [PAD] [PAD] [PAD] [PAD] [PAD] [PAD] [PAD] [PAD] [PAD] [PAD] [PAD] [PAD] [PAD] [PAD] [PAD] [PAD] [PAD] [PAD] [PAD] [PAD] [PAD] [PAD] [PAD] [PAD] [PAD] [PAD] [PAD] [PAD] [PAD] [PAD] [PAD] [PAD] [PAD] [PAD] [PAD] [PAD] [PAD] [PAD] [PAD] [PAD] [PAD] [PAD] [PAD] [PAD] [PAD] \n",
      "\n",
      "[CLS] Bajo anestes ##ia general e int ##uba ##ción nas ##ot ##ra ##que ##al , el paciente fue colocado en posición supi ##na y posición neutr ##a de la cabeza . [SEP] [PAD] [PAD] [PAD] [PAD] [PAD] [PAD] [PAD] [PAD] [PAD] [PAD] [PAD] [PAD] [PAD] [PAD] [PAD] [PAD] [PAD] [PAD] [PAD] [PAD] [PAD] [PAD] [PAD] [PAD] [PAD] [PAD] [PAD] [PAD] [PAD] [PAD] [PAD] [PAD] [PAD] [PAD] [PAD] [PAD] [PAD] [PAD] [PAD] [PAD] [PAD] [PAD] [PAD] [PAD] [PAD] [PAD] [PAD] [PAD] [PAD] [PAD] [PAD] [PAD] [PAD] [PAD] [PAD] [PAD] [PAD] [PAD] [PAD] [PAD] [PAD] [PAD] [PAD] [PAD] [PAD] [PAD] [PAD] [PAD] [PAD] [PAD] [PAD] [PAD] [PAD] [PAD] [PAD] [PAD] [PAD] [PAD] [PAD] [PAD] [PAD] [PAD] [PAD] [PAD] [PAD] [PAD] [PAD] [PAD] [PAD] [PAD] [PAD] [PAD] [PAD] [PAD] [PAD] [PAD] \n",
      "\n",
      "[CLS] La posición del ar ##pón , adyac ##ente al cón ##di ##lo mand ##ib ##ular izquierdo dificul ##taba la apertura oral . [SEP] [PAD] [PAD] [PAD] [PAD] [PAD] [PAD] [PAD] [PAD] [PAD] [PAD] [PAD] [PAD] [PAD] [PAD] [PAD] [PAD] [PAD] [PAD] [PAD] [PAD] [PAD] [PAD] [PAD] [PAD] [PAD] [PAD] [PAD] [PAD] [PAD] [PAD] [PAD] [PAD] [PAD] [PAD] [PAD] [PAD] [PAD] [PAD] [PAD] [PAD] [PAD] [PAD] [PAD] [PAD] [PAD] [PAD] [PAD] [PAD] [PAD] [PAD] [PAD] [PAD] [PAD] [PAD] [PAD] [PAD] [PAD] [PAD] [PAD] [PAD] [PAD] [PAD] [PAD] [PAD] [PAD] [PAD] [PAD] [PAD] [PAD] [PAD] [PAD] [PAD] [PAD] [PAD] [PAD] [PAD] [PAD] [PAD] [PAD] [PAD] [PAD] [PAD] [PAD] [PAD] [PAD] [PAD] [PAD] [PAD] [PAD] [PAD] [PAD] [PAD] [PAD] [PAD] [PAD] [PAD] [PAD] [PAD] [PAD] [PAD] [PAD] [PAD] [PAD] [PAD] \n",
      "\n",
      "[CLS] A pesar de ello , el acceso se realizó por vía intra ##ora ##l a nivel de pilar ami ##g ##dal ##ino izquierdo . [SEP] [PAD] [PAD] [PAD] [PAD] [PAD] [PAD] [PAD] [PAD] [PAD] [PAD] [PAD] [PAD] [PAD] [PAD] [PAD] [PAD] [PAD] [PAD] [PAD] [PAD] [PAD] [PAD] [PAD] [PAD] [PAD] [PAD] [PAD] [PAD] [PAD] [PAD] [PAD] [PAD] [PAD] [PAD] [PAD] [PAD] [PAD] [PAD] [PAD] [PAD] [PAD] [PAD] [PAD] [PAD] [PAD] [PAD] [PAD] [PAD] [PAD] [PAD] [PAD] [PAD] [PAD] [PAD] [PAD] [PAD] [PAD] [PAD] [PAD] [PAD] [PAD] [PAD] [PAD] [PAD] [PAD] [PAD] [PAD] [PAD] [PAD] [PAD] [PAD] [PAD] [PAD] [PAD] [PAD] [PAD] [PAD] [PAD] [PAD] [PAD] [PAD] [PAD] [PAD] [PAD] [PAD] [PAD] [PAD] [PAD] [PAD] [PAD] [PAD] [PAD] [PAD] [PAD] [PAD] [PAD] [PAD] [PAD] [PAD] [PAD] [PAD] [PAD] \n",
      "\n",
      "[CLS] Se practic ##ó una inci ##sión de 4 cm . [SEP] [PAD] [PAD] [PAD] [PAD] [PAD] [PAD] [PAD] [PAD] [PAD] [PAD] [PAD] [PAD] [PAD] [PAD] [PAD] [PAD] [PAD] [PAD] [PAD] [PAD] [PAD] [PAD] [PAD] [PAD] [PAD] [PAD] [PAD] [PAD] [PAD] [PAD] [PAD] [PAD] [PAD] [PAD] [PAD] [PAD] [PAD] [PAD] [PAD] [PAD] [PAD] [PAD] [PAD] [PAD] [PAD] [PAD] [PAD] [PAD] [PAD] [PAD] [PAD] [PAD] [PAD] [PAD] [PAD] [PAD] [PAD] [PAD] [PAD] [PAD] [PAD] [PAD] [PAD] [PAD] [PAD] [PAD] [PAD] [PAD] [PAD] [PAD] [PAD] [PAD] [PAD] [PAD] [PAD] [PAD] [PAD] [PAD] [PAD] [PAD] [PAD] [PAD] [PAD] [PAD] [PAD] [PAD] [PAD] [PAD] [PAD] [PAD] [PAD] [PAD] [PAD] [PAD] [PAD] [PAD] [PAD] [PAD] [PAD] [PAD] [PAD] [PAD] [PAD] [PAD] [PAD] [PAD] [PAD] [PAD] [PAD] [PAD] [PAD] [PAD] [PAD] [PAD] [PAD] [PAD] \n",
      "\n",
      "[CLS] Por este aborda ##je se procedió a realizar una exposición del ar ##pón a nivel del mecanismo de la ale ##ta . [SEP] [PAD] [PAD] [PAD] [PAD] [PAD] [PAD] [PAD] [PAD] [PAD] [PAD] [PAD] [PAD] [PAD] [PAD] [PAD] [PAD] [PAD] [PAD] [PAD] [PAD] [PAD] [PAD] [PAD] [PAD] [PAD] [PAD] [PAD] [PAD] [PAD] [PAD] [PAD] [PAD] [PAD] [PAD] [PAD] [PAD] [PAD] [PAD] [PAD] [PAD] [PAD] [PAD] [PAD] [PAD] [PAD] [PAD] [PAD] [PAD] [PAD] [PAD] [PAD] [PAD] [PAD] [PAD] [PAD] [PAD] [PAD] [PAD] [PAD] [PAD] [PAD] [PAD] [PAD] [PAD] [PAD] [PAD] [PAD] [PAD] [PAD] [PAD] [PAD] [PAD] [PAD] [PAD] [PAD] [PAD] [PAD] [PAD] [PAD] [PAD] [PAD] [PAD] [PAD] [PAD] [PAD] [PAD] [PAD] [PAD] [PAD] [PAD] [PAD] [PAD] [PAD] [PAD] [PAD] [PAD] [PAD] [PAD] [PAD] [PAD] [PAD] [PAD] [PAD] [PAD] \n",
      "\n",
      "[CLS] Posteriormente se procedió a la inac ##tiva ##ción del mecanismo barba del ar ##pón mediante una liga ##dura con hilo de acero . [SEP] [PAD] [PAD] [PAD] [PAD] [PAD] [PAD] [PAD] [PAD] [PAD] [PAD] [PAD] [PAD] [PAD] [PAD] [PAD] [PAD] [PAD] [PAD] [PAD] [PAD] [PAD] [PAD] [PAD] [PAD] [PAD] [PAD] [PAD] [PAD] [PAD] [PAD] [PAD] [PAD] [PAD] [PAD] [PAD] [PAD] [PAD] [PAD] [PAD] [PAD] [PAD] [PAD] [PAD] [PAD] [PAD] [PAD] [PAD] [PAD] [PAD] [PAD] [PAD] [PAD] [PAD] [PAD] [PAD] [PAD] [PAD] [PAD] [PAD] [PAD] [PAD] [PAD] [PAD] [PAD] [PAD] [PAD] [PAD] [PAD] [PAD] [PAD] [PAD] [PAD] [PAD] [PAD] [PAD] [PAD] [PAD] [PAD] [PAD] [PAD] [PAD] [PAD] [PAD] [PAD] [PAD] [PAD] [PAD] [PAD] [PAD] [PAD] [PAD] [PAD] [PAD] [PAD] [PAD] [PAD] [PAD] [PAD] [PAD] [PAD] [PAD] [PAD] [PAD] \n",
      "\n",
      "[CLS] Por último y bajo control intra ##ora ##l , se extraj ##o el ar ##pón en el sentido contrario a su entrada . [SEP] [PAD] [PAD] [PAD] [PAD] [PAD] [PAD] [PAD] [PAD] [PAD] [PAD] [PAD] [PAD] [PAD] [PAD] [PAD] [PAD] [PAD] [PAD] [PAD] [PAD] [PAD] [PAD] [PAD] [PAD] [PAD] [PAD] [PAD] [PAD] [PAD] [PAD] [PAD] [PAD] [PAD] [PAD] [PAD] [PAD] [PAD] [PAD] [PAD] [PAD] [PAD] [PAD] [PAD] [PAD] [PAD] [PAD] [PAD] [PAD] [PAD] [PAD] [PAD] [PAD] [PAD] [PAD] [PAD] [PAD] [PAD] [PAD] [PAD] [PAD] [PAD] [PAD] [PAD] [PAD] [PAD] [PAD] [PAD] [PAD] [PAD] [PAD] [PAD] [PAD] [PAD] [PAD] [PAD] [PAD] [PAD] [PAD] [PAD] [PAD] [PAD] [PAD] [PAD] [PAD] [PAD] [PAD] [PAD] [PAD] [PAD] [PAD] [PAD] [PAD] [PAD] [PAD] [PAD] [PAD] [PAD] [PAD] [PAD] [PAD] [PAD] [PAD] [PAD] \n",
      "\n",
      "[CLS] No se observó salida de líquido ce ##falo ##r ##ra ##quí ##deo por la herida de entrada ni por el acceso intra ##ora ##l . [SEP] [PAD] [PAD] [PAD] [PAD] [PAD] [PAD] [PAD] [PAD] [PAD] [PAD] [PAD] [PAD] [PAD] [PAD] [PAD] [PAD] [PAD] [PAD] [PAD] [PAD] [PAD] [PAD] [PAD] [PAD] [PAD] [PAD] [PAD] [PAD] [PAD] [PAD] [PAD] [PAD] [PAD] [PAD] [PAD] [PAD] [PAD] [PAD] [PAD] [PAD] [PAD] [PAD] [PAD] [PAD] [PAD] [PAD] [PAD] [PAD] [PAD] [PAD] [PAD] [PAD] [PAD] [PAD] [PAD] [PAD] [PAD] [PAD] [PAD] [PAD] [PAD] [PAD] [PAD] [PAD] [PAD] [PAD] [PAD] [PAD] [PAD] [PAD] [PAD] [PAD] [PAD] [PAD] [PAD] [PAD] [PAD] [PAD] [PAD] [PAD] [PAD] [PAD] [PAD] [PAD] [PAD] [PAD] [PAD] [PAD] [PAD] [PAD] [PAD] [PAD] [PAD] [PAD] [PAD] [PAD] [PAD] [PAD] [PAD] [PAD] [PAD] \n",
      "\n",
      "[CLS] Se su ##tur ##ó entonces con vic ##ry ##l 3 [UNK] 0 la herida intra ##ora ##l y con vic ##ry ##l 4 [UNK] 0 el subcu ##táneo , y con prol ##ene 4 [UNK] 0 la herida sub ##man ##di ##bula ##r . [SEP] [PAD] [PAD] [PAD] [PAD] [PAD] [PAD] [PAD] [PAD] [PAD] [PAD] [PAD] [PAD] [PAD] [PAD] [PAD] [PAD] [PAD] [PAD] [PAD] [PAD] [PAD] [PAD] [PAD] [PAD] [PAD] [PAD] [PAD] [PAD] [PAD] [PAD] [PAD] [PAD] [PAD] [PAD] [PAD] [PAD] [PAD] [PAD] [PAD] [PAD] [PAD] [PAD] [PAD] [PAD] [PAD] [PAD] [PAD] [PAD] [PAD] [PAD] [PAD] [PAD] [PAD] [PAD] [PAD] [PAD] [PAD] [PAD] [PAD] [PAD] [PAD] [PAD] [PAD] [PAD] [PAD] [PAD] [PAD] [PAD] [PAD] [PAD] [PAD] [PAD] [PAD] [PAD] [PAD] [PAD] [PAD] [PAD] [PAD] [PAD] [PAD] [PAD] \n",
      "\n",
      "[CLS] Inmediatamente después de la operación se le practic ##ó un TA ##C de control en el que solo se observa un pequeño neum ##oe ##n ##cé ##falo . [SEP] [PAD] [PAD] [PAD] [PAD] [PAD] [PAD] [PAD] [PAD] [PAD] [PAD] [PAD] [PAD] [PAD] [PAD] [PAD] [PAD] [PAD] [PAD] [PAD] [PAD] [PAD] [PAD] [PAD] [PAD] [PAD] [PAD] [PAD] [PAD] [PAD] [PAD] [PAD] [PAD] [PAD] [PAD] [PAD] [PAD] [PAD] [PAD] [PAD] [PAD] [PAD] [PAD] [PAD] [PAD] [PAD] [PAD] [PAD] [PAD] [PAD] [PAD] [PAD] [PAD] [PAD] [PAD] [PAD] [PAD] [PAD] [PAD] [PAD] [PAD] [PAD] [PAD] [PAD] [PAD] [PAD] [PAD] [PAD] [PAD] [PAD] [PAD] [PAD] [PAD] [PAD] [PAD] [PAD] [PAD] [PAD] [PAD] [PAD] [PAD] [PAD] [PAD] [PAD] [PAD] [PAD] [PAD] [PAD] [PAD] [PAD] [PAD] [PAD] [PAD] [PAD] [PAD] [PAD] [PAD] [PAD] [PAD] \n",
      "\n",
      "[CLS] El paciente se mantuvo en observación durante 24 horas sin mostrar fo ##cali ##dad neuro ##lógica . [SEP] [PAD] [PAD] [PAD] [PAD] [PAD] [PAD] [PAD] [PAD] [PAD] [PAD] [PAD] [PAD] [PAD] [PAD] [PAD] [PAD] [PAD] [PAD] [PAD] [PAD] [PAD] [PAD] [PAD] [PAD] [PAD] [PAD] [PAD] [PAD] [PAD] [PAD] [PAD] [PAD] [PAD] [PAD] [PAD] [PAD] [PAD] [PAD] [PAD] [PAD] [PAD] [PAD] [PAD] [PAD] [PAD] [PAD] [PAD] [PAD] [PAD] [PAD] [PAD] [PAD] [PAD] [PAD] [PAD] [PAD] [PAD] [PAD] [PAD] [PAD] [PAD] [PAD] [PAD] [PAD] [PAD] [PAD] [PAD] [PAD] [PAD] [PAD] [PAD] [PAD] [PAD] [PAD] [PAD] [PAD] [PAD] [PAD] [PAD] [PAD] [PAD] [PAD] [PAD] [PAD] [PAD] [PAD] [PAD] [PAD] [PAD] [PAD] [PAD] [PAD] [PAD] [PAD] [PAD] [PAD] [PAD] [PAD] [PAD] [PAD] [PAD] [PAD] [PAD] [PAD] [PAD] [PAD] [PAD] [PAD] [PAD] \n",
      "\n",
      "[CLS] Posteriormente , pasó a planta y fue dado de alta en el día 3 post ##op ##erato ##rio sin ningún tipo de trastorno neuro ##lógico . [SEP] [PAD] [PAD] [PAD] [PAD] [PAD] [PAD] [PAD] [PAD] [PAD] [PAD] [PAD] [PAD] [PAD] [PAD] [PAD] [PAD] [PAD] [PAD] [PAD] [PAD] [PAD] [PAD] [PAD] [PAD] [PAD] [PAD] [PAD] [PAD] [PAD] [PAD] [PAD] [PAD] [PAD] [PAD] [PAD] [PAD] [PAD] [PAD] [PAD] [PAD] [PAD] [PAD] [PAD] [PAD] [PAD] [PAD] [PAD] [PAD] [PAD] [PAD] [PAD] [PAD] [PAD] [PAD] [PAD] [PAD] [PAD] [PAD] [PAD] [PAD] [PAD] [PAD] [PAD] [PAD] [PAD] [PAD] [PAD] [PAD] [PAD] [PAD] [PAD] [PAD] [PAD] [PAD] [PAD] [PAD] [PAD] [PAD] [PAD] [PAD] [PAD] [PAD] [PAD] [PAD] [PAD] [PAD] [PAD] [PAD] [PAD] [PAD] [PAD] [PAD] [PAD] [PAD] [PAD] [PAD] [PAD] [PAD] [PAD] [PAD] \n",
      "\n",
      "[CLS] No se reportar ##on complicaciones . [SEP] [PAD] [PAD] [PAD] [PAD] [PAD] [PAD] [PAD] [PAD] [PAD] [PAD] [PAD] [PAD] [PAD] [PAD] [PAD] [PAD] [PAD] [PAD] [PAD] [PAD] [PAD] [PAD] [PAD] [PAD] [PAD] [PAD] [PAD] [PAD] [PAD] [PAD] [PAD] [PAD] [PAD] [PAD] [PAD] [PAD] [PAD] [PAD] [PAD] [PAD] [PAD] [PAD] [PAD] [PAD] [PAD] [PAD] [PAD] [PAD] [PAD] [PAD] [PAD] [PAD] [PAD] [PAD] [PAD] [PAD] [PAD] [PAD] [PAD] [PAD] [PAD] [PAD] [PAD] [PAD] [PAD] [PAD] [PAD] [PAD] [PAD] [PAD] [PAD] [PAD] [PAD] [PAD] [PAD] [PAD] [PAD] [PAD] [PAD] [PAD] [PAD] [PAD] [PAD] [PAD] [PAD] [PAD] [PAD] [PAD] [PAD] [PAD] [PAD] [PAD] [PAD] [PAD] [PAD] [PAD] [PAD] [PAD] [PAD] [PAD] [PAD] [PAD] [PAD] [PAD] [PAD] [PAD] [PAD] [PAD] [PAD] [PAD] [PAD] [PAD] [PAD] [PAD] [PAD] [PAD] [PAD] [PAD] [PAD] [PAD] \n",
      "\n",
      "[CLS] Un mes más tarde , se le realizó una audio ##metría que ponía de manifiesto una pérdida de audición conduc ##tiva del 60 [UNK] en el oído izquierdo . [SEP] [PAD] [PAD] [PAD] [PAD] [PAD] [PAD] [PAD] [PAD] [PAD] [PAD] [PAD] [PAD] [PAD] [PAD] [PAD] [PAD] [PAD] [PAD] [PAD] [PAD] [PAD] [PAD] [PAD] [PAD] [PAD] [PAD] [PAD] [PAD] [PAD] [PAD] [PAD] [PAD] [PAD] [PAD] [PAD] [PAD] [PAD] [PAD] [PAD] [PAD] [PAD] [PAD] [PAD] [PAD] [PAD] [PAD] [PAD] [PAD] [PAD] [PAD] [PAD] [PAD] [PAD] [PAD] [PAD] [PAD] [PAD] [PAD] [PAD] [PAD] [PAD] [PAD] [PAD] [PAD] [PAD] [PAD] [PAD] [PAD] [PAD] [PAD] [PAD] [PAD] [PAD] [PAD] [PAD] [PAD] [PAD] [PAD] [PAD] [PAD] [PAD] [PAD] [PAD] [PAD] [PAD] [PAD] [PAD] [PAD] [PAD] [PAD] [PAD] [PAD] [PAD] [PAD] [PAD] [PAD] [PAD] \n",
      "\n",
      "[CLS] Actualmente el paciente lleva una vida normal y está únicamente a la espera de una pró ##tesis audi ##tiva . [SEP] [PAD] [PAD] [PAD] [PAD] [PAD] [PAD] [PAD] [PAD] [PAD] [PAD] [PAD] [PAD] [PAD] [PAD] [PAD] [PAD] [PAD] [PAD] [PAD] [PAD] [PAD] [PAD] [PAD] [PAD] [PAD] [PAD] [PAD] [PAD] [PAD] [PAD] [PAD] [PAD] [PAD] [PAD] [PAD] [PAD] [PAD] [PAD] [PAD] [PAD] [PAD] [PAD] [PAD] [PAD] [PAD] [PAD] [PAD] [PAD] [PAD] [PAD] [PAD] [PAD] [PAD] [PAD] [PAD] [PAD] [PAD] [PAD] [PAD] [PAD] [PAD] [PAD] [PAD] [PAD] [PAD] [PAD] [PAD] [PAD] [PAD] [PAD] [PAD] [PAD] [PAD] [PAD] [PAD] [PAD] [PAD] [PAD] [PAD] [PAD] [PAD] [PAD] [PAD] [PAD] [PAD] [PAD] [PAD] [PAD] [PAD] [PAD] [PAD] [PAD] [PAD] [PAD] [PAD] [PAD] [PAD] [PAD] [PAD] [PAD] [PAD] [PAD] [PAD] [PAD] [PAD] [PAD] \n",
      "\n"
     ]
    }
   ],
   "source": [
    "check_id_frag = sum(train_frag[:check_id])\n",
    "for frag in train_ind[check_id_frag:check_id_frag + train_frag[check_id]]:\n",
    "    print(' '.join([tokenizer._token_dict_inv[ind] for ind in frag]), \"\\n\")"
   ]
  },
  {
   "cell_type": "code",
   "execution_count": 71,
   "metadata": {},
   "outputs": [
    {
     "data": {
      "text/plain": [
       "count    7004.000000\n",
       "mean        0.305682\n",
       "std         0.653261\n",
       "min         0.000000\n",
       "25%         0.000000\n",
       "50%         0.000000\n",
       "75%         0.000000\n",
       "max         6.000000\n",
       "dtype: float64"
      ]
     },
     "execution_count": 71,
     "metadata": {},
     "output_type": "execute_result"
    }
   ],
   "source": [
    "# Fragment labels distribution\n",
    "pd.Series(np.sum(train_y, axis=1)).describe()"
   ]
  },
  {
   "cell_type": "markdown",
   "metadata": {},
   "source": [
    "### Development corpus\n",
    "\n",
    "Only development texts that are annotated with CIE-Procedimiento codes are considered:"
   ]
  },
  {
   "cell_type": "code",
   "execution_count": 72,
   "metadata": {},
   "outputs": [
    {
     "data": {
      "text/plain": [
       "28"
      ]
     },
     "execution_count": 72,
     "metadata": {},
     "output_type": "execute_result"
    }
   ],
   "source": [
    "# Some dev documents (texts) are not annotated \n",
    "len(set(df_text_dev[\"doc_id\"]) - set(df_codes_dev_ner[\"doc_id\"]))"
   ]
  },
  {
   "cell_type": "code",
   "execution_count": 73,
   "metadata": {},
   "outputs": [],
   "source": [
    "dev_doc_list = sorted(set(df_codes_dev_ner[\"doc_id\"]))"
   ]
  },
  {
   "cell_type": "code",
   "execution_count": 74,
   "metadata": {},
   "outputs": [
    {
     "data": {
      "text/plain": [
       "222"
      ]
     },
     "execution_count": 74,
     "metadata": {},
     "output_type": "execute_result"
    }
   ],
   "source": [
    "len(dev_doc_list)"
   ]
  },
  {
   "cell_type": "code",
   "execution_count": 75,
   "metadata": {},
   "outputs": [
    {
     "name": "stdout",
     "output_type": "stream",
     "text": [
      "CPU times: user 43.5 ms, sys: 0 ns, total: 43.5 ms\n",
      "Wall time: 42.9 ms\n"
     ]
    }
   ],
   "source": [
    "%%time\n",
    "ss_sub_corpus_path = ss_corpus_path + \"dev/\"\n",
    "ss_files = [f for f in os.listdir(ss_sub_corpus_path) if os.path.isfile(ss_sub_corpus_path + f)]\n",
    "ss_dict_dev = load_ss_files(ss_files, ss_sub_corpus_path)"
   ]
  },
  {
   "cell_type": "code",
   "execution_count": 76,
   "metadata": {},
   "outputs": [
    {
     "name": "stderr",
     "output_type": "stream",
     "text": [
      "100%|██████████| 222/222 [00:03<00:00, 63.06it/s]"
     ]
    },
    {
     "name": "stdout",
     "output_type": "stream",
     "text": [
      "CPU times: user 3.58 s, sys: 7.82 ms, total: 3.59 s\n",
      "Wall time: 3.56 s\n"
     ]
    },
    {
     "name": "stderr",
     "output_type": "stream",
     "text": [
      "\n"
     ]
    }
   ],
   "source": [
    "%%time\n",
    "dev_ind, dev_seg, dev_y, dev_frag, dev_start_end_frag = ss_create_frag_input_data_bert(df_text=df_text_dev, \n",
    "                                                  text_col=text_col, \n",
    "                                                  df_ann=df_codes_dev_ner, doc_list=dev_doc_list, ss_dict=ss_dict_dev,\n",
    "                                                  tokenizer=tokenizer, lab_encoder=mlb_encoder, seq_len=SEQ_LEN,\n",
    "                                                  greedy=False)"
   ]
  },
  {
   "cell_type": "code",
   "execution_count": 77,
   "metadata": {},
   "outputs": [],
   "source": [
    "# Sanity check"
   ]
  },
  {
   "cell_type": "code",
   "execution_count": 78,
   "metadata": {},
   "outputs": [
    {
     "data": {
      "text/plain": [
       "(3797, 128)"
      ]
     },
     "execution_count": 78,
     "metadata": {},
     "output_type": "execute_result"
    }
   ],
   "source": [
    "dev_ind.shape"
   ]
  },
  {
   "cell_type": "code",
   "execution_count": 79,
   "metadata": {},
   "outputs": [
    {
     "data": {
      "text/plain": [
       "(3797, 128)"
      ]
     },
     "execution_count": 79,
     "metadata": {},
     "output_type": "execute_result"
    }
   ],
   "source": [
    "dev_seg.shape"
   ]
  },
  {
   "cell_type": "code",
   "execution_count": 80,
   "metadata": {},
   "outputs": [
    {
     "data": {
      "text/plain": [
       "(3797, 727)"
      ]
     },
     "execution_count": 80,
     "metadata": {},
     "output_type": "execute_result"
    }
   ],
   "source": [
    "dev_y.shape"
   ]
  },
  {
   "cell_type": "code",
   "execution_count": 81,
   "metadata": {},
   "outputs": [
    {
     "data": {
      "text/plain": [
       "222"
      ]
     },
     "execution_count": 81,
     "metadata": {},
     "output_type": "execute_result"
    }
   ],
   "source": [
    "len(dev_frag)"
   ]
  },
  {
   "cell_type": "code",
   "execution_count": 82,
   "metadata": {},
   "outputs": [
    {
     "data": {
      "text/plain": [
       "3797"
      ]
     },
     "execution_count": 82,
     "metadata": {},
     "output_type": "execute_result"
    }
   ],
   "source": [
    "len(dev_start_end_frag)"
   ]
  },
  {
   "cell_type": "code",
   "execution_count": 83,
   "metadata": {},
   "outputs": [
    {
     "data": {
      "text/plain": [
       "count    222.000000\n",
       "mean      17.103604\n",
       "std        8.313598\n",
       "min        4.000000\n",
       "25%       11.000000\n",
       "50%       15.000000\n",
       "75%       21.000000\n",
       "max       65.000000\n",
       "dtype: float64"
      ]
     },
     "execution_count": 83,
     "metadata": {},
     "output_type": "execute_result"
    }
   ],
   "source": [
    "# Check n_frag distribution across texts\n",
    "pd.Series(dev_frag).describe()"
   ]
  },
  {
   "cell_type": "code",
   "execution_count": 84,
   "metadata": {},
   "outputs": [],
   "source": [
    "# Inspect a randomly selected text and its encoded version\n",
    "check_id = np.random.randint(low=0, high=len(dev_doc_list), size=1)[0]"
   ]
  },
  {
   "cell_type": "code",
   "execution_count": 85,
   "metadata": {},
   "outputs": [
    {
     "data": {
      "text/plain": [
       "80"
      ]
     },
     "execution_count": 85,
     "metadata": {},
     "output_type": "execute_result"
    }
   ],
   "source": [
    "check_id"
   ]
  },
  {
   "cell_type": "code",
   "execution_count": 86,
   "metadata": {},
   "outputs": [
    {
     "data": {
      "text/plain": [
       "'S0213-12852016000500002-1'"
      ]
     },
     "execution_count": 86,
     "metadata": {},
     "output_type": "execute_result"
    }
   ],
   "source": [
    "dev_doc_list[check_id]"
   ]
  },
  {
   "cell_type": "code",
   "execution_count": 87,
   "metadata": {
    "scrolled": true
   },
   "outputs": [
    {
     "data": {
      "text/plain": [
       "'Paciente de sexo masculino, de raza negra, 21 años de edad, que consulta al servicio de Cirugía Maxilofacial del Hospital Universitario San Vicente Fundación de Medellín adscrito a la Universidad de Antioquia, remitido por odontólogo de una institución de salud pública por presentar aumento de volumen en mandíbula, asintomático y de evolución desconocida.\\nIntraoralmente se observa excelente integridad dental y buena oclusión dental, pero hay aumento de volumen por vestibular que compromete el cuerpo y la sínfisis, mientras que por lingual, la expansión de la tabla es solo en zona de canino y bicúspides inferiores derechos.\\nEn radiografía panorámica inicial, se aprecia imagen radiolúcida de 10 cm de longitud, multiloculada, localizada desde distal del diente 46 hasta mesial del 33. Presentan rizólisis la raíz mesial del 46 y la raíz del 45, con posible necrosis pulpar. Tenían movilidad mínima los dientes 46, 45 y 44; los demás dientes presentaban vitalidad normal y el conducto dentario inferior se encuentra rechazado. No hay alteración en la sensibilidad del nervio mentoniano.\\n\\nEl paciente autoriza la realización de todo el tratamiento firmando el consentimiento informado. Previo a la biopsia inicial se hizo aspirado produciendo un líquido citrino y el primer estudio histopatológico encontró un tejido conectivo laxo, algunas células gigantes multinucleadas con pocos núcleos y una banda delgada de queratina; no había evidencia de tejido epitelial pero fue considerado como muestra insuficiente. No obstante, se dio un diagnóstico de tumor odontogénico queratoquístico, por la presencia de una banda de queratina. Posterior a este procedimiento, la lesión se sobreinfectó y el paciente debió ser hospitalizado por la severidad del cuadro clínico; se aprovechó esta condición para realizar una segunda biopsia bajo anestesia general 8 días más tarde, en la cual se encontró una cápsula constituida por tejido conectivo con intenso infiltrado inflamatorio y un tejido epitelial con varias capas de células la cual dio como diagnóstico: quiste radicular inflamatorio. Ante la ambigüedad del diagnóstico y la agresividad de la lesión se decidió realizar la intervención con el primer diagnóstico (tumor odontogénico queratoquístico -exqueratoquiste-). Con este diagnóstico se decidió planear un tratamiento quirúrgico agresivo y se optó por ordenar la realización de las endodoncias de 46 a 33 (9 dientes) previamente al procedimiento quirúrgico, ya que los ápices dentales estaban inmersos en la cavidad y el curetaje mismo haría amputación de paquetes vasculares pulpares, además según el diagnóstico es una lesión muy recidivante. Este tratamiento endodóntico duró 3 meses debido a la dificultad de sellar los conductos por la presencia de un drenaje a través de las cámaras pulpares de un líquido color ámbar, al cabo de dicho tiempo cesó la producción de contenido líquido y se concluyeron las endodoncias.\\n\\nSe procedió a realizar la fase quirúrgica bajo anestesia general. Se levanta un colgajo trapezoidal de distal del 46 a distal del 33. Al reflejar el colgajo se encuentra tabla expandida en toda su extensión y perforada en zona de bicúspides (dientes 44 y 45) lugar donde se habían realizado las biopsias previamente. Se procedió a retirar toda la cortical vestibular expandida hasta tener acceso completo a la cavidad quística. Se encuentra y remueve cápsula fibrosa gruesa que recubre el defecto óseo. Se hace fresado con instrumental cortante rotario de la cavidad ósea y se pincela todo el defecto óseo con solución de Carnoy. Se aprecian algunas perforaciones de la cortical lingual, las cuales se cauterizan con electro bisturí por el riesgo de invasión de la lesión tumoral hacia tejidos blandos linguales. Debido al debilitamiento del borde basilar mandibular, se coloca una placa de reconstrucción para evitar una fractura intra o posoperatoria. Antes de suturar el colgajo se rellena defecto óseo con colágeno fibrilar y se medica con analgésicos y antibióticos. El tejido obtenido se envía a patología. El reporte histopatológico del espécimen quirúrgico muestra un tejido fibroconectivo carente de epitelio y se obtuvo un diagnóstico posquirúrgico de quiste óseo aneurismático.\\nDebido a que en la segunda biopsia apareció un epitelio, se indujo al error en el diagnóstico pero, evaluando las tres muestras histopatológicas, se consideró que dicho tejido epitelial de la segunda biopsia era producto de la reacción inflamatoria, mientras que la biopsia inicial y el espécimen quirúrgico no mostraron componente epitelial; se optó por considerarlo un quiste óseo aneurismático.\\nEl paciente se evaluó a los 8 y 15 días y luego a los 2 meses, a los 10 meses y a los 2 años. En la cita de control a los 2 meses se encontró necrosis pulpar y fístula a nivel del 47, el cual estaba adyacente a la lesión y se había amputado el ápice de la raíz mesial durante el procedimiento quirúrgico. Se realizó la endodoncia y se resolvió la infección. Además presentó una parestesia del nervio mentoniano derecho y se prescribe complejo B tabletas por un mes. Se realizó nueva valoración posquirúrgica a los 10 meses y se encontró adecuado proceso de cicatrización ósea, pero presento una secuela de oclusión, ya que los dientes que quedaron sin soporte óseo por estar inmersos en el defecto óseo, (del diente 44 al 33) se intruyeron y produjeron una mordida abierta. Dos años después se realiza una nueva revisión clínica y radiográfica donde se encuentra que: de los dientes 44 a 33 permanecen en mordida abierta, el 44 además está ligeramente vestibularizado. En la radiografía panorámica se observa un buen llenado óseo, pero en la tomografía tridimensional muestra que hay un defecto de unos 6 mm de diámetro que comprometen el ápice del 44 y del 43 que falta por regenerar el hueso y aún persiste la parestesia dos años después. En imagen intraoral se aprecia que el aumento producido por la expansión de la lesión de la tabla lingual a nivel de dientes 43, 44 y 45 aún persiste.\\n\\n'"
      ]
     },
     "execution_count": 87,
     "metadata": {},
     "output_type": "execute_result"
    }
   ],
   "source": [
    "df_text_dev[df_text_dev[\"doc_id\"] == dev_doc_list[check_id]][text_col].values[0]"
   ]
  },
  {
   "cell_type": "code",
   "execution_count": 88,
   "metadata": {},
   "outputs": [
    {
     "name": "stdout",
     "output_type": "stream",
     "text": [
      "[()] \n",
      "\n",
      "[('0cb7',)] \n",
      "\n",
      "[()] \n",
      "\n",
      "[()] \n",
      "\n",
      "[()] \n",
      "\n",
      "[()] \n",
      "\n",
      "[()] \n",
      "\n",
      "[('0cb7',)] \n",
      "\n",
      "[()] \n",
      "\n",
      "[()] \n",
      "\n",
      "[()] \n",
      "\n",
      "[()] \n",
      "\n",
      "[()] \n",
      "\n",
      "[()] \n",
      "\n",
      "[()] \n",
      "\n",
      "[('0cb7',)] \n",
      "\n",
      "[()] \n",
      "\n",
      "[()] \n",
      "\n",
      "[()] \n",
      "\n",
      "[('0cb7',)] \n",
      "\n",
      "[()] \n",
      "\n",
      "[()] \n",
      "\n",
      "[()] \n",
      "\n",
      "[()] \n",
      "\n",
      "[()] \n",
      "\n",
      "[()] \n",
      "\n",
      "[()] \n",
      "\n",
      "[()] \n",
      "\n",
      "[()] \n",
      "\n",
      "[()] \n",
      "\n",
      "[()] \n",
      "\n",
      "[()] \n",
      "\n",
      "[()] \n",
      "\n"
     ]
    }
   ],
   "source": [
    "check_id_frag = sum(dev_frag[:check_id])\n",
    "for i in range(check_id_frag, check_id_frag + dev_frag[check_id]):\n",
    "    print(mlb_encoder.inverse_transform(np.array([dev_y[i]])), \"\\n\")"
   ]
  },
  {
   "cell_type": "code",
   "execution_count": 89,
   "metadata": {},
   "outputs": [
    {
     "name": "stdout",
     "output_type": "stream",
     "text": [
      "[('Paci', (0, 4)), ('##ente', (4, 8)), ('de', (9, 11)), ('sexo', (12, 16)), ('masculino', (17, 26)), (',', (26, 27)), ('de', (28, 30)), ('raza', (31, 35)), ('negra', (36, 41)), (',', (41, 42)), ('21', (43, 45)), ('años', (46, 50)), ('de', (51, 53)), ('edad', (54, 58)), (',', (58, 59)), ('que', (60, 63)), ('consulta', (64, 72)), ('al', (73, 75)), ('servicio', (76, 84)), ('de', (85, 87)), ('Cir', (88, 91)), ('##ug', (91, 93)), ('##ía', (93, 95)), ('Max', (96, 99)), ('##ilo', (99, 102)), ('##fac', (102, 105)), ('##ial', (105, 108)), ('del', (109, 112)), ('Hospital', (113, 121)), ('Universitario', (122, 135)), ('San', (136, 139)), ('Vicente', (140, 147)), ('Fundación', (148, 157)), ('de', (158, 160)), ('Medellín', (161, 169)), ('adscrito', (170, 178)), ('a', (179, 180)), ('la', (181, 183)), ('Universidad', (184, 195)), ('de', (196, 198)), ('Antio', (199, 204)), ('##quia', (204, 208)), (',', (208, 209)), ('remitido', (210, 218)), ('por', (219, 222)), ('o', (223, 224)), ('##don', (224, 227)), ('##tó', (227, 229)), ('##log', (229, 232)), ('##o', (232, 233)), ('de', (234, 236)), ('una', (237, 240)), ('institución', (241, 252)), ('de', (253, 255)), ('salud', (256, 261)), ('pública', (262, 269)), ('por', (270, 273)), ('presentar', (274, 283)), ('aumento', (284, 291)), ('de', (292, 294)), ('volumen', (295, 302)), ('en', (303, 305)), ('mandíbula', (306, 315)), (',', (315, 316)), ('asi', (317, 320)), ('##nto', (320, 323)), ('##mático', (323, 329)), ('y', (330, 331)), ('de', (332, 334)), ('evolución', (335, 344)), ('desconocida', (345, 356)), ('.', (356, 357))]\n",
      "\n",
      "\n",
      "[('Int', (358, 361)), ('##ra', (361, 363)), ('##ora', (363, 366)), ('##l', (366, 367)), ('##mente', (367, 372)), ('se', (373, 375)), ('observa', (376, 383)), ('excelente', (384, 393)), ('integridad', (394, 404)), ('dental', (405, 411)), ('y', (412, 413)), ('buena', (414, 419)), ('oc', (420, 422)), ('##lus', (422, 425)), ('##ión', (425, 428)), ('dental', (429, 435)), (',', (435, 436)), ('pero', (437, 441)), ('hay', (442, 445)), ('aumento', (446, 453)), ('de', (454, 456)), ('volumen', (457, 464)), ('por', (465, 468)), ('vesti', (469, 474)), ('##bula', (474, 478)), ('##r', (478, 479)), ('que', (480, 483)), ('compromete', (484, 494)), ('el', (495, 497)), ('cuerpo', (498, 504)), ('y', (505, 506)), ('la', (507, 509)), ('sín', (510, 513)), ('##fi', (513, 515)), ('##sis', (515, 518)), (',', (518, 519)), ('mientras', (520, 528)), ('que', (529, 532)), ('por', (533, 536)), ('ling', (537, 541)), ('##ual', (541, 544)), (',', (544, 545)), ('la', (546, 548)), ('expansión', (549, 558)), ('de', (559, 561)), ('la', (562, 564)), ('tabla', (565, 570)), ('es', (571, 573)), ('solo', (574, 578)), ('en', (579, 581)), ('zona', (582, 586)), ('de', (587, 589)), ('can', (590, 593)), ('##ino', (593, 596)), ('y', (597, 598)), ('bi', (599, 601)), ('##cú', (601, 603)), ('##s', (603, 604)), ('##pide', (604, 608)), ('##s', (608, 609)), ('inferiores', (610, 620)), ('derechos', (621, 629)), ('.', (629, 630))]\n",
      "\n",
      "\n",
      "[('En', (631, 633)), ('radio', (634, 639)), ('##grafía', (639, 645)), ('panor', (646, 651)), ('##ámica', (651, 656)), ('inicial', (657, 664)), (',', (664, 665)), ('se', (666, 668)), ('aprecia', (669, 676)), ('imagen', (677, 683)), ('radio', (684, 689)), ('##l', (689, 690)), ('##úc', (690, 692)), ('##ida', (692, 695)), ('de', (696, 698)), ('10', (699, 701)), ('cm', (702, 704)), ('de', (705, 707)), ('longitud', (708, 716)), (',', (716, 717)), ('multi', (718, 723)), ('##locu', (723, 727)), ('##lada', (727, 731)), (',', (731, 732)), ('localizada', (733, 743)), ('desde', (744, 749)), ('dist', (750, 754)), ('##al', (754, 756)), ('del', (757, 760)), ('diente', (761, 767)), ('46', (768, 770)), ('hasta', (771, 776)), ('mes', (777, 780)), ('##ial', (780, 783)), ('del', (784, 787)), ('33', (788, 790)), ('.', (790, 791))]\n",
      "\n",
      "\n",
      "[('Presenta', (792, 800)), ('##n', (800, 801)), ('ri', (802, 804)), ('##zó', (804, 806)), ('##lis', (806, 809)), ('##is', (809, 811)), ('la', (812, 814)), ('raíz', (815, 819)), ('mes', (820, 823)), ('##ial', (823, 826)), ('del', (827, 830)), ('46', (831, 833)), ('y', (834, 835)), ('la', (836, 838)), ('raíz', (839, 843)), ('del', (844, 847)), ('45', (848, 850)), (',', (850, 851)), ('con', (852, 855)), ('posible', (856, 863)), ('nec', (864, 867)), ('##ros', (867, 870)), ('##is', (870, 872)), ('pul', (873, 876)), ('##par', (876, 879)), ('.', (879, 880))]\n",
      "\n",
      "\n",
      "[('Tenían', (881, 887)), ('movilidad', (888, 897)), ('mínima', (898, 904)), ('los', (905, 908)), ('dientes', (909, 916)), ('46', (917, 919)), (',', (919, 920)), ('45', (921, 923)), ('y', (924, 925)), ('44', (926, 928)), ('[UNK]', (928, 929)), ('los', (930, 933)), ('demás', (934, 939)), ('dientes', (940, 947)), ('presentaba', (948, 958)), ('##n', (958, 959)), ('vital', (960, 965)), ('##idad', (965, 969)), ('normal', (970, 976)), ('y', (977, 978)), ('el', (979, 981)), ('conducto', (982, 990)), ('den', (991, 994)), ('##tario', (994, 999)), ('inferior', (1000, 1008)), ('se', (1009, 1011)), ('encuentra', (1012, 1021)), ('rechazado', (1022, 1031)), ('.', (1031, 1032))]\n",
      "\n",
      "\n",
      "[('No', (1033, 1035)), ('hay', (1036, 1039)), ('alteración', (1040, 1050)), ('en', (1051, 1053)), ('la', (1054, 1056)), ('sensibilidad', (1057, 1069)), ('del', (1070, 1073)), ('nervi', (1074, 1079)), ('##o', (1079, 1080)), ('ment', (1081, 1085)), ('##onia', (1085, 1089)), ('##no', (1089, 1091)), ('.', (1091, 1092))]\n",
      "\n",
      "\n",
      "[('El', (1094, 1096)), ('paciente', (1097, 1105)), ('autoriza', (1106, 1114)), ('la', (1115, 1117)), ('realización', (1118, 1129)), ('de', (1130, 1132)), ('todo', (1133, 1137)), ('el', (1138, 1140)), ('tratamiento', (1141, 1152)), ('firma', (1153, 1158)), ('##n', (1158, 1159)), ('##do', (1159, 1161)), ('el', (1162, 1164)), ('consentimiento', (1165, 1179)), ('informado', (1180, 1189)), ('.', (1189, 1190))]\n",
      "\n",
      "\n",
      "[('Pre', (1191, 1194)), ('##vio', (1194, 1197)), ('a', (1198, 1199)), ('la', (1200, 1202)), ('bio', (1203, 1206)), ('##psia', (1206, 1210)), ('inicial', (1211, 1218)), ('se', (1219, 1221)), ('hizo', (1222, 1226)), ('aspira', (1227, 1233)), ('##do', (1233, 1235)), ('produciendo', (1236, 1247)), ('un', (1248, 1250)), ('líquido', (1251, 1258)), ('cit', (1259, 1262)), ('##rino', (1262, 1266)), ('y', (1267, 1268)), ('el', (1269, 1271)), ('primer', (1272, 1278)), ('estudio', (1279, 1286)), ('hist', (1287, 1291)), ('##op', (1291, 1293)), ('##ato', (1293, 1296)), ('##lógico', (1296, 1302)), ('encontró', (1303, 1311)), ('un', (1312, 1314)), ('tejido', (1315, 1321)), ('conec', (1322, 1327)), ('##tivo', (1327, 1331)), ('la', (1332, 1334)), ('##xo', (1334, 1336)), (',', (1336, 1337)), ('algunas', (1338, 1345)), ('células', (1346, 1353)), ('gigantes', (1354, 1362)), ('multin', (1363, 1369)), ('##ucle', (1369, 1373)), ('##adas', (1373, 1377)), ('con', (1378, 1381)), ('pocos', (1382, 1387)), ('núcleos', (1388, 1395)), ('y', (1396, 1397)), ('una', (1398, 1401)), ('banda', (1402, 1407)), ('delgada', (1408, 1415)), ('de', (1416, 1418)), ('quer', (1419, 1423)), ('##ati', (1423, 1426)), ('##na', (1426, 1428)), ('[UNK]', (1428, 1429)), ('no', (1430, 1432)), ('había', (1433, 1438)), ('evidencia', (1439, 1448)), ('de', (1449, 1451)), ('tejido', (1452, 1458)), ('epi', (1459, 1462)), ('##teli', (1462, 1466)), ('##al', (1466, 1468)), ('pero', (1469, 1473)), ('fue', (1474, 1477)), ('considerado', (1478, 1489)), ('como', (1490, 1494)), ('muestra', (1495, 1502)), ('insuficiente', (1503, 1515)), ('.', (1515, 1516))]\n",
      "\n",
      "\n",
      "[('No', (1517, 1519)), ('obstante', (1520, 1528)), (',', (1528, 1529)), ('se', (1530, 1532)), ('dio', (1533, 1536)), ('un', (1537, 1539)), ('diagnóstico', (1540, 1551)), ('de', (1552, 1554)), ('tumor', (1555, 1560)), ('o', (1561, 1562)), ('##don', (1562, 1565)), ('##to', (1565, 1567)), ('##gén', (1567, 1570)), ('##ico', (1570, 1573)), ('quer', (1574, 1578)), ('##ato', (1578, 1581)), ('##quí', (1581, 1584)), ('##stico', (1584, 1589)), (',', (1589, 1590)), ('por', (1591, 1594)), ('la', (1595, 1597)), ('presencia', (1598, 1607)), ('de', (1608, 1610)), ('una', (1611, 1614)), ('banda', (1615, 1620)), ('de', (1621, 1623)), ('quer', (1624, 1628)), ('##ati', (1628, 1631)), ('##na', (1631, 1633)), ('.', (1633, 1634))]\n",
      "\n",
      "\n",
      "[('Post', (1635, 1639)), ('##erio', (1639, 1643)), ('##r', (1643, 1644)), ('a', (1645, 1646)), ('este', (1647, 1651)), ('procedimiento', (1652, 1665)), (',', (1665, 1666)), ('la', (1667, 1669)), ('lesión', (1670, 1676)), ('se', (1677, 1679)), ('sobre', (1680, 1685)), ('##inf', (1685, 1688)), ('##ec', (1688, 1690)), ('##tó', (1690, 1692)), ('y', (1693, 1694)), ('el', (1695, 1697)), ('paciente', (1698, 1706)), ('debió', (1707, 1712)), ('ser', (1713, 1716)), ('hospital', (1717, 1725)), ('##izado', (1725, 1730)), ('por', (1731, 1734)), ('la', (1735, 1737)), ('sever', (1738, 1743)), ('##idad', (1743, 1747)), ('del', (1748, 1751)), ('cuadro', (1752, 1758)), ('clínico', (1759, 1766)), ('[UNK]', (1766, 1767)), ('se', (1768, 1770)), ('aprovech', (1771, 1779)), ('##ó', (1779, 1780)), ('esta', (1781, 1785)), ('condición', (1786, 1795)), ('para', (1796, 1800)), ('realizar', (1801, 1809)), ('una', (1810, 1813)), ('segunda', (1814, 1821)), ('bio', (1822, 1825)), ('##psia', (1825, 1829)), ('bajo', (1830, 1834)), ('anestes', (1835, 1842)), ('##ia', (1842, 1844)), ('general', (1845, 1852)), ('8', (1853, 1854)), ('días', (1855, 1859)), ('más', (1860, 1863)), ('tarde', (1864, 1869)), (',', (1869, 1870)), ('en', (1871, 1873)), ('la', (1874, 1876)), ('cual', (1877, 1881)), ('se', (1882, 1884)), ('encontró', (1885, 1893)), ('una', (1894, 1897)), ('cápsula', (1898, 1905)), ('constituida', (1906, 1917)), ('por', (1918, 1921)), ('tejido', (1922, 1928)), ('conec', (1929, 1934)), ('##tivo', (1934, 1938)), ('con', (1939, 1942)), ('intenso', (1943, 1950)), ('infil', (1951, 1956)), ('##trado', (1956, 1961)), ('inflam', (1962, 1968)), ('##atori', (1968, 1973)), ('##o', (1973, 1974)), ('y', (1975, 1976)), ('un', (1977, 1979)), ('tejido', (1980, 1986)), ('epi', (1987, 1990)), ('##teli', (1990, 1994)), ('##al', (1994, 1996)), ('con', (1997, 2000)), ('varias', (2001, 2007)), ('capas', (2008, 2013)), ('de', (2014, 2016)), ('células', (2017, 2024)), ('la', (2025, 2027)), ('cual', (2028, 2032)), ('dio', (2033, 2036)), ('como', (2037, 2041)), ('diagnóstico', (2042, 2053)), (':', (2053, 2054)), ('qui', (2055, 2058)), ('##ste', (2058, 2061)), ('radic', (2062, 2067)), ('##ular', (2067, 2071)), ('inflam', (2072, 2078)), ('##atori', (2078, 2083)), ('##o', (2083, 2084)), ('.', (2084, 2085))]\n",
      "\n",
      "\n",
      "[('Ante', (2086, 2090)), ('la', (2091, 2093)), ('ambi', (2094, 2098)), ('##g', (2098, 2099)), ('[UNK]', (2099, 2100)), ('##edad', (2100, 2104)), ('del', (2105, 2108)), ('diagnóstico', (2109, 2120)), ('y', (2121, 2122)), ('la', (2123, 2125)), ('agres', (2126, 2131)), ('##ividad', (2131, 2137)), ('de', (2138, 2140)), ('la', (2141, 2143)), ('lesión', (2144, 2150)), ('se', (2151, 2153)), ('decidió', (2154, 2161)), ('realizar', (2162, 2170)), ('la', (2171, 2173)), ('intervención', (2174, 2186)), ('con', (2187, 2190)), ('el', (2191, 2193)), ('primer', (2194, 2200)), ('diagnóstico', (2201, 2212)), ('(', (2213, 2214)), ('tumor', (2214, 2219)), ('o', (2220, 2221)), ('##don', (2221, 2224)), ('##to', (2224, 2226)), ('##gén', (2226, 2229)), ('##ico', (2229, 2232)), ('quer', (2233, 2237)), ('##ato', (2237, 2240)), ('##quí', (2240, 2243)), ('##stico', (2243, 2248)), ('-', (2249, 2250)), ('ex', (2250, 2252)), ('##quera', (2252, 2257)), ('##to', (2257, 2259)), ('##quis', (2259, 2263)), ('##te', (2263, 2265)), ('-', (2265, 2266)), (')', (2266, 2267)), ('.', (2267, 2268))]\n",
      "\n",
      "\n",
      "[('Con', (2269, 2272)), ('este', (2273, 2277)), ('diagnóstico', (2278, 2289)), ('se', (2290, 2292)), ('decidió', (2293, 2300)), ('planear', (2301, 2308)), ('un', (2309, 2311)), ('tratamiento', (2312, 2323)), ('quirúr', (2324, 2330)), ('##gico', (2330, 2334)), ('agresivo', (2335, 2343)), ('y', (2344, 2345)), ('se', (2346, 2348)), ('op', (2349, 2351)), ('##tó', (2351, 2353)), ('por', (2354, 2357)), ('ordenar', (2358, 2365)), ('la', (2366, 2368)), ('realización', (2369, 2380)), ('de', (2381, 2383)), ('las', (2384, 2387)), ('endo', (2388, 2392)), ('##don', (2392, 2395)), ('##cias', (2395, 2399)), ('de', (2400, 2402)), ('46', (2403, 2405)), ('a', (2406, 2407)), ('33', (2408, 2410)), ('(', (2411, 2412)), ('9', (2412, 2413)), ('dientes', (2414, 2421)), (')', (2421, 2422)), ('previamente', (2423, 2434)), ('al', (2435, 2437)), ('procedimiento', (2438, 2451)), ('quirúr', (2452, 2458)), ('##gico', (2458, 2462)), (',', (2462, 2463)), ('ya', (2464, 2466)), ('que', (2467, 2470)), ('los', (2471, 2474)), ('á', (2475, 2476)), ('##pic', (2476, 2479)), ('##es', (2479, 2481)), ('dental', (2482, 2488)), ('##es', (2488, 2490)), ('estaban', (2491, 2498)), ('inmer', (2499, 2504)), ('##sos', (2504, 2507)), ('en', (2508, 2510)), ('la', (2511, 2513)), ('ca', (2514, 2516)), ('##vidad', (2516, 2521)), ('y', (2522, 2523)), ('el', (2524, 2526)), ('cur', (2527, 2530)), ('##eta', (2530, 2533)), ('##je', (2533, 2535)), ('mismo', (2536, 2541)), ('haría', (2542, 2547)), ('amp', (2548, 2551)), ('##uta', (2551, 2554)), ('##ción', (2554, 2558)), ('de', (2559, 2561)), ('paquetes', (2562, 2570)), ('vas', (2571, 2574)), ('##culares', (2574, 2581)), ('pul', (2582, 2585)), ('##par', (2585, 2588)), ('##es', (2588, 2590)), (',', (2590, 2591)), ('además', (2592, 2598)), ('según', (2599, 2604)), ('el', (2605, 2607)), ('diagnóstico', (2608, 2619)), ('es', (2620, 2622)), ('una', (2623, 2626)), ('lesión', (2627, 2633)), ('muy', (2634, 2637)), ('reci', (2638, 2642)), ('##di', (2642, 2644)), ('##van', (2644, 2647)), ('##te', (2647, 2649)), ('.', (2649, 2650))]\n",
      "\n",
      "\n",
      "[('Este', (2651, 2655)), ('tratamiento', (2656, 2667)), ('endo', (2668, 2672)), ('##dón', (2672, 2675)), ('##tico', (2675, 2679)), ('duró', (2680, 2684)), ('3', (2685, 2686)), ('meses', (2687, 2692)), ('debido', (2693, 2699)), ('a', (2700, 2701)), ('la', (2702, 2704)), ('dificultad', (2705, 2715)), ('de', (2716, 2718)), ('sell', (2719, 2723)), ('##ar', (2723, 2725)), ('los', (2726, 2729)), ('conducto', (2730, 2738)), ('##s', (2738, 2739)), ('por', (2740, 2743)), ('la', (2744, 2746)), ('presencia', (2747, 2756)), ('de', (2757, 2759)), ('un', (2760, 2762)), ('drenaje', (2763, 2770)), ('a', (2771, 2772)), ('través', (2773, 2779)), ('de', (2780, 2782)), ('las', (2783, 2786)), ('cámaras', (2787, 2794)), ('pul', (2795, 2798)), ('##par', (2798, 2801)), ('##es', (2801, 2803)), ('de', (2804, 2806)), ('un', (2807, 2809)), ('líquido', (2810, 2817)), ('color', (2818, 2823)), ('á', (2824, 2825)), ('##mb', (2825, 2827)), ('##ar', (2827, 2829)), (',', (2829, 2830)), ('al', (2831, 2833)), ('cabo', (2834, 2838)), ('de', (2839, 2841)), ('dicho', (2842, 2847)), ('tiempo', (2848, 2854)), ('ces', (2855, 2858)), ('##ó', (2858, 2859)), ('la', (2860, 2862)), ('producción', (2863, 2873)), ('de', (2874, 2876)), ('contenido', (2877, 2886)), ('líquido', (2887, 2894)), ('y', (2895, 2896)), ('se', (2897, 2899)), ('concluye', (2900, 2908)), ('##ron', (2908, 2911)), ('las', (2912, 2915)), ('endo', (2916, 2920)), ('##don', (2920, 2923)), ('##cias', (2923, 2927)), ('.', (2927, 2928))]\n",
      "\n",
      "\n",
      "[('Se', (2930, 2932)), ('procedió', (2933, 2941)), ('a', (2942, 2943)), ('realizar', (2944, 2952)), ('la', (2953, 2955)), ('fase', (2956, 2960)), ('quirúr', (2961, 2967)), ('##gica', (2967, 2971)), ('bajo', (2972, 2976)), ('anestes', (2977, 2984)), ('##ia', (2984, 2986)), ('general', (2987, 2994)), ('.', (2994, 2995))]\n",
      "\n",
      "\n",
      "[('Se', (2996, 2998)), ('levanta', (2999, 3006)), ('un', (3007, 3009)), ('col', (3010, 3013)), ('##ga', (3013, 3015)), ('##jo', (3015, 3017)), ('tra', (3018, 3021)), ('##pez', (3021, 3024)), ('##o', (3024, 3025)), ('##idal', (3025, 3029)), ('de', (3030, 3032)), ('dist', (3033, 3037)), ('##al', (3037, 3039)), ('del', (3040, 3043)), ('46', (3044, 3046)), ('a', (3047, 3048)), ('dist', (3049, 3053)), ('##al', (3053, 3055)), ('del', (3056, 3059)), ('33', (3060, 3062)), ('.', (3062, 3063))]\n",
      "\n",
      "\n",
      "[('Al', (3064, 3066)), ('reflejar', (3067, 3075)), ('el', (3076, 3078)), ('col', (3079, 3082)), ('##ga', (3082, 3084)), ('##jo', (3084, 3086)), ('se', (3087, 3089)), ('encuentra', (3090, 3099)), ('tabla', (3100, 3105)), ('expan', (3106, 3111)), ('##dida', (3111, 3115)), ('en', (3116, 3118)), ('toda', (3119, 3123)), ('su', (3124, 3126)), ('extensión', (3127, 3136)), ('y', (3137, 3138)), ('perfor', (3139, 3145)), ('##ada', (3145, 3148)), ('en', (3149, 3151)), ('zona', (3152, 3156)), ('de', (3157, 3159)), ('bi', (3160, 3162)), ('##cú', (3162, 3164)), ('##s', (3164, 3165)), ('##pide', (3165, 3169)), ('##s', (3169, 3170)), ('(', (3171, 3172)), ('dientes', (3172, 3179)), ('44', (3180, 3182)), ('y', (3183, 3184)), ('45', (3185, 3187)), (')', (3187, 3188)), ('lugar', (3189, 3194)), ('donde', (3195, 3200)), ('se', (3201, 3203)), ('habían', (3204, 3210)), ('realizado', (3211, 3220)), ('las', (3221, 3224)), ('bio', (3225, 3228)), ('##psia', (3228, 3232)), ('##s', (3232, 3233)), ('previamente', (3234, 3245)), ('.', (3245, 3246))]\n",
      "\n",
      "\n",
      "[('Se', (3247, 3249)), ('procedió', (3250, 3258)), ('a', (3259, 3260)), ('retirar', (3261, 3268)), ('toda', (3269, 3273)), ('la', (3274, 3276)), ('cor', (3277, 3280)), ('##tica', (3280, 3284)), ('##l', (3284, 3285)), ('vesti', (3286, 3291)), ('##bula', (3291, 3295)), ('##r', (3295, 3296)), ('expan', (3297, 3302)), ('##dida', (3302, 3306)), ('hasta', (3307, 3312)), ('tener', (3313, 3318)), ('acceso', (3319, 3325)), ('completo', (3326, 3334)), ('a', (3335, 3336)), ('la', (3337, 3339)), ('ca', (3340, 3342)), ('##vidad', (3342, 3347)), ('quí', (3348, 3351)), ('##stica', (3351, 3356)), ('.', (3356, 3357))]\n",
      "\n",
      "\n",
      "[('Se', (3358, 3360)), ('encuentra', (3361, 3370)), ('y', (3371, 3372)), ('rem', (3373, 3376)), ('##ueve', (3376, 3380)), ('cápsula', (3381, 3388)), ('fi', (3389, 3391)), ('##bros', (3391, 3395)), ('##a', (3395, 3396)), ('grues', (3397, 3402)), ('##a', (3402, 3403)), ('que', (3404, 3407)), ('recu', (3408, 3412)), ('##bre', (3412, 3415)), ('el', (3416, 3418)), ('defecto', (3419, 3426)), ('ó', (3427, 3428)), ('##seo', (3428, 3431)), ('.', (3431, 3432))]\n",
      "\n",
      "\n",
      "[('Se', (3433, 3435)), ('hace', (3436, 3440)), ('fres', (3441, 3445)), ('##ado', (3445, 3448)), ('con', (3449, 3452)), ('instrumental', (3453, 3465)), ('corta', (3466, 3471)), ('##n', (3471, 3472)), ('##te', (3472, 3474)), ('rota', (3475, 3479)), ('##rio', (3479, 3482)), ('de', (3483, 3485)), ('la', (3486, 3488)), ('ca', (3489, 3491)), ('##vidad', (3491, 3496)), ('ósea', (3497, 3501)), ('y', (3502, 3503)), ('se', (3504, 3506)), ('pin', (3507, 3510)), ('##cel', (3510, 3513)), ('##a', (3513, 3514)), ('todo', (3515, 3519)), ('el', (3520, 3522)), ('defecto', (3523, 3530)), ('ó', (3531, 3532)), ('##seo', (3532, 3535)), ('con', (3536, 3539)), ('solución', (3540, 3548)), ('de', (3549, 3551)), ('Car', (3552, 3555)), ('##no', (3555, 3557)), ('##y', (3557, 3558)), ('.', (3558, 3559))]\n",
      "\n",
      "\n",
      "[('Se', (3560, 3562)), ('aprecia', (3563, 3570)), ('##n', (3570, 3571)), ('algunas', (3572, 3579)), ('perfor', (3580, 3586)), ('##aciones', (3586, 3593)), ('de', (3594, 3596)), ('la', (3597, 3599)), ('cor', (3600, 3603)), ('##tica', (3603, 3607)), ('##l', (3607, 3608)), ('ling', (3609, 3613)), ('##ual', (3613, 3616)), (',', (3616, 3617)), ('las', (3618, 3621)), ('cuales', (3622, 3628)), ('se', (3629, 3631)), ('caute', (3632, 3637)), ('##riz', (3637, 3640)), ('##an', (3640, 3642)), ('con', (3643, 3646)), ('electro', (3647, 3654)), ('bis', (3655, 3658)), ('##tur', (3658, 3661)), ('##í', (3661, 3662)), ('por', (3663, 3666)), ('el', (3667, 3669)), ('riesgo', (3670, 3676)), ('de', (3677, 3679)), ('invasión', (3680, 3688)), ('de', (3689, 3691)), ('la', (3692, 3694)), ('lesión', (3695, 3701)), ('tumor', (3702, 3707)), ('##al', (3707, 3709)), ('hacia', (3710, 3715)), ('tejidos', (3716, 3723)), ('blando', (3724, 3730)), ('##s', (3730, 3731)), ('ling', (3732, 3736)), ('##uales', (3736, 3741)), ('.', (3741, 3742))]\n",
      "\n",
      "\n",
      "[('Debido', (3743, 3749)), ('al', (3750, 3752)), ('debili', (3753, 3759)), ('##tamiento', (3759, 3767)), ('del', (3768, 3771)), ('borde', (3772, 3777)), ('bas', (3778, 3781)), ('##ilar', (3781, 3785)), ('mand', (3786, 3790)), ('##ib', (3790, 3792)), ('##ular', (3792, 3796)), (',', (3796, 3797)), ('se', (3798, 3800)), ('coloca', (3801, 3807)), ('una', (3808, 3811)), ('placa', (3812, 3817)), ('de', (3818, 3820)), ('reconstrucción', (3821, 3835)), ('para', (3836, 3840)), ('evitar', (3841, 3847)), ('una', (3848, 3851)), ('fractura', (3852, 3860)), ('intra', (3861, 3866)), ('o', (3867, 3868)), ('pos', (3869, 3872)), ('##op', (3872, 3874)), ('##erato', (3874, 3879)), ('##ria', (3879, 3882)), ('.', (3882, 3883))]\n",
      "\n",
      "\n",
      "[('Antes', (3884, 3889)), ('de', (3890, 3892)), ('su', (3893, 3895)), ('##turar', (3895, 3900)), ('el', (3901, 3903)), ('col', (3904, 3907)), ('##ga', (3907, 3909)), ('##jo', (3909, 3911)), ('se', (3912, 3914)), ('rellen', (3915, 3921)), ('##a', (3921, 3922)), ('defecto', (3923, 3930)), ('ó', (3931, 3932)), ('##seo', (3932, 3935)), ('con', (3936, 3939)), ('col', (3940, 3943)), ('##ág', (3943, 3945)), ('##eno', (3945, 3948)), ('fi', (3949, 3951)), ('##bri', (3951, 3954)), ('##lar', (3954, 3957)), ('y', (3958, 3959)), ('se', (3960, 3962)), ('medi', (3963, 3967)), ('##ca', (3967, 3969)), ('con', (3970, 3973)), ('anal', (3974, 3978)), ('##gé', (3978, 3980)), ('##si', (3980, 3982)), ('##cos', (3982, 3985)), ('y', (3986, 3987)), ('antibióticos', (3988, 4000)), ('.', (4000, 4001))]\n",
      "\n",
      "\n",
      "[('El', (4002, 4004)), ('tejido', (4005, 4011)), ('obtenido', (4012, 4020)), ('se', (4021, 4023)), ('envía', (4024, 4029)), ('a', (4030, 4031)), ('pato', (4032, 4036)), ('##logía', (4036, 4041)), ('.', (4041, 4042))]\n",
      "\n",
      "\n",
      "[('El', (4043, 4045)), ('reporte', (4046, 4053)), ('hist', (4054, 4058)), ('##op', (4058, 4060)), ('##ato', (4060, 4063)), ('##lógico', (4063, 4069)), ('del', (4070, 4073)), ('espé', (4074, 4078)), ('##ci', (4078, 4080)), ('##men', (4080, 4083)), ('quirúr', (4084, 4090)), ('##gico', (4090, 4094)), ('muestra', (4095, 4102)), ('un', (4103, 4105)), ('tejido', (4106, 4112)), ('fi', (4113, 4115)), ('##bro', (4115, 4118)), ('##con', (4118, 4121)), ('##ec', (4121, 4123)), ('##tivo', (4123, 4127)), ('car', (4128, 4131)), ('##ente', (4131, 4135)), ('de', (4136, 4138)), ('epi', (4139, 4142)), ('##teli', (4142, 4146)), ('##o', (4146, 4147)), ('y', (4148, 4149)), ('se', (4150, 4152)), ('obtuvo', (4153, 4159)), ('un', (4160, 4162)), ('diagnóstico', (4163, 4174)), ('pos', (4175, 4178)), ('##qui', (4178, 4181)), ('##rúr', (4181, 4184)), ('##gico', (4184, 4188)), ('de', (4189, 4191)), ('qui', (4192, 4195)), ('##ste', (4195, 4198)), ('ó', (4199, 4200)), ('##seo', (4200, 4203)), ('an', (4204, 4206)), ('##e', (4206, 4207)), ('##uris', (4207, 4211)), ('##mático', (4211, 4217)), ('.', (4217, 4218))]\n",
      "\n",
      "\n",
      "[('Debido', (4219, 4225)), ('a', (4226, 4227)), ('que', (4228, 4231)), ('en', (4232, 4234)), ('la', (4235, 4237)), ('segunda', (4238, 4245)), ('bio', (4246, 4249)), ('##psia', (4249, 4253)), ('apareció', (4254, 4262)), ('un', (4263, 4265)), ('epi', (4266, 4269)), ('##teli', (4269, 4273)), ('##o', (4273, 4274)), (',', (4274, 4275)), ('se', (4276, 4278)), ('indu', (4279, 4283)), ('##jo', (4283, 4285)), ('al', (4286, 4288)), ('error', (4289, 4294)), ('en', (4295, 4297)), ('el', (4298, 4300)), ('diagnóstico', (4301, 4312)), ('pero', (4313, 4317)), (',', (4317, 4318)), ('evalu', (4319, 4324)), ('##ando', (4324, 4328)), ('las', (4329, 4332)), ('tres', (4333, 4337)), ('muestras', (4338, 4346)), ('hist', (4347, 4351)), ('##op', (4351, 4353)), ('##ato', (4353, 4356)), ('##lógicas', (4356, 4363)), (',', (4363, 4364)), ('se', (4365, 4367)), ('consideró', (4368, 4377)), ('que', (4378, 4381)), ('dicho', (4382, 4387)), ('tejido', (4388, 4394)), ('epi', (4395, 4398)), ('##teli', (4398, 4402)), ('##al', (4402, 4404)), ('de', (4405, 4407)), ('la', (4408, 4410)), ('segunda', (4411, 4418)), ('bio', (4419, 4422)), ('##psia', (4422, 4426)), ('era', (4427, 4430)), ('producto', (4431, 4439)), ('de', (4440, 4442)), ('la', (4443, 4445)), ('reacción', (4446, 4454)), ('inflam', (4455, 4461)), ('##atori', (4461, 4466)), ('##a', (4466, 4467)), (',', (4467, 4468)), ('mientras', (4469, 4477)), ('que', (4478, 4481)), ('la', (4482, 4484)), ('bio', (4485, 4488)), ('##psia', (4488, 4492)), ('inicial', (4493, 4500)), ('y', (4501, 4502)), ('el', (4503, 4505)), ('espé', (4506, 4510)), ('##ci', (4510, 4512)), ('##men', (4512, 4515)), ('quirúr', (4516, 4522)), ('##gico', (4522, 4526)), ('no', (4527, 4529)), ('mostraron', (4530, 4539)), ('componente', (4540, 4550)), ('epi', (4551, 4554)), ('##teli', (4554, 4558)), ('##al', (4558, 4560)), ('[UNK]', (4560, 4561)), ('se', (4562, 4564)), ('op', (4565, 4567)), ('##tó', (4567, 4569)), ('por', (4570, 4573)), ('considerar', (4574, 4584)), ('##lo', (4584, 4586)), ('un', (4587, 4589)), ('qui', (4590, 4593)), ('##ste', (4593, 4596)), ('ó', (4597, 4598)), ('##seo', (4598, 4601)), ('an', (4602, 4604)), ('##e', (4604, 4605)), ('##uris', (4605, 4609)), ('##mático', (4609, 4615)), ('.', (4615, 4616))]\n",
      "\n",
      "\n",
      "[('El', (4617, 4619)), ('paciente', (4620, 4628)), ('se', (4629, 4631)), ('evalu', (4632, 4637)), ('##ó', (4637, 4638)), ('a', (4639, 4640)), ('los', (4641, 4644)), ('8', (4645, 4646)), ('y', (4647, 4648)), ('15', (4649, 4651)), ('días', (4652, 4656)), ('y', (4657, 4658)), ('luego', (4659, 4664)), ('a', (4665, 4666)), ('los', (4667, 4670)), ('2', (4671, 4672)), ('meses', (4673, 4678)), (',', (4678, 4679)), ('a', (4680, 4681)), ('los', (4682, 4685)), ('10', (4686, 4688)), ('meses', (4689, 4694)), ('y', (4695, 4696)), ('a', (4697, 4698)), ('los', (4699, 4702)), ('2', (4703, 4704)), ('años', (4705, 4709)), ('.', (4709, 4710))]\n",
      "\n",
      "\n",
      "[('En', (4711, 4713)), ('la', (4714, 4716)), ('cita', (4717, 4721)), ('de', (4722, 4724)), ('control', (4725, 4732)), ('a', (4733, 4734)), ('los', (4735, 4738)), ('2', (4739, 4740)), ('meses', (4741, 4746)), ('se', (4747, 4749)), ('encontró', (4750, 4758)), ('nec', (4759, 4762)), ('##ros', (4762, 4765)), ('##is', (4765, 4767)), ('pul', (4768, 4771)), ('##par', (4771, 4774)), ('y', (4775, 4776)), ('fís', (4777, 4780)), ('##tula', (4780, 4784)), ('a', (4785, 4786)), ('nivel', (4787, 4792)), ('del', (4793, 4796)), ('4', (4797, 4798)), ('[UNK]', (4798, 4799)), (',', (4799, 4800)), ('el', (4801, 4803)), ('cual', (4804, 4808)), ('estaba', (4809, 4815)), ('adyac', (4816, 4821)), ('##ente', (4821, 4825)), ('a', (4826, 4827)), ('la', (4828, 4830)), ('lesión', (4831, 4837)), ('y', (4838, 4839)), ('se', (4840, 4842)), ('había', (4843, 4848)), ('amp', (4849, 4852)), ('##uta', (4852, 4855)), ('##do', (4855, 4857)), ('el', (4858, 4860)), ('á', (4861, 4862)), ('##pic', (4862, 4865)), ('##e', (4865, 4866)), ('de', (4867, 4869)), ('la', (4870, 4872)), ('raíz', (4873, 4877)), ('mes', (4878, 4881)), ('##ial', (4881, 4884)), ('durante', (4885, 4892)), ('el', (4893, 4895)), ('procedimiento', (4896, 4909)), ('quirúr', (4910, 4916)), ('##gico', (4916, 4920)), ('.', (4920, 4921))]\n",
      "\n",
      "\n",
      "[('Se', (4922, 4924)), ('realizó', (4925, 4932)), ('la', (4933, 4935)), ('endo', (4936, 4940)), ('##don', (4940, 4943)), ('##cia', (4943, 4946)), ('y', (4947, 4948)), ('se', (4949, 4951)), ('resolvió', (4952, 4960)), ('la', (4961, 4963)), ('infección', (4964, 4973)), ('.', (4973, 4974))]\n",
      "\n",
      "\n",
      "[('Además', (4975, 4981)), ('presentó', (4982, 4990)), ('una', (4991, 4994)), ('pares', (4995, 5000)), ('##tes', (5000, 5003)), ('##ia', (5003, 5005)), ('del', (5006, 5009)), ('nervi', (5010, 5015)), ('##o', (5015, 5016)), ('ment', (5017, 5021)), ('##onia', (5021, 5025)), ('##no', (5025, 5027)), ('derecho', (5028, 5035)), ('y', (5036, 5037)), ('se', (5038, 5040)), ('prescri', (5041, 5048)), ('##be', (5048, 5050)), ('complejo', (5051, 5059)), ('B', (5060, 5061)), ('table', (5062, 5067)), ('##tas', (5067, 5070)), ('por', (5071, 5074)), ('un', (5075, 5077)), ('mes', (5078, 5081)), ('.', (5081, 5082))]\n",
      "\n",
      "\n",
      "[('Se', (5083, 5085)), ('realizó', (5086, 5093)), ('nueva', (5094, 5099)), ('valoración', (5100, 5110)), ('pos', (5111, 5114)), ('##qui', (5114, 5117)), ('##rúr', (5117, 5120)), ('##gica', (5120, 5124)), ('a', (5125, 5126)), ('los', (5127, 5130)), ('10', (5131, 5133)), ('meses', (5134, 5139)), ('y', (5140, 5141)), ('se', (5142, 5144)), ('encontró', (5145, 5153)), ('adecuado', (5154, 5162)), ('proceso', (5163, 5170)), ('de', (5171, 5173)), ('cicatriz', (5174, 5182)), ('##ación', (5182, 5187)), ('ósea', (5188, 5192)), (',', (5192, 5193)), ('pero', (5194, 5198)), ('presento', (5199, 5207)), ('una', (5208, 5211)), ('secuela', (5212, 5219)), ('de', (5220, 5222)), ('oc', (5223, 5225)), ('##lus', (5225, 5228)), ('##ión', (5228, 5231)), (',', (5231, 5232)), ('ya', (5233, 5235)), ('que', (5236, 5239)), ('los', (5240, 5243)), ('dientes', (5244, 5251)), ('que', (5252, 5255)), ('quedaron', (5256, 5264)), ('sin', (5265, 5268)), ('soporte', (5269, 5276)), ('ó', (5277, 5278)), ('##seo', (5278, 5281)), ('por', (5282, 5285)), ('estar', (5286, 5291)), ('inmer', (5292, 5297)), ('##sos', (5297, 5300)), ('en', (5301, 5303)), ('el', (5304, 5306)), ('defecto', (5307, 5314)), ('ó', (5315, 5316)), ('##seo', (5316, 5319)), (',', (5319, 5320)), ('(', (5321, 5322)), ('del', (5322, 5325)), ('diente', (5326, 5332)), ('44', (5333, 5335)), ('al', (5336, 5338)), ('33', (5339, 5341)), (')', (5341, 5342)), ('se', (5343, 5345)), ('intr', (5346, 5350)), ('##uyeron', (5350, 5356)), ('y', (5357, 5358)), ('produjeron', (5359, 5369)), ('una', (5370, 5373)), ('mor', (5374, 5377)), ('##dida', (5377, 5381)), ('abierta', (5382, 5389)), ('.', (5389, 5390))]\n",
      "\n",
      "\n",
      "[('Dos', (5391, 5394)), ('años', (5395, 5399)), ('después', (5400, 5407)), ('se', (5408, 5410)), ('realiza', (5411, 5418)), ('una', (5419, 5422)), ('nueva', (5423, 5428)), ('revisión', (5429, 5437)), ('clínica', (5438, 5445)), ('y', (5446, 5447)), ('radio', (5448, 5453)), ('##gráfica', (5453, 5460)), ('donde', (5461, 5466)), ('se', (5467, 5469)), ('encuentra', (5470, 5479)), ('que', (5480, 5483)), (':', (5483, 5484)), ('de', (5485, 5487)), ('los', (5488, 5491)), ('dientes', (5492, 5499)), ('44', (5500, 5502)), ('a', (5503, 5504)), ('33', (5505, 5507)), ('permanecen', (5508, 5518)), ('en', (5519, 5521)), ('mor', (5522, 5525)), ('##dida', (5525, 5529)), ('abierta', (5530, 5537)), (',', (5537, 5538)), ('el', (5539, 5541)), ('44', (5542, 5544)), ('además', (5545, 5551)), ('está', (5552, 5556)), ('ligeramente', (5557, 5568)), ('vesti', (5569, 5574)), ('##bula', (5574, 5578)), ('##riz', (5578, 5581)), ('##ado', (5581, 5584)), ('.', (5584, 5585))]\n",
      "\n",
      "\n",
      "[('En', (5586, 5588)), ('la', (5589, 5591)), ('radio', (5592, 5597)), ('##grafía', (5597, 5603)), ('panor', (5604, 5609)), ('##ámica', (5609, 5614)), ('se', (5615, 5617)), ('observa', (5618, 5625)), ('un', (5626, 5628)), ('buen', (5629, 5633)), ('llena', (5634, 5639)), ('##do', (5639, 5641)), ('ó', (5642, 5643)), ('##seo', (5643, 5646)), (',', (5646, 5647)), ('pero', (5648, 5652)), ('en', (5653, 5655)), ('la', (5656, 5658)), ('tomo', (5659, 5663)), ('##grafía', (5663, 5669)), ('tri', (5670, 5673)), ('##dimensional', (5673, 5684)), ('muestra', (5685, 5692)), ('que', (5693, 5696)), ('hay', (5697, 5700)), ('un', (5701, 5703)), ('defecto', (5704, 5711)), ('de', (5712, 5714)), ('unos', (5715, 5719)), ('6', (5720, 5721)), ('mm', (5722, 5724)), ('de', (5725, 5727)), ('diámetro', (5728, 5736)), ('que', (5737, 5740)), ('comprometen', (5741, 5752)), ('el', (5753, 5755)), ('á', (5756, 5757)), ('##pic', (5757, 5760)), ('##e', (5760, 5761)), ('del', (5762, 5765)), ('44', (5766, 5768)), ('y', (5769, 5770)), ('del', (5771, 5774)), ('43', (5775, 5777)), ('que', (5778, 5781)), ('falta', (5782, 5787)), ('por', (5788, 5791)), ('regener', (5792, 5799)), ('##ar', (5799, 5801)), ('el', (5802, 5804)), ('hueso', (5805, 5810)), ('y', (5811, 5812)), ('aún', (5813, 5816)), ('persist', (5817, 5824)), ('##e', (5824, 5825)), ('la', (5826, 5828)), ('pares', (5829, 5834)), ('##tes', (5834, 5837)), ('##ia', (5837, 5839)), ('dos', (5840, 5843)), ('años', (5844, 5848)), ('después', (5849, 5856)), ('.', (5856, 5857))]\n",
      "\n",
      "\n",
      "[('En', (5858, 5860)), ('imagen', (5861, 5867)), ('intra', (5868, 5873)), ('##ora', (5873, 5876)), ('##l', (5876, 5877)), ('se', (5878, 5880)), ('aprecia', (5881, 5888)), ('que', (5889, 5892)), ('el', (5893, 5895)), ('aumento', (5896, 5903)), ('producido', (5904, 5913)), ('por', (5914, 5917)), ('la', (5918, 5920)), ('expansión', (5921, 5930)), ('de', (5931, 5933)), ('la', (5934, 5936)), ('lesión', (5937, 5943)), ('de', (5944, 5946)), ('la', (5947, 5949)), ('tabla', (5950, 5955)), ('ling', (5956, 5960)), ('##ual', (5960, 5963)), ('a', (5964, 5965)), ('nivel', (5966, 5971)), ('de', (5972, 5974)), ('dientes', (5975, 5982)), ('43', (5983, 5985)), (',', (5985, 5986)), ('44', (5987, 5989)), ('y', (5990, 5991)), ('45', (5992, 5994)), ('aún', (5995, 5998)), ('persist', (5999, 6006)), ('##e', (6006, 6007)), ('.', (6007, 6008))]\n",
      "\n",
      "\n"
     ]
    }
   ],
   "source": [
    "for i in range(check_id_frag, check_id_frag + dev_frag[check_id]):\n",
    "    print(list(zip([tokenizer._token_dict_inv[ind] for ind in dev_ind[i]][1:len(dev_start_end_frag[i])+1], \n",
    "               dev_start_end_frag[i])))\n",
    "    print(\"\\n\")"
   ]
  },
  {
   "cell_type": "code",
   "execution_count": 90,
   "metadata": {},
   "outputs": [
    {
     "name": "stdout",
     "output_type": "stream",
     "text": [
      "[CLS] Paci ##ente de sexo masculino , de raza negra , 21 años de edad , que consulta al servicio de Cir ##ug ##ía Max ##ilo ##fac ##ial del Hospital Universitario San Vicente Fundación de Medellín adscrito a la Universidad de Antio ##quia , remitido por o ##don ##tó ##log ##o de una institución de salud pública por presentar aumento de volumen en mandíbula , asi ##nto ##mático y de evolución desconocida . [SEP] [PAD] [PAD] [PAD] [PAD] [PAD] [PAD] [PAD] [PAD] [PAD] [PAD] [PAD] [PAD] [PAD] [PAD] [PAD] [PAD] [PAD] [PAD] [PAD] [PAD] [PAD] [PAD] [PAD] [PAD] [PAD] [PAD] [PAD] [PAD] [PAD] [PAD] [PAD] [PAD] [PAD] [PAD] [PAD] [PAD] [PAD] [PAD] [PAD] [PAD] [PAD] [PAD] [PAD] [PAD] [PAD] [PAD] [PAD] [PAD] [PAD] [PAD] [PAD] [PAD] [PAD] [PAD] \n",
      "\n",
      "[CLS] Int ##ra ##ora ##l ##mente se observa excelente integridad dental y buena oc ##lus ##ión dental , pero hay aumento de volumen por vesti ##bula ##r que compromete el cuerpo y la sín ##fi ##sis , mientras que por ling ##ual , la expansión de la tabla es solo en zona de can ##ino y bi ##cú ##s ##pide ##s inferiores derechos . [SEP] [PAD] [PAD] [PAD] [PAD] [PAD] [PAD] [PAD] [PAD] [PAD] [PAD] [PAD] [PAD] [PAD] [PAD] [PAD] [PAD] [PAD] [PAD] [PAD] [PAD] [PAD] [PAD] [PAD] [PAD] [PAD] [PAD] [PAD] [PAD] [PAD] [PAD] [PAD] [PAD] [PAD] [PAD] [PAD] [PAD] [PAD] [PAD] [PAD] [PAD] [PAD] [PAD] [PAD] [PAD] [PAD] [PAD] [PAD] [PAD] [PAD] [PAD] [PAD] [PAD] [PAD] [PAD] [PAD] [PAD] [PAD] [PAD] [PAD] [PAD] [PAD] [PAD] [PAD] \n",
      "\n",
      "[CLS] En radio ##grafía panor ##ámica inicial , se aprecia imagen radio ##l ##úc ##ida de 10 cm de longitud , multi ##locu ##lada , localizada desde dist ##al del diente 46 hasta mes ##ial del 33 . [SEP] [PAD] [PAD] [PAD] [PAD] [PAD] [PAD] [PAD] [PAD] [PAD] [PAD] [PAD] [PAD] [PAD] [PAD] [PAD] [PAD] [PAD] [PAD] [PAD] [PAD] [PAD] [PAD] [PAD] [PAD] [PAD] [PAD] [PAD] [PAD] [PAD] [PAD] [PAD] [PAD] [PAD] [PAD] [PAD] [PAD] [PAD] [PAD] [PAD] [PAD] [PAD] [PAD] [PAD] [PAD] [PAD] [PAD] [PAD] [PAD] [PAD] [PAD] [PAD] [PAD] [PAD] [PAD] [PAD] [PAD] [PAD] [PAD] [PAD] [PAD] [PAD] [PAD] [PAD] [PAD] [PAD] [PAD] [PAD] [PAD] [PAD] [PAD] [PAD] [PAD] [PAD] [PAD] [PAD] [PAD] [PAD] [PAD] [PAD] [PAD] [PAD] [PAD] [PAD] [PAD] [PAD] [PAD] [PAD] [PAD] [PAD] \n",
      "\n",
      "[CLS] Presenta ##n ri ##zó ##lis ##is la raíz mes ##ial del 46 y la raíz del 45 , con posible nec ##ros ##is pul ##par . [SEP] [PAD] [PAD] [PAD] [PAD] [PAD] [PAD] [PAD] [PAD] [PAD] [PAD] [PAD] [PAD] [PAD] [PAD] [PAD] [PAD] [PAD] [PAD] [PAD] [PAD] [PAD] [PAD] [PAD] [PAD] [PAD] [PAD] [PAD] [PAD] [PAD] [PAD] [PAD] [PAD] [PAD] [PAD] [PAD] [PAD] [PAD] [PAD] [PAD] [PAD] [PAD] [PAD] [PAD] [PAD] [PAD] [PAD] [PAD] [PAD] [PAD] [PAD] [PAD] [PAD] [PAD] [PAD] [PAD] [PAD] [PAD] [PAD] [PAD] [PAD] [PAD] [PAD] [PAD] [PAD] [PAD] [PAD] [PAD] [PAD] [PAD] [PAD] [PAD] [PAD] [PAD] [PAD] [PAD] [PAD] [PAD] [PAD] [PAD] [PAD] [PAD] [PAD] [PAD] [PAD] [PAD] [PAD] [PAD] [PAD] [PAD] [PAD] [PAD] [PAD] [PAD] [PAD] [PAD] [PAD] [PAD] [PAD] [PAD] [PAD] \n",
      "\n",
      "[CLS] Tenían movilidad mínima los dientes 46 , 45 y 44 [UNK] los demás dientes presentaba ##n vital ##idad normal y el conducto den ##tario inferior se encuentra rechazado . [SEP] [PAD] [PAD] [PAD] [PAD] [PAD] [PAD] [PAD] [PAD] [PAD] [PAD] [PAD] [PAD] [PAD] [PAD] [PAD] [PAD] [PAD] [PAD] [PAD] [PAD] [PAD] [PAD] [PAD] [PAD] [PAD] [PAD] [PAD] [PAD] [PAD] [PAD] [PAD] [PAD] [PAD] [PAD] [PAD] [PAD] [PAD] [PAD] [PAD] [PAD] [PAD] [PAD] [PAD] [PAD] [PAD] [PAD] [PAD] [PAD] [PAD] [PAD] [PAD] [PAD] [PAD] [PAD] [PAD] [PAD] [PAD] [PAD] [PAD] [PAD] [PAD] [PAD] [PAD] [PAD] [PAD] [PAD] [PAD] [PAD] [PAD] [PAD] [PAD] [PAD] [PAD] [PAD] [PAD] [PAD] [PAD] [PAD] [PAD] [PAD] [PAD] [PAD] [PAD] [PAD] [PAD] [PAD] [PAD] [PAD] [PAD] [PAD] [PAD] [PAD] [PAD] [PAD] [PAD] [PAD] [PAD] \n",
      "\n",
      "[CLS] No hay alteración en la sensibilidad del nervi ##o ment ##onia ##no . [SEP] [PAD] [PAD] [PAD] [PAD] [PAD] [PAD] [PAD] [PAD] [PAD] [PAD] [PAD] [PAD] [PAD] [PAD] [PAD] [PAD] [PAD] [PAD] [PAD] [PAD] [PAD] [PAD] [PAD] [PAD] [PAD] [PAD] [PAD] [PAD] [PAD] [PAD] [PAD] [PAD] [PAD] [PAD] [PAD] [PAD] [PAD] [PAD] [PAD] [PAD] [PAD] [PAD] [PAD] [PAD] [PAD] [PAD] [PAD] [PAD] [PAD] [PAD] [PAD] [PAD] [PAD] [PAD] [PAD] [PAD] [PAD] [PAD] [PAD] [PAD] [PAD] [PAD] [PAD] [PAD] [PAD] [PAD] [PAD] [PAD] [PAD] [PAD] [PAD] [PAD] [PAD] [PAD] [PAD] [PAD] [PAD] [PAD] [PAD] [PAD] [PAD] [PAD] [PAD] [PAD] [PAD] [PAD] [PAD] [PAD] [PAD] [PAD] [PAD] [PAD] [PAD] [PAD] [PAD] [PAD] [PAD] [PAD] [PAD] [PAD] [PAD] [PAD] [PAD] [PAD] [PAD] [PAD] [PAD] [PAD] [PAD] [PAD] [PAD] [PAD] [PAD] \n",
      "\n",
      "[CLS] El paciente autoriza la realización de todo el tratamiento firma ##n ##do el consentimiento informado . [SEP] [PAD] [PAD] [PAD] [PAD] [PAD] [PAD] [PAD] [PAD] [PAD] [PAD] [PAD] [PAD] [PAD] [PAD] [PAD] [PAD] [PAD] [PAD] [PAD] [PAD] [PAD] [PAD] [PAD] [PAD] [PAD] [PAD] [PAD] [PAD] [PAD] [PAD] [PAD] [PAD] [PAD] [PAD] [PAD] [PAD] [PAD] [PAD] [PAD] [PAD] [PAD] [PAD] [PAD] [PAD] [PAD] [PAD] [PAD] [PAD] [PAD] [PAD] [PAD] [PAD] [PAD] [PAD] [PAD] [PAD] [PAD] [PAD] [PAD] [PAD] [PAD] [PAD] [PAD] [PAD] [PAD] [PAD] [PAD] [PAD] [PAD] [PAD] [PAD] [PAD] [PAD] [PAD] [PAD] [PAD] [PAD] [PAD] [PAD] [PAD] [PAD] [PAD] [PAD] [PAD] [PAD] [PAD] [PAD] [PAD] [PAD] [PAD] [PAD] [PAD] [PAD] [PAD] [PAD] [PAD] [PAD] [PAD] [PAD] [PAD] [PAD] [PAD] [PAD] [PAD] [PAD] [PAD] [PAD] [PAD] [PAD] [PAD] \n",
      "\n",
      "[CLS] Pre ##vio a la bio ##psia inicial se hizo aspira ##do produciendo un líquido cit ##rino y el primer estudio hist ##op ##ato ##lógico encontró un tejido conec ##tivo la ##xo , algunas células gigantes multin ##ucle ##adas con pocos núcleos y una banda delgada de quer ##ati ##na [UNK] no había evidencia de tejido epi ##teli ##al pero fue considerado como muestra insuficiente . [SEP] [PAD] [PAD] [PAD] [PAD] [PAD] [PAD] [PAD] [PAD] [PAD] [PAD] [PAD] [PAD] [PAD] [PAD] [PAD] [PAD] [PAD] [PAD] [PAD] [PAD] [PAD] [PAD] [PAD] [PAD] [PAD] [PAD] [PAD] [PAD] [PAD] [PAD] [PAD] [PAD] [PAD] [PAD] [PAD] [PAD] [PAD] [PAD] [PAD] [PAD] [PAD] [PAD] [PAD] [PAD] [PAD] [PAD] [PAD] [PAD] [PAD] [PAD] [PAD] [PAD] [PAD] [PAD] [PAD] [PAD] [PAD] [PAD] [PAD] [PAD] [PAD] \n",
      "\n",
      "[CLS] No obstante , se dio un diagnóstico de tumor o ##don ##to ##gén ##ico quer ##ato ##quí ##stico , por la presencia de una banda de quer ##ati ##na . [SEP] [PAD] [PAD] [PAD] [PAD] [PAD] [PAD] [PAD] [PAD] [PAD] [PAD] [PAD] [PAD] [PAD] [PAD] [PAD] [PAD] [PAD] [PAD] [PAD] [PAD] [PAD] [PAD] [PAD] [PAD] [PAD] [PAD] [PAD] [PAD] [PAD] [PAD] [PAD] [PAD] [PAD] [PAD] [PAD] [PAD] [PAD] [PAD] [PAD] [PAD] [PAD] [PAD] [PAD] [PAD] [PAD] [PAD] [PAD] [PAD] [PAD] [PAD] [PAD] [PAD] [PAD] [PAD] [PAD] [PAD] [PAD] [PAD] [PAD] [PAD] [PAD] [PAD] [PAD] [PAD] [PAD] [PAD] [PAD] [PAD] [PAD] [PAD] [PAD] [PAD] [PAD] [PAD] [PAD] [PAD] [PAD] [PAD] [PAD] [PAD] [PAD] [PAD] [PAD] [PAD] [PAD] [PAD] [PAD] [PAD] [PAD] [PAD] [PAD] [PAD] [PAD] [PAD] [PAD] [PAD] \n",
      "\n",
      "[CLS] Post ##erio ##r a este procedimiento , la lesión se sobre ##inf ##ec ##tó y el paciente debió ser hospital ##izado por la sever ##idad del cuadro clínico [UNK] se aprovech ##ó esta condición para realizar una segunda bio ##psia bajo anestes ##ia general 8 días más tarde , en la cual se encontró una cápsula constituida por tejido conec ##tivo con intenso infil ##trado inflam ##atori ##o y un tejido epi ##teli ##al con varias capas de células la cual dio como diagnóstico : qui ##ste radic ##ular inflam ##atori ##o . [SEP] [PAD] [PAD] [PAD] [PAD] [PAD] [PAD] [PAD] [PAD] [PAD] [PAD] [PAD] [PAD] [PAD] [PAD] [PAD] [PAD] [PAD] [PAD] [PAD] [PAD] [PAD] [PAD] [PAD] [PAD] [PAD] [PAD] [PAD] [PAD] [PAD] [PAD] [PAD] [PAD] [PAD] \n",
      "\n",
      "[CLS] Ante la ambi ##g [UNK] ##edad del diagnóstico y la agres ##ividad de la lesión se decidió realizar la intervención con el primer diagnóstico ( tumor o ##don ##to ##gén ##ico quer ##ato ##quí ##stico - ex ##quera ##to ##quis ##te - ) . [SEP] [PAD] [PAD] [PAD] [PAD] [PAD] [PAD] [PAD] [PAD] [PAD] [PAD] [PAD] [PAD] [PAD] [PAD] [PAD] [PAD] [PAD] [PAD] [PAD] [PAD] [PAD] [PAD] [PAD] [PAD] [PAD] [PAD] [PAD] [PAD] [PAD] [PAD] [PAD] [PAD] [PAD] [PAD] [PAD] [PAD] [PAD] [PAD] [PAD] [PAD] [PAD] [PAD] [PAD] [PAD] [PAD] [PAD] [PAD] [PAD] [PAD] [PAD] [PAD] [PAD] [PAD] [PAD] [PAD] [PAD] [PAD] [PAD] [PAD] [PAD] [PAD] [PAD] [PAD] [PAD] [PAD] [PAD] [PAD] [PAD] [PAD] [PAD] [PAD] [PAD] [PAD] [PAD] [PAD] [PAD] [PAD] [PAD] [PAD] [PAD] [PAD] [PAD] \n",
      "\n",
      "[CLS] Con este diagnóstico se decidió planear un tratamiento quirúr ##gico agresivo y se op ##tó por ordenar la realización de las endo ##don ##cias de 46 a 33 ( 9 dientes ) previamente al procedimiento quirúr ##gico , ya que los á ##pic ##es dental ##es estaban inmer ##sos en la ca ##vidad y el cur ##eta ##je mismo haría amp ##uta ##ción de paquetes vas ##culares pul ##par ##es , además según el diagnóstico es una lesión muy reci ##di ##van ##te . [SEP] [PAD] [PAD] [PAD] [PAD] [PAD] [PAD] [PAD] [PAD] [PAD] [PAD] [PAD] [PAD] [PAD] [PAD] [PAD] [PAD] [PAD] [PAD] [PAD] [PAD] [PAD] [PAD] [PAD] [PAD] [PAD] [PAD] [PAD] [PAD] [PAD] [PAD] [PAD] [PAD] [PAD] [PAD] [PAD] [PAD] [PAD] [PAD] [PAD] [PAD] [PAD] [PAD] \n",
      "\n",
      "[CLS] Este tratamiento endo ##dón ##tico duró 3 meses debido a la dificultad de sell ##ar los conducto ##s por la presencia de un drenaje a través de las cámaras pul ##par ##es de un líquido color á ##mb ##ar , al cabo de dicho tiempo ces ##ó la producción de contenido líquido y se concluye ##ron las endo ##don ##cias . [SEP] [PAD] [PAD] [PAD] [PAD] [PAD] [PAD] [PAD] [PAD] [PAD] [PAD] [PAD] [PAD] [PAD] [PAD] [PAD] [PAD] [PAD] [PAD] [PAD] [PAD] [PAD] [PAD] [PAD] [PAD] [PAD] [PAD] [PAD] [PAD] [PAD] [PAD] [PAD] [PAD] [PAD] [PAD] [PAD] [PAD] [PAD] [PAD] [PAD] [PAD] [PAD] [PAD] [PAD] [PAD] [PAD] [PAD] [PAD] [PAD] [PAD] [PAD] [PAD] [PAD] [PAD] [PAD] [PAD] [PAD] [PAD] [PAD] [PAD] [PAD] [PAD] [PAD] [PAD] [PAD] [PAD] \n",
      "\n",
      "[CLS] Se procedió a realizar la fase quirúr ##gica bajo anestes ##ia general . [SEP] [PAD] [PAD] [PAD] [PAD] [PAD] [PAD] [PAD] [PAD] [PAD] [PAD] [PAD] [PAD] [PAD] [PAD] [PAD] [PAD] [PAD] [PAD] [PAD] [PAD] [PAD] [PAD] [PAD] [PAD] [PAD] [PAD] [PAD] [PAD] [PAD] [PAD] [PAD] [PAD] [PAD] [PAD] [PAD] [PAD] [PAD] [PAD] [PAD] [PAD] [PAD] [PAD] [PAD] [PAD] [PAD] [PAD] [PAD] [PAD] [PAD] [PAD] [PAD] [PAD] [PAD] [PAD] [PAD] [PAD] [PAD] [PAD] [PAD] [PAD] [PAD] [PAD] [PAD] [PAD] [PAD] [PAD] [PAD] [PAD] [PAD] [PAD] [PAD] [PAD] [PAD] [PAD] [PAD] [PAD] [PAD] [PAD] [PAD] [PAD] [PAD] [PAD] [PAD] [PAD] [PAD] [PAD] [PAD] [PAD] [PAD] [PAD] [PAD] [PAD] [PAD] [PAD] [PAD] [PAD] [PAD] [PAD] [PAD] [PAD] [PAD] [PAD] [PAD] [PAD] [PAD] [PAD] [PAD] [PAD] [PAD] [PAD] [PAD] [PAD] [PAD] \n",
      "\n",
      "[CLS] Se levanta un col ##ga ##jo tra ##pez ##o ##idal de dist ##al del 46 a dist ##al del 33 . [SEP] [PAD] [PAD] [PAD] [PAD] [PAD] [PAD] [PAD] [PAD] [PAD] [PAD] [PAD] [PAD] [PAD] [PAD] [PAD] [PAD] [PAD] [PAD] [PAD] [PAD] [PAD] [PAD] [PAD] [PAD] [PAD] [PAD] [PAD] [PAD] [PAD] [PAD] [PAD] [PAD] [PAD] [PAD] [PAD] [PAD] [PAD] [PAD] [PAD] [PAD] [PAD] [PAD] [PAD] [PAD] [PAD] [PAD] [PAD] [PAD] [PAD] [PAD] [PAD] [PAD] [PAD] [PAD] [PAD] [PAD] [PAD] [PAD] [PAD] [PAD] [PAD] [PAD] [PAD] [PAD] [PAD] [PAD] [PAD] [PAD] [PAD] [PAD] [PAD] [PAD] [PAD] [PAD] [PAD] [PAD] [PAD] [PAD] [PAD] [PAD] [PAD] [PAD] [PAD] [PAD] [PAD] [PAD] [PAD] [PAD] [PAD] [PAD] [PAD] [PAD] [PAD] [PAD] [PAD] [PAD] [PAD] [PAD] [PAD] [PAD] [PAD] [PAD] [PAD] [PAD] [PAD] \n",
      "\n",
      "[CLS] Al reflejar el col ##ga ##jo se encuentra tabla expan ##dida en toda su extensión y perfor ##ada en zona de bi ##cú ##s ##pide ##s ( dientes 44 y 45 ) lugar donde se habían realizado las bio ##psia ##s previamente . [SEP] [PAD] [PAD] [PAD] [PAD] [PAD] [PAD] [PAD] [PAD] [PAD] [PAD] [PAD] [PAD] [PAD] [PAD] [PAD] [PAD] [PAD] [PAD] [PAD] [PAD] [PAD] [PAD] [PAD] [PAD] [PAD] [PAD] [PAD] [PAD] [PAD] [PAD] [PAD] [PAD] [PAD] [PAD] [PAD] [PAD] [PAD] [PAD] [PAD] [PAD] [PAD] [PAD] [PAD] [PAD] [PAD] [PAD] [PAD] [PAD] [PAD] [PAD] [PAD] [PAD] [PAD] [PAD] [PAD] [PAD] [PAD] [PAD] [PAD] [PAD] [PAD] [PAD] [PAD] [PAD] [PAD] [PAD] [PAD] [PAD] [PAD] [PAD] [PAD] [PAD] [PAD] [PAD] [PAD] [PAD] [PAD] [PAD] [PAD] [PAD] [PAD] [PAD] [PAD] \n",
      "\n",
      "[CLS] Se procedió a retirar toda la cor ##tica ##l vesti ##bula ##r expan ##dida hasta tener acceso completo a la ca ##vidad quí ##stica . [SEP] [PAD] [PAD] [PAD] [PAD] [PAD] [PAD] [PAD] [PAD] [PAD] [PAD] [PAD] [PAD] [PAD] [PAD] [PAD] [PAD] [PAD] [PAD] [PAD] [PAD] [PAD] [PAD] [PAD] [PAD] [PAD] [PAD] [PAD] [PAD] [PAD] [PAD] [PAD] [PAD] [PAD] [PAD] [PAD] [PAD] [PAD] [PAD] [PAD] [PAD] [PAD] [PAD] [PAD] [PAD] [PAD] [PAD] [PAD] [PAD] [PAD] [PAD] [PAD] [PAD] [PAD] [PAD] [PAD] [PAD] [PAD] [PAD] [PAD] [PAD] [PAD] [PAD] [PAD] [PAD] [PAD] [PAD] [PAD] [PAD] [PAD] [PAD] [PAD] [PAD] [PAD] [PAD] [PAD] [PAD] [PAD] [PAD] [PAD] [PAD] [PAD] [PAD] [PAD] [PAD] [PAD] [PAD] [PAD] [PAD] [PAD] [PAD] [PAD] [PAD] [PAD] [PAD] [PAD] [PAD] [PAD] [PAD] [PAD] [PAD] [PAD] \n",
      "\n",
      "[CLS] Se encuentra y rem ##ueve cápsula fi ##bros ##a grues ##a que recu ##bre el defecto ó ##seo . [SEP] [PAD] [PAD] [PAD] [PAD] [PAD] [PAD] [PAD] [PAD] [PAD] [PAD] [PAD] [PAD] [PAD] [PAD] [PAD] [PAD] [PAD] [PAD] [PAD] [PAD] [PAD] [PAD] [PAD] [PAD] [PAD] [PAD] [PAD] [PAD] [PAD] [PAD] [PAD] [PAD] [PAD] [PAD] [PAD] [PAD] [PAD] [PAD] [PAD] [PAD] [PAD] [PAD] [PAD] [PAD] [PAD] [PAD] [PAD] [PAD] [PAD] [PAD] [PAD] [PAD] [PAD] [PAD] [PAD] [PAD] [PAD] [PAD] [PAD] [PAD] [PAD] [PAD] [PAD] [PAD] [PAD] [PAD] [PAD] [PAD] [PAD] [PAD] [PAD] [PAD] [PAD] [PAD] [PAD] [PAD] [PAD] [PAD] [PAD] [PAD] [PAD] [PAD] [PAD] [PAD] [PAD] [PAD] [PAD] [PAD] [PAD] [PAD] [PAD] [PAD] [PAD] [PAD] [PAD] [PAD] [PAD] [PAD] [PAD] [PAD] [PAD] [PAD] [PAD] [PAD] [PAD] [PAD] [PAD] \n",
      "\n",
      "[CLS] Se hace fres ##ado con instrumental corta ##n ##te rota ##rio de la ca ##vidad ósea y se pin ##cel ##a todo el defecto ó ##seo con solución de Car ##no ##y . [SEP] [PAD] [PAD] [PAD] [PAD] [PAD] [PAD] [PAD] [PAD] [PAD] [PAD] [PAD] [PAD] [PAD] [PAD] [PAD] [PAD] [PAD] [PAD] [PAD] [PAD] [PAD] [PAD] [PAD] [PAD] [PAD] [PAD] [PAD] [PAD] [PAD] [PAD] [PAD] [PAD] [PAD] [PAD] [PAD] [PAD] [PAD] [PAD] [PAD] [PAD] [PAD] [PAD] [PAD] [PAD] [PAD] [PAD] [PAD] [PAD] [PAD] [PAD] [PAD] [PAD] [PAD] [PAD] [PAD] [PAD] [PAD] [PAD] [PAD] [PAD] [PAD] [PAD] [PAD] [PAD] [PAD] [PAD] [PAD] [PAD] [PAD] [PAD] [PAD] [PAD] [PAD] [PAD] [PAD] [PAD] [PAD] [PAD] [PAD] [PAD] [PAD] [PAD] [PAD] [PAD] [PAD] [PAD] [PAD] [PAD] [PAD] [PAD] [PAD] [PAD] [PAD] \n",
      "\n",
      "[CLS] Se aprecia ##n algunas perfor ##aciones de la cor ##tica ##l ling ##ual , las cuales se caute ##riz ##an con electro bis ##tur ##í por el riesgo de invasión de la lesión tumor ##al hacia tejidos blando ##s ling ##uales . [SEP] [PAD] [PAD] [PAD] [PAD] [PAD] [PAD] [PAD] [PAD] [PAD] [PAD] [PAD] [PAD] [PAD] [PAD] [PAD] [PAD] [PAD] [PAD] [PAD] [PAD] [PAD] [PAD] [PAD] [PAD] [PAD] [PAD] [PAD] [PAD] [PAD] [PAD] [PAD] [PAD] [PAD] [PAD] [PAD] [PAD] [PAD] [PAD] [PAD] [PAD] [PAD] [PAD] [PAD] [PAD] [PAD] [PAD] [PAD] [PAD] [PAD] [PAD] [PAD] [PAD] [PAD] [PAD] [PAD] [PAD] [PAD] [PAD] [PAD] [PAD] [PAD] [PAD] [PAD] [PAD] [PAD] [PAD] [PAD] [PAD] [PAD] [PAD] [PAD] [PAD] [PAD] [PAD] [PAD] [PAD] [PAD] [PAD] [PAD] [PAD] [PAD] [PAD] [PAD] [PAD] \n",
      "\n",
      "[CLS] Debido al debili ##tamiento del borde bas ##ilar mand ##ib ##ular , se coloca una placa de reconstrucción para evitar una fractura intra o pos ##op ##erato ##ria . [SEP] [PAD] [PAD] [PAD] [PAD] [PAD] [PAD] [PAD] [PAD] [PAD] [PAD] [PAD] [PAD] [PAD] [PAD] [PAD] [PAD] [PAD] [PAD] [PAD] [PAD] [PAD] [PAD] [PAD] [PAD] [PAD] [PAD] [PAD] [PAD] [PAD] [PAD] [PAD] [PAD] [PAD] [PAD] [PAD] [PAD] [PAD] [PAD] [PAD] [PAD] [PAD] [PAD] [PAD] [PAD] [PAD] [PAD] [PAD] [PAD] [PAD] [PAD] [PAD] [PAD] [PAD] [PAD] [PAD] [PAD] [PAD] [PAD] [PAD] [PAD] [PAD] [PAD] [PAD] [PAD] [PAD] [PAD] [PAD] [PAD] [PAD] [PAD] [PAD] [PAD] [PAD] [PAD] [PAD] [PAD] [PAD] [PAD] [PAD] [PAD] [PAD] [PAD] [PAD] [PAD] [PAD] [PAD] [PAD] [PAD] [PAD] [PAD] [PAD] [PAD] [PAD] [PAD] [PAD] [PAD] [PAD] \n",
      "\n",
      "[CLS] Antes de su ##turar el col ##ga ##jo se rellen ##a defecto ó ##seo con col ##ág ##eno fi ##bri ##lar y se medi ##ca con anal ##gé ##si ##cos y antibióticos . [SEP] [PAD] [PAD] [PAD] [PAD] [PAD] [PAD] [PAD] [PAD] [PAD] [PAD] [PAD] [PAD] [PAD] [PAD] [PAD] [PAD] [PAD] [PAD] [PAD] [PAD] [PAD] [PAD] [PAD] [PAD] [PAD] [PAD] [PAD] [PAD] [PAD] [PAD] [PAD] [PAD] [PAD] [PAD] [PAD] [PAD] [PAD] [PAD] [PAD] [PAD] [PAD] [PAD] [PAD] [PAD] [PAD] [PAD] [PAD] [PAD] [PAD] [PAD] [PAD] [PAD] [PAD] [PAD] [PAD] [PAD] [PAD] [PAD] [PAD] [PAD] [PAD] [PAD] [PAD] [PAD] [PAD] [PAD] [PAD] [PAD] [PAD] [PAD] [PAD] [PAD] [PAD] [PAD] [PAD] [PAD] [PAD] [PAD] [PAD] [PAD] [PAD] [PAD] [PAD] [PAD] [PAD] [PAD] [PAD] [PAD] [PAD] [PAD] [PAD] [PAD] [PAD] \n",
      "\n",
      "[CLS] El tejido obtenido se envía a pato ##logía . [SEP] [PAD] [PAD] [PAD] [PAD] [PAD] [PAD] [PAD] [PAD] [PAD] [PAD] [PAD] [PAD] [PAD] [PAD] [PAD] [PAD] [PAD] [PAD] [PAD] [PAD] [PAD] [PAD] [PAD] [PAD] [PAD] [PAD] [PAD] [PAD] [PAD] [PAD] [PAD] [PAD] [PAD] [PAD] [PAD] [PAD] [PAD] [PAD] [PAD] [PAD] [PAD] [PAD] [PAD] [PAD] [PAD] [PAD] [PAD] [PAD] [PAD] [PAD] [PAD] [PAD] [PAD] [PAD] [PAD] [PAD] [PAD] [PAD] [PAD] [PAD] [PAD] [PAD] [PAD] [PAD] [PAD] [PAD] [PAD] [PAD] [PAD] [PAD] [PAD] [PAD] [PAD] [PAD] [PAD] [PAD] [PAD] [PAD] [PAD] [PAD] [PAD] [PAD] [PAD] [PAD] [PAD] [PAD] [PAD] [PAD] [PAD] [PAD] [PAD] [PAD] [PAD] [PAD] [PAD] [PAD] [PAD] [PAD] [PAD] [PAD] [PAD] [PAD] [PAD] [PAD] [PAD] [PAD] [PAD] [PAD] [PAD] [PAD] [PAD] [PAD] [PAD] [PAD] [PAD] [PAD] [PAD] \n",
      "\n",
      "[CLS] El reporte hist ##op ##ato ##lógico del espé ##ci ##men quirúr ##gico muestra un tejido fi ##bro ##con ##ec ##tivo car ##ente de epi ##teli ##o y se obtuvo un diagnóstico pos ##qui ##rúr ##gico de qui ##ste ó ##seo an ##e ##uris ##mático . [SEP] [PAD] [PAD] [PAD] [PAD] [PAD] [PAD] [PAD] [PAD] [PAD] [PAD] [PAD] [PAD] [PAD] [PAD] [PAD] [PAD] [PAD] [PAD] [PAD] [PAD] [PAD] [PAD] [PAD] [PAD] [PAD] [PAD] [PAD] [PAD] [PAD] [PAD] [PAD] [PAD] [PAD] [PAD] [PAD] [PAD] [PAD] [PAD] [PAD] [PAD] [PAD] [PAD] [PAD] [PAD] [PAD] [PAD] [PAD] [PAD] [PAD] [PAD] [PAD] [PAD] [PAD] [PAD] [PAD] [PAD] [PAD] [PAD] [PAD] [PAD] [PAD] [PAD] [PAD] [PAD] [PAD] [PAD] [PAD] [PAD] [PAD] [PAD] [PAD] [PAD] [PAD] [PAD] [PAD] [PAD] [PAD] [PAD] [PAD] [PAD] [PAD] \n",
      "\n",
      "[CLS] Debido a que en la segunda bio ##psia apareció un epi ##teli ##o , se indu ##jo al error en el diagnóstico pero , evalu ##ando las tres muestras hist ##op ##ato ##lógicas , se consideró que dicho tejido epi ##teli ##al de la segunda bio ##psia era producto de la reacción inflam ##atori ##a , mientras que la bio ##psia inicial y el espé ##ci ##men quirúr ##gico no mostraron componente epi ##teli ##al [UNK] se op ##tó por considerar ##lo un qui ##ste ó ##seo an ##e ##uris ##mático . [SEP] [PAD] [PAD] [PAD] [PAD] [PAD] [PAD] [PAD] [PAD] [PAD] [PAD] [PAD] [PAD] [PAD] [PAD] [PAD] [PAD] [PAD] [PAD] [PAD] [PAD] [PAD] [PAD] [PAD] [PAD] [PAD] [PAD] [PAD] [PAD] [PAD] [PAD] [PAD] [PAD] [PAD] [PAD] \n",
      "\n",
      "[CLS] El paciente se evalu ##ó a los 8 y 15 días y luego a los 2 meses , a los 10 meses y a los 2 años . [SEP] [PAD] [PAD] [PAD] [PAD] [PAD] [PAD] [PAD] [PAD] [PAD] [PAD] [PAD] [PAD] [PAD] [PAD] [PAD] [PAD] [PAD] [PAD] [PAD] [PAD] [PAD] [PAD] [PAD] [PAD] [PAD] [PAD] [PAD] [PAD] [PAD] [PAD] [PAD] [PAD] [PAD] [PAD] [PAD] [PAD] [PAD] [PAD] [PAD] [PAD] [PAD] [PAD] [PAD] [PAD] [PAD] [PAD] [PAD] [PAD] [PAD] [PAD] [PAD] [PAD] [PAD] [PAD] [PAD] [PAD] [PAD] [PAD] [PAD] [PAD] [PAD] [PAD] [PAD] [PAD] [PAD] [PAD] [PAD] [PAD] [PAD] [PAD] [PAD] [PAD] [PAD] [PAD] [PAD] [PAD] [PAD] [PAD] [PAD] [PAD] [PAD] [PAD] [PAD] [PAD] [PAD] [PAD] [PAD] [PAD] [PAD] [PAD] [PAD] [PAD] [PAD] [PAD] [PAD] [PAD] [PAD] [PAD] \n",
      "\n",
      "[CLS] En la cita de control a los 2 meses se encontró nec ##ros ##is pul ##par y fís ##tula a nivel del 4 [UNK] , el cual estaba adyac ##ente a la lesión y se había amp ##uta ##do el á ##pic ##e de la raíz mes ##ial durante el procedimiento quirúr ##gico . [SEP] [PAD] [PAD] [PAD] [PAD] [PAD] [PAD] [PAD] [PAD] [PAD] [PAD] [PAD] [PAD] [PAD] [PAD] [PAD] [PAD] [PAD] [PAD] [PAD] [PAD] [PAD] [PAD] [PAD] [PAD] [PAD] [PAD] [PAD] [PAD] [PAD] [PAD] [PAD] [PAD] [PAD] [PAD] [PAD] [PAD] [PAD] [PAD] [PAD] [PAD] [PAD] [PAD] [PAD] [PAD] [PAD] [PAD] [PAD] [PAD] [PAD] [PAD] [PAD] [PAD] [PAD] [PAD] [PAD] [PAD] [PAD] [PAD] [PAD] [PAD] [PAD] [PAD] [PAD] [PAD] [PAD] [PAD] [PAD] [PAD] [PAD] [PAD] [PAD] [PAD] \n",
      "\n",
      "[CLS] Se realizó la endo ##don ##cia y se resolvió la infección . [SEP] [PAD] [PAD] [PAD] [PAD] [PAD] [PAD] [PAD] [PAD] [PAD] [PAD] [PAD] [PAD] [PAD] [PAD] [PAD] [PAD] [PAD] [PAD] [PAD] [PAD] [PAD] [PAD] [PAD] [PAD] [PAD] [PAD] [PAD] [PAD] [PAD] [PAD] [PAD] [PAD] [PAD] [PAD] [PAD] [PAD] [PAD] [PAD] [PAD] [PAD] [PAD] [PAD] [PAD] [PAD] [PAD] [PAD] [PAD] [PAD] [PAD] [PAD] [PAD] [PAD] [PAD] [PAD] [PAD] [PAD] [PAD] [PAD] [PAD] [PAD] [PAD] [PAD] [PAD] [PAD] [PAD] [PAD] [PAD] [PAD] [PAD] [PAD] [PAD] [PAD] [PAD] [PAD] [PAD] [PAD] [PAD] [PAD] [PAD] [PAD] [PAD] [PAD] [PAD] [PAD] [PAD] [PAD] [PAD] [PAD] [PAD] [PAD] [PAD] [PAD] [PAD] [PAD] [PAD] [PAD] [PAD] [PAD] [PAD] [PAD] [PAD] [PAD] [PAD] [PAD] [PAD] [PAD] [PAD] [PAD] [PAD] [PAD] [PAD] [PAD] [PAD] [PAD] \n",
      "\n",
      "[CLS] Además presentó una pares ##tes ##ia del nervi ##o ment ##onia ##no derecho y se prescri ##be complejo B table ##tas por un mes . [SEP] [PAD] [PAD] [PAD] [PAD] [PAD] [PAD] [PAD] [PAD] [PAD] [PAD] [PAD] [PAD] [PAD] [PAD] [PAD] [PAD] [PAD] [PAD] [PAD] [PAD] [PAD] [PAD] [PAD] [PAD] [PAD] [PAD] [PAD] [PAD] [PAD] [PAD] [PAD] [PAD] [PAD] [PAD] [PAD] [PAD] [PAD] [PAD] [PAD] [PAD] [PAD] [PAD] [PAD] [PAD] [PAD] [PAD] [PAD] [PAD] [PAD] [PAD] [PAD] [PAD] [PAD] [PAD] [PAD] [PAD] [PAD] [PAD] [PAD] [PAD] [PAD] [PAD] [PAD] [PAD] [PAD] [PAD] [PAD] [PAD] [PAD] [PAD] [PAD] [PAD] [PAD] [PAD] [PAD] [PAD] [PAD] [PAD] [PAD] [PAD] [PAD] [PAD] [PAD] [PAD] [PAD] [PAD] [PAD] [PAD] [PAD] [PAD] [PAD] [PAD] [PAD] [PAD] [PAD] [PAD] [PAD] [PAD] [PAD] [PAD] [PAD] \n",
      "\n",
      "[CLS] Se realizó nueva valoración pos ##qui ##rúr ##gica a los 10 meses y se encontró adecuado proceso de cicatriz ##ación ósea , pero presento una secuela de oc ##lus ##ión , ya que los dientes que quedaron sin soporte ó ##seo por estar inmer ##sos en el defecto ó ##seo , ( del diente 44 al 33 ) se intr ##uyeron y produjeron una mor ##dida abierta . [SEP] [PAD] [PAD] [PAD] [PAD] [PAD] [PAD] [PAD] [PAD] [PAD] [PAD] [PAD] [PAD] [PAD] [PAD] [PAD] [PAD] [PAD] [PAD] [PAD] [PAD] [PAD] [PAD] [PAD] [PAD] [PAD] [PAD] [PAD] [PAD] [PAD] [PAD] [PAD] [PAD] [PAD] [PAD] [PAD] [PAD] [PAD] [PAD] [PAD] [PAD] [PAD] [PAD] [PAD] [PAD] [PAD] [PAD] [PAD] [PAD] [PAD] [PAD] [PAD] [PAD] [PAD] [PAD] [PAD] [PAD] [PAD] [PAD] \n",
      "\n",
      "[CLS] Dos años después se realiza una nueva revisión clínica y radio ##gráfica donde se encuentra que : de los dientes 44 a 33 permanecen en mor ##dida abierta , el 44 además está ligeramente vesti ##bula ##riz ##ado . [SEP] [PAD] [PAD] [PAD] [PAD] [PAD] [PAD] [PAD] [PAD] [PAD] [PAD] [PAD] [PAD] [PAD] [PAD] [PAD] [PAD] [PAD] [PAD] [PAD] [PAD] [PAD] [PAD] [PAD] [PAD] [PAD] [PAD] [PAD] [PAD] [PAD] [PAD] [PAD] [PAD] [PAD] [PAD] [PAD] [PAD] [PAD] [PAD] [PAD] [PAD] [PAD] [PAD] [PAD] [PAD] [PAD] [PAD] [PAD] [PAD] [PAD] [PAD] [PAD] [PAD] [PAD] [PAD] [PAD] [PAD] [PAD] [PAD] [PAD] [PAD] [PAD] [PAD] [PAD] [PAD] [PAD] [PAD] [PAD] [PAD] [PAD] [PAD] [PAD] [PAD] [PAD] [PAD] [PAD] [PAD] [PAD] [PAD] [PAD] [PAD] [PAD] [PAD] [PAD] [PAD] [PAD] [PAD] [PAD] \n",
      "\n",
      "[CLS] En la radio ##grafía panor ##ámica se observa un buen llena ##do ó ##seo , pero en la tomo ##grafía tri ##dimensional muestra que hay un defecto de unos 6 mm de diámetro que comprometen el á ##pic ##e del 44 y del 43 que falta por regener ##ar el hueso y aún persist ##e la pares ##tes ##ia dos años después . [SEP] [PAD] [PAD] [PAD] [PAD] [PAD] [PAD] [PAD] [PAD] [PAD] [PAD] [PAD] [PAD] [PAD] [PAD] [PAD] [PAD] [PAD] [PAD] [PAD] [PAD] [PAD] [PAD] [PAD] [PAD] [PAD] [PAD] [PAD] [PAD] [PAD] [PAD] [PAD] [PAD] [PAD] [PAD] [PAD] [PAD] [PAD] [PAD] [PAD] [PAD] [PAD] [PAD] [PAD] [PAD] [PAD] [PAD] [PAD] [PAD] [PAD] [PAD] [PAD] [PAD] [PAD] [PAD] [PAD] [PAD] [PAD] [PAD] [PAD] [PAD] [PAD] [PAD] [PAD] \n",
      "\n",
      "[CLS] En imagen intra ##ora ##l se aprecia que el aumento producido por la expansión de la lesión de la tabla ling ##ual a nivel de dientes 43 , 44 y 45 aún persist ##e . [SEP] [PAD] [PAD] [PAD] [PAD] [PAD] [PAD] [PAD] [PAD] [PAD] [PAD] [PAD] [PAD] [PAD] [PAD] [PAD] [PAD] [PAD] [PAD] [PAD] [PAD] [PAD] [PAD] [PAD] [PAD] [PAD] [PAD] [PAD] [PAD] [PAD] [PAD] [PAD] [PAD] [PAD] [PAD] [PAD] [PAD] [PAD] [PAD] [PAD] [PAD] [PAD] [PAD] [PAD] [PAD] [PAD] [PAD] [PAD] [PAD] [PAD] [PAD] [PAD] [PAD] [PAD] [PAD] [PAD] [PAD] [PAD] [PAD] [PAD] [PAD] [PAD] [PAD] [PAD] [PAD] [PAD] [PAD] [PAD] [PAD] [PAD] [PAD] [PAD] [PAD] [PAD] [PAD] [PAD] [PAD] [PAD] [PAD] [PAD] [PAD] [PAD] [PAD] [PAD] [PAD] [PAD] [PAD] [PAD] [PAD] [PAD] [PAD] [PAD] \n",
      "\n"
     ]
    }
   ],
   "source": [
    "check_id_frag = sum(dev_frag[:check_id])\n",
    "for frag in dev_ind[check_id_frag:check_id_frag + dev_frag[check_id]]:\n",
    "    print(' '.join([tokenizer._token_dict_inv[ind] for ind in frag]), \"\\n\")"
   ]
  },
  {
   "cell_type": "code",
   "execution_count": 91,
   "metadata": {},
   "outputs": [
    {
     "data": {
      "text/plain": [
       "count    3797.000000\n",
       "mean        0.309455\n",
       "std         0.637639\n",
       "min         0.000000\n",
       "25%         0.000000\n",
       "50%         0.000000\n",
       "75%         0.000000\n",
       "max         5.000000\n",
       "dtype: float64"
      ]
     },
     "execution_count": 91,
     "metadata": {},
     "output_type": "execute_result"
    }
   ],
   "source": [
    "# Fragment labels distribution\n",
    "pd.Series(np.sum(dev_y, axis=1)).describe()"
   ]
  },
  {
   "cell_type": "markdown",
   "metadata": {},
   "source": [
    "### Training & Development corpus\n",
    "\n",
    "We merge the previously generated datasets:"
   ]
  },
  {
   "cell_type": "code",
   "execution_count": 92,
   "metadata": {},
   "outputs": [],
   "source": [
    "# Indices\n",
    "train_dev_ind = np.concatenate((train_ind, dev_ind))"
   ]
  },
  {
   "cell_type": "code",
   "execution_count": 93,
   "metadata": {},
   "outputs": [
    {
     "data": {
      "text/plain": [
       "(10801, 128)"
      ]
     },
     "execution_count": 93,
     "metadata": {},
     "output_type": "execute_result"
    }
   ],
   "source": [
    "train_dev_ind.shape"
   ]
  },
  {
   "cell_type": "code",
   "execution_count": 94,
   "metadata": {},
   "outputs": [],
   "source": [
    "# Segments\n",
    "train_dev_seg = np.concatenate((train_seg, dev_seg))"
   ]
  },
  {
   "cell_type": "code",
   "execution_count": 95,
   "metadata": {},
   "outputs": [
    {
     "data": {
      "text/plain": [
       "(10801, 128)"
      ]
     },
     "execution_count": 95,
     "metadata": {},
     "output_type": "execute_result"
    }
   ],
   "source": [
    "train_dev_seg.shape"
   ]
  },
  {
   "cell_type": "code",
   "execution_count": 96,
   "metadata": {},
   "outputs": [],
   "source": [
    "# y\n",
    "train_dev_y = np.concatenate((train_y, dev_y))"
   ]
  },
  {
   "cell_type": "code",
   "execution_count": 97,
   "metadata": {},
   "outputs": [
    {
     "data": {
      "text/plain": [
       "(10801, 727)"
      ]
     },
     "execution_count": 97,
     "metadata": {},
     "output_type": "execute_result"
    }
   ],
   "source": [
    "train_dev_y.shape"
   ]
  },
  {
   "cell_type": "markdown",
   "metadata": {},
   "source": [
    "## Fine-tuning\n",
    "\n",
    "Using the corpus of labeled sentences, we fine-tune the model on a multi-label sentence classification task."
   ]
  },
  {
   "cell_type": "code",
   "execution_count": 98,
   "metadata": {},
   "outputs": [],
   "source": [
    "from keras.backend.tensorflow_backend import set_session\n",
    "\n",
    "# Prevent GPU memory allocation problems\n",
    "config = tf.ConfigProto()\n",
    "config.gpu_options.allow_growth = True\n",
    "set_session(tf.Session(config=config))"
   ]
  },
  {
   "cell_type": "code",
   "execution_count": 99,
   "metadata": {},
   "outputs": [],
   "source": [
    "from keras_bert import load_trained_model_from_checkpoint\n",
    "\n",
    "model = load_trained_model_from_checkpoint(\n",
    "    config_file=config_path, \n",
    "    checkpoint_file=checkpoint_path, \n",
    "    training=training,                                       \n",
    "    trainable=trainable, \n",
    "    seq_len=SEQ_LEN\n",
    ")"
   ]
  },
  {
   "cell_type": "code",
   "execution_count": 100,
   "metadata": {},
   "outputs": [
    {
     "data": {
      "text/plain": [
       "[<tf.Tensor 'Input-Token:0' shape=(?, 128) dtype=float32>,\n",
       " <tf.Tensor 'Input-Segment:0' shape=(?, 128) dtype=float32>]"
      ]
     },
     "execution_count": 100,
     "metadata": {},
     "output_type": "execute_result"
    }
   ],
   "source": [
    "model.inputs"
   ]
  },
  {
   "cell_type": "code",
   "execution_count": 101,
   "metadata": {},
   "outputs": [
    {
     "data": {
      "text/plain": [
       "[<tf.Tensor 'Encoder-12-FeedForward-Norm/add_1:0' shape=(?, 128, 768) dtype=float32>]"
      ]
     },
     "execution_count": 101,
     "metadata": {},
     "output_type": "execute_result"
    }
   ],
   "source": [
    "model.outputs"
   ]
  },
  {
   "cell_type": "code",
   "execution_count": 102,
   "metadata": {},
   "outputs": [],
   "source": [
    "from keras.layers import Dense, Activation\n",
    "from keras.models import Model\n",
    "from keras.initializers import glorot_uniform\n",
    "from keras_bert.layers import Extract\n",
    "\n",
    "dense_cls = Extract(index=0, name='Extract')(model.output) # In order to extract CLS token embedding\n",
    "dense_out = Dense(units=num_labels, kernel_initializer=glorot_uniform(seed=random_seed))(dense_cls) # Multi-label classification\n",
    "outputs = Activation('sigmoid')(dense_out)\n",
    "\n",
    "model = Model(model.inputs, outputs)"
   ]
  },
  {
   "cell_type": "code",
   "execution_count": 103,
   "metadata": {},
   "outputs": [
    {
     "data": {
      "text/plain": [
       "[<tf.Tensor 'Input-Token:0' shape=(?, 128) dtype=float32>,\n",
       " <tf.Tensor 'Input-Segment:0' shape=(?, 128) dtype=float32>]"
      ]
     },
     "execution_count": 103,
     "metadata": {},
     "output_type": "execute_result"
    }
   ],
   "source": [
    "model.inputs"
   ]
  },
  {
   "cell_type": "code",
   "execution_count": 104,
   "metadata": {},
   "outputs": [
    {
     "data": {
      "text/plain": [
       "[<tf.Tensor 'activation_1/Sigmoid:0' shape=(?, 727) dtype=float32>]"
      ]
     },
     "execution_count": 104,
     "metadata": {},
     "output_type": "execute_result"
    }
   ],
   "source": [
    "model.outputs"
   ]
  },
  {
   "cell_type": "code",
   "execution_count": null,
   "metadata": {},
   "outputs": [
    {
     "name": "stdout",
     "output_type": "stream",
     "text": [
      "Epoch 1/29\n",
      "10801/10801 [==============================] - 144s 13ms/step - loss: 0.2292\n",
      "Epoch 2/29\n",
      "10801/10801 [==============================] - 140s 13ms/step - loss: 0.0243\n",
      "Epoch 3/29\n",
      "10801/10801 [==============================] - 141s 13ms/step - loss: 0.0084\n",
      "Epoch 4/29\n",
      "10801/10801 [==============================] - 141s 13ms/step - loss: 0.0052\n",
      "Epoch 5/29\n",
      " 9520/10801 [=========================>....] - ETA: 16s - loss: 0.0041"
     ]
    }
   ],
   "source": [
    "%%time\n",
    "from keras_radam import RAdam\n",
    "\n",
    "model.compile(\n",
    "    optimizer=RAdam(learning_rate=LR),\n",
    "    loss='binary_crossentropy'\n",
    ")\n",
    "\n",
    "history = model.fit(\n",
    "    x=[train_dev_ind, train_dev_seg],\n",
    "    y=train_dev_y,\n",
    "    epochs=EPOCHS,\n",
    "    batch_size=BATCH_SIZE,\n",
    "    shuffle=True\n",
    ")"
   ]
  },
  {
   "cell_type": "markdown",
   "metadata": {},
   "source": [
    "## Test set predictions\n",
    "\n",
    "Finally, the predictions made by the model on the test set are saved. For this purpose, firstly, each sentence from the test corpus must be converted into a sequence of subwords (input IDs and attention mask arrays). Then, the predictions made by the model at the sentence-level are saved, to be further evaluated at document-level (see `results/CodiEsp-P/Evaluation.ipynb`)."
   ]
  },
  {
   "cell_type": "code",
   "execution_count": 105,
   "metadata": {},
   "outputs": [
    {
     "name": "stdout",
     "output_type": "stream",
     "text": [
      "CPU times: user 2.14 ms, sys: 3.97 ms, total: 6.11 ms\n",
      "Wall time: 5.36 ms\n"
     ]
    }
   ],
   "source": [
    "%%time\n",
    "test_path = corpus_path + \"test/text_files/\"\n",
    "test_files = [f for f in os.listdir(test_path) if os.path.isfile(test_path + f)]\n",
    "test_data = load_text_files(test_files, test_path)\n",
    "df_text_test = pd.DataFrame({'doc_id': [s.split('.txt')[0] for s in test_files], 'raw_text': test_data})"
   ]
  },
  {
   "cell_type": "code",
   "execution_count": 106,
   "metadata": {},
   "outputs": [
    {
     "data": {
      "text/plain": [
       "(250, 2)"
      ]
     },
     "execution_count": 106,
     "metadata": {},
     "output_type": "execute_result"
    }
   ],
   "source": [
    "df_text_test.shape"
   ]
  },
  {
   "cell_type": "code",
   "execution_count": 107,
   "metadata": {},
   "outputs": [
    {
     "data": {
      "text/html": [
       "<div>\n",
       "<style scoped>\n",
       "    .dataframe tbody tr th:only-of-type {\n",
       "        vertical-align: middle;\n",
       "    }\n",
       "\n",
       "    .dataframe tbody tr th {\n",
       "        vertical-align: top;\n",
       "    }\n",
       "\n",
       "    .dataframe thead th {\n",
       "        text-align: right;\n",
       "    }\n",
       "</style>\n",
       "<table border=\"1\" class=\"dataframe\">\n",
       "  <thead>\n",
       "    <tr style=\"text-align: right;\">\n",
       "      <th></th>\n",
       "      <th>doc_id</th>\n",
       "      <th>raw_text</th>\n",
       "    </tr>\n",
       "  </thead>\n",
       "  <tbody>\n",
       "    <tr>\n",
       "      <th>0</th>\n",
       "      <td>S1698-44472004000400012-1</td>\n",
       "      <td>Varón de 54 años de edad, remitido a nuestro s...</td>\n",
       "    </tr>\n",
       "    <tr>\n",
       "      <th>1</th>\n",
       "      <td>S1130-05582012000300005-1</td>\n",
       "      <td>Acude a nuestras consultas a un paciente que p...</td>\n",
       "    </tr>\n",
       "    <tr>\n",
       "      <th>2</th>\n",
       "      <td>S0212-16112009000300015-1</td>\n",
       "      <td>Se trató de un varón de 77 años con antecedent...</td>\n",
       "    </tr>\n",
       "    <tr>\n",
       "      <th>3</th>\n",
       "      <td>S1139-76322014000500014-1</td>\n",
       "      <td>Niño de cinco años derivado por su pediatra de...</td>\n",
       "    </tr>\n",
       "    <tr>\n",
       "      <th>4</th>\n",
       "      <td>S0212-71992004000300009-1</td>\n",
       "      <td>Varón de 22 años de edad que acude a consultas...</td>\n",
       "    </tr>\n",
       "  </tbody>\n",
       "</table>\n",
       "</div>"
      ],
      "text/plain": [
       "                      doc_id  \\\n",
       "0  S1698-44472004000400012-1   \n",
       "1  S1130-05582012000300005-1   \n",
       "2  S0212-16112009000300015-1   \n",
       "3  S1139-76322014000500014-1   \n",
       "4  S0212-71992004000300009-1   \n",
       "\n",
       "                                            raw_text  \n",
       "0  Varón de 54 años de edad, remitido a nuestro s...  \n",
       "1  Acude a nuestras consultas a un paciente que p...  \n",
       "2  Se trató de un varón de 77 años con antecedent...  \n",
       "3  Niño de cinco años derivado por su pediatra de...  \n",
       "4  Varón de 22 años de edad que acude a consultas...  "
      ]
     },
     "execution_count": 107,
     "metadata": {},
     "output_type": "execute_result"
    }
   ],
   "source": [
    "df_text_test.head()"
   ]
  },
  {
   "cell_type": "code",
   "execution_count": 108,
   "metadata": {},
   "outputs": [
    {
     "data": {
      "text/plain": [
       "'Varón de 54 años de edad, remitido a nuestro servicio en mayo del 2003 por presentar odontalgia en relación con un tercer molar inferior derecho erupcionado. A la inspección oral se pudo observar la existencia de una tumefacción que expandía las corticales vestibulo-linguales, en la región del tercer molar mandibular derecho, cariado por distal. La mucosa oral estaba indemne, y no se palpaban adenomegalias cervicales. El paciente refería la existencia de una hipoestesia en el territorio de distribución del nervio mentoniano de quince días de evolución. En la ortopantomografía, se evidenció la presencia de una imagen radiolúcida, de contornos poco definidos, en el cuerpo mandibular derecho. Dos días después, bajo anestesia local, se procedió a la exodoncia del tercer molar y curetaje-biopsia del tejido subyacente. Durante el acto operatorio, se produjo una intensa hemorragia, que pudo ser cohibida con el empleo de Surgicel (Johnson & Johnson, Nuevo Brunswick, NJ) y mediante el empaquetado en el lecho alveolar de cera de hueso.\\n\\nEl hemograma y el estudio de coagulación postoperato-rios no mostraron alteraciones significativas. El diagnóstico histopatológico del material remitido fue de: metástasis mandibular por hepatocarcinoma bien diferenciado. Las células neoplásicas no se teñían con las citoqueratinas 19 y 20, ni con la alfa-fetoproteina, pero si mostraron una intensa tinción granular citoplasmática con el marcador hepatocito N.\\n\\nEntre los antecedentes personales del paciente, destacaban una historia de diabetes tipo II de 8 años de evolución, controlada con hipoglucemiantes orales. Se trataba de un bebedor de 130 g. etanol/día desde los 30 años, y fumador de 2 paquetes de cigarrillos/día desde los 20 años. Un año antes de nuestra valoración, el enfermo había sido diagnosticado de cirrosis hepática (estadio A de Child Pugh: 5/15), y de hepatocarcinoma multicéntrico con afectación de los segmentos II, III, y IV, siendo intervenido mediante resección hepática parcial, al mes de su diagnostico. Previamente se había realizado un estudio completo que incluyó gammagrafía ósea con tecnecio 99-MDP y tomografía computarizada de cráneo, pulmón, abdomen y pelvis, sin objetivar la presencia de metástasis. Los valores séricos de alfa-fetoproteina eran, en los controles postoperatorios, normales (3,6 ng/ml).\\nA los 15 días de nuestra intervención se objetivó una marcada elevación de los niveles de alfa-fetoproteina (221 ng/ml), evidenciándose mediante gammagrafía ósea y resonancia magnética la existencia de múltiples metástasis que afectaban al occipital izquierdo, cuerpo esternal, pelvis, y múltiples vértebras. El paciente fue sometido a radioterapia paliativa sobre las lesiones vertebrales (10 Gy a la semana de Co 60) sin mejoría, siendo éxitus a los seis meses de nuestra biopsia.\\n\\n'"
      ]
     },
     "execution_count": 108,
     "metadata": {},
     "output_type": "execute_result"
    }
   ],
   "source": [
    "df_text_test.raw_text[0]"
   ]
  },
  {
   "cell_type": "code",
   "execution_count": 109,
   "metadata": {},
   "outputs": [],
   "source": [
    "test_doc_list = sorted(set(df_text_test[\"doc_id\"]))"
   ]
  },
  {
   "cell_type": "code",
   "execution_count": 110,
   "metadata": {},
   "outputs": [
    {
     "data": {
      "text/plain": [
       "250"
      ]
     },
     "execution_count": 110,
     "metadata": {},
     "output_type": "execute_result"
    }
   ],
   "source": [
    "len(test_doc_list)"
   ]
  },
  {
   "cell_type": "code",
   "execution_count": 111,
   "metadata": {},
   "outputs": [
    {
     "name": "stdout",
     "output_type": "stream",
     "text": [
      "CPU times: user 9.1 ms, sys: 49 µs, total: 9.15 ms\n",
      "Wall time: 8.44 ms\n"
     ]
    }
   ],
   "source": [
    "%%time\n",
    "ss_sub_corpus_path = ss_corpus_path + \"test/\"\n",
    "ss_files = [f for f in os.listdir(ss_sub_corpus_path) if os.path.isfile(ss_sub_corpus_path + f)]\n",
    "ss_dict_test = load_ss_files(ss_files, ss_sub_corpus_path)"
   ]
  },
  {
   "cell_type": "code",
   "execution_count": 112,
   "metadata": {},
   "outputs": [
    {
     "name": "stderr",
     "output_type": "stream",
     "text": [
      "100%|██████████| 250/250 [00:01<00:00, 181.95it/s]"
     ]
    },
    {
     "name": "stdout",
     "output_type": "stream",
     "text": [
      "CPU times: user 1.44 s, sys: 16.6 ms, total: 1.46 s\n",
      "Wall time: 1.42 s\n"
     ]
    },
    {
     "name": "stderr",
     "output_type": "stream",
     "text": [
      "\n"
     ]
    }
   ],
   "source": [
    "%%time\n",
    "test_ind, test_seg, _, test_frag, _ = ss_create_frag_input_data_bert(df_text=df_text_test, \n",
    "                                                  text_col=text_col,\n",
    "                                                  # Since labels are ignored, we pass df_codes_train_ner as df_ann\n",
    "                                                  df_ann=df_codes_train_ner, doc_list=test_doc_list, ss_dict=ss_dict_test,\n",
    "                                                  tokenizer=tokenizer, lab_encoder=mlb_encoder, seq_len=SEQ_LEN,\n",
    "                                                  greedy=False)"
   ]
  },
  {
   "cell_type": "code",
   "execution_count": 113,
   "metadata": {},
   "outputs": [
    {
     "name": "stdout",
     "output_type": "stream",
     "text": [
      "CPU times: user 5.49 s, sys: 706 ms, total: 6.19 s\n",
      "Wall time: 13 s\n"
     ]
    }
   ],
   "source": [
    "%%time\n",
    "test_preds = model.predict([test_ind, test_seg])"
   ]
  },
  {
   "cell_type": "code",
   "execution_count": 114,
   "metadata": {},
   "outputs": [
    {
     "data": {
      "text/plain": [
       "(3948, 727)"
      ]
     },
     "execution_count": 114,
     "metadata": {},
     "output_type": "execute_result"
    }
   ],
   "source": [
    "test_preds.shape"
   ]
  },
  {
   "cell_type": "code",
   "execution_count": 115,
   "metadata": {},
   "outputs": [],
   "source": [
    "results_dir_path = \"../results/CodiEsp-P/\""
   ]
  },
  {
   "cell_type": "code",
   "execution_count": 116,
   "metadata": {},
   "outputs": [
    {
     "name": "stdout",
     "output_type": "stream",
     "text": [
      "CPU times: user 1.11 ms, sys: 4.21 ms, total: 5.31 ms\n",
      "Wall time: 4.51 ms\n"
     ]
    }
   ],
   "source": [
    "%%time\n",
    "np.save(file=results_dir_path + \"predictions/beto_galen_seed_\" + str(random_seed) + \"_test_preds.npy\", arr=test_preds)"
   ]
  }
 ],
 "metadata": {
  "kernelspec": {
   "display_name": "Python 3",
   "language": "python",
   "name": "python3"
  },
  "language_info": {
   "codemirror_mode": {
    "name": "ipython",
    "version": 3
   },
   "file_extension": ".py",
   "mimetype": "text/x-python",
   "name": "python",
   "nbconvert_exporter": "python",
   "pygments_lexer": "ipython3",
   "version": "3.6.5"
  }
 },
 "nbformat": 4,
 "nbformat_minor": 4
}
