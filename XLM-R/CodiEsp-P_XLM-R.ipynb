{
 "cells": [
  {
   "cell_type": "markdown",
   "metadata": {},
   "source": [
    "# Fine-tuning XLM-R on CodiEsp-P\n",
    "\n",
    "In this notebook, following a multi-label sequence classification approach, the XLM-R model is fine-tuned on both the training and development sets of the CodiEsp-P corpus. Additionally, the predictions made by the model on the test set are saved, in order to futher evaluate the clinical coding performance of the model (see `results/CodiEsp-P/Evaluation.ipynb`)."
   ]
  },
  {
   "cell_type": "code",
   "execution_count": 1,
   "metadata": {},
   "outputs": [],
   "source": [
    "import pandas as pd\n",
    "import numpy as np\n",
    "import tensorflow as tf\n",
    "\n",
    "# Auxiliary components\n",
    "import sys\n",
    "sys.path.append(\"..\")\n",
    "from nlp_utils_TF2 import *\n",
    "\n",
    "# XLM-R tokenizer\n",
    "from transformers import XLMRobertaTokenizer\n",
    "import sentencepiece_pb2\n",
    "model_name = \"xlm-roberta-base\"\n",
    "tokenizer = XLMRobertaTokenizer.from_pretrained(model_name)\n",
    "spt = sentencepiece_pb2.SentencePieceText()\n",
    "\n",
    "# Hyper-parameters\n",
    "text_col = \"raw_text\"\n",
    "SEQ_LEN = 128\n",
    "BATCH_SIZE = 16\n",
    "EPOCHS = 41\n",
    "LR = 3e-5\n",
    "\n",
    "random_seed = 0\n",
    "tf.random.set_seed(random_seed)"
   ]
  },
  {
   "cell_type": "markdown",
   "metadata": {},
   "source": [
    "## Load text\n",
    "\n",
    "Firstly, all text files from training and development CodiEsp corpora are loaded in different dataframes.\n",
    "\n",
    "Also, CIE-Procedimiento codes are loaded."
   ]
  },
  {
   "cell_type": "code",
   "execution_count": 2,
   "metadata": {},
   "outputs": [],
   "source": [
    "corpus_path = \"../datasets/codiesp_v4/\""
   ]
  },
  {
   "cell_type": "markdown",
   "metadata": {},
   "source": [
    "### Training corpus"
   ]
  },
  {
   "cell_type": "code",
   "execution_count": 3,
   "metadata": {},
   "outputs": [
    {
     "name": "stdout",
     "output_type": "stream",
     "text": [
      "CPU times: user 11.5 ms, sys: 3.62 ms, total: 15.1 ms\n",
      "Wall time: 14.3 ms\n"
     ]
    }
   ],
   "source": [
    "%%time\n",
    "train_path = corpus_path + \"train/text_files/\"\n",
    "train_files = [f for f in os.listdir(train_path) if os.path.isfile(train_path + f)]\n",
    "train_data = load_text_files(train_files, train_path)\n",
    "df_text_train = pd.DataFrame({'doc_id': [s.split('.txt')[0] for s in train_files], 'raw_text': train_data})"
   ]
  },
  {
   "cell_type": "code",
   "execution_count": 4,
   "metadata": {},
   "outputs": [
    {
     "data": {
      "text/plain": [
       "(500, 2)"
      ]
     },
     "execution_count": 4,
     "metadata": {},
     "output_type": "execute_result"
    }
   ],
   "source": [
    "df_text_train.shape"
   ]
  },
  {
   "cell_type": "code",
   "execution_count": 5,
   "metadata": {},
   "outputs": [
    {
     "data": {
      "text/html": [
       "<div>\n",
       "<style scoped>\n",
       "    .dataframe tbody tr th:only-of-type {\n",
       "        vertical-align: middle;\n",
       "    }\n",
       "\n",
       "    .dataframe tbody tr th {\n",
       "        vertical-align: top;\n",
       "    }\n",
       "\n",
       "    .dataframe thead th {\n",
       "        text-align: right;\n",
       "    }\n",
       "</style>\n",
       "<table border=\"1\" class=\"dataframe\">\n",
       "  <thead>\n",
       "    <tr style=\"text-align: right;\">\n",
       "      <th></th>\n",
       "      <th>doc_id</th>\n",
       "      <th>raw_text</th>\n",
       "    </tr>\n",
       "  </thead>\n",
       "  <tbody>\n",
       "    <tr>\n",
       "      <th>0</th>\n",
       "      <td>S0365-66912006000600011-1</td>\n",
       "      <td>Un varón de 13 años es remitido para valoració...</td>\n",
       "    </tr>\n",
       "    <tr>\n",
       "      <th>1</th>\n",
       "      <td>S1139-13752009000200010-2</td>\n",
       "      <td>Paciente de 42 años diagnosticado de pancoliti...</td>\n",
       "    </tr>\n",
       "    <tr>\n",
       "      <th>2</th>\n",
       "      <td>S1130-05582017000100037-1</td>\n",
       "      <td>Varón de 72 años, sin antecedentes médicos de ...</td>\n",
       "    </tr>\n",
       "    <tr>\n",
       "      <th>3</th>\n",
       "      <td>S1139-76322016000300015-1</td>\n",
       "      <td>Lactante de ocho días cuyos padres consultan p...</td>\n",
       "    </tr>\n",
       "    <tr>\n",
       "      <th>4</th>\n",
       "      <td>S0211-69952011000100019-1</td>\n",
       "      <td>Mujer de 47 años de edad con antecedentes de g...</td>\n",
       "    </tr>\n",
       "  </tbody>\n",
       "</table>\n",
       "</div>"
      ],
      "text/plain": [
       "                      doc_id  \\\n",
       "0  S0365-66912006000600011-1   \n",
       "1  S1139-13752009000200010-2   \n",
       "2  S1130-05582017000100037-1   \n",
       "3  S1139-76322016000300015-1   \n",
       "4  S0211-69952011000100019-1   \n",
       "\n",
       "                                            raw_text  \n",
       "0  Un varón de 13 años es remitido para valoració...  \n",
       "1  Paciente de 42 años diagnosticado de pancoliti...  \n",
       "2  Varón de 72 años, sin antecedentes médicos de ...  \n",
       "3  Lactante de ocho días cuyos padres consultan p...  \n",
       "4  Mujer de 47 años de edad con antecedentes de g...  "
      ]
     },
     "execution_count": 5,
     "metadata": {},
     "output_type": "execute_result"
    }
   ],
   "source": [
    "df_text_train.head()"
   ]
  },
  {
   "cell_type": "code",
   "execution_count": 6,
   "metadata": {},
   "outputs": [
    {
     "data": {
      "text/plain": [
       "'Un varón de 13 años es remitido para valoración oftalmológica por mala visión. Fenotípicamente era un niño de talla corta con una estatura de 133 cm, braquimorfia y braquidactilia en las cuatro extremidades.\\nEl paciente presentaba un error refractivo corregido de -13,00 -6,50 a 1º en el ojo derecho y de -16,00-6,25 a 179º en el izquierdo. Con dicha corrección alcanzaba una agudeza visual de 0,4 y 0,2 respectivamente. No existía diplopía monocular ni hallazgos en la motilidad ocular extrínseca e intrínseca.\\nEl diámetro corneal horizontal era de 12,0 mm en ambos ojos y la paquimetría de 613 y 611 micras respectivamente. La cámara anterior era estrecha, apreciándose iridofacodonesis bilateral. Se evidenció microesferofaquia con desplazamiento anterior de ambos cristalinos dentro de la cámara posterior.\\nLa presión intraocular era de 20 mmHg bilateralmente. Gonioscópicamente se apreció un ángulo estrecho simétrico en ambos ojos grado II según Schaffer.\\nLa exploración mediante topógrafo Orbscan-II (Topógrafo corneal, Baush and Lomb, U.S.A.) y el examen del fondo de ojo no mostraron alteraciones.\\nComo prevención del cierre angular se realizó una iridotomía láser Nd:YAG en ambos ojos a las 10 y 2 horas respectivamente. Dada la estabilidad de la visión y la ausencia de diplopía se adoptó una actitud conservadora de acuerdo con el deseo de la familia del paciente mediante control de la agudeza visual, presión intraocular, documentación fotográfica y la realización de campos visuales para detectar la aparición de daño glaucomatoso.\\nRevisando sus antecentes familiares se identificó al paciente como el menor de una familia de ocho hermanos, en la que -además del mencionado- un hermano y dos hermanas presentaban esferofaquia, braquimorfia y braquidactilia. Los padres eran sanos y ninguno de los hijos ha tenido descendencia.\\n\\n'"
      ]
     },
     "execution_count": 6,
     "metadata": {},
     "output_type": "execute_result"
    }
   ],
   "source": [
    "df_text_train.raw_text[0]"
   ]
  },
  {
   "cell_type": "markdown",
   "metadata": {},
   "source": [
    "We also load the CIE-Procedimiento codes table:"
   ]
  },
  {
   "cell_type": "code",
   "execution_count": 7,
   "metadata": {},
   "outputs": [],
   "source": [
    "df_codes_train = pd.read_table(corpus_path + \"train/trainP.tsv\", sep='\\t', header=None)"
   ]
  },
  {
   "cell_type": "code",
   "execution_count": 8,
   "metadata": {},
   "outputs": [],
   "source": [
    "df_codes_train.columns = [\"doc_id\", \"code\"]"
   ]
  },
  {
   "cell_type": "code",
   "execution_count": 9,
   "metadata": {},
   "outputs": [
    {
     "data": {
      "text/plain": [
       "(1550, 2)"
      ]
     },
     "execution_count": 9,
     "metadata": {},
     "output_type": "execute_result"
    }
   ],
   "source": [
    "df_codes_train.shape"
   ]
  },
  {
   "cell_type": "code",
   "execution_count": 10,
   "metadata": {},
   "outputs": [
    {
     "data": {
      "text/html": [
       "<div>\n",
       "<style scoped>\n",
       "    .dataframe tbody tr th:only-of-type {\n",
       "        vertical-align: middle;\n",
       "    }\n",
       "\n",
       "    .dataframe tbody tr th {\n",
       "        vertical-align: top;\n",
       "    }\n",
       "\n",
       "    .dataframe thead th {\n",
       "        text-align: right;\n",
       "    }\n",
       "</style>\n",
       "<table border=\"1\" class=\"dataframe\">\n",
       "  <thead>\n",
       "    <tr style=\"text-align: right;\">\n",
       "      <th></th>\n",
       "      <th>doc_id</th>\n",
       "      <th>code</th>\n",
       "    </tr>\n",
       "  </thead>\n",
       "  <tbody>\n",
       "    <tr>\n",
       "      <th>0</th>\n",
       "      <td>S0004-06142005000700014-1</td>\n",
       "      <td>bw03zzz</td>\n",
       "    </tr>\n",
       "    <tr>\n",
       "      <th>1</th>\n",
       "      <td>S0004-06142005000700014-1</td>\n",
       "      <td>3e02329</td>\n",
       "    </tr>\n",
       "    <tr>\n",
       "      <th>2</th>\n",
       "      <td>S0004-06142005000700014-1</td>\n",
       "      <td>bw40zzz</td>\n",
       "    </tr>\n",
       "    <tr>\n",
       "      <th>3</th>\n",
       "      <td>S0004-06142005000700014-1</td>\n",
       "      <td>bv44zzz</td>\n",
       "    </tr>\n",
       "    <tr>\n",
       "      <th>4</th>\n",
       "      <td>S0004-06142005000700014-1</td>\n",
       "      <td>bn20</td>\n",
       "    </tr>\n",
       "  </tbody>\n",
       "</table>\n",
       "</div>"
      ],
      "text/plain": [
       "                      doc_id     code\n",
       "0  S0004-06142005000700014-1  bw03zzz\n",
       "1  S0004-06142005000700014-1  3e02329\n",
       "2  S0004-06142005000700014-1  bw40zzz\n",
       "3  S0004-06142005000700014-1  bv44zzz\n",
       "4  S0004-06142005000700014-1     bn20"
      ]
     },
     "execution_count": 10,
     "metadata": {},
     "output_type": "execute_result"
    }
   ],
   "source": [
    "df_codes_train.head()"
   ]
  },
  {
   "cell_type": "code",
   "execution_count": 11,
   "metadata": {},
   "outputs": [
    {
     "data": {
      "text/plain": [
       "435"
      ]
     },
     "execution_count": 11,
     "metadata": {},
     "output_type": "execute_result"
    }
   ],
   "source": [
    "len(set(df_codes_train[\"doc_id\"]))"
   ]
  },
  {
   "cell_type": "markdown",
   "metadata": {},
   "source": [
    "### Development corpus"
   ]
  },
  {
   "cell_type": "code",
   "execution_count": 12,
   "metadata": {},
   "outputs": [
    {
     "name": "stdout",
     "output_type": "stream",
     "text": [
      "CPU times: user 6.61 ms, sys: 72 µs, total: 6.68 ms\n",
      "Wall time: 5.9 ms\n"
     ]
    }
   ],
   "source": [
    "%%time\n",
    "dev_path = corpus_path + \"dev/text_files/\"\n",
    "dev_files = [f for f in os.listdir(dev_path) if os.path.isfile(dev_path + f)]\n",
    "dev_data = load_text_files(dev_files, dev_path)\n",
    "df_text_dev = pd.DataFrame({'doc_id': [s.split('.txt')[0] for s in dev_files], 'raw_text': dev_data})"
   ]
  },
  {
   "cell_type": "code",
   "execution_count": 13,
   "metadata": {},
   "outputs": [
    {
     "data": {
      "text/plain": [
       "(250, 2)"
      ]
     },
     "execution_count": 13,
     "metadata": {},
     "output_type": "execute_result"
    }
   ],
   "source": [
    "df_text_dev.shape"
   ]
  },
  {
   "cell_type": "code",
   "execution_count": 14,
   "metadata": {},
   "outputs": [
    {
     "data": {
      "text/html": [
       "<div>\n",
       "<style scoped>\n",
       "    .dataframe tbody tr th:only-of-type {\n",
       "        vertical-align: middle;\n",
       "    }\n",
       "\n",
       "    .dataframe tbody tr th {\n",
       "        vertical-align: top;\n",
       "    }\n",
       "\n",
       "    .dataframe thead th {\n",
       "        text-align: right;\n",
       "    }\n",
       "</style>\n",
       "<table border=\"1\" class=\"dataframe\">\n",
       "  <thead>\n",
       "    <tr style=\"text-align: right;\">\n",
       "      <th></th>\n",
       "      <th>doc_id</th>\n",
       "      <th>raw_text</th>\n",
       "    </tr>\n",
       "  </thead>\n",
       "  <tbody>\n",
       "    <tr>\n",
       "      <th>0</th>\n",
       "      <td>S1130-63432016000600013-1</td>\n",
       "      <td>Varón de 75 años, con antecedentes de hiperuri...</td>\n",
       "    </tr>\n",
       "    <tr>\n",
       "      <th>1</th>\n",
       "      <td>S0365-66912003000600010-1</td>\n",
       "      <td>Paciente de 33 años de edad, gestante de 34 se...</td>\n",
       "    </tr>\n",
       "    <tr>\n",
       "      <th>2</th>\n",
       "      <td>S0211-69952012000200030-1</td>\n",
       "      <td>Mujer de 67 años con múltiples factores de rie...</td>\n",
       "    </tr>\n",
       "    <tr>\n",
       "      <th>3</th>\n",
       "      <td>S0365-66912004000900009-1</td>\n",
       "      <td>Paciente de 55 años que acudió a urgencias por...</td>\n",
       "    </tr>\n",
       "    <tr>\n",
       "      <th>4</th>\n",
       "      <td>S1139-76322016000300016-2</td>\n",
       "      <td>Lactante de 1 mes y 29 días, sin antecedentes ...</td>\n",
       "    </tr>\n",
       "  </tbody>\n",
       "</table>\n",
       "</div>"
      ],
      "text/plain": [
       "                      doc_id  \\\n",
       "0  S1130-63432016000600013-1   \n",
       "1  S0365-66912003000600010-1   \n",
       "2  S0211-69952012000200030-1   \n",
       "3  S0365-66912004000900009-1   \n",
       "4  S1139-76322016000300016-2   \n",
       "\n",
       "                                            raw_text  \n",
       "0  Varón de 75 años, con antecedentes de hiperuri...  \n",
       "1  Paciente de 33 años de edad, gestante de 34 se...  \n",
       "2  Mujer de 67 años con múltiples factores de rie...  \n",
       "3  Paciente de 55 años que acudió a urgencias por...  \n",
       "4  Lactante de 1 mes y 29 días, sin antecedentes ...  "
      ]
     },
     "execution_count": 14,
     "metadata": {},
     "output_type": "execute_result"
    }
   ],
   "source": [
    "df_text_dev.head()"
   ]
  },
  {
   "cell_type": "code",
   "execution_count": 15,
   "metadata": {},
   "outputs": [
    {
     "data": {
      "text/plain": [
       "'Varón de 75 años, con antecedentes de hiperuricemia en tratamiento con Alopurinol que ingresa para realización de resección transuretral de próstata.\\nPostoperatorio inmediato sin incidencias con tratamiento con Pantoprazol, Ciprofloxacino, Paracetamol, Enantyum y Alopurinol. Al cuarto día de postoperatorio presenta mareos, temblor con componente mioclónico en extremidades y tronco e incapacidad para caminar, sin verse alteraciones analíticas. En esta situación se pauta Rivotril y se suspende el tratamiento con Ciprofloxacino, desapareciendo la clínica mioclónica y mejorando el estado del paciente, por lo que se decide el alta hospitalaria.\\n\\n'"
      ]
     },
     "execution_count": 15,
     "metadata": {},
     "output_type": "execute_result"
    }
   ],
   "source": [
    "df_text_dev.raw_text[0]"
   ]
  },
  {
   "cell_type": "markdown",
   "metadata": {},
   "source": [
    "We also load the CIE-Procedimiento codes table:"
   ]
  },
  {
   "cell_type": "code",
   "execution_count": 16,
   "metadata": {},
   "outputs": [],
   "source": [
    "df_codes_dev = pd.read_table(corpus_path + \"dev/devP.tsv\", sep='\\t', header=None)"
   ]
  },
  {
   "cell_type": "code",
   "execution_count": 17,
   "metadata": {},
   "outputs": [],
   "source": [
    "df_codes_dev.columns = [\"doc_id\", \"code\"]"
   ]
  },
  {
   "cell_type": "code",
   "execution_count": 18,
   "metadata": {},
   "outputs": [
    {
     "data": {
      "text/plain": [
       "(817, 2)"
      ]
     },
     "execution_count": 18,
     "metadata": {},
     "output_type": "execute_result"
    }
   ],
   "source": [
    "df_codes_dev.shape"
   ]
  },
  {
   "cell_type": "code",
   "execution_count": 19,
   "metadata": {},
   "outputs": [
    {
     "data": {
      "text/html": [
       "<div>\n",
       "<style scoped>\n",
       "    .dataframe tbody tr th:only-of-type {\n",
       "        vertical-align: middle;\n",
       "    }\n",
       "\n",
       "    .dataframe tbody tr th {\n",
       "        vertical-align: top;\n",
       "    }\n",
       "\n",
       "    .dataframe thead th {\n",
       "        text-align: right;\n",
       "    }\n",
       "</style>\n",
       "<table border=\"1\" class=\"dataframe\">\n",
       "  <thead>\n",
       "    <tr style=\"text-align: right;\">\n",
       "      <th></th>\n",
       "      <th>doc_id</th>\n",
       "      <th>code</th>\n",
       "    </tr>\n",
       "  </thead>\n",
       "  <tbody>\n",
       "    <tr>\n",
       "      <th>0</th>\n",
       "      <td>S0004-06142005000900016-1</td>\n",
       "      <td>bt41zzz</td>\n",
       "    </tr>\n",
       "    <tr>\n",
       "      <th>1</th>\n",
       "      <td>S0004-06142005000900016-1</td>\n",
       "      <td>ct13</td>\n",
       "    </tr>\n",
       "    <tr>\n",
       "      <th>2</th>\n",
       "      <td>S0004-06142005001000011-1</td>\n",
       "      <td>3e1m39z</td>\n",
       "    </tr>\n",
       "    <tr>\n",
       "      <th>3</th>\n",
       "      <td>S0004-06142005001000011-1</td>\n",
       "      <td>0tcb</td>\n",
       "    </tr>\n",
       "    <tr>\n",
       "      <th>4</th>\n",
       "      <td>S0004-06142005001000011-1</td>\n",
       "      <td>bt02</td>\n",
       "    </tr>\n",
       "  </tbody>\n",
       "</table>\n",
       "</div>"
      ],
      "text/plain": [
       "                      doc_id     code\n",
       "0  S0004-06142005000900016-1  bt41zzz\n",
       "1  S0004-06142005000900016-1     ct13\n",
       "2  S0004-06142005001000011-1  3e1m39z\n",
       "3  S0004-06142005001000011-1     0tcb\n",
       "4  S0004-06142005001000011-1     bt02"
      ]
     },
     "execution_count": 19,
     "metadata": {},
     "output_type": "execute_result"
    }
   ],
   "source": [
    "df_codes_dev.head()"
   ]
  },
  {
   "cell_type": "code",
   "execution_count": 20,
   "metadata": {},
   "outputs": [
    {
     "data": {
      "text/plain": [
       "222"
      ]
     },
     "execution_count": 20,
     "metadata": {},
     "output_type": "execute_result"
    }
   ],
   "source": [
    "len(set(df_codes_dev[\"doc_id\"]))"
   ]
  },
  {
   "cell_type": "markdown",
   "metadata": {},
   "source": [
    "We join the training and development CodiEsp codes dataframes together:"
   ]
  },
  {
   "cell_type": "code",
   "execution_count": 21,
   "metadata": {},
   "outputs": [],
   "source": [
    "df_codes_train_dev = pd.concat([df_codes_train, df_codes_dev])"
   ]
  },
  {
   "cell_type": "code",
   "execution_count": 22,
   "metadata": {},
   "outputs": [
    {
     "data": {
      "text/plain": [
       "(2367, 2)"
      ]
     },
     "execution_count": 22,
     "metadata": {},
     "output_type": "execute_result"
    }
   ],
   "source": [
    "df_codes_train_dev.shape"
   ]
  },
  {
   "cell_type": "code",
   "execution_count": 23,
   "metadata": {},
   "outputs": [
    {
     "data": {
      "text/html": [
       "<div>\n",
       "<style scoped>\n",
       "    .dataframe tbody tr th:only-of-type {\n",
       "        vertical-align: middle;\n",
       "    }\n",
       "\n",
       "    .dataframe tbody tr th {\n",
       "        vertical-align: top;\n",
       "    }\n",
       "\n",
       "    .dataframe thead th {\n",
       "        text-align: right;\n",
       "    }\n",
       "</style>\n",
       "<table border=\"1\" class=\"dataframe\">\n",
       "  <thead>\n",
       "    <tr style=\"text-align: right;\">\n",
       "      <th></th>\n",
       "      <th>doc_id</th>\n",
       "      <th>code</th>\n",
       "    </tr>\n",
       "  </thead>\n",
       "  <tbody>\n",
       "    <tr>\n",
       "      <th>0</th>\n",
       "      <td>S0004-06142005000700014-1</td>\n",
       "      <td>bw03zzz</td>\n",
       "    </tr>\n",
       "    <tr>\n",
       "      <th>1</th>\n",
       "      <td>S0004-06142005000700014-1</td>\n",
       "      <td>3e02329</td>\n",
       "    </tr>\n",
       "    <tr>\n",
       "      <th>2</th>\n",
       "      <td>S0004-06142005000700014-1</td>\n",
       "      <td>bw40zzz</td>\n",
       "    </tr>\n",
       "    <tr>\n",
       "      <th>3</th>\n",
       "      <td>S0004-06142005000700014-1</td>\n",
       "      <td>bv44zzz</td>\n",
       "    </tr>\n",
       "    <tr>\n",
       "      <th>4</th>\n",
       "      <td>S0004-06142005000700014-1</td>\n",
       "      <td>bn20</td>\n",
       "    </tr>\n",
       "  </tbody>\n",
       "</table>\n",
       "</div>"
      ],
      "text/plain": [
       "                      doc_id     code\n",
       "0  S0004-06142005000700014-1  bw03zzz\n",
       "1  S0004-06142005000700014-1  3e02329\n",
       "2  S0004-06142005000700014-1  bw40zzz\n",
       "3  S0004-06142005000700014-1  bv44zzz\n",
       "4  S0004-06142005000700014-1     bn20"
      ]
     },
     "execution_count": 23,
     "metadata": {},
     "output_type": "execute_result"
    }
   ],
   "source": [
    "df_codes_train_dev.head()"
   ]
  },
  {
   "cell_type": "markdown",
   "metadata": {},
   "source": [
    "## Creating corpora of annotated sentences\n",
    "\n",
    "Leveraging the information available for the named-entity-recognition and normalization (NER-N) CodiEsp-X task, we create both a training and a development corpus of annotated sentences with CIE-Procedimiento codes."
   ]
  },
  {
   "cell_type": "markdown",
   "metadata": {},
   "source": [
    "Firstly, we pre-process the NER-N precedure-codes annotations available for both the training and development corpora."
   ]
  },
  {
   "cell_type": "code",
   "execution_count": 24,
   "metadata": {},
   "outputs": [],
   "source": [
    "# Training corpus"
   ]
  },
  {
   "cell_type": "code",
   "execution_count": 24,
   "metadata": {},
   "outputs": [
    {
     "name": "stdout",
     "output_type": "stream",
     "text": [
      "CPU times: user 13.8 ms, sys: 0 ns, total: 13.8 ms\n",
      "Wall time: 12.7 ms\n"
     ]
    }
   ],
   "source": [
    "%%time\n",
    "\n",
    "codiesp_x_train = pd.read_table(corpus_path + \"train/trainX.tsv\", sep='\\t', header=None)"
   ]
  },
  {
   "cell_type": "code",
   "execution_count": 25,
   "metadata": {},
   "outputs": [],
   "source": [
    "codiesp_x_train.columns = [\"doc_id\", \"type\", \"code\", \"word\", \"location\"]"
   ]
  },
  {
   "cell_type": "code",
   "execution_count": 26,
   "metadata": {},
   "outputs": [
    {
     "data": {
      "text/plain": [
       "(9181, 5)"
      ]
     },
     "execution_count": 26,
     "metadata": {},
     "output_type": "execute_result"
    }
   ],
   "source": [
    "codiesp_x_train.shape"
   ]
  },
  {
   "cell_type": "code",
   "execution_count": 27,
   "metadata": {},
   "outputs": [
    {
     "data": {
      "text/html": [
       "<div>\n",
       "<style scoped>\n",
       "    .dataframe tbody tr th:only-of-type {\n",
       "        vertical-align: middle;\n",
       "    }\n",
       "\n",
       "    .dataframe tbody tr th {\n",
       "        vertical-align: top;\n",
       "    }\n",
       "\n",
       "    .dataframe thead th {\n",
       "        text-align: right;\n",
       "    }\n",
       "</style>\n",
       "<table border=\"1\" class=\"dataframe\">\n",
       "  <thead>\n",
       "    <tr style=\"text-align: right;\">\n",
       "      <th></th>\n",
       "      <th>doc_id</th>\n",
       "      <th>type</th>\n",
       "      <th>code</th>\n",
       "      <th>word</th>\n",
       "      <th>location</th>\n",
       "    </tr>\n",
       "  </thead>\n",
       "  <tbody>\n",
       "    <tr>\n",
       "      <th>0</th>\n",
       "      <td>S0004-06142005000700014-1</td>\n",
       "      <td>PROCEDIMIENTO</td>\n",
       "      <td>bw03zzz</td>\n",
       "      <td>Rx tórax</td>\n",
       "      <td>2163 2171</td>\n",
       "    </tr>\n",
       "    <tr>\n",
       "      <th>1</th>\n",
       "      <td>S0004-06142005000700014-1</td>\n",
       "      <td>PROCEDIMIENTO</td>\n",
       "      <td>3e02329</td>\n",
       "      <td>Estreptomicina intramuscular</td>\n",
       "      <td>2787 2801;2810 2823</td>\n",
       "    </tr>\n",
       "    <tr>\n",
       "      <th>2</th>\n",
       "      <td>S0004-06142005000700014-1</td>\n",
       "      <td>DIAGNOSTICO</td>\n",
       "      <td>n44.8</td>\n",
       "      <td>teste derecho aumentado de tamaño</td>\n",
       "      <td>1343 1376</td>\n",
       "    </tr>\n",
       "    <tr>\n",
       "      <th>3</th>\n",
       "      <td>S0004-06142005000700014-1</td>\n",
       "      <td>DIAGNOSTICO</td>\n",
       "      <td>z20.818</td>\n",
       "      <td>exposición a Brucella</td>\n",
       "      <td>594 615</td>\n",
       "    </tr>\n",
       "    <tr>\n",
       "      <th>4</th>\n",
       "      <td>S0004-06142005000700014-1</td>\n",
       "      <td>DIAGNOSTICO</td>\n",
       "      <td>r60.9</td>\n",
       "      <td>edemas</td>\n",
       "      <td>1250 1256</td>\n",
       "    </tr>\n",
       "  </tbody>\n",
       "</table>\n",
       "</div>"
      ],
      "text/plain": [
       "                      doc_id           type     code  \\\n",
       "0  S0004-06142005000700014-1  PROCEDIMIENTO  bw03zzz   \n",
       "1  S0004-06142005000700014-1  PROCEDIMIENTO  3e02329   \n",
       "2  S0004-06142005000700014-1    DIAGNOSTICO    n44.8   \n",
       "3  S0004-06142005000700014-1    DIAGNOSTICO  z20.818   \n",
       "4  S0004-06142005000700014-1    DIAGNOSTICO    r60.9   \n",
       "\n",
       "                                word             location  \n",
       "0                           Rx tórax            2163 2171  \n",
       "1       Estreptomicina intramuscular  2787 2801;2810 2823  \n",
       "2  teste derecho aumentado de tamaño            1343 1376  \n",
       "3              exposición a Brucella              594 615  \n",
       "4                             edemas            1250 1256  "
      ]
     },
     "execution_count": 27,
     "metadata": {},
     "output_type": "execute_result"
    }
   ],
   "source": [
    "codiesp_x_train.head()"
   ]
  },
  {
   "cell_type": "code",
   "execution_count": 28,
   "metadata": {},
   "outputs": [],
   "source": [
    "codiesp_x_train = codiesp_x_train[codiesp_x_train[\"type\"] == \"PROCEDIMIENTO\"]"
   ]
  },
  {
   "cell_type": "code",
   "execution_count": 29,
   "metadata": {},
   "outputs": [
    {
     "data": {
      "text/plain": [
       "(1972, 5)"
      ]
     },
     "execution_count": 29,
     "metadata": {},
     "output_type": "execute_result"
    }
   ],
   "source": [
    "codiesp_x_train.shape"
   ]
  },
  {
   "cell_type": "code",
   "execution_count": 30,
   "metadata": {},
   "outputs": [],
   "source": [
    "df_codes_train_ner = process_ner_labels(codiesp_x_train).sort_values([\"doc_id\", \"start\", \"end\"])"
   ]
  },
  {
   "cell_type": "code",
   "execution_count": 31,
   "metadata": {},
   "outputs": [
    {
     "data": {
      "text/html": [
       "<div>\n",
       "<style scoped>\n",
       "    .dataframe tbody tr th:only-of-type {\n",
       "        vertical-align: middle;\n",
       "    }\n",
       "\n",
       "    .dataframe tbody tr th {\n",
       "        vertical-align: top;\n",
       "    }\n",
       "\n",
       "    .dataframe thead th {\n",
       "        text-align: right;\n",
       "    }\n",
       "</style>\n",
       "<table border=\"1\" class=\"dataframe\">\n",
       "  <thead>\n",
       "    <tr style=\"text-align: right;\">\n",
       "      <th></th>\n",
       "      <th>doc_id</th>\n",
       "      <th>type</th>\n",
       "      <th>code</th>\n",
       "      <th>word</th>\n",
       "      <th>start</th>\n",
       "      <th>end</th>\n",
       "    </tr>\n",
       "  </thead>\n",
       "  <tbody>\n",
       "    <tr>\n",
       "      <th>0</th>\n",
       "      <td>S0004-06142005000700014-1</td>\n",
       "      <td>PROCEDIMIENTO</td>\n",
       "      <td>bw03zzz</td>\n",
       "      <td>Rx tórax</td>\n",
       "      <td>2163</td>\n",
       "      <td>2171</td>\n",
       "    </tr>\n",
       "    <tr>\n",
       "      <th>3</th>\n",
       "      <td>S0004-06142005000700014-1</td>\n",
       "      <td>PROCEDIMIENTO</td>\n",
       "      <td>bw40zzz</td>\n",
       "      <td>Ecografía abdominal</td>\n",
       "      <td>2173</td>\n",
       "      <td>2192</td>\n",
       "    </tr>\n",
       "    <tr>\n",
       "      <th>5</th>\n",
       "      <td>S0004-06142005000700014-1</td>\n",
       "      <td>PROCEDIMIENTO</td>\n",
       "      <td>bn20</td>\n",
       "      <td>TAC craneal</td>\n",
       "      <td>2194</td>\n",
       "      <td>2205</td>\n",
       "    </tr>\n",
       "    <tr>\n",
       "      <th>4</th>\n",
       "      <td>S0004-06142005000700014-1</td>\n",
       "      <td>PROCEDIMIENTO</td>\n",
       "      <td>bv44zzz</td>\n",
       "      <td>Ecografía testicular</td>\n",
       "      <td>2287</td>\n",
       "      <td>2307</td>\n",
       "    </tr>\n",
       "    <tr>\n",
       "      <th>1</th>\n",
       "      <td>S0004-06142005000700014-1</td>\n",
       "      <td>PROCEDIMIENTO</td>\n",
       "      <td>3e02329</td>\n",
       "      <td>Estreptomicina intramuscular</td>\n",
       "      <td>2787</td>\n",
       "      <td>2801</td>\n",
       "    </tr>\n",
       "  </tbody>\n",
       "</table>\n",
       "</div>"
      ],
      "text/plain": [
       "                      doc_id           type     code  \\\n",
       "0  S0004-06142005000700014-1  PROCEDIMIENTO  bw03zzz   \n",
       "3  S0004-06142005000700014-1  PROCEDIMIENTO  bw40zzz   \n",
       "5  S0004-06142005000700014-1  PROCEDIMIENTO     bn20   \n",
       "4  S0004-06142005000700014-1  PROCEDIMIENTO  bv44zzz   \n",
       "1  S0004-06142005000700014-1  PROCEDIMIENTO  3e02329   \n",
       "\n",
       "                           word start   end  \n",
       "0                      Rx tórax  2163  2171  \n",
       "3           Ecografía abdominal  2173  2192  \n",
       "5                   TAC craneal  2194  2205  \n",
       "4          Ecografía testicular  2287  2307  \n",
       "1  Estreptomicina intramuscular  2787  2801  "
      ]
     },
     "execution_count": 31,
     "metadata": {},
     "output_type": "execute_result"
    }
   ],
   "source": [
    "df_codes_train_ner.head()"
   ]
  },
  {
   "cell_type": "code",
   "execution_count": 32,
   "metadata": {},
   "outputs": [
    {
     "data": {
      "text/plain": [
       "(2769, 6)"
      ]
     },
     "execution_count": 32,
     "metadata": {},
     "output_type": "execute_result"
    }
   ],
   "source": [
    "df_codes_train_ner.shape"
   ]
  },
  {
   "cell_type": "code",
   "execution_count": 34,
   "metadata": {},
   "outputs": [],
   "source": [
    "# Development corpus"
   ]
  },
  {
   "cell_type": "code",
   "execution_count": 33,
   "metadata": {},
   "outputs": [
    {
     "name": "stdout",
     "output_type": "stream",
     "text": [
      "CPU times: user 7.51 ms, sys: 0 ns, total: 7.51 ms\n",
      "Wall time: 6.73 ms\n"
     ]
    }
   ],
   "source": [
    "%%time\n",
    "\n",
    "codiesp_x_dev = pd.read_table(corpus_path + \"dev/devX.tsv\", sep='\\t', header=None)"
   ]
  },
  {
   "cell_type": "code",
   "execution_count": 34,
   "metadata": {},
   "outputs": [],
   "source": [
    "codiesp_x_dev.columns = [\"doc_id\", \"type\", \"code\", \"word\", \"location\"]"
   ]
  },
  {
   "cell_type": "code",
   "execution_count": 35,
   "metadata": {},
   "outputs": [
    {
     "data": {
      "text/plain": [
       "(4477, 5)"
      ]
     },
     "execution_count": 35,
     "metadata": {},
     "output_type": "execute_result"
    }
   ],
   "source": [
    "codiesp_x_dev.shape"
   ]
  },
  {
   "cell_type": "code",
   "execution_count": 36,
   "metadata": {},
   "outputs": [
    {
     "data": {
      "text/html": [
       "<div>\n",
       "<style scoped>\n",
       "    .dataframe tbody tr th:only-of-type {\n",
       "        vertical-align: middle;\n",
       "    }\n",
       "\n",
       "    .dataframe tbody tr th {\n",
       "        vertical-align: top;\n",
       "    }\n",
       "\n",
       "    .dataframe thead th {\n",
       "        text-align: right;\n",
       "    }\n",
       "</style>\n",
       "<table border=\"1\" class=\"dataframe\">\n",
       "  <thead>\n",
       "    <tr style=\"text-align: right;\">\n",
       "      <th></th>\n",
       "      <th>doc_id</th>\n",
       "      <th>type</th>\n",
       "      <th>code</th>\n",
       "      <th>word</th>\n",
       "      <th>location</th>\n",
       "    </tr>\n",
       "  </thead>\n",
       "  <tbody>\n",
       "    <tr>\n",
       "      <th>0</th>\n",
       "      <td>S0004-06142005000900016-1</td>\n",
       "      <td>PROCEDIMIENTO</td>\n",
       "      <td>bt41zzz</td>\n",
       "      <td>ecografía renal derecha</td>\n",
       "      <td>307 316;348 361</td>\n",
       "    </tr>\n",
       "    <tr>\n",
       "      <th>1</th>\n",
       "      <td>S0004-06142005000900016-1</td>\n",
       "      <td>PROCEDIMIENTO</td>\n",
       "      <td>ct13</td>\n",
       "      <td>gammagrafía renal</td>\n",
       "      <td>739 756</td>\n",
       "    </tr>\n",
       "    <tr>\n",
       "      <th>2</th>\n",
       "      <td>S0004-06142005000900016-1</td>\n",
       "      <td>DIAGNOSTICO</td>\n",
       "      <td>q62.11</td>\n",
       "      <td>estenosis en la unión pieloureteral derecha</td>\n",
       "      <td>540 583</td>\n",
       "    </tr>\n",
       "    <tr>\n",
       "      <th>3</th>\n",
       "      <td>S0004-06142005000900016-1</td>\n",
       "      <td>DIAGNOSTICO</td>\n",
       "      <td>n28.89</td>\n",
       "      <td>ectasia pielocalicial</td>\n",
       "      <td>326 347</td>\n",
       "    </tr>\n",
       "    <tr>\n",
       "      <th>4</th>\n",
       "      <td>S0004-06142005000900016-1</td>\n",
       "      <td>DIAGNOSTICO</td>\n",
       "      <td>n39.0</td>\n",
       "      <td>infecciones del tracto urinario</td>\n",
       "      <td>198 229</td>\n",
       "    </tr>\n",
       "  </tbody>\n",
       "</table>\n",
       "</div>"
      ],
      "text/plain": [
       "                      doc_id           type     code  \\\n",
       "0  S0004-06142005000900016-1  PROCEDIMIENTO  bt41zzz   \n",
       "1  S0004-06142005000900016-1  PROCEDIMIENTO     ct13   \n",
       "2  S0004-06142005000900016-1    DIAGNOSTICO   q62.11   \n",
       "3  S0004-06142005000900016-1    DIAGNOSTICO   n28.89   \n",
       "4  S0004-06142005000900016-1    DIAGNOSTICO    n39.0   \n",
       "\n",
       "                                          word         location  \n",
       "0                      ecografía renal derecha  307 316;348 361  \n",
       "1                            gammagrafía renal          739 756  \n",
       "2  estenosis en la unión pieloureteral derecha          540 583  \n",
       "3                        ectasia pielocalicial          326 347  \n",
       "4              infecciones del tracto urinario          198 229  "
      ]
     },
     "execution_count": 36,
     "metadata": {},
     "output_type": "execute_result"
    }
   ],
   "source": [
    "codiesp_x_dev.head()"
   ]
  },
  {
   "cell_type": "code",
   "execution_count": 37,
   "metadata": {},
   "outputs": [],
   "source": [
    "codiesp_x_dev = codiesp_x_dev[codiesp_x_dev[\"type\"] == \"PROCEDIMIENTO\"]"
   ]
  },
  {
   "cell_type": "code",
   "execution_count": 38,
   "metadata": {},
   "outputs": [
    {
     "data": {
      "text/plain": [
       "(1046, 5)"
      ]
     },
     "execution_count": 38,
     "metadata": {},
     "output_type": "execute_result"
    }
   ],
   "source": [
    "codiesp_x_dev.shape"
   ]
  },
  {
   "cell_type": "code",
   "execution_count": 39,
   "metadata": {},
   "outputs": [],
   "source": [
    "df_codes_dev_ner = process_ner_labels(codiesp_x_dev).sort_values([\"doc_id\", \"start\", \"end\"])"
   ]
  },
  {
   "cell_type": "code",
   "execution_count": 40,
   "metadata": {},
   "outputs": [
    {
     "data": {
      "text/html": [
       "<div>\n",
       "<style scoped>\n",
       "    .dataframe tbody tr th:only-of-type {\n",
       "        vertical-align: middle;\n",
       "    }\n",
       "\n",
       "    .dataframe tbody tr th {\n",
       "        vertical-align: top;\n",
       "    }\n",
       "\n",
       "    .dataframe thead th {\n",
       "        text-align: right;\n",
       "    }\n",
       "</style>\n",
       "<table border=\"1\" class=\"dataframe\">\n",
       "  <thead>\n",
       "    <tr style=\"text-align: right;\">\n",
       "      <th></th>\n",
       "      <th>doc_id</th>\n",
       "      <th>type</th>\n",
       "      <th>code</th>\n",
       "      <th>word</th>\n",
       "      <th>start</th>\n",
       "      <th>end</th>\n",
       "    </tr>\n",
       "  </thead>\n",
       "  <tbody>\n",
       "    <tr>\n",
       "      <th>0</th>\n",
       "      <td>S0004-06142005000900016-1</td>\n",
       "      <td>PROCEDIMIENTO</td>\n",
       "      <td>bt41zzz</td>\n",
       "      <td>ecografía renal derecha</td>\n",
       "      <td>307</td>\n",
       "      <td>316</td>\n",
       "    </tr>\n",
       "    <tr>\n",
       "      <th>1</th>\n",
       "      <td>S0004-06142005000900016-1</td>\n",
       "      <td>PROCEDIMIENTO</td>\n",
       "      <td>bt41zzz</td>\n",
       "      <td>ecografía renal derecha</td>\n",
       "      <td>348</td>\n",
       "      <td>361</td>\n",
       "    </tr>\n",
       "    <tr>\n",
       "      <th>2</th>\n",
       "      <td>S0004-06142005000900016-1</td>\n",
       "      <td>PROCEDIMIENTO</td>\n",
       "      <td>ct13</td>\n",
       "      <td>gammagrafía renal</td>\n",
       "      <td>739</td>\n",
       "      <td>756</td>\n",
       "    </tr>\n",
       "    <tr>\n",
       "      <th>3</th>\n",
       "      <td>S0004-06142005001000011-1</td>\n",
       "      <td>PROCEDIMIENTO</td>\n",
       "      <td>3e1m39z</td>\n",
       "      <td>diálisis peritoneal</td>\n",
       "      <td>95</td>\n",
       "      <td>114</td>\n",
       "    </tr>\n",
       "    <tr>\n",
       "      <th>7</th>\n",
       "      <td>S0004-06142005001000011-1</td>\n",
       "      <td>PROCEDIMIENTO</td>\n",
       "      <td>0270</td>\n",
       "      <td>angioplastia transluminal de la coronaria derecha</td>\n",
       "      <td>424</td>\n",
       "      <td>473</td>\n",
       "    </tr>\n",
       "  </tbody>\n",
       "</table>\n",
       "</div>"
      ],
      "text/plain": [
       "                      doc_id           type     code  \\\n",
       "0  S0004-06142005000900016-1  PROCEDIMIENTO  bt41zzz   \n",
       "1  S0004-06142005000900016-1  PROCEDIMIENTO  bt41zzz   \n",
       "2  S0004-06142005000900016-1  PROCEDIMIENTO     ct13   \n",
       "3  S0004-06142005001000011-1  PROCEDIMIENTO  3e1m39z   \n",
       "7  S0004-06142005001000011-1  PROCEDIMIENTO     0270   \n",
       "\n",
       "                                                word start  end  \n",
       "0                            ecografía renal derecha   307  316  \n",
       "1                            ecografía renal derecha   348  361  \n",
       "2                                  gammagrafía renal   739  756  \n",
       "3                                diálisis peritoneal    95  114  \n",
       "7  angioplastia transluminal de la coronaria derecha   424  473  "
      ]
     },
     "execution_count": 40,
     "metadata": {},
     "output_type": "execute_result"
    }
   ],
   "source": [
    "df_codes_dev_ner.head()"
   ]
  },
  {
   "cell_type": "code",
   "execution_count": 41,
   "metadata": {},
   "outputs": [
    {
     "data": {
      "text/plain": [
       "(1540, 6)"
      ]
     },
     "execution_count": 41,
     "metadata": {},
     "output_type": "execute_result"
    }
   ],
   "source": [
    "df_codes_dev_ner.shape"
   ]
  },
  {
   "cell_type": "markdown",
   "metadata": {},
   "source": [
    "Now, using the character start-end positions of each sentence from the CodiEsp corpus (see `datasets/CodiEsp-Sentence-Split.ipynb`), we annotate the sentences with CIE-Procedimiento codes. Also, using XLM-R tokenizer, each sentence is converted into a sequence of subwords, which are further converted into vocabulary indices (input IDs) and attention mask arrays (XLM-R input tensors)."
   ]
  },
  {
   "cell_type": "code",
   "execution_count": 42,
   "metadata": {},
   "outputs": [],
   "source": [
    "# Sentence-Split information\n",
    "ss_corpus_path = \"../datasets/CodiEsp-SSplit-text_SE_All_Pos/\""
   ]
  },
  {
   "cell_type": "markdown",
   "metadata": {},
   "source": [
    "### Training corpus"
   ]
  },
  {
   "cell_type": "code",
   "execution_count": 43,
   "metadata": {},
   "outputs": [],
   "source": [
    "label_list = list(df_codes_train_dev[\"code\"])"
   ]
  },
  {
   "cell_type": "code",
   "execution_count": 44,
   "metadata": {},
   "outputs": [
    {
     "data": {
      "text/plain": [
       "2367"
      ]
     },
     "execution_count": 44,
     "metadata": {},
     "output_type": "execute_result"
    }
   ],
   "source": [
    "len(label_list)"
   ]
  },
  {
   "cell_type": "code",
   "execution_count": 45,
   "metadata": {},
   "outputs": [
    {
     "data": {
      "text/plain": [
       "727"
      ]
     },
     "execution_count": 45,
     "metadata": {},
     "output_type": "execute_result"
    }
   ],
   "source": [
    "len(set(label_list))"
   ]
  },
  {
   "cell_type": "code",
   "execution_count": 46,
   "metadata": {},
   "outputs": [
    {
     "data": {
      "text/plain": [
       "MultiLabelBinarizer()"
      ]
     },
     "execution_count": 46,
     "metadata": {},
     "output_type": "execute_result"
    }
   ],
   "source": [
    "from sklearn.preprocessing import MultiLabelBinarizer\n",
    "\n",
    "mlb_encoder = MultiLabelBinarizer()\n",
    "mlb_encoder.fit([label_list])"
   ]
  },
  {
   "cell_type": "code",
   "execution_count": 47,
   "metadata": {},
   "outputs": [],
   "source": [
    "# Number of distinct codes\n",
    "num_labels = len(mlb_encoder.classes_)"
   ]
  },
  {
   "cell_type": "code",
   "execution_count": 48,
   "metadata": {},
   "outputs": [
    {
     "data": {
      "text/plain": [
       "727"
      ]
     },
     "execution_count": 48,
     "metadata": {},
     "output_type": "execute_result"
    }
   ],
   "source": [
    "num_labels"
   ]
  },
  {
   "cell_type": "markdown",
   "metadata": {},
   "source": [
    "Only training texts that are annotated with CIE-Procedimiento codes are considered:"
   ]
  },
  {
   "cell_type": "code",
   "execution_count": 49,
   "metadata": {},
   "outputs": [
    {
     "data": {
      "text/plain": [
       "65"
      ]
     },
     "execution_count": 49,
     "metadata": {},
     "output_type": "execute_result"
    }
   ],
   "source": [
    "# Some train documents (texts) are not annotated \n",
    "len(set(df_text_train[\"doc_id\"]) - set(df_codes_train_ner[\"doc_id\"]))"
   ]
  },
  {
   "cell_type": "code",
   "execution_count": 50,
   "metadata": {},
   "outputs": [],
   "source": [
    "train_doc_list = sorted(set(df_codes_train_ner[\"doc_id\"]))"
   ]
  },
  {
   "cell_type": "code",
   "execution_count": 51,
   "metadata": {},
   "outputs": [
    {
     "data": {
      "text/plain": [
       "435"
      ]
     },
     "execution_count": 51,
     "metadata": {},
     "output_type": "execute_result"
    }
   ],
   "source": [
    "len(train_doc_list)"
   ]
  },
  {
   "cell_type": "code",
   "execution_count": 54,
   "metadata": {},
   "outputs": [],
   "source": [
    "# Sentence-Split data"
   ]
  },
  {
   "cell_type": "code",
   "execution_count": 52,
   "metadata": {},
   "outputs": [
    {
     "name": "stdout",
     "output_type": "stream",
     "text": [
      "CPU times: user 18.3 ms, sys: 0 ns, total: 18.3 ms\n",
      "Wall time: 17.5 ms\n"
     ]
    }
   ],
   "source": [
    "%%time\n",
    "ss_sub_corpus_path = ss_corpus_path + \"train/\"\n",
    "ss_files = [f for f in os.listdir(ss_sub_corpus_path) if os.path.isfile(ss_sub_corpus_path + f)]\n",
    "ss_dict_train = load_ss_files(ss_files, ss_sub_corpus_path)"
   ]
  },
  {
   "cell_type": "code",
   "execution_count": 53,
   "metadata": {},
   "outputs": [
    {
     "name": "stderr",
     "output_type": "stream",
     "text": [
      "100%|██████████| 435/435 [00:04<00:00, 95.27it/s] \n"
     ]
    },
    {
     "name": "stdout",
     "output_type": "stream",
     "text": [
      "CPU times: user 4.68 s, sys: 19.3 ms, total: 4.7 s\n",
      "Wall time: 4.67 s\n"
     ]
    }
   ],
   "source": [
    "%%time\n",
    "train_ind, train_att, train_y, train_frag, train_start_end_frag = ss_brute_force_create_frag_input_data(df_text=df_text_train, \n",
    "                                                  text_col=text_col, \n",
    "                                                  df_ann=df_codes_train_ner, doc_list=train_doc_list, ss_dict=ss_dict_train,\n",
    "                                                  tokenizer=tokenizer, sp_pb2=spt, lab_encoder=mlb_encoder, seq_len=SEQ_LEN)"
   ]
  },
  {
   "cell_type": "code",
   "execution_count": 57,
   "metadata": {},
   "outputs": [],
   "source": [
    "# Sanity check"
   ]
  },
  {
   "cell_type": "code",
   "execution_count": 54,
   "metadata": {},
   "outputs": [
    {
     "data": {
      "text/plain": [
       "(7013, 128)"
      ]
     },
     "execution_count": 54,
     "metadata": {},
     "output_type": "execute_result"
    }
   ],
   "source": [
    "train_ind.shape"
   ]
  },
  {
   "cell_type": "code",
   "execution_count": 55,
   "metadata": {},
   "outputs": [
    {
     "data": {
      "text/plain": [
       "(7013, 128)"
      ]
     },
     "execution_count": 55,
     "metadata": {},
     "output_type": "execute_result"
    }
   ],
   "source": [
    "train_att.shape"
   ]
  },
  {
   "cell_type": "code",
   "execution_count": 56,
   "metadata": {},
   "outputs": [
    {
     "data": {
      "text/plain": [
       "(7013, 727)"
      ]
     },
     "execution_count": 56,
     "metadata": {},
     "output_type": "execute_result"
    }
   ],
   "source": [
    "train_y.shape"
   ]
  },
  {
   "cell_type": "code",
   "execution_count": 57,
   "metadata": {},
   "outputs": [
    {
     "data": {
      "text/plain": [
       "435"
      ]
     },
     "execution_count": 57,
     "metadata": {},
     "output_type": "execute_result"
    }
   ],
   "source": [
    "len(train_frag)"
   ]
  },
  {
   "cell_type": "code",
   "execution_count": 58,
   "metadata": {},
   "outputs": [
    {
     "data": {
      "text/plain": [
       "7013"
      ]
     },
     "execution_count": 58,
     "metadata": {},
     "output_type": "execute_result"
    }
   ],
   "source": [
    "len(train_start_end_frag)"
   ]
  },
  {
   "cell_type": "code",
   "execution_count": 59,
   "metadata": {},
   "outputs": [
    {
     "data": {
      "text/plain": [
       "count    435.000000\n",
       "mean      16.121839\n",
       "std        7.762687\n",
       "min        4.000000\n",
       "25%       10.500000\n",
       "50%       15.000000\n",
       "75%       20.000000\n",
       "max       54.000000\n",
       "dtype: float64"
      ]
     },
     "execution_count": 59,
     "metadata": {},
     "output_type": "execute_result"
    }
   ],
   "source": [
    "# Check n_frag distribution across texts\n",
    "pd.Series(train_frag).describe()"
   ]
  },
  {
   "cell_type": "code",
   "execution_count": 60,
   "metadata": {},
   "outputs": [],
   "source": [
    "# Inspect a randomly selected text and its encoded version\n",
    "check_id = np.random.randint(low=0, high=len(train_doc_list), size=1)[0]"
   ]
  },
  {
   "cell_type": "code",
   "execution_count": 61,
   "metadata": {},
   "outputs": [
    {
     "data": {
      "text/plain": [
       "177"
      ]
     },
     "execution_count": 61,
     "metadata": {},
     "output_type": "execute_result"
    }
   ],
   "source": [
    "check_id"
   ]
  },
  {
   "cell_type": "code",
   "execution_count": 62,
   "metadata": {},
   "outputs": [
    {
     "data": {
      "text/plain": [
       "'S0365-66912007000200010-1'"
      ]
     },
     "execution_count": 62,
     "metadata": {},
     "output_type": "execute_result"
    }
   ],
   "source": [
    "train_doc_list[check_id]"
   ]
  },
  {
   "cell_type": "code",
   "execution_count": 63,
   "metadata": {
    "scrolled": true
   },
   "outputs": [
    {
     "data": {
      "text/plain": [
       "'Mujer de 45 años que es remitida desde el servicio de neurocirugía por pérdida de visión súbita bilateral tras cirugía de derivación ventrículoperitoneal de un higroma subdural temporal y absceso occipital craneal. Todo ello resultado de una complicación postquirúrgica subaguda. Quince días antes había sido intervenida de descompresión preventiva medular por Malformación de Arnold-Chiari I.\\nLa paciente contaba con una clínica de 16 años de evolución, con cefaleas de intensidad leve, inestabilidad, mareos rotatorios, vómitos autolimitados de duración variable y nistagmus vertical leve desde hacía un año. Éste último ayudó a la sospecha y diagnóstico de la malformación congénita, ya que el resto de su sintomatología la relacionaba con la colitis ulcerosa que sufría hacía años.\\nLa agudeza visual (AV) en la primera exploración fue de movimiento de manos en ambos ojos. Las reacciones pupilares fueron de 2+ sin defecto pupilar aferente relativo. Presentaba un nistagmus en sacudida hacia abajo de frecuencia alta y amplitud media. El fondo de ojo mostró hemorragia retrohialoidea premacular y vítrea bilateral, confirmada con tomografía óptica de coherencia (OCT) y ecografía ocular. Todos estos hechos fueron compatibles con ST.\\n\\nSe le realizó una hialoidectomía posterior en su ojo derecho (OD) previa instilación de colirio anestésico y uso de láser Nd:YAG 15 pulsos (rango de 4-7 mJ/pulso) en la parte más inferior del hematoma. La hialoides posterior se rompió y drenó inmediatamente sangre a la cavidad vítrea. Se opta por una actitud expectante en su ojo izquierdo (OI).\\nLa AV al año, tras varias revisiones con notable mejoría, era de 0,6 en el OD y 0,1 en el OI. La OCT reveló una membrana epirretiniana premacular de reciente aparición en su OI. La frecuencia del nistagmus bajó y la amplitud pasó a ser leve. El hemovítreo bilateral seguía en reabsorción de forma lenta y progresiva.\\nLa enferma rechazó cirugía ocular alguna, estando satisfecha con el resultado visual alcanzado.\\n\\n'"
      ]
     },
     "execution_count": 63,
     "metadata": {},
     "output_type": "execute_result"
    }
   ],
   "source": [
    "df_text_train[df_text_train[\"doc_id\"] == train_doc_list[check_id]][text_col].values[0]"
   ]
  },
  {
   "cell_type": "code",
   "execution_count": 64,
   "metadata": {},
   "outputs": [
    {
     "name": "stdout",
     "output_type": "stream",
     "text": [
      "[('0016',)] \n",
      "\n",
      "[()] \n",
      "\n",
      "[()] \n",
      "\n",
      "[()] \n",
      "\n",
      "[()] \n",
      "\n",
      "[()] \n",
      "\n",
      "[()] \n",
      "\n",
      "[('08j0xzz', '08j1xzz', 'b847zzz')] \n",
      "\n",
      "[()] \n",
      "\n",
      "[()] \n",
      "\n",
      "[()] \n",
      "\n",
      "[()] \n",
      "\n",
      "[()] \n",
      "\n",
      "[()] \n",
      "\n",
      "[()] \n",
      "\n",
      "[()] \n",
      "\n",
      "[()] \n",
      "\n"
     ]
    }
   ],
   "source": [
    "check_id_frag = sum(train_frag[:check_id])\n",
    "for i in range(check_id_frag, check_id_frag + train_frag[check_id]):\n",
    "    print(mlb_encoder.inverse_transform(np.array([train_y[i]])), \"\\n\")"
   ]
  },
  {
   "cell_type": "code",
   "execution_count": 65,
   "metadata": {},
   "outputs": [
    {
     "name": "stdout",
     "output_type": "stream",
     "text": [
      "[('▁Mu', (0, 2)), ('jer', (2, 5)), ('▁de', (5, 8)), ('▁45', (8, 11)), ('▁años', (11, 17)), ('▁que', (17, 21)), ('▁es', (21, 24)), ('▁remit', (24, 30)), ('ida', (30, 33)), ('▁desde', (33, 39)), ('▁el', (39, 42)), ('▁servicio', (42, 51)), ('▁de', (51, 54)), ('▁neuro', (54, 60)), ('ci', (60, 62)), ('rug', (62, 65)), ('ía', (65, 68)), ('▁por', (68, 72)), ('▁pérdida', (72, 81)), ('▁de', (81, 84)), ('▁visión', (84, 92)), ('▁sú', (92, 96)), ('bita', (96, 100)), ('▁bilateral', (100, 110)), ('▁tras', (110, 115)), ('▁cirugía', (115, 124)), ('▁de', (124, 127)), ('▁deriva', (127, 134)), ('ción', (134, 139)), ('▁vent', (139, 144)), ('rí', (144, 147)), ('culo', (147, 151)), ('peri', (151, 155)), ('tone', (155, 159)), ('al', (159, 161)), ('▁de', (161, 164)), ('▁un', (164, 167)), ('▁hi', (167, 170)), ('gro', (170, 173)), ('ma', (173, 175)), ('▁sub', (175, 179)), ('dur', (179, 182)), ('al', (182, 184)), ('▁temporal', (184, 193)), ('▁y', (193, 195)), ('▁abs', (195, 199)), ('ces', (199, 202)), ('o', (202, 203)), ('▁oc', (203, 206)), ('cipit', (206, 211)), ('al', (211, 213)), ('▁c', (213, 215)), ('rane', (215, 219)), ('al', (219, 221)), ('.', (221, 222))]\n",
      "\n",
      "\n",
      "[('▁Todo', (223, 227)), ('▁ello', (227, 232)), ('▁resultado', (232, 242)), ('▁de', (242, 245)), ('▁una', (245, 249)), ('▁complica', (249, 258)), ('ción', (258, 263)), ('▁post', (263, 268)), ('qui', (268, 271)), ('rú', (271, 274)), ('r', (274, 275)), ('gica', (275, 279)), ('▁sub', (279, 283)), ('a', (283, 284)), ('guda', (284, 288)), ('.', (288, 289))]\n",
      "\n",
      "\n",
      "[('▁Quin', (290, 294)), ('ce', (294, 296)), ('▁días', (296, 302)), ('▁antes', (302, 308)), ('▁había', (308, 315)), ('▁sido', (315, 320)), ('▁interven', (320, 329)), ('ida', (329, 332)), ('▁de', (332, 335)), ('▁des', (335, 339)), ('com', (339, 342)), ('presión', (342, 350)), ('▁preventiva', (350, 361)), ('▁med', (361, 365)), ('ular', (365, 369)), ('▁por', (369, 373)), ('▁Mal', (373, 377)), ('form', (377, 381)), ('ación', (381, 387)), ('▁de', (387, 390)), ('▁Arnold', (390, 397)), ('-', (397, 398)), ('Chi', (398, 401)), ('ari', (401, 404)), ('▁I', (404, 406)), ('.', (406, 407)), ('▁La', (407, 410)), ('▁paciente', (410, 419)), ('▁conta', (419, 425)), ('ba', (425, 427)), ('▁con', (427, 431)), ('▁una', (431, 435)), ('▁clínica', (435, 444)), ('▁de', (444, 447)), ('▁16', (447, 450)), ('▁años', (450, 456)), ('▁de', (456, 459)), ('▁evolución', (459, 470)), (',', (470, 471)), ('▁con', (471, 475)), ('▁ce', (475, 478)), ('fal', (478, 481)), ('e', (481, 482)), ('as', (482, 484)), ('▁de', (484, 487)), ('▁intens', (487, 494)), ('idad', (494, 498)), ('▁leve', (498, 503)), (',', (503, 504)), ('▁in', (504, 507)), ('est', (507, 510)), ('abilidad', (510, 518)), (',', (518, 519)), ('▁mare', (519, 524)), ('os', (524, 526)), ('▁rota', (526, 531)), ('torio', (531, 536)), ('s', (536, 537)), (',', (537, 538)), ('▁v', (538, 540)), ('óm', (540, 543)), ('itos', (543, 547)), ('▁auto', (547, 552)), ('limit', (552, 557)), ('ados', (557, 561)), ('▁de', (561, 564)), ('▁duración', (564, 574)), ('▁variable', (574, 583)), ('▁y', (583, 585)), ('▁ni', (585, 588)), ('stag', (588, 592)), ('mus', (592, 595)), ('▁vertical', (595, 604)), ('▁leve', (604, 609)), ('▁desde', (609, 615)), ('▁hacía', (615, 622)), ('▁un', (622, 625)), ('▁año', (625, 630)), ('.', (630, 631))]\n",
      "\n",
      "\n",
      "[('▁És', (632, 635)), ('te', (635, 637)), ('▁último', (637, 645)), ('▁ay', (645, 648)), ('u', (648, 649)), ('dó', (649, 652)), ('▁a', (652, 654)), ('▁la', (654, 657)), ('▁so', (657, 660)), ('spec', (660, 664)), ('ha', (664, 666)), ('▁y', (666, 668)), ('▁diagnóstico', (668, 681)), ('▁de', (681, 684)), ('▁la', (684, 687)), ('▁mal', (687, 691)), ('form', (691, 695)), ('ación', (695, 701)), ('▁con', (701, 705)), ('gén', (705, 709)), ('ita', (709, 712)), (',', (712, 713)), ('▁ya', (713, 716)), ('▁que', (716, 720)), ('▁el', (720, 723)), ('▁resto', (723, 729)), ('▁de', (729, 732)), ('▁su', (732, 735)), ('▁sin', (735, 739)), ('tomat', (739, 744)), ('ología', (744, 751)), ('▁la', (751, 754)), ('▁relaciona', (754, 764)), ('ba', (764, 766)), ('▁con', (766, 770)), ('▁la', (770, 773)), ('▁col', (773, 777)), ('itis', (777, 781)), ('▁ul', (781, 784)), ('cer', (784, 787)), ('osa', (787, 790)), ('▁que', (790, 794)), ('▁su', (794, 797)), ('frí', (797, 801)), ('a', (801, 802)), ('▁hacía', (802, 809)), ('▁años', (809, 815)), ('.', (815, 816))]\n",
      "\n",
      "\n",
      "[('▁La', (817, 819)), ('▁ag', (819, 822)), ('ude', (822, 825)), ('za', (825, 827)), ('▁visual', (827, 834)), ('▁(', (834, 836)), ('AV', (836, 838)), (')', (838, 839)), ('▁en', (839, 842)), ('▁la', (842, 845)), ('▁primera', (845, 853)), ('▁explora', (853, 861)), ('ción', (861, 866)), ('▁fue', (866, 870)), ('▁de', (870, 873)), ('▁movimiento', (873, 884)), ('▁de', (884, 887)), ('▁manos', (887, 893)), ('▁en', (893, 896)), ('▁ambos', (896, 902)), ('▁ojos', (902, 907)), ('.', (907, 908))]\n",
      "\n",
      "\n",
      "[('▁Las', (909, 912)), ('▁rea', (912, 916)), ('cciones', (916, 923)), ('▁pupil', (923, 929)), ('ares', (929, 933)), ('▁fueron', (933, 940)), ('▁de', (940, 943)), ('▁2', (943, 945)), ('+', (945, 946)), ('▁sin', (946, 950)), ('▁defect', (950, 957)), ('o', (957, 958)), ('▁pupil', (958, 964)), ('ar', (964, 966)), ('▁aferente', (966, 975)), ('▁relativo', (975, 984)), ('.', (984, 985))]\n",
      "\n",
      "\n",
      "[('▁Presenta', (986, 994)), ('ba', (994, 996)), ('▁un', (996, 999)), ('▁ni', (999, 1002)), ('stag', (1002, 1006)), ('mus', (1006, 1009)), ('▁en', (1009, 1012)), ('▁sa', (1012, 1015)), ('cu', (1015, 1017)), ('dida', (1017, 1021)), ('▁hacia', (1021, 1027)), ('▁abajo', (1027, 1033)), ('▁de', (1033, 1036)), ('▁frecuencia', (1036, 1047)), ('▁alta', (1047, 1052)), ('▁y', (1052, 1054)), ('▁amplitud', (1054, 1063)), ('▁media', (1063, 1069)), ('.', (1069, 1070))]\n",
      "\n",
      "\n",
      "[('▁El', (1071, 1073)), ('▁fondo', (1073, 1079)), ('▁de', (1079, 1082)), ('▁o', (1082, 1084)), ('jo', (1084, 1086)), ('▁most', (1086, 1091)), ('ró', (1091, 1094)), ('▁hem', (1094, 1098)), ('orra', (1098, 1102)), ('gia', (1102, 1105)), ('▁retro', (1105, 1111)), ('hi', (1111, 1113)), ('alo', (1113, 1116)), ('idea', (1116, 1120)), ('▁prema', (1120, 1126)), ('cular', (1126, 1131)), ('▁y', (1131, 1133)), ('▁', (1133, 1134)), ('vít', (1134, 1138)), ('rea', (1138, 1141)), ('▁bilateral', (1141, 1151)), (',', (1151, 1152)), ('▁confirma', (1152, 1161)), ('da', (1161, 1163)), ('▁con', (1163, 1167)), ('▁tom', (1167, 1171)), ('ografía', (1171, 1179)), ('▁ó', (1179, 1182)), ('ptica', (1182, 1187)), ('▁de', (1187, 1190)), ('▁co', (1190, 1193)), ('her', (1193, 1196)), ('encia', (1196, 1201)), ('▁(', (1201, 1203)), ('OC', (1203, 1205)), ('T', (1205, 1206)), (')', (1206, 1207)), ('▁y', (1207, 1209)), ('▁ec', (1209, 1212)), ('ografía', (1212, 1220)), ('▁o', (1220, 1222)), ('cular', (1222, 1227)), ('.', (1227, 1228))]\n",
      "\n",
      "\n",
      "[('▁Todos', (1229, 1234)), ('▁estos', (1234, 1240)), ('▁hechos', (1240, 1247)), ('▁fueron', (1247, 1254)), ('▁compatible', (1254, 1265)), ('s', (1265, 1266)), ('▁con', (1266, 1270)), ('▁ST', (1270, 1273)), ('.', (1273, 1274))]\n",
      "\n",
      "\n",
      "[('▁Se', (1276, 1278)), ('▁le', (1278, 1281)), ('▁realizó', (1281, 1290)), ('▁una', (1290, 1294)), ('▁hi', (1294, 1297)), ('alo', (1297, 1300)), ('id', (1300, 1302)), ('ecto', (1302, 1306)), ('m', (1306, 1307)), ('ía', (1307, 1310)), ('▁posterior', (1310, 1320)), ('▁en', (1320, 1323)), ('▁su', (1323, 1326)), ('▁o', (1326, 1328)), ('jo', (1328, 1330)), ('▁derecho', (1330, 1338)), ('▁(', (1338, 1340)), ('OD', (1340, 1342)), (')', (1342, 1343)), ('▁previa', (1343, 1350)), ('▁in', (1350, 1353)), ('stil', (1353, 1357)), ('ación', (1357, 1363)), ('▁de', (1363, 1366)), ('▁', (1366, 1367)), ('coli', (1367, 1371)), ('rio', (1371, 1374)), ('▁an', (1374, 1377)), ('est', (1377, 1380)), ('és', (1380, 1383)), ('ico', (1383, 1386)), ('▁y', (1386, 1388)), ('▁uso', (1388, 1392)), ('▁de', (1392, 1395)), ('▁lá', (1395, 1399)), ('ser', (1399, 1402)), ('▁N', (1402, 1404)), ('d', (1404, 1405)), (':', (1405, 1406)), ('YA', (1406, 1408)), ('G', (1408, 1409)), ('▁15', (1409, 1412)), ('▁puls', (1412, 1417)), ('os', (1417, 1419)), ('▁(', (1419, 1421)), ('rang', (1421, 1425)), ('o', (1425, 1426)), ('▁de', (1426, 1429)), ('▁4', (1429, 1431)), ('-7', (1431, 1433)), ('▁m', (1433, 1435)), ('J', (1435, 1436)), ('/', (1436, 1437)), ('puls', (1437, 1441)), ('o', (1441, 1442)), (')', (1442, 1443)), ('▁en', (1443, 1446)), ('▁la', (1446, 1449)), ('▁parte', (1449, 1455)), ('▁más', (1455, 1460)), ('▁inferior', (1460, 1469)), ('▁del', (1469, 1473)), ('▁hemat', (1473, 1479)), ('oma', (1479, 1482)), ('.', (1482, 1483))]\n",
      "\n",
      "\n",
      "[('▁La', (1484, 1486)), ('▁hi', (1486, 1489)), ('alo', (1489, 1492)), ('ides', (1492, 1496)), ('▁posterior', (1496, 1506)), ('▁se', (1506, 1509)), ('▁romp', (1509, 1514)), ('ió', (1514, 1517)), ('▁y', (1517, 1519)), ('▁dre', (1519, 1523)), ('nó', (1523, 1526)), ('▁inmediatamente', (1526, 1541)), ('▁sangre', (1541, 1548)), ('▁a', (1548, 1550)), ('▁la', (1550, 1553)), ('▁cavi', (1553, 1558)), ('dad', (1558, 1561)), ('▁', (1561, 1562)), ('vít', (1562, 1566)), ('rea', (1566, 1569)), ('.', (1569, 1570))]\n",
      "\n",
      "\n",
      "[('▁Se', (1571, 1573)), ('▁op', (1573, 1576)), ('ta', (1576, 1578)), ('▁por', (1578, 1582)), ('▁una', (1582, 1586)), ('▁actitud', (1586, 1594)), ('▁expect', (1594, 1601)), ('ante', (1601, 1605)), ('▁en', (1605, 1608)), ('▁su', (1608, 1611)), ('▁o', (1611, 1613)), ('jo', (1613, 1615)), ('▁iz', (1615, 1618)), ('quier', (1618, 1623)), ('do', (1623, 1625)), ('▁(', (1625, 1627)), ('OI', (1627, 1629)), (').', (1629, 1631))]\n",
      "\n",
      "\n",
      "[('▁La', (1632, 1634)), ('▁AV', (1634, 1637)), ('▁al', (1637, 1640)), ('▁año', (1640, 1645)), (',', (1645, 1646)), ('▁tras', (1646, 1651)), ('▁varias', (1651, 1658)), ('▁revision', (1658, 1667)), ('es', (1667, 1669)), ('▁con', (1669, 1673)), ('▁notable', (1673, 1681)), ('▁mejor', (1681, 1687)), ('ía', (1687, 1690)), (',', (1690, 1691)), ('▁era', (1691, 1695)), ('▁de', (1695, 1698)), ('▁0,6', (1698, 1702)), ('▁en', (1702, 1705)), ('▁el', (1705, 1708)), ('▁OD', (1708, 1711)), ('▁y', (1711, 1713)), ('▁0,1', (1713, 1717)), ('▁en', (1717, 1720)), ('▁el', (1720, 1723)), ('▁', (1723, 1724)), ('OI', (1724, 1726)), ('.', (1726, 1727))]\n",
      "\n",
      "\n",
      "[('▁La', (1728, 1730)), ('▁O', (1730, 1732)), ('CT', (1732, 1734)), ('▁re', (1734, 1737)), ('ve', (1737, 1739)), ('ló', (1739, 1742)), ('▁una', (1742, 1746)), ('▁membran', (1746, 1754)), ('a', (1754, 1755)), ('▁epi', (1755, 1759)), ('rre', (1759, 1762)), ('tin', (1762, 1765)), ('iana', (1765, 1769)), ('▁prema', (1769, 1775)), ('cular', (1775, 1780)), ('▁de', (1780, 1783)), ('▁reciente', (1783, 1792)), ('▁aparición', (1792, 1803)), ('▁en', (1803, 1806)), ('▁su', (1806, 1809)), ('▁', (1809, 1810)), ('OI', (1810, 1812)), ('.', (1812, 1813))]\n",
      "\n",
      "\n",
      "[('▁La', (1814, 1816)), ('▁frecuencia', (1816, 1827)), ('▁del', (1827, 1831)), ('▁ni', (1831, 1834)), ('stag', (1834, 1838)), ('mus', (1838, 1841)), ('▁ba', (1841, 1844)), ('jó', (1844, 1847)), ('▁y', (1847, 1849)), ('▁la', (1849, 1852)), ('▁amplitud', (1852, 1861)), ('▁pas', (1861, 1865)), ('ó', (1865, 1867)), ('▁a', (1867, 1869)), ('▁ser', (1869, 1873)), ('▁leve', (1873, 1878)), ('.', (1878, 1879))]\n",
      "\n",
      "\n",
      "[('▁El', (1880, 1882)), ('▁hem', (1882, 1886)), ('o', (1886, 1887)), ('vít', (1887, 1891)), ('reo', (1891, 1894)), ('▁bilateral', (1894, 1904)), ('▁', (1904, 1905)), ('segu', (1905, 1909)), ('ía', (1909, 1912)), ('▁en', (1912, 1915)), ('▁re', (1915, 1918)), ('ab', (1918, 1920)), ('sor', (1920, 1923)), ('ción', (1923, 1928)), ('▁de', (1928, 1931)), ('▁forma', (1931, 1937)), ('▁lenta', (1937, 1943)), ('▁y', (1943, 1945)), ('▁progresiv', (1945, 1955)), ('a', (1955, 1956)), ('.', (1956, 1957))]\n",
      "\n",
      "\n",
      "[('▁La', (1958, 1960)), ('▁en', (1960, 1963)), ('ferm', (1963, 1967)), ('a', (1967, 1968)), ('▁re', (1968, 1971)), ('cha', (1971, 1974)), ('zó', (1974, 1977)), ('▁cirugía', (1977, 1986)), ('▁o', (1986, 1988)), ('cular', (1988, 1993)), ('▁alguna', (1993, 2000)), (',', (2000, 2001)), ('▁esta', (2001, 2006)), ('ndo', (2006, 2009)), ('▁satisf', (2009, 2016)), ('e', (2016, 2017)), ('cha', (2017, 2020)), ('▁con', (2020, 2024)), ('▁el', (2024, 2027)), ('▁resultado', (2027, 2037)), ('▁visual', (2037, 2044)), ('▁alcanza', (2044, 2052)), ('do', (2052, 2054)), ('.', (2054, 2055))]\n",
      "\n",
      "\n"
     ]
    }
   ],
   "source": [
    "for i in range(check_id_frag, check_id_frag + train_frag[check_id]):\n",
    "    print(list(zip([tokenizer._convert_id_to_token(int(ind)) for ind in train_ind[i]][1:len(train_start_end_frag[i])+1], \n",
    "               train_start_end_frag[i])))\n",
    "    print(\"\\n\")"
   ]
  },
  {
   "cell_type": "code",
   "execution_count": 66,
   "metadata": {},
   "outputs": [
    {
     "name": "stdout",
     "output_type": "stream",
     "text": [
      "<s> ▁Mu jer ▁de ▁45 ▁años ▁que ▁es ▁remit ida ▁desde ▁el ▁servicio ▁de ▁neuro ci rug ía ▁por ▁pérdida ▁de ▁visión ▁sú bita ▁bilateral ▁tras ▁cirugía ▁de ▁deriva ción ▁vent rí culo peri tone al ▁de ▁un ▁hi gro ma ▁sub dur al ▁temporal ▁y ▁abs ces o ▁oc cipit al ▁c rane al . </s> <pad> <pad> <pad> <pad> <pad> <pad> <pad> <pad> <pad> <pad> <pad> <pad> <pad> <pad> <pad> <pad> <pad> <pad> <pad> <pad> <pad> <pad> <pad> <pad> <pad> <pad> <pad> <pad> <pad> <pad> <pad> <pad> <pad> <pad> <pad> <pad> <pad> <pad> <pad> <pad> <pad> <pad> <pad> <pad> <pad> <pad> <pad> <pad> <pad> <pad> <pad> <pad> <pad> <pad> <pad> <pad> <pad> <pad> <pad> <pad> <pad> <pad> <pad> <pad> <pad> <pad> <pad> <pad> <pad> <pad> <pad> \n",
      "\n",
      "<s> ▁Todo ▁ello ▁resultado ▁de ▁una ▁complica ción ▁post qui rú r gica ▁sub a guda . </s> <pad> <pad> <pad> <pad> <pad> <pad> <pad> <pad> <pad> <pad> <pad> <pad> <pad> <pad> <pad> <pad> <pad> <pad> <pad> <pad> <pad> <pad> <pad> <pad> <pad> <pad> <pad> <pad> <pad> <pad> <pad> <pad> <pad> <pad> <pad> <pad> <pad> <pad> <pad> <pad> <pad> <pad> <pad> <pad> <pad> <pad> <pad> <pad> <pad> <pad> <pad> <pad> <pad> <pad> <pad> <pad> <pad> <pad> <pad> <pad> <pad> <pad> <pad> <pad> <pad> <pad> <pad> <pad> <pad> <pad> <pad> <pad> <pad> <pad> <pad> <pad> <pad> <pad> <pad> <pad> <pad> <pad> <pad> <pad> <pad> <pad> <pad> <pad> <pad> <pad> <pad> <pad> <pad> <pad> <pad> <pad> <pad> <pad> <pad> <pad> <pad> <pad> <pad> <pad> <pad> <pad> <pad> <pad> <pad> <pad> \n",
      "\n",
      "<s> ▁Quin ce ▁días ▁antes ▁había ▁sido ▁interven ida ▁de ▁des com presión ▁preventiva ▁med ular ▁por ▁Mal form ación ▁de ▁Arnold - Chi ari ▁I . ▁La ▁paciente ▁conta ba ▁con ▁una ▁clínica ▁de ▁16 ▁años ▁de ▁evolución , ▁con ▁ce fal e as ▁de ▁intens idad ▁leve , ▁in est abilidad , ▁mare os ▁rota torio s , ▁v óm itos ▁auto limit ados ▁de ▁duración ▁variable ▁y ▁ni stag mus ▁vertical ▁leve ▁desde ▁hacía ▁un ▁año . </s> <pad> <pad> <pad> <pad> <pad> <pad> <pad> <pad> <pad> <pad> <pad> <pad> <pad> <pad> <pad> <pad> <pad> <pad> <pad> <pad> <pad> <pad> <pad> <pad> <pad> <pad> <pad> <pad> <pad> <pad> <pad> <pad> <pad> <pad> <pad> <pad> <pad> <pad> <pad> <pad> <pad> <pad> <pad> <pad> <pad> <pad> <pad> \n",
      "\n",
      "<s> ▁És te ▁último ▁ay u dó ▁a ▁la ▁so spec ha ▁y ▁diagnóstico ▁de ▁la ▁mal form ación ▁con gén ita , ▁ya ▁que ▁el ▁resto ▁de ▁su ▁sin tomat ología ▁la ▁relaciona ba ▁con ▁la ▁col itis ▁ul cer osa ▁que ▁su frí a ▁hacía ▁años . </s> <pad> <pad> <pad> <pad> <pad> <pad> <pad> <pad> <pad> <pad> <pad> <pad> <pad> <pad> <pad> <pad> <pad> <pad> <pad> <pad> <pad> <pad> <pad> <pad> <pad> <pad> <pad> <pad> <pad> <pad> <pad> <pad> <pad> <pad> <pad> <pad> <pad> <pad> <pad> <pad> <pad> <pad> <pad> <pad> <pad> <pad> <pad> <pad> <pad> <pad> <pad> <pad> <pad> <pad> <pad> <pad> <pad> <pad> <pad> <pad> <pad> <pad> <pad> <pad> <pad> <pad> <pad> <pad> <pad> <pad> <pad> <pad> <pad> <pad> <pad> <pad> <pad> <pad> \n",
      "\n",
      "<s> ▁La ▁ag ude za ▁visual ▁( AV ) ▁en ▁la ▁primera ▁explora ción ▁fue ▁de ▁movimiento ▁de ▁manos ▁en ▁ambos ▁ojos . </s> <pad> <pad> <pad> <pad> <pad> <pad> <pad> <pad> <pad> <pad> <pad> <pad> <pad> <pad> <pad> <pad> <pad> <pad> <pad> <pad> <pad> <pad> <pad> <pad> <pad> <pad> <pad> <pad> <pad> <pad> <pad> <pad> <pad> <pad> <pad> <pad> <pad> <pad> <pad> <pad> <pad> <pad> <pad> <pad> <pad> <pad> <pad> <pad> <pad> <pad> <pad> <pad> <pad> <pad> <pad> <pad> <pad> <pad> <pad> <pad> <pad> <pad> <pad> <pad> <pad> <pad> <pad> <pad> <pad> <pad> <pad> <pad> <pad> <pad> <pad> <pad> <pad> <pad> <pad> <pad> <pad> <pad> <pad> <pad> <pad> <pad> <pad> <pad> <pad> <pad> <pad> <pad> <pad> <pad> <pad> <pad> <pad> <pad> <pad> <pad> <pad> <pad> <pad> <pad> \n",
      "\n",
      "<s> ▁Las ▁rea cciones ▁pupil ares ▁fueron ▁de ▁2 + ▁sin ▁defect o ▁pupil ar ▁aferente ▁relativo . </s> <pad> <pad> <pad> <pad> <pad> <pad> <pad> <pad> <pad> <pad> <pad> <pad> <pad> <pad> <pad> <pad> <pad> <pad> <pad> <pad> <pad> <pad> <pad> <pad> <pad> <pad> <pad> <pad> <pad> <pad> <pad> <pad> <pad> <pad> <pad> <pad> <pad> <pad> <pad> <pad> <pad> <pad> <pad> <pad> <pad> <pad> <pad> <pad> <pad> <pad> <pad> <pad> <pad> <pad> <pad> <pad> <pad> <pad> <pad> <pad> <pad> <pad> <pad> <pad> <pad> <pad> <pad> <pad> <pad> <pad> <pad> <pad> <pad> <pad> <pad> <pad> <pad> <pad> <pad> <pad> <pad> <pad> <pad> <pad> <pad> <pad> <pad> <pad> <pad> <pad> <pad> <pad> <pad> <pad> <pad> <pad> <pad> <pad> <pad> <pad> <pad> <pad> <pad> <pad> <pad> <pad> <pad> <pad> <pad> \n",
      "\n",
      "<s> ▁Presenta ba ▁un ▁ni stag mus ▁en ▁sa cu dida ▁hacia ▁abajo ▁de ▁frecuencia ▁alta ▁y ▁amplitud ▁media . </s> <pad> <pad> <pad> <pad> <pad> <pad> <pad> <pad> <pad> <pad> <pad> <pad> <pad> <pad> <pad> <pad> <pad> <pad> <pad> <pad> <pad> <pad> <pad> <pad> <pad> <pad> <pad> <pad> <pad> <pad> <pad> <pad> <pad> <pad> <pad> <pad> <pad> <pad> <pad> <pad> <pad> <pad> <pad> <pad> <pad> <pad> <pad> <pad> <pad> <pad> <pad> <pad> <pad> <pad> <pad> <pad> <pad> <pad> <pad> <pad> <pad> <pad> <pad> <pad> <pad> <pad> <pad> <pad> <pad> <pad> <pad> <pad> <pad> <pad> <pad> <pad> <pad> <pad> <pad> <pad> <pad> <pad> <pad> <pad> <pad> <pad> <pad> <pad> <pad> <pad> <pad> <pad> <pad> <pad> <pad> <pad> <pad> <pad> <pad> <pad> <pad> <pad> <pad> <pad> <pad> <pad> <pad> \n",
      "\n",
      "<s> ▁El ▁fondo ▁de ▁o jo ▁most ró ▁hem orra gia ▁retro hi alo idea ▁prema cular ▁y ▁ vít rea ▁bilateral , ▁confirma da ▁con ▁tom ografía ▁ó ptica ▁de ▁co her encia ▁( OC T ) ▁y ▁ec ografía ▁o cular . </s> <pad> <pad> <pad> <pad> <pad> <pad> <pad> <pad> <pad> <pad> <pad> <pad> <pad> <pad> <pad> <pad> <pad> <pad> <pad> <pad> <pad> <pad> <pad> <pad> <pad> <pad> <pad> <pad> <pad> <pad> <pad> <pad> <pad> <pad> <pad> <pad> <pad> <pad> <pad> <pad> <pad> <pad> <pad> <pad> <pad> <pad> <pad> <pad> <pad> <pad> <pad> <pad> <pad> <pad> <pad> <pad> <pad> <pad> <pad> <pad> <pad> <pad> <pad> <pad> <pad> <pad> <pad> <pad> <pad> <pad> <pad> <pad> <pad> <pad> <pad> <pad> <pad> <pad> <pad> <pad> <pad> <pad> <pad> \n",
      "\n",
      "<s> ▁Todos ▁estos ▁hechos ▁fueron ▁compatible s ▁con ▁ST . </s> <pad> <pad> <pad> <pad> <pad> <pad> <pad> <pad> <pad> <pad> <pad> <pad> <pad> <pad> <pad> <pad> <pad> <pad> <pad> <pad> <pad> <pad> <pad> <pad> <pad> <pad> <pad> <pad> <pad> <pad> <pad> <pad> <pad> <pad> <pad> <pad> <pad> <pad> <pad> <pad> <pad> <pad> <pad> <pad> <pad> <pad> <pad> <pad> <pad> <pad> <pad> <pad> <pad> <pad> <pad> <pad> <pad> <pad> <pad> <pad> <pad> <pad> <pad> <pad> <pad> <pad> <pad> <pad> <pad> <pad> <pad> <pad> <pad> <pad> <pad> <pad> <pad> <pad> <pad> <pad> <pad> <pad> <pad> <pad> <pad> <pad> <pad> <pad> <pad> <pad> <pad> <pad> <pad> <pad> <pad> <pad> <pad> <pad> <pad> <pad> <pad> <pad> <pad> <pad> <pad> <pad> <pad> <pad> <pad> <pad> <pad> <pad> <pad> <pad> <pad> <pad> <pad> \n",
      "\n",
      "<s> ▁Se ▁le ▁realizó ▁una ▁hi alo id ecto m ía ▁posterior ▁en ▁su ▁o jo ▁derecho ▁( OD ) ▁previa ▁in stil ación ▁de ▁ coli rio ▁an est és ico ▁y ▁uso ▁de ▁lá ser ▁N d : YA G ▁15 ▁puls os ▁( rang o ▁de ▁4 -7 ▁m J / puls o ) ▁en ▁la ▁parte ▁más ▁inferior ▁del ▁hemat oma . </s> <pad> <pad> <pad> <pad> <pad> <pad> <pad> <pad> <pad> <pad> <pad> <pad> <pad> <pad> <pad> <pad> <pad> <pad> <pad> <pad> <pad> <pad> <pad> <pad> <pad> <pad> <pad> <pad> <pad> <pad> <pad> <pad> <pad> <pad> <pad> <pad> <pad> <pad> <pad> <pad> <pad> <pad> <pad> <pad> <pad> <pad> <pad> <pad> <pad> <pad> <pad> <pad> <pad> <pad> <pad> <pad> <pad> <pad> <pad> <pad> <pad> \n",
      "\n",
      "<s> ▁La ▁hi alo ides ▁posterior ▁se ▁romp ió ▁y ▁dre nó ▁inmediatamente ▁sangre ▁a ▁la ▁cavi dad ▁ vít rea . </s> <pad> <pad> <pad> <pad> <pad> <pad> <pad> <pad> <pad> <pad> <pad> <pad> <pad> <pad> <pad> <pad> <pad> <pad> <pad> <pad> <pad> <pad> <pad> <pad> <pad> <pad> <pad> <pad> <pad> <pad> <pad> <pad> <pad> <pad> <pad> <pad> <pad> <pad> <pad> <pad> <pad> <pad> <pad> <pad> <pad> <pad> <pad> <pad> <pad> <pad> <pad> <pad> <pad> <pad> <pad> <pad> <pad> <pad> <pad> <pad> <pad> <pad> <pad> <pad> <pad> <pad> <pad> <pad> <pad> <pad> <pad> <pad> <pad> <pad> <pad> <pad> <pad> <pad> <pad> <pad> <pad> <pad> <pad> <pad> <pad> <pad> <pad> <pad> <pad> <pad> <pad> <pad> <pad> <pad> <pad> <pad> <pad> <pad> <pad> <pad> <pad> <pad> <pad> <pad> <pad> \n",
      "\n",
      "<s> ▁Se ▁op ta ▁por ▁una ▁actitud ▁expect ante ▁en ▁su ▁o jo ▁iz quier do ▁( OI ). </s> <pad> <pad> <pad> <pad> <pad> <pad> <pad> <pad> <pad> <pad> <pad> <pad> <pad> <pad> <pad> <pad> <pad> <pad> <pad> <pad> <pad> <pad> <pad> <pad> <pad> <pad> <pad> <pad> <pad> <pad> <pad> <pad> <pad> <pad> <pad> <pad> <pad> <pad> <pad> <pad> <pad> <pad> <pad> <pad> <pad> <pad> <pad> <pad> <pad> <pad> <pad> <pad> <pad> <pad> <pad> <pad> <pad> <pad> <pad> <pad> <pad> <pad> <pad> <pad> <pad> <pad> <pad> <pad> <pad> <pad> <pad> <pad> <pad> <pad> <pad> <pad> <pad> <pad> <pad> <pad> <pad> <pad> <pad> <pad> <pad> <pad> <pad> <pad> <pad> <pad> <pad> <pad> <pad> <pad> <pad> <pad> <pad> <pad> <pad> <pad> <pad> <pad> <pad> <pad> <pad> <pad> <pad> <pad> \n",
      "\n",
      "<s> ▁La ▁AV ▁al ▁año , ▁tras ▁varias ▁revision es ▁con ▁notable ▁mejor ía , ▁era ▁de ▁0,6 ▁en ▁el ▁OD ▁y ▁0,1 ▁en ▁el ▁ OI . </s> <pad> <pad> <pad> <pad> <pad> <pad> <pad> <pad> <pad> <pad> <pad> <pad> <pad> <pad> <pad> <pad> <pad> <pad> <pad> <pad> <pad> <pad> <pad> <pad> <pad> <pad> <pad> <pad> <pad> <pad> <pad> <pad> <pad> <pad> <pad> <pad> <pad> <pad> <pad> <pad> <pad> <pad> <pad> <pad> <pad> <pad> <pad> <pad> <pad> <pad> <pad> <pad> <pad> <pad> <pad> <pad> <pad> <pad> <pad> <pad> <pad> <pad> <pad> <pad> <pad> <pad> <pad> <pad> <pad> <pad> <pad> <pad> <pad> <pad> <pad> <pad> <pad> <pad> <pad> <pad> <pad> <pad> <pad> <pad> <pad> <pad> <pad> <pad> <pad> <pad> <pad> <pad> <pad> <pad> <pad> <pad> <pad> <pad> <pad> \n",
      "\n",
      "<s> ▁La ▁O CT ▁re ve ló ▁una ▁membran a ▁epi rre tin iana ▁prema cular ▁de ▁reciente ▁aparición ▁en ▁su ▁ OI . </s> <pad> <pad> <pad> <pad> <pad> <pad> <pad> <pad> <pad> <pad> <pad> <pad> <pad> <pad> <pad> <pad> <pad> <pad> <pad> <pad> <pad> <pad> <pad> <pad> <pad> <pad> <pad> <pad> <pad> <pad> <pad> <pad> <pad> <pad> <pad> <pad> <pad> <pad> <pad> <pad> <pad> <pad> <pad> <pad> <pad> <pad> <pad> <pad> <pad> <pad> <pad> <pad> <pad> <pad> <pad> <pad> <pad> <pad> <pad> <pad> <pad> <pad> <pad> <pad> <pad> <pad> <pad> <pad> <pad> <pad> <pad> <pad> <pad> <pad> <pad> <pad> <pad> <pad> <pad> <pad> <pad> <pad> <pad> <pad> <pad> <pad> <pad> <pad> <pad> <pad> <pad> <pad> <pad> <pad> <pad> <pad> <pad> <pad> <pad> <pad> <pad> <pad> <pad> \n",
      "\n",
      "<s> ▁La ▁frecuencia ▁del ▁ni stag mus ▁ba jó ▁y ▁la ▁amplitud ▁pas ó ▁a ▁ser ▁leve . </s> <pad> <pad> <pad> <pad> <pad> <pad> <pad> <pad> <pad> <pad> <pad> <pad> <pad> <pad> <pad> <pad> <pad> <pad> <pad> <pad> <pad> <pad> <pad> <pad> <pad> <pad> <pad> <pad> <pad> <pad> <pad> <pad> <pad> <pad> <pad> <pad> <pad> <pad> <pad> <pad> <pad> <pad> <pad> <pad> <pad> <pad> <pad> <pad> <pad> <pad> <pad> <pad> <pad> <pad> <pad> <pad> <pad> <pad> <pad> <pad> <pad> <pad> <pad> <pad> <pad> <pad> <pad> <pad> <pad> <pad> <pad> <pad> <pad> <pad> <pad> <pad> <pad> <pad> <pad> <pad> <pad> <pad> <pad> <pad> <pad> <pad> <pad> <pad> <pad> <pad> <pad> <pad> <pad> <pad> <pad> <pad> <pad> <pad> <pad> <pad> <pad> <pad> <pad> <pad> <pad> <pad> <pad> <pad> <pad> \n",
      "\n",
      "<s> ▁El ▁hem o vít reo ▁bilateral ▁ segu ía ▁en ▁re ab sor ción ▁de ▁forma ▁lenta ▁y ▁progresiv a . </s> <pad> <pad> <pad> <pad> <pad> <pad> <pad> <pad> <pad> <pad> <pad> <pad> <pad> <pad> <pad> <pad> <pad> <pad> <pad> <pad> <pad> <pad> <pad> <pad> <pad> <pad> <pad> <pad> <pad> <pad> <pad> <pad> <pad> <pad> <pad> <pad> <pad> <pad> <pad> <pad> <pad> <pad> <pad> <pad> <pad> <pad> <pad> <pad> <pad> <pad> <pad> <pad> <pad> <pad> <pad> <pad> <pad> <pad> <pad> <pad> <pad> <pad> <pad> <pad> <pad> <pad> <pad> <pad> <pad> <pad> <pad> <pad> <pad> <pad> <pad> <pad> <pad> <pad> <pad> <pad> <pad> <pad> <pad> <pad> <pad> <pad> <pad> <pad> <pad> <pad> <pad> <pad> <pad> <pad> <pad> <pad> <pad> <pad> <pad> <pad> <pad> <pad> <pad> <pad> <pad> \n",
      "\n",
      "<s> ▁La ▁en ferm a ▁re cha zó ▁cirugía ▁o cular ▁alguna , ▁esta ndo ▁satisf e cha ▁con ▁el ▁resultado ▁visual ▁alcanza do . </s> <pad> <pad> <pad> <pad> <pad> <pad> <pad> <pad> <pad> <pad> <pad> <pad> <pad> <pad> <pad> <pad> <pad> <pad> <pad> <pad> <pad> <pad> <pad> <pad> <pad> <pad> <pad> <pad> <pad> <pad> <pad> <pad> <pad> <pad> <pad> <pad> <pad> <pad> <pad> <pad> <pad> <pad> <pad> <pad> <pad> <pad> <pad> <pad> <pad> <pad> <pad> <pad> <pad> <pad> <pad> <pad> <pad> <pad> <pad> <pad> <pad> <pad> <pad> <pad> <pad> <pad> <pad> <pad> <pad> <pad> <pad> <pad> <pad> <pad> <pad> <pad> <pad> <pad> <pad> <pad> <pad> <pad> <pad> <pad> <pad> <pad> <pad> <pad> <pad> <pad> <pad> <pad> <pad> <pad> <pad> <pad> <pad> <pad> <pad> <pad> <pad> <pad> \n",
      "\n"
     ]
    }
   ],
   "source": [
    "check_id_frag = sum(train_frag[:check_id])\n",
    "for frag in train_ind[check_id_frag:check_id_frag + train_frag[check_id]]:\n",
    "    print(' '.join([tokenizer._convert_id_to_token(int(ind)) for ind in frag]), \"\\n\")"
   ]
  },
  {
   "cell_type": "code",
   "execution_count": 67,
   "metadata": {},
   "outputs": [
    {
     "data": {
      "text/plain": [
       "count    7013.000000\n",
       "mean        0.305290\n",
       "std         0.652715\n",
       "min         0.000000\n",
       "25%         0.000000\n",
       "50%         0.000000\n",
       "75%         0.000000\n",
       "max         6.000000\n",
       "dtype: float64"
      ]
     },
     "execution_count": 67,
     "metadata": {},
     "output_type": "execute_result"
    }
   ],
   "source": [
    "# Fragment labels distribution\n",
    "pd.Series(np.sum(train_y, axis=1)).describe()"
   ]
  },
  {
   "cell_type": "markdown",
   "metadata": {},
   "source": [
    "### Development corpus\n",
    "\n",
    "Only development texts that are annotated with CIE-Procedimiento codes are considered:"
   ]
  },
  {
   "cell_type": "code",
   "execution_count": 68,
   "metadata": {},
   "outputs": [
    {
     "data": {
      "text/plain": [
       "28"
      ]
     },
     "execution_count": 68,
     "metadata": {},
     "output_type": "execute_result"
    }
   ],
   "source": [
    "# Some dev documents (texts) are not annotated \n",
    "len(set(df_text_dev[\"doc_id\"]) - set(df_codes_dev_ner[\"doc_id\"]))"
   ]
  },
  {
   "cell_type": "code",
   "execution_count": 69,
   "metadata": {},
   "outputs": [],
   "source": [
    "dev_doc_list = sorted(set(df_codes_dev_ner[\"doc_id\"]))"
   ]
  },
  {
   "cell_type": "code",
   "execution_count": 70,
   "metadata": {},
   "outputs": [
    {
     "data": {
      "text/plain": [
       "222"
      ]
     },
     "execution_count": 70,
     "metadata": {},
     "output_type": "execute_result"
    }
   ],
   "source": [
    "len(dev_doc_list)"
   ]
  },
  {
   "cell_type": "code",
   "execution_count": 71,
   "metadata": {},
   "outputs": [
    {
     "name": "stdout",
     "output_type": "stream",
     "text": [
      "CPU times: user 10.9 ms, sys: 0 ns, total: 10.9 ms\n",
      "Wall time: 10.1 ms\n"
     ]
    }
   ],
   "source": [
    "%%time\n",
    "ss_sub_corpus_path = ss_corpus_path + \"dev/\"\n",
    "ss_files = [f for f in os.listdir(ss_sub_corpus_path) if os.path.isfile(ss_sub_corpus_path + f)]\n",
    "ss_dict_dev = load_ss_files(ss_files, ss_sub_corpus_path)"
   ]
  },
  {
   "cell_type": "code",
   "execution_count": 72,
   "metadata": {},
   "outputs": [
    {
     "name": "stderr",
     "output_type": "stream",
     "text": [
      "100%|██████████| 222/222 [00:02<00:00, 86.88it/s] \n"
     ]
    },
    {
     "name": "stdout",
     "output_type": "stream",
     "text": [
      "CPU times: user 2.63 s, sys: 3.31 ms, total: 2.63 s\n",
      "Wall time: 2.61 s\n"
     ]
    }
   ],
   "source": [
    "%%time\n",
    "dev_ind, dev_att, dev_y, dev_frag, dev_start_end_frag = ss_brute_force_create_frag_input_data(df_text=df_text_dev, \n",
    "                                                  text_col=text_col, \n",
    "                                                  df_ann=df_codes_dev_ner, doc_list=dev_doc_list, ss_dict=ss_dict_dev,\n",
    "                                                  tokenizer=tokenizer, sp_pb2=spt, lab_encoder=mlb_encoder, seq_len=SEQ_LEN)"
   ]
  },
  {
   "cell_type": "code",
   "execution_count": 77,
   "metadata": {},
   "outputs": [],
   "source": [
    "# Sanity check"
   ]
  },
  {
   "cell_type": "code",
   "execution_count": 73,
   "metadata": {},
   "outputs": [
    {
     "data": {
      "text/plain": [
       "(3799, 128)"
      ]
     },
     "execution_count": 73,
     "metadata": {},
     "output_type": "execute_result"
    }
   ],
   "source": [
    "dev_ind.shape"
   ]
  },
  {
   "cell_type": "code",
   "execution_count": 74,
   "metadata": {},
   "outputs": [
    {
     "data": {
      "text/plain": [
       "(3799, 128)"
      ]
     },
     "execution_count": 74,
     "metadata": {},
     "output_type": "execute_result"
    }
   ],
   "source": [
    "dev_att.shape"
   ]
  },
  {
   "cell_type": "code",
   "execution_count": 75,
   "metadata": {},
   "outputs": [
    {
     "data": {
      "text/plain": [
       "(3799, 727)"
      ]
     },
     "execution_count": 75,
     "metadata": {},
     "output_type": "execute_result"
    }
   ],
   "source": [
    "dev_y.shape"
   ]
  },
  {
   "cell_type": "code",
   "execution_count": 76,
   "metadata": {},
   "outputs": [
    {
     "data": {
      "text/plain": [
       "222"
      ]
     },
     "execution_count": 76,
     "metadata": {},
     "output_type": "execute_result"
    }
   ],
   "source": [
    "len(dev_frag)"
   ]
  },
  {
   "cell_type": "code",
   "execution_count": 77,
   "metadata": {},
   "outputs": [
    {
     "data": {
      "text/plain": [
       "3799"
      ]
     },
     "execution_count": 77,
     "metadata": {},
     "output_type": "execute_result"
    }
   ],
   "source": [
    "len(dev_start_end_frag)"
   ]
  },
  {
   "cell_type": "code",
   "execution_count": 78,
   "metadata": {},
   "outputs": [
    {
     "data": {
      "text/plain": [
       "count    222.000000\n",
       "mean      17.112613\n",
       "std        8.320553\n",
       "min        4.000000\n",
       "25%       11.000000\n",
       "50%       15.000000\n",
       "75%       21.000000\n",
       "max       65.000000\n",
       "dtype: float64"
      ]
     },
     "execution_count": 78,
     "metadata": {},
     "output_type": "execute_result"
    }
   ],
   "source": [
    "# Check n_frag distribution across texts\n",
    "pd.Series(dev_frag).describe()"
   ]
  },
  {
   "cell_type": "code",
   "execution_count": 79,
   "metadata": {},
   "outputs": [],
   "source": [
    "# Inspect a randomly selected text and its encoded version\n",
    "check_id = np.random.randint(low=0, high=len(dev_doc_list), size=1)[0]"
   ]
  },
  {
   "cell_type": "code",
   "execution_count": 80,
   "metadata": {},
   "outputs": [
    {
     "data": {
      "text/plain": [
       "27"
      ]
     },
     "execution_count": 80,
     "metadata": {},
     "output_type": "execute_result"
    }
   ],
   "source": [
    "check_id"
   ]
  },
  {
   "cell_type": "code",
   "execution_count": 81,
   "metadata": {},
   "outputs": [
    {
     "data": {
      "text/plain": [
       "'S0210-48062003001000009-1'"
      ]
     },
     "execution_count": 81,
     "metadata": {},
     "output_type": "execute_result"
    }
   ],
   "source": [
    "dev_doc_list[check_id]"
   ]
  },
  {
   "cell_type": "code",
   "execution_count": 82,
   "metadata": {
    "scrolled": true
   },
   "outputs": [
    {
     "data": {
      "text/plain": [
       "'Una mujer de 35 años consultó por goteo terminal o \"micción babeante\", dispareunia e infecciones urinarias de repetición. En la urografía intravenosa y en la cistografía miccional se encontraron hallazgos compatibles con divertículo uretral. La paciente aquejaba frecuencia urinaria y nicturia de 3 a 4 veces. Ocasionalmente había tenido episodios aislados de incontinencia urinaria de estrés por lo que usaba una compresa diaria de protección. Presentaba urgencia urinaria e incontinencia de urgencia ocasional. No presentaba micción entrecortada, ni sensación de presión vesical o de vaciamiento incompleto. No presentaba hematuria ni síntomas ni signos de cáncer genitourinario. Ritmo intestinal normal. No disfunción sexual femenina previa hasta la presente dispareunia que afecta a su vida sexual. No antecedentes patológicos neurológicos.\\nAntecedentes médicos y quirúrgicos: Hipertensión arterial. Asma en la infancia. Dolor lumbosacro ocasional. Colecistectomía laparoscópica hace 2 años. Dos cesáreas, la última hace 12 años. En tratamiento antihipertensivo con atenolol, chlortalidona y amlodipino. No alergias conocidas. No diabetes. No fuma ni bebe.\\nExploración física: Obesidad mórbida. Buen estado de salud general. Exploración de cabeza, cuello y cardio-pulmonar sin hallazgos patológicos. Tensión arterial: 140/100. Abdomen blando, obeso, no doloroso, no hepatoesplenomegalia. Examen pélvico en posición de litotomía dorsal: Introito vaginal relativamente angosto; abultamiento en el área suburetral cerca del cuello vesical y de la uretra media de aproximadamente 2,5 cm de diámetro, fluctuante, compatible con un divertículo uretral. No se obtuvo pus al presionarlo. No se observó incontinencia de estrés.\\n\\nSe realizó una resonancia magnética nuclear (RMN) de la pelvis en las secuencias T1 axial, T2 axial, T2 graso en imágenes en ambos lados derecho e izquierdo. Se encontraron dos formaciones líquidas en la pelvis. La más grande medía 3,4 cm en su eje longitudinal, en el área parasagital derecha, la segunda colección medía 1 cm en su eje longitudinal. La formación de un cm de diámetro era de las mismas características y estaba entre la zona parasagital y sagital media. No se pudo documentar una relación con la uretra en las otras secuencias. La impresión fue de un gran divertículo uretral, de al menos 3,5 x 2,5 cm, sin embargo, no se pudo descartar que la colección más pequeña fuera un quiste de la glándula de Bartolino.\\n\\nEn la cistouretroscopia flexible bajo anestesia se encontró un gran divertículo uretral a 10 mm del cuello vesical. A la compresión, no hubo drenaje por la uretra.\\nEn la cistouretroscopia con ópticas de 12 y 70 grados se encontraron dos ostium en la uretra media a las 7 del horario cistoscópico. Los ostium estaban a pocos milímetros uno del otro. El resto de la uretra no presentaba alteraciones. Macroscópicamente, el divertículo no comprometía al cuello vesical, ni deformaba el trígono. La cistoscopia mostró ambos orificios ureterales normales y ortotópicos. No se encontraron alteraciones en el resto de la vejiga. La impresión diagnóstica fue de divertículo uretral complejo con dos ostium a las 7 del horario cistoscópico en la uretra media.\\nSe indicó una diverticulectomía uretral. Previamente se le informó a la paciente de los riesgos del procedimiento, incluidos fístula uretrovaginal, estenosis uretral, incontinencia urinaria y posible cirugía reconstructiva posteriores.\\nProcedimiento \\nAnestesia general. Posición de litotomía. Esterilización y preparación del campo de los genitales externos de la forma habitual. Puntos fijadores de seda en los labios menores para exponer la pared vaginal anterior. Colocación anterógrada de un tubo de cistostomía suprapúbica de 16 French utilizando el retractor de Lowsley. El globo de este catéter se infló 7 ml de agua estéril y se dejó como drenaje a gravedad durante toda la operación. Colocación de un catéter uretral de Foley de 16 Fr en la vejiga urinaria. Se realizó cistoscopia confirmando el diagnóstico preoperatorio. Se infiltró la pared vaginal anterior con un total de 15 ml de solución salina que contenía lidocaína y epinefrina. Se realizó una incisión en U invertida y se disecó un colgajo de la pared vaginal anterior, hasta quedar expuesta la fascia periuretral. Se realizó una incisión horizontal en la fascia periuretral y se disecó cuidadosamente un plano entre el divertículo uretral y la fascia periuretral. A señalar que la pared del divertículo era muy gruesa e indurada. Se disecó el divertículo hasta el nivel de su cuello propio. Se seccionó el cuello diverticular justo al ras de la uretra, exponiendo el catéter uretral de Foley colocado previamente. Se aproximaron los bordes de la uretra suturando la mucosa uretral de forma continua con Vycril de 3-0. En el plano horizontal se reaproximó la fascia periuretral con puntos sueltos de Vicryl. Como capa última se utilizó el colgajo vaginal anterior. Dado que había un exceso de tejido de pared vaginal anterior que recubría al divertículo, se recortó dicho exceso y se cerró la incisión vaginal anterior con sutura continua de Vicryl 2-0. Se dejaron puestos el catéter uretral de Foley y la cistotomía suprapúbica se dejo drenando a gravedad. A señalar la gran dificultad de la disección del divertículo que resultó medir 4 cm de longitud, debido sobre todo a la dificultad para disecar todo el trayecto hasta el cuello del divertículo. Informe patológico: Fragmento tisular de 4,0 x 2,0 x 0,5 cm y otro fragmento tisular de 2,0 x 1,0 x 0,5 cm compatibles con divertículo uretral complejo, con inflamación crónica recubriendo tejido conectivo denso.\\n\\n'"
      ]
     },
     "execution_count": 82,
     "metadata": {},
     "output_type": "execute_result"
    }
   ],
   "source": [
    "df_text_dev[df_text_dev[\"doc_id\"] == dev_doc_list[check_id]][text_col].values[0]"
   ]
  },
  {
   "cell_type": "code",
   "execution_count": 83,
   "metadata": {},
   "outputs": [
    {
     "name": "stdout",
     "output_type": "stream",
     "text": [
      "[()] \n",
      "\n",
      "[()] \n",
      "\n",
      "[()] \n",
      "\n",
      "[()] \n",
      "\n",
      "[()] \n",
      "\n",
      "[()] \n",
      "\n",
      "[()] \n",
      "\n",
      "[()] \n",
      "\n",
      "[()] \n",
      "\n",
      "[()] \n",
      "\n",
      "[()] \n",
      "\n",
      "[()] \n",
      "\n",
      "[()] \n",
      "\n",
      "[()] \n",
      "\n",
      "[('10d0',)] \n",
      "\n",
      "[()] \n",
      "\n",
      "[()] \n",
      "\n",
      "[()] \n",
      "\n",
      "[()] \n",
      "\n",
      "[()] \n",
      "\n",
      "[()] \n",
      "\n",
      "[()] \n",
      "\n",
      "[()] \n",
      "\n",
      "[()] \n",
      "\n",
      "[()] \n",
      "\n",
      "[()] \n",
      "\n",
      "[()] \n",
      "\n",
      "[('br3c',)] \n",
      "\n",
      "[()] \n",
      "\n",
      "[()] \n",
      "\n",
      "[()] \n",
      "\n",
      "[()] \n",
      "\n",
      "[()] \n",
      "\n",
      "[('0tjb8zz',)] \n",
      "\n",
      "[()] \n",
      "\n",
      "[('0tjb8zz',)] \n",
      "\n",
      "[()] \n",
      "\n",
      "[()] \n",
      "\n",
      "[()] \n",
      "\n",
      "[('0tjb8zz',)] \n",
      "\n",
      "[()] \n",
      "\n",
      "[()] \n",
      "\n",
      "[()] \n",
      "\n",
      "[()] \n",
      "\n",
      "[()] \n",
      "\n",
      "[()] \n",
      "\n",
      "[()] \n",
      "\n",
      "[()] \n",
      "\n",
      "[('0t1b',)] \n",
      "\n",
      "[()] \n",
      "\n",
      "[()] \n",
      "\n",
      "[('0tjb8zz',)] \n",
      "\n",
      "[()] \n",
      "\n",
      "[()] \n",
      "\n",
      "[()] \n",
      "\n",
      "[()] \n",
      "\n",
      "[()] \n",
      "\n",
      "[()] \n",
      "\n",
      "[()] \n",
      "\n",
      "[()] \n",
      "\n",
      "[()] \n",
      "\n",
      "[()] \n",
      "\n",
      "[('0t1b',)] \n",
      "\n",
      "[()] \n",
      "\n",
      "[()] \n",
      "\n"
     ]
    }
   ],
   "source": [
    "check_id_frag = sum(dev_frag[:check_id])\n",
    "for i in range(check_id_frag, check_id_frag + dev_frag[check_id]):\n",
    "    print(mlb_encoder.inverse_transform(np.array([dev_y[i]])), \"\\n\")"
   ]
  },
  {
   "cell_type": "code",
   "execution_count": 84,
   "metadata": {},
   "outputs": [
    {
     "name": "stdout",
     "output_type": "stream",
     "text": [
      "[('▁Una', (0, 3)), ('▁mujer', (3, 9)), ('▁de', (9, 12)), ('▁35', (12, 15)), ('▁años', (15, 21)), ('▁consult', (21, 29)), ('ó', (29, 31)), ('▁por', (31, 35)), ('▁got', (35, 39)), ('eo', (39, 41)), ('▁terminal', (41, 50)), ('▁o', (50, 52)), ('▁\"', (52, 54)), ('mi', (54, 56)), ('cción', (56, 62)), ('▁babe', (62, 67)), ('ante', (67, 71)), ('\",', (71, 73)), ('▁dispar', (73, 80)), ('eu', (80, 82)), ('nia', (82, 85)), ('▁e', (85, 87)), ('▁in', (87, 90)), ('fec', (90, 93)), ('ciones', (93, 99)), ('▁urin', (99, 104)), ('arias', (104, 109)), ('▁de', (109, 112)), ('▁repeti', (112, 119)), ('ción', (119, 124)), ('.', (124, 125))]\n",
      "\n",
      "\n",
      "[('▁En', (126, 128)), ('▁la', (128, 131)), ('▁ur', (131, 134)), ('ografía', (134, 142)), ('▁intra', (142, 148)), ('ven', (148, 151)), ('osa', (151, 154)), ('▁y', (154, 156)), ('▁en', (156, 159)), ('▁la', (159, 162)), ('▁ci', (162, 165)), ('st', (165, 167)), ('ografía', (167, 175)), ('▁mic', (175, 179)), ('cional', (179, 185)), ('▁se', (185, 188)), ('▁encontrar', (188, 198)), ('on', (198, 200)), ('▁halla', (200, 206)), ('z', (206, 207)), ('gos', (207, 210)), ('▁compatible', (210, 221)), ('s', (221, 222)), ('▁con', (222, 226)), ('▁di', (226, 229)), ('ver', (229, 232)), ('tí', (232, 235)), ('culo', (235, 239)), ('▁ure', (239, 243)), ('tral', (243, 247)), ('.', (247, 248))]\n",
      "\n",
      "\n",
      "[('▁La', (249, 251)), ('▁paciente', (251, 260)), ('▁a', (260, 262)), ('que', (262, 265)), ('ja', (265, 267)), ('ba', (267, 269)), ('▁frecuencia', (269, 280)), ('▁urin', (280, 285)), ('aria', (285, 289)), ('▁y', (289, 291)), ('▁nic', (291, 295)), ('turi', (295, 299)), ('a', (299, 300)), ('▁de', (300, 303)), ('▁3', (303, 305)), ('▁a', (305, 307)), ('▁4', (307, 309)), ('▁veces', (309, 315)), ('.', (315, 316))]\n",
      "\n",
      "\n",
      "[('▁O', (317, 318)), ('ca', (318, 320)), ('sional', (320, 326)), ('mente', (326, 331)), ('▁había', (331, 338)), ('▁tenido', (338, 345)), ('▁episodio', (345, 354)), ('s', (354, 355)), ('▁a', (355, 357)), ('isla', (357, 361)), ('dos', (361, 364)), ('▁de', (364, 367)), ('▁in', (367, 370)), ('con', (370, 373)), ('tin', (373, 376)), ('encia', (376, 381)), ('▁urin', (381, 386)), ('aria', (386, 390)), ('▁de', (390, 393)), ('▁estrés', (393, 401)), ('▁por', (401, 405)), ('▁lo', (405, 408)), ('▁que', (408, 412)), ('▁usa', (412, 416)), ('ba', (416, 418)), ('▁una', (418, 422)), ('▁compre', (422, 429)), ('sa', (429, 431)), ('▁diaria', (431, 438)), ('▁de', (438, 441)), ('▁protección', (441, 453)), ('.', (453, 454))]\n",
      "\n",
      "\n",
      "[('▁Presenta', (455, 463)), ('ba', (463, 465)), ('▁urge', (465, 470)), ('ncia', (470, 474)), ('▁urin', (474, 479)), ('aria', (479, 483)), ('▁e', (483, 485)), ('▁in', (485, 488)), ('con', (488, 491)), ('tin', (491, 494)), ('encia', (494, 499)), ('▁de', (499, 502)), ('▁urge', (502, 507)), ('ncia', (507, 511)), ('▁ocasiona', (511, 520)), ('l', (520, 521)), ('.', (521, 522))]\n",
      "\n",
      "\n",
      "[('▁No', (523, 525)), ('▁presenta', (525, 534)), ('ba', (534, 536)), ('▁mi', (536, 539)), ('cción', (539, 545)), ('▁entre', (545, 551)), ('cor', (551, 554)), ('tada', (554, 558)), (',', (558, 559)), ('▁ni', (559, 562)), ('▁sensación', (562, 573)), ('▁de', (573, 576)), ('▁presión', (576, 585)), ('▁vesi', (585, 590)), ('cal', (590, 593)), ('▁o', (593, 595)), ('▁de', (595, 598)), ('▁va', (598, 601)), ('ci', (601, 603)), ('amiento', (603, 610)), ('▁incomp', (610, 617)), ('le', (617, 619)), ('to', (619, 621)), ('.', (621, 622))]\n",
      "\n",
      "\n",
      "[('▁No', (623, 625)), ('▁presenta', (625, 634)), ('ba', (634, 636)), ('▁hemat', (636, 642)), ('uria', (642, 646)), ('▁ni', (646, 649)), ('▁síntomas', (649, 659)), ('▁ni', (659, 662)), ('▁signo', (662, 668)), ('s', (668, 669)), ('▁de', (669, 672)), ('▁cáncer', (672, 680)), ('▁geni', (680, 685)), ('tour', (685, 689)), ('in', (689, 691)), ('ario', (691, 695)), ('.', (695, 696))]\n",
      "\n",
      "\n",
      "[('▁Rit', (697, 700)), ('mo', (700, 702)), ('▁intestinal', (702, 713)), ('▁normal', (713, 720)), ('.', (720, 721))]\n",
      "\n",
      "\n",
      "[('▁No', (722, 724)), ('▁dis', (724, 728)), ('fun', (728, 731)), ('ción', (731, 736)), ('▁sexual', (736, 743)), ('▁femenina', (743, 752)), ('▁previa', (752, 759)), ('▁hasta', (759, 765)), ('▁la', (765, 768)), ('▁presente', (768, 777)), ('▁dispar', (777, 784)), ('eu', (784, 786)), ('nia', (786, 789)), ('▁que', (789, 793)), ('▁afecta', (793, 800)), ('▁a', (800, 802)), ('▁su', (802, 805)), ('▁vida', (805, 810)), ('▁sexual', (810, 817)), ('.', (817, 818))]\n",
      "\n",
      "\n",
      "[('▁No', (819, 821)), ('▁antecede', (821, 830)), ('ntes', (830, 834)), ('▁pat', (834, 838)), ('ológico', (838, 846)), ('s', (846, 847)), ('▁neuro', (847, 853)), ('lógico', (853, 860)), ('s', (860, 861)), ('.', (861, 862))]\n",
      "\n",
      "\n",
      "[('▁Ante', (863, 867)), ('ced', (867, 870)), ('entes', (870, 875)), ('▁médicos', (875, 884)), ('▁y', (884, 886)), ('▁qui', (886, 890)), ('rú', (890, 893)), ('rg', (893, 895)), ('icos', (895, 899)), (':', (899, 900)), ('▁Hip', (900, 904)), ('er', (904, 906)), ('ten', (906, 909)), ('sión', (909, 914)), ('▁arterial', (914, 923)), ('.', (923, 924))]\n",
      "\n",
      "\n",
      "[('▁As', (925, 927)), ('ma', (927, 929)), ('▁en', (929, 932)), ('▁la', (932, 935)), ('▁infancia', (935, 944)), ('.', (944, 945))]\n",
      "\n",
      "\n",
      "[('▁Dolor', (946, 951)), ('▁lum', (951, 955)), ('bos', (955, 958)), ('a', (958, 959)), ('cro', (959, 962)), ('▁ocasiona', (962, 971)), ('l', (971, 972)), ('.', (972, 973))]\n",
      "\n",
      "\n",
      "[('▁Cole', (974, 978)), ('cis', (978, 981)), ('tec', (981, 984)), ('tom', (984, 987)), ('ía', (987, 990)), ('▁la', (990, 993)), ('paro', (993, 997)), ('s', (997, 998)), ('có', (998, 1001)), ('pica', (1001, 1005)), ('▁hace', (1005, 1010)), ('▁2', (1010, 1012)), ('▁años', (1012, 1018)), ('.', (1018, 1019))]\n",
      "\n",
      "\n",
      "[('▁Dos', (1020, 1023)), ('▁ces', (1023, 1027)), ('á', (1027, 1029)), ('rea', (1029, 1032)), ('s', (1032, 1033)), (',', (1033, 1034)), ('▁la', (1034, 1037)), ('▁última', (1037, 1045)), ('▁hace', (1045, 1050)), ('▁12', (1050, 1053)), ('▁años', (1053, 1059)), ('.', (1059, 1060))]\n",
      "\n",
      "\n",
      "[('▁En', (1061, 1063)), ('▁tratamiento', (1063, 1075)), ('▁anti', (1075, 1080)), ('hi', (1080, 1082)), ('per', (1082, 1085)), ('tensi', (1085, 1090)), ('vo', (1090, 1092)), ('▁con', (1092, 1096)), ('▁at', (1096, 1099)), ('eno', (1099, 1102)), ('lol', (1102, 1105)), (',', (1105, 1106)), ('▁chlor', (1106, 1112)), ('tali', (1112, 1116)), ('dona', (1116, 1120)), ('▁y', (1120, 1122)), ('▁am', (1122, 1125)), ('lo', (1125, 1127)), ('di', (1127, 1129)), ('pino', (1129, 1133)), ('.', (1133, 1134))]\n",
      "\n",
      "\n",
      "[('▁No', (1135, 1137)), ('▁alergi', (1137, 1144)), ('as', (1144, 1146)), ('▁conocida', (1146, 1155)), ('s', (1155, 1156)), ('.', (1156, 1157))]\n",
      "\n",
      "\n",
      "[('▁No', (1158, 1160)), ('▁diabetes', (1160, 1169)), ('.', (1169, 1170))]\n",
      "\n",
      "\n",
      "[('▁No', (1171, 1173)), ('▁fum', (1173, 1177)), ('a', (1177, 1178)), ('▁ni', (1178, 1181)), ('▁bebe', (1181, 1186)), ('.', (1186, 1187))]\n",
      "\n",
      "\n",
      "[('▁Explo', (1188, 1193)), ('r', (1193, 1194)), ('ación', (1194, 1200)), ('▁física', (1200, 1208)), (':', (1208, 1209)), ('▁Ob', (1209, 1212)), ('es', (1212, 1214)), ('idad', (1214, 1218)), ('▁mór', (1218, 1223)), ('bida', (1223, 1227)), ('.', (1227, 1228))]\n",
      "\n",
      "\n",
      "[('▁Bu', (1229, 1231)), ('en', (1231, 1233)), ('▁estado', (1233, 1240)), ('▁de', (1240, 1243)), ('▁salud', (1243, 1249)), ('▁general', (1249, 1257)), ('.', (1257, 1258))]\n",
      "\n",
      "\n",
      "[('▁Explo', (1259, 1264)), ('r', (1264, 1265)), ('ación', (1265, 1271)), ('▁de', (1271, 1274)), ('▁cabeza', (1274, 1281)), (',', (1281, 1282)), ('▁cu', (1282, 1285)), ('ello', (1285, 1289)), ('▁y', (1289, 1291)), ('▁cardio', (1291, 1298)), ('-', (1298, 1299)), ('pul', (1299, 1302)), ('mon', (1302, 1305)), ('ar', (1305, 1307)), ('▁sin', (1307, 1311)), ('▁halla', (1311, 1317)), ('z', (1317, 1318)), ('gos', (1318, 1321)), ('▁pat', (1321, 1325)), ('ológico', (1325, 1333)), ('s', (1333, 1334)), ('.', (1334, 1335))]\n",
      "\n",
      "\n",
      "[('▁Ten', (1336, 1339)), ('sión', (1339, 1344)), ('▁arterial', (1344, 1353)), (':', (1353, 1354)), ('▁140', (1354, 1358)), ('/100', (1358, 1362)), ('.', (1362, 1363))]\n",
      "\n",
      "\n",
      "[('▁Ab', (1364, 1366)), ('dom', (1366, 1369)), ('en', (1369, 1371)), ('▁bland', (1371, 1377)), ('o', (1377, 1378)), (',', (1378, 1379)), ('▁obes', (1379, 1384)), ('o', (1384, 1385)), (',', (1385, 1386)), ('▁no', (1386, 1389)), ('▁dolor', (1389, 1395)), ('oso', (1395, 1398)), (',', (1398, 1399)), ('▁no', (1399, 1402)), ('▁he', (1402, 1405)), ('pato', (1405, 1409)), ('es', (1409, 1411)), ('ple', (1411, 1414)), ('nome', (1414, 1418)), ('gali', (1418, 1422)), ('a', (1422, 1423)), ('.', (1423, 1424))]\n",
      "\n",
      "\n",
      "[('▁Exam', (1425, 1429)), ('en', (1429, 1431)), ('▁pé', (1431, 1435)), ('lv', (1435, 1437)), ('ico', (1437, 1440)), ('▁en', (1440, 1443)), ('▁posición', (1443, 1453)), ('▁de', (1453, 1456)), ('▁li', (1456, 1459)), ('to', (1459, 1461)), ('tom', (1461, 1464)), ('ía', (1464, 1467)), ('▁dor', (1467, 1471)), ('sal', (1471, 1474)), (':', (1474, 1475)), ('▁In', (1475, 1478)), ('tro', (1478, 1481)), ('ito', (1481, 1484)), ('▁vaginal', (1484, 1492)), ('▁relativamente', (1492, 1506)), ('▁ang', (1506, 1510)), ('osto', (1510, 1514)), (';', (1514, 1515)), ('▁ab', (1515, 1518)), ('ult', (1518, 1521)), ('amiento', (1521, 1528)), ('▁en', (1528, 1531)), ('▁el', (1531, 1534)), ('▁área', (1534, 1540)), ('▁subur', (1540, 1546)), ('e', (1546, 1547)), ('tral', (1547, 1551)), ('▁cerca', (1551, 1557)), ('▁del', (1557, 1561)), ('▁cu', (1561, 1564)), ('ello', (1564, 1568)), ('▁vesi', (1568, 1573)), ('cal', (1573, 1576)), ('▁y', (1576, 1578)), ('▁de', (1578, 1581)), ('▁la', (1581, 1584)), ('▁ure', (1584, 1588)), ('tra', (1588, 1591)), ('▁media', (1591, 1597)), ('▁de', (1597, 1600)), ('▁aproximadamente', (1600, 1616)), ('▁2,5', (1616, 1620)), ('▁cm', (1620, 1623)), ('▁de', (1623, 1626)), ('▁di', (1626, 1629)), ('á', (1629, 1631)), ('metro', (1631, 1636)), (',', (1636, 1637)), ('▁flu', (1637, 1641)), ('ctu', (1641, 1644)), ('ante', (1644, 1648)), (',', (1648, 1649)), ('▁compatible', (1649, 1660)), ('▁con', (1660, 1664)), ('▁un', (1664, 1667)), ('▁di', (1667, 1670)), ('ver', (1670, 1673)), ('tí', (1673, 1676)), ('culo', (1676, 1680)), ('▁ure', (1680, 1684)), ('tral', (1684, 1688)), ('.', (1688, 1689))]\n",
      "\n",
      "\n",
      "[('▁No', (1690, 1692)), ('▁se', (1692, 1695)), ('▁ob', (1695, 1698)), ('tuvo', (1698, 1702)), ('▁pus', (1702, 1706)), ('▁al', (1706, 1709)), ('▁presion', (1709, 1717)), ('ar', (1717, 1719)), ('lo', (1719, 1721)), ('.', (1721, 1722))]\n",
      "\n",
      "\n",
      "[('▁No', (1723, 1725)), ('▁se', (1725, 1728)), ('▁observ', (1728, 1735)), ('ó', (1735, 1737)), ('▁in', (1737, 1740)), ('con', (1740, 1743)), ('tin', (1743, 1746)), ('encia', (1746, 1751)), ('▁de', (1751, 1754)), ('▁estrés', (1754, 1762)), ('.', (1762, 1763))]\n",
      "\n",
      "\n",
      "[('▁Se', (1765, 1767)), ('▁realizó', (1767, 1776)), ('▁una', (1776, 1780)), ('▁res', (1780, 1784)), ('on', (1784, 1786)), ('ancia', (1786, 1791)), ('▁mag', (1791, 1795)), ('n', (1795, 1796)), ('ética', (1796, 1802)), ('▁nuclear', (1802, 1810)), ('▁(', (1810, 1812)), ('RM', (1812, 1814)), ('N', (1814, 1815)), (')', (1815, 1816)), ('▁de', (1816, 1819)), ('▁la', (1819, 1822)), ('▁pel', (1822, 1826)), ('vis', (1826, 1829)), ('▁en', (1829, 1832)), ('▁las', (1832, 1836)), ('▁secuencia', (1836, 1846)), ('s', (1846, 1847)), ('▁T', (1847, 1849)), ('1', (1849, 1850)), ('▁a', (1850, 1852)), ('xi', (1852, 1854)), ('al', (1854, 1856)), (',', (1856, 1857)), ('▁T', (1857, 1859)), ('2', (1859, 1860)), ('▁a', (1860, 1862)), ('xi', (1862, 1864)), ('al', (1864, 1866)), (',', (1866, 1867)), ('▁T', (1867, 1869)), ('2', (1869, 1870)), ('▁gras', (1870, 1875)), ('o', (1875, 1876)), ('▁en', (1876, 1879)), ('▁imágenes', (1879, 1889)), ('▁en', (1889, 1892)), ('▁ambos', (1892, 1898)), ('▁la', (1898, 1901)), ('dos', (1901, 1904)), ('▁derecho', (1904, 1912)), ('▁e', (1912, 1914)), ('▁iz', (1914, 1917)), ('quier', (1917, 1922)), ('do', (1922, 1924)), ('.', (1924, 1925))]\n",
      "\n",
      "\n",
      "[('▁Se', (1926, 1928)), ('▁encontrar', (1928, 1938)), ('on', (1938, 1940)), ('▁dos', (1940, 1944)), ('▁forma', (1944, 1950)), ('ciones', (1950, 1956)), ('▁lí', (1956, 1960)), ('qui', (1960, 1963)), ('das', (1963, 1966)), ('▁en', (1966, 1969)), ('▁la', (1969, 1972)), ('▁pel', (1972, 1976)), ('vis', (1976, 1979)), ('.', (1979, 1980))]\n",
      "\n",
      "\n",
      "[('▁La', (1981, 1983)), ('▁más', (1983, 1988)), ('▁grande', (1988, 1995)), ('▁med', (1995, 1999)), ('ía', (1999, 2002)), ('▁', (2002, 2003)), ('3,4', (2003, 2006)), ('▁cm', (2006, 2009)), ('▁en', (2009, 2012)), ('▁su', (2012, 2015)), ('▁e', (2015, 2017)), ('je', (2017, 2019)), ('▁longitud', (2019, 2028)), ('in', (2028, 2030)), ('al', (2030, 2032)), (',', (2032, 2033)), ('▁en', (2033, 2036)), ('▁el', (2036, 2039)), ('▁área', (2039, 2045)), ('▁para', (2045, 2050)), ('s', (2050, 2051)), ('agit', (2051, 2055)), ('al', (2055, 2057)), ('▁derecha', (2057, 2065)), (',', (2065, 2066)), ('▁la', (2066, 2069)), ('▁segunda', (2069, 2077)), ('▁colección', (2077, 2088)), ('▁med', (2088, 2092)), ('ía', (2092, 2095)), ('▁1', (2095, 2097)), ('▁cm', (2097, 2100)), ('▁en', (2100, 2103)), ('▁su', (2103, 2106)), ('▁e', (2106, 2108)), ('je', (2108, 2110)), ('▁longitud', (2110, 2119)), ('in', (2119, 2121)), ('al', (2121, 2123)), ('.', (2123, 2124))]\n",
      "\n",
      "\n",
      "[('▁La', (2125, 2127)), ('▁formación', (2127, 2138)), ('▁de', (2138, 2141)), ('▁un', (2141, 2144)), ('▁cm', (2144, 2147)), ('▁de', (2147, 2150)), ('▁di', (2150, 2153)), ('á', (2153, 2155)), ('metro', (2155, 2160)), ('▁era', (2160, 2164)), ('▁de', (2164, 2167)), ('▁las', (2167, 2171)), ('▁misma', (2171, 2177)), ('s', (2177, 2178)), ('▁características', (2178, 2195)), ('▁y', (2195, 2197)), ('▁estaba', (2197, 2204)), ('▁entre', (2204, 2210)), ('▁la', (2210, 2213)), ('▁zona', (2213, 2218)), ('▁para', (2218, 2223)), ('s', (2223, 2224)), ('agit', (2224, 2228)), ('al', (2228, 2230)), ('▁y', (2230, 2232)), ('▁sa', (2232, 2235)), ('gi', (2235, 2237)), ('tal', (2237, 2240)), ('▁media', (2240, 2246)), ('.', (2246, 2247))]\n",
      "\n",
      "\n",
      "[('▁No', (2248, 2250)), ('▁se', (2250, 2253)), ('▁pudo', (2253, 2258)), ('▁documentar', (2258, 2269)), ('▁una', (2269, 2273)), ('▁relación', (2273, 2283)), ('▁con', (2283, 2287)), ('▁la', (2287, 2290)), ('▁ure', (2290, 2294)), ('tra', (2294, 2297)), ('▁en', (2297, 2300)), ('▁las', (2300, 2304)), ('▁otras', (2304, 2310)), ('▁secuencia', (2310, 2320)), ('s', (2320, 2321)), ('.', (2321, 2322))]\n",
      "\n",
      "\n",
      "[('▁La', (2323, 2325)), ('▁impresión', (2325, 2336)), ('▁fue', (2336, 2340)), ('▁de', (2340, 2343)), ('▁un', (2343, 2346)), ('▁gran', (2346, 2351)), ('▁di', (2351, 2354)), ('ver', (2354, 2357)), ('tí', (2357, 2360)), ('culo', (2360, 2364)), ('▁ure', (2364, 2368)), ('tral', (2368, 2372)), (',', (2372, 2373)), ('▁de', (2373, 2376)), ('▁al', (2376, 2379)), ('▁menos', (2379, 2385)), ('▁3,5', (2385, 2389)), ('▁x', (2389, 2391)), ('▁2,5', (2391, 2395)), ('▁cm', (2395, 2398)), (',', (2398, 2399)), ('▁sin', (2399, 2403)), ('▁embargo', (2403, 2411)), (',', (2411, 2412)), ('▁no', (2412, 2415)), ('▁se', (2415, 2418)), ('▁pudo', (2418, 2423)), ('▁descarta', (2423, 2432)), ('r', (2432, 2433)), ('▁que', (2433, 2437)), ('▁la', (2437, 2440)), ('▁colección', (2440, 2451)), ('▁más', (2451, 2456)), ('▁pequeña', (2456, 2465)), ('▁fuera', (2465, 2471)), ('▁un', (2471, 2474)), ('▁qui', (2474, 2478)), ('ste', (2478, 2481)), ('▁de', (2481, 2484)), ('▁la', (2484, 2487)), ('▁g', (2487, 2489)), ('lán', (2489, 2493)), ('dula', (2493, 2497)), ('▁de', (2497, 2500)), ('▁Bar', (2500, 2504)), ('to', (2504, 2506)), ('lino', (2506, 2510)), ('.', (2510, 2511))]\n",
      "\n",
      "\n",
      "[('▁En', (2513, 2515)), ('▁la', (2515, 2518)), ('▁c', (2518, 2520)), ('isto', (2520, 2524)), ('ure', (2524, 2527)), ('tros', (2527, 2531)), ('copi', (2531, 2535)), ('a', (2535, 2536)), ('▁flexible', (2536, 2545)), ('▁bajo', (2545, 2550)), ('▁an', (2550, 2553)), ('este', (2553, 2557)), ('sia', (2557, 2560)), ('▁se', (2560, 2563)), ('▁en', (2563, 2566)), ('con', (2566, 2569)), ('tró', (2569, 2573)), ('▁un', (2573, 2576)), ('▁gran', (2576, 2581)), ('▁di', (2581, 2584)), ('ver', (2584, 2587)), ('tí', (2587, 2590)), ('culo', (2590, 2594)), ('▁ure', (2594, 2598)), ('tral', (2598, 2602)), ('▁a', (2602, 2604)), ('▁10', (2604, 2607)), ('▁mm', (2607, 2610)), ('▁del', (2610, 2614)), ('▁cu', (2614, 2617)), ('ello', (2617, 2621)), ('▁vesi', (2621, 2626)), ('cal', (2626, 2629)), ('.', (2629, 2630))]\n",
      "\n",
      "\n",
      "[('▁A', (2631, 2632)), ('▁la', (2632, 2635)), ('▁com', (2635, 2639)), ('presión', (2639, 2647)), (',', (2647, 2648)), ('▁no', (2648, 2651)), ('▁hub', (2651, 2655)), ('o', (2655, 2656)), ('▁dre', (2656, 2660)), ('na', (2660, 2662)), ('je', (2662, 2664)), ('▁por', (2664, 2668)), ('▁la', (2668, 2671)), ('▁ure', (2671, 2675)), ('tra', (2675, 2678)), ('.', (2678, 2679))]\n",
      "\n",
      "\n",
      "[('▁En', (2680, 2682)), ('▁la', (2682, 2685)), ('▁c', (2685, 2687)), ('isto', (2687, 2691)), ('ure', (2691, 2694)), ('tros', (2694, 2698)), ('copi', (2698, 2702)), ('a', (2702, 2703)), ('▁con', (2703, 2707)), ('▁ó', (2707, 2710)), ('ptica', (2710, 2715)), ('s', (2715, 2716)), ('▁de', (2716, 2719)), ('▁12', (2719, 2722)), ('▁y', (2722, 2724)), ('▁70', (2724, 2727)), ('▁grado', (2727, 2733)), ('s', (2733, 2734)), ('▁se', (2734, 2737)), ('▁encontrar', (2737, 2747)), ('on', (2747, 2749)), ('▁dos', (2749, 2753)), ('▁os', (2753, 2756)), ('tium', (2756, 2760)), ('▁en', (2760, 2763)), ('▁la', (2763, 2766)), ('▁ure', (2766, 2770)), ('tra', (2770, 2773)), ('▁media', (2773, 2779)), ('▁a', (2779, 2781)), ('▁las', (2781, 2785)), ('▁7', (2785, 2787)), ('▁del', (2787, 2791)), ('▁horario', (2791, 2799)), ('▁ci', (2799, 2802)), ('stos', (2802, 2806)), ('có', (2806, 2809)), ('pico', (2809, 2813)), ('.', (2813, 2814))]\n",
      "\n",
      "\n",
      "[('▁Los', (2815, 2818)), ('▁os', (2818, 2821)), ('tium', (2821, 2825)), ('▁estaban', (2825, 2833)), ('▁a', (2833, 2835)), ('▁pocos', (2835, 2841)), ('▁mil', (2841, 2845)), ('íme', (2845, 2849)), ('tros', (2849, 2853)), ('▁uno', (2853, 2857)), ('▁del', (2857, 2861)), ('▁otro', (2861, 2866)), ('.', (2866, 2867))]\n",
      "\n",
      "\n",
      "[('▁El', (2868, 2870)), ('▁resto', (2870, 2876)), ('▁de', (2876, 2879)), ('▁la', (2879, 2882)), ('▁ure', (2882, 2886)), ('tra', (2886, 2889)), ('▁no', (2889, 2892)), ('▁presenta', (2892, 2901)), ('ba', (2901, 2903)), ('▁altera', (2903, 2910)), ('ciones', (2910, 2916)), ('.', (2916, 2917))]\n",
      "\n",
      "\n",
      "[('▁Mac', (2918, 2921)), ('ros', (2921, 2924)), ('có', (2924, 2927)), ('p', (2927, 2928)), ('icamente', (2928, 2936)), (',', (2936, 2937)), ('▁el', (2937, 2940)), ('▁di', (2940, 2943)), ('ver', (2943, 2946)), ('tí', (2946, 2949)), ('culo', (2949, 2953)), ('▁no', (2953, 2956)), ('▁compromet', (2956, 2966)), ('ía', (2966, 2969)), ('▁al', (2969, 2972)), ('▁cu', (2972, 2975)), ('ello', (2975, 2979)), ('▁vesi', (2979, 2984)), ('cal', (2984, 2987)), (',', (2987, 2988)), ('▁ni', (2988, 2991)), ('▁de', (2991, 2994)), ('forma', (2994, 2999)), ('ba', (2999, 3001)), ('▁el', (3001, 3004)), ('▁trí', (3004, 3009)), ('gono', (3009, 3013)), ('.', (3013, 3014))]\n",
      "\n",
      "\n",
      "[('▁La', (3015, 3017)), ('▁ci', (3017, 3020)), ('stos', (3020, 3024)), ('copi', (3024, 3028)), ('a', (3028, 3029)), ('▁most', (3029, 3034)), ('ró', (3034, 3037)), ('▁ambos', (3037, 3043)), ('▁ori', (3043, 3047)), ('fici', (3047, 3051)), ('os', (3051, 3053)), ('▁ure', (3053, 3057)), ('tera', (3057, 3061)), ('les', (3061, 3064)), ('▁normale', (3064, 3072)), ('s', (3072, 3073)), ('▁y', (3073, 3075)), ('▁orto', (3075, 3080)), ('tó', (3080, 3083)), ('pico', (3083, 3087)), ('s', (3087, 3088)), ('.', (3088, 3089))]\n",
      "\n",
      "\n",
      "[('▁No', (3090, 3092)), ('▁se', (3092, 3095)), ('▁encontrar', (3095, 3105)), ('on', (3105, 3107)), ('▁altera', (3107, 3114)), ('ciones', (3114, 3120)), ('▁en', (3120, 3123)), ('▁el', (3123, 3126)), ('▁resto', (3126, 3132)), ('▁de', (3132, 3135)), ('▁la', (3135, 3138)), ('▁vej', (3138, 3142)), ('iga', (3142, 3145)), ('.', (3145, 3146))]\n",
      "\n",
      "\n",
      "[('▁La', (3147, 3149)), ('▁impresión', (3149, 3160)), ('▁di', (3160, 3163)), ('ag', (3163, 3165)), ('nó', (3165, 3168)), ('stica', (3168, 3173)), ('▁fue', (3173, 3177)), ('▁de', (3177, 3180)), ('▁di', (3180, 3183)), ('ver', (3183, 3186)), ('tí', (3186, 3189)), ('culo', (3189, 3193)), ('▁ure', (3193, 3197)), ('tral', (3197, 3201)), ('▁complejo', (3201, 3210)), ('▁con', (3210, 3214)), ('▁dos', (3214, 3218)), ('▁os', (3218, 3221)), ('tium', (3221, 3225)), ('▁a', (3225, 3227)), ('▁las', (3227, 3231)), ('▁7', (3231, 3233)), ('▁del', (3233, 3237)), ('▁horario', (3237, 3245)), ('▁ci', (3245, 3248)), ('stos', (3248, 3252)), ('có', (3252, 3255)), ('pico', (3255, 3259)), ('▁en', (3259, 3262)), ('▁la', (3262, 3265)), ('▁ure', (3265, 3269)), ('tra', (3269, 3272)), ('▁media', (3272, 3278)), ('.', (3278, 3279))]\n",
      "\n",
      "\n",
      "[('▁Se', (3280, 3282)), ('▁indicó', (3282, 3290)), ('▁una', (3290, 3294)), ('▁diverti', (3294, 3302)), ('cul', (3302, 3305)), ('ecto', (3305, 3309)), ('m', (3309, 3310)), ('ía', (3310, 3313)), ('▁ure', (3313, 3317)), ('tral', (3317, 3321)), ('.', (3321, 3322))]\n",
      "\n",
      "\n",
      "[('▁Prev', (3323, 3327)), ('i', (3327, 3328)), ('amente', (3328, 3334)), ('▁se', (3334, 3337)), ('▁le', (3337, 3340)), ('▁informó', (3340, 3349)), ('▁a', (3349, 3351)), ('▁la', (3351, 3354)), ('▁paciente', (3354, 3363)), ('▁de', (3363, 3366)), ('▁los', (3366, 3370)), ('▁riesgo', (3370, 3377)), ('s', (3377, 3378)), ('▁del', (3378, 3382)), ('▁procedimiento', (3382, 3396)), (',', (3396, 3397)), ('▁incluido', (3397, 3406)), ('s', (3406, 3407)), ('▁fí', (3407, 3411)), ('stu', (3411, 3414)), ('la', (3414, 3416)), ('▁u', (3416, 3418)), ('ret', (3418, 3421)), ('rova', (3421, 3425)), ('gin', (3425, 3428)), ('al', (3428, 3430)), (',', (3430, 3431)), ('▁este', (3431, 3436)), ('nosi', (3436, 3440)), ('s', (3440, 3441)), ('▁ure', (3441, 3445)), ('tral', (3445, 3449)), (',', (3449, 3450)), ('▁in', (3450, 3453)), ('con', (3453, 3456)), ('tin', (3456, 3459)), ('encia', (3459, 3464)), ('▁urin', (3464, 3469)), ('aria', (3469, 3473)), ('▁y', (3473, 3475)), ('▁posible', (3475, 3483)), ('▁cirugía', (3483, 3492)), ('▁reconstru', (3492, 3502)), ('c', (3502, 3503)), ('tiva', (3503, 3507)), ('▁posterior', (3507, 3517)), ('es', (3517, 3519)), ('.', (3519, 3520))]\n",
      "\n",
      "\n",
      "[('▁Proc', (3521, 3525)), ('ed', (3525, 3527)), ('imiento', (3527, 3534)), ('▁An', (3534, 3538)), ('este', (3538, 3542)), ('sia', (3542, 3545)), ('▁general', (3545, 3553)), ('.', (3553, 3554))]\n",
      "\n",
      "\n",
      "[('▁Posi', (3555, 3559)), ('ción', (3559, 3564)), ('▁de', (3564, 3567)), ('▁li', (3567, 3570)), ('to', (3570, 3572)), ('tom', (3572, 3575)), ('ía', (3575, 3578)), ('.', (3578, 3579))]\n",
      "\n",
      "\n",
      "[('▁Este', (3580, 3584)), ('ril', (3584, 3587)), ('ización', (3587, 3595)), ('▁y', (3595, 3597)), ('▁preparación', (3597, 3610)), ('▁del', (3610, 3614)), ('▁campo', (3614, 3620)), ('▁de', (3620, 3623)), ('▁los', (3623, 3627)), ('▁genital', (3627, 3635)), ('es', (3635, 3637)), ('▁externo', (3637, 3645)), ('s', (3645, 3646)), ('▁de', (3646, 3649)), ('▁la', (3649, 3652)), ('▁forma', (3652, 3658)), ('▁habitual', (3658, 3667)), ('.', (3667, 3668))]\n",
      "\n",
      "\n",
      "[('▁Punto', (3669, 3674)), ('s', (3674, 3675)), ('▁fi', (3675, 3678)), ('ja', (3678, 3680)), ('dores', (3680, 3685)), ('▁de', (3685, 3688)), ('▁seda', (3688, 3693)), ('▁en', (3693, 3696)), ('▁los', (3696, 3700)), ('▁la', (3700, 3703)), ('bios', (3703, 3707)), ('▁menores', (3707, 3715)), ('▁para', (3715, 3720)), ('▁expon', (3720, 3726)), ('er', (3726, 3728)), ('▁la', (3728, 3731)), ('▁par', (3731, 3735)), ('ed', (3735, 3737)), ('▁vaginal', (3737, 3745)), ('▁anterior', (3745, 3754)), ('.', (3754, 3755))]\n",
      "\n",
      "\n",
      "[('▁Colo', (3756, 3760)), ('ca', (3760, 3762)), ('ción', (3762, 3767)), ('▁ante', (3767, 3772)), ('ró', (3772, 3775)), ('grad', (3775, 3779)), ('a', (3779, 3780)), ('▁de', (3780, 3783)), ('▁un', (3783, 3786)), ('▁tu', (3786, 3789)), ('bo', (3789, 3791)), ('▁de', (3791, 3794)), ('▁ci', (3794, 3797)), ('stos', (3797, 3801)), ('tom', (3801, 3804)), ('ía', (3804, 3807)), ('▁supra', (3807, 3813)), ('pú', (3813, 3816)), ('bica', (3816, 3820)), ('▁de', (3820, 3823)), ('▁16', (3823, 3826)), ('▁French', (3826, 3833)), ('▁utilizando', (3833, 3844)), ('▁el', (3844, 3847)), ('▁retra', (3847, 3853)), ('ctor', (3853, 3857)), ('▁de', (3857, 3860)), ('▁Low', (3860, 3864)), ('s', (3864, 3865)), ('ley', (3865, 3868)), ('.', (3868, 3869))]\n",
      "\n",
      "\n",
      "[('▁El', (3870, 3872)), ('▁globo', (3872, 3878)), ('▁de', (3878, 3881)), ('▁este', (3881, 3886)), ('▁ca', (3886, 3889)), ('té', (3889, 3892)), ('ter', (3892, 3895)), ('▁se', (3895, 3898)), ('▁inf', (3898, 3902)), ('ló', (3902, 3905)), ('▁7', (3905, 3907)), ('▁ml', (3907, 3910)), ('▁de', (3910, 3913)), ('▁agua', (3913, 3918)), ('▁esté', (3918, 3924)), ('ril', (3924, 3927)), ('▁y', (3927, 3929)), ('▁se', (3929, 3932)), ('▁de', (3932, 3935)), ('jó', (3935, 3938)), ('▁como', (3938, 3943)), ('▁dre', (3943, 3947)), ('na', (3947, 3949)), ('je', (3949, 3951)), ('▁a', (3951, 3953)), ('▁grave', (3953, 3959)), ('dad', (3959, 3962)), ('▁durante', (3962, 3970)), ('▁toda', (3970, 3975)), ('▁la', (3975, 3978)), ('▁operación', (3978, 3989)), ('.', (3989, 3990))]\n",
      "\n",
      "\n",
      "[('▁Colo', (3991, 3995)), ('ca', (3995, 3997)), ('ción', (3997, 4002)), ('▁de', (4002, 4005)), ('▁un', (4005, 4008)), ('▁ca', (4008, 4011)), ('té', (4011, 4014)), ('ter', (4014, 4017)), ('▁ure', (4017, 4021)), ('tral', (4021, 4025)), ('▁de', (4025, 4028)), ('▁Fo', (4028, 4031)), ('ley', (4031, 4034)), ('▁de', (4034, 4037)), ('▁16', (4037, 4040)), ('▁Fr', (4040, 4043)), ('▁en', (4043, 4046)), ('▁la', (4046, 4049)), ('▁vej', (4049, 4053)), ('iga', (4053, 4056)), ('▁urin', (4056, 4061)), ('aria', (4061, 4065)), ('.', (4065, 4066))]\n",
      "\n",
      "\n",
      "[('▁Se', (4067, 4069)), ('▁realizó', (4069, 4078)), ('▁ci', (4078, 4081)), ('stos', (4081, 4085)), ('copi', (4085, 4089)), ('a', (4089, 4090)), ('▁confirma', (4090, 4099)), ('ndo', (4099, 4102)), ('▁el', (4102, 4105)), ('▁diagnóstico', (4105, 4118)), ('▁pre', (4118, 4122)), ('operator', (4122, 4130)), ('io', (4130, 4132)), ('.', (4132, 4133))]\n",
      "\n",
      "\n",
      "[('▁Se', (4134, 4136)), ('▁in', (4136, 4139)), ('filtr', (4139, 4144)), ('ó', (4144, 4146)), ('▁la', (4146, 4149)), ('▁par', (4149, 4153)), ('ed', (4153, 4155)), ('▁vaginal', (4155, 4163)), ('▁anterior', (4163, 4172)), ('▁con', (4172, 4176)), ('▁un', (4176, 4179)), ('▁total', (4179, 4185)), ('▁de', (4185, 4188)), ('▁15', (4188, 4191)), ('▁ml', (4191, 4194)), ('▁de', (4194, 4197)), ('▁solución', (4197, 4207)), ('▁sa', (4207, 4210)), ('lina', (4210, 4214)), ('▁que', (4214, 4218)), ('▁conten', (4218, 4225)), ('ía', (4225, 4228)), ('▁lido', (4228, 4233)), ('ca', (4233, 4235)), ('ína', (4235, 4239)), ('▁y', (4239, 4241)), ('▁e', (4241, 4243)), ('pine', (4243, 4247)), ('fri', (4247, 4250)), ('na', (4250, 4252)), ('.', (4252, 4253))]\n",
      "\n",
      "\n",
      "[('▁Se', (4254, 4256)), ('▁realizó', (4256, 4265)), ('▁una', (4265, 4269)), ('▁inci', (4269, 4274)), ('sión', (4274, 4279)), ('▁en', (4279, 4282)), ('▁U', (4282, 4284)), ('▁invert', (4284, 4291)), ('ida', (4291, 4294)), ('▁y', (4294, 4296)), ('▁se', (4296, 4299)), ('▁dise', (4299, 4304)), ('có', (4304, 4307)), ('▁un', (4307, 4310)), ('▁col', (4310, 4314)), ('ga', (4314, 4316)), ('jo', (4316, 4318)), ('▁de', (4318, 4321)), ('▁la', (4321, 4324)), ('▁par', (4324, 4328)), ('ed', (4328, 4330)), ('▁vaginal', (4330, 4338)), ('▁anterior', (4338, 4347)), (',', (4347, 4348)), ('▁hasta', (4348, 4354)), ('▁quedar', (4354, 4361)), ('▁exp', (4361, 4365)), ('u', (4365, 4366)), ('esta', (4366, 4370)), ('▁la', (4370, 4373)), ('▁fasci', (4373, 4379)), ('a', (4379, 4380)), ('▁per', (4380, 4384)), ('i', (4384, 4385)), ('ure', (4385, 4388)), ('tral', (4388, 4392)), ('.', (4392, 4393))]\n",
      "\n",
      "\n",
      "[('▁Se', (4394, 4396)), ('▁realizó', (4396, 4405)), ('▁una', (4405, 4409)), ('▁inci', (4409, 4414)), ('sión', (4414, 4419)), ('▁horizontal', (4419, 4430)), ('▁en', (4430, 4433)), ('▁la', (4433, 4436)), ('▁fasci', (4436, 4442)), ('a', (4442, 4443)), ('▁per', (4443, 4447)), ('i', (4447, 4448)), ('ure', (4448, 4451)), ('tral', (4451, 4455)), ('▁y', (4455, 4457)), ('▁se', (4457, 4460)), ('▁dise', (4460, 4465)), ('có', (4465, 4468)), ('▁cuidados', (4468, 4477)), ('amente', (4477, 4483)), ('▁un', (4483, 4486)), ('▁plano', (4486, 4492)), ('▁entre', (4492, 4498)), ('▁el', (4498, 4501)), ('▁di', (4501, 4504)), ('ver', (4504, 4507)), ('tí', (4507, 4510)), ('culo', (4510, 4514)), ('▁ure', (4514, 4518)), ('tral', (4518, 4522)), ('▁y', (4522, 4524)), ('▁la', (4524, 4527)), ('▁fasci', (4527, 4533)), ('a', (4533, 4534)), ('▁per', (4534, 4538)), ('i', (4538, 4539)), ('ure', (4539, 4542)), ('tral', (4542, 4546)), ('.', (4546, 4547))]\n",
      "\n",
      "\n",
      "[('▁A', (4548, 4549)), ('▁señala', (4549, 4557)), ('r', (4557, 4558)), ('▁que', (4558, 4562)), ('▁la', (4562, 4565)), ('▁par', (4565, 4569)), ('ed', (4569, 4571)), ('▁del', (4571, 4575)), ('▁di', (4575, 4578)), ('ver', (4578, 4581)), ('tí', (4581, 4584)), ('culo', (4584, 4588)), ('▁era', (4588, 4592)), ('▁muy', (4592, 4596)), ('▁gru', (4596, 4600)), ('esa', (4600, 4603)), ('▁e', (4603, 4605)), ('▁ind', (4605, 4609)), ('urada', (4609, 4614)), ('.', (4614, 4615))]\n",
      "\n",
      "\n",
      "[('▁Se', (4616, 4618)), ('▁dise', (4618, 4623)), ('có', (4623, 4626)), ('▁el', (4626, 4629)), ('▁di', (4629, 4632)), ('ver', (4632, 4635)), ('tí', (4635, 4638)), ('culo', (4638, 4642)), ('▁hasta', (4642, 4648)), ('▁el', (4648, 4651)), ('▁nivel', (4651, 4657)), ('▁de', (4657, 4660)), ('▁su', (4660, 4663)), ('▁cu', (4663, 4666)), ('ello', (4666, 4670)), ('▁propio', (4670, 4677)), ('.', (4677, 4678))]\n",
      "\n",
      "\n",
      "[('▁Se', (4679, 4681)), ('▁se', (4681, 4684)), ('ccio', (4684, 4688)), ('nó', (4688, 4691)), ('▁el', (4691, 4694)), ('▁cu', (4694, 4697)), ('ello', (4697, 4701)), ('▁diverti', (4701, 4709)), ('cular', (4709, 4714)), ('▁justo', (4714, 4720)), ('▁al', (4720, 4723)), ('▁ras', (4723, 4727)), ('▁de', (4727, 4730)), ('▁la', (4730, 4733)), ('▁ure', (4733, 4737)), ('tra', (4737, 4740)), (',', (4740, 4741)), ('▁expon', (4741, 4747)), ('iendo', (4747, 4752)), ('▁el', (4752, 4755)), ('▁ca', (4755, 4758)), ('té', (4758, 4761)), ('ter', (4761, 4764)), ('▁ure', (4764, 4768)), ('tral', (4768, 4772)), ('▁de', (4772, 4775)), ('▁Fo', (4775, 4778)), ('ley', (4778, 4781)), ('▁colocado', (4781, 4790)), ('▁previamente', (4790, 4802)), ('.', (4802, 4803))]\n",
      "\n",
      "\n",
      "[('▁Se', (4804, 4806)), ('▁aproxima', (4806, 4815)), ('ron', (4815, 4818)), ('▁los', (4818, 4822)), ('▁borde', (4822, 4828)), ('s', (4828, 4829)), ('▁de', (4829, 4832)), ('▁la', (4832, 4835)), ('▁ure', (4835, 4839)), ('tra', (4839, 4842)), ('▁su', (4842, 4845)), ('tura', (4845, 4849)), ('ndo', (4849, 4852)), ('▁la', (4852, 4855)), ('▁mu', (4855, 4858)), ('cosa', (4858, 4862)), ('▁ure', (4862, 4866)), ('tral', (4866, 4870)), ('▁de', (4870, 4873)), ('▁forma', (4873, 4879)), ('▁continua', (4879, 4888)), ('▁con', (4888, 4892)), ('▁Vy', (4892, 4895)), ('c', (4895, 4896)), ('ril', (4896, 4899)), ('▁de', (4899, 4902)), ('▁3-0', (4902, 4906)), ('.', (4906, 4907))]\n",
      "\n",
      "\n",
      "[('▁En', (4908, 4910)), ('▁el', (4910, 4913)), ('▁plano', (4913, 4919)), ('▁horizontal', (4919, 4930)), ('▁se', (4930, 4933)), ('▁rea', (4933, 4937)), ('prox', (4937, 4941)), ('im', (4941, 4943)), ('ó', (4943, 4945)), ('▁la', (4945, 4948)), ('▁fasci', (4948, 4954)), ('a', (4954, 4955)), ('▁per', (4955, 4959)), ('i', (4959, 4960)), ('ure', (4960, 4963)), ('tral', (4963, 4967)), ('▁con', (4967, 4971)), ('▁puntos', (4971, 4978)), ('▁su', (4978, 4981)), ('el', (4981, 4983)), ('tos', (4983, 4986)), ('▁de', (4986, 4989)), ('▁Vic', (4989, 4993)), ('ry', (4993, 4995)), ('l', (4995, 4996)), ('.', (4996, 4997))]\n",
      "\n",
      "\n",
      "[('▁Como', (4998, 5002)), ('▁capa', (5002, 5007)), ('▁última', (5007, 5015)), ('▁se', (5015, 5018)), ('▁utili', (5018, 5024)), ('zó', (5024, 5027)), ('▁el', (5027, 5030)), ('▁col', (5030, 5034)), ('ga', (5034, 5036)), ('jo', (5036, 5038)), ('▁vaginal', (5038, 5046)), ('▁anterior', (5046, 5055)), ('.', (5055, 5056))]\n",
      "\n",
      "\n",
      "[('▁Da', (5057, 5059)), ('do', (5059, 5061)), ('▁que', (5061, 5065)), ('▁había', (5065, 5072)), ('▁un', (5072, 5075)), ('▁exceso', (5075, 5082)), ('▁de', (5082, 5085)), ('▁tejido', (5085, 5092)), ('▁de', (5092, 5095)), ('▁par', (5095, 5099)), ('ed', (5099, 5101)), ('▁vaginal', (5101, 5109)), ('▁anterior', (5109, 5118)), ('▁que', (5118, 5122)), ('▁recu', (5122, 5127)), ('b', (5127, 5128)), ('ría', (5128, 5132)), ('▁al', (5132, 5135)), ('▁di', (5135, 5138)), ('ver', (5138, 5141)), ('tí', (5141, 5144)), ('culo', (5144, 5148)), (',', (5148, 5149)), ('▁se', (5149, 5152)), ('▁reco', (5152, 5157)), ('r', (5157, 5158)), ('tó', (5158, 5161)), ('▁dicho', (5161, 5167)), ('▁exceso', (5167, 5174)), ('▁y', (5174, 5176)), ('▁se', (5176, 5179)), ('▁cer', (5179, 5183)), ('ró', (5183, 5186)), ('▁la', (5186, 5189)), ('▁inci', (5189, 5194)), ('sión', (5194, 5199)), ('▁vaginal', (5199, 5207)), ('▁anterior', (5207, 5216)), ('▁con', (5216, 5220)), ('▁su', (5220, 5223)), ('tura', (5223, 5227)), ('▁continua', (5227, 5236)), ('▁de', (5236, 5239)), ('▁Vic', (5239, 5243)), ('ry', (5243, 5245)), ('l', (5245, 5246)), ('▁2-0', (5246, 5250)), ('.', (5250, 5251))]\n",
      "\n",
      "\n",
      "[('▁Se', (5252, 5254)), ('▁dejar', (5254, 5260)), ('on', (5260, 5262)), ('▁puesto', (5262, 5269)), ('s', (5269, 5270)), ('▁el', (5270, 5273)), ('▁ca', (5273, 5276)), ('té', (5276, 5279)), ('ter', (5279, 5282)), ('▁ure', (5282, 5286)), ('tral', (5286, 5290)), ('▁de', (5290, 5293)), ('▁Fo', (5293, 5296)), ('ley', (5296, 5299)), ('▁y', (5299, 5301)), ('▁la', (5301, 5304)), ('▁c', (5304, 5306)), ('isto', (5306, 5310)), ('tom', (5310, 5313)), ('ía', (5313, 5316)), ('▁supra', (5316, 5322)), ('pú', (5322, 5325)), ('bica', (5325, 5329)), ('▁se', (5329, 5332)), ('▁de', (5332, 5335)), ('jo', (5335, 5337)), ('▁d', (5337, 5339)), ('ren', (5339, 5342)), ('ando', (5342, 5346)), ('▁a', (5346, 5348)), ('▁grave', (5348, 5354)), ('dad', (5354, 5357)), ('.', (5357, 5358))]\n",
      "\n",
      "\n",
      "[('▁A', (5359, 5360)), ('▁señala', (5360, 5368)), ('r', (5368, 5369)), ('▁la', (5369, 5372)), ('▁gran', (5372, 5377)), ('▁dificultad', (5377, 5388)), ('▁de', (5388, 5391)), ('▁la', (5391, 5394)), ('▁dise', (5394, 5399)), ('cción', (5399, 5405)), ('▁del', (5405, 5409)), ('▁di', (5409, 5412)), ('ver', (5412, 5415)), ('tí', (5415, 5418)), ('culo', (5418, 5422)), ('▁que', (5422, 5426)), ('▁result', (5426, 5433)), ('ó', (5433, 5435)), ('▁med', (5435, 5439)), ('ir', (5439, 5441)), ('▁4', (5441, 5443)), ('▁cm', (5443, 5446)), ('▁de', (5446, 5449)), ('▁longitud', (5449, 5458)), (',', (5458, 5459)), ('▁debido', (5459, 5466)), ('▁sobre', (5466, 5472)), ('▁todo', (5472, 5477)), ('▁a', (5477, 5479)), ('▁la', (5479, 5482)), ('▁dificultad', (5482, 5493)), ('▁para', (5493, 5498)), ('▁dise', (5498, 5503)), ('car', (5503, 5506)), ('▁todo', (5506, 5511)), ('▁el', (5511, 5514)), ('▁tra', (5514, 5518)), ('y', (5518, 5519)), ('ecto', (5519, 5523)), ('▁hasta', (5523, 5529)), ('▁el', (5529, 5532)), ('▁cu', (5532, 5535)), ('ello', (5535, 5539)), ('▁del', (5539, 5543)), ('▁di', (5543, 5546)), ('ver', (5546, 5549)), ('tí', (5549, 5552)), ('culo', (5552, 5556)), ('.', (5556, 5557))]\n",
      "\n",
      "\n",
      "[('▁Inform', (5558, 5564)), ('e', (5564, 5565)), ('▁pat', (5565, 5569)), ('ológico', (5569, 5577)), (':', (5577, 5578)), ('▁Fragment', (5578, 5587)), ('o', (5587, 5588)), ('▁', (5588, 5589)), ('tis', (5589, 5592)), ('ular', (5592, 5596)), ('▁de', (5596, 5599)), ('▁4', (5599, 5601)), (',', (5601, 5602)), ('0', (5602, 5603)), ('▁x', (5603, 5605)), ('▁2,0', (5605, 5609)), ('▁x', (5609, 5611)), ('▁0,5', (5611, 5615)), ('▁cm', (5615, 5618)), ('▁y', (5618, 5620)), ('▁otro', (5620, 5625)), ('▁fragment', (5625, 5634)), ('o', (5634, 5635)), ('▁', (5635, 5636)), ('tis', (5636, 5639)), ('ular', (5639, 5643)), ('▁de', (5643, 5646)), ('▁2,0', (5646, 5650)), ('▁x', (5650, 5652)), ('▁1,0', (5652, 5656)), ('▁x', (5656, 5658)), ('▁0,5', (5658, 5662)), ('▁cm', (5662, 5665)), ('▁compatible', (5665, 5676)), ('s', (5676, 5677)), ('▁con', (5677, 5681)), ('▁di', (5681, 5684)), ('ver', (5684, 5687)), ('tí', (5687, 5690)), ('culo', (5690, 5694)), ('▁ure', (5694, 5698)), ('tral', (5698, 5702)), ('▁complejo', (5702, 5711)), (',', (5711, 5712)), ('▁con', (5712, 5716)), ('▁inflama', (5716, 5724)), ('ción', (5724, 5729)), ('▁crónica', (5729, 5738)), ('▁recu', (5738, 5743)), ('bri', (5743, 5746)), ('endo', (5746, 5750)), ('▁tejido', (5750, 5757)), ('▁con', (5757, 5761)), ('ec', (5761, 5763)), ('tivo', (5763, 5767)), ('▁den', (5767, 5771)), ('so', (5771, 5773)), ('.', (5773, 5774))]\n",
      "\n",
      "\n"
     ]
    }
   ],
   "source": [
    "for i in range(check_id_frag, check_id_frag + dev_frag[check_id]):\n",
    "    print(list(zip([tokenizer._convert_id_to_token(int(ind)) for ind in dev_ind[i]][1:len(dev_start_end_frag[i])+1], \n",
    "               dev_start_end_frag[i])))\n",
    "    print(\"\\n\")"
   ]
  },
  {
   "cell_type": "code",
   "execution_count": 85,
   "metadata": {},
   "outputs": [
    {
     "name": "stdout",
     "output_type": "stream",
     "text": [
      "<s> ▁Una ▁mujer ▁de ▁35 ▁años ▁consult ó ▁por ▁got eo ▁terminal ▁o ▁\" mi cción ▁babe ante \", ▁dispar eu nia ▁e ▁in fec ciones ▁urin arias ▁de ▁repeti ción . </s> <pad> <pad> <pad> <pad> <pad> <pad> <pad> <pad> <pad> <pad> <pad> <pad> <pad> <pad> <pad> <pad> <pad> <pad> <pad> <pad> <pad> <pad> <pad> <pad> <pad> <pad> <pad> <pad> <pad> <pad> <pad> <pad> <pad> <pad> <pad> <pad> <pad> <pad> <pad> <pad> <pad> <pad> <pad> <pad> <pad> <pad> <pad> <pad> <pad> <pad> <pad> <pad> <pad> <pad> <pad> <pad> <pad> <pad> <pad> <pad> <pad> <pad> <pad> <pad> <pad> <pad> <pad> <pad> <pad> <pad> <pad> <pad> <pad> <pad> <pad> <pad> <pad> <pad> <pad> <pad> <pad> <pad> <pad> <pad> <pad> <pad> <pad> <pad> <pad> <pad> <pad> <pad> <pad> <pad> <pad> \n",
      "\n",
      "<s> ▁En ▁la ▁ur ografía ▁intra ven osa ▁y ▁en ▁la ▁ci st ografía ▁mic cional ▁se ▁encontrar on ▁halla z gos ▁compatible s ▁con ▁di ver tí culo ▁ure tral . </s> <pad> <pad> <pad> <pad> <pad> <pad> <pad> <pad> <pad> <pad> <pad> <pad> <pad> <pad> <pad> <pad> <pad> <pad> <pad> <pad> <pad> <pad> <pad> <pad> <pad> <pad> <pad> <pad> <pad> <pad> <pad> <pad> <pad> <pad> <pad> <pad> <pad> <pad> <pad> <pad> <pad> <pad> <pad> <pad> <pad> <pad> <pad> <pad> <pad> <pad> <pad> <pad> <pad> <pad> <pad> <pad> <pad> <pad> <pad> <pad> <pad> <pad> <pad> <pad> <pad> <pad> <pad> <pad> <pad> <pad> <pad> <pad> <pad> <pad> <pad> <pad> <pad> <pad> <pad> <pad> <pad> <pad> <pad> <pad> <pad> <pad> <pad> <pad> <pad> <pad> <pad> <pad> <pad> <pad> <pad> \n",
      "\n",
      "<s> ▁La ▁paciente ▁a que ja ba ▁frecuencia ▁urin aria ▁y ▁nic turi a ▁de ▁3 ▁a ▁4 ▁veces . </s> <pad> <pad> <pad> <pad> <pad> <pad> <pad> <pad> <pad> <pad> <pad> <pad> <pad> <pad> <pad> <pad> <pad> <pad> <pad> <pad> <pad> <pad> <pad> <pad> <pad> <pad> <pad> <pad> <pad> <pad> <pad> <pad> <pad> <pad> <pad> <pad> <pad> <pad> <pad> <pad> <pad> <pad> <pad> <pad> <pad> <pad> <pad> <pad> <pad> <pad> <pad> <pad> <pad> <pad> <pad> <pad> <pad> <pad> <pad> <pad> <pad> <pad> <pad> <pad> <pad> <pad> <pad> <pad> <pad> <pad> <pad> <pad> <pad> <pad> <pad> <pad> <pad> <pad> <pad> <pad> <pad> <pad> <pad> <pad> <pad> <pad> <pad> <pad> <pad> <pad> <pad> <pad> <pad> <pad> <pad> <pad> <pad> <pad> <pad> <pad> <pad> <pad> <pad> <pad> <pad> <pad> <pad> \n",
      "\n",
      "<s> ▁O ca sional mente ▁había ▁tenido ▁episodio s ▁a isla dos ▁de ▁in con tin encia ▁urin aria ▁de ▁estrés ▁por ▁lo ▁que ▁usa ba ▁una ▁compre sa ▁diaria ▁de ▁protección . </s> <pad> <pad> <pad> <pad> <pad> <pad> <pad> <pad> <pad> <pad> <pad> <pad> <pad> <pad> <pad> <pad> <pad> <pad> <pad> <pad> <pad> <pad> <pad> <pad> <pad> <pad> <pad> <pad> <pad> <pad> <pad> <pad> <pad> <pad> <pad> <pad> <pad> <pad> <pad> <pad> <pad> <pad> <pad> <pad> <pad> <pad> <pad> <pad> <pad> <pad> <pad> <pad> <pad> <pad> <pad> <pad> <pad> <pad> <pad> <pad> <pad> <pad> <pad> <pad> <pad> <pad> <pad> <pad> <pad> <pad> <pad> <pad> <pad> <pad> <pad> <pad> <pad> <pad> <pad> <pad> <pad> <pad> <pad> <pad> <pad> <pad> <pad> <pad> <pad> <pad> <pad> <pad> <pad> <pad> \n",
      "\n",
      "<s> ▁Presenta ba ▁urge ncia ▁urin aria ▁e ▁in con tin encia ▁de ▁urge ncia ▁ocasiona l . </s> <pad> <pad> <pad> <pad> <pad> <pad> <pad> <pad> <pad> <pad> <pad> <pad> <pad> <pad> <pad> <pad> <pad> <pad> <pad> <pad> <pad> <pad> <pad> <pad> <pad> <pad> <pad> <pad> <pad> <pad> <pad> <pad> <pad> <pad> <pad> <pad> <pad> <pad> <pad> <pad> <pad> <pad> <pad> <pad> <pad> <pad> <pad> <pad> <pad> <pad> <pad> <pad> <pad> <pad> <pad> <pad> <pad> <pad> <pad> <pad> <pad> <pad> <pad> <pad> <pad> <pad> <pad> <pad> <pad> <pad> <pad> <pad> <pad> <pad> <pad> <pad> <pad> <pad> <pad> <pad> <pad> <pad> <pad> <pad> <pad> <pad> <pad> <pad> <pad> <pad> <pad> <pad> <pad> <pad> <pad> <pad> <pad> <pad> <pad> <pad> <pad> <pad> <pad> <pad> <pad> <pad> <pad> <pad> <pad> \n",
      "\n",
      "<s> ▁No ▁presenta ba ▁mi cción ▁entre cor tada , ▁ni ▁sensación ▁de ▁presión ▁vesi cal ▁o ▁de ▁va ci amiento ▁incomp le to . </s> <pad> <pad> <pad> <pad> <pad> <pad> <pad> <pad> <pad> <pad> <pad> <pad> <pad> <pad> <pad> <pad> <pad> <pad> <pad> <pad> <pad> <pad> <pad> <pad> <pad> <pad> <pad> <pad> <pad> <pad> <pad> <pad> <pad> <pad> <pad> <pad> <pad> <pad> <pad> <pad> <pad> <pad> <pad> <pad> <pad> <pad> <pad> <pad> <pad> <pad> <pad> <pad> <pad> <pad> <pad> <pad> <pad> <pad> <pad> <pad> <pad> <pad> <pad> <pad> <pad> <pad> <pad> <pad> <pad> <pad> <pad> <pad> <pad> <pad> <pad> <pad> <pad> <pad> <pad> <pad> <pad> <pad> <pad> <pad> <pad> <pad> <pad> <pad> <pad> <pad> <pad> <pad> <pad> <pad> <pad> <pad> <pad> <pad> <pad> <pad> <pad> <pad> \n",
      "\n",
      "<s> ▁No ▁presenta ba ▁hemat uria ▁ni ▁síntomas ▁ni ▁signo s ▁de ▁cáncer ▁geni tour in ario . </s> <pad> <pad> <pad> <pad> <pad> <pad> <pad> <pad> <pad> <pad> <pad> <pad> <pad> <pad> <pad> <pad> <pad> <pad> <pad> <pad> <pad> <pad> <pad> <pad> <pad> <pad> <pad> <pad> <pad> <pad> <pad> <pad> <pad> <pad> <pad> <pad> <pad> <pad> <pad> <pad> <pad> <pad> <pad> <pad> <pad> <pad> <pad> <pad> <pad> <pad> <pad> <pad> <pad> <pad> <pad> <pad> <pad> <pad> <pad> <pad> <pad> <pad> <pad> <pad> <pad> <pad> <pad> <pad> <pad> <pad> <pad> <pad> <pad> <pad> <pad> <pad> <pad> <pad> <pad> <pad> <pad> <pad> <pad> <pad> <pad> <pad> <pad> <pad> <pad> <pad> <pad> <pad> <pad> <pad> <pad> <pad> <pad> <pad> <pad> <pad> <pad> <pad> <pad> <pad> <pad> <pad> <pad> <pad> <pad> \n",
      "\n",
      "<s> ▁Rit mo ▁intestinal ▁normal . </s> <pad> <pad> <pad> <pad> <pad> <pad> <pad> <pad> <pad> <pad> <pad> <pad> <pad> <pad> <pad> <pad> <pad> <pad> <pad> <pad> <pad> <pad> <pad> <pad> <pad> <pad> <pad> <pad> <pad> <pad> <pad> <pad> <pad> <pad> <pad> <pad> <pad> <pad> <pad> <pad> <pad> <pad> <pad> <pad> <pad> <pad> <pad> <pad> <pad> <pad> <pad> <pad> <pad> <pad> <pad> <pad> <pad> <pad> <pad> <pad> <pad> <pad> <pad> <pad> <pad> <pad> <pad> <pad> <pad> <pad> <pad> <pad> <pad> <pad> <pad> <pad> <pad> <pad> <pad> <pad> <pad> <pad> <pad> <pad> <pad> <pad> <pad> <pad> <pad> <pad> <pad> <pad> <pad> <pad> <pad> <pad> <pad> <pad> <pad> <pad> <pad> <pad> <pad> <pad> <pad> <pad> <pad> <pad> <pad> <pad> <pad> <pad> <pad> <pad> <pad> <pad> <pad> <pad> <pad> <pad> <pad> \n",
      "\n",
      "<s> ▁No ▁dis fun ción ▁sexual ▁femenina ▁previa ▁hasta ▁la ▁presente ▁dispar eu nia ▁que ▁afecta ▁a ▁su ▁vida ▁sexual . </s> <pad> <pad> <pad> <pad> <pad> <pad> <pad> <pad> <pad> <pad> <pad> <pad> <pad> <pad> <pad> <pad> <pad> <pad> <pad> <pad> <pad> <pad> <pad> <pad> <pad> <pad> <pad> <pad> <pad> <pad> <pad> <pad> <pad> <pad> <pad> <pad> <pad> <pad> <pad> <pad> <pad> <pad> <pad> <pad> <pad> <pad> <pad> <pad> <pad> <pad> <pad> <pad> <pad> <pad> <pad> <pad> <pad> <pad> <pad> <pad> <pad> <pad> <pad> <pad> <pad> <pad> <pad> <pad> <pad> <pad> <pad> <pad> <pad> <pad> <pad> <pad> <pad> <pad> <pad> <pad> <pad> <pad> <pad> <pad> <pad> <pad> <pad> <pad> <pad> <pad> <pad> <pad> <pad> <pad> <pad> <pad> <pad> <pad> <pad> <pad> <pad> <pad> <pad> <pad> <pad> <pad> \n",
      "\n",
      "<s> ▁No ▁antecede ntes ▁pat ológico s ▁neuro lógico s . </s> <pad> <pad> <pad> <pad> <pad> <pad> <pad> <pad> <pad> <pad> <pad> <pad> <pad> <pad> <pad> <pad> <pad> <pad> <pad> <pad> <pad> <pad> <pad> <pad> <pad> <pad> <pad> <pad> <pad> <pad> <pad> <pad> <pad> <pad> <pad> <pad> <pad> <pad> <pad> <pad> <pad> <pad> <pad> <pad> <pad> <pad> <pad> <pad> <pad> <pad> <pad> <pad> <pad> <pad> <pad> <pad> <pad> <pad> <pad> <pad> <pad> <pad> <pad> <pad> <pad> <pad> <pad> <pad> <pad> <pad> <pad> <pad> <pad> <pad> <pad> <pad> <pad> <pad> <pad> <pad> <pad> <pad> <pad> <pad> <pad> <pad> <pad> <pad> <pad> <pad> <pad> <pad> <pad> <pad> <pad> <pad> <pad> <pad> <pad> <pad> <pad> <pad> <pad> <pad> <pad> <pad> <pad> <pad> <pad> <pad> <pad> <pad> <pad> <pad> <pad> <pad> \n",
      "\n",
      "<s> ▁Ante ced entes ▁médicos ▁y ▁qui rú rg icos : ▁Hip er ten sión ▁arterial . </s> <pad> <pad> <pad> <pad> <pad> <pad> <pad> <pad> <pad> <pad> <pad> <pad> <pad> <pad> <pad> <pad> <pad> <pad> <pad> <pad> <pad> <pad> <pad> <pad> <pad> <pad> <pad> <pad> <pad> <pad> <pad> <pad> <pad> <pad> <pad> <pad> <pad> <pad> <pad> <pad> <pad> <pad> <pad> <pad> <pad> <pad> <pad> <pad> <pad> <pad> <pad> <pad> <pad> <pad> <pad> <pad> <pad> <pad> <pad> <pad> <pad> <pad> <pad> <pad> <pad> <pad> <pad> <pad> <pad> <pad> <pad> <pad> <pad> <pad> <pad> <pad> <pad> <pad> <pad> <pad> <pad> <pad> <pad> <pad> <pad> <pad> <pad> <pad> <pad> <pad> <pad> <pad> <pad> <pad> <pad> <pad> <pad> <pad> <pad> <pad> <pad> <pad> <pad> <pad> <pad> <pad> <pad> <pad> <pad> <pad> \n",
      "\n",
      "<s> ▁As ma ▁en ▁la ▁infancia . </s> <pad> <pad> <pad> <pad> <pad> <pad> <pad> <pad> <pad> <pad> <pad> <pad> <pad> <pad> <pad> <pad> <pad> <pad> <pad> <pad> <pad> <pad> <pad> <pad> <pad> <pad> <pad> <pad> <pad> <pad> <pad> <pad> <pad> <pad> <pad> <pad> <pad> <pad> <pad> <pad> <pad> <pad> <pad> <pad> <pad> <pad> <pad> <pad> <pad> <pad> <pad> <pad> <pad> <pad> <pad> <pad> <pad> <pad> <pad> <pad> <pad> <pad> <pad> <pad> <pad> <pad> <pad> <pad> <pad> <pad> <pad> <pad> <pad> <pad> <pad> <pad> <pad> <pad> <pad> <pad> <pad> <pad> <pad> <pad> <pad> <pad> <pad> <pad> <pad> <pad> <pad> <pad> <pad> <pad> <pad> <pad> <pad> <pad> <pad> <pad> <pad> <pad> <pad> <pad> <pad> <pad> <pad> <pad> <pad> <pad> <pad> <pad> <pad> <pad> <pad> <pad> <pad> <pad> <pad> <pad> \n",
      "\n",
      "<s> ▁Dolor ▁lum bos a cro ▁ocasiona l . </s> <pad> <pad> <pad> <pad> <pad> <pad> <pad> <pad> <pad> <pad> <pad> <pad> <pad> <pad> <pad> <pad> <pad> <pad> <pad> <pad> <pad> <pad> <pad> <pad> <pad> <pad> <pad> <pad> <pad> <pad> <pad> <pad> <pad> <pad> <pad> <pad> <pad> <pad> <pad> <pad> <pad> <pad> <pad> <pad> <pad> <pad> <pad> <pad> <pad> <pad> <pad> <pad> <pad> <pad> <pad> <pad> <pad> <pad> <pad> <pad> <pad> <pad> <pad> <pad> <pad> <pad> <pad> <pad> <pad> <pad> <pad> <pad> <pad> <pad> <pad> <pad> <pad> <pad> <pad> <pad> <pad> <pad> <pad> <pad> <pad> <pad> <pad> <pad> <pad> <pad> <pad> <pad> <pad> <pad> <pad> <pad> <pad> <pad> <pad> <pad> <pad> <pad> <pad> <pad> <pad> <pad> <pad> <pad> <pad> <pad> <pad> <pad> <pad> <pad> <pad> <pad> <pad> <pad> \n",
      "\n",
      "<s> ▁Cole cis tec tom ía ▁la paro s có pica ▁hace ▁2 ▁años . </s> <pad> <pad> <pad> <pad> <pad> <pad> <pad> <pad> <pad> <pad> <pad> <pad> <pad> <pad> <pad> <pad> <pad> <pad> <pad> <pad> <pad> <pad> <pad> <pad> <pad> <pad> <pad> <pad> <pad> <pad> <pad> <pad> <pad> <pad> <pad> <pad> <pad> <pad> <pad> <pad> <pad> <pad> <pad> <pad> <pad> <pad> <pad> <pad> <pad> <pad> <pad> <pad> <pad> <pad> <pad> <pad> <pad> <pad> <pad> <pad> <pad> <pad> <pad> <pad> <pad> <pad> <pad> <pad> <pad> <pad> <pad> <pad> <pad> <pad> <pad> <pad> <pad> <pad> <pad> <pad> <pad> <pad> <pad> <pad> <pad> <pad> <pad> <pad> <pad> <pad> <pad> <pad> <pad> <pad> <pad> <pad> <pad> <pad> <pad> <pad> <pad> <pad> <pad> <pad> <pad> <pad> <pad> <pad> <pad> <pad> <pad> <pad> \n",
      "\n",
      "<s> ▁Dos ▁ces á rea s , ▁la ▁última ▁hace ▁12 ▁años . </s> <pad> <pad> <pad> <pad> <pad> <pad> <pad> <pad> <pad> <pad> <pad> <pad> <pad> <pad> <pad> <pad> <pad> <pad> <pad> <pad> <pad> <pad> <pad> <pad> <pad> <pad> <pad> <pad> <pad> <pad> <pad> <pad> <pad> <pad> <pad> <pad> <pad> <pad> <pad> <pad> <pad> <pad> <pad> <pad> <pad> <pad> <pad> <pad> <pad> <pad> <pad> <pad> <pad> <pad> <pad> <pad> <pad> <pad> <pad> <pad> <pad> <pad> <pad> <pad> <pad> <pad> <pad> <pad> <pad> <pad> <pad> <pad> <pad> <pad> <pad> <pad> <pad> <pad> <pad> <pad> <pad> <pad> <pad> <pad> <pad> <pad> <pad> <pad> <pad> <pad> <pad> <pad> <pad> <pad> <pad> <pad> <pad> <pad> <pad> <pad> <pad> <pad> <pad> <pad> <pad> <pad> <pad> <pad> <pad> <pad> <pad> <pad> <pad> <pad> \n",
      "\n",
      "<s> ▁En ▁tratamiento ▁anti hi per tensi vo ▁con ▁at eno lol , ▁chlor tali dona ▁y ▁am lo di pino . </s> <pad> <pad> <pad> <pad> <pad> <pad> <pad> <pad> <pad> <pad> <pad> <pad> <pad> <pad> <pad> <pad> <pad> <pad> <pad> <pad> <pad> <pad> <pad> <pad> <pad> <pad> <pad> <pad> <pad> <pad> <pad> <pad> <pad> <pad> <pad> <pad> <pad> <pad> <pad> <pad> <pad> <pad> <pad> <pad> <pad> <pad> <pad> <pad> <pad> <pad> <pad> <pad> <pad> <pad> <pad> <pad> <pad> <pad> <pad> <pad> <pad> <pad> <pad> <pad> <pad> <pad> <pad> <pad> <pad> <pad> <pad> <pad> <pad> <pad> <pad> <pad> <pad> <pad> <pad> <pad> <pad> <pad> <pad> <pad> <pad> <pad> <pad> <pad> <pad> <pad> <pad> <pad> <pad> <pad> <pad> <pad> <pad> <pad> <pad> <pad> <pad> <pad> <pad> <pad> <pad> \n",
      "\n",
      "<s> ▁No ▁alergi as ▁conocida s . </s> <pad> <pad> <pad> <pad> <pad> <pad> <pad> <pad> <pad> <pad> <pad> <pad> <pad> <pad> <pad> <pad> <pad> <pad> <pad> <pad> <pad> <pad> <pad> <pad> <pad> <pad> <pad> <pad> <pad> <pad> <pad> <pad> <pad> <pad> <pad> <pad> <pad> <pad> <pad> <pad> <pad> <pad> <pad> <pad> <pad> <pad> <pad> <pad> <pad> <pad> <pad> <pad> <pad> <pad> <pad> <pad> <pad> <pad> <pad> <pad> <pad> <pad> <pad> <pad> <pad> <pad> <pad> <pad> <pad> <pad> <pad> <pad> <pad> <pad> <pad> <pad> <pad> <pad> <pad> <pad> <pad> <pad> <pad> <pad> <pad> <pad> <pad> <pad> <pad> <pad> <pad> <pad> <pad> <pad> <pad> <pad> <pad> <pad> <pad> <pad> <pad> <pad> <pad> <pad> <pad> <pad> <pad> <pad> <pad> <pad> <pad> <pad> <pad> <pad> <pad> <pad> <pad> <pad> <pad> <pad> \n",
      "\n",
      "<s> ▁No ▁diabetes . </s> <pad> <pad> <pad> <pad> <pad> <pad> <pad> <pad> <pad> <pad> <pad> <pad> <pad> <pad> <pad> <pad> <pad> <pad> <pad> <pad> <pad> <pad> <pad> <pad> <pad> <pad> <pad> <pad> <pad> <pad> <pad> <pad> <pad> <pad> <pad> <pad> <pad> <pad> <pad> <pad> <pad> <pad> <pad> <pad> <pad> <pad> <pad> <pad> <pad> <pad> <pad> <pad> <pad> <pad> <pad> <pad> <pad> <pad> <pad> <pad> <pad> <pad> <pad> <pad> <pad> <pad> <pad> <pad> <pad> <pad> <pad> <pad> <pad> <pad> <pad> <pad> <pad> <pad> <pad> <pad> <pad> <pad> <pad> <pad> <pad> <pad> <pad> <pad> <pad> <pad> <pad> <pad> <pad> <pad> <pad> <pad> <pad> <pad> <pad> <pad> <pad> <pad> <pad> <pad> <pad> <pad> <pad> <pad> <pad> <pad> <pad> <pad> <pad> <pad> <pad> <pad> <pad> <pad> <pad> <pad> <pad> <pad> <pad> \n",
      "\n",
      "<s> ▁No ▁fum a ▁ni ▁bebe . </s> <pad> <pad> <pad> <pad> <pad> <pad> <pad> <pad> <pad> <pad> <pad> <pad> <pad> <pad> <pad> <pad> <pad> <pad> <pad> <pad> <pad> <pad> <pad> <pad> <pad> <pad> <pad> <pad> <pad> <pad> <pad> <pad> <pad> <pad> <pad> <pad> <pad> <pad> <pad> <pad> <pad> <pad> <pad> <pad> <pad> <pad> <pad> <pad> <pad> <pad> <pad> <pad> <pad> <pad> <pad> <pad> <pad> <pad> <pad> <pad> <pad> <pad> <pad> <pad> <pad> <pad> <pad> <pad> <pad> <pad> <pad> <pad> <pad> <pad> <pad> <pad> <pad> <pad> <pad> <pad> <pad> <pad> <pad> <pad> <pad> <pad> <pad> <pad> <pad> <pad> <pad> <pad> <pad> <pad> <pad> <pad> <pad> <pad> <pad> <pad> <pad> <pad> <pad> <pad> <pad> <pad> <pad> <pad> <pad> <pad> <pad> <pad> <pad> <pad> <pad> <pad> <pad> <pad> <pad> <pad> \n",
      "\n",
      "<s> ▁Explo r ación ▁física : ▁Ob es idad ▁mór bida . </s> <pad> <pad> <pad> <pad> <pad> <pad> <pad> <pad> <pad> <pad> <pad> <pad> <pad> <pad> <pad> <pad> <pad> <pad> <pad> <pad> <pad> <pad> <pad> <pad> <pad> <pad> <pad> <pad> <pad> <pad> <pad> <pad> <pad> <pad> <pad> <pad> <pad> <pad> <pad> <pad> <pad> <pad> <pad> <pad> <pad> <pad> <pad> <pad> <pad> <pad> <pad> <pad> <pad> <pad> <pad> <pad> <pad> <pad> <pad> <pad> <pad> <pad> <pad> <pad> <pad> <pad> <pad> <pad> <pad> <pad> <pad> <pad> <pad> <pad> <pad> <pad> <pad> <pad> <pad> <pad> <pad> <pad> <pad> <pad> <pad> <pad> <pad> <pad> <pad> <pad> <pad> <pad> <pad> <pad> <pad> <pad> <pad> <pad> <pad> <pad> <pad> <pad> <pad> <pad> <pad> <pad> <pad> <pad> <pad> <pad> <pad> <pad> <pad> <pad> <pad> \n",
      "\n",
      "<s> ▁Bu en ▁estado ▁de ▁salud ▁general . </s> <pad> <pad> <pad> <pad> <pad> <pad> <pad> <pad> <pad> <pad> <pad> <pad> <pad> <pad> <pad> <pad> <pad> <pad> <pad> <pad> <pad> <pad> <pad> <pad> <pad> <pad> <pad> <pad> <pad> <pad> <pad> <pad> <pad> <pad> <pad> <pad> <pad> <pad> <pad> <pad> <pad> <pad> <pad> <pad> <pad> <pad> <pad> <pad> <pad> <pad> <pad> <pad> <pad> <pad> <pad> <pad> <pad> <pad> <pad> <pad> <pad> <pad> <pad> <pad> <pad> <pad> <pad> <pad> <pad> <pad> <pad> <pad> <pad> <pad> <pad> <pad> <pad> <pad> <pad> <pad> <pad> <pad> <pad> <pad> <pad> <pad> <pad> <pad> <pad> <pad> <pad> <pad> <pad> <pad> <pad> <pad> <pad> <pad> <pad> <pad> <pad> <pad> <pad> <pad> <pad> <pad> <pad> <pad> <pad> <pad> <pad> <pad> <pad> <pad> <pad> <pad> <pad> <pad> <pad> \n",
      "\n",
      "<s> ▁Explo r ación ▁de ▁cabeza , ▁cu ello ▁y ▁cardio - pul mon ar ▁sin ▁halla z gos ▁pat ológico s . </s> <pad> <pad> <pad> <pad> <pad> <pad> <pad> <pad> <pad> <pad> <pad> <pad> <pad> <pad> <pad> <pad> <pad> <pad> <pad> <pad> <pad> <pad> <pad> <pad> <pad> <pad> <pad> <pad> <pad> <pad> <pad> <pad> <pad> <pad> <pad> <pad> <pad> <pad> <pad> <pad> <pad> <pad> <pad> <pad> <pad> <pad> <pad> <pad> <pad> <pad> <pad> <pad> <pad> <pad> <pad> <pad> <pad> <pad> <pad> <pad> <pad> <pad> <pad> <pad> <pad> <pad> <pad> <pad> <pad> <pad> <pad> <pad> <pad> <pad> <pad> <pad> <pad> <pad> <pad> <pad> <pad> <pad> <pad> <pad> <pad> <pad> <pad> <pad> <pad> <pad> <pad> <pad> <pad> <pad> <pad> <pad> <pad> <pad> <pad> <pad> <pad> <pad> <pad> <pad> \n",
      "\n",
      "<s> ▁Ten sión ▁arterial : ▁140 /100 . </s> <pad> <pad> <pad> <pad> <pad> <pad> <pad> <pad> <pad> <pad> <pad> <pad> <pad> <pad> <pad> <pad> <pad> <pad> <pad> <pad> <pad> <pad> <pad> <pad> <pad> <pad> <pad> <pad> <pad> <pad> <pad> <pad> <pad> <pad> <pad> <pad> <pad> <pad> <pad> <pad> <pad> <pad> <pad> <pad> <pad> <pad> <pad> <pad> <pad> <pad> <pad> <pad> <pad> <pad> <pad> <pad> <pad> <pad> <pad> <pad> <pad> <pad> <pad> <pad> <pad> <pad> <pad> <pad> <pad> <pad> <pad> <pad> <pad> <pad> <pad> <pad> <pad> <pad> <pad> <pad> <pad> <pad> <pad> <pad> <pad> <pad> <pad> <pad> <pad> <pad> <pad> <pad> <pad> <pad> <pad> <pad> <pad> <pad> <pad> <pad> <pad> <pad> <pad> <pad> <pad> <pad> <pad> <pad> <pad> <pad> <pad> <pad> <pad> <pad> <pad> <pad> <pad> <pad> <pad> \n",
      "\n",
      "<s> ▁Ab dom en ▁bland o , ▁obes o , ▁no ▁dolor oso , ▁no ▁he pato es ple nome gali a . </s> <pad> <pad> <pad> <pad> <pad> <pad> <pad> <pad> <pad> <pad> <pad> <pad> <pad> <pad> <pad> <pad> <pad> <pad> <pad> <pad> <pad> <pad> <pad> <pad> <pad> <pad> <pad> <pad> <pad> <pad> <pad> <pad> <pad> <pad> <pad> <pad> <pad> <pad> <pad> <pad> <pad> <pad> <pad> <pad> <pad> <pad> <pad> <pad> <pad> <pad> <pad> <pad> <pad> <pad> <pad> <pad> <pad> <pad> <pad> <pad> <pad> <pad> <pad> <pad> <pad> <pad> <pad> <pad> <pad> <pad> <pad> <pad> <pad> <pad> <pad> <pad> <pad> <pad> <pad> <pad> <pad> <pad> <pad> <pad> <pad> <pad> <pad> <pad> <pad> <pad> <pad> <pad> <pad> <pad> <pad> <pad> <pad> <pad> <pad> <pad> <pad> <pad> <pad> <pad> \n",
      "\n",
      "<s> ▁Exam en ▁pé lv ico ▁en ▁posición ▁de ▁li to tom ía ▁dor sal : ▁In tro ito ▁vaginal ▁relativamente ▁ang osto ; ▁ab ult amiento ▁en ▁el ▁área ▁subur e tral ▁cerca ▁del ▁cu ello ▁vesi cal ▁y ▁de ▁la ▁ure tra ▁media ▁de ▁aproximadamente ▁2,5 ▁cm ▁de ▁di á metro , ▁flu ctu ante , ▁compatible ▁con ▁un ▁di ver tí culo ▁ure tral . </s> <pad> <pad> <pad> <pad> <pad> <pad> <pad> <pad> <pad> <pad> <pad> <pad> <pad> <pad> <pad> <pad> <pad> <pad> <pad> <pad> <pad> <pad> <pad> <pad> <pad> <pad> <pad> <pad> <pad> <pad> <pad> <pad> <pad> <pad> <pad> <pad> <pad> <pad> <pad> <pad> <pad> <pad> <pad> <pad> <pad> <pad> <pad> <pad> <pad> <pad> <pad> <pad> <pad> <pad> <pad> <pad> <pad> <pad> <pad> \n",
      "\n",
      "<s> ▁No ▁se ▁ob tuvo ▁pus ▁al ▁presion ar lo . </s> <pad> <pad> <pad> <pad> <pad> <pad> <pad> <pad> <pad> <pad> <pad> <pad> <pad> <pad> <pad> <pad> <pad> <pad> <pad> <pad> <pad> <pad> <pad> <pad> <pad> <pad> <pad> <pad> <pad> <pad> <pad> <pad> <pad> <pad> <pad> <pad> <pad> <pad> <pad> <pad> <pad> <pad> <pad> <pad> <pad> <pad> <pad> <pad> <pad> <pad> <pad> <pad> <pad> <pad> <pad> <pad> <pad> <pad> <pad> <pad> <pad> <pad> <pad> <pad> <pad> <pad> <pad> <pad> <pad> <pad> <pad> <pad> <pad> <pad> <pad> <pad> <pad> <pad> <pad> <pad> <pad> <pad> <pad> <pad> <pad> <pad> <pad> <pad> <pad> <pad> <pad> <pad> <pad> <pad> <pad> <pad> <pad> <pad> <pad> <pad> <pad> <pad> <pad> <pad> <pad> <pad> <pad> <pad> <pad> <pad> <pad> <pad> <pad> <pad> <pad> <pad> \n",
      "\n",
      "<s> ▁No ▁se ▁observ ó ▁in con tin encia ▁de ▁estrés . </s> <pad> <pad> <pad> <pad> <pad> <pad> <pad> <pad> <pad> <pad> <pad> <pad> <pad> <pad> <pad> <pad> <pad> <pad> <pad> <pad> <pad> <pad> <pad> <pad> <pad> <pad> <pad> <pad> <pad> <pad> <pad> <pad> <pad> <pad> <pad> <pad> <pad> <pad> <pad> <pad> <pad> <pad> <pad> <pad> <pad> <pad> <pad> <pad> <pad> <pad> <pad> <pad> <pad> <pad> <pad> <pad> <pad> <pad> <pad> <pad> <pad> <pad> <pad> <pad> <pad> <pad> <pad> <pad> <pad> <pad> <pad> <pad> <pad> <pad> <pad> <pad> <pad> <pad> <pad> <pad> <pad> <pad> <pad> <pad> <pad> <pad> <pad> <pad> <pad> <pad> <pad> <pad> <pad> <pad> <pad> <pad> <pad> <pad> <pad> <pad> <pad> <pad> <pad> <pad> <pad> <pad> <pad> <pad> <pad> <pad> <pad> <pad> <pad> <pad> <pad> \n",
      "\n",
      "<s> ▁Se ▁realizó ▁una ▁res on ancia ▁mag n ética ▁nuclear ▁( RM N ) ▁de ▁la ▁pel vis ▁en ▁las ▁secuencia s ▁T 1 ▁a xi al , ▁T 2 ▁a xi al , ▁T 2 ▁gras o ▁en ▁imágenes ▁en ▁ambos ▁la dos ▁derecho ▁e ▁iz quier do . </s> <pad> <pad> <pad> <pad> <pad> <pad> <pad> <pad> <pad> <pad> <pad> <pad> <pad> <pad> <pad> <pad> <pad> <pad> <pad> <pad> <pad> <pad> <pad> <pad> <pad> <pad> <pad> <pad> <pad> <pad> <pad> <pad> <pad> <pad> <pad> <pad> <pad> <pad> <pad> <pad> <pad> <pad> <pad> <pad> <pad> <pad> <pad> <pad> <pad> <pad> <pad> <pad> <pad> <pad> <pad> <pad> <pad> <pad> <pad> <pad> <pad> <pad> <pad> <pad> <pad> <pad> <pad> <pad> <pad> <pad> <pad> <pad> <pad> <pad> <pad> <pad> \n",
      "\n",
      "<s> ▁Se ▁encontrar on ▁dos ▁forma ciones ▁lí qui das ▁en ▁la ▁pel vis . </s> <pad> <pad> <pad> <pad> <pad> <pad> <pad> <pad> <pad> <pad> <pad> <pad> <pad> <pad> <pad> <pad> <pad> <pad> <pad> <pad> <pad> <pad> <pad> <pad> <pad> <pad> <pad> <pad> <pad> <pad> <pad> <pad> <pad> <pad> <pad> <pad> <pad> <pad> <pad> <pad> <pad> <pad> <pad> <pad> <pad> <pad> <pad> <pad> <pad> <pad> <pad> <pad> <pad> <pad> <pad> <pad> <pad> <pad> <pad> <pad> <pad> <pad> <pad> <pad> <pad> <pad> <pad> <pad> <pad> <pad> <pad> <pad> <pad> <pad> <pad> <pad> <pad> <pad> <pad> <pad> <pad> <pad> <pad> <pad> <pad> <pad> <pad> <pad> <pad> <pad> <pad> <pad> <pad> <pad> <pad> <pad> <pad> <pad> <pad> <pad> <pad> <pad> <pad> <pad> <pad> <pad> <pad> <pad> <pad> <pad> <pad> <pad> \n",
      "\n",
      "<s> ▁La ▁más ▁grande ▁med ía ▁ 3,4 ▁cm ▁en ▁su ▁e je ▁longitud in al , ▁en ▁el ▁área ▁para s agit al ▁derecha , ▁la ▁segunda ▁colección ▁med ía ▁1 ▁cm ▁en ▁su ▁e je ▁longitud in al . </s> <pad> <pad> <pad> <pad> <pad> <pad> <pad> <pad> <pad> <pad> <pad> <pad> <pad> <pad> <pad> <pad> <pad> <pad> <pad> <pad> <pad> <pad> <pad> <pad> <pad> <pad> <pad> <pad> <pad> <pad> <pad> <pad> <pad> <pad> <pad> <pad> <pad> <pad> <pad> <pad> <pad> <pad> <pad> <pad> <pad> <pad> <pad> <pad> <pad> <pad> <pad> <pad> <pad> <pad> <pad> <pad> <pad> <pad> <pad> <pad> <pad> <pad> <pad> <pad> <pad> <pad> <pad> <pad> <pad> <pad> <pad> <pad> <pad> <pad> <pad> <pad> <pad> <pad> <pad> <pad> <pad> <pad> <pad> <pad> <pad> <pad> \n",
      "\n",
      "<s> ▁La ▁formación ▁de ▁un ▁cm ▁de ▁di á metro ▁era ▁de ▁las ▁misma s ▁características ▁y ▁estaba ▁entre ▁la ▁zona ▁para s agit al ▁y ▁sa gi tal ▁media . </s> <pad> <pad> <pad> <pad> <pad> <pad> <pad> <pad> <pad> <pad> <pad> <pad> <pad> <pad> <pad> <pad> <pad> <pad> <pad> <pad> <pad> <pad> <pad> <pad> <pad> <pad> <pad> <pad> <pad> <pad> <pad> <pad> <pad> <pad> <pad> <pad> <pad> <pad> <pad> <pad> <pad> <pad> <pad> <pad> <pad> <pad> <pad> <pad> <pad> <pad> <pad> <pad> <pad> <pad> <pad> <pad> <pad> <pad> <pad> <pad> <pad> <pad> <pad> <pad> <pad> <pad> <pad> <pad> <pad> <pad> <pad> <pad> <pad> <pad> <pad> <pad> <pad> <pad> <pad> <pad> <pad> <pad> <pad> <pad> <pad> <pad> <pad> <pad> <pad> <pad> <pad> <pad> <pad> <pad> <pad> <pad> \n",
      "\n",
      "<s> ▁No ▁se ▁pudo ▁documentar ▁una ▁relación ▁con ▁la ▁ure tra ▁en ▁las ▁otras ▁secuencia s . </s> <pad> <pad> <pad> <pad> <pad> <pad> <pad> <pad> <pad> <pad> <pad> <pad> <pad> <pad> <pad> <pad> <pad> <pad> <pad> <pad> <pad> <pad> <pad> <pad> <pad> <pad> <pad> <pad> <pad> <pad> <pad> <pad> <pad> <pad> <pad> <pad> <pad> <pad> <pad> <pad> <pad> <pad> <pad> <pad> <pad> <pad> <pad> <pad> <pad> <pad> <pad> <pad> <pad> <pad> <pad> <pad> <pad> <pad> <pad> <pad> <pad> <pad> <pad> <pad> <pad> <pad> <pad> <pad> <pad> <pad> <pad> <pad> <pad> <pad> <pad> <pad> <pad> <pad> <pad> <pad> <pad> <pad> <pad> <pad> <pad> <pad> <pad> <pad> <pad> <pad> <pad> <pad> <pad> <pad> <pad> <pad> <pad> <pad> <pad> <pad> <pad> <pad> <pad> <pad> <pad> <pad> <pad> <pad> <pad> <pad> \n",
      "\n",
      "<s> ▁La ▁impresión ▁fue ▁de ▁un ▁gran ▁di ver tí culo ▁ure tral , ▁de ▁al ▁menos ▁3,5 ▁x ▁2,5 ▁cm , ▁sin ▁embargo , ▁no ▁se ▁pudo ▁descarta r ▁que ▁la ▁colección ▁más ▁pequeña ▁fuera ▁un ▁qui ste ▁de ▁la ▁g lán dula ▁de ▁Bar to lino . </s> <pad> <pad> <pad> <pad> <pad> <pad> <pad> <pad> <pad> <pad> <pad> <pad> <pad> <pad> <pad> <pad> <pad> <pad> <pad> <pad> <pad> <pad> <pad> <pad> <pad> <pad> <pad> <pad> <pad> <pad> <pad> <pad> <pad> <pad> <pad> <pad> <pad> <pad> <pad> <pad> <pad> <pad> <pad> <pad> <pad> <pad> <pad> <pad> <pad> <pad> <pad> <pad> <pad> <pad> <pad> <pad> <pad> <pad> <pad> <pad> <pad> <pad> <pad> <pad> <pad> <pad> <pad> <pad> <pad> <pad> <pad> <pad> <pad> <pad> <pad> <pad> <pad> <pad> \n",
      "\n",
      "<s> ▁En ▁la ▁c isto ure tros copi a ▁flexible ▁bajo ▁an este sia ▁se ▁en con tró ▁un ▁gran ▁di ver tí culo ▁ure tral ▁a ▁10 ▁mm ▁del ▁cu ello ▁vesi cal . </s> <pad> <pad> <pad> <pad> <pad> <pad> <pad> <pad> <pad> <pad> <pad> <pad> <pad> <pad> <pad> <pad> <pad> <pad> <pad> <pad> <pad> <pad> <pad> <pad> <pad> <pad> <pad> <pad> <pad> <pad> <pad> <pad> <pad> <pad> <pad> <pad> <pad> <pad> <pad> <pad> <pad> <pad> <pad> <pad> <pad> <pad> <pad> <pad> <pad> <pad> <pad> <pad> <pad> <pad> <pad> <pad> <pad> <pad> <pad> <pad> <pad> <pad> <pad> <pad> <pad> <pad> <pad> <pad> <pad> <pad> <pad> <pad> <pad> <pad> <pad> <pad> <pad> <pad> <pad> <pad> <pad> <pad> <pad> <pad> <pad> <pad> <pad> <pad> <pad> <pad> <pad> <pad> \n",
      "\n",
      "<s> ▁A ▁la ▁com presión , ▁no ▁hub o ▁dre na je ▁por ▁la ▁ure tra . </s> <pad> <pad> <pad> <pad> <pad> <pad> <pad> <pad> <pad> <pad> <pad> <pad> <pad> <pad> <pad> <pad> <pad> <pad> <pad> <pad> <pad> <pad> <pad> <pad> <pad> <pad> <pad> <pad> <pad> <pad> <pad> <pad> <pad> <pad> <pad> <pad> <pad> <pad> <pad> <pad> <pad> <pad> <pad> <pad> <pad> <pad> <pad> <pad> <pad> <pad> <pad> <pad> <pad> <pad> <pad> <pad> <pad> <pad> <pad> <pad> <pad> <pad> <pad> <pad> <pad> <pad> <pad> <pad> <pad> <pad> <pad> <pad> <pad> <pad> <pad> <pad> <pad> <pad> <pad> <pad> <pad> <pad> <pad> <pad> <pad> <pad> <pad> <pad> <pad> <pad> <pad> <pad> <pad> <pad> <pad> <pad> <pad> <pad> <pad> <pad> <pad> <pad> <pad> <pad> <pad> <pad> <pad> <pad> <pad> <pad> \n",
      "\n",
      "<s> ▁En ▁la ▁c isto ure tros copi a ▁con ▁ó ptica s ▁de ▁12 ▁y ▁70 ▁grado s ▁se ▁encontrar on ▁dos ▁os tium ▁en ▁la ▁ure tra ▁media ▁a ▁las ▁7 ▁del ▁horario ▁ci stos có pico . </s> <pad> <pad> <pad> <pad> <pad> <pad> <pad> <pad> <pad> <pad> <pad> <pad> <pad> <pad> <pad> <pad> <pad> <pad> <pad> <pad> <pad> <pad> <pad> <pad> <pad> <pad> <pad> <pad> <pad> <pad> <pad> <pad> <pad> <pad> <pad> <pad> <pad> <pad> <pad> <pad> <pad> <pad> <pad> <pad> <pad> <pad> <pad> <pad> <pad> <pad> <pad> <pad> <pad> <pad> <pad> <pad> <pad> <pad> <pad> <pad> <pad> <pad> <pad> <pad> <pad> <pad> <pad> <pad> <pad> <pad> <pad> <pad> <pad> <pad> <pad> <pad> <pad> <pad> <pad> <pad> <pad> <pad> <pad> <pad> <pad> <pad> <pad> \n",
      "\n",
      "<s> ▁Los ▁os tium ▁estaban ▁a ▁pocos ▁mil íme tros ▁uno ▁del ▁otro . </s> <pad> <pad> <pad> <pad> <pad> <pad> <pad> <pad> <pad> <pad> <pad> <pad> <pad> <pad> <pad> <pad> <pad> <pad> <pad> <pad> <pad> <pad> <pad> <pad> <pad> <pad> <pad> <pad> <pad> <pad> <pad> <pad> <pad> <pad> <pad> <pad> <pad> <pad> <pad> <pad> <pad> <pad> <pad> <pad> <pad> <pad> <pad> <pad> <pad> <pad> <pad> <pad> <pad> <pad> <pad> <pad> <pad> <pad> <pad> <pad> <pad> <pad> <pad> <pad> <pad> <pad> <pad> <pad> <pad> <pad> <pad> <pad> <pad> <pad> <pad> <pad> <pad> <pad> <pad> <pad> <pad> <pad> <pad> <pad> <pad> <pad> <pad> <pad> <pad> <pad> <pad> <pad> <pad> <pad> <pad> <pad> <pad> <pad> <pad> <pad> <pad> <pad> <pad> <pad> <pad> <pad> <pad> <pad> <pad> <pad> <pad> <pad> <pad> \n",
      "\n",
      "<s> ▁El ▁resto ▁de ▁la ▁ure tra ▁no ▁presenta ba ▁altera ciones . </s> <pad> <pad> <pad> <pad> <pad> <pad> <pad> <pad> <pad> <pad> <pad> <pad> <pad> <pad> <pad> <pad> <pad> <pad> <pad> <pad> <pad> <pad> <pad> <pad> <pad> <pad> <pad> <pad> <pad> <pad> <pad> <pad> <pad> <pad> <pad> <pad> <pad> <pad> <pad> <pad> <pad> <pad> <pad> <pad> <pad> <pad> <pad> <pad> <pad> <pad> <pad> <pad> <pad> <pad> <pad> <pad> <pad> <pad> <pad> <pad> <pad> <pad> <pad> <pad> <pad> <pad> <pad> <pad> <pad> <pad> <pad> <pad> <pad> <pad> <pad> <pad> <pad> <pad> <pad> <pad> <pad> <pad> <pad> <pad> <pad> <pad> <pad> <pad> <pad> <pad> <pad> <pad> <pad> <pad> <pad> <pad> <pad> <pad> <pad> <pad> <pad> <pad> <pad> <pad> <pad> <pad> <pad> <pad> <pad> <pad> <pad> <pad> <pad> <pad> \n",
      "\n",
      "<s> ▁Mac ros có p icamente , ▁el ▁di ver tí culo ▁no ▁compromet ía ▁al ▁cu ello ▁vesi cal , ▁ni ▁de forma ba ▁el ▁trí gono . </s> <pad> <pad> <pad> <pad> <pad> <pad> <pad> <pad> <pad> <pad> <pad> <pad> <pad> <pad> <pad> <pad> <pad> <pad> <pad> <pad> <pad> <pad> <pad> <pad> <pad> <pad> <pad> <pad> <pad> <pad> <pad> <pad> <pad> <pad> <pad> <pad> <pad> <pad> <pad> <pad> <pad> <pad> <pad> <pad> <pad> <pad> <pad> <pad> <pad> <pad> <pad> <pad> <pad> <pad> <pad> <pad> <pad> <pad> <pad> <pad> <pad> <pad> <pad> <pad> <pad> <pad> <pad> <pad> <pad> <pad> <pad> <pad> <pad> <pad> <pad> <pad> <pad> <pad> <pad> <pad> <pad> <pad> <pad> <pad> <pad> <pad> <pad> <pad> <pad> <pad> <pad> <pad> <pad> <pad> <pad> <pad> <pad> <pad> \n",
      "\n",
      "<s> ▁La ▁ci stos copi a ▁most ró ▁ambos ▁ori fici os ▁ure tera les ▁normale s ▁y ▁orto tó pico s . </s> <pad> <pad> <pad> <pad> <pad> <pad> <pad> <pad> <pad> <pad> <pad> <pad> <pad> <pad> <pad> <pad> <pad> <pad> <pad> <pad> <pad> <pad> <pad> <pad> <pad> <pad> <pad> <pad> <pad> <pad> <pad> <pad> <pad> <pad> <pad> <pad> <pad> <pad> <pad> <pad> <pad> <pad> <pad> <pad> <pad> <pad> <pad> <pad> <pad> <pad> <pad> <pad> <pad> <pad> <pad> <pad> <pad> <pad> <pad> <pad> <pad> <pad> <pad> <pad> <pad> <pad> <pad> <pad> <pad> <pad> <pad> <pad> <pad> <pad> <pad> <pad> <pad> <pad> <pad> <pad> <pad> <pad> <pad> <pad> <pad> <pad> <pad> <pad> <pad> <pad> <pad> <pad> <pad> <pad> <pad> <pad> <pad> <pad> <pad> <pad> <pad> <pad> <pad> <pad> \n",
      "\n",
      "<s> ▁No ▁se ▁encontrar on ▁altera ciones ▁en ▁el ▁resto ▁de ▁la ▁vej iga . </s> <pad> <pad> <pad> <pad> <pad> <pad> <pad> <pad> <pad> <pad> <pad> <pad> <pad> <pad> <pad> <pad> <pad> <pad> <pad> <pad> <pad> <pad> <pad> <pad> <pad> <pad> <pad> <pad> <pad> <pad> <pad> <pad> <pad> <pad> <pad> <pad> <pad> <pad> <pad> <pad> <pad> <pad> <pad> <pad> <pad> <pad> <pad> <pad> <pad> <pad> <pad> <pad> <pad> <pad> <pad> <pad> <pad> <pad> <pad> <pad> <pad> <pad> <pad> <pad> <pad> <pad> <pad> <pad> <pad> <pad> <pad> <pad> <pad> <pad> <pad> <pad> <pad> <pad> <pad> <pad> <pad> <pad> <pad> <pad> <pad> <pad> <pad> <pad> <pad> <pad> <pad> <pad> <pad> <pad> <pad> <pad> <pad> <pad> <pad> <pad> <pad> <pad> <pad> <pad> <pad> <pad> <pad> <pad> <pad> <pad> <pad> <pad> \n",
      "\n",
      "<s> ▁La ▁impresión ▁di ag nó stica ▁fue ▁de ▁di ver tí culo ▁ure tral ▁complejo ▁con ▁dos ▁os tium ▁a ▁las ▁7 ▁del ▁horario ▁ci stos có pico ▁en ▁la ▁ure tra ▁media . </s> <pad> <pad> <pad> <pad> <pad> <pad> <pad> <pad> <pad> <pad> <pad> <pad> <pad> <pad> <pad> <pad> <pad> <pad> <pad> <pad> <pad> <pad> <pad> <pad> <pad> <pad> <pad> <pad> <pad> <pad> <pad> <pad> <pad> <pad> <pad> <pad> <pad> <pad> <pad> <pad> <pad> <pad> <pad> <pad> <pad> <pad> <pad> <pad> <pad> <pad> <pad> <pad> <pad> <pad> <pad> <pad> <pad> <pad> <pad> <pad> <pad> <pad> <pad> <pad> <pad> <pad> <pad> <pad> <pad> <pad> <pad> <pad> <pad> <pad> <pad> <pad> <pad> <pad> <pad> <pad> <pad> <pad> <pad> <pad> <pad> <pad> <pad> <pad> <pad> <pad> <pad> <pad> \n",
      "\n",
      "<s> ▁Se ▁indicó ▁una ▁diverti cul ecto m ía ▁ure tral . </s> <pad> <pad> <pad> <pad> <pad> <pad> <pad> <pad> <pad> <pad> <pad> <pad> <pad> <pad> <pad> <pad> <pad> <pad> <pad> <pad> <pad> <pad> <pad> <pad> <pad> <pad> <pad> <pad> <pad> <pad> <pad> <pad> <pad> <pad> <pad> <pad> <pad> <pad> <pad> <pad> <pad> <pad> <pad> <pad> <pad> <pad> <pad> <pad> <pad> <pad> <pad> <pad> <pad> <pad> <pad> <pad> <pad> <pad> <pad> <pad> <pad> <pad> <pad> <pad> <pad> <pad> <pad> <pad> <pad> <pad> <pad> <pad> <pad> <pad> <pad> <pad> <pad> <pad> <pad> <pad> <pad> <pad> <pad> <pad> <pad> <pad> <pad> <pad> <pad> <pad> <pad> <pad> <pad> <pad> <pad> <pad> <pad> <pad> <pad> <pad> <pad> <pad> <pad> <pad> <pad> <pad> <pad> <pad> <pad> <pad> <pad> <pad> <pad> <pad> <pad> \n",
      "\n",
      "<s> ▁Prev i amente ▁se ▁le ▁informó ▁a ▁la ▁paciente ▁de ▁los ▁riesgo s ▁del ▁procedimiento , ▁incluido s ▁fí stu la ▁u ret rova gin al , ▁este nosi s ▁ure tral , ▁in con tin encia ▁urin aria ▁y ▁posible ▁cirugía ▁reconstru c tiva ▁posterior es . </s> <pad> <pad> <pad> <pad> <pad> <pad> <pad> <pad> <pad> <pad> <pad> <pad> <pad> <pad> <pad> <pad> <pad> <pad> <pad> <pad> <pad> <pad> <pad> <pad> <pad> <pad> <pad> <pad> <pad> <pad> <pad> <pad> <pad> <pad> <pad> <pad> <pad> <pad> <pad> <pad> <pad> <pad> <pad> <pad> <pad> <pad> <pad> <pad> <pad> <pad> <pad> <pad> <pad> <pad> <pad> <pad> <pad> <pad> <pad> <pad> <pad> <pad> <pad> <pad> <pad> <pad> <pad> <pad> <pad> <pad> <pad> <pad> <pad> <pad> <pad> <pad> <pad> <pad> \n",
      "\n",
      "<s> ▁Proc ed imiento ▁An este sia ▁general . </s> <pad> <pad> <pad> <pad> <pad> <pad> <pad> <pad> <pad> <pad> <pad> <pad> <pad> <pad> <pad> <pad> <pad> <pad> <pad> <pad> <pad> <pad> <pad> <pad> <pad> <pad> <pad> <pad> <pad> <pad> <pad> <pad> <pad> <pad> <pad> <pad> <pad> <pad> <pad> <pad> <pad> <pad> <pad> <pad> <pad> <pad> <pad> <pad> <pad> <pad> <pad> <pad> <pad> <pad> <pad> <pad> <pad> <pad> <pad> <pad> <pad> <pad> <pad> <pad> <pad> <pad> <pad> <pad> <pad> <pad> <pad> <pad> <pad> <pad> <pad> <pad> <pad> <pad> <pad> <pad> <pad> <pad> <pad> <pad> <pad> <pad> <pad> <pad> <pad> <pad> <pad> <pad> <pad> <pad> <pad> <pad> <pad> <pad> <pad> <pad> <pad> <pad> <pad> <pad> <pad> <pad> <pad> <pad> <pad> <pad> <pad> <pad> <pad> <pad> <pad> <pad> <pad> <pad> \n",
      "\n",
      "<s> ▁Posi ción ▁de ▁li to tom ía . </s> <pad> <pad> <pad> <pad> <pad> <pad> <pad> <pad> <pad> <pad> <pad> <pad> <pad> <pad> <pad> <pad> <pad> <pad> <pad> <pad> <pad> <pad> <pad> <pad> <pad> <pad> <pad> <pad> <pad> <pad> <pad> <pad> <pad> <pad> <pad> <pad> <pad> <pad> <pad> <pad> <pad> <pad> <pad> <pad> <pad> <pad> <pad> <pad> <pad> <pad> <pad> <pad> <pad> <pad> <pad> <pad> <pad> <pad> <pad> <pad> <pad> <pad> <pad> <pad> <pad> <pad> <pad> <pad> <pad> <pad> <pad> <pad> <pad> <pad> <pad> <pad> <pad> <pad> <pad> <pad> <pad> <pad> <pad> <pad> <pad> <pad> <pad> <pad> <pad> <pad> <pad> <pad> <pad> <pad> <pad> <pad> <pad> <pad> <pad> <pad> <pad> <pad> <pad> <pad> <pad> <pad> <pad> <pad> <pad> <pad> <pad> <pad> <pad> <pad> <pad> <pad> <pad> <pad> \n",
      "\n",
      "<s> ▁Este ril ización ▁y ▁preparación ▁del ▁campo ▁de ▁los ▁genital es ▁externo s ▁de ▁la ▁forma ▁habitual . </s> <pad> <pad> <pad> <pad> <pad> <pad> <pad> <pad> <pad> <pad> <pad> <pad> <pad> <pad> <pad> <pad> <pad> <pad> <pad> <pad> <pad> <pad> <pad> <pad> <pad> <pad> <pad> <pad> <pad> <pad> <pad> <pad> <pad> <pad> <pad> <pad> <pad> <pad> <pad> <pad> <pad> <pad> <pad> <pad> <pad> <pad> <pad> <pad> <pad> <pad> <pad> <pad> <pad> <pad> <pad> <pad> <pad> <pad> <pad> <pad> <pad> <pad> <pad> <pad> <pad> <pad> <pad> <pad> <pad> <pad> <pad> <pad> <pad> <pad> <pad> <pad> <pad> <pad> <pad> <pad> <pad> <pad> <pad> <pad> <pad> <pad> <pad> <pad> <pad> <pad> <pad> <pad> <pad> <pad> <pad> <pad> <pad> <pad> <pad> <pad> <pad> <pad> <pad> <pad> <pad> <pad> <pad> <pad> \n",
      "\n",
      "<s> ▁Punto s ▁fi ja dores ▁de ▁seda ▁en ▁los ▁la bios ▁menores ▁para ▁expon er ▁la ▁par ed ▁vaginal ▁anterior . </s> <pad> <pad> <pad> <pad> <pad> <pad> <pad> <pad> <pad> <pad> <pad> <pad> <pad> <pad> <pad> <pad> <pad> <pad> <pad> <pad> <pad> <pad> <pad> <pad> <pad> <pad> <pad> <pad> <pad> <pad> <pad> <pad> <pad> <pad> <pad> <pad> <pad> <pad> <pad> <pad> <pad> <pad> <pad> <pad> <pad> <pad> <pad> <pad> <pad> <pad> <pad> <pad> <pad> <pad> <pad> <pad> <pad> <pad> <pad> <pad> <pad> <pad> <pad> <pad> <pad> <pad> <pad> <pad> <pad> <pad> <pad> <pad> <pad> <pad> <pad> <pad> <pad> <pad> <pad> <pad> <pad> <pad> <pad> <pad> <pad> <pad> <pad> <pad> <pad> <pad> <pad> <pad> <pad> <pad> <pad> <pad> <pad> <pad> <pad> <pad> <pad> <pad> <pad> <pad> <pad> \n",
      "\n",
      "<s> ▁Colo ca ción ▁ante ró grad a ▁de ▁un ▁tu bo ▁de ▁ci stos tom ía ▁supra pú bica ▁de ▁16 ▁French ▁utilizando ▁el ▁retra ctor ▁de ▁Low s ley . </s> <pad> <pad> <pad> <pad> <pad> <pad> <pad> <pad> <pad> <pad> <pad> <pad> <pad> <pad> <pad> <pad> <pad> <pad> <pad> <pad> <pad> <pad> <pad> <pad> <pad> <pad> <pad> <pad> <pad> <pad> <pad> <pad> <pad> <pad> <pad> <pad> <pad> <pad> <pad> <pad> <pad> <pad> <pad> <pad> <pad> <pad> <pad> <pad> <pad> <pad> <pad> <pad> <pad> <pad> <pad> <pad> <pad> <pad> <pad> <pad> <pad> <pad> <pad> <pad> <pad> <pad> <pad> <pad> <pad> <pad> <pad> <pad> <pad> <pad> <pad> <pad> <pad> <pad> <pad> <pad> <pad> <pad> <pad> <pad> <pad> <pad> <pad> <pad> <pad> <pad> <pad> <pad> <pad> <pad> <pad> \n",
      "\n",
      "<s> ▁El ▁globo ▁de ▁este ▁ca té ter ▁se ▁inf ló ▁7 ▁ml ▁de ▁agua ▁esté ril ▁y ▁se ▁de jó ▁como ▁dre na je ▁a ▁grave dad ▁durante ▁toda ▁la ▁operación . </s> <pad> <pad> <pad> <pad> <pad> <pad> <pad> <pad> <pad> <pad> <pad> <pad> <pad> <pad> <pad> <pad> <pad> <pad> <pad> <pad> <pad> <pad> <pad> <pad> <pad> <pad> <pad> <pad> <pad> <pad> <pad> <pad> <pad> <pad> <pad> <pad> <pad> <pad> <pad> <pad> <pad> <pad> <pad> <pad> <pad> <pad> <pad> <pad> <pad> <pad> <pad> <pad> <pad> <pad> <pad> <pad> <pad> <pad> <pad> <pad> <pad> <pad> <pad> <pad> <pad> <pad> <pad> <pad> <pad> <pad> <pad> <pad> <pad> <pad> <pad> <pad> <pad> <pad> <pad> <pad> <pad> <pad> <pad> <pad> <pad> <pad> <pad> <pad> <pad> <pad> <pad> <pad> <pad> <pad> \n",
      "\n",
      "<s> ▁Colo ca ción ▁de ▁un ▁ca té ter ▁ure tral ▁de ▁Fo ley ▁de ▁16 ▁Fr ▁en ▁la ▁vej iga ▁urin aria . </s> <pad> <pad> <pad> <pad> <pad> <pad> <pad> <pad> <pad> <pad> <pad> <pad> <pad> <pad> <pad> <pad> <pad> <pad> <pad> <pad> <pad> <pad> <pad> <pad> <pad> <pad> <pad> <pad> <pad> <pad> <pad> <pad> <pad> <pad> <pad> <pad> <pad> <pad> <pad> <pad> <pad> <pad> <pad> <pad> <pad> <pad> <pad> <pad> <pad> <pad> <pad> <pad> <pad> <pad> <pad> <pad> <pad> <pad> <pad> <pad> <pad> <pad> <pad> <pad> <pad> <pad> <pad> <pad> <pad> <pad> <pad> <pad> <pad> <pad> <pad> <pad> <pad> <pad> <pad> <pad> <pad> <pad> <pad> <pad> <pad> <pad> <pad> <pad> <pad> <pad> <pad> <pad> <pad> <pad> <pad> <pad> <pad> <pad> <pad> <pad> <pad> <pad> <pad> \n",
      "\n",
      "<s> ▁Se ▁realizó ▁ci stos copi a ▁confirma ndo ▁el ▁diagnóstico ▁pre operator io . </s> <pad> <pad> <pad> <pad> <pad> <pad> <pad> <pad> <pad> <pad> <pad> <pad> <pad> <pad> <pad> <pad> <pad> <pad> <pad> <pad> <pad> <pad> <pad> <pad> <pad> <pad> <pad> <pad> <pad> <pad> <pad> <pad> <pad> <pad> <pad> <pad> <pad> <pad> <pad> <pad> <pad> <pad> <pad> <pad> <pad> <pad> <pad> <pad> <pad> <pad> <pad> <pad> <pad> <pad> <pad> <pad> <pad> <pad> <pad> <pad> <pad> <pad> <pad> <pad> <pad> <pad> <pad> <pad> <pad> <pad> <pad> <pad> <pad> <pad> <pad> <pad> <pad> <pad> <pad> <pad> <pad> <pad> <pad> <pad> <pad> <pad> <pad> <pad> <pad> <pad> <pad> <pad> <pad> <pad> <pad> <pad> <pad> <pad> <pad> <pad> <pad> <pad> <pad> <pad> <pad> <pad> <pad> <pad> <pad> <pad> <pad> <pad> \n",
      "\n",
      "<s> ▁Se ▁in filtr ó ▁la ▁par ed ▁vaginal ▁anterior ▁con ▁un ▁total ▁de ▁15 ▁ml ▁de ▁solución ▁sa lina ▁que ▁conten ía ▁lido ca ína ▁y ▁e pine fri na . </s> <pad> <pad> <pad> <pad> <pad> <pad> <pad> <pad> <pad> <pad> <pad> <pad> <pad> <pad> <pad> <pad> <pad> <pad> <pad> <pad> <pad> <pad> <pad> <pad> <pad> <pad> <pad> <pad> <pad> <pad> <pad> <pad> <pad> <pad> <pad> <pad> <pad> <pad> <pad> <pad> <pad> <pad> <pad> <pad> <pad> <pad> <pad> <pad> <pad> <pad> <pad> <pad> <pad> <pad> <pad> <pad> <pad> <pad> <pad> <pad> <pad> <pad> <pad> <pad> <pad> <pad> <pad> <pad> <pad> <pad> <pad> <pad> <pad> <pad> <pad> <pad> <pad> <pad> <pad> <pad> <pad> <pad> <pad> <pad> <pad> <pad> <pad> <pad> <pad> <pad> <pad> <pad> <pad> <pad> <pad> \n",
      "\n",
      "<s> ▁Se ▁realizó ▁una ▁inci sión ▁en ▁U ▁invert ida ▁y ▁se ▁dise có ▁un ▁col ga jo ▁de ▁la ▁par ed ▁vaginal ▁anterior , ▁hasta ▁quedar ▁exp u esta ▁la ▁fasci a ▁per i ure tral . </s> <pad> <pad> <pad> <pad> <pad> <pad> <pad> <pad> <pad> <pad> <pad> <pad> <pad> <pad> <pad> <pad> <pad> <pad> <pad> <pad> <pad> <pad> <pad> <pad> <pad> <pad> <pad> <pad> <pad> <pad> <pad> <pad> <pad> <pad> <pad> <pad> <pad> <pad> <pad> <pad> <pad> <pad> <pad> <pad> <pad> <pad> <pad> <pad> <pad> <pad> <pad> <pad> <pad> <pad> <pad> <pad> <pad> <pad> <pad> <pad> <pad> <pad> <pad> <pad> <pad> <pad> <pad> <pad> <pad> <pad> <pad> <pad> <pad> <pad> <pad> <pad> <pad> <pad> <pad> <pad> <pad> <pad> <pad> <pad> <pad> <pad> <pad> <pad> <pad> \n",
      "\n",
      "<s> ▁Se ▁realizó ▁una ▁inci sión ▁horizontal ▁en ▁la ▁fasci a ▁per i ure tral ▁y ▁se ▁dise có ▁cuidados amente ▁un ▁plano ▁entre ▁el ▁di ver tí culo ▁ure tral ▁y ▁la ▁fasci a ▁per i ure tral . </s> <pad> <pad> <pad> <pad> <pad> <pad> <pad> <pad> <pad> <pad> <pad> <pad> <pad> <pad> <pad> <pad> <pad> <pad> <pad> <pad> <pad> <pad> <pad> <pad> <pad> <pad> <pad> <pad> <pad> <pad> <pad> <pad> <pad> <pad> <pad> <pad> <pad> <pad> <pad> <pad> <pad> <pad> <pad> <pad> <pad> <pad> <pad> <pad> <pad> <pad> <pad> <pad> <pad> <pad> <pad> <pad> <pad> <pad> <pad> <pad> <pad> <pad> <pad> <pad> <pad> <pad> <pad> <pad> <pad> <pad> <pad> <pad> <pad> <pad> <pad> <pad> <pad> <pad> <pad> <pad> <pad> <pad> <pad> <pad> <pad> <pad> <pad> \n",
      "\n",
      "<s> ▁A ▁señala r ▁que ▁la ▁par ed ▁del ▁di ver tí culo ▁era ▁muy ▁gru esa ▁e ▁ind urada . </s> <pad> <pad> <pad> <pad> <pad> <pad> <pad> <pad> <pad> <pad> <pad> <pad> <pad> <pad> <pad> <pad> <pad> <pad> <pad> <pad> <pad> <pad> <pad> <pad> <pad> <pad> <pad> <pad> <pad> <pad> <pad> <pad> <pad> <pad> <pad> <pad> <pad> <pad> <pad> <pad> <pad> <pad> <pad> <pad> <pad> <pad> <pad> <pad> <pad> <pad> <pad> <pad> <pad> <pad> <pad> <pad> <pad> <pad> <pad> <pad> <pad> <pad> <pad> <pad> <pad> <pad> <pad> <pad> <pad> <pad> <pad> <pad> <pad> <pad> <pad> <pad> <pad> <pad> <pad> <pad> <pad> <pad> <pad> <pad> <pad> <pad> <pad> <pad> <pad> <pad> <pad> <pad> <pad> <pad> <pad> <pad> <pad> <pad> <pad> <pad> <pad> <pad> <pad> <pad> <pad> <pad> \n",
      "\n",
      "<s> ▁Se ▁dise có ▁el ▁di ver tí culo ▁hasta ▁el ▁nivel ▁de ▁su ▁cu ello ▁propio . </s> <pad> <pad> <pad> <pad> <pad> <pad> <pad> <pad> <pad> <pad> <pad> <pad> <pad> <pad> <pad> <pad> <pad> <pad> <pad> <pad> <pad> <pad> <pad> <pad> <pad> <pad> <pad> <pad> <pad> <pad> <pad> <pad> <pad> <pad> <pad> <pad> <pad> <pad> <pad> <pad> <pad> <pad> <pad> <pad> <pad> <pad> <pad> <pad> <pad> <pad> <pad> <pad> <pad> <pad> <pad> <pad> <pad> <pad> <pad> <pad> <pad> <pad> <pad> <pad> <pad> <pad> <pad> <pad> <pad> <pad> <pad> <pad> <pad> <pad> <pad> <pad> <pad> <pad> <pad> <pad> <pad> <pad> <pad> <pad> <pad> <pad> <pad> <pad> <pad> <pad> <pad> <pad> <pad> <pad> <pad> <pad> <pad> <pad> <pad> <pad> <pad> <pad> <pad> <pad> <pad> <pad> <pad> <pad> <pad> \n",
      "\n",
      "<s> ▁Se ▁se ccio nó ▁el ▁cu ello ▁diverti cular ▁justo ▁al ▁ras ▁de ▁la ▁ure tra , ▁expon iendo ▁el ▁ca té ter ▁ure tral ▁de ▁Fo ley ▁colocado ▁previamente . </s> <pad> <pad> <pad> <pad> <pad> <pad> <pad> <pad> <pad> <pad> <pad> <pad> <pad> <pad> <pad> <pad> <pad> <pad> <pad> <pad> <pad> <pad> <pad> <pad> <pad> <pad> <pad> <pad> <pad> <pad> <pad> <pad> <pad> <pad> <pad> <pad> <pad> <pad> <pad> <pad> <pad> <pad> <pad> <pad> <pad> <pad> <pad> <pad> <pad> <pad> <pad> <pad> <pad> <pad> <pad> <pad> <pad> <pad> <pad> <pad> <pad> <pad> <pad> <pad> <pad> <pad> <pad> <pad> <pad> <pad> <pad> <pad> <pad> <pad> <pad> <pad> <pad> <pad> <pad> <pad> <pad> <pad> <pad> <pad> <pad> <pad> <pad> <pad> <pad> <pad> <pad> <pad> <pad> <pad> <pad> \n",
      "\n",
      "<s> ▁Se ▁aproxima ron ▁los ▁borde s ▁de ▁la ▁ure tra ▁su tura ndo ▁la ▁mu cosa ▁ure tral ▁de ▁forma ▁continua ▁con ▁Vy c ril ▁de ▁3-0 . </s> <pad> <pad> <pad> <pad> <pad> <pad> <pad> <pad> <pad> <pad> <pad> <pad> <pad> <pad> <pad> <pad> <pad> <pad> <pad> <pad> <pad> <pad> <pad> <pad> <pad> <pad> <pad> <pad> <pad> <pad> <pad> <pad> <pad> <pad> <pad> <pad> <pad> <pad> <pad> <pad> <pad> <pad> <pad> <pad> <pad> <pad> <pad> <pad> <pad> <pad> <pad> <pad> <pad> <pad> <pad> <pad> <pad> <pad> <pad> <pad> <pad> <pad> <pad> <pad> <pad> <pad> <pad> <pad> <pad> <pad> <pad> <pad> <pad> <pad> <pad> <pad> <pad> <pad> <pad> <pad> <pad> <pad> <pad> <pad> <pad> <pad> <pad> <pad> <pad> <pad> <pad> <pad> <pad> <pad> <pad> <pad> <pad> <pad> \n",
      "\n",
      "<s> ▁En ▁el ▁plano ▁horizontal ▁se ▁rea prox im ó ▁la ▁fasci a ▁per i ure tral ▁con ▁puntos ▁su el tos ▁de ▁Vic ry l . </s> <pad> <pad> <pad> <pad> <pad> <pad> <pad> <pad> <pad> <pad> <pad> <pad> <pad> <pad> <pad> <pad> <pad> <pad> <pad> <pad> <pad> <pad> <pad> <pad> <pad> <pad> <pad> <pad> <pad> <pad> <pad> <pad> <pad> <pad> <pad> <pad> <pad> <pad> <pad> <pad> <pad> <pad> <pad> <pad> <pad> <pad> <pad> <pad> <pad> <pad> <pad> <pad> <pad> <pad> <pad> <pad> <pad> <pad> <pad> <pad> <pad> <pad> <pad> <pad> <pad> <pad> <pad> <pad> <pad> <pad> <pad> <pad> <pad> <pad> <pad> <pad> <pad> <pad> <pad> <pad> <pad> <pad> <pad> <pad> <pad> <pad> <pad> <pad> <pad> <pad> <pad> <pad> <pad> <pad> <pad> <pad> <pad> <pad> <pad> <pad> \n",
      "\n",
      "<s> ▁Como ▁capa ▁última ▁se ▁utili zó ▁el ▁col ga jo ▁vaginal ▁anterior . </s> <pad> <pad> <pad> <pad> <pad> <pad> <pad> <pad> <pad> <pad> <pad> <pad> <pad> <pad> <pad> <pad> <pad> <pad> <pad> <pad> <pad> <pad> <pad> <pad> <pad> <pad> <pad> <pad> <pad> <pad> <pad> <pad> <pad> <pad> <pad> <pad> <pad> <pad> <pad> <pad> <pad> <pad> <pad> <pad> <pad> <pad> <pad> <pad> <pad> <pad> <pad> <pad> <pad> <pad> <pad> <pad> <pad> <pad> <pad> <pad> <pad> <pad> <pad> <pad> <pad> <pad> <pad> <pad> <pad> <pad> <pad> <pad> <pad> <pad> <pad> <pad> <pad> <pad> <pad> <pad> <pad> <pad> <pad> <pad> <pad> <pad> <pad> <pad> <pad> <pad> <pad> <pad> <pad> <pad> <pad> <pad> <pad> <pad> <pad> <pad> <pad> <pad> <pad> <pad> <pad> <pad> <pad> <pad> <pad> <pad> <pad> <pad> <pad> \n",
      "\n",
      "<s> ▁Da do ▁que ▁había ▁un ▁exceso ▁de ▁tejido ▁de ▁par ed ▁vaginal ▁anterior ▁que ▁recu b ría ▁al ▁di ver tí culo , ▁se ▁reco r tó ▁dicho ▁exceso ▁y ▁se ▁cer ró ▁la ▁inci sión ▁vaginal ▁anterior ▁con ▁su tura ▁continua ▁de ▁Vic ry l ▁2-0 . </s> <pad> <pad> <pad> <pad> <pad> <pad> <pad> <pad> <pad> <pad> <pad> <pad> <pad> <pad> <pad> <pad> <pad> <pad> <pad> <pad> <pad> <pad> <pad> <pad> <pad> <pad> <pad> <pad> <pad> <pad> <pad> <pad> <pad> <pad> <pad> <pad> <pad> <pad> <pad> <pad> <pad> <pad> <pad> <pad> <pad> <pad> <pad> <pad> <pad> <pad> <pad> <pad> <pad> <pad> <pad> <pad> <pad> <pad> <pad> <pad> <pad> <pad> <pad> <pad> <pad> <pad> <pad> <pad> <pad> <pad> <pad> <pad> <pad> <pad> <pad> <pad> <pad> <pad> \n",
      "\n",
      "<s> ▁Se ▁dejar on ▁puesto s ▁el ▁ca té ter ▁ure tral ▁de ▁Fo ley ▁y ▁la ▁c isto tom ía ▁supra pú bica ▁se ▁de jo ▁d ren ando ▁a ▁grave dad . </s> <pad> <pad> <pad> <pad> <pad> <pad> <pad> <pad> <pad> <pad> <pad> <pad> <pad> <pad> <pad> <pad> <pad> <pad> <pad> <pad> <pad> <pad> <pad> <pad> <pad> <pad> <pad> <pad> <pad> <pad> <pad> <pad> <pad> <pad> <pad> <pad> <pad> <pad> <pad> <pad> <pad> <pad> <pad> <pad> <pad> <pad> <pad> <pad> <pad> <pad> <pad> <pad> <pad> <pad> <pad> <pad> <pad> <pad> <pad> <pad> <pad> <pad> <pad> <pad> <pad> <pad> <pad> <pad> <pad> <pad> <pad> <pad> <pad> <pad> <pad> <pad> <pad> <pad> <pad> <pad> <pad> <pad> <pad> <pad> <pad> <pad> <pad> <pad> <pad> <pad> <pad> <pad> <pad> \n",
      "\n",
      "<s> ▁A ▁señala r ▁la ▁gran ▁dificultad ▁de ▁la ▁dise cción ▁del ▁di ver tí culo ▁que ▁result ó ▁med ir ▁4 ▁cm ▁de ▁longitud , ▁debido ▁sobre ▁todo ▁a ▁la ▁dificultad ▁para ▁dise car ▁todo ▁el ▁tra y ecto ▁hasta ▁el ▁cu ello ▁del ▁di ver tí culo . </s> <pad> <pad> <pad> <pad> <pad> <pad> <pad> <pad> <pad> <pad> <pad> <pad> <pad> <pad> <pad> <pad> <pad> <pad> <pad> <pad> <pad> <pad> <pad> <pad> <pad> <pad> <pad> <pad> <pad> <pad> <pad> <pad> <pad> <pad> <pad> <pad> <pad> <pad> <pad> <pad> <pad> <pad> <pad> <pad> <pad> <pad> <pad> <pad> <pad> <pad> <pad> <pad> <pad> <pad> <pad> <pad> <pad> <pad> <pad> <pad> <pad> <pad> <pad> <pad> <pad> <pad> <pad> <pad> <pad> <pad> <pad> <pad> <pad> <pad> <pad> <pad> <pad> \n",
      "\n",
      "<s> ▁Inform e ▁pat ológico : ▁Fragment o ▁ tis ular ▁de ▁4 , 0 ▁x ▁2,0 ▁x ▁0,5 ▁cm ▁y ▁otro ▁fragment o ▁ tis ular ▁de ▁2,0 ▁x ▁1,0 ▁x ▁0,5 ▁cm ▁compatible s ▁con ▁di ver tí culo ▁ure tral ▁complejo , ▁con ▁inflama ción ▁crónica ▁recu bri endo ▁tejido ▁con ec tivo ▁den so . </s> <pad> <pad> <pad> <pad> <pad> <pad> <pad> <pad> <pad> <pad> <pad> <pad> <pad> <pad> <pad> <pad> <pad> <pad> <pad> <pad> <pad> <pad> <pad> <pad> <pad> <pad> <pad> <pad> <pad> <pad> <pad> <pad> <pad> <pad> <pad> <pad> <pad> <pad> <pad> <pad> <pad> <pad> <pad> <pad> <pad> <pad> <pad> <pad> <pad> <pad> <pad> <pad> <pad> <pad> <pad> <pad> <pad> <pad> <pad> <pad> <pad> <pad> <pad> <pad> <pad> <pad> <pad> <pad> \n",
      "\n"
     ]
    }
   ],
   "source": [
    "check_id_frag = sum(dev_frag[:check_id])\n",
    "for frag in dev_ind[check_id_frag:check_id_frag + dev_frag[check_id]]:\n",
    "    print(' '.join([tokenizer._convert_id_to_token(int(ind)) for ind in frag]), \"\\n\")"
   ]
  },
  {
   "cell_type": "code",
   "execution_count": 86,
   "metadata": {},
   "outputs": [
    {
     "data": {
      "text/plain": [
       "count    3799.000000\n",
       "mean        0.309818\n",
       "std         0.638081\n",
       "min         0.000000\n",
       "25%         0.000000\n",
       "50%         0.000000\n",
       "75%         0.000000\n",
       "max         5.000000\n",
       "dtype: float64"
      ]
     },
     "execution_count": 86,
     "metadata": {},
     "output_type": "execute_result"
    }
   ],
   "source": [
    "# Fragment labels distribution\n",
    "pd.Series(np.sum(dev_y, axis=1)).describe()"
   ]
  },
  {
   "cell_type": "markdown",
   "metadata": {},
   "source": [
    "### Training & Development corpus\n",
    "\n",
    "We merge the previously generated datasets:"
   ]
  },
  {
   "cell_type": "code",
   "execution_count": 87,
   "metadata": {},
   "outputs": [],
   "source": [
    "# Indices\n",
    "train_dev_ind = np.concatenate((train_ind, dev_ind))"
   ]
  },
  {
   "cell_type": "code",
   "execution_count": 88,
   "metadata": {},
   "outputs": [
    {
     "data": {
      "text/plain": [
       "(10812, 128)"
      ]
     },
     "execution_count": 88,
     "metadata": {},
     "output_type": "execute_result"
    }
   ],
   "source": [
    "train_dev_ind.shape"
   ]
  },
  {
   "cell_type": "code",
   "execution_count": 89,
   "metadata": {},
   "outputs": [],
   "source": [
    "# Attention masks\n",
    "train_dev_att = np.concatenate((train_att, dev_att))"
   ]
  },
  {
   "cell_type": "code",
   "execution_count": 90,
   "metadata": {},
   "outputs": [
    {
     "data": {
      "text/plain": [
       "(10812, 128)"
      ]
     },
     "execution_count": 90,
     "metadata": {},
     "output_type": "execute_result"
    }
   ],
   "source": [
    "train_dev_att.shape"
   ]
  },
  {
   "cell_type": "code",
   "execution_count": 91,
   "metadata": {},
   "outputs": [],
   "source": [
    "# y\n",
    "train_dev_y = np.concatenate((train_y, dev_y))"
   ]
  },
  {
   "cell_type": "code",
   "execution_count": 92,
   "metadata": {},
   "outputs": [
    {
     "data": {
      "text/plain": [
       "(10812, 727)"
      ]
     },
     "execution_count": 92,
     "metadata": {},
     "output_type": "execute_result"
    }
   ],
   "source": [
    "train_dev_y.shape"
   ]
  },
  {
   "cell_type": "markdown",
   "metadata": {},
   "source": [
    "## Fine-tuning\n",
    "\n",
    "Using the corpus of labeled sentences, we fine-tune the model on a multi-label sentence classification task."
   ]
  },
  {
   "cell_type": "code",
   "execution_count": 98,
   "metadata": {},
   "outputs": [
    {
     "name": "stderr",
     "output_type": "stream",
     "text": [
      "All PyTorch model weights were used when initializing TFXLMRobertaForSequenceClassification.\n",
      "\n",
      "Some weights or buffers of the TF 2.0 model TFXLMRobertaForSequenceClassification were not initialized from the PyTorch model and are newly initialized: ['classifier.dense.weight', 'classifier.dense.bias', 'classifier.out_proj.weight', 'classifier.out_proj.bias']\n",
      "You should probably TRAIN this model on a down-stream task to be able to use it for predictions and inference.\n"
     ]
    }
   ],
   "source": [
    "from transformers import TFXLMRobertaForSequenceClassification\n",
    "\n",
    "model = TFXLMRobertaForSequenceClassification.from_pretrained(model_name, from_pt=True)"
   ]
  },
  {
   "cell_type": "code",
   "execution_count": 99,
   "metadata": {},
   "outputs": [
    {
     "name": "stdout",
     "output_type": "stream",
     "text": [
      "Model: \"tfxlm_roberta_for_sequence_classification\"\n",
      "_________________________________________________________________\n",
      "Layer (type)                 Output Shape              Param #   \n",
      "=================================================================\n",
      "roberta (TFRobertaMainLayer) multiple                  277453056 \n",
      "_________________________________________________________________\n",
      "classifier (TFRobertaClassif multiple                  592130    \n",
      "=================================================================\n",
      "Total params: 278,045,186\n",
      "Trainable params: 278,045,186\n",
      "Non-trainable params: 0\n",
      "_________________________________________________________________\n"
     ]
    }
   ],
   "source": [
    "model.summary()"
   ]
  },
  {
   "cell_type": "code",
   "execution_count": 100,
   "metadata": {},
   "outputs": [
    {
     "data": {
      "text/plain": [
       "[<transformers.models.roberta.modeling_tf_roberta.TFRobertaMainLayer at 0x7fa9767cef90>,\n",
       " <transformers.models.roberta.modeling_tf_roberta.TFRobertaClassificationHead at 0x7fa8802fa4d0>]"
      ]
     },
     "execution_count": 100,
     "metadata": {},
     "output_type": "execute_result"
    }
   ],
   "source": [
    "model.layers"
   ]
  },
  {
   "cell_type": "code",
   "execution_count": 102,
   "metadata": {},
   "outputs": [],
   "source": [
    "from tensorflow.keras import Input, Model\n",
    "from tensorflow.keras.layers import Dense, Activation\n",
    "from tensorflow.keras.initializers import GlorotUniform\n",
    "\n",
    "input_ids = Input(shape=(SEQ_LEN,), name='input_ids', dtype='int64')\n",
    "attention_mask = Input(shape=(SEQ_LEN,), name='attention_mask', dtype='int64')\n",
    "inputs = [input_ids, attention_mask]\n",
    "\n",
    "cls_token = model.layers[0](input_ids=inputs[0], attention_mask=inputs[1])[0][:, 0, :] # take <s> token output representation (equiv. to [CLS]) \n",
    "out_logits = Dense(units=num_labels, kernel_initializer=GlorotUniform(seed=random_seed))(cls_token) # Multi-label classification\n",
    "out_act = Activation('sigmoid')(out_logits)\n",
    "\n",
    "model = Model(inputs=[input_ids, attention_mask], outputs=out_act)"
   ]
  },
  {
   "cell_type": "code",
   "execution_count": 103,
   "metadata": {},
   "outputs": [
    {
     "name": "stdout",
     "output_type": "stream",
     "text": [
      "Model: \"model\"\n",
      "__________________________________________________________________________________________________\n",
      "Layer (type)                    Output Shape         Param #     Connected to                     \n",
      "==================================================================================================\n",
      "input_ids (InputLayer)          [(None, 128)]        0                                            \n",
      "__________________________________________________________________________________________________\n",
      "attention_mask (InputLayer)     [(None, 128)]        0                                            \n",
      "__________________________________________________________________________________________________\n",
      "roberta (TFRobertaMainLayer)    TFBaseModelOutputWit 277453056   input_ids[0][0]                  \n",
      "__________________________________________________________________________________________________\n",
      "tf_op_layer_strided_slice (Tens [(None, 768)]        0           roberta[0][0]                    \n",
      "__________________________________________________________________________________________________\n",
      "dense (Dense)                   (None, 727)          559063      tf_op_layer_strided_slice[0][0]  \n",
      "__________________________________________________________________________________________________\n",
      "activation_4 (Activation)       (None, 727)          0           dense[0][0]                      \n",
      "==================================================================================================\n",
      "Total params: 278,012,119\n",
      "Trainable params: 278,012,119\n",
      "Non-trainable params: 0\n",
      "__________________________________________________________________________________________________\n"
     ]
    }
   ],
   "source": [
    "model.summary()"
   ]
  },
  {
   "cell_type": "code",
   "execution_count": 104,
   "metadata": {},
   "outputs": [
    {
     "data": {
      "text/plain": [
       "[<tf.Tensor 'input_ids:0' shape=(None, 128) dtype=int64>,\n",
       " <tf.Tensor 'attention_mask:0' shape=(None, 128) dtype=int64>]"
      ]
     },
     "execution_count": 104,
     "metadata": {},
     "output_type": "execute_result"
    }
   ],
   "source": [
    "model.input"
   ]
  },
  {
   "cell_type": "code",
   "execution_count": 105,
   "metadata": {},
   "outputs": [
    {
     "data": {
      "text/plain": [
       "<tf.Tensor 'activation_4/Identity:0' shape=(None, 727) dtype=float32>"
      ]
     },
     "execution_count": 105,
     "metadata": {},
     "output_type": "execute_result"
    }
   ],
   "source": [
    "model.output"
   ]
  },
  {
   "cell_type": "code",
   "execution_count": null,
   "metadata": {},
   "outputs": [
    {
     "name": "stdout",
     "output_type": "stream",
     "text": [
      "Epoch 1/41\n"
     ]
    }
   ],
   "source": [
    "%%time\n",
    "from tensorflow.keras import optimizers, losses\n",
    "import tensorflow_addons as tfa\n",
    "\n",
    "optimizer = tfa.optimizers.RectifiedAdam(learning_rate=LR)\n",
    "loss = losses.BinaryCrossentropy(from_logits=False)\n",
    "model.compile(optimizer=optimizer, loss=loss)\n",
    "\n",
    "history = model.fit(x={'input_ids': train_dev_ind, 'attention_mask': train_dev_att}, y=train_dev_y,\n",
    "          batch_size=BATCH_SIZE, epochs=EPOCHS, shuffle=True)"
   ]
  },
  {
   "cell_type": "markdown",
   "metadata": {},
   "source": [
    "## Test set predictions\n",
    "\n",
    "Finally, the predictions made by the model on the test set are saved. For this purpose, firstly, each sentence from the test corpus must be converted into a sequence of subwords (input IDs and attention mask arrays). Then, the predictions made by the model at the sentence-level are saved, to be further evaluated at document-level (see `results/CodiEsp-P/Evaluation.ipynb`)."
   ]
  },
  {
   "cell_type": "code",
   "execution_count": 101,
   "metadata": {},
   "outputs": [
    {
     "name": "stdout",
     "output_type": "stream",
     "text": [
      "CPU times: user 8.68 ms, sys: 131 µs, total: 8.81 ms\n",
      "Wall time: 7.84 ms\n"
     ]
    }
   ],
   "source": [
    "%%time\n",
    "test_path = corpus_path + \"test/text_files/\"\n",
    "test_files = [f for f in os.listdir(test_path) if os.path.isfile(test_path + f)]\n",
    "test_data = load_text_files(test_files, test_path)\n",
    "df_text_test = pd.DataFrame({'doc_id': [s.split('.txt')[0] for s in test_files], 'raw_text': test_data})"
   ]
  },
  {
   "cell_type": "code",
   "execution_count": 102,
   "metadata": {},
   "outputs": [
    {
     "data": {
      "text/plain": [
       "(250, 2)"
      ]
     },
     "execution_count": 102,
     "metadata": {},
     "output_type": "execute_result"
    }
   ],
   "source": [
    "df_text_test.shape"
   ]
  },
  {
   "cell_type": "code",
   "execution_count": 103,
   "metadata": {},
   "outputs": [
    {
     "data": {
      "text/html": [
       "<div>\n",
       "<style scoped>\n",
       "    .dataframe tbody tr th:only-of-type {\n",
       "        vertical-align: middle;\n",
       "    }\n",
       "\n",
       "    .dataframe tbody tr th {\n",
       "        vertical-align: top;\n",
       "    }\n",
       "\n",
       "    .dataframe thead th {\n",
       "        text-align: right;\n",
       "    }\n",
       "</style>\n",
       "<table border=\"1\" class=\"dataframe\">\n",
       "  <thead>\n",
       "    <tr style=\"text-align: right;\">\n",
       "      <th></th>\n",
       "      <th>doc_id</th>\n",
       "      <th>raw_text</th>\n",
       "    </tr>\n",
       "  </thead>\n",
       "  <tbody>\n",
       "    <tr>\n",
       "      <th>0</th>\n",
       "      <td>S0365-66912007000900014-1</td>\n",
       "      <td>Paciente varón de 34 años de edad diagnosticad...</td>\n",
       "    </tr>\n",
       "    <tr>\n",
       "      <th>1</th>\n",
       "      <td>S0211-69952014000200012-1</td>\n",
       "      <td>Un varón de 48 años, de raza caucásica, con IR...</td>\n",
       "    </tr>\n",
       "    <tr>\n",
       "      <th>2</th>\n",
       "      <td>S1139-76322017000200009-1</td>\n",
       "      <td>Presentamos el caso clínico de un niño de cinc...</td>\n",
       "    </tr>\n",
       "    <tr>\n",
       "      <th>3</th>\n",
       "      <td>S0210-48062010000100019-1</td>\n",
       "      <td>Paciente varón de 53 años, diagnosticado de es...</td>\n",
       "    </tr>\n",
       "    <tr>\n",
       "      <th>4</th>\n",
       "      <td>S1130-14732005000500006-1</td>\n",
       "      <td>Se trata de un varón de 20 años diagnosticado ...</td>\n",
       "    </tr>\n",
       "  </tbody>\n",
       "</table>\n",
       "</div>"
      ],
      "text/plain": [
       "                      doc_id  \\\n",
       "0  S0365-66912007000900014-1   \n",
       "1  S0211-69952014000200012-1   \n",
       "2  S1139-76322017000200009-1   \n",
       "3  S0210-48062010000100019-1   \n",
       "4  S1130-14732005000500006-1   \n",
       "\n",
       "                                            raw_text  \n",
       "0  Paciente varón de 34 años de edad diagnosticad...  \n",
       "1  Un varón de 48 años, de raza caucásica, con IR...  \n",
       "2  Presentamos el caso clínico de un niño de cinc...  \n",
       "3  Paciente varón de 53 años, diagnosticado de es...  \n",
       "4  Se trata de un varón de 20 años diagnosticado ...  "
      ]
     },
     "execution_count": 103,
     "metadata": {},
     "output_type": "execute_result"
    }
   ],
   "source": [
    "df_text_test.head()"
   ]
  },
  {
   "cell_type": "code",
   "execution_count": 104,
   "metadata": {},
   "outputs": [
    {
     "data": {
      "text/plain": [
       "'Paciente varón de 34 años de edad diagnosticado de varicela tres semanas antes ya resuelta sin complicaciones. Acude a urgencias por presentar disminución de agudeza visual en su ojo izquierdo.\\nEn la exploración oftalmológica presenta una agudeza visual corregida de 1 en el ojo derecho (OD) y de 0,6 en el ojo izquierdo (OI). El estudio con lámpara de hendidura demuestra en el OI un tyndall celular de 4+, precipitados queráticos inferiores (3+) y sin presentar la cornea tinción con fluoresceína, siendo normal el OD. La presión intraocular fue de 16mmHg en ambos ojos.\\nEn la exploración fundoscópica inicial del OI se aprecia leve vitritis (1+) sin focos de retinitis.\\nSe instaura tratamiento tópico con corticoides y midriáticos. A los 2 días se observa leve disminución del tyndall celular (3+) en cámara anterior pero en fondo de ojo aparece un foco periférico de retinitis necrotizante en el área temporal asociado a vasculitis retiniana.\\nSe ingresa al paciente y se instaura tratamiento con aciclovir intravenoso (10 mgr/kg/8 horas), antiagregación (ácido acetilsalicílico 150 mgr/24 horas) y se mantiene el tratamiento tópico. Asimismo se realiza fotocoagulación profiláctica con láser de argón rodeando la zona de necrosis retiniana.\\n\\nA las 48 horas y previa comprobación de una buena respuesta con disminución del foco de retinitis, se introducen corticoides sistémicos a dosis de 1 mg/kg/d, presentando una rápida mejoría de la agudeza visual, con disminución de la vitritis y menor tamaño del foco de retinitis. A las 2 semanas se pasa a vía oral el tratamiento antiviral (famciclovir 500 mgr/12 horas) y se inicia un descenso de corticoides de manera gradual a razón de 10 mgr cada semana. Se continúa con el tratamiento antiviral a dosis de mantenimiento durante 6 semanas, realizando controles analíticos periódicos hemograma y bioquímica para detectar afectación renal.\\nTras 6 meses del comienzo del cuadro, el paciente continúa asintomático, con una agudeza visual de unidad en OI, cicatrización de las lesiones retinianas y ausencia completa de actividad inflamatoria ocular en ambos ojos.\\nDurante el ingreso se constató la infección reciente por el virus varicela zoster mediante seroconversión.\\n\\n'"
      ]
     },
     "execution_count": 104,
     "metadata": {},
     "output_type": "execute_result"
    }
   ],
   "source": [
    "df_text_test.raw_text[0]"
   ]
  },
  {
   "cell_type": "code",
   "execution_count": 105,
   "metadata": {},
   "outputs": [],
   "source": [
    "test_doc_list = sorted(set(df_text_test[\"doc_id\"]))"
   ]
  },
  {
   "cell_type": "code",
   "execution_count": 106,
   "metadata": {},
   "outputs": [
    {
     "data": {
      "text/plain": [
       "250"
      ]
     },
     "execution_count": 106,
     "metadata": {},
     "output_type": "execute_result"
    }
   ],
   "source": [
    "len(test_doc_list)"
   ]
  },
  {
   "cell_type": "code",
   "execution_count": 107,
   "metadata": {},
   "outputs": [
    {
     "name": "stdout",
     "output_type": "stream",
     "text": [
      "CPU times: user 6.22 ms, sys: 3.85 ms, total: 10.1 ms\n",
      "Wall time: 9.31 ms\n"
     ]
    }
   ],
   "source": [
    "%%time\n",
    "ss_sub_corpus_path = ss_corpus_path + \"test/\"\n",
    "ss_files = [f for f in os.listdir(ss_sub_corpus_path) if os.path.isfile(ss_sub_corpus_path + f)]\n",
    "ss_dict_test = load_ss_files(ss_files, ss_sub_corpus_path)"
   ]
  },
  {
   "cell_type": "code",
   "execution_count": 108,
   "metadata": {},
   "outputs": [
    {
     "name": "stderr",
     "output_type": "stream",
     "text": [
      "100%|██████████| 250/250 [00:01<00:00, 248.26it/s]"
     ]
    },
    {
     "name": "stdout",
     "output_type": "stream",
     "text": [
      "CPU times: user 1.08 s, sys: 8.43 ms, total: 1.09 s\n",
      "Wall time: 1.07 s\n"
     ]
    },
    {
     "name": "stderr",
     "output_type": "stream",
     "text": [
      "\n"
     ]
    }
   ],
   "source": [
    "%%time\n",
    "test_ind, test_att, _, test_frag, _ = ss_brute_force_create_frag_input_data(df_text=df_text_test, \n",
    "                                                  text_col=text_col, \n",
    "                                                  df_ann=df_codes_train_ner, doc_list=test_doc_list, ss_dict=ss_dict_test,\n",
    "                                                  tokenizer=tokenizer, sp_pb2=spt, lab_encoder=mlb_encoder, seq_len=SEQ_LEN)"
   ]
  },
  {
   "cell_type": "code",
   "execution_count": 173,
   "metadata": {},
   "outputs": [
    {
     "name": "stdout",
     "output_type": "stream",
     "text": [
      "CPU times: user 14.3 s, sys: 2.04 s, total: 16.3 s\n",
      "Wall time: 19.3 s\n"
     ]
    }
   ],
   "source": [
    "%%time\n",
    "test_preds = model.predict({'input_ids': test_ind, 'attention_mask': test_att})"
   ]
  },
  {
   "cell_type": "code",
   "execution_count": 174,
   "metadata": {},
   "outputs": [
    {
     "data": {
      "text/plain": [
       "(3950, 727)"
      ]
     },
     "execution_count": 174,
     "metadata": {},
     "output_type": "execute_result"
    }
   ],
   "source": [
    "test_preds.shape"
   ]
  },
  {
   "cell_type": "code",
   "execution_count": 109,
   "metadata": {},
   "outputs": [],
   "source": [
    "results_dir_path = \"../results/CodiEsp-P/\""
   ]
  },
  {
   "cell_type": "code",
   "execution_count": 178,
   "metadata": {},
   "outputs": [
    {
     "name": "stdout",
     "output_type": "stream",
     "text": [
      "CPU times: user 2.21 ms, sys: 4.65 ms, total: 6.87 ms\n",
      "Wall time: 6.02 ms\n"
     ]
    }
   ],
   "source": [
    "%%time\n",
    "np.save(file=results_dir_path + \"predictions/xlm_r_seed_\" + str(random_seed) + \"_test_preds.npy\", arr=test_preds)"
   ]
  },
  {
   "cell_type": "code",
   "execution_count": 111,
   "metadata": {},
   "outputs": [],
   "source": [
    "# To be further used when evaluating model performance at document level\n",
    "np.save(file=results_dir_path + \"xlm_r_test_frags.npy\", arr=test_frag)\n",
    "np.save(file=results_dir_path + \"classes.npy\", arr=mlb_encoder.classes_)"
   ]
  }
 ],
 "metadata": {
  "kernelspec": {
   "display_name": "Python 3",
   "language": "python",
   "name": "python3"
  },
  "language_info": {
   "codemirror_mode": {
    "name": "ipython",
    "version": 3
   },
   "file_extension": ".py",
   "mimetype": "text/x-python",
   "name": "python",
   "nbconvert_exporter": "python",
   "pygments_lexer": "ipython3",
   "version": "3.7.9"
  }
 },
 "nbformat": 4,
 "nbformat_minor": 4
}
