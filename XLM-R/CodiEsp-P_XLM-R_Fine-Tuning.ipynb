{
 "cells": [
  {
   "cell_type": "markdown",
   "metadata": {},
   "source": [
    "# Fine-tuning XLM-R on CodiEsp-P\n",
    "\n",
    "In this notebook, following a multi-label sequence classification approach, the XLM-R model is fine-tuned on both the training and development sets of the CodiEsp-P corpus. Additionally, the predictions made by the model on the test set are saved, in order to futher evaluate the clinical coding performance of the model (see `results/CodiEsp-P/Evaluation.ipynb`)."
   ]
  },
  {
   "cell_type": "code",
   "execution_count": 1,
   "metadata": {},
   "outputs": [],
   "source": [
    "import pandas as pd\n",
    "import numpy as np\n",
    "import tensorflow as tf\n",
    "\n",
    "# Auxiliary components\n",
    "import sys\n",
    "sys.path.append(\"..\")\n",
    "from nlp_utils import *\n",
    "\n",
    "# XLM-R tokenizer\n",
    "from transformers import XLMRobertaTokenizer\n",
    "import sentencepiece_pb2\n",
    "model_name = \"xlm-roberta-base\"\n",
    "tokenizer = XLMRobertaTokenizer.from_pretrained(model_name)\n",
    "spt = sentencepiece_pb2.SentencePieceText()\n",
    "\n",
    "# Hyper-parameters\n",
    "text_col = \"raw_text\"\n",
    "SEQ_LEN = 128\n",
    "BATCH_SIZE = 16\n",
    "EPOCHS = 41\n",
    "LR = 3e-5\n",
    "\n",
    "random_seed = 0\n",
    "tf.random.set_seed(random_seed)"
   ]
  },
  {
   "cell_type": "markdown",
   "metadata": {},
   "source": [
    "## Load text\n",
    "\n",
    "Firstly, all text files from training and development CodiEsp corpora are loaded in different dataframes.\n",
    "\n",
    "Also, CIE-Procedimiento codes are loaded."
   ]
  },
  {
   "cell_type": "code",
   "execution_count": 2,
   "metadata": {},
   "outputs": [],
   "source": [
    "corpus_path = \"../datasets/codiesp_v4/\""
   ]
  },
  {
   "cell_type": "markdown",
   "metadata": {},
   "source": [
    "### Training corpus"
   ]
  },
  {
   "cell_type": "code",
   "execution_count": 3,
   "metadata": {},
   "outputs": [
    {
     "name": "stdout",
     "output_type": "stream",
     "text": [
      "CPU times: user 12.6 ms, sys: 4.32 ms, total: 16.9 ms\n",
      "Wall time: 14.6 ms\n"
     ]
    }
   ],
   "source": [
    "%%time\n",
    "train_path = corpus_path + \"train/text_files/\"\n",
    "train_files = [f for f in os.listdir(train_path) if os.path.isfile(train_path + f)]\n",
    "train_data = load_text_files(train_files, train_path)\n",
    "df_text_train = pd.DataFrame({'doc_id': [s.split('.txt')[0] for s in train_files], 'raw_text': train_data})"
   ]
  },
  {
   "cell_type": "code",
   "execution_count": 4,
   "metadata": {},
   "outputs": [
    {
     "data": {
      "text/plain": [
       "(500, 2)"
      ]
     },
     "execution_count": 4,
     "metadata": {},
     "output_type": "execute_result"
    }
   ],
   "source": [
    "df_text_train.shape"
   ]
  },
  {
   "cell_type": "code",
   "execution_count": 5,
   "metadata": {},
   "outputs": [
    {
     "data": {
      "text/html": [
       "<div>\n",
       "<style scoped>\n",
       "    .dataframe tbody tr th:only-of-type {\n",
       "        vertical-align: middle;\n",
       "    }\n",
       "\n",
       "    .dataframe tbody tr th {\n",
       "        vertical-align: top;\n",
       "    }\n",
       "\n",
       "    .dataframe thead th {\n",
       "        text-align: right;\n",
       "    }\n",
       "</style>\n",
       "<table border=\"1\" class=\"dataframe\">\n",
       "  <thead>\n",
       "    <tr style=\"text-align: right;\">\n",
       "      <th></th>\n",
       "      <th>doc_id</th>\n",
       "      <th>raw_text</th>\n",
       "    </tr>\n",
       "  </thead>\n",
       "  <tbody>\n",
       "    <tr>\n",
       "      <th>0</th>\n",
       "      <td>S0365-66912006000600011-1</td>\n",
       "      <td>Un varón de 13 años es remitido para valoració...</td>\n",
       "    </tr>\n",
       "    <tr>\n",
       "      <th>1</th>\n",
       "      <td>S1139-13752009000200010-2</td>\n",
       "      <td>Paciente de 42 años diagnosticado de pancoliti...</td>\n",
       "    </tr>\n",
       "    <tr>\n",
       "      <th>2</th>\n",
       "      <td>S1130-05582017000100037-1</td>\n",
       "      <td>Varón de 72 años, sin antecedentes médicos de ...</td>\n",
       "    </tr>\n",
       "    <tr>\n",
       "      <th>3</th>\n",
       "      <td>S1139-76322016000300015-1</td>\n",
       "      <td>Lactante de ocho días cuyos padres consultan p...</td>\n",
       "    </tr>\n",
       "    <tr>\n",
       "      <th>4</th>\n",
       "      <td>S0211-69952011000100019-1</td>\n",
       "      <td>Mujer de 47 años de edad con antecedentes de g...</td>\n",
       "    </tr>\n",
       "  </tbody>\n",
       "</table>\n",
       "</div>"
      ],
      "text/plain": [
       "                      doc_id  \\\n",
       "0  S0365-66912006000600011-1   \n",
       "1  S1139-13752009000200010-2   \n",
       "2  S1130-05582017000100037-1   \n",
       "3  S1139-76322016000300015-1   \n",
       "4  S0211-69952011000100019-1   \n",
       "\n",
       "                                            raw_text  \n",
       "0  Un varón de 13 años es remitido para valoració...  \n",
       "1  Paciente de 42 años diagnosticado de pancoliti...  \n",
       "2  Varón de 72 años, sin antecedentes médicos de ...  \n",
       "3  Lactante de ocho días cuyos padres consultan p...  \n",
       "4  Mujer de 47 años de edad con antecedentes de g...  "
      ]
     },
     "execution_count": 5,
     "metadata": {},
     "output_type": "execute_result"
    }
   ],
   "source": [
    "df_text_train.head()"
   ]
  },
  {
   "cell_type": "code",
   "execution_count": 6,
   "metadata": {},
   "outputs": [
    {
     "data": {
      "text/plain": [
       "'Un varón de 13 años es remitido para valoración oftalmológica por mala visión. Fenotípicamente era un niño de talla corta con una estatura de 133 cm, braquimorfia y braquidactilia en las cuatro extremidades.\\nEl paciente presentaba un error refractivo corregido de -13,00 -6,50 a 1º en el ojo derecho y de -16,00-6,25 a 179º en el izquierdo. Con dicha corrección alcanzaba una agudeza visual de 0,4 y 0,2 respectivamente. No existía diplopía monocular ni hallazgos en la motilidad ocular extrínseca e intrínseca.\\nEl diámetro corneal horizontal era de 12,0 mm en ambos ojos y la paquimetría de 613 y 611 micras respectivamente. La cámara anterior era estrecha, apreciándose iridofacodonesis bilateral. Se evidenció microesferofaquia con desplazamiento anterior de ambos cristalinos dentro de la cámara posterior.\\nLa presión intraocular era de 20 mmHg bilateralmente. Gonioscópicamente se apreció un ángulo estrecho simétrico en ambos ojos grado II según Schaffer.\\nLa exploración mediante topógrafo Orbscan-II (Topógrafo corneal, Baush and Lomb, U.S.A.) y el examen del fondo de ojo no mostraron alteraciones.\\nComo prevención del cierre angular se realizó una iridotomía láser Nd:YAG en ambos ojos a las 10 y 2 horas respectivamente. Dada la estabilidad de la visión y la ausencia de diplopía se adoptó una actitud conservadora de acuerdo con el deseo de la familia del paciente mediante control de la agudeza visual, presión intraocular, documentación fotográfica y la realización de campos visuales para detectar la aparición de daño glaucomatoso.\\nRevisando sus antecentes familiares se identificó al paciente como el menor de una familia de ocho hermanos, en la que -además del mencionado- un hermano y dos hermanas presentaban esferofaquia, braquimorfia y braquidactilia. Los padres eran sanos y ninguno de los hijos ha tenido descendencia.\\n\\n'"
      ]
     },
     "execution_count": 6,
     "metadata": {},
     "output_type": "execute_result"
    }
   ],
   "source": [
    "df_text_train.raw_text[0]"
   ]
  },
  {
   "cell_type": "markdown",
   "metadata": {},
   "source": [
    "We also load the CIE-Procedimiento codes table:"
   ]
  },
  {
   "cell_type": "code",
   "execution_count": 7,
   "metadata": {},
   "outputs": [],
   "source": [
    "df_codes_train = pd.read_table(corpus_path + \"train/trainP.tsv\", sep='\\t', header=None)"
   ]
  },
  {
   "cell_type": "code",
   "execution_count": 8,
   "metadata": {},
   "outputs": [],
   "source": [
    "df_codes_train.columns = [\"doc_id\", \"code\"]"
   ]
  },
  {
   "cell_type": "code",
   "execution_count": 9,
   "metadata": {},
   "outputs": [
    {
     "data": {
      "text/plain": [
       "(1550, 2)"
      ]
     },
     "execution_count": 9,
     "metadata": {},
     "output_type": "execute_result"
    }
   ],
   "source": [
    "df_codes_train.shape"
   ]
  },
  {
   "cell_type": "code",
   "execution_count": 10,
   "metadata": {},
   "outputs": [
    {
     "data": {
      "text/html": [
       "<div>\n",
       "<style scoped>\n",
       "    .dataframe tbody tr th:only-of-type {\n",
       "        vertical-align: middle;\n",
       "    }\n",
       "\n",
       "    .dataframe tbody tr th {\n",
       "        vertical-align: top;\n",
       "    }\n",
       "\n",
       "    .dataframe thead th {\n",
       "        text-align: right;\n",
       "    }\n",
       "</style>\n",
       "<table border=\"1\" class=\"dataframe\">\n",
       "  <thead>\n",
       "    <tr style=\"text-align: right;\">\n",
       "      <th></th>\n",
       "      <th>doc_id</th>\n",
       "      <th>code</th>\n",
       "    </tr>\n",
       "  </thead>\n",
       "  <tbody>\n",
       "    <tr>\n",
       "      <th>0</th>\n",
       "      <td>S0004-06142005000700014-1</td>\n",
       "      <td>bw03zzz</td>\n",
       "    </tr>\n",
       "    <tr>\n",
       "      <th>1</th>\n",
       "      <td>S0004-06142005000700014-1</td>\n",
       "      <td>3e02329</td>\n",
       "    </tr>\n",
       "    <tr>\n",
       "      <th>2</th>\n",
       "      <td>S0004-06142005000700014-1</td>\n",
       "      <td>bw40zzz</td>\n",
       "    </tr>\n",
       "    <tr>\n",
       "      <th>3</th>\n",
       "      <td>S0004-06142005000700014-1</td>\n",
       "      <td>bv44zzz</td>\n",
       "    </tr>\n",
       "    <tr>\n",
       "      <th>4</th>\n",
       "      <td>S0004-06142005000700014-1</td>\n",
       "      <td>bn20</td>\n",
       "    </tr>\n",
       "  </tbody>\n",
       "</table>\n",
       "</div>"
      ],
      "text/plain": [
       "                      doc_id     code\n",
       "0  S0004-06142005000700014-1  bw03zzz\n",
       "1  S0004-06142005000700014-1  3e02329\n",
       "2  S0004-06142005000700014-1  bw40zzz\n",
       "3  S0004-06142005000700014-1  bv44zzz\n",
       "4  S0004-06142005000700014-1     bn20"
      ]
     },
     "execution_count": 10,
     "metadata": {},
     "output_type": "execute_result"
    }
   ],
   "source": [
    "df_codes_train.head()"
   ]
  },
  {
   "cell_type": "code",
   "execution_count": 11,
   "metadata": {},
   "outputs": [
    {
     "data": {
      "text/plain": [
       "435"
      ]
     },
     "execution_count": 11,
     "metadata": {},
     "output_type": "execute_result"
    }
   ],
   "source": [
    "len(set(df_codes_train[\"doc_id\"]))"
   ]
  },
  {
   "cell_type": "markdown",
   "metadata": {},
   "source": [
    "### Development corpus"
   ]
  },
  {
   "cell_type": "code",
   "execution_count": 12,
   "metadata": {},
   "outputs": [
    {
     "name": "stdout",
     "output_type": "stream",
     "text": [
      "CPU times: user 2.18 ms, sys: 4.19 ms, total: 6.37 ms\n",
      "Wall time: 5.53 ms\n"
     ]
    }
   ],
   "source": [
    "%%time\n",
    "dev_path = corpus_path + \"dev/text_files/\"\n",
    "dev_files = [f for f in os.listdir(dev_path) if os.path.isfile(dev_path + f)]\n",
    "dev_data = load_text_files(dev_files, dev_path)\n",
    "df_text_dev = pd.DataFrame({'doc_id': [s.split('.txt')[0] for s in dev_files], 'raw_text': dev_data})"
   ]
  },
  {
   "cell_type": "code",
   "execution_count": 13,
   "metadata": {},
   "outputs": [
    {
     "data": {
      "text/plain": [
       "(250, 2)"
      ]
     },
     "execution_count": 13,
     "metadata": {},
     "output_type": "execute_result"
    }
   ],
   "source": [
    "df_text_dev.shape"
   ]
  },
  {
   "cell_type": "code",
   "execution_count": 14,
   "metadata": {},
   "outputs": [
    {
     "data": {
      "text/html": [
       "<div>\n",
       "<style scoped>\n",
       "    .dataframe tbody tr th:only-of-type {\n",
       "        vertical-align: middle;\n",
       "    }\n",
       "\n",
       "    .dataframe tbody tr th {\n",
       "        vertical-align: top;\n",
       "    }\n",
       "\n",
       "    .dataframe thead th {\n",
       "        text-align: right;\n",
       "    }\n",
       "</style>\n",
       "<table border=\"1\" class=\"dataframe\">\n",
       "  <thead>\n",
       "    <tr style=\"text-align: right;\">\n",
       "      <th></th>\n",
       "      <th>doc_id</th>\n",
       "      <th>raw_text</th>\n",
       "    </tr>\n",
       "  </thead>\n",
       "  <tbody>\n",
       "    <tr>\n",
       "      <th>0</th>\n",
       "      <td>S1130-63432016000600013-1</td>\n",
       "      <td>Varón de 75 años, con antecedentes de hiperuri...</td>\n",
       "    </tr>\n",
       "    <tr>\n",
       "      <th>1</th>\n",
       "      <td>S0365-66912003000600010-1</td>\n",
       "      <td>Paciente de 33 años de edad, gestante de 34 se...</td>\n",
       "    </tr>\n",
       "    <tr>\n",
       "      <th>2</th>\n",
       "      <td>S0211-69952012000200030-1</td>\n",
       "      <td>Mujer de 67 años con múltiples factores de rie...</td>\n",
       "    </tr>\n",
       "    <tr>\n",
       "      <th>3</th>\n",
       "      <td>S0365-66912004000900009-1</td>\n",
       "      <td>Paciente de 55 años que acudió a urgencias por...</td>\n",
       "    </tr>\n",
       "    <tr>\n",
       "      <th>4</th>\n",
       "      <td>S1139-76322016000300016-2</td>\n",
       "      <td>Lactante de 1 mes y 29 días, sin antecedentes ...</td>\n",
       "    </tr>\n",
       "  </tbody>\n",
       "</table>\n",
       "</div>"
      ],
      "text/plain": [
       "                      doc_id  \\\n",
       "0  S1130-63432016000600013-1   \n",
       "1  S0365-66912003000600010-1   \n",
       "2  S0211-69952012000200030-1   \n",
       "3  S0365-66912004000900009-1   \n",
       "4  S1139-76322016000300016-2   \n",
       "\n",
       "                                            raw_text  \n",
       "0  Varón de 75 años, con antecedentes de hiperuri...  \n",
       "1  Paciente de 33 años de edad, gestante de 34 se...  \n",
       "2  Mujer de 67 años con múltiples factores de rie...  \n",
       "3  Paciente de 55 años que acudió a urgencias por...  \n",
       "4  Lactante de 1 mes y 29 días, sin antecedentes ...  "
      ]
     },
     "execution_count": 14,
     "metadata": {},
     "output_type": "execute_result"
    }
   ],
   "source": [
    "df_text_dev.head()"
   ]
  },
  {
   "cell_type": "code",
   "execution_count": 15,
   "metadata": {},
   "outputs": [
    {
     "data": {
      "text/plain": [
       "'Varón de 75 años, con antecedentes de hiperuricemia en tratamiento con Alopurinol que ingresa para realización de resección transuretral de próstata.\\nPostoperatorio inmediato sin incidencias con tratamiento con Pantoprazol, Ciprofloxacino, Paracetamol, Enantyum y Alopurinol. Al cuarto día de postoperatorio presenta mareos, temblor con componente mioclónico en extremidades y tronco e incapacidad para caminar, sin verse alteraciones analíticas. En esta situación se pauta Rivotril y se suspende el tratamiento con Ciprofloxacino, desapareciendo la clínica mioclónica y mejorando el estado del paciente, por lo que se decide el alta hospitalaria.\\n\\n'"
      ]
     },
     "execution_count": 15,
     "metadata": {},
     "output_type": "execute_result"
    }
   ],
   "source": [
    "df_text_dev.raw_text[0]"
   ]
  },
  {
   "cell_type": "markdown",
   "metadata": {},
   "source": [
    "We also load the CIE-Procedimiento codes table:"
   ]
  },
  {
   "cell_type": "code",
   "execution_count": 16,
   "metadata": {},
   "outputs": [],
   "source": [
    "df_codes_dev = pd.read_table(corpus_path + \"dev/devP.tsv\", sep='\\t', header=None)"
   ]
  },
  {
   "cell_type": "code",
   "execution_count": 17,
   "metadata": {},
   "outputs": [],
   "source": [
    "df_codes_dev.columns = [\"doc_id\", \"code\"]"
   ]
  },
  {
   "cell_type": "code",
   "execution_count": 18,
   "metadata": {},
   "outputs": [
    {
     "data": {
      "text/plain": [
       "(817, 2)"
      ]
     },
     "execution_count": 18,
     "metadata": {},
     "output_type": "execute_result"
    }
   ],
   "source": [
    "df_codes_dev.shape"
   ]
  },
  {
   "cell_type": "code",
   "execution_count": 19,
   "metadata": {},
   "outputs": [
    {
     "data": {
      "text/html": [
       "<div>\n",
       "<style scoped>\n",
       "    .dataframe tbody tr th:only-of-type {\n",
       "        vertical-align: middle;\n",
       "    }\n",
       "\n",
       "    .dataframe tbody tr th {\n",
       "        vertical-align: top;\n",
       "    }\n",
       "\n",
       "    .dataframe thead th {\n",
       "        text-align: right;\n",
       "    }\n",
       "</style>\n",
       "<table border=\"1\" class=\"dataframe\">\n",
       "  <thead>\n",
       "    <tr style=\"text-align: right;\">\n",
       "      <th></th>\n",
       "      <th>doc_id</th>\n",
       "      <th>code</th>\n",
       "    </tr>\n",
       "  </thead>\n",
       "  <tbody>\n",
       "    <tr>\n",
       "      <th>0</th>\n",
       "      <td>S0004-06142005000900016-1</td>\n",
       "      <td>bt41zzz</td>\n",
       "    </tr>\n",
       "    <tr>\n",
       "      <th>1</th>\n",
       "      <td>S0004-06142005000900016-1</td>\n",
       "      <td>ct13</td>\n",
       "    </tr>\n",
       "    <tr>\n",
       "      <th>2</th>\n",
       "      <td>S0004-06142005001000011-1</td>\n",
       "      <td>3e1m39z</td>\n",
       "    </tr>\n",
       "    <tr>\n",
       "      <th>3</th>\n",
       "      <td>S0004-06142005001000011-1</td>\n",
       "      <td>0tcb</td>\n",
       "    </tr>\n",
       "    <tr>\n",
       "      <th>4</th>\n",
       "      <td>S0004-06142005001000011-1</td>\n",
       "      <td>bt02</td>\n",
       "    </tr>\n",
       "  </tbody>\n",
       "</table>\n",
       "</div>"
      ],
      "text/plain": [
       "                      doc_id     code\n",
       "0  S0004-06142005000900016-1  bt41zzz\n",
       "1  S0004-06142005000900016-1     ct13\n",
       "2  S0004-06142005001000011-1  3e1m39z\n",
       "3  S0004-06142005001000011-1     0tcb\n",
       "4  S0004-06142005001000011-1     bt02"
      ]
     },
     "execution_count": 19,
     "metadata": {},
     "output_type": "execute_result"
    }
   ],
   "source": [
    "df_codes_dev.head()"
   ]
  },
  {
   "cell_type": "code",
   "execution_count": 20,
   "metadata": {},
   "outputs": [
    {
     "data": {
      "text/plain": [
       "222"
      ]
     },
     "execution_count": 20,
     "metadata": {},
     "output_type": "execute_result"
    }
   ],
   "source": [
    "len(set(df_codes_dev[\"doc_id\"]))"
   ]
  },
  {
   "cell_type": "markdown",
   "metadata": {},
   "source": [
    "We join the training and development CodiEsp codes dataframes together:"
   ]
  },
  {
   "cell_type": "code",
   "execution_count": 21,
   "metadata": {},
   "outputs": [],
   "source": [
    "df_codes_train_dev = pd.concat([df_codes_train, df_codes_dev])"
   ]
  },
  {
   "cell_type": "code",
   "execution_count": 22,
   "metadata": {},
   "outputs": [
    {
     "data": {
      "text/plain": [
       "(2367, 2)"
      ]
     },
     "execution_count": 22,
     "metadata": {},
     "output_type": "execute_result"
    }
   ],
   "source": [
    "df_codes_train_dev.shape"
   ]
  },
  {
   "cell_type": "code",
   "execution_count": 23,
   "metadata": {},
   "outputs": [
    {
     "data": {
      "text/html": [
       "<div>\n",
       "<style scoped>\n",
       "    .dataframe tbody tr th:only-of-type {\n",
       "        vertical-align: middle;\n",
       "    }\n",
       "\n",
       "    .dataframe tbody tr th {\n",
       "        vertical-align: top;\n",
       "    }\n",
       "\n",
       "    .dataframe thead th {\n",
       "        text-align: right;\n",
       "    }\n",
       "</style>\n",
       "<table border=\"1\" class=\"dataframe\">\n",
       "  <thead>\n",
       "    <tr style=\"text-align: right;\">\n",
       "      <th></th>\n",
       "      <th>doc_id</th>\n",
       "      <th>code</th>\n",
       "    </tr>\n",
       "  </thead>\n",
       "  <tbody>\n",
       "    <tr>\n",
       "      <th>0</th>\n",
       "      <td>S0004-06142005000700014-1</td>\n",
       "      <td>bw03zzz</td>\n",
       "    </tr>\n",
       "    <tr>\n",
       "      <th>1</th>\n",
       "      <td>S0004-06142005000700014-1</td>\n",
       "      <td>3e02329</td>\n",
       "    </tr>\n",
       "    <tr>\n",
       "      <th>2</th>\n",
       "      <td>S0004-06142005000700014-1</td>\n",
       "      <td>bw40zzz</td>\n",
       "    </tr>\n",
       "    <tr>\n",
       "      <th>3</th>\n",
       "      <td>S0004-06142005000700014-1</td>\n",
       "      <td>bv44zzz</td>\n",
       "    </tr>\n",
       "    <tr>\n",
       "      <th>4</th>\n",
       "      <td>S0004-06142005000700014-1</td>\n",
       "      <td>bn20</td>\n",
       "    </tr>\n",
       "  </tbody>\n",
       "</table>\n",
       "</div>"
      ],
      "text/plain": [
       "                      doc_id     code\n",
       "0  S0004-06142005000700014-1  bw03zzz\n",
       "1  S0004-06142005000700014-1  3e02329\n",
       "2  S0004-06142005000700014-1  bw40zzz\n",
       "3  S0004-06142005000700014-1  bv44zzz\n",
       "4  S0004-06142005000700014-1     bn20"
      ]
     },
     "execution_count": 23,
     "metadata": {},
     "output_type": "execute_result"
    }
   ],
   "source": [
    "df_codes_train_dev.head()"
   ]
  },
  {
   "cell_type": "markdown",
   "metadata": {},
   "source": [
    "## Creating corpora of annotated sentences\n",
    "\n",
    "Leveraging the information available for the named-entity-recognition and normalization (NER-N) CodiEsp-X task, we create both a training and a development corpus of annotated sentences with CIE-Procedimiento codes."
   ]
  },
  {
   "cell_type": "markdown",
   "metadata": {},
   "source": [
    "Firstly, we pre-process the NER-N precedure-codes annotations available for both the training and development corpora."
   ]
  },
  {
   "cell_type": "code",
   "execution_count": 24,
   "metadata": {},
   "outputs": [],
   "source": [
    "# Training corpus"
   ]
  },
  {
   "cell_type": "code",
   "execution_count": 24,
   "metadata": {},
   "outputs": [
    {
     "name": "stdout",
     "output_type": "stream",
     "text": [
      "CPU times: user 11.3 ms, sys: 0 ns, total: 11.3 ms\n",
      "Wall time: 10.2 ms\n"
     ]
    }
   ],
   "source": [
    "%%time\n",
    "\n",
    "codiesp_x_train = pd.read_table(corpus_path + \"train/trainX.tsv\", sep='\\t', header=None)"
   ]
  },
  {
   "cell_type": "code",
   "execution_count": 25,
   "metadata": {},
   "outputs": [],
   "source": [
    "codiesp_x_train.columns = [\"doc_id\", \"type\", \"code\", \"word\", \"location\"]"
   ]
  },
  {
   "cell_type": "code",
   "execution_count": 26,
   "metadata": {},
   "outputs": [
    {
     "data": {
      "text/plain": [
       "(9181, 5)"
      ]
     },
     "execution_count": 26,
     "metadata": {},
     "output_type": "execute_result"
    }
   ],
   "source": [
    "codiesp_x_train.shape"
   ]
  },
  {
   "cell_type": "code",
   "execution_count": 27,
   "metadata": {},
   "outputs": [
    {
     "data": {
      "text/html": [
       "<div>\n",
       "<style scoped>\n",
       "    .dataframe tbody tr th:only-of-type {\n",
       "        vertical-align: middle;\n",
       "    }\n",
       "\n",
       "    .dataframe tbody tr th {\n",
       "        vertical-align: top;\n",
       "    }\n",
       "\n",
       "    .dataframe thead th {\n",
       "        text-align: right;\n",
       "    }\n",
       "</style>\n",
       "<table border=\"1\" class=\"dataframe\">\n",
       "  <thead>\n",
       "    <tr style=\"text-align: right;\">\n",
       "      <th></th>\n",
       "      <th>doc_id</th>\n",
       "      <th>type</th>\n",
       "      <th>code</th>\n",
       "      <th>word</th>\n",
       "      <th>location</th>\n",
       "    </tr>\n",
       "  </thead>\n",
       "  <tbody>\n",
       "    <tr>\n",
       "      <th>0</th>\n",
       "      <td>S0004-06142005000700014-1</td>\n",
       "      <td>PROCEDIMIENTO</td>\n",
       "      <td>bw03zzz</td>\n",
       "      <td>Rx tórax</td>\n",
       "      <td>2163 2171</td>\n",
       "    </tr>\n",
       "    <tr>\n",
       "      <th>1</th>\n",
       "      <td>S0004-06142005000700014-1</td>\n",
       "      <td>PROCEDIMIENTO</td>\n",
       "      <td>3e02329</td>\n",
       "      <td>Estreptomicina intramuscular</td>\n",
       "      <td>2787 2801;2810 2823</td>\n",
       "    </tr>\n",
       "    <tr>\n",
       "      <th>2</th>\n",
       "      <td>S0004-06142005000700014-1</td>\n",
       "      <td>DIAGNOSTICO</td>\n",
       "      <td>n44.8</td>\n",
       "      <td>teste derecho aumentado de tamaño</td>\n",
       "      <td>1343 1376</td>\n",
       "    </tr>\n",
       "    <tr>\n",
       "      <th>3</th>\n",
       "      <td>S0004-06142005000700014-1</td>\n",
       "      <td>DIAGNOSTICO</td>\n",
       "      <td>z20.818</td>\n",
       "      <td>exposición a Brucella</td>\n",
       "      <td>594 615</td>\n",
       "    </tr>\n",
       "    <tr>\n",
       "      <th>4</th>\n",
       "      <td>S0004-06142005000700014-1</td>\n",
       "      <td>DIAGNOSTICO</td>\n",
       "      <td>r60.9</td>\n",
       "      <td>edemas</td>\n",
       "      <td>1250 1256</td>\n",
       "    </tr>\n",
       "  </tbody>\n",
       "</table>\n",
       "</div>"
      ],
      "text/plain": [
       "                      doc_id           type     code  \\\n",
       "0  S0004-06142005000700014-1  PROCEDIMIENTO  bw03zzz   \n",
       "1  S0004-06142005000700014-1  PROCEDIMIENTO  3e02329   \n",
       "2  S0004-06142005000700014-1    DIAGNOSTICO    n44.8   \n",
       "3  S0004-06142005000700014-1    DIAGNOSTICO  z20.818   \n",
       "4  S0004-06142005000700014-1    DIAGNOSTICO    r60.9   \n",
       "\n",
       "                                word             location  \n",
       "0                           Rx tórax            2163 2171  \n",
       "1       Estreptomicina intramuscular  2787 2801;2810 2823  \n",
       "2  teste derecho aumentado de tamaño            1343 1376  \n",
       "3              exposición a Brucella              594 615  \n",
       "4                             edemas            1250 1256  "
      ]
     },
     "execution_count": 27,
     "metadata": {},
     "output_type": "execute_result"
    }
   ],
   "source": [
    "codiesp_x_train.head()"
   ]
  },
  {
   "cell_type": "code",
   "execution_count": 28,
   "metadata": {},
   "outputs": [],
   "source": [
    "codiesp_x_train = codiesp_x_train[codiesp_x_train[\"type\"] == \"PROCEDIMIENTO\"]"
   ]
  },
  {
   "cell_type": "code",
   "execution_count": 29,
   "metadata": {},
   "outputs": [
    {
     "data": {
      "text/plain": [
       "(1972, 5)"
      ]
     },
     "execution_count": 29,
     "metadata": {},
     "output_type": "execute_result"
    }
   ],
   "source": [
    "codiesp_x_train.shape"
   ]
  },
  {
   "cell_type": "code",
   "execution_count": 30,
   "metadata": {},
   "outputs": [],
   "source": [
    "df_codes_train_ner = process_ner_labels(codiesp_x_train).sort_values([\"doc_id\", \"start\", \"end\"])"
   ]
  },
  {
   "cell_type": "code",
   "execution_count": 31,
   "metadata": {},
   "outputs": [
    {
     "data": {
      "text/html": [
       "<div>\n",
       "<style scoped>\n",
       "    .dataframe tbody tr th:only-of-type {\n",
       "        vertical-align: middle;\n",
       "    }\n",
       "\n",
       "    .dataframe tbody tr th {\n",
       "        vertical-align: top;\n",
       "    }\n",
       "\n",
       "    .dataframe thead th {\n",
       "        text-align: right;\n",
       "    }\n",
       "</style>\n",
       "<table border=\"1\" class=\"dataframe\">\n",
       "  <thead>\n",
       "    <tr style=\"text-align: right;\">\n",
       "      <th></th>\n",
       "      <th>doc_id</th>\n",
       "      <th>type</th>\n",
       "      <th>code</th>\n",
       "      <th>word</th>\n",
       "      <th>start</th>\n",
       "      <th>end</th>\n",
       "    </tr>\n",
       "  </thead>\n",
       "  <tbody>\n",
       "    <tr>\n",
       "      <th>0</th>\n",
       "      <td>S0004-06142005000700014-1</td>\n",
       "      <td>PROCEDIMIENTO</td>\n",
       "      <td>bw03zzz</td>\n",
       "      <td>Rx tórax</td>\n",
       "      <td>2163</td>\n",
       "      <td>2171</td>\n",
       "    </tr>\n",
       "    <tr>\n",
       "      <th>3</th>\n",
       "      <td>S0004-06142005000700014-1</td>\n",
       "      <td>PROCEDIMIENTO</td>\n",
       "      <td>bw40zzz</td>\n",
       "      <td>Ecografía abdominal</td>\n",
       "      <td>2173</td>\n",
       "      <td>2192</td>\n",
       "    </tr>\n",
       "    <tr>\n",
       "      <th>5</th>\n",
       "      <td>S0004-06142005000700014-1</td>\n",
       "      <td>PROCEDIMIENTO</td>\n",
       "      <td>bn20</td>\n",
       "      <td>TAC craneal</td>\n",
       "      <td>2194</td>\n",
       "      <td>2205</td>\n",
       "    </tr>\n",
       "    <tr>\n",
       "      <th>4</th>\n",
       "      <td>S0004-06142005000700014-1</td>\n",
       "      <td>PROCEDIMIENTO</td>\n",
       "      <td>bv44zzz</td>\n",
       "      <td>Ecografía testicular</td>\n",
       "      <td>2287</td>\n",
       "      <td>2307</td>\n",
       "    </tr>\n",
       "    <tr>\n",
       "      <th>1</th>\n",
       "      <td>S0004-06142005000700014-1</td>\n",
       "      <td>PROCEDIMIENTO</td>\n",
       "      <td>3e02329</td>\n",
       "      <td>Estreptomicina intramuscular</td>\n",
       "      <td>2787</td>\n",
       "      <td>2801</td>\n",
       "    </tr>\n",
       "  </tbody>\n",
       "</table>\n",
       "</div>"
      ],
      "text/plain": [
       "                      doc_id           type     code  \\\n",
       "0  S0004-06142005000700014-1  PROCEDIMIENTO  bw03zzz   \n",
       "3  S0004-06142005000700014-1  PROCEDIMIENTO  bw40zzz   \n",
       "5  S0004-06142005000700014-1  PROCEDIMIENTO     bn20   \n",
       "4  S0004-06142005000700014-1  PROCEDIMIENTO  bv44zzz   \n",
       "1  S0004-06142005000700014-1  PROCEDIMIENTO  3e02329   \n",
       "\n",
       "                           word start   end  \n",
       "0                      Rx tórax  2163  2171  \n",
       "3           Ecografía abdominal  2173  2192  \n",
       "5                   TAC craneal  2194  2205  \n",
       "4          Ecografía testicular  2287  2307  \n",
       "1  Estreptomicina intramuscular  2787  2801  "
      ]
     },
     "execution_count": 31,
     "metadata": {},
     "output_type": "execute_result"
    }
   ],
   "source": [
    "df_codes_train_ner.head()"
   ]
  },
  {
   "cell_type": "code",
   "execution_count": 33,
   "metadata": {},
   "outputs": [
    {
     "data": {
      "text/plain": [
       "(2769, 6)"
      ]
     },
     "execution_count": 33,
     "metadata": {},
     "output_type": "execute_result"
    }
   ],
   "source": [
    "df_codes_train_ner.shape"
   ]
  },
  {
   "cell_type": "code",
   "execution_count": 34,
   "metadata": {},
   "outputs": [],
   "source": [
    "# Development corpus"
   ]
  },
  {
   "cell_type": "code",
   "execution_count": 34,
   "metadata": {},
   "outputs": [
    {
     "name": "stdout",
     "output_type": "stream",
     "text": [
      "CPU times: user 7.19 ms, sys: 0 ns, total: 7.19 ms\n",
      "Wall time: 6.22 ms\n"
     ]
    }
   ],
   "source": [
    "%%time\n",
    "\n",
    "codiesp_x_dev = pd.read_table(corpus_path + \"dev/devX.tsv\", sep='\\t', header=None)"
   ]
  },
  {
   "cell_type": "code",
   "execution_count": 35,
   "metadata": {},
   "outputs": [],
   "source": [
    "codiesp_x_dev.columns = [\"doc_id\", \"type\", \"code\", \"word\", \"location\"]"
   ]
  },
  {
   "cell_type": "code",
   "execution_count": 36,
   "metadata": {},
   "outputs": [
    {
     "data": {
      "text/plain": [
       "(4477, 5)"
      ]
     },
     "execution_count": 36,
     "metadata": {},
     "output_type": "execute_result"
    }
   ],
   "source": [
    "codiesp_x_dev.shape"
   ]
  },
  {
   "cell_type": "code",
   "execution_count": 37,
   "metadata": {},
   "outputs": [
    {
     "data": {
      "text/html": [
       "<div>\n",
       "<style scoped>\n",
       "    .dataframe tbody tr th:only-of-type {\n",
       "        vertical-align: middle;\n",
       "    }\n",
       "\n",
       "    .dataframe tbody tr th {\n",
       "        vertical-align: top;\n",
       "    }\n",
       "\n",
       "    .dataframe thead th {\n",
       "        text-align: right;\n",
       "    }\n",
       "</style>\n",
       "<table border=\"1\" class=\"dataframe\">\n",
       "  <thead>\n",
       "    <tr style=\"text-align: right;\">\n",
       "      <th></th>\n",
       "      <th>doc_id</th>\n",
       "      <th>type</th>\n",
       "      <th>code</th>\n",
       "      <th>word</th>\n",
       "      <th>location</th>\n",
       "    </tr>\n",
       "  </thead>\n",
       "  <tbody>\n",
       "    <tr>\n",
       "      <th>0</th>\n",
       "      <td>S0004-06142005000900016-1</td>\n",
       "      <td>PROCEDIMIENTO</td>\n",
       "      <td>bt41zzz</td>\n",
       "      <td>ecografía renal derecha</td>\n",
       "      <td>307 316;348 361</td>\n",
       "    </tr>\n",
       "    <tr>\n",
       "      <th>1</th>\n",
       "      <td>S0004-06142005000900016-1</td>\n",
       "      <td>PROCEDIMIENTO</td>\n",
       "      <td>ct13</td>\n",
       "      <td>gammagrafía renal</td>\n",
       "      <td>739 756</td>\n",
       "    </tr>\n",
       "    <tr>\n",
       "      <th>2</th>\n",
       "      <td>S0004-06142005000900016-1</td>\n",
       "      <td>DIAGNOSTICO</td>\n",
       "      <td>q62.11</td>\n",
       "      <td>estenosis en la unión pieloureteral derecha</td>\n",
       "      <td>540 583</td>\n",
       "    </tr>\n",
       "    <tr>\n",
       "      <th>3</th>\n",
       "      <td>S0004-06142005000900016-1</td>\n",
       "      <td>DIAGNOSTICO</td>\n",
       "      <td>n28.89</td>\n",
       "      <td>ectasia pielocalicial</td>\n",
       "      <td>326 347</td>\n",
       "    </tr>\n",
       "    <tr>\n",
       "      <th>4</th>\n",
       "      <td>S0004-06142005000900016-1</td>\n",
       "      <td>DIAGNOSTICO</td>\n",
       "      <td>n39.0</td>\n",
       "      <td>infecciones del tracto urinario</td>\n",
       "      <td>198 229</td>\n",
       "    </tr>\n",
       "  </tbody>\n",
       "</table>\n",
       "</div>"
      ],
      "text/plain": [
       "                      doc_id           type     code  \\\n",
       "0  S0004-06142005000900016-1  PROCEDIMIENTO  bt41zzz   \n",
       "1  S0004-06142005000900016-1  PROCEDIMIENTO     ct13   \n",
       "2  S0004-06142005000900016-1    DIAGNOSTICO   q62.11   \n",
       "3  S0004-06142005000900016-1    DIAGNOSTICO   n28.89   \n",
       "4  S0004-06142005000900016-1    DIAGNOSTICO    n39.0   \n",
       "\n",
       "                                          word         location  \n",
       "0                      ecografía renal derecha  307 316;348 361  \n",
       "1                            gammagrafía renal          739 756  \n",
       "2  estenosis en la unión pieloureteral derecha          540 583  \n",
       "3                        ectasia pielocalicial          326 347  \n",
       "4              infecciones del tracto urinario          198 229  "
      ]
     },
     "execution_count": 37,
     "metadata": {},
     "output_type": "execute_result"
    }
   ],
   "source": [
    "codiesp_x_dev.head()"
   ]
  },
  {
   "cell_type": "code",
   "execution_count": 38,
   "metadata": {},
   "outputs": [],
   "source": [
    "codiesp_x_dev = codiesp_x_dev[codiesp_x_dev[\"type\"] == \"PROCEDIMIENTO\"]"
   ]
  },
  {
   "cell_type": "code",
   "execution_count": 39,
   "metadata": {},
   "outputs": [
    {
     "data": {
      "text/plain": [
       "(1046, 5)"
      ]
     },
     "execution_count": 39,
     "metadata": {},
     "output_type": "execute_result"
    }
   ],
   "source": [
    "codiesp_x_dev.shape"
   ]
  },
  {
   "cell_type": "code",
   "execution_count": 40,
   "metadata": {},
   "outputs": [],
   "source": [
    "df_codes_dev_ner = process_ner_labels(codiesp_x_dev).sort_values([\"doc_id\", \"start\", \"end\"])"
   ]
  },
  {
   "cell_type": "code",
   "execution_count": 41,
   "metadata": {},
   "outputs": [
    {
     "data": {
      "text/html": [
       "<div>\n",
       "<style scoped>\n",
       "    .dataframe tbody tr th:only-of-type {\n",
       "        vertical-align: middle;\n",
       "    }\n",
       "\n",
       "    .dataframe tbody tr th {\n",
       "        vertical-align: top;\n",
       "    }\n",
       "\n",
       "    .dataframe thead th {\n",
       "        text-align: right;\n",
       "    }\n",
       "</style>\n",
       "<table border=\"1\" class=\"dataframe\">\n",
       "  <thead>\n",
       "    <tr style=\"text-align: right;\">\n",
       "      <th></th>\n",
       "      <th>doc_id</th>\n",
       "      <th>type</th>\n",
       "      <th>code</th>\n",
       "      <th>word</th>\n",
       "      <th>start</th>\n",
       "      <th>end</th>\n",
       "    </tr>\n",
       "  </thead>\n",
       "  <tbody>\n",
       "    <tr>\n",
       "      <th>0</th>\n",
       "      <td>S0004-06142005000900016-1</td>\n",
       "      <td>PROCEDIMIENTO</td>\n",
       "      <td>bt41zzz</td>\n",
       "      <td>ecografía renal derecha</td>\n",
       "      <td>307</td>\n",
       "      <td>316</td>\n",
       "    </tr>\n",
       "    <tr>\n",
       "      <th>1</th>\n",
       "      <td>S0004-06142005000900016-1</td>\n",
       "      <td>PROCEDIMIENTO</td>\n",
       "      <td>bt41zzz</td>\n",
       "      <td>ecografía renal derecha</td>\n",
       "      <td>348</td>\n",
       "      <td>361</td>\n",
       "    </tr>\n",
       "    <tr>\n",
       "      <th>2</th>\n",
       "      <td>S0004-06142005000900016-1</td>\n",
       "      <td>PROCEDIMIENTO</td>\n",
       "      <td>ct13</td>\n",
       "      <td>gammagrafía renal</td>\n",
       "      <td>739</td>\n",
       "      <td>756</td>\n",
       "    </tr>\n",
       "    <tr>\n",
       "      <th>3</th>\n",
       "      <td>S0004-06142005001000011-1</td>\n",
       "      <td>PROCEDIMIENTO</td>\n",
       "      <td>3e1m39z</td>\n",
       "      <td>diálisis peritoneal</td>\n",
       "      <td>95</td>\n",
       "      <td>114</td>\n",
       "    </tr>\n",
       "    <tr>\n",
       "      <th>7</th>\n",
       "      <td>S0004-06142005001000011-1</td>\n",
       "      <td>PROCEDIMIENTO</td>\n",
       "      <td>0270</td>\n",
       "      <td>angioplastia transluminal de la coronaria derecha</td>\n",
       "      <td>424</td>\n",
       "      <td>473</td>\n",
       "    </tr>\n",
       "  </tbody>\n",
       "</table>\n",
       "</div>"
      ],
      "text/plain": [
       "                      doc_id           type     code  \\\n",
       "0  S0004-06142005000900016-1  PROCEDIMIENTO  bt41zzz   \n",
       "1  S0004-06142005000900016-1  PROCEDIMIENTO  bt41zzz   \n",
       "2  S0004-06142005000900016-1  PROCEDIMIENTO     ct13   \n",
       "3  S0004-06142005001000011-1  PROCEDIMIENTO  3e1m39z   \n",
       "7  S0004-06142005001000011-1  PROCEDIMIENTO     0270   \n",
       "\n",
       "                                                word start  end  \n",
       "0                            ecografía renal derecha   307  316  \n",
       "1                            ecografía renal derecha   348  361  \n",
       "2                                  gammagrafía renal   739  756  \n",
       "3                                diálisis peritoneal    95  114  \n",
       "7  angioplastia transluminal de la coronaria derecha   424  473  "
      ]
     },
     "execution_count": 41,
     "metadata": {},
     "output_type": "execute_result"
    }
   ],
   "source": [
    "df_codes_dev_ner.head()"
   ]
  },
  {
   "cell_type": "code",
   "execution_count": 42,
   "metadata": {},
   "outputs": [
    {
     "data": {
      "text/plain": [
       "(1540, 6)"
      ]
     },
     "execution_count": 42,
     "metadata": {},
     "output_type": "execute_result"
    }
   ],
   "source": [
    "df_codes_dev_ner.shape"
   ]
  },
  {
   "cell_type": "markdown",
   "metadata": {},
   "source": [
    "Now, using the character start-end positions of each sentence from the CodiEsp corpus (see `datasets/CodiEsp-Sentence-Split.ipynb`), we annotate the sentences with CIE-Procedimiento codes. Also, using XLM-R tokenizer, each sentence is converted into a sequence of subwords, which are further converted into vocabulary indices (input IDs) and attention mask arrays (XLM-R input tensors). We also generate a *fragments* dataset indicating the number of produced annotated sentences for each document."
   ]
  },
  {
   "cell_type": "code",
   "execution_count": 43,
   "metadata": {},
   "outputs": [],
   "source": [
    "# Sentence-Split information\n",
    "ss_corpus_path = \"../datasets/CodiEsp-SSplit-text_SE_All_Pos/\""
   ]
  },
  {
   "cell_type": "markdown",
   "metadata": {},
   "source": [
    "### Training corpus"
   ]
  },
  {
   "cell_type": "code",
   "execution_count": 44,
   "metadata": {},
   "outputs": [],
   "source": [
    "label_list = list(df_codes_train_dev[\"code\"])"
   ]
  },
  {
   "cell_type": "code",
   "execution_count": 45,
   "metadata": {},
   "outputs": [
    {
     "data": {
      "text/plain": [
       "2367"
      ]
     },
     "execution_count": 45,
     "metadata": {},
     "output_type": "execute_result"
    }
   ],
   "source": [
    "len(label_list)"
   ]
  },
  {
   "cell_type": "code",
   "execution_count": 46,
   "metadata": {},
   "outputs": [
    {
     "data": {
      "text/plain": [
       "727"
      ]
     },
     "execution_count": 46,
     "metadata": {},
     "output_type": "execute_result"
    }
   ],
   "source": [
    "len(set(label_list))"
   ]
  },
  {
   "cell_type": "code",
   "execution_count": 47,
   "metadata": {},
   "outputs": [
    {
     "data": {
      "text/plain": [
       "MultiLabelBinarizer()"
      ]
     },
     "execution_count": 47,
     "metadata": {},
     "output_type": "execute_result"
    }
   ],
   "source": [
    "from sklearn.preprocessing import MultiLabelBinarizer\n",
    "\n",
    "mlb_encoder = MultiLabelBinarizer()\n",
    "mlb_encoder.fit([label_list])"
   ]
  },
  {
   "cell_type": "code",
   "execution_count": 48,
   "metadata": {},
   "outputs": [],
   "source": [
    "# Number of distinct codes\n",
    "num_labels = len(mlb_encoder.classes_)"
   ]
  },
  {
   "cell_type": "code",
   "execution_count": 49,
   "metadata": {},
   "outputs": [
    {
     "data": {
      "text/plain": [
       "727"
      ]
     },
     "execution_count": 49,
     "metadata": {},
     "output_type": "execute_result"
    }
   ],
   "source": [
    "num_labels"
   ]
  },
  {
   "cell_type": "markdown",
   "metadata": {},
   "source": [
    "Only training texts that are annotated with CIE-Procedimiento codes are considered:"
   ]
  },
  {
   "cell_type": "code",
   "execution_count": 50,
   "metadata": {},
   "outputs": [
    {
     "data": {
      "text/plain": [
       "65"
      ]
     },
     "execution_count": 50,
     "metadata": {},
     "output_type": "execute_result"
    }
   ],
   "source": [
    "# Some train documents (texts) are not annotated \n",
    "len(set(df_text_train[\"doc_id\"]) - set(df_codes_train_ner[\"doc_id\"]))"
   ]
  },
  {
   "cell_type": "code",
   "execution_count": 51,
   "metadata": {},
   "outputs": [],
   "source": [
    "train_doc_list = sorted(set(df_codes_train_ner[\"doc_id\"]))"
   ]
  },
  {
   "cell_type": "code",
   "execution_count": 52,
   "metadata": {},
   "outputs": [
    {
     "data": {
      "text/plain": [
       "435"
      ]
     },
     "execution_count": 52,
     "metadata": {},
     "output_type": "execute_result"
    }
   ],
   "source": [
    "len(train_doc_list)"
   ]
  },
  {
   "cell_type": "code",
   "execution_count": 54,
   "metadata": {},
   "outputs": [],
   "source": [
    "# Sentence-Split data"
   ]
  },
  {
   "cell_type": "code",
   "execution_count": 53,
   "metadata": {},
   "outputs": [
    {
     "name": "stdout",
     "output_type": "stream",
     "text": [
      "CPU times: user 14.1 ms, sys: 8.06 ms, total: 22.2 ms\n",
      "Wall time: 20.1 ms\n"
     ]
    }
   ],
   "source": [
    "%%time\n",
    "ss_sub_corpus_path = ss_corpus_path + \"train/\"\n",
    "ss_files = [f for f in os.listdir(ss_sub_corpus_path) if os.path.isfile(ss_sub_corpus_path + f)]\n",
    "ss_dict_train = load_ss_files(ss_files, ss_sub_corpus_path)"
   ]
  },
  {
   "cell_type": "code",
   "execution_count": 56,
   "metadata": {},
   "outputs": [
    {
     "name": "stderr",
     "output_type": "stream",
     "text": [
      "100%|██████████| 435/435 [00:04<00:00, 93.53it/s] \n"
     ]
    },
    {
     "name": "stdout",
     "output_type": "stream",
     "text": [
      "CPU times: user 4.75 s, sys: 24.3 ms, total: 4.78 s\n",
      "Wall time: 4.75 s\n"
     ]
    }
   ],
   "source": [
    "%%time\n",
    "train_ind, train_att, train_y, train_frag, train_start_end_frag = ss_create_frag_input_data_xlmr(df_text=df_text_train, \n",
    "                                                  text_col=text_col, \n",
    "                                                  df_ann=df_codes_train_ner, doc_list=train_doc_list, ss_dict=ss_dict_train,\n",
    "                                                  tokenizer=tokenizer, sp_pb2=spt, lab_encoder=mlb_encoder, seq_len=SEQ_LEN)"
   ]
  },
  {
   "cell_type": "code",
   "execution_count": 57,
   "metadata": {},
   "outputs": [],
   "source": [
    "# Sanity check"
   ]
  },
  {
   "cell_type": "code",
   "execution_count": 57,
   "metadata": {},
   "outputs": [
    {
     "data": {
      "text/plain": [
       "(7013, 128)"
      ]
     },
     "execution_count": 57,
     "metadata": {},
     "output_type": "execute_result"
    }
   ],
   "source": [
    "train_ind.shape"
   ]
  },
  {
   "cell_type": "code",
   "execution_count": 58,
   "metadata": {},
   "outputs": [
    {
     "data": {
      "text/plain": [
       "(7013, 128)"
      ]
     },
     "execution_count": 58,
     "metadata": {},
     "output_type": "execute_result"
    }
   ],
   "source": [
    "train_att.shape"
   ]
  },
  {
   "cell_type": "code",
   "execution_count": 59,
   "metadata": {},
   "outputs": [
    {
     "data": {
      "text/plain": [
       "(7013, 727)"
      ]
     },
     "execution_count": 59,
     "metadata": {},
     "output_type": "execute_result"
    }
   ],
   "source": [
    "train_y.shape"
   ]
  },
  {
   "cell_type": "code",
   "execution_count": 60,
   "metadata": {},
   "outputs": [
    {
     "data": {
      "text/plain": [
       "435"
      ]
     },
     "execution_count": 60,
     "metadata": {},
     "output_type": "execute_result"
    }
   ],
   "source": [
    "len(train_frag)"
   ]
  },
  {
   "cell_type": "code",
   "execution_count": 61,
   "metadata": {},
   "outputs": [
    {
     "data": {
      "text/plain": [
       "7013"
      ]
     },
     "execution_count": 61,
     "metadata": {},
     "output_type": "execute_result"
    }
   ],
   "source": [
    "len(train_start_end_frag)"
   ]
  },
  {
   "cell_type": "code",
   "execution_count": 62,
   "metadata": {},
   "outputs": [
    {
     "data": {
      "text/plain": [
       "count    435.000000\n",
       "mean      16.121839\n",
       "std        7.762687\n",
       "min        4.000000\n",
       "25%       10.500000\n",
       "50%       15.000000\n",
       "75%       20.000000\n",
       "max       54.000000\n",
       "dtype: float64"
      ]
     },
     "execution_count": 62,
     "metadata": {},
     "output_type": "execute_result"
    }
   ],
   "source": [
    "# Check n_frag distribution across texts\n",
    "pd.Series(train_frag).describe()"
   ]
  },
  {
   "cell_type": "code",
   "execution_count": 63,
   "metadata": {},
   "outputs": [],
   "source": [
    "# Inspect a randomly selected text and its encoded version\n",
    "check_id = np.random.randint(low=0, high=len(train_doc_list), size=1)[0]"
   ]
  },
  {
   "cell_type": "code",
   "execution_count": 64,
   "metadata": {},
   "outputs": [
    {
     "data": {
      "text/plain": [
       "211"
      ]
     },
     "execution_count": 64,
     "metadata": {},
     "output_type": "execute_result"
    }
   ],
   "source": [
    "check_id"
   ]
  },
  {
   "cell_type": "code",
   "execution_count": 65,
   "metadata": {},
   "outputs": [
    {
     "data": {
      "text/plain": [
       "'S0376-78922009000400011-1'"
      ]
     },
     "execution_count": 65,
     "metadata": {},
     "output_type": "execute_result"
    }
   ],
   "source": [
    "train_doc_list[check_id]"
   ]
  },
  {
   "cell_type": "code",
   "execution_count": 66,
   "metadata": {
    "scrolled": true
   },
   "outputs": [
    {
     "data": {
      "text/plain": [
       "'Varón de 25 años de edad que sufrió mientras pescaba picadura de raya a nivel de la superficie interna del tobillo derecho, con dolor intenso y quemante, tratado inicialmente en un hospital local mediante cura y administración de antibióticos sistémicos; al no presentar respuesta clínica adecuada, es remitido a nuestra institución sanitaria.\\nAl ingreso hospitalario, el paciente presentaba una lesión muy dolorosa, profunda, a nivel de la región posterior del maléolo interno del pie derecho, con necrosis de la piel suprayacente y abundante salida de material purulento y fétido.\\nDiagnosticamos infección de tejidos blandos y es hospitalizado para desbridamiento quirúrgico y tratamiento con antibióticos (Clindamicina 600 mg cada 8 horas y Amikacina 1 gr diario). Se toman radiografías del tobillo derecho en las que observamos edema de tejidos blandos, sin evidencia de fragmentos radio-opacos que pudieran corresponder a restos del aguijón venenoso.\\nEn quirófano, se realiza drenaje de la colección de material purulento y desbridamiento del tejido necrótico, creando un defecto tisular de 7 x 5 cm sobre el maléolo interno del tobillo derecho, con exposición del tendón de Aquiles y del borde posterior de la tibia; se realiza además cultivo de tejidos blandos.\\n\\nLos exámenes de laboratorio reportan: leucocitos de 7200/ul, con neutrófilos de 60%, hemoglobina 10,7g/dl, hematocrito 31,8%, creatinina 0,9 mg/dL, proteína C reactiva 3,13mg/dL y velocidad de sedimentación globular 81 mm.\\nPracticamos dos desbridamientos adicionales por persistencia de secreción y tejido necrótico residual en el tercer y quinto día de hospitalización. El resultado del cultivo detectó la presencia de Proteus vulgaris, sensible a Amikacina.\\nHacia el día 9o, decidimos realizar cobertura del defecto remanente con colgajo fasciocutaneo safenointerno de flujo reverso. Desbridamos los bordes del defecto, dejando una pérdida de sustancia final de 8x3 cm; para la cobertura diseñamos una isla de piel con las mismas dimensiones y luego cerramos de forma primaria el área donante del colgajo.\\n\\nLa evolución del paciente fue satisfactoria, con control adecuado de la infección y cicatrización exitosa.\\n\\n'"
      ]
     },
     "execution_count": 66,
     "metadata": {},
     "output_type": "execute_result"
    }
   ],
   "source": [
    "df_text_train[df_text_train[\"doc_id\"] == train_doc_list[check_id]][text_col].values[0]"
   ]
  },
  {
   "cell_type": "code",
   "execution_count": 67,
   "metadata": {},
   "outputs": [
    {
     "name": "stdout",
     "output_type": "stream",
     "text": [
      "[()] \n",
      "\n",
      "[('0ybm',)] \n",
      "\n",
      "[('0jbn', '0ybm')] \n",
      "\n",
      "[('bq0g',)] \n",
      "\n",
      "[('0jbn',)] \n",
      "\n",
      "[()] \n",
      "\n",
      "[()] \n",
      "\n",
      "[()] \n",
      "\n",
      "[()] \n",
      "\n",
      "[()] \n",
      "\n",
      "[()] \n",
      "\n"
     ]
    }
   ],
   "source": [
    "check_id_frag = sum(train_frag[:check_id])\n",
    "for i in range(check_id_frag, check_id_frag + train_frag[check_id]):\n",
    "    print(mlb_encoder.inverse_transform(np.array([train_y[i]])), \"\\n\")"
   ]
  },
  {
   "cell_type": "code",
   "execution_count": 68,
   "metadata": {},
   "outputs": [
    {
     "name": "stdout",
     "output_type": "stream",
     "text": [
      "[('▁Var', (0, 3)), ('ón', (3, 6)), ('▁de', (6, 9)), ('▁25', (9, 12)), ('▁años', (12, 18)), ('▁de', (18, 21)), ('▁edad', (21, 26)), ('▁que', (26, 30)), ('▁sufri', (30, 36)), ('ó', (36, 38)), ('▁mientras', (38, 47)), ('▁pesca', (47, 53)), ('ba', (53, 55)), ('▁pic', (55, 59)), ('adura', (59, 64)), ('▁de', (64, 67)), ('▁raya', (67, 72)), ('▁a', (72, 74)), ('▁nivel', (74, 80)), ('▁de', (80, 83)), ('▁la', (83, 86)), ('▁superficie', (86, 97)), ('▁interna', (97, 105)), ('▁del', (105, 109)), ('▁to', (109, 112)), ('bil', (112, 115)), ('lo', (115, 117)), ('▁derecho', (117, 125)), (',', (125, 126)), ('▁con', (126, 130)), ('▁dolor', (130, 136)), ('▁intenso', (136, 144)), ('▁y', (144, 146)), ('▁quem', (146, 151)), ('ante', (151, 155)), (',', (155, 156)), ('▁tratado', (156, 164)), ('▁inicialmente', (164, 177)), ('▁en', (177, 180)), ('▁un', (180, 183)), ('▁hospital', (183, 192)), ('▁local', (192, 198)), ('▁mediante', (198, 207)), ('▁cura', (207, 212)), ('▁y', (212, 214)), ('▁administración', (214, 230)), ('▁de', (230, 233)), ('▁anti', (233, 238)), ('bi', (238, 240)), ('ó', (240, 242)), ('ticos', (242, 247)), ('▁sist', (247, 252)), ('ém', (252, 255)), ('icos', (255, 259)), (';', (259, 260)), ('▁al', (260, 263)), ('▁no', (263, 266)), ('▁presentar', (266, 276)), ('▁respuesta', (276, 286)), ('▁clínica', (286, 295)), ('▁adecuada', (295, 304)), (',', (304, 305)), ('▁es', (305, 308)), ('▁remit', (308, 314)), ('ido', (314, 317)), ('▁a', (317, 319)), ('▁nuestra', (319, 327)), ('▁institución', (327, 340)), ('▁sanitaria', (340, 350)), ('.', (350, 351))]\n",
      "\n",
      "\n",
      "[('▁Al', (352, 354)), ('▁ingreso', (354, 362)), ('▁hospital', (362, 371)), ('ario', (371, 375)), (',', (375, 376)), ('▁el', (376, 379)), ('▁paciente', (379, 388)), ('▁presenta', (388, 397)), ('ba', (397, 399)), ('▁una', (399, 403)), ('▁le', (403, 406)), ('sión', (406, 411)), ('▁muy', (411, 415)), ('▁dolor', (415, 421)), ('osa', (421, 424)), (',', (424, 425)), ('▁profunda', (425, 434)), (',', (434, 435)), ('▁a', (435, 437)), ('▁nivel', (437, 443)), ('▁de', (443, 446)), ('▁la', (446, 449)), ('▁región', (449, 457)), ('▁posterior', (457, 467)), ('▁del', (467, 471)), ('▁malé', (471, 477)), ('olo', (477, 480)), ('▁interno', (480, 488)), ('▁del', (488, 492)), ('▁pie', (492, 496)), ('▁derecho', (496, 504)), (',', (504, 505)), ('▁con', (505, 509)), ('▁nec', (509, 513)), ('rosi', (513, 517)), ('s', (517, 518)), ('▁de', (518, 521)), ('▁la', (521, 524)), ('▁piel', (524, 529)), ('▁supra', (529, 535)), ('ya', (535, 537)), ('cente', (537, 542)), ('▁y', (542, 544)), ('▁abundante', (544, 554)), ('▁salida', (554, 561)), ('▁de', (561, 564)), ('▁material', (564, 573)), ('▁pur', (573, 577)), ('ul', (577, 579)), ('ento', (579, 583)), ('▁y', (583, 585)), ('▁fé', (585, 589)), ('ti', (589, 591)), ('do', (591, 593)), ('.', (593, 594))]\n",
      "\n",
      "\n",
      "[('▁', (595, 595)), ('Diagnos', (595, 602)), ('tica', (602, 606)), ('mos', (606, 609)), ('▁infección', (609, 620)), ('▁de', (620, 623)), ('▁tejido', (623, 630)), ('s', (630, 631)), ('▁bland', (631, 637)), ('os', (637, 639)), ('▁y', (639, 641)), ('▁es', (641, 644)), ('▁hospital', (644, 653)), ('izado', (653, 658)), ('▁para', (658, 663)), ('▁des', (663, 667)), ('brid', (667, 671)), ('amiento', (671, 678)), ('▁qui', (678, 682)), ('rú', (682, 685)), ('rg', (685, 687)), ('ico', (687, 690)), ('▁y', (690, 692)), ('▁tratamiento', (692, 704)), ('▁con', (704, 708)), ('▁anti', (708, 713)), ('bi', (713, 715)), ('ó', (715, 717)), ('ticos', (717, 722)), ('▁(', (722, 724)), ('C', (724, 725)), ('linda', (725, 730)), ('mi', (730, 732)), ('cina', (732, 736)), ('▁600', (736, 740)), ('▁mg', (740, 743)), ('▁cada', (743, 748)), ('▁8', (748, 750)), ('▁horas', (750, 756)), ('▁y', (756, 758)), ('▁Ami', (758, 762)), ('ka', (762, 764)), ('cina', (764, 768)), ('▁1', (768, 770)), ('▁gr', (770, 773)), ('▁diario', (773, 780)), (').', (780, 782))]\n",
      "\n",
      "\n",
      "[('▁Se', (783, 785)), ('▁to', (785, 788)), ('man', (788, 791)), ('▁radi', (791, 796)), ('ografía', (796, 804)), ('s', (804, 805)), ('▁del', (805, 809)), ('▁to', (809, 812)), ('bil', (812, 815)), ('lo', (815, 817)), ('▁derecho', (817, 825)), ('▁en', (825, 828)), ('▁las', (828, 832)), ('▁que', (832, 836)), ('▁observa', (836, 844)), ('mos', (844, 847)), ('▁ed', (847, 850)), ('ema', (850, 853)), ('▁de', (853, 856)), ('▁tejido', (856, 863)), ('s', (863, 864)), ('▁bland', (864, 870)), ('os', (870, 872)), (',', (872, 873)), ('▁sin', (873, 877)), ('▁evidencia', (877, 887)), ('▁de', (887, 890)), ('▁fragment', (890, 899)), ('os', (899, 901)), ('▁radio', (901, 907)), ('-', (907, 908)), ('opa', (908, 911)), ('cos', (911, 914)), ('▁que', (914, 918)), ('▁pudiera', (918, 926)), ('n', (926, 927)), ('▁correspond', (927, 938)), ('er', (938, 940)), ('▁a', (940, 942)), ('▁restos', (942, 949)), ('▁del', (949, 953)), ('▁a', (953, 955)), ('gui', (955, 958)), ('jón', (958, 962)), ('▁ven', (962, 966)), ('en', (966, 968)), ('oso', (968, 971)), ('.', (971, 972))]\n",
      "\n",
      "\n",
      "[('▁En', (973, 975)), ('▁qui', (975, 979)), ('ró', (979, 982)), ('fano', (982, 986)), (',', (986, 987)), ('▁se', (987, 990)), ('▁realiza', (990, 998)), ('▁dre', (998, 1002)), ('na', (1002, 1004)), ('je', (1004, 1006)), ('▁de', (1006, 1009)), ('▁la', (1009, 1012)), ('▁colección', (1012, 1023)), ('▁de', (1023, 1026)), ('▁material', (1026, 1035)), ('▁pur', (1035, 1039)), ('ul', (1039, 1041)), ('ento', (1041, 1045)), ('▁y', (1045, 1047)), ('▁des', (1047, 1051)), ('brid', (1051, 1055)), ('amiento', (1055, 1062)), ('▁del', (1062, 1066)), ('▁tejido', (1066, 1073)), ('▁nec', (1073, 1077)), ('ró', (1077, 1080)), ('tico', (1080, 1084)), (',', (1084, 1085)), ('▁creando', (1085, 1093)), ('▁un', (1093, 1096)), ('▁defect', (1096, 1103)), ('o', (1103, 1104)), ('▁', (1104, 1105)), ('tis', (1105, 1108)), ('ular', (1108, 1112)), ('▁de', (1112, 1115)), ('▁7', (1115, 1117)), ('▁x', (1117, 1119)), ('▁5', (1119, 1121)), ('▁cm', (1121, 1124)), ('▁sobre', (1124, 1130)), ('▁el', (1130, 1133)), ('▁malé', (1133, 1139)), ('olo', (1139, 1142)), ('▁interno', (1142, 1150)), ('▁del', (1150, 1154)), ('▁to', (1154, 1157)), ('bil', (1157, 1160)), ('lo', (1160, 1162)), ('▁derecho', (1162, 1170)), (',', (1170, 1171)), ('▁con', (1171, 1175)), ('▁exposición', (1175, 1187)), ('▁del', (1187, 1191)), ('▁tend', (1191, 1196)), ('ón', (1196, 1199)), ('▁de', (1199, 1202)), ('▁Aqui', (1202, 1207)), ('les', (1207, 1210)), ('▁y', (1210, 1212)), ('▁del', (1212, 1216)), ('▁borde', (1216, 1222)), ('▁posterior', (1222, 1232)), ('▁de', (1232, 1235)), ('▁la', (1235, 1238)), ('▁tibi', (1238, 1243)), ('a', (1243, 1244)), (';', (1244, 1245)), ('▁se', (1245, 1248)), ('▁realiza', (1248, 1256)), ('▁además', (1256, 1264)), ('▁cultivo', (1264, 1272)), ('▁de', (1272, 1275)), ('▁tejido', (1275, 1282)), ('s', (1282, 1283)), ('▁bland', (1283, 1289)), ('os', (1289, 1291)), ('.', (1291, 1292))]\n",
      "\n",
      "\n",
      "[('▁Los', (1294, 1297)), ('▁ex', (1297, 1300)), ('áme', (1300, 1304)), ('nes', (1304, 1307)), ('▁de', (1307, 1310)), ('▁laboratorio', (1310, 1322)), ('▁report', (1322, 1329)), ('an', (1329, 1331)), (':', (1331, 1332)), ('▁le', (1332, 1335)), ('u', (1335, 1336)), ('co', (1336, 1338)), ('cito', (1338, 1342)), ('s', (1342, 1343)), ('▁de', (1343, 1346)), ('▁7', (1346, 1348)), ('200', (1348, 1351)), ('/', (1351, 1352)), ('ul', (1352, 1354)), (',', (1354, 1355)), ('▁con', (1355, 1359)), ('▁neu', (1359, 1363)), ('tró', (1363, 1367)), ('filo', (1367, 1371)), ('s', (1371, 1372)), ('▁de', (1372, 1375)), ('▁60%', (1375, 1379)), (',', (1379, 1380)), ('▁hem', (1380, 1384)), ('o', (1384, 1385)), ('glob', (1385, 1389)), ('ina', (1389, 1392)), ('▁10', (1392, 1395)), (',', (1395, 1396)), ('7', (1396, 1397)), ('g', (1397, 1398)), ('/', (1398, 1399)), ('dl', (1399, 1401)), (',', (1401, 1402)), ('▁hemat', (1402, 1408)), ('oc', (1408, 1410)), ('rito', (1410, 1414)), ('▁31,', (1414, 1418)), ('8%', (1418, 1420)), (',', (1420, 1421)), ('▁creati', (1421, 1428)), ('nina', (1428, 1432)), ('▁0,9', (1432, 1436)), ('▁mg', (1436, 1439)), ('/', (1439, 1440)), ('d', (1440, 1441)), ('L', (1441, 1442)), (',', (1442, 1443)), ('▁prote', (1443, 1449)), ('ína', (1449, 1453)), ('▁C', (1453, 1455)), ('▁re', (1455, 1458)), ('activa', (1458, 1464)), ('▁3', (1464, 1466)), (',', (1466, 1467)), ('13', (1467, 1469)), ('mg', (1469, 1471)), ('/', (1471, 1472)), ('d', (1472, 1473)), ('L', (1473, 1474)), ('▁y', (1474, 1476)), ('▁velocidad', (1476, 1486)), ('▁de', (1486, 1489)), ('▁sediment', (1489, 1498)), ('ación', (1498, 1504)), ('▁glob', (1504, 1509)), ('ular', (1509, 1513)), ('▁81', (1513, 1516)), ('▁mm', (1516, 1519)), ('.', (1519, 1520))]\n",
      "\n",
      "\n",
      "[('▁Practic', (1521, 1528)), ('amos', (1528, 1532)), ('▁dos', (1532, 1536)), ('▁des', (1536, 1540)), ('brid', (1540, 1544)), ('amiento', (1544, 1551)), ('s', (1551, 1552)), ('▁adicional', (1552, 1562)), ('es', (1562, 1564)), ('▁por', (1564, 1568)), ('▁per', (1568, 1572)), ('sistencia', (1572, 1581)), ('▁de', (1581, 1584)), ('▁se', (1584, 1587)), ('cre', (1587, 1590)), ('ción', (1590, 1595)), ('▁y', (1595, 1597)), ('▁tejido', (1597, 1604)), ('▁nec', (1604, 1608)), ('ró', (1608, 1611)), ('tico', (1611, 1615)), ('▁residu', (1615, 1622)), ('al', (1622, 1624)), ('▁en', (1624, 1627)), ('▁el', (1627, 1630)), ('▁tercer', (1630, 1637)), ('▁y', (1637, 1639)), ('▁quinto', (1639, 1646)), ('▁día', (1646, 1651)), ('▁de', (1651, 1654)), ('▁hospital', (1654, 1663)), ('ización', (1663, 1671)), ('.', (1671, 1672))]\n",
      "\n",
      "\n",
      "[('▁El', (1673, 1675)), ('▁resultado', (1675, 1685)), ('▁del', (1685, 1689)), ('▁cultivo', (1689, 1697)), ('▁detect', (1697, 1704)), ('ó', (1704, 1706)), ('▁la', (1706, 1709)), ('▁presencia', (1709, 1719)), ('▁de', (1719, 1722)), ('▁Pro', (1722, 1726)), ('te', (1726, 1728)), ('us', (1728, 1730)), ('▁vulgar', (1730, 1737)), ('is', (1737, 1739)), (',', (1739, 1740)), ('▁sensible', (1740, 1749)), ('▁a', (1749, 1751)), ('▁Ami', (1751, 1755)), ('ka', (1755, 1757)), ('cina', (1757, 1761)), ('.', (1761, 1762))]\n",
      "\n",
      "\n",
      "[('▁Ha', (1763, 1765)), ('cia', (1765, 1768)), ('▁el', (1768, 1771)), ('▁día', (1771, 1776)), ('▁9', (1776, 1778)), ('o', (1778, 1779)), (',', (1779, 1780)), ('▁decidi', (1780, 1787)), ('mos', (1787, 1790)), ('▁realizar', (1790, 1799)), ('▁cobertura', (1799, 1809)), ('▁del', (1809, 1813)), ('▁defect', (1813, 1820)), ('o', (1820, 1821)), ('▁re', (1821, 1824)), ('man', (1824, 1827)), ('ente', (1827, 1831)), ('▁con', (1831, 1835)), ('▁col', (1835, 1839)), ('ga', (1839, 1841)), ('jo', (1841, 1843)), ('▁fasci', (1843, 1849)), ('o', (1849, 1850)), ('cuta', (1850, 1854)), ('neo', (1854, 1857)), ('▁safe', (1857, 1862)), ('no', (1862, 1864)), ('interno', (1864, 1871)), ('▁de', (1871, 1874)), ('▁flu', (1874, 1878)), ('jo', (1878, 1880)), ('▁rever', (1880, 1886)), ('so', (1886, 1888)), ('.', (1888, 1889))]\n",
      "\n",
      "\n",
      "[('▁Des', (1890, 1893)), ('bri', (1893, 1896)), ('damos', (1896, 1901)), ('▁los', (1901, 1905)), ('▁borde', (1905, 1911)), ('s', (1911, 1912)), ('▁del', (1912, 1916)), ('▁defect', (1916, 1923)), ('o', (1923, 1924)), (',', (1924, 1925)), ('▁deja', (1925, 1930)), ('ndo', (1930, 1933)), ('▁una', (1933, 1937)), ('▁pérdida', (1937, 1946)), ('▁de', (1946, 1949)), ('▁sustancia', (1949, 1959)), ('▁final', (1959, 1965)), ('▁de', (1965, 1968)), ('▁8', (1968, 1970)), ('x', (1970, 1971)), ('3', (1971, 1972)), ('▁cm', (1972, 1975)), (';', (1975, 1976)), ('▁para', (1976, 1981)), ('▁la', (1981, 1984)), ('▁cobertura', (1984, 1994)), ('▁dise', (1994, 1999)), ('ña', (1999, 2002)), ('mos', (2002, 2005)), ('▁una', (2005, 2009)), ('▁isla', (2009, 2014)), ('▁de', (2014, 2017)), ('▁piel', (2017, 2022)), ('▁con', (2022, 2026)), ('▁las', (2026, 2030)), ('▁misma', (2030, 2036)), ('s', (2036, 2037)), ('▁dimensione', (2037, 2048)), ('s', (2048, 2049)), ('▁y', (2049, 2051)), ('▁luego', (2051, 2057)), ('▁cer', (2057, 2061)), ('ramos', (2061, 2066)), ('▁de', (2066, 2069)), ('▁forma', (2069, 2075)), ('▁primaria', (2075, 2084)), ('▁el', (2084, 2087)), ('▁área', (2087, 2093)), ('▁donant', (2093, 2100)), ('e', (2100, 2101)), ('▁del', (2101, 2105)), ('▁col', (2105, 2109)), ('ga', (2109, 2111)), ('jo', (2111, 2113)), ('.', (2113, 2114))]\n",
      "\n",
      "\n",
      "[('▁La', (2116, 2118)), ('▁evolución', (2118, 2129)), ('▁del', (2129, 2133)), ('▁paciente', (2133, 2142)), ('▁fue', (2142, 2146)), ('▁satisfac', (2146, 2155)), ('toria', (2155, 2160)), (',', (2160, 2161)), ('▁con', (2161, 2165)), ('▁control', (2165, 2173)), ('▁adecuado', (2173, 2182)), ('▁de', (2182, 2185)), ('▁la', (2185, 2188)), ('▁infección', (2188, 2199)), ('▁y', (2199, 2201)), ('▁cica', (2201, 2206)), ('tr', (2206, 2208)), ('ización', (2208, 2216)), ('▁exit', (2216, 2221)), ('osa', (2221, 2224)), ('.', (2224, 2225))]\n",
      "\n",
      "\n"
     ]
    }
   ],
   "source": [
    "for i in range(check_id_frag, check_id_frag + train_frag[check_id]):\n",
    "    print(list(zip([tokenizer._convert_id_to_token(int(ind)) for ind in train_ind[i]][1:len(train_start_end_frag[i])+1], \n",
    "               train_start_end_frag[i])))\n",
    "    print(\"\\n\")"
   ]
  },
  {
   "cell_type": "code",
   "execution_count": 69,
   "metadata": {},
   "outputs": [
    {
     "name": "stdout",
     "output_type": "stream",
     "text": [
      "<s> ▁Var ón ▁de ▁25 ▁años ▁de ▁edad ▁que ▁sufri ó ▁mientras ▁pesca ba ▁pic adura ▁de ▁raya ▁a ▁nivel ▁de ▁la ▁superficie ▁interna ▁del ▁to bil lo ▁derecho , ▁con ▁dolor ▁intenso ▁y ▁quem ante , ▁tratado ▁inicialmente ▁en ▁un ▁hospital ▁local ▁mediante ▁cura ▁y ▁administración ▁de ▁anti bi ó ticos ▁sist ém icos ; ▁al ▁no ▁presentar ▁respuesta ▁clínica ▁adecuada , ▁es ▁remit ido ▁a ▁nuestra ▁institución ▁sanitaria . </s> <pad> <pad> <pad> <pad> <pad> <pad> <pad> <pad> <pad> <pad> <pad> <pad> <pad> <pad> <pad> <pad> <pad> <pad> <pad> <pad> <pad> <pad> <pad> <pad> <pad> <pad> <pad> <pad> <pad> <pad> <pad> <pad> <pad> <pad> <pad> <pad> <pad> <pad> <pad> <pad> <pad> <pad> <pad> <pad> <pad> <pad> <pad> <pad> <pad> <pad> <pad> <pad> <pad> <pad> <pad> <pad> \n",
      "\n",
      "<s> ▁Al ▁ingreso ▁hospital ario , ▁el ▁paciente ▁presenta ba ▁una ▁le sión ▁muy ▁dolor osa , ▁profunda , ▁a ▁nivel ▁de ▁la ▁región ▁posterior ▁del ▁malé olo ▁interno ▁del ▁pie ▁derecho , ▁con ▁nec rosi s ▁de ▁la ▁piel ▁supra ya cente ▁y ▁abundante ▁salida ▁de ▁material ▁pur ul ento ▁y ▁fé ti do . </s> <pad> <pad> <pad> <pad> <pad> <pad> <pad> <pad> <pad> <pad> <pad> <pad> <pad> <pad> <pad> <pad> <pad> <pad> <pad> <pad> <pad> <pad> <pad> <pad> <pad> <pad> <pad> <pad> <pad> <pad> <pad> <pad> <pad> <pad> <pad> <pad> <pad> <pad> <pad> <pad> <pad> <pad> <pad> <pad> <pad> <pad> <pad> <pad> <pad> <pad> <pad> <pad> <pad> <pad> <pad> <pad> <pad> <pad> <pad> <pad> <pad> <pad> <pad> <pad> <pad> <pad> <pad> <pad> <pad> <pad> <pad> \n",
      "\n",
      "<s> ▁ Diagnos tica mos ▁infección ▁de ▁tejido s ▁bland os ▁y ▁es ▁hospital izado ▁para ▁des brid amiento ▁qui rú rg ico ▁y ▁tratamiento ▁con ▁anti bi ó ticos ▁( C linda mi cina ▁600 ▁mg ▁cada ▁8 ▁horas ▁y ▁Ami ka cina ▁1 ▁gr ▁diario ). </s> <pad> <pad> <pad> <pad> <pad> <pad> <pad> <pad> <pad> <pad> <pad> <pad> <pad> <pad> <pad> <pad> <pad> <pad> <pad> <pad> <pad> <pad> <pad> <pad> <pad> <pad> <pad> <pad> <pad> <pad> <pad> <pad> <pad> <pad> <pad> <pad> <pad> <pad> <pad> <pad> <pad> <pad> <pad> <pad> <pad> <pad> <pad> <pad> <pad> <pad> <pad> <pad> <pad> <pad> <pad> <pad> <pad> <pad> <pad> <pad> <pad> <pad> <pad> <pad> <pad> <pad> <pad> <pad> <pad> <pad> <pad> <pad> <pad> <pad> <pad> <pad> <pad> <pad> <pad> \n",
      "\n",
      "<s> ▁Se ▁to man ▁radi ografía s ▁del ▁to bil lo ▁derecho ▁en ▁las ▁que ▁observa mos ▁ed ema ▁de ▁tejido s ▁bland os , ▁sin ▁evidencia ▁de ▁fragment os ▁radio - opa cos ▁que ▁pudiera n ▁correspond er ▁a ▁restos ▁del ▁a gui jón ▁ven en oso . </s> <pad> <pad> <pad> <pad> <pad> <pad> <pad> <pad> <pad> <pad> <pad> <pad> <pad> <pad> <pad> <pad> <pad> <pad> <pad> <pad> <pad> <pad> <pad> <pad> <pad> <pad> <pad> <pad> <pad> <pad> <pad> <pad> <pad> <pad> <pad> <pad> <pad> <pad> <pad> <pad> <pad> <pad> <pad> <pad> <pad> <pad> <pad> <pad> <pad> <pad> <pad> <pad> <pad> <pad> <pad> <pad> <pad> <pad> <pad> <pad> <pad> <pad> <pad> <pad> <pad> <pad> <pad> <pad> <pad> <pad> <pad> <pad> <pad> <pad> <pad> <pad> <pad> <pad> \n",
      "\n",
      "<s> ▁En ▁qui ró fano , ▁se ▁realiza ▁dre na je ▁de ▁la ▁colección ▁de ▁material ▁pur ul ento ▁y ▁des brid amiento ▁del ▁tejido ▁nec ró tico , ▁creando ▁un ▁defect o ▁ tis ular ▁de ▁7 ▁x ▁5 ▁cm ▁sobre ▁el ▁malé olo ▁interno ▁del ▁to bil lo ▁derecho , ▁con ▁exposición ▁del ▁tend ón ▁de ▁Aqui les ▁y ▁del ▁borde ▁posterior ▁de ▁la ▁tibi a ; ▁se ▁realiza ▁además ▁cultivo ▁de ▁tejido s ▁bland os . </s> <pad> <pad> <pad> <pad> <pad> <pad> <pad> <pad> <pad> <pad> <pad> <pad> <pad> <pad> <pad> <pad> <pad> <pad> <pad> <pad> <pad> <pad> <pad> <pad> <pad> <pad> <pad> <pad> <pad> <pad> <pad> <pad> <pad> <pad> <pad> <pad> <pad> <pad> <pad> <pad> <pad> <pad> <pad> <pad> <pad> <pad> <pad> <pad> \n",
      "\n",
      "<s> ▁Los ▁ex áme nes ▁de ▁laboratorio ▁report an : ▁le u co cito s ▁de ▁7 200 / ul , ▁con ▁neu tró filo s ▁de ▁60% , ▁hem o glob ina ▁10 , 7 g / dl , ▁hemat oc rito ▁31, 8% , ▁creati nina ▁0,9 ▁mg / d L , ▁prote ína ▁C ▁re activa ▁3 , 13 mg / d L ▁y ▁velocidad ▁de ▁sediment ación ▁glob ular ▁81 ▁mm . </s> <pad> <pad> <pad> <pad> <pad> <pad> <pad> <pad> <pad> <pad> <pad> <pad> <pad> <pad> <pad> <pad> <pad> <pad> <pad> <pad> <pad> <pad> <pad> <pad> <pad> <pad> <pad> <pad> <pad> <pad> <pad> <pad> <pad> <pad> <pad> <pad> <pad> <pad> <pad> <pad> <pad> <pad> <pad> <pad> <pad> <pad> <pad> <pad> <pad> <pad> <pad> \n",
      "\n",
      "<s> ▁Practic amos ▁dos ▁des brid amiento s ▁adicional es ▁por ▁per sistencia ▁de ▁se cre ción ▁y ▁tejido ▁nec ró tico ▁residu al ▁en ▁el ▁tercer ▁y ▁quinto ▁día ▁de ▁hospital ización . </s> <pad> <pad> <pad> <pad> <pad> <pad> <pad> <pad> <pad> <pad> <pad> <pad> <pad> <pad> <pad> <pad> <pad> <pad> <pad> <pad> <pad> <pad> <pad> <pad> <pad> <pad> <pad> <pad> <pad> <pad> <pad> <pad> <pad> <pad> <pad> <pad> <pad> <pad> <pad> <pad> <pad> <pad> <pad> <pad> <pad> <pad> <pad> <pad> <pad> <pad> <pad> <pad> <pad> <pad> <pad> <pad> <pad> <pad> <pad> <pad> <pad> <pad> <pad> <pad> <pad> <pad> <pad> <pad> <pad> <pad> <pad> <pad> <pad> <pad> <pad> <pad> <pad> <pad> <pad> <pad> <pad> <pad> <pad> <pad> <pad> <pad> <pad> <pad> <pad> <pad> <pad> <pad> <pad> \n",
      "\n",
      "<s> ▁El ▁resultado ▁del ▁cultivo ▁detect ó ▁la ▁presencia ▁de ▁Pro te us ▁vulgar is , ▁sensible ▁a ▁Ami ka cina . </s> <pad> <pad> <pad> <pad> <pad> <pad> <pad> <pad> <pad> <pad> <pad> <pad> <pad> <pad> <pad> <pad> <pad> <pad> <pad> <pad> <pad> <pad> <pad> <pad> <pad> <pad> <pad> <pad> <pad> <pad> <pad> <pad> <pad> <pad> <pad> <pad> <pad> <pad> <pad> <pad> <pad> <pad> <pad> <pad> <pad> <pad> <pad> <pad> <pad> <pad> <pad> <pad> <pad> <pad> <pad> <pad> <pad> <pad> <pad> <pad> <pad> <pad> <pad> <pad> <pad> <pad> <pad> <pad> <pad> <pad> <pad> <pad> <pad> <pad> <pad> <pad> <pad> <pad> <pad> <pad> <pad> <pad> <pad> <pad> <pad> <pad> <pad> <pad> <pad> <pad> <pad> <pad> <pad> <pad> <pad> <pad> <pad> <pad> <pad> <pad> <pad> <pad> <pad> <pad> <pad> \n",
      "\n",
      "<s> ▁Ha cia ▁el ▁día ▁9 o , ▁decidi mos ▁realizar ▁cobertura ▁del ▁defect o ▁re man ente ▁con ▁col ga jo ▁fasci o cuta neo ▁safe no interno ▁de ▁flu jo ▁rever so . </s> <pad> <pad> <pad> <pad> <pad> <pad> <pad> <pad> <pad> <pad> <pad> <pad> <pad> <pad> <pad> <pad> <pad> <pad> <pad> <pad> <pad> <pad> <pad> <pad> <pad> <pad> <pad> <pad> <pad> <pad> <pad> <pad> <pad> <pad> <pad> <pad> <pad> <pad> <pad> <pad> <pad> <pad> <pad> <pad> <pad> <pad> <pad> <pad> <pad> <pad> <pad> <pad> <pad> <pad> <pad> <pad> <pad> <pad> <pad> <pad> <pad> <pad> <pad> <pad> <pad> <pad> <pad> <pad> <pad> <pad> <pad> <pad> <pad> <pad> <pad> <pad> <pad> <pad> <pad> <pad> <pad> <pad> <pad> <pad> <pad> <pad> <pad> <pad> <pad> <pad> <pad> <pad> \n",
      "\n",
      "<s> ▁Des bri damos ▁los ▁borde s ▁del ▁defect o , ▁deja ndo ▁una ▁pérdida ▁de ▁sustancia ▁final ▁de ▁8 x 3 ▁cm ; ▁para ▁la ▁cobertura ▁dise ña mos ▁una ▁isla ▁de ▁piel ▁con ▁las ▁misma s ▁dimensione s ▁y ▁luego ▁cer ramos ▁de ▁forma ▁primaria ▁el ▁área ▁donant e ▁del ▁col ga jo . </s> <pad> <pad> <pad> <pad> <pad> <pad> <pad> <pad> <pad> <pad> <pad> <pad> <pad> <pad> <pad> <pad> <pad> <pad> <pad> <pad> <pad> <pad> <pad> <pad> <pad> <pad> <pad> <pad> <pad> <pad> <pad> <pad> <pad> <pad> <pad> <pad> <pad> <pad> <pad> <pad> <pad> <pad> <pad> <pad> <pad> <pad> <pad> <pad> <pad> <pad> <pad> <pad> <pad> <pad> <pad> <pad> <pad> <pad> <pad> <pad> <pad> <pad> <pad> <pad> <pad> <pad> <pad> <pad> <pad> <pad> <pad> \n",
      "\n",
      "<s> ▁La ▁evolución ▁del ▁paciente ▁fue ▁satisfac toria , ▁con ▁control ▁adecuado ▁de ▁la ▁infección ▁y ▁cica tr ización ▁exit osa . </s> <pad> <pad> <pad> <pad> <pad> <pad> <pad> <pad> <pad> <pad> <pad> <pad> <pad> <pad> <pad> <pad> <pad> <pad> <pad> <pad> <pad> <pad> <pad> <pad> <pad> <pad> <pad> <pad> <pad> <pad> <pad> <pad> <pad> <pad> <pad> <pad> <pad> <pad> <pad> <pad> <pad> <pad> <pad> <pad> <pad> <pad> <pad> <pad> <pad> <pad> <pad> <pad> <pad> <pad> <pad> <pad> <pad> <pad> <pad> <pad> <pad> <pad> <pad> <pad> <pad> <pad> <pad> <pad> <pad> <pad> <pad> <pad> <pad> <pad> <pad> <pad> <pad> <pad> <pad> <pad> <pad> <pad> <pad> <pad> <pad> <pad> <pad> <pad> <pad> <pad> <pad> <pad> <pad> <pad> <pad> <pad> <pad> <pad> <pad> <pad> <pad> <pad> <pad> <pad> <pad> \n",
      "\n"
     ]
    }
   ],
   "source": [
    "check_id_frag = sum(train_frag[:check_id])\n",
    "for frag in train_ind[check_id_frag:check_id_frag + train_frag[check_id]]:\n",
    "    print(' '.join([tokenizer._convert_id_to_token(int(ind)) for ind in frag]), \"\\n\")"
   ]
  },
  {
   "cell_type": "code",
   "execution_count": 70,
   "metadata": {},
   "outputs": [
    {
     "data": {
      "text/plain": [
       "count    7013.000000\n",
       "mean        0.305290\n",
       "std         0.652715\n",
       "min         0.000000\n",
       "25%         0.000000\n",
       "50%         0.000000\n",
       "75%         0.000000\n",
       "max         6.000000\n",
       "dtype: float64"
      ]
     },
     "execution_count": 70,
     "metadata": {},
     "output_type": "execute_result"
    }
   ],
   "source": [
    "# Fragment labels distribution\n",
    "pd.Series(np.sum(train_y, axis=1)).describe()"
   ]
  },
  {
   "cell_type": "markdown",
   "metadata": {},
   "source": [
    "### Development corpus\n",
    "\n",
    "Only development texts that are annotated with CIE-Procedimiento codes are considered:"
   ]
  },
  {
   "cell_type": "code",
   "execution_count": 71,
   "metadata": {},
   "outputs": [
    {
     "data": {
      "text/plain": [
       "28"
      ]
     },
     "execution_count": 71,
     "metadata": {},
     "output_type": "execute_result"
    }
   ],
   "source": [
    "# Some dev documents (texts) are not annotated \n",
    "len(set(df_text_dev[\"doc_id\"]) - set(df_codes_dev_ner[\"doc_id\"]))"
   ]
  },
  {
   "cell_type": "code",
   "execution_count": 72,
   "metadata": {},
   "outputs": [],
   "source": [
    "dev_doc_list = sorted(set(df_codes_dev_ner[\"doc_id\"]))"
   ]
  },
  {
   "cell_type": "code",
   "execution_count": 73,
   "metadata": {},
   "outputs": [
    {
     "data": {
      "text/plain": [
       "222"
      ]
     },
     "execution_count": 73,
     "metadata": {},
     "output_type": "execute_result"
    }
   ],
   "source": [
    "len(dev_doc_list)"
   ]
  },
  {
   "cell_type": "code",
   "execution_count": 74,
   "metadata": {},
   "outputs": [
    {
     "name": "stdout",
     "output_type": "stream",
     "text": [
      "CPU times: user 9.38 ms, sys: 65 µs, total: 9.45 ms\n",
      "Wall time: 8.63 ms\n"
     ]
    }
   ],
   "source": [
    "%%time\n",
    "ss_sub_corpus_path = ss_corpus_path + \"dev/\"\n",
    "ss_files = [f for f in os.listdir(ss_sub_corpus_path) if os.path.isfile(ss_sub_corpus_path + f)]\n",
    "ss_dict_dev = load_ss_files(ss_files, ss_sub_corpus_path)"
   ]
  },
  {
   "cell_type": "code",
   "execution_count": 75,
   "metadata": {},
   "outputs": [
    {
     "name": "stderr",
     "output_type": "stream",
     "text": [
      "100%|██████████| 222/222 [00:02<00:00, 85.08it/s] \n"
     ]
    },
    {
     "name": "stdout",
     "output_type": "stream",
     "text": [
      "CPU times: user 2.65 s, sys: 27.6 ms, total: 2.68 s\n",
      "Wall time: 2.67 s\n"
     ]
    }
   ],
   "source": [
    "%%time\n",
    "dev_ind, dev_att, dev_y, dev_frag, dev_start_end_frag = ss_create_frag_input_data_xlmr(df_text=df_text_dev, \n",
    "                                                  text_col=text_col, \n",
    "                                                  df_ann=df_codes_dev_ner, doc_list=dev_doc_list, ss_dict=ss_dict_dev,\n",
    "                                                  tokenizer=tokenizer, sp_pb2=spt, lab_encoder=mlb_encoder, seq_len=SEQ_LEN)"
   ]
  },
  {
   "cell_type": "code",
   "execution_count": 77,
   "metadata": {},
   "outputs": [],
   "source": [
    "# Sanity check"
   ]
  },
  {
   "cell_type": "code",
   "execution_count": 76,
   "metadata": {},
   "outputs": [
    {
     "data": {
      "text/plain": [
       "(3799, 128)"
      ]
     },
     "execution_count": 76,
     "metadata": {},
     "output_type": "execute_result"
    }
   ],
   "source": [
    "dev_ind.shape"
   ]
  },
  {
   "cell_type": "code",
   "execution_count": 77,
   "metadata": {},
   "outputs": [
    {
     "data": {
      "text/plain": [
       "(3799, 128)"
      ]
     },
     "execution_count": 77,
     "metadata": {},
     "output_type": "execute_result"
    }
   ],
   "source": [
    "dev_att.shape"
   ]
  },
  {
   "cell_type": "code",
   "execution_count": 78,
   "metadata": {},
   "outputs": [
    {
     "data": {
      "text/plain": [
       "(3799, 727)"
      ]
     },
     "execution_count": 78,
     "metadata": {},
     "output_type": "execute_result"
    }
   ],
   "source": [
    "dev_y.shape"
   ]
  },
  {
   "cell_type": "code",
   "execution_count": 79,
   "metadata": {},
   "outputs": [
    {
     "data": {
      "text/plain": [
       "222"
      ]
     },
     "execution_count": 79,
     "metadata": {},
     "output_type": "execute_result"
    }
   ],
   "source": [
    "len(dev_frag)"
   ]
  },
  {
   "cell_type": "code",
   "execution_count": 80,
   "metadata": {},
   "outputs": [
    {
     "data": {
      "text/plain": [
       "3799"
      ]
     },
     "execution_count": 80,
     "metadata": {},
     "output_type": "execute_result"
    }
   ],
   "source": [
    "len(dev_start_end_frag)"
   ]
  },
  {
   "cell_type": "code",
   "execution_count": 81,
   "metadata": {},
   "outputs": [
    {
     "data": {
      "text/plain": [
       "count    222.000000\n",
       "mean      17.112613\n",
       "std        8.320553\n",
       "min        4.000000\n",
       "25%       11.000000\n",
       "50%       15.000000\n",
       "75%       21.000000\n",
       "max       65.000000\n",
       "dtype: float64"
      ]
     },
     "execution_count": 81,
     "metadata": {},
     "output_type": "execute_result"
    }
   ],
   "source": [
    "# Check n_frag distribution across texts\n",
    "pd.Series(dev_frag).describe()"
   ]
  },
  {
   "cell_type": "code",
   "execution_count": 82,
   "metadata": {},
   "outputs": [],
   "source": [
    "# Inspect a randomly selected text and its encoded version\n",
    "check_id = np.random.randint(low=0, high=len(dev_doc_list), size=1)[0]"
   ]
  },
  {
   "cell_type": "code",
   "execution_count": 83,
   "metadata": {},
   "outputs": [
    {
     "data": {
      "text/plain": [
       "111"
      ]
     },
     "execution_count": 83,
     "metadata": {},
     "output_type": "execute_result"
    }
   ],
   "source": [
    "check_id"
   ]
  },
  {
   "cell_type": "code",
   "execution_count": 84,
   "metadata": {},
   "outputs": [
    {
     "data": {
      "text/plain": [
       "'S0376-78922012000300010-1'"
      ]
     },
     "execution_count": 84,
     "metadata": {},
     "output_type": "execute_result"
    }
   ],
   "source": [
    "dev_doc_list[check_id]"
   ]
  },
  {
   "cell_type": "code",
   "execution_count": 85,
   "metadata": {
    "scrolled": true
   },
   "outputs": [
    {
     "data": {
      "text/plain": [
       "'Mujer de 51 años de edad que consulta por tumoración en párpado superior izquierdo recidivada, indolora, perceptible al tacto y de consistencia firme. Se constata además la existencia de blefarochalasia asociada y bolsas palpebrales.\\n\\nLa paciente refiere antecedentes de extirpación transconjuntival de chalazión 2 años antes, con recurrencia de la lesión al poco tiempo. El examen funcional ocular es normal.\\nSolicitamos para su estudio TAC con contraste del macizo facial en la que encontramos una formación sólida en la región súpero-externa de la órbita, sin compromiso del globo ocular, con el dagnóstico de presunción de tumor de glándula lagrimal.\\n\\nDecidimos, de acuerdo con la paciente, llevar a cabo la resección quirúrgica del tumor y al mismo tiempo practicar blefaroplastia estética superior e inferior asociada.\\nEl hallazgo intraoperatorio de la lesión fue de una formación palpebral izquierda de 1 x 0,8 x 0,5 cm de diámetro, de superficie lisa y consistencia elástica, que no invadía estructuras oculares y que pudimos extirpar por completo. La blefaroplastia superior se realizó según técnica clásica y la inferior por vía transconjuntival, con extirpación de bolsas palpebrales tanto superiores como inferiores.\\n\\nLa evolución postoperatoria de la paciente fue buena, sin complicaciones, con un resultado estético muy satisfactorio y sin recidiva tumoral después de 12 meses de control.\\n\\nEl estudio anatomopatológico de la pieza de resección informó que se trataba de un tumor benigno, no infiltrativo, con cápsula bien definida, constituído por fascículos de células fusiformes dispuestas en patrón verticilado o arremolinado alternando con áreas más laxas (patrones Antoni A y B respectivamente); sin signos de atipía. Inmunológicamente, la proteína S-100 fue positiva confirmando el diagnóstico de schwannoma de párpado.\\n\\n'"
      ]
     },
     "execution_count": 85,
     "metadata": {},
     "output_type": "execute_result"
    }
   ],
   "source": [
    "df_text_dev[df_text_dev[\"doc_id\"] == dev_doc_list[check_id]][text_col].values[0]"
   ]
  },
  {
   "cell_type": "code",
   "execution_count": 86,
   "metadata": {},
   "outputs": [
    {
     "name": "stdout",
     "output_type": "stream",
     "text": [
      "[('080p',)] \n",
      "\n",
      "[()] \n",
      "\n",
      "[()] \n",
      "\n",
      "[()] \n",
      "\n",
      "[('bn23',)] \n",
      "\n",
      "[('080p',)] \n",
      "\n",
      "[()] \n",
      "\n",
      "[()] \n",
      "\n",
      "[()] \n",
      "\n",
      "[()] \n",
      "\n",
      "[()] \n",
      "\n"
     ]
    }
   ],
   "source": [
    "check_id_frag = sum(dev_frag[:check_id])\n",
    "for i in range(check_id_frag, check_id_frag + dev_frag[check_id]):\n",
    "    print(mlb_encoder.inverse_transform(np.array([dev_y[i]])), \"\\n\")"
   ]
  },
  {
   "cell_type": "code",
   "execution_count": 87,
   "metadata": {},
   "outputs": [
    {
     "name": "stdout",
     "output_type": "stream",
     "text": [
      "[('▁Mu', (0, 2)), ('jer', (2, 5)), ('▁de', (5, 8)), ('▁51', (8, 11)), ('▁años', (11, 17)), ('▁de', (17, 20)), ('▁edad', (20, 25)), ('▁que', (25, 29)), ('▁consulta', (29, 38)), ('▁por', (38, 42)), ('▁tumor', (42, 48)), ('ación', (48, 54)), ('▁en', (54, 57)), ('▁pár', (57, 62)), ('pad', (62, 65)), ('o', (65, 66)), ('▁superior', (66, 75)), ('▁iz', (75, 78)), ('quier', (78, 83)), ('do', (83, 85)), ('▁reci', (85, 90)), ('di', (90, 92)), ('vada', (92, 96)), (',', (96, 97)), ('▁i', (97, 99)), ('ndolo', (99, 104)), ('ra', (104, 106)), (',', (106, 107)), ('▁percep', (107, 114)), ('ti', (114, 116)), ('ble', (116, 119)), ('▁al', (119, 122)), ('▁tac', (122, 126)), ('to', (126, 128)), ('▁y', (128, 130)), ('▁de', (130, 133)), ('▁con', (133, 137)), ('sistencia', (137, 146)), ('▁firme', (146, 152)), ('.', (152, 153))]\n",
      "\n",
      "\n",
      "[('▁Se', (154, 156)), ('▁constata', (156, 165)), ('▁además', (165, 173)), ('▁la', (173, 176)), ('▁existencia', (176, 187)), ('▁de', (187, 190)), ('▁ble', (190, 194)), ('far', (194, 197)), ('och', (197, 200)), ('al', (200, 202)), ('asia', (202, 206)), ('▁asocia', (206, 213)), ('da', (213, 215)), ('▁y', (215, 217)), ('▁bolsa', (217, 223)), ('s', (223, 224)), ('▁palp', (224, 229)), ('e', (229, 230)), ('bral', (230, 234)), ('es', (234, 236)), ('.', (236, 237))]\n",
      "\n",
      "\n",
      "[('▁La', (239, 241)), ('▁paciente', (241, 250)), ('▁refiere', (250, 258)), ('▁antecede', (258, 267)), ('ntes', (267, 271)), ('▁de', (271, 274)), ('▁ex', (274, 277)), ('tir', (277, 280)), ('pa', (280, 282)), ('ción', (282, 287)), ('▁trans', (287, 293)), ('con', (293, 296)), ('ju', (296, 298)), ('nti', (298, 301)), ('val', (301, 304)), ('▁de', (304, 307)), ('▁chala', (307, 313)), ('z', (313, 314)), ('ión', (314, 318)), ('▁2', (318, 320)), ('▁años', (320, 326)), ('▁antes', (326, 332)), (',', (332, 333)), ('▁con', (333, 337)), ('▁re', (337, 340)), ('curr', (340, 344)), ('encia', (344, 349)), ('▁de', (349, 352)), ('▁la', (352, 355)), ('▁le', (355, 358)), ('sión', (358, 363)), ('▁al', (363, 366)), ('▁poco', (366, 371)), ('▁tiempo', (371, 378)), ('.', (378, 379))]\n",
      "\n",
      "\n",
      "[('▁El', (380, 382)), ('▁examen', (382, 389)), ('▁funcional', (389, 399)), ('▁o', (399, 401)), ('cular', (401, 406)), ('▁es', (406, 409)), ('▁normal', (409, 416)), ('.', (416, 417))]\n",
      "\n",
      "\n",
      "[('▁So', (418, 420)), ('licita', (420, 426)), ('mos', (426, 429)), ('▁para', (429, 434)), ('▁su', (434, 437)), ('▁estudio', (437, 445)), ('▁', (445, 446)), ('TAC', (446, 449)), ('▁con', (449, 453)), ('▁contrast', (453, 462)), ('e', (462, 463)), ('▁del', (463, 467)), ('▁mac', (467, 471)), ('izo', (471, 474)), ('▁facial', (474, 481)), ('▁en', (481, 484)), ('▁la', (484, 487)), ('▁que', (487, 491)), ('▁encontramos', (491, 503)), ('▁una', (503, 507)), ('▁formación', (507, 518)), ('▁sólida', (518, 526)), ('▁en', (526, 529)), ('▁la', (529, 532)), ('▁región', (532, 540)), ('▁súper', (540, 547)), ('o', (547, 548)), ('-', (548, 549)), ('ex', (549, 551)), ('terna', (551, 556)), ('▁de', (556, 559)), ('▁la', (559, 562)), ('▁', (562, 563)), ('ór', (563, 566)), ('bita', (566, 570)), (',', (570, 571)), ('▁sin', (571, 575)), ('▁compromiso', (575, 586)), ('▁del', (586, 590)), ('▁globo', (590, 596)), ('▁o', (596, 598)), ('cular', (598, 603)), (',', (603, 604)), ('▁con', (604, 608)), ('▁el', (608, 611)), ('▁dag', (611, 615)), ('nó', (615, 618)), ('stico', (618, 623)), ('▁de', (623, 626)), ('▁presun', (626, 633)), ('ción', (633, 638)), ('▁de', (638, 641)), ('▁tumor', (641, 647)), ('▁de', (647, 650)), ('▁g', (650, 652)), ('lán', (652, 656)), ('dula', (656, 660)), ('▁la', (660, 663)), ('grim', (663, 667)), ('al', (667, 669)), ('.', (669, 670))]\n",
      "\n",
      "\n",
      "[('▁Deci', (672, 676)), ('di', (676, 678)), ('mos', (678, 681)), (',', (681, 682)), ('▁de', (682, 685)), ('▁acuerdo', (685, 693)), ('▁con', (693, 697)), ('▁la', (697, 700)), ('▁paciente', (700, 709)), (',', (709, 710)), ('▁llevar', (710, 717)), ('▁a', (717, 719)), ('▁cabo', (719, 724)), ('▁la', (724, 727)), ('▁rese', (727, 732)), ('cción', (732, 738)), ('▁qui', (738, 742)), ('rú', (742, 745)), ('r', (745, 746)), ('gica', (746, 750)), ('▁del', (750, 754)), ('▁tumor', (754, 760)), ('▁y', (760, 762)), ('▁al', (762, 765)), ('▁mismo', (765, 771)), ('▁tiempo', (771, 778)), ('▁practicar', (778, 788)), ('▁ble', (788, 792)), ('far', (792, 795)), ('o', (795, 796)), ('plast', (796, 801)), ('ia', (801, 803)), ('▁estética', (803, 813)), ('▁superior', (813, 822)), ('▁e', (822, 824)), ('▁inferior', (824, 833)), ('▁asocia', (833, 840)), ('da', (840, 842)), ('.', (842, 843))]\n",
      "\n",
      "\n",
      "[('▁El', (844, 846)), ('▁halla', (846, 852)), ('z', (852, 853)), ('go', (853, 855)), ('▁intra', (855, 861)), ('operator', (861, 869)), ('io', (869, 871)), ('▁de', (871, 874)), ('▁la', (874, 877)), ('▁le', (877, 880)), ('sión', (880, 885)), ('▁fue', (885, 889)), ('▁de', (889, 892)), ('▁una', (892, 896)), ('▁formación', (896, 907)), ('▁palp', (907, 912)), ('e', (912, 913)), ('bral', (913, 917)), ('▁izquierda', (917, 927)), ('▁de', (927, 930)), ('▁1', (930, 932)), ('▁x', (932, 934)), ('▁0,8', (934, 938)), ('▁x', (938, 940)), ('▁0,5', (940, 944)), ('▁cm', (944, 947)), ('▁de', (947, 950)), ('▁di', (950, 953)), ('á', (953, 955)), ('metro', (955, 960)), (',', (960, 961)), ('▁de', (961, 964)), ('▁superficie', (964, 975)), ('▁lisa', (975, 980)), ('▁y', (980, 982)), ('▁con', (982, 986)), ('sistencia', (986, 995)), ('▁el', (995, 998)), ('ástica', (998, 1005)), (',', (1005, 1006)), ('▁que', (1006, 1010)), ('▁no', (1010, 1013)), ('▁in', (1013, 1016)), ('vad', (1016, 1019)), ('ía', (1019, 1022)), ('▁estructura', (1022, 1033)), ('s', (1033, 1034)), ('▁o', (1034, 1036)), ('culare', (1036, 1042)), ('s', (1042, 1043)), ('▁y', (1043, 1045)), ('▁que', (1045, 1049)), ('▁pudi', (1049, 1054)), ('mos', (1054, 1057)), ('▁ex', (1057, 1060)), ('tir', (1060, 1063)), ('par', (1063, 1066)), ('▁por', (1066, 1070)), ('▁completo', (1070, 1079)), ('.', (1079, 1080))]\n",
      "\n",
      "\n",
      "[('▁La', (1081, 1083)), ('▁ble', (1083, 1087)), ('far', (1087, 1090)), ('o', (1090, 1091)), ('plast', (1091, 1096)), ('ia', (1096, 1098)), ('▁superior', (1098, 1107)), ('▁se', (1107, 1110)), ('▁realizó', (1110, 1119)), ('▁según', (1119, 1126)), ('▁técnica', (1126, 1135)), ('▁clásica', (1135, 1144)), ('▁y', (1144, 1146)), ('▁la', (1146, 1149)), ('▁inferior', (1149, 1158)), ('▁por', (1158, 1162)), ('▁vía', (1162, 1167)), ('▁trans', (1167, 1173)), ('con', (1173, 1176)), ('ju', (1176, 1178)), ('nti', (1178, 1181)), ('val', (1181, 1184)), (',', (1184, 1185)), ('▁con', (1185, 1189)), ('▁ex', (1189, 1192)), ('tir', (1192, 1195)), ('pa', (1195, 1197)), ('ción', (1197, 1202)), ('▁de', (1202, 1205)), ('▁bolsa', (1205, 1211)), ('s', (1211, 1212)), ('▁palp', (1212, 1217)), ('e', (1217, 1218)), ('bral', (1218, 1222)), ('es', (1222, 1224)), ('▁tanto', (1224, 1230)), ('▁superiores', (1230, 1241)), ('▁como', (1241, 1246)), ('▁inferiore', (1246, 1256)), ('s', (1256, 1257)), ('.', (1257, 1258))]\n",
      "\n",
      "\n",
      "[('▁La', (1260, 1262)), ('▁evolución', (1262, 1273)), ('▁post', (1273, 1278)), ('operator', (1278, 1286)), ('ia', (1286, 1288)), ('▁de', (1288, 1291)), ('▁la', (1291, 1294)), ('▁paciente', (1294, 1303)), ('▁fue', (1303, 1307)), ('▁buena', (1307, 1313)), (',', (1313, 1314)), ('▁sin', (1314, 1318)), ('▁complica', (1318, 1327)), ('ciones', (1327, 1333)), (',', (1333, 1334)), ('▁con', (1334, 1338)), ('▁un', (1338, 1341)), ('▁resultado', (1341, 1351)), ('▁est', (1351, 1355)), ('ético', (1355, 1361)), ('▁muy', (1361, 1365)), ('▁satisfac', (1365, 1374)), ('torio', (1374, 1379)), ('▁y', (1379, 1381)), ('▁sin', (1381, 1385)), ('▁reci', (1385, 1390)), ('di', (1390, 1392)), ('va', (1392, 1394)), ('▁tumor', (1394, 1400)), ('al', (1400, 1402)), ('▁después', (1402, 1411)), ('▁de', (1411, 1414)), ('▁12', (1414, 1417)), ('▁meses', (1417, 1423)), ('▁de', (1423, 1426)), ('▁control', (1426, 1434)), ('.', (1434, 1435))]\n",
      "\n",
      "\n",
      "[('▁El', (1437, 1439)), ('▁estudio', (1439, 1447)), ('▁a', (1447, 1449)), ('nato', (1449, 1453)), ('mo', (1453, 1455)), ('pat', (1455, 1458)), ('ológico', (1458, 1466)), ('▁de', (1466, 1469)), ('▁la', (1469, 1472)), ('▁pieza', (1472, 1478)), ('▁de', (1478, 1481)), ('▁rese', (1481, 1486)), ('cción', (1486, 1492)), ('▁informó', (1492, 1501)), ('▁que', (1501, 1505)), ('▁se', (1505, 1508)), ('▁trata', (1508, 1514)), ('ba', (1514, 1516)), ('▁de', (1516, 1519)), ('▁un', (1519, 1522)), ('▁tumor', (1522, 1528)), ('▁benign', (1528, 1535)), ('o', (1535, 1536)), (',', (1536, 1537)), ('▁no', (1537, 1540)), ('▁infiltra', (1540, 1549)), ('tivo', (1549, 1553)), (',', (1553, 1554)), ('▁con', (1554, 1558)), ('▁cápsula', (1558, 1567)), ('▁bien', (1567, 1572)), ('▁defini', (1572, 1579)), ('da', (1579, 1581)), (',', (1581, 1582)), ('▁constitu', (1582, 1591)), ('ído', (1591, 1595)), ('▁por', (1595, 1599)), ('▁fas', (1599, 1603)), ('cí', (1603, 1606)), ('culos', (1606, 1611)), ('▁de', (1611, 1614)), ('▁células', (1614, 1623)), ('▁fus', (1623, 1627)), ('i', (1627, 1628)), ('forme', (1628, 1633)), ('s', (1633, 1634)), ('▁disp', (1634, 1639)), ('u', (1639, 1640)), ('estas', (1640, 1645)), ('▁en', (1645, 1648)), ('▁patrón', (1648, 1656)), ('▁ver', (1656, 1660)), ('tici', (1660, 1664)), ('lado', (1664, 1668)), ('▁o', (1668, 1670)), ('▁arre', (1670, 1675)), ('moli', (1675, 1679)), ('nado', (1679, 1683)), ('▁alterna', (1683, 1691)), ('ndo', (1691, 1694)), ('▁con', (1694, 1698)), ('▁áreas', (1698, 1705)), ('▁más', (1705, 1710)), ('▁la', (1710, 1713)), ('xas', (1713, 1716)), ('▁(', (1716, 1718)), ('patr', (1718, 1722)), ('ones', (1722, 1726)), ('▁Antoni', (1726, 1733)), ('▁A', (1733, 1735)), ('▁y', (1735, 1737)), ('▁B', (1737, 1739)), ('▁respectivamente', (1739, 1755)), (');', (1755, 1757)), ('▁sin', (1757, 1761)), ('▁signo', (1761, 1767)), ('s', (1767, 1768)), ('▁de', (1768, 1771)), ('▁a', (1771, 1773)), ('tip', (1773, 1776)), ('ía', (1776, 1779)), ('.', (1779, 1780))]\n",
      "\n",
      "\n",
      "[('▁In', (1781, 1783)), ('mun', (1783, 1786)), ('ológica', (1786, 1794)), ('mente', (1794, 1799)), (',', (1799, 1800)), ('▁la', (1800, 1803)), ('▁prote', (1803, 1809)), ('ína', (1809, 1813)), ('▁S', (1813, 1815)), ('-100', (1815, 1819)), ('▁fue', (1819, 1823)), ('▁positiva', (1823, 1832)), ('▁confirma', (1832, 1841)), ('ndo', (1841, 1844)), ('▁el', (1844, 1847)), ('▁diagnóstico', (1847, 1860)), ('▁de', (1860, 1863)), ('▁schw', (1863, 1868)), ('anno', (1868, 1872)), ('ma', (1872, 1874)), ('▁de', (1874, 1877)), ('▁pár', (1877, 1882)), ('pad', (1882, 1885)), ('o', (1885, 1886)), ('.', (1886, 1887))]\n",
      "\n",
      "\n"
     ]
    }
   ],
   "source": [
    "for i in range(check_id_frag, check_id_frag + dev_frag[check_id]):\n",
    "    print(list(zip([tokenizer._convert_id_to_token(int(ind)) for ind in dev_ind[i]][1:len(dev_start_end_frag[i])+1], \n",
    "               dev_start_end_frag[i])))\n",
    "    print(\"\\n\")"
   ]
  },
  {
   "cell_type": "code",
   "execution_count": 88,
   "metadata": {},
   "outputs": [
    {
     "name": "stdout",
     "output_type": "stream",
     "text": [
      "<s> ▁Mu jer ▁de ▁51 ▁años ▁de ▁edad ▁que ▁consulta ▁por ▁tumor ación ▁en ▁pár pad o ▁superior ▁iz quier do ▁reci di vada , ▁i ndolo ra , ▁percep ti ble ▁al ▁tac to ▁y ▁de ▁con sistencia ▁firme . </s> <pad> <pad> <pad> <pad> <pad> <pad> <pad> <pad> <pad> <pad> <pad> <pad> <pad> <pad> <pad> <pad> <pad> <pad> <pad> <pad> <pad> <pad> <pad> <pad> <pad> <pad> <pad> <pad> <pad> <pad> <pad> <pad> <pad> <pad> <pad> <pad> <pad> <pad> <pad> <pad> <pad> <pad> <pad> <pad> <pad> <pad> <pad> <pad> <pad> <pad> <pad> <pad> <pad> <pad> <pad> <pad> <pad> <pad> <pad> <pad> <pad> <pad> <pad> <pad> <pad> <pad> <pad> <pad> <pad> <pad> <pad> <pad> <pad> <pad> <pad> <pad> <pad> <pad> <pad> <pad> <pad> <pad> <pad> <pad> <pad> <pad> \n",
      "\n",
      "<s> ▁Se ▁constata ▁además ▁la ▁existencia ▁de ▁ble far och al asia ▁asocia da ▁y ▁bolsa s ▁palp e bral es . </s> <pad> <pad> <pad> <pad> <pad> <pad> <pad> <pad> <pad> <pad> <pad> <pad> <pad> <pad> <pad> <pad> <pad> <pad> <pad> <pad> <pad> <pad> <pad> <pad> <pad> <pad> <pad> <pad> <pad> <pad> <pad> <pad> <pad> <pad> <pad> <pad> <pad> <pad> <pad> <pad> <pad> <pad> <pad> <pad> <pad> <pad> <pad> <pad> <pad> <pad> <pad> <pad> <pad> <pad> <pad> <pad> <pad> <pad> <pad> <pad> <pad> <pad> <pad> <pad> <pad> <pad> <pad> <pad> <pad> <pad> <pad> <pad> <pad> <pad> <pad> <pad> <pad> <pad> <pad> <pad> <pad> <pad> <pad> <pad> <pad> <pad> <pad> <pad> <pad> <pad> <pad> <pad> <pad> <pad> <pad> <pad> <pad> <pad> <pad> <pad> <pad> <pad> <pad> <pad> <pad> \n",
      "\n",
      "<s> ▁La ▁paciente ▁refiere ▁antecede ntes ▁de ▁ex tir pa ción ▁trans con ju nti val ▁de ▁chala z ión ▁2 ▁años ▁antes , ▁con ▁re curr encia ▁de ▁la ▁le sión ▁al ▁poco ▁tiempo . </s> <pad> <pad> <pad> <pad> <pad> <pad> <pad> <pad> <pad> <pad> <pad> <pad> <pad> <pad> <pad> <pad> <pad> <pad> <pad> <pad> <pad> <pad> <pad> <pad> <pad> <pad> <pad> <pad> <pad> <pad> <pad> <pad> <pad> <pad> <pad> <pad> <pad> <pad> <pad> <pad> <pad> <pad> <pad> <pad> <pad> <pad> <pad> <pad> <pad> <pad> <pad> <pad> <pad> <pad> <pad> <pad> <pad> <pad> <pad> <pad> <pad> <pad> <pad> <pad> <pad> <pad> <pad> <pad> <pad> <pad> <pad> <pad> <pad> <pad> <pad> <pad> <pad> <pad> <pad> <pad> <pad> <pad> <pad> <pad> <pad> <pad> <pad> <pad> <pad> <pad> <pad> \n",
      "\n",
      "<s> ▁El ▁examen ▁funcional ▁o cular ▁es ▁normal . </s> <pad> <pad> <pad> <pad> <pad> <pad> <pad> <pad> <pad> <pad> <pad> <pad> <pad> <pad> <pad> <pad> <pad> <pad> <pad> <pad> <pad> <pad> <pad> <pad> <pad> <pad> <pad> <pad> <pad> <pad> <pad> <pad> <pad> <pad> <pad> <pad> <pad> <pad> <pad> <pad> <pad> <pad> <pad> <pad> <pad> <pad> <pad> <pad> <pad> <pad> <pad> <pad> <pad> <pad> <pad> <pad> <pad> <pad> <pad> <pad> <pad> <pad> <pad> <pad> <pad> <pad> <pad> <pad> <pad> <pad> <pad> <pad> <pad> <pad> <pad> <pad> <pad> <pad> <pad> <pad> <pad> <pad> <pad> <pad> <pad> <pad> <pad> <pad> <pad> <pad> <pad> <pad> <pad> <pad> <pad> <pad> <pad> <pad> <pad> <pad> <pad> <pad> <pad> <pad> <pad> <pad> <pad> <pad> <pad> <pad> <pad> <pad> <pad> <pad> <pad> <pad> <pad> <pad> \n",
      "\n",
      "<s> ▁So licita mos ▁para ▁su ▁estudio ▁ TAC ▁con ▁contrast e ▁del ▁mac izo ▁facial ▁en ▁la ▁que ▁encontramos ▁una ▁formación ▁sólida ▁en ▁la ▁región ▁súper o - ex terna ▁de ▁la ▁ ór bita , ▁sin ▁compromiso ▁del ▁globo ▁o cular , ▁con ▁el ▁dag nó stico ▁de ▁presun ción ▁de ▁tumor ▁de ▁g lán dula ▁la grim al . </s> <pad> <pad> <pad> <pad> <pad> <pad> <pad> <pad> <pad> <pad> <pad> <pad> <pad> <pad> <pad> <pad> <pad> <pad> <pad> <pad> <pad> <pad> <pad> <pad> <pad> <pad> <pad> <pad> <pad> <pad> <pad> <pad> <pad> <pad> <pad> <pad> <pad> <pad> <pad> <pad> <pad> <pad> <pad> <pad> <pad> <pad> <pad> <pad> <pad> <pad> <pad> <pad> <pad> <pad> <pad> <pad> <pad> <pad> <pad> <pad> <pad> <pad> <pad> <pad> <pad> \n",
      "\n",
      "<s> ▁Deci di mos , ▁de ▁acuerdo ▁con ▁la ▁paciente , ▁llevar ▁a ▁cabo ▁la ▁rese cción ▁qui rú r gica ▁del ▁tumor ▁y ▁al ▁mismo ▁tiempo ▁practicar ▁ble far o plast ia ▁estética ▁superior ▁e ▁inferior ▁asocia da . </s> <pad> <pad> <pad> <pad> <pad> <pad> <pad> <pad> <pad> <pad> <pad> <pad> <pad> <pad> <pad> <pad> <pad> <pad> <pad> <pad> <pad> <pad> <pad> <pad> <pad> <pad> <pad> <pad> <pad> <pad> <pad> <pad> <pad> <pad> <pad> <pad> <pad> <pad> <pad> <pad> <pad> <pad> <pad> <pad> <pad> <pad> <pad> <pad> <pad> <pad> <pad> <pad> <pad> <pad> <pad> <pad> <pad> <pad> <pad> <pad> <pad> <pad> <pad> <pad> <pad> <pad> <pad> <pad> <pad> <pad> <pad> <pad> <pad> <pad> <pad> <pad> <pad> <pad> <pad> <pad> <pad> <pad> <pad> <pad> <pad> <pad> <pad> \n",
      "\n",
      "<s> ▁El ▁halla z go ▁intra operator io ▁de ▁la ▁le sión ▁fue ▁de ▁una ▁formación ▁palp e bral ▁izquierda ▁de ▁1 ▁x ▁0,8 ▁x ▁0,5 ▁cm ▁de ▁di á metro , ▁de ▁superficie ▁lisa ▁y ▁con sistencia ▁el ástica , ▁que ▁no ▁in vad ía ▁estructura s ▁o culare s ▁y ▁que ▁pudi mos ▁ex tir par ▁por ▁completo . </s> <pad> <pad> <pad> <pad> <pad> <pad> <pad> <pad> <pad> <pad> <pad> <pad> <pad> <pad> <pad> <pad> <pad> <pad> <pad> <pad> <pad> <pad> <pad> <pad> <pad> <pad> <pad> <pad> <pad> <pad> <pad> <pad> <pad> <pad> <pad> <pad> <pad> <pad> <pad> <pad> <pad> <pad> <pad> <pad> <pad> <pad> <pad> <pad> <pad> <pad> <pad> <pad> <pad> <pad> <pad> <pad> <pad> <pad> <pad> <pad> <pad> <pad> <pad> <pad> <pad> <pad> \n",
      "\n",
      "<s> ▁La ▁ble far o plast ia ▁superior ▁se ▁realizó ▁según ▁técnica ▁clásica ▁y ▁la ▁inferior ▁por ▁vía ▁trans con ju nti val , ▁con ▁ex tir pa ción ▁de ▁bolsa s ▁palp e bral es ▁tanto ▁superiores ▁como ▁inferiore s . </s> <pad> <pad> <pad> <pad> <pad> <pad> <pad> <pad> <pad> <pad> <pad> <pad> <pad> <pad> <pad> <pad> <pad> <pad> <pad> <pad> <pad> <pad> <pad> <pad> <pad> <pad> <pad> <pad> <pad> <pad> <pad> <pad> <pad> <pad> <pad> <pad> <pad> <pad> <pad> <pad> <pad> <pad> <pad> <pad> <pad> <pad> <pad> <pad> <pad> <pad> <pad> <pad> <pad> <pad> <pad> <pad> <pad> <pad> <pad> <pad> <pad> <pad> <pad> <pad> <pad> <pad> <pad> <pad> <pad> <pad> <pad> <pad> <pad> <pad> <pad> <pad> <pad> <pad> <pad> <pad> <pad> <pad> <pad> <pad> <pad> \n",
      "\n",
      "<s> ▁La ▁evolución ▁post operator ia ▁de ▁la ▁paciente ▁fue ▁buena , ▁sin ▁complica ciones , ▁con ▁un ▁resultado ▁est ético ▁muy ▁satisfac torio ▁y ▁sin ▁reci di va ▁tumor al ▁después ▁de ▁12 ▁meses ▁de ▁control . </s> <pad> <pad> <pad> <pad> <pad> <pad> <pad> <pad> <pad> <pad> <pad> <pad> <pad> <pad> <pad> <pad> <pad> <pad> <pad> <pad> <pad> <pad> <pad> <pad> <pad> <pad> <pad> <pad> <pad> <pad> <pad> <pad> <pad> <pad> <pad> <pad> <pad> <pad> <pad> <pad> <pad> <pad> <pad> <pad> <pad> <pad> <pad> <pad> <pad> <pad> <pad> <pad> <pad> <pad> <pad> <pad> <pad> <pad> <pad> <pad> <pad> <pad> <pad> <pad> <pad> <pad> <pad> <pad> <pad> <pad> <pad> <pad> <pad> <pad> <pad> <pad> <pad> <pad> <pad> <pad> <pad> <pad> <pad> <pad> <pad> <pad> <pad> <pad> <pad> \n",
      "\n",
      "<s> ▁El ▁estudio ▁a nato mo pat ológico ▁de ▁la ▁pieza ▁de ▁rese cción ▁informó ▁que ▁se ▁trata ba ▁de ▁un ▁tumor ▁benign o , ▁no ▁infiltra tivo , ▁con ▁cápsula ▁bien ▁defini da , ▁constitu ído ▁por ▁fas cí culos ▁de ▁células ▁fus i forme s ▁disp u estas ▁en ▁patrón ▁ver tici lado ▁o ▁arre moli nado ▁alterna ndo ▁con ▁áreas ▁más ▁la xas ▁( patr ones ▁Antoni ▁A ▁y ▁B ▁respectivamente ); ▁sin ▁signo s ▁de ▁a tip ía . </s> <pad> <pad> <pad> <pad> <pad> <pad> <pad> <pad> <pad> <pad> <pad> <pad> <pad> <pad> <pad> <pad> <pad> <pad> <pad> <pad> <pad> <pad> <pad> <pad> <pad> <pad> <pad> <pad> <pad> <pad> <pad> <pad> <pad> <pad> <pad> <pad> <pad> <pad> <pad> <pad> <pad> <pad> <pad> <pad> \n",
      "\n",
      "<s> ▁In mun ológica mente , ▁la ▁prote ína ▁S -100 ▁fue ▁positiva ▁confirma ndo ▁el ▁diagnóstico ▁de ▁schw anno ma ▁de ▁pár pad o . </s> <pad> <pad> <pad> <pad> <pad> <pad> <pad> <pad> <pad> <pad> <pad> <pad> <pad> <pad> <pad> <pad> <pad> <pad> <pad> <pad> <pad> <pad> <pad> <pad> <pad> <pad> <pad> <pad> <pad> <pad> <pad> <pad> <pad> <pad> <pad> <pad> <pad> <pad> <pad> <pad> <pad> <pad> <pad> <pad> <pad> <pad> <pad> <pad> <pad> <pad> <pad> <pad> <pad> <pad> <pad> <pad> <pad> <pad> <pad> <pad> <pad> <pad> <pad> <pad> <pad> <pad> <pad> <pad> <pad> <pad> <pad> <pad> <pad> <pad> <pad> <pad> <pad> <pad> <pad> <pad> <pad> <pad> <pad> <pad> <pad> <pad> <pad> <pad> <pad> <pad> <pad> <pad> <pad> <pad> <pad> <pad> <pad> <pad> <pad> <pad> <pad> \n",
      "\n"
     ]
    }
   ],
   "source": [
    "check_id_frag = sum(dev_frag[:check_id])\n",
    "for frag in dev_ind[check_id_frag:check_id_frag + dev_frag[check_id]]:\n",
    "    print(' '.join([tokenizer._convert_id_to_token(int(ind)) for ind in frag]), \"\\n\")"
   ]
  },
  {
   "cell_type": "code",
   "execution_count": 89,
   "metadata": {},
   "outputs": [
    {
     "data": {
      "text/plain": [
       "count    3799.000000\n",
       "mean        0.309818\n",
       "std         0.638081\n",
       "min         0.000000\n",
       "25%         0.000000\n",
       "50%         0.000000\n",
       "75%         0.000000\n",
       "max         5.000000\n",
       "dtype: float64"
      ]
     },
     "execution_count": 89,
     "metadata": {},
     "output_type": "execute_result"
    }
   ],
   "source": [
    "# Fragment labels distribution\n",
    "pd.Series(np.sum(dev_y, axis=1)).describe()"
   ]
  },
  {
   "cell_type": "markdown",
   "metadata": {},
   "source": [
    "### Training & Development corpus\n",
    "\n",
    "We merge the previously generated datasets:"
   ]
  },
  {
   "cell_type": "code",
   "execution_count": 90,
   "metadata": {},
   "outputs": [],
   "source": [
    "# Indices\n",
    "train_dev_ind = np.concatenate((train_ind, dev_ind))"
   ]
  },
  {
   "cell_type": "code",
   "execution_count": 91,
   "metadata": {},
   "outputs": [
    {
     "data": {
      "text/plain": [
       "(10812, 128)"
      ]
     },
     "execution_count": 91,
     "metadata": {},
     "output_type": "execute_result"
    }
   ],
   "source": [
    "train_dev_ind.shape"
   ]
  },
  {
   "cell_type": "code",
   "execution_count": 92,
   "metadata": {},
   "outputs": [],
   "source": [
    "# Attention masks\n",
    "train_dev_att = np.concatenate((train_att, dev_att))"
   ]
  },
  {
   "cell_type": "code",
   "execution_count": 93,
   "metadata": {},
   "outputs": [
    {
     "data": {
      "text/plain": [
       "(10812, 128)"
      ]
     },
     "execution_count": 93,
     "metadata": {},
     "output_type": "execute_result"
    }
   ],
   "source": [
    "train_dev_att.shape"
   ]
  },
  {
   "cell_type": "code",
   "execution_count": 94,
   "metadata": {},
   "outputs": [],
   "source": [
    "# y\n",
    "train_dev_y = np.concatenate((train_y, dev_y))"
   ]
  },
  {
   "cell_type": "code",
   "execution_count": 95,
   "metadata": {},
   "outputs": [
    {
     "data": {
      "text/plain": [
       "(10812, 727)"
      ]
     },
     "execution_count": 95,
     "metadata": {},
     "output_type": "execute_result"
    }
   ],
   "source": [
    "train_dev_y.shape"
   ]
  },
  {
   "cell_type": "markdown",
   "metadata": {},
   "source": [
    "## Fine-tuning\n",
    "\n",
    "Using the corpus of labeled sentences, we fine-tune the model on a multi-label sentence classification task."
   ]
  },
  {
   "cell_type": "code",
   "execution_count": 96,
   "metadata": {},
   "outputs": [
    {
     "name": "stderr",
     "output_type": "stream",
     "text": [
      "All PyTorch model weights were used when initializing TFXLMRobertaForSequenceClassification.\n",
      "\n",
      "Some weights or buffers of the TF 2.0 model TFXLMRobertaForSequenceClassification were not initialized from the PyTorch model and are newly initialized: ['classifier.dense.weight', 'classifier.dense.bias', 'classifier.out_proj.weight', 'classifier.out_proj.bias']\n",
      "You should probably TRAIN this model on a down-stream task to be able to use it for predictions and inference.\n"
     ]
    }
   ],
   "source": [
    "from transformers import TFXLMRobertaForSequenceClassification\n",
    "\n",
    "model = TFXLMRobertaForSequenceClassification.from_pretrained(model_name, from_pt=True)"
   ]
  },
  {
   "cell_type": "code",
   "execution_count": 97,
   "metadata": {},
   "outputs": [
    {
     "name": "stdout",
     "output_type": "stream",
     "text": [
      "Model: \"tfxlm_roberta_for_sequence_classification\"\n",
      "_________________________________________________________________\n",
      "Layer (type)                 Output Shape              Param #   \n",
      "=================================================================\n",
      "roberta (TFRobertaMainLayer) multiple                  277453056 \n",
      "_________________________________________________________________\n",
      "classifier (TFRobertaClassif multiple                  592130    \n",
      "=================================================================\n",
      "Total params: 278,045,186\n",
      "Trainable params: 278,045,186\n",
      "Non-trainable params: 0\n",
      "_________________________________________________________________\n"
     ]
    }
   ],
   "source": [
    "model.summary()"
   ]
  },
  {
   "cell_type": "code",
   "execution_count": 98,
   "metadata": {},
   "outputs": [
    {
     "data": {
      "text/plain": [
       "[<transformers.models.roberta.modeling_tf_roberta.TFRobertaMainLayer at 0x7fbaf11cbc10>,\n",
       " <transformers.models.roberta.modeling_tf_roberta.TFRobertaClassificationHead at 0x7fbaf02677d0>]"
      ]
     },
     "execution_count": 98,
     "metadata": {},
     "output_type": "execute_result"
    }
   ],
   "source": [
    "model.layers"
   ]
  },
  {
   "cell_type": "code",
   "execution_count": 99,
   "metadata": {},
   "outputs": [],
   "source": [
    "from tensorflow.keras import Input, Model\n",
    "from tensorflow.keras.layers import Dense, Activation\n",
    "from tensorflow.keras.initializers import GlorotUniform\n",
    "\n",
    "input_ids = Input(shape=(SEQ_LEN,), name='input_ids', dtype='int64')\n",
    "attention_mask = Input(shape=(SEQ_LEN,), name='attention_mask', dtype='int64')\n",
    "inputs = [input_ids, attention_mask]\n",
    "\n",
    "cls_token = model.layers[0](input_ids=inputs[0], attention_mask=inputs[1])[0][:, 0, :] # take <s> token output representation (equiv. to [CLS]) \n",
    "out_logits = Dense(units=num_labels, kernel_initializer=GlorotUniform(seed=random_seed))(cls_token) # Multi-label classification\n",
    "out_act = Activation('sigmoid')(out_logits)\n",
    "\n",
    "model = Model(inputs=[input_ids, attention_mask], outputs=out_act)"
   ]
  },
  {
   "cell_type": "code",
   "execution_count": 100,
   "metadata": {},
   "outputs": [
    {
     "name": "stdout",
     "output_type": "stream",
     "text": [
      "Model: \"model\"\n",
      "__________________________________________________________________________________________________\n",
      "Layer (type)                    Output Shape         Param #     Connected to                     \n",
      "==================================================================================================\n",
      "input_ids (InputLayer)          [(None, 128)]        0                                            \n",
      "__________________________________________________________________________________________________\n",
      "attention_mask (InputLayer)     [(None, 128)]        0                                            \n",
      "__________________________________________________________________________________________________\n",
      "roberta (TFRobertaMainLayer)    TFBaseModelOutputWit 277453056   input_ids[0][0]                  \n",
      "__________________________________________________________________________________________________\n",
      "tf_op_layer_strided_slice (Tens [(None, 768)]        0           roberta[0][0]                    \n",
      "__________________________________________________________________________________________________\n",
      "dense (Dense)                   (None, 727)          559063      tf_op_layer_strided_slice[0][0]  \n",
      "__________________________________________________________________________________________________\n",
      "activation_4 (Activation)       (None, 727)          0           dense[0][0]                      \n",
      "==================================================================================================\n",
      "Total params: 278,012,119\n",
      "Trainable params: 278,012,119\n",
      "Non-trainable params: 0\n",
      "__________________________________________________________________________________________________\n"
     ]
    }
   ],
   "source": [
    "model.summary()"
   ]
  },
  {
   "cell_type": "code",
   "execution_count": 101,
   "metadata": {},
   "outputs": [
    {
     "data": {
      "text/plain": [
       "[<tf.Tensor 'input_ids:0' shape=(None, 128) dtype=int64>,\n",
       " <tf.Tensor 'attention_mask:0' shape=(None, 128) dtype=int64>]"
      ]
     },
     "execution_count": 101,
     "metadata": {},
     "output_type": "execute_result"
    }
   ],
   "source": [
    "model.input"
   ]
  },
  {
   "cell_type": "code",
   "execution_count": 102,
   "metadata": {},
   "outputs": [
    {
     "data": {
      "text/plain": [
       "<tf.Tensor 'activation_4/Identity:0' shape=(None, 727) dtype=float32>"
      ]
     },
     "execution_count": 102,
     "metadata": {},
     "output_type": "execute_result"
    }
   ],
   "source": [
    "model.output"
   ]
  },
  {
   "cell_type": "code",
   "execution_count": null,
   "metadata": {},
   "outputs": [
    {
     "name": "stdout",
     "output_type": "stream",
     "text": [
      "Epoch 1/41\n"
     ]
    }
   ],
   "source": [
    "%%time\n",
    "from tensorflow.keras import optimizers, losses\n",
    "import tensorflow_addons as tfa\n",
    "\n",
    "optimizer = tfa.optimizers.RectifiedAdam(learning_rate=LR)\n",
    "loss = losses.BinaryCrossentropy(from_logits=False)\n",
    "model.compile(optimizer=optimizer, loss=loss)\n",
    "\n",
    "history = model.fit(x={'input_ids': train_dev_ind, 'attention_mask': train_dev_att}, y=train_dev_y,\n",
    "          batch_size=BATCH_SIZE, epochs=EPOCHS, shuffle=True)"
   ]
  },
  {
   "cell_type": "markdown",
   "metadata": {},
   "source": [
    "## Test set predictions\n",
    "\n",
    "Finally, the predictions made by the model on the test set are saved. For this purpose, firstly, each sentence from the test corpus must be converted into a sequence of subwords (input IDs and attention mask arrays). Then, the predictions made by the model at the sentence-level are saved, to be further evaluated at document-level (see `results/CodiEsp-P/Evaluation.ipynb`)."
   ]
  },
  {
   "cell_type": "code",
   "execution_count": 101,
   "metadata": {},
   "outputs": [
    {
     "name": "stdout",
     "output_type": "stream",
     "text": [
      "CPU times: user 8.68 ms, sys: 131 µs, total: 8.81 ms\n",
      "Wall time: 7.84 ms\n"
     ]
    }
   ],
   "source": [
    "%%time\n",
    "test_path = corpus_path + \"test/text_files/\"\n",
    "test_files = [f for f in os.listdir(test_path) if os.path.isfile(test_path + f)]\n",
    "test_data = load_text_files(test_files, test_path)\n",
    "df_text_test = pd.DataFrame({'doc_id': [s.split('.txt')[0] for s in test_files], 'raw_text': test_data})"
   ]
  },
  {
   "cell_type": "code",
   "execution_count": 102,
   "metadata": {},
   "outputs": [
    {
     "data": {
      "text/plain": [
       "(250, 2)"
      ]
     },
     "execution_count": 102,
     "metadata": {},
     "output_type": "execute_result"
    }
   ],
   "source": [
    "df_text_test.shape"
   ]
  },
  {
   "cell_type": "code",
   "execution_count": 103,
   "metadata": {},
   "outputs": [
    {
     "data": {
      "text/html": [
       "<div>\n",
       "<style scoped>\n",
       "    .dataframe tbody tr th:only-of-type {\n",
       "        vertical-align: middle;\n",
       "    }\n",
       "\n",
       "    .dataframe tbody tr th {\n",
       "        vertical-align: top;\n",
       "    }\n",
       "\n",
       "    .dataframe thead th {\n",
       "        text-align: right;\n",
       "    }\n",
       "</style>\n",
       "<table border=\"1\" class=\"dataframe\">\n",
       "  <thead>\n",
       "    <tr style=\"text-align: right;\">\n",
       "      <th></th>\n",
       "      <th>doc_id</th>\n",
       "      <th>raw_text</th>\n",
       "    </tr>\n",
       "  </thead>\n",
       "  <tbody>\n",
       "    <tr>\n",
       "      <th>0</th>\n",
       "      <td>S0365-66912007000900014-1</td>\n",
       "      <td>Paciente varón de 34 años de edad diagnosticad...</td>\n",
       "    </tr>\n",
       "    <tr>\n",
       "      <th>1</th>\n",
       "      <td>S0211-69952014000200012-1</td>\n",
       "      <td>Un varón de 48 años, de raza caucásica, con IR...</td>\n",
       "    </tr>\n",
       "    <tr>\n",
       "      <th>2</th>\n",
       "      <td>S1139-76322017000200009-1</td>\n",
       "      <td>Presentamos el caso clínico de un niño de cinc...</td>\n",
       "    </tr>\n",
       "    <tr>\n",
       "      <th>3</th>\n",
       "      <td>S0210-48062010000100019-1</td>\n",
       "      <td>Paciente varón de 53 años, diagnosticado de es...</td>\n",
       "    </tr>\n",
       "    <tr>\n",
       "      <th>4</th>\n",
       "      <td>S1130-14732005000500006-1</td>\n",
       "      <td>Se trata de un varón de 20 años diagnosticado ...</td>\n",
       "    </tr>\n",
       "  </tbody>\n",
       "</table>\n",
       "</div>"
      ],
      "text/plain": [
       "                      doc_id  \\\n",
       "0  S0365-66912007000900014-1   \n",
       "1  S0211-69952014000200012-1   \n",
       "2  S1139-76322017000200009-1   \n",
       "3  S0210-48062010000100019-1   \n",
       "4  S1130-14732005000500006-1   \n",
       "\n",
       "                                            raw_text  \n",
       "0  Paciente varón de 34 años de edad diagnosticad...  \n",
       "1  Un varón de 48 años, de raza caucásica, con IR...  \n",
       "2  Presentamos el caso clínico de un niño de cinc...  \n",
       "3  Paciente varón de 53 años, diagnosticado de es...  \n",
       "4  Se trata de un varón de 20 años diagnosticado ...  "
      ]
     },
     "execution_count": 103,
     "metadata": {},
     "output_type": "execute_result"
    }
   ],
   "source": [
    "df_text_test.head()"
   ]
  },
  {
   "cell_type": "code",
   "execution_count": 104,
   "metadata": {},
   "outputs": [
    {
     "data": {
      "text/plain": [
       "'Paciente varón de 34 años de edad diagnosticado de varicela tres semanas antes ya resuelta sin complicaciones. Acude a urgencias por presentar disminución de agudeza visual en su ojo izquierdo.\\nEn la exploración oftalmológica presenta una agudeza visual corregida de 1 en el ojo derecho (OD) y de 0,6 en el ojo izquierdo (OI). El estudio con lámpara de hendidura demuestra en el OI un tyndall celular de 4+, precipitados queráticos inferiores (3+) y sin presentar la cornea tinción con fluoresceína, siendo normal el OD. La presión intraocular fue de 16mmHg en ambos ojos.\\nEn la exploración fundoscópica inicial del OI se aprecia leve vitritis (1+) sin focos de retinitis.\\nSe instaura tratamiento tópico con corticoides y midriáticos. A los 2 días se observa leve disminución del tyndall celular (3+) en cámara anterior pero en fondo de ojo aparece un foco periférico de retinitis necrotizante en el área temporal asociado a vasculitis retiniana.\\nSe ingresa al paciente y se instaura tratamiento con aciclovir intravenoso (10 mgr/kg/8 horas), antiagregación (ácido acetilsalicílico 150 mgr/24 horas) y se mantiene el tratamiento tópico. Asimismo se realiza fotocoagulación profiláctica con láser de argón rodeando la zona de necrosis retiniana.\\n\\nA las 48 horas y previa comprobación de una buena respuesta con disminución del foco de retinitis, se introducen corticoides sistémicos a dosis de 1 mg/kg/d, presentando una rápida mejoría de la agudeza visual, con disminución de la vitritis y menor tamaño del foco de retinitis. A las 2 semanas se pasa a vía oral el tratamiento antiviral (famciclovir 500 mgr/12 horas) y se inicia un descenso de corticoides de manera gradual a razón de 10 mgr cada semana. Se continúa con el tratamiento antiviral a dosis de mantenimiento durante 6 semanas, realizando controles analíticos periódicos hemograma y bioquímica para detectar afectación renal.\\nTras 6 meses del comienzo del cuadro, el paciente continúa asintomático, con una agudeza visual de unidad en OI, cicatrización de las lesiones retinianas y ausencia completa de actividad inflamatoria ocular en ambos ojos.\\nDurante el ingreso se constató la infección reciente por el virus varicela zoster mediante seroconversión.\\n\\n'"
      ]
     },
     "execution_count": 104,
     "metadata": {},
     "output_type": "execute_result"
    }
   ],
   "source": [
    "df_text_test.raw_text[0]"
   ]
  },
  {
   "cell_type": "code",
   "execution_count": 105,
   "metadata": {},
   "outputs": [],
   "source": [
    "test_doc_list = sorted(set(df_text_test[\"doc_id\"]))"
   ]
  },
  {
   "cell_type": "code",
   "execution_count": 106,
   "metadata": {},
   "outputs": [
    {
     "data": {
      "text/plain": [
       "250"
      ]
     },
     "execution_count": 106,
     "metadata": {},
     "output_type": "execute_result"
    }
   ],
   "source": [
    "len(test_doc_list)"
   ]
  },
  {
   "cell_type": "code",
   "execution_count": 107,
   "metadata": {},
   "outputs": [
    {
     "name": "stdout",
     "output_type": "stream",
     "text": [
      "CPU times: user 6.22 ms, sys: 3.85 ms, total: 10.1 ms\n",
      "Wall time: 9.31 ms\n"
     ]
    }
   ],
   "source": [
    "%%time\n",
    "ss_sub_corpus_path = ss_corpus_path + \"test/\"\n",
    "ss_files = [f for f in os.listdir(ss_sub_corpus_path) if os.path.isfile(ss_sub_corpus_path + f)]\n",
    "ss_dict_test = load_ss_files(ss_files, ss_sub_corpus_path)"
   ]
  },
  {
   "cell_type": "code",
   "execution_count": 108,
   "metadata": {},
   "outputs": [
    {
     "name": "stderr",
     "output_type": "stream",
     "text": [
      "100%|██████████| 250/250 [00:01<00:00, 248.26it/s]"
     ]
    },
    {
     "name": "stdout",
     "output_type": "stream",
     "text": [
      "CPU times: user 1.08 s, sys: 8.43 ms, total: 1.09 s\n",
      "Wall time: 1.07 s\n"
     ]
    },
    {
     "name": "stderr",
     "output_type": "stream",
     "text": [
      "\n"
     ]
    }
   ],
   "source": [
    "%%time\n",
    "test_ind, test_att, _, test_frag, _ = ss_create_frag_input_data_xlmr(df_text=df_text_test, \n",
    "                                                  text_col=text_col,\n",
    "                                                  # Since labels are ignored, we pass df_codes_train_ner as df_ann\n",
    "                                                  df_ann=df_codes_train_ner, doc_list=test_doc_list, ss_dict=ss_dict_test,\n",
    "                                                  tokenizer=tokenizer, sp_pb2=spt, lab_encoder=mlb_encoder, seq_len=SEQ_LEN)"
   ]
  },
  {
   "cell_type": "code",
   "execution_count": 173,
   "metadata": {},
   "outputs": [
    {
     "name": "stdout",
     "output_type": "stream",
     "text": [
      "CPU times: user 14.3 s, sys: 2.04 s, total: 16.3 s\n",
      "Wall time: 19.3 s\n"
     ]
    }
   ],
   "source": [
    "%%time\n",
    "test_preds = model.predict({'input_ids': test_ind, 'attention_mask': test_att})"
   ]
  },
  {
   "cell_type": "code",
   "execution_count": 174,
   "metadata": {},
   "outputs": [
    {
     "data": {
      "text/plain": [
       "(3950, 727)"
      ]
     },
     "execution_count": 174,
     "metadata": {},
     "output_type": "execute_result"
    }
   ],
   "source": [
    "test_preds.shape"
   ]
  },
  {
   "cell_type": "code",
   "execution_count": 109,
   "metadata": {},
   "outputs": [],
   "source": [
    "results_dir_path = \"../results/CodiEsp-P/\""
   ]
  },
  {
   "cell_type": "code",
   "execution_count": 178,
   "metadata": {},
   "outputs": [
    {
     "name": "stdout",
     "output_type": "stream",
     "text": [
      "CPU times: user 2.21 ms, sys: 4.65 ms, total: 6.87 ms\n",
      "Wall time: 6.02 ms\n"
     ]
    }
   ],
   "source": [
    "%%time\n",
    "np.save(file=results_dir_path + \"predictions/xlm_r_seed_\" + str(random_seed) + \"_test_preds.npy\", arr=test_preds)"
   ]
  },
  {
   "cell_type": "code",
   "execution_count": 111,
   "metadata": {},
   "outputs": [],
   "source": [
    "# To be further used when evaluating model performance at document level\n",
    "np.save(file=results_dir_path + \"xlm_r_test_frags.npy\", arr=test_frag)\n",
    "np.save(file=results_dir_path + \"classes.npy\", arr=mlb_encoder.classes_)"
   ]
  }
 ],
 "metadata": {
  "kernelspec": {
   "display_name": "Python 3",
   "language": "python",
   "name": "python3"
  },
  "language_info": {
   "codemirror_mode": {
    "name": "ipython",
    "version": 3
   },
   "file_extension": ".py",
   "mimetype": "text/x-python",
   "name": "python",
   "nbconvert_exporter": "python",
   "pygments_lexer": "ipython3",
   "version": "3.7.9"
  }
 },
 "nbformat": 4,
 "nbformat_minor": 4
}
