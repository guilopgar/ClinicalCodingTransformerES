{
 "cells": [
  {
   "cell_type": "markdown",
   "metadata": {},
   "source": [
    "# Fine-tuning XLM-R on CodiEsp-P\n",
    "\n",
    "In this notebook, following a multi-label sequence classification approach, the XLM-R model is fine-tuned on both the training and development sets of the CodiEsp-P corpus. Additionally, the predictions made by the model on the test set are saved, in order to futher evaluate the clinical coding performance of the model (see `results/CodiEsp-P/Evaluation.ipynb`)."
   ]
  },
  {
   "cell_type": "code",
   "execution_count": 1,
   "metadata": {},
   "outputs": [],
   "source": [
    "import pandas as pd\n",
    "import numpy as np\n",
    "import tensorflow as tf\n",
    "\n",
    "# Auxiliary components\n",
    "import sys\n",
    "sys.path.append(\"..\")\n",
    "from nlp_utils import *\n",
    "\n",
    "# XLM-R tokenizer\n",
    "from transformers import XLMRobertaTokenizer\n",
    "import sentencepiece_pb2\n",
    "model_name = \"xlm-roberta-base\"\n",
    "tokenizer = XLMRobertaTokenizer.from_pretrained(model_name)\n",
    "spt = sentencepiece_pb2.SentencePieceText()\n",
    "\n",
    "# Hyper-parameters\n",
    "text_col = \"raw_text\"\n",
    "SEQ_LEN = 128\n",
    "BATCH_SIZE = 16\n",
    "EPOCHS = 41\n",
    "LR = 3e-5\n",
    "\n",
    "random_seed = 0\n",
    "tf.random.set_seed(random_seed)"
   ]
  },
  {
   "cell_type": "markdown",
   "metadata": {},
   "source": [
    "## Load text\n",
    "\n",
    "Firstly, all text files from training and development CodiEsp corpora are loaded in different dataframes.\n",
    "\n",
    "Also, CIE-Procedimiento codes are loaded."
   ]
  },
  {
   "cell_type": "code",
   "execution_count": 2,
   "metadata": {},
   "outputs": [],
   "source": [
    "corpus_path = \"../datasets/codiesp_v4/\""
   ]
  },
  {
   "cell_type": "markdown",
   "metadata": {},
   "source": [
    "### Training corpus"
   ]
  },
  {
   "cell_type": "code",
   "execution_count": 3,
   "metadata": {},
   "outputs": [
    {
     "name": "stdout",
     "output_type": "stream",
     "text": [
      "CPU times: user 6.23 ms, sys: 4.13 ms, total: 10.4 ms\n",
      "Wall time: 9.81 ms\n"
     ]
    }
   ],
   "source": [
    "%%time\n",
    "train_path = corpus_path + \"train/text_files/\"\n",
    "train_files = [f for f in os.listdir(train_path) if os.path.isfile(train_path + f)]\n",
    "train_data = load_text_files(train_files, train_path)\n",
    "df_text_train = pd.DataFrame({'doc_id': [s.split('.txt')[0] for s in train_files], 'raw_text': train_data})"
   ]
  },
  {
   "cell_type": "code",
   "execution_count": 4,
   "metadata": {},
   "outputs": [
    {
     "data": {
      "text/plain": [
       "(500, 2)"
      ]
     },
     "execution_count": 4,
     "metadata": {},
     "output_type": "execute_result"
    }
   ],
   "source": [
    "df_text_train.shape"
   ]
  },
  {
   "cell_type": "code",
   "execution_count": 5,
   "metadata": {},
   "outputs": [
    {
     "data": {
      "text/html": [
       "<div>\n",
       "<style scoped>\n",
       "    .dataframe tbody tr th:only-of-type {\n",
       "        vertical-align: middle;\n",
       "    }\n",
       "\n",
       "    .dataframe tbody tr th {\n",
       "        vertical-align: top;\n",
       "    }\n",
       "\n",
       "    .dataframe thead th {\n",
       "        text-align: right;\n",
       "    }\n",
       "</style>\n",
       "<table border=\"1\" class=\"dataframe\">\n",
       "  <thead>\n",
       "    <tr style=\"text-align: right;\">\n",
       "      <th></th>\n",
       "      <th>doc_id</th>\n",
       "      <th>raw_text</th>\n",
       "    </tr>\n",
       "  </thead>\n",
       "  <tbody>\n",
       "    <tr>\n",
       "      <th>0</th>\n",
       "      <td>S0004-06142007000600016-2</td>\n",
       "      <td>Paciente varón de 35 años con tumoración en po...</td>\n",
       "    </tr>\n",
       "    <tr>\n",
       "      <th>1</th>\n",
       "      <td>S1137-66272009000500017-1</td>\n",
       "      <td>Lactante de sexo femenino que ingresó a los 7 ...</td>\n",
       "    </tr>\n",
       "    <tr>\n",
       "      <th>2</th>\n",
       "      <td>S0365-66912007001100010-1</td>\n",
       "      <td>Paciente de 63 años que refería déficit de agu...</td>\n",
       "    </tr>\n",
       "    <tr>\n",
       "      <th>3</th>\n",
       "      <td>S0365-66912009000300010-1</td>\n",
       "      <td>Se presenta el caso de un varón de 24 años de ...</td>\n",
       "    </tr>\n",
       "    <tr>\n",
       "      <th>4</th>\n",
       "      <td>S0211-69952013000500035-1</td>\n",
       "      <td>Se presenta el caso de un varón de 64 años sin...</td>\n",
       "    </tr>\n",
       "  </tbody>\n",
       "</table>\n",
       "</div>"
      ],
      "text/plain": [
       "                      doc_id  \\\n",
       "0  S0004-06142007000600016-2   \n",
       "1  S1137-66272009000500017-1   \n",
       "2  S0365-66912007001100010-1   \n",
       "3  S0365-66912009000300010-1   \n",
       "4  S0211-69952013000500035-1   \n",
       "\n",
       "                                            raw_text  \n",
       "0  Paciente varón de 35 años con tumoración en po...  \n",
       "1  Lactante de sexo femenino que ingresó a los 7 ...  \n",
       "2  Paciente de 63 años que refería déficit de agu...  \n",
       "3  Se presenta el caso de un varón de 24 años de ...  \n",
       "4  Se presenta el caso de un varón de 64 años sin...  "
      ]
     },
     "execution_count": 5,
     "metadata": {},
     "output_type": "execute_result"
    }
   ],
   "source": [
    "df_text_train.head()"
   ]
  },
  {
   "cell_type": "code",
   "execution_count": 6,
   "metadata": {},
   "outputs": [
    {
     "data": {
      "text/plain": [
       "'Paciente varón de 35 años con tumoración en polo superior de teste derecho hallada de manera casual durante una autoexploración, motivo por el cual acude a consulta de urología donde se realiza exploración física, apreciando masa de 1cm aproximado de diámetro dependiente de epidídimo, y ecografía testicular, que se informa como lesión nodular sólida en cabeza de epidídimo derecho. Se realiza RMN. Confirmando masa nodular, siendo el tumor adenomatoide de epidídimo la primera posibilidad diagnóstica.\\n\\nSe decide, en los dos casos, resección quirúrgica de tumoración nodular en cola epidídimo derecho, sin realización de orquiectomía posterior.\\nEn ambos casos se realizó examen anátomopatológico de la pieza quirúrgica. Hallazgos histológicos macroscópicos: formación nodular de 1,5 cms (caso1) y 1,2 cms (caso 2) de consistencia firme, coloración blanquecina y bien delimitada. Microscópicamente se observa proliferación tumoral constituida por estructuras tubulares en las que la celularidad muestra núcleos redondeados y elongados sin atipia citológica y que ocasionalmente muestra citoplasmas vacuolados, todo ello compatible con tumor adenomatoide de epidídimo.\\n\\n'"
      ]
     },
     "execution_count": 6,
     "metadata": {},
     "output_type": "execute_result"
    }
   ],
   "source": [
    "df_text_train.raw_text[0]"
   ]
  },
  {
   "cell_type": "markdown",
   "metadata": {},
   "source": [
    "We also load the CIE-Procedimiento codes table:"
   ]
  },
  {
   "cell_type": "code",
   "execution_count": 7,
   "metadata": {},
   "outputs": [],
   "source": [
    "df_codes_train = pd.read_table(corpus_path + \"train/trainP.tsv\", sep='\\t', header=None)"
   ]
  },
  {
   "cell_type": "code",
   "execution_count": 8,
   "metadata": {},
   "outputs": [],
   "source": [
    "df_codes_train.columns = [\"doc_id\", \"code\"]"
   ]
  },
  {
   "cell_type": "code",
   "execution_count": 9,
   "metadata": {},
   "outputs": [
    {
     "data": {
      "text/plain": [
       "(1550, 2)"
      ]
     },
     "execution_count": 9,
     "metadata": {},
     "output_type": "execute_result"
    }
   ],
   "source": [
    "df_codes_train.shape"
   ]
  },
  {
   "cell_type": "code",
   "execution_count": 10,
   "metadata": {},
   "outputs": [
    {
     "data": {
      "text/html": [
       "<div>\n",
       "<style scoped>\n",
       "    .dataframe tbody tr th:only-of-type {\n",
       "        vertical-align: middle;\n",
       "    }\n",
       "\n",
       "    .dataframe tbody tr th {\n",
       "        vertical-align: top;\n",
       "    }\n",
       "\n",
       "    .dataframe thead th {\n",
       "        text-align: right;\n",
       "    }\n",
       "</style>\n",
       "<table border=\"1\" class=\"dataframe\">\n",
       "  <thead>\n",
       "    <tr style=\"text-align: right;\">\n",
       "      <th></th>\n",
       "      <th>doc_id</th>\n",
       "      <th>code</th>\n",
       "    </tr>\n",
       "  </thead>\n",
       "  <tbody>\n",
       "    <tr>\n",
       "      <th>0</th>\n",
       "      <td>S0004-06142005000700014-1</td>\n",
       "      <td>bw03zzz</td>\n",
       "    </tr>\n",
       "    <tr>\n",
       "      <th>1</th>\n",
       "      <td>S0004-06142005000700014-1</td>\n",
       "      <td>3e02329</td>\n",
       "    </tr>\n",
       "    <tr>\n",
       "      <th>2</th>\n",
       "      <td>S0004-06142005000700014-1</td>\n",
       "      <td>bw40zzz</td>\n",
       "    </tr>\n",
       "    <tr>\n",
       "      <th>3</th>\n",
       "      <td>S0004-06142005000700014-1</td>\n",
       "      <td>bv44zzz</td>\n",
       "    </tr>\n",
       "    <tr>\n",
       "      <th>4</th>\n",
       "      <td>S0004-06142005000700014-1</td>\n",
       "      <td>bn20</td>\n",
       "    </tr>\n",
       "  </tbody>\n",
       "</table>\n",
       "</div>"
      ],
      "text/plain": [
       "                      doc_id     code\n",
       "0  S0004-06142005000700014-1  bw03zzz\n",
       "1  S0004-06142005000700014-1  3e02329\n",
       "2  S0004-06142005000700014-1  bw40zzz\n",
       "3  S0004-06142005000700014-1  bv44zzz\n",
       "4  S0004-06142005000700014-1     bn20"
      ]
     },
     "execution_count": 10,
     "metadata": {},
     "output_type": "execute_result"
    }
   ],
   "source": [
    "df_codes_train.head()"
   ]
  },
  {
   "cell_type": "code",
   "execution_count": 11,
   "metadata": {},
   "outputs": [
    {
     "data": {
      "text/plain": [
       "435"
      ]
     },
     "execution_count": 11,
     "metadata": {},
     "output_type": "execute_result"
    }
   ],
   "source": [
    "len(set(df_codes_train[\"doc_id\"]))"
   ]
  },
  {
   "cell_type": "markdown",
   "metadata": {},
   "source": [
    "### Development corpus"
   ]
  },
  {
   "cell_type": "code",
   "execution_count": 12,
   "metadata": {},
   "outputs": [
    {
     "name": "stdout",
     "output_type": "stream",
     "text": [
      "CPU times: user 22.3 ms, sys: 0 ns, total: 22.3 ms\n",
      "Wall time: 22.2 ms\n"
     ]
    }
   ],
   "source": [
    "%%time\n",
    "dev_path = corpus_path + \"dev/text_files/\"\n",
    "dev_files = [f for f in os.listdir(dev_path) if os.path.isfile(dev_path + f)]\n",
    "dev_data = load_text_files(dev_files, dev_path)\n",
    "df_text_dev = pd.DataFrame({'doc_id': [s.split('.txt')[0] for s in dev_files], 'raw_text': dev_data})"
   ]
  },
  {
   "cell_type": "code",
   "execution_count": 13,
   "metadata": {},
   "outputs": [
    {
     "data": {
      "text/plain": [
       "(250, 2)"
      ]
     },
     "execution_count": 13,
     "metadata": {},
     "output_type": "execute_result"
    }
   ],
   "source": [
    "df_text_dev.shape"
   ]
  },
  {
   "cell_type": "code",
   "execution_count": 14,
   "metadata": {},
   "outputs": [
    {
     "data": {
      "text/html": [
       "<div>\n",
       "<style scoped>\n",
       "    .dataframe tbody tr th:only-of-type {\n",
       "        vertical-align: middle;\n",
       "    }\n",
       "\n",
       "    .dataframe tbody tr th {\n",
       "        vertical-align: top;\n",
       "    }\n",
       "\n",
       "    .dataframe thead th {\n",
       "        text-align: right;\n",
       "    }\n",
       "</style>\n",
       "<table border=\"1\" class=\"dataframe\">\n",
       "  <thead>\n",
       "    <tr style=\"text-align: right;\">\n",
       "      <th></th>\n",
       "      <th>doc_id</th>\n",
       "      <th>raw_text</th>\n",
       "    </tr>\n",
       "  </thead>\n",
       "  <tbody>\n",
       "    <tr>\n",
       "      <th>0</th>\n",
       "      <td>S1698-44472004000100009-1</td>\n",
       "      <td>Varón de 64 años de edad con tumefacción mandi...</td>\n",
       "    </tr>\n",
       "    <tr>\n",
       "      <th>1</th>\n",
       "      <td>S1139-76322015000300013-1</td>\n",
       "      <td>Niña de tres años que acude a Urgencias tras l...</td>\n",
       "    </tr>\n",
       "    <tr>\n",
       "      <th>2</th>\n",
       "      <td>S1130-05582015000100004-1</td>\n",
       "      <td>Se presenta el caso de una mujer de 60 años de...</td>\n",
       "    </tr>\n",
       "    <tr>\n",
       "      <th>3</th>\n",
       "      <td>S1887-85712015000200005-1</td>\n",
       "      <td>Paciente varón de cinco años de edad que tras ...</td>\n",
       "    </tr>\n",
       "    <tr>\n",
       "      <th>4</th>\n",
       "      <td>S1699-65852010000300002-1</td>\n",
       "      <td>LTR. Paciente de sexo masculino, de 32 años de...</td>\n",
       "    </tr>\n",
       "  </tbody>\n",
       "</table>\n",
       "</div>"
      ],
      "text/plain": [
       "                      doc_id  \\\n",
       "0  S1698-44472004000100009-1   \n",
       "1  S1139-76322015000300013-1   \n",
       "2  S1130-05582015000100004-1   \n",
       "3  S1887-85712015000200005-1   \n",
       "4  S1699-65852010000300002-1   \n",
       "\n",
       "                                            raw_text  \n",
       "0  Varón de 64 años de edad con tumefacción mandi...  \n",
       "1  Niña de tres años que acude a Urgencias tras l...  \n",
       "2  Se presenta el caso de una mujer de 60 años de...  \n",
       "3  Paciente varón de cinco años de edad que tras ...  \n",
       "4  LTR. Paciente de sexo masculino, de 32 años de...  "
      ]
     },
     "execution_count": 14,
     "metadata": {},
     "output_type": "execute_result"
    }
   ],
   "source": [
    "df_text_dev.head()"
   ]
  },
  {
   "cell_type": "code",
   "execution_count": 15,
   "metadata": {},
   "outputs": [
    {
     "data": {
      "text/plain": [
       "'Varón de 64 años de edad con tumefacción mandibular derecha de 6 meses de evolución. La radiografía simple mostraba una lesión expansiva bien delimitada, osteolítica, multiloculada, localizada en rama horizontal mandibular. La tomografía computerizada presentaba una lesión expansiva con destrucción de la cortical ósea. Con el diagnóstico provisional de probable ameloblastoma se procedió a la resección-biopsia de la lesión. Mediante incisión interpapilar se expuso la mandíbula que mostraba la superficie abombada y destruída por una tumoración carnosa de consistencia densa que rodeaba la rama del nervio dentario inferior. Tras un cuidadoso curetaje de la cavidad ósea se reconstruyó la mandíbula y se repuso la mucosa. No hubo complicaciones postquirúrgicas.\\n\\nEl material remitido a Anatomía Patológica consistía en fragmentos tumorales de unos 2x1.5 cm, blanco-grisáceos al corte y de consistencia firme. Se tomaron diversas muestras que tras fijarse en formaldehído se incluyeron en parafina y se procesaron mediante técnicas de rutina: se cortaron secciones de 4m de grosor que se tiñeron con hematoxilina-eosina. Se procedió a estudio inmunohistoquímico de cortes representativos mediante el método avidina-biotina peroxidasa, utilizando anticuerpos primarios anti antígeno de membrana epitelial EMA, (Dako M613, USA, 10/500), proteína S-100 (Dako, L1845, USA, prediluída), neurofilamentos (Biogenex 6670-0154, USA), enolasa neuroespecífica NSE, (Biogenex MU055-VC, USA, 10/1000), CD57 (Becton-Dickinson 7660, USA, 10/500), CD34 (Becton-Dickinson 7660, USA, 10/500), a-actina de músculo liso (Dako MO851, USA, 10/200), desmina (Dako M760, USA, 10/500), y vimentina (Shandon 402255, USA, pred.). El proceso se realizó siguiendo el protocolo estándar, utilizando controles positivos y negativos.\\nLa hibridización in situ con fluorescencia (FISH) se realizó en cortes parafinados de 50m de espesor mediante un mezclador de doble color LSI BCR/ABL (VYSIS Inc, Downers Grove, USA) siguiendo el procedimiento recomendado por el fabricante y se examinaron con un microscopio de fluorescencia Nikon con un filtro de triple banda, siendo estudiados un centenar de núcleos por dos de los autores.\\nHistológicamente los fragmentos tumorales estaban constituídos por células alargadas de forma y tamaño regulares dispuestas en haces entrelazados y en remolinos estructurados en \"bulbo de cebolla\". La densidad celular y del estroma intercelular eran variables, con algunas zonas mostrando aspecto mixoide. No se apreciaron células dispuestas en empalizada ni se observaron pleomorfimso celular o mitosis atípicas. En la periferia de algunos fragmentos se identificaron fibras residuales del tronco nervioso mandibular. Con el diagnóstico provisional de PIN se procedió a los examenes complementarios.\\n\\nLa inmunohistoquímica mostró que las células tumorales eran intensamente positivas para el EMA y la vimentina y negativas para la proteína S-100, NSE, colágeno IV, CD57, a-actina de músculo liso, desmina y CD34. Las células de Schwann en los remolinos eran positivas para la proteína S-100 y en el centro de los \"bulbos\" se identificaron axones positivos para el antígeno anti-neurofilamento. Las fibras residuales del nervio dentario eran positivas para la proteína S-100, la NSE y los neurofilamentos y el perineurio positivo para el EMA.\\n\\nLa hibridización in situ con fluorescencia reveló una delección del brazo largo del cromosoma 22 (22q11) en los núcleos del 75% de las células tumorales así como pérdida de centrómero del cromosoma 22.\\n\\n'"
      ]
     },
     "execution_count": 15,
     "metadata": {},
     "output_type": "execute_result"
    }
   ],
   "source": [
    "df_text_dev.raw_text[0]"
   ]
  },
  {
   "cell_type": "markdown",
   "metadata": {},
   "source": [
    "We also load the CIE-Procedimiento codes table:"
   ]
  },
  {
   "cell_type": "code",
   "execution_count": 16,
   "metadata": {},
   "outputs": [],
   "source": [
    "df_codes_dev = pd.read_table(corpus_path + \"dev/devP.tsv\", sep='\\t', header=None)"
   ]
  },
  {
   "cell_type": "code",
   "execution_count": 17,
   "metadata": {},
   "outputs": [],
   "source": [
    "df_codes_dev.columns = [\"doc_id\", \"code\"]"
   ]
  },
  {
   "cell_type": "code",
   "execution_count": 18,
   "metadata": {},
   "outputs": [
    {
     "data": {
      "text/plain": [
       "(817, 2)"
      ]
     },
     "execution_count": 18,
     "metadata": {},
     "output_type": "execute_result"
    }
   ],
   "source": [
    "df_codes_dev.shape"
   ]
  },
  {
   "cell_type": "code",
   "execution_count": 19,
   "metadata": {},
   "outputs": [
    {
     "data": {
      "text/html": [
       "<div>\n",
       "<style scoped>\n",
       "    .dataframe tbody tr th:only-of-type {\n",
       "        vertical-align: middle;\n",
       "    }\n",
       "\n",
       "    .dataframe tbody tr th {\n",
       "        vertical-align: top;\n",
       "    }\n",
       "\n",
       "    .dataframe thead th {\n",
       "        text-align: right;\n",
       "    }\n",
       "</style>\n",
       "<table border=\"1\" class=\"dataframe\">\n",
       "  <thead>\n",
       "    <tr style=\"text-align: right;\">\n",
       "      <th></th>\n",
       "      <th>doc_id</th>\n",
       "      <th>code</th>\n",
       "    </tr>\n",
       "  </thead>\n",
       "  <tbody>\n",
       "    <tr>\n",
       "      <th>0</th>\n",
       "      <td>S0004-06142005000900016-1</td>\n",
       "      <td>bt41zzz</td>\n",
       "    </tr>\n",
       "    <tr>\n",
       "      <th>1</th>\n",
       "      <td>S0004-06142005000900016-1</td>\n",
       "      <td>ct13</td>\n",
       "    </tr>\n",
       "    <tr>\n",
       "      <th>2</th>\n",
       "      <td>S0004-06142005001000011-1</td>\n",
       "      <td>3e1m39z</td>\n",
       "    </tr>\n",
       "    <tr>\n",
       "      <th>3</th>\n",
       "      <td>S0004-06142005001000011-1</td>\n",
       "      <td>0tcb</td>\n",
       "    </tr>\n",
       "    <tr>\n",
       "      <th>4</th>\n",
       "      <td>S0004-06142005001000011-1</td>\n",
       "      <td>bt02</td>\n",
       "    </tr>\n",
       "  </tbody>\n",
       "</table>\n",
       "</div>"
      ],
      "text/plain": [
       "                      doc_id     code\n",
       "0  S0004-06142005000900016-1  bt41zzz\n",
       "1  S0004-06142005000900016-1     ct13\n",
       "2  S0004-06142005001000011-1  3e1m39z\n",
       "3  S0004-06142005001000011-1     0tcb\n",
       "4  S0004-06142005001000011-1     bt02"
      ]
     },
     "execution_count": 19,
     "metadata": {},
     "output_type": "execute_result"
    }
   ],
   "source": [
    "df_codes_dev.head()"
   ]
  },
  {
   "cell_type": "code",
   "execution_count": 20,
   "metadata": {},
   "outputs": [
    {
     "data": {
      "text/plain": [
       "222"
      ]
     },
     "execution_count": 20,
     "metadata": {},
     "output_type": "execute_result"
    }
   ],
   "source": [
    "len(set(df_codes_dev[\"doc_id\"]))"
   ]
  },
  {
   "cell_type": "markdown",
   "metadata": {},
   "source": [
    "We join the training and development CodiEsp codes dataframes together:"
   ]
  },
  {
   "cell_type": "code",
   "execution_count": 21,
   "metadata": {},
   "outputs": [],
   "source": [
    "df_codes_train_dev = pd.concat([df_codes_train, df_codes_dev])"
   ]
  },
  {
   "cell_type": "code",
   "execution_count": 22,
   "metadata": {},
   "outputs": [
    {
     "data": {
      "text/plain": [
       "(2367, 2)"
      ]
     },
     "execution_count": 22,
     "metadata": {},
     "output_type": "execute_result"
    }
   ],
   "source": [
    "df_codes_train_dev.shape"
   ]
  },
  {
   "cell_type": "code",
   "execution_count": 23,
   "metadata": {},
   "outputs": [
    {
     "data": {
      "text/html": [
       "<div>\n",
       "<style scoped>\n",
       "    .dataframe tbody tr th:only-of-type {\n",
       "        vertical-align: middle;\n",
       "    }\n",
       "\n",
       "    .dataframe tbody tr th {\n",
       "        vertical-align: top;\n",
       "    }\n",
       "\n",
       "    .dataframe thead th {\n",
       "        text-align: right;\n",
       "    }\n",
       "</style>\n",
       "<table border=\"1\" class=\"dataframe\">\n",
       "  <thead>\n",
       "    <tr style=\"text-align: right;\">\n",
       "      <th></th>\n",
       "      <th>doc_id</th>\n",
       "      <th>code</th>\n",
       "    </tr>\n",
       "  </thead>\n",
       "  <tbody>\n",
       "    <tr>\n",
       "      <th>0</th>\n",
       "      <td>S0004-06142005000700014-1</td>\n",
       "      <td>bw03zzz</td>\n",
       "    </tr>\n",
       "    <tr>\n",
       "      <th>1</th>\n",
       "      <td>S0004-06142005000700014-1</td>\n",
       "      <td>3e02329</td>\n",
       "    </tr>\n",
       "    <tr>\n",
       "      <th>2</th>\n",
       "      <td>S0004-06142005000700014-1</td>\n",
       "      <td>bw40zzz</td>\n",
       "    </tr>\n",
       "    <tr>\n",
       "      <th>3</th>\n",
       "      <td>S0004-06142005000700014-1</td>\n",
       "      <td>bv44zzz</td>\n",
       "    </tr>\n",
       "    <tr>\n",
       "      <th>4</th>\n",
       "      <td>S0004-06142005000700014-1</td>\n",
       "      <td>bn20</td>\n",
       "    </tr>\n",
       "  </tbody>\n",
       "</table>\n",
       "</div>"
      ],
      "text/plain": [
       "                      doc_id     code\n",
       "0  S0004-06142005000700014-1  bw03zzz\n",
       "1  S0004-06142005000700014-1  3e02329\n",
       "2  S0004-06142005000700014-1  bw40zzz\n",
       "3  S0004-06142005000700014-1  bv44zzz\n",
       "4  S0004-06142005000700014-1     bn20"
      ]
     },
     "execution_count": 23,
     "metadata": {},
     "output_type": "execute_result"
    }
   ],
   "source": [
    "df_codes_train_dev.head()"
   ]
  },
  {
   "cell_type": "markdown",
   "metadata": {},
   "source": [
    "## Creating corpora of annotated sentences\n",
    "\n",
    "Leveraging the information available for the named-entity-recognition and normalization (NER-N) CodiEsp-X task, we create both a training and a development corpus of annotated sentences with CIE-Procedimiento codes."
   ]
  },
  {
   "cell_type": "markdown",
   "metadata": {},
   "source": [
    "Firstly, we pre-process the NER-N precedure-codes annotations available for both the training and development corpora."
   ]
  },
  {
   "cell_type": "code",
   "execution_count": 24,
   "metadata": {},
   "outputs": [],
   "source": [
    "# Training corpus"
   ]
  },
  {
   "cell_type": "code",
   "execution_count": 25,
   "metadata": {},
   "outputs": [
    {
     "name": "stdout",
     "output_type": "stream",
     "text": [
      "CPU times: user 35.9 ms, sys: 3.71 ms, total: 39.6 ms\n",
      "Wall time: 38.8 ms\n"
     ]
    }
   ],
   "source": [
    "%%time\n",
    "\n",
    "codiesp_x_train = pd.read_table(corpus_path + \"train/trainX.tsv\", sep='\\t', header=None)"
   ]
  },
  {
   "cell_type": "code",
   "execution_count": 26,
   "metadata": {},
   "outputs": [],
   "source": [
    "codiesp_x_train.columns = [\"doc_id\", \"type\", \"code\", \"word\", \"location\"]"
   ]
  },
  {
   "cell_type": "code",
   "execution_count": 27,
   "metadata": {},
   "outputs": [
    {
     "data": {
      "text/plain": [
       "(9181, 5)"
      ]
     },
     "execution_count": 27,
     "metadata": {},
     "output_type": "execute_result"
    }
   ],
   "source": [
    "codiesp_x_train.shape"
   ]
  },
  {
   "cell_type": "code",
   "execution_count": 28,
   "metadata": {},
   "outputs": [
    {
     "data": {
      "text/html": [
       "<div>\n",
       "<style scoped>\n",
       "    .dataframe tbody tr th:only-of-type {\n",
       "        vertical-align: middle;\n",
       "    }\n",
       "\n",
       "    .dataframe tbody tr th {\n",
       "        vertical-align: top;\n",
       "    }\n",
       "\n",
       "    .dataframe thead th {\n",
       "        text-align: right;\n",
       "    }\n",
       "</style>\n",
       "<table border=\"1\" class=\"dataframe\">\n",
       "  <thead>\n",
       "    <tr style=\"text-align: right;\">\n",
       "      <th></th>\n",
       "      <th>doc_id</th>\n",
       "      <th>type</th>\n",
       "      <th>code</th>\n",
       "      <th>word</th>\n",
       "      <th>location</th>\n",
       "    </tr>\n",
       "  </thead>\n",
       "  <tbody>\n",
       "    <tr>\n",
       "      <th>0</th>\n",
       "      <td>S0004-06142005000700014-1</td>\n",
       "      <td>PROCEDIMIENTO</td>\n",
       "      <td>bw03zzz</td>\n",
       "      <td>Rx tórax</td>\n",
       "      <td>2163 2171</td>\n",
       "    </tr>\n",
       "    <tr>\n",
       "      <th>1</th>\n",
       "      <td>S0004-06142005000700014-1</td>\n",
       "      <td>PROCEDIMIENTO</td>\n",
       "      <td>3e02329</td>\n",
       "      <td>Estreptomicina intramuscular</td>\n",
       "      <td>2787 2801;2810 2823</td>\n",
       "    </tr>\n",
       "    <tr>\n",
       "      <th>2</th>\n",
       "      <td>S0004-06142005000700014-1</td>\n",
       "      <td>DIAGNOSTICO</td>\n",
       "      <td>n44.8</td>\n",
       "      <td>teste derecho aumentado de tamaño</td>\n",
       "      <td>1343 1376</td>\n",
       "    </tr>\n",
       "    <tr>\n",
       "      <th>3</th>\n",
       "      <td>S0004-06142005000700014-1</td>\n",
       "      <td>DIAGNOSTICO</td>\n",
       "      <td>z20.818</td>\n",
       "      <td>exposición a Brucella</td>\n",
       "      <td>594 615</td>\n",
       "    </tr>\n",
       "    <tr>\n",
       "      <th>4</th>\n",
       "      <td>S0004-06142005000700014-1</td>\n",
       "      <td>DIAGNOSTICO</td>\n",
       "      <td>r60.9</td>\n",
       "      <td>edemas</td>\n",
       "      <td>1250 1256</td>\n",
       "    </tr>\n",
       "  </tbody>\n",
       "</table>\n",
       "</div>"
      ],
      "text/plain": [
       "                      doc_id           type     code  \\\n",
       "0  S0004-06142005000700014-1  PROCEDIMIENTO  bw03zzz   \n",
       "1  S0004-06142005000700014-1  PROCEDIMIENTO  3e02329   \n",
       "2  S0004-06142005000700014-1    DIAGNOSTICO    n44.8   \n",
       "3  S0004-06142005000700014-1    DIAGNOSTICO  z20.818   \n",
       "4  S0004-06142005000700014-1    DIAGNOSTICO    r60.9   \n",
       "\n",
       "                                word             location  \n",
       "0                           Rx tórax            2163 2171  \n",
       "1       Estreptomicina intramuscular  2787 2801;2810 2823  \n",
       "2  teste derecho aumentado de tamaño            1343 1376  \n",
       "3              exposición a Brucella              594 615  \n",
       "4                             edemas            1250 1256  "
      ]
     },
     "execution_count": 28,
     "metadata": {},
     "output_type": "execute_result"
    }
   ],
   "source": [
    "codiesp_x_train.head()"
   ]
  },
  {
   "cell_type": "code",
   "execution_count": 29,
   "metadata": {},
   "outputs": [],
   "source": [
    "codiesp_x_train = codiesp_x_train[codiesp_x_train[\"type\"] == \"PROCEDIMIENTO\"]"
   ]
  },
  {
   "cell_type": "code",
   "execution_count": 30,
   "metadata": {},
   "outputs": [
    {
     "data": {
      "text/plain": [
       "(1972, 5)"
      ]
     },
     "execution_count": 30,
     "metadata": {},
     "output_type": "execute_result"
    }
   ],
   "source": [
    "codiesp_x_train.shape"
   ]
  },
  {
   "cell_type": "code",
   "execution_count": 31,
   "metadata": {},
   "outputs": [],
   "source": [
    "df_codes_train_ner = process_ner_labels(codiesp_x_train).sort_values([\"doc_id\", \"start\", \"end\"])"
   ]
  },
  {
   "cell_type": "code",
   "execution_count": 32,
   "metadata": {},
   "outputs": [
    {
     "data": {
      "text/html": [
       "<div>\n",
       "<style scoped>\n",
       "    .dataframe tbody tr th:only-of-type {\n",
       "        vertical-align: middle;\n",
       "    }\n",
       "\n",
       "    .dataframe tbody tr th {\n",
       "        vertical-align: top;\n",
       "    }\n",
       "\n",
       "    .dataframe thead th {\n",
       "        text-align: right;\n",
       "    }\n",
       "</style>\n",
       "<table border=\"1\" class=\"dataframe\">\n",
       "  <thead>\n",
       "    <tr style=\"text-align: right;\">\n",
       "      <th></th>\n",
       "      <th>doc_id</th>\n",
       "      <th>type</th>\n",
       "      <th>code</th>\n",
       "      <th>word</th>\n",
       "      <th>start</th>\n",
       "      <th>end</th>\n",
       "    </tr>\n",
       "  </thead>\n",
       "  <tbody>\n",
       "    <tr>\n",
       "      <th>0</th>\n",
       "      <td>S0004-06142005000700014-1</td>\n",
       "      <td>PROCEDIMIENTO</td>\n",
       "      <td>bw03zzz</td>\n",
       "      <td>Rx tórax</td>\n",
       "      <td>2163</td>\n",
       "      <td>2171</td>\n",
       "    </tr>\n",
       "    <tr>\n",
       "      <th>3</th>\n",
       "      <td>S0004-06142005000700014-1</td>\n",
       "      <td>PROCEDIMIENTO</td>\n",
       "      <td>bw40zzz</td>\n",
       "      <td>Ecografía abdominal</td>\n",
       "      <td>2173</td>\n",
       "      <td>2192</td>\n",
       "    </tr>\n",
       "    <tr>\n",
       "      <th>5</th>\n",
       "      <td>S0004-06142005000700014-1</td>\n",
       "      <td>PROCEDIMIENTO</td>\n",
       "      <td>bn20</td>\n",
       "      <td>TAC craneal</td>\n",
       "      <td>2194</td>\n",
       "      <td>2205</td>\n",
       "    </tr>\n",
       "    <tr>\n",
       "      <th>4</th>\n",
       "      <td>S0004-06142005000700014-1</td>\n",
       "      <td>PROCEDIMIENTO</td>\n",
       "      <td>bv44zzz</td>\n",
       "      <td>Ecografía testicular</td>\n",
       "      <td>2287</td>\n",
       "      <td>2307</td>\n",
       "    </tr>\n",
       "    <tr>\n",
       "      <th>1</th>\n",
       "      <td>S0004-06142005000700014-1</td>\n",
       "      <td>PROCEDIMIENTO</td>\n",
       "      <td>3e02329</td>\n",
       "      <td>Estreptomicina intramuscular</td>\n",
       "      <td>2787</td>\n",
       "      <td>2801</td>\n",
       "    </tr>\n",
       "  </tbody>\n",
       "</table>\n",
       "</div>"
      ],
      "text/plain": [
       "                      doc_id           type     code  \\\n",
       "0  S0004-06142005000700014-1  PROCEDIMIENTO  bw03zzz   \n",
       "3  S0004-06142005000700014-1  PROCEDIMIENTO  bw40zzz   \n",
       "5  S0004-06142005000700014-1  PROCEDIMIENTO     bn20   \n",
       "4  S0004-06142005000700014-1  PROCEDIMIENTO  bv44zzz   \n",
       "1  S0004-06142005000700014-1  PROCEDIMIENTO  3e02329   \n",
       "\n",
       "                           word start   end  \n",
       "0                      Rx tórax  2163  2171  \n",
       "3           Ecografía abdominal  2173  2192  \n",
       "5                   TAC craneal  2194  2205  \n",
       "4          Ecografía testicular  2287  2307  \n",
       "1  Estreptomicina intramuscular  2787  2801  "
      ]
     },
     "execution_count": 32,
     "metadata": {},
     "output_type": "execute_result"
    }
   ],
   "source": [
    "df_codes_train_ner.head()"
   ]
  },
  {
   "cell_type": "code",
   "execution_count": 33,
   "metadata": {},
   "outputs": [
    {
     "data": {
      "text/plain": [
       "(2769, 6)"
      ]
     },
     "execution_count": 33,
     "metadata": {},
     "output_type": "execute_result"
    }
   ],
   "source": [
    "df_codes_train_ner.shape"
   ]
  },
  {
   "cell_type": "code",
   "execution_count": 34,
   "metadata": {},
   "outputs": [],
   "source": [
    "# Development corpus"
   ]
  },
  {
   "cell_type": "code",
   "execution_count": 35,
   "metadata": {},
   "outputs": [
    {
     "name": "stdout",
     "output_type": "stream",
     "text": [
      "CPU times: user 23.9 ms, sys: 0 ns, total: 23.9 ms\n",
      "Wall time: 23.2 ms\n"
     ]
    }
   ],
   "source": [
    "%%time\n",
    "\n",
    "codiesp_x_dev = pd.read_table(corpus_path + \"dev/devX.tsv\", sep='\\t', header=None)"
   ]
  },
  {
   "cell_type": "code",
   "execution_count": 36,
   "metadata": {},
   "outputs": [],
   "source": [
    "codiesp_x_dev.columns = [\"doc_id\", \"type\", \"code\", \"word\", \"location\"]"
   ]
  },
  {
   "cell_type": "code",
   "execution_count": 37,
   "metadata": {},
   "outputs": [
    {
     "data": {
      "text/plain": [
       "(4477, 5)"
      ]
     },
     "execution_count": 37,
     "metadata": {},
     "output_type": "execute_result"
    }
   ],
   "source": [
    "codiesp_x_dev.shape"
   ]
  },
  {
   "cell_type": "code",
   "execution_count": 38,
   "metadata": {},
   "outputs": [
    {
     "data": {
      "text/html": [
       "<div>\n",
       "<style scoped>\n",
       "    .dataframe tbody tr th:only-of-type {\n",
       "        vertical-align: middle;\n",
       "    }\n",
       "\n",
       "    .dataframe tbody tr th {\n",
       "        vertical-align: top;\n",
       "    }\n",
       "\n",
       "    .dataframe thead th {\n",
       "        text-align: right;\n",
       "    }\n",
       "</style>\n",
       "<table border=\"1\" class=\"dataframe\">\n",
       "  <thead>\n",
       "    <tr style=\"text-align: right;\">\n",
       "      <th></th>\n",
       "      <th>doc_id</th>\n",
       "      <th>type</th>\n",
       "      <th>code</th>\n",
       "      <th>word</th>\n",
       "      <th>location</th>\n",
       "    </tr>\n",
       "  </thead>\n",
       "  <tbody>\n",
       "    <tr>\n",
       "      <th>0</th>\n",
       "      <td>S0004-06142005000900016-1</td>\n",
       "      <td>PROCEDIMIENTO</td>\n",
       "      <td>bt41zzz</td>\n",
       "      <td>ecografía renal derecha</td>\n",
       "      <td>307 316;348 361</td>\n",
       "    </tr>\n",
       "    <tr>\n",
       "      <th>1</th>\n",
       "      <td>S0004-06142005000900016-1</td>\n",
       "      <td>PROCEDIMIENTO</td>\n",
       "      <td>ct13</td>\n",
       "      <td>gammagrafía renal</td>\n",
       "      <td>739 756</td>\n",
       "    </tr>\n",
       "    <tr>\n",
       "      <th>2</th>\n",
       "      <td>S0004-06142005000900016-1</td>\n",
       "      <td>DIAGNOSTICO</td>\n",
       "      <td>q62.11</td>\n",
       "      <td>estenosis en la unión pieloureteral derecha</td>\n",
       "      <td>540 583</td>\n",
       "    </tr>\n",
       "    <tr>\n",
       "      <th>3</th>\n",
       "      <td>S0004-06142005000900016-1</td>\n",
       "      <td>DIAGNOSTICO</td>\n",
       "      <td>n28.89</td>\n",
       "      <td>ectasia pielocalicial</td>\n",
       "      <td>326 347</td>\n",
       "    </tr>\n",
       "    <tr>\n",
       "      <th>4</th>\n",
       "      <td>S0004-06142005000900016-1</td>\n",
       "      <td>DIAGNOSTICO</td>\n",
       "      <td>n39.0</td>\n",
       "      <td>infecciones del tracto urinario</td>\n",
       "      <td>198 229</td>\n",
       "    </tr>\n",
       "  </tbody>\n",
       "</table>\n",
       "</div>"
      ],
      "text/plain": [
       "                      doc_id           type     code  \\\n",
       "0  S0004-06142005000900016-1  PROCEDIMIENTO  bt41zzz   \n",
       "1  S0004-06142005000900016-1  PROCEDIMIENTO     ct13   \n",
       "2  S0004-06142005000900016-1    DIAGNOSTICO   q62.11   \n",
       "3  S0004-06142005000900016-1    DIAGNOSTICO   n28.89   \n",
       "4  S0004-06142005000900016-1    DIAGNOSTICO    n39.0   \n",
       "\n",
       "                                          word         location  \n",
       "0                      ecografía renal derecha  307 316;348 361  \n",
       "1                            gammagrafía renal          739 756  \n",
       "2  estenosis en la unión pieloureteral derecha          540 583  \n",
       "3                        ectasia pielocalicial          326 347  \n",
       "4              infecciones del tracto urinario          198 229  "
      ]
     },
     "execution_count": 38,
     "metadata": {},
     "output_type": "execute_result"
    }
   ],
   "source": [
    "codiesp_x_dev.head()"
   ]
  },
  {
   "cell_type": "code",
   "execution_count": 39,
   "metadata": {},
   "outputs": [],
   "source": [
    "codiesp_x_dev = codiesp_x_dev[codiesp_x_dev[\"type\"] == \"PROCEDIMIENTO\"]"
   ]
  },
  {
   "cell_type": "code",
   "execution_count": 40,
   "metadata": {},
   "outputs": [
    {
     "data": {
      "text/plain": [
       "(1046, 5)"
      ]
     },
     "execution_count": 40,
     "metadata": {},
     "output_type": "execute_result"
    }
   ],
   "source": [
    "codiesp_x_dev.shape"
   ]
  },
  {
   "cell_type": "code",
   "execution_count": 41,
   "metadata": {},
   "outputs": [],
   "source": [
    "df_codes_dev_ner = process_ner_labels(codiesp_x_dev).sort_values([\"doc_id\", \"start\", \"end\"])"
   ]
  },
  {
   "cell_type": "code",
   "execution_count": 42,
   "metadata": {},
   "outputs": [
    {
     "data": {
      "text/html": [
       "<div>\n",
       "<style scoped>\n",
       "    .dataframe tbody tr th:only-of-type {\n",
       "        vertical-align: middle;\n",
       "    }\n",
       "\n",
       "    .dataframe tbody tr th {\n",
       "        vertical-align: top;\n",
       "    }\n",
       "\n",
       "    .dataframe thead th {\n",
       "        text-align: right;\n",
       "    }\n",
       "</style>\n",
       "<table border=\"1\" class=\"dataframe\">\n",
       "  <thead>\n",
       "    <tr style=\"text-align: right;\">\n",
       "      <th></th>\n",
       "      <th>doc_id</th>\n",
       "      <th>type</th>\n",
       "      <th>code</th>\n",
       "      <th>word</th>\n",
       "      <th>start</th>\n",
       "      <th>end</th>\n",
       "    </tr>\n",
       "  </thead>\n",
       "  <tbody>\n",
       "    <tr>\n",
       "      <th>0</th>\n",
       "      <td>S0004-06142005000900016-1</td>\n",
       "      <td>PROCEDIMIENTO</td>\n",
       "      <td>bt41zzz</td>\n",
       "      <td>ecografía renal derecha</td>\n",
       "      <td>307</td>\n",
       "      <td>316</td>\n",
       "    </tr>\n",
       "    <tr>\n",
       "      <th>1</th>\n",
       "      <td>S0004-06142005000900016-1</td>\n",
       "      <td>PROCEDIMIENTO</td>\n",
       "      <td>bt41zzz</td>\n",
       "      <td>ecografía renal derecha</td>\n",
       "      <td>348</td>\n",
       "      <td>361</td>\n",
       "    </tr>\n",
       "    <tr>\n",
       "      <th>2</th>\n",
       "      <td>S0004-06142005000900016-1</td>\n",
       "      <td>PROCEDIMIENTO</td>\n",
       "      <td>ct13</td>\n",
       "      <td>gammagrafía renal</td>\n",
       "      <td>739</td>\n",
       "      <td>756</td>\n",
       "    </tr>\n",
       "    <tr>\n",
       "      <th>3</th>\n",
       "      <td>S0004-06142005001000011-1</td>\n",
       "      <td>PROCEDIMIENTO</td>\n",
       "      <td>3e1m39z</td>\n",
       "      <td>diálisis peritoneal</td>\n",
       "      <td>95</td>\n",
       "      <td>114</td>\n",
       "    </tr>\n",
       "    <tr>\n",
       "      <th>7</th>\n",
       "      <td>S0004-06142005001000011-1</td>\n",
       "      <td>PROCEDIMIENTO</td>\n",
       "      <td>0270</td>\n",
       "      <td>angioplastia transluminal de la coronaria derecha</td>\n",
       "      <td>424</td>\n",
       "      <td>473</td>\n",
       "    </tr>\n",
       "  </tbody>\n",
       "</table>\n",
       "</div>"
      ],
      "text/plain": [
       "                      doc_id           type     code  \\\n",
       "0  S0004-06142005000900016-1  PROCEDIMIENTO  bt41zzz   \n",
       "1  S0004-06142005000900016-1  PROCEDIMIENTO  bt41zzz   \n",
       "2  S0004-06142005000900016-1  PROCEDIMIENTO     ct13   \n",
       "3  S0004-06142005001000011-1  PROCEDIMIENTO  3e1m39z   \n",
       "7  S0004-06142005001000011-1  PROCEDIMIENTO     0270   \n",
       "\n",
       "                                                word start  end  \n",
       "0                            ecografía renal derecha   307  316  \n",
       "1                            ecografía renal derecha   348  361  \n",
       "2                                  gammagrafía renal   739  756  \n",
       "3                                diálisis peritoneal    95  114  \n",
       "7  angioplastia transluminal de la coronaria derecha   424  473  "
      ]
     },
     "execution_count": 42,
     "metadata": {},
     "output_type": "execute_result"
    }
   ],
   "source": [
    "df_codes_dev_ner.head()"
   ]
  },
  {
   "cell_type": "code",
   "execution_count": 43,
   "metadata": {},
   "outputs": [
    {
     "data": {
      "text/plain": [
       "(1540, 6)"
      ]
     },
     "execution_count": 43,
     "metadata": {},
     "output_type": "execute_result"
    }
   ],
   "source": [
    "df_codes_dev_ner.shape"
   ]
  },
  {
   "cell_type": "markdown",
   "metadata": {},
   "source": [
    "Now, using the character start-end positions of each sentence from the CodiEsp corpus (see `datasets/CodiEsp-Sentence-Split.ipynb`), we annotate the sentences with CIE-Procedimiento codes. Also, using XLM-R tokenizer, each sentence is converted into a sequence of subwords, which are further converted into vocabulary indices (input IDs) and attention mask arrays (XLM-R input tensors). We also generate a *fragments* dataset indicating the number of produced annotated sentences for each document."
   ]
  },
  {
   "cell_type": "code",
   "execution_count": 44,
   "metadata": {},
   "outputs": [],
   "source": [
    "# Sentence-Split information\n",
    "ss_corpus_path = \"../datasets/CodiEsp-SSplit-text_SE_All_Pos/\""
   ]
  },
  {
   "cell_type": "markdown",
   "metadata": {},
   "source": [
    "### Training corpus"
   ]
  },
  {
   "cell_type": "code",
   "execution_count": 45,
   "metadata": {},
   "outputs": [],
   "source": [
    "label_list = list(df_codes_train_dev[\"code\"])"
   ]
  },
  {
   "cell_type": "code",
   "execution_count": 46,
   "metadata": {},
   "outputs": [
    {
     "data": {
      "text/plain": [
       "2367"
      ]
     },
     "execution_count": 46,
     "metadata": {},
     "output_type": "execute_result"
    }
   ],
   "source": [
    "len(label_list)"
   ]
  },
  {
   "cell_type": "code",
   "execution_count": 47,
   "metadata": {},
   "outputs": [
    {
     "data": {
      "text/plain": [
       "727"
      ]
     },
     "execution_count": 47,
     "metadata": {},
     "output_type": "execute_result"
    }
   ],
   "source": [
    "len(set(label_list))"
   ]
  },
  {
   "cell_type": "code",
   "execution_count": 48,
   "metadata": {},
   "outputs": [
    {
     "data": {
      "text/plain": [
       "MultiLabelBinarizer()"
      ]
     },
     "execution_count": 48,
     "metadata": {},
     "output_type": "execute_result"
    }
   ],
   "source": [
    "from sklearn.preprocessing import MultiLabelBinarizer\n",
    "\n",
    "mlb_encoder = MultiLabelBinarizer()\n",
    "mlb_encoder.fit([label_list])"
   ]
  },
  {
   "cell_type": "code",
   "execution_count": 49,
   "metadata": {},
   "outputs": [],
   "source": [
    "# Number of distinct codes\n",
    "num_labels = len(mlb_encoder.classes_)"
   ]
  },
  {
   "cell_type": "code",
   "execution_count": 50,
   "metadata": {},
   "outputs": [
    {
     "data": {
      "text/plain": [
       "727"
      ]
     },
     "execution_count": 50,
     "metadata": {},
     "output_type": "execute_result"
    }
   ],
   "source": [
    "num_labels"
   ]
  },
  {
   "cell_type": "markdown",
   "metadata": {},
   "source": [
    "Only training texts that are annotated with CIE-Procedimiento codes are considered:"
   ]
  },
  {
   "cell_type": "code",
   "execution_count": 51,
   "metadata": {},
   "outputs": [
    {
     "data": {
      "text/plain": [
       "65"
      ]
     },
     "execution_count": 51,
     "metadata": {},
     "output_type": "execute_result"
    }
   ],
   "source": [
    "# Some train documents (texts) are not annotated \n",
    "len(set(df_text_train[\"doc_id\"]) - set(df_codes_train_ner[\"doc_id\"]))"
   ]
  },
  {
   "cell_type": "code",
   "execution_count": 52,
   "metadata": {},
   "outputs": [],
   "source": [
    "train_doc_list = sorted(set(df_codes_train_ner[\"doc_id\"]))"
   ]
  },
  {
   "cell_type": "code",
   "execution_count": 53,
   "metadata": {},
   "outputs": [
    {
     "data": {
      "text/plain": [
       "435"
      ]
     },
     "execution_count": 53,
     "metadata": {},
     "output_type": "execute_result"
    }
   ],
   "source": [
    "len(train_doc_list)"
   ]
  },
  {
   "cell_type": "code",
   "execution_count": 54,
   "metadata": {},
   "outputs": [],
   "source": [
    "# Sentence-Split data"
   ]
  },
  {
   "cell_type": "code",
   "execution_count": 55,
   "metadata": {},
   "outputs": [
    {
     "name": "stdout",
     "output_type": "stream",
     "text": [
      "CPU times: user 10.5 ms, sys: 4.22 ms, total: 14.7 ms\n",
      "Wall time: 14.6 ms\n"
     ]
    }
   ],
   "source": [
    "%%time\n",
    "ss_sub_corpus_path = ss_corpus_path + \"train/\"\n",
    "ss_files = [f for f in os.listdir(ss_sub_corpus_path) if os.path.isfile(ss_sub_corpus_path + f)]\n",
    "ss_dict_train = load_ss_files(ss_files, ss_sub_corpus_path)"
   ]
  },
  {
   "cell_type": "code",
   "execution_count": 56,
   "metadata": {},
   "outputs": [
    {
     "name": "stderr",
     "output_type": "stream",
     "text": [
      "100%|██████████| 435/435 [00:04<00:00, 97.86it/s] \n"
     ]
    },
    {
     "name": "stdout",
     "output_type": "stream",
     "text": [
      "CPU times: user 4.56 s, sys: 14.6 ms, total: 4.58 s\n",
      "Wall time: 4.55 s\n"
     ]
    }
   ],
   "source": [
    "%%time\n",
    "train_ind, train_att, train_y, train_frag, train_start_end_frag = ss_create_frag_input_data_xlmr(df_text=df_text_train, \n",
    "                                                  text_col=text_col, \n",
    "                                                  df_ann=df_codes_train_ner, doc_list=train_doc_list, ss_dict=ss_dict_train,\n",
    "                                                  tokenizer=tokenizer, sp_pb2=spt, lab_encoder=mlb_encoder, seq_len=SEQ_LEN)"
   ]
  },
  {
   "cell_type": "code",
   "execution_count": 57,
   "metadata": {},
   "outputs": [],
   "source": [
    "# Sanity check"
   ]
  },
  {
   "cell_type": "code",
   "execution_count": 58,
   "metadata": {},
   "outputs": [
    {
     "data": {
      "text/plain": [
       "(7013, 128)"
      ]
     },
     "execution_count": 58,
     "metadata": {},
     "output_type": "execute_result"
    }
   ],
   "source": [
    "train_ind.shape"
   ]
  },
  {
   "cell_type": "code",
   "execution_count": 59,
   "metadata": {},
   "outputs": [
    {
     "data": {
      "text/plain": [
       "(7013, 128)"
      ]
     },
     "execution_count": 59,
     "metadata": {},
     "output_type": "execute_result"
    }
   ],
   "source": [
    "train_att.shape"
   ]
  },
  {
   "cell_type": "code",
   "execution_count": 60,
   "metadata": {},
   "outputs": [
    {
     "data": {
      "text/plain": [
       "(7013, 727)"
      ]
     },
     "execution_count": 60,
     "metadata": {},
     "output_type": "execute_result"
    }
   ],
   "source": [
    "train_y.shape"
   ]
  },
  {
   "cell_type": "code",
   "execution_count": 61,
   "metadata": {},
   "outputs": [
    {
     "data": {
      "text/plain": [
       "435"
      ]
     },
     "execution_count": 61,
     "metadata": {},
     "output_type": "execute_result"
    }
   ],
   "source": [
    "len(train_frag)"
   ]
  },
  {
   "cell_type": "code",
   "execution_count": 62,
   "metadata": {},
   "outputs": [
    {
     "data": {
      "text/plain": [
       "7013"
      ]
     },
     "execution_count": 62,
     "metadata": {},
     "output_type": "execute_result"
    }
   ],
   "source": [
    "len(train_start_end_frag)"
   ]
  },
  {
   "cell_type": "code",
   "execution_count": 63,
   "metadata": {},
   "outputs": [
    {
     "data": {
      "text/plain": [
       "count    435.000000\n",
       "mean      16.121839\n",
       "std        7.762687\n",
       "min        4.000000\n",
       "25%       10.500000\n",
       "50%       15.000000\n",
       "75%       20.000000\n",
       "max       54.000000\n",
       "dtype: float64"
      ]
     },
     "execution_count": 63,
     "metadata": {},
     "output_type": "execute_result"
    }
   ],
   "source": [
    "# Check n_frag distribution across texts\n",
    "pd.Series(train_frag).describe()"
   ]
  },
  {
   "cell_type": "code",
   "execution_count": 64,
   "metadata": {},
   "outputs": [],
   "source": [
    "# Inspect a randomly selected text and its encoded version\n",
    "check_id = np.random.randint(low=0, high=len(train_doc_list), size=1)[0]"
   ]
  },
  {
   "cell_type": "code",
   "execution_count": 65,
   "metadata": {},
   "outputs": [
    {
     "data": {
      "text/plain": [
       "241"
      ]
     },
     "execution_count": 65,
     "metadata": {},
     "output_type": "execute_result"
    }
   ],
   "source": [
    "check_id"
   ]
  },
  {
   "cell_type": "code",
   "execution_count": 66,
   "metadata": {},
   "outputs": [
    {
     "data": {
      "text/plain": [
       "'S1130-01082007001100009-1'"
      ]
     },
     "execution_count": 66,
     "metadata": {},
     "output_type": "execute_result"
    }
   ],
   "source": [
    "train_doc_list[check_id]"
   ]
  },
  {
   "cell_type": "code",
   "execution_count": 67,
   "metadata": {
    "scrolled": true
   },
   "outputs": [
    {
     "data": {
      "text/plain": [
       "'Mujer de 42 años estudiada en Consultas de Gastroenterología desde enero de 2005 por presentar rectorragia escasa al final de la deposición junto con tenesmo y dolor anal de dos años de evolución. La paciente no tenía ningún antecedente familiar ni personal de interés ni seguía ningún tratamiento médico de forma habitual. En la exploración física tan sólo se objetivó en el tacto rectal una zona indurada en la pared lateral izquierda del recto. Se realizó una analítica completa que resultó rigurosamente normal. Ante este hallazgo se decidió realizar una colonoscopia encontrándose dos pólipos milimétricos en ampolla rectal, hemorroides internas (una de ellas prolapsada) y en la cara lateral izquierda de la ampolla rectal un área eritematosa y levemente sobreelevada, de aproximadamente 2 x 2 cm, de bordes geográficos y con un aspecto indeterminado de la que se tomaron biopsias. Se planteó inicialmente el diagnóstico diferencial entre enfermedad inflamatoria intestinal (colitis ulcerosa), úlcera estercorárea y síndrome de la úlcera rectal solitaria. La anatomía patológica demostró un engrosamiento de la mucosa, con elongación y distorsión de las glándulas y una lámina propia edematosa con gran cantidad de colágeno y fibroblastos, todo ello compatible con el diagnóstico de síndrome de la úlcera rectal solitaria. Se realizó una manometría anorrectal que evidenció un volumen rectal máximo tolerable discretamente reducido y un tiempo de expulsión del balón mínimamente alargado.\\n\\n'"
      ]
     },
     "execution_count": 67,
     "metadata": {},
     "output_type": "execute_result"
    }
   ],
   "source": [
    "df_text_train[df_text_train[\"doc_id\"] == train_doc_list[check_id]][text_col].values[0]"
   ]
  },
  {
   "cell_type": "code",
   "execution_count": 68,
   "metadata": {},
   "outputs": [
    {
     "name": "stdout",
     "output_type": "stream",
     "text": [
      "[()] \n",
      "\n",
      "[()] \n",
      "\n",
      "[('0djdxzz',)] \n",
      "\n",
      "[()] \n",
      "\n",
      "[('0djd8zz',)] \n",
      "\n",
      "[()] \n",
      "\n",
      "[()] \n",
      "\n",
      "[()] \n",
      "\n"
     ]
    }
   ],
   "source": [
    "check_id_frag = sum(train_frag[:check_id])\n",
    "for i in range(check_id_frag, check_id_frag + train_frag[check_id]):\n",
    "    print(mlb_encoder.inverse_transform(np.array([train_y[i]])), \"\\n\")"
   ]
  },
  {
   "cell_type": "code",
   "execution_count": 69,
   "metadata": {},
   "outputs": [
    {
     "name": "stdout",
     "output_type": "stream",
     "text": [
      "[('▁Mu', (0, 2)), ('jer', (2, 5)), ('▁de', (5, 8)), ('▁42', (8, 11)), ('▁años', (11, 17)), ('▁estudia', (17, 25)), ('da', (25, 27)), ('▁en', (27, 30)), ('▁Consulta', (30, 39)), ('s', (39, 40)), ('▁de', (40, 43)), ('▁Gastro', (43, 50)), ('enter', (50, 55)), ('ología', (55, 62)), ('▁desde', (62, 68)), ('▁enero', (68, 74)), ('▁de', (74, 77)), ('▁2005', (77, 82)), ('▁por', (82, 86)), ('▁presentar', (86, 96)), ('▁rector', (96, 103)), ('ra', (103, 105)), ('gia', (105, 108)), ('▁esca', (108, 113)), ('sa', (113, 115)), ('▁al', (115, 118)), ('▁final', (118, 124)), ('▁de', (124, 127)), ('▁la', (127, 130)), ('▁de', (130, 133)), ('posición', (133, 142)), ('▁junto', (142, 148)), ('▁con', (148, 152)), ('▁ten', (152, 156)), ('es', (156, 158)), ('mo', (158, 160)), ('▁y', (160, 162)), ('▁dolor', (162, 168)), ('▁anal', (168, 173)), ('▁de', (173, 176)), ('▁dos', (176, 180)), ('▁años', (180, 186)), ('▁de', (186, 189)), ('▁evolución', (189, 200)), ('.', (200, 201))]\n",
      "\n",
      "\n",
      "[('▁La', (202, 204)), ('▁paciente', (204, 213)), ('▁no', (213, 216)), ('▁tenía', (216, 223)), ('▁ningún', (223, 231)), ('▁antecede', (231, 240)), ('nte', (240, 243)), ('▁familiar', (243, 252)), ('▁ni', (252, 255)), ('▁personal', (255, 264)), ('▁de', (264, 267)), ('▁interés', (267, 276)), ('▁ni', (276, 279)), ('▁', (279, 280)), ('segu', (280, 284)), ('ía', (284, 287)), ('▁ningún', (287, 295)), ('▁tratamiento', (295, 307)), ('▁médico', (307, 315)), ('▁de', (315, 318)), ('▁forma', (318, 324)), ('▁habitual', (324, 333)), ('.', (333, 334))]\n",
      "\n",
      "\n",
      "[('▁En', (335, 337)), ('▁la', (337, 340)), ('▁explora', (340, 348)), ('ción', (348, 353)), ('▁física', (353, 361)), ('▁tan', (361, 365)), ('▁sólo', (365, 371)), ('▁se', (371, 374)), ('▁obje', (374, 379)), ('ti', (379, 381)), ('vó', (381, 384)), ('▁en', (384, 387)), ('▁el', (387, 390)), ('▁tac', (390, 394)), ('to', (394, 396)), ('▁recta', (396, 402)), ('l', (402, 403)), ('▁una', (403, 407)), ('▁zona', (407, 412)), ('▁ind', (412, 416)), ('urada', (416, 421)), ('▁en', (421, 424)), ('▁la', (424, 427)), ('▁par', (427, 431)), ('ed', (431, 433)), ('▁lateral', (433, 441)), ('▁izquierda', (441, 451)), ('▁del', (451, 455)), ('▁rec', (455, 459)), ('to', (459, 461)), ('.', (461, 462))]\n",
      "\n",
      "\n",
      "[('▁Se', (463, 465)), ('▁realizó', (465, 474)), ('▁una', (474, 478)), ('▁ana', (478, 482)), ('lítica', (482, 489)), ('▁completa', (489, 498)), ('▁que', (498, 502)), ('▁result', (502, 509)), ('ó', (509, 511)), ('▁ri', (511, 514)), ('gur', (514, 517)), ('osamente', (517, 525)), ('▁normal', (525, 532)), ('.', (532, 533))]\n",
      "\n",
      "\n",
      "[('▁Ante', (534, 538)), ('▁este', (538, 543)), ('▁halla', (543, 549)), ('z', (549, 550)), ('go', (550, 552)), ('▁se', (552, 555)), ('▁decidi', (555, 562)), ('ó', (562, 564)), ('▁realizar', (564, 573)), ('▁una', (573, 577)), ('▁colon', (577, 583)), ('os', (583, 585)), ('copi', (585, 589)), ('a', (589, 590)), ('▁en', (590, 593)), ('con', (593, 596)), ('tr', (596, 598)), ('ándose', (598, 605)), ('▁dos', (605, 609)), ('▁pól', (609, 614)), ('i', (614, 615)), ('pos', (615, 618)), ('▁mili', (618, 623)), ('mé', (623, 626)), ('trico', (626, 631)), ('s', (631, 632)), ('▁en', (632, 635)), ('▁amp', (635, 639)), ('olla', (639, 643)), ('▁recta', (643, 649)), ('l', (649, 650)), (',', (650, 651)), ('▁hem', (651, 655)), ('or', (655, 657)), ('roid', (657, 661)), ('es', (661, 663)), ('▁interna', (663, 671)), ('s', (671, 672)), ('▁(', (672, 674)), ('una', (674, 677)), ('▁de', (677, 680)), ('▁ellas', (680, 686)), ('▁pro', (686, 690)), ('laps', (690, 694)), ('ada', (694, 697)), (')', (697, 698)), ('▁y', (698, 700)), ('▁en', (700, 703)), ('▁la', (703, 706)), ('▁cara', (706, 711)), ('▁lateral', (711, 719)), ('▁izquierda', (719, 729)), ('▁de', (729, 732)), ('▁la', (732, 735)), ('▁amp', (735, 739)), ('olla', (739, 743)), ('▁recta', (743, 749)), ('l', (749, 750)), ('▁un', (750, 753)), ('▁área', (753, 759)), ('▁er', (759, 762)), ('ite', (762, 765)), ('mat', (765, 768)), ('osa', (768, 771)), ('▁y', (771, 773)), ('▁leve', (773, 778)), ('mente', (778, 783)), ('▁sobre', (783, 789)), ('ele', (789, 792)), ('vada', (792, 796)), (',', (796, 797)), ('▁de', (797, 800)), ('▁aproximadamente', (800, 816)), ('▁2', (816, 818)), ('▁x', (818, 820)), ('▁2', (820, 822)), ('▁cm', (822, 825)), (',', (825, 826)), ('▁de', (826, 829)), ('▁borde', (829, 835)), ('s', (835, 836)), ('▁geo', (836, 840)), ('gráficos', (840, 849)), ('▁y', (849, 851)), ('▁con', (851, 855)), ('▁un', (855, 858)), ('▁aspecto', (858, 866)), ('▁in', (866, 869)), ('determina', (869, 878)), ('do', (878, 880)), ('▁de', (880, 883)), ('▁la', (883, 886)), ('▁que', (886, 890)), ('▁se', (890, 893)), ('▁tomar', (893, 899)), ('on', (899, 901)), ('▁bio', (901, 905)), ('psi', (905, 908)), ('as', (908, 910)), ('.', (910, 911))]\n",
      "\n",
      "\n",
      "[('▁Se', (912, 914)), ('▁plante', (914, 921)), ('ó', (921, 923)), ('▁inicialmente', (923, 936)), ('▁el', (936, 939)), ('▁diagnóstico', (939, 952)), ('▁diferencia', (952, 963)), ('l', (963, 964)), ('▁entre', (964, 970)), ('▁enfermedad', (970, 981)), ('▁inflama', (981, 989)), ('toria', (989, 994)), ('▁intestinal', (994, 1005)), ('▁(', (1005, 1007)), ('coli', (1007, 1011)), ('tis', (1011, 1014)), ('▁ul', (1014, 1017)), ('cer', (1017, 1020)), ('osa', (1020, 1023)), ('),', (1023, 1025)), ('▁', (1025, 1026)), ('úl', (1026, 1029)), ('cera', (1029, 1033)), ('▁este', (1033, 1038)), ('r', (1038, 1039)), ('co', (1039, 1041)), ('rá', (1041, 1044)), ('rea', (1044, 1047)), ('▁y', (1047, 1049)), ('▁síndrome', (1049, 1059)), ('▁de', (1059, 1062)), ('▁la', (1062, 1065)), ('▁', (1065, 1066)), ('úl', (1066, 1069)), ('cera', (1069, 1073)), ('▁recta', (1073, 1079)), ('l', (1079, 1080)), ('▁solitari', (1080, 1089)), ('a', (1089, 1090)), ('.', (1090, 1091))]\n",
      "\n",
      "\n",
      "[('▁La', (1092, 1094)), ('▁anat', (1094, 1099)), ('om', (1099, 1101)), ('ía', (1101, 1104)), ('▁pat', (1104, 1108)), ('ológica', (1108, 1116)), ('▁demostr', (1116, 1124)), ('ó', (1124, 1126)), ('▁un', (1126, 1129)), ('▁en', (1129, 1132)), ('gros', (1132, 1136)), ('amiento', (1136, 1143)), ('▁de', (1143, 1146)), ('▁la', (1146, 1149)), ('▁mu', (1149, 1152)), ('cosa', (1152, 1156)), (',', (1156, 1157)), ('▁con', (1157, 1161)), ('▁e', (1161, 1163)), ('long', (1163, 1167)), ('ación', (1167, 1173)), ('▁y', (1173, 1175)), ('▁di', (1175, 1178)), ('stor', (1178, 1182)), ('sión', (1182, 1187)), ('▁de', (1187, 1190)), ('▁las', (1190, 1194)), ('▁g', (1194, 1196)), ('lán', (1196, 1200)), ('dula', (1200, 1204)), ('s', (1204, 1205)), ('▁y', (1205, 1207)), ('▁una', (1207, 1211)), ('▁lá', (1211, 1215)), ('mina', (1215, 1219)), ('▁propia', (1219, 1226)), ('▁e', (1226, 1228)), ('de', (1228, 1230)), ('mat', (1230, 1233)), ('osa', (1233, 1236)), ('▁con', (1236, 1240)), ('▁gran', (1240, 1245)), ('▁cantidad', (1245, 1254)), ('▁de', (1254, 1257)), ('▁col', (1257, 1261)), ('á', (1261, 1263)), ('geno', (1263, 1267)), ('▁y', (1267, 1269)), ('▁fibro', (1269, 1275)), ('blas', (1275, 1279)), ('tos', (1279, 1282)), (',', (1282, 1283)), ('▁todo', (1283, 1288)), ('▁ello', (1288, 1293)), ('▁compatible', (1293, 1304)), ('▁con', (1304, 1308)), ('▁el', (1308, 1311)), ('▁diagnóstico', (1311, 1324)), ('▁de', (1324, 1327)), ('▁síndrome', (1327, 1337)), ('▁de', (1337, 1340)), ('▁la', (1340, 1343)), ('▁', (1343, 1344)), ('úl', (1344, 1347)), ('cera', (1347, 1351)), ('▁recta', (1351, 1357)), ('l', (1357, 1358)), ('▁solitari', (1358, 1367)), ('a', (1367, 1368)), ('.', (1368, 1369))]\n",
      "\n",
      "\n",
      "[('▁Se', (1370, 1372)), ('▁realizó', (1372, 1381)), ('▁una', (1381, 1385)), ('▁man', (1385, 1389)), ('ometr', (1389, 1394)), ('ía', (1394, 1397)), ('▁an', (1397, 1400)), ('or', (1400, 1402)), ('rect', (1402, 1406)), ('al', (1406, 1408)), ('▁que', (1408, 1412)), ('▁evidenci', (1412, 1421)), ('ó', (1421, 1423)), ('▁un', (1423, 1426)), ('▁volumen', (1426, 1434)), ('▁recta', (1434, 1440)), ('l', (1440, 1441)), ('▁máximo', (1441, 1449)), ('▁to', (1449, 1452)), ('ler', (1452, 1455)), ('able', (1455, 1459)), ('▁discret', (1459, 1467)), ('amente', (1467, 1473)), ('▁reducido', (1473, 1482)), ('▁y', (1482, 1484)), ('▁un', (1484, 1487)), ('▁tiempo', (1487, 1494)), ('▁de', (1494, 1497)), ('▁exp', (1497, 1501)), ('ul', (1501, 1503)), ('sión', (1503, 1508)), ('▁del', (1508, 1512)), ('▁bal', (1512, 1516)), ('ón', (1516, 1519)), ('▁mínima', (1519, 1527)), ('mente', (1527, 1532)), ('▁a', (1532, 1534)), ('larga', (1534, 1539)), ('do', (1539, 1541)), ('.', (1541, 1542))]\n",
      "\n",
      "\n"
     ]
    }
   ],
   "source": [
    "for i in range(check_id_frag, check_id_frag + train_frag[check_id]):\n",
    "    print(list(zip([tokenizer._convert_id_to_token(int(ind)) for ind in train_ind[i]][1:len(train_start_end_frag[i])+1], \n",
    "               train_start_end_frag[i])))\n",
    "    print(\"\\n\")"
   ]
  },
  {
   "cell_type": "code",
   "execution_count": 70,
   "metadata": {},
   "outputs": [
    {
     "name": "stdout",
     "output_type": "stream",
     "text": [
      "<s> ▁Mu jer ▁de ▁42 ▁años ▁estudia da ▁en ▁Consulta s ▁de ▁Gastro enter ología ▁desde ▁enero ▁de ▁2005 ▁por ▁presentar ▁rector ra gia ▁esca sa ▁al ▁final ▁de ▁la ▁de posición ▁junto ▁con ▁ten es mo ▁y ▁dolor ▁anal ▁de ▁dos ▁años ▁de ▁evolución . </s> <pad> <pad> <pad> <pad> <pad> <pad> <pad> <pad> <pad> <pad> <pad> <pad> <pad> <pad> <pad> <pad> <pad> <pad> <pad> <pad> <pad> <pad> <pad> <pad> <pad> <pad> <pad> <pad> <pad> <pad> <pad> <pad> <pad> <pad> <pad> <pad> <pad> <pad> <pad> <pad> <pad> <pad> <pad> <pad> <pad> <pad> <pad> <pad> <pad> <pad> <pad> <pad> <pad> <pad> <pad> <pad> <pad> <pad> <pad> <pad> <pad> <pad> <pad> <pad> <pad> <pad> <pad> <pad> <pad> <pad> <pad> <pad> <pad> <pad> <pad> <pad> <pad> <pad> <pad> <pad> <pad> \n",
      "\n",
      "<s> ▁La ▁paciente ▁no ▁tenía ▁ningún ▁antecede nte ▁familiar ▁ni ▁personal ▁de ▁interés ▁ni ▁ segu ía ▁ningún ▁tratamiento ▁médico ▁de ▁forma ▁habitual . </s> <pad> <pad> <pad> <pad> <pad> <pad> <pad> <pad> <pad> <pad> <pad> <pad> <pad> <pad> <pad> <pad> <pad> <pad> <pad> <pad> <pad> <pad> <pad> <pad> <pad> <pad> <pad> <pad> <pad> <pad> <pad> <pad> <pad> <pad> <pad> <pad> <pad> <pad> <pad> <pad> <pad> <pad> <pad> <pad> <pad> <pad> <pad> <pad> <pad> <pad> <pad> <pad> <pad> <pad> <pad> <pad> <pad> <pad> <pad> <pad> <pad> <pad> <pad> <pad> <pad> <pad> <pad> <pad> <pad> <pad> <pad> <pad> <pad> <pad> <pad> <pad> <pad> <pad> <pad> <pad> <pad> <pad> <pad> <pad> <pad> <pad> <pad> <pad> <pad> <pad> <pad> <pad> <pad> <pad> <pad> <pad> <pad> <pad> <pad> <pad> <pad> <pad> <pad> \n",
      "\n",
      "<s> ▁En ▁la ▁explora ción ▁física ▁tan ▁sólo ▁se ▁obje ti vó ▁en ▁el ▁tac to ▁recta l ▁una ▁zona ▁ind urada ▁en ▁la ▁par ed ▁lateral ▁izquierda ▁del ▁rec to . </s> <pad> <pad> <pad> <pad> <pad> <pad> <pad> <pad> <pad> <pad> <pad> <pad> <pad> <pad> <pad> <pad> <pad> <pad> <pad> <pad> <pad> <pad> <pad> <pad> <pad> <pad> <pad> <pad> <pad> <pad> <pad> <pad> <pad> <pad> <pad> <pad> <pad> <pad> <pad> <pad> <pad> <pad> <pad> <pad> <pad> <pad> <pad> <pad> <pad> <pad> <pad> <pad> <pad> <pad> <pad> <pad> <pad> <pad> <pad> <pad> <pad> <pad> <pad> <pad> <pad> <pad> <pad> <pad> <pad> <pad> <pad> <pad> <pad> <pad> <pad> <pad> <pad> <pad> <pad> <pad> <pad> <pad> <pad> <pad> <pad> <pad> <pad> <pad> <pad> <pad> <pad> <pad> <pad> <pad> <pad> \n",
      "\n",
      "<s> ▁Se ▁realizó ▁una ▁ana lítica ▁completa ▁que ▁result ó ▁ri gur osamente ▁normal . </s> <pad> <pad> <pad> <pad> <pad> <pad> <pad> <pad> <pad> <pad> <pad> <pad> <pad> <pad> <pad> <pad> <pad> <pad> <pad> <pad> <pad> <pad> <pad> <pad> <pad> <pad> <pad> <pad> <pad> <pad> <pad> <pad> <pad> <pad> <pad> <pad> <pad> <pad> <pad> <pad> <pad> <pad> <pad> <pad> <pad> <pad> <pad> <pad> <pad> <pad> <pad> <pad> <pad> <pad> <pad> <pad> <pad> <pad> <pad> <pad> <pad> <pad> <pad> <pad> <pad> <pad> <pad> <pad> <pad> <pad> <pad> <pad> <pad> <pad> <pad> <pad> <pad> <pad> <pad> <pad> <pad> <pad> <pad> <pad> <pad> <pad> <pad> <pad> <pad> <pad> <pad> <pad> <pad> <pad> <pad> <pad> <pad> <pad> <pad> <pad> <pad> <pad> <pad> <pad> <pad> <pad> <pad> <pad> <pad> <pad> <pad> <pad> \n",
      "\n",
      "<s> ▁Ante ▁este ▁halla z go ▁se ▁decidi ó ▁realizar ▁una ▁colon os copi a ▁en con tr ándose ▁dos ▁pól i pos ▁mili mé trico s ▁en ▁amp olla ▁recta l , ▁hem or roid es ▁interna s ▁( una ▁de ▁ellas ▁pro laps ada ) ▁y ▁en ▁la ▁cara ▁lateral ▁izquierda ▁de ▁la ▁amp olla ▁recta l ▁un ▁área ▁er ite mat osa ▁y ▁leve mente ▁sobre ele vada , ▁de ▁aproximadamente ▁2 ▁x ▁2 ▁cm , ▁de ▁borde s ▁geo gráficos ▁y ▁con ▁un ▁aspecto ▁in determina do ▁de ▁la ▁que ▁se ▁tomar on ▁bio psi as . </s> <pad> <pad> <pad> <pad> <pad> <pad> <pad> <pad> <pad> <pad> <pad> <pad> <pad> <pad> <pad> <pad> <pad> <pad> <pad> <pad> <pad> <pad> <pad> <pad> <pad> <pad> \n",
      "\n",
      "<s> ▁Se ▁plante ó ▁inicialmente ▁el ▁diagnóstico ▁diferencia l ▁entre ▁enfermedad ▁inflama toria ▁intestinal ▁( coli tis ▁ul cer osa ), ▁ úl cera ▁este r co rá rea ▁y ▁síndrome ▁de ▁la ▁ úl cera ▁recta l ▁solitari a . </s> <pad> <pad> <pad> <pad> <pad> <pad> <pad> <pad> <pad> <pad> <pad> <pad> <pad> <pad> <pad> <pad> <pad> <pad> <pad> <pad> <pad> <pad> <pad> <pad> <pad> <pad> <pad> <pad> <pad> <pad> <pad> <pad> <pad> <pad> <pad> <pad> <pad> <pad> <pad> <pad> <pad> <pad> <pad> <pad> <pad> <pad> <pad> <pad> <pad> <pad> <pad> <pad> <pad> <pad> <pad> <pad> <pad> <pad> <pad> <pad> <pad> <pad> <pad> <pad> <pad> <pad> <pad> <pad> <pad> <pad> <pad> <pad> <pad> <pad> <pad> <pad> <pad> <pad> <pad> <pad> <pad> <pad> <pad> <pad> <pad> <pad> \n",
      "\n",
      "<s> ▁La ▁anat om ía ▁pat ológica ▁demostr ó ▁un ▁en gros amiento ▁de ▁la ▁mu cosa , ▁con ▁e long ación ▁y ▁di stor sión ▁de ▁las ▁g lán dula s ▁y ▁una ▁lá mina ▁propia ▁e de mat osa ▁con ▁gran ▁cantidad ▁de ▁col á geno ▁y ▁fibro blas tos , ▁todo ▁ello ▁compatible ▁con ▁el ▁diagnóstico ▁de ▁síndrome ▁de ▁la ▁ úl cera ▁recta l ▁solitari a . </s> <pad> <pad> <pad> <pad> <pad> <pad> <pad> <pad> <pad> <pad> <pad> <pad> <pad> <pad> <pad> <pad> <pad> <pad> <pad> <pad> <pad> <pad> <pad> <pad> <pad> <pad> <pad> <pad> <pad> <pad> <pad> <pad> <pad> <pad> <pad> <pad> <pad> <pad> <pad> <pad> <pad> <pad> <pad> <pad> <pad> <pad> <pad> <pad> <pad> <pad> <pad> <pad> <pad> <pad> <pad> <pad> \n",
      "\n",
      "<s> ▁Se ▁realizó ▁una ▁man ometr ía ▁an or rect al ▁que ▁evidenci ó ▁un ▁volumen ▁recta l ▁máximo ▁to ler able ▁discret amente ▁reducido ▁y ▁un ▁tiempo ▁de ▁exp ul sión ▁del ▁bal ón ▁mínima mente ▁a larga do . </s> <pad> <pad> <pad> <pad> <pad> <pad> <pad> <pad> <pad> <pad> <pad> <pad> <pad> <pad> <pad> <pad> <pad> <pad> <pad> <pad> <pad> <pad> <pad> <pad> <pad> <pad> <pad> <pad> <pad> <pad> <pad> <pad> <pad> <pad> <pad> <pad> <pad> <pad> <pad> <pad> <pad> <pad> <pad> <pad> <pad> <pad> <pad> <pad> <pad> <pad> <pad> <pad> <pad> <pad> <pad> <pad> <pad> <pad> <pad> <pad> <pad> <pad> <pad> <pad> <pad> <pad> <pad> <pad> <pad> <pad> <pad> <pad> <pad> <pad> <pad> <pad> <pad> <pad> <pad> <pad> <pad> <pad> <pad> <pad> <pad> <pad> \n",
      "\n"
     ]
    }
   ],
   "source": [
    "check_id_frag = sum(train_frag[:check_id])\n",
    "for frag in train_ind[check_id_frag:check_id_frag + train_frag[check_id]]:\n",
    "    print(' '.join([tokenizer._convert_id_to_token(int(ind)) for ind in frag]), \"\\n\")"
   ]
  },
  {
   "cell_type": "code",
   "execution_count": 71,
   "metadata": {},
   "outputs": [
    {
     "data": {
      "text/plain": [
       "count    7013.000000\n",
       "mean        0.305290\n",
       "std         0.652715\n",
       "min         0.000000\n",
       "25%         0.000000\n",
       "50%         0.000000\n",
       "75%         0.000000\n",
       "max         6.000000\n",
       "dtype: float64"
      ]
     },
     "execution_count": 71,
     "metadata": {},
     "output_type": "execute_result"
    }
   ],
   "source": [
    "# Fragment labels distribution\n",
    "pd.Series(np.sum(train_y, axis=1)).describe()"
   ]
  },
  {
   "cell_type": "markdown",
   "metadata": {},
   "source": [
    "### Development corpus\n",
    "\n",
    "Only development texts that are annotated with CIE-Procedimiento codes are considered:"
   ]
  },
  {
   "cell_type": "code",
   "execution_count": 72,
   "metadata": {},
   "outputs": [
    {
     "data": {
      "text/plain": [
       "28"
      ]
     },
     "execution_count": 72,
     "metadata": {},
     "output_type": "execute_result"
    }
   ],
   "source": [
    "# Some dev documents (texts) are not annotated \n",
    "len(set(df_text_dev[\"doc_id\"]) - set(df_codes_dev_ner[\"doc_id\"]))"
   ]
  },
  {
   "cell_type": "code",
   "execution_count": 73,
   "metadata": {},
   "outputs": [],
   "source": [
    "dev_doc_list = sorted(set(df_codes_dev_ner[\"doc_id\"]))"
   ]
  },
  {
   "cell_type": "code",
   "execution_count": 74,
   "metadata": {},
   "outputs": [
    {
     "data": {
      "text/plain": [
       "222"
      ]
     },
     "execution_count": 74,
     "metadata": {},
     "output_type": "execute_result"
    }
   ],
   "source": [
    "len(dev_doc_list)"
   ]
  },
  {
   "cell_type": "code",
   "execution_count": 75,
   "metadata": {},
   "outputs": [
    {
     "name": "stdout",
     "output_type": "stream",
     "text": [
      "CPU times: user 34.6 ms, sys: 77 µs, total: 34.7 ms\n",
      "Wall time: 34.1 ms\n"
     ]
    }
   ],
   "source": [
    "%%time\n",
    "ss_sub_corpus_path = ss_corpus_path + \"dev/\"\n",
    "ss_files = [f for f in os.listdir(ss_sub_corpus_path) if os.path.isfile(ss_sub_corpus_path + f)]\n",
    "ss_dict_dev = load_ss_files(ss_files, ss_sub_corpus_path)"
   ]
  },
  {
   "cell_type": "code",
   "execution_count": 76,
   "metadata": {},
   "outputs": [
    {
     "name": "stderr",
     "output_type": "stream",
     "text": [
      "100%|██████████| 222/222 [00:02<00:00, 88.50it/s] \n"
     ]
    },
    {
     "name": "stdout",
     "output_type": "stream",
     "text": [
      "CPU times: user 2.58 s, sys: 3.9 ms, total: 2.58 s\n",
      "Wall time: 2.56 s\n"
     ]
    }
   ],
   "source": [
    "%%time\n",
    "dev_ind, dev_att, dev_y, dev_frag, dev_start_end_frag = ss_create_frag_input_data_xlmr(df_text=df_text_dev, \n",
    "                                                  text_col=text_col, \n",
    "                                                  df_ann=df_codes_dev_ner, doc_list=dev_doc_list, ss_dict=ss_dict_dev,\n",
    "                                                  tokenizer=tokenizer, sp_pb2=spt, lab_encoder=mlb_encoder, seq_len=SEQ_LEN)"
   ]
  },
  {
   "cell_type": "code",
   "execution_count": 77,
   "metadata": {},
   "outputs": [],
   "source": [
    "# Sanity check"
   ]
  },
  {
   "cell_type": "code",
   "execution_count": 78,
   "metadata": {},
   "outputs": [
    {
     "data": {
      "text/plain": [
       "(3799, 128)"
      ]
     },
     "execution_count": 78,
     "metadata": {},
     "output_type": "execute_result"
    }
   ],
   "source": [
    "dev_ind.shape"
   ]
  },
  {
   "cell_type": "code",
   "execution_count": 79,
   "metadata": {},
   "outputs": [
    {
     "data": {
      "text/plain": [
       "(3799, 128)"
      ]
     },
     "execution_count": 79,
     "metadata": {},
     "output_type": "execute_result"
    }
   ],
   "source": [
    "dev_att.shape"
   ]
  },
  {
   "cell_type": "code",
   "execution_count": 80,
   "metadata": {},
   "outputs": [
    {
     "data": {
      "text/plain": [
       "(3799, 727)"
      ]
     },
     "execution_count": 80,
     "metadata": {},
     "output_type": "execute_result"
    }
   ],
   "source": [
    "dev_y.shape"
   ]
  },
  {
   "cell_type": "code",
   "execution_count": 81,
   "metadata": {},
   "outputs": [
    {
     "data": {
      "text/plain": [
       "222"
      ]
     },
     "execution_count": 81,
     "metadata": {},
     "output_type": "execute_result"
    }
   ],
   "source": [
    "len(dev_frag)"
   ]
  },
  {
   "cell_type": "code",
   "execution_count": 82,
   "metadata": {},
   "outputs": [
    {
     "data": {
      "text/plain": [
       "3799"
      ]
     },
     "execution_count": 82,
     "metadata": {},
     "output_type": "execute_result"
    }
   ],
   "source": [
    "len(dev_start_end_frag)"
   ]
  },
  {
   "cell_type": "code",
   "execution_count": 83,
   "metadata": {},
   "outputs": [
    {
     "data": {
      "text/plain": [
       "count    222.000000\n",
       "mean      17.112613\n",
       "std        8.320553\n",
       "min        4.000000\n",
       "25%       11.000000\n",
       "50%       15.000000\n",
       "75%       21.000000\n",
       "max       65.000000\n",
       "dtype: float64"
      ]
     },
     "execution_count": 83,
     "metadata": {},
     "output_type": "execute_result"
    }
   ],
   "source": [
    "# Check n_frag distribution across texts\n",
    "pd.Series(dev_frag).describe()"
   ]
  },
  {
   "cell_type": "code",
   "execution_count": 84,
   "metadata": {},
   "outputs": [],
   "source": [
    "# Inspect a randomly selected text and its encoded version\n",
    "check_id = np.random.randint(low=0, high=len(dev_doc_list), size=1)[0]"
   ]
  },
  {
   "cell_type": "code",
   "execution_count": 85,
   "metadata": {},
   "outputs": [
    {
     "data": {
      "text/plain": [
       "183"
      ]
     },
     "execution_count": 85,
     "metadata": {},
     "output_type": "execute_result"
    }
   ],
   "source": [
    "check_id"
   ]
  },
  {
   "cell_type": "code",
   "execution_count": 86,
   "metadata": {},
   "outputs": [
    {
     "data": {
      "text/plain": [
       "'S1137-66272006000500011-1'"
      ]
     },
     "execution_count": 86,
     "metadata": {},
     "output_type": "execute_result"
    }
   ],
   "source": [
    "dev_doc_list[check_id]"
   ]
  },
  {
   "cell_type": "code",
   "execution_count": 87,
   "metadata": {
    "scrolled": true
   },
   "outputs": [
    {
     "data": {
      "text/plain": [
       "'Varón de 46 años de edad, fumador y con alcoholismo crónico de aproximadamente 20 años de evolución, con la consiguiente hepatitis alcohólica diagnosticada hace ocho años. El paciente no presenta otros antecedentes de interés.\\nNuestro paciente consulta por la presencia de masas en región cervical anterior y posterior, en zonas retroauriculares y en región antero-superior de tórax, de más de diez años de evolución. Estos bultomas no producen dolor, ni disnea ni disfagia.\\nA la exploración se observa tumefacción en región cervical anterior, difusa, que borra la línea mandibular, junto a tumoraciones en zonas retroauriculares y en región deltoidea izquierda, más dos bultomas en región posterior de cuello que ascienden hasta la zona occipital, de unos 5 cm de diámetro cada uno. No son dolorosas a la palpación y son de consistencia dura.\\n\\nLa auscultación cardiopulmonar, la palpación abdominal y la exploración neurológica son normales.\\nEn la analítica se observan los siguientes valores: aspartato transferasa 131 U/l; alanina transferasa 71 U/l; GGT 880 U/l; colesterol total 228 mg/dl; LDL 105,2 mg/dl; triglicéridos 304 mg/dl. Las hormonas tiroideas y el cortisol son normales.\\nComo pruebas de imagen se empezó inicialmente por una radiografía de tórax sin alteraciones patológicas. Posteriormente al paciente se le realizó una ecografía tiroidea con el resultado de lóbulos tiroideos normales y una gran masa subcutánea lipomatosa bilateral. El TAC cervical mostró un marcado acúmulo de tejido graso localizado fundamentalmente a nivel subcutáneo en la región occipital y, ya más caudalmente, a nivel subcutáneo y en planos profundos alcanzando el espacio carotídeo. La distribución del tejido graso era difusa, de carácter simétrico, y no se identificaban encapsulamientos. El tejido graso contenía en su interior ambas venas yugulares anteriores.\\nLa biopsia confirmó la presencia de tejido adiposo y descartó infiltración tumoral.\\nAl paciente se le realizó una lipectomía cervical anterior, preservando el esternocleidomastoideo, las venas yugulares y estructuras nerviosas principales, consiguiendo importante mejoría de su aspecto estético.\\nEl paciente fue derivado a un servicio de salud mental con objeto de apoyar el cese del hábito alcohólico.\\n\\n'"
      ]
     },
     "execution_count": 87,
     "metadata": {},
     "output_type": "execute_result"
    }
   ],
   "source": [
    "df_text_dev[df_text_dev[\"doc_id\"] == dev_doc_list[check_id]][text_col].values[0]"
   ]
  },
  {
   "cell_type": "code",
   "execution_count": 88,
   "metadata": {},
   "outputs": [
    {
     "name": "stdout",
     "output_type": "stream",
     "text": [
      "[()] \n",
      "\n",
      "[()] \n",
      "\n",
      "[()] \n",
      "\n",
      "[()] \n",
      "\n",
      "[('0gbg',)] \n",
      "\n",
      "[()] \n",
      "\n",
      "[()] \n",
      "\n",
      "[()] \n",
      "\n",
      "[()] \n",
      "\n",
      "[('bw03zzz',)] \n",
      "\n",
      "[('0gbg', 'bg44zzz')] \n",
      "\n",
      "[('bw2f',)] \n",
      "\n",
      "[()] \n",
      "\n",
      "[()] \n",
      "\n",
      "[('0gbg',)] \n",
      "\n",
      "[()] \n",
      "\n",
      "[()] \n",
      "\n"
     ]
    }
   ],
   "source": [
    "check_id_frag = sum(dev_frag[:check_id])\n",
    "for i in range(check_id_frag, check_id_frag + dev_frag[check_id]):\n",
    "    print(mlb_encoder.inverse_transform(np.array([dev_y[i]])), \"\\n\")"
   ]
  },
  {
   "cell_type": "code",
   "execution_count": 89,
   "metadata": {},
   "outputs": [
    {
     "name": "stdout",
     "output_type": "stream",
     "text": [
      "[('▁Var', (0, 3)), ('ón', (3, 6)), ('▁de', (6, 9)), ('▁46', (9, 12)), ('▁años', (12, 18)), ('▁de', (18, 21)), ('▁edad', (21, 26)), (',', (26, 27)), ('▁fum', (27, 31)), ('ador', (31, 35)), ('▁y', (35, 37)), ('▁con', (37, 41)), ('▁alcohol', (41, 49)), ('ismo', (49, 53)), ('▁cr', (53, 56)), ('ónico', (56, 62)), ('▁de', (62, 65)), ('▁aproximadamente', (65, 81)), ('▁20', (81, 84)), ('▁años', (84, 90)), ('▁de', (90, 93)), ('▁evolución', (93, 104)), (',', (104, 105)), ('▁con', (105, 109)), ('▁la', (109, 112)), ('▁con', (112, 116)), ('si', (116, 118)), ('gui', (118, 121)), ('ente', (121, 125)), ('▁hepatitis', (125, 135)), ('▁al', (135, 138)), ('co', (138, 140)), ('hó', (140, 143)), ('lica', (143, 147)), ('▁diagnostic', (147, 158)), ('ada', (158, 161)), ('▁hace', (161, 166)), ('▁och', (166, 170)), ('o', (170, 171)), ('▁años', (171, 177)), ('.', (177, 178))]\n",
      "\n",
      "\n",
      "[('▁El', (179, 181)), ('▁paciente', (181, 190)), ('▁no', (190, 193)), ('▁presenta', (193, 202)), ('▁otros', (202, 208)), ('▁antecede', (208, 217)), ('ntes', (217, 221)), ('▁de', (221, 224)), ('▁interés', (224, 233)), ('.', (233, 234))]\n",
      "\n",
      "\n",
      "[('▁Nuestro', (235, 242)), ('▁paciente', (242, 251)), ('▁consulta', (251, 260)), ('▁por', (260, 264)), ('▁la', (264, 267)), ('▁presencia', (267, 277)), ('▁de', (277, 280)), ('▁masa', (280, 285)), ('s', (285, 286)), ('▁en', (286, 289)), ('▁región', (289, 297)), ('▁cer', (297, 301)), ('vi', (301, 303)), ('cal', (303, 306)), ('▁anterior', (306, 315)), ('▁y', (315, 317)), ('▁posterior', (317, 327)), (',', (327, 328)), ('▁en', (328, 331)), ('▁zonas', (331, 337)), ('▁retro', (337, 343)), ('a', (343, 344)), ('uri', (344, 347)), ('culare', (347, 353)), ('s', (353, 354)), ('▁y', (354, 356)), ('▁en', (356, 359)), ('▁región', (359, 367)), ('▁ante', (367, 372)), ('ro', (372, 374)), ('-', (374, 375)), ('super', (375, 380)), ('ior', (380, 383)), ('▁de', (383, 386)), ('▁tó', (386, 390)), ('ra', (390, 392)), ('x', (392, 393)), (',', (393, 394)), ('▁de', (394, 397)), ('▁más', (397, 402)), ('▁de', (402, 405)), ('▁die', (405, 409)), ('z', (409, 410)), ('▁años', (410, 416)), ('▁de', (416, 419)), ('▁evolución', (419, 430)), ('.', (430, 431))]\n",
      "\n",
      "\n",
      "[('▁Estos', (432, 437)), ('▁bul', (437, 441)), ('to', (441, 443)), ('mas', (443, 446)), ('▁no', (446, 449)), ('▁produce', (449, 457)), ('n', (457, 458)), ('▁dolor', (458, 464)), (',', (464, 465)), ('▁ni', (465, 468)), ('▁dis', (468, 472)), ('ne', (472, 474)), ('a', (474, 475)), ('▁ni', (475, 478)), ('▁dis', (478, 482)), ('fa', (482, 484)), ('gia', (484, 487)), ('.', (487, 488))]\n",
      "\n",
      "\n",
      "[('▁A', (489, 490)), ('▁la', (490, 493)), ('▁explora', (493, 501)), ('ción', (501, 506)), ('▁se', (506, 509)), ('▁observa', (509, 517)), ('▁tume', (517, 522)), ('fa', (522, 524)), ('cción', (524, 530)), ('▁en', (530, 533)), ('▁región', (533, 541)), ('▁cer', (541, 545)), ('vi', (545, 547)), ('cal', (547, 550)), ('▁anterior', (550, 559)), (',', (559, 560)), ('▁dif', (560, 564)), ('usa', (564, 567)), (',', (567, 568)), ('▁que', (568, 572)), ('▁borra', (572, 578)), ('▁la', (578, 581)), ('▁línea', (581, 588)), ('▁mandi', (588, 594)), ('bu', (594, 596)), ('lar', (596, 599)), (',', (599, 600)), ('▁junto', (600, 606)), ('▁a', (606, 608)), ('▁tumor', (608, 614)), ('aciones', (614, 621)), ('▁en', (621, 624)), ('▁zonas', (624, 630)), ('▁retro', (630, 636)), ('a', (636, 637)), ('uri', (637, 640)), ('culare', (640, 646)), ('s', (646, 647)), ('▁y', (647, 649)), ('▁en', (649, 652)), ('▁región', (652, 660)), ('▁del', (660, 664)), ('to', (664, 666)), ('idea', (666, 670)), ('▁izquierda', (670, 680)), (',', (680, 681)), ('▁más', (681, 686)), ('▁dos', (686, 690)), ('▁bul', (690, 694)), ('to', (694, 696)), ('mas', (696, 699)), ('▁en', (699, 702)), ('▁región', (702, 710)), ('▁posterior', (710, 720)), ('▁de', (720, 723)), ('▁cu', (723, 726)), ('ello', (726, 730)), ('▁que', (730, 734)), ('▁as', (734, 737)), ('ci', (737, 739)), ('enden', (739, 744)), ('▁hasta', (744, 750)), ('▁la', (750, 753)), ('▁zona', (753, 758)), ('▁oc', (758, 761)), ('cipit', (761, 766)), ('al', (766, 768)), (',', (768, 769)), ('▁de', (769, 772)), ('▁unos', (772, 777)), ('▁5', (777, 779)), ('▁cm', (779, 782)), ('▁de', (782, 785)), ('▁di', (785, 788)), ('á', (788, 790)), ('metro', (790, 795)), ('▁cada', (795, 800)), ('▁uno', (800, 804)), ('.', (804, 805))]\n",
      "\n",
      "\n",
      "[('▁No', (806, 808)), ('▁son', (808, 812)), ('▁dolor', (812, 818)), ('osas', (818, 822)), ('▁a', (822, 824)), ('▁la', (824, 827)), ('▁palp', (827, 832)), ('ación', (832, 838)), ('▁y', (838, 840)), ('▁son', (840, 844)), ('▁de', (844, 847)), ('▁con', (847, 851)), ('sistencia', (851, 860)), ('▁dura', (860, 865)), ('.', (865, 866))]\n",
      "\n",
      "\n",
      "[('▁La', (868, 870)), ('▁aus', (870, 874)), ('cult', (874, 878)), ('ación', (878, 884)), ('▁cardio', (884, 891)), ('pul', (891, 894)), ('mon', (894, 897)), ('ar', (897, 899)), (',', (899, 900)), ('▁la', (900, 903)), ('▁palp', (903, 908)), ('ación', (908, 914)), ('▁abdominal', (914, 924)), ('▁y', (924, 926)), ('▁la', (926, 929)), ('▁explora', (929, 937)), ('ción', (937, 942)), ('▁neuro', (942, 948)), ('lógica', (948, 955)), ('▁son', (955, 959)), ('▁normale', (959, 967)), ('s', (967, 968)), ('.', (968, 969))]\n",
      "\n",
      "\n",
      "[('▁En', (970, 972)), ('▁la', (972, 975)), ('▁ana', (975, 979)), ('lítica', (979, 986)), ('▁se', (986, 989)), ('▁observa', (989, 997)), ('n', (997, 998)), ('▁los', (998, 1002)), ('▁siguientes', (1002, 1013)), ('▁valores', (1013, 1021)), (':', (1021, 1022)), ('▁as', (1022, 1025)), ('parta', (1025, 1030)), ('to', (1030, 1032)), ('▁transfer', (1032, 1041)), ('asa', (1041, 1044)), ('▁131', (1044, 1048)), ('▁U', (1048, 1050)), ('/', (1050, 1051)), ('l', (1051, 1052)), (';', (1052, 1053)), ('▁alan', (1053, 1058)), ('ina', (1058, 1061)), ('▁transfer', (1061, 1070)), ('asa', (1070, 1073)), ('▁71', (1073, 1076)), ('▁U', (1076, 1078)), ('/', (1078, 1079)), ('l', (1079, 1080)), (';', (1080, 1081)), ('▁G', (1081, 1083)), ('GT', (1083, 1085)), ('▁', (1085, 1086)), ('880', (1086, 1089)), ('▁U', (1089, 1091)), ('/', (1091, 1092)), ('l', (1092, 1093)), (';', (1093, 1094)), ('▁colesterol', (1094, 1105)), ('▁total', (1105, 1111)), ('▁228', (1111, 1115)), ('▁mg', (1115, 1118)), ('/', (1118, 1119)), ('dl', (1119, 1121)), (';', (1121, 1122)), ('▁L', (1122, 1124)), ('DL', (1124, 1126)), ('▁105', (1126, 1130)), (',', (1130, 1131)), ('2', (1131, 1132)), ('▁mg', (1132, 1135)), ('/', (1135, 1136)), ('dl', (1136, 1138)), (';', (1138, 1139)), ('▁tri', (1139, 1143)), ('gli', (1143, 1146)), ('cé', (1146, 1149)), ('ri', (1149, 1151)), ('dos', (1151, 1154)), ('▁304', (1154, 1158)), ('▁mg', (1158, 1161)), ('/', (1161, 1162)), ('dl', (1162, 1164)), ('.', (1164, 1165))]\n",
      "\n",
      "\n",
      "[('▁Las', (1166, 1169)), ('▁hormon', (1169, 1176)), ('as', (1176, 1178)), ('▁tiro', (1178, 1183)), ('idea', (1183, 1187)), ('s', (1187, 1188)), ('▁y', (1188, 1190)), ('▁el', (1190, 1193)), ('▁corti', (1193, 1199)), ('sol', (1199, 1202)), ('▁son', (1202, 1206)), ('▁normale', (1206, 1214)), ('s', (1214, 1215)), ('.', (1215, 1216))]\n",
      "\n",
      "\n",
      "[('▁Como', (1217, 1221)), ('▁pruebas', (1221, 1229)), ('▁de', (1229, 1232)), ('▁imagen', (1232, 1239)), ('▁se', (1239, 1242)), ('▁empezó', (1242, 1250)), ('▁inicialmente', (1250, 1263)), ('▁por', (1263, 1267)), ('▁una', (1267, 1271)), ('▁radi', (1271, 1276)), ('ografía', (1276, 1284)), ('▁de', (1284, 1287)), ('▁tó', (1287, 1291)), ('ra', (1291, 1293)), ('x', (1293, 1294)), ('▁sin', (1294, 1298)), ('▁altera', (1298, 1305)), ('ciones', (1305, 1311)), ('▁pat', (1311, 1315)), ('ológica', (1315, 1323)), ('s', (1323, 1324)), ('.', (1324, 1325))]\n",
      "\n",
      "\n",
      "[('▁Pos', (1326, 1329)), ('terior', (1329, 1335)), ('mente', (1335, 1340)), ('▁al', (1340, 1343)), ('▁paciente', (1343, 1352)), ('▁se', (1352, 1355)), ('▁le', (1355, 1358)), ('▁realizó', (1358, 1367)), ('▁una', (1367, 1371)), ('▁ec', (1371, 1374)), ('ografía', (1374, 1382)), ('▁tiro', (1382, 1387)), ('idea', (1387, 1391)), ('▁con', (1391, 1395)), ('▁el', (1395, 1398)), ('▁resultado', (1398, 1408)), ('▁de', (1408, 1411)), ('▁ló', (1411, 1415)), ('bulo', (1415, 1419)), ('s', (1419, 1420)), ('▁tiro', (1420, 1425)), ('ide', (1425, 1428)), ('os', (1428, 1430)), ('▁normale', (1430, 1438)), ('s', (1438, 1439)), ('▁y', (1439, 1441)), ('▁una', (1441, 1445)), ('▁gran', (1445, 1450)), ('▁masa', (1450, 1455)), ('▁sub', (1455, 1459)), ('c', (1459, 1460)), ('után', (1460, 1465)), ('e', (1465, 1466)), ('a', (1466, 1467)), ('▁lipo', (1467, 1472)), ('mat', (1472, 1475)), ('osa', (1475, 1478)), ('▁bilateral', (1478, 1488)), ('.', (1488, 1489))]\n",
      "\n",
      "\n",
      "[('▁El', (1490, 1492)), ('▁', (1492, 1493)), ('TAC', (1493, 1496)), ('▁cer', (1496, 1500)), ('vi', (1500, 1502)), ('cal', (1502, 1505)), ('▁most', (1505, 1510)), ('ró', (1510, 1513)), ('▁un', (1513, 1516)), ('▁marcado', (1516, 1524)), ('▁a', (1524, 1526)), ('cú', (1526, 1529)), ('mulo', (1529, 1533)), ('▁de', (1533, 1536)), ('▁tejido', (1536, 1543)), ('▁gras', (1543, 1548)), ('o', (1548, 1549)), ('▁localizado', (1549, 1560)), ('▁', (1560, 1561)), ('fundamentalmente', (1561, 1577)), ('▁a', (1577, 1579)), ('▁nivel', (1579, 1585)), ('▁sub', (1585, 1589)), ('c', (1589, 1590)), ('után', (1590, 1595)), ('eo', (1595, 1597)), ('▁en', (1597, 1600)), ('▁la', (1600, 1603)), ('▁región', (1603, 1611)), ('▁oc', (1611, 1614)), ('cipit', (1614, 1619)), ('al', (1619, 1621)), ('▁y', (1621, 1623)), (',', (1623, 1624)), ('▁ya', (1624, 1627)), ('▁más', (1627, 1632)), ('▁ca', (1632, 1635)), ('ud', (1635, 1637)), ('almente', (1637, 1644)), (',', (1644, 1645)), ('▁a', (1645, 1647)), ('▁nivel', (1647, 1653)), ('▁sub', (1653, 1657)), ('c', (1657, 1658)), ('után', (1658, 1663)), ('eo', (1663, 1665)), ('▁y', (1665, 1667)), ('▁en', (1667, 1670)), ('▁planos', (1670, 1677)), ('▁profundo', (1677, 1686)), ('s', (1686, 1687)), ('▁alcanza', (1687, 1695)), ('ndo', (1695, 1698)), ('▁el', (1698, 1701)), ('▁espacio', (1701, 1709)), ('▁caro', (1709, 1714)), ('tí', (1714, 1717)), ('de', (1717, 1719)), ('o', (1719, 1720)), ('.', (1720, 1721))]\n",
      "\n",
      "\n",
      "[('▁La', (1722, 1724)), ('▁distribución', (1724, 1738)), ('▁del', (1738, 1742)), ('▁tejido', (1742, 1749)), ('▁gras', (1749, 1754)), ('o', (1754, 1755)), ('▁era', (1755, 1759)), ('▁dif', (1759, 1763)), ('usa', (1763, 1766)), (',', (1766, 1767)), ('▁de', (1767, 1770)), ('▁carácter', (1770, 1780)), ('▁si', (1780, 1783)), ('mé', (1783, 1786)), ('trico', (1786, 1791)), (',', (1791, 1792)), ('▁y', (1792, 1794)), ('▁no', (1794, 1797)), ('▁se', (1797, 1800)), ('▁identifica', (1800, 1811)), ('ban', (1811, 1814)), ('▁en', (1814, 1817)), ('cap', (1817, 1820)), ('sul', (1820, 1823)), ('amiento', (1823, 1830)), ('s', (1830, 1831)), ('.', (1831, 1832))]\n",
      "\n",
      "\n",
      "[('▁El', (1833, 1835)), ('▁tejido', (1835, 1842)), ('▁gras', (1842, 1847)), ('o', (1847, 1848)), ('▁conten', (1848, 1855)), ('ía', (1855, 1858)), ('▁en', (1858, 1861)), ('▁su', (1861, 1864)), ('▁interior', (1864, 1873)), ('▁ambas', (1873, 1879)), ('▁ve', (1879, 1882)), ('nas', (1882, 1885)), ('▁y', (1885, 1887)), ('ugu', (1887, 1890)), ('lar', (1890, 1893)), ('es', (1893, 1895)), ('▁anteriores', (1895, 1906)), ('.', (1906, 1907))]\n",
      "\n",
      "\n",
      "[('▁La', (1908, 1910)), ('▁bio', (1910, 1914)), ('psi', (1914, 1917)), ('a', (1917, 1918)), ('▁confirm', (1918, 1926)), ('ó', (1926, 1928)), ('▁la', (1928, 1931)), ('▁presencia', (1931, 1941)), ('▁de', (1941, 1944)), ('▁tejido', (1944, 1951)), ('▁adi', (1951, 1955)), ('pos', (1955, 1958)), ('o', (1958, 1959)), ('▁y', (1959, 1961)), ('▁de', (1961, 1964)), ('scar', (1964, 1968)), ('tó', (1968, 1971)), ('▁infiltra', (1971, 1980)), ('ción', (1980, 1985)), ('▁tumor', (1985, 1991)), ('al', (1991, 1993)), ('.', (1993, 1994))]\n",
      "\n",
      "\n",
      "[('▁Al', (1995, 1997)), ('▁paciente', (1997, 2006)), ('▁se', (2006, 2009)), ('▁le', (2009, 2012)), ('▁realizó', (2012, 2021)), ('▁una', (2021, 2025)), ('▁lip', (2025, 2029)), ('ecto', (2029, 2033)), ('m', (2033, 2034)), ('ía', (2034, 2037)), ('▁cer', (2037, 2041)), ('vi', (2041, 2043)), ('cal', (2043, 2046)), ('▁anterior', (2046, 2055)), (',', (2055, 2056)), ('▁preserva', (2056, 2065)), ('ndo', (2065, 2068)), ('▁el', (2068, 2071)), ('▁', (2071, 2072)), ('esterno', (2072, 2079)), ('c', (2079, 2080)), ('leido', (2080, 2085)), ('mas', (2085, 2088)), ('to', (2088, 2090)), ('ide', (2090, 2093)), ('o', (2093, 2094)), (',', (2094, 2095)), ('▁las', (2095, 2099)), ('▁ve', (2099, 2102)), ('nas', (2102, 2105)), ('▁y', (2105, 2107)), ('ugu', (2107, 2110)), ('lar', (2110, 2113)), ('es', (2113, 2115)), ('▁y', (2115, 2117)), ('▁estructura', (2117, 2128)), ('s', (2128, 2129)), ('▁nervios', (2129, 2137)), ('as', (2137, 2139)), ('▁principales', (2139, 2151)), (',', (2151, 2152)), ('▁con', (2152, 2156)), ('s', (2156, 2157)), ('igu', (2157, 2160)), ('iendo', (2160, 2165)), ('▁importante', (2165, 2176)), ('▁mejor', (2176, 2182)), ('ía', (2182, 2185)), ('▁de', (2185, 2188)), ('▁su', (2188, 2191)), ('▁aspecto', (2191, 2199)), ('▁est', (2199, 2203)), ('ético', (2203, 2209)), ('.', (2209, 2210))]\n",
      "\n",
      "\n",
      "[('▁El', (2211, 2213)), ('▁paciente', (2213, 2222)), ('▁fue', (2222, 2226)), ('▁deriva', (2226, 2233)), ('do', (2233, 2235)), ('▁a', (2235, 2237)), ('▁un', (2237, 2240)), ('▁servicio', (2240, 2249)), ('▁de', (2249, 2252)), ('▁salud', (2252, 2258)), ('▁mental', (2258, 2265)), ('▁con', (2265, 2269)), ('▁objeto', (2269, 2276)), ('▁de', (2276, 2279)), ('▁apoyar', (2279, 2286)), ('▁el', (2286, 2289)), ('▁ce', (2289, 2292)), ('se', (2292, 2294)), ('▁del', (2294, 2298)), ('▁há', (2298, 2302)), ('bito', (2302, 2306)), ('▁al', (2306, 2309)), ('co', (2309, 2311)), ('hó', (2311, 2314)), ('lico', (2314, 2318)), ('.', (2318, 2319))]\n",
      "\n",
      "\n"
     ]
    }
   ],
   "source": [
    "for i in range(check_id_frag, check_id_frag + dev_frag[check_id]):\n",
    "    print(list(zip([tokenizer._convert_id_to_token(int(ind)) for ind in dev_ind[i]][1:len(dev_start_end_frag[i])+1], \n",
    "               dev_start_end_frag[i])))\n",
    "    print(\"\\n\")"
   ]
  },
  {
   "cell_type": "code",
   "execution_count": 90,
   "metadata": {},
   "outputs": [
    {
     "name": "stdout",
     "output_type": "stream",
     "text": [
      "<s> ▁Var ón ▁de ▁46 ▁años ▁de ▁edad , ▁fum ador ▁y ▁con ▁alcohol ismo ▁cr ónico ▁de ▁aproximadamente ▁20 ▁años ▁de ▁evolución , ▁con ▁la ▁con si gui ente ▁hepatitis ▁al co hó lica ▁diagnostic ada ▁hace ▁och o ▁años . </s> <pad> <pad> <pad> <pad> <pad> <pad> <pad> <pad> <pad> <pad> <pad> <pad> <pad> <pad> <pad> <pad> <pad> <pad> <pad> <pad> <pad> <pad> <pad> <pad> <pad> <pad> <pad> <pad> <pad> <pad> <pad> <pad> <pad> <pad> <pad> <pad> <pad> <pad> <pad> <pad> <pad> <pad> <pad> <pad> <pad> <pad> <pad> <pad> <pad> <pad> <pad> <pad> <pad> <pad> <pad> <pad> <pad> <pad> <pad> <pad> <pad> <pad> <pad> <pad> <pad> <pad> <pad> <pad> <pad> <pad> <pad> <pad> <pad> <pad> <pad> <pad> <pad> <pad> <pad> <pad> <pad> <pad> <pad> <pad> <pad> \n",
      "\n",
      "<s> ▁El ▁paciente ▁no ▁presenta ▁otros ▁antecede ntes ▁de ▁interés . </s> <pad> <pad> <pad> <pad> <pad> <pad> <pad> <pad> <pad> <pad> <pad> <pad> <pad> <pad> <pad> <pad> <pad> <pad> <pad> <pad> <pad> <pad> <pad> <pad> <pad> <pad> <pad> <pad> <pad> <pad> <pad> <pad> <pad> <pad> <pad> <pad> <pad> <pad> <pad> <pad> <pad> <pad> <pad> <pad> <pad> <pad> <pad> <pad> <pad> <pad> <pad> <pad> <pad> <pad> <pad> <pad> <pad> <pad> <pad> <pad> <pad> <pad> <pad> <pad> <pad> <pad> <pad> <pad> <pad> <pad> <pad> <pad> <pad> <pad> <pad> <pad> <pad> <pad> <pad> <pad> <pad> <pad> <pad> <pad> <pad> <pad> <pad> <pad> <pad> <pad> <pad> <pad> <pad> <pad> <pad> <pad> <pad> <pad> <pad> <pad> <pad> <pad> <pad> <pad> <pad> <pad> <pad> <pad> <pad> <pad> <pad> <pad> <pad> <pad> <pad> <pad> \n",
      "\n",
      "<s> ▁Nuestro ▁paciente ▁consulta ▁por ▁la ▁presencia ▁de ▁masa s ▁en ▁región ▁cer vi cal ▁anterior ▁y ▁posterior , ▁en ▁zonas ▁retro a uri culare s ▁y ▁en ▁región ▁ante ro - super ior ▁de ▁tó ra x , ▁de ▁más ▁de ▁die z ▁años ▁de ▁evolución . </s> <pad> <pad> <pad> <pad> <pad> <pad> <pad> <pad> <pad> <pad> <pad> <pad> <pad> <pad> <pad> <pad> <pad> <pad> <pad> <pad> <pad> <pad> <pad> <pad> <pad> <pad> <pad> <pad> <pad> <pad> <pad> <pad> <pad> <pad> <pad> <pad> <pad> <pad> <pad> <pad> <pad> <pad> <pad> <pad> <pad> <pad> <pad> <pad> <pad> <pad> <pad> <pad> <pad> <pad> <pad> <pad> <pad> <pad> <pad> <pad> <pad> <pad> <pad> <pad> <pad> <pad> <pad> <pad> <pad> <pad> <pad> <pad> <pad> <pad> <pad> <pad> <pad> <pad> <pad> \n",
      "\n",
      "<s> ▁Estos ▁bul to mas ▁no ▁produce n ▁dolor , ▁ni ▁dis ne a ▁ni ▁dis fa gia . </s> <pad> <pad> <pad> <pad> <pad> <pad> <pad> <pad> <pad> <pad> <pad> <pad> <pad> <pad> <pad> <pad> <pad> <pad> <pad> <pad> <pad> <pad> <pad> <pad> <pad> <pad> <pad> <pad> <pad> <pad> <pad> <pad> <pad> <pad> <pad> <pad> <pad> <pad> <pad> <pad> <pad> <pad> <pad> <pad> <pad> <pad> <pad> <pad> <pad> <pad> <pad> <pad> <pad> <pad> <pad> <pad> <pad> <pad> <pad> <pad> <pad> <pad> <pad> <pad> <pad> <pad> <pad> <pad> <pad> <pad> <pad> <pad> <pad> <pad> <pad> <pad> <pad> <pad> <pad> <pad> <pad> <pad> <pad> <pad> <pad> <pad> <pad> <pad> <pad> <pad> <pad> <pad> <pad> <pad> <pad> <pad> <pad> <pad> <pad> <pad> <pad> <pad> <pad> <pad> <pad> <pad> <pad> <pad> \n",
      "\n",
      "<s> ▁A ▁la ▁explora ción ▁se ▁observa ▁tume fa cción ▁en ▁región ▁cer vi cal ▁anterior , ▁dif usa , ▁que ▁borra ▁la ▁línea ▁mandi bu lar , ▁junto ▁a ▁tumor aciones ▁en ▁zonas ▁retro a uri culare s ▁y ▁en ▁región ▁del to idea ▁izquierda , ▁más ▁dos ▁bul to mas ▁en ▁región ▁posterior ▁de ▁cu ello ▁que ▁as ci enden ▁hasta ▁la ▁zona ▁oc cipit al , ▁de ▁unos ▁5 ▁cm ▁de ▁di á metro ▁cada ▁uno . </s> <pad> <pad> <pad> <pad> <pad> <pad> <pad> <pad> <pad> <pad> <pad> <pad> <pad> <pad> <pad> <pad> <pad> <pad> <pad> <pad> <pad> <pad> <pad> <pad> <pad> <pad> <pad> <pad> <pad> <pad> <pad> <pad> <pad> <pad> <pad> <pad> <pad> <pad> <pad> <pad> <pad> <pad> <pad> <pad> <pad> <pad> <pad> \n",
      "\n",
      "<s> ▁No ▁son ▁dolor osas ▁a ▁la ▁palp ación ▁y ▁son ▁de ▁con sistencia ▁dura . </s> <pad> <pad> <pad> <pad> <pad> <pad> <pad> <pad> <pad> <pad> <pad> <pad> <pad> <pad> <pad> <pad> <pad> <pad> <pad> <pad> <pad> <pad> <pad> <pad> <pad> <pad> <pad> <pad> <pad> <pad> <pad> <pad> <pad> <pad> <pad> <pad> <pad> <pad> <pad> <pad> <pad> <pad> <pad> <pad> <pad> <pad> <pad> <pad> <pad> <pad> <pad> <pad> <pad> <pad> <pad> <pad> <pad> <pad> <pad> <pad> <pad> <pad> <pad> <pad> <pad> <pad> <pad> <pad> <pad> <pad> <pad> <pad> <pad> <pad> <pad> <pad> <pad> <pad> <pad> <pad> <pad> <pad> <pad> <pad> <pad> <pad> <pad> <pad> <pad> <pad> <pad> <pad> <pad> <pad> <pad> <pad> <pad> <pad> <pad> <pad> <pad> <pad> <pad> <pad> <pad> <pad> <pad> <pad> <pad> <pad> <pad> \n",
      "\n",
      "<s> ▁La ▁aus cult ación ▁cardio pul mon ar , ▁la ▁palp ación ▁abdominal ▁y ▁la ▁explora ción ▁neuro lógica ▁son ▁normale s . </s> <pad> <pad> <pad> <pad> <pad> <pad> <pad> <pad> <pad> <pad> <pad> <pad> <pad> <pad> <pad> <pad> <pad> <pad> <pad> <pad> <pad> <pad> <pad> <pad> <pad> <pad> <pad> <pad> <pad> <pad> <pad> <pad> <pad> <pad> <pad> <pad> <pad> <pad> <pad> <pad> <pad> <pad> <pad> <pad> <pad> <pad> <pad> <pad> <pad> <pad> <pad> <pad> <pad> <pad> <pad> <pad> <pad> <pad> <pad> <pad> <pad> <pad> <pad> <pad> <pad> <pad> <pad> <pad> <pad> <pad> <pad> <pad> <pad> <pad> <pad> <pad> <pad> <pad> <pad> <pad> <pad> <pad> <pad> <pad> <pad> <pad> <pad> <pad> <pad> <pad> <pad> <pad> <pad> <pad> <pad> <pad> <pad> <pad> <pad> <pad> <pad> <pad> <pad> \n",
      "\n",
      "<s> ▁En ▁la ▁ana lítica ▁se ▁observa n ▁los ▁siguientes ▁valores : ▁as parta to ▁transfer asa ▁131 ▁U / l ; ▁alan ina ▁transfer asa ▁71 ▁U / l ; ▁G GT ▁ 880 ▁U / l ; ▁colesterol ▁total ▁228 ▁mg / dl ; ▁L DL ▁105 , 2 ▁mg / dl ; ▁tri gli cé ri dos ▁304 ▁mg / dl . </s> <pad> <pad> <pad> <pad> <pad> <pad> <pad> <pad> <pad> <pad> <pad> <pad> <pad> <pad> <pad> <pad> <pad> <pad> <pad> <pad> <pad> <pad> <pad> <pad> <pad> <pad> <pad> <pad> <pad> <pad> <pad> <pad> <pad> <pad> <pad> <pad> <pad> <pad> <pad> <pad> <pad> <pad> <pad> <pad> <pad> <pad> <pad> <pad> <pad> <pad> <pad> <pad> <pad> <pad> <pad> <pad> <pad> <pad> <pad> <pad> <pad> <pad> \n",
      "\n",
      "<s> ▁Las ▁hormon as ▁tiro idea s ▁y ▁el ▁corti sol ▁son ▁normale s . </s> <pad> <pad> <pad> <pad> <pad> <pad> <pad> <pad> <pad> <pad> <pad> <pad> <pad> <pad> <pad> <pad> <pad> <pad> <pad> <pad> <pad> <pad> <pad> <pad> <pad> <pad> <pad> <pad> <pad> <pad> <pad> <pad> <pad> <pad> <pad> <pad> <pad> <pad> <pad> <pad> <pad> <pad> <pad> <pad> <pad> <pad> <pad> <pad> <pad> <pad> <pad> <pad> <pad> <pad> <pad> <pad> <pad> <pad> <pad> <pad> <pad> <pad> <pad> <pad> <pad> <pad> <pad> <pad> <pad> <pad> <pad> <pad> <pad> <pad> <pad> <pad> <pad> <pad> <pad> <pad> <pad> <pad> <pad> <pad> <pad> <pad> <pad> <pad> <pad> <pad> <pad> <pad> <pad> <pad> <pad> <pad> <pad> <pad> <pad> <pad> <pad> <pad> <pad> <pad> <pad> <pad> <pad> <pad> <pad> <pad> <pad> <pad> \n",
      "\n",
      "<s> ▁Como ▁pruebas ▁de ▁imagen ▁se ▁empezó ▁inicialmente ▁por ▁una ▁radi ografía ▁de ▁tó ra x ▁sin ▁altera ciones ▁pat ológica s . </s> <pad> <pad> <pad> <pad> <pad> <pad> <pad> <pad> <pad> <pad> <pad> <pad> <pad> <pad> <pad> <pad> <pad> <pad> <pad> <pad> <pad> <pad> <pad> <pad> <pad> <pad> <pad> <pad> <pad> <pad> <pad> <pad> <pad> <pad> <pad> <pad> <pad> <pad> <pad> <pad> <pad> <pad> <pad> <pad> <pad> <pad> <pad> <pad> <pad> <pad> <pad> <pad> <pad> <pad> <pad> <pad> <pad> <pad> <pad> <pad> <pad> <pad> <pad> <pad> <pad> <pad> <pad> <pad> <pad> <pad> <pad> <pad> <pad> <pad> <pad> <pad> <pad> <pad> <pad> <pad> <pad> <pad> <pad> <pad> <pad> <pad> <pad> <pad> <pad> <pad> <pad> <pad> <pad> <pad> <pad> <pad> <pad> <pad> <pad> <pad> <pad> <pad> <pad> <pad> \n",
      "\n",
      "<s> ▁Pos terior mente ▁al ▁paciente ▁se ▁le ▁realizó ▁una ▁ec ografía ▁tiro idea ▁con ▁el ▁resultado ▁de ▁ló bulo s ▁tiro ide os ▁normale s ▁y ▁una ▁gran ▁masa ▁sub c után e a ▁lipo mat osa ▁bilateral . </s> <pad> <pad> <pad> <pad> <pad> <pad> <pad> <pad> <pad> <pad> <pad> <pad> <pad> <pad> <pad> <pad> <pad> <pad> <pad> <pad> <pad> <pad> <pad> <pad> <pad> <pad> <pad> <pad> <pad> <pad> <pad> <pad> <pad> <pad> <pad> <pad> <pad> <pad> <pad> <pad> <pad> <pad> <pad> <pad> <pad> <pad> <pad> <pad> <pad> <pad> <pad> <pad> <pad> <pad> <pad> <pad> <pad> <pad> <pad> <pad> <pad> <pad> <pad> <pad> <pad> <pad> <pad> <pad> <pad> <pad> <pad> <pad> <pad> <pad> <pad> <pad> <pad> <pad> <pad> <pad> <pad> <pad> <pad> <pad> <pad> <pad> <pad> \n",
      "\n",
      "<s> ▁El ▁ TAC ▁cer vi cal ▁most ró ▁un ▁marcado ▁a cú mulo ▁de ▁tejido ▁gras o ▁localizado ▁ fundamentalmente ▁a ▁nivel ▁sub c után eo ▁en ▁la ▁región ▁oc cipit al ▁y , ▁ya ▁más ▁ca ud almente , ▁a ▁nivel ▁sub c után eo ▁y ▁en ▁planos ▁profundo s ▁alcanza ndo ▁el ▁espacio ▁caro tí de o . </s> <pad> <pad> <pad> <pad> <pad> <pad> <pad> <pad> <pad> <pad> <pad> <pad> <pad> <pad> <pad> <pad> <pad> <pad> <pad> <pad> <pad> <pad> <pad> <pad> <pad> <pad> <pad> <pad> <pad> <pad> <pad> <pad> <pad> <pad> <pad> <pad> <pad> <pad> <pad> <pad> <pad> <pad> <pad> <pad> <pad> <pad> <pad> <pad> <pad> <pad> <pad> <pad> <pad> <pad> <pad> <pad> <pad> <pad> <pad> <pad> <pad> <pad> <pad> <pad> <pad> <pad> \n",
      "\n",
      "<s> ▁La ▁distribución ▁del ▁tejido ▁gras o ▁era ▁dif usa , ▁de ▁carácter ▁si mé trico , ▁y ▁no ▁se ▁identifica ban ▁en cap sul amiento s . </s> <pad> <pad> <pad> <pad> <pad> <pad> <pad> <pad> <pad> <pad> <pad> <pad> <pad> <pad> <pad> <pad> <pad> <pad> <pad> <pad> <pad> <pad> <pad> <pad> <pad> <pad> <pad> <pad> <pad> <pad> <pad> <pad> <pad> <pad> <pad> <pad> <pad> <pad> <pad> <pad> <pad> <pad> <pad> <pad> <pad> <pad> <pad> <pad> <pad> <pad> <pad> <pad> <pad> <pad> <pad> <pad> <pad> <pad> <pad> <pad> <pad> <pad> <pad> <pad> <pad> <pad> <pad> <pad> <pad> <pad> <pad> <pad> <pad> <pad> <pad> <pad> <pad> <pad> <pad> <pad> <pad> <pad> <pad> <pad> <pad> <pad> <pad> <pad> <pad> <pad> <pad> <pad> <pad> <pad> <pad> <pad> <pad> <pad> <pad> \n",
      "\n",
      "<s> ▁El ▁tejido ▁gras o ▁conten ía ▁en ▁su ▁interior ▁ambas ▁ve nas ▁y ugu lar es ▁anteriores . </s> <pad> <pad> <pad> <pad> <pad> <pad> <pad> <pad> <pad> <pad> <pad> <pad> <pad> <pad> <pad> <pad> <pad> <pad> <pad> <pad> <pad> <pad> <pad> <pad> <pad> <pad> <pad> <pad> <pad> <pad> <pad> <pad> <pad> <pad> <pad> <pad> <pad> <pad> <pad> <pad> <pad> <pad> <pad> <pad> <pad> <pad> <pad> <pad> <pad> <pad> <pad> <pad> <pad> <pad> <pad> <pad> <pad> <pad> <pad> <pad> <pad> <pad> <pad> <pad> <pad> <pad> <pad> <pad> <pad> <pad> <pad> <pad> <pad> <pad> <pad> <pad> <pad> <pad> <pad> <pad> <pad> <pad> <pad> <pad> <pad> <pad> <pad> <pad> <pad> <pad> <pad> <pad> <pad> <pad> <pad> <pad> <pad> <pad> <pad> <pad> <pad> <pad> <pad> <pad> <pad> <pad> <pad> <pad> \n",
      "\n",
      "<s> ▁La ▁bio psi a ▁confirm ó ▁la ▁presencia ▁de ▁tejido ▁adi pos o ▁y ▁de scar tó ▁infiltra ción ▁tumor al . </s> <pad> <pad> <pad> <pad> <pad> <pad> <pad> <pad> <pad> <pad> <pad> <pad> <pad> <pad> <pad> <pad> <pad> <pad> <pad> <pad> <pad> <pad> <pad> <pad> <pad> <pad> <pad> <pad> <pad> <pad> <pad> <pad> <pad> <pad> <pad> <pad> <pad> <pad> <pad> <pad> <pad> <pad> <pad> <pad> <pad> <pad> <pad> <pad> <pad> <pad> <pad> <pad> <pad> <pad> <pad> <pad> <pad> <pad> <pad> <pad> <pad> <pad> <pad> <pad> <pad> <pad> <pad> <pad> <pad> <pad> <pad> <pad> <pad> <pad> <pad> <pad> <pad> <pad> <pad> <pad> <pad> <pad> <pad> <pad> <pad> <pad> <pad> <pad> <pad> <pad> <pad> <pad> <pad> <pad> <pad> <pad> <pad> <pad> <pad> <pad> <pad> <pad> <pad> <pad> \n",
      "\n",
      "<s> ▁Al ▁paciente ▁se ▁le ▁realizó ▁una ▁lip ecto m ía ▁cer vi cal ▁anterior , ▁preserva ndo ▁el ▁ esterno c leido mas to ide o , ▁las ▁ve nas ▁y ugu lar es ▁y ▁estructura s ▁nervios as ▁principales , ▁con s igu iendo ▁importante ▁mejor ía ▁de ▁su ▁aspecto ▁est ético . </s> <pad> <pad> <pad> <pad> <pad> <pad> <pad> <pad> <pad> <pad> <pad> <pad> <pad> <pad> <pad> <pad> <pad> <pad> <pad> <pad> <pad> <pad> <pad> <pad> <pad> <pad> <pad> <pad> <pad> <pad> <pad> <pad> <pad> <pad> <pad> <pad> <pad> <pad> <pad> <pad> <pad> <pad> <pad> <pad> <pad> <pad> <pad> <pad> <pad> <pad> <pad> <pad> <pad> <pad> <pad> <pad> <pad> <pad> <pad> <pad> <pad> <pad> <pad> <pad> <pad> <pad> <pad> <pad> <pad> <pad> <pad> <pad> \n",
      "\n",
      "<s> ▁El ▁paciente ▁fue ▁deriva do ▁a ▁un ▁servicio ▁de ▁salud ▁mental ▁con ▁objeto ▁de ▁apoyar ▁el ▁ce se ▁del ▁há bito ▁al co hó lico . </s> <pad> <pad> <pad> <pad> <pad> <pad> <pad> <pad> <pad> <pad> <pad> <pad> <pad> <pad> <pad> <pad> <pad> <pad> <pad> <pad> <pad> <pad> <pad> <pad> <pad> <pad> <pad> <pad> <pad> <pad> <pad> <pad> <pad> <pad> <pad> <pad> <pad> <pad> <pad> <pad> <pad> <pad> <pad> <pad> <pad> <pad> <pad> <pad> <pad> <pad> <pad> <pad> <pad> <pad> <pad> <pad> <pad> <pad> <pad> <pad> <pad> <pad> <pad> <pad> <pad> <pad> <pad> <pad> <pad> <pad> <pad> <pad> <pad> <pad> <pad> <pad> <pad> <pad> <pad> <pad> <pad> <pad> <pad> <pad> <pad> <pad> <pad> <pad> <pad> <pad> <pad> <pad> <pad> <pad> <pad> <pad> <pad> <pad> <pad> <pad> \n",
      "\n"
     ]
    }
   ],
   "source": [
    "check_id_frag = sum(dev_frag[:check_id])\n",
    "for frag in dev_ind[check_id_frag:check_id_frag + dev_frag[check_id]]:\n",
    "    print(' '.join([tokenizer._convert_id_to_token(int(ind)) for ind in frag]), \"\\n\")"
   ]
  },
  {
   "cell_type": "code",
   "execution_count": 91,
   "metadata": {},
   "outputs": [
    {
     "data": {
      "text/plain": [
       "count    3799.000000\n",
       "mean        0.309818\n",
       "std         0.638081\n",
       "min         0.000000\n",
       "25%         0.000000\n",
       "50%         0.000000\n",
       "75%         0.000000\n",
       "max         5.000000\n",
       "dtype: float64"
      ]
     },
     "execution_count": 91,
     "metadata": {},
     "output_type": "execute_result"
    }
   ],
   "source": [
    "# Fragment labels distribution\n",
    "pd.Series(np.sum(dev_y, axis=1)).describe()"
   ]
  },
  {
   "cell_type": "markdown",
   "metadata": {},
   "source": [
    "### Training & Development corpus\n",
    "\n",
    "We merge the previously generated datasets:"
   ]
  },
  {
   "cell_type": "code",
   "execution_count": 92,
   "metadata": {},
   "outputs": [],
   "source": [
    "# Indices\n",
    "train_dev_ind = np.concatenate((train_ind, dev_ind))"
   ]
  },
  {
   "cell_type": "code",
   "execution_count": 93,
   "metadata": {},
   "outputs": [
    {
     "data": {
      "text/plain": [
       "(10812, 128)"
      ]
     },
     "execution_count": 93,
     "metadata": {},
     "output_type": "execute_result"
    }
   ],
   "source": [
    "train_dev_ind.shape"
   ]
  },
  {
   "cell_type": "code",
   "execution_count": 94,
   "metadata": {},
   "outputs": [],
   "source": [
    "# Attention masks\n",
    "train_dev_att = np.concatenate((train_att, dev_att))"
   ]
  },
  {
   "cell_type": "code",
   "execution_count": 95,
   "metadata": {},
   "outputs": [
    {
     "data": {
      "text/plain": [
       "(10812, 128)"
      ]
     },
     "execution_count": 95,
     "metadata": {},
     "output_type": "execute_result"
    }
   ],
   "source": [
    "train_dev_att.shape"
   ]
  },
  {
   "cell_type": "code",
   "execution_count": 96,
   "metadata": {},
   "outputs": [],
   "source": [
    "# y\n",
    "train_dev_y = np.concatenate((train_y, dev_y))"
   ]
  },
  {
   "cell_type": "code",
   "execution_count": 97,
   "metadata": {},
   "outputs": [
    {
     "data": {
      "text/plain": [
       "(10812, 727)"
      ]
     },
     "execution_count": 97,
     "metadata": {},
     "output_type": "execute_result"
    }
   ],
   "source": [
    "train_dev_y.shape"
   ]
  },
  {
   "cell_type": "markdown",
   "metadata": {},
   "source": [
    "## Fine-tuning\n",
    "\n",
    "Using the corpus of labeled sentences, we fine-tune the model on a multi-label sentence classification task."
   ]
  },
  {
   "cell_type": "code",
   "execution_count": 98,
   "metadata": {},
   "outputs": [
    {
     "name": "stderr",
     "output_type": "stream",
     "text": [
      "All PyTorch model weights were used when initializing TFXLMRobertaForSequenceClassification.\n",
      "\n",
      "Some weights or buffers of the TF 2.0 model TFXLMRobertaForSequenceClassification were not initialized from the PyTorch model and are newly initialized: ['classifier.dense.weight', 'classifier.dense.bias', 'classifier.out_proj.weight', 'classifier.out_proj.bias']\n",
      "You should probably TRAIN this model on a down-stream task to be able to use it for predictions and inference.\n"
     ]
    }
   ],
   "source": [
    "from transformers import TFXLMRobertaForSequenceClassification\n",
    "\n",
    "model = TFXLMRobertaForSequenceClassification.from_pretrained(model_name, from_pt=True)"
   ]
  },
  {
   "cell_type": "code",
   "execution_count": 99,
   "metadata": {},
   "outputs": [
    {
     "name": "stdout",
     "output_type": "stream",
     "text": [
      "Model: \"tfxlm_roberta_for_sequence_classification\"\n",
      "_________________________________________________________________\n",
      "Layer (type)                 Output Shape              Param #   \n",
      "=================================================================\n",
      "roberta (TFRobertaMainLayer) multiple                  277453056 \n",
      "_________________________________________________________________\n",
      "classifier (TFRobertaClassif multiple                  592130    \n",
      "=================================================================\n",
      "Total params: 278,045,186\n",
      "Trainable params: 278,045,186\n",
      "Non-trainable params: 0\n",
      "_________________________________________________________________\n"
     ]
    }
   ],
   "source": [
    "model.summary()"
   ]
  },
  {
   "cell_type": "code",
   "execution_count": 100,
   "metadata": {},
   "outputs": [
    {
     "data": {
      "text/plain": [
       "[<transformers.models.roberta.modeling_tf_roberta.TFRobertaMainLayer at 0x7f4c78857090>,\n",
       " <transformers.models.roberta.modeling_tf_roberta.TFRobertaClassificationHead at 0x7f4c494b8650>]"
      ]
     },
     "execution_count": 100,
     "metadata": {},
     "output_type": "execute_result"
    }
   ],
   "source": [
    "model.layers"
   ]
  },
  {
   "cell_type": "code",
   "execution_count": 101,
   "metadata": {},
   "outputs": [],
   "source": [
    "from tensorflow.keras import Input, Model\n",
    "from tensorflow.keras.layers import Dense, Activation\n",
    "from tensorflow.keras.initializers import GlorotUniform\n",
    "\n",
    "input_ids = Input(shape=(SEQ_LEN,), name='input_ids', dtype='int64')\n",
    "attention_mask = Input(shape=(SEQ_LEN,), name='attention_mask', dtype='int64')\n",
    "inputs = [input_ids, attention_mask]\n",
    "\n",
    "cls_token = model.layers[0](input_ids=inputs[0], attention_mask=inputs[1])[0][:, 0, :] # take <s> token output representation (equiv. to [CLS]) \n",
    "out_logits = Dense(units=num_labels, kernel_initializer=GlorotUniform(seed=random_seed))(cls_token) # Multi-label classification\n",
    "out_act = Activation('sigmoid')(out_logits)\n",
    "\n",
    "model = Model(inputs=[input_ids, attention_mask], outputs=out_act)"
   ]
  },
  {
   "cell_type": "code",
   "execution_count": 102,
   "metadata": {},
   "outputs": [
    {
     "name": "stdout",
     "output_type": "stream",
     "text": [
      "Model: \"model\"\n",
      "__________________________________________________________________________________________________\n",
      "Layer (type)                    Output Shape         Param #     Connected to                     \n",
      "==================================================================================================\n",
      "input_ids (InputLayer)          [(None, 128)]        0                                            \n",
      "__________________________________________________________________________________________________\n",
      "attention_mask (InputLayer)     [(None, 128)]        0                                            \n",
      "__________________________________________________________________________________________________\n",
      "roberta (TFRobertaMainLayer)    TFBaseModelOutputWit 277453056   input_ids[0][0]                  \n",
      "__________________________________________________________________________________________________\n",
      "tf_op_layer_strided_slice (Tens [(None, 768)]        0           roberta[0][0]                    \n",
      "__________________________________________________________________________________________________\n",
      "dense (Dense)                   (None, 727)          559063      tf_op_layer_strided_slice[0][0]  \n",
      "__________________________________________________________________________________________________\n",
      "activation_4 (Activation)       (None, 727)          0           dense[0][0]                      \n",
      "==================================================================================================\n",
      "Total params: 278,012,119\n",
      "Trainable params: 278,012,119\n",
      "Non-trainable params: 0\n",
      "__________________________________________________________________________________________________\n"
     ]
    }
   ],
   "source": [
    "model.summary()"
   ]
  },
  {
   "cell_type": "code",
   "execution_count": 103,
   "metadata": {},
   "outputs": [
    {
     "data": {
      "text/plain": [
       "[<tf.Tensor 'input_ids:0' shape=(None, 128) dtype=int64>,\n",
       " <tf.Tensor 'attention_mask:0' shape=(None, 128) dtype=int64>]"
      ]
     },
     "execution_count": 103,
     "metadata": {},
     "output_type": "execute_result"
    }
   ],
   "source": [
    "model.input"
   ]
  },
  {
   "cell_type": "code",
   "execution_count": 104,
   "metadata": {},
   "outputs": [
    {
     "data": {
      "text/plain": [
       "<tf.Tensor 'activation_4/Identity:0' shape=(None, 727) dtype=float32>"
      ]
     },
     "execution_count": 104,
     "metadata": {},
     "output_type": "execute_result"
    }
   ],
   "source": [
    "model.output"
   ]
  },
  {
   "cell_type": "code",
   "execution_count": null,
   "metadata": {},
   "outputs": [
    {
     "name": "stdout",
     "output_type": "stream",
     "text": [
      "Epoch 1/41\n",
      "676/676 [==============================] - 172s 255ms/step - loss: 0.2379\n",
      "Epoch 2/41\n",
      "676/676 [==============================] - 174s 257ms/step - loss: 0.0208\n",
      "Epoch 3/41\n",
      "676/676 [==============================] - 174s 257ms/step - loss: 0.0075\n",
      "Epoch 4/41\n",
      "676/676 [==============================] - 174s 257ms/step - loss: 0.0048\n",
      "Epoch 5/41\n",
      "676/676 [==============================] - 174s 257ms/step - loss: 0.0040\n",
      "Epoch 6/41\n",
      "676/676 [==============================] - 174s 257ms/step - loss: 0.0036\n",
      "Epoch 7/41\n",
      "676/676 [==============================] - 174s 258ms/step - loss: 0.0034\n",
      "Epoch 8/41\n",
      "676/676 [==============================] - 174s 258ms/step - loss: 0.0032\n",
      "Epoch 9/41\n",
      "676/676 [==============================] - 174s 258ms/step - loss: 0.0031\n",
      "Epoch 10/41\n",
      "676/676 [==============================] - 174s 258ms/step - loss: 0.0029\n",
      "Epoch 11/41\n",
      "676/676 [==============================] - 174s 258ms/step - loss: 0.0027\n",
      "Epoch 12/41\n",
      "676/676 [==============================] - 174s 258ms/step - loss: 0.0026\n",
      "Epoch 13/41\n",
      "676/676 [==============================] - 174s 258ms/step - loss: 0.0024\n",
      "Epoch 14/41\n",
      "676/676 [==============================] - 174s 258ms/step - loss: 0.0023\n",
      "Epoch 15/41\n",
      "676/676 [==============================] - 174s 258ms/step - loss: 0.0023\n",
      "Epoch 16/41\n",
      "676/676 [==============================] - 174s 258ms/step - loss: 0.0034\n",
      "Epoch 17/41\n",
      "456/676 [===================>..........] - ETA: 56s - loss: 0.0034"
     ]
    }
   ],
   "source": [
    "%%time\n",
    "from tensorflow.keras import optimizers, losses\n",
    "import tensorflow_addons as tfa\n",
    "\n",
    "optimizer = tfa.optimizers.RectifiedAdam(learning_rate=LR)\n",
    "loss = losses.BinaryCrossentropy(from_logits=False)\n",
    "model.compile(optimizer=optimizer, loss=loss)\n",
    "\n",
    "history = model.fit(x={'input_ids': train_dev_ind, 'attention_mask': train_dev_att}, y=train_dev_y,\n",
    "          batch_size=BATCH_SIZE, epochs=EPOCHS, shuffle=True)"
   ]
  },
  {
   "cell_type": "markdown",
   "metadata": {},
   "source": [
    "## Test set predictions\n",
    "\n",
    "Finally, the predictions made by the model on the test set are saved. For this purpose, firstly, each sentence from the test corpus must be converted into a sequence of subwords (input IDs and attention mask arrays). Then, the predictions made by the model at the sentence-level are saved, to be further evaluated at document-level (see `results/CodiEsp-P/Evaluation.ipynb`)."
   ]
  },
  {
   "cell_type": "code",
   "execution_count": 105,
   "metadata": {},
   "outputs": [
    {
     "name": "stdout",
     "output_type": "stream",
     "text": [
      "CPU times: user 2.67 ms, sys: 3.93 ms, total: 6.6 ms\n",
      "Wall time: 6.07 ms\n"
     ]
    }
   ],
   "source": [
    "%%time\n",
    "test_path = corpus_path + \"test/text_files/\"\n",
    "test_files = [f for f in os.listdir(test_path) if os.path.isfile(test_path + f)]\n",
    "test_data = load_text_files(test_files, test_path)\n",
    "df_text_test = pd.DataFrame({'doc_id': [s.split('.txt')[0] for s in test_files], 'raw_text': test_data})"
   ]
  },
  {
   "cell_type": "code",
   "execution_count": 106,
   "metadata": {},
   "outputs": [
    {
     "data": {
      "text/plain": [
       "(250, 2)"
      ]
     },
     "execution_count": 106,
     "metadata": {},
     "output_type": "execute_result"
    }
   ],
   "source": [
    "df_text_test.shape"
   ]
  },
  {
   "cell_type": "code",
   "execution_count": 107,
   "metadata": {},
   "outputs": [
    {
     "data": {
      "text/html": [
       "<div>\n",
       "<style scoped>\n",
       "    .dataframe tbody tr th:only-of-type {\n",
       "        vertical-align: middle;\n",
       "    }\n",
       "\n",
       "    .dataframe tbody tr th {\n",
       "        vertical-align: top;\n",
       "    }\n",
       "\n",
       "    .dataframe thead th {\n",
       "        text-align: right;\n",
       "    }\n",
       "</style>\n",
       "<table border=\"1\" class=\"dataframe\">\n",
       "  <thead>\n",
       "    <tr style=\"text-align: right;\">\n",
       "      <th></th>\n",
       "      <th>doc_id</th>\n",
       "      <th>raw_text</th>\n",
       "    </tr>\n",
       "  </thead>\n",
       "  <tbody>\n",
       "    <tr>\n",
       "      <th>0</th>\n",
       "      <td>S1698-44472004000400012-1</td>\n",
       "      <td>Varón de 54 años de edad, remitido a nuestro s...</td>\n",
       "    </tr>\n",
       "    <tr>\n",
       "      <th>1</th>\n",
       "      <td>S1130-05582012000300005-1</td>\n",
       "      <td>Acude a nuestras consultas a un paciente que p...</td>\n",
       "    </tr>\n",
       "    <tr>\n",
       "      <th>2</th>\n",
       "      <td>S0212-16112009000300015-1</td>\n",
       "      <td>Se trató de un varón de 77 años con antecedent...</td>\n",
       "    </tr>\n",
       "    <tr>\n",
       "      <th>3</th>\n",
       "      <td>S1139-76322014000500014-1</td>\n",
       "      <td>Niño de cinco años derivado por su pediatra de...</td>\n",
       "    </tr>\n",
       "    <tr>\n",
       "      <th>4</th>\n",
       "      <td>S0212-71992004000300009-1</td>\n",
       "      <td>Varón de 22 años de edad que acude a consultas...</td>\n",
       "    </tr>\n",
       "  </tbody>\n",
       "</table>\n",
       "</div>"
      ],
      "text/plain": [
       "                      doc_id  \\\n",
       "0  S1698-44472004000400012-1   \n",
       "1  S1130-05582012000300005-1   \n",
       "2  S0212-16112009000300015-1   \n",
       "3  S1139-76322014000500014-1   \n",
       "4  S0212-71992004000300009-1   \n",
       "\n",
       "                                            raw_text  \n",
       "0  Varón de 54 años de edad, remitido a nuestro s...  \n",
       "1  Acude a nuestras consultas a un paciente que p...  \n",
       "2  Se trató de un varón de 77 años con antecedent...  \n",
       "3  Niño de cinco años derivado por su pediatra de...  \n",
       "4  Varón de 22 años de edad que acude a consultas...  "
      ]
     },
     "execution_count": 107,
     "metadata": {},
     "output_type": "execute_result"
    }
   ],
   "source": [
    "df_text_test.head()"
   ]
  },
  {
   "cell_type": "code",
   "execution_count": 108,
   "metadata": {},
   "outputs": [
    {
     "data": {
      "text/plain": [
       "'Varón de 54 años de edad, remitido a nuestro servicio en mayo del 2003 por presentar odontalgia en relación con un tercer molar inferior derecho erupcionado. A la inspección oral se pudo observar la existencia de una tumefacción que expandía las corticales vestibulo-linguales, en la región del tercer molar mandibular derecho, cariado por distal. La mucosa oral estaba indemne, y no se palpaban adenomegalias cervicales. El paciente refería la existencia de una hipoestesia en el territorio de distribución del nervio mentoniano de quince días de evolución. En la ortopantomografía, se evidenció la presencia de una imagen radiolúcida, de contornos poco definidos, en el cuerpo mandibular derecho. Dos días después, bajo anestesia local, se procedió a la exodoncia del tercer molar y curetaje-biopsia del tejido subyacente. Durante el acto operatorio, se produjo una intensa hemorragia, que pudo ser cohibida con el empleo de Surgicel (Johnson & Johnson, Nuevo Brunswick, NJ) y mediante el empaquetado en el lecho alveolar de cera de hueso.\\n\\nEl hemograma y el estudio de coagulación postoperato-rios no mostraron alteraciones significativas. El diagnóstico histopatológico del material remitido fue de: metástasis mandibular por hepatocarcinoma bien diferenciado. Las células neoplásicas no se teñían con las citoqueratinas 19 y 20, ni con la alfa-fetoproteina, pero si mostraron una intensa tinción granular citoplasmática con el marcador hepatocito N.\\n\\nEntre los antecedentes personales del paciente, destacaban una historia de diabetes tipo II de 8 años de evolución, controlada con hipoglucemiantes orales. Se trataba de un bebedor de 130 g. etanol/día desde los 30 años, y fumador de 2 paquetes de cigarrillos/día desde los 20 años. Un año antes de nuestra valoración, el enfermo había sido diagnosticado de cirrosis hepática (estadio A de Child Pugh: 5/15), y de hepatocarcinoma multicéntrico con afectación de los segmentos II, III, y IV, siendo intervenido mediante resección hepática parcial, al mes de su diagnostico. Previamente se había realizado un estudio completo que incluyó gammagrafía ósea con tecnecio 99-MDP y tomografía computarizada de cráneo, pulmón, abdomen y pelvis, sin objetivar la presencia de metástasis. Los valores séricos de alfa-fetoproteina eran, en los controles postoperatorios, normales (3,6 ng/ml).\\nA los 15 días de nuestra intervención se objetivó una marcada elevación de los niveles de alfa-fetoproteina (221 ng/ml), evidenciándose mediante gammagrafía ósea y resonancia magnética la existencia de múltiples metástasis que afectaban al occipital izquierdo, cuerpo esternal, pelvis, y múltiples vértebras. El paciente fue sometido a radioterapia paliativa sobre las lesiones vertebrales (10 Gy a la semana de Co 60) sin mejoría, siendo éxitus a los seis meses de nuestra biopsia.\\n\\n'"
      ]
     },
     "execution_count": 108,
     "metadata": {},
     "output_type": "execute_result"
    }
   ],
   "source": [
    "df_text_test.raw_text[0]"
   ]
  },
  {
   "cell_type": "code",
   "execution_count": 109,
   "metadata": {},
   "outputs": [],
   "source": [
    "test_doc_list = sorted(set(df_text_test[\"doc_id\"]))"
   ]
  },
  {
   "cell_type": "code",
   "execution_count": 110,
   "metadata": {},
   "outputs": [
    {
     "data": {
      "text/plain": [
       "250"
      ]
     },
     "execution_count": 110,
     "metadata": {},
     "output_type": "execute_result"
    }
   ],
   "source": [
    "len(test_doc_list)"
   ]
  },
  {
   "cell_type": "code",
   "execution_count": 111,
   "metadata": {},
   "outputs": [
    {
     "name": "stdout",
     "output_type": "stream",
     "text": [
      "CPU times: user 34.7 ms, sys: 0 ns, total: 34.7 ms\n",
      "Wall time: 34.1 ms\n"
     ]
    }
   ],
   "source": [
    "%%time\n",
    "ss_sub_corpus_path = ss_corpus_path + \"test/\"\n",
    "ss_files = [f for f in os.listdir(ss_sub_corpus_path) if os.path.isfile(ss_sub_corpus_path + f)]\n",
    "ss_dict_test = load_ss_files(ss_files, ss_sub_corpus_path)"
   ]
  },
  {
   "cell_type": "code",
   "execution_count": 112,
   "metadata": {},
   "outputs": [
    {
     "name": "stderr",
     "output_type": "stream",
     "text": [
      "100%|██████████| 250/250 [00:00<00:00, 279.35it/s]\n"
     ]
    },
    {
     "name": "stdout",
     "output_type": "stream",
     "text": [
      "CPU times: user 956 ms, sys: 12.4 ms, total: 968 ms\n",
      "Wall time: 951 ms\n"
     ]
    }
   ],
   "source": [
    "%%time\n",
    "test_ind, test_att, _, test_frag, _ = ss_create_frag_input_data_xlmr(df_text=df_text_test, \n",
    "                                                  text_col=text_col,\n",
    "                                                  # Since labels are ignored, we pass df_codes_train_ner as df_ann\n",
    "                                                  df_ann=df_codes_train_ner, doc_list=test_doc_list, ss_dict=ss_dict_test,\n",
    "                                                  tokenizer=tokenizer, sp_pb2=spt, lab_encoder=mlb_encoder, seq_len=SEQ_LEN)"
   ]
  },
  {
   "cell_type": "code",
   "execution_count": 113,
   "metadata": {},
   "outputs": [
    {
     "name": "stdout",
     "output_type": "stream",
     "text": [
      "CPU times: user 14.9 s, sys: 1.68 s, total: 16.6 s\n",
      "Wall time: 16.9 s\n"
     ]
    }
   ],
   "source": [
    "%%time\n",
    "test_preds = model.predict({'input_ids': test_ind, 'attention_mask': test_att})"
   ]
  },
  {
   "cell_type": "code",
   "execution_count": 114,
   "metadata": {},
   "outputs": [
    {
     "data": {
      "text/plain": [
       "(3950, 727)"
      ]
     },
     "execution_count": 114,
     "metadata": {},
     "output_type": "execute_result"
    }
   ],
   "source": [
    "test_preds.shape"
   ]
  },
  {
   "cell_type": "code",
   "execution_count": 109,
   "metadata": {},
   "outputs": [],
   "source": [
    "results_dir_path = \"../results/CodiEsp-P/\""
   ]
  },
  {
   "cell_type": "code",
   "execution_count": 178,
   "metadata": {},
   "outputs": [
    {
     "name": "stdout",
     "output_type": "stream",
     "text": [
      "CPU times: user 2.21 ms, sys: 4.65 ms, total: 6.87 ms\n",
      "Wall time: 6.02 ms\n"
     ]
    }
   ],
   "source": [
    "%%time\n",
    "np.save(file=results_dir_path + \"predictions/xlm_r_seed_\" + str(random_seed) + \"_test_preds.npy\", arr=test_preds)"
   ]
  },
  {
   "cell_type": "code",
   "execution_count": 111,
   "metadata": {},
   "outputs": [],
   "source": [
    "# To be further used when evaluating model performance at document level\n",
    "np.save(file=results_dir_path + \"xlm_r_test_frags.npy\", arr=test_frag)\n",
    "np.save(file=results_dir_path + \"classes.npy\", arr=mlb_encoder.classes_)"
   ]
  }
 ],
 "metadata": {
  "kernelspec": {
   "display_name": "Python 3",
   "language": "python",
   "name": "python3"
  },
  "language_info": {
   "codemirror_mode": {
    "name": "ipython",
    "version": 3
   },
   "file_extension": ".py",
   "mimetype": "text/x-python",
   "name": "python",
   "nbconvert_exporter": "python",
   "pygments_lexer": "ipython3",
   "version": "3.7.9"
  }
 },
 "nbformat": 4,
 "nbformat_minor": 4
}
