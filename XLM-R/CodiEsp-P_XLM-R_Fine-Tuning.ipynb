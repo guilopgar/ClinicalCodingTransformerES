{
 "cells": [
  {
   "cell_type": "markdown",
   "metadata": {},
   "source": [
    "# Fine-tuning XLM-R on CodiEsp-P\n",
    "\n",
    "In this notebook, following a multi-label sequence classification approach, the XLM-R model is fine-tuned on both the training and development sets of the CodiEsp-P corpus. Additionally, the predictions made by the model on the test set are saved, in order to futher evaluate the clinical coding performance of the model (see `results/CodiEsp-P/Evaluation.ipynb`)."
   ]
  },
  {
   "cell_type": "code",
   "execution_count": 1,
   "metadata": {},
   "outputs": [],
   "source": [
    "import tensorflow as tf\n",
    "\n",
    "# Auxiliary components\n",
    "import sys\n",
    "sys.path.append(\"..\")\n",
    "from nlp_utils import *\n",
    "\n",
    "# XLM-R tokenizer\n",
    "from transformers import XLMRobertaTokenizer\n",
    "import sentencepiece_pb2\n",
    "model_name = \"xlm-roberta-base\"\n",
    "tokenizer = XLMRobertaTokenizer.from_pretrained(model_name)\n",
    "spt = sentencepiece_pb2.SentencePieceText()\n",
    "\n",
    "# Hyper-parameters\n",
    "text_col = \"raw_text\"\n",
    "SEQ_LEN = 128\n",
    "BATCH_SIZE = 16\n",
    "EPOCHS = 41\n",
    "LR = 3e-5\n",
    "\n",
    "random_seed = 0\n",
    "tf.random.set_seed(random_seed)"
   ]
  },
  {
   "cell_type": "markdown",
   "metadata": {},
   "source": [
    "## Load text\n",
    "\n",
    "Firstly, all text files from training and development CodiEsp corpora are loaded in different dataframes.\n",
    "\n",
    "Also, CIE-Procedimiento codes are loaded."
   ]
  },
  {
   "cell_type": "code",
   "execution_count": 2,
   "metadata": {},
   "outputs": [],
   "source": [
    "corpus_path = \"../datasets/codiesp_v4/\""
   ]
  },
  {
   "cell_type": "markdown",
   "metadata": {},
   "source": [
    "### Training corpus"
   ]
  },
  {
   "cell_type": "code",
   "execution_count": 3,
   "metadata": {},
   "outputs": [
    {
     "name": "stdout",
     "output_type": "stream",
     "text": [
      "CPU times: user 7.95 ms, sys: 4 ms, total: 11.9 ms\n",
      "Wall time: 11.5 ms\n"
     ]
    }
   ],
   "source": [
    "%%time\n",
    "train_path = corpus_path + \"train/text_files/\"\n",
    "train_files = [f for f in os.listdir(train_path) if os.path.isfile(train_path + f)]\n",
    "train_data = load_text_files(train_files, train_path)\n",
    "df_text_train = pd.DataFrame({'doc_id': [s.split('.txt')[0] for s in train_files], 'raw_text': train_data})"
   ]
  },
  {
   "cell_type": "code",
   "execution_count": 4,
   "metadata": {},
   "outputs": [
    {
     "data": {
      "text/plain": [
       "(500, 2)"
      ]
     },
     "execution_count": 4,
     "metadata": {},
     "output_type": "execute_result"
    }
   ],
   "source": [
    "df_text_train.shape"
   ]
  },
  {
   "cell_type": "code",
   "execution_count": 5,
   "metadata": {},
   "outputs": [
    {
     "data": {
      "text/html": [
       "<div>\n",
       "<style scoped>\n",
       "    .dataframe tbody tr th:only-of-type {\n",
       "        vertical-align: middle;\n",
       "    }\n",
       "\n",
       "    .dataframe tbody tr th {\n",
       "        vertical-align: top;\n",
       "    }\n",
       "\n",
       "    .dataframe thead th {\n",
       "        text-align: right;\n",
       "    }\n",
       "</style>\n",
       "<table border=\"1\" class=\"dataframe\">\n",
       "  <thead>\n",
       "    <tr style=\"text-align: right;\">\n",
       "      <th></th>\n",
       "      <th>doc_id</th>\n",
       "      <th>raw_text</th>\n",
       "    </tr>\n",
       "  </thead>\n",
       "  <tbody>\n",
       "    <tr>\n",
       "      <th>0</th>\n",
       "      <td>S0365-66912006000600011-1</td>\n",
       "      <td>Un varón de 13 años es remitido para valoració...</td>\n",
       "    </tr>\n",
       "    <tr>\n",
       "      <th>1</th>\n",
       "      <td>S1139-13752009000200010-2</td>\n",
       "      <td>Paciente de 42 años diagnosticado de pancoliti...</td>\n",
       "    </tr>\n",
       "    <tr>\n",
       "      <th>2</th>\n",
       "      <td>S1130-05582017000100037-1</td>\n",
       "      <td>Varón de 72 años, sin antecedentes médicos de ...</td>\n",
       "    </tr>\n",
       "    <tr>\n",
       "      <th>3</th>\n",
       "      <td>S1139-76322016000300015-1</td>\n",
       "      <td>Lactante de ocho días cuyos padres consultan p...</td>\n",
       "    </tr>\n",
       "    <tr>\n",
       "      <th>4</th>\n",
       "      <td>S0211-69952011000100019-1</td>\n",
       "      <td>Mujer de 47 años de edad con antecedentes de g...</td>\n",
       "    </tr>\n",
       "  </tbody>\n",
       "</table>\n",
       "</div>"
      ],
      "text/plain": [
       "                      doc_id  \\\n",
       "0  S0365-66912006000600011-1   \n",
       "1  S1139-13752009000200010-2   \n",
       "2  S1130-05582017000100037-1   \n",
       "3  S1139-76322016000300015-1   \n",
       "4  S0211-69952011000100019-1   \n",
       "\n",
       "                                            raw_text  \n",
       "0  Un varón de 13 años es remitido para valoració...  \n",
       "1  Paciente de 42 años diagnosticado de pancoliti...  \n",
       "2  Varón de 72 años, sin antecedentes médicos de ...  \n",
       "3  Lactante de ocho días cuyos padres consultan p...  \n",
       "4  Mujer de 47 años de edad con antecedentes de g...  "
      ]
     },
     "execution_count": 5,
     "metadata": {},
     "output_type": "execute_result"
    }
   ],
   "source": [
    "df_text_train.head()"
   ]
  },
  {
   "cell_type": "code",
   "execution_count": 6,
   "metadata": {},
   "outputs": [
    {
     "data": {
      "text/plain": [
       "'Un varón de 13 años es remitido para valoración oftalmológica por mala visión. Fenotípicamente era un niño de talla corta con una estatura de 133 cm, braquimorfia y braquidactilia en las cuatro extremidades.\\nEl paciente presentaba un error refractivo corregido de -13,00 -6,50 a 1º en el ojo derecho y de -16,00-6,25 a 179º en el izquierdo. Con dicha corrección alcanzaba una agudeza visual de 0,4 y 0,2 respectivamente. No existía diplopía monocular ni hallazgos en la motilidad ocular extrínseca e intrínseca.\\nEl diámetro corneal horizontal era de 12,0 mm en ambos ojos y la paquimetría de 613 y 611 micras respectivamente. La cámara anterior era estrecha, apreciándose iridofacodonesis bilateral. Se evidenció microesferofaquia con desplazamiento anterior de ambos cristalinos dentro de la cámara posterior.\\nLa presión intraocular era de 20 mmHg bilateralmente. Gonioscópicamente se apreció un ángulo estrecho simétrico en ambos ojos grado II según Schaffer.\\nLa exploración mediante topógrafo Orbscan-II (Topógrafo corneal, Baush and Lomb, U.S.A.) y el examen del fondo de ojo no mostraron alteraciones.\\nComo prevención del cierre angular se realizó una iridotomía láser Nd:YAG en ambos ojos a las 10 y 2 horas respectivamente. Dada la estabilidad de la visión y la ausencia de diplopía se adoptó una actitud conservadora de acuerdo con el deseo de la familia del paciente mediante control de la agudeza visual, presión intraocular, documentación fotográfica y la realización de campos visuales para detectar la aparición de daño glaucomatoso.\\nRevisando sus antecentes familiares se identificó al paciente como el menor de una familia de ocho hermanos, en la que -además del mencionado- un hermano y dos hermanas presentaban esferofaquia, braquimorfia y braquidactilia. Los padres eran sanos y ninguno de los hijos ha tenido descendencia.\\n\\n'"
      ]
     },
     "execution_count": 6,
     "metadata": {},
     "output_type": "execute_result"
    }
   ],
   "source": [
    "df_text_train.raw_text[0]"
   ]
  },
  {
   "cell_type": "markdown",
   "metadata": {},
   "source": [
    "We also load the CIE-Procedimiento codes table:"
   ]
  },
  {
   "cell_type": "code",
   "execution_count": 7,
   "metadata": {},
   "outputs": [],
   "source": [
    "df_codes_train = pd.read_table(corpus_path + \"train/trainP.tsv\", sep='\\t', header=None)"
   ]
  },
  {
   "cell_type": "code",
   "execution_count": 8,
   "metadata": {},
   "outputs": [],
   "source": [
    "df_codes_train.columns = [\"doc_id\", \"code\"]"
   ]
  },
  {
   "cell_type": "code",
   "execution_count": 9,
   "metadata": {},
   "outputs": [
    {
     "data": {
      "text/plain": [
       "(1550, 2)"
      ]
     },
     "execution_count": 9,
     "metadata": {},
     "output_type": "execute_result"
    }
   ],
   "source": [
    "df_codes_train.shape"
   ]
  },
  {
   "cell_type": "code",
   "execution_count": 10,
   "metadata": {},
   "outputs": [
    {
     "data": {
      "text/html": [
       "<div>\n",
       "<style scoped>\n",
       "    .dataframe tbody tr th:only-of-type {\n",
       "        vertical-align: middle;\n",
       "    }\n",
       "\n",
       "    .dataframe tbody tr th {\n",
       "        vertical-align: top;\n",
       "    }\n",
       "\n",
       "    .dataframe thead th {\n",
       "        text-align: right;\n",
       "    }\n",
       "</style>\n",
       "<table border=\"1\" class=\"dataframe\">\n",
       "  <thead>\n",
       "    <tr style=\"text-align: right;\">\n",
       "      <th></th>\n",
       "      <th>doc_id</th>\n",
       "      <th>code</th>\n",
       "    </tr>\n",
       "  </thead>\n",
       "  <tbody>\n",
       "    <tr>\n",
       "      <th>0</th>\n",
       "      <td>S0004-06142005000700014-1</td>\n",
       "      <td>bw03zzz</td>\n",
       "    </tr>\n",
       "    <tr>\n",
       "      <th>1</th>\n",
       "      <td>S0004-06142005000700014-1</td>\n",
       "      <td>3e02329</td>\n",
       "    </tr>\n",
       "    <tr>\n",
       "      <th>2</th>\n",
       "      <td>S0004-06142005000700014-1</td>\n",
       "      <td>bw40zzz</td>\n",
       "    </tr>\n",
       "    <tr>\n",
       "      <th>3</th>\n",
       "      <td>S0004-06142005000700014-1</td>\n",
       "      <td>bv44zzz</td>\n",
       "    </tr>\n",
       "    <tr>\n",
       "      <th>4</th>\n",
       "      <td>S0004-06142005000700014-1</td>\n",
       "      <td>bn20</td>\n",
       "    </tr>\n",
       "  </tbody>\n",
       "</table>\n",
       "</div>"
      ],
      "text/plain": [
       "                      doc_id     code\n",
       "0  S0004-06142005000700014-1  bw03zzz\n",
       "1  S0004-06142005000700014-1  3e02329\n",
       "2  S0004-06142005000700014-1  bw40zzz\n",
       "3  S0004-06142005000700014-1  bv44zzz\n",
       "4  S0004-06142005000700014-1     bn20"
      ]
     },
     "execution_count": 10,
     "metadata": {},
     "output_type": "execute_result"
    }
   ],
   "source": [
    "df_codes_train.head()"
   ]
  },
  {
   "cell_type": "code",
   "execution_count": 11,
   "metadata": {},
   "outputs": [
    {
     "data": {
      "text/plain": [
       "435"
      ]
     },
     "execution_count": 11,
     "metadata": {},
     "output_type": "execute_result"
    }
   ],
   "source": [
    "len(set(df_codes_train[\"doc_id\"]))"
   ]
  },
  {
   "cell_type": "markdown",
   "metadata": {},
   "source": [
    "### Development corpus"
   ]
  },
  {
   "cell_type": "code",
   "execution_count": 12,
   "metadata": {},
   "outputs": [
    {
     "name": "stdout",
     "output_type": "stream",
     "text": [
      "CPU times: user 6.34 ms, sys: 153 µs, total: 6.49 ms\n",
      "Wall time: 6.18 ms\n"
     ]
    }
   ],
   "source": [
    "%%time\n",
    "dev_path = corpus_path + \"dev/text_files/\"\n",
    "dev_files = [f for f in os.listdir(dev_path) if os.path.isfile(dev_path + f)]\n",
    "dev_data = load_text_files(dev_files, dev_path)\n",
    "df_text_dev = pd.DataFrame({'doc_id': [s.split('.txt')[0] for s in dev_files], 'raw_text': dev_data})"
   ]
  },
  {
   "cell_type": "code",
   "execution_count": 13,
   "metadata": {},
   "outputs": [
    {
     "data": {
      "text/plain": [
       "(250, 2)"
      ]
     },
     "execution_count": 13,
     "metadata": {},
     "output_type": "execute_result"
    }
   ],
   "source": [
    "df_text_dev.shape"
   ]
  },
  {
   "cell_type": "code",
   "execution_count": 14,
   "metadata": {},
   "outputs": [
    {
     "data": {
      "text/html": [
       "<div>\n",
       "<style scoped>\n",
       "    .dataframe tbody tr th:only-of-type {\n",
       "        vertical-align: middle;\n",
       "    }\n",
       "\n",
       "    .dataframe tbody tr th {\n",
       "        vertical-align: top;\n",
       "    }\n",
       "\n",
       "    .dataframe thead th {\n",
       "        text-align: right;\n",
       "    }\n",
       "</style>\n",
       "<table border=\"1\" class=\"dataframe\">\n",
       "  <thead>\n",
       "    <tr style=\"text-align: right;\">\n",
       "      <th></th>\n",
       "      <th>doc_id</th>\n",
       "      <th>raw_text</th>\n",
       "    </tr>\n",
       "  </thead>\n",
       "  <tbody>\n",
       "    <tr>\n",
       "      <th>0</th>\n",
       "      <td>S1130-63432016000600013-1</td>\n",
       "      <td>Varón de 75 años, con antecedentes de hiperuri...</td>\n",
       "    </tr>\n",
       "    <tr>\n",
       "      <th>1</th>\n",
       "      <td>S0365-66912003000600010-1</td>\n",
       "      <td>Paciente de 33 años de edad, gestante de 34 se...</td>\n",
       "    </tr>\n",
       "    <tr>\n",
       "      <th>2</th>\n",
       "      <td>S0211-69952012000200030-1</td>\n",
       "      <td>Mujer de 67 años con múltiples factores de rie...</td>\n",
       "    </tr>\n",
       "    <tr>\n",
       "      <th>3</th>\n",
       "      <td>S0365-66912004000900009-1</td>\n",
       "      <td>Paciente de 55 años que acudió a urgencias por...</td>\n",
       "    </tr>\n",
       "    <tr>\n",
       "      <th>4</th>\n",
       "      <td>S1139-76322016000300016-2</td>\n",
       "      <td>Lactante de 1 mes y 29 días, sin antecedentes ...</td>\n",
       "    </tr>\n",
       "  </tbody>\n",
       "</table>\n",
       "</div>"
      ],
      "text/plain": [
       "                      doc_id  \\\n",
       "0  S1130-63432016000600013-1   \n",
       "1  S0365-66912003000600010-1   \n",
       "2  S0211-69952012000200030-1   \n",
       "3  S0365-66912004000900009-1   \n",
       "4  S1139-76322016000300016-2   \n",
       "\n",
       "                                            raw_text  \n",
       "0  Varón de 75 años, con antecedentes de hiperuri...  \n",
       "1  Paciente de 33 años de edad, gestante de 34 se...  \n",
       "2  Mujer de 67 años con múltiples factores de rie...  \n",
       "3  Paciente de 55 años que acudió a urgencias por...  \n",
       "4  Lactante de 1 mes y 29 días, sin antecedentes ...  "
      ]
     },
     "execution_count": 14,
     "metadata": {},
     "output_type": "execute_result"
    }
   ],
   "source": [
    "df_text_dev.head()"
   ]
  },
  {
   "cell_type": "code",
   "execution_count": 15,
   "metadata": {},
   "outputs": [
    {
     "data": {
      "text/plain": [
       "'Varón de 75 años, con antecedentes de hiperuricemia en tratamiento con Alopurinol que ingresa para realización de resección transuretral de próstata.\\nPostoperatorio inmediato sin incidencias con tratamiento con Pantoprazol, Ciprofloxacino, Paracetamol, Enantyum y Alopurinol. Al cuarto día de postoperatorio presenta mareos, temblor con componente mioclónico en extremidades y tronco e incapacidad para caminar, sin verse alteraciones analíticas. En esta situación se pauta Rivotril y se suspende el tratamiento con Ciprofloxacino, desapareciendo la clínica mioclónica y mejorando el estado del paciente, por lo que se decide el alta hospitalaria.\\n\\n'"
      ]
     },
     "execution_count": 15,
     "metadata": {},
     "output_type": "execute_result"
    }
   ],
   "source": [
    "df_text_dev.raw_text[0]"
   ]
  },
  {
   "cell_type": "markdown",
   "metadata": {},
   "source": [
    "We also load the CIE-Procedimiento codes table:"
   ]
  },
  {
   "cell_type": "code",
   "execution_count": 16,
   "metadata": {},
   "outputs": [],
   "source": [
    "df_codes_dev = pd.read_table(corpus_path + \"dev/devP.tsv\", sep='\\t', header=None)"
   ]
  },
  {
   "cell_type": "code",
   "execution_count": 17,
   "metadata": {},
   "outputs": [],
   "source": [
    "df_codes_dev.columns = [\"doc_id\", \"code\"]"
   ]
  },
  {
   "cell_type": "code",
   "execution_count": 18,
   "metadata": {},
   "outputs": [
    {
     "data": {
      "text/plain": [
       "(817, 2)"
      ]
     },
     "execution_count": 18,
     "metadata": {},
     "output_type": "execute_result"
    }
   ],
   "source": [
    "df_codes_dev.shape"
   ]
  },
  {
   "cell_type": "code",
   "execution_count": 19,
   "metadata": {},
   "outputs": [
    {
     "data": {
      "text/html": [
       "<div>\n",
       "<style scoped>\n",
       "    .dataframe tbody tr th:only-of-type {\n",
       "        vertical-align: middle;\n",
       "    }\n",
       "\n",
       "    .dataframe tbody tr th {\n",
       "        vertical-align: top;\n",
       "    }\n",
       "\n",
       "    .dataframe thead th {\n",
       "        text-align: right;\n",
       "    }\n",
       "</style>\n",
       "<table border=\"1\" class=\"dataframe\">\n",
       "  <thead>\n",
       "    <tr style=\"text-align: right;\">\n",
       "      <th></th>\n",
       "      <th>doc_id</th>\n",
       "      <th>code</th>\n",
       "    </tr>\n",
       "  </thead>\n",
       "  <tbody>\n",
       "    <tr>\n",
       "      <th>0</th>\n",
       "      <td>S0004-06142005000900016-1</td>\n",
       "      <td>bt41zzz</td>\n",
       "    </tr>\n",
       "    <tr>\n",
       "      <th>1</th>\n",
       "      <td>S0004-06142005000900016-1</td>\n",
       "      <td>ct13</td>\n",
       "    </tr>\n",
       "    <tr>\n",
       "      <th>2</th>\n",
       "      <td>S0004-06142005001000011-1</td>\n",
       "      <td>3e1m39z</td>\n",
       "    </tr>\n",
       "    <tr>\n",
       "      <th>3</th>\n",
       "      <td>S0004-06142005001000011-1</td>\n",
       "      <td>0tcb</td>\n",
       "    </tr>\n",
       "    <tr>\n",
       "      <th>4</th>\n",
       "      <td>S0004-06142005001000011-1</td>\n",
       "      <td>bt02</td>\n",
       "    </tr>\n",
       "  </tbody>\n",
       "</table>\n",
       "</div>"
      ],
      "text/plain": [
       "                      doc_id     code\n",
       "0  S0004-06142005000900016-1  bt41zzz\n",
       "1  S0004-06142005000900016-1     ct13\n",
       "2  S0004-06142005001000011-1  3e1m39z\n",
       "3  S0004-06142005001000011-1     0tcb\n",
       "4  S0004-06142005001000011-1     bt02"
      ]
     },
     "execution_count": 19,
     "metadata": {},
     "output_type": "execute_result"
    }
   ],
   "source": [
    "df_codes_dev.head()"
   ]
  },
  {
   "cell_type": "code",
   "execution_count": 20,
   "metadata": {},
   "outputs": [
    {
     "data": {
      "text/plain": [
       "222"
      ]
     },
     "execution_count": 20,
     "metadata": {},
     "output_type": "execute_result"
    }
   ],
   "source": [
    "len(set(df_codes_dev[\"doc_id\"]))"
   ]
  },
  {
   "cell_type": "markdown",
   "metadata": {},
   "source": [
    "We join the training and development CodiEsp codes dataframes together:"
   ]
  },
  {
   "cell_type": "code",
   "execution_count": 21,
   "metadata": {},
   "outputs": [],
   "source": [
    "df_codes_train_dev = pd.concat([df_codes_train, df_codes_dev])"
   ]
  },
  {
   "cell_type": "code",
   "execution_count": 22,
   "metadata": {},
   "outputs": [
    {
     "data": {
      "text/plain": [
       "(2367, 2)"
      ]
     },
     "execution_count": 22,
     "metadata": {},
     "output_type": "execute_result"
    }
   ],
   "source": [
    "df_codes_train_dev.shape"
   ]
  },
  {
   "cell_type": "code",
   "execution_count": 23,
   "metadata": {},
   "outputs": [
    {
     "data": {
      "text/html": [
       "<div>\n",
       "<style scoped>\n",
       "    .dataframe tbody tr th:only-of-type {\n",
       "        vertical-align: middle;\n",
       "    }\n",
       "\n",
       "    .dataframe tbody tr th {\n",
       "        vertical-align: top;\n",
       "    }\n",
       "\n",
       "    .dataframe thead th {\n",
       "        text-align: right;\n",
       "    }\n",
       "</style>\n",
       "<table border=\"1\" class=\"dataframe\">\n",
       "  <thead>\n",
       "    <tr style=\"text-align: right;\">\n",
       "      <th></th>\n",
       "      <th>doc_id</th>\n",
       "      <th>code</th>\n",
       "    </tr>\n",
       "  </thead>\n",
       "  <tbody>\n",
       "    <tr>\n",
       "      <th>0</th>\n",
       "      <td>S0004-06142005000700014-1</td>\n",
       "      <td>bw03zzz</td>\n",
       "    </tr>\n",
       "    <tr>\n",
       "      <th>1</th>\n",
       "      <td>S0004-06142005000700014-1</td>\n",
       "      <td>3e02329</td>\n",
       "    </tr>\n",
       "    <tr>\n",
       "      <th>2</th>\n",
       "      <td>S0004-06142005000700014-1</td>\n",
       "      <td>bw40zzz</td>\n",
       "    </tr>\n",
       "    <tr>\n",
       "      <th>3</th>\n",
       "      <td>S0004-06142005000700014-1</td>\n",
       "      <td>bv44zzz</td>\n",
       "    </tr>\n",
       "    <tr>\n",
       "      <th>4</th>\n",
       "      <td>S0004-06142005000700014-1</td>\n",
       "      <td>bn20</td>\n",
       "    </tr>\n",
       "  </tbody>\n",
       "</table>\n",
       "</div>"
      ],
      "text/plain": [
       "                      doc_id     code\n",
       "0  S0004-06142005000700014-1  bw03zzz\n",
       "1  S0004-06142005000700014-1  3e02329\n",
       "2  S0004-06142005000700014-1  bw40zzz\n",
       "3  S0004-06142005000700014-1  bv44zzz\n",
       "4  S0004-06142005000700014-1     bn20"
      ]
     },
     "execution_count": 23,
     "metadata": {},
     "output_type": "execute_result"
    }
   ],
   "source": [
    "df_codes_train_dev.head()"
   ]
  },
  {
   "cell_type": "markdown",
   "metadata": {},
   "source": [
    "## Creating corpora of annotated sentences\n",
    "\n",
    "Leveraging the information available for the named-entity-recognition and normalization (NER-N) CodiEsp-X task, we create both a training and a development corpus of annotated sentences with CIE-Procedimiento codes."
   ]
  },
  {
   "cell_type": "markdown",
   "metadata": {},
   "source": [
    "Firstly, we pre-process the NER-N precedure-codes annotations available for both the training and development corpora."
   ]
  },
  {
   "cell_type": "code",
   "execution_count": 24,
   "metadata": {},
   "outputs": [],
   "source": [
    "# Training corpus"
   ]
  },
  {
   "cell_type": "code",
   "execution_count": 25,
   "metadata": {},
   "outputs": [
    {
     "name": "stdout",
     "output_type": "stream",
     "text": [
      "CPU times: user 9.52 ms, sys: 99 µs, total: 9.62 ms\n",
      "Wall time: 8.98 ms\n"
     ]
    }
   ],
   "source": [
    "%%time\n",
    "\n",
    "codiesp_x_train = pd.read_table(corpus_path + \"train/trainX.tsv\", sep='\\t', header=None)"
   ]
  },
  {
   "cell_type": "code",
   "execution_count": 26,
   "metadata": {},
   "outputs": [],
   "source": [
    "codiesp_x_train.columns = [\"doc_id\", \"type\", \"code\", \"word\", \"location\"]"
   ]
  },
  {
   "cell_type": "code",
   "execution_count": 27,
   "metadata": {},
   "outputs": [
    {
     "data": {
      "text/plain": [
       "(9181, 5)"
      ]
     },
     "execution_count": 27,
     "metadata": {},
     "output_type": "execute_result"
    }
   ],
   "source": [
    "codiesp_x_train.shape"
   ]
  },
  {
   "cell_type": "code",
   "execution_count": 28,
   "metadata": {},
   "outputs": [
    {
     "data": {
      "text/html": [
       "<div>\n",
       "<style scoped>\n",
       "    .dataframe tbody tr th:only-of-type {\n",
       "        vertical-align: middle;\n",
       "    }\n",
       "\n",
       "    .dataframe tbody tr th {\n",
       "        vertical-align: top;\n",
       "    }\n",
       "\n",
       "    .dataframe thead th {\n",
       "        text-align: right;\n",
       "    }\n",
       "</style>\n",
       "<table border=\"1\" class=\"dataframe\">\n",
       "  <thead>\n",
       "    <tr style=\"text-align: right;\">\n",
       "      <th></th>\n",
       "      <th>doc_id</th>\n",
       "      <th>type</th>\n",
       "      <th>code</th>\n",
       "      <th>word</th>\n",
       "      <th>location</th>\n",
       "    </tr>\n",
       "  </thead>\n",
       "  <tbody>\n",
       "    <tr>\n",
       "      <th>0</th>\n",
       "      <td>S0004-06142005000700014-1</td>\n",
       "      <td>PROCEDIMIENTO</td>\n",
       "      <td>bw03zzz</td>\n",
       "      <td>Rx tórax</td>\n",
       "      <td>2163 2171</td>\n",
       "    </tr>\n",
       "    <tr>\n",
       "      <th>1</th>\n",
       "      <td>S0004-06142005000700014-1</td>\n",
       "      <td>PROCEDIMIENTO</td>\n",
       "      <td>3e02329</td>\n",
       "      <td>Estreptomicina intramuscular</td>\n",
       "      <td>2787 2801;2810 2823</td>\n",
       "    </tr>\n",
       "    <tr>\n",
       "      <th>2</th>\n",
       "      <td>S0004-06142005000700014-1</td>\n",
       "      <td>DIAGNOSTICO</td>\n",
       "      <td>n44.8</td>\n",
       "      <td>teste derecho aumentado de tamaño</td>\n",
       "      <td>1343 1376</td>\n",
       "    </tr>\n",
       "    <tr>\n",
       "      <th>3</th>\n",
       "      <td>S0004-06142005000700014-1</td>\n",
       "      <td>DIAGNOSTICO</td>\n",
       "      <td>z20.818</td>\n",
       "      <td>exposición a Brucella</td>\n",
       "      <td>594 615</td>\n",
       "    </tr>\n",
       "    <tr>\n",
       "      <th>4</th>\n",
       "      <td>S0004-06142005000700014-1</td>\n",
       "      <td>DIAGNOSTICO</td>\n",
       "      <td>r60.9</td>\n",
       "      <td>edemas</td>\n",
       "      <td>1250 1256</td>\n",
       "    </tr>\n",
       "  </tbody>\n",
       "</table>\n",
       "</div>"
      ],
      "text/plain": [
       "                      doc_id           type     code  \\\n",
       "0  S0004-06142005000700014-1  PROCEDIMIENTO  bw03zzz   \n",
       "1  S0004-06142005000700014-1  PROCEDIMIENTO  3e02329   \n",
       "2  S0004-06142005000700014-1    DIAGNOSTICO    n44.8   \n",
       "3  S0004-06142005000700014-1    DIAGNOSTICO  z20.818   \n",
       "4  S0004-06142005000700014-1    DIAGNOSTICO    r60.9   \n",
       "\n",
       "                                word             location  \n",
       "0                           Rx tórax            2163 2171  \n",
       "1       Estreptomicina intramuscular  2787 2801;2810 2823  \n",
       "2  teste derecho aumentado de tamaño            1343 1376  \n",
       "3              exposición a Brucella              594 615  \n",
       "4                             edemas            1250 1256  "
      ]
     },
     "execution_count": 28,
     "metadata": {},
     "output_type": "execute_result"
    }
   ],
   "source": [
    "codiesp_x_train.head()"
   ]
  },
  {
   "cell_type": "code",
   "execution_count": 29,
   "metadata": {},
   "outputs": [],
   "source": [
    "codiesp_x_train = codiesp_x_train[codiesp_x_train[\"type\"] == \"PROCEDIMIENTO\"]"
   ]
  },
  {
   "cell_type": "code",
   "execution_count": 30,
   "metadata": {},
   "outputs": [
    {
     "data": {
      "text/plain": [
       "(1972, 5)"
      ]
     },
     "execution_count": 30,
     "metadata": {},
     "output_type": "execute_result"
    }
   ],
   "source": [
    "codiesp_x_train.shape"
   ]
  },
  {
   "cell_type": "code",
   "execution_count": 31,
   "metadata": {},
   "outputs": [],
   "source": [
    "df_codes_train_ner = process_ner_labels(codiesp_x_train).sort_values([\"doc_id\", \"start\", \"end\"])"
   ]
  },
  {
   "cell_type": "code",
   "execution_count": 32,
   "metadata": {},
   "outputs": [
    {
     "data": {
      "text/html": [
       "<div>\n",
       "<style scoped>\n",
       "    .dataframe tbody tr th:only-of-type {\n",
       "        vertical-align: middle;\n",
       "    }\n",
       "\n",
       "    .dataframe tbody tr th {\n",
       "        vertical-align: top;\n",
       "    }\n",
       "\n",
       "    .dataframe thead th {\n",
       "        text-align: right;\n",
       "    }\n",
       "</style>\n",
       "<table border=\"1\" class=\"dataframe\">\n",
       "  <thead>\n",
       "    <tr style=\"text-align: right;\">\n",
       "      <th></th>\n",
       "      <th>doc_id</th>\n",
       "      <th>type</th>\n",
       "      <th>code</th>\n",
       "      <th>word</th>\n",
       "      <th>start</th>\n",
       "      <th>end</th>\n",
       "    </tr>\n",
       "  </thead>\n",
       "  <tbody>\n",
       "    <tr>\n",
       "      <th>0</th>\n",
       "      <td>S0004-06142005000700014-1</td>\n",
       "      <td>PROCEDIMIENTO</td>\n",
       "      <td>bw03zzz</td>\n",
       "      <td>Rx tórax</td>\n",
       "      <td>2163</td>\n",
       "      <td>2171</td>\n",
       "    </tr>\n",
       "    <tr>\n",
       "      <th>3</th>\n",
       "      <td>S0004-06142005000700014-1</td>\n",
       "      <td>PROCEDIMIENTO</td>\n",
       "      <td>bw40zzz</td>\n",
       "      <td>Ecografía abdominal</td>\n",
       "      <td>2173</td>\n",
       "      <td>2192</td>\n",
       "    </tr>\n",
       "    <tr>\n",
       "      <th>5</th>\n",
       "      <td>S0004-06142005000700014-1</td>\n",
       "      <td>PROCEDIMIENTO</td>\n",
       "      <td>bn20</td>\n",
       "      <td>TAC craneal</td>\n",
       "      <td>2194</td>\n",
       "      <td>2205</td>\n",
       "    </tr>\n",
       "    <tr>\n",
       "      <th>4</th>\n",
       "      <td>S0004-06142005000700014-1</td>\n",
       "      <td>PROCEDIMIENTO</td>\n",
       "      <td>bv44zzz</td>\n",
       "      <td>Ecografía testicular</td>\n",
       "      <td>2287</td>\n",
       "      <td>2307</td>\n",
       "    </tr>\n",
       "    <tr>\n",
       "      <th>1</th>\n",
       "      <td>S0004-06142005000700014-1</td>\n",
       "      <td>PROCEDIMIENTO</td>\n",
       "      <td>3e02329</td>\n",
       "      <td>Estreptomicina intramuscular</td>\n",
       "      <td>2787</td>\n",
       "      <td>2801</td>\n",
       "    </tr>\n",
       "  </tbody>\n",
       "</table>\n",
       "</div>"
      ],
      "text/plain": [
       "                      doc_id           type     code  \\\n",
       "0  S0004-06142005000700014-1  PROCEDIMIENTO  bw03zzz   \n",
       "3  S0004-06142005000700014-1  PROCEDIMIENTO  bw40zzz   \n",
       "5  S0004-06142005000700014-1  PROCEDIMIENTO     bn20   \n",
       "4  S0004-06142005000700014-1  PROCEDIMIENTO  bv44zzz   \n",
       "1  S0004-06142005000700014-1  PROCEDIMIENTO  3e02329   \n",
       "\n",
       "                           word start   end  \n",
       "0                      Rx tórax  2163  2171  \n",
       "3           Ecografía abdominal  2173  2192  \n",
       "5                   TAC craneal  2194  2205  \n",
       "4          Ecografía testicular  2287  2307  \n",
       "1  Estreptomicina intramuscular  2787  2801  "
      ]
     },
     "execution_count": 32,
     "metadata": {},
     "output_type": "execute_result"
    }
   ],
   "source": [
    "df_codes_train_ner.head()"
   ]
  },
  {
   "cell_type": "code",
   "execution_count": 33,
   "metadata": {},
   "outputs": [
    {
     "data": {
      "text/plain": [
       "(2769, 6)"
      ]
     },
     "execution_count": 33,
     "metadata": {},
     "output_type": "execute_result"
    }
   ],
   "source": [
    "df_codes_train_ner.shape"
   ]
  },
  {
   "cell_type": "code",
   "execution_count": 34,
   "metadata": {},
   "outputs": [],
   "source": [
    "# Development corpus"
   ]
  },
  {
   "cell_type": "code",
   "execution_count": 35,
   "metadata": {},
   "outputs": [
    {
     "name": "stdout",
     "output_type": "stream",
     "text": [
      "CPU times: user 5.37 ms, sys: 85 µs, total: 5.46 ms\n",
      "Wall time: 5.13 ms\n"
     ]
    }
   ],
   "source": [
    "%%time\n",
    "\n",
    "codiesp_x_dev = pd.read_table(corpus_path + \"dev/devX.tsv\", sep='\\t', header=None)"
   ]
  },
  {
   "cell_type": "code",
   "execution_count": 36,
   "metadata": {},
   "outputs": [],
   "source": [
    "codiesp_x_dev.columns = [\"doc_id\", \"type\", \"code\", \"word\", \"location\"]"
   ]
  },
  {
   "cell_type": "code",
   "execution_count": 37,
   "metadata": {},
   "outputs": [
    {
     "data": {
      "text/plain": [
       "(4477, 5)"
      ]
     },
     "execution_count": 37,
     "metadata": {},
     "output_type": "execute_result"
    }
   ],
   "source": [
    "codiesp_x_dev.shape"
   ]
  },
  {
   "cell_type": "code",
   "execution_count": 38,
   "metadata": {},
   "outputs": [
    {
     "data": {
      "text/html": [
       "<div>\n",
       "<style scoped>\n",
       "    .dataframe tbody tr th:only-of-type {\n",
       "        vertical-align: middle;\n",
       "    }\n",
       "\n",
       "    .dataframe tbody tr th {\n",
       "        vertical-align: top;\n",
       "    }\n",
       "\n",
       "    .dataframe thead th {\n",
       "        text-align: right;\n",
       "    }\n",
       "</style>\n",
       "<table border=\"1\" class=\"dataframe\">\n",
       "  <thead>\n",
       "    <tr style=\"text-align: right;\">\n",
       "      <th></th>\n",
       "      <th>doc_id</th>\n",
       "      <th>type</th>\n",
       "      <th>code</th>\n",
       "      <th>word</th>\n",
       "      <th>location</th>\n",
       "    </tr>\n",
       "  </thead>\n",
       "  <tbody>\n",
       "    <tr>\n",
       "      <th>0</th>\n",
       "      <td>S0004-06142005000900016-1</td>\n",
       "      <td>PROCEDIMIENTO</td>\n",
       "      <td>bt41zzz</td>\n",
       "      <td>ecografía renal derecha</td>\n",
       "      <td>307 316;348 361</td>\n",
       "    </tr>\n",
       "    <tr>\n",
       "      <th>1</th>\n",
       "      <td>S0004-06142005000900016-1</td>\n",
       "      <td>PROCEDIMIENTO</td>\n",
       "      <td>ct13</td>\n",
       "      <td>gammagrafía renal</td>\n",
       "      <td>739 756</td>\n",
       "    </tr>\n",
       "    <tr>\n",
       "      <th>2</th>\n",
       "      <td>S0004-06142005000900016-1</td>\n",
       "      <td>DIAGNOSTICO</td>\n",
       "      <td>q62.11</td>\n",
       "      <td>estenosis en la unión pieloureteral derecha</td>\n",
       "      <td>540 583</td>\n",
       "    </tr>\n",
       "    <tr>\n",
       "      <th>3</th>\n",
       "      <td>S0004-06142005000900016-1</td>\n",
       "      <td>DIAGNOSTICO</td>\n",
       "      <td>n28.89</td>\n",
       "      <td>ectasia pielocalicial</td>\n",
       "      <td>326 347</td>\n",
       "    </tr>\n",
       "    <tr>\n",
       "      <th>4</th>\n",
       "      <td>S0004-06142005000900016-1</td>\n",
       "      <td>DIAGNOSTICO</td>\n",
       "      <td>n39.0</td>\n",
       "      <td>infecciones del tracto urinario</td>\n",
       "      <td>198 229</td>\n",
       "    </tr>\n",
       "  </tbody>\n",
       "</table>\n",
       "</div>"
      ],
      "text/plain": [
       "                      doc_id           type     code  \\\n",
       "0  S0004-06142005000900016-1  PROCEDIMIENTO  bt41zzz   \n",
       "1  S0004-06142005000900016-1  PROCEDIMIENTO     ct13   \n",
       "2  S0004-06142005000900016-1    DIAGNOSTICO   q62.11   \n",
       "3  S0004-06142005000900016-1    DIAGNOSTICO   n28.89   \n",
       "4  S0004-06142005000900016-1    DIAGNOSTICO    n39.0   \n",
       "\n",
       "                                          word         location  \n",
       "0                      ecografía renal derecha  307 316;348 361  \n",
       "1                            gammagrafía renal          739 756  \n",
       "2  estenosis en la unión pieloureteral derecha          540 583  \n",
       "3                        ectasia pielocalicial          326 347  \n",
       "4              infecciones del tracto urinario          198 229  "
      ]
     },
     "execution_count": 38,
     "metadata": {},
     "output_type": "execute_result"
    }
   ],
   "source": [
    "codiesp_x_dev.head()"
   ]
  },
  {
   "cell_type": "code",
   "execution_count": 39,
   "metadata": {},
   "outputs": [],
   "source": [
    "codiesp_x_dev = codiesp_x_dev[codiesp_x_dev[\"type\"] == \"PROCEDIMIENTO\"]"
   ]
  },
  {
   "cell_type": "code",
   "execution_count": 40,
   "metadata": {},
   "outputs": [
    {
     "data": {
      "text/plain": [
       "(1046, 5)"
      ]
     },
     "execution_count": 40,
     "metadata": {},
     "output_type": "execute_result"
    }
   ],
   "source": [
    "codiesp_x_dev.shape"
   ]
  },
  {
   "cell_type": "code",
   "execution_count": 41,
   "metadata": {},
   "outputs": [],
   "source": [
    "df_codes_dev_ner = process_ner_labels(codiesp_x_dev).sort_values([\"doc_id\", \"start\", \"end\"])"
   ]
  },
  {
   "cell_type": "code",
   "execution_count": 42,
   "metadata": {},
   "outputs": [
    {
     "data": {
      "text/html": [
       "<div>\n",
       "<style scoped>\n",
       "    .dataframe tbody tr th:only-of-type {\n",
       "        vertical-align: middle;\n",
       "    }\n",
       "\n",
       "    .dataframe tbody tr th {\n",
       "        vertical-align: top;\n",
       "    }\n",
       "\n",
       "    .dataframe thead th {\n",
       "        text-align: right;\n",
       "    }\n",
       "</style>\n",
       "<table border=\"1\" class=\"dataframe\">\n",
       "  <thead>\n",
       "    <tr style=\"text-align: right;\">\n",
       "      <th></th>\n",
       "      <th>doc_id</th>\n",
       "      <th>type</th>\n",
       "      <th>code</th>\n",
       "      <th>word</th>\n",
       "      <th>start</th>\n",
       "      <th>end</th>\n",
       "    </tr>\n",
       "  </thead>\n",
       "  <tbody>\n",
       "    <tr>\n",
       "      <th>0</th>\n",
       "      <td>S0004-06142005000900016-1</td>\n",
       "      <td>PROCEDIMIENTO</td>\n",
       "      <td>bt41zzz</td>\n",
       "      <td>ecografía renal derecha</td>\n",
       "      <td>307</td>\n",
       "      <td>316</td>\n",
       "    </tr>\n",
       "    <tr>\n",
       "      <th>1</th>\n",
       "      <td>S0004-06142005000900016-1</td>\n",
       "      <td>PROCEDIMIENTO</td>\n",
       "      <td>bt41zzz</td>\n",
       "      <td>ecografía renal derecha</td>\n",
       "      <td>348</td>\n",
       "      <td>361</td>\n",
       "    </tr>\n",
       "    <tr>\n",
       "      <th>2</th>\n",
       "      <td>S0004-06142005000900016-1</td>\n",
       "      <td>PROCEDIMIENTO</td>\n",
       "      <td>ct13</td>\n",
       "      <td>gammagrafía renal</td>\n",
       "      <td>739</td>\n",
       "      <td>756</td>\n",
       "    </tr>\n",
       "    <tr>\n",
       "      <th>3</th>\n",
       "      <td>S0004-06142005001000011-1</td>\n",
       "      <td>PROCEDIMIENTO</td>\n",
       "      <td>3e1m39z</td>\n",
       "      <td>diálisis peritoneal</td>\n",
       "      <td>95</td>\n",
       "      <td>114</td>\n",
       "    </tr>\n",
       "    <tr>\n",
       "      <th>7</th>\n",
       "      <td>S0004-06142005001000011-1</td>\n",
       "      <td>PROCEDIMIENTO</td>\n",
       "      <td>0270</td>\n",
       "      <td>angioplastia transluminal de la coronaria derecha</td>\n",
       "      <td>424</td>\n",
       "      <td>473</td>\n",
       "    </tr>\n",
       "  </tbody>\n",
       "</table>\n",
       "</div>"
      ],
      "text/plain": [
       "                      doc_id           type     code  \\\n",
       "0  S0004-06142005000900016-1  PROCEDIMIENTO  bt41zzz   \n",
       "1  S0004-06142005000900016-1  PROCEDIMIENTO  bt41zzz   \n",
       "2  S0004-06142005000900016-1  PROCEDIMIENTO     ct13   \n",
       "3  S0004-06142005001000011-1  PROCEDIMIENTO  3e1m39z   \n",
       "7  S0004-06142005001000011-1  PROCEDIMIENTO     0270   \n",
       "\n",
       "                                                word start  end  \n",
       "0                            ecografía renal derecha   307  316  \n",
       "1                            ecografía renal derecha   348  361  \n",
       "2                                  gammagrafía renal   739  756  \n",
       "3                                diálisis peritoneal    95  114  \n",
       "7  angioplastia transluminal de la coronaria derecha   424  473  "
      ]
     },
     "execution_count": 42,
     "metadata": {},
     "output_type": "execute_result"
    }
   ],
   "source": [
    "df_codes_dev_ner.head()"
   ]
  },
  {
   "cell_type": "code",
   "execution_count": 43,
   "metadata": {},
   "outputs": [
    {
     "data": {
      "text/plain": [
       "(1540, 6)"
      ]
     },
     "execution_count": 43,
     "metadata": {},
     "output_type": "execute_result"
    }
   ],
   "source": [
    "df_codes_dev_ner.shape"
   ]
  },
  {
   "cell_type": "markdown",
   "metadata": {},
   "source": [
    "Now, using the character start-end positions of each sentence from the CodiEsp corpus (see `datasets/CodiEsp-Sentence-Split.ipynb`), we annotate the sentences with CIE-Procedimiento codes. Also, using XLM-R tokenizer, each sentence is converted into a sequence of subwords, which are further converted into vocabulary indices (input IDs) and attention mask arrays (XLM-R input tensors). We also generate a *fragments* dataset indicating the number of produced annotated sentences for each document."
   ]
  },
  {
   "cell_type": "code",
   "execution_count": 44,
   "metadata": {},
   "outputs": [],
   "source": [
    "# Sentence-Split information\n",
    "ss_corpus_path = \"../datasets/CodiEsp-SSplit-text/\""
   ]
  },
  {
   "cell_type": "markdown",
   "metadata": {},
   "source": [
    "### Training corpus"
   ]
  },
  {
   "cell_type": "code",
   "execution_count": 45,
   "metadata": {},
   "outputs": [],
   "source": [
    "label_list = list(df_codes_train_dev[\"code\"])"
   ]
  },
  {
   "cell_type": "code",
   "execution_count": 46,
   "metadata": {},
   "outputs": [
    {
     "data": {
      "text/plain": [
       "2367"
      ]
     },
     "execution_count": 46,
     "metadata": {},
     "output_type": "execute_result"
    }
   ],
   "source": [
    "len(label_list)"
   ]
  },
  {
   "cell_type": "code",
   "execution_count": 47,
   "metadata": {},
   "outputs": [
    {
     "data": {
      "text/plain": [
       "727"
      ]
     },
     "execution_count": 47,
     "metadata": {},
     "output_type": "execute_result"
    }
   ],
   "source": [
    "len(set(label_list))"
   ]
  },
  {
   "cell_type": "code",
   "execution_count": 48,
   "metadata": {},
   "outputs": [
    {
     "data": {
      "text/plain": [
       "MultiLabelBinarizer()"
      ]
     },
     "execution_count": 48,
     "metadata": {},
     "output_type": "execute_result"
    }
   ],
   "source": [
    "from sklearn.preprocessing import MultiLabelBinarizer\n",
    "\n",
    "mlb_encoder = MultiLabelBinarizer()\n",
    "mlb_encoder.fit([label_list])"
   ]
  },
  {
   "cell_type": "code",
   "execution_count": 49,
   "metadata": {},
   "outputs": [],
   "source": [
    "# Number of distinct codes\n",
    "num_labels = len(mlb_encoder.classes_)"
   ]
  },
  {
   "cell_type": "code",
   "execution_count": 50,
   "metadata": {},
   "outputs": [
    {
     "data": {
      "text/plain": [
       "727"
      ]
     },
     "execution_count": 50,
     "metadata": {},
     "output_type": "execute_result"
    }
   ],
   "source": [
    "num_labels"
   ]
  },
  {
   "cell_type": "markdown",
   "metadata": {},
   "source": [
    "Only training texts that are annotated with CIE-Procedimiento codes are considered:"
   ]
  },
  {
   "cell_type": "code",
   "execution_count": 51,
   "metadata": {},
   "outputs": [
    {
     "data": {
      "text/plain": [
       "65"
      ]
     },
     "execution_count": 51,
     "metadata": {},
     "output_type": "execute_result"
    }
   ],
   "source": [
    "# Some train documents (texts) are not annotated \n",
    "len(set(df_text_train[\"doc_id\"]) - set(df_codes_train_ner[\"doc_id\"]))"
   ]
  },
  {
   "cell_type": "code",
   "execution_count": 52,
   "metadata": {},
   "outputs": [],
   "source": [
    "train_doc_list = sorted(set(df_codes_train_ner[\"doc_id\"]))"
   ]
  },
  {
   "cell_type": "code",
   "execution_count": 53,
   "metadata": {},
   "outputs": [
    {
     "data": {
      "text/plain": [
       "435"
      ]
     },
     "execution_count": 53,
     "metadata": {},
     "output_type": "execute_result"
    }
   ],
   "source": [
    "len(train_doc_list)"
   ]
  },
  {
   "cell_type": "code",
   "execution_count": 54,
   "metadata": {},
   "outputs": [],
   "source": [
    "# Sentence-Split data"
   ]
  },
  {
   "cell_type": "code",
   "execution_count": 55,
   "metadata": {},
   "outputs": [
    {
     "name": "stdout",
     "output_type": "stream",
     "text": [
      "CPU times: user 4.21 ms, sys: 11.9 ms, total: 16.1 ms\n",
      "Wall time: 15.9 ms\n"
     ]
    }
   ],
   "source": [
    "%%time\n",
    "ss_sub_corpus_path = ss_corpus_path + \"train/\"\n",
    "ss_files = [f for f in os.listdir(ss_sub_corpus_path) if os.path.isfile(ss_sub_corpus_path + f)]\n",
    "ss_dict_train = load_ss_files(ss_files, ss_sub_corpus_path)"
   ]
  },
  {
   "cell_type": "code",
   "execution_count": 56,
   "metadata": {},
   "outputs": [
    {
     "name": "stderr",
     "output_type": "stream",
     "text": [
      "100%|██████████| 435/435 [00:04<00:00, 93.91it/s] \n"
     ]
    },
    {
     "name": "stdout",
     "output_type": "stream",
     "text": [
      "CPU times: user 4.75 s, sys: 18.9 ms, total: 4.77 s\n",
      "Wall time: 4.74 s\n"
     ]
    }
   ],
   "source": [
    "%%time\n",
    "train_ind, train_att, train_y, train_frag, train_start_end_frag = ss_create_frag_input_data_xlmr(df_text=df_text_train, \n",
    "                                                  text_col=text_col, \n",
    "                                                  df_ann=df_codes_train_ner, doc_list=train_doc_list, ss_dict=ss_dict_train,\n",
    "                                                  tokenizer=tokenizer, sp_pb2=spt, lab_encoder=mlb_encoder, seq_len=SEQ_LEN)"
   ]
  },
  {
   "cell_type": "code",
   "execution_count": 57,
   "metadata": {},
   "outputs": [],
   "source": [
    "# Sanity check"
   ]
  },
  {
   "cell_type": "code",
   "execution_count": 58,
   "metadata": {},
   "outputs": [
    {
     "data": {
      "text/plain": [
       "(7013, 128)"
      ]
     },
     "execution_count": 58,
     "metadata": {},
     "output_type": "execute_result"
    }
   ],
   "source": [
    "train_ind.shape"
   ]
  },
  {
   "cell_type": "code",
   "execution_count": 59,
   "metadata": {},
   "outputs": [
    {
     "data": {
      "text/plain": [
       "(7013, 128)"
      ]
     },
     "execution_count": 59,
     "metadata": {},
     "output_type": "execute_result"
    }
   ],
   "source": [
    "train_att.shape"
   ]
  },
  {
   "cell_type": "code",
   "execution_count": 60,
   "metadata": {},
   "outputs": [
    {
     "data": {
      "text/plain": [
       "(7013, 727)"
      ]
     },
     "execution_count": 60,
     "metadata": {},
     "output_type": "execute_result"
    }
   ],
   "source": [
    "train_y.shape"
   ]
  },
  {
   "cell_type": "code",
   "execution_count": 61,
   "metadata": {},
   "outputs": [
    {
     "data": {
      "text/plain": [
       "435"
      ]
     },
     "execution_count": 61,
     "metadata": {},
     "output_type": "execute_result"
    }
   ],
   "source": [
    "len(train_frag)"
   ]
  },
  {
   "cell_type": "code",
   "execution_count": 62,
   "metadata": {},
   "outputs": [
    {
     "data": {
      "text/plain": [
       "7013"
      ]
     },
     "execution_count": 62,
     "metadata": {},
     "output_type": "execute_result"
    }
   ],
   "source": [
    "len(train_start_end_frag)"
   ]
  },
  {
   "cell_type": "code",
   "execution_count": 63,
   "metadata": {},
   "outputs": [
    {
     "data": {
      "text/plain": [
       "count    435.000000\n",
       "mean      16.121839\n",
       "std        7.762687\n",
       "min        4.000000\n",
       "25%       10.500000\n",
       "50%       15.000000\n",
       "75%       20.000000\n",
       "max       54.000000\n",
       "dtype: float64"
      ]
     },
     "execution_count": 63,
     "metadata": {},
     "output_type": "execute_result"
    }
   ],
   "source": [
    "# Check n_frag distribution across texts\n",
    "pd.Series(train_frag).describe()"
   ]
  },
  {
   "cell_type": "code",
   "execution_count": 64,
   "metadata": {},
   "outputs": [],
   "source": [
    "# Inspect a randomly selected text and its encoded version\n",
    "check_id = np.random.randint(low=0, high=len(train_doc_list), size=1)[0]"
   ]
  },
  {
   "cell_type": "code",
   "execution_count": 65,
   "metadata": {},
   "outputs": [
    {
     "data": {
      "text/plain": [
       "104"
      ]
     },
     "execution_count": 65,
     "metadata": {},
     "output_type": "execute_result"
    }
   ],
   "source": [
    "check_id"
   ]
  },
  {
   "cell_type": "code",
   "execution_count": 66,
   "metadata": {},
   "outputs": [
    {
     "data": {
      "text/plain": [
       "'S0211-69952012000700031-1'"
      ]
     },
     "execution_count": 66,
     "metadata": {},
     "output_type": "execute_result"
    }
   ],
   "source": [
    "train_doc_list[check_id]"
   ]
  },
  {
   "cell_type": "code",
   "execution_count": 67,
   "metadata": {
    "scrolled": true
   },
   "outputs": [
    {
     "data": {
      "text/plain": [
       "'Varón de 53 años, jubilado, que vive en área rural. Fue diagnosticado hace 10 años de enfermedad inflamatoria intestinal, que se controla únicamente con dosis altas de esteroides. Dos años antes había ingresado en Unidad de Vigilancia Intensiva por sepsis de origen intestinal con fracaso multiorgánico; desde entonces está en hemodiálisis periódica al no haber recuperación funcional. La biopsia renal mostraba nefropatía tubulointersticial.\\nDesde un mes antes del ingreso presenta lesiones cutáneas, eritematosas, sobre zonas induradas, pruriginosas y dolorosas, en dorso del pie derecho y cara interna de los muslos, con mala respuesta al tratamiento antibiótico (iniciado de forma empírica por sospecha de celulitis), que fueron evolucionando hacia la descamación y posterior ulceración. Se realizó biopsia cutánea que es informada como criptococosis. Al examen directo con tinta china y tinción de Gram se observan abundantes levaduras esféricas, de gran tamaño, con gemación marcada y encapsuladas. El cultivo da hongo levaduriforme, ureasa positivo, compatible con criptococo neoformans, variedad neoformans. Criptolátex en suero positivo 1/2048. Se descartó afectación pulmonar y neurológica por tomografía axial computarizada y punción lumbar.\\n\\nIniciamos tratamiento con voriconazol 200 mg/12 horas, presentando al cabo de 10 días una llamativa alteración de los test hepáticos (bilirrubina total: 9,59 mg/dl; directa: 9,41 mg/dl; transaminasa glutámico-oxalacética [TGO] 176 U/l; transaminasa glutámico-pirúvica [TGP]: 226 U/l) que obligó a su sustitución por anfotericina B a dosis de 100 mg/día. Además de esto, se disminuyó la dosis de prednisona. Con ello, al cabo de 2 semanas presentaba una notable mejoría de las lesiones con casi total desaparición de las ulceraciones y normalización de los test hepáticos.\\n\\n'"
      ]
     },
     "execution_count": 67,
     "metadata": {},
     "output_type": "execute_result"
    }
   ],
   "source": [
    "df_text_train[df_text_train[\"doc_id\"] == train_doc_list[check_id]][text_col].values[0]"
   ]
  },
  {
   "cell_type": "code",
   "execution_count": 68,
   "metadata": {},
   "outputs": [
    {
     "name": "stdout",
     "output_type": "stream",
     "text": [
      "[()] \n",
      "\n",
      "[()] \n",
      "\n",
      "[('5a1d',)] \n",
      "\n",
      "[()] \n",
      "\n",
      "[('0hbmxzx',)] \n",
      "\n",
      "[('0hbmxzx',)] \n",
      "\n",
      "[()] \n",
      "\n",
      "[()] \n",
      "\n",
      "[()] \n",
      "\n",
      "[('009u3zx',)] \n",
      "\n",
      "[()] \n",
      "\n",
      "[()] \n",
      "\n",
      "[()] \n",
      "\n"
     ]
    }
   ],
   "source": [
    "check_id_frag = sum(train_frag[:check_id])\n",
    "for i in range(check_id_frag, check_id_frag + train_frag[check_id]):\n",
    "    print(mlb_encoder.inverse_transform(np.array([train_y[i]])), \"\\n\")"
   ]
  },
  {
   "cell_type": "code",
   "execution_count": 69,
   "metadata": {},
   "outputs": [
    {
     "name": "stdout",
     "output_type": "stream",
     "text": [
      "[('▁Var', (0, 3)), ('ón', (3, 6)), ('▁de', (6, 9)), ('▁53', (9, 12)), ('▁años', (12, 18)), (',', (18, 19)), ('▁jubila', (19, 26)), ('do', (26, 28)), (',', (28, 29)), ('▁que', (29, 33)), ('▁vive', (33, 38)), ('▁en', (38, 41)), ('▁área', (41, 47)), ('▁rural', (47, 53)), ('.', (53, 54))]\n",
      "\n",
      "\n",
      "[('▁Fue', (55, 58)), ('▁diagnostic', (58, 69)), ('ado', (69, 72)), ('▁hace', (72, 77)), ('▁10', (77, 80)), ('▁años', (80, 86)), ('▁de', (86, 89)), ('▁enfermedad', (89, 100)), ('▁inflama', (100, 108)), ('toria', (108, 113)), ('▁intestinal', (113, 124)), (',', (124, 125)), ('▁que', (125, 129)), ('▁se', (129, 132)), ('▁control', (132, 140)), ('a', (140, 141)), ('▁únicamente', (141, 153)), ('▁con', (153, 157)), ('▁dosis', (157, 163)), ('▁alta', (163, 168)), ('s', (168, 169)), ('▁de', (169, 172)), ('▁e', (172, 174)), ('steroid', (174, 181)), ('es', (181, 183)), ('.', (183, 184))]\n",
      "\n",
      "\n",
      "[('▁Dos', (185, 188)), ('▁años', (188, 194)), ('▁antes', (194, 200)), ('▁había', (200, 207)), ('▁in', (207, 210)), ('gres', (210, 214)), ('ado', (214, 217)), ('▁en', (217, 220)), ('▁Un', (220, 223)), ('idad', (223, 227)), ('▁de', (227, 230)), ('▁V', (230, 232)), ('igilan', (232, 238)), ('cia', (238, 241)), ('▁Intensiv', (241, 250)), ('a', (250, 251)), ('▁por', (251, 255)), ('▁se', (255, 258)), ('psis', (258, 262)), ('▁de', (262, 265)), ('▁origen', (265, 272)), ('▁intestinal', (272, 283)), ('▁con', (283, 287)), ('▁fra', (287, 291)), ('caso', (291, 295)), ('▁multi', (295, 301)), ('org', (301, 304)), ('á', (304, 306)), ('nico', (306, 310)), (';', (310, 311)), ('▁desde', (311, 317)), ('▁entonces', (317, 326)), ('▁está', (326, 332)), ('▁en', (332, 335)), ('▁hem', (335, 339)), ('odi', (339, 342)), ('ális', (342, 347)), ('is', (347, 349)), ('▁periódica', (349, 360)), ('▁al', (360, 363)), ('▁no', (363, 366)), ('▁haber', (366, 372)), ('▁recuperación', (372, 386)), ('▁funcional', (386, 396)), ('.', (396, 397))]\n",
      "\n",
      "\n",
      "[('▁La', (398, 400)), ('▁bio', (400, 404)), ('psi', (404, 407)), ('a', (407, 408)), ('▁renal', (408, 414)), ('▁mostra', (414, 421)), ('ba', (421, 423)), ('▁ne', (423, 426)), ('fro', (426, 429)), ('pat', (429, 432)), ('ía', (432, 435)), ('▁tu', (435, 438)), ('bulo', (438, 442)), ('inter', (442, 447)), ('sti', (447, 450)), ('cial', (450, 454)), ('.', (454, 455))]\n",
      "\n",
      "\n",
      "[('▁Desde', (456, 461)), ('▁un', (461, 464)), ('▁mes', (464, 468)), ('▁antes', (468, 474)), ('▁del', (474, 478)), ('▁ingreso', (478, 486)), ('▁presenta', (486, 495)), ('▁les', (495, 499)), ('iones', (499, 504)), ('▁cu', (504, 507)), ('tán', (507, 511)), ('e', (511, 512)), ('as', (512, 514)), (',', (514, 515)), ('▁er', (515, 518)), ('ite', (518, 521)), ('mat', (521, 524)), ('osas', (524, 528)), (',', (528, 529)), ('▁sobre', (529, 535)), ('▁zonas', (535, 541)), ('▁in', (541, 544)), ('dur', (544, 547)), ('adas', (547, 551)), (',', (551, 552)), ('▁pru', (552, 556)), ('rig', (556, 559)), ('in', (559, 561)), ('osas', (561, 565)), ('▁y', (565, 567)), ('▁dolor', (567, 573)), ('osas', (573, 577)), (',', (577, 578)), ('▁en', (578, 581)), ('▁dor', (581, 585)), ('so', (585, 587)), ('▁del', (587, 591)), ('▁pie', (591, 595)), ('▁derecho', (595, 603)), ('▁y', (603, 605)), ('▁cara', (605, 610)), ('▁interna', (610, 618)), ('▁de', (618, 621)), ('▁los', (621, 625)), ('▁mus', (625, 629)), ('los', (629, 632)), (',', (632, 633)), ('▁con', (633, 637)), ('▁mala', (637, 642)), ('▁respuesta', (642, 652)), ('▁al', (652, 655)), ('▁tratamiento', (655, 667)), ('▁anti', (667, 672)), ('bi', (672, 674)), ('ó', (674, 676)), ('tico', (676, 680)), ('▁(', (680, 682)), ('inici', (682, 687)), ('ado', (687, 690)), ('▁de', (690, 693)), ('▁forma', (693, 699)), ('▁em', (699, 702)), ('pír', (702, 706)), ('ica', (706, 709)), ('▁por', (709, 713)), ('▁so', (713, 716)), ('spec', (716, 720)), ('ha', (720, 722)), ('▁de', (722, 725)), ('▁celulit', (725, 733)), ('is', (733, 735)), ('),', (735, 737)), ('▁que', (737, 741)), ('▁fueron', (741, 748)), ('▁evoluciona', (748, 759)), ('ndo', (759, 762)), ('▁hacia', (762, 768)), ('▁la', (768, 771)), ('▁des', (771, 775)), ('cam', (775, 778)), ('ación', (778, 784)), ('▁y', (784, 786)), ('▁posterior', (786, 796)), ('▁ul', (796, 799)), ('cer', (799, 802)), ('ación', (802, 808)), ('.', (808, 809))]\n",
      "\n",
      "\n",
      "[('▁Se', (810, 812)), ('▁realizó', (812, 821)), ('▁bio', (821, 825)), ('psi', (825, 828)), ('a', (828, 829)), ('▁cu', (829, 832)), ('tán', (832, 836)), ('e', (836, 837)), ('a', (837, 838)), ('▁que', (838, 842)), ('▁es', (842, 845)), ('▁informa', (845, 853)), ('da', (853, 855)), ('▁como', (855, 860)), ('▁cripto', (860, 867)), ('co', (867, 869)), ('cos', (869, 872)), ('is', (872, 874)), ('.', (874, 875))]\n",
      "\n",
      "\n",
      "[('▁Al', (876, 878)), ('▁examen', (878, 885)), ('▁directo', (885, 893)), ('▁con', (893, 897)), ('▁tinta', (897, 903)), ('▁', (903, 904)), ('china', (904, 909)), ('▁y', (909, 911)), ('▁tin', (911, 915)), ('ción', (915, 920)), ('▁de', (920, 923)), ('▁Gram', (923, 928)), ('▁se', (928, 931)), ('▁observa', (931, 939)), ('n', (939, 940)), ('▁abundante', (940, 950)), ('s', (950, 951)), ('▁leva', (951, 956)), ('dura', (956, 960)), ('s', (960, 961)), ('▁es', (961, 964)), ('fér', (964, 968)), ('icas', (968, 972)), (',', (972, 973)), ('▁de', (973, 976)), ('▁gran', (976, 981)), ('▁tamaño', (981, 989)), (',', (989, 990)), ('▁con', (990, 994)), ('▁gem', (994, 998)), ('ación', (998, 1004)), ('▁marcada', (1004, 1012)), ('▁y', (1012, 1014)), ('▁en', (1014, 1017)), ('cap', (1017, 1020)), ('sula', (1020, 1024)), ('das', (1024, 1027)), ('.', (1027, 1028))]\n",
      "\n",
      "\n",
      "[('▁El', (1029, 1031)), ('▁cultivo', (1031, 1039)), ('▁da', (1039, 1042)), ('▁hon', (1042, 1046)), ('go', (1046, 1048)), ('▁le', (1048, 1051)), ('vad', (1051, 1054)), ('uri', (1054, 1057)), ('forme', (1057, 1062)), (',', (1062, 1063)), ('▁ure', (1063, 1067)), ('asa', (1067, 1070)), ('▁positivo', (1070, 1079)), (',', (1079, 1080)), ('▁compatible', (1080, 1091)), ('▁con', (1091, 1095)), ('▁cripto', (1095, 1102)), ('co', (1102, 1104)), ('co', (1104, 1106)), ('▁neo', (1106, 1110)), ('forma', (1110, 1115)), ('ns', (1115, 1117)), (',', (1117, 1118)), ('▁variedad', (1118, 1127)), ('▁neo', (1127, 1131)), ('forma', (1131, 1136)), ('ns', (1136, 1138)), ('.', (1138, 1139))]\n",
      "\n",
      "\n",
      "[('▁Cri', (1140, 1143)), ('pto', (1143, 1146)), ('lát', (1146, 1150)), ('ex', (1150, 1152)), ('▁en', (1152, 1155)), ('▁su', (1155, 1158)), ('ero', (1158, 1161)), ('▁positivo', (1161, 1170)), ('▁1', (1170, 1172)), ('/20', (1172, 1175)), ('48', (1175, 1177)), ('.', (1177, 1178))]\n",
      "\n",
      "\n",
      "[('▁Se', (1179, 1181)), ('▁de', (1181, 1184)), ('scar', (1184, 1188)), ('tó', (1188, 1191)), ('▁afecta', (1191, 1198)), ('ción', (1198, 1203)), ('▁pulmonar', (1203, 1212)), ('▁y', (1212, 1214)), ('▁neuro', (1214, 1220)), ('lógica', (1220, 1227)), ('▁por', (1227, 1231)), ('▁tom', (1231, 1235)), ('ografía', (1235, 1243)), ('▁a', (1243, 1245)), ('xi', (1245, 1247)), ('al', (1247, 1249)), ('▁computa', (1249, 1257)), ('r', (1257, 1258)), ('izada', (1258, 1263)), ('▁y', (1263, 1265)), ('▁pun', (1265, 1269)), ('ción', (1269, 1274)), ('▁lum', (1274, 1278)), ('bar', (1278, 1281)), ('.', (1281, 1282))]\n",
      "\n",
      "\n",
      "[('▁Inicia', (1284, 1290)), ('mos', (1290, 1293)), ('▁tratamiento', (1293, 1305)), ('▁con', (1305, 1309)), ('▁vor', (1309, 1313)), ('ico', (1313, 1316)), ('na', (1316, 1318)), ('zol', (1318, 1321)), ('▁200', (1321, 1325)), ('▁mg', (1325, 1328)), ('/12', (1328, 1331)), ('▁horas', (1331, 1337)), (',', (1337, 1338)), ('▁presenta', (1338, 1347)), ('ndo', (1347, 1350)), ('▁al', (1350, 1353)), ('▁cabo', (1353, 1358)), ('▁de', (1358, 1361)), ('▁10', (1361, 1364)), ('▁días', (1364, 1370)), ('▁una', (1370, 1374)), ('▁llama', (1374, 1380)), ('tiva', (1380, 1384)), ('▁altera', (1384, 1391)), ('ción', (1391, 1396)), ('▁de', (1396, 1399)), ('▁los', (1399, 1403)), ('▁test', (1403, 1408)), ('▁hep', (1408, 1412)), ('áticos', (1412, 1419)), ('▁(', (1419, 1421)), ('bili', (1421, 1425)), ('r', (1425, 1426)), ('ru', (1426, 1428)), ('bina', (1428, 1432)), ('▁total', (1432, 1438)), (':', (1438, 1439)), ('▁9', (1439, 1441)), (',', (1441, 1442)), ('59', (1442, 1444)), ('▁mg', (1444, 1447)), ('/', (1447, 1448)), ('dl', (1448, 1450)), (';', (1450, 1451)), ('▁directa', (1451, 1459)), (':', (1459, 1460)), ('▁9', (1460, 1462)), (',', (1462, 1463)), ('41', (1463, 1465)), ('▁mg', (1465, 1468)), ('/', (1468, 1469)), ('dl', (1469, 1471)), (';', (1471, 1472)), ('▁trans', (1472, 1478)), ('amin', (1478, 1482)), ('asa', (1482, 1485)), ('▁glu', (1485, 1489)), ('tá', (1489, 1492)), ('mico', (1492, 1496)), ('-', (1496, 1497)), ('o', (1497, 1498)), ('xa', (1498, 1500)), ('lac', (1500, 1503)), ('ética', (1503, 1509)), ('▁[', (1509, 1511)), ('T', (1511, 1512)), ('GO', (1512, 1514)), (']', (1514, 1515)), ('▁176', (1515, 1519)), ('▁U', (1519, 1521)), ('/', (1521, 1522)), ('l', (1522, 1523)), (';', (1523, 1524)), ('▁trans', (1524, 1530)), ('amin', (1530, 1534)), ('asa', (1534, 1537)), ('▁glu', (1537, 1541)), ('tá', (1541, 1544)), ('mico', (1544, 1548)), ('-', (1548, 1549)), ('pi', (1549, 1551)), ('rú', (1551, 1554)), ('vica', (1554, 1558)), ('▁[', (1558, 1560)), ('T', (1560, 1561)), ('GP', (1561, 1563)), (']', (1563, 1564)), (':', (1564, 1565)), ('▁226', (1565, 1569)), ('▁U', (1569, 1571)), ('/', (1571, 1572)), ('l', (1572, 1573)), (')', (1573, 1574)), ('▁que', (1574, 1578)), ('▁oblig', (1578, 1584)), ('ó', (1584, 1586)), ('▁a', (1586, 1588)), ('▁su', (1588, 1591)), ('▁su', (1591, 1594)), ('stitu', (1594, 1599)), ('ción', (1599, 1604)), ('▁por', (1604, 1608)), ('▁an', (1608, 1611)), ('fo', (1611, 1613)), ('teri', (1613, 1617)), ('cina', (1617, 1621)), ('▁B', (1621, 1623)), ('▁a', (1623, 1625)), ('▁dosis', (1625, 1631)), ('▁de', (1631, 1634)), ('▁100', (1634, 1638)), ('▁mg', (1638, 1641)), ('/', (1641, 1642)), ('día', (1642, 1646)), ('.', (1646, 1647))]\n",
      "\n",
      "\n",
      "[('▁Además', (1648, 1655)), ('▁de', (1655, 1658)), ('▁esto', (1658, 1663)), (',', (1663, 1664)), ('▁se', (1664, 1667)), ('▁dis', (1667, 1671)), ('minu', (1671, 1675)), ('yó', (1675, 1678)), ('▁la', (1678, 1681)), ('▁dosis', (1681, 1687)), ('▁de', (1687, 1690)), ('▁pred', (1690, 1695)), ('ni', (1695, 1697)), ('sona', (1697, 1701)), ('.', (1701, 1702))]\n",
      "\n",
      "\n",
      "[('▁Con', (1703, 1706)), ('▁ello', (1706, 1711)), (',', (1711, 1712)), ('▁al', (1712, 1715)), ('▁cabo', (1715, 1720)), ('▁de', (1720, 1723)), ('▁2', (1723, 1725)), ('▁semanas', (1725, 1733)), ('▁presenta', (1733, 1742)), ('ba', (1742, 1744)), ('▁una', (1744, 1748)), ('▁notable', (1748, 1756)), ('▁mejor', (1756, 1762)), ('ía', (1762, 1765)), ('▁de', (1765, 1768)), ('▁las', (1768, 1772)), ('▁les', (1772, 1776)), ('iones', (1776, 1781)), ('▁con', (1781, 1785)), ('▁casi', (1785, 1790)), ('▁total', (1790, 1796)), ('▁desaparición', (1796, 1810)), ('▁de', (1810, 1813)), ('▁las', (1813, 1817)), ('▁ul', (1817, 1820)), ('cer', (1820, 1823)), ('aciones', (1823, 1830)), ('▁y', (1830, 1832)), ('▁normal', (1832, 1839)), ('ización', (1839, 1847)), ('▁de', (1847, 1850)), ('▁los', (1850, 1854)), ('▁test', (1854, 1859)), ('▁hep', (1859, 1863)), ('áticos', (1863, 1870)), ('.', (1870, 1871))]\n",
      "\n",
      "\n"
     ]
    }
   ],
   "source": [
    "for i in range(check_id_frag, check_id_frag + train_frag[check_id]):\n",
    "    print(list(zip([tokenizer._convert_id_to_token(int(ind)) for ind in train_ind[i]][1:len(train_start_end_frag[i])+1], \n",
    "               train_start_end_frag[i])))\n",
    "    print(\"\\n\")"
   ]
  },
  {
   "cell_type": "code",
   "execution_count": 70,
   "metadata": {},
   "outputs": [
    {
     "name": "stdout",
     "output_type": "stream",
     "text": [
      "<s> ▁Var ón ▁de ▁53 ▁años , ▁jubila do , ▁que ▁vive ▁en ▁área ▁rural . </s> <pad> <pad> <pad> <pad> <pad> <pad> <pad> <pad> <pad> <pad> <pad> <pad> <pad> <pad> <pad> <pad> <pad> <pad> <pad> <pad> <pad> <pad> <pad> <pad> <pad> <pad> <pad> <pad> <pad> <pad> <pad> <pad> <pad> <pad> <pad> <pad> <pad> <pad> <pad> <pad> <pad> <pad> <pad> <pad> <pad> <pad> <pad> <pad> <pad> <pad> <pad> <pad> <pad> <pad> <pad> <pad> <pad> <pad> <pad> <pad> <pad> <pad> <pad> <pad> <pad> <pad> <pad> <pad> <pad> <pad> <pad> <pad> <pad> <pad> <pad> <pad> <pad> <pad> <pad> <pad> <pad> <pad> <pad> <pad> <pad> <pad> <pad> <pad> <pad> <pad> <pad> <pad> <pad> <pad> <pad> <pad> <pad> <pad> <pad> <pad> <pad> <pad> <pad> <pad> <pad> <pad> <pad> <pad> <pad> <pad> <pad> \n",
      "\n",
      "<s> ▁Fue ▁diagnostic ado ▁hace ▁10 ▁años ▁de ▁enfermedad ▁inflama toria ▁intestinal , ▁que ▁se ▁control a ▁únicamente ▁con ▁dosis ▁alta s ▁de ▁e steroid es . </s> <pad> <pad> <pad> <pad> <pad> <pad> <pad> <pad> <pad> <pad> <pad> <pad> <pad> <pad> <pad> <pad> <pad> <pad> <pad> <pad> <pad> <pad> <pad> <pad> <pad> <pad> <pad> <pad> <pad> <pad> <pad> <pad> <pad> <pad> <pad> <pad> <pad> <pad> <pad> <pad> <pad> <pad> <pad> <pad> <pad> <pad> <pad> <pad> <pad> <pad> <pad> <pad> <pad> <pad> <pad> <pad> <pad> <pad> <pad> <pad> <pad> <pad> <pad> <pad> <pad> <pad> <pad> <pad> <pad> <pad> <pad> <pad> <pad> <pad> <pad> <pad> <pad> <pad> <pad> <pad> <pad> <pad> <pad> <pad> <pad> <pad> <pad> <pad> <pad> <pad> <pad> <pad> <pad> <pad> <pad> <pad> <pad> <pad> <pad> <pad> \n",
      "\n",
      "<s> ▁Dos ▁años ▁antes ▁había ▁in gres ado ▁en ▁Un idad ▁de ▁V igilan cia ▁Intensiv a ▁por ▁se psis ▁de ▁origen ▁intestinal ▁con ▁fra caso ▁multi org á nico ; ▁desde ▁entonces ▁está ▁en ▁hem odi ális is ▁periódica ▁al ▁no ▁haber ▁recuperación ▁funcional . </s> <pad> <pad> <pad> <pad> <pad> <pad> <pad> <pad> <pad> <pad> <pad> <pad> <pad> <pad> <pad> <pad> <pad> <pad> <pad> <pad> <pad> <pad> <pad> <pad> <pad> <pad> <pad> <pad> <pad> <pad> <pad> <pad> <pad> <pad> <pad> <pad> <pad> <pad> <pad> <pad> <pad> <pad> <pad> <pad> <pad> <pad> <pad> <pad> <pad> <pad> <pad> <pad> <pad> <pad> <pad> <pad> <pad> <pad> <pad> <pad> <pad> <pad> <pad> <pad> <pad> <pad> <pad> <pad> <pad> <pad> <pad> <pad> <pad> <pad> <pad> <pad> <pad> <pad> <pad> <pad> <pad> \n",
      "\n",
      "<s> ▁La ▁bio psi a ▁renal ▁mostra ba ▁ne fro pat ía ▁tu bulo inter sti cial . </s> <pad> <pad> <pad> <pad> <pad> <pad> <pad> <pad> <pad> <pad> <pad> <pad> <pad> <pad> <pad> <pad> <pad> <pad> <pad> <pad> <pad> <pad> <pad> <pad> <pad> <pad> <pad> <pad> <pad> <pad> <pad> <pad> <pad> <pad> <pad> <pad> <pad> <pad> <pad> <pad> <pad> <pad> <pad> <pad> <pad> <pad> <pad> <pad> <pad> <pad> <pad> <pad> <pad> <pad> <pad> <pad> <pad> <pad> <pad> <pad> <pad> <pad> <pad> <pad> <pad> <pad> <pad> <pad> <pad> <pad> <pad> <pad> <pad> <pad> <pad> <pad> <pad> <pad> <pad> <pad> <pad> <pad> <pad> <pad> <pad> <pad> <pad> <pad> <pad> <pad> <pad> <pad> <pad> <pad> <pad> <pad> <pad> <pad> <pad> <pad> <pad> <pad> <pad> <pad> <pad> <pad> <pad> <pad> <pad> \n",
      "\n",
      "<s> ▁Desde ▁un ▁mes ▁antes ▁del ▁ingreso ▁presenta ▁les iones ▁cu tán e as , ▁er ite mat osas , ▁sobre ▁zonas ▁in dur adas , ▁pru rig in osas ▁y ▁dolor osas , ▁en ▁dor so ▁del ▁pie ▁derecho ▁y ▁cara ▁interna ▁de ▁los ▁mus los , ▁con ▁mala ▁respuesta ▁al ▁tratamiento ▁anti bi ó tico ▁( inici ado ▁de ▁forma ▁em pír ica ▁por ▁so spec ha ▁de ▁celulit is ), ▁que ▁fueron ▁evoluciona ndo ▁hacia ▁la ▁des cam ación ▁y ▁posterior ▁ul cer ación . </s> <pad> <pad> <pad> <pad> <pad> <pad> <pad> <pad> <pad> <pad> <pad> <pad> <pad> <pad> <pad> <pad> <pad> <pad> <pad> <pad> <pad> <pad> <pad> <pad> <pad> <pad> <pad> <pad> <pad> <pad> <pad> <pad> <pad> <pad> <pad> <pad> <pad> <pad> <pad> \n",
      "\n",
      "<s> ▁Se ▁realizó ▁bio psi a ▁cu tán e a ▁que ▁es ▁informa da ▁como ▁cripto co cos is . </s> <pad> <pad> <pad> <pad> <pad> <pad> <pad> <pad> <pad> <pad> <pad> <pad> <pad> <pad> <pad> <pad> <pad> <pad> <pad> <pad> <pad> <pad> <pad> <pad> <pad> <pad> <pad> <pad> <pad> <pad> <pad> <pad> <pad> <pad> <pad> <pad> <pad> <pad> <pad> <pad> <pad> <pad> <pad> <pad> <pad> <pad> <pad> <pad> <pad> <pad> <pad> <pad> <pad> <pad> <pad> <pad> <pad> <pad> <pad> <pad> <pad> <pad> <pad> <pad> <pad> <pad> <pad> <pad> <pad> <pad> <pad> <pad> <pad> <pad> <pad> <pad> <pad> <pad> <pad> <pad> <pad> <pad> <pad> <pad> <pad> <pad> <pad> <pad> <pad> <pad> <pad> <pad> <pad> <pad> <pad> <pad> <pad> <pad> <pad> <pad> <pad> <pad> <pad> <pad> <pad> <pad> <pad> \n",
      "\n",
      "<s> ▁Al ▁examen ▁directo ▁con ▁tinta ▁ china ▁y ▁tin ción ▁de ▁Gram ▁se ▁observa n ▁abundante s ▁leva dura s ▁es fér icas , ▁de ▁gran ▁tamaño , ▁con ▁gem ación ▁marcada ▁y ▁en cap sula das . </s> <pad> <pad> <pad> <pad> <pad> <pad> <pad> <pad> <pad> <pad> <pad> <pad> <pad> <pad> <pad> <pad> <pad> <pad> <pad> <pad> <pad> <pad> <pad> <pad> <pad> <pad> <pad> <pad> <pad> <pad> <pad> <pad> <pad> <pad> <pad> <pad> <pad> <pad> <pad> <pad> <pad> <pad> <pad> <pad> <pad> <pad> <pad> <pad> <pad> <pad> <pad> <pad> <pad> <pad> <pad> <pad> <pad> <pad> <pad> <pad> <pad> <pad> <pad> <pad> <pad> <pad> <pad> <pad> <pad> <pad> <pad> <pad> <pad> <pad> <pad> <pad> <pad> <pad> <pad> <pad> <pad> <pad> <pad> <pad> <pad> <pad> <pad> <pad> \n",
      "\n",
      "<s> ▁El ▁cultivo ▁da ▁hon go ▁le vad uri forme , ▁ure asa ▁positivo , ▁compatible ▁con ▁cripto co co ▁neo forma ns , ▁variedad ▁neo forma ns . </s> <pad> <pad> <pad> <pad> <pad> <pad> <pad> <pad> <pad> <pad> <pad> <pad> <pad> <pad> <pad> <pad> <pad> <pad> <pad> <pad> <pad> <pad> <pad> <pad> <pad> <pad> <pad> <pad> <pad> <pad> <pad> <pad> <pad> <pad> <pad> <pad> <pad> <pad> <pad> <pad> <pad> <pad> <pad> <pad> <pad> <pad> <pad> <pad> <pad> <pad> <pad> <pad> <pad> <pad> <pad> <pad> <pad> <pad> <pad> <pad> <pad> <pad> <pad> <pad> <pad> <pad> <pad> <pad> <pad> <pad> <pad> <pad> <pad> <pad> <pad> <pad> <pad> <pad> <pad> <pad> <pad> <pad> <pad> <pad> <pad> <pad> <pad> <pad> <pad> <pad> <pad> <pad> <pad> <pad> <pad> <pad> <pad> <pad> \n",
      "\n",
      "<s> ▁Cri pto lát ex ▁en ▁su ero ▁positivo ▁1 /20 48 . </s> <pad> <pad> <pad> <pad> <pad> <pad> <pad> <pad> <pad> <pad> <pad> <pad> <pad> <pad> <pad> <pad> <pad> <pad> <pad> <pad> <pad> <pad> <pad> <pad> <pad> <pad> <pad> <pad> <pad> <pad> <pad> <pad> <pad> <pad> <pad> <pad> <pad> <pad> <pad> <pad> <pad> <pad> <pad> <pad> <pad> <pad> <pad> <pad> <pad> <pad> <pad> <pad> <pad> <pad> <pad> <pad> <pad> <pad> <pad> <pad> <pad> <pad> <pad> <pad> <pad> <pad> <pad> <pad> <pad> <pad> <pad> <pad> <pad> <pad> <pad> <pad> <pad> <pad> <pad> <pad> <pad> <pad> <pad> <pad> <pad> <pad> <pad> <pad> <pad> <pad> <pad> <pad> <pad> <pad> <pad> <pad> <pad> <pad> <pad> <pad> <pad> <pad> <pad> <pad> <pad> <pad> <pad> <pad> <pad> <pad> <pad> <pad> <pad> <pad> \n",
      "\n",
      "<s> ▁Se ▁de scar tó ▁afecta ción ▁pulmonar ▁y ▁neuro lógica ▁por ▁tom ografía ▁a xi al ▁computa r izada ▁y ▁pun ción ▁lum bar . </s> <pad> <pad> <pad> <pad> <pad> <pad> <pad> <pad> <pad> <pad> <pad> <pad> <pad> <pad> <pad> <pad> <pad> <pad> <pad> <pad> <pad> <pad> <pad> <pad> <pad> <pad> <pad> <pad> <pad> <pad> <pad> <pad> <pad> <pad> <pad> <pad> <pad> <pad> <pad> <pad> <pad> <pad> <pad> <pad> <pad> <pad> <pad> <pad> <pad> <pad> <pad> <pad> <pad> <pad> <pad> <pad> <pad> <pad> <pad> <pad> <pad> <pad> <pad> <pad> <pad> <pad> <pad> <pad> <pad> <pad> <pad> <pad> <pad> <pad> <pad> <pad> <pad> <pad> <pad> <pad> <pad> <pad> <pad> <pad> <pad> <pad> <pad> <pad> <pad> <pad> <pad> <pad> <pad> <pad> <pad> <pad> <pad> <pad> <pad> <pad> <pad> \n",
      "\n",
      "<s> ▁Inicia mos ▁tratamiento ▁con ▁vor ico na zol ▁200 ▁mg /12 ▁horas , ▁presenta ndo ▁al ▁cabo ▁de ▁10 ▁días ▁una ▁llama tiva ▁altera ción ▁de ▁los ▁test ▁hep áticos ▁( bili r ru bina ▁total : ▁9 , 59 ▁mg / dl ; ▁directa : ▁9 , 41 ▁mg / dl ; ▁trans amin asa ▁glu tá mico - o xa lac ética ▁[ T GO ] ▁176 ▁U / l ; ▁trans amin asa ▁glu tá mico - pi rú vica ▁[ T GP ] : ▁226 ▁U / l ) ▁que ▁oblig ó ▁a ▁su ▁su stitu ción ▁por ▁an fo teri cina ▁B ▁a ▁dosis ▁de ▁100 ▁mg / día . </s> <pad> <pad> <pad> <pad> <pad> <pad> <pad> <pad> <pad> <pad> <pad> \n",
      "\n",
      "<s> ▁Además ▁de ▁esto , ▁se ▁dis minu yó ▁la ▁dosis ▁de ▁pred ni sona . </s> <pad> <pad> <pad> <pad> <pad> <pad> <pad> <pad> <pad> <pad> <pad> <pad> <pad> <pad> <pad> <pad> <pad> <pad> <pad> <pad> <pad> <pad> <pad> <pad> <pad> <pad> <pad> <pad> <pad> <pad> <pad> <pad> <pad> <pad> <pad> <pad> <pad> <pad> <pad> <pad> <pad> <pad> <pad> <pad> <pad> <pad> <pad> <pad> <pad> <pad> <pad> <pad> <pad> <pad> <pad> <pad> <pad> <pad> <pad> <pad> <pad> <pad> <pad> <pad> <pad> <pad> <pad> <pad> <pad> <pad> <pad> <pad> <pad> <pad> <pad> <pad> <pad> <pad> <pad> <pad> <pad> <pad> <pad> <pad> <pad> <pad> <pad> <pad> <pad> <pad> <pad> <pad> <pad> <pad> <pad> <pad> <pad> <pad> <pad> <pad> <pad> <pad> <pad> <pad> <pad> <pad> <pad> <pad> <pad> <pad> <pad> \n",
      "\n",
      "<s> ▁Con ▁ello , ▁al ▁cabo ▁de ▁2 ▁semanas ▁presenta ba ▁una ▁notable ▁mejor ía ▁de ▁las ▁les iones ▁con ▁casi ▁total ▁desaparición ▁de ▁las ▁ul cer aciones ▁y ▁normal ización ▁de ▁los ▁test ▁hep áticos . </s> <pad> <pad> <pad> <pad> <pad> <pad> <pad> <pad> <pad> <pad> <pad> <pad> <pad> <pad> <pad> <pad> <pad> <pad> <pad> <pad> <pad> <pad> <pad> <pad> <pad> <pad> <pad> <pad> <pad> <pad> <pad> <pad> <pad> <pad> <pad> <pad> <pad> <pad> <pad> <pad> <pad> <pad> <pad> <pad> <pad> <pad> <pad> <pad> <pad> <pad> <pad> <pad> <pad> <pad> <pad> <pad> <pad> <pad> <pad> <pad> <pad> <pad> <pad> <pad> <pad> <pad> <pad> <pad> <pad> <pad> <pad> <pad> <pad> <pad> <pad> <pad> <pad> <pad> <pad> <pad> <pad> <pad> <pad> <pad> <pad> <pad> <pad> <pad> <pad> <pad> \n",
      "\n"
     ]
    }
   ],
   "source": [
    "check_id_frag = sum(train_frag[:check_id])\n",
    "for frag in train_ind[check_id_frag:check_id_frag + train_frag[check_id]]:\n",
    "    print(' '.join([tokenizer._convert_id_to_token(int(ind)) for ind in frag]), \"\\n\")"
   ]
  },
  {
   "cell_type": "code",
   "execution_count": 71,
   "metadata": {},
   "outputs": [
    {
     "data": {
      "text/plain": [
       "count    7013.000000\n",
       "mean        0.305290\n",
       "std         0.652715\n",
       "min         0.000000\n",
       "25%         0.000000\n",
       "50%         0.000000\n",
       "75%         0.000000\n",
       "max         6.000000\n",
       "dtype: float64"
      ]
     },
     "execution_count": 71,
     "metadata": {},
     "output_type": "execute_result"
    }
   ],
   "source": [
    "# Fragment labels distribution\n",
    "pd.Series(np.sum(train_y, axis=1)).describe()"
   ]
  },
  {
   "cell_type": "markdown",
   "metadata": {},
   "source": [
    "### Development corpus\n",
    "\n",
    "Only development texts that are annotated with CIE-Procedimiento codes are considered:"
   ]
  },
  {
   "cell_type": "code",
   "execution_count": 72,
   "metadata": {},
   "outputs": [
    {
     "data": {
      "text/plain": [
       "28"
      ]
     },
     "execution_count": 72,
     "metadata": {},
     "output_type": "execute_result"
    }
   ],
   "source": [
    "# Some dev documents (texts) are not annotated \n",
    "len(set(df_text_dev[\"doc_id\"]) - set(df_codes_dev_ner[\"doc_id\"]))"
   ]
  },
  {
   "cell_type": "code",
   "execution_count": 73,
   "metadata": {},
   "outputs": [],
   "source": [
    "dev_doc_list = sorted(set(df_codes_dev_ner[\"doc_id\"]))"
   ]
  },
  {
   "cell_type": "code",
   "execution_count": 74,
   "metadata": {},
   "outputs": [
    {
     "data": {
      "text/plain": [
       "222"
      ]
     },
     "execution_count": 74,
     "metadata": {},
     "output_type": "execute_result"
    }
   ],
   "source": [
    "len(dev_doc_list)"
   ]
  },
  {
   "cell_type": "code",
   "execution_count": 75,
   "metadata": {},
   "outputs": [
    {
     "name": "stdout",
     "output_type": "stream",
     "text": [
      "CPU times: user 8.98 ms, sys: 0 ns, total: 8.98 ms\n",
      "Wall time: 8.67 ms\n"
     ]
    }
   ],
   "source": [
    "%%time\n",
    "ss_sub_corpus_path = ss_corpus_path + \"dev/\"\n",
    "ss_files = [f for f in os.listdir(ss_sub_corpus_path) if os.path.isfile(ss_sub_corpus_path + f)]\n",
    "ss_dict_dev = load_ss_files(ss_files, ss_sub_corpus_path)"
   ]
  },
  {
   "cell_type": "code",
   "execution_count": 76,
   "metadata": {},
   "outputs": [
    {
     "name": "stderr",
     "output_type": "stream",
     "text": [
      "100%|██████████| 222/222 [00:02<00:00, 85.15it/s]\n"
     ]
    },
    {
     "name": "stdout",
     "output_type": "stream",
     "text": [
      "CPU times: user 2.67 s, sys: 11.7 ms, total: 2.68 s\n",
      "Wall time: 2.67 s\n"
     ]
    }
   ],
   "source": [
    "%%time\n",
    "dev_ind, dev_att, dev_y, dev_frag, dev_start_end_frag = ss_create_frag_input_data_xlmr(df_text=df_text_dev, \n",
    "                                                  text_col=text_col, \n",
    "                                                  df_ann=df_codes_dev_ner, doc_list=dev_doc_list, ss_dict=ss_dict_dev,\n",
    "                                                  tokenizer=tokenizer, sp_pb2=spt, lab_encoder=mlb_encoder, seq_len=SEQ_LEN)"
   ]
  },
  {
   "cell_type": "code",
   "execution_count": 77,
   "metadata": {},
   "outputs": [],
   "source": [
    "# Sanity check"
   ]
  },
  {
   "cell_type": "code",
   "execution_count": 78,
   "metadata": {},
   "outputs": [
    {
     "data": {
      "text/plain": [
       "(3799, 128)"
      ]
     },
     "execution_count": 78,
     "metadata": {},
     "output_type": "execute_result"
    }
   ],
   "source": [
    "dev_ind.shape"
   ]
  },
  {
   "cell_type": "code",
   "execution_count": 79,
   "metadata": {},
   "outputs": [
    {
     "data": {
      "text/plain": [
       "(3799, 128)"
      ]
     },
     "execution_count": 79,
     "metadata": {},
     "output_type": "execute_result"
    }
   ],
   "source": [
    "dev_att.shape"
   ]
  },
  {
   "cell_type": "code",
   "execution_count": 80,
   "metadata": {},
   "outputs": [
    {
     "data": {
      "text/plain": [
       "(3799, 727)"
      ]
     },
     "execution_count": 80,
     "metadata": {},
     "output_type": "execute_result"
    }
   ],
   "source": [
    "dev_y.shape"
   ]
  },
  {
   "cell_type": "code",
   "execution_count": 81,
   "metadata": {},
   "outputs": [
    {
     "data": {
      "text/plain": [
       "222"
      ]
     },
     "execution_count": 81,
     "metadata": {},
     "output_type": "execute_result"
    }
   ],
   "source": [
    "len(dev_frag)"
   ]
  },
  {
   "cell_type": "code",
   "execution_count": 82,
   "metadata": {},
   "outputs": [
    {
     "data": {
      "text/plain": [
       "3799"
      ]
     },
     "execution_count": 82,
     "metadata": {},
     "output_type": "execute_result"
    }
   ],
   "source": [
    "len(dev_start_end_frag)"
   ]
  },
  {
   "cell_type": "code",
   "execution_count": 83,
   "metadata": {},
   "outputs": [
    {
     "data": {
      "text/plain": [
       "count    222.000000\n",
       "mean      17.112613\n",
       "std        8.320553\n",
       "min        4.000000\n",
       "25%       11.000000\n",
       "50%       15.000000\n",
       "75%       21.000000\n",
       "max       65.000000\n",
       "dtype: float64"
      ]
     },
     "execution_count": 83,
     "metadata": {},
     "output_type": "execute_result"
    }
   ],
   "source": [
    "# Check n_frag distribution across texts\n",
    "pd.Series(dev_frag).describe()"
   ]
  },
  {
   "cell_type": "code",
   "execution_count": 84,
   "metadata": {},
   "outputs": [],
   "source": [
    "# Inspect a randomly selected text and its encoded version\n",
    "check_id = np.random.randint(low=0, high=len(dev_doc_list), size=1)[0]"
   ]
  },
  {
   "cell_type": "code",
   "execution_count": 85,
   "metadata": {},
   "outputs": [
    {
     "data": {
      "text/plain": [
       "9"
      ]
     },
     "execution_count": 85,
     "metadata": {},
     "output_type": "execute_result"
    }
   ],
   "source": [
    "check_id"
   ]
  },
  {
   "cell_type": "code",
   "execution_count": 86,
   "metadata": {},
   "outputs": [
    {
     "data": {
      "text/plain": [
       "'S0004-06142007000300012-1'"
      ]
     },
     "execution_count": 86,
     "metadata": {},
     "output_type": "execute_result"
    }
   ],
   "source": [
    "dev_doc_list[check_id]"
   ]
  },
  {
   "cell_type": "code",
   "execution_count": 87,
   "metadata": {
    "scrolled": true
   },
   "outputs": [
    {
     "data": {
      "text/plain": [
       "\"Paciente de 52 años con antecedentes personales de insuficiencia renal terminal de etiología no filiada que recibió un trasplante heterotópico en FID procedente de donante cadáver en Enero de 1999. Previamente había precisado hemodiálisis desde 1980 a 1983, y diálisis peritoneal desde entonces hasta el momento del trasplante renal.\\nNo existieron complicaciones postrasplante. Al paciente se le administró triple terapia inmunosupresora con Ciclosporina, Prednisona y Micofenolato, presentando diuresis inmediata con mejoría progresiva de la función renal, siendo la creatininemia al alta de 1,8 mg/dl.\\nDespués de un periodo postrasplante no complicado y asintomático de 51 meses en el que mantuvo una función renal estable (creatininemia: 1,2-1,4 mg/dl) en una ecografía de control se objetivó un nódulo sólido de 1,5 cm vascularizado en el polo inferior del injerto renal. La posterior PAAF ecodirigida reveló que se trataba de un CCR.\\n\\nEn Junio de 2003 mediante reapertura de la incisión de Gibson previa en FID, y tras la liberación del injerto renal de las adherencias circundantes, se identificó una tumoración exofítica bien circunscrita de 1.5 cm en su polo inferior-cara anterior. Se practicó tumorectomía con margen de más de 0,5 cm de parénquima macroscópicamente sano, enviándose intraoperatoriamente muestras de la base que fueron informadas como libres de afectación tumoral. Con fines hemostáticos se realizaron puntos intraparenquimatosos de los vasos sangrantes, y puntos de aproximación de 'colchonero' apoyados en Goretex y Surgicel.\\n\\nEl diagnóstico histopatológico definitivo fue un carcinoma papilar renal tipo I, grado 2 de Fuhrman, estadio I de la UICC (pT1a, Nx, Mx) con márgenes de resección y grasa peritumoral sin afectación tumoral.\\nNo existieron complicaciones en el curso postoperatorio de la tumorectomía, y no se modificó la terapia inmunosupresora.\\nEn el seguimiento a casi tres años, realizado con periodicidad inicialmente trimestral y posteriormente semestral, mediante estudio de la función renal y ecografía o RM no hay evidencia de recidiva tumoral a día de hoy, manteniéndose una adecuada función renal con creatininemia de 1,18 mg/dl, y aclaramiento de creatinina de 115,5 ml/min sin proteinuria.\\n\\n\""
      ]
     },
     "execution_count": 87,
     "metadata": {},
     "output_type": "execute_result"
    }
   ],
   "source": [
    "df_text_dev[df_text_dev[\"doc_id\"] == dev_doc_list[check_id]][text_col].values[0]"
   ]
  },
  {
   "cell_type": "code",
   "execution_count": 88,
   "metadata": {},
   "outputs": [
    {
     "name": "stdout",
     "output_type": "stream",
     "text": [
      "[('0ty0',)] \n",
      "\n",
      "[('0ty0', '3e1m39z', '5a1d00z')] \n",
      "\n",
      "[()] \n",
      "\n",
      "[('0ty0',)] \n",
      "\n",
      "[('bt49zzz',)] \n",
      "\n",
      "[()] \n",
      "\n",
      "[()] \n",
      "\n",
      "[()] \n",
      "\n",
      "[()] \n",
      "\n",
      "[()] \n",
      "\n",
      "[()] \n",
      "\n",
      "[('bt33zzz', 'bt43zzz', 'bt49zzz')] \n",
      "\n"
     ]
    }
   ],
   "source": [
    "check_id_frag = sum(dev_frag[:check_id])\n",
    "for i in range(check_id_frag, check_id_frag + dev_frag[check_id]):\n",
    "    print(mlb_encoder.inverse_transform(np.array([dev_y[i]])), \"\\n\")"
   ]
  },
  {
   "cell_type": "code",
   "execution_count": 89,
   "metadata": {},
   "outputs": [
    {
     "name": "stdout",
     "output_type": "stream",
     "text": [
      "[('▁Pacient', (0, 7)), ('e', (7, 8)), ('▁de', (8, 11)), ('▁52', (11, 14)), ('▁años', (14, 20)), ('▁con', (20, 24)), ('▁antecede', (24, 33)), ('ntes', (33, 37)), ('▁personales', (37, 48)), ('▁de', (48, 51)), ('▁insu', (51, 56)), ('fici', (56, 60)), ('encia', (60, 65)), ('▁renal', (65, 71)), ('▁terminal', (71, 80)), ('▁de', (80, 83)), ('▁et', (83, 86)), ('i', (86, 87)), ('ología', (87, 94)), ('▁no', (94, 97)), ('▁filia', (97, 103)), ('da', (103, 105)), ('▁que', (105, 109)), ('▁recibió', (109, 118)), ('▁un', (118, 121)), ('▁tra', (121, 125)), ('splan', (125, 130)), ('te', (130, 132)), ('▁hetero', (132, 139)), ('tó', (139, 142)), ('pico', (142, 146)), ('▁en', (146, 149)), ('▁F', (149, 151)), ('ID', (151, 153)), ('▁procede', (153, 161)), ('nte', (161, 164)), ('▁de', (164, 167)), ('▁donant', (167, 174)), ('e', (174, 175)), ('▁cadáver', (175, 184)), ('▁en', (184, 187)), ('▁En', (187, 190)), ('ero', (190, 193)), ('▁de', (193, 196)), ('▁1999.', (196, 202))]\n",
      "\n",
      "\n",
      "[('▁Prev', (203, 207)), ('i', (207, 208)), ('amente', (208, 214)), ('▁había', (214, 221)), ('▁precisa', (221, 229)), ('do', (229, 231)), ('▁hem', (231, 235)), ('odi', (235, 238)), ('ális', (238, 243)), ('is', (243, 245)), ('▁desde', (245, 251)), ('▁1980', (251, 256)), ('▁a', (256, 258)), ('▁1983', (258, 263)), (',', (263, 264)), ('▁y', (264, 266)), ('▁di', (266, 269)), ('ális', (269, 274)), ('is', (274, 276)), ('▁per', (276, 280)), ('ito', (280, 283)), ('ne', (283, 285)), ('al', (285, 287)), ('▁desde', (287, 293)), ('▁entonces', (293, 302)), ('▁hasta', (302, 308)), ('▁el', (308, 311)), ('▁momento', (311, 319)), ('▁del', (319, 323)), ('▁tra', (323, 327)), ('splan', (327, 332)), ('te', (332, 334)), ('▁renal', (334, 340)), ('.', (340, 341))]\n",
      "\n",
      "\n",
      "[('▁No', (342, 344)), ('▁exist', (344, 350)), ('ieron', (350, 355)), ('▁complica', (355, 364)), ('ciones', (364, 370)), ('▁post', (370, 375)), ('ra', (375, 377)), ('splan', (377, 382)), ('te', (382, 384)), ('.', (384, 385))]\n",
      "\n",
      "\n",
      "[('▁Al', (386, 388)), ('▁paciente', (388, 397)), ('▁se', (397, 400)), ('▁le', (400, 403)), ('▁administr', (403, 413)), ('ó', (413, 415)), ('▁triple', (415, 422)), ('▁terapia', (422, 430)), ('▁in', (430, 433)), ('mu', (433, 435)), ('nos', (435, 438)), ('u', (438, 439)), ('preso', (439, 444)), ('ra', (444, 446)), ('▁con', (446, 450)), ('▁Ciclo', (450, 456)), ('spor', (456, 460)), ('ina', (460, 463)), (',', (463, 464)), ('▁Pred', (464, 469)), ('ni', (469, 471)), ('sona', (471, 475)), ('▁y', (475, 477)), ('▁Mi', (477, 480)), ('co', (480, 482)), ('fen', (482, 485)), ('o', (485, 486)), ('lato', (486, 490)), (',', (490, 491)), ('▁presenta', (491, 500)), ('ndo', (500, 503)), ('▁di', (503, 506)), ('ures', (506, 510)), ('is', (510, 512)), ('▁inmediata', (512, 522)), ('▁con', (522, 526)), ('▁mejor', (526, 532)), ('ía', (532, 535)), ('▁progresiv', (535, 545)), ('a', (545, 546)), ('▁de', (546, 549)), ('▁la', (549, 552)), ('▁función', (552, 561)), ('▁renal', (561, 567)), (',', (567, 568)), ('▁siendo', (568, 575)), ('▁la', (575, 578)), ('▁creati', (578, 585)), ('nin', (585, 588)), ('emia', (588, 592)), ('▁al', (592, 595)), ('▁alta', (595, 600)), ('▁de', (600, 603)), ('▁1,8', (603, 607)), ('▁mg', (607, 610)), ('/', (610, 611)), ('dl', (611, 613)), ('.', (613, 614))]\n",
      "\n",
      "\n",
      "[('▁Después', (615, 623)), ('▁de', (623, 626)), ('▁un', (626, 629)), ('▁periodo', (629, 637)), ('▁post', (637, 642)), ('ra', (642, 644)), ('splan', (644, 649)), ('te', (649, 651)), ('▁no', (651, 654)), ('▁complicado', (654, 665)), ('▁y', (665, 667)), ('▁as', (667, 670)), ('into', (670, 674)), ('mático', (674, 681)), ('▁de', (681, 684)), ('▁51', (684, 687)), ('▁meses', (687, 693)), ('▁en', (693, 696)), ('▁el', (696, 699)), ('▁que', (699, 703)), ('▁man', (703, 707)), ('tuvo', (707, 711)), ('▁una', (711, 715)), ('▁función', (715, 724)), ('▁renal', (724, 730)), ('▁estable', (730, 738)), ('▁(', (738, 740)), ('creati', (740, 746)), ('nin', (746, 749)), ('emia', (749, 753)), (':', (753, 754)), ('▁1,2', (754, 758)), ('-', (758, 759)), ('1,4', (759, 762)), ('▁mg', (762, 765)), ('/', (765, 766)), ('dl', (766, 768)), (')', (768, 769)), ('▁en', (769, 772)), ('▁una', (772, 776)), ('▁ec', (776, 779)), ('ografía', (779, 787)), ('▁de', (787, 790)), ('▁control', (790, 798)), ('▁se', (798, 801)), ('▁obje', (801, 806)), ('ti', (806, 808)), ('vó', (808, 811)), ('▁un', (811, 814)), ('▁nó', (814, 818)), ('du', (818, 820)), ('lo', (820, 822)), ('▁sólido', (822, 830)), ('▁de', (830, 833)), ('▁1,5', (833, 837)), ('▁cm', (837, 840)), ('▁vas', (840, 844)), ('cular', (844, 849)), ('izado', (849, 854)), ('▁en', (854, 857)), ('▁el', (857, 860)), ('▁polo', (860, 865)), ('▁inferior', (865, 874)), ('▁del', (874, 878)), ('▁in', (878, 881)), ('jer', (881, 884)), ('to', (884, 886)), ('▁renal', (886, 892)), ('.', (892, 893))]\n",
      "\n",
      "\n",
      "[('▁La', (894, 896)), ('▁posterior', (896, 906)), ('▁PA', (906, 909)), ('AF', (909, 911)), ('▁eco', (911, 915)), ('diri', (915, 919)), ('gida', (919, 923)), ('▁re', (923, 926)), ('ve', (926, 928)), ('ló', (928, 931)), ('▁que', (931, 935)), ('▁se', (935, 938)), ('▁trata', (938, 944)), ('ba', (944, 946)), ('▁de', (946, 949)), ('▁un', (949, 952)), ('▁C', (952, 954)), ('CR', (954, 956)), ('.', (956, 957))]\n",
      "\n",
      "\n",
      "[('▁En', (959, 961)), ('▁Juni', (961, 966)), ('o', (966, 967)), ('▁de', (967, 970)), ('▁2003', (970, 975)), ('▁mediante', (975, 984)), ('▁re', (984, 987)), ('apertura', (987, 995)), ('▁de', (995, 998)), ('▁la', (998, 1001)), ('▁inci', (1001, 1006)), ('sión', (1006, 1011)), ('▁de', (1011, 1014)), ('▁Gib', (1014, 1018)), ('son', (1018, 1021)), ('▁previa', (1021, 1028)), ('▁en', (1028, 1031)), ('▁F', (1031, 1033)), ('ID', (1033, 1035)), (',', (1035, 1036)), ('▁y', (1036, 1038)), ('▁tras', (1038, 1043)), ('▁la', (1043, 1046)), ('▁libera', (1046, 1053)), ('ción', (1053, 1058)), ('▁del', (1058, 1062)), ('▁in', (1062, 1065)), ('jer', (1065, 1068)), ('to', (1068, 1070)), ('▁renal', (1070, 1076)), ('▁de', (1076, 1079)), ('▁las', (1079, 1083)), ('▁ad', (1083, 1086)), ('here', (1086, 1090)), ('ncias', (1090, 1095)), ('▁circ', (1095, 1100)), ('unda', (1100, 1104)), ('ntes', (1104, 1108)), (',', (1108, 1109)), ('▁se', (1109, 1112)), ('▁identific', (1112, 1122)), ('ó', (1122, 1124)), ('▁una', (1124, 1128)), ('▁tumor', (1128, 1134)), ('ación', (1134, 1140)), ('▁ex', (1140, 1143)), ('o', (1143, 1144)), ('fí', (1144, 1147)), ('tica', (1147, 1151)), ('▁bien', (1151, 1156)), ('▁circ', (1156, 1161)), ('un', (1161, 1163)), ('scri', (1163, 1167)), ('ta', (1167, 1169)), ('▁de', (1169, 1172)), ('▁1.5', (1172, 1176)), ('▁cm', (1176, 1179)), ('▁en', (1179, 1182)), ('▁su', (1182, 1185)), ('▁polo', (1185, 1190)), ('▁inferior', (1190, 1199)), ('-', (1199, 1200)), ('cara', (1200, 1204)), ('▁anterior', (1204, 1213)), ('.', (1213, 1214))]\n",
      "\n",
      "\n",
      "[('▁Se', (1215, 1217)), ('▁practic', (1217, 1225)), ('ó', (1225, 1227)), ('▁tumor', (1227, 1233)), ('ecto', (1233, 1237)), ('m', (1237, 1238)), ('ía', (1238, 1241)), ('▁con', (1241, 1245)), ('▁marg', (1245, 1250)), ('en', (1250, 1252)), ('▁de', (1252, 1255)), ('▁más', (1255, 1260)), ('▁de', (1260, 1263)), ('▁0,5', (1263, 1267)), ('▁cm', (1267, 1270)), ('▁de', (1270, 1273)), ('▁par', (1273, 1277)), ('én', (1277, 1280)), ('qui', (1280, 1283)), ('ma', (1283, 1285)), ('▁macro', (1285, 1291)), ('s', (1291, 1292)), ('có', (1292, 1295)), ('p', (1295, 1296)), ('icamente', (1296, 1304)), ('▁sano', (1304, 1309)), (',', (1309, 1310)), ('▁en', (1310, 1313)), ('vi', (1313, 1315)), ('ándose', (1315, 1322)), ('▁intra', (1322, 1328)), ('operator', (1328, 1336)), ('i', (1336, 1337)), ('amente', (1337, 1343)), ('▁muestra', (1343, 1351)), ('s', (1351, 1352)), ('▁de', (1352, 1355)), ('▁la', (1355, 1358)), ('▁base', (1358, 1363)), ('▁que', (1363, 1367)), ('▁fueron', (1367, 1374)), ('▁informa', (1374, 1382)), ('das', (1382, 1385)), ('▁como', (1385, 1390)), ('▁libre', (1390, 1396)), ('s', (1396, 1397)), ('▁de', (1397, 1400)), ('▁afecta', (1400, 1407)), ('ción', (1407, 1412)), ('▁tumor', (1412, 1418)), ('al', (1418, 1420)), ('.', (1420, 1421))]\n",
      "\n",
      "\n",
      "[('▁Con', (1422, 1425)), ('▁fines', (1425, 1431)), ('▁hemos', (1431, 1437)), ('t', (1437, 1438)), ('áticos', (1438, 1445)), ('▁se', (1445, 1448)), ('▁realizar', (1448, 1457)), ('on', (1457, 1459)), ('▁puntos', (1459, 1466)), ('▁intra', (1466, 1472)), ('par', (1472, 1475)), ('en', (1475, 1477)), ('qui', (1477, 1480)), ('mat', (1480, 1483)), ('osos', (1483, 1487)), ('▁de', (1487, 1490)), ('▁los', (1490, 1494)), ('▁vas', (1494, 1498)), ('os', (1498, 1500)), ('▁sang', (1500, 1505)), ('rante', (1505, 1510)), ('s', (1510, 1511)), (',', (1511, 1512)), ('▁y', (1512, 1514)), ('▁puntos', (1514, 1521)), ('▁de', (1521, 1524)), ('▁aproxima', (1524, 1533)), ('ción', (1533, 1538)), ('▁de', (1538, 1541)), (\"▁'\", (1541, 1543)), ('col', (1543, 1546)), ('chon', (1546, 1550)), ('ero', (1550, 1553)), (\"'\", (1553, 1554)), ('▁apo', (1554, 1558)), ('y', (1558, 1559)), ('ados', (1559, 1563)), ('▁en', (1563, 1566)), ('▁Gore', (1566, 1571)), ('tex', (1571, 1574)), ('▁y', (1574, 1576)), ('▁Sur', (1576, 1580)), ('gi', (1580, 1582)), ('cel', (1582, 1585)), ('.', (1585, 1586))]\n",
      "\n",
      "\n",
      "[('▁El', (1588, 1590)), ('▁diagnóstico', (1590, 1603)), ('▁his', (1603, 1607)), ('to', (1607, 1609)), ('pat', (1609, 1612)), ('ológico', (1612, 1620)), ('▁definitiv', (1620, 1630)), ('o', (1630, 1631)), ('▁fue', (1631, 1635)), ('▁un', (1635, 1638)), ('▁car', (1638, 1642)), ('cino', (1642, 1646)), ('ma', (1646, 1648)), ('▁papil', (1648, 1654)), ('ar', (1654, 1656)), ('▁renal', (1656, 1662)), ('▁tipo', (1662, 1667)), ('▁I', (1667, 1669)), (',', (1669, 1670)), ('▁grado', (1670, 1676)), ('▁2', (1676, 1678)), ('▁de', (1678, 1681)), ('▁Fu', (1681, 1684)), ('hr', (1684, 1686)), ('man', (1686, 1689)), (',', (1689, 1690)), ('▁esta', (1690, 1695)), ('dio', (1695, 1698)), ('▁I', (1698, 1700)), ('▁de', (1700, 1703)), ('▁la', (1703, 1706)), ('▁UI', (1706, 1709)), ('CC', (1709, 1711)), ('▁(', (1711, 1713)), ('p', (1713, 1714)), ('T', (1714, 1715)), ('1', (1715, 1716)), ('a', (1716, 1717)), (',', (1717, 1718)), ('▁N', (1718, 1720)), ('x', (1720, 1721)), (',', (1721, 1722)), ('▁M', (1722, 1724)), ('x', (1724, 1725)), (')', (1725, 1726)), ('▁con', (1726, 1730)), ('▁már', (1730, 1735)), ('gene', (1735, 1739)), ('s', (1739, 1740)), ('▁de', (1740, 1743)), ('▁rese', (1743, 1748)), ('cción', (1748, 1754)), ('▁y', (1754, 1756)), ('▁grasa', (1756, 1762)), ('▁per', (1762, 1766)), ('itu', (1766, 1769)), ('moral', (1769, 1774)), ('▁sin', (1774, 1778)), ('▁afecta', (1778, 1785)), ('ción', (1785, 1790)), ('▁tumor', (1790, 1796)), ('al', (1796, 1798)), ('.', (1798, 1799))]\n",
      "\n",
      "\n",
      "[('▁No', (1800, 1802)), ('▁exist', (1802, 1808)), ('ieron', (1808, 1813)), ('▁complica', (1813, 1822)), ('ciones', (1822, 1828)), ('▁en', (1828, 1831)), ('▁el', (1831, 1834)), ('▁curso', (1834, 1840)), ('▁post', (1840, 1845)), ('operator', (1845, 1853)), ('io', (1853, 1855)), ('▁de', (1855, 1858)), ('▁la', (1858, 1861)), ('▁tumor', (1861, 1867)), ('ecto', (1867, 1871)), ('m', (1871, 1872)), ('ía', (1872, 1875)), (',', (1875, 1876)), ('▁y', (1876, 1878)), ('▁no', (1878, 1881)), ('▁se', (1881, 1884)), ('▁modific', (1884, 1892)), ('ó', (1892, 1894)), ('▁la', (1894, 1897)), ('▁terapia', (1897, 1905)), ('▁in', (1905, 1908)), ('mu', (1908, 1910)), ('nos', (1910, 1913)), ('u', (1913, 1914)), ('preso', (1914, 1919)), ('ra', (1919, 1921)), ('.', (1921, 1922))]\n",
      "\n",
      "\n",
      "[('▁En', (1923, 1925)), ('▁el', (1925, 1928)), ('▁seguimiento', (1928, 1940)), ('▁a', (1940, 1942)), ('▁casi', (1942, 1947)), ('▁tres', (1947, 1952)), ('▁años', (1952, 1958)), (',', (1958, 1959)), ('▁realizado', (1959, 1969)), ('▁con', (1969, 1973)), ('▁periodic', (1973, 1982)), ('idad', (1982, 1986)), ('▁inicialmente', (1986, 1999)), ('▁trimestr', (1999, 2008)), ('al', (2008, 2010)), ('▁y', (2010, 2012)), ('▁posteriormente', (2012, 2027)), ('▁semestr', (2027, 2035)), ('al', (2035, 2037)), (',', (2037, 2038)), ('▁mediante', (2038, 2047)), ('▁estudio', (2047, 2055)), ('▁de', (2055, 2058)), ('▁la', (2058, 2061)), ('▁función', (2061, 2070)), ('▁renal', (2070, 2076)), ('▁y', (2076, 2078)), ('▁ec', (2078, 2081)), ('ografía', (2081, 2089)), ('▁o', (2089, 2091)), ('▁RM', (2091, 2094)), ('▁no', (2094, 2097)), ('▁hay', (2097, 2101)), ('▁evidencia', (2101, 2111)), ('▁de', (2111, 2114)), ('▁reci', (2114, 2119)), ('di', (2119, 2121)), ('va', (2121, 2123)), ('▁tumor', (2123, 2129)), ('al', (2129, 2131)), ('▁a', (2131, 2133)), ('▁día', (2133, 2138)), ('▁de', (2138, 2141)), ('▁hoy', (2141, 2145)), (',', (2145, 2146)), ('▁manten', (2146, 2153)), ('i', (2153, 2154)), ('éndose', (2154, 2161)), ('▁una', (2161, 2165)), ('▁adecuada', (2165, 2174)), ('▁función', (2174, 2183)), ('▁renal', (2183, 2189)), ('▁con', (2189, 2193)), ('▁creati', (2193, 2200)), ('nin', (2200, 2203)), ('emia', (2203, 2207)), ('▁de', (2207, 2210)), ('▁1', (2210, 2212)), (',', (2212, 2213)), ('18', (2213, 2215)), ('▁mg', (2215, 2218)), ('/', (2218, 2219)), ('dl', (2219, 2221)), (',', (2221, 2222)), ('▁y', (2222, 2224)), ('▁ac', (2224, 2227)), ('lar', (2227, 2230)), ('amiento', (2230, 2237)), ('▁de', (2237, 2240)), ('▁creati', (2240, 2247)), ('nina', (2247, 2251)), ('▁de', (2251, 2254)), ('▁11', (2254, 2257)), ('5,5', (2257, 2260)), ('▁ml', (2260, 2263)), ('/', (2263, 2264)), ('min', (2264, 2267)), ('▁sin', (2267, 2271)), ('▁protein', (2271, 2279)), ('uria', (2279, 2283)), ('.', (2283, 2284))]\n",
      "\n",
      "\n"
     ]
    }
   ],
   "source": [
    "for i in range(check_id_frag, check_id_frag + dev_frag[check_id]):\n",
    "    print(list(zip([tokenizer._convert_id_to_token(int(ind)) for ind in dev_ind[i]][1:len(dev_start_end_frag[i])+1], \n",
    "               dev_start_end_frag[i])))\n",
    "    print(\"\\n\")"
   ]
  },
  {
   "cell_type": "code",
   "execution_count": 90,
   "metadata": {},
   "outputs": [
    {
     "name": "stdout",
     "output_type": "stream",
     "text": [
      "<s> ▁Pacient e ▁de ▁52 ▁años ▁con ▁antecede ntes ▁personales ▁de ▁insu fici encia ▁renal ▁terminal ▁de ▁et i ología ▁no ▁filia da ▁que ▁recibió ▁un ▁tra splan te ▁hetero tó pico ▁en ▁F ID ▁procede nte ▁de ▁donant e ▁cadáver ▁en ▁En ero ▁de ▁1999. </s> <pad> <pad> <pad> <pad> <pad> <pad> <pad> <pad> <pad> <pad> <pad> <pad> <pad> <pad> <pad> <pad> <pad> <pad> <pad> <pad> <pad> <pad> <pad> <pad> <pad> <pad> <pad> <pad> <pad> <pad> <pad> <pad> <pad> <pad> <pad> <pad> <pad> <pad> <pad> <pad> <pad> <pad> <pad> <pad> <pad> <pad> <pad> <pad> <pad> <pad> <pad> <pad> <pad> <pad> <pad> <pad> <pad> <pad> <pad> <pad> <pad> <pad> <pad> <pad> <pad> <pad> <pad> <pad> <pad> <pad> <pad> <pad> <pad> <pad> <pad> <pad> <pad> <pad> <pad> <pad> <pad> \n",
      "\n",
      "<s> ▁Prev i amente ▁había ▁precisa do ▁hem odi ális is ▁desde ▁1980 ▁a ▁1983 , ▁y ▁di ális is ▁per ito ne al ▁desde ▁entonces ▁hasta ▁el ▁momento ▁del ▁tra splan te ▁renal . </s> <pad> <pad> <pad> <pad> <pad> <pad> <pad> <pad> <pad> <pad> <pad> <pad> <pad> <pad> <pad> <pad> <pad> <pad> <pad> <pad> <pad> <pad> <pad> <pad> <pad> <pad> <pad> <pad> <pad> <pad> <pad> <pad> <pad> <pad> <pad> <pad> <pad> <pad> <pad> <pad> <pad> <pad> <pad> <pad> <pad> <pad> <pad> <pad> <pad> <pad> <pad> <pad> <pad> <pad> <pad> <pad> <pad> <pad> <pad> <pad> <pad> <pad> <pad> <pad> <pad> <pad> <pad> <pad> <pad> <pad> <pad> <pad> <pad> <pad> <pad> <pad> <pad> <pad> <pad> <pad> <pad> <pad> <pad> <pad> <pad> <pad> <pad> <pad> <pad> <pad> <pad> <pad> \n",
      "\n",
      "<s> ▁No ▁exist ieron ▁complica ciones ▁post ra splan te . </s> <pad> <pad> <pad> <pad> <pad> <pad> <pad> <pad> <pad> <pad> <pad> <pad> <pad> <pad> <pad> <pad> <pad> <pad> <pad> <pad> <pad> <pad> <pad> <pad> <pad> <pad> <pad> <pad> <pad> <pad> <pad> <pad> <pad> <pad> <pad> <pad> <pad> <pad> <pad> <pad> <pad> <pad> <pad> <pad> <pad> <pad> <pad> <pad> <pad> <pad> <pad> <pad> <pad> <pad> <pad> <pad> <pad> <pad> <pad> <pad> <pad> <pad> <pad> <pad> <pad> <pad> <pad> <pad> <pad> <pad> <pad> <pad> <pad> <pad> <pad> <pad> <pad> <pad> <pad> <pad> <pad> <pad> <pad> <pad> <pad> <pad> <pad> <pad> <pad> <pad> <pad> <pad> <pad> <pad> <pad> <pad> <pad> <pad> <pad> <pad> <pad> <pad> <pad> <pad> <pad> <pad> <pad> <pad> <pad> <pad> <pad> <pad> <pad> <pad> <pad> <pad> \n",
      "\n",
      "<s> ▁Al ▁paciente ▁se ▁le ▁administr ó ▁triple ▁terapia ▁in mu nos u preso ra ▁con ▁Ciclo spor ina , ▁Pred ni sona ▁y ▁Mi co fen o lato , ▁presenta ndo ▁di ures is ▁inmediata ▁con ▁mejor ía ▁progresiv a ▁de ▁la ▁función ▁renal , ▁siendo ▁la ▁creati nin emia ▁al ▁alta ▁de ▁1,8 ▁mg / dl . </s> <pad> <pad> <pad> <pad> <pad> <pad> <pad> <pad> <pad> <pad> <pad> <pad> <pad> <pad> <pad> <pad> <pad> <pad> <pad> <pad> <pad> <pad> <pad> <pad> <pad> <pad> <pad> <pad> <pad> <pad> <pad> <pad> <pad> <pad> <pad> <pad> <pad> <pad> <pad> <pad> <pad> <pad> <pad> <pad> <pad> <pad> <pad> <pad> <pad> <pad> <pad> <pad> <pad> <pad> <pad> <pad> <pad> <pad> <pad> <pad> <pad> <pad> <pad> <pad> <pad> <pad> <pad> <pad> \n",
      "\n",
      "<s> ▁Después ▁de ▁un ▁periodo ▁post ra splan te ▁no ▁complicado ▁y ▁as into mático ▁de ▁51 ▁meses ▁en ▁el ▁que ▁man tuvo ▁una ▁función ▁renal ▁estable ▁( creati nin emia : ▁1,2 - 1,4 ▁mg / dl ) ▁en ▁una ▁ec ografía ▁de ▁control ▁se ▁obje ti vó ▁un ▁nó du lo ▁sólido ▁de ▁1,5 ▁cm ▁vas cular izado ▁en ▁el ▁polo ▁inferior ▁del ▁in jer to ▁renal . </s> <pad> <pad> <pad> <pad> <pad> <pad> <pad> <pad> <pad> <pad> <pad> <pad> <pad> <pad> <pad> <pad> <pad> <pad> <pad> <pad> <pad> <pad> <pad> <pad> <pad> <pad> <pad> <pad> <pad> <pad> <pad> <pad> <pad> <pad> <pad> <pad> <pad> <pad> <pad> <pad> <pad> <pad> <pad> <pad> <pad> <pad> <pad> <pad> <pad> <pad> <pad> <pad> <pad> <pad> <pad> <pad> <pad> \n",
      "\n",
      "<s> ▁La ▁posterior ▁PA AF ▁eco diri gida ▁re ve ló ▁que ▁se ▁trata ba ▁de ▁un ▁C CR . </s> <pad> <pad> <pad> <pad> <pad> <pad> <pad> <pad> <pad> <pad> <pad> <pad> <pad> <pad> <pad> <pad> <pad> <pad> <pad> <pad> <pad> <pad> <pad> <pad> <pad> <pad> <pad> <pad> <pad> <pad> <pad> <pad> <pad> <pad> <pad> <pad> <pad> <pad> <pad> <pad> <pad> <pad> <pad> <pad> <pad> <pad> <pad> <pad> <pad> <pad> <pad> <pad> <pad> <pad> <pad> <pad> <pad> <pad> <pad> <pad> <pad> <pad> <pad> <pad> <pad> <pad> <pad> <pad> <pad> <pad> <pad> <pad> <pad> <pad> <pad> <pad> <pad> <pad> <pad> <pad> <pad> <pad> <pad> <pad> <pad> <pad> <pad> <pad> <pad> <pad> <pad> <pad> <pad> <pad> <pad> <pad> <pad> <pad> <pad> <pad> <pad> <pad> <pad> <pad> <pad> <pad> <pad> \n",
      "\n",
      "<s> ▁En ▁Juni o ▁de ▁2003 ▁mediante ▁re apertura ▁de ▁la ▁inci sión ▁de ▁Gib son ▁previa ▁en ▁F ID , ▁y ▁tras ▁la ▁libera ción ▁del ▁in jer to ▁renal ▁de ▁las ▁ad here ncias ▁circ unda ntes , ▁se ▁identific ó ▁una ▁tumor ación ▁ex o fí tica ▁bien ▁circ un scri ta ▁de ▁1.5 ▁cm ▁en ▁su ▁polo ▁inferior - cara ▁anterior . </s> <pad> <pad> <pad> <pad> <pad> <pad> <pad> <pad> <pad> <pad> <pad> <pad> <pad> <pad> <pad> <pad> <pad> <pad> <pad> <pad> <pad> <pad> <pad> <pad> <pad> <pad> <pad> <pad> <pad> <pad> <pad> <pad> <pad> <pad> <pad> <pad> <pad> <pad> <pad> <pad> <pad> <pad> <pad> <pad> <pad> <pad> <pad> <pad> <pad> <pad> <pad> <pad> <pad> <pad> <pad> <pad> <pad> <pad> <pad> <pad> <pad> \n",
      "\n",
      "<s> ▁Se ▁practic ó ▁tumor ecto m ía ▁con ▁marg en ▁de ▁más ▁de ▁0,5 ▁cm ▁de ▁par én qui ma ▁macro s có p icamente ▁sano , ▁en vi ándose ▁intra operator i amente ▁muestra s ▁de ▁la ▁base ▁que ▁fueron ▁informa das ▁como ▁libre s ▁de ▁afecta ción ▁tumor al . </s> <pad> <pad> <pad> <pad> <pad> <pad> <pad> <pad> <pad> <pad> <pad> <pad> <pad> <pad> <pad> <pad> <pad> <pad> <pad> <pad> <pad> <pad> <pad> <pad> <pad> <pad> <pad> <pad> <pad> <pad> <pad> <pad> <pad> <pad> <pad> <pad> <pad> <pad> <pad> <pad> <pad> <pad> <pad> <pad> <pad> <pad> <pad> <pad> <pad> <pad> <pad> <pad> <pad> <pad> <pad> <pad> <pad> <pad> <pad> <pad> <pad> <pad> <pad> <pad> <pad> <pad> <pad> <pad> <pad> <pad> <pad> <pad> <pad> <pad> \n",
      "\n",
      "<s> ▁Con ▁fines ▁hemos t áticos ▁se ▁realizar on ▁puntos ▁intra par en qui mat osos ▁de ▁los ▁vas os ▁sang rante s , ▁y ▁puntos ▁de ▁aproxima ción ▁de ▁' col chon ero ' ▁apo y ados ▁en ▁Gore tex ▁y ▁Sur gi cel . </s> <pad> <pad> <pad> <pad> <pad> <pad> <pad> <pad> <pad> <pad> <pad> <pad> <pad> <pad> <pad> <pad> <pad> <pad> <pad> <pad> <pad> <pad> <pad> <pad> <pad> <pad> <pad> <pad> <pad> <pad> <pad> <pad> <pad> <pad> <pad> <pad> <pad> <pad> <pad> <pad> <pad> <pad> <pad> <pad> <pad> <pad> <pad> <pad> <pad> <pad> <pad> <pad> <pad> <pad> <pad> <pad> <pad> <pad> <pad> <pad> <pad> <pad> <pad> <pad> <pad> <pad> <pad> <pad> <pad> <pad> <pad> <pad> <pad> <pad> <pad> <pad> <pad> <pad> <pad> <pad> <pad> \n",
      "\n",
      "<s> ▁El ▁diagnóstico ▁his to pat ológico ▁definitiv o ▁fue ▁un ▁car cino ma ▁papil ar ▁renal ▁tipo ▁I , ▁grado ▁2 ▁de ▁Fu hr man , ▁esta dio ▁I ▁de ▁la ▁UI CC ▁( p T 1 a , ▁N x , ▁M x ) ▁con ▁már gene s ▁de ▁rese cción ▁y ▁grasa ▁per itu moral ▁sin ▁afecta ción ▁tumor al . </s> <pad> <pad> <pad> <pad> <pad> <pad> <pad> <pad> <pad> <pad> <pad> <pad> <pad> <pad> <pad> <pad> <pad> <pad> <pad> <pad> <pad> <pad> <pad> <pad> <pad> <pad> <pad> <pad> <pad> <pad> <pad> <pad> <pad> <pad> <pad> <pad> <pad> <pad> <pad> <pad> <pad> <pad> <pad> <pad> <pad> <pad> <pad> <pad> <pad> <pad> <pad> <pad> <pad> <pad> <pad> <pad> <pad> <pad> <pad> <pad> <pad> <pad> <pad> \n",
      "\n",
      "<s> ▁No ▁exist ieron ▁complica ciones ▁en ▁el ▁curso ▁post operator io ▁de ▁la ▁tumor ecto m ía , ▁y ▁no ▁se ▁modific ó ▁la ▁terapia ▁in mu nos u preso ra . </s> <pad> <pad> <pad> <pad> <pad> <pad> <pad> <pad> <pad> <pad> <pad> <pad> <pad> <pad> <pad> <pad> <pad> <pad> <pad> <pad> <pad> <pad> <pad> <pad> <pad> <pad> <pad> <pad> <pad> <pad> <pad> <pad> <pad> <pad> <pad> <pad> <pad> <pad> <pad> <pad> <pad> <pad> <pad> <pad> <pad> <pad> <pad> <pad> <pad> <pad> <pad> <pad> <pad> <pad> <pad> <pad> <pad> <pad> <pad> <pad> <pad> <pad> <pad> <pad> <pad> <pad> <pad> <pad> <pad> <pad> <pad> <pad> <pad> <pad> <pad> <pad> <pad> <pad> <pad> <pad> <pad> <pad> <pad> <pad> <pad> <pad> <pad> <pad> <pad> <pad> <pad> <pad> <pad> <pad> \n",
      "\n",
      "<s> ▁En ▁el ▁seguimiento ▁a ▁casi ▁tres ▁años , ▁realizado ▁con ▁periodic idad ▁inicialmente ▁trimestr al ▁y ▁posteriormente ▁semestr al , ▁mediante ▁estudio ▁de ▁la ▁función ▁renal ▁y ▁ec ografía ▁o ▁RM ▁no ▁hay ▁evidencia ▁de ▁reci di va ▁tumor al ▁a ▁día ▁de ▁hoy , ▁manten i éndose ▁una ▁adecuada ▁función ▁renal ▁con ▁creati nin emia ▁de ▁1 , 18 ▁mg / dl , ▁y ▁ac lar amiento ▁de ▁creati nina ▁de ▁11 5,5 ▁ml / min ▁sin ▁protein uria . </s> <pad> <pad> <pad> <pad> <pad> <pad> <pad> <pad> <pad> <pad> <pad> <pad> <pad> <pad> <pad> <pad> <pad> <pad> <pad> <pad> <pad> <pad> <pad> <pad> <pad> <pad> <pad> <pad> <pad> <pad> <pad> <pad> <pad> <pad> <pad> <pad> <pad> <pad> <pad> <pad> <pad> <pad> <pad> <pad> <pad> \n",
      "\n"
     ]
    }
   ],
   "source": [
    "check_id_frag = sum(dev_frag[:check_id])\n",
    "for frag in dev_ind[check_id_frag:check_id_frag + dev_frag[check_id]]:\n",
    "    print(' '.join([tokenizer._convert_id_to_token(int(ind)) for ind in frag]), \"\\n\")"
   ]
  },
  {
   "cell_type": "code",
   "execution_count": 91,
   "metadata": {},
   "outputs": [
    {
     "data": {
      "text/plain": [
       "count    3799.000000\n",
       "mean        0.309818\n",
       "std         0.638081\n",
       "min         0.000000\n",
       "25%         0.000000\n",
       "50%         0.000000\n",
       "75%         0.000000\n",
       "max         5.000000\n",
       "dtype: float64"
      ]
     },
     "execution_count": 91,
     "metadata": {},
     "output_type": "execute_result"
    }
   ],
   "source": [
    "# Fragment labels distribution\n",
    "pd.Series(np.sum(dev_y, axis=1)).describe()"
   ]
  },
  {
   "cell_type": "markdown",
   "metadata": {},
   "source": [
    "### Training & Development corpus\n",
    "\n",
    "We merge the previously generated datasets:"
   ]
  },
  {
   "cell_type": "code",
   "execution_count": 92,
   "metadata": {},
   "outputs": [],
   "source": [
    "# Indices\n",
    "train_dev_ind = np.concatenate((train_ind, dev_ind))"
   ]
  },
  {
   "cell_type": "code",
   "execution_count": 93,
   "metadata": {},
   "outputs": [
    {
     "data": {
      "text/plain": [
       "(10812, 128)"
      ]
     },
     "execution_count": 93,
     "metadata": {},
     "output_type": "execute_result"
    }
   ],
   "source": [
    "train_dev_ind.shape"
   ]
  },
  {
   "cell_type": "code",
   "execution_count": 94,
   "metadata": {},
   "outputs": [],
   "source": [
    "# Attention masks\n",
    "train_dev_att = np.concatenate((train_att, dev_att))"
   ]
  },
  {
   "cell_type": "code",
   "execution_count": 95,
   "metadata": {},
   "outputs": [
    {
     "data": {
      "text/plain": [
       "(10812, 128)"
      ]
     },
     "execution_count": 95,
     "metadata": {},
     "output_type": "execute_result"
    }
   ],
   "source": [
    "train_dev_att.shape"
   ]
  },
  {
   "cell_type": "code",
   "execution_count": 96,
   "metadata": {},
   "outputs": [],
   "source": [
    "# y\n",
    "train_dev_y = np.concatenate((train_y, dev_y))"
   ]
  },
  {
   "cell_type": "code",
   "execution_count": 97,
   "metadata": {},
   "outputs": [
    {
     "data": {
      "text/plain": [
       "(10812, 727)"
      ]
     },
     "execution_count": 97,
     "metadata": {},
     "output_type": "execute_result"
    }
   ],
   "source": [
    "train_dev_y.shape"
   ]
  },
  {
   "cell_type": "markdown",
   "metadata": {},
   "source": [
    "## Fine-tuning\n",
    "\n",
    "Using the corpus of labeled sentences, we fine-tune the model on a multi-label sentence classification task."
   ]
  },
  {
   "cell_type": "code",
   "execution_count": 98,
   "metadata": {},
   "outputs": [
    {
     "name": "stderr",
     "output_type": "stream",
     "text": [
      "All PyTorch model weights were used when initializing TFXLMRobertaForSequenceClassification.\n",
      "\n",
      "Some weights or buffers of the TF 2.0 model TFXLMRobertaForSequenceClassification were not initialized from the PyTorch model and are newly initialized: ['classifier.dense.weight', 'classifier.dense.bias', 'classifier.out_proj.weight', 'classifier.out_proj.bias']\n",
      "You should probably TRAIN this model on a down-stream task to be able to use it for predictions and inference.\n"
     ]
    }
   ],
   "source": [
    "from transformers import TFXLMRobertaForSequenceClassification\n",
    "\n",
    "model = TFXLMRobertaForSequenceClassification.from_pretrained(model_name, from_pt=True)"
   ]
  },
  {
   "cell_type": "code",
   "execution_count": 99,
   "metadata": {},
   "outputs": [
    {
     "name": "stdout",
     "output_type": "stream",
     "text": [
      "Model: \"tfxlm_roberta_for_sequence_classification\"\n",
      "_________________________________________________________________\n",
      "Layer (type)                 Output Shape              Param #   \n",
      "=================================================================\n",
      "roberta (TFRobertaMainLayer) multiple                  277453056 \n",
      "_________________________________________________________________\n",
      "classifier (TFRobertaClassif multiple                  592130    \n",
      "=================================================================\n",
      "Total params: 278,045,186\n",
      "Trainable params: 278,045,186\n",
      "Non-trainable params: 0\n",
      "_________________________________________________________________\n"
     ]
    }
   ],
   "source": [
    "model.summary()"
   ]
  },
  {
   "cell_type": "code",
   "execution_count": 100,
   "metadata": {},
   "outputs": [
    {
     "data": {
      "text/plain": [
       "[<transformers.models.roberta.modeling_tf_roberta.TFRobertaMainLayer at 0x7f4c78857090>,\n",
       " <transformers.models.roberta.modeling_tf_roberta.TFRobertaClassificationHead at 0x7f4c494b8650>]"
      ]
     },
     "execution_count": 100,
     "metadata": {},
     "output_type": "execute_result"
    }
   ],
   "source": [
    "model.layers"
   ]
  },
  {
   "cell_type": "code",
   "execution_count": 101,
   "metadata": {},
   "outputs": [],
   "source": [
    "from tensorflow.keras import Input, Model\n",
    "from tensorflow.keras.layers import Dense, Activation\n",
    "from tensorflow.keras.initializers import GlorotUniform\n",
    "\n",
    "input_ids = Input(shape=(SEQ_LEN,), name='input_ids', dtype='int64')\n",
    "attention_mask = Input(shape=(SEQ_LEN,), name='attention_mask', dtype='int64')\n",
    "inputs = [input_ids, attention_mask]\n",
    "\n",
    "cls_token = model.layers[0](input_ids=inputs[0], attention_mask=inputs[1])[0][:, 0, :] # take <s> token output representation (equiv. to [CLS]) \n",
    "out_logits = Dense(units=num_labels, kernel_initializer=GlorotUniform(seed=random_seed))(cls_token) # Multi-label classification\n",
    "out_act = Activation('sigmoid')(out_logits)\n",
    "\n",
    "model = Model(inputs=[input_ids, attention_mask], outputs=out_act)"
   ]
  },
  {
   "cell_type": "code",
   "execution_count": 102,
   "metadata": {},
   "outputs": [
    {
     "name": "stdout",
     "output_type": "stream",
     "text": [
      "Model: \"model\"\n",
      "__________________________________________________________________________________________________\n",
      "Layer (type)                    Output Shape         Param #     Connected to                     \n",
      "==================================================================================================\n",
      "input_ids (InputLayer)          [(None, 128)]        0                                            \n",
      "__________________________________________________________________________________________________\n",
      "attention_mask (InputLayer)     [(None, 128)]        0                                            \n",
      "__________________________________________________________________________________________________\n",
      "roberta (TFRobertaMainLayer)    TFBaseModelOutputWit 277453056   input_ids[0][0]                  \n",
      "__________________________________________________________________________________________________\n",
      "tf_op_layer_strided_slice (Tens [(None, 768)]        0           roberta[0][0]                    \n",
      "__________________________________________________________________________________________________\n",
      "dense (Dense)                   (None, 727)          559063      tf_op_layer_strided_slice[0][0]  \n",
      "__________________________________________________________________________________________________\n",
      "activation_4 (Activation)       (None, 727)          0           dense[0][0]                      \n",
      "==================================================================================================\n",
      "Total params: 278,012,119\n",
      "Trainable params: 278,012,119\n",
      "Non-trainable params: 0\n",
      "__________________________________________________________________________________________________\n"
     ]
    }
   ],
   "source": [
    "model.summary()"
   ]
  },
  {
   "cell_type": "code",
   "execution_count": 103,
   "metadata": {},
   "outputs": [
    {
     "data": {
      "text/plain": [
       "[<tf.Tensor 'input_ids:0' shape=(None, 128) dtype=int64>,\n",
       " <tf.Tensor 'attention_mask:0' shape=(None, 128) dtype=int64>]"
      ]
     },
     "execution_count": 103,
     "metadata": {},
     "output_type": "execute_result"
    }
   ],
   "source": [
    "model.input"
   ]
  },
  {
   "cell_type": "code",
   "execution_count": 104,
   "metadata": {},
   "outputs": [
    {
     "data": {
      "text/plain": [
       "<tf.Tensor 'activation_4/Identity:0' shape=(None, 727) dtype=float32>"
      ]
     },
     "execution_count": 104,
     "metadata": {},
     "output_type": "execute_result"
    }
   ],
   "source": [
    "model.output"
   ]
  },
  {
   "cell_type": "code",
   "execution_count": null,
   "metadata": {},
   "outputs": [
    {
     "name": "stdout",
     "output_type": "stream",
     "text": [
      "Epoch 1/41\n",
      "676/676 [==============================] - 172s 255ms/step - loss: 0.2379\n",
      "Epoch 2/41\n",
      "676/676 [==============================] - 174s 257ms/step - loss: 0.0208\n",
      "Epoch 3/41\n",
      "676/676 [==============================] - 174s 257ms/step - loss: 0.0075\n",
      "Epoch 4/41\n",
      "676/676 [==============================] - 174s 257ms/step - loss: 0.0048\n",
      "Epoch 5/41\n",
      "676/676 [==============================] - 174s 257ms/step - loss: 0.0040\n",
      "Epoch 6/41\n",
      "676/676 [==============================] - 174s 257ms/step - loss: 0.0036\n",
      "Epoch 7/41\n",
      "676/676 [==============================] - 174s 258ms/step - loss: 0.0034\n",
      "Epoch 8/41\n",
      "676/676 [==============================] - 174s 258ms/step - loss: 0.0032\n",
      "Epoch 9/41\n",
      "676/676 [==============================] - 174s 258ms/step - loss: 0.0031\n",
      "Epoch 10/41\n",
      "676/676 [==============================] - 174s 258ms/step - loss: 0.0029\n",
      "Epoch 11/41\n",
      "676/676 [==============================] - 174s 258ms/step - loss: 0.0027\n",
      "Epoch 12/41\n",
      "676/676 [==============================] - 174s 258ms/step - loss: 0.0026\n",
      "Epoch 13/41\n",
      "676/676 [==============================] - 174s 258ms/step - loss: 0.0024\n",
      "Epoch 14/41\n",
      "676/676 [==============================] - 174s 258ms/step - loss: 0.0023\n",
      "Epoch 15/41\n",
      "676/676 [==============================] - 174s 258ms/step - loss: 0.0023\n",
      "Epoch 16/41\n",
      "676/676 [==============================] - 174s 258ms/step - loss: 0.0034\n",
      "Epoch 17/41\n",
      "456/676 [===================>..........] - ETA: 56s - loss: 0.0034"
     ]
    }
   ],
   "source": [
    "%%time\n",
    "from tensorflow.keras import optimizers, losses\n",
    "import tensorflow_addons as tfa\n",
    "\n",
    "optimizer = tfa.optimizers.RectifiedAdam(learning_rate=LR)\n",
    "loss = losses.BinaryCrossentropy(from_logits=False)\n",
    "model.compile(optimizer=optimizer, loss=loss)\n",
    "\n",
    "history = model.fit(x={'input_ids': train_dev_ind, 'attention_mask': train_dev_att}, y=train_dev_y,\n",
    "          batch_size=BATCH_SIZE, epochs=EPOCHS, shuffle=True)"
   ]
  },
  {
   "cell_type": "markdown",
   "metadata": {},
   "source": [
    "## Test set predictions\n",
    "\n",
    "Finally, the predictions made by the model on the test set are saved. For this purpose, firstly, each sentence from the test corpus must be converted into a sequence of subwords (input IDs and attention mask arrays). Then, the predictions made by the model at the sentence-level are saved, to be further evaluated at document-level (see `results/CodiEsp-P/Evaluation.ipynb`)."
   ]
  },
  {
   "cell_type": "code",
   "execution_count": 98,
   "metadata": {},
   "outputs": [
    {
     "name": "stdout",
     "output_type": "stream",
     "text": [
      "CPU times: user 6.74 ms, sys: 0 ns, total: 6.74 ms\n",
      "Wall time: 6.07 ms\n"
     ]
    }
   ],
   "source": [
    "%%time\n",
    "test_path = corpus_path + \"test/text_files/\"\n",
    "test_files = [f for f in os.listdir(test_path) if os.path.isfile(test_path + f)]\n",
    "test_data = load_text_files(test_files, test_path)\n",
    "df_text_test = pd.DataFrame({'doc_id': [s.split('.txt')[0] for s in test_files], 'raw_text': test_data})"
   ]
  },
  {
   "cell_type": "code",
   "execution_count": 99,
   "metadata": {},
   "outputs": [
    {
     "data": {
      "text/plain": [
       "(250, 2)"
      ]
     },
     "execution_count": 99,
     "metadata": {},
     "output_type": "execute_result"
    }
   ],
   "source": [
    "df_text_test.shape"
   ]
  },
  {
   "cell_type": "code",
   "execution_count": 100,
   "metadata": {},
   "outputs": [
    {
     "data": {
      "text/html": [
       "<div>\n",
       "<style scoped>\n",
       "    .dataframe tbody tr th:only-of-type {\n",
       "        vertical-align: middle;\n",
       "    }\n",
       "\n",
       "    .dataframe tbody tr th {\n",
       "        vertical-align: top;\n",
       "    }\n",
       "\n",
       "    .dataframe thead th {\n",
       "        text-align: right;\n",
       "    }\n",
       "</style>\n",
       "<table border=\"1\" class=\"dataframe\">\n",
       "  <thead>\n",
       "    <tr style=\"text-align: right;\">\n",
       "      <th></th>\n",
       "      <th>doc_id</th>\n",
       "      <th>raw_text</th>\n",
       "    </tr>\n",
       "  </thead>\n",
       "  <tbody>\n",
       "    <tr>\n",
       "      <th>0</th>\n",
       "      <td>S0365-66912007000900014-1</td>\n",
       "      <td>Paciente varón de 34 años de edad diagnosticad...</td>\n",
       "    </tr>\n",
       "    <tr>\n",
       "      <th>1</th>\n",
       "      <td>S0211-69952014000200012-1</td>\n",
       "      <td>Un varón de 48 años, de raza caucásica, con IR...</td>\n",
       "    </tr>\n",
       "    <tr>\n",
       "      <th>2</th>\n",
       "      <td>S1139-76322017000200009-1</td>\n",
       "      <td>Presentamos el caso clínico de un niño de cinc...</td>\n",
       "    </tr>\n",
       "    <tr>\n",
       "      <th>3</th>\n",
       "      <td>S0210-48062010000100019-1</td>\n",
       "      <td>Paciente varón de 53 años, diagnosticado de es...</td>\n",
       "    </tr>\n",
       "    <tr>\n",
       "      <th>4</th>\n",
       "      <td>S1130-14732005000500006-1</td>\n",
       "      <td>Se trata de un varón de 20 años diagnosticado ...</td>\n",
       "    </tr>\n",
       "  </tbody>\n",
       "</table>\n",
       "</div>"
      ],
      "text/plain": [
       "                      doc_id  \\\n",
       "0  S0365-66912007000900014-1   \n",
       "1  S0211-69952014000200012-1   \n",
       "2  S1139-76322017000200009-1   \n",
       "3  S0210-48062010000100019-1   \n",
       "4  S1130-14732005000500006-1   \n",
       "\n",
       "                                            raw_text  \n",
       "0  Paciente varón de 34 años de edad diagnosticad...  \n",
       "1  Un varón de 48 años, de raza caucásica, con IR...  \n",
       "2  Presentamos el caso clínico de un niño de cinc...  \n",
       "3  Paciente varón de 53 años, diagnosticado de es...  \n",
       "4  Se trata de un varón de 20 años diagnosticado ...  "
      ]
     },
     "execution_count": 100,
     "metadata": {},
     "output_type": "execute_result"
    }
   ],
   "source": [
    "df_text_test.head()"
   ]
  },
  {
   "cell_type": "code",
   "execution_count": 101,
   "metadata": {},
   "outputs": [
    {
     "data": {
      "text/plain": [
       "'Paciente varón de 34 años de edad diagnosticado de varicela tres semanas antes ya resuelta sin complicaciones. Acude a urgencias por presentar disminución de agudeza visual en su ojo izquierdo.\\nEn la exploración oftalmológica presenta una agudeza visual corregida de 1 en el ojo derecho (OD) y de 0,6 en el ojo izquierdo (OI). El estudio con lámpara de hendidura demuestra en el OI un tyndall celular de 4+, precipitados queráticos inferiores (3+) y sin presentar la cornea tinción con fluoresceína, siendo normal el OD. La presión intraocular fue de 16mmHg en ambos ojos.\\nEn la exploración fundoscópica inicial del OI se aprecia leve vitritis (1+) sin focos de retinitis.\\nSe instaura tratamiento tópico con corticoides y midriáticos. A los 2 días se observa leve disminución del tyndall celular (3+) en cámara anterior pero en fondo de ojo aparece un foco periférico de retinitis necrotizante en el área temporal asociado a vasculitis retiniana.\\nSe ingresa al paciente y se instaura tratamiento con aciclovir intravenoso (10 mgr/kg/8 horas), antiagregación (ácido acetilsalicílico 150 mgr/24 horas) y se mantiene el tratamiento tópico. Asimismo se realiza fotocoagulación profiláctica con láser de argón rodeando la zona de necrosis retiniana.\\n\\nA las 48 horas y previa comprobación de una buena respuesta con disminución del foco de retinitis, se introducen corticoides sistémicos a dosis de 1 mg/kg/d, presentando una rápida mejoría de la agudeza visual, con disminución de la vitritis y menor tamaño del foco de retinitis. A las 2 semanas se pasa a vía oral el tratamiento antiviral (famciclovir 500 mgr/12 horas) y se inicia un descenso de corticoides de manera gradual a razón de 10 mgr cada semana. Se continúa con el tratamiento antiviral a dosis de mantenimiento durante 6 semanas, realizando controles analíticos periódicos hemograma y bioquímica para detectar afectación renal.\\nTras 6 meses del comienzo del cuadro, el paciente continúa asintomático, con una agudeza visual de unidad en OI, cicatrización de las lesiones retinianas y ausencia completa de actividad inflamatoria ocular en ambos ojos.\\nDurante el ingreso se constató la infección reciente por el virus varicela zoster mediante seroconversión.\\n\\n'"
      ]
     },
     "execution_count": 101,
     "metadata": {},
     "output_type": "execute_result"
    }
   ],
   "source": [
    "df_text_test.raw_text[0]"
   ]
  },
  {
   "cell_type": "code",
   "execution_count": 102,
   "metadata": {},
   "outputs": [],
   "source": [
    "test_doc_list = sorted(set(df_text_test[\"doc_id\"]))"
   ]
  },
  {
   "cell_type": "code",
   "execution_count": 103,
   "metadata": {},
   "outputs": [
    {
     "data": {
      "text/plain": [
       "250"
      ]
     },
     "execution_count": 103,
     "metadata": {},
     "output_type": "execute_result"
    }
   ],
   "source": [
    "len(test_doc_list)"
   ]
  },
  {
   "cell_type": "code",
   "execution_count": 111,
   "metadata": {},
   "outputs": [
    {
     "name": "stdout",
     "output_type": "stream",
     "text": [
      "CPU times: user 34.7 ms, sys: 0 ns, total: 34.7 ms\n",
      "Wall time: 34.1 ms\n"
     ]
    }
   ],
   "source": [
    "%%time\n",
    "ss_sub_corpus_path = ss_corpus_path + \"test/\"\n",
    "ss_files = [f for f in os.listdir(ss_sub_corpus_path) if os.path.isfile(ss_sub_corpus_path + f)]\n",
    "ss_dict_test = load_ss_files(ss_files, ss_sub_corpus_path)"
   ]
  },
  {
   "cell_type": "code",
   "execution_count": 112,
   "metadata": {},
   "outputs": [
    {
     "name": "stderr",
     "output_type": "stream",
     "text": [
      "100%|██████████| 250/250 [00:00<00:00, 279.35it/s]\n"
     ]
    },
    {
     "name": "stdout",
     "output_type": "stream",
     "text": [
      "CPU times: user 956 ms, sys: 12.4 ms, total: 968 ms\n",
      "Wall time: 951 ms\n"
     ]
    }
   ],
   "source": [
    "%%time\n",
    "test_ind, test_att, _, test_frag, _ = ss_create_frag_input_data_xlmr(df_text=df_text_test, \n",
    "                                                  text_col=text_col,\n",
    "                                                  # Since labels are ignored, we pass df_codes_train_ner as df_ann\n",
    "                                                  df_ann=df_codes_train_ner, doc_list=test_doc_list, ss_dict=ss_dict_test,\n",
    "                                                  tokenizer=tokenizer, sp_pb2=spt, lab_encoder=mlb_encoder, seq_len=SEQ_LEN)"
   ]
  },
  {
   "cell_type": "code",
   "execution_count": 113,
   "metadata": {},
   "outputs": [
    {
     "name": "stdout",
     "output_type": "stream",
     "text": [
      "CPU times: user 14.9 s, sys: 1.68 s, total: 16.6 s\n",
      "Wall time: 16.9 s\n"
     ]
    }
   ],
   "source": [
    "%%time\n",
    "test_preds = model.predict({'input_ids': test_ind, 'attention_mask': test_att})"
   ]
  },
  {
   "cell_type": "code",
   "execution_count": 114,
   "metadata": {},
   "outputs": [
    {
     "data": {
      "text/plain": [
       "(3950, 727)"
      ]
     },
     "execution_count": 114,
     "metadata": {},
     "output_type": "execute_result"
    }
   ],
   "source": [
    "test_preds.shape"
   ]
  },
  {
   "cell_type": "code",
   "execution_count": 104,
   "metadata": {},
   "outputs": [],
   "source": [
    "results_dir_path = \"../results/CodiEsp-P/\""
   ]
  },
  {
   "cell_type": "code",
   "execution_count": 178,
   "metadata": {},
   "outputs": [
    {
     "name": "stdout",
     "output_type": "stream",
     "text": [
      "CPU times: user 2.21 ms, sys: 4.65 ms, total: 6.87 ms\n",
      "Wall time: 6.02 ms\n"
     ]
    }
   ],
   "source": [
    "%%time\n",
    "np.save(file=results_dir_path + \"predictions/xlm_r_seed_\" + str(random_seed) + \"_test_preds.npy\", arr=test_preds)"
   ]
  },
  {
   "cell_type": "code",
   "execution_count": 111,
   "metadata": {},
   "outputs": [],
   "source": [
    "# To be further used when evaluating model performance at document level\n",
    "np.save(file=results_dir_path + \"xlm_r_test_frags.npy\", arr=test_frag)\n",
    "np.save(file=results_dir_path + \"classes.npy\", arr=mlb_encoder.classes_)\n",
    "np.save(file=results_dir_path + \"test_docs.npy\", arr=test_doc_list)"
   ]
  }
 ],
 "metadata": {
  "kernelspec": {
   "display_name": "Python 3",
   "language": "python",
   "name": "python3"
  },
  "language_info": {
   "codemirror_mode": {
    "name": "ipython",
    "version": 3
   },
   "file_extension": ".py",
   "mimetype": "text/x-python",
   "name": "python",
   "nbconvert_exporter": "python",
   "pygments_lexer": "ipython3",
   "version": "3.7.9"
  }
 },
 "nbformat": 4,
 "nbformat_minor": 4
}
