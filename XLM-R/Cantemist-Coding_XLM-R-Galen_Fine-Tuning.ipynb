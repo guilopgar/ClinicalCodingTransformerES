{
 "cells": [
  {
   "cell_type": "markdown",
   "metadata": {},
   "source": [
    "# Fine-tuning XLM-R-Galén on Cantemist-Coding\n",
    "\n",
    "In this notebook, following a multi-label sequence classification approach, the XLM-R-Galén model is fine-tuned on both the training and development sets of the Cantemist-Coding corpus. Additionally, the predictions made by the model on the test set are saved, in order to futher evaluate the clinical coding performance of the model (see `results/Cantemist-Coding/Evaluation.ipynb`)."
   ]
  },
  {
   "cell_type": "code",
   "execution_count": 1,
   "metadata": {},
   "outputs": [],
   "source": [
    "import tensorflow as tf\n",
    "\n",
    "# Auxiliary components\n",
    "import sys\n",
    "sys.path.append(\"..\")\n",
    "from nlp_utils import *\n",
    "\n",
    "# XLM-R tokenizer\n",
    "from transformers import XLMRobertaTokenizer\n",
    "import sentencepiece_pb2\n",
    "model_name = \"XLM-R-Galen/\"\n",
    "tokenizer = XLMRobertaTokenizer.from_pretrained(model_name)\n",
    "spt = sentencepiece_pb2.SentencePieceText()\n",
    "\n",
    "# Hyper-parameters\n",
    "text_col = \"raw_text\"\n",
    "SEQ_LEN = 128\n",
    "BATCH_SIZE = 16\n",
    "EPOCHS = 36\n",
    "LR = 3e-5\n",
    "\n",
    "random_seed = 0\n",
    "tf.random.set_seed(random_seed)"
   ]
  },
  {
   "cell_type": "markdown",
   "metadata": {},
   "source": [
    "## Load text\n",
    "\n",
    "Firstly, all text files from training and development Cantemist corpora are loaded in different dataframes.\n",
    "\n",
    "Also, CIE-O codes are loaded."
   ]
  },
  {
   "cell_type": "code",
   "execution_count": 2,
   "metadata": {},
   "outputs": [],
   "source": [
    "corpus_path = \"../datasets/cantemist_v6/\"\n",
    "sub_task_path = \"cantemist-coding/\""
   ]
  },
  {
   "cell_type": "markdown",
   "metadata": {},
   "source": [
    "### Training corpus"
   ]
  },
  {
   "cell_type": "code",
   "execution_count": 3,
   "metadata": {},
   "outputs": [
    {
     "name": "stdout",
     "output_type": "stream",
     "text": [
      "CPU times: user 960 µs, sys: 15.7 ms, total: 16.7 ms\n",
      "Wall time: 16.3 ms\n"
     ]
    }
   ],
   "source": [
    "%%time\n",
    "train_path = corpus_path + \"train-set/\" + sub_task_path + \"txt/\"\n",
    "train_files = [f for f in os.listdir(train_path) if os.path.isfile(train_path + f)]\n",
    "n_train_files = len(train_files)\n",
    "train_data = load_text_files(train_files, train_path)\n",
    "dev1_path = corpus_path + \"dev-set1/\" + sub_task_path + \"txt/\"\n",
    "train_files.extend([f for f in os.listdir(dev1_path) if os.path.isfile(dev1_path + f)])\n",
    "train_data.extend(load_text_files(train_files[n_train_files:], dev1_path))\n",
    "df_text_train = pd.DataFrame({'doc_id': [s.split('.txt')[0] for s in train_files], 'raw_text': train_data})"
   ]
  },
  {
   "cell_type": "code",
   "execution_count": 4,
   "metadata": {},
   "outputs": [
    {
     "data": {
      "text/plain": [
       "(751, 2)"
      ]
     },
     "execution_count": 4,
     "metadata": {},
     "output_type": "execute_result"
    }
   ],
   "source": [
    "df_text_train.shape"
   ]
  },
  {
   "cell_type": "code",
   "execution_count": 5,
   "metadata": {},
   "outputs": [
    {
     "data": {
      "text/html": [
       "<div>\n",
       "<style scoped>\n",
       "    .dataframe tbody tr th:only-of-type {\n",
       "        vertical-align: middle;\n",
       "    }\n",
       "\n",
       "    .dataframe tbody tr th {\n",
       "        vertical-align: top;\n",
       "    }\n",
       "\n",
       "    .dataframe thead th {\n",
       "        text-align: right;\n",
       "    }\n",
       "</style>\n",
       "<table border=\"1\" class=\"dataframe\">\n",
       "  <thead>\n",
       "    <tr style=\"text-align: right;\">\n",
       "      <th></th>\n",
       "      <th>doc_id</th>\n",
       "      <th>raw_text</th>\n",
       "    </tr>\n",
       "  </thead>\n",
       "  <tbody>\n",
       "    <tr>\n",
       "      <th>0</th>\n",
       "      <td>cc_onco453</td>\n",
       "      <td>Anamnesis\\nSe trata de un varón de 55 años, ex...</td>\n",
       "    </tr>\n",
       "    <tr>\n",
       "      <th>1</th>\n",
       "      <td>cc_onco962</td>\n",
       "      <td>Anamnesis\\nMujer de 40 años que consulta por l...</td>\n",
       "    </tr>\n",
       "    <tr>\n",
       "      <th>2</th>\n",
       "      <td>cc_onco989</td>\n",
       "      <td>Anamnesis\\nPaciente de 43 años, perimenopáusic...</td>\n",
       "    </tr>\n",
       "    <tr>\n",
       "      <th>3</th>\n",
       "      <td>cc_onco187</td>\n",
       "      <td>Anamnesis\\nVarón de 72 años, exfumador y bebed...</td>\n",
       "    </tr>\n",
       "    <tr>\n",
       "      <th>4</th>\n",
       "      <td>cc_onco164</td>\n",
       "      <td>Anamnesis\\nMujer de 51 años, sin alergias medi...</td>\n",
       "    </tr>\n",
       "  </tbody>\n",
       "</table>\n",
       "</div>"
      ],
      "text/plain": [
       "       doc_id                                           raw_text\n",
       "0  cc_onco453  Anamnesis\\nSe trata de un varón de 55 años, ex...\n",
       "1  cc_onco962  Anamnesis\\nMujer de 40 años que consulta por l...\n",
       "2  cc_onco989  Anamnesis\\nPaciente de 43 años, perimenopáusic...\n",
       "3  cc_onco187  Anamnesis\\nVarón de 72 años, exfumador y bebed...\n",
       "4  cc_onco164  Anamnesis\\nMujer de 51 años, sin alergias medi..."
      ]
     },
     "execution_count": 5,
     "metadata": {},
     "output_type": "execute_result"
    }
   ],
   "source": [
    "df_text_train.head()"
   ]
  },
  {
   "cell_type": "code",
   "execution_count": 6,
   "metadata": {},
   "outputs": [
    {
     "data": {
      "text/plain": [
       "'Anamnesis\\nSe trata de un varón de 55 años, ex fumador con un índice tabáquico de 40 paquetes-año, HTA, sin antecedentes familiares de interés, en tratamiento con ácido fólico, omeprazol, hierro oral y risperidona.\\nEn junio de 2017, es diagnosticado a raíz de una trombosis iliaca derecha de una masa tumoral pobremente diferenciada que infiltraba tercio distal de apéndice cecal, con obliteración del paquete vascular iliaco, así como infiltración del uréter derecho, condicionando ureterohidronefrosis derecha grado cuatro.\\nSe realiza biopsia de la lesión, con hallazgos anatomopatológicos de neoplasia fusocelular con inmunohistoquímica (IHC) sugerente de origen urotelial con diferenciación sarcomatoide (positividad para p63, p40, GATA3, CD99, EMA CAM 5.2, CK 34, beta E12, CK7, negatividad para CK20, S100, CD34, cKIT y TTF1), con SYT no reordenado.\\nSe lleva a cabo intervención en julio de 2017 con extirpación de la masa tumoral, resección ileocecal, dejando ileostomía terminal y bypass extraanatómico femorofemoral.\\nEn octubre de 2017, se observa en TC toracoabdominopélvica una lesión hepática de nueva aparición que sugiere de metástasis.\\nCon juicio clínico de carcinoma urotelial de alto grado con diferenciación sarcomatoide estadio IV (pT4N2M1) por afectación hepática, se decide iniciar tratamiento sistémico de primera línea en febrero de 2018 dentro de ensayo clínico con antiPD1 y antiCTLA4 hasta julio de 2018, presentando buena tolerancia al tratamiento, pero con progresión de la enfermedad a nivel hepático.\\nInicia entonces segunda línea de tratamiento con carboplatino AUC5 día 1 y gemcitabina 1.000 mg/m2 días 1 y 8 cada 21 días, el 20 de agosto de 2018.\\nEn octubre de 2018, tras cinco ciclos de quimioterapia y una dosis acumulada de gemcitabina de 10.000 mg/m2, el paciente refiere aparición de lesiones ulceradas y dolorosas en regiones acras de dedos de manos.\\nCon sospecha de isquemia digital aguda, es derivado a Urgencias para valoración por Cirugía Vascular.\\n\\nExploración física\\nDurante la exploración física no presenta esclerodactilia, telangiectasias ni otras lesiones sugerentes de conectivopatías. Los pulsos radiales presentes y cubitales ausentes, con relleno capilar sin alteraciones.\\n\\nPruebas complementarias\\nEn analítica destacaba anemia normocítica normocroma grado 1 con Hb 10,2 g/dl (rango 13-15,5), sin otros hallazgos relevantes.\\nSe realiza estudio de autoanticuerpos (ENAS negativos, ANA positivo [1/80], anticuerpo (Ac) anti-P cíclico citrulinado negativo, Ac beta2-glicoproteina IgM e IgG negativos, cardiolipina IgG e IgM negativos, C-ANCAS y P-ANCAS negativos, VSG 137mm [rango 1,00-15] y crioglobulinas débilmente positivas) y estudio serológico con hallazgos de infección pasada de VHE y resto de virus hepatotropos negativos.\\nSe lleva a cabo eco-Doppler de miembros superiores en la que destaca alteración de flujo en arteria cubital derecha, y ecocardiograma transtorácico sin signos de endocarditis infecciosa.\\nEn la capilaroscopia como única alteración, destaca la presencia en segundo dedo de mano izquierda una hemorragia aislada, con distribución y densidad capilar conservada.\\n\\nDiagnóstico\\nCon estas pruebas, el paciente es diagnosticado de isquemia digital con datos de afectación macrovascular en relación al tratamiento de gemcitabina.\\n\\nTratamiento\\nEl paciente inicia tratamiento con prostaglandinas (PG) y anticoagulación con heparina de bajo peso molecular a dosis de 1 mg/kg cada 12 horas, experimentando mejoría progresiva de los síntomas y de las lesiones.\\n\\nEvolución\\nSe decide discontinuar tratamiento de quimioterapia, presentando respuesta parcial de la enfermedad tumoral con disminución de la masa pélvica, adenopatías retroperitoneales y de las metástasis hepáticas en TC de enero de 2019.'"
      ]
     },
     "execution_count": 6,
     "metadata": {},
     "output_type": "execute_result"
    }
   ],
   "source": [
    "df_text_train.raw_text[0]"
   ]
  },
  {
   "cell_type": "markdown",
   "metadata": {},
   "source": [
    "We also load the CIE-O codes table:"
   ]
  },
  {
   "cell_type": "code",
   "execution_count": 7,
   "metadata": {},
   "outputs": [],
   "source": [
    "df_codes_train = pd.concat([pd.read_table(corpus_path + \"train-set/\" + sub_task_path + \"train-coding.tsv\", \n",
    "                                 sep='\\t', header=0), \n",
    "                            pd.read_table(corpus_path + \"dev-set1/\" + sub_task_path + \"dev1-coding.tsv\", \n",
    "                                 sep='\\t', header=0)])"
   ]
  },
  {
   "cell_type": "code",
   "execution_count": 8,
   "metadata": {},
   "outputs": [
    {
     "data": {
      "text/plain": [
       "(4142, 2)"
      ]
     },
     "execution_count": 8,
     "metadata": {},
     "output_type": "execute_result"
    }
   ],
   "source": [
    "df_codes_train.shape"
   ]
  },
  {
   "cell_type": "code",
   "execution_count": 9,
   "metadata": {},
   "outputs": [],
   "source": [
    "df_codes_train[\"code\"] = df_codes_train[\"code\"].str.lower()"
   ]
  },
  {
   "cell_type": "code",
   "execution_count": 10,
   "metadata": {},
   "outputs": [
    {
     "data": {
      "text/html": [
       "<div>\n",
       "<style scoped>\n",
       "    .dataframe tbody tr th:only-of-type {\n",
       "        vertical-align: middle;\n",
       "    }\n",
       "\n",
       "    .dataframe tbody tr th {\n",
       "        vertical-align: top;\n",
       "    }\n",
       "\n",
       "    .dataframe thead th {\n",
       "        text-align: right;\n",
       "    }\n",
       "</style>\n",
       "<table border=\"1\" class=\"dataframe\">\n",
       "  <thead>\n",
       "    <tr style=\"text-align: right;\">\n",
       "      <th></th>\n",
       "      <th>file</th>\n",
       "      <th>code</th>\n",
       "    </tr>\n",
       "  </thead>\n",
       "  <tbody>\n",
       "    <tr>\n",
       "      <th>0</th>\n",
       "      <td>cc_onco860</td>\n",
       "      <td>8140/3</td>\n",
       "    </tr>\n",
       "    <tr>\n",
       "      <th>1</th>\n",
       "      <td>cc_onco860</td>\n",
       "      <td>8000/6</td>\n",
       "    </tr>\n",
       "    <tr>\n",
       "      <th>2</th>\n",
       "      <td>cc_onco860</td>\n",
       "      <td>8140/6</td>\n",
       "    </tr>\n",
       "    <tr>\n",
       "      <th>3</th>\n",
       "      <td>cc_onco98</td>\n",
       "      <td>8000/6</td>\n",
       "    </tr>\n",
       "    <tr>\n",
       "      <th>4</th>\n",
       "      <td>cc_onco98</td>\n",
       "      <td>8070/3</td>\n",
       "    </tr>\n",
       "  </tbody>\n",
       "</table>\n",
       "</div>"
      ],
      "text/plain": [
       "         file    code\n",
       "0  cc_onco860  8140/3\n",
       "1  cc_onco860  8000/6\n",
       "2  cc_onco860  8140/6\n",
       "3   cc_onco98  8000/6\n",
       "4   cc_onco98  8070/3"
      ]
     },
     "execution_count": 10,
     "metadata": {},
     "output_type": "execute_result"
    }
   ],
   "source": [
    "df_codes_train.head()"
   ]
  },
  {
   "cell_type": "code",
   "execution_count": 11,
   "metadata": {},
   "outputs": [
    {
     "data": {
      "text/html": [
       "<div>\n",
       "<style scoped>\n",
       "    .dataframe tbody tr th:only-of-type {\n",
       "        vertical-align: middle;\n",
       "    }\n",
       "\n",
       "    .dataframe tbody tr th {\n",
       "        vertical-align: top;\n",
       "    }\n",
       "\n",
       "    .dataframe thead th {\n",
       "        text-align: right;\n",
       "    }\n",
       "</style>\n",
       "<table border=\"1\" class=\"dataframe\">\n",
       "  <thead>\n",
       "    <tr style=\"text-align: right;\">\n",
       "      <th></th>\n",
       "      <th>file</th>\n",
       "      <th>code</th>\n",
       "    </tr>\n",
       "  </thead>\n",
       "  <tbody>\n",
       "    <tr>\n",
       "      <th>1862</th>\n",
       "      <td>cc_onco768</td>\n",
       "      <td>9080/1</td>\n",
       "    </tr>\n",
       "    <tr>\n",
       "      <th>1863</th>\n",
       "      <td>cc_onco768</td>\n",
       "      <td>9080/1</td>\n",
       "    </tr>\n",
       "  </tbody>\n",
       "</table>\n",
       "</div>"
      ],
      "text/plain": [
       "            file    code\n",
       "1862  cc_onco768  9080/1\n",
       "1863  cc_onco768  9080/1"
      ]
     },
     "execution_count": 11,
     "metadata": {},
     "output_type": "execute_result"
    }
   ],
   "source": [
    "df_codes_train[df_codes_train.duplicated(keep=False)]"
   ]
  },
  {
   "cell_type": "code",
   "execution_count": 12,
   "metadata": {},
   "outputs": [],
   "source": [
    "df_codes_train = df_codes_train[~df_codes_train.duplicated(keep='first')]"
   ]
  },
  {
   "cell_type": "code",
   "execution_count": 13,
   "metadata": {},
   "outputs": [
    {
     "data": {
      "text/plain": [
       "(4141, 2)"
      ]
     },
     "execution_count": 13,
     "metadata": {},
     "output_type": "execute_result"
    }
   ],
   "source": [
    "df_codes_train.shape"
   ]
  },
  {
   "cell_type": "code",
   "execution_count": 14,
   "metadata": {},
   "outputs": [
    {
     "data": {
      "text/plain": [
       "750"
      ]
     },
     "execution_count": 14,
     "metadata": {},
     "output_type": "execute_result"
    }
   ],
   "source": [
    "len(set(df_codes_train[\"file\"]))"
   ]
  },
  {
   "cell_type": "markdown",
   "metadata": {},
   "source": [
    "### Development corpus"
   ]
  },
  {
   "cell_type": "code",
   "execution_count": 15,
   "metadata": {},
   "outputs": [
    {
     "name": "stdout",
     "output_type": "stream",
     "text": [
      "CPU times: user 5.63 ms, sys: 93 µs, total: 5.73 ms\n",
      "Wall time: 5.55 ms\n"
     ]
    }
   ],
   "source": [
    "%%time\n",
    "dev_path = corpus_path + \"dev-set2/\" + sub_task_path + \"txt/\"\n",
    "dev_files = [f for f in os.listdir(dev_path) if os.path.isfile(dev_path + f)]\n",
    "dev_data = load_text_files(dev_files, dev_path)\n",
    "df_text_dev = pd.DataFrame({'doc_id': [s.split('.txt')[0] for s in dev_files], 'raw_text': dev_data})"
   ]
  },
  {
   "cell_type": "code",
   "execution_count": 16,
   "metadata": {},
   "outputs": [
    {
     "data": {
      "text/plain": [
       "(250, 2)"
      ]
     },
     "execution_count": 16,
     "metadata": {},
     "output_type": "execute_result"
    }
   ],
   "source": [
    "df_text_dev.shape"
   ]
  },
  {
   "cell_type": "code",
   "execution_count": 17,
   "metadata": {},
   "outputs": [
    {
     "data": {
      "text/html": [
       "<div>\n",
       "<style scoped>\n",
       "    .dataframe tbody tr th:only-of-type {\n",
       "        vertical-align: middle;\n",
       "    }\n",
       "\n",
       "    .dataframe tbody tr th {\n",
       "        vertical-align: top;\n",
       "    }\n",
       "\n",
       "    .dataframe thead th {\n",
       "        text-align: right;\n",
       "    }\n",
       "</style>\n",
       "<table border=\"1\" class=\"dataframe\">\n",
       "  <thead>\n",
       "    <tr style=\"text-align: right;\">\n",
       "      <th></th>\n",
       "      <th>doc_id</th>\n",
       "      <th>raw_text</th>\n",
       "    </tr>\n",
       "  </thead>\n",
       "  <tbody>\n",
       "    <tr>\n",
       "      <th>0</th>\n",
       "      <td>cc_onco1183</td>\n",
       "      <td>Anamnesis\\nVarón de 48 años que acude en agost...</td>\n",
       "    </tr>\n",
       "    <tr>\n",
       "      <th>1</th>\n",
       "      <td>cc_onco751</td>\n",
       "      <td>Anamnesis\\nHombre de 71 años de edad con antec...</td>\n",
       "    </tr>\n",
       "    <tr>\n",
       "      <th>2</th>\n",
       "      <td>cc_onco1384</td>\n",
       "      <td>Anamnesis\\nVarón de 30 años, sin antecedentes ...</td>\n",
       "    </tr>\n",
       "    <tr>\n",
       "      <th>3</th>\n",
       "      <td>cc_onco1208</td>\n",
       "      <td>Anamnesis\\nVarón de 76 años diagnosticado en a...</td>\n",
       "    </tr>\n",
       "    <tr>\n",
       "      <th>4</th>\n",
       "      <td>cc_onco734</td>\n",
       "      <td>Anamnesis\\nTras canalización del reservorio ce...</td>\n",
       "    </tr>\n",
       "  </tbody>\n",
       "</table>\n",
       "</div>"
      ],
      "text/plain": [
       "        doc_id                                           raw_text\n",
       "0  cc_onco1183  Anamnesis\\nVarón de 48 años que acude en agost...\n",
       "1   cc_onco751  Anamnesis\\nHombre de 71 años de edad con antec...\n",
       "2  cc_onco1384  Anamnesis\\nVarón de 30 años, sin antecedentes ...\n",
       "3  cc_onco1208  Anamnesis\\nVarón de 76 años diagnosticado en a...\n",
       "4   cc_onco734  Anamnesis\\nTras canalización del reservorio ce..."
      ]
     },
     "execution_count": 17,
     "metadata": {},
     "output_type": "execute_result"
    }
   ],
   "source": [
    "df_text_dev.head()"
   ]
  },
  {
   "cell_type": "code",
   "execution_count": 18,
   "metadata": {},
   "outputs": [
    {
     "data": {
      "text/plain": [
       "'Anamnesis\\nVarón de 48 años que acude en agosto de 2012 tras la realización de amputación en hallux derecho a la primera valoración por Oncología Médica.\\nAntecedentes: no alérgicos. Patológicos: diabético hace 3 años sin tratamiento. HTA en tratamiento. Enolismo crónico.\\nTrastorno afectivo bipolar. Quirúrgicos: apendicectomizado.\\nEnfermedad actual: desde hace 2 años presentaba una lesión hiperpigmentada en el hallux del pie derecho, que ocasionalmente sangraba.\\n\\nExamen físico\\nMuñón de hallux derecho en buen estado, presencia de adenopatías inguinales derechas. Resto de exploración sin alteraciones.\\n\\nPruebas complementarias\\n- Biopsia cutánea: melanoma ulcerado.\\n- AP de resección de melanoma: melanoma lentiginoso acral en fase de crecimiento vertical, ulcerado. Clark IV. Breslow 6,8 mm, sin infiltración linfovascular.\\n- TC de tórax-abdomen-pelvis: sin signos concluyentes de extensión tóraco-abdómino-pélvica de melanoma.\\nMicronódulos en el lóbulo superior derecho a valorar en controles sucesivos.\\n- Se realiza linfadenectomía inguinal electiva en octubre de 2012.\\n- AP: metástasis de melanoma en 4 de los 13 ganglios aislados.\\n\\nDiagnóstico\\nMelanoma lentiginoso acral en fase de crecimiento vertical ulcerado Clarck IV Breslow6,8 mm pT4b N2a M0 estadio IIIB.\\n\\nTratamiento\\nEn enero de 2013 inicia tratamiento adyuvante con interferón a altas dosis según el esquema Kirkwood, este se basa en el estudio ECOG 1684: interferón alfa-2b 20 millones de unidades i.v. x 20 días, seguido de 10 millones de unidades s.c. 3 veces a la semana durante 48 semanas. El paciente tuvo buena tolerancia a la fase de inducción y a la fase de mantenimiento.\\nEn agosto de 2013 se detecta un nódulo subcutáneo de 1,5 cm en la zona de la cicatriz del hallux derecho y también una lesión en la cara interna de la pierna derecha de 0,5 cm. Se considera recidiva intratratamiento, por lo que se interviene, realizándose exéresis local y ampliación de márgenes.\\nAP: melanoma de 2,4 x 0,7 x 0,8 cm con afectación del margen de resección.\\nSe decide enviar a Oncología Radioterápica por margen afecto.\\n\\nEvolución\\nDe septiembre a octubre de 2013 recibe tratamiento radioterápico \"adyuvante\": PTV en la lesión guiada por cicatriz en el pie derecho más 3 cm de margen, fraccionamiento 2,5 Gy en 24 fracciones hasta adminsitrar una dosis total de 60 Gy.\\nEn noviembre de 2013 presenta progresión cutánea con 4 lesiones hipercrómicas localizadas en el muslo derecho. No hay datos de afectación tóraco-abdominal a distancia.\\nEntre tanto, se realiza determinación del estado mutacional de B-RAF, el cual es nativo.\\nA la progresión cutánea se propone tratamiento con DTIC (1.000 mg/m2 cada 21 días), administrando un primer ciclo en diciembre de 2013. En enero de 2014 acude a consulta con un cuadro de ictericia mucocutánea y coluria. Se detecta bilirrubina total de 7,7 mg/dl, bilirrubina directa de 5,9 mg/dl. ALT 2.022 UI/l, AST 840 UI/l. Se realizan una ecografía hepatobiliar, con resultado normal, y serología de virus de hepatitis, con resultado de perfil de hepatitis B aguda. Se remite al Servicio de Aparato Digestivo, quienes realizan tratamiento conservador, observándose en semanas posteriores un descenso marcado en los valores de bilirrubina, ALT y AST hasta la completa normalidad.\\nEntre tanto, presenta crecimiento de numerosas lesiones subcutáneas distribuidas en la cara anterior e interna del muslo derecho sin datos de afectación a distancia en la TC. Se considera metástasis en tránsito de melanoma, por lo que en marzo de 2014 inicia la administración de interleucina-2 intralesional. Se aplica 1 ml en cada una de las lesiones subcutáneas, cubriendo un total de 20 lesiones por cada ciclo administrado cada 14 días, sin presentar efectos secundarios sistémicos, salvo dolor EVA 3 en los puntos de instilación, que mejoraba con el paracetamol. Con este tratamiento completa 5 ciclos hasta el mayo de 2014, presentando desaparición de la mayoría de las lesiones, persistiendo algunas de localización central.\\nEl 30 de mayo de 2014 acude con una TC de reevaluación, objetivándose progresión inguinal izquierda y una adenopatía en la cadena iliaca externa derecha de 3,3 x 2,3 cm compatible con progresión. Se ha propuesto una nueva línea de tratamiento con ipilimumab, pendiente de iniciar.'"
      ]
     },
     "execution_count": 18,
     "metadata": {},
     "output_type": "execute_result"
    }
   ],
   "source": [
    "df_text_dev.raw_text[0]"
   ]
  },
  {
   "cell_type": "markdown",
   "metadata": {},
   "source": [
    "We also load the CIE-O codes table:"
   ]
  },
  {
   "cell_type": "code",
   "execution_count": 19,
   "metadata": {},
   "outputs": [],
   "source": [
    "df_codes_dev = pd.read_table(corpus_path + \"dev-set2/\" + sub_task_path + \"dev2-coding.tsv\", \n",
    "                                 sep='\\t', header=0)"
   ]
  },
  {
   "cell_type": "code",
   "execution_count": 20,
   "metadata": {},
   "outputs": [
    {
     "data": {
      "text/plain": [
       "(1279, 2)"
      ]
     },
     "execution_count": 20,
     "metadata": {},
     "output_type": "execute_result"
    }
   ],
   "source": [
    "df_codes_dev.shape"
   ]
  },
  {
   "cell_type": "code",
   "execution_count": 21,
   "metadata": {},
   "outputs": [],
   "source": [
    "df_codes_dev[\"code\"] = df_codes_dev[\"code\"].str.lower()"
   ]
  },
  {
   "cell_type": "code",
   "execution_count": 22,
   "metadata": {},
   "outputs": [
    {
     "data": {
      "text/html": [
       "<div>\n",
       "<style scoped>\n",
       "    .dataframe tbody tr th:only-of-type {\n",
       "        vertical-align: middle;\n",
       "    }\n",
       "\n",
       "    .dataframe tbody tr th {\n",
       "        vertical-align: top;\n",
       "    }\n",
       "\n",
       "    .dataframe thead th {\n",
       "        text-align: right;\n",
       "    }\n",
       "</style>\n",
       "<table border=\"1\" class=\"dataframe\">\n",
       "  <thead>\n",
       "    <tr style=\"text-align: right;\">\n",
       "      <th></th>\n",
       "      <th>file</th>\n",
       "      <th>code</th>\n",
       "    </tr>\n",
       "  </thead>\n",
       "  <tbody>\n",
       "    <tr>\n",
       "      <th>0</th>\n",
       "      <td>cc_onco1258</td>\n",
       "      <td>8000/6</td>\n",
       "    </tr>\n",
       "    <tr>\n",
       "      <th>1</th>\n",
       "      <td>cc_onco1258</td>\n",
       "      <td>8010/3</td>\n",
       "    </tr>\n",
       "    <tr>\n",
       "      <th>2</th>\n",
       "      <td>cc_onco1258</td>\n",
       "      <td>8010/3/h</td>\n",
       "    </tr>\n",
       "    <tr>\n",
       "      <th>3</th>\n",
       "      <td>cc_onco1258</td>\n",
       "      <td>8520/3</td>\n",
       "    </tr>\n",
       "    <tr>\n",
       "      <th>4</th>\n",
       "      <td>cc_onco1258</td>\n",
       "      <td>8000/3</td>\n",
       "    </tr>\n",
       "  </tbody>\n",
       "</table>\n",
       "</div>"
      ],
      "text/plain": [
       "          file      code\n",
       "0  cc_onco1258    8000/6\n",
       "1  cc_onco1258    8010/3\n",
       "2  cc_onco1258  8010/3/h\n",
       "3  cc_onco1258    8520/3\n",
       "4  cc_onco1258    8000/3"
      ]
     },
     "execution_count": 22,
     "metadata": {},
     "output_type": "execute_result"
    }
   ],
   "source": [
    "df_codes_dev.head()"
   ]
  },
  {
   "cell_type": "code",
   "execution_count": 23,
   "metadata": {},
   "outputs": [
    {
     "data": {
      "text/plain": [
       "250"
      ]
     },
     "execution_count": 23,
     "metadata": {},
     "output_type": "execute_result"
    }
   ],
   "source": [
    "len(set(df_codes_dev[\"file\"]))"
   ]
  },
  {
   "cell_type": "markdown",
   "metadata": {},
   "source": [
    "We join the training and development Cantemist codes dataframes together:"
   ]
  },
  {
   "cell_type": "code",
   "execution_count": 24,
   "metadata": {},
   "outputs": [],
   "source": [
    "df_codes_train_dev = pd.concat([df_codes_train, df_codes_dev])"
   ]
  },
  {
   "cell_type": "code",
   "execution_count": 25,
   "metadata": {},
   "outputs": [
    {
     "data": {
      "text/plain": [
       "(5420, 2)"
      ]
     },
     "execution_count": 25,
     "metadata": {},
     "output_type": "execute_result"
    }
   ],
   "source": [
    "df_codes_train_dev.shape"
   ]
  },
  {
   "cell_type": "code",
   "execution_count": 26,
   "metadata": {},
   "outputs": [
    {
     "data": {
      "text/html": [
       "<div>\n",
       "<style scoped>\n",
       "    .dataframe tbody tr th:only-of-type {\n",
       "        vertical-align: middle;\n",
       "    }\n",
       "\n",
       "    .dataframe tbody tr th {\n",
       "        vertical-align: top;\n",
       "    }\n",
       "\n",
       "    .dataframe thead th {\n",
       "        text-align: right;\n",
       "    }\n",
       "</style>\n",
       "<table border=\"1\" class=\"dataframe\">\n",
       "  <thead>\n",
       "    <tr style=\"text-align: right;\">\n",
       "      <th></th>\n",
       "      <th>file</th>\n",
       "      <th>code</th>\n",
       "    </tr>\n",
       "  </thead>\n",
       "  <tbody>\n",
       "    <tr>\n",
       "      <th>0</th>\n",
       "      <td>cc_onco860</td>\n",
       "      <td>8140/3</td>\n",
       "    </tr>\n",
       "    <tr>\n",
       "      <th>1</th>\n",
       "      <td>cc_onco860</td>\n",
       "      <td>8000/6</td>\n",
       "    </tr>\n",
       "    <tr>\n",
       "      <th>2</th>\n",
       "      <td>cc_onco860</td>\n",
       "      <td>8140/6</td>\n",
       "    </tr>\n",
       "    <tr>\n",
       "      <th>3</th>\n",
       "      <td>cc_onco98</td>\n",
       "      <td>8000/6</td>\n",
       "    </tr>\n",
       "    <tr>\n",
       "      <th>4</th>\n",
       "      <td>cc_onco98</td>\n",
       "      <td>8070/3</td>\n",
       "    </tr>\n",
       "  </tbody>\n",
       "</table>\n",
       "</div>"
      ],
      "text/plain": [
       "         file    code\n",
       "0  cc_onco860  8140/3\n",
       "1  cc_onco860  8000/6\n",
       "2  cc_onco860  8140/6\n",
       "3   cc_onco98  8000/6\n",
       "4   cc_onco98  8070/3"
      ]
     },
     "execution_count": 26,
     "metadata": {},
     "output_type": "execute_result"
    }
   ],
   "source": [
    "df_codes_train_dev.head()"
   ]
  },
  {
   "cell_type": "markdown",
   "metadata": {},
   "source": [
    "## Creating corpora of annotated sentences\n",
    "\n",
    "Leveraging the information available for the named-entity-recognition and normalization (NER-N) Cantemist-NORM task, we create both a training and a development corpus of annotated sentences with CIE-O codes."
   ]
  },
  {
   "cell_type": "markdown",
   "metadata": {},
   "source": [
    "Firstly, we pre-process the NER-N oncology-codes annotations available for both the training and development corpora."
   ]
  },
  {
   "cell_type": "code",
   "execution_count": 27,
   "metadata": {},
   "outputs": [],
   "source": [
    "# Training corpus"
   ]
  },
  {
   "cell_type": "code",
   "execution_count": 28,
   "metadata": {},
   "outputs": [],
   "source": [
    "train_norm_path = corpus_path + \"train-set/cantemist-norm/\"\n",
    "train_ann_files = [train_norm_path + f for f in os.listdir(train_norm_path) if f.split('.')[-1] == \"ann\"]\n",
    "dev1_norm_path = corpus_path + \"dev-set1/cantemist-norm/\"\n",
    "train_ann_files.extend([dev1_norm_path + f for f in os.listdir(dev1_norm_path) if f.split('.')[-1] == \"ann\"])"
   ]
  },
  {
   "cell_type": "code",
   "execution_count": 29,
   "metadata": {},
   "outputs": [
    {
     "data": {
      "text/plain": [
       "751"
      ]
     },
     "execution_count": 29,
     "metadata": {},
     "output_type": "execute_result"
    }
   ],
   "source": [
    "len(train_ann_files)"
   ]
  },
  {
   "cell_type": "code",
   "execution_count": 30,
   "metadata": {},
   "outputs": [],
   "source": [
    "df_codes_train_ner = process_brat_labels(train_ann_files).sort_values([\"doc_id\", \"start\", \"end\"])"
   ]
  },
  {
   "cell_type": "code",
   "execution_count": 31,
   "metadata": {},
   "outputs": [
    {
     "data": {
      "text/plain": [
       "(9737, 5)"
      ]
     },
     "execution_count": 31,
     "metadata": {},
     "output_type": "execute_result"
    }
   ],
   "source": [
    "df_codes_train_ner.shape"
   ]
  },
  {
   "cell_type": "code",
   "execution_count": 32,
   "metadata": {},
   "outputs": [],
   "source": [
    "df_codes_train_ner[\"code\"] = df_codes_train_ner[\"code\"].str.lower()"
   ]
  },
  {
   "cell_type": "code",
   "execution_count": 33,
   "metadata": {},
   "outputs": [
    {
     "data": {
      "text/html": [
       "<div>\n",
       "<style scoped>\n",
       "    .dataframe tbody tr th:only-of-type {\n",
       "        vertical-align: middle;\n",
       "    }\n",
       "\n",
       "    .dataframe tbody tr th {\n",
       "        vertical-align: top;\n",
       "    }\n",
       "\n",
       "    .dataframe thead th {\n",
       "        text-align: right;\n",
       "    }\n",
       "</style>\n",
       "<table border=\"1\" class=\"dataframe\">\n",
       "  <thead>\n",
       "    <tr style=\"text-align: right;\">\n",
       "      <th></th>\n",
       "      <th>doc_id</th>\n",
       "      <th>code</th>\n",
       "      <th>text_ref</th>\n",
       "      <th>start</th>\n",
       "      <th>end</th>\n",
       "    </tr>\n",
       "  </thead>\n",
       "  <tbody>\n",
       "    <tr>\n",
       "      <th>5230</th>\n",
       "      <td>cc_onco1</td>\n",
       "      <td>8041/3</td>\n",
       "      <td>Carcinoma microcítico</td>\n",
       "      <td>2719</td>\n",
       "      <td>2740</td>\n",
       "    </tr>\n",
       "    <tr>\n",
       "      <th>5231</th>\n",
       "      <td>cc_onco1</td>\n",
       "      <td>8041/3</td>\n",
       "      <td>carcinoma microcítico</td>\n",
       "      <td>2950</td>\n",
       "      <td>2971</td>\n",
       "    </tr>\n",
       "    <tr>\n",
       "      <th>5232</th>\n",
       "      <td>cc_onco1</td>\n",
       "      <td>8000/6</td>\n",
       "      <td>M0</td>\n",
       "      <td>2988</td>\n",
       "      <td>2990</td>\n",
       "    </tr>\n",
       "    <tr>\n",
       "      <th>97</th>\n",
       "      <td>cc_onco10</td>\n",
       "      <td>8000/1</td>\n",
       "      <td>tumor</td>\n",
       "      <td>212</td>\n",
       "      <td>217</td>\n",
       "    </tr>\n",
       "    <tr>\n",
       "      <th>95</th>\n",
       "      <td>cc_onco10</td>\n",
       "      <td>8000/1</td>\n",
       "      <td>neoplasia</td>\n",
       "      <td>976</td>\n",
       "      <td>985</td>\n",
       "    </tr>\n",
       "  </tbody>\n",
       "</table>\n",
       "</div>"
      ],
      "text/plain": [
       "         doc_id    code               text_ref  start   end\n",
       "5230   cc_onco1  8041/3  Carcinoma microcítico   2719  2740\n",
       "5231   cc_onco1  8041/3  carcinoma microcítico   2950  2971\n",
       "5232   cc_onco1  8000/6                     M0   2988  2990\n",
       "97    cc_onco10  8000/1                  tumor    212   217\n",
       "95    cc_onco10  8000/1              neoplasia    976   985"
      ]
     },
     "execution_count": 33,
     "metadata": {},
     "output_type": "execute_result"
    }
   ],
   "source": [
    "df_codes_train_ner.head()"
   ]
  },
  {
   "cell_type": "code",
   "execution_count": 34,
   "metadata": {},
   "outputs": [
    {
     "data": {
      "text/plain": [
       "750"
      ]
     },
     "execution_count": 34,
     "metadata": {},
     "output_type": "execute_result"
    }
   ],
   "source": [
    "len(set(df_codes_train_ner[\"doc_id\"]))"
   ]
  },
  {
   "cell_type": "code",
   "execution_count": 35,
   "metadata": {},
   "outputs": [],
   "source": [
    "# Development corpus"
   ]
  },
  {
   "cell_type": "code",
   "execution_count": 36,
   "metadata": {},
   "outputs": [],
   "source": [
    "dev_norm_path = corpus_path + \"dev-set2/cantemist-norm/\"\n",
    "dev_ann_files = [dev_norm_path + f for f in os.listdir(dev_norm_path) if f.split('.')[-1] == \"ann\"]"
   ]
  },
  {
   "cell_type": "code",
   "execution_count": 37,
   "metadata": {},
   "outputs": [
    {
     "data": {
      "text/plain": [
       "250"
      ]
     },
     "execution_count": 37,
     "metadata": {},
     "output_type": "execute_result"
    }
   ],
   "source": [
    "len(dev_ann_files)"
   ]
  },
  {
   "cell_type": "code",
   "execution_count": 38,
   "metadata": {},
   "outputs": [],
   "source": [
    "df_codes_dev_ner = process_brat_labels(dev_ann_files).sort_values([\"doc_id\", \"start\", \"end\"])"
   ]
  },
  {
   "cell_type": "code",
   "execution_count": 39,
   "metadata": {},
   "outputs": [
    {
     "data": {
      "text/plain": [
       "(2660, 5)"
      ]
     },
     "execution_count": 39,
     "metadata": {},
     "output_type": "execute_result"
    }
   ],
   "source": [
    "df_codes_dev_ner.shape"
   ]
  },
  {
   "cell_type": "code",
   "execution_count": 40,
   "metadata": {},
   "outputs": [],
   "source": [
    "df_codes_dev_ner[\"code\"] = df_codes_dev_ner[\"code\"].str.lower()"
   ]
  },
  {
   "cell_type": "code",
   "execution_count": 41,
   "metadata": {},
   "outputs": [
    {
     "data": {
      "text/html": [
       "<div>\n",
       "<style scoped>\n",
       "    .dataframe tbody tr th:only-of-type {\n",
       "        vertical-align: middle;\n",
       "    }\n",
       "\n",
       "    .dataframe tbody tr th {\n",
       "        vertical-align: top;\n",
       "    }\n",
       "\n",
       "    .dataframe thead th {\n",
       "        text-align: right;\n",
       "    }\n",
       "</style>\n",
       "<table border=\"1\" class=\"dataframe\">\n",
       "  <thead>\n",
       "    <tr style=\"text-align: right;\">\n",
       "      <th></th>\n",
       "      <th>doc_id</th>\n",
       "      <th>code</th>\n",
       "      <th>text_ref</th>\n",
       "      <th>start</th>\n",
       "      <th>end</th>\n",
       "    </tr>\n",
       "  </thead>\n",
       "  <tbody>\n",
       "    <tr>\n",
       "      <th>1852</th>\n",
       "      <td>cc_onco1001</td>\n",
       "      <td>8070/3</td>\n",
       "      <td>carcinoma epidermoide</td>\n",
       "      <td>576</td>\n",
       "      <td>597</td>\n",
       "    </tr>\n",
       "    <tr>\n",
       "      <th>1854</th>\n",
       "      <td>cc_onco1001</td>\n",
       "      <td>8000/1</td>\n",
       "      <td>neoplasia</td>\n",
       "      <td>790</td>\n",
       "      <td>799</td>\n",
       "    </tr>\n",
       "    <tr>\n",
       "      <th>1857</th>\n",
       "      <td>cc_onco1001</td>\n",
       "      <td>8140/6</td>\n",
       "      <td>adenocarcinoma T4N3M1b</td>\n",
       "      <td>836</td>\n",
       "      <td>858</td>\n",
       "    </tr>\n",
       "    <tr>\n",
       "      <th>1853</th>\n",
       "      <td>cc_onco1001</td>\n",
       "      <td>8000/6</td>\n",
       "      <td>enfermedad hepática</td>\n",
       "      <td>1205</td>\n",
       "      <td>1224</td>\n",
       "    </tr>\n",
       "    <tr>\n",
       "      <th>1855</th>\n",
       "      <td>cc_onco1001</td>\n",
       "      <td>8000/1</td>\n",
       "      <td>tumoral</td>\n",
       "      <td>2303</td>\n",
       "      <td>2310</td>\n",
       "    </tr>\n",
       "  </tbody>\n",
       "</table>\n",
       "</div>"
      ],
      "text/plain": [
       "           doc_id    code                text_ref  start   end\n",
       "1852  cc_onco1001  8070/3   carcinoma epidermoide    576   597\n",
       "1854  cc_onco1001  8000/1               neoplasia    790   799\n",
       "1857  cc_onco1001  8140/6  adenocarcinoma T4N3M1b    836   858\n",
       "1853  cc_onco1001  8000/6     enfermedad hepática   1205  1224\n",
       "1855  cc_onco1001  8000/1                 tumoral   2303  2310"
      ]
     },
     "execution_count": 41,
     "metadata": {},
     "output_type": "execute_result"
    }
   ],
   "source": [
    "df_codes_dev_ner.head()"
   ]
  },
  {
   "cell_type": "code",
   "execution_count": 42,
   "metadata": {},
   "outputs": [
    {
     "data": {
      "text/plain": [
       "250"
      ]
     },
     "execution_count": 42,
     "metadata": {},
     "output_type": "execute_result"
    }
   ],
   "source": [
    "len(set(df_codes_dev_ner[\"doc_id\"]))"
   ]
  },
  {
   "cell_type": "markdown",
   "metadata": {},
   "source": [
    "Now, using the character start-end positions of each sentence from the Cantemist corpus (see `datasets/Cantemist-Sentence-Split.ipynb`), we annotate the sentences with CIE-O codes. Also, using XLM-R tokenizer, each sentence is converted into a sequence of subwords, which are further converted into vocabulary indices (input IDs) and attention mask arrays (XLM-R input tensors). We also generate a *fragments* dataset indicating the number of produced annotated sentences for each document."
   ]
  },
  {
   "cell_type": "code",
   "execution_count": 43,
   "metadata": {},
   "outputs": [],
   "source": [
    "# Sentence-Split information\n",
    "ss_corpus_path = \"../datasets/Cantemist-SSplit-text/\""
   ]
  },
  {
   "cell_type": "markdown",
   "metadata": {},
   "source": [
    "### Training corpus"
   ]
  },
  {
   "cell_type": "code",
   "execution_count": 44,
   "metadata": {},
   "outputs": [],
   "source": [
    "label_list = list(df_codes_train_dev[\"code\"])"
   ]
  },
  {
   "cell_type": "code",
   "execution_count": 45,
   "metadata": {},
   "outputs": [
    {
     "data": {
      "text/plain": [
       "5420"
      ]
     },
     "execution_count": 45,
     "metadata": {},
     "output_type": "execute_result"
    }
   ],
   "source": [
    "len(label_list)"
   ]
  },
  {
   "cell_type": "code",
   "execution_count": 46,
   "metadata": {},
   "outputs": [
    {
     "data": {
      "text/plain": [
       "743"
      ]
     },
     "execution_count": 46,
     "metadata": {},
     "output_type": "execute_result"
    }
   ],
   "source": [
    "len(set(label_list))"
   ]
  },
  {
   "cell_type": "code",
   "execution_count": 47,
   "metadata": {},
   "outputs": [
    {
     "data": {
      "text/plain": [
       "MultiLabelBinarizer()"
      ]
     },
     "execution_count": 47,
     "metadata": {},
     "output_type": "execute_result"
    }
   ],
   "source": [
    "from sklearn.preprocessing import MultiLabelBinarizer\n",
    "\n",
    "mlb_encoder = MultiLabelBinarizer()\n",
    "mlb_encoder.fit([label_list])"
   ]
  },
  {
   "cell_type": "code",
   "execution_count": 48,
   "metadata": {},
   "outputs": [],
   "source": [
    "# Number of distinct codes\n",
    "num_labels = len(mlb_encoder.classes_)"
   ]
  },
  {
   "cell_type": "code",
   "execution_count": 49,
   "metadata": {},
   "outputs": [
    {
     "data": {
      "text/plain": [
       "743"
      ]
     },
     "execution_count": 49,
     "metadata": {},
     "output_type": "execute_result"
    }
   ],
   "source": [
    "num_labels"
   ]
  },
  {
   "cell_type": "markdown",
   "metadata": {},
   "source": [
    "Only training texts that are annotated with CIE-O codes are considered:"
   ]
  },
  {
   "cell_type": "code",
   "execution_count": 50,
   "metadata": {},
   "outputs": [
    {
     "data": {
      "text/plain": [
       "1"
      ]
     },
     "execution_count": 50,
     "metadata": {},
     "output_type": "execute_result"
    }
   ],
   "source": [
    "# Some train documents (texts) are not annotated \n",
    "len(set(df_text_train[\"doc_id\"]) - set(df_codes_train_ner[\"doc_id\"]))"
   ]
  },
  {
   "cell_type": "code",
   "execution_count": 51,
   "metadata": {},
   "outputs": [],
   "source": [
    "train_doc_list = sorted(set(df_codes_train_ner[\"doc_id\"]))"
   ]
  },
  {
   "cell_type": "code",
   "execution_count": 52,
   "metadata": {},
   "outputs": [
    {
     "data": {
      "text/plain": [
       "750"
      ]
     },
     "execution_count": 52,
     "metadata": {},
     "output_type": "execute_result"
    }
   ],
   "source": [
    "len(train_doc_list)"
   ]
  },
  {
   "cell_type": "code",
   "execution_count": 53,
   "metadata": {},
   "outputs": [],
   "source": [
    "# Sentence-Split data"
   ]
  },
  {
   "cell_type": "code",
   "execution_count": 54,
   "metadata": {},
   "outputs": [
    {
     "name": "stdout",
     "output_type": "stream",
     "text": [
      "CPU times: user 32.2 ms, sys: 4.02 ms, total: 36.2 ms\n",
      "Wall time: 35.8 ms\n"
     ]
    }
   ],
   "source": [
    "%%time\n",
    "ss_sub_corpus_path = ss_corpus_path + \"training/\"\n",
    "ss_files = [f for f in os.listdir(ss_sub_corpus_path) if os.path.isfile(ss_sub_corpus_path + f)]\n",
    "ss_dict_train = load_ss_files(ss_files, ss_sub_corpus_path)"
   ]
  },
  {
   "cell_type": "code",
   "execution_count": 55,
   "metadata": {},
   "outputs": [
    {
     "name": "stderr",
     "output_type": "stream",
     "text": [
      "100%|██████████| 750/750 [00:39<00:00, 18.85it/s]\n"
     ]
    },
    {
     "name": "stdout",
     "output_type": "stream",
     "text": [
      "CPU times: user 40.2 s, sys: 115 ms, total: 40.3 s\n",
      "Wall time: 40.2 s\n"
     ]
    }
   ],
   "source": [
    "%%time\n",
    "train_ind, train_att, train_y, train_frag, train_start_end_frag = ss_create_frag_input_data_xlmr(df_text=df_text_train, \n",
    "                                                  text_col=text_col, \n",
    "                                                  df_ann=df_codes_train_ner, doc_list=train_doc_list, ss_dict=ss_dict_train,\n",
    "                                                  tokenizer=tokenizer, sp_pb2=spt, lab_encoder=mlb_encoder, seq_len=SEQ_LEN)"
   ]
  },
  {
   "cell_type": "code",
   "execution_count": 56,
   "metadata": {},
   "outputs": [],
   "source": [
    "# Sanity check"
   ]
  },
  {
   "cell_type": "code",
   "execution_count": 57,
   "metadata": {},
   "outputs": [
    {
     "data": {
      "text/plain": [
       "(27633, 128)"
      ]
     },
     "execution_count": 57,
     "metadata": {},
     "output_type": "execute_result"
    }
   ],
   "source": [
    "train_ind.shape"
   ]
  },
  {
   "cell_type": "code",
   "execution_count": 58,
   "metadata": {},
   "outputs": [
    {
     "data": {
      "text/plain": [
       "(27633, 128)"
      ]
     },
     "execution_count": 58,
     "metadata": {},
     "output_type": "execute_result"
    }
   ],
   "source": [
    "train_att.shape"
   ]
  },
  {
   "cell_type": "code",
   "execution_count": 59,
   "metadata": {},
   "outputs": [
    {
     "data": {
      "text/plain": [
       "(27633, 743)"
      ]
     },
     "execution_count": 59,
     "metadata": {},
     "output_type": "execute_result"
    }
   ],
   "source": [
    "train_y.shape"
   ]
  },
  {
   "cell_type": "code",
   "execution_count": 60,
   "metadata": {},
   "outputs": [
    {
     "data": {
      "text/plain": [
       "750"
      ]
     },
     "execution_count": 60,
     "metadata": {},
     "output_type": "execute_result"
    }
   ],
   "source": [
    "len(train_frag)"
   ]
  },
  {
   "cell_type": "code",
   "execution_count": 61,
   "metadata": {},
   "outputs": [
    {
     "data": {
      "text/plain": [
       "27633"
      ]
     },
     "execution_count": 61,
     "metadata": {},
     "output_type": "execute_result"
    }
   ],
   "source": [
    "len(train_start_end_frag)"
   ]
  },
  {
   "cell_type": "code",
   "execution_count": 62,
   "metadata": {},
   "outputs": [
    {
     "data": {
      "text/plain": [
       "count    750.000000\n",
       "mean      36.844000\n",
       "std       14.591672\n",
       "min       11.000000\n",
       "25%       27.000000\n",
       "50%       34.000000\n",
       "75%       44.000000\n",
       "max      102.000000\n",
       "dtype: float64"
      ]
     },
     "execution_count": 62,
     "metadata": {},
     "output_type": "execute_result"
    }
   ],
   "source": [
    "# Check n_frag distribution across texts\n",
    "pd.Series(train_frag).describe()"
   ]
  },
  {
   "cell_type": "code",
   "execution_count": 63,
   "metadata": {},
   "outputs": [],
   "source": [
    "# Inspect a randomly selected text and its encoded version\n",
    "check_id = np.random.randint(low=0, high=len(train_doc_list), size=1)[0]"
   ]
  },
  {
   "cell_type": "code",
   "execution_count": 64,
   "metadata": {},
   "outputs": [
    {
     "data": {
      "text/plain": [
       "219"
      ]
     },
     "execution_count": 64,
     "metadata": {},
     "output_type": "execute_result"
    }
   ],
   "source": [
    "check_id"
   ]
  },
  {
   "cell_type": "code",
   "execution_count": 65,
   "metadata": {},
   "outputs": [
    {
     "data": {
      "text/plain": [
       "'cc_onco337'"
      ]
     },
     "execution_count": 65,
     "metadata": {},
     "output_type": "execute_result"
    }
   ],
   "source": [
    "train_doc_list[check_id]"
   ]
  },
  {
   "cell_type": "code",
   "execution_count": 66,
   "metadata": {
    "scrolled": true
   },
   "outputs": [
    {
     "data": {
      "text/plain": [
       "'Anamnesis\\nVarón de 61 años con antecedentes personales de tabaquismo, diabetes mellitus tipo 2, enfermedad renal crónica secundaria a nefropatía diabética y melanoma cutáneo intervenido (estadío Ib) en 1993, sin evidencia de recidiva en seguimiento posterior. Consultó en el servicio de Urgencias por cuadro catarral y astenia de 1 mes de evolución sin otra sintomatología añadida.\\n\\nExploración física\\nEl paciente presentaba un buen estado general y las constantes vitales se encontraban en rango de normalidad. En la exploración física destacaba una cicatriz quirúrgica de melanoma extirpado en región dorsal, así como disminución del murmullo vesicular en base izquierda a la auscultación pulmonar. No se objetivaron lesiones dérmicas sospechosas de malignidad ni otros hallazgos de interés en la exploración.\\n\\nPruebas complementarias\\nEn la radiografía de tórax se produjo hallazgo casual de una masa retrocardíaca de bordes bien definidos. El TAC torácico confirmó la presencia de una lesión pulmonar de 7cm a nivel del lóbulo inferior izquierdo y un conglomerado adenopático subcarinal de 3.5x2.5cm.\\nEl hemograma mostró una anemia leve, con hemoglobina de 11.5, y una leucocitosis de 17100 con desviación izquierda. La coagulación no presentaba alteraciones, y en la bioquímica destacaba una creatinina de 1.49 y una PCR de 50.9, sin otros hallazgos reseñables. Se solicitaron marcadores tumorales, encontrándose todos ellos en rango de normalidad.\\nSe procedió a realización de broncoscopia con toma de biopsia de la masa pulmonar, sin poder alcanzar una tipificación histológica debido a la gran indiferenciación y extensa necrosis tumoral de la lesión. Se llevó a cabo biopsia guiada por TAC, que aportó un diagnóstico de tumor maligno muy indiferenciado, sin poder precisar el origen primario.\\n\\nDiagnóstico\\nAnte la escasa información aportada por las sucesivas biopsias de la masa, se realizó una biopsia ganglionar mediante EBUS del conglomerado adenopático descrito en el TAC. En esta ocasión, la anatomía patológica arrojó un resultado compatible con INFILTRACIÓN POR MELANOMA, con fuerte expresión positiva para MELAN-A y HMB-45 y reordenamiento del gen BRAF V600E.\\nEl estudio de extensión mediante PET-TAC mostró captación a nivel de la masa pulmonar y el conglomerado adenopático subcarinal, además de objetivar zonas hipercaptantes susceptibles de origen metastásico a nivel de glándula suprarrenal izquierda e íleon.\\n\\nTratamiento\\nSe inició tratamiento con inhibidores de BRAF y MEK (Dabrafenib y Trametinib).\\n\\nEvolución\\nUn mes después del diagnóstico el paciente ingresó por cuadro de dolor y distensión abdominal; se diagnosticó de obstrucción intestinal y fue intervenido de urgencia. La anatomía patológica de la pieza quirúrgica resultó compatible con metástasis de melanoma, con mutación del gen BRAF y con pérdida de marcadores melanocíticos.\\nEn la actualidad el paciente continúa con tratamiento tras un intervalo libre de progresión de 9 meses, habiéndose objetivado una respuesta parcial mayor morfológica como máxima respuesta.'"
      ]
     },
     "execution_count": 66,
     "metadata": {},
     "output_type": "execute_result"
    }
   ],
   "source": [
    "df_text_train[df_text_train[\"doc_id\"] == train_doc_list[check_id]][text_col].values[0]"
   ]
  },
  {
   "cell_type": "code",
   "execution_count": 67,
   "metadata": {},
   "outputs": [
    {
     "name": "stdout",
     "output_type": "stream",
     "text": [
      "[('8720/3',)] \n",
      "\n",
      "[()] \n",
      "\n",
      "[()] \n",
      "\n",
      "[('8720/3',)] \n",
      "\n",
      "[('8000/3',)] \n",
      "\n",
      "[()] \n",
      "\n",
      "[('8000/6',)] \n",
      "\n",
      "[()] \n",
      "\n",
      "[()] \n",
      "\n",
      "[()] \n",
      "\n",
      "[('8000/1', '8000/6')] \n",
      "\n",
      "[('8000/34',)] \n",
      "\n",
      "[()] \n",
      "\n",
      "[('8720/3',)] \n",
      "\n",
      "[('8000/6',)] \n",
      "\n",
      "[()] \n",
      "\n",
      "[()] \n",
      "\n",
      "[('8720/6',)] \n",
      "\n",
      "[()] \n",
      "\n"
     ]
    }
   ],
   "source": [
    "check_id_frag = sum(train_frag[:check_id])\n",
    "for i in range(check_id_frag, check_id_frag + train_frag[check_id]):\n",
    "    print(mlb_encoder.inverse_transform(np.array([train_y[i]])), \"\\n\")"
   ]
  },
  {
   "cell_type": "code",
   "execution_count": 68,
   "metadata": {},
   "outputs": [
    {
     "name": "stdout",
     "output_type": "stream",
     "text": [
      "[('▁Ana', (0, 3)), ('m', (3, 4)), ('nesi', (4, 8)), ('s', (8, 9)), ('▁Var', (9, 13)), ('ón', (13, 16)), ('▁de', (16, 19)), ('▁61', (19, 22)), ('▁años', (22, 28)), ('▁con', (28, 32)), ('▁antecede', (32, 41)), ('ntes', (41, 45)), ('▁personales', (45, 56)), ('▁de', (56, 59)), ('▁taba', (59, 64)), ('quis', (64, 68)), ('mo', (68, 70)), (',', (70, 71)), ('▁diabetes', (71, 80)), ('▁mell', (80, 85)), ('itus', (85, 89)), ('▁tipo', (89, 94)), ('▁2', (94, 96)), (',', (96, 97)), ('▁enfermedad', (97, 108)), ('▁renal', (108, 114)), ('▁crónica', (114, 123)), ('▁secundaria', (123, 134)), ('▁a', (134, 136)), ('▁ne', (136, 139)), ('fro', (139, 142)), ('pat', (142, 145)), ('ía', (145, 148)), ('▁di', (148, 151)), ('ab', (151, 153)), ('ética', (153, 159)), ('▁y', (159, 161)), ('▁melan', (161, 167)), ('oma', (167, 170)), ('▁cu', (170, 173)), ('tá', (173, 176)), ('neo', (176, 179)), ('▁interven', (179, 188)), ('ido', (188, 191)), ('▁(', (191, 193)), ('esta', (193, 197)), ('dí', (197, 200)), ('o', (200, 201)), ('▁I', (201, 203)), ('b', (203, 204)), (')', (204, 205)), ('▁en', (205, 208)), ('▁1993', (208, 213)), (',', (213, 214)), ('▁sin', (214, 218)), ('▁evidencia', (218, 228)), ('▁de', (228, 231)), ('▁reci', (231, 236)), ('di', (236, 238)), ('va', (238, 240)), ('▁en', (240, 243)), ('▁seguimiento', (243, 255)), ('▁posterior', (255, 265)), ('.', (265, 266))]\n",
      "\n",
      "\n",
      "[('▁Consul', (267, 273)), ('tó', (273, 276)), ('▁en', (276, 279)), ('▁el', (279, 282)), ('▁servicio', (282, 291)), ('▁de', (291, 294)), ('▁Ur', (294, 297)), ('ge', (297, 299)), ('ncias', (299, 304)), ('▁por', (304, 308)), ('▁cuadro', (308, 315)), ('▁ca', (315, 318)), ('tar', (318, 321)), ('ral', (321, 324)), ('▁y', (324, 326)), ('▁a', (326, 328)), ('st', (328, 330)), ('enia', (330, 334)), ('▁de', (334, 337)), ('▁1', (337, 339)), ('▁mes', (339, 343)), ('▁de', (343, 346)), ('▁evolución', (346, 357)), ('▁sin', (357, 361)), ('▁otra', (361, 366)), ('▁sin', (366, 370)), ('tomat', (370, 375)), ('ología', (375, 382)), ('▁a', (382, 384)), ('ña', (384, 387)), ('dida', (387, 391)), ('.', (391, 392))]\n",
      "\n",
      "\n",
      "[('▁Explo', (394, 399)), ('r', (399, 400)), ('ación', (400, 406)), ('▁física', (406, 414)), ('▁El', (414, 417)), ('▁paciente', (417, 426)), ('▁presenta', (426, 435)), ('ba', (435, 437)), ('▁un', (437, 440)), ('▁buen', (440, 445)), ('▁estado', (445, 452)), ('▁general', (452, 460)), ('▁y', (460, 462)), ('▁las', (462, 466)), ('▁constante', (466, 476)), ('s', (476, 477)), ('▁vital', (477, 483)), ('es', (483, 485)), ('▁se', (485, 488)), ('▁encontraba', (488, 499)), ('n', (499, 500)), ('▁en', (500, 503)), ('▁rango', (503, 509)), ('▁de', (509, 512)), ('▁normal', (512, 519)), ('idad', (519, 523)), ('.', (523, 524))]\n",
      "\n",
      "\n",
      "[('▁En', (525, 527)), ('▁la', (527, 530)), ('▁explora', (530, 538)), ('ción', (538, 543)), ('▁física', (543, 551)), ('▁destaca', (551, 559)), ('ba', (559, 561)), ('▁una', (561, 565)), ('▁cica', (565, 570)), ('t', (570, 571)), ('riz', (571, 574)), ('▁qui', (574, 578)), ('rú', (578, 581)), ('r', (581, 582)), ('gica', (582, 586)), ('▁de', (586, 589)), ('▁melan', (589, 595)), ('oma', (595, 598)), ('▁ex', (598, 601)), ('tir', (601, 604)), ('pad', (604, 607)), ('o', (607, 608)), ('▁en', (608, 611)), ('▁región', (611, 619)), ('▁dor', (619, 623)), ('sal', (623, 626)), (',', (626, 627)), ('▁así', (627, 632)), ('▁como', (632, 637)), ('▁dis', (637, 641)), ('minu', (641, 645)), ('ción', (645, 650)), ('▁del', (650, 654)), ('▁mur', (654, 658)), ('m', (658, 659)), ('ullo', (659, 663)), ('▁vesi', (663, 668)), ('cular', (668, 673)), ('▁en', (673, 676)), ('▁base', (676, 681)), ('▁izquierda', (681, 691)), ('▁a', (691, 693)), ('▁la', (693, 696)), ('▁aus', (696, 700)), ('cult', (700, 704)), ('ación', (704, 710)), ('▁pulmonar', (710, 719)), ('.', (719, 720))]\n",
      "\n",
      "\n",
      "[('▁No', (721, 723)), ('▁se', (723, 726)), ('▁objetiva', (726, 735)), ('ron', (735, 738)), ('▁les', (738, 742)), ('iones', (742, 747)), ('▁dér', (747, 752)), ('mica', (752, 756)), ('s', (756, 757)), ('▁so', (757, 760)), ('spe', (760, 763)), ('chos', (763, 767)), ('as', (767, 769)), ('▁de', (769, 772)), ('▁malign', (772, 779)), ('idad', (779, 783)), ('▁ni', (783, 786)), ('▁otros', (786, 792)), ('▁halla', (792, 798)), ('z', (798, 799)), ('gos', (799, 802)), ('▁de', (802, 805)), ('▁interés', (805, 814)), ('▁en', (814, 817)), ('▁la', (817, 820)), ('▁explora', (820, 828)), ('ción', (828, 833)), ('.', (833, 834))]\n",
      "\n",
      "\n",
      "[('▁Pru', (836, 839)), ('e', (839, 840)), ('bas', (840, 843)), ('▁complementar', (843, 856)), ('ias', (856, 859)), ('▁En', (859, 862)), ('▁la', (862, 865)), ('▁radi', (865, 870)), ('ografía', (870, 878)), ('▁de', (878, 881)), ('▁tó', (881, 885)), ('ra', (885, 887)), ('x', (887, 888)), ('▁se', (888, 891)), ('▁produ', (891, 897)), ('jo', (897, 899)), ('▁halla', (899, 905)), ('z', (905, 906)), ('go', (906, 908)), ('▁casual', (908, 915)), ('▁de', (915, 918)), ('▁una', (918, 922)), ('▁masa', (922, 927)), ('▁retro', (927, 933)), ('card', (933, 937)), ('ía', (937, 940)), ('ca', (940, 942)), ('▁de', (942, 945)), ('▁borde', (945, 951)), ('s', (951, 952)), ('▁bien', (952, 957)), ('▁definido', (957, 966)), ('s', (966, 967)), ('.', (967, 968))]\n",
      "\n",
      "\n",
      "[('▁El', (969, 971)), ('▁', (971, 972)), ('TAC', (972, 975)), ('▁to', (975, 978)), ('rác', (978, 982)), ('ico', (982, 985)), ('▁confirm', (985, 993)), ('ó', (993, 995)), ('▁la', (995, 998)), ('▁presencia', (998, 1008)), ('▁de', (1008, 1011)), ('▁una', (1011, 1015)), ('▁le', (1015, 1018)), ('sión', (1018, 1023)), ('▁pulmonar', (1023, 1032)), ('▁de', (1032, 1035)), ('▁7', (1035, 1037)), ('cm', (1037, 1039)), ('▁a', (1039, 1041)), ('▁nivel', (1041, 1047)), ('▁del', (1047, 1051)), ('▁ló', (1051, 1055)), ('bulo', (1055, 1059)), ('▁inferior', (1059, 1068)), ('▁iz', (1068, 1071)), ('quier', (1071, 1076)), ('do', (1076, 1078)), ('▁y', (1078, 1080)), ('▁un', (1080, 1083)), ('▁con', (1083, 1087)), ('glo', (1087, 1090)), ('mer', (1090, 1093)), ('ado', (1093, 1096)), ('▁a', (1096, 1098)), ('den', (1098, 1101)), ('op', (1101, 1103)), ('ático', (1103, 1109)), ('▁sub', (1109, 1113)), ('cari', (1113, 1117)), ('nal', (1117, 1120)), ('▁de', (1120, 1123)), ('▁3.5', (1123, 1127)), ('x', (1127, 1128)), ('2.5', (1128, 1131)), ('cm', (1131, 1133)), ('.', (1133, 1134))]\n",
      "\n",
      "\n",
      "[('▁El', (1135, 1137)), ('▁hem', (1137, 1141)), ('ogram', (1141, 1146)), ('a', (1146, 1147)), ('▁most', (1147, 1152)), ('ró', (1152, 1155)), ('▁una', (1155, 1159)), ('▁an', (1159, 1162)), ('emia', (1162, 1166)), ('▁leve', (1166, 1171)), (',', (1171, 1172)), ('▁con', (1172, 1176)), ('▁hem', (1176, 1180)), ('o', (1180, 1181)), ('glob', (1181, 1185)), ('ina', (1185, 1188)), ('▁de', (1188, 1191)), ('▁11.', (1191, 1195)), ('5', (1195, 1196)), (',', (1196, 1197)), ('▁y', (1197, 1199)), ('▁una', (1199, 1203)), ('▁le', (1203, 1206)), ('u', (1206, 1207)), ('co', (1207, 1209)), ('cito', (1209, 1213)), ('sis', (1213, 1216)), ('▁de', (1216, 1219)), ('▁17', (1219, 1222)), ('100', (1222, 1225)), ('▁con', (1225, 1229)), ('▁des', (1229, 1233)), ('vi', (1233, 1235)), ('ación', (1235, 1241)), ('▁izquierda', (1241, 1251)), ('.', (1251, 1252))]\n",
      "\n",
      "\n",
      "[('▁La', (1253, 1255)), ('▁coa', (1255, 1259)), ('gula', (1259, 1263)), ('ción', (1263, 1268)), ('▁no', (1268, 1271)), ('▁presenta', (1271, 1280)), ('ba', (1280, 1282)), ('▁altera', (1282, 1289)), ('ciones', (1289, 1295)), (',', (1295, 1296)), ('▁y', (1296, 1298)), ('▁en', (1298, 1301)), ('▁la', (1301, 1304)), ('▁bio', (1304, 1308)), ('químic', (1308, 1315)), ('a', (1315, 1316)), ('▁destaca', (1316, 1324)), ('ba', (1324, 1326)), ('▁una', (1326, 1330)), ('▁creati', (1330, 1337)), ('nina', (1337, 1341)), ('▁de', (1341, 1344)), ('▁1.', (1344, 1347)), ('49', (1347, 1349)), ('▁y', (1349, 1351)), ('▁una', (1351, 1355)), ('▁PC', (1355, 1358)), ('R', (1358, 1359)), ('▁de', (1359, 1362)), ('▁5', (1362, 1364)), ('0.9', (1364, 1367)), (',', (1367, 1368)), ('▁sin', (1368, 1372)), ('▁otros', (1372, 1378)), ('▁halla', (1378, 1384)), ('z', (1384, 1385)), ('gos', (1385, 1388)), ('▁reseña', (1388, 1396)), ('bles', (1396, 1400)), ('.', (1400, 1401))]\n",
      "\n",
      "\n",
      "[('▁Se', (1402, 1404)), ('▁solicitar', (1404, 1414)), ('on', (1414, 1416)), ('▁marcador', (1416, 1425)), ('es', (1425, 1427)), ('▁tumor', (1427, 1433)), ('ales', (1433, 1437)), (',', (1437, 1438)), ('▁en', (1438, 1441)), ('con', (1441, 1444)), ('tr', (1444, 1446)), ('ándose', (1446, 1453)), ('▁todos', (1453, 1459)), ('▁ellos', (1459, 1465)), ('▁en', (1465, 1468)), ('▁rango', (1468, 1474)), ('▁de', (1474, 1477)), ('▁normal', (1477, 1484)), ('idad', (1484, 1488)), ('.', (1488, 1489))]\n",
      "\n",
      "\n",
      "[('▁Se', (1490, 1492)), ('▁proced', (1492, 1499)), ('ió', (1499, 1502)), ('▁a', (1502, 1504)), ('▁realización', (1504, 1517)), ('▁de', (1517, 1520)), ('▁bron', (1520, 1525)), ('cos', (1525, 1528)), ('copi', (1528, 1532)), ('a', (1532, 1533)), ('▁con', (1533, 1537)), ('▁toma', (1537, 1542)), ('▁de', (1542, 1545)), ('▁bio', (1545, 1549)), ('psi', (1549, 1552)), ('a', (1552, 1553)), ('▁de', (1553, 1556)), ('▁la', (1556, 1559)), ('▁masa', (1559, 1564)), ('▁pulmonar', (1564, 1573)), (',', (1573, 1574)), ('▁sin', (1574, 1578)), ('▁poder', (1578, 1584)), ('▁alcanzar', (1584, 1593)), ('▁una', (1593, 1597)), ('▁tip', (1597, 1601)), ('ificación', (1601, 1611)), ('▁his', (1611, 1615)), ('t', (1615, 1616)), ('ológica', (1616, 1624)), ('▁debido', (1624, 1631)), ('▁a', (1631, 1633)), ('▁la', (1633, 1636)), ('▁gran', (1636, 1641)), ('▁indi', (1641, 1646)), ('ferencia', (1646, 1654)), ('ción', (1654, 1659)), ('▁y', (1659, 1661)), ('▁extensa', (1661, 1669)), ('▁nec', (1669, 1673)), ('rosi', (1673, 1677)), ('s', (1677, 1678)), ('▁tumor', (1678, 1684)), ('al', (1684, 1686)), ('▁de', (1686, 1689)), ('▁la', (1689, 1692)), ('▁le', (1692, 1695)), ('sión', (1695, 1700)), ('.', (1700, 1701))]\n",
      "\n",
      "\n",
      "[('▁Se', (1702, 1704)), ('▁llevó', (1704, 1711)), ('▁a', (1711, 1713)), ('▁cabo', (1713, 1718)), ('▁bio', (1718, 1722)), ('psi', (1722, 1725)), ('a', (1725, 1726)), ('▁guia', (1726, 1731)), ('da', (1731, 1733)), ('▁por', (1733, 1737)), ('▁', (1737, 1738)), ('TAC', (1738, 1741)), (',', (1741, 1742)), ('▁que', (1742, 1746)), ('▁a', (1746, 1748)), ('port', (1748, 1752)), ('ó', (1752, 1754)), ('▁un', (1754, 1757)), ('▁diagnóstico', (1757, 1770)), ('▁de', (1770, 1773)), ('▁tumor', (1773, 1779)), ('▁malign', (1779, 1786)), ('o', (1786, 1787)), ('▁muy', (1787, 1791)), ('▁indi', (1791, 1796)), ('ferencia', (1796, 1804)), ('do', (1804, 1806)), (',', (1806, 1807)), ('▁sin', (1807, 1811)), ('▁poder', (1811, 1817)), ('▁precisar', (1817, 1826)), ('▁el', (1826, 1829)), ('▁origen', (1829, 1836)), ('▁primari', (1836, 1844)), ('o', (1844, 1845)), ('.', (1845, 1846))]\n",
      "\n",
      "\n",
      "[('▁Dia', (1848, 1851)), ('g', (1851, 1852)), ('nó', (1852, 1855)), ('stico', (1855, 1860)), ('▁Ante', (1860, 1865)), ('▁la', (1865, 1868)), ('▁esca', (1868, 1873)), ('sa', (1873, 1875)), ('▁información', (1875, 1888)), ('▁aporta', (1888, 1895)), ('da', (1895, 1897)), ('▁por', (1897, 1901)), ('▁las', (1901, 1905)), ('▁su', (1905, 1908)), ('ces', (1908, 1911)), ('ivas', (1911, 1915)), ('▁bio', (1915, 1919)), ('psi', (1919, 1922)), ('as', (1922, 1924)), ('▁de', (1924, 1927)), ('▁la', (1927, 1930)), ('▁masa', (1930, 1935)), (',', (1935, 1936)), ('▁se', (1936, 1939)), ('▁realizó', (1939, 1948)), ('▁una', (1948, 1952)), ('▁bio', (1952, 1956)), ('psi', (1956, 1959)), ('a', (1959, 1960)), ('▁gang', (1960, 1965)), ('lion', (1965, 1969)), ('ar', (1969, 1971)), ('▁mediante', (1971, 1980)), ('▁E', (1980, 1982)), ('BUS', (1982, 1985)), ('▁del', (1985, 1989)), ('▁con', (1989, 1993)), ('glo', (1993, 1996)), ('mer', (1996, 1999)), ('ado', (1999, 2002)), ('▁a', (2002, 2004)), ('den', (2004, 2007)), ('op', (2007, 2009)), ('ático', (2009, 2015)), ('▁descri', (2015, 2022)), ('to', (2022, 2024)), ('▁en', (2024, 2027)), ('▁el', (2027, 2030)), ('▁', (2030, 2031)), ('TAC', (2031, 2034)), ('.', (2034, 2035))]\n",
      "\n",
      "\n",
      "[('▁En', (2036, 2038)), ('▁esta', (2038, 2043)), ('▁ocasión', (2043, 2052)), (',', (2052, 2053)), ('▁la', (2053, 2056)), ('▁anat', (2056, 2061)), ('om', (2061, 2063)), ('ía', (2063, 2066)), ('▁pat', (2066, 2070)), ('ológica', (2070, 2078)), ('▁arro', (2078, 2083)), ('jó', (2083, 2086)), ('▁un', (2086, 2089)), ('▁resultado', (2089, 2099)), ('▁compatible', (2099, 2110)), ('▁con', (2110, 2114)), ('▁IN', (2114, 2117)), ('F', (2117, 2118)), ('IL', (2118, 2120)), ('TRA', (2120, 2123)), ('CIÓN', (2123, 2128)), ('▁POR', (2128, 2132)), ('▁ME', (2132, 2135)), ('LAN', (2135, 2138)), ('OMA', (2138, 2141)), (',', (2141, 2142)), ('▁con', (2142, 2146)), ('▁fuerte', (2146, 2153)), ('▁expresión', (2153, 2164)), ('▁positiva', (2164, 2173)), ('▁para', (2173, 2178)), ('▁ME', (2178, 2181)), ('LAN', (2181, 2184)), ('-', (2184, 2185)), ('A', (2185, 2186)), ('▁y', (2186, 2188)), ('▁H', (2188, 2190)), ('MB', (2190, 2192)), ('-45', (2192, 2195)), ('▁y', (2195, 2197)), ('▁re', (2197, 2200)), ('orden', (2200, 2205)), ('amiento', (2205, 2212)), ('▁del', (2212, 2216)), ('▁gen', (2216, 2220)), ('▁B', (2220, 2222)), ('RAF', (2222, 2225)), ('▁V', (2225, 2227)), ('600', (2227, 2230)), ('E', (2230, 2231)), ('.', (2231, 2232))]\n",
      "\n",
      "\n",
      "[('▁El', (2233, 2235)), ('▁estudio', (2235, 2243)), ('▁de', (2243, 2246)), ('▁extensión', (2246, 2257)), ('▁mediante', (2257, 2266)), ('▁PET', (2266, 2270)), ('-', (2270, 2271)), ('TAC', (2271, 2274)), ('▁most', (2274, 2279)), ('ró', (2279, 2282)), ('▁capta', (2282, 2288)), ('ción', (2288, 2293)), ('▁a', (2293, 2295)), ('▁nivel', (2295, 2301)), ('▁de', (2301, 2304)), ('▁la', (2304, 2307)), ('▁masa', (2307, 2312)), ('▁pulmonar', (2312, 2321)), ('▁y', (2321, 2323)), ('▁el', (2323, 2326)), ('▁con', (2326, 2330)), ('glo', (2330, 2333)), ('mer', (2333, 2336)), ('ado', (2336, 2339)), ('▁a', (2339, 2341)), ('den', (2341, 2344)), ('op', (2344, 2346)), ('ático', (2346, 2352)), ('▁sub', (2352, 2356)), ('cari', (2356, 2360)), ('nal', (2360, 2363)), (',', (2363, 2364)), ('▁además', (2364, 2372)), ('▁de', (2372, 2375)), ('▁objetiva', (2375, 2384)), ('r', (2384, 2385)), ('▁zonas', (2385, 2391)), ('▁hiper', (2391, 2397)), ('cap', (2397, 2400)), ('t', (2400, 2401)), ('antes', (2401, 2406)), ('▁susceptible', (2406, 2418)), ('s', (2418, 2419)), ('▁de', (2419, 2422)), ('▁origen', (2422, 2429)), ('▁metas', (2429, 2435)), ('tás', (2435, 2439)), ('ico', (2439, 2442)), ('▁a', (2442, 2444)), ('▁nivel', (2444, 2450)), ('▁de', (2450, 2453)), ('▁g', (2453, 2455)), ('lán', (2455, 2459)), ('dula', (2459, 2463)), ('▁supra', (2463, 2469)), ('rren', (2469, 2473)), ('al', (2473, 2475)), ('▁izquierda', (2475, 2485)), ('▁e', (2485, 2487)), ('▁í', (2487, 2490)), ('le', (2490, 2492)), ('on', (2492, 2494)), ('.', (2494, 2495))]\n",
      "\n",
      "\n",
      "[('▁Trata', (2497, 2502)), ('miento', (2502, 2508)), ('▁Se', (2508, 2511)), ('▁ini', (2511, 2515)), ('ció', (2515, 2519)), ('▁tratamiento', (2519, 2531)), ('▁con', (2531, 2535)), ('▁inhibi', (2535, 2542)), ('dores', (2542, 2547)), ('▁de', (2547, 2550)), ('▁B', (2550, 2552)), ('RAF', (2552, 2555)), ('▁y', (2555, 2557)), ('▁', (2557, 2558)), ('MEK', (2558, 2561)), ('▁(', (2561, 2563)), ('Da', (2563, 2565)), ('bra', (2565, 2568)), ('fen', (2568, 2571)), ('ib', (2571, 2573)), ('▁y', (2573, 2575)), ('▁Tra', (2575, 2579)), ('met', (2579, 2582)), ('in', (2582, 2584)), ('ib', (2584, 2586)), (').', (2586, 2588))]\n",
      "\n",
      "\n",
      "[('▁Evolu', (2590, 2595)), ('ción', (2595, 2600)), ('▁Un', (2600, 2603)), ('▁mes', (2603, 2607)), ('▁después', (2607, 2616)), ('▁del', (2616, 2620)), ('▁diagnóstico', (2620, 2633)), ('▁el', (2633, 2636)), ('▁paciente', (2636, 2645)), ('▁in', (2645, 2648)), ('gres', (2648, 2652)), ('ó', (2652, 2654)), ('▁por', (2654, 2658)), ('▁cuadro', (2658, 2665)), ('▁de', (2665, 2668)), ('▁dolor', (2668, 2674)), ('▁y', (2674, 2676)), ('▁di', (2676, 2679)), ('sten', (2679, 2683)), ('sión', (2683, 2688)), ('▁abdominal', (2688, 2698)), (';', (2698, 2699)), ('▁se', (2699, 2702)), ('▁diagnostic', (2702, 2713)), ('ó', (2713, 2715)), ('▁de', (2715, 2718)), ('▁ob', (2718, 2721)), ('stru', (2721, 2725)), ('cción', (2725, 2731)), ('▁intestinal', (2731, 2742)), ('▁y', (2742, 2744)), ('▁fue', (2744, 2748)), ('▁interven', (2748, 2757)), ('ido', (2757, 2760)), ('▁de', (2760, 2763)), ('▁urge', (2763, 2768)), ('ncia', (2768, 2772)), ('.', (2772, 2773))]\n",
      "\n",
      "\n",
      "[('▁La', (2774, 2776)), ('▁anat', (2776, 2781)), ('om', (2781, 2783)), ('ía', (2783, 2786)), ('▁pat', (2786, 2790)), ('ológica', (2790, 2798)), ('▁de', (2798, 2801)), ('▁la', (2801, 2804)), ('▁pieza', (2804, 2810)), ('▁qui', (2810, 2814)), ('rú', (2814, 2817)), ('r', (2817, 2818)), ('gica', (2818, 2822)), ('▁result', (2822, 2829)), ('ó', (2829, 2831)), ('▁compatible', (2831, 2842)), ('▁con', (2842, 2846)), ('▁met', (2846, 2850)), ('ást', (2850, 2854)), ('asis', (2854, 2858)), ('▁de', (2858, 2861)), ('▁melan', (2861, 2867)), ('oma', (2867, 2870)), (',', (2870, 2871)), ('▁con', (2871, 2875)), ('▁muta', (2875, 2880)), ('ción', (2880, 2885)), ('▁del', (2885, 2889)), ('▁gen', (2889, 2893)), ('▁B', (2893, 2895)), ('RAF', (2895, 2898)), ('▁y', (2898, 2900)), ('▁con', (2900, 2904)), ('▁pérdida', (2904, 2913)), ('▁de', (2913, 2916)), ('▁marcador', (2916, 2925)), ('es', (2925, 2927)), ('▁melan', (2927, 2933)), ('o', (2933, 2934)), ('cí', (2934, 2937)), ('ticos', (2937, 2942)), ('.', (2942, 2943))]\n",
      "\n",
      "\n",
      "[('▁En', (2944, 2946)), ('▁la', (2946, 2949)), ('▁actualidad', (2949, 2960)), ('▁el', (2960, 2963)), ('▁paciente', (2963, 2972)), ('▁continúa', (2972, 2982)), ('▁con', (2982, 2986)), ('▁tratamiento', (2986, 2998)), ('▁tras', (2998, 3003)), ('▁un', (3003, 3006)), ('▁interval', (3006, 3015)), ('o', (3015, 3016)), ('▁libre', (3016, 3022)), ('▁de', (3022, 3025)), ('▁progres', (3025, 3033)), ('ión', (3033, 3037)), ('▁de', (3037, 3040)), ('▁9', (3040, 3042)), ('▁meses', (3042, 3048)), (',', (3048, 3049)), ('▁', (3049, 3050)), ('habi', (3050, 3054)), ('éndose', (3054, 3061)), ('▁objetiva', (3061, 3070)), ('do', (3070, 3072)), ('▁una', (3072, 3076)), ('▁respuesta', (3076, 3086)), ('▁parcial', (3086, 3094)), ('▁mayor', (3094, 3100)), ('▁', (3100, 3101)), ('morf', (3101, 3105)), ('ológica', (3105, 3113)), ('▁como', (3113, 3118)), ('▁máxima', (3118, 3126)), ('▁respuesta', (3126, 3136)), ('.', (3136, 3137))]\n",
      "\n",
      "\n"
     ]
    }
   ],
   "source": [
    "for i in range(check_id_frag, check_id_frag + train_frag[check_id]):\n",
    "    print(list(zip([tokenizer._convert_id_to_token(int(ind)) for ind in train_ind[i]][1:len(train_start_end_frag[i])+1], \n",
    "               train_start_end_frag[i])))\n",
    "    print(\"\\n\")"
   ]
  },
  {
   "cell_type": "code",
   "execution_count": 69,
   "metadata": {},
   "outputs": [
    {
     "name": "stdout",
     "output_type": "stream",
     "text": [
      "<s> ▁Ana m nesi s ▁Var ón ▁de ▁61 ▁años ▁con ▁antecede ntes ▁personales ▁de ▁taba quis mo , ▁diabetes ▁mell itus ▁tipo ▁2 , ▁enfermedad ▁renal ▁crónica ▁secundaria ▁a ▁ne fro pat ía ▁di ab ética ▁y ▁melan oma ▁cu tá neo ▁interven ido ▁( esta dí o ▁I b ) ▁en ▁1993 , ▁sin ▁evidencia ▁de ▁reci di va ▁en ▁seguimiento ▁posterior . </s> <pad> <pad> <pad> <pad> <pad> <pad> <pad> <pad> <pad> <pad> <pad> <pad> <pad> <pad> <pad> <pad> <pad> <pad> <pad> <pad> <pad> <pad> <pad> <pad> <pad> <pad> <pad> <pad> <pad> <pad> <pad> <pad> <pad> <pad> <pad> <pad> <pad> <pad> <pad> <pad> <pad> <pad> <pad> <pad> <pad> <pad> <pad> <pad> <pad> <pad> <pad> <pad> <pad> <pad> <pad> <pad> <pad> <pad> <pad> <pad> <pad> <pad> \n",
      "\n",
      "<s> ▁Consul tó ▁en ▁el ▁servicio ▁de ▁Ur ge ncias ▁por ▁cuadro ▁ca tar ral ▁y ▁a st enia ▁de ▁1 ▁mes ▁de ▁evolución ▁sin ▁otra ▁sin tomat ología ▁a ña dida . </s> <pad> <pad> <pad> <pad> <pad> <pad> <pad> <pad> <pad> <pad> <pad> <pad> <pad> <pad> <pad> <pad> <pad> <pad> <pad> <pad> <pad> <pad> <pad> <pad> <pad> <pad> <pad> <pad> <pad> <pad> <pad> <pad> <pad> <pad> <pad> <pad> <pad> <pad> <pad> <pad> <pad> <pad> <pad> <pad> <pad> <pad> <pad> <pad> <pad> <pad> <pad> <pad> <pad> <pad> <pad> <pad> <pad> <pad> <pad> <pad> <pad> <pad> <pad> <pad> <pad> <pad> <pad> <pad> <pad> <pad> <pad> <pad> <pad> <pad> <pad> <pad> <pad> <pad> <pad> <pad> <pad> <pad> <pad> <pad> <pad> <pad> <pad> <pad> <pad> <pad> <pad> <pad> <pad> <pad> \n",
      "\n",
      "<s> ▁Explo r ación ▁física ▁El ▁paciente ▁presenta ba ▁un ▁buen ▁estado ▁general ▁y ▁las ▁constante s ▁vital es ▁se ▁encontraba n ▁en ▁rango ▁de ▁normal idad . </s> <pad> <pad> <pad> <pad> <pad> <pad> <pad> <pad> <pad> <pad> <pad> <pad> <pad> <pad> <pad> <pad> <pad> <pad> <pad> <pad> <pad> <pad> <pad> <pad> <pad> <pad> <pad> <pad> <pad> <pad> <pad> <pad> <pad> <pad> <pad> <pad> <pad> <pad> <pad> <pad> <pad> <pad> <pad> <pad> <pad> <pad> <pad> <pad> <pad> <pad> <pad> <pad> <pad> <pad> <pad> <pad> <pad> <pad> <pad> <pad> <pad> <pad> <pad> <pad> <pad> <pad> <pad> <pad> <pad> <pad> <pad> <pad> <pad> <pad> <pad> <pad> <pad> <pad> <pad> <pad> <pad> <pad> <pad> <pad> <pad> <pad> <pad> <pad> <pad> <pad> <pad> <pad> <pad> <pad> <pad> <pad> <pad> <pad> <pad> \n",
      "\n",
      "<s> ▁En ▁la ▁explora ción ▁física ▁destaca ba ▁una ▁cica t riz ▁qui rú r gica ▁de ▁melan oma ▁ex tir pad o ▁en ▁región ▁dor sal , ▁así ▁como ▁dis minu ción ▁del ▁mur m ullo ▁vesi cular ▁en ▁base ▁izquierda ▁a ▁la ▁aus cult ación ▁pulmonar . </s> <pad> <pad> <pad> <pad> <pad> <pad> <pad> <pad> <pad> <pad> <pad> <pad> <pad> <pad> <pad> <pad> <pad> <pad> <pad> <pad> <pad> <pad> <pad> <pad> <pad> <pad> <pad> <pad> <pad> <pad> <pad> <pad> <pad> <pad> <pad> <pad> <pad> <pad> <pad> <pad> <pad> <pad> <pad> <pad> <pad> <pad> <pad> <pad> <pad> <pad> <pad> <pad> <pad> <pad> <pad> <pad> <pad> <pad> <pad> <pad> <pad> <pad> <pad> <pad> <pad> <pad> <pad> <pad> <pad> <pad> <pad> <pad> <pad> <pad> <pad> <pad> <pad> <pad> \n",
      "\n",
      "<s> ▁No ▁se ▁objetiva ron ▁les iones ▁dér mica s ▁so spe chos as ▁de ▁malign idad ▁ni ▁otros ▁halla z gos ▁de ▁interés ▁en ▁la ▁explora ción . </s> <pad> <pad> <pad> <pad> <pad> <pad> <pad> <pad> <pad> <pad> <pad> <pad> <pad> <pad> <pad> <pad> <pad> <pad> <pad> <pad> <pad> <pad> <pad> <pad> <pad> <pad> <pad> <pad> <pad> <pad> <pad> <pad> <pad> <pad> <pad> <pad> <pad> <pad> <pad> <pad> <pad> <pad> <pad> <pad> <pad> <pad> <pad> <pad> <pad> <pad> <pad> <pad> <pad> <pad> <pad> <pad> <pad> <pad> <pad> <pad> <pad> <pad> <pad> <pad> <pad> <pad> <pad> <pad> <pad> <pad> <pad> <pad> <pad> <pad> <pad> <pad> <pad> <pad> <pad> <pad> <pad> <pad> <pad> <pad> <pad> <pad> <pad> <pad> <pad> <pad> <pad> <pad> <pad> <pad> <pad> <pad> <pad> <pad> \n",
      "\n",
      "<s> ▁Pru e bas ▁complementar ias ▁En ▁la ▁radi ografía ▁de ▁tó ra x ▁se ▁produ jo ▁halla z go ▁casual ▁de ▁una ▁masa ▁retro card ía ca ▁de ▁borde s ▁bien ▁definido s . </s> <pad> <pad> <pad> <pad> <pad> <pad> <pad> <pad> <pad> <pad> <pad> <pad> <pad> <pad> <pad> <pad> <pad> <pad> <pad> <pad> <pad> <pad> <pad> <pad> <pad> <pad> <pad> <pad> <pad> <pad> <pad> <pad> <pad> <pad> <pad> <pad> <pad> <pad> <pad> <pad> <pad> <pad> <pad> <pad> <pad> <pad> <pad> <pad> <pad> <pad> <pad> <pad> <pad> <pad> <pad> <pad> <pad> <pad> <pad> <pad> <pad> <pad> <pad> <pad> <pad> <pad> <pad> <pad> <pad> <pad> <pad> <pad> <pad> <pad> <pad> <pad> <pad> <pad> <pad> <pad> <pad> <pad> <pad> <pad> <pad> <pad> <pad> <pad> <pad> <pad> <pad> <pad> \n",
      "\n",
      "<s> ▁El ▁ TAC ▁to rác ico ▁confirm ó ▁la ▁presencia ▁de ▁una ▁le sión ▁pulmonar ▁de ▁7 cm ▁a ▁nivel ▁del ▁ló bulo ▁inferior ▁iz quier do ▁y ▁un ▁con glo mer ado ▁a den op ático ▁sub cari nal ▁de ▁3.5 x 2.5 cm . </s> <pad> <pad> <pad> <pad> <pad> <pad> <pad> <pad> <pad> <pad> <pad> <pad> <pad> <pad> <pad> <pad> <pad> <pad> <pad> <pad> <pad> <pad> <pad> <pad> <pad> <pad> <pad> <pad> <pad> <pad> <pad> <pad> <pad> <pad> <pad> <pad> <pad> <pad> <pad> <pad> <pad> <pad> <pad> <pad> <pad> <pad> <pad> <pad> <pad> <pad> <pad> <pad> <pad> <pad> <pad> <pad> <pad> <pad> <pad> <pad> <pad> <pad> <pad> <pad> <pad> <pad> <pad> <pad> <pad> <pad> <pad> <pad> <pad> <pad> <pad> <pad> <pad> <pad> <pad> <pad> \n",
      "\n",
      "<s> ▁El ▁hem ogram a ▁most ró ▁una ▁an emia ▁leve , ▁con ▁hem o glob ina ▁de ▁11. 5 , ▁y ▁una ▁le u co cito sis ▁de ▁17 100 ▁con ▁des vi ación ▁izquierda . </s> <pad> <pad> <pad> <pad> <pad> <pad> <pad> <pad> <pad> <pad> <pad> <pad> <pad> <pad> <pad> <pad> <pad> <pad> <pad> <pad> <pad> <pad> <pad> <pad> <pad> <pad> <pad> <pad> <pad> <pad> <pad> <pad> <pad> <pad> <pad> <pad> <pad> <pad> <pad> <pad> <pad> <pad> <pad> <pad> <pad> <pad> <pad> <pad> <pad> <pad> <pad> <pad> <pad> <pad> <pad> <pad> <pad> <pad> <pad> <pad> <pad> <pad> <pad> <pad> <pad> <pad> <pad> <pad> <pad> <pad> <pad> <pad> <pad> <pad> <pad> <pad> <pad> <pad> <pad> <pad> <pad> <pad> <pad> <pad> <pad> <pad> <pad> <pad> <pad> <pad> \n",
      "\n",
      "<s> ▁La ▁coa gula ción ▁no ▁presenta ba ▁altera ciones , ▁y ▁en ▁la ▁bio químic a ▁destaca ba ▁una ▁creati nina ▁de ▁1. 49 ▁y ▁una ▁PC R ▁de ▁5 0.9 , ▁sin ▁otros ▁halla z gos ▁reseña bles . </s> <pad> <pad> <pad> <pad> <pad> <pad> <pad> <pad> <pad> <pad> <pad> <pad> <pad> <pad> <pad> <pad> <pad> <pad> <pad> <pad> <pad> <pad> <pad> <pad> <pad> <pad> <pad> <pad> <pad> <pad> <pad> <pad> <pad> <pad> <pad> <pad> <pad> <pad> <pad> <pad> <pad> <pad> <pad> <pad> <pad> <pad> <pad> <pad> <pad> <pad> <pad> <pad> <pad> <pad> <pad> <pad> <pad> <pad> <pad> <pad> <pad> <pad> <pad> <pad> <pad> <pad> <pad> <pad> <pad> <pad> <pad> <pad> <pad> <pad> <pad> <pad> <pad> <pad> <pad> <pad> <pad> <pad> <pad> <pad> <pad> <pad> \n",
      "\n",
      "<s> ▁Se ▁solicitar on ▁marcador es ▁tumor ales , ▁en con tr ándose ▁todos ▁ellos ▁en ▁rango ▁de ▁normal idad . </s> <pad> <pad> <pad> <pad> <pad> <pad> <pad> <pad> <pad> <pad> <pad> <pad> <pad> <pad> <pad> <pad> <pad> <pad> <pad> <pad> <pad> <pad> <pad> <pad> <pad> <pad> <pad> <pad> <pad> <pad> <pad> <pad> <pad> <pad> <pad> <pad> <pad> <pad> <pad> <pad> <pad> <pad> <pad> <pad> <pad> <pad> <pad> <pad> <pad> <pad> <pad> <pad> <pad> <pad> <pad> <pad> <pad> <pad> <pad> <pad> <pad> <pad> <pad> <pad> <pad> <pad> <pad> <pad> <pad> <pad> <pad> <pad> <pad> <pad> <pad> <pad> <pad> <pad> <pad> <pad> <pad> <pad> <pad> <pad> <pad> <pad> <pad> <pad> <pad> <pad> <pad> <pad> <pad> <pad> <pad> <pad> <pad> <pad> <pad> <pad> <pad> <pad> <pad> <pad> <pad> <pad> \n",
      "\n",
      "<s> ▁Se ▁proced ió ▁a ▁realización ▁de ▁bron cos copi a ▁con ▁toma ▁de ▁bio psi a ▁de ▁la ▁masa ▁pulmonar , ▁sin ▁poder ▁alcanzar ▁una ▁tip ificación ▁his t ológica ▁debido ▁a ▁la ▁gran ▁indi ferencia ción ▁y ▁extensa ▁nec rosi s ▁tumor al ▁de ▁la ▁le sión . </s> <pad> <pad> <pad> <pad> <pad> <pad> <pad> <pad> <pad> <pad> <pad> <pad> <pad> <pad> <pad> <pad> <pad> <pad> <pad> <pad> <pad> <pad> <pad> <pad> <pad> <pad> <pad> <pad> <pad> <pad> <pad> <pad> <pad> <pad> <pad> <pad> <pad> <pad> <pad> <pad> <pad> <pad> <pad> <pad> <pad> <pad> <pad> <pad> <pad> <pad> <pad> <pad> <pad> <pad> <pad> <pad> <pad> <pad> <pad> <pad> <pad> <pad> <pad> <pad> <pad> <pad> <pad> <pad> <pad> <pad> <pad> <pad> <pad> <pad> <pad> <pad> <pad> \n",
      "\n",
      "<s> ▁Se ▁llevó ▁a ▁cabo ▁bio psi a ▁guia da ▁por ▁ TAC , ▁que ▁a port ó ▁un ▁diagnóstico ▁de ▁tumor ▁malign o ▁muy ▁indi ferencia do , ▁sin ▁poder ▁precisar ▁el ▁origen ▁primari o . </s> <pad> <pad> <pad> <pad> <pad> <pad> <pad> <pad> <pad> <pad> <pad> <pad> <pad> <pad> <pad> <pad> <pad> <pad> <pad> <pad> <pad> <pad> <pad> <pad> <pad> <pad> <pad> <pad> <pad> <pad> <pad> <pad> <pad> <pad> <pad> <pad> <pad> <pad> <pad> <pad> <pad> <pad> <pad> <pad> <pad> <pad> <pad> <pad> <pad> <pad> <pad> <pad> <pad> <pad> <pad> <pad> <pad> <pad> <pad> <pad> <pad> <pad> <pad> <pad> <pad> <pad> <pad> <pad> <pad> <pad> <pad> <pad> <pad> <pad> <pad> <pad> <pad> <pad> <pad> <pad> <pad> <pad> <pad> <pad> <pad> <pad> <pad> <pad> <pad> <pad> \n",
      "\n",
      "<s> ▁Dia g nó stico ▁Ante ▁la ▁esca sa ▁información ▁aporta da ▁por ▁las ▁su ces ivas ▁bio psi as ▁de ▁la ▁masa , ▁se ▁realizó ▁una ▁bio psi a ▁gang lion ar ▁mediante ▁E BUS ▁del ▁con glo mer ado ▁a den op ático ▁descri to ▁en ▁el ▁ TAC . </s> <pad> <pad> <pad> <pad> <pad> <pad> <pad> <pad> <pad> <pad> <pad> <pad> <pad> <pad> <pad> <pad> <pad> <pad> <pad> <pad> <pad> <pad> <pad> <pad> <pad> <pad> <pad> <pad> <pad> <pad> <pad> <pad> <pad> <pad> <pad> <pad> <pad> <pad> <pad> <pad> <pad> <pad> <pad> <pad> <pad> <pad> <pad> <pad> <pad> <pad> <pad> <pad> <pad> <pad> <pad> <pad> <pad> <pad> <pad> <pad> <pad> <pad> <pad> <pad> <pad> <pad> <pad> <pad> <pad> <pad> <pad> <pad> <pad> <pad> <pad> \n",
      "\n",
      "<s> ▁En ▁esta ▁ocasión , ▁la ▁anat om ía ▁pat ológica ▁arro jó ▁un ▁resultado ▁compatible ▁con ▁IN F IL TRA CIÓN ▁POR ▁ME LAN OMA , ▁con ▁fuerte ▁expresión ▁positiva ▁para ▁ME LAN - A ▁y ▁H MB -45 ▁y ▁re orden amiento ▁del ▁gen ▁B RAF ▁V 600 E . </s> <pad> <pad> <pad> <pad> <pad> <pad> <pad> <pad> <pad> <pad> <pad> <pad> <pad> <pad> <pad> <pad> <pad> <pad> <pad> <pad> <pad> <pad> <pad> <pad> <pad> <pad> <pad> <pad> <pad> <pad> <pad> <pad> <pad> <pad> <pad> <pad> <pad> <pad> <pad> <pad> <pad> <pad> <pad> <pad> <pad> <pad> <pad> <pad> <pad> <pad> <pad> <pad> <pad> <pad> <pad> <pad> <pad> <pad> <pad> <pad> <pad> <pad> <pad> <pad> <pad> <pad> <pad> <pad> <pad> <pad> <pad> <pad> <pad> <pad> <pad> \n",
      "\n",
      "<s> ▁El ▁estudio ▁de ▁extensión ▁mediante ▁PET - TAC ▁most ró ▁capta ción ▁a ▁nivel ▁de ▁la ▁masa ▁pulmonar ▁y ▁el ▁con glo mer ado ▁a den op ático ▁sub cari nal , ▁además ▁de ▁objetiva r ▁zonas ▁hiper cap t antes ▁susceptible s ▁de ▁origen ▁metas tás ico ▁a ▁nivel ▁de ▁g lán dula ▁supra rren al ▁izquierda ▁e ▁í le on . </s> <pad> <pad> <pad> <pad> <pad> <pad> <pad> <pad> <pad> <pad> <pad> <pad> <pad> <pad> <pad> <pad> <pad> <pad> <pad> <pad> <pad> <pad> <pad> <pad> <pad> <pad> <pad> <pad> <pad> <pad> <pad> <pad> <pad> <pad> <pad> <pad> <pad> <pad> <pad> <pad> <pad> <pad> <pad> <pad> <pad> <pad> <pad> <pad> <pad> <pad> <pad> <pad> <pad> <pad> <pad> <pad> <pad> <pad> <pad> <pad> <pad> <pad> <pad> \n",
      "\n",
      "<s> ▁Trata miento ▁Se ▁ini ció ▁tratamiento ▁con ▁inhibi dores ▁de ▁B RAF ▁y ▁ MEK ▁( Da bra fen ib ▁y ▁Tra met in ib ). </s> <pad> <pad> <pad> <pad> <pad> <pad> <pad> <pad> <pad> <pad> <pad> <pad> <pad> <pad> <pad> <pad> <pad> <pad> <pad> <pad> <pad> <pad> <pad> <pad> <pad> <pad> <pad> <pad> <pad> <pad> <pad> <pad> <pad> <pad> <pad> <pad> <pad> <pad> <pad> <pad> <pad> <pad> <pad> <pad> <pad> <pad> <pad> <pad> <pad> <pad> <pad> <pad> <pad> <pad> <pad> <pad> <pad> <pad> <pad> <pad> <pad> <pad> <pad> <pad> <pad> <pad> <pad> <pad> <pad> <pad> <pad> <pad> <pad> <pad> <pad> <pad> <pad> <pad> <pad> <pad> <pad> <pad> <pad> <pad> <pad> <pad> <pad> <pad> <pad> <pad> <pad> <pad> <pad> <pad> <pad> <pad> <pad> <pad> <pad> <pad> \n",
      "\n",
      "<s> ▁Evolu ción ▁Un ▁mes ▁después ▁del ▁diagnóstico ▁el ▁paciente ▁in gres ó ▁por ▁cuadro ▁de ▁dolor ▁y ▁di sten sión ▁abdominal ; ▁se ▁diagnostic ó ▁de ▁ob stru cción ▁intestinal ▁y ▁fue ▁interven ido ▁de ▁urge ncia . </s> <pad> <pad> <pad> <pad> <pad> <pad> <pad> <pad> <pad> <pad> <pad> <pad> <pad> <pad> <pad> <pad> <pad> <pad> <pad> <pad> <pad> <pad> <pad> <pad> <pad> <pad> <pad> <pad> <pad> <pad> <pad> <pad> <pad> <pad> <pad> <pad> <pad> <pad> <pad> <pad> <pad> <pad> <pad> <pad> <pad> <pad> <pad> <pad> <pad> <pad> <pad> <pad> <pad> <pad> <pad> <pad> <pad> <pad> <pad> <pad> <pad> <pad> <pad> <pad> <pad> <pad> <pad> <pad> <pad> <pad> <pad> <pad> <pad> <pad> <pad> <pad> <pad> <pad> <pad> <pad> <pad> <pad> <pad> <pad> <pad> <pad> <pad> <pad> \n",
      "\n",
      "<s> ▁La ▁anat om ía ▁pat ológica ▁de ▁la ▁pieza ▁qui rú r gica ▁result ó ▁compatible ▁con ▁met ást asis ▁de ▁melan oma , ▁con ▁muta ción ▁del ▁gen ▁B RAF ▁y ▁con ▁pérdida ▁de ▁marcador es ▁melan o cí ticos . </s> <pad> <pad> <pad> <pad> <pad> <pad> <pad> <pad> <pad> <pad> <pad> <pad> <pad> <pad> <pad> <pad> <pad> <pad> <pad> <pad> <pad> <pad> <pad> <pad> <pad> <pad> <pad> <pad> <pad> <pad> <pad> <pad> <pad> <pad> <pad> <pad> <pad> <pad> <pad> <pad> <pad> <pad> <pad> <pad> <pad> <pad> <pad> <pad> <pad> <pad> <pad> <pad> <pad> <pad> <pad> <pad> <pad> <pad> <pad> <pad> <pad> <pad> <pad> <pad> <pad> <pad> <pad> <pad> <pad> <pad> <pad> <pad> <pad> <pad> <pad> <pad> <pad> <pad> <pad> <pad> <pad> <pad> <pad> <pad> \n",
      "\n",
      "<s> ▁En ▁la ▁actualidad ▁el ▁paciente ▁continúa ▁con ▁tratamiento ▁tras ▁un ▁interval o ▁libre ▁de ▁progres ión ▁de ▁9 ▁meses , ▁ habi éndose ▁objetiva do ▁una ▁respuesta ▁parcial ▁mayor ▁ morf ológica ▁como ▁máxima ▁respuesta . </s> <pad> <pad> <pad> <pad> <pad> <pad> <pad> <pad> <pad> <pad> <pad> <pad> <pad> <pad> <pad> <pad> <pad> <pad> <pad> <pad> <pad> <pad> <pad> <pad> <pad> <pad> <pad> <pad> <pad> <pad> <pad> <pad> <pad> <pad> <pad> <pad> <pad> <pad> <pad> <pad> <pad> <pad> <pad> <pad> <pad> <pad> <pad> <pad> <pad> <pad> <pad> <pad> <pad> <pad> <pad> <pad> <pad> <pad> <pad> <pad> <pad> <pad> <pad> <pad> <pad> <pad> <pad> <pad> <pad> <pad> <pad> <pad> <pad> <pad> <pad> <pad> <pad> <pad> <pad> <pad> <pad> <pad> <pad> <pad> <pad> <pad> <pad> <pad> <pad> <pad> \n",
      "\n"
     ]
    }
   ],
   "source": [
    "check_id_frag = sum(train_frag[:check_id])\n",
    "for frag in train_ind[check_id_frag:check_id_frag + train_frag[check_id]]:\n",
    "    print(' '.join([tokenizer._convert_id_to_token(int(ind)) for ind in frag]), \"\\n\")"
   ]
  },
  {
   "cell_type": "code",
   "execution_count": 70,
   "metadata": {},
   "outputs": [
    {
     "data": {
      "text/plain": [
       "count    27633.000000\n",
       "mean         0.316976\n",
       "std          0.621133\n",
       "min          0.000000\n",
       "25%          0.000000\n",
       "50%          0.000000\n",
       "75%          1.000000\n",
       "max         10.000000\n",
       "dtype: float64"
      ]
     },
     "execution_count": 70,
     "metadata": {},
     "output_type": "execute_result"
    }
   ],
   "source": [
    "# Fragment labels distribution\n",
    "pd.Series(np.sum(train_y, axis=1)).describe()"
   ]
  },
  {
   "cell_type": "markdown",
   "metadata": {},
   "source": [
    "### Development corpus\n",
    "\n",
    "Only development texts that are annotated with CIE-O codes are considered:"
   ]
  },
  {
   "cell_type": "code",
   "execution_count": 71,
   "metadata": {},
   "outputs": [
    {
     "data": {
      "text/plain": [
       "0"
      ]
     },
     "execution_count": 71,
     "metadata": {},
     "output_type": "execute_result"
    }
   ],
   "source": [
    "# Some dev documents (texts) are not annotated \n",
    "len(set(df_text_dev[\"doc_id\"]) - set(df_codes_dev_ner[\"doc_id\"]))"
   ]
  },
  {
   "cell_type": "code",
   "execution_count": 72,
   "metadata": {},
   "outputs": [],
   "source": [
    "dev_doc_list = sorted(set(df_codes_dev_ner[\"doc_id\"]))"
   ]
  },
  {
   "cell_type": "code",
   "execution_count": 73,
   "metadata": {},
   "outputs": [
    {
     "data": {
      "text/plain": [
       "250"
      ]
     },
     "execution_count": 73,
     "metadata": {},
     "output_type": "execute_result"
    }
   ],
   "source": [
    "len(dev_doc_list)"
   ]
  },
  {
   "cell_type": "code",
   "execution_count": 74,
   "metadata": {},
   "outputs": [
    {
     "name": "stdout",
     "output_type": "stream",
     "text": [
      "CPU times: user 11 ms, sys: 22 µs, total: 11 ms\n",
      "Wall time: 10.7 ms\n"
     ]
    }
   ],
   "source": [
    "%%time\n",
    "ss_sub_corpus_path = ss_corpus_path + \"development/\"\n",
    "ss_files = [f for f in os.listdir(ss_sub_corpus_path) if os.path.isfile(ss_sub_corpus_path + f)]\n",
    "ss_dict_dev = load_ss_files(ss_files, ss_sub_corpus_path)"
   ]
  },
  {
   "cell_type": "code",
   "execution_count": 75,
   "metadata": {},
   "outputs": [
    {
     "name": "stderr",
     "output_type": "stream",
     "text": [
      "100%|██████████| 250/250 [00:10<00:00, 24.76it/s]\n"
     ]
    },
    {
     "name": "stdout",
     "output_type": "stream",
     "text": [
      "CPU times: user 10.2 s, sys: 20 ms, total: 10.3 s\n",
      "Wall time: 10.2 s\n"
     ]
    }
   ],
   "source": [
    "%%time\n",
    "dev_ind, dev_att, dev_y, dev_frag, dev_start_end_frag = ss_create_frag_input_data_xlmr(df_text=df_text_dev, \n",
    "                                                  text_col=text_col, \n",
    "                                                  df_ann=df_codes_dev_ner, doc_list=dev_doc_list, ss_dict=ss_dict_dev,\n",
    "                                                  tokenizer=tokenizer, sp_pb2=spt, lab_encoder=mlb_encoder, seq_len=SEQ_LEN)"
   ]
  },
  {
   "cell_type": "code",
   "execution_count": 76,
   "metadata": {},
   "outputs": [],
   "source": [
    "# Sanity check"
   ]
  },
  {
   "cell_type": "code",
   "execution_count": 77,
   "metadata": {},
   "outputs": [
    {
     "data": {
      "text/plain": [
       "(8303, 128)"
      ]
     },
     "execution_count": 77,
     "metadata": {},
     "output_type": "execute_result"
    }
   ],
   "source": [
    "dev_ind.shape"
   ]
  },
  {
   "cell_type": "code",
   "execution_count": 78,
   "metadata": {},
   "outputs": [
    {
     "data": {
      "text/plain": [
       "(8303, 128)"
      ]
     },
     "execution_count": 78,
     "metadata": {},
     "output_type": "execute_result"
    }
   ],
   "source": [
    "dev_att.shape"
   ]
  },
  {
   "cell_type": "code",
   "execution_count": 79,
   "metadata": {},
   "outputs": [
    {
     "data": {
      "text/plain": [
       "(8303, 743)"
      ]
     },
     "execution_count": 79,
     "metadata": {},
     "output_type": "execute_result"
    }
   ],
   "source": [
    "dev_y.shape"
   ]
  },
  {
   "cell_type": "code",
   "execution_count": 80,
   "metadata": {},
   "outputs": [
    {
     "data": {
      "text/plain": [
       "250"
      ]
     },
     "execution_count": 80,
     "metadata": {},
     "output_type": "execute_result"
    }
   ],
   "source": [
    "len(dev_frag)"
   ]
  },
  {
   "cell_type": "code",
   "execution_count": 81,
   "metadata": {},
   "outputs": [
    {
     "data": {
      "text/plain": [
       "8303"
      ]
     },
     "execution_count": 81,
     "metadata": {},
     "output_type": "execute_result"
    }
   ],
   "source": [
    "len(dev_start_end_frag)"
   ]
  },
  {
   "cell_type": "code",
   "execution_count": 82,
   "metadata": {},
   "outputs": [
    {
     "data": {
      "text/plain": [
       "count    250.000000\n",
       "mean      33.212000\n",
       "std       16.315386\n",
       "min       10.000000\n",
       "25%       22.250000\n",
       "50%       30.000000\n",
       "75%       39.000000\n",
       "max      175.000000\n",
       "dtype: float64"
      ]
     },
     "execution_count": 82,
     "metadata": {},
     "output_type": "execute_result"
    }
   ],
   "source": [
    "# Check n_frag distribution across texts\n",
    "pd.Series(dev_frag).describe()"
   ]
  },
  {
   "cell_type": "code",
   "execution_count": 83,
   "metadata": {},
   "outputs": [],
   "source": [
    "# Inspect a randomly selected text and its encoded version\n",
    "check_id = np.random.randint(low=0, high=len(dev_doc_list), size=1)[0]"
   ]
  },
  {
   "cell_type": "code",
   "execution_count": 84,
   "metadata": {},
   "outputs": [
    {
     "data": {
      "text/plain": [
       "151"
      ]
     },
     "execution_count": 84,
     "metadata": {},
     "output_type": "execute_result"
    }
   ],
   "source": [
    "check_id"
   ]
  },
  {
   "cell_type": "code",
   "execution_count": 85,
   "metadata": {},
   "outputs": [
    {
     "data": {
      "text/plain": [
       "'cc_onco1311'"
      ]
     },
     "execution_count": 85,
     "metadata": {},
     "output_type": "execute_result"
    }
   ],
   "source": [
    "dev_doc_list[check_id]"
   ]
  },
  {
   "cell_type": "code",
   "execution_count": 86,
   "metadata": {
    "scrolled": true
   },
   "outputs": [
    {
     "data": {
      "text/plain": [
       "'Anamnesis\\nVarón de 63 años, fumador, que ingresa para estudio en febrero de 2011 ante la presencia de una masa inguinal izquierda, tos escasamente productiva, astenia y pérdida ponderal de 8 kg de un mes de evolución.\\n\\nExamen físico\\nDestacaba la presencia de adenopatías duras y adheridas en la región laterocervical izquierda, supraclavicular izquierda e inguinal izquierda de hasta 1,5 cm de tamaño. Resto sin hallazgos de interés.\\n\\nPruebas complementarias\\nSe completa estudio con analítica sanguínea, donde destaca Hb 9,9 g/dl y VSG 120 mm, con serologías de VHC, VHB y VIH negativas. En la radiografía de tórax se aprecia engrosamiento hiliar bilateral junto con nódulo pulmonar en el lóbulo superior izquierdo. La tomografía computarizada (TC) confirma la presencia de adenopatías patológicas en mediastino y retroperitoneo, así como de una masa espiculada en el lóbulo superior izquierdo.\\nSe realiza biopsia de la adenopatía cervical que confirma diagnóstico de linfoma B difuso de célula grande, así como punción aspirativa transtorácica de masa pulmonar, que es positiva para carcinoma epidermoide moderadamente diferenciado.\\n\\nDiagnóstico\\nLinfoma no Hodgkin B difuso de célula grande estadio III B IPI 3.\\nCarcinoma de pulmón no microcítico subtipo epidermoide estadio IIIA.\\n\\nTratamiento\\nRecibe tratamiento con esquema R-CHOP x 6 ciclos entre febrero y junio de 2011. En la PET-TC de reevaluación se objetiva respuesta completa de todas las lesiones ganglionares, excepto las de localización hiliar izquierda, así como progresión por aumento de tamaño de la tumoración pulmonar, que se estadifica como EIIIA (cT3cN1M0).\\nEntre julio y agosto de 2011 recibe quimioterapia neoadyuvante con esquema CDDP 80 mg/m2 iv + vinorelbina oral 60 mg/m2 x 3 ciclos, seguido de lobectomía superior izquierda y linfadenectomía que confirma la afectación ganglionar en 1/14 ganglios aislados.\\n\\nEvolución\\nEn abril de 2012, tras 8 meses de intervalo libre de enfermedad, se detecta una masa de partes blandas en la parrilla costal izquierda, con biopsia positiva para carcinoma epidermoide. Tras descartarse resecabilidad por cirugía torácica, el paciente recibe tratamiento con esquema carboplatino AUC2-paclitaxel 80 mg/m2 iv semanal concomitante con radioterapia torácica, con respuesta completa radiológica.\\nEn seguimiento libre de progresión hasta febrero de 2013, cuando presenta crisis comicial, confirmándose en la resonancia magnética (RM) cerebral la presencia de metástasis cerebral única en el lóbulo temporal izquierdo, con resto de estudio de extensión negativo. Se remite a Neurocirugía para resección de la tumoración, con diagnóstico histológico de metástasis de carcinoma epidermoide. El paciente completa tratamiento con radioterapia holocraneal paliativa e inicia seguimiento que mantiene hasta la actualidad.'"
      ]
     },
     "execution_count": 86,
     "metadata": {},
     "output_type": "execute_result"
    }
   ],
   "source": [
    "df_text_dev[df_text_dev[\"doc_id\"] == dev_doc_list[check_id]][text_col].values[0]"
   ]
  },
  {
   "cell_type": "code",
   "execution_count": 87,
   "metadata": {},
   "outputs": [
    {
     "name": "stdout",
     "output_type": "stream",
     "text": [
      "[()] \n",
      "\n",
      "[()] \n",
      "\n",
      "[()] \n",
      "\n",
      "[()] \n",
      "\n",
      "[()] \n",
      "\n",
      "[()] \n",
      "\n",
      "[('8070/32', '9680/3')] \n",
      "\n",
      "[('9680/3',)] \n",
      "\n",
      "[('8046/3', '8070/3')] \n",
      "\n",
      "[()] \n",
      "\n",
      "[('8000/1', '8000/6')] \n",
      "\n",
      "[()] \n",
      "\n",
      "[('8070/3',)] \n",
      "\n",
      "[()] \n",
      "\n",
      "[('8000/6',)] \n",
      "\n",
      "[('8000/1', '8070/6')] \n",
      "\n",
      "[()] \n",
      "\n"
     ]
    }
   ],
   "source": [
    "check_id_frag = sum(dev_frag[:check_id])\n",
    "for i in range(check_id_frag, check_id_frag + dev_frag[check_id]):\n",
    "    print(mlb_encoder.inverse_transform(np.array([dev_y[i]])), \"\\n\")"
   ]
  },
  {
   "cell_type": "code",
   "execution_count": 88,
   "metadata": {},
   "outputs": [
    {
     "name": "stdout",
     "output_type": "stream",
     "text": [
      "[('▁Ana', (0, 3)), ('m', (3, 4)), ('nesi', (4, 8)), ('s', (8, 9)), ('▁Var', (9, 13)), ('ón', (13, 16)), ('▁de', (16, 19)), ('▁63', (19, 22)), ('▁años', (22, 28)), (',', (28, 29)), ('▁fum', (29, 33)), ('ador', (33, 37)), (',', (37, 38)), ('▁que', (38, 42)), ('▁ing', (42, 46)), ('resa', (46, 50)), ('▁para', (50, 55)), ('▁estudio', (55, 63)), ('▁en', (63, 66)), ('▁febrero', (66, 74)), ('▁de', (74, 77)), ('▁2011', (77, 82)), ('▁ante', (82, 87)), ('▁la', (87, 90)), ('▁presencia', (90, 100)), ('▁de', (100, 103)), ('▁una', (103, 107)), ('▁masa', (107, 112)), ('▁in', (112, 115)), ('guin', (115, 119)), ('al', (119, 121)), ('▁izquierda', (121, 131)), (',', (131, 132)), ('▁to', (132, 135)), ('s', (135, 136)), ('▁esca', (136, 141)), ('s', (141, 142)), ('amente', (142, 148)), ('▁product', (148, 156)), ('iva', (156, 159)), (',', (159, 160)), ('▁a', (160, 162)), ('st', (162, 164)), ('enia', (164, 168)), ('▁y', (168, 170)), ('▁pérdida', (170, 179)), ('▁ponder', (179, 186)), ('al', (186, 188)), ('▁de', (188, 191)), ('▁8', (191, 193)), ('▁kg', (193, 196)), ('▁de', (196, 199)), ('▁un', (199, 202)), ('▁mes', (202, 206)), ('▁de', (206, 209)), ('▁evolución', (209, 220)), ('.', (220, 221))]\n",
      "\n",
      "\n",
      "[('▁Exam', (223, 227)), ('en', (227, 229)), ('▁físico', (229, 237)), ('▁Destaca', (237, 245)), ('ba', (245, 247)), ('▁la', (247, 250)), ('▁presencia', (250, 260)), ('▁de', (260, 263)), ('▁ade', (263, 267)), ('no', (267, 269)), ('pat', (269, 272)), ('ías', (272, 276)), ('▁dura', (276, 281)), ('s', (281, 282)), ('▁y', (282, 284)), ('▁ad', (284, 287)), ('her', (287, 290)), ('idas', (290, 294)), ('▁en', (294, 297)), ('▁la', (297, 300)), ('▁región', (300, 308)), ('▁later', (308, 314)), ('oce', (314, 317)), ('rvi', (317, 320)), ('cal', (320, 323)), ('▁izquierda', (323, 333)), (',', (333, 334)), ('▁supra', (334, 340)), ('cla', (340, 343)), ('vi', (343, 345)), ('cular', (345, 350)), ('▁izquierda', (350, 360)), ('▁e', (360, 362)), ('▁in', (362, 365)), ('guin', (365, 369)), ('al', (369, 371)), ('▁izquierda', (371, 381)), ('▁de', (381, 384)), ('▁hasta', (384, 390)), ('▁1,5', (390, 394)), ('▁cm', (394, 397)), ('▁de', (397, 400)), ('▁tamaño', (400, 408)), ('.', (408, 409))]\n",
      "\n",
      "\n",
      "[('▁Rest', (410, 414)), ('o', (414, 415)), ('▁sin', (415, 419)), ('▁halla', (419, 425)), ('z', (425, 426)), ('gos', (426, 429)), ('▁de', (429, 432)), ('▁interés', (432, 441)), ('.', (441, 442))]\n",
      "\n",
      "\n",
      "[('▁Pru', (444, 447)), ('e', (447, 448)), ('bas', (448, 451)), ('▁complementar', (451, 464)), ('ias', (464, 467)), ('▁Se', (467, 470)), ('▁completa', (470, 479)), ('▁estudio', (479, 487)), ('▁con', (487, 491)), ('▁ana', (491, 495)), ('lítica', (495, 502)), ('▁sang', (502, 507)), ('u', (507, 508)), ('í', (508, 510)), ('ne', (510, 512)), ('a', (512, 513)), (',', (513, 514)), ('▁donde', (514, 520)), ('▁destaca', (520, 528)), ('▁H', (528, 530)), ('b', (530, 531)), ('▁', (531, 532)), ('9,9', (532, 535)), ('▁g', (535, 537)), ('/', (537, 538)), ('dl', (538, 540)), ('▁y', (540, 542)), ('▁V', (542, 544)), ('SG', (544, 546)), ('▁120', (546, 550)), ('▁mm', (550, 553)), (',', (553, 554)), ('▁con', (554, 558)), ('▁ser', (558, 562)), ('ología', (562, 569)), ('s', (569, 570)), ('▁de', (570, 573)), ('▁V', (573, 575)), ('HC', (575, 577)), (',', (577, 578)), ('▁V', (578, 580)), ('H', (580, 581)), ('B', (581, 582)), ('▁y', (582, 584)), ('▁VI', (584, 587)), ('H', (587, 588)), ('▁negativa', (588, 597)), ('s', (597, 598)), ('.', (598, 599))]\n",
      "\n",
      "\n",
      "[('▁En', (600, 602)), ('▁la', (602, 605)), ('▁radi', (605, 610)), ('ografía', (610, 618)), ('▁de', (618, 621)), ('▁tó', (621, 625)), ('ra', (625, 627)), ('x', (627, 628)), ('▁se', (628, 631)), ('▁aprecia', (631, 639)), ('▁en', (639, 642)), ('gros', (642, 646)), ('amiento', (646, 653)), ('▁hili', (653, 658)), ('ar', (658, 660)), ('▁bilateral', (660, 670)), ('▁junto', (670, 676)), ('▁con', (676, 680)), ('▁nó', (680, 684)), ('du', (684, 686)), ('lo', (686, 688)), ('▁pulmonar', (688, 697)), ('▁en', (697, 700)), ('▁el', (700, 703)), ('▁ló', (703, 707)), ('bulo', (707, 711)), ('▁superior', (711, 720)), ('▁iz', (720, 723)), ('quier', (723, 728)), ('do', (728, 730)), ('.', (730, 731))]\n",
      "\n",
      "\n",
      "[('▁La', (732, 734)), ('▁tom', (734, 738)), ('ografía', (738, 746)), ('▁computa', (746, 754)), ('r', (754, 755)), ('izada', (755, 760)), ('▁(', (760, 762)), ('TC', (762, 764)), (')', (764, 765)), ('▁confirma', (765, 774)), ('▁la', (774, 777)), ('▁presencia', (777, 787)), ('▁de', (787, 790)), ('▁ade', (790, 794)), ('no', (794, 796)), ('pat', (796, 799)), ('ías', (799, 803)), ('▁pat', (803, 807)), ('ológica', (807, 815)), ('s', (815, 816)), ('▁en', (816, 819)), ('▁media', (819, 825)), ('s', (825, 826)), ('tino', (826, 830)), ('▁y', (830, 832)), ('▁retro', (832, 838)), ('peri', (838, 842)), ('tone', (842, 846)), ('o', (846, 847)), (',', (847, 848)), ('▁así', (848, 853)), ('▁como', (853, 858)), ('▁de', (858, 861)), ('▁una', (861, 865)), ('▁masa', (865, 870)), ('▁esp', (870, 874)), ('icul', (874, 878)), ('ada', (878, 881)), ('▁en', (881, 884)), ('▁el', (884, 887)), ('▁ló', (887, 891)), ('bulo', (891, 895)), ('▁superior', (895, 904)), ('▁iz', (904, 907)), ('quier', (907, 912)), ('do', (912, 914)), ('.', (914, 915))]\n",
      "\n",
      "\n",
      "[('▁Se', (916, 918)), ('▁realiza', (918, 926)), ('▁bio', (926, 930)), ('psi', (930, 933)), ('a', (933, 934)), ('▁de', (934, 937)), ('▁la', (937, 940)), ('▁ade', (940, 944)), ('no', (944, 946)), ('pat', (946, 949)), ('ía', (949, 952)), ('▁cer', (952, 956)), ('vi', (956, 958)), ('cal', (958, 961)), ('▁que', (961, 965)), ('▁confirma', (965, 974)), ('▁diagnóstico', (974, 987)), ('▁de', (987, 990)), ('▁l', (990, 992)), ('info', (992, 996)), ('ma', (996, 998)), ('▁B', (998, 1000)), ('▁di', (1000, 1003)), ('fuso', (1003, 1007)), ('▁de', (1007, 1010)), ('▁cél', (1010, 1015)), ('ula', (1015, 1018)), ('▁grande', (1018, 1025)), (',', (1025, 1026)), ('▁así', (1026, 1031)), ('▁como', (1031, 1036)), ('▁pun', (1036, 1040)), ('ción', (1040, 1045)), ('▁aspira', (1045, 1052)), ('tiva', (1052, 1056)), ('▁trans', (1056, 1062)), ('to', (1062, 1064)), ('rác', (1064, 1068)), ('ica', (1068, 1071)), ('▁de', (1071, 1074)), ('▁masa', (1074, 1079)), ('▁pulmonar', (1079, 1088)), (',', (1088, 1089)), ('▁que', (1089, 1093)), ('▁es', (1093, 1096)), ('▁positiva', (1096, 1105)), ('▁para', (1105, 1110)), ('▁car', (1110, 1114)), ('cino', (1114, 1118)), ('ma', (1118, 1120)), ('▁epi', (1120, 1124)), ('der', (1124, 1127)), ('mo', (1127, 1129)), ('ide', (1129, 1132)), ('▁moder', (1132, 1138)), ('a', (1138, 1139)), ('damente', (1139, 1146)), ('▁diferencia', (1146, 1157)), ('do', (1157, 1159)), ('.', (1159, 1160))]\n",
      "\n",
      "\n",
      "[('▁Dia', (1162, 1165)), ('g', (1165, 1166)), ('nó', (1166, 1169)), ('stico', (1169, 1174)), ('▁L', (1174, 1176)), ('info', (1176, 1180)), ('ma', (1180, 1182)), ('▁no', (1182, 1185)), ('▁Hod', (1185, 1189)), ('g', (1189, 1190)), ('kin', (1190, 1193)), ('▁B', (1193, 1195)), ('▁di', (1195, 1198)), ('fuso', (1198, 1202)), ('▁de', (1202, 1205)), ('▁cél', (1205, 1210)), ('ula', (1210, 1213)), ('▁grande', (1213, 1220)), ('▁esta', (1220, 1225)), ('dio', (1225, 1228)), ('▁III', (1228, 1232)), ('▁B', (1232, 1234)), ('▁I', (1234, 1236)), ('PI', (1236, 1238)), ('▁3.', (1238, 1241))]\n",
      "\n",
      "\n",
      "[('▁Car', (1242, 1245)), ('cino', (1245, 1249)), ('ma', (1249, 1251)), ('▁de', (1251, 1254)), ('▁pul', (1254, 1258)), ('món', (1258, 1262)), ('▁no', (1262, 1265)), ('▁micro', (1265, 1271)), ('cí', (1271, 1274)), ('tico', (1274, 1278)), ('▁sub', (1278, 1282)), ('ti', (1282, 1284)), ('po', (1284, 1286)), ('▁epi', (1286, 1290)), ('der', (1290, 1293)), ('mo', (1293, 1295)), ('ide', (1295, 1298)), ('▁esta', (1298, 1303)), ('dio', (1303, 1306)), ('▁III', (1306, 1310)), ('A', (1310, 1311)), ('.', (1311, 1312))]\n",
      "\n",
      "\n",
      "[('▁Trata', (1314, 1319)), ('miento', (1319, 1325)), ('▁Reci', (1325, 1330)), ('be', (1330, 1332)), ('▁tratamiento', (1332, 1344)), ('▁con', (1344, 1348)), ('▁esquema', (1348, 1356)), ('▁R', (1356, 1358)), ('-', (1358, 1359)), ('CHO', (1359, 1362)), ('P', (1362, 1363)), ('▁x', (1363, 1365)), ('▁6', (1365, 1367)), ('▁ciclo', (1367, 1373)), ('s', (1373, 1374)), ('▁entre', (1374, 1380)), ('▁febrero', (1380, 1388)), ('▁y', (1388, 1390)), ('▁junio', (1390, 1396)), ('▁de', (1396, 1399)), ('▁2011.', (1399, 1405))]\n",
      "\n",
      "\n",
      "[('▁En', (1406, 1408)), ('▁la', (1408, 1411)), ('▁PET', (1411, 1415)), ('-', (1415, 1416)), ('TC', (1416, 1418)), ('▁de', (1418, 1421)), ('▁re', (1421, 1424)), ('evalua', (1424, 1430)), ('ción', (1430, 1435)), ('▁se', (1435, 1438)), ('▁objetiva', (1438, 1447)), ('▁respuesta', (1447, 1457)), ('▁completa', (1457, 1466)), ('▁de', (1466, 1469)), ('▁todas', (1469, 1475)), ('▁las', (1475, 1479)), ('▁les', (1479, 1483)), ('iones', (1483, 1488)), ('▁gang', (1488, 1493)), ('lion', (1493, 1497)), ('ares', (1497, 1501)), (',', (1501, 1502)), ('▁except', (1502, 1509)), ('o', (1509, 1510)), ('▁las', (1510, 1514)), ('▁de', (1514, 1517)), ('▁local', (1517, 1523)), ('ización', (1523, 1531)), ('▁hili', (1531, 1536)), ('ar', (1536, 1538)), ('▁izquierda', (1538, 1548)), (',', (1548, 1549)), ('▁así', (1549, 1554)), ('▁como', (1554, 1559)), ('▁progres', (1559, 1567)), ('ión', (1567, 1571)), ('▁por', (1571, 1575)), ('▁aumento', (1575, 1583)), ('▁de', (1583, 1586)), ('▁tamaño', (1586, 1594)), ('▁de', (1594, 1597)), ('▁la', (1597, 1600)), ('▁tumor', (1600, 1606)), ('ación', (1606, 1612)), ('▁pulmonar', (1612, 1621)), (',', (1621, 1622)), ('▁que', (1622, 1626)), ('▁se', (1626, 1629)), ('▁esta', (1629, 1634)), ('di', (1634, 1636)), ('fica', (1636, 1640)), ('▁como', (1640, 1645)), ('▁E', (1645, 1647)), ('III', (1647, 1650)), ('A', (1650, 1651)), ('▁(', (1651, 1653)), ('c', (1653, 1654)), ('T', (1654, 1655)), ('3', (1655, 1656)), ('c', (1656, 1657)), ('N', (1657, 1658)), ('1', (1658, 1659)), ('M', (1659, 1660)), ('0)', (1660, 1662)), ('.', (1662, 1663))]\n",
      "\n",
      "\n",
      "[('▁Entre', (1664, 1669)), ('▁julio', (1669, 1675)), ('▁y', (1675, 1677)), ('▁agosto', (1677, 1684)), ('▁de', (1684, 1687)), ('▁2011', (1687, 1692)), ('▁recibe', (1692, 1699)), ('▁qui', (1699, 1703)), ('mi', (1703, 1705)), ('oterapia', (1705, 1713)), ('▁neo', (1713, 1717)), ('ady', (1717, 1720)), ('u', (1720, 1721)), ('vante', (1721, 1726)), ('▁con', (1726, 1730)), ('▁esquema', (1730, 1738)), ('▁CD', (1738, 1741)), ('DP', (1741, 1743)), ('▁80', (1743, 1746)), ('▁mg', (1746, 1749)), ('/', (1749, 1750)), ('m', (1750, 1751)), ('2', (1751, 1752)), ('▁i', (1752, 1754)), ('v', (1754, 1755)), ('▁+', (1755, 1757)), ('▁vino', (1757, 1762)), ('rel', (1762, 1765)), ('bina', (1765, 1769)), ('▁oral', (1769, 1774)), ('▁60', (1774, 1777)), ('▁mg', (1777, 1780)), ('/', (1780, 1781)), ('m', (1781, 1782)), ('2', (1782, 1783)), ('▁x', (1783, 1785)), ('▁3', (1785, 1787)), ('▁ciclo', (1787, 1793)), ('s', (1793, 1794)), (',', (1794, 1795)), ('▁seguido', (1795, 1803)), ('▁de', (1803, 1806)), ('▁l', (1806, 1808)), ('obec', (1808, 1812)), ('tom', (1812, 1815)), ('ía', (1815, 1818)), ('▁superior', (1818, 1827)), ('▁izquierda', (1827, 1837)), ('▁y', (1837, 1839)), ('▁lin', (1839, 1843)), ('fa', (1843, 1845)), ('den', (1845, 1848)), ('ecto', (1848, 1852)), ('m', (1852, 1853)), ('ía', (1853, 1856)), ('▁que', (1856, 1860)), ('▁confirma', (1860, 1869)), ('▁la', (1869, 1872)), ('▁afecta', (1872, 1879)), ('ción', (1879, 1884)), ('▁gang', (1884, 1889)), ('lion', (1889, 1893)), ('ar', (1893, 1895)), ('▁en', (1895, 1898)), ('▁1', (1898, 1900)), ('/14', (1900, 1903)), ('▁gang', (1903, 1908)), ('li', (1908, 1910)), ('os', (1910, 1912)), ('▁a', (1912, 1914)), ('isla', (1914, 1918)), ('dos', (1918, 1921)), ('.', (1921, 1922))]\n",
      "\n",
      "\n",
      "[('▁Evolu', (1924, 1929)), ('ción', (1929, 1934)), ('▁En', (1934, 1937)), ('▁abril', (1937, 1943)), ('▁de', (1943, 1946)), ('▁2012,', (1946, 1952)), ('▁tras', (1952, 1957)), ('▁8', (1957, 1959)), ('▁meses', (1959, 1965)), ('▁de', (1965, 1968)), ('▁interval', (1968, 1977)), ('o', (1977, 1978)), ('▁libre', (1978, 1984)), ('▁de', (1984, 1987)), ('▁enfermedad', (1987, 1998)), (',', (1998, 1999)), ('▁se', (1999, 2002)), ('▁detecta', (2002, 2010)), ('▁una', (2010, 2014)), ('▁masa', (2014, 2019)), ('▁de', (2019, 2022)), ('▁partes', (2022, 2029)), ('▁blanda', (2029, 2036)), ('s', (2036, 2037)), ('▁en', (2037, 2040)), ('▁la', (2040, 2043)), ('▁par', (2043, 2047)), ('rilla', (2047, 2052)), ('▁cost', (2052, 2057)), ('al', (2057, 2059)), ('▁izquierda', (2059, 2069)), (',', (2069, 2070)), ('▁con', (2070, 2074)), ('▁bio', (2074, 2078)), ('psi', (2078, 2081)), ('a', (2081, 2082)), ('▁positiva', (2082, 2091)), ('▁para', (2091, 2096)), ('▁car', (2096, 2100)), ('cino', (2100, 2104)), ('ma', (2104, 2106)), ('▁epi', (2106, 2110)), ('der', (2110, 2113)), ('mo', (2113, 2115)), ('ide', (2115, 2118)), ('.', (2118, 2119))]\n",
      "\n",
      "\n",
      "[('▁Tras', (2120, 2124)), ('▁descarta', (2124, 2133)), ('rse', (2133, 2136)), ('▁res', (2136, 2140)), ('ec', (2140, 2142)), ('abilidad', (2142, 2150)), ('▁por', (2150, 2154)), ('▁cirugía', (2154, 2163)), ('▁to', (2163, 2166)), ('rác', (2166, 2170)), ('ica', (2170, 2173)), (',', (2173, 2174)), ('▁el', (2174, 2177)), ('▁paciente', (2177, 2186)), ('▁recibe', (2186, 2193)), ('▁tratamiento', (2193, 2205)), ('▁con', (2205, 2209)), ('▁esquema', (2209, 2217)), ('▁car', (2217, 2221)), ('bo', (2221, 2223)), ('plati', (2223, 2228)), ('no', (2228, 2230)), ('▁A', (2230, 2232)), ('UC', (2232, 2234)), ('2-', (2234, 2236)), ('pac', (2236, 2239)), ('lita', (2239, 2243)), ('xel', (2243, 2246)), ('▁80', (2246, 2249)), ('▁mg', (2249, 2252)), ('/', (2252, 2253)), ('m', (2253, 2254)), ('2', (2254, 2255)), ('▁i', (2255, 2257)), ('v', (2257, 2258)), ('▁semana', (2258, 2265)), ('l', (2265, 2266)), ('▁con', (2266, 2270)), ('com', (2270, 2273)), ('it', (2273, 2275)), ('ante', (2275, 2279)), ('▁con', (2279, 2283)), ('▁radi', (2283, 2288)), ('oterapia', (2288, 2296)), ('▁to', (2296, 2299)), ('rác', (2299, 2303)), ('ica', (2303, 2306)), (',', (2306, 2307)), ('▁con', (2307, 2311)), ('▁respuesta', (2311, 2321)), ('▁completa', (2321, 2330)), ('▁radi', (2330, 2335)), ('ológica', (2335, 2343)), ('.', (2343, 2344))]\n",
      "\n",
      "\n",
      "[('▁En', (2345, 2347)), ('▁seguimiento', (2347, 2359)), ('▁libre', (2359, 2365)), ('▁de', (2365, 2368)), ('▁progres', (2368, 2376)), ('ión', (2376, 2380)), ('▁hasta', (2380, 2386)), ('▁febrero', (2386, 2394)), ('▁de', (2394, 2397)), ('▁2013,', (2397, 2403)), ('▁cuando', (2403, 2410)), ('▁presenta', (2410, 2419)), ('▁crisis', (2419, 2426)), ('▁comic', (2426, 2432)), ('ial', (2432, 2435)), (',', (2435, 2436)), ('▁confirm', (2436, 2444)), ('ándose', (2444, 2451)), ('▁en', (2451, 2454)), ('▁la', (2454, 2457)), ('▁res', (2457, 2461)), ('on', (2461, 2463)), ('ancia', (2463, 2468)), ('▁mag', (2468, 2472)), ('n', (2472, 2473)), ('ética', (2473, 2479)), ('▁(', (2479, 2481)), ('RM', (2481, 2483)), (')', (2483, 2484)), ('▁cerebral', (2484, 2493)), ('▁la', (2493, 2496)), ('▁presencia', (2496, 2506)), ('▁de', (2506, 2509)), ('▁met', (2509, 2513)), ('ást', (2513, 2517)), ('asis', (2517, 2521)), ('▁cerebral', (2521, 2530)), ('▁única', (2530, 2537)), ('▁en', (2537, 2540)), ('▁el', (2540, 2543)), ('▁ló', (2543, 2547)), ('bulo', (2547, 2551)), ('▁temporal', (2551, 2560)), ('▁iz', (2560, 2563)), ('quier', (2563, 2568)), ('do', (2568, 2570)), (',', (2570, 2571)), ('▁con', (2571, 2575)), ('▁resto', (2575, 2581)), ('▁de', (2581, 2584)), ('▁estudio', (2584, 2592)), ('▁de', (2592, 2595)), ('▁extensión', (2595, 2606)), ('▁negativo', (2606, 2615)), ('.', (2615, 2616))]\n",
      "\n",
      "\n",
      "[('▁Se', (2617, 2619)), ('▁remit', (2619, 2625)), ('e', (2625, 2626)), ('▁a', (2626, 2628)), ('▁Neuro', (2628, 2634)), ('ci', (2634, 2636)), ('rug', (2636, 2639)), ('ía', (2639, 2642)), ('▁para', (2642, 2647)), ('▁rese', (2647, 2652)), ('cción', (2652, 2658)), ('▁de', (2658, 2661)), ('▁la', (2661, 2664)), ('▁tumor', (2664, 2670)), ('ación', (2670, 2676)), (',', (2676, 2677)), ('▁con', (2677, 2681)), ('▁diagnóstico', (2681, 2694)), ('▁his', (2694, 2698)), ('t', (2698, 2699)), ('ológico', (2699, 2707)), ('▁de', (2707, 2710)), ('▁met', (2710, 2714)), ('ást', (2714, 2718)), ('asis', (2718, 2722)), ('▁de', (2722, 2725)), ('▁car', (2725, 2729)), ('cino', (2729, 2733)), ('ma', (2733, 2735)), ('▁epi', (2735, 2739)), ('der', (2739, 2742)), ('mo', (2742, 2744)), ('ide', (2744, 2747)), ('.', (2747, 2748))]\n",
      "\n",
      "\n",
      "[('▁El', (2749, 2751)), ('▁paciente', (2751, 2760)), ('▁completa', (2760, 2769)), ('▁tratamiento', (2769, 2781)), ('▁con', (2781, 2785)), ('▁radi', (2785, 2790)), ('oterapia', (2790, 2798)), ('▁holo', (2798, 2803)), ('cra', (2803, 2806)), ('ne', (2806, 2808)), ('al', (2808, 2810)), ('▁pali', (2810, 2815)), ('a', (2815, 2816)), ('tiva', (2816, 2820)), ('▁e', (2820, 2822)), ('▁inicia', (2822, 2829)), ('▁seguimiento', (2829, 2841)), ('▁que', (2841, 2845)), ('▁mantiene', (2845, 2854)), ('▁hasta', (2854, 2860)), ('▁la', (2860, 2863)), ('▁actualidad', (2863, 2874)), ('.', (2874, 2875))]\n",
      "\n",
      "\n"
     ]
    }
   ],
   "source": [
    "for i in range(check_id_frag, check_id_frag + dev_frag[check_id]):\n",
    "    print(list(zip([tokenizer._convert_id_to_token(int(ind)) for ind in dev_ind[i]][1:len(dev_start_end_frag[i])+1], \n",
    "               dev_start_end_frag[i])))\n",
    "    print(\"\\n\")"
   ]
  },
  {
   "cell_type": "code",
   "execution_count": 89,
   "metadata": {},
   "outputs": [
    {
     "name": "stdout",
     "output_type": "stream",
     "text": [
      "<s> ▁Ana m nesi s ▁Var ón ▁de ▁63 ▁años , ▁fum ador , ▁que ▁ing resa ▁para ▁estudio ▁en ▁febrero ▁de ▁2011 ▁ante ▁la ▁presencia ▁de ▁una ▁masa ▁in guin al ▁izquierda , ▁to s ▁esca s amente ▁product iva , ▁a st enia ▁y ▁pérdida ▁ponder al ▁de ▁8 ▁kg ▁de ▁un ▁mes ▁de ▁evolución . </s> <pad> <pad> <pad> <pad> <pad> <pad> <pad> <pad> <pad> <pad> <pad> <pad> <pad> <pad> <pad> <pad> <pad> <pad> <pad> <pad> <pad> <pad> <pad> <pad> <pad> <pad> <pad> <pad> <pad> <pad> <pad> <pad> <pad> <pad> <pad> <pad> <pad> <pad> <pad> <pad> <pad> <pad> <pad> <pad> <pad> <pad> <pad> <pad> <pad> <pad> <pad> <pad> <pad> <pad> <pad> <pad> <pad> <pad> <pad> <pad> <pad> <pad> <pad> <pad> <pad> <pad> <pad> <pad> <pad> \n",
      "\n",
      "<s> ▁Exam en ▁físico ▁Destaca ba ▁la ▁presencia ▁de ▁ade no pat ías ▁dura s ▁y ▁ad her idas ▁en ▁la ▁región ▁later oce rvi cal ▁izquierda , ▁supra cla vi cular ▁izquierda ▁e ▁in guin al ▁izquierda ▁de ▁hasta ▁1,5 ▁cm ▁de ▁tamaño . </s> <pad> <pad> <pad> <pad> <pad> <pad> <pad> <pad> <pad> <pad> <pad> <pad> <pad> <pad> <pad> <pad> <pad> <pad> <pad> <pad> <pad> <pad> <pad> <pad> <pad> <pad> <pad> <pad> <pad> <pad> <pad> <pad> <pad> <pad> <pad> <pad> <pad> <pad> <pad> <pad> <pad> <pad> <pad> <pad> <pad> <pad> <pad> <pad> <pad> <pad> <pad> <pad> <pad> <pad> <pad> <pad> <pad> <pad> <pad> <pad> <pad> <pad> <pad> <pad> <pad> <pad> <pad> <pad> <pad> <pad> <pad> <pad> <pad> <pad> <pad> <pad> <pad> <pad> <pad> <pad> <pad> <pad> \n",
      "\n",
      "<s> ▁Rest o ▁sin ▁halla z gos ▁de ▁interés . </s> <pad> <pad> <pad> <pad> <pad> <pad> <pad> <pad> <pad> <pad> <pad> <pad> <pad> <pad> <pad> <pad> <pad> <pad> <pad> <pad> <pad> <pad> <pad> <pad> <pad> <pad> <pad> <pad> <pad> <pad> <pad> <pad> <pad> <pad> <pad> <pad> <pad> <pad> <pad> <pad> <pad> <pad> <pad> <pad> <pad> <pad> <pad> <pad> <pad> <pad> <pad> <pad> <pad> <pad> <pad> <pad> <pad> <pad> <pad> <pad> <pad> <pad> <pad> <pad> <pad> <pad> <pad> <pad> <pad> <pad> <pad> <pad> <pad> <pad> <pad> <pad> <pad> <pad> <pad> <pad> <pad> <pad> <pad> <pad> <pad> <pad> <pad> <pad> <pad> <pad> <pad> <pad> <pad> <pad> <pad> <pad> <pad> <pad> <pad> <pad> <pad> <pad> <pad> <pad> <pad> <pad> <pad> <pad> <pad> <pad> <pad> <pad> <pad> <pad> <pad> <pad> <pad> \n",
      "\n",
      "<s> ▁Pru e bas ▁complementar ias ▁Se ▁completa ▁estudio ▁con ▁ana lítica ▁sang u í ne a , ▁donde ▁destaca ▁H b ▁ 9,9 ▁g / dl ▁y ▁V SG ▁120 ▁mm , ▁con ▁ser ología s ▁de ▁V HC , ▁V H B ▁y ▁VI H ▁negativa s . </s> <pad> <pad> <pad> <pad> <pad> <pad> <pad> <pad> <pad> <pad> <pad> <pad> <pad> <pad> <pad> <pad> <pad> <pad> <pad> <pad> <pad> <pad> <pad> <pad> <pad> <pad> <pad> <pad> <pad> <pad> <pad> <pad> <pad> <pad> <pad> <pad> <pad> <pad> <pad> <pad> <pad> <pad> <pad> <pad> <pad> <pad> <pad> <pad> <pad> <pad> <pad> <pad> <pad> <pad> <pad> <pad> <pad> <pad> <pad> <pad> <pad> <pad> <pad> <pad> <pad> <pad> <pad> <pad> <pad> <pad> <pad> <pad> <pad> <pad> <pad> <pad> <pad> \n",
      "\n",
      "<s> ▁En ▁la ▁radi ografía ▁de ▁tó ra x ▁se ▁aprecia ▁en gros amiento ▁hili ar ▁bilateral ▁junto ▁con ▁nó du lo ▁pulmonar ▁en ▁el ▁ló bulo ▁superior ▁iz quier do . </s> <pad> <pad> <pad> <pad> <pad> <pad> <pad> <pad> <pad> <pad> <pad> <pad> <pad> <pad> <pad> <pad> <pad> <pad> <pad> <pad> <pad> <pad> <pad> <pad> <pad> <pad> <pad> <pad> <pad> <pad> <pad> <pad> <pad> <pad> <pad> <pad> <pad> <pad> <pad> <pad> <pad> <pad> <pad> <pad> <pad> <pad> <pad> <pad> <pad> <pad> <pad> <pad> <pad> <pad> <pad> <pad> <pad> <pad> <pad> <pad> <pad> <pad> <pad> <pad> <pad> <pad> <pad> <pad> <pad> <pad> <pad> <pad> <pad> <pad> <pad> <pad> <pad> <pad> <pad> <pad> <pad> <pad> <pad> <pad> <pad> <pad> <pad> <pad> <pad> <pad> <pad> <pad> <pad> <pad> <pad> \n",
      "\n",
      "<s> ▁La ▁tom ografía ▁computa r izada ▁( TC ) ▁confirma ▁la ▁presencia ▁de ▁ade no pat ías ▁pat ológica s ▁en ▁media s tino ▁y ▁retro peri tone o , ▁así ▁como ▁de ▁una ▁masa ▁esp icul ada ▁en ▁el ▁ló bulo ▁superior ▁iz quier do . </s> <pad> <pad> <pad> <pad> <pad> <pad> <pad> <pad> <pad> <pad> <pad> <pad> <pad> <pad> <pad> <pad> <pad> <pad> <pad> <pad> <pad> <pad> <pad> <pad> <pad> <pad> <pad> <pad> <pad> <pad> <pad> <pad> <pad> <pad> <pad> <pad> <pad> <pad> <pad> <pad> <pad> <pad> <pad> <pad> <pad> <pad> <pad> <pad> <pad> <pad> <pad> <pad> <pad> <pad> <pad> <pad> <pad> <pad> <pad> <pad> <pad> <pad> <pad> <pad> <pad> <pad> <pad> <pad> <pad> <pad> <pad> <pad> <pad> <pad> <pad> <pad> <pad> <pad> <pad> \n",
      "\n",
      "<s> ▁Se ▁realiza ▁bio psi a ▁de ▁la ▁ade no pat ía ▁cer vi cal ▁que ▁confirma ▁diagnóstico ▁de ▁l info ma ▁B ▁di fuso ▁de ▁cél ula ▁grande , ▁así ▁como ▁pun ción ▁aspira tiva ▁trans to rác ica ▁de ▁masa ▁pulmonar , ▁que ▁es ▁positiva ▁para ▁car cino ma ▁epi der mo ide ▁moder a damente ▁diferencia do . </s> <pad> <pad> <pad> <pad> <pad> <pad> <pad> <pad> <pad> <pad> <pad> <pad> <pad> <pad> <pad> <pad> <pad> <pad> <pad> <pad> <pad> <pad> <pad> <pad> <pad> <pad> <pad> <pad> <pad> <pad> <pad> <pad> <pad> <pad> <pad> <pad> <pad> <pad> <pad> <pad> <pad> <pad> <pad> <pad> <pad> <pad> <pad> <pad> <pad> <pad> <pad> <pad> <pad> <pad> <pad> <pad> <pad> <pad> <pad> <pad> <pad> <pad> <pad> <pad> <pad> <pad> \n",
      "\n",
      "<s> ▁Dia g nó stico ▁L info ma ▁no ▁Hod g kin ▁B ▁di fuso ▁de ▁cél ula ▁grande ▁esta dio ▁III ▁B ▁I PI ▁3. </s> <pad> <pad> <pad> <pad> <pad> <pad> <pad> <pad> <pad> <pad> <pad> <pad> <pad> <pad> <pad> <pad> <pad> <pad> <pad> <pad> <pad> <pad> <pad> <pad> <pad> <pad> <pad> <pad> <pad> <pad> <pad> <pad> <pad> <pad> <pad> <pad> <pad> <pad> <pad> <pad> <pad> <pad> <pad> <pad> <pad> <pad> <pad> <pad> <pad> <pad> <pad> <pad> <pad> <pad> <pad> <pad> <pad> <pad> <pad> <pad> <pad> <pad> <pad> <pad> <pad> <pad> <pad> <pad> <pad> <pad> <pad> <pad> <pad> <pad> <pad> <pad> <pad> <pad> <pad> <pad> <pad> <pad> <pad> <pad> <pad> <pad> <pad> <pad> <pad> <pad> <pad> <pad> <pad> <pad> <pad> <pad> <pad> <pad> <pad> <pad> <pad> \n",
      "\n",
      "<s> ▁Car cino ma ▁de ▁pul món ▁no ▁micro cí tico ▁sub ti po ▁epi der mo ide ▁esta dio ▁III A . </s> <pad> <pad> <pad> <pad> <pad> <pad> <pad> <pad> <pad> <pad> <pad> <pad> <pad> <pad> <pad> <pad> <pad> <pad> <pad> <pad> <pad> <pad> <pad> <pad> <pad> <pad> <pad> <pad> <pad> <pad> <pad> <pad> <pad> <pad> <pad> <pad> <pad> <pad> <pad> <pad> <pad> <pad> <pad> <pad> <pad> <pad> <pad> <pad> <pad> <pad> <pad> <pad> <pad> <pad> <pad> <pad> <pad> <pad> <pad> <pad> <pad> <pad> <pad> <pad> <pad> <pad> <pad> <pad> <pad> <pad> <pad> <pad> <pad> <pad> <pad> <pad> <pad> <pad> <pad> <pad> <pad> <pad> <pad> <pad> <pad> <pad> <pad> <pad> <pad> <pad> <pad> <pad> <pad> <pad> <pad> <pad> <pad> <pad> <pad> <pad> <pad> <pad> <pad> <pad> \n",
      "\n",
      "<s> ▁Trata miento ▁Reci be ▁tratamiento ▁con ▁esquema ▁R - CHO P ▁x ▁6 ▁ciclo s ▁entre ▁febrero ▁y ▁junio ▁de ▁2011. </s> <pad> <pad> <pad> <pad> <pad> <pad> <pad> <pad> <pad> <pad> <pad> <pad> <pad> <pad> <pad> <pad> <pad> <pad> <pad> <pad> <pad> <pad> <pad> <pad> <pad> <pad> <pad> <pad> <pad> <pad> <pad> <pad> <pad> <pad> <pad> <pad> <pad> <pad> <pad> <pad> <pad> <pad> <pad> <pad> <pad> <pad> <pad> <pad> <pad> <pad> <pad> <pad> <pad> <pad> <pad> <pad> <pad> <pad> <pad> <pad> <pad> <pad> <pad> <pad> <pad> <pad> <pad> <pad> <pad> <pad> <pad> <pad> <pad> <pad> <pad> <pad> <pad> <pad> <pad> <pad> <pad> <pad> <pad> <pad> <pad> <pad> <pad> <pad> <pad> <pad> <pad> <pad> <pad> <pad> <pad> <pad> <pad> <pad> <pad> <pad> <pad> <pad> <pad> <pad> <pad> \n",
      "\n",
      "<s> ▁En ▁la ▁PET - TC ▁de ▁re evalua ción ▁se ▁objetiva ▁respuesta ▁completa ▁de ▁todas ▁las ▁les iones ▁gang lion ares , ▁except o ▁las ▁de ▁local ización ▁hili ar ▁izquierda , ▁así ▁como ▁progres ión ▁por ▁aumento ▁de ▁tamaño ▁de ▁la ▁tumor ación ▁pulmonar , ▁que ▁se ▁esta di fica ▁como ▁E III A ▁( c T 3 c N 1 M 0) . </s> <pad> <pad> <pad> <pad> <pad> <pad> <pad> <pad> <pad> <pad> <pad> <pad> <pad> <pad> <pad> <pad> <pad> <pad> <pad> <pad> <pad> <pad> <pad> <pad> <pad> <pad> <pad> <pad> <pad> <pad> <pad> <pad> <pad> <pad> <pad> <pad> <pad> <pad> <pad> <pad> <pad> <pad> <pad> <pad> <pad> <pad> <pad> <pad> <pad> <pad> <pad> <pad> <pad> <pad> <pad> <pad> <pad> <pad> <pad> <pad> <pad> \n",
      "\n",
      "<s> ▁Entre ▁julio ▁y ▁agosto ▁de ▁2011 ▁recibe ▁qui mi oterapia ▁neo ady u vante ▁con ▁esquema ▁CD DP ▁80 ▁mg / m 2 ▁i v ▁+ ▁vino rel bina ▁oral ▁60 ▁mg / m 2 ▁x ▁3 ▁ciclo s , ▁seguido ▁de ▁l obec tom ía ▁superior ▁izquierda ▁y ▁lin fa den ecto m ía ▁que ▁confirma ▁la ▁afecta ción ▁gang lion ar ▁en ▁1 /14 ▁gang li os ▁a isla dos . </s> <pad> <pad> <pad> <pad> <pad> <pad> <pad> <pad> <pad> <pad> <pad> <pad> <pad> <pad> <pad> <pad> <pad> <pad> <pad> <pad> <pad> <pad> <pad> <pad> <pad> <pad> <pad> <pad> <pad> <pad> <pad> <pad> <pad> <pad> <pad> <pad> <pad> <pad> <pad> <pad> <pad> <pad> <pad> <pad> <pad> <pad> <pad> <pad> <pad> <pad> <pad> <pad> <pad> \n",
      "\n",
      "<s> ▁Evolu ción ▁En ▁abril ▁de ▁2012, ▁tras ▁8 ▁meses ▁de ▁interval o ▁libre ▁de ▁enfermedad , ▁se ▁detecta ▁una ▁masa ▁de ▁partes ▁blanda s ▁en ▁la ▁par rilla ▁cost al ▁izquierda , ▁con ▁bio psi a ▁positiva ▁para ▁car cino ma ▁epi der mo ide . </s> <pad> <pad> <pad> <pad> <pad> <pad> <pad> <pad> <pad> <pad> <pad> <pad> <pad> <pad> <pad> <pad> <pad> <pad> <pad> <pad> <pad> <pad> <pad> <pad> <pad> <pad> <pad> <pad> <pad> <pad> <pad> <pad> <pad> <pad> <pad> <pad> <pad> <pad> <pad> <pad> <pad> <pad> <pad> <pad> <pad> <pad> <pad> <pad> <pad> <pad> <pad> <pad> <pad> <pad> <pad> <pad> <pad> <pad> <pad> <pad> <pad> <pad> <pad> <pad> <pad> <pad> <pad> <pad> <pad> <pad> <pad> <pad> <pad> <pad> <pad> <pad> <pad> <pad> <pad> <pad> \n",
      "\n",
      "<s> ▁Tras ▁descarta rse ▁res ec abilidad ▁por ▁cirugía ▁to rác ica , ▁el ▁paciente ▁recibe ▁tratamiento ▁con ▁esquema ▁car bo plati no ▁A UC 2- pac lita xel ▁80 ▁mg / m 2 ▁i v ▁semana l ▁con com it ante ▁con ▁radi oterapia ▁to rác ica , ▁con ▁respuesta ▁completa ▁radi ológica . </s> <pad> <pad> <pad> <pad> <pad> <pad> <pad> <pad> <pad> <pad> <pad> <pad> <pad> <pad> <pad> <pad> <pad> <pad> <pad> <pad> <pad> <pad> <pad> <pad> <pad> <pad> <pad> <pad> <pad> <pad> <pad> <pad> <pad> <pad> <pad> <pad> <pad> <pad> <pad> <pad> <pad> <pad> <pad> <pad> <pad> <pad> <pad> <pad> <pad> <pad> <pad> <pad> <pad> <pad> <pad> <pad> <pad> <pad> <pad> <pad> <pad> <pad> <pad> <pad> <pad> <pad> <pad> <pad> <pad> <pad> <pad> <pad> \n",
      "\n",
      "<s> ▁En ▁seguimiento ▁libre ▁de ▁progres ión ▁hasta ▁febrero ▁de ▁2013, ▁cuando ▁presenta ▁crisis ▁comic ial , ▁confirm ándose ▁en ▁la ▁res on ancia ▁mag n ética ▁( RM ) ▁cerebral ▁la ▁presencia ▁de ▁met ást asis ▁cerebral ▁única ▁en ▁el ▁ló bulo ▁temporal ▁iz quier do , ▁con ▁resto ▁de ▁estudio ▁de ▁extensión ▁negativo . </s> <pad> <pad> <pad> <pad> <pad> <pad> <pad> <pad> <pad> <pad> <pad> <pad> <pad> <pad> <pad> <pad> <pad> <pad> <pad> <pad> <pad> <pad> <pad> <pad> <pad> <pad> <pad> <pad> <pad> <pad> <pad> <pad> <pad> <pad> <pad> <pad> <pad> <pad> <pad> <pad> <pad> <pad> <pad> <pad> <pad> <pad> <pad> <pad> <pad> <pad> <pad> <pad> <pad> <pad> <pad> <pad> <pad> <pad> <pad> <pad> <pad> <pad> <pad> <pad> <pad> <pad> <pad> <pad> <pad> <pad> <pad> \n",
      "\n",
      "<s> ▁Se ▁remit e ▁a ▁Neuro ci rug ía ▁para ▁rese cción ▁de ▁la ▁tumor ación , ▁con ▁diagnóstico ▁his t ológico ▁de ▁met ást asis ▁de ▁car cino ma ▁epi der mo ide . </s> <pad> <pad> <pad> <pad> <pad> <pad> <pad> <pad> <pad> <pad> <pad> <pad> <pad> <pad> <pad> <pad> <pad> <pad> <pad> <pad> <pad> <pad> <pad> <pad> <pad> <pad> <pad> <pad> <pad> <pad> <pad> <pad> <pad> <pad> <pad> <pad> <pad> <pad> <pad> <pad> <pad> <pad> <pad> <pad> <pad> <pad> <pad> <pad> <pad> <pad> <pad> <pad> <pad> <pad> <pad> <pad> <pad> <pad> <pad> <pad> <pad> <pad> <pad> <pad> <pad> <pad> <pad> <pad> <pad> <pad> <pad> <pad> <pad> <pad> <pad> <pad> <pad> <pad> <pad> <pad> <pad> <pad> <pad> <pad> <pad> <pad> <pad> <pad> <pad> <pad> <pad> <pad> \n",
      "\n",
      "<s> ▁El ▁paciente ▁completa ▁tratamiento ▁con ▁radi oterapia ▁holo cra ne al ▁pali a tiva ▁e ▁inicia ▁seguimiento ▁que ▁mantiene ▁hasta ▁la ▁actualidad . </s> <pad> <pad> <pad> <pad> <pad> <pad> <pad> <pad> <pad> <pad> <pad> <pad> <pad> <pad> <pad> <pad> <pad> <pad> <pad> <pad> <pad> <pad> <pad> <pad> <pad> <pad> <pad> <pad> <pad> <pad> <pad> <pad> <pad> <pad> <pad> <pad> <pad> <pad> <pad> <pad> <pad> <pad> <pad> <pad> <pad> <pad> <pad> <pad> <pad> <pad> <pad> <pad> <pad> <pad> <pad> <pad> <pad> <pad> <pad> <pad> <pad> <pad> <pad> <pad> <pad> <pad> <pad> <pad> <pad> <pad> <pad> <pad> <pad> <pad> <pad> <pad> <pad> <pad> <pad> <pad> <pad> <pad> <pad> <pad> <pad> <pad> <pad> <pad> <pad> <pad> <pad> <pad> <pad> <pad> <pad> <pad> <pad> <pad> <pad> <pad> <pad> <pad> <pad> \n",
      "\n"
     ]
    }
   ],
   "source": [
    "check_id_frag = sum(dev_frag[:check_id])\n",
    "for frag in dev_ind[check_id_frag:check_id_frag + dev_frag[check_id]]:\n",
    "    print(' '.join([tokenizer._convert_id_to_token(int(ind)) for ind in frag]), \"\\n\")"
   ]
  },
  {
   "cell_type": "code",
   "execution_count": 90,
   "metadata": {},
   "outputs": [
    {
     "data": {
      "text/plain": [
       "count    8303.000000\n",
       "mean        0.294231\n",
       "std         0.586341\n",
       "min         0.000000\n",
       "25%         0.000000\n",
       "50%         0.000000\n",
       "75%         0.000000\n",
       "max         6.000000\n",
       "dtype: float64"
      ]
     },
     "execution_count": 90,
     "metadata": {},
     "output_type": "execute_result"
    }
   ],
   "source": [
    "# Fragment labels distribution\n",
    "pd.Series(np.sum(dev_y, axis=1)).describe()"
   ]
  },
  {
   "cell_type": "markdown",
   "metadata": {},
   "source": [
    "### Training & Development corpus\n",
    "\n",
    "We merge the previously generated datasets:"
   ]
  },
  {
   "cell_type": "code",
   "execution_count": 91,
   "metadata": {},
   "outputs": [],
   "source": [
    "# Indices\n",
    "train_dev_ind = np.concatenate((train_ind, dev_ind))"
   ]
  },
  {
   "cell_type": "code",
   "execution_count": 92,
   "metadata": {},
   "outputs": [
    {
     "data": {
      "text/plain": [
       "(35936, 128)"
      ]
     },
     "execution_count": 92,
     "metadata": {},
     "output_type": "execute_result"
    }
   ],
   "source": [
    "train_dev_ind.shape"
   ]
  },
  {
   "cell_type": "code",
   "execution_count": 93,
   "metadata": {},
   "outputs": [],
   "source": [
    "# Attention masks\n",
    "train_dev_att = np.concatenate((train_att, dev_att))"
   ]
  },
  {
   "cell_type": "code",
   "execution_count": 94,
   "metadata": {},
   "outputs": [
    {
     "data": {
      "text/plain": [
       "(35936, 128)"
      ]
     },
     "execution_count": 94,
     "metadata": {},
     "output_type": "execute_result"
    }
   ],
   "source": [
    "train_dev_att.shape"
   ]
  },
  {
   "cell_type": "code",
   "execution_count": 95,
   "metadata": {},
   "outputs": [],
   "source": [
    "# y\n",
    "train_dev_y = np.concatenate((train_y, dev_y))"
   ]
  },
  {
   "cell_type": "code",
   "execution_count": 96,
   "metadata": {},
   "outputs": [
    {
     "data": {
      "text/plain": [
       "(35936, 743)"
      ]
     },
     "execution_count": 96,
     "metadata": {},
     "output_type": "execute_result"
    }
   ],
   "source": [
    "train_dev_y.shape"
   ]
  },
  {
   "cell_type": "markdown",
   "metadata": {},
   "source": [
    "## Fine-tuning\n",
    "\n",
    "Using the corpus of labeled sentences, we fine-tune the model on a multi-label sentence classification task."
   ]
  },
  {
   "cell_type": "code",
   "execution_count": 98,
   "metadata": {},
   "outputs": [
    {
     "name": "stderr",
     "output_type": "stream",
     "text": [
      "All PyTorch model weights were used when initializing TFXLMRobertaForSequenceClassification.\n",
      "\n",
      "Some weights or buffers of the TF 2.0 model TFXLMRobertaForSequenceClassification were not initialized from the PyTorch model and are newly initialized: ['classifier.dense.weight', 'classifier.dense.bias', 'classifier.out_proj.weight', 'classifier.out_proj.bias']\n",
      "You should probably TRAIN this model on a down-stream task to be able to use it for predictions and inference.\n"
     ]
    }
   ],
   "source": [
    "from transformers import TFXLMRobertaForSequenceClassification\n",
    "\n",
    "model = TFXLMRobertaForSequenceClassification.from_pretrained(model_name, from_pt=True)"
   ]
  },
  {
   "cell_type": "code",
   "execution_count": 99,
   "metadata": {},
   "outputs": [
    {
     "name": "stdout",
     "output_type": "stream",
     "text": [
      "Model: \"tfxlm_roberta_for_sequence_classification\"\n",
      "_________________________________________________________________\n",
      "Layer (type)                 Output Shape              Param #   \n",
      "=================================================================\n",
      "roberta (TFRobertaMainLayer) multiple                  277453056 \n",
      "_________________________________________________________________\n",
      "classifier (TFRobertaClassif multiple                  592130    \n",
      "=================================================================\n",
      "Total params: 278,045,186\n",
      "Trainable params: 278,045,186\n",
      "Non-trainable params: 0\n",
      "_________________________________________________________________\n"
     ]
    }
   ],
   "source": [
    "model.summary()"
   ]
  },
  {
   "cell_type": "code",
   "execution_count": 100,
   "metadata": {},
   "outputs": [],
   "source": [
    "from tensorflow.keras import Input, Model\n",
    "from tensorflow.keras.layers import Dense, Activation\n",
    "from tensorflow.keras.initializers import GlorotUniform\n",
    "\n",
    "input_ids = Input(shape=(SEQ_LEN,), name='input_ids', dtype='int64')\n",
    "attention_mask = Input(shape=(SEQ_LEN,), name='attention_mask', dtype='int64')\n",
    "inputs = [input_ids, attention_mask]\n",
    "\n",
    "cls_token = model.layers[0](input_ids=inputs[0], attention_mask=inputs[1])[0][:, 0, :] # take <s> token output representation (equiv. to [CLS]) \n",
    "out_logits = Dense(units=num_labels, kernel_initializer=GlorotUniform(seed=random_seed))(cls_token) # Multi-label classification\n",
    "out_act = Activation('sigmoid')(out_logits)\n",
    "\n",
    "model = Model(inputs=[input_ids, attention_mask], outputs=out_act)"
   ]
  },
  {
   "cell_type": "code",
   "execution_count": 101,
   "metadata": {},
   "outputs": [
    {
     "name": "stdout",
     "output_type": "stream",
     "text": [
      "Model: \"model\"\n",
      "__________________________________________________________________________________________________\n",
      "Layer (type)                    Output Shape         Param #     Connected to                     \n",
      "==================================================================================================\n",
      "input_ids (InputLayer)          [(None, 128)]        0                                            \n",
      "__________________________________________________________________________________________________\n",
      "attention_mask (InputLayer)     [(None, 128)]        0                                            \n",
      "__________________________________________________________________________________________________\n",
      "roberta (TFRobertaMainLayer)    TFBaseModelOutputWit 277453056   input_ids[0][0]                  \n",
      "__________________________________________________________________________________________________\n",
      "tf_op_layer_strided_slice (Tens [(None, 768)]        0           roberta[0][0]                    \n",
      "__________________________________________________________________________________________________\n",
      "dense (Dense)                   (None, 743)          571367      tf_op_layer_strided_slice[0][0]  \n",
      "__________________________________________________________________________________________________\n",
      "activation_4 (Activation)       (None, 743)          0           dense[0][0]                      \n",
      "==================================================================================================\n",
      "Total params: 278,024,423\n",
      "Trainable params: 278,024,423\n",
      "Non-trainable params: 0\n",
      "__________________________________________________________________________________________________\n"
     ]
    }
   ],
   "source": [
    "model.summary()"
   ]
  },
  {
   "cell_type": "code",
   "execution_count": 102,
   "metadata": {},
   "outputs": [
    {
     "data": {
      "text/plain": [
       "[<tf.Tensor 'input_ids:0' shape=(None, 128) dtype=int64>,\n",
       " <tf.Tensor 'attention_mask:0' shape=(None, 128) dtype=int64>]"
      ]
     },
     "execution_count": 102,
     "metadata": {},
     "output_type": "execute_result"
    }
   ],
   "source": [
    "model.inputs"
   ]
  },
  {
   "cell_type": "code",
   "execution_count": 103,
   "metadata": {},
   "outputs": [
    {
     "data": {
      "text/plain": [
       "[<tf.Tensor 'activation_4/Identity:0' shape=(None, 743) dtype=float32>]"
      ]
     },
     "execution_count": 103,
     "metadata": {},
     "output_type": "execute_result"
    }
   ],
   "source": [
    "model.outputs"
   ]
  },
  {
   "cell_type": "code",
   "execution_count": null,
   "metadata": {},
   "outputs": [
    {
     "name": "stdout",
     "output_type": "stream",
     "text": [
      "Epoch 1/30\n",
      "2246/2246 [==============================] - 742s 330ms/step - loss: 0.0822\n",
      "Epoch 2/30\n",
      "  15/2246 [..............................] - ETA: 11:27 - loss: 0.0042"
     ]
    }
   ],
   "source": [
    "%%time\n",
    "from tensorflow.keras import optimizers, losses\n",
    "import tensorflow_addons as tfa\n",
    "\n",
    "optimizer = tfa.optimizers.RectifiedAdam(learning_rate=LR)\n",
    "loss = losses.BinaryCrossentropy(from_logits=False)\n",
    "model.compile(optimizer=optimizer, loss=loss)\n",
    "\n",
    "history = model.fit(x={'input_ids': train_dev_ind, 'attention_mask': train_dev_att}, y=train_dev_y,\n",
    "          batch_size=BATCH_SIZE, epochs=EPOCHS, shuffle=True)"
   ]
  },
  {
   "cell_type": "markdown",
   "metadata": {},
   "source": [
    "## Test set predictions\n",
    "\n",
    "Finally, the predictions made by the model on the test set are saved. For this purpose, firstly, each sentence from the test corpus must be converted into a sequence of subwords (input IDs and attention mask arrays). Then, the predictions made by the model at the sentence-level are saved, to be further evaluated at document-level (see `results/Cantemist-Coding/Evaluation.ipynb`)."
   ]
  },
  {
   "cell_type": "code",
   "execution_count": 97,
   "metadata": {},
   "outputs": [
    {
     "name": "stdout",
     "output_type": "stream",
     "text": [
      "CPU times: user 1.07 ms, sys: 8.01 ms, total: 9.08 ms\n",
      "Wall time: 8.42 ms\n"
     ]
    }
   ],
   "source": [
    "%%time\n",
    "test_path = corpus_path + \"test-set/cantemist-ner/\"\n",
    "test_files = [f for f in os.listdir(test_path) if os.path.isfile(test_path + f) and f.split('.')[-1] == 'txt']\n",
    "test_data = load_text_files(test_files, test_path)\n",
    "df_text_test = pd.DataFrame({'doc_id': [s.split('.txt')[0] for s in test_files], 'raw_text': test_data})"
   ]
  },
  {
   "cell_type": "code",
   "execution_count": 98,
   "metadata": {},
   "outputs": [
    {
     "data": {
      "text/plain": [
       "(300, 2)"
      ]
     },
     "execution_count": 98,
     "metadata": {},
     "output_type": "execute_result"
    }
   ],
   "source": [
    "df_text_test.shape"
   ]
  },
  {
   "cell_type": "code",
   "execution_count": 99,
   "metadata": {},
   "outputs": [
    {
     "data": {
      "text/html": [
       "<div>\n",
       "<style scoped>\n",
       "    .dataframe tbody tr th:only-of-type {\n",
       "        vertical-align: middle;\n",
       "    }\n",
       "\n",
       "    .dataframe tbody tr th {\n",
       "        vertical-align: top;\n",
       "    }\n",
       "\n",
       "    .dataframe thead th {\n",
       "        text-align: right;\n",
       "    }\n",
       "</style>\n",
       "<table border=\"1\" class=\"dataframe\">\n",
       "  <thead>\n",
       "    <tr style=\"text-align: right;\">\n",
       "      <th></th>\n",
       "      <th>doc_id</th>\n",
       "      <th>raw_text</th>\n",
       "    </tr>\n",
       "  </thead>\n",
       "  <tbody>\n",
       "    <tr>\n",
       "      <th>0</th>\n",
       "      <td>cc_onco877</td>\n",
       "      <td>Anamnesis\\nMujer de 59 años, alérgica a penici...</td>\n",
       "    </tr>\n",
       "    <tr>\n",
       "      <th>1</th>\n",
       "      <td>cc_onco1075</td>\n",
       "      <td>Anamnesis\\nMujer de 52 años, sin alergias cono...</td>\n",
       "    </tr>\n",
       "    <tr>\n",
       "      <th>2</th>\n",
       "      <td>cc_onco1450</td>\n",
       "      <td>Anamnesis\\nMujer de 51 años de edad, sin antec...</td>\n",
       "    </tr>\n",
       "    <tr>\n",
       "      <th>3</th>\n",
       "      <td>cc_onco1165</td>\n",
       "      <td>Anamnesis\\nPaciente varón de 75 años sin hábit...</td>\n",
       "    </tr>\n",
       "    <tr>\n",
       "      <th>4</th>\n",
       "      <td>cc_onco1298</td>\n",
       "      <td>Anamnesis\\nMujer de 60 años, exfumadora de 20 ...</td>\n",
       "    </tr>\n",
       "  </tbody>\n",
       "</table>\n",
       "</div>"
      ],
      "text/plain": [
       "        doc_id                                           raw_text\n",
       "0   cc_onco877  Anamnesis\\nMujer de 59 años, alérgica a penici...\n",
       "1  cc_onco1075  Anamnesis\\nMujer de 52 años, sin alergias cono...\n",
       "2  cc_onco1450  Anamnesis\\nMujer de 51 años de edad, sin antec...\n",
       "3  cc_onco1165  Anamnesis\\nPaciente varón de 75 años sin hábit...\n",
       "4  cc_onco1298  Anamnesis\\nMujer de 60 años, exfumadora de 20 ..."
      ]
     },
     "execution_count": 99,
     "metadata": {},
     "output_type": "execute_result"
    }
   ],
   "source": [
    "df_text_test.head()"
   ]
  },
  {
   "cell_type": "code",
   "execution_count": 100,
   "metadata": {},
   "outputs": [
    {
     "data": {
      "text/plain": [
       "'Anamnesis\\nMujer de 59 años, alérgica a penicilina y procaína. Fumadora activa (IPA: 43).\\nAntecedentes familiares: abuelo materno diagnosticado de carcinoma colon a los 70 años; madre diagnosticada de carcinoma de mama bilateral a los 50 años; padre fallecido de carcinoma gástrico a los 47 años; tres tías maternas diagnosticadas de carcinoma de mama a los 55, 56 y 57 años respectivamente; y tres primas afectas de cáncer de mama.\\nAntecedentes personales: bronquitis crónica, poliposis colónica, carcinoma ductal infiltrante clásico mama pT2pN0M0 G2 subtipo tumoral luminal a (RH: +, HER-2: negativo) intervenido en agosto de 2013 mediante tumorectomía mama izquierda (patrón round block) + biopsia selectiva ganglio centinela (negativo) y posterior QT adyuvante con esquema TC (paclitaxel-ciclofosfamida) x 4 ciclos.\\nAcude en noviembre de 2013 a visita de seguimiento tras finalizar tratamiento adyuvante. Asintomática.\\n\\nExploración física\\nTemperatura axilar 36,5ºC, tensión arterial 130/83 mm Hg, frecuencia cardiaca 90 lpm y saturación basal de oxígeno del 98 %.\\nConsciente, orientada en las tres esferas, eupneica en reposo. Buen estado general. Glasgow 15. Exploración mamaria: no se aprecian signos de inflamación, ulceración y/o asimetrías. No hay secreción ni retracción de pezón. No se palpan nódulos, masas ni adenopatías regionales. AC: tonos rítmicos, sin soplos. AP: hipoventilación en hemitórax izquierdo. Abdomen: anodino. Sin edemas ni signos de TVP en EEII.\\n\\nPruebas complementarias\\nTC con contraste: nódulos pulmonares de 10 mm en lóbulo superior derecho (LSD), que presenta amplio contacto con pleura y discreta especulación marginal (apariencia atípica para corresponder a enfermedad secundaria) y dos en lóbulo medio (LM) de bordes bien definidos, el mayor de 16 mm.\\nAnalítica general: bioquímica y hemograma sin alteraciones relevantes. Marcadores tumorales: Ca 15,3: 23,3 U/ml (0-30). CEA: 18,27 ng/ml (0-4,6).\\n\\nDiagnóstico\\n- Nódulos pulmonares a estudio.\\n- Carcinoma ductal infiltrante pT2pN0M0 luminal A.\\n\\nTratamiento\\nNo precisa tratamiento específico en este momento.\\n\\nEvolución\\nSe solicita PET/TC que confirma la existencia de nódulo de 1,3 mm en LSD con SUVmax 6,6 y nódulo de 10 mm en LM con SUVmax de 3; sin otros hallazgos.\\nTC craneoencefálica con contraste: no se evidencian imágenes que sugieran existencia de enfermedad secundaria a nivel encefálico. Espacios subaracnoideos de convexidad y sistema ventricular dentro de límites de normalidad.\\nTras presentar el caso en Comité de Tumores Tórax, se plantea intervención quirúrgica. El día 26/2/2014 se realiza resección atípica de ambos nódulos pulmonares (16 mm LSD y 12 mm LM), con resultado anatomopatológico de adenocarcinoma acinar focalmente mucosecretor de origen pulmonar G2 (perfil inmunohistoquímico, IHQ: TTF1:+). Determinación: mutación EGFR (RT-PCR Cobas®): negativa. Translocación ALK (IHQ Novocastra®): negativa.\\nTras la cirugía se solicita PET/TC que detecta hipercaptación en adenopatías 4R, 7, 10R con SUVmax hasta 4. Tras presentar el caso en comité multidisciplinar, se decide solicitar TC que no muestra hallazgos destacables y ecobroncoscopia (EBUS). Se procede a realizar punción-biopsia de adenopatías 4R y 7 resultando negativas para malignidad con hallazgos inflamatorios.\\nContinúa el seguimiento estrecho y en abril/2015 se detecta en TC nódulo pulmonar de 0,6 cm en LSD y aumento de CEA (8). En PET/TC se aprecia micronódulo LSD de 0,5 cm con SUVmax de 1,6 sospechoso de malignidad, sin más datos de enfermedad regional y/o a distancia. Se solicitan además pruebas funcionales respiratorias y broncoscopia, anodina.\\nAnte sospecha de recidiva local, se presenta nuevamente en Comité de Tumores Tórax y se plantea cirugía. Se interviene bajo anestesia general, el 25-6-2015 realizándose resección sublobar atípica en cuña de LSD, localizando nódulo en segmento posterior de LSD. El resultado anatomopatológico confirma adenocarcinoma moderadamente diferenciado de origen pulmonar pT1aN0M0 (perfil IHQ: TTF1:+, RH: -; Ki 67: 75 %). Posteriormente recibe QT adyuvante esquema cisplatino 75 mg/m2 IV d1 + VNR oral 60 mg/m2 d1y8 c/21d, x 4 ciclos con buena tolerancia y respuesta completa radiológica.\\nControles periódicos posteriores sin evidencia de enfermedad hasta que en mayo/2017 aparece en TC progresión de enfermedad con aparición de masa pulmonar izquierda, nódulos pulmonares metastásicos bilaterales, afectación metastásica ganglionar mediastínica e hiliar izquierda con diseminación ósea. Múltiples adenopatías y conglomerados mediastínicos, lesión blástica en cuerpo vertebral T5.\\nDurante la exploración física, destacaba palpación de conglomerado adenopático en región supraclavicular izquierda doloroso en la palpación.\\nSe solicitó determinación de perfil genómico con material de la biopsia de pieza quirúrgica tumoral previa a través de la plataforma Next Generation Sequencing (NGS) FoundationOne® en el que se identificaron amplificación ERBB2, mutación BRCA-1 (variante D1692fs*10), amplificación MYC, mutación TP53 (splicesite 920-1G>T), además de una alta carga mutacional (TMB-High; 42Muts/Mb).\\nSe solicitó adicionalmente determinación por inmunohistoquímica de PD-L1, encontrando expresión del mismo en menos del 1 % (sin expresión).\\nSe confirma en gammagrafía ósea presencia de múltiples metástasis óseas distribuidas en calota, parrilla costal, raquis, esternón, ambos húmeros, pelvis y fémur derecho.\\nCon todos los hallazgos clínico-radiológicos y perfil genómico e IHQ tumoral, valorando las diferentes opciones terapéuticas, se decide iniciar primera línea de QT paliativa con esquema carboplatino AUC-5+ pemetrexed 500 mg/m2 IV d1 c/21d + ácido zoledrónico 4 mg IV.\\nEn la actualidad, ha completado 2 ciclos con buena tolerancia y se ha solicitado radioterapia paliativa antiálgica sobre lesiones óseas pélvicas, debido al mal control del dolor a pesar de analgesia de tercer escalón.'"
      ]
     },
     "execution_count": 100,
     "metadata": {},
     "output_type": "execute_result"
    }
   ],
   "source": [
    "df_text_test.raw_text[0]"
   ]
  },
  {
   "cell_type": "code",
   "execution_count": 101,
   "metadata": {},
   "outputs": [],
   "source": [
    "test_doc_list = sorted(set(df_text_test[\"doc_id\"]))"
   ]
  },
  {
   "cell_type": "code",
   "execution_count": 102,
   "metadata": {},
   "outputs": [
    {
     "data": {
      "text/plain": [
       "300"
      ]
     },
     "execution_count": 102,
     "metadata": {},
     "output_type": "execute_result"
    }
   ],
   "source": [
    "len(test_doc_list)"
   ]
  },
  {
   "cell_type": "code",
   "execution_count": 103,
   "metadata": {},
   "outputs": [
    {
     "name": "stdout",
     "output_type": "stream",
     "text": [
      "CPU times: user 126 ms, sys: 36.1 ms, total: 162 ms\n",
      "Wall time: 161 ms\n"
     ]
    }
   ],
   "source": [
    "%%time\n",
    "ss_sub_corpus_path = ss_corpus_path + \"test-background/\"\n",
    "ss_files = [f for f in os.listdir(ss_sub_corpus_path) if os.path.isfile(ss_sub_corpus_path + f)]\n",
    "ss_dict_test = load_ss_files(ss_files, ss_sub_corpus_path)"
   ]
  },
  {
   "cell_type": "code",
   "execution_count": 104,
   "metadata": {},
   "outputs": [
    {
     "name": "stderr",
     "output_type": "stream",
     "text": [
      "100%|██████████| 300/300 [00:02<00:00, 135.27it/s]"
     ]
    },
    {
     "name": "stdout",
     "output_type": "stream",
     "text": [
      "CPU times: user 2.35 s, sys: 44.1 ms, total: 2.39 s\n",
      "Wall time: 2.37 s\n"
     ]
    },
    {
     "name": "stderr",
     "output_type": "stream",
     "text": [
      "\n"
     ]
    }
   ],
   "source": [
    "%%time\n",
    "test_ind, test_att, _, test_frag, _ = ss_create_frag_input_data_xlmr(df_text=df_text_test, \n",
    "                                                  text_col=text_col,\n",
    "                                                  # Since labels are ignored, we pass df_codes_train_ner as df_ann\n",
    "                                                  df_ann=df_codes_train_ner, doc_list=test_doc_list, ss_dict=ss_dict_test,\n",
    "                                                  tokenizer=tokenizer, sp_pb2=spt, lab_encoder=mlb_encoder, seq_len=SEQ_LEN)"
   ]
  },
  {
   "cell_type": "code",
   "execution_count": null,
   "metadata": {},
   "outputs": [],
   "source": [
    "%%time\n",
    "test_preds = model.predict({'input_ids': test_ind, 'attention_mask': test_att})"
   ]
  },
  {
   "cell_type": "code",
   "execution_count": 120,
   "metadata": {},
   "outputs": [
    {
     "data": {
      "text/plain": [
       "(3955, 727)"
      ]
     },
     "execution_count": 120,
     "metadata": {},
     "output_type": "execute_result"
    }
   ],
   "source": [
    "test_preds.shape"
   ]
  },
  {
   "cell_type": "code",
   "execution_count": 105,
   "metadata": {},
   "outputs": [],
   "source": [
    "results_dir_path = \"../results/Cantemist-Coding/\""
   ]
  },
  {
   "cell_type": "code",
   "execution_count": 178,
   "metadata": {},
   "outputs": [
    {
     "name": "stdout",
     "output_type": "stream",
     "text": [
      "CPU times: user 2.21 ms, sys: 4.65 ms, total: 6.87 ms\n",
      "Wall time: 6.02 ms\n"
     ]
    }
   ],
   "source": [
    "%%time\n",
    "np.save(file=results_dir_path + \"predictions/xlm_r_galen_seed_\" + str(random_seed) + \"_test_preds.npy\", arr=test_preds)"
   ]
  }
 ],
 "metadata": {
  "kernelspec": {
   "display_name": "Python 3",
   "language": "python",
   "name": "python3"
  },
  "language_info": {
   "codemirror_mode": {
    "name": "ipython",
    "version": 3
   },
   "file_extension": ".py",
   "mimetype": "text/x-python",
   "name": "python",
   "nbconvert_exporter": "python",
   "pygments_lexer": "ipython3",
   "version": "3.7.9"
  }
 },
 "nbformat": 4,
 "nbformat_minor": 4
}
