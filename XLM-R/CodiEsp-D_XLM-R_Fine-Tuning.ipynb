{
 "cells": [
  {
   "cell_type": "markdown",
   "metadata": {},
   "source": [
    "# Fine-tuning XLM-R on CodiEsp-D\n",
    "\n",
    "In this notebook, following a multi-label sequence classification approach, the XLM-R model is fine-tuned on both the training and development sets of the CodiEsp-D corpus. Additionally, the predictions made by the model on the test set are saved, in order to futher evaluate the clinical coding performance of the model (see `results/CodiEsp-D/Evaluation.ipynb`)."
   ]
  },
  {
   "cell_type": "code",
   "execution_count": 1,
   "metadata": {},
   "outputs": [],
   "source": [
    "import tensorflow as tf\n",
    "\n",
    "# Auxiliary components\n",
    "import sys\n",
    "sys.path.append(\"..\")\n",
    "from nlp_utils import *\n",
    "\n",
    "# XLM-R tokenizer\n",
    "from transformers import XLMRobertaTokenizer\n",
    "import sentencepiece_pb2\n",
    "model_name = \"xlm-roberta-base\"\n",
    "tokenizer = XLMRobertaTokenizer.from_pretrained(model_name)\n",
    "spt = sentencepiece_pb2.SentencePieceText()\n",
    "\n",
    "# Hyper-parameters\n",
    "text_col = \"raw_text\"\n",
    "SEQ_LEN = 128\n",
    "BATCH_SIZE = 16\n",
    "EPOCHS = 37\n",
    "LR = 3e-5\n",
    "train_weight = 4\n",
    "all_abs_weight = 1\n",
    "\n",
    "random_seed = 0\n",
    "tf.random.set_seed(random_seed)"
   ]
  },
  {
   "cell_type": "markdown",
   "metadata": {},
   "source": [
    "## Load text\n",
    "\n",
    "Firstly, all text files from training and development CodiEsp corpora are loaded in different dataframes.\n",
    "\n",
    "Also, CIE-Diagnóstico codes are loaded."
   ]
  },
  {
   "cell_type": "code",
   "execution_count": 2,
   "metadata": {},
   "outputs": [],
   "source": [
    "corpus_path = \"../datasets/codiesp_v4/\"\n",
    "abs_corpus_path = \"../datasets/abstractsWithCIE10_v2/\""
   ]
  },
  {
   "cell_type": "markdown",
   "metadata": {},
   "source": [
    "### Training corpus"
   ]
  },
  {
   "cell_type": "code",
   "execution_count": 3,
   "metadata": {},
   "outputs": [
    {
     "name": "stdout",
     "output_type": "stream",
     "text": [
      "CPU times: user 3.74 ms, sys: 8.12 ms, total: 11.9 ms\n",
      "Wall time: 11.5 ms\n"
     ]
    }
   ],
   "source": [
    "%%time\n",
    "train_path = corpus_path + \"train/text_files/\"\n",
    "train_files = [f for f in os.listdir(train_path) if os.path.isfile(train_path + f)]\n",
    "train_data = load_text_files(train_files, train_path)\n",
    "df_text_train = pd.DataFrame({'doc_id': [s.split('.txt')[0] for s in train_files], 'raw_text': train_data})"
   ]
  },
  {
   "cell_type": "code",
   "execution_count": 4,
   "metadata": {},
   "outputs": [
    {
     "data": {
      "text/plain": [
       "(500, 2)"
      ]
     },
     "execution_count": 4,
     "metadata": {},
     "output_type": "execute_result"
    }
   ],
   "source": [
    "df_text_train.shape"
   ]
  },
  {
   "cell_type": "code",
   "execution_count": 5,
   "metadata": {},
   "outputs": [
    {
     "data": {
      "text/html": [
       "<div>\n",
       "<style scoped>\n",
       "    .dataframe tbody tr th:only-of-type {\n",
       "        vertical-align: middle;\n",
       "    }\n",
       "\n",
       "    .dataframe tbody tr th {\n",
       "        vertical-align: top;\n",
       "    }\n",
       "\n",
       "    .dataframe thead th {\n",
       "        text-align: right;\n",
       "    }\n",
       "</style>\n",
       "<table border=\"1\" class=\"dataframe\">\n",
       "  <thead>\n",
       "    <tr style=\"text-align: right;\">\n",
       "      <th></th>\n",
       "      <th>doc_id</th>\n",
       "      <th>raw_text</th>\n",
       "    </tr>\n",
       "  </thead>\n",
       "  <tbody>\n",
       "    <tr>\n",
       "      <th>0</th>\n",
       "      <td>S0365-66912006000600011-1</td>\n",
       "      <td>Un varón de 13 años es remitido para valoració...</td>\n",
       "    </tr>\n",
       "    <tr>\n",
       "      <th>1</th>\n",
       "      <td>S1139-13752009000200010-2</td>\n",
       "      <td>Paciente de 42 años diagnosticado de pancoliti...</td>\n",
       "    </tr>\n",
       "    <tr>\n",
       "      <th>2</th>\n",
       "      <td>S1130-05582017000100037-1</td>\n",
       "      <td>Varón de 72 años, sin antecedentes médicos de ...</td>\n",
       "    </tr>\n",
       "    <tr>\n",
       "      <th>3</th>\n",
       "      <td>S1139-76322016000300015-1</td>\n",
       "      <td>Lactante de ocho días cuyos padres consultan p...</td>\n",
       "    </tr>\n",
       "    <tr>\n",
       "      <th>4</th>\n",
       "      <td>S0211-69952011000100019-1</td>\n",
       "      <td>Mujer de 47 años de edad con antecedentes de g...</td>\n",
       "    </tr>\n",
       "  </tbody>\n",
       "</table>\n",
       "</div>"
      ],
      "text/plain": [
       "                      doc_id  \\\n",
       "0  S0365-66912006000600011-1   \n",
       "1  S1139-13752009000200010-2   \n",
       "2  S1130-05582017000100037-1   \n",
       "3  S1139-76322016000300015-1   \n",
       "4  S0211-69952011000100019-1   \n",
       "\n",
       "                                            raw_text  \n",
       "0  Un varón de 13 años es remitido para valoració...  \n",
       "1  Paciente de 42 años diagnosticado de pancoliti...  \n",
       "2  Varón de 72 años, sin antecedentes médicos de ...  \n",
       "3  Lactante de ocho días cuyos padres consultan p...  \n",
       "4  Mujer de 47 años de edad con antecedentes de g...  "
      ]
     },
     "execution_count": 5,
     "metadata": {},
     "output_type": "execute_result"
    }
   ],
   "source": [
    "df_text_train.head()"
   ]
  },
  {
   "cell_type": "code",
   "execution_count": 6,
   "metadata": {},
   "outputs": [
    {
     "data": {
      "text/plain": [
       "'Un varón de 13 años es remitido para valoración oftalmológica por mala visión. Fenotípicamente era un niño de talla corta con una estatura de 133 cm, braquimorfia y braquidactilia en las cuatro extremidades.\\nEl paciente presentaba un error refractivo corregido de -13,00 -6,50 a 1º en el ojo derecho y de -16,00-6,25 a 179º en el izquierdo. Con dicha corrección alcanzaba una agudeza visual de 0,4 y 0,2 respectivamente. No existía diplopía monocular ni hallazgos en la motilidad ocular extrínseca e intrínseca.\\nEl diámetro corneal horizontal era de 12,0 mm en ambos ojos y la paquimetría de 613 y 611 micras respectivamente. La cámara anterior era estrecha, apreciándose iridofacodonesis bilateral. Se evidenció microesferofaquia con desplazamiento anterior de ambos cristalinos dentro de la cámara posterior.\\nLa presión intraocular era de 20 mmHg bilateralmente. Gonioscópicamente se apreció un ángulo estrecho simétrico en ambos ojos grado II según Schaffer.\\nLa exploración mediante topógrafo Orbscan-II (Topógrafo corneal, Baush and Lomb, U.S.A.) y el examen del fondo de ojo no mostraron alteraciones.\\nComo prevención del cierre angular se realizó una iridotomía láser Nd:YAG en ambos ojos a las 10 y 2 horas respectivamente. Dada la estabilidad de la visión y la ausencia de diplopía se adoptó una actitud conservadora de acuerdo con el deseo de la familia del paciente mediante control de la agudeza visual, presión intraocular, documentación fotográfica y la realización de campos visuales para detectar la aparición de daño glaucomatoso.\\nRevisando sus antecentes familiares se identificó al paciente como el menor de una familia de ocho hermanos, en la que -además del mencionado- un hermano y dos hermanas presentaban esferofaquia, braquimorfia y braquidactilia. Los padres eran sanos y ninguno de los hijos ha tenido descendencia.\\n\\n'"
      ]
     },
     "execution_count": 6,
     "metadata": {},
     "output_type": "execute_result"
    }
   ],
   "source": [
    "df_text_train.raw_text[0]"
   ]
  },
  {
   "cell_type": "markdown",
   "metadata": {},
   "source": [
    "We also load the CIE-Diagnóstico codes table:"
   ]
  },
  {
   "cell_type": "code",
   "execution_count": 7,
   "metadata": {},
   "outputs": [],
   "source": [
    "df_codes_train = pd.read_table(corpus_path + \"train/trainD.tsv\", sep='\\t', header=None)"
   ]
  },
  {
   "cell_type": "code",
   "execution_count": 8,
   "metadata": {},
   "outputs": [],
   "source": [
    "df_codes_train.columns = [\"doc_id\", \"code\"]"
   ]
  },
  {
   "cell_type": "code",
   "execution_count": 9,
   "metadata": {},
   "outputs": [
    {
     "data": {
      "text/plain": [
       "(5639, 2)"
      ]
     },
     "execution_count": 9,
     "metadata": {},
     "output_type": "execute_result"
    }
   ],
   "source": [
    "df_codes_train.shape"
   ]
  },
  {
   "cell_type": "code",
   "execution_count": 10,
   "metadata": {},
   "outputs": [
    {
     "data": {
      "text/html": [
       "<div>\n",
       "<style scoped>\n",
       "    .dataframe tbody tr th:only-of-type {\n",
       "        vertical-align: middle;\n",
       "    }\n",
       "\n",
       "    .dataframe tbody tr th {\n",
       "        vertical-align: top;\n",
       "    }\n",
       "\n",
       "    .dataframe thead th {\n",
       "        text-align: right;\n",
       "    }\n",
       "</style>\n",
       "<table border=\"1\" class=\"dataframe\">\n",
       "  <thead>\n",
       "    <tr style=\"text-align: right;\">\n",
       "      <th></th>\n",
       "      <th>doc_id</th>\n",
       "      <th>code</th>\n",
       "    </tr>\n",
       "  </thead>\n",
       "  <tbody>\n",
       "    <tr>\n",
       "      <th>0</th>\n",
       "      <td>S0004-06142005000700014-1</td>\n",
       "      <td>n44.8</td>\n",
       "    </tr>\n",
       "    <tr>\n",
       "      <th>1</th>\n",
       "      <td>S0004-06142005000700014-1</td>\n",
       "      <td>z20.818</td>\n",
       "    </tr>\n",
       "    <tr>\n",
       "      <th>2</th>\n",
       "      <td>S0004-06142005000700014-1</td>\n",
       "      <td>r60.9</td>\n",
       "    </tr>\n",
       "    <tr>\n",
       "      <th>3</th>\n",
       "      <td>S0004-06142005000700014-1</td>\n",
       "      <td>r52</td>\n",
       "    </tr>\n",
       "    <tr>\n",
       "      <th>4</th>\n",
       "      <td>S0004-06142005000700014-1</td>\n",
       "      <td>a23.9</td>\n",
       "    </tr>\n",
       "  </tbody>\n",
       "</table>\n",
       "</div>"
      ],
      "text/plain": [
       "                      doc_id     code\n",
       "0  S0004-06142005000700014-1    n44.8\n",
       "1  S0004-06142005000700014-1  z20.818\n",
       "2  S0004-06142005000700014-1    r60.9\n",
       "3  S0004-06142005000700014-1      r52\n",
       "4  S0004-06142005000700014-1    a23.9"
      ]
     },
     "execution_count": 10,
     "metadata": {},
     "output_type": "execute_result"
    }
   ],
   "source": [
    "df_codes_train.head()"
   ]
  },
  {
   "cell_type": "code",
   "execution_count": 11,
   "metadata": {},
   "outputs": [
    {
     "data": {
      "text/plain": [
       "500"
      ]
     },
     "execution_count": 11,
     "metadata": {},
     "output_type": "execute_result"
    }
   ],
   "source": [
    "len(set(df_codes_train[\"doc_id\"]))"
   ]
  },
  {
   "cell_type": "markdown",
   "metadata": {},
   "source": [
    "### Development corpus"
   ]
  },
  {
   "cell_type": "code",
   "execution_count": 12,
   "metadata": {},
   "outputs": [
    {
     "name": "stdout",
     "output_type": "stream",
     "text": [
      "CPU times: user 5.72 ms, sys: 0 ns, total: 5.72 ms\n",
      "Wall time: 5.44 ms\n"
     ]
    }
   ],
   "source": [
    "%%time\n",
    "dev_path = corpus_path + \"dev/text_files/\"\n",
    "dev_files = [f for f in os.listdir(dev_path) if os.path.isfile(dev_path + f)]\n",
    "dev_data = load_text_files(dev_files, dev_path)\n",
    "df_text_dev = pd.DataFrame({'doc_id': [s.split('.txt')[0] for s in dev_files], 'raw_text': dev_data})"
   ]
  },
  {
   "cell_type": "code",
   "execution_count": 13,
   "metadata": {},
   "outputs": [
    {
     "data": {
      "text/plain": [
       "(250, 2)"
      ]
     },
     "execution_count": 13,
     "metadata": {},
     "output_type": "execute_result"
    }
   ],
   "source": [
    "df_text_dev.shape"
   ]
  },
  {
   "cell_type": "code",
   "execution_count": 14,
   "metadata": {},
   "outputs": [
    {
     "data": {
      "text/html": [
       "<div>\n",
       "<style scoped>\n",
       "    .dataframe tbody tr th:only-of-type {\n",
       "        vertical-align: middle;\n",
       "    }\n",
       "\n",
       "    .dataframe tbody tr th {\n",
       "        vertical-align: top;\n",
       "    }\n",
       "\n",
       "    .dataframe thead th {\n",
       "        text-align: right;\n",
       "    }\n",
       "</style>\n",
       "<table border=\"1\" class=\"dataframe\">\n",
       "  <thead>\n",
       "    <tr style=\"text-align: right;\">\n",
       "      <th></th>\n",
       "      <th>doc_id</th>\n",
       "      <th>raw_text</th>\n",
       "    </tr>\n",
       "  </thead>\n",
       "  <tbody>\n",
       "    <tr>\n",
       "      <th>0</th>\n",
       "      <td>S1130-63432016000600013-1</td>\n",
       "      <td>Varón de 75 años, con antecedentes de hiperuri...</td>\n",
       "    </tr>\n",
       "    <tr>\n",
       "      <th>1</th>\n",
       "      <td>S0365-66912003000600010-1</td>\n",
       "      <td>Paciente de 33 años de edad, gestante de 34 se...</td>\n",
       "    </tr>\n",
       "    <tr>\n",
       "      <th>2</th>\n",
       "      <td>S0211-69952012000200030-1</td>\n",
       "      <td>Mujer de 67 años con múltiples factores de rie...</td>\n",
       "    </tr>\n",
       "    <tr>\n",
       "      <th>3</th>\n",
       "      <td>S0365-66912004000900009-1</td>\n",
       "      <td>Paciente de 55 años que acudió a urgencias por...</td>\n",
       "    </tr>\n",
       "    <tr>\n",
       "      <th>4</th>\n",
       "      <td>S1139-76322016000300016-2</td>\n",
       "      <td>Lactante de 1 mes y 29 días, sin antecedentes ...</td>\n",
       "    </tr>\n",
       "  </tbody>\n",
       "</table>\n",
       "</div>"
      ],
      "text/plain": [
       "                      doc_id  \\\n",
       "0  S1130-63432016000600013-1   \n",
       "1  S0365-66912003000600010-1   \n",
       "2  S0211-69952012000200030-1   \n",
       "3  S0365-66912004000900009-1   \n",
       "4  S1139-76322016000300016-2   \n",
       "\n",
       "                                            raw_text  \n",
       "0  Varón de 75 años, con antecedentes de hiperuri...  \n",
       "1  Paciente de 33 años de edad, gestante de 34 se...  \n",
       "2  Mujer de 67 años con múltiples factores de rie...  \n",
       "3  Paciente de 55 años que acudió a urgencias por...  \n",
       "4  Lactante de 1 mes y 29 días, sin antecedentes ...  "
      ]
     },
     "execution_count": 14,
     "metadata": {},
     "output_type": "execute_result"
    }
   ],
   "source": [
    "df_text_dev.head()"
   ]
  },
  {
   "cell_type": "code",
   "execution_count": 15,
   "metadata": {},
   "outputs": [
    {
     "data": {
      "text/plain": [
       "'Varón de 75 años, con antecedentes de hiperuricemia en tratamiento con Alopurinol que ingresa para realización de resección transuretral de próstata.\\nPostoperatorio inmediato sin incidencias con tratamiento con Pantoprazol, Ciprofloxacino, Paracetamol, Enantyum y Alopurinol. Al cuarto día de postoperatorio presenta mareos, temblor con componente mioclónico en extremidades y tronco e incapacidad para caminar, sin verse alteraciones analíticas. En esta situación se pauta Rivotril y se suspende el tratamiento con Ciprofloxacino, desapareciendo la clínica mioclónica y mejorando el estado del paciente, por lo que se decide el alta hospitalaria.\\n\\n'"
      ]
     },
     "execution_count": 15,
     "metadata": {},
     "output_type": "execute_result"
    }
   ],
   "source": [
    "df_text_dev.raw_text[0]"
   ]
  },
  {
   "cell_type": "markdown",
   "metadata": {},
   "source": [
    "We also load the CIE-Diagnóstico codes table:"
   ]
  },
  {
   "cell_type": "code",
   "execution_count": 16,
   "metadata": {},
   "outputs": [],
   "source": [
    "df_codes_dev = pd.read_table(corpus_path + \"dev/devD.tsv\", sep='\\t', header=None)"
   ]
  },
  {
   "cell_type": "code",
   "execution_count": 17,
   "metadata": {},
   "outputs": [],
   "source": [
    "df_codes_dev.columns = [\"doc_id\", \"code\"]"
   ]
  },
  {
   "cell_type": "code",
   "execution_count": 18,
   "metadata": {},
   "outputs": [
    {
     "data": {
      "text/plain": [
       "(2677, 2)"
      ]
     },
     "execution_count": 18,
     "metadata": {},
     "output_type": "execute_result"
    }
   ],
   "source": [
    "df_codes_dev.shape"
   ]
  },
  {
   "cell_type": "code",
   "execution_count": 19,
   "metadata": {},
   "outputs": [
    {
     "data": {
      "text/html": [
       "<div>\n",
       "<style scoped>\n",
       "    .dataframe tbody tr th:only-of-type {\n",
       "        vertical-align: middle;\n",
       "    }\n",
       "\n",
       "    .dataframe tbody tr th {\n",
       "        vertical-align: top;\n",
       "    }\n",
       "\n",
       "    .dataframe thead th {\n",
       "        text-align: right;\n",
       "    }\n",
       "</style>\n",
       "<table border=\"1\" class=\"dataframe\">\n",
       "  <thead>\n",
       "    <tr style=\"text-align: right;\">\n",
       "      <th></th>\n",
       "      <th>doc_id</th>\n",
       "      <th>code</th>\n",
       "    </tr>\n",
       "  </thead>\n",
       "  <tbody>\n",
       "    <tr>\n",
       "      <th>0</th>\n",
       "      <td>S0004-06142005000900016-1</td>\n",
       "      <td>q62.11</td>\n",
       "    </tr>\n",
       "    <tr>\n",
       "      <th>1</th>\n",
       "      <td>S0004-06142005000900016-1</td>\n",
       "      <td>n28.89</td>\n",
       "    </tr>\n",
       "    <tr>\n",
       "      <th>2</th>\n",
       "      <td>S0004-06142005000900016-1</td>\n",
       "      <td>n39.0</td>\n",
       "    </tr>\n",
       "    <tr>\n",
       "      <th>3</th>\n",
       "      <td>S0004-06142005000900016-1</td>\n",
       "      <td>r31.9</td>\n",
       "    </tr>\n",
       "    <tr>\n",
       "      <th>4</th>\n",
       "      <td>S0004-06142005000900016-1</td>\n",
       "      <td>n23</td>\n",
       "    </tr>\n",
       "  </tbody>\n",
       "</table>\n",
       "</div>"
      ],
      "text/plain": [
       "                      doc_id    code\n",
       "0  S0004-06142005000900016-1  q62.11\n",
       "1  S0004-06142005000900016-1  n28.89\n",
       "2  S0004-06142005000900016-1   n39.0\n",
       "3  S0004-06142005000900016-1   r31.9\n",
       "4  S0004-06142005000900016-1     n23"
      ]
     },
     "execution_count": 19,
     "metadata": {},
     "output_type": "execute_result"
    }
   ],
   "source": [
    "df_codes_dev.head()"
   ]
  },
  {
   "cell_type": "code",
   "execution_count": 20,
   "metadata": {},
   "outputs": [
    {
     "data": {
      "text/plain": [
       "250"
      ]
     },
     "execution_count": 20,
     "metadata": {},
     "output_type": "execute_result"
    }
   ],
   "source": [
    "len(set(df_codes_dev[\"doc_id\"]))"
   ]
  },
  {
   "cell_type": "markdown",
   "metadata": {},
   "source": [
    "### Train-Dev abstracts corpus\n",
    "\n",
    "From the additional abstracts corpus, we load the text from the abstracts containing CIE-Diagnóstico codes which are present either in the training or development CodiEsp-D corpora:"
   ]
  },
  {
   "cell_type": "code",
   "execution_count": 21,
   "metadata": {},
   "outputs": [
    {
     "name": "stdout",
     "output_type": "stream",
     "text": [
      "CPU times: user 1.58 s, sys: 124 ms, total: 1.7 s\n",
      "Wall time: 1.7 s\n"
     ]
    }
   ],
   "source": [
    "%%time\n",
    "df_text_all_abs = pd.read_table(abs_corpus_path + \"train_dev_abstracts_text.tsv\", sep='\\t')"
   ]
  },
  {
   "cell_type": "code",
   "execution_count": 22,
   "metadata": {},
   "outputs": [
    {
     "data": {
      "text/plain": [
       "(100397, 3)"
      ]
     },
     "execution_count": 22,
     "metadata": {},
     "output_type": "execute_result"
    }
   ],
   "source": [
    "df_text_all_abs.shape"
   ]
  },
  {
   "cell_type": "markdown",
   "metadata": {},
   "source": [
    "We only select the abstracts with a subtokens sequence length <= the maximum input sequence size used by the XLM-R model (128 subtokens):"
   ]
  },
  {
   "cell_type": "code",
   "execution_count": 23,
   "metadata": {},
   "outputs": [],
   "source": [
    "all_abs_doc_one_frag = set(pd.read_table(abs_corpus_path + \"all_abstracts_seq_len_xlm_r_128.tsv\", \n",
    "                                               sep='\\t', header=None)[0])"
   ]
  },
  {
   "cell_type": "code",
   "execution_count": 24,
   "metadata": {},
   "outputs": [
    {
     "data": {
      "text/plain": [
       "20438"
      ]
     },
     "execution_count": 24,
     "metadata": {},
     "output_type": "execute_result"
    }
   ],
   "source": [
    "len(all_abs_doc_one_frag)"
   ]
  },
  {
   "cell_type": "code",
   "execution_count": 25,
   "metadata": {},
   "outputs": [],
   "source": [
    "df_text_all_abs = df_text_all_abs[df_text_all_abs[\"doc_id\"].isin(all_abs_doc_one_frag)]"
   ]
  },
  {
   "cell_type": "code",
   "execution_count": 26,
   "metadata": {},
   "outputs": [
    {
     "data": {
      "text/plain": [
       "(13339, 3)"
      ]
     },
     "execution_count": 26,
     "metadata": {},
     "output_type": "execute_result"
    }
   ],
   "source": [
    "df_text_all_abs.shape"
   ]
  },
  {
   "cell_type": "code",
   "execution_count": 27,
   "metadata": {},
   "outputs": [
    {
     "data": {
      "text/html": [
       "<div>\n",
       "<style scoped>\n",
       "    .dataframe tbody tr th:only-of-type {\n",
       "        vertical-align: middle;\n",
       "    }\n",
       "\n",
       "    .dataframe tbody tr th {\n",
       "        vertical-align: top;\n",
       "    }\n",
       "\n",
       "    .dataframe thead th {\n",
       "        text-align: right;\n",
       "    }\n",
       "</style>\n",
       "<table border=\"1\" class=\"dataframe\">\n",
       "  <thead>\n",
       "    <tr style=\"text-align: right;\">\n",
       "      <th></th>\n",
       "      <th>doc_id</th>\n",
       "      <th>raw_text</th>\n",
       "      <th>punc_text</th>\n",
       "    </tr>\n",
       "  </thead>\n",
       "  <tbody>\n",
       "    <tr>\n",
       "      <th>38</th>\n",
       "      <td>biblio-1000756</td>\n",
       "      <td>Este libro es el resultado de un trabajo minuc...</td>\n",
       "      <td>Este libro es el resultado de un trabajo minuc...</td>\n",
       "    </tr>\n",
       "    <tr>\n",
       "      <th>48</th>\n",
       "      <td>biblio-1002637</td>\n",
       "      <td>Se efectuó una revisión actualizada sobre el d...</td>\n",
       "      <td>Se efectuó una revisión actualizada sobre el d...</td>\n",
       "    </tr>\n",
       "    <tr>\n",
       "      <th>105</th>\n",
       "      <td>biblio-1005037</td>\n",
       "      <td>La microlitiasis testicular (TM) es una patolo...</td>\n",
       "      <td>La microlitiasis testicular TM es una patologí...</td>\n",
       "    </tr>\n",
       "    <tr>\n",
       "      <th>115</th>\n",
       "      <td>biblio-1005118</td>\n",
       "      <td>Se proponen algunas consideraciones teóricas s...</td>\n",
       "      <td>Se proponen algunas consideraciones teóricas s...</td>\n",
       "    </tr>\n",
       "    <tr>\n",
       "      <th>144</th>\n",
       "      <td>biblio-1005452</td>\n",
       "      <td>Objetivo: entender la relación entre la depres...</td>\n",
       "      <td>Objetivo entender la relación entre la depresi...</td>\n",
       "    </tr>\n",
       "  </tbody>\n",
       "</table>\n",
       "</div>"
      ],
      "text/plain": [
       "             doc_id                                           raw_text  \\\n",
       "38   biblio-1000756  Este libro es el resultado de un trabajo minuc...   \n",
       "48   biblio-1002637  Se efectuó una revisión actualizada sobre el d...   \n",
       "105  biblio-1005037  La microlitiasis testicular (TM) es una patolo...   \n",
       "115  biblio-1005118  Se proponen algunas consideraciones teóricas s...   \n",
       "144  biblio-1005452  Objetivo: entender la relación entre la depres...   \n",
       "\n",
       "                                             punc_text  \n",
       "38   Este libro es el resultado de un trabajo minuc...  \n",
       "48   Se efectuó una revisión actualizada sobre el d...  \n",
       "105  La microlitiasis testicular TM es una patologí...  \n",
       "115  Se proponen algunas consideraciones teóricas s...  \n",
       "144  Objetivo entender la relación entre la depresi...  "
      ]
     },
     "execution_count": 27,
     "metadata": {},
     "output_type": "execute_result"
    }
   ],
   "source": [
    "df_text_all_abs.head()"
   ]
  },
  {
   "cell_type": "markdown",
   "metadata": {},
   "source": [
    "We also load the CIE-Diagnóstico codes from the previously loaded abstracts:"
   ]
  },
  {
   "cell_type": "code",
   "execution_count": 28,
   "metadata": {},
   "outputs": [],
   "source": [
    "df_codes_d_all_abs = pd.read_table(abs_corpus_path + \"train_dev_abstracts_codes.tsv\", sep='\\t', \n",
    "                                   header=None)"
   ]
  },
  {
   "cell_type": "code",
   "execution_count": 29,
   "metadata": {},
   "outputs": [],
   "source": [
    "df_codes_d_all_abs.columns = [\"doc_id\", \"code\"]"
   ]
  },
  {
   "cell_type": "code",
   "execution_count": 30,
   "metadata": {},
   "outputs": [],
   "source": [
    "df_codes_d_all_abs = df_codes_d_all_abs[df_codes_d_all_abs[\"doc_id\"].isin(all_abs_doc_one_frag)]"
   ]
  },
  {
   "cell_type": "code",
   "execution_count": 31,
   "metadata": {},
   "outputs": [
    {
     "data": {
      "text/plain": [
       "(18290, 2)"
      ]
     },
     "execution_count": 31,
     "metadata": {},
     "output_type": "execute_result"
    }
   ],
   "source": [
    "df_codes_d_all_abs.shape"
   ]
  },
  {
   "cell_type": "code",
   "execution_count": 32,
   "metadata": {},
   "outputs": [
    {
     "data": {
      "text/html": [
       "<div>\n",
       "<style scoped>\n",
       "    .dataframe tbody tr th:only-of-type {\n",
       "        vertical-align: middle;\n",
       "    }\n",
       "\n",
       "    .dataframe tbody tr th {\n",
       "        vertical-align: top;\n",
       "    }\n",
       "\n",
       "    .dataframe thead th {\n",
       "        text-align: right;\n",
       "    }\n",
       "</style>\n",
       "<table border=\"1\" class=\"dataframe\">\n",
       "  <thead>\n",
       "    <tr style=\"text-align: right;\">\n",
       "      <th></th>\n",
       "      <th>doc_id</th>\n",
       "      <th>code</th>\n",
       "    </tr>\n",
       "  </thead>\n",
       "  <tbody>\n",
       "    <tr>\n",
       "      <th>1</th>\n",
       "      <td>lil-286177</td>\n",
       "      <td>i82.40</td>\n",
       "    </tr>\n",
       "    <tr>\n",
       "      <th>2</th>\n",
       "      <td>lil-286177</td>\n",
       "      <td>i82.90</td>\n",
       "    </tr>\n",
       "    <tr>\n",
       "      <th>10</th>\n",
       "      <td>lil-506160</td>\n",
       "      <td>q03.1</td>\n",
       "    </tr>\n",
       "    <tr>\n",
       "      <th>45</th>\n",
       "      <td>lil-176866</td>\n",
       "      <td>g51.0</td>\n",
       "    </tr>\n",
       "    <tr>\n",
       "      <th>46</th>\n",
       "      <td>lil-176866</td>\n",
       "      <td>r29.810</td>\n",
       "    </tr>\n",
       "  </tbody>\n",
       "</table>\n",
       "</div>"
      ],
      "text/plain": [
       "        doc_id     code\n",
       "1   lil-286177   i82.40\n",
       "2   lil-286177   i82.90\n",
       "10  lil-506160    q03.1\n",
       "45  lil-176866    g51.0\n",
       "46  lil-176866  r29.810"
      ]
     },
     "execution_count": 32,
     "metadata": {},
     "output_type": "execute_result"
    }
   ],
   "source": [
    "df_codes_d_all_abs.head()"
   ]
  },
  {
   "cell_type": "markdown",
   "metadata": {},
   "source": [
    "We join the training and development CodiEsp as well as the abstracts codes dataframes together:"
   ]
  },
  {
   "cell_type": "code",
   "execution_count": 33,
   "metadata": {},
   "outputs": [],
   "source": [
    "df_codes_train_dev_abs = pd.concat([df_codes_train, df_codes_dev, df_codes_d_all_abs])"
   ]
  },
  {
   "cell_type": "code",
   "execution_count": 34,
   "metadata": {},
   "outputs": [
    {
     "data": {
      "text/plain": [
       "(26606, 2)"
      ]
     },
     "execution_count": 34,
     "metadata": {},
     "output_type": "execute_result"
    }
   ],
   "source": [
    "df_codes_train_dev_abs.shape"
   ]
  },
  {
   "cell_type": "code",
   "execution_count": 35,
   "metadata": {},
   "outputs": [
    {
     "data": {
      "text/html": [
       "<div>\n",
       "<style scoped>\n",
       "    .dataframe tbody tr th:only-of-type {\n",
       "        vertical-align: middle;\n",
       "    }\n",
       "\n",
       "    .dataframe tbody tr th {\n",
       "        vertical-align: top;\n",
       "    }\n",
       "\n",
       "    .dataframe thead th {\n",
       "        text-align: right;\n",
       "    }\n",
       "</style>\n",
       "<table border=\"1\" class=\"dataframe\">\n",
       "  <thead>\n",
       "    <tr style=\"text-align: right;\">\n",
       "      <th></th>\n",
       "      <th>doc_id</th>\n",
       "      <th>code</th>\n",
       "    </tr>\n",
       "  </thead>\n",
       "  <tbody>\n",
       "    <tr>\n",
       "      <th>0</th>\n",
       "      <td>S0004-06142005000700014-1</td>\n",
       "      <td>n44.8</td>\n",
       "    </tr>\n",
       "    <tr>\n",
       "      <th>1</th>\n",
       "      <td>S0004-06142005000700014-1</td>\n",
       "      <td>z20.818</td>\n",
       "    </tr>\n",
       "    <tr>\n",
       "      <th>2</th>\n",
       "      <td>S0004-06142005000700014-1</td>\n",
       "      <td>r60.9</td>\n",
       "    </tr>\n",
       "    <tr>\n",
       "      <th>3</th>\n",
       "      <td>S0004-06142005000700014-1</td>\n",
       "      <td>r52</td>\n",
       "    </tr>\n",
       "    <tr>\n",
       "      <th>4</th>\n",
       "      <td>S0004-06142005000700014-1</td>\n",
       "      <td>a23.9</td>\n",
       "    </tr>\n",
       "  </tbody>\n",
       "</table>\n",
       "</div>"
      ],
      "text/plain": [
       "                      doc_id     code\n",
       "0  S0004-06142005000700014-1    n44.8\n",
       "1  S0004-06142005000700014-1  z20.818\n",
       "2  S0004-06142005000700014-1    r60.9\n",
       "3  S0004-06142005000700014-1      r52\n",
       "4  S0004-06142005000700014-1    a23.9"
      ]
     },
     "execution_count": 35,
     "metadata": {},
     "output_type": "execute_result"
    }
   ],
   "source": [
    "df_codes_train_dev_abs.head()"
   ]
  },
  {
   "cell_type": "markdown",
   "metadata": {},
   "source": [
    "## Creating corpora of annotated sentences\n",
    "\n",
    "Leveraging the information available for the named-entity-recognition and normalization (NER-N) CodiEsp-X task, we create both a training and a development corpus of annotated sentences with CIE-Diagnóstico codes."
   ]
  },
  {
   "cell_type": "markdown",
   "metadata": {},
   "source": [
    "Firstly, we pre-process the NER-N precedure-codes annotations available for both the training and development corpora."
   ]
  },
  {
   "cell_type": "code",
   "execution_count": 36,
   "metadata": {},
   "outputs": [],
   "source": [
    "# Training corpus"
   ]
  },
  {
   "cell_type": "code",
   "execution_count": 37,
   "metadata": {},
   "outputs": [
    {
     "name": "stdout",
     "output_type": "stream",
     "text": [
      "CPU times: user 7.46 ms, sys: 3.56 ms, total: 11 ms\n",
      "Wall time: 10.4 ms\n"
     ]
    }
   ],
   "source": [
    "%%time\n",
    "\n",
    "codiesp_x_train = pd.read_table(corpus_path + \"train/trainX.tsv\", sep='\\t', header=None)"
   ]
  },
  {
   "cell_type": "code",
   "execution_count": 38,
   "metadata": {},
   "outputs": [],
   "source": [
    "codiesp_x_train.columns = [\"doc_id\", \"type\", \"code\", \"word\", \"location\"]"
   ]
  },
  {
   "cell_type": "code",
   "execution_count": 39,
   "metadata": {},
   "outputs": [
    {
     "data": {
      "text/plain": [
       "(9181, 5)"
      ]
     },
     "execution_count": 39,
     "metadata": {},
     "output_type": "execute_result"
    }
   ],
   "source": [
    "codiesp_x_train.shape"
   ]
  },
  {
   "cell_type": "code",
   "execution_count": 40,
   "metadata": {},
   "outputs": [
    {
     "data": {
      "text/html": [
       "<div>\n",
       "<style scoped>\n",
       "    .dataframe tbody tr th:only-of-type {\n",
       "        vertical-align: middle;\n",
       "    }\n",
       "\n",
       "    .dataframe tbody tr th {\n",
       "        vertical-align: top;\n",
       "    }\n",
       "\n",
       "    .dataframe thead th {\n",
       "        text-align: right;\n",
       "    }\n",
       "</style>\n",
       "<table border=\"1\" class=\"dataframe\">\n",
       "  <thead>\n",
       "    <tr style=\"text-align: right;\">\n",
       "      <th></th>\n",
       "      <th>doc_id</th>\n",
       "      <th>type</th>\n",
       "      <th>code</th>\n",
       "      <th>word</th>\n",
       "      <th>location</th>\n",
       "    </tr>\n",
       "  </thead>\n",
       "  <tbody>\n",
       "    <tr>\n",
       "      <th>0</th>\n",
       "      <td>S0004-06142005000700014-1</td>\n",
       "      <td>PROCEDIMIENTO</td>\n",
       "      <td>bw03zzz</td>\n",
       "      <td>Rx tórax</td>\n",
       "      <td>2163 2171</td>\n",
       "    </tr>\n",
       "    <tr>\n",
       "      <th>1</th>\n",
       "      <td>S0004-06142005000700014-1</td>\n",
       "      <td>PROCEDIMIENTO</td>\n",
       "      <td>3e02329</td>\n",
       "      <td>Estreptomicina intramuscular</td>\n",
       "      <td>2787 2801;2810 2823</td>\n",
       "    </tr>\n",
       "    <tr>\n",
       "      <th>2</th>\n",
       "      <td>S0004-06142005000700014-1</td>\n",
       "      <td>DIAGNOSTICO</td>\n",
       "      <td>n44.8</td>\n",
       "      <td>teste derecho aumentado de tamaño</td>\n",
       "      <td>1343 1376</td>\n",
       "    </tr>\n",
       "    <tr>\n",
       "      <th>3</th>\n",
       "      <td>S0004-06142005000700014-1</td>\n",
       "      <td>DIAGNOSTICO</td>\n",
       "      <td>z20.818</td>\n",
       "      <td>exposición a Brucella</td>\n",
       "      <td>594 615</td>\n",
       "    </tr>\n",
       "    <tr>\n",
       "      <th>4</th>\n",
       "      <td>S0004-06142005000700014-1</td>\n",
       "      <td>DIAGNOSTICO</td>\n",
       "      <td>r60.9</td>\n",
       "      <td>edemas</td>\n",
       "      <td>1250 1256</td>\n",
       "    </tr>\n",
       "  </tbody>\n",
       "</table>\n",
       "</div>"
      ],
      "text/plain": [
       "                      doc_id           type     code  \\\n",
       "0  S0004-06142005000700014-1  PROCEDIMIENTO  bw03zzz   \n",
       "1  S0004-06142005000700014-1  PROCEDIMIENTO  3e02329   \n",
       "2  S0004-06142005000700014-1    DIAGNOSTICO    n44.8   \n",
       "3  S0004-06142005000700014-1    DIAGNOSTICO  z20.818   \n",
       "4  S0004-06142005000700014-1    DIAGNOSTICO    r60.9   \n",
       "\n",
       "                                word             location  \n",
       "0                           Rx tórax            2163 2171  \n",
       "1       Estreptomicina intramuscular  2787 2801;2810 2823  \n",
       "2  teste derecho aumentado de tamaño            1343 1376  \n",
       "3              exposición a Brucella              594 615  \n",
       "4                             edemas            1250 1256  "
      ]
     },
     "execution_count": 40,
     "metadata": {},
     "output_type": "execute_result"
    }
   ],
   "source": [
    "codiesp_x_train.head()"
   ]
  },
  {
   "cell_type": "code",
   "execution_count": 41,
   "metadata": {},
   "outputs": [],
   "source": [
    "codiesp_x_train = codiesp_x_train[codiesp_x_train[\"type\"] == \"DIAGNOSTICO\"]"
   ]
  },
  {
   "cell_type": "code",
   "execution_count": 42,
   "metadata": {},
   "outputs": [
    {
     "data": {
      "text/plain": [
       "(7209, 5)"
      ]
     },
     "execution_count": 42,
     "metadata": {},
     "output_type": "execute_result"
    }
   ],
   "source": [
    "codiesp_x_train.shape"
   ]
  },
  {
   "cell_type": "code",
   "execution_count": 43,
   "metadata": {},
   "outputs": [],
   "source": [
    "df_codes_train_ner = process_ner_labels(codiesp_x_train).sort_values([\"doc_id\", \"start\", \"end\"])"
   ]
  },
  {
   "cell_type": "code",
   "execution_count": 44,
   "metadata": {},
   "outputs": [
    {
     "data": {
      "text/html": [
       "<div>\n",
       "<style scoped>\n",
       "    .dataframe tbody tr th:only-of-type {\n",
       "        vertical-align: middle;\n",
       "    }\n",
       "\n",
       "    .dataframe tbody tr th {\n",
       "        vertical-align: top;\n",
       "    }\n",
       "\n",
       "    .dataframe thead th {\n",
       "        text-align: right;\n",
       "    }\n",
       "</style>\n",
       "<table border=\"1\" class=\"dataframe\">\n",
       "  <thead>\n",
       "    <tr style=\"text-align: right;\">\n",
       "      <th></th>\n",
       "      <th>doc_id</th>\n",
       "      <th>type</th>\n",
       "      <th>code</th>\n",
       "      <th>word</th>\n",
       "      <th>start</th>\n",
       "      <th>end</th>\n",
       "    </tr>\n",
       "  </thead>\n",
       "  <tbody>\n",
       "    <tr>\n",
       "      <th>3</th>\n",
       "      <td>S0004-06142005000700014-1</td>\n",
       "      <td>DIAGNOSTICO</td>\n",
       "      <td>r52</td>\n",
       "      <td>dolores</td>\n",
       "      <td>78</td>\n",
       "      <td>85</td>\n",
       "    </tr>\n",
       "    <tr>\n",
       "      <th>13</th>\n",
       "      <td>S0004-06142005000700014-1</td>\n",
       "      <td>DIAGNOSTICO</td>\n",
       "      <td>m25.50</td>\n",
       "      <td>dolores osteoarticulares</td>\n",
       "      <td>78</td>\n",
       "      <td>102</td>\n",
       "    </tr>\n",
       "    <tr>\n",
       "      <th>9</th>\n",
       "      <td>S0004-06142005000700014-1</td>\n",
       "      <td>DIAGNOSTICO</td>\n",
       "      <td>r50.9</td>\n",
       "      <td>fiebre</td>\n",
       "      <td>147</td>\n",
       "      <td>153</td>\n",
       "    </tr>\n",
       "    <tr>\n",
       "      <th>14</th>\n",
       "      <td>S0004-06142005000700014-1</td>\n",
       "      <td>DIAGNOSTICO</td>\n",
       "      <td>a23.9</td>\n",
       "      <td>brucella</td>\n",
       "      <td>360</td>\n",
       "      <td>368</td>\n",
       "    </tr>\n",
       "    <tr>\n",
       "      <th>10</th>\n",
       "      <td>S0004-06142005000700014-1</td>\n",
       "      <td>DIAGNOSTICO</td>\n",
       "      <td>r50.9</td>\n",
       "      <td>síndrome febril</td>\n",
       "      <td>534</td>\n",
       "      <td>549</td>\n",
       "    </tr>\n",
       "  </tbody>\n",
       "</table>\n",
       "</div>"
      ],
      "text/plain": [
       "                       doc_id         type    code                      word  \\\n",
       "3   S0004-06142005000700014-1  DIAGNOSTICO     r52                   dolores   \n",
       "13  S0004-06142005000700014-1  DIAGNOSTICO  m25.50  dolores osteoarticulares   \n",
       "9   S0004-06142005000700014-1  DIAGNOSTICO   r50.9                    fiebre   \n",
       "14  S0004-06142005000700014-1  DIAGNOSTICO   a23.9                  brucella   \n",
       "10  S0004-06142005000700014-1  DIAGNOSTICO   r50.9           síndrome febril   \n",
       "\n",
       "   start  end  \n",
       "3     78   85  \n",
       "13    78  102  \n",
       "9    147  153  \n",
       "14   360  368  \n",
       "10   534  549  "
      ]
     },
     "execution_count": 44,
     "metadata": {},
     "output_type": "execute_result"
    }
   ],
   "source": [
    "df_codes_train_ner.head()"
   ]
  },
  {
   "cell_type": "code",
   "execution_count": 45,
   "metadata": {},
   "outputs": [
    {
     "data": {
      "text/plain": [
       "(8272, 6)"
      ]
     },
     "execution_count": 45,
     "metadata": {},
     "output_type": "execute_result"
    }
   ],
   "source": [
    "df_codes_train_ner.shape"
   ]
  },
  {
   "cell_type": "code",
   "execution_count": 46,
   "metadata": {},
   "outputs": [],
   "source": [
    "# Development corpus"
   ]
  },
  {
   "cell_type": "code",
   "execution_count": 47,
   "metadata": {},
   "outputs": [
    {
     "name": "stdout",
     "output_type": "stream",
     "text": [
      "CPU times: user 0 ns, sys: 6.5 ms, total: 6.5 ms\n",
      "Wall time: 6.15 ms\n"
     ]
    }
   ],
   "source": [
    "%%time\n",
    "\n",
    "codiesp_x_dev = pd.read_table(corpus_path + \"dev/devX.tsv\", sep='\\t', header=None)"
   ]
  },
  {
   "cell_type": "code",
   "execution_count": 48,
   "metadata": {},
   "outputs": [],
   "source": [
    "codiesp_x_dev.columns = [\"doc_id\", \"type\", \"code\", \"word\", \"location\"]"
   ]
  },
  {
   "cell_type": "code",
   "execution_count": 49,
   "metadata": {},
   "outputs": [
    {
     "data": {
      "text/plain": [
       "(4477, 5)"
      ]
     },
     "execution_count": 49,
     "metadata": {},
     "output_type": "execute_result"
    }
   ],
   "source": [
    "codiesp_x_dev.shape"
   ]
  },
  {
   "cell_type": "code",
   "execution_count": 50,
   "metadata": {},
   "outputs": [
    {
     "data": {
      "text/html": [
       "<div>\n",
       "<style scoped>\n",
       "    .dataframe tbody tr th:only-of-type {\n",
       "        vertical-align: middle;\n",
       "    }\n",
       "\n",
       "    .dataframe tbody tr th {\n",
       "        vertical-align: top;\n",
       "    }\n",
       "\n",
       "    .dataframe thead th {\n",
       "        text-align: right;\n",
       "    }\n",
       "</style>\n",
       "<table border=\"1\" class=\"dataframe\">\n",
       "  <thead>\n",
       "    <tr style=\"text-align: right;\">\n",
       "      <th></th>\n",
       "      <th>doc_id</th>\n",
       "      <th>type</th>\n",
       "      <th>code</th>\n",
       "      <th>word</th>\n",
       "      <th>location</th>\n",
       "    </tr>\n",
       "  </thead>\n",
       "  <tbody>\n",
       "    <tr>\n",
       "      <th>0</th>\n",
       "      <td>S0004-06142005000900016-1</td>\n",
       "      <td>PROCEDIMIENTO</td>\n",
       "      <td>bt41zzz</td>\n",
       "      <td>ecografía renal derecha</td>\n",
       "      <td>307 316;348 361</td>\n",
       "    </tr>\n",
       "    <tr>\n",
       "      <th>1</th>\n",
       "      <td>S0004-06142005000900016-1</td>\n",
       "      <td>PROCEDIMIENTO</td>\n",
       "      <td>ct13</td>\n",
       "      <td>gammagrafía renal</td>\n",
       "      <td>739 756</td>\n",
       "    </tr>\n",
       "    <tr>\n",
       "      <th>2</th>\n",
       "      <td>S0004-06142005000900016-1</td>\n",
       "      <td>DIAGNOSTICO</td>\n",
       "      <td>q62.11</td>\n",
       "      <td>estenosis en la unión pieloureteral derecha</td>\n",
       "      <td>540 583</td>\n",
       "    </tr>\n",
       "    <tr>\n",
       "      <th>3</th>\n",
       "      <td>S0004-06142005000900016-1</td>\n",
       "      <td>DIAGNOSTICO</td>\n",
       "      <td>n28.89</td>\n",
       "      <td>ectasia pielocalicial</td>\n",
       "      <td>326 347</td>\n",
       "    </tr>\n",
       "    <tr>\n",
       "      <th>4</th>\n",
       "      <td>S0004-06142005000900016-1</td>\n",
       "      <td>DIAGNOSTICO</td>\n",
       "      <td>n39.0</td>\n",
       "      <td>infecciones del tracto urinario</td>\n",
       "      <td>198 229</td>\n",
       "    </tr>\n",
       "  </tbody>\n",
       "</table>\n",
       "</div>"
      ],
      "text/plain": [
       "                      doc_id           type     code  \\\n",
       "0  S0004-06142005000900016-1  PROCEDIMIENTO  bt41zzz   \n",
       "1  S0004-06142005000900016-1  PROCEDIMIENTO     ct13   \n",
       "2  S0004-06142005000900016-1    DIAGNOSTICO   q62.11   \n",
       "3  S0004-06142005000900016-1    DIAGNOSTICO   n28.89   \n",
       "4  S0004-06142005000900016-1    DIAGNOSTICO    n39.0   \n",
       "\n",
       "                                          word         location  \n",
       "0                      ecografía renal derecha  307 316;348 361  \n",
       "1                            gammagrafía renal          739 756  \n",
       "2  estenosis en la unión pieloureteral derecha          540 583  \n",
       "3                        ectasia pielocalicial          326 347  \n",
       "4              infecciones del tracto urinario          198 229  "
      ]
     },
     "execution_count": 50,
     "metadata": {},
     "output_type": "execute_result"
    }
   ],
   "source": [
    "codiesp_x_dev.head()"
   ]
  },
  {
   "cell_type": "code",
   "execution_count": 51,
   "metadata": {},
   "outputs": [],
   "source": [
    "codiesp_x_dev = codiesp_x_dev[codiesp_x_dev[\"type\"] == \"DIAGNOSTICO\"]"
   ]
  },
  {
   "cell_type": "code",
   "execution_count": 52,
   "metadata": {},
   "outputs": [
    {
     "data": {
      "text/plain": [
       "(3431, 5)"
      ]
     },
     "execution_count": 52,
     "metadata": {},
     "output_type": "execute_result"
    }
   ],
   "source": [
    "codiesp_x_dev.shape"
   ]
  },
  {
   "cell_type": "code",
   "execution_count": 53,
   "metadata": {},
   "outputs": [],
   "source": [
    "df_codes_dev_ner = process_ner_labels(codiesp_x_dev).sort_values([\"doc_id\", \"start\", \"end\"])"
   ]
  },
  {
   "cell_type": "code",
   "execution_count": 54,
   "metadata": {},
   "outputs": [
    {
     "data": {
      "text/html": [
       "<div>\n",
       "<style scoped>\n",
       "    .dataframe tbody tr th:only-of-type {\n",
       "        vertical-align: middle;\n",
       "    }\n",
       "\n",
       "    .dataframe tbody tr th {\n",
       "        vertical-align: top;\n",
       "    }\n",
       "\n",
       "    .dataframe thead th {\n",
       "        text-align: right;\n",
       "    }\n",
       "</style>\n",
       "<table border=\"1\" class=\"dataframe\">\n",
       "  <thead>\n",
       "    <tr style=\"text-align: right;\">\n",
       "      <th></th>\n",
       "      <th>doc_id</th>\n",
       "      <th>type</th>\n",
       "      <th>code</th>\n",
       "      <th>word</th>\n",
       "      <th>start</th>\n",
       "      <th>end</th>\n",
       "    </tr>\n",
       "  </thead>\n",
       "  <tbody>\n",
       "    <tr>\n",
       "      <th>11</th>\n",
       "      <td>S0004-06142005000900016-1</td>\n",
       "      <td>DIAGNOSTICO</td>\n",
       "      <td>k26.9</td>\n",
       "      <td>ulcus duodenal</td>\n",
       "      <td>37</td>\n",
       "      <td>51</td>\n",
       "    </tr>\n",
       "    <tr>\n",
       "      <th>14</th>\n",
       "      <td>S0004-06142005000900016-1</td>\n",
       "      <td>DIAGNOSTICO</td>\n",
       "      <td>k59.00</td>\n",
       "      <td>estreñimiento</td>\n",
       "      <td>54</td>\n",
       "      <td>67</td>\n",
       "    </tr>\n",
       "    <tr>\n",
       "      <th>4</th>\n",
       "      <td>S0004-06142005000900016-1</td>\n",
       "      <td>DIAGNOSTICO</td>\n",
       "      <td>n23</td>\n",
       "      <td>dolor en fosa renal</td>\n",
       "      <td>85</td>\n",
       "      <td>104</td>\n",
       "    </tr>\n",
       "    <tr>\n",
       "      <th>5</th>\n",
       "      <td>S0004-06142005000900016-1</td>\n",
       "      <td>DIAGNOSTICO</td>\n",
       "      <td>n28.0</td>\n",
       "      <td>crisis renoureteral</td>\n",
       "      <td>128</td>\n",
       "      <td>147</td>\n",
       "    </tr>\n",
       "    <tr>\n",
       "      <th>13</th>\n",
       "      <td>S0004-06142005000900016-1</td>\n",
       "      <td>DIAGNOSTICO</td>\n",
       "      <td>n20.0</td>\n",
       "      <td>nefrolitiasis</td>\n",
       "      <td>168</td>\n",
       "      <td>181</td>\n",
       "    </tr>\n",
       "  </tbody>\n",
       "</table>\n",
       "</div>"
      ],
      "text/plain": [
       "                       doc_id         type    code                 word start  \\\n",
       "11  S0004-06142005000900016-1  DIAGNOSTICO   k26.9       ulcus duodenal    37   \n",
       "14  S0004-06142005000900016-1  DIAGNOSTICO  k59.00        estreñimiento    54   \n",
       "4   S0004-06142005000900016-1  DIAGNOSTICO     n23  dolor en fosa renal    85   \n",
       "5   S0004-06142005000900016-1  DIAGNOSTICO   n28.0  crisis renoureteral   128   \n",
       "13  S0004-06142005000900016-1  DIAGNOSTICO   n20.0        nefrolitiasis   168   \n",
       "\n",
       "    end  \n",
       "11   51  \n",
       "14   67  \n",
       "4   104  \n",
       "5   147  \n",
       "13  181  "
      ]
     },
     "execution_count": 54,
     "metadata": {},
     "output_type": "execute_result"
    }
   ],
   "source": [
    "df_codes_dev_ner.head()"
   ]
  },
  {
   "cell_type": "code",
   "execution_count": 55,
   "metadata": {},
   "outputs": [
    {
     "data": {
      "text/plain": [
       "(3947, 6)"
      ]
     },
     "execution_count": 55,
     "metadata": {},
     "output_type": "execute_result"
    }
   ],
   "source": [
    "df_codes_dev_ner.shape"
   ]
  },
  {
   "cell_type": "markdown",
   "metadata": {},
   "source": [
    "Now, using the character start-end positions of each sentence from the CodiEsp corpus (see `datasets/CodiEsp-Sentence-Split.ipynb`), we annotate the sentences with CIE-Diagnóstico codes. Also, using XLM-R tokenizer, each sentence is converted into a sequence of subwords, which are further converted into vocabulary indices (input IDs) and attention mask arrays (XLM-R input tensors). We also generate a *fragments* dataset indicating the number of produced annotated sentences for each document."
   ]
  },
  {
   "cell_type": "code",
   "execution_count": 56,
   "metadata": {},
   "outputs": [],
   "source": [
    "# Sentence-Split information\n",
    "ss_corpus_path = \"../datasets/CodiEsp-SSplit-text/\""
   ]
  },
  {
   "cell_type": "markdown",
   "metadata": {},
   "source": [
    "### Training corpus"
   ]
  },
  {
   "cell_type": "code",
   "execution_count": 57,
   "metadata": {},
   "outputs": [],
   "source": [
    "label_list = list(df_codes_train_dev_abs[\"code\"])"
   ]
  },
  {
   "cell_type": "code",
   "execution_count": 58,
   "metadata": {},
   "outputs": [
    {
     "data": {
      "text/plain": [
       "26606"
      ]
     },
     "execution_count": 58,
     "metadata": {},
     "output_type": "execute_result"
    }
   ],
   "source": [
    "len(label_list)"
   ]
  },
  {
   "cell_type": "code",
   "execution_count": 59,
   "metadata": {},
   "outputs": [
    {
     "data": {
      "text/plain": [
       "2194"
      ]
     },
     "execution_count": 59,
     "metadata": {},
     "output_type": "execute_result"
    }
   ],
   "source": [
    "len(set(label_list))"
   ]
  },
  {
   "cell_type": "code",
   "execution_count": 60,
   "metadata": {},
   "outputs": [
    {
     "data": {
      "text/plain": [
       "MultiLabelBinarizer()"
      ]
     },
     "execution_count": 60,
     "metadata": {},
     "output_type": "execute_result"
    }
   ],
   "source": [
    "from sklearn.preprocessing import MultiLabelBinarizer\n",
    "\n",
    "mlb_encoder = MultiLabelBinarizer()\n",
    "mlb_encoder.fit([label_list])"
   ]
  },
  {
   "cell_type": "code",
   "execution_count": 61,
   "metadata": {},
   "outputs": [],
   "source": [
    "# Number of distinct codes\n",
    "num_labels = len(mlb_encoder.classes_)"
   ]
  },
  {
   "cell_type": "code",
   "execution_count": 62,
   "metadata": {},
   "outputs": [
    {
     "data": {
      "text/plain": [
       "2194"
      ]
     },
     "execution_count": 62,
     "metadata": {},
     "output_type": "execute_result"
    }
   ],
   "source": [
    "num_labels"
   ]
  },
  {
   "cell_type": "markdown",
   "metadata": {},
   "source": [
    "Only training texts that are annotated with CIE-Diagnóstico codes are considered:"
   ]
  },
  {
   "cell_type": "code",
   "execution_count": 63,
   "metadata": {},
   "outputs": [
    {
     "data": {
      "text/plain": [
       "0"
      ]
     },
     "execution_count": 63,
     "metadata": {},
     "output_type": "execute_result"
    }
   ],
   "source": [
    "len(set(df_text_train[\"doc_id\"]) - set(df_codes_train_ner[\"doc_id\"]))"
   ]
  },
  {
   "cell_type": "code",
   "execution_count": 64,
   "metadata": {},
   "outputs": [],
   "source": [
    "train_doc_list = sorted(set(df_codes_train_ner[\"doc_id\"]))"
   ]
  },
  {
   "cell_type": "code",
   "execution_count": 65,
   "metadata": {},
   "outputs": [
    {
     "data": {
      "text/plain": [
       "500"
      ]
     },
     "execution_count": 65,
     "metadata": {},
     "output_type": "execute_result"
    }
   ],
   "source": [
    "len(train_doc_list)"
   ]
  },
  {
   "cell_type": "code",
   "execution_count": 66,
   "metadata": {},
   "outputs": [],
   "source": [
    "# Sentence-Split data"
   ]
  },
  {
   "cell_type": "code",
   "execution_count": 67,
   "metadata": {},
   "outputs": [
    {
     "name": "stdout",
     "output_type": "stream",
     "text": [
      "CPU times: user 15.5 ms, sys: 0 ns, total: 15.5 ms\n",
      "Wall time: 15.2 ms\n"
     ]
    }
   ],
   "source": [
    "%%time\n",
    "ss_sub_corpus_path = ss_corpus_path + \"train/\"\n",
    "ss_files = [f for f in os.listdir(ss_sub_corpus_path) if os.path.isfile(ss_sub_corpus_path + f)]\n",
    "ss_dict_train = load_ss_files(ss_files, ss_sub_corpus_path)"
   ]
  },
  {
   "cell_type": "code",
   "execution_count": 68,
   "metadata": {},
   "outputs": [
    {
     "name": "stderr",
     "output_type": "stream",
     "text": [
      "100%|██████████| 500/500 [00:10<00:00, 45.59it/s]"
     ]
    },
    {
     "name": "stdout",
     "output_type": "stream",
     "text": [
      "CPU times: user 11.1 s, sys: 21.3 ms, total: 11.1 s\n",
      "Wall time: 11.1 s\n"
     ]
    },
    {
     "name": "stderr",
     "output_type": "stream",
     "text": [
      "\n"
     ]
    }
   ],
   "source": [
    "%%time\n",
    "train_ind, train_att, train_y, train_frag, train_start_end_frag = ss_create_frag_input_data_xlmr(df_text=df_text_train, \n",
    "                                                  text_col=text_col, \n",
    "                                                  df_ann=df_codes_train_ner, doc_list=train_doc_list, ss_dict=ss_dict_train,\n",
    "                                                  tokenizer=tokenizer, sp_pb2=spt, lab_encoder=mlb_encoder, seq_len=SEQ_LEN)"
   ]
  },
  {
   "cell_type": "code",
   "execution_count": 69,
   "metadata": {},
   "outputs": [],
   "source": [
    "# Sanity check"
   ]
  },
  {
   "cell_type": "code",
   "execution_count": 70,
   "metadata": {},
   "outputs": [
    {
     "data": {
      "text/plain": [
       "(7741, 128)"
      ]
     },
     "execution_count": 70,
     "metadata": {},
     "output_type": "execute_result"
    }
   ],
   "source": [
    "train_ind.shape"
   ]
  },
  {
   "cell_type": "code",
   "execution_count": 71,
   "metadata": {},
   "outputs": [
    {
     "data": {
      "text/plain": [
       "(7741, 128)"
      ]
     },
     "execution_count": 71,
     "metadata": {},
     "output_type": "execute_result"
    }
   ],
   "source": [
    "train_att.shape"
   ]
  },
  {
   "cell_type": "code",
   "execution_count": 72,
   "metadata": {},
   "outputs": [
    {
     "data": {
      "text/plain": [
       "(7741, 2194)"
      ]
     },
     "execution_count": 72,
     "metadata": {},
     "output_type": "execute_result"
    }
   ],
   "source": [
    "train_y.shape"
   ]
  },
  {
   "cell_type": "code",
   "execution_count": 73,
   "metadata": {},
   "outputs": [
    {
     "data": {
      "text/plain": [
       "500"
      ]
     },
     "execution_count": 73,
     "metadata": {},
     "output_type": "execute_result"
    }
   ],
   "source": [
    "len(train_frag)"
   ]
  },
  {
   "cell_type": "code",
   "execution_count": 74,
   "metadata": {},
   "outputs": [
    {
     "data": {
      "text/plain": [
       "7741"
      ]
     },
     "execution_count": 74,
     "metadata": {},
     "output_type": "execute_result"
    }
   ],
   "source": [
    "len(train_start_end_frag)"
   ]
  },
  {
   "cell_type": "code",
   "execution_count": 75,
   "metadata": {},
   "outputs": [
    {
     "data": {
      "text/plain": [
       "count    500.000000\n",
       "mean      15.482000\n",
       "std        7.666762\n",
       "min        2.000000\n",
       "25%       10.000000\n",
       "50%       14.000000\n",
       "75%       19.000000\n",
       "max       54.000000\n",
       "dtype: float64"
      ]
     },
     "execution_count": 75,
     "metadata": {},
     "output_type": "execute_result"
    }
   ],
   "source": [
    "# Check n_frag distribution across texts\n",
    "pd.Series(train_frag).describe()"
   ]
  },
  {
   "cell_type": "code",
   "execution_count": 76,
   "metadata": {},
   "outputs": [],
   "source": [
    "# Inspect a randomly selected text and its encoded version\n",
    "check_id = np.random.randint(low=0, high=len(train_doc_list), size=1)[0]"
   ]
  },
  {
   "cell_type": "code",
   "execution_count": 77,
   "metadata": {},
   "outputs": [
    {
     "data": {
      "text/plain": [
       "10"
      ]
     },
     "execution_count": 77,
     "metadata": {},
     "output_type": "execute_result"
    }
   ],
   "source": [
    "check_id"
   ]
  },
  {
   "cell_type": "code",
   "execution_count": 78,
   "metadata": {},
   "outputs": [
    {
     "data": {
      "text/plain": [
       "'S0004-06142006000500002-2'"
      ]
     },
     "execution_count": 78,
     "metadata": {},
     "output_type": "execute_result"
    }
   ],
   "source": [
    "train_doc_list[check_id]"
   ]
  },
  {
   "cell_type": "code",
   "execution_count": 79,
   "metadata": {
    "scrolled": true
   },
   "outputs": [
    {
     "data": {
      "text/plain": [
       "'Paciente de 46 años que consultó por dolor a nivel de hipogastrio, eyaculación dolorosa, hemospermia y sensación de peso a nivel testicular atribuido hasta entonces a varicocele derecho ya conocido desde hacía un año. Entre sus antecedentes personales destacaba un episodio de prostatitis aguda un año antes de la consulta.\\nA la exploración física el paciente presentaba buen estado general, varicocele derecho y no se palpaban masas a nivel de ambos testículos. El tacto rectal mostraba una próstata irregular, ligeramente aumentada de tamaño con zonas induradas y algo dolorosa a la exploración.\\nSe solicitó ecografía urológica integral que mostró una imagen nodular hipoecoica en teste derecho con hipervascularización circundante y un quiste simple en testículo izquierdo.\\nEn la TAC abdómino-pélvica se objetivaban a nivel hepático varias imágenes que podían corresponder con metástasis o hemangiomas. En RMN realizada posteriormente nos confirman que se trata de hemangiomas. La Rx de tórax no presentaba alteraciones.\\nLos marcadores tumorales y el PSA presentaban unos valores dentro de la normalidad. Alfa-feto-proteína: 6 ng/ml, beta-HCG: 0.1 ng/ml, PSA: 1.5 ng/ml.\\nAnte todos estos hallazgos, se decidió llevar a cabo una orquiectomía radical inguinal derecha. La pieza, macroscópicamente, presentaba una formación nodular de idéntica coloración a la de la pulpa testicular de 2,5 x 1,8 x 1,5 cm en el polo superior del testículo. El informe histopatológico era de tumor de células de Leydig difuso que infiltraba espacios perineurales, canales vasculares capsulares adyacentes y músculo liso; moderada atípia y escasas mitosis.\\nTras 10 años de controles evolutivos, el paciente se encuentra asintomático, no se han objetivado metástasis y los marcadores tumorales han permanecido negativos.\\n'"
      ]
     },
     "execution_count": 79,
     "metadata": {},
     "output_type": "execute_result"
    }
   ],
   "source": [
    "df_text_train[df_text_train[\"doc_id\"] == train_doc_list[check_id]][text_col].values[0]"
   ]
  },
  {
   "cell_type": "code",
   "execution_count": 80,
   "metadata": {},
   "outputs": [
    {
     "name": "stdout",
     "output_type": "stream",
     "text": [
      "[('i86.1', 'n53.12', 'r10.30', 'r36.1', 'r52')] \n",
      "\n",
      "[('n41.0',)] \n",
      "\n",
      "[('i86.1',)] \n",
      "\n",
      "[('r52',)] \n",
      "\n",
      "[('d40.11', 'n44.2')] \n",
      "\n",
      "[('d18.00',)] \n",
      "\n",
      "[()] \n",
      "\n",
      "[()] \n",
      "\n",
      "[()] \n",
      "\n",
      "[()] \n",
      "\n",
      "[()] \n",
      "\n",
      "[()] \n",
      "\n",
      "[('d40.11',)] \n",
      "\n",
      "[()] \n",
      "\n"
     ]
    }
   ],
   "source": [
    "check_id_frag = sum(train_frag[:check_id])\n",
    "for i in range(check_id_frag, check_id_frag + train_frag[check_id]):\n",
    "    print(mlb_encoder.inverse_transform(np.array([train_y[i]])), \"\\n\")"
   ]
  },
  {
   "cell_type": "code",
   "execution_count": 81,
   "metadata": {},
   "outputs": [
    {
     "name": "stdout",
     "output_type": "stream",
     "text": [
      "[('▁Pacient', (0, 7)), ('e', (7, 8)), ('▁de', (8, 11)), ('▁46', (11, 14)), ('▁años', (14, 20)), ('▁que', (20, 24)), ('▁consult', (24, 32)), ('ó', (32, 34)), ('▁por', (34, 38)), ('▁dolor', (38, 44)), ('▁a', (44, 46)), ('▁nivel', (46, 52)), ('▁de', (52, 55)), ('▁hipo', (55, 60)), ('gast', (60, 64)), ('rio', (64, 67)), (',', (67, 68)), ('▁e', (68, 70)), ('ya', (70, 72)), ('cula', (72, 76)), ('ción', (76, 81)), ('▁dolor', (81, 87)), ('osa', (87, 90)), (',', (90, 91)), ('▁hemos', (91, 97)), ('per', (97, 100)), ('mia', (100, 103)), ('▁y', (103, 105)), ('▁sensación', (105, 116)), ('▁de', (116, 119)), ('▁peso', (119, 124)), ('▁a', (124, 126)), ('▁nivel', (126, 132)), ('▁testi', (132, 138)), ('cular', (138, 143)), ('▁atribui', (143, 151)), ('do', (151, 153)), ('▁hasta', (153, 159)), ('▁entonces', (159, 168)), ('▁a', (168, 170)), ('▁var', (170, 174)), ('ico', (174, 177)), ('cele', (177, 181)), ('▁derecho', (181, 189)), ('▁ya', (189, 192)), ('▁conocido', (192, 201)), ('▁desde', (201, 207)), ('▁hacía', (207, 214)), ('▁un', (214, 217)), ('▁año', (217, 222)), ('.', (222, 223))]\n",
      "\n",
      "\n",
      "[('▁Entre', (224, 229)), ('▁sus', (229, 233)), ('▁antecede', (233, 242)), ('ntes', (242, 246)), ('▁personales', (246, 257)), ('▁destaca', (257, 265)), ('ba', (265, 267)), ('▁un', (267, 270)), ('▁episodio', (270, 279)), ('▁de', (279, 282)), ('▁prostat', (282, 290)), ('itis', (290, 294)), ('▁a', (294, 296)), ('guda', (296, 300)), ('▁un', (300, 303)), ('▁año', (303, 308)), ('▁antes', (308, 314)), ('▁de', (314, 317)), ('▁la', (317, 320)), ('▁consulta', (320, 329)), ('.', (329, 330))]\n",
      "\n",
      "\n",
      "[('▁A', (331, 332)), ('▁la', (332, 335)), ('▁explora', (335, 343)), ('ción', (343, 348)), ('▁física', (348, 356)), ('▁el', (356, 359)), ('▁paciente', (359, 368)), ('▁presenta', (368, 377)), ('ba', (377, 379)), ('▁buen', (379, 384)), ('▁estado', (384, 391)), ('▁general', (391, 399)), (',', (399, 400)), ('▁var', (400, 404)), ('ico', (404, 407)), ('cele', (407, 411)), ('▁derecho', (411, 419)), ('▁y', (419, 421)), ('▁no', (421, 424)), ('▁se', (424, 427)), ('▁palp', (427, 432)), ('aban', (432, 436)), ('▁masa', (436, 441)), ('s', (441, 442)), ('▁a', (442, 444)), ('▁nivel', (444, 450)), ('▁de', (450, 453)), ('▁ambos', (453, 459)), ('▁test', (459, 464)), ('í', (464, 466)), ('culos', (466, 471)), ('.', (471, 472))]\n",
      "\n",
      "\n",
      "[('▁El', (473, 475)), ('▁tac', (475, 479)), ('to', (479, 481)), ('▁recta', (481, 487)), ('l', (487, 488)), ('▁mostra', (488, 495)), ('ba', (495, 497)), ('▁una', (497, 501)), ('▁pró', (501, 506)), ('sta', (506, 509)), ('ta', (509, 511)), ('▁irregular', (511, 521)), (',', (521, 522)), ('▁lige', (522, 527)), ('r', (527, 528)), ('amente', (528, 534)), ('▁aumenta', (534, 542)), ('da', (542, 544)), ('▁de', (544, 547)), ('▁tamaño', (547, 555)), ('▁con', (555, 559)), ('▁zonas', (559, 565)), ('▁in', (565, 568)), ('dur', (568, 571)), ('adas', (571, 575)), ('▁y', (575, 577)), ('▁algo', (577, 582)), ('▁dolor', (582, 588)), ('osa', (588, 591)), ('▁a', (591, 593)), ('▁la', (593, 596)), ('▁explora', (596, 604)), ('ción', (604, 609)), ('.', (609, 610))]\n",
      "\n",
      "\n",
      "[('▁Se', (611, 613)), ('▁solicit', (613, 621)), ('ó', (621, 623)), ('▁ec', (623, 626)), ('ografía', (626, 634)), ('▁ur', (634, 637)), ('ológica', (637, 645)), ('▁integral', (645, 654)), ('▁que', (654, 658)), ('▁most', (658, 663)), ('ró', (663, 666)), ('▁una', (666, 670)), ('▁imagen', (670, 677)), ('▁no', (677, 680)), ('du', (680, 682)), ('lar', (682, 685)), ('▁hipo', (685, 690)), ('eco', (690, 693)), ('ica', (693, 696)), ('▁en', (696, 699)), ('▁teste', (699, 705)), ('▁derecho', (705, 713)), ('▁con', (713, 717)), ('▁hiper', (717, 723)), ('vas', (723, 726)), ('cular', (726, 731)), ('ización', (731, 739)), ('▁circ', (739, 744)), ('undan', (744, 749)), ('te', (749, 751)), ('▁y', (751, 753)), ('▁un', (753, 756)), ('▁qui', (756, 760)), ('ste', (760, 763)), ('▁simple', (763, 770)), ('▁en', (770, 773)), ('▁test', (773, 778)), ('í', (778, 780)), ('culo', (780, 784)), ('▁iz', (784, 787)), ('quier', (787, 792)), ('do', (792, 794)), ('.', (794, 795))]\n",
      "\n",
      "\n",
      "[('▁En', (796, 798)), ('▁la', (798, 801)), ('▁', (801, 802)), ('TAC', (802, 805)), ('▁ab', (805, 808)), ('dóm', (808, 812)), ('ino', (812, 815)), ('-', (815, 816)), ('pé', (816, 819)), ('l', (819, 820)), ('vica', (820, 824)), ('▁se', (824, 827)), ('▁objetiva', (827, 836)), ('ban', (836, 839)), ('▁a', (839, 841)), ('▁nivel', (841, 847)), ('▁hep', (847, 851)), ('ático', (851, 857)), ('▁varias', (857, 864)), ('▁imágenes', (864, 874)), ('▁que', (874, 878)), ('▁podía', (878, 885)), ('n', (885, 886)), ('▁correspond', (886, 897)), ('er', (897, 899)), ('▁con', (899, 903)), ('▁met', (903, 907)), ('ást', (907, 911)), ('asis', (911, 915)), ('▁o', (915, 917)), ('▁heman', (917, 923)), ('gio', (923, 926)), ('mas', (926, 929)), ('.', (929, 930))]\n",
      "\n",
      "\n",
      "[('▁En', (931, 933)), ('▁RM', (933, 936)), ('N', (936, 937)), ('▁realizada', (937, 947)), ('▁posteriormente', (947, 962)), ('▁nos', (962, 966)), ('▁confirma', (966, 975)), ('n', (975, 976)), ('▁que', (976, 980)), ('▁se', (980, 983)), ('▁trata', (983, 989)), ('▁de', (989, 992)), ('▁heman', (992, 998)), ('gio', (998, 1001)), ('mas', (1001, 1004)), ('.', (1004, 1005))]\n",
      "\n",
      "\n",
      "[('▁La', (1006, 1008)), ('▁R', (1008, 1010)), ('x', (1010, 1011)), ('▁de', (1011, 1014)), ('▁tó', (1014, 1018)), ('ra', (1018, 1020)), ('x', (1020, 1021)), ('▁no', (1021, 1024)), ('▁presenta', (1024, 1033)), ('ba', (1033, 1035)), ('▁altera', (1035, 1042)), ('ciones', (1042, 1048)), ('.', (1048, 1049))]\n",
      "\n",
      "\n",
      "[('▁Los', (1050, 1053)), ('▁marcador', (1053, 1062)), ('es', (1062, 1064)), ('▁tumor', (1064, 1070)), ('ales', (1070, 1074)), ('▁y', (1074, 1076)), ('▁el', (1076, 1079)), ('▁PS', (1079, 1082)), ('A', (1082, 1083)), ('▁presenta', (1083, 1092)), ('ban', (1092, 1095)), ('▁unos', (1095, 1100)), ('▁valores', (1100, 1108)), ('▁dentro', (1108, 1115)), ('▁de', (1115, 1118)), ('▁la', (1118, 1121)), ('▁normal', (1121, 1128)), ('idad', (1128, 1132)), ('.', (1132, 1133))]\n",
      "\n",
      "\n",
      "[('▁Alfa', (1134, 1138)), ('-', (1138, 1139)), ('fe', (1139, 1141)), ('to', (1141, 1143)), ('-', (1143, 1144)), ('prote', (1144, 1149)), ('ína', (1149, 1153)), (':', (1153, 1154)), ('▁6', (1154, 1156)), ('▁ng', (1156, 1159)), ('/', (1159, 1160)), ('ml', (1160, 1162)), (',', (1162, 1163)), ('▁beta', (1163, 1168)), ('-', (1168, 1169)), ('H', (1169, 1170)), ('CG', (1170, 1172)), (':', (1172, 1173)), ('▁0.1', (1173, 1177)), ('▁ng', (1177, 1180)), ('/', (1180, 1181)), ('ml', (1181, 1183)), (',', (1183, 1184)), ('▁PS', (1184, 1187)), ('A', (1187, 1188)), (':', (1188, 1189)), ('▁1.5', (1189, 1193)), ('▁ng', (1193, 1196)), ('/', (1196, 1197)), ('ml', (1197, 1199)), ('.', (1199, 1200))]\n",
      "\n",
      "\n",
      "[('▁Ante', (1201, 1205)), ('▁todos', (1205, 1211)), ('▁estos', (1211, 1217)), ('▁halla', (1217, 1223)), ('z', (1223, 1224)), ('gos', (1224, 1227)), (',', (1227, 1228)), ('▁se', (1228, 1231)), ('▁decidi', (1231, 1238)), ('ó', (1238, 1240)), ('▁llevar', (1240, 1247)), ('▁a', (1247, 1249)), ('▁cabo', (1249, 1254)), ('▁una', (1254, 1258)), ('▁or', (1258, 1261)), ('qui', (1261, 1264)), ('ecto', (1264, 1268)), ('m', (1268, 1269)), ('ía', (1269, 1272)), ('▁radical', (1272, 1280)), ('▁in', (1280, 1283)), ('guin', (1283, 1287)), ('al', (1287, 1289)), ('▁derecha', (1289, 1297)), ('.', (1297, 1298))]\n",
      "\n",
      "\n",
      "[('▁La', (1299, 1301)), ('▁pieza', (1301, 1307)), (',', (1307, 1308)), ('▁macro', (1308, 1314)), ('s', (1314, 1315)), ('có', (1315, 1318)), ('p', (1318, 1319)), ('icamente', (1319, 1327)), (',', (1327, 1328)), ('▁presenta', (1328, 1337)), ('ba', (1337, 1339)), ('▁una', (1339, 1343)), ('▁formación', (1343, 1354)), ('▁no', (1354, 1357)), ('du', (1357, 1359)), ('lar', (1359, 1362)), ('▁de', (1362, 1365)), ('▁idén', (1365, 1371)), ('tica', (1371, 1375)), ('▁color', (1375, 1381)), ('ación', (1381, 1387)), ('▁a', (1387, 1389)), ('▁la', (1389, 1392)), ('▁de', (1392, 1395)), ('▁la', (1395, 1398)), ('▁pul', (1398, 1402)), ('pa', (1402, 1404)), ('▁testi', (1404, 1410)), ('cular', (1410, 1415)), ('▁de', (1415, 1418)), ('▁2,5', (1418, 1422)), ('▁x', (1422, 1424)), ('▁1,8', (1424, 1428)), ('▁x', (1428, 1430)), ('▁1,5', (1430, 1434)), ('▁cm', (1434, 1437)), ('▁en', (1437, 1440)), ('▁el', (1440, 1443)), ('▁polo', (1443, 1448)), ('▁superior', (1448, 1457)), ('▁del', (1457, 1461)), ('▁test', (1461, 1466)), ('í', (1466, 1468)), ('culo', (1468, 1472)), ('.', (1472, 1473))]\n",
      "\n",
      "\n",
      "[('▁El', (1474, 1476)), ('▁informe', (1476, 1484)), ('▁his', (1484, 1488)), ('to', (1488, 1490)), ('pat', (1490, 1493)), ('ológico', (1493, 1501)), ('▁era', (1501, 1505)), ('▁de', (1505, 1508)), ('▁tumor', (1508, 1514)), ('▁de', (1514, 1517)), ('▁células', (1517, 1526)), ('▁de', (1526, 1529)), ('▁Ley', (1529, 1533)), ('dig', (1533, 1536)), ('▁di', (1536, 1539)), ('fuso', (1539, 1543)), ('▁que', (1543, 1547)), ('▁infiltra', (1547, 1556)), ('ba', (1556, 1558)), ('▁espacios', (1558, 1567)), ('▁per', (1567, 1571)), ('ine', (1571, 1574)), ('ura', (1574, 1577)), ('les', (1577, 1580)), (',', (1580, 1581)), ('▁canale', (1581, 1588)), ('s', (1588, 1589)), ('▁vas', (1589, 1593)), ('culare', (1593, 1599)), ('s', (1599, 1600)), ('▁cap', (1600, 1604)), ('sula', (1604, 1608)), ('res', (1608, 1611)), ('▁ad', (1611, 1614)), ('ya', (1614, 1616)), ('centes', (1616, 1622)), ('▁y', (1622, 1624)), ('▁mú', (1624, 1628)), ('s', (1628, 1629)), ('culo', (1629, 1633)), ('▁li', (1633, 1636)), ('so', (1636, 1638)), (';', (1638, 1639)), ('▁moder', (1639, 1645)), ('ada', (1645, 1648)), ('▁at', (1648, 1651)), ('í', (1651, 1653)), ('pia', (1653, 1656)), ('▁y', (1656, 1658)), ('▁esca', (1658, 1663)), ('sas', (1663, 1666)), ('▁mit', (1666, 1670)), ('osis', (1670, 1674)), ('.', (1674, 1675))]\n",
      "\n",
      "\n",
      "[('▁Tras', (1676, 1680)), ('▁10', (1680, 1683)), ('▁años', (1683, 1689)), ('▁de', (1689, 1692)), ('▁controle', (1692, 1701)), ('s', (1701, 1702)), ('▁evolu', (1702, 1708)), ('tivos', (1708, 1713)), (',', (1713, 1714)), ('▁el', (1714, 1717)), ('▁paciente', (1717, 1726)), ('▁se', (1726, 1729)), ('▁encuentra', (1729, 1739)), ('▁as', (1739, 1742)), ('into', (1742, 1746)), ('mático', (1746, 1753)), (',', (1753, 1754)), ('▁no', (1754, 1757)), ('▁se', (1757, 1760)), ('▁han', (1760, 1764)), ('▁objetiva', (1764, 1773)), ('do', (1773, 1775)), ('▁met', (1775, 1779)), ('ást', (1779, 1783)), ('asis', (1783, 1787)), ('▁y', (1787, 1789)), ('▁los', (1789, 1793)), ('▁marcador', (1793, 1802)), ('es', (1802, 1804)), ('▁tumor', (1804, 1810)), ('ales', (1810, 1814)), ('▁han', (1814, 1818)), ('▁permane', (1818, 1826)), ('cido', (1826, 1830)), ('▁negativo', (1830, 1839)), ('s', (1839, 1840)), ('.', (1840, 1841))]\n",
      "\n",
      "\n"
     ]
    }
   ],
   "source": [
    "for i in range(check_id_frag, check_id_frag + train_frag[check_id]):\n",
    "    print(list(zip([tokenizer._convert_id_to_token(int(ind)) for ind in train_ind[i]][1:len(train_start_end_frag[i])+1], \n",
    "               train_start_end_frag[i])))\n",
    "    print(\"\\n\")"
   ]
  },
  {
   "cell_type": "code",
   "execution_count": 82,
   "metadata": {},
   "outputs": [
    {
     "name": "stdout",
     "output_type": "stream",
     "text": [
      "<s> ▁Pacient e ▁de ▁46 ▁años ▁que ▁consult ó ▁por ▁dolor ▁a ▁nivel ▁de ▁hipo gast rio , ▁e ya cula ción ▁dolor osa , ▁hemos per mia ▁y ▁sensación ▁de ▁peso ▁a ▁nivel ▁testi cular ▁atribui do ▁hasta ▁entonces ▁a ▁var ico cele ▁derecho ▁ya ▁conocido ▁desde ▁hacía ▁un ▁año . </s> <pad> <pad> <pad> <pad> <pad> <pad> <pad> <pad> <pad> <pad> <pad> <pad> <pad> <pad> <pad> <pad> <pad> <pad> <pad> <pad> <pad> <pad> <pad> <pad> <pad> <pad> <pad> <pad> <pad> <pad> <pad> <pad> <pad> <pad> <pad> <pad> <pad> <pad> <pad> <pad> <pad> <pad> <pad> <pad> <pad> <pad> <pad> <pad> <pad> <pad> <pad> <pad> <pad> <pad> <pad> <pad> <pad> <pad> <pad> <pad> <pad> <pad> <pad> <pad> <pad> <pad> <pad> <pad> <pad> <pad> <pad> <pad> <pad> <pad> <pad> \n",
      "\n",
      "<s> ▁Entre ▁sus ▁antecede ntes ▁personales ▁destaca ba ▁un ▁episodio ▁de ▁prostat itis ▁a guda ▁un ▁año ▁antes ▁de ▁la ▁consulta . </s> <pad> <pad> <pad> <pad> <pad> <pad> <pad> <pad> <pad> <pad> <pad> <pad> <pad> <pad> <pad> <pad> <pad> <pad> <pad> <pad> <pad> <pad> <pad> <pad> <pad> <pad> <pad> <pad> <pad> <pad> <pad> <pad> <pad> <pad> <pad> <pad> <pad> <pad> <pad> <pad> <pad> <pad> <pad> <pad> <pad> <pad> <pad> <pad> <pad> <pad> <pad> <pad> <pad> <pad> <pad> <pad> <pad> <pad> <pad> <pad> <pad> <pad> <pad> <pad> <pad> <pad> <pad> <pad> <pad> <pad> <pad> <pad> <pad> <pad> <pad> <pad> <pad> <pad> <pad> <pad> <pad> <pad> <pad> <pad> <pad> <pad> <pad> <pad> <pad> <pad> <pad> <pad> <pad> <pad> <pad> <pad> <pad> <pad> <pad> <pad> <pad> <pad> <pad> <pad> <pad> \n",
      "\n",
      "<s> ▁A ▁la ▁explora ción ▁física ▁el ▁paciente ▁presenta ba ▁buen ▁estado ▁general , ▁var ico cele ▁derecho ▁y ▁no ▁se ▁palp aban ▁masa s ▁a ▁nivel ▁de ▁ambos ▁test í culos . </s> <pad> <pad> <pad> <pad> <pad> <pad> <pad> <pad> <pad> <pad> <pad> <pad> <pad> <pad> <pad> <pad> <pad> <pad> <pad> <pad> <pad> <pad> <pad> <pad> <pad> <pad> <pad> <pad> <pad> <pad> <pad> <pad> <pad> <pad> <pad> <pad> <pad> <pad> <pad> <pad> <pad> <pad> <pad> <pad> <pad> <pad> <pad> <pad> <pad> <pad> <pad> <pad> <pad> <pad> <pad> <pad> <pad> <pad> <pad> <pad> <pad> <pad> <pad> <pad> <pad> <pad> <pad> <pad> <pad> <pad> <pad> <pad> <pad> <pad> <pad> <pad> <pad> <pad> <pad> <pad> <pad> <pad> <pad> <pad> <pad> <pad> <pad> <pad> <pad> <pad> <pad> <pad> <pad> <pad> \n",
      "\n",
      "<s> ▁El ▁tac to ▁recta l ▁mostra ba ▁una ▁pró sta ta ▁irregular , ▁lige r amente ▁aumenta da ▁de ▁tamaño ▁con ▁zonas ▁in dur adas ▁y ▁algo ▁dolor osa ▁a ▁la ▁explora ción . </s> <pad> <pad> <pad> <pad> <pad> <pad> <pad> <pad> <pad> <pad> <pad> <pad> <pad> <pad> <pad> <pad> <pad> <pad> <pad> <pad> <pad> <pad> <pad> <pad> <pad> <pad> <pad> <pad> <pad> <pad> <pad> <pad> <pad> <pad> <pad> <pad> <pad> <pad> <pad> <pad> <pad> <pad> <pad> <pad> <pad> <pad> <pad> <pad> <pad> <pad> <pad> <pad> <pad> <pad> <pad> <pad> <pad> <pad> <pad> <pad> <pad> <pad> <pad> <pad> <pad> <pad> <pad> <pad> <pad> <pad> <pad> <pad> <pad> <pad> <pad> <pad> <pad> <pad> <pad> <pad> <pad> <pad> <pad> <pad> <pad> <pad> <pad> <pad> <pad> <pad> <pad> <pad> \n",
      "\n",
      "<s> ▁Se ▁solicit ó ▁ec ografía ▁ur ológica ▁integral ▁que ▁most ró ▁una ▁imagen ▁no du lar ▁hipo eco ica ▁en ▁teste ▁derecho ▁con ▁hiper vas cular ización ▁circ undan te ▁y ▁un ▁qui ste ▁simple ▁en ▁test í culo ▁iz quier do . </s> <pad> <pad> <pad> <pad> <pad> <pad> <pad> <pad> <pad> <pad> <pad> <pad> <pad> <pad> <pad> <pad> <pad> <pad> <pad> <pad> <pad> <pad> <pad> <pad> <pad> <pad> <pad> <pad> <pad> <pad> <pad> <pad> <pad> <pad> <pad> <pad> <pad> <pad> <pad> <pad> <pad> <pad> <pad> <pad> <pad> <pad> <pad> <pad> <pad> <pad> <pad> <pad> <pad> <pad> <pad> <pad> <pad> <pad> <pad> <pad> <pad> <pad> <pad> <pad> <pad> <pad> <pad> <pad> <pad> <pad> <pad> <pad> <pad> <pad> <pad> <pad> <pad> <pad> <pad> <pad> <pad> <pad> <pad> \n",
      "\n",
      "<s> ▁En ▁la ▁ TAC ▁ab dóm ino - pé l vica ▁se ▁objetiva ban ▁a ▁nivel ▁hep ático ▁varias ▁imágenes ▁que ▁podía n ▁correspond er ▁con ▁met ást asis ▁o ▁heman gio mas . </s> <pad> <pad> <pad> <pad> <pad> <pad> <pad> <pad> <pad> <pad> <pad> <pad> <pad> <pad> <pad> <pad> <pad> <pad> <pad> <pad> <pad> <pad> <pad> <pad> <pad> <pad> <pad> <pad> <pad> <pad> <pad> <pad> <pad> <pad> <pad> <pad> <pad> <pad> <pad> <pad> <pad> <pad> <pad> <pad> <pad> <pad> <pad> <pad> <pad> <pad> <pad> <pad> <pad> <pad> <pad> <pad> <pad> <pad> <pad> <pad> <pad> <pad> <pad> <pad> <pad> <pad> <pad> <pad> <pad> <pad> <pad> <pad> <pad> <pad> <pad> <pad> <pad> <pad> <pad> <pad> <pad> <pad> <pad> <pad> <pad> <pad> <pad> <pad> <pad> <pad> <pad> <pad> \n",
      "\n",
      "<s> ▁En ▁RM N ▁realizada ▁posteriormente ▁nos ▁confirma n ▁que ▁se ▁trata ▁de ▁heman gio mas . </s> <pad> <pad> <pad> <pad> <pad> <pad> <pad> <pad> <pad> <pad> <pad> <pad> <pad> <pad> <pad> <pad> <pad> <pad> <pad> <pad> <pad> <pad> <pad> <pad> <pad> <pad> <pad> <pad> <pad> <pad> <pad> <pad> <pad> <pad> <pad> <pad> <pad> <pad> <pad> <pad> <pad> <pad> <pad> <pad> <pad> <pad> <pad> <pad> <pad> <pad> <pad> <pad> <pad> <pad> <pad> <pad> <pad> <pad> <pad> <pad> <pad> <pad> <pad> <pad> <pad> <pad> <pad> <pad> <pad> <pad> <pad> <pad> <pad> <pad> <pad> <pad> <pad> <pad> <pad> <pad> <pad> <pad> <pad> <pad> <pad> <pad> <pad> <pad> <pad> <pad> <pad> <pad> <pad> <pad> <pad> <pad> <pad> <pad> <pad> <pad> <pad> <pad> <pad> <pad> <pad> <pad> <pad> <pad> <pad> <pad> \n",
      "\n",
      "<s> ▁La ▁R x ▁de ▁tó ra x ▁no ▁presenta ba ▁altera ciones . </s> <pad> <pad> <pad> <pad> <pad> <pad> <pad> <pad> <pad> <pad> <pad> <pad> <pad> <pad> <pad> <pad> <pad> <pad> <pad> <pad> <pad> <pad> <pad> <pad> <pad> <pad> <pad> <pad> <pad> <pad> <pad> <pad> <pad> <pad> <pad> <pad> <pad> <pad> <pad> <pad> <pad> <pad> <pad> <pad> <pad> <pad> <pad> <pad> <pad> <pad> <pad> <pad> <pad> <pad> <pad> <pad> <pad> <pad> <pad> <pad> <pad> <pad> <pad> <pad> <pad> <pad> <pad> <pad> <pad> <pad> <pad> <pad> <pad> <pad> <pad> <pad> <pad> <pad> <pad> <pad> <pad> <pad> <pad> <pad> <pad> <pad> <pad> <pad> <pad> <pad> <pad> <pad> <pad> <pad> <pad> <pad> <pad> <pad> <pad> <pad> <pad> <pad> <pad> <pad> <pad> <pad> <pad> <pad> <pad> <pad> <pad> <pad> <pad> \n",
      "\n",
      "<s> ▁Los ▁marcador es ▁tumor ales ▁y ▁el ▁PS A ▁presenta ban ▁unos ▁valores ▁dentro ▁de ▁la ▁normal idad . </s> <pad> <pad> <pad> <pad> <pad> <pad> <pad> <pad> <pad> <pad> <pad> <pad> <pad> <pad> <pad> <pad> <pad> <pad> <pad> <pad> <pad> <pad> <pad> <pad> <pad> <pad> <pad> <pad> <pad> <pad> <pad> <pad> <pad> <pad> <pad> <pad> <pad> <pad> <pad> <pad> <pad> <pad> <pad> <pad> <pad> <pad> <pad> <pad> <pad> <pad> <pad> <pad> <pad> <pad> <pad> <pad> <pad> <pad> <pad> <pad> <pad> <pad> <pad> <pad> <pad> <pad> <pad> <pad> <pad> <pad> <pad> <pad> <pad> <pad> <pad> <pad> <pad> <pad> <pad> <pad> <pad> <pad> <pad> <pad> <pad> <pad> <pad> <pad> <pad> <pad> <pad> <pad> <pad> <pad> <pad> <pad> <pad> <pad> <pad> <pad> <pad> <pad> <pad> <pad> <pad> <pad> <pad> \n",
      "\n",
      "<s> ▁Alfa - fe to - prote ína : ▁6 ▁ng / ml , ▁beta - H CG : ▁0.1 ▁ng / ml , ▁PS A : ▁1.5 ▁ng / ml . </s> <pad> <pad> <pad> <pad> <pad> <pad> <pad> <pad> <pad> <pad> <pad> <pad> <pad> <pad> <pad> <pad> <pad> <pad> <pad> <pad> <pad> <pad> <pad> <pad> <pad> <pad> <pad> <pad> <pad> <pad> <pad> <pad> <pad> <pad> <pad> <pad> <pad> <pad> <pad> <pad> <pad> <pad> <pad> <pad> <pad> <pad> <pad> <pad> <pad> <pad> <pad> <pad> <pad> <pad> <pad> <pad> <pad> <pad> <pad> <pad> <pad> <pad> <pad> <pad> <pad> <pad> <pad> <pad> <pad> <pad> <pad> <pad> <pad> <pad> <pad> <pad> <pad> <pad> <pad> <pad> <pad> <pad> <pad> <pad> <pad> <pad> <pad> <pad> <pad> <pad> <pad> <pad> <pad> <pad> <pad> \n",
      "\n",
      "<s> ▁Ante ▁todos ▁estos ▁halla z gos , ▁se ▁decidi ó ▁llevar ▁a ▁cabo ▁una ▁or qui ecto m ía ▁radical ▁in guin al ▁derecha . </s> <pad> <pad> <pad> <pad> <pad> <pad> <pad> <pad> <pad> <pad> <pad> <pad> <pad> <pad> <pad> <pad> <pad> <pad> <pad> <pad> <pad> <pad> <pad> <pad> <pad> <pad> <pad> <pad> <pad> <pad> <pad> <pad> <pad> <pad> <pad> <pad> <pad> <pad> <pad> <pad> <pad> <pad> <pad> <pad> <pad> <pad> <pad> <pad> <pad> <pad> <pad> <pad> <pad> <pad> <pad> <pad> <pad> <pad> <pad> <pad> <pad> <pad> <pad> <pad> <pad> <pad> <pad> <pad> <pad> <pad> <pad> <pad> <pad> <pad> <pad> <pad> <pad> <pad> <pad> <pad> <pad> <pad> <pad> <pad> <pad> <pad> <pad> <pad> <pad> <pad> <pad> <pad> <pad> <pad> <pad> <pad> <pad> <pad> <pad> <pad> <pad> \n",
      "\n",
      "<s> ▁La ▁pieza , ▁macro s có p icamente , ▁presenta ba ▁una ▁formación ▁no du lar ▁de ▁idén tica ▁color ación ▁a ▁la ▁de ▁la ▁pul pa ▁testi cular ▁de ▁2,5 ▁x ▁1,8 ▁x ▁1,5 ▁cm ▁en ▁el ▁polo ▁superior ▁del ▁test í culo . </s> <pad> <pad> <pad> <pad> <pad> <pad> <pad> <pad> <pad> <pad> <pad> <pad> <pad> <pad> <pad> <pad> <pad> <pad> <pad> <pad> <pad> <pad> <pad> <pad> <pad> <pad> <pad> <pad> <pad> <pad> <pad> <pad> <pad> <pad> <pad> <pad> <pad> <pad> <pad> <pad> <pad> <pad> <pad> <pad> <pad> <pad> <pad> <pad> <pad> <pad> <pad> <pad> <pad> <pad> <pad> <pad> <pad> <pad> <pad> <pad> <pad> <pad> <pad> <pad> <pad> <pad> <pad> <pad> <pad> <pad> <pad> <pad> <pad> <pad> <pad> <pad> <pad> <pad> <pad> <pad> <pad> \n",
      "\n",
      "<s> ▁El ▁informe ▁his to pat ológico ▁era ▁de ▁tumor ▁de ▁células ▁de ▁Ley dig ▁di fuso ▁que ▁infiltra ba ▁espacios ▁per ine ura les , ▁canale s ▁vas culare s ▁cap sula res ▁ad ya centes ▁y ▁mú s culo ▁li so ; ▁moder ada ▁at í pia ▁y ▁esca sas ▁mit osis . </s> <pad> <pad> <pad> <pad> <pad> <pad> <pad> <pad> <pad> <pad> <pad> <pad> <pad> <pad> <pad> <pad> <pad> <pad> <pad> <pad> <pad> <pad> <pad> <pad> <pad> <pad> <pad> <pad> <pad> <pad> <pad> <pad> <pad> <pad> <pad> <pad> <pad> <pad> <pad> <pad> <pad> <pad> <pad> <pad> <pad> <pad> <pad> <pad> <pad> <pad> <pad> <pad> <pad> <pad> <pad> <pad> <pad> <pad> <pad> <pad> <pad> <pad> <pad> <pad> <pad> <pad> <pad> <pad> <pad> <pad> <pad> <pad> \n",
      "\n",
      "<s> ▁Tras ▁10 ▁años ▁de ▁controle s ▁evolu tivos , ▁el ▁paciente ▁se ▁encuentra ▁as into mático , ▁no ▁se ▁han ▁objetiva do ▁met ást asis ▁y ▁los ▁marcador es ▁tumor ales ▁han ▁permane cido ▁negativo s . </s> <pad> <pad> <pad> <pad> <pad> <pad> <pad> <pad> <pad> <pad> <pad> <pad> <pad> <pad> <pad> <pad> <pad> <pad> <pad> <pad> <pad> <pad> <pad> <pad> <pad> <pad> <pad> <pad> <pad> <pad> <pad> <pad> <pad> <pad> <pad> <pad> <pad> <pad> <pad> <pad> <pad> <pad> <pad> <pad> <pad> <pad> <pad> <pad> <pad> <pad> <pad> <pad> <pad> <pad> <pad> <pad> <pad> <pad> <pad> <pad> <pad> <pad> <pad> <pad> <pad> <pad> <pad> <pad> <pad> <pad> <pad> <pad> <pad> <pad> <pad> <pad> <pad> <pad> <pad> <pad> <pad> <pad> <pad> <pad> <pad> <pad> <pad> <pad> <pad> \n",
      "\n"
     ]
    }
   ],
   "source": [
    "check_id_frag = sum(train_frag[:check_id])\n",
    "for frag in train_ind[check_id_frag:check_id_frag + train_frag[check_id]]:\n",
    "    print(' '.join([tokenizer._convert_id_to_token(int(ind)) for ind in frag]), \"\\n\")"
   ]
  },
  {
   "cell_type": "code",
   "execution_count": 83,
   "metadata": {},
   "outputs": [
    {
     "data": {
      "text/plain": [
       "count    7741.000000\n",
       "mean        0.930242\n",
       "std         1.344062\n",
       "min         0.000000\n",
       "25%         0.000000\n",
       "50%         0.000000\n",
       "75%         1.000000\n",
       "max        14.000000\n",
       "dtype: float64"
      ]
     },
     "execution_count": 83,
     "metadata": {},
     "output_type": "execute_result"
    }
   ],
   "source": [
    "# Fragment labels distribution\n",
    "pd.Series(np.sum(train_y, axis=1)).describe()"
   ]
  },
  {
   "cell_type": "markdown",
   "metadata": {},
   "source": [
    "### Development corpus\n",
    "\n",
    "Only development texts that are annotated with CIE-Diagnóstico codes are considered:"
   ]
  },
  {
   "cell_type": "code",
   "execution_count": 84,
   "metadata": {},
   "outputs": [
    {
     "data": {
      "text/plain": [
       "0"
      ]
     },
     "execution_count": 84,
     "metadata": {},
     "output_type": "execute_result"
    }
   ],
   "source": [
    "len(set(df_text_dev[\"doc_id\"]) - set(df_codes_dev_ner[\"doc_id\"]))"
   ]
  },
  {
   "cell_type": "code",
   "execution_count": 85,
   "metadata": {},
   "outputs": [],
   "source": [
    "dev_doc_list = sorted(set(df_codes_dev_ner[\"doc_id\"]))"
   ]
  },
  {
   "cell_type": "code",
   "execution_count": 86,
   "metadata": {},
   "outputs": [
    {
     "data": {
      "text/plain": [
       "250"
      ]
     },
     "execution_count": 86,
     "metadata": {},
     "output_type": "execute_result"
    }
   ],
   "source": [
    "len(dev_doc_list)"
   ]
  },
  {
   "cell_type": "code",
   "execution_count": 87,
   "metadata": {},
   "outputs": [
    {
     "name": "stdout",
     "output_type": "stream",
     "text": [
      "CPU times: user 82 µs, sys: 8.05 ms, total: 8.13 ms\n",
      "Wall time: 7.75 ms\n"
     ]
    }
   ],
   "source": [
    "%%time\n",
    "ss_sub_corpus_path = ss_corpus_path + \"dev/\"\n",
    "ss_files = [f for f in os.listdir(ss_sub_corpus_path) if os.path.isfile(ss_sub_corpus_path + f)]\n",
    "ss_dict_dev = load_ss_files(ss_files, ss_sub_corpus_path)"
   ]
  },
  {
   "cell_type": "code",
   "execution_count": 88,
   "metadata": {},
   "outputs": [
    {
     "name": "stderr",
     "output_type": "stream",
     "text": [
      "100%|██████████| 250/250 [00:05<00:00, 46.47it/s]"
     ]
    },
    {
     "name": "stdout",
     "output_type": "stream",
     "text": [
      "CPU times: user 5.45 s, sys: 11.2 ms, total: 5.46 s\n",
      "Wall time: 5.44 s\n"
     ]
    },
    {
     "name": "stderr",
     "output_type": "stream",
     "text": [
      "\n"
     ]
    }
   ],
   "source": [
    "%%time\n",
    "dev_ind, dev_att, dev_y, dev_frag, dev_start_end_frag = ss_create_frag_input_data_xlmr(df_text=df_text_dev, \n",
    "                                                  text_col=text_col, \n",
    "                                                  df_ann=df_codes_dev_ner, doc_list=dev_doc_list, ss_dict=ss_dict_dev,\n",
    "                                                  tokenizer=tokenizer, sp_pb2=spt, lab_encoder=mlb_encoder, seq_len=SEQ_LEN)"
   ]
  },
  {
   "cell_type": "code",
   "execution_count": 89,
   "metadata": {},
   "outputs": [],
   "source": [
    "# Sanity check"
   ]
  },
  {
   "cell_type": "code",
   "execution_count": 90,
   "metadata": {},
   "outputs": [
    {
     "data": {
      "text/plain": [
       "(4109, 128)"
      ]
     },
     "execution_count": 90,
     "metadata": {},
     "output_type": "execute_result"
    }
   ],
   "source": [
    "dev_ind.shape"
   ]
  },
  {
   "cell_type": "code",
   "execution_count": 91,
   "metadata": {},
   "outputs": [
    {
     "data": {
      "text/plain": [
       "(4109, 128)"
      ]
     },
     "execution_count": 91,
     "metadata": {},
     "output_type": "execute_result"
    }
   ],
   "source": [
    "dev_att.shape"
   ]
  },
  {
   "cell_type": "code",
   "execution_count": 92,
   "metadata": {},
   "outputs": [
    {
     "data": {
      "text/plain": [
       "(4109, 2194)"
      ]
     },
     "execution_count": 92,
     "metadata": {},
     "output_type": "execute_result"
    }
   ],
   "source": [
    "dev_y.shape"
   ]
  },
  {
   "cell_type": "code",
   "execution_count": 93,
   "metadata": {},
   "outputs": [
    {
     "data": {
      "text/plain": [
       "250"
      ]
     },
     "execution_count": 93,
     "metadata": {},
     "output_type": "execute_result"
    }
   ],
   "source": [
    "len(dev_frag)"
   ]
  },
  {
   "cell_type": "code",
   "execution_count": 94,
   "metadata": {},
   "outputs": [
    {
     "data": {
      "text/plain": [
       "4109"
      ]
     },
     "execution_count": 94,
     "metadata": {},
     "output_type": "execute_result"
    }
   ],
   "source": [
    "len(dev_start_end_frag)"
   ]
  },
  {
   "cell_type": "code",
   "execution_count": 95,
   "metadata": {},
   "outputs": [
    {
     "data": {
      "text/plain": [
       "count    250.000000\n",
       "mean      16.436000\n",
       "std        8.415771\n",
       "min        4.000000\n",
       "25%       11.000000\n",
       "50%       15.000000\n",
       "75%       20.750000\n",
       "max       65.000000\n",
       "dtype: float64"
      ]
     },
     "execution_count": 95,
     "metadata": {},
     "output_type": "execute_result"
    }
   ],
   "source": [
    "# Check n_frag distribution across texts\n",
    "pd.Series(dev_frag).describe()"
   ]
  },
  {
   "cell_type": "code",
   "execution_count": 96,
   "metadata": {},
   "outputs": [],
   "source": [
    "# Inspect a randomly selected text and its encoded version\n",
    "check_id = np.random.randint(low=0, high=len(dev_doc_list), size=1)[0]"
   ]
  },
  {
   "cell_type": "code",
   "execution_count": 97,
   "metadata": {},
   "outputs": [
    {
     "data": {
      "text/plain": [
       "190"
      ]
     },
     "execution_count": 97,
     "metadata": {},
     "output_type": "execute_result"
    }
   ],
   "source": [
    "check_id"
   ]
  },
  {
   "cell_type": "code",
   "execution_count": 98,
   "metadata": {},
   "outputs": [
    {
     "data": {
      "text/plain": [
       "'S1134-80462015000200004-1'"
      ]
     },
     "execution_count": 98,
     "metadata": {},
     "output_type": "execute_result"
    }
   ],
   "source": [
    "dev_doc_list[check_id]"
   ]
  },
  {
   "cell_type": "code",
   "execution_count": 99,
   "metadata": {
    "scrolled": true
   },
   "outputs": [
    {
     "data": {
      "text/plain": [
       "'Varón de 42 años con antecedentes personales de alcoholismo, abuso de cocaína y fractura de meseta tibial derecha en enero de 2011 que se trató quirúrgicamente (osteosíntesis-placa con injerto cresta iliaca). Se produce una infección de herida quirúrgica que acaba generando una osteomielitis tibial derecha a los 4 meses, requiriendo varias intervenciones quirúrgicas para extracción de material de osteosíntesis, desbridamiento y limpieza.\\nEl paciente está ingresado desde el 4.o mes y en tratamiento con antibioterapia endovenosa de última generación que se administra por una vía central, y vía oral con 2 comprimidos de distraneurine y bromazepam/12 h desde su ingreso (para prevenir un delirium por deprivación alcohólica); como analgesia: pregabalina 75-0-150, paracetamol 1 g/8 h endovenosa, metamizol 2 g/8 h endovenosa, tramadol 100 mg/8 h endovenosa, Enantyun® 25/8 h vía oral y morfina 5 mg/6 h endovenosa (un total de 20 mg endovenosos al día).\\nAl 8.o mes de evolución del proceso interconsultan a la Unidad del Dolor por mal control del dolor.\\n\\nAl valorar al paciente se encontraba con ánimo depresivo y con un dolor insoportable, con un 8 en la escala visual analógica (EVA 8), de tipo neuropático -quemazón y pinchazos intensos en extremidad inferior derecha (EID)- que le dificultaba el descanso nocturno e incluso le despertaba. En este momento también presentaba picos febriles de hasta 39 oC registrados en la gráfica de enfermería, sin repercusión orgánica.\\nEl manejo del tratamiento del dolor de este paciente resultó sencillo en un principio, pues presentaba sobre todo dolor de tipo neuropático. Por nuestra parte planificamos suspender escalonadamente el distraneurine y el bromazepan. Se pasó de la analgesia endovenosa a la vía oral, conseguiéndose una disminución de la sintomatología: añadiendo y aumentando antineuropáticos (1,2): pregabalina (hasta llegar a 150 mg-0-150 mg) asociada con amitriptilina (0-0-25 mg). Suspendiendo la morfina endovenosa y cambiando a Oxycontin® a dosis equianalgésicas con la morfina (10-0-10 mg) y paracetamol 1 g/8 h, precisando puntualmente rescates con Oxynorm® 5 mg.\\nAl cuarto día del seguimiento el paciente debutó con un cuadro de estupor importante por la noche y al día siguiente, sin responder a estímulos ni obedecer órdenes. Tras descartar consumo exógeno de opioide, se disminuye la dosis total de opioide a MST® 10-0-10 y Adolonta® 100 mg de rescate si dolor (precisando al inicio del tratamiento una antes de acostarse y ocasionalmente a lo largo del día, y no precisándola al cabo de 10 días).\\nAl quinto día el paciente se encuentra con un cuadro de agitación psicomotriz importante, incoherencia en el lenguaje y desconexión con el medio, compatible con el diagnóstico de síndrome de abstinencia.\\nNos vemos obligados a realizar un diagnóstico difencial. Descartado el origen metabólico del cuadro confusional (analítica normal), se piensa en un síndrome de sobredosis/abstinencia, para algunos originado por la dosis de opioide pautado y para nosotros por un posible abuso de sustancias (el perfil de tóxicos en orina no es concluyente a este respecto, pues presentaba positividad para las sustancias ya pautadas y negatividad para el cannabis), por lo que se realiza una interconsulta a psiquiatría para que valore al paciente y confirme si hay un patrón de abuso de sustancias (la familia niega consumo de tóxicos por parte del paciente, pero no siempre están con él) u otro origen.\\n\\nLa impresión diagnóstica del psiquiatra fue polimedicación, sobre todo los opioides, y sugieren una benzodiacepina de vida media corta para controlar la agitación psicomotriz (alprazolam 4 mg v.o./8 h, que se fue disminuyendo progresivamente según iba remitiendo el cuadro). A este respecto, como ya se había disminuido el opioide, no se tomó ninguna otra medida.\\nEn cuanto al control del dolor, en los siguientes 15 días, el tratamiento antineuropático fue muy efectivo, excepto por una persistencia de dolor en forma de \"pinchazos\", que requirió de un aumento gradual de la amitriptilina (1,2) hasta 75 mg por la noche. Esta medida consiguió un EVA2, con una importante mejora en el descanso nocturno y en el estado de ánimo. Además, el paciente deja de precisar rescates, como ya se ha comentado.\\nPor ello nos podríamos haber planteado la disminución de la medicación opioide, pero el paciente seguía presentando alteraciones del comportamiento y del nivel de consciencia que iban del estupor a la agitación psicomotriz, teniendo como primera repercusión la no administración del opioide pautado por parte del personal de enfermería, por miedo a que fuese una sobredosis de opioide y que esta conllevase una depresión respiratoria, y en segundo lugar requiriendo contención mecánica tras caerse y luxarse el espaciador colocado en fémur.\\nSe insiste en que se ha de administrar toda la medicación pautada y se mantiene la dosis total de opioide (MST® 10-0-10 y Adolonta® 100 mg de rescate), para no reincidir en posibles síndromes de abstinencia.\\nA pesar de que el paciente presentaba picos febriles, los infectólogos que seguían al paciente no consideraban que la fiebre ni otra posible complicación derivada de la osteomielitis, como una endocarditis o absceso cerebral, fuesen responsables del cuadro.\\nComo nos parecía poco probable que una sobredosificación/abstinencia de los opioides pautados fuese el origen del síndrome confusional que padecía este paciente a lo largo de más de 2 semanas, se decide descartar organicidad pidiendo un TAC craneal a las 3 semanas del seguimiento.\\nEn el TAC craneal se visualizó un infarto cerebral parietal derecho subagudo.\\n\\n'"
      ]
     },
     "execution_count": 99,
     "metadata": {},
     "output_type": "execute_result"
    }
   ],
   "source": [
    "df_text_dev[df_text_dev[\"doc_id\"] == dev_doc_list[check_id]][text_col].values[0]"
   ]
  },
  {
   "cell_type": "code",
   "execution_count": 100,
   "metadata": {},
   "outputs": [
    {
     "name": "stdout",
     "output_type": "stream",
     "text": [
      "[('f10.20', 'f14.10', 's82.101')] \n",
      "\n",
      "[('b99.9', 'm86.161', 'm86.9', 't81.31x')] \n",
      "\n",
      "[('f10.921',)] \n",
      "\n",
      "[()] \n",
      "\n",
      "[('r52',)] \n",
      "\n",
      "[('f32.9', 'r52')] \n",
      "\n",
      "[('r50.9',)] \n",
      "\n",
      "[('r52',)] \n",
      "\n",
      "[()] \n",
      "\n",
      "[()] \n",
      "\n",
      "[()] \n",
      "\n",
      "[('r40.1',)] \n",
      "\n",
      "[()] \n",
      "\n",
      "[('f11.93', 'r45.1')] \n",
      "\n",
      "[()] \n",
      "\n",
      "[('f05', 'f11.93')] \n",
      "\n",
      "[()] \n",
      "\n",
      "[('r45.1',)] \n",
      "\n",
      "[()] \n",
      "\n",
      "[('r52',)] \n",
      "\n",
      "[()] \n",
      "\n",
      "[()] \n",
      "\n",
      "[('f32.9', 'r40.1', 'r45.1')] \n",
      "\n",
      "[()] \n",
      "\n",
      "[()] \n",
      "\n",
      "[('g06.0', 'i38', 'm86.9', 'r50.9')] \n",
      "\n",
      "[('f05',)] \n",
      "\n",
      "[('i63.9',)] \n",
      "\n"
     ]
    }
   ],
   "source": [
    "check_id_frag = sum(dev_frag[:check_id])\n",
    "for i in range(check_id_frag, check_id_frag + dev_frag[check_id]):\n",
    "    print(mlb_encoder.inverse_transform(np.array([dev_y[i]])), \"\\n\")"
   ]
  },
  {
   "cell_type": "code",
   "execution_count": 101,
   "metadata": {},
   "outputs": [
    {
     "name": "stdout",
     "output_type": "stream",
     "text": [
      "[('▁Var', (0, 3)), ('ón', (3, 6)), ('▁de', (6, 9)), ('▁42', (9, 12)), ('▁años', (12, 18)), ('▁con', (18, 22)), ('▁antecede', (22, 31)), ('ntes', (31, 35)), ('▁personales', (35, 46)), ('▁de', (46, 49)), ('▁alcohol', (49, 57)), ('ismo', (57, 61)), (',', (61, 62)), ('▁abuso', (62, 68)), ('▁de', (68, 71)), ('▁coca', (71, 76)), ('ína', (76, 80)), ('▁y', (80, 82)), ('▁fra', (82, 86)), ('ctura', (86, 91)), ('▁de', (91, 94)), ('▁mese', (94, 99)), ('ta', (99, 101)), ('▁tibi', (101, 106)), ('al', (106, 108)), ('▁derecha', (108, 116)), ('▁en', (116, 119)), ('▁enero', (119, 125)), ('▁de', (125, 128)), ('▁2011', (128, 133)), ('▁que', (133, 137)), ('▁se', (137, 140)), ('▁tra', (140, 144)), ('tó', (144, 147)), ('▁qui', (147, 151)), ('rú', (151, 154)), ('rg', (154, 156)), ('icamente', (156, 164)), ('▁(', (164, 166)), ('os', (166, 168)), ('te', (168, 170)), ('os', (170, 172)), ('í', (172, 174)), ('ntes', (174, 178)), ('is', (178, 180)), ('-', (180, 181)), ('plac', (181, 185)), ('a', (185, 186)), ('▁con', (186, 190)), ('▁in', (190, 193)), ('jer', (193, 196)), ('to', (196, 198)), ('▁cre', (198, 202)), ('sta', (202, 205)), ('▁ili', (205, 209)), ('aca', (209, 212)), (').', (212, 214))]\n",
      "\n",
      "\n",
      "[('▁Se', (215, 217)), ('▁produce', (217, 225)), ('▁una', (225, 229)), ('▁infección', (229, 240)), ('▁de', (240, 243)), ('▁her', (243, 247)), ('ida', (247, 250)), ('▁qui', (250, 254)), ('rú', (254, 257)), ('r', (257, 258)), ('gica', (258, 262)), ('▁que', (262, 266)), ('▁acaba', (266, 272)), ('▁genera', (272, 279)), ('ndo', (279, 282)), ('▁una', (282, 286)), ('▁osteo', (286, 292)), ('miel', (292, 296)), ('itis', (296, 300)), ('▁tibi', (300, 305)), ('al', (305, 307)), ('▁derecha', (307, 315)), ('▁a', (315, 317)), ('▁los', (317, 321)), ('▁4', (321, 323)), ('▁meses', (323, 329)), (',', (329, 330)), ('▁requiri', (330, 338)), ('endo', (338, 342)), ('▁varias', (342, 349)), ('▁interven', (349, 358)), ('ciones', (358, 364)), ('▁qui', (364, 368)), ('rú', (368, 371)), ('rg', (371, 373)), ('icas', (373, 377)), ('▁para', (377, 382)), ('▁extra', (382, 388)), ('cción', (388, 394)), ('▁de', (394, 397)), ('▁material', (397, 406)), ('▁de', (406, 409)), ('▁osteo', (409, 415)), ('sí', (415, 418)), ('ntes', (418, 422)), ('is', (422, 424)), (',', (424, 425)), ('▁des', (425, 429)), ('brid', (429, 433)), ('amiento', (433, 440)), ('▁y', (440, 442)), ('▁limpieza', (442, 451)), ('.', (451, 452))]\n",
      "\n",
      "\n",
      "[('▁El', (453, 455)), ('▁paciente', (455, 464)), ('▁está', (464, 470)), ('▁in', (470, 473)), ('gres', (473, 477)), ('ado', (477, 480)), ('▁desde', (480, 486)), ('▁el', (486, 489)), ('▁4.', (489, 492)), ('o', (492, 493)), ('▁mes', (493, 497)), ('▁y', (497, 499)), ('▁en', (499, 502)), ('▁tratamiento', (502, 514)), ('▁con', (514, 518)), ('▁anti', (518, 523)), ('bi', (523, 525)), ('oterapia', (525, 533)), ('▁en', (533, 536)), ('do', (536, 538)), ('ven', (538, 541)), ('osa', (541, 544)), ('▁de', (544, 547)), ('▁última', (547, 555)), ('▁generación', (555, 567)), ('▁que', (567, 571)), ('▁se', (571, 574)), ('▁administra', (574, 585)), ('▁por', (585, 589)), ('▁una', (589, 593)), ('▁vía', (593, 598)), ('▁central', (598, 606)), (',', (606, 607)), ('▁y', (607, 609)), ('▁vía', (609, 614)), ('▁oral', (614, 619)), ('▁con', (619, 623)), ('▁2', (623, 625)), ('▁com', (625, 629)), ('primi', (629, 634)), ('dos', (634, 637)), ('▁de', (637, 640)), ('▁distra', (640, 647)), ('ne', (647, 649)), ('uri', (649, 652)), ('ne', (652, 654)), ('▁y', (654, 656)), ('▁bro', (656, 660)), ('ma', (660, 662)), ('zep', (662, 665)), ('am', (665, 667)), ('/12', (667, 670)), ('▁h', (670, 672)), ('▁desde', (672, 678)), ('▁su', (678, 681)), ('▁ingreso', (681, 689)), ('▁(', (689, 691)), ('para', (691, 695)), ('▁prevenir', (695, 704)), ('▁un', (704, 707)), ('▁de', (707, 710)), ('li', (710, 712)), ('rium', (712, 716)), ('▁por', (716, 720)), ('▁de', (720, 723)), ('pri', (723, 726)), ('va', (726, 728)), ('ción', (728, 733)), ('▁al', (733, 736)), ('co', (736, 738)), ('hó', (738, 741)), ('lica', (741, 745)), (');', (745, 747)), ('▁como', (747, 752)), ('▁anal', (752, 757)), ('gesi', (757, 761)), ('a', (761, 762)), (':', (762, 763)), ('▁pre', (763, 767)), ('gabal', (767, 772)), ('ina', (772, 775)), ('▁75', (775, 778)), ('-0', (778, 780)), ('-150', (780, 784)), (',', (784, 785)), ('▁para', (785, 790)), ('ce', (790, 792)), ('ta', (792, 794)), ('mol', (794, 797)), ('▁1', (797, 799)), ('▁g', (799, 801)), ('/8', (801, 803)), ('▁h', (803, 805)), ('▁en', (805, 808)), ('do', (808, 810)), ('ven', (810, 813)), ('osa', (813, 816)), (',', (816, 817)), ('▁met', (817, 821)), ('ami', (821, 824)), ('zol', (824, 827)), ('▁2', (827, 829)), ('▁g', (829, 831)), ('/8', (831, 833)), ('▁h', (833, 835)), ('▁en', (835, 838)), ('do', (838, 840)), ('ven', (840, 843)), ('osa', (843, 846)), (',', (846, 847)), ('▁trama', (847, 853)), ('dol', (853, 856)), ('▁100', (856, 860)), ('▁mg', (860, 863)), ('/8', (863, 865)), ('▁h', (865, 867)), ('▁en', (867, 870)), ('do', (870, 872)), ('ven', (872, 875)), ('osa', (875, 878)), (',', (878, 879)), ('▁En', (879, 882)), ('ant', (882, 885)), ('yun', (885, 888)), ('®', (888, 890)), ('▁25', (890, 893))]\n",
      "\n",
      "\n",
      "[('/8', (893, 895)), ('▁h', (895, 897)), ('▁vía', (897, 902)), ('▁oral', (902, 907)), ('▁y', (907, 909)), ('▁mor', (909, 913)), ('fina', (913, 917)), ('▁5', (917, 919)), ('▁mg', (919, 922)), ('/6', (922, 924)), ('▁h', (924, 926)), ('▁en', (926, 929)), ('do', (929, 931)), ('ven', (931, 934)), ('osa', (934, 937)), ('▁(', (937, 939)), ('un', (939, 941)), ('▁total', (941, 947)), ('▁de', (947, 950)), ('▁20', (950, 953)), ('▁mg', (953, 956)), ('▁en', (956, 959)), ('do', (959, 961)), ('ven', (961, 964)), ('osos', (964, 968)), ('▁al', (968, 971)), ('▁día', (971, 976)), (').', (976, 978))]\n",
      "\n",
      "\n",
      "[('▁Al', (979, 981)), ('▁8.', (981, 984)), ('o', (984, 985)), ('▁mes', (985, 989)), ('▁de', (989, 992)), ('▁evolución', (992, 1003)), ('▁del', (1003, 1007)), ('▁proceso', (1007, 1015)), ('▁inter', (1015, 1021)), ('consult', (1021, 1028)), ('an', (1028, 1030)), ('▁a', (1030, 1032)), ('▁la', (1032, 1035)), ('▁Un', (1035, 1038)), ('idad', (1038, 1042)), ('▁del', (1042, 1046)), ('▁Dolor', (1046, 1052)), ('▁por', (1052, 1056)), ('▁mal', (1056, 1060)), ('▁control', (1060, 1068)), ('▁del', (1068, 1072)), ('▁dolor', (1072, 1078)), ('.', (1078, 1079))]\n",
      "\n",
      "\n",
      "[('▁Al', (1081, 1083)), ('▁valorar', (1083, 1091)), ('▁al', (1091, 1094)), ('▁paciente', (1094, 1103)), ('▁se', (1103, 1106)), ('▁encontraba', (1106, 1117)), ('▁con', (1117, 1121)), ('▁ánimo', (1121, 1128)), ('▁depresi', (1128, 1136)), ('vo', (1136, 1138)), ('▁y', (1138, 1140)), ('▁con', (1140, 1144)), ('▁un', (1144, 1147)), ('▁dolor', (1147, 1153)), ('▁in', (1153, 1156)), ('so', (1156, 1158)), ('port', (1158, 1162)), ('able', (1162, 1166)), (',', (1166, 1167)), ('▁con', (1167, 1171)), ('▁un', (1171, 1174)), ('▁8', (1174, 1176)), ('▁en', (1176, 1179)), ('▁la', (1179, 1182)), ('▁escala', (1182, 1189)), ('▁visual', (1189, 1196)), ('▁ana', (1196, 1200)), ('lógica', (1200, 1207)), ('▁(', (1207, 1209)), ('EVA', (1209, 1212)), ('▁8)', (1212, 1215)), (',', (1215, 1216)), ('▁de', (1216, 1219)), ('▁tipo', (1219, 1224)), ('▁neuro', (1224, 1230)), ('p', (1230, 1231)), ('ático', (1231, 1237)), ('▁-', (1237, 1239)), ('que', (1239, 1242)), ('ma', (1242, 1244)), ('zón', (1244, 1248)), ('▁y', (1248, 1250)), ('▁pin', (1250, 1254)), ('cha', (1254, 1257)), ('zos', (1257, 1260)), ('▁intenso', (1260, 1268)), ('s', (1268, 1269)), ('▁en', (1269, 1272)), ('▁extrem', (1272, 1279)), ('idad', (1279, 1283)), ('▁inferior', (1283, 1292)), ('▁derecha', (1292, 1300)), ('▁(', (1300, 1302)), ('E', (1302, 1303)), ('ID', (1303, 1305)), (')', (1305, 1306)), ('-', (1306, 1307)), ('▁que', (1307, 1311)), ('▁le', (1311, 1314)), ('▁dificult', (1314, 1323)), ('aba', (1323, 1326)), ('▁el', (1326, 1329)), ('▁descanso', (1329, 1338)), ('▁nocturn', (1338, 1346)), ('o', (1346, 1347)), ('▁e', (1347, 1349)), ('▁incluso', (1349, 1357)), ('▁le', (1357, 1360)), ('▁desperta', (1360, 1369)), ('ba', (1369, 1371)), ('.', (1371, 1372))]\n",
      "\n",
      "\n",
      "[('▁En', (1373, 1375)), ('▁este', (1375, 1380)), ('▁momento', (1380, 1388)), ('▁también', (1388, 1397)), ('▁presenta', (1397, 1406)), ('ba', (1406, 1408)), ('▁pic', (1408, 1412)), ('os', (1412, 1414)), ('▁febr', (1414, 1419)), ('ile', (1419, 1422)), ('s', (1422, 1423)), ('▁de', (1423, 1426)), ('▁hasta', (1426, 1432)), ('▁39', (1432, 1435)), ('▁o', (1435, 1437)), ('C', (1437, 1438)), ('▁registrado', (1438, 1449)), ('s', (1449, 1450)), ('▁en', (1450, 1453)), ('▁la', (1453, 1456)), ('▁gráfica', (1456, 1465)), ('▁de', (1465, 1468)), ('▁en', (1468, 1471)), ('ferm', (1471, 1475)), ('ería', (1475, 1480)), (',', (1480, 1481)), ('▁sin', (1481, 1485)), ('▁reper', (1485, 1491)), ('cu', (1491, 1493)), ('sión', (1493, 1498)), ('▁orgán', (1498, 1505)), ('ica', (1505, 1508)), ('.', (1508, 1509))]\n",
      "\n",
      "\n",
      "[('▁El', (1510, 1512)), ('▁manejo', (1512, 1519)), ('▁del', (1519, 1523)), ('▁tratamiento', (1523, 1535)), ('▁del', (1535, 1539)), ('▁dolor', (1539, 1545)), ('▁de', (1545, 1548)), ('▁este', (1548, 1553)), ('▁paciente', (1553, 1562)), ('▁result', (1562, 1569)), ('ó', (1569, 1571)), ('▁sencillo', (1571, 1580)), ('▁en', (1580, 1583)), ('▁un', (1583, 1586)), ('▁principio', (1586, 1596)), (',', (1596, 1597)), ('▁pues', (1597, 1602)), ('▁presenta', (1602, 1611)), ('ba', (1611, 1613)), ('▁sobre', (1613, 1619)), ('▁todo', (1619, 1624)), ('▁dolor', (1624, 1630)), ('▁de', (1630, 1633)), ('▁tipo', (1633, 1638)), ('▁neuro', (1638, 1644)), ('p', (1644, 1645)), ('ático', (1645, 1651)), ('.', (1651, 1652))]\n",
      "\n",
      "\n",
      "[('▁Por', (1653, 1656)), ('▁nuestra', (1656, 1664)), ('▁parte', (1664, 1670)), ('▁planifica', (1670, 1680)), ('mos', (1680, 1683)), ('▁suspend', (1683, 1691)), ('er', (1691, 1693)), ('▁escal', (1693, 1699)), ('ona', (1699, 1702)), ('damente', (1702, 1709)), ('▁el', (1709, 1712)), ('▁distra', (1712, 1719)), ('ne', (1719, 1721)), ('uri', (1721, 1724)), ('ne', (1724, 1726)), ('▁y', (1726, 1728)), ('▁el', (1728, 1731)), ('▁bro', (1731, 1735)), ('ma', (1735, 1737)), ('ze', (1737, 1739)), ('pan', (1739, 1742)), ('.', (1742, 1743))]\n",
      "\n",
      "\n",
      "[('▁Se', (1744, 1746)), ('▁pas', (1746, 1750)), ('ó', (1750, 1752)), ('▁de', (1752, 1755)), ('▁la', (1755, 1758)), ('▁anal', (1758, 1763)), ('gesi', (1763, 1767)), ('a', (1767, 1768)), ('▁en', (1768, 1771)), ('do', (1771, 1773)), ('ven', (1773, 1776)), ('osa', (1776, 1779)), ('▁a', (1779, 1781)), ('▁la', (1781, 1784)), ('▁vía', (1784, 1789)), ('▁oral', (1789, 1794)), (',', (1794, 1795)), ('▁consegui', (1795, 1804)), ('éndose', (1804, 1811)), ('▁una', (1811, 1815)), ('▁dis', (1815, 1819)), ('minu', (1819, 1823)), ('ción', (1823, 1828)), ('▁de', (1828, 1831)), ('▁la', (1831, 1834)), ('▁sin', (1834, 1838)), ('tomat', (1838, 1843)), ('ología', (1843, 1850)), (':', (1850, 1851)), ('▁a', (1851, 1853)), ('ña', (1853, 1856)), ('d', (1856, 1857)), ('iendo', (1857, 1862)), ('▁y', (1862, 1864)), ('▁aumentando', (1864, 1875)), ('▁anti', (1875, 1880)), ('neu', (1880, 1883)), ('rop', (1883, 1886)), ('áticos', (1886, 1893)), ('▁(', (1893, 1895)), ('1,2', (1895, 1898)), ('):', (1898, 1900)), ('▁pre', (1900, 1904)), ('gabal', (1904, 1909)), ('ina', (1909, 1912)), ('▁(', (1912, 1914)), ('hasta', (1914, 1919)), ('▁llegar', (1919, 1926)), ('▁a', (1926, 1928)), ('▁150', (1928, 1932)), ('▁mg', (1932, 1935)), ('-0', (1935, 1937)), ('-150', (1937, 1941)), ('▁mg', (1941, 1944)), (')', (1944, 1945)), ('▁asocia', (1945, 1952)), ('da', (1952, 1954)), ('▁con', (1954, 1958)), ('▁ami', (1958, 1962)), ('trip', (1962, 1966)), ('ti', (1966, 1968)), ('lina', (1968, 1972)), ('▁(0', (1972, 1975)), ('-0', (1975, 1977)), ('-25', (1977, 1980)), ('▁mg', (1980, 1983)), (').', (1983, 1985))]\n",
      "\n",
      "\n",
      "[('▁Sus', (1986, 1989)), ('pendi', (1989, 1994)), ('endo', (1994, 1998)), ('▁la', (1998, 2001)), ('▁mor', (2001, 2005)), ('fina', (2005, 2009)), ('▁en', (2009, 2012)), ('do', (2012, 2014)), ('ven', (2014, 2017)), ('osa', (2017, 2020)), ('▁y', (2020, 2022)), ('▁cambia', (2022, 2029)), ('ndo', (2029, 2032)), ('▁a', (2032, 2034)), ('▁O', (2034, 2036)), ('xy', (2036, 2038)), ('con', (2038, 2041)), ('tin', (2041, 2044)), ('®', (2044, 2046)), ('▁a', (2046, 2048)), ('▁dosis', (2048, 2054)), ('▁equi', (2054, 2059)), ('an', (2059, 2061)), ('al', (2061, 2063)), ('gés', (2063, 2067)), ('icas', (2067, 2071)), ('▁con', (2071, 2075)), ('▁la', (2075, 2078)), ('▁mor', (2078, 2082)), ('fina', (2082, 2086)), ('▁(10', (2086, 2090)), ('-0', (2090, 2092)), ('-10', (2092, 2095)), ('▁mg', (2095, 2098)), (')', (2098, 2099)), ('▁y', (2099, 2101)), ('▁para', (2101, 2106)), ('ce', (2106, 2108)), ('ta', (2108, 2110)), ('mol', (2110, 2113)), ('▁1', (2113, 2115)), ('▁g', (2115, 2117)), ('/8', (2117, 2119)), ('▁h', (2119, 2121)), (',', (2121, 2122)), ('▁precisa', (2122, 2130)), ('ndo', (2130, 2133)), ('▁puntual', (2133, 2141)), ('mente', (2141, 2146)), ('▁rescat', (2146, 2153)), ('es', (2153, 2155)), ('▁con', (2155, 2159)), ('▁O', (2159, 2161)), ('xy', (2161, 2163)), ('norm', (2163, 2167)), ('®', (2167, 2169)), ('▁5', (2169, 2171)), ('▁mg', (2171, 2174)), ('.', (2174, 2175))]\n",
      "\n",
      "\n",
      "[('▁Al', (2176, 2178)), ('▁cuarto', (2178, 2185)), ('▁día', (2185, 2190)), ('▁del', (2190, 2194)), ('▁seguimiento', (2194, 2206)), ('▁el', (2206, 2209)), ('▁paciente', (2209, 2218)), ('▁debut', (2218, 2224)), ('ó', (2224, 2226)), ('▁con', (2226, 2230)), ('▁un', (2230, 2233)), ('▁cuadro', (2233, 2240)), ('▁de', (2240, 2243)), ('▁estu', (2243, 2248)), ('por', (2248, 2251)), ('▁importante', (2251, 2262)), ('▁por', (2262, 2266)), ('▁la', (2266, 2269)), ('▁noche', (2269, 2275)), ('▁y', (2275, 2277)), ('▁al', (2277, 2280)), ('▁día', (2280, 2285)), ('▁siguiente', (2285, 2295)), (',', (2295, 2296)), ('▁sin', (2296, 2300)), ('▁responder', (2300, 2310)), ('▁a', (2310, 2312)), ('▁estímulo', (2312, 2322)), ('s', (2322, 2323)), ('▁ni', (2323, 2326)), ('▁obedece', (2326, 2334)), ('r', (2334, 2335)), ('▁', (2335, 2336)), ('ór', (2336, 2339)), ('den', (2339, 2342)), ('es', (2342, 2344)), ('.', (2344, 2345))]\n",
      "\n",
      "\n",
      "[('▁Tras', (2346, 2350)), ('▁descarta', (2350, 2359)), ('r', (2359, 2360)), ('▁consumo', (2360, 2368)), ('▁ex', (2368, 2371)), ('ó', (2371, 2373)), ('geno', (2373, 2377)), ('▁de', (2377, 2380)), ('▁op', (2380, 2383)), ('io', (2383, 2385)), ('ide', (2385, 2388)), (',', (2388, 2389)), ('▁se', (2389, 2392)), ('▁dis', (2392, 2396)), ('minu', (2396, 2400)), ('ye', (2400, 2402)), ('▁la', (2402, 2405)), ('▁dosis', (2405, 2411)), ('▁total', (2411, 2417)), ('▁de', (2417, 2420)), ('▁op', (2420, 2423)), ('io', (2423, 2425)), ('ide', (2425, 2428)), ('▁a', (2428, 2430)), ('▁M', (2430, 2432)), ('ST', (2432, 2434)), ('®', (2434, 2436)), ('▁10', (2436, 2439)), ('-0', (2439, 2441)), ('-10', (2441, 2444)), ('▁y', (2444, 2446)), ('▁A', (2446, 2448)), ('dol', (2448, 2451)), ('onta', (2451, 2455)), ('®', (2455, 2457)), ('▁100', (2457, 2461)), ('▁mg', (2461, 2464)), ('▁de', (2464, 2467)), ('▁rescat', (2467, 2474)), ('e', (2474, 2475)), ('▁si', (2475, 2478)), ('▁dolor', (2478, 2484)), ('▁(', (2484, 2486)), ('preci', (2486, 2491)), ('s', (2491, 2492)), ('ando', (2492, 2496)), ('▁al', (2496, 2499)), ('▁inicio', (2499, 2506)), ('▁del', (2506, 2510)), ('▁tratamiento', (2510, 2522)), ('▁una', (2522, 2526)), ('▁antes', (2526, 2532)), ('▁de', (2532, 2535)), ('▁ac', (2535, 2538)), ('osta', (2538, 2542)), ('rse', (2542, 2545)), ('▁y', (2545, 2547)), ('▁ocasiona', (2547, 2556)), ('lmente', (2556, 2562)), ('▁a', (2562, 2564)), ('▁lo', (2564, 2567)), ('▁largo', (2567, 2573)), ('▁del', (2573, 2577)), ('▁día', (2577, 2582)), (',', (2582, 2583)), ('▁y', (2583, 2585)), ('▁no', (2585, 2588)), ('▁precis', (2588, 2595)), ('á', (2595, 2597)), ('ndo', (2597, 2600)), ('la', (2600, 2602)), ('▁al', (2602, 2605)), ('▁cabo', (2605, 2610)), ('▁de', (2610, 2613)), ('▁10', (2613, 2616)), ('▁días', (2616, 2622)), (').', (2622, 2624))]\n",
      "\n",
      "\n",
      "[('▁Al', (2625, 2627)), ('▁quinto', (2627, 2634)), ('▁día', (2634, 2639)), ('▁el', (2639, 2642)), ('▁paciente', (2642, 2651)), ('▁se', (2651, 2654)), ('▁encuentra', (2654, 2664)), ('▁con', (2664, 2668)), ('▁un', (2668, 2671)), ('▁cuadro', (2671, 2678)), ('▁de', (2678, 2681)), ('▁agita', (2681, 2687)), ('ción', (2687, 2692)), ('▁psico', (2692, 2698)), ('mot', (2698, 2701)), ('riz', (2701, 2704)), ('▁importante', (2704, 2715)), (',', (2715, 2716)), ('▁in', (2716, 2719)), ('co', (2719, 2721)), ('her', (2721, 2724)), ('encia', (2724, 2729)), ('▁en', (2729, 2732)), ('▁el', (2732, 2735)), ('▁lenguaje', (2735, 2744)), ('▁y', (2744, 2746)), ('▁des', (2746, 2750)), ('con', (2750, 2753)), ('ex', (2753, 2755)), ('ión', (2755, 2759)), ('▁con', (2759, 2763)), ('▁el', (2763, 2766)), ('▁medio', (2766, 2772)), (',', (2772, 2773)), ('▁compatible', (2773, 2784)), ('▁con', (2784, 2788)), ('▁el', (2788, 2791)), ('▁diagnóstico', (2791, 2804)), ('▁de', (2804, 2807)), ('▁síndrome', (2807, 2817)), ('▁de', (2817, 2820)), ('▁ab', (2820, 2823)), ('stin', (2823, 2827)), ('encia', (2827, 2832)), ('.', (2832, 2833))]\n",
      "\n",
      "\n",
      "[('▁Nos', (2834, 2837)), ('▁vemos', (2837, 2843)), ('▁obliga', (2843, 2850)), ('dos', (2850, 2853)), ('▁a', (2853, 2855)), ('▁realizar', (2855, 2864)), ('▁un', (2864, 2867)), ('▁diagnóstico', (2867, 2880)), ('▁di', (2880, 2883)), ('fen', (2883, 2886)), ('cial', (2886, 2890)), ('.', (2890, 2891))]\n",
      "\n",
      "\n",
      "[('▁Desc', (2892, 2896)), ('ar', (2896, 2898)), ('tado', (2898, 2902)), ('▁el', (2902, 2905)), ('▁origen', (2905, 2912)), ('▁meta', (2912, 2917)), ('ból', (2917, 2921)), ('ico', (2921, 2924)), ('▁del', (2924, 2928)), ('▁cuadro', (2928, 2935)), ('▁confusion', (2935, 2945)), ('al', (2945, 2947)), ('▁(', (2947, 2949)), ('ana', (2949, 2952)), ('lítica', (2952, 2959)), ('▁normal', (2959, 2966)), ('),', (2966, 2968)), ('▁se', (2968, 2971)), ('▁piensa', (2971, 2978)), ('▁en', (2978, 2981)), ('▁un', (2981, 2984)), ('▁síndrome', (2984, 2994)), ('▁de', (2994, 2997)), ('▁sobre', (2997, 3003)), ('dos', (3003, 3006)), ('is', (3006, 3008)), ('/', (3008, 3009)), ('ab', (3009, 3011)), ('stin', (3011, 3015)), ('encia', (3015, 3020)), (',', (3020, 3021)), ('▁para', (3021, 3026)), ('▁algunos', (3026, 3034)), ('▁origina', (3034, 3042)), ('do', (3042, 3044)), ('▁por', (3044, 3048)), ('▁la', (3048, 3051)), ('▁dosis', (3051, 3057)), ('▁de', (3057, 3060)), ('▁op', (3060, 3063)), ('io', (3063, 3065)), ('ide', (3065, 3068)), ('▁pauta', (3068, 3074)), ('do', (3074, 3076)), ('▁y', (3076, 3078)), ('▁para', (3078, 3083)), ('▁nosotros', (3083, 3092)), ('▁por', (3092, 3096)), ('▁un', (3096, 3099)), ('▁posible', (3099, 3107)), ('▁abuso', (3107, 3113)), ('▁de', (3113, 3116)), ('▁sustancia', (3116, 3126)), ('s', (3126, 3127)), ('▁(', (3127, 3129)), ('el', (3129, 3131)), ('▁perfil', (3131, 3138)), ('▁de', (3138, 3141)), ('▁tó', (3141, 3145)), ('xico', (3145, 3149)), ('s', (3149, 3150)), ('▁en', (3150, 3153)), ('▁o', (3153, 3155)), ('rina', (3155, 3159)), ('▁no', (3159, 3162)), ('▁es', (3162, 3165)), ('▁conclu', (3165, 3172)), ('y', (3172, 3173)), ('ente', (3173, 3177)), ('▁a', (3177, 3179)), ('▁este', (3179, 3184)), ('▁respecto', (3184, 3193)), (',', (3193, 3194)), ('▁pues', (3194, 3199)), ('▁presenta', (3199, 3208)), ('ba', (3208, 3210)), ('▁positiv', (3210, 3218)), ('idad', (3218, 3222)), ('▁para', (3222, 3227)), ('▁las', (3227, 3231)), ('▁sustancia', (3231, 3241)), ('s', (3241, 3242)), ('▁ya', (3242, 3245)), ('▁pauta', (3245, 3251)), ('das', (3251, 3254)), ('▁y', (3254, 3256)), ('▁negativ', (3256, 3264)), ('idad', (3264, 3268)), ('▁para', (3268, 3273)), ('▁el', (3273, 3276)), ('▁cannabis', (3276, 3285)), ('),', (3285, 3287)), ('▁por', (3287, 3291)), ('▁lo', (3291, 3294)), ('▁que', (3294, 3298)), ('▁se', (3298, 3301)), ('▁realiza', (3301, 3309)), ('▁una', (3309, 3313)), ('▁inter', (3313, 3319)), ('consult', (3319, 3326)), ('a', (3326, 3327)), ('▁a', (3327, 3329)), ('▁psi', (3329, 3333)), ('qui', (3333, 3336)), ('at', (3336, 3338)), ('ría', (3338, 3342)), ('▁para', (3342, 3347)), ('▁que', (3347, 3351)), ('▁valore', (3351, 3358)), ('▁al', (3358, 3361)), ('▁paciente', (3361, 3370)), ('▁y', (3370, 3372)), ('▁confirme', (3372, 3381)), ('▁si', (3381, 3384)), ('▁hay', (3384, 3388)), ('▁un', (3388, 3391)), ('▁patrón', (3391, 3399)), ('▁de', (3399, 3402)), ('▁abuso', (3402, 3408)), ('▁de', (3408, 3411)), ('▁sustancia', (3411, 3421)), ('s', (3421, 3422)), ('▁(', (3422, 3424)), ('la', (3424, 3426)), ('▁familia', (3426, 3434)), ('▁nie', (3434, 3438))]\n",
      "\n",
      "\n",
      "[('ga', (3438, 3440)), ('▁consumo', (3440, 3448)), ('▁de', (3448, 3451)), ('▁tó', (3451, 3455)), ('xico', (3455, 3459)), ('s', (3459, 3460)), ('▁por', (3460, 3464)), ('▁parte', (3464, 3470)), ('▁del', (3470, 3474)), ('▁paciente', (3474, 3483)), (',', (3483, 3484)), ('▁pero', (3484, 3489)), ('▁no', (3489, 3492)), ('▁siempre', (3492, 3500)), ('▁están', (3500, 3507)), ('▁con', (3507, 3511)), ('▁él', (3511, 3515)), (')', (3515, 3516)), ('▁u', (3516, 3518)), ('▁otro', (3518, 3523)), ('▁origen', (3523, 3530)), ('.', (3530, 3531))]\n",
      "\n",
      "\n",
      "[('▁La', (3533, 3535)), ('▁impresión', (3535, 3546)), ('▁di', (3546, 3549)), ('ag', (3549, 3551)), ('nó', (3551, 3554)), ('stica', (3554, 3559)), ('▁del', (3559, 3563)), ('▁psi', (3563, 3567)), ('qui', (3567, 3570)), ('atra', (3570, 3574)), ('▁fue', (3574, 3578)), ('▁poli', (3578, 3583)), ('medic', (3583, 3588)), ('ación', (3588, 3594)), (',', (3594, 3595)), ('▁sobre', (3595, 3601)), ('▁todo', (3601, 3606)), ('▁los', (3606, 3610)), ('▁op', (3610, 3613)), ('io', (3613, 3615)), ('ides', (3615, 3619)), (',', (3619, 3620)), ('▁y', (3620, 3622)), ('▁sug', (3622, 3626)), ('ieren', (3626, 3631)), ('▁una', (3631, 3635)), ('▁ben', (3635, 3639)), ('zo', (3639, 3641)), ('dia', (3641, 3644)), ('ce', (3644, 3646)), ('pina', (3646, 3650)), ('▁de', (3650, 3653)), ('▁vida', (3653, 3658)), ('▁media', (3658, 3664)), ('▁corta', (3664, 3670)), ('▁para', (3670, 3675)), ('▁controlar', (3675, 3685)), ('▁la', (3685, 3688)), ('▁agita', (3688, 3694)), ('ción', (3694, 3699)), ('▁psico', (3699, 3705)), ('mot', (3705, 3708)), ('riz', (3708, 3711)), ('▁(', (3711, 3713)), ('al', (3713, 3715)), ('praz', (3715, 3719)), ('o', (3719, 3720)), ('lam', (3720, 3723)), ('▁4', (3723, 3725)), ('▁mg', (3725, 3728)), ('▁v', (3728, 3730)), ('.', (3730, 3731)), ('o', (3731, 3732)), ('.', (3732, 3733)), ('/8', (3733, 3735)), ('▁h', (3735, 3737)), (',', (3737, 3738)), ('▁que', (3738, 3742)), ('▁se', (3742, 3745)), ('▁fue', (3745, 3749)), ('▁dis', (3749, 3753)), ('minu', (3753, 3757)), ('y', (3757, 3758)), ('endo', (3758, 3762)), ('▁progresiv', (3762, 3772)), ('amente', (3772, 3778)), ('▁según', (3778, 3785)), ('▁iba', (3785, 3789)), ('▁remit', (3789, 3795)), ('iendo', (3795, 3800)), ('▁el', (3800, 3803)), ('▁cuadro', (3803, 3810)), (').', (3810, 3812))]\n",
      "\n",
      "\n",
      "[('▁A', (3813, 3814)), ('▁este', (3814, 3819)), ('▁respecto', (3819, 3828)), (',', (3828, 3829)), ('▁como', (3829, 3834)), ('▁ya', (3834, 3837)), ('▁se', (3837, 3840)), ('▁había', (3840, 3847)), ('▁dis', (3847, 3851)), ('minu', (3851, 3855)), ('ido', (3855, 3858)), ('▁el', (3858, 3861)), ('▁op', (3861, 3864)), ('io', (3864, 3866)), ('ide', (3866, 3869)), (',', (3869, 3870)), ('▁no', (3870, 3873)), ('▁se', (3873, 3876)), ('▁to', (3876, 3879)), ('mó', (3879, 3882)), ('▁ninguna', (3882, 3890)), ('▁otra', (3890, 3895)), ('▁medida', (3895, 3902)), ('.', (3902, 3903))]\n",
      "\n",
      "\n",
      "[('▁En', (3904, 3906)), ('▁cuanto', (3906, 3913)), ('▁al', (3913, 3916)), ('▁control', (3916, 3924)), ('▁del', (3924, 3928)), ('▁dolor', (3928, 3934)), (',', (3934, 3935)), ('▁en', (3935, 3938)), ('▁los', (3938, 3942)), ('▁siguientes', (3942, 3953)), ('▁15', (3953, 3956)), ('▁días', (3956, 3962)), (',', (3962, 3963)), ('▁el', (3963, 3966)), ('▁tratamiento', (3966, 3978)), ('▁anti', (3978, 3983)), ('neu', (3983, 3986)), ('rop', (3986, 3989)), ('ático', (3989, 3995)), ('▁fue', (3995, 3999)), ('▁muy', (3999, 4003)), ('▁efectivo', (4003, 4012)), (',', (4012, 4013)), ('▁except', (4013, 4020)), ('o', (4020, 4021)), ('▁por', (4021, 4025)), ('▁una', (4025, 4029)), ('▁per', (4029, 4033)), ('sistencia', (4033, 4042)), ('▁de', (4042, 4045)), ('▁dolor', (4045, 4051)), ('▁en', (4051, 4054)), ('▁forma', (4054, 4060)), ('▁de', (4060, 4063)), ('▁\"', (4063, 4065)), ('pin', (4065, 4068)), ('cha', (4068, 4071)), ('zos', (4071, 4074)), ('\",', (4074, 4076)), ('▁que', (4076, 4080)), ('▁requiri', (4080, 4088)), ('ó', (4088, 4090)), ('▁de', (4090, 4093)), ('▁un', (4093, 4096)), ('▁aumento', (4096, 4104)), ('▁gradual', (4104, 4112)), ('▁de', (4112, 4115)), ('▁la', (4115, 4118)), ('▁ami', (4118, 4122)), ('trip', (4122, 4126)), ('ti', (4126, 4128)), ('lina', (4128, 4132)), ('▁(1', (4132, 4135)), (',', (4135, 4136)), ('2)', (4136, 4138)), ('▁hasta', (4138, 4144)), ('▁75', (4144, 4147)), ('▁mg', (4147, 4150)), ('▁por', (4150, 4154)), ('▁la', (4154, 4157)), ('▁noche', (4157, 4163)), ('.', (4163, 4164))]\n",
      "\n",
      "\n",
      "[('▁Esta', (4165, 4169)), ('▁medida', (4169, 4176)), ('▁con', (4176, 4180)), ('s', (4180, 4181)), ('igu', (4181, 4184)), ('ió', (4184, 4187)), ('▁un', (4187, 4190)), ('▁', (4190, 4191)), ('EVA', (4191, 4194)), ('2', (4194, 4195)), (',', (4195, 4196)), ('▁con', (4196, 4200)), ('▁una', (4200, 4204)), ('▁importante', (4204, 4215)), ('▁mejora', (4215, 4222)), ('▁en', (4222, 4225)), ('▁el', (4225, 4228)), ('▁descanso', (4228, 4237)), ('▁nocturn', (4237, 4245)), ('o', (4245, 4246)), ('▁y', (4246, 4248)), ('▁en', (4248, 4251)), ('▁el', (4251, 4254)), ('▁estado', (4254, 4261)), ('▁de', (4261, 4264)), ('▁ánimo', (4264, 4271)), ('.', (4271, 4272))]\n",
      "\n",
      "\n",
      "[('▁Además', (4273, 4280)), (',', (4280, 4281)), ('▁el', (4281, 4284)), ('▁paciente', (4284, 4293)), ('▁deja', (4293, 4298)), ('▁de', (4298, 4301)), ('▁precisar', (4301, 4310)), ('▁rescat', (4310, 4317)), ('es', (4317, 4319)), (',', (4319, 4320)), ('▁como', (4320, 4325)), ('▁ya', (4325, 4328)), ('▁se', (4328, 4331)), ('▁ha', (4331, 4334)), ('▁comenta', (4334, 4342)), ('do', (4342, 4344)), ('.', (4344, 4345))]\n",
      "\n",
      "\n",
      "[('▁Por', (4346, 4349)), ('▁ello', (4349, 4354)), ('▁nos', (4354, 4358)), ('▁podría', (4358, 4366)), ('mos', (4366, 4369)), ('▁haber', (4369, 4375)), ('▁plantea', (4375, 4383)), ('do', (4383, 4385)), ('▁la', (4385, 4388)), ('▁dis', (4388, 4392)), ('minu', (4392, 4396)), ('ción', (4396, 4401)), ('▁de', (4401, 4404)), ('▁la', (4404, 4407)), ('▁medica', (4407, 4414)), ('ción', (4414, 4419)), ('▁op', (4419, 4422)), ('io', (4422, 4424)), ('ide', (4424, 4427)), (',', (4427, 4428)), ('▁pero', (4428, 4433)), ('▁el', (4433, 4436)), ('▁paciente', (4436, 4445)), ('▁', (4445, 4446)), ('segu', (4446, 4450)), ('ía', (4450, 4453)), ('▁presenta', (4453, 4462)), ('ndo', (4462, 4465)), ('▁altera', (4465, 4472)), ('ciones', (4472, 4478)), ('▁del', (4478, 4482)), ('▁comportamiento', (4482, 4497)), ('▁y', (4497, 4499)), ('▁del', (4499, 4503)), ('▁nivel', (4503, 4509)), ('▁de', (4509, 4512)), ('▁con', (4512, 4516)), ('sci', (4516, 4519)), ('encia', (4519, 4524)), ('▁que', (4524, 4528)), ('▁i', (4528, 4530)), ('ban', (4530, 4533)), ('▁del', (4533, 4537)), ('▁estu', (4537, 4542)), ('por', (4542, 4545)), ('▁a', (4545, 4547)), ('▁la', (4547, 4550)), ('▁agita', (4550, 4556)), ('ción', (4556, 4561)), ('▁psico', (4561, 4567)), ('mot', (4567, 4570)), ('riz', (4570, 4573)), (',', (4573, 4574)), ('▁teniendo', (4574, 4583)), ('▁como', (4583, 4588)), ('▁primera', (4588, 4596)), ('▁reper', (4596, 4602)), ('cu', (4602, 4604)), ('sión', (4604, 4609)), ('▁la', (4609, 4612)), ('▁no', (4612, 4615)), ('▁administración', (4615, 4631)), ('▁del', (4631, 4635)), ('▁op', (4635, 4638)), ('io', (4638, 4640)), ('ide', (4640, 4643)), ('▁pauta', (4643, 4649)), ('do', (4649, 4651)), ('▁por', (4651, 4655)), ('▁parte', (4655, 4661)), ('▁del', (4661, 4665)), ('▁personal', (4665, 4674)), ('▁de', (4674, 4677)), ('▁en', (4677, 4680)), ('ferm', (4680, 4684)), ('ería', (4684, 4689)), (',', (4689, 4690)), ('▁por', (4690, 4694)), ('▁miedo', (4694, 4700)), ('▁a', (4700, 4702)), ('▁que', (4702, 4706)), ('▁fue', (4706, 4710)), ('se', (4710, 4712)), ('▁una', (4712, 4716)), ('▁sobre', (4716, 4722)), ('dos', (4722, 4725)), ('is', (4725, 4727)), ('▁de', (4727, 4730)), ('▁op', (4730, 4733)), ('io', (4733, 4735)), ('ide', (4735, 4738)), ('▁y', (4738, 4740)), ('▁que', (4740, 4744)), ('▁esta', (4744, 4749)), ('▁con', (4749, 4753)), ('lle', (4753, 4756)), ('vas', (4756, 4759)), ('e', (4759, 4760)), ('▁una', (4760, 4764)), ('▁de', (4764, 4767)), ('presión', (4767, 4775)), ('▁respirator', (4775, 4786)), ('ia', (4786, 4788)), (',', (4788, 4789)), ('▁y', (4789, 4791)), ('▁en', (4791, 4794)), ('▁segundo', (4794, 4802)), ('▁lugar', (4802, 4808)), ('▁requiri', (4808, 4816)), ('endo', (4816, 4820)), ('▁conten', (4820, 4827)), ('ción', (4827, 4832)), ('▁me', (4832, 4835)), ('cán', (4835, 4839)), ('ica', (4839, 4842)), ('▁tras', (4842, 4847)), ('▁ca', (4847, 4850)), ('er', (4850, 4852)), ('se', (4852, 4854)), ('▁y', (4854, 4856)), ('▁lux', (4856, 4860)), ('arse', (4860, 4864)), ('▁el', (4864, 4867)), ('▁espa', (4867, 4872)), ('ci', (4872, 4874)), ('ador', (4874, 4878))]\n",
      "\n",
      "\n",
      "[('▁colocado', (4878, 4887)), ('▁en', (4887, 4890)), ('▁fé', (4890, 4894)), ('mur', (4894, 4897)), ('.', (4897, 4898))]\n",
      "\n",
      "\n",
      "[('▁Se', (4899, 4901)), ('▁insiste', (4901, 4909)), ('▁en', (4909, 4912)), ('▁que', (4912, 4916)), ('▁se', (4916, 4919)), ('▁ha', (4919, 4922)), ('▁de', (4922, 4925)), ('▁administra', (4925, 4936)), ('r', (4936, 4937)), ('▁toda', (4937, 4942)), ('▁la', (4942, 4945)), ('▁medica', (4945, 4952)), ('ción', (4952, 4957)), ('▁pauta', (4957, 4963)), ('da', (4963, 4965)), ('▁y', (4965, 4967)), ('▁se', (4967, 4970)), ('▁mantiene', (4970, 4979)), ('▁la', (4979, 4982)), ('▁dosis', (4982, 4988)), ('▁total', (4988, 4994)), ('▁de', (4994, 4997)), ('▁op', (4997, 5000)), ('io', (5000, 5002)), ('ide', (5002, 5005)), ('▁(', (5005, 5007)), ('M', (5007, 5008)), ('ST', (5008, 5010)), ('®', (5010, 5012)), ('▁10', (5012, 5015)), ('-0', (5015, 5017)), ('-10', (5017, 5020)), ('▁y', (5020, 5022)), ('▁A', (5022, 5024)), ('dol', (5024, 5027)), ('onta', (5027, 5031)), ('®', (5031, 5033)), ('▁100', (5033, 5037)), ('▁mg', (5037, 5040)), ('▁de', (5040, 5043)), ('▁rescat', (5043, 5050)), ('e', (5050, 5051)), ('),', (5051, 5053)), ('▁para', (5053, 5058)), ('▁no', (5058, 5061)), ('▁rein', (5061, 5066)), ('ci', (5066, 5068)), ('dir', (5068, 5071)), ('▁en', (5071, 5074)), ('▁posibles', (5074, 5083)), ('▁síndrome', (5083, 5093)), ('s', (5093, 5094)), ('▁de', (5094, 5097)), ('▁ab', (5097, 5100)), ('stin', (5100, 5104)), ('encia', (5104, 5109)), ('.', (5109, 5110))]\n",
      "\n",
      "\n",
      "[('▁A', (5111, 5112)), ('▁pesar', (5112, 5118)), ('▁de', (5118, 5121)), ('▁que', (5121, 5125)), ('▁el', (5125, 5128)), ('▁paciente', (5128, 5137)), ('▁presenta', (5137, 5146)), ('ba', (5146, 5148)), ('▁pic', (5148, 5152)), ('os', (5152, 5154)), ('▁febr', (5154, 5159)), ('ile', (5159, 5162)), ('s', (5162, 5163)), (',', (5163, 5164)), ('▁los', (5164, 5168)), ('▁infect', (5168, 5175)), ('ólogo', (5175, 5181)), ('s', (5181, 5182)), ('▁que', (5182, 5186)), ('▁', (5186, 5187)), ('segu', (5187, 5191)), ('ían', (5191, 5195)), ('▁al', (5195, 5198)), ('▁paciente', (5198, 5207)), ('▁no', (5207, 5210)), ('▁considera', (5210, 5220)), ('ban', (5220, 5223)), ('▁que', (5223, 5227)), ('▁la', (5227, 5230)), ('▁fie', (5230, 5234)), ('bre', (5234, 5237)), ('▁ni', (5237, 5240)), ('▁otra', (5240, 5245)), ('▁posible', (5245, 5253)), ('▁complica', (5253, 5262)), ('ción', (5262, 5267)), ('▁deriva', (5267, 5274)), ('da', (5274, 5276)), ('▁de', (5276, 5279)), ('▁la', (5279, 5282)), ('▁osteo', (5282, 5288)), ('miel', (5288, 5292)), ('itis', (5292, 5296)), (',', (5296, 5297)), ('▁como', (5297, 5302)), ('▁una', (5302, 5306)), ('▁en', (5306, 5309)), ('do', (5309, 5311)), ('card', (5311, 5315)), ('itis', (5315, 5319)), ('▁o', (5319, 5321)), ('▁abs', (5321, 5325)), ('ces', (5325, 5328)), ('o', (5328, 5329)), ('▁cerebral', (5329, 5338)), (',', (5338, 5339)), ('▁fue', (5339, 5343)), ('sen', (5343, 5346)), ('▁responsables', (5346, 5359)), ('▁del', (5359, 5363)), ('▁cuadro', (5363, 5370)), ('.', (5370, 5371))]\n",
      "\n",
      "\n",
      "[('▁Como', (5372, 5376)), ('▁nos', (5376, 5380)), ('▁parecía', (5380, 5389)), ('▁poco', (5389, 5394)), ('▁probable', (5394, 5403)), ('▁que', (5403, 5407)), ('▁una', (5407, 5411)), ('▁sobre', (5411, 5417)), ('dos', (5417, 5420)), ('ificación', (5420, 5430)), ('/', (5430, 5431)), ('ab', (5431, 5433)), ('stin', (5433, 5437)), ('encia', (5437, 5442)), ('▁de', (5442, 5445)), ('▁los', (5445, 5449)), ('▁op', (5449, 5452)), ('io', (5452, 5454)), ('ides', (5454, 5458)), ('▁pauta', (5458, 5464)), ('dos', (5464, 5467)), ('▁fue', (5467, 5471)), ('se', (5471, 5473)), ('▁el', (5473, 5476)), ('▁origen', (5476, 5483)), ('▁del', (5483, 5487)), ('▁síndrome', (5487, 5497)), ('▁confusion', (5497, 5507)), ('al', (5507, 5509)), ('▁que', (5509, 5513)), ('▁pa', (5513, 5516)), ('de', (5516, 5518)), ('cía', (5518, 5522)), ('▁este', (5522, 5527)), ('▁paciente', (5527, 5536)), ('▁a', (5536, 5538)), ('▁lo', (5538, 5541)), ('▁largo', (5541, 5547)), ('▁de', (5547, 5550)), ('▁más', (5550, 5555)), ('▁de', (5555, 5558)), ('▁2', (5558, 5560)), ('▁semanas', (5560, 5568)), (',', (5568, 5569)), ('▁se', (5569, 5572)), ('▁decide', (5572, 5579)), ('▁descarta', (5579, 5588)), ('r', (5588, 5589)), ('▁organic', (5589, 5597)), ('idad', (5597, 5601)), ('▁pidi', (5601, 5606)), ('endo', (5606, 5610)), ('▁un', (5610, 5613)), ('▁', (5613, 5614)), ('TAC', (5614, 5617)), ('▁c', (5617, 5619)), ('rane', (5619, 5623)), ('al', (5623, 5625)), ('▁a', (5625, 5627)), ('▁las', (5627, 5631)), ('▁3', (5631, 5633)), ('▁semanas', (5633, 5641)), ('▁del', (5641, 5645)), ('▁seguimiento', (5645, 5657)), ('.', (5657, 5658))]\n",
      "\n",
      "\n",
      "[('▁En', (5659, 5661)), ('▁el', (5661, 5664)), ('▁', (5664, 5665)), ('TAC', (5665, 5668)), ('▁c', (5668, 5670)), ('rane', (5670, 5674)), ('al', (5674, 5676)), ('▁se', (5676, 5679)), ('▁visual', (5679, 5686)), ('i', (5686, 5687)), ('zó', (5687, 5690)), ('▁un', (5690, 5693)), ('▁in', (5693, 5696)), ('far', (5696, 5699)), ('to', (5699, 5701)), ('▁cerebral', (5701, 5710)), ('▁pari', (5710, 5715)), ('e', (5715, 5716)), ('tal', (5716, 5719)), ('▁derecho', (5719, 5727)), ('▁sub', (5727, 5731)), ('agu', (5731, 5734)), ('do', (5734, 5736)), ('.', (5736, 5737))]\n",
      "\n",
      "\n"
     ]
    }
   ],
   "source": [
    "for i in range(check_id_frag, check_id_frag + dev_frag[check_id]):\n",
    "    print(list(zip([tokenizer._convert_id_to_token(int(ind)) for ind in dev_ind[i]][1:len(dev_start_end_frag[i])+1], \n",
    "               dev_start_end_frag[i])))\n",
    "    print(\"\\n\")"
   ]
  },
  {
   "cell_type": "code",
   "execution_count": 102,
   "metadata": {},
   "outputs": [
    {
     "name": "stdout",
     "output_type": "stream",
     "text": [
      "<s> ▁Var ón ▁de ▁42 ▁años ▁con ▁antecede ntes ▁personales ▁de ▁alcohol ismo , ▁abuso ▁de ▁coca ína ▁y ▁fra ctura ▁de ▁mese ta ▁tibi al ▁derecha ▁en ▁enero ▁de ▁2011 ▁que ▁se ▁tra tó ▁qui rú rg icamente ▁( os te os í ntes is - plac a ▁con ▁in jer to ▁cre sta ▁ili aca ). </s> <pad> <pad> <pad> <pad> <pad> <pad> <pad> <pad> <pad> <pad> <pad> <pad> <pad> <pad> <pad> <pad> <pad> <pad> <pad> <pad> <pad> <pad> <pad> <pad> <pad> <pad> <pad> <pad> <pad> <pad> <pad> <pad> <pad> <pad> <pad> <pad> <pad> <pad> <pad> <pad> <pad> <pad> <pad> <pad> <pad> <pad> <pad> <pad> <pad> <pad> <pad> <pad> <pad> <pad> <pad> <pad> <pad> <pad> <pad> <pad> <pad> <pad> <pad> <pad> <pad> <pad> <pad> <pad> <pad> \n",
      "\n",
      "<s> ▁Se ▁produce ▁una ▁infección ▁de ▁her ida ▁qui rú r gica ▁que ▁acaba ▁genera ndo ▁una ▁osteo miel itis ▁tibi al ▁derecha ▁a ▁los ▁4 ▁meses , ▁requiri endo ▁varias ▁interven ciones ▁qui rú rg icas ▁para ▁extra cción ▁de ▁material ▁de ▁osteo sí ntes is , ▁des brid amiento ▁y ▁limpieza . </s> <pad> <pad> <pad> <pad> <pad> <pad> <pad> <pad> <pad> <pad> <pad> <pad> <pad> <pad> <pad> <pad> <pad> <pad> <pad> <pad> <pad> <pad> <pad> <pad> <pad> <pad> <pad> <pad> <pad> <pad> <pad> <pad> <pad> <pad> <pad> <pad> <pad> <pad> <pad> <pad> <pad> <pad> <pad> <pad> <pad> <pad> <pad> <pad> <pad> <pad> <pad> <pad> <pad> <pad> <pad> <pad> <pad> <pad> <pad> <pad> <pad> <pad> <pad> <pad> <pad> <pad> <pad> <pad> <pad> <pad> <pad> <pad> <pad> \n",
      "\n",
      "<s> ▁El ▁paciente ▁está ▁in gres ado ▁desde ▁el ▁4. o ▁mes ▁y ▁en ▁tratamiento ▁con ▁anti bi oterapia ▁en do ven osa ▁de ▁última ▁generación ▁que ▁se ▁administra ▁por ▁una ▁vía ▁central , ▁y ▁vía ▁oral ▁con ▁2 ▁com primi dos ▁de ▁distra ne uri ne ▁y ▁bro ma zep am /12 ▁h ▁desde ▁su ▁ingreso ▁( para ▁prevenir ▁un ▁de li rium ▁por ▁de pri va ción ▁al co hó lica ); ▁como ▁anal gesi a : ▁pre gabal ina ▁75 -0 -150 , ▁para ce ta mol ▁1 ▁g /8 ▁h ▁en do ven osa , ▁met ami zol ▁2 ▁g /8 ▁h ▁en do ven osa , ▁trama dol ▁100 ▁mg /8 ▁h ▁en do ven osa , ▁En ant yun ® ▁25 </s> \n",
      "\n",
      "<s> /8 ▁h ▁vía ▁oral ▁y ▁mor fina ▁5 ▁mg /6 ▁h ▁en do ven osa ▁( un ▁total ▁de ▁20 ▁mg ▁en do ven osos ▁al ▁día ). </s> <pad> <pad> <pad> <pad> <pad> <pad> <pad> <pad> <pad> <pad> <pad> <pad> <pad> <pad> <pad> <pad> <pad> <pad> <pad> <pad> <pad> <pad> <pad> <pad> <pad> <pad> <pad> <pad> <pad> <pad> <pad> <pad> <pad> <pad> <pad> <pad> <pad> <pad> <pad> <pad> <pad> <pad> <pad> <pad> <pad> <pad> <pad> <pad> <pad> <pad> <pad> <pad> <pad> <pad> <pad> <pad> <pad> <pad> <pad> <pad> <pad> <pad> <pad> <pad> <pad> <pad> <pad> <pad> <pad> <pad> <pad> <pad> <pad> <pad> <pad> <pad> <pad> <pad> <pad> <pad> <pad> <pad> <pad> <pad> <pad> <pad> <pad> <pad> <pad> <pad> <pad> <pad> <pad> <pad> <pad> <pad> <pad> <pad> \n",
      "\n",
      "<s> ▁Al ▁8. o ▁mes ▁de ▁evolución ▁del ▁proceso ▁inter consult an ▁a ▁la ▁Un idad ▁del ▁Dolor ▁por ▁mal ▁control ▁del ▁dolor . </s> <pad> <pad> <pad> <pad> <pad> <pad> <pad> <pad> <pad> <pad> <pad> <pad> <pad> <pad> <pad> <pad> <pad> <pad> <pad> <pad> <pad> <pad> <pad> <pad> <pad> <pad> <pad> <pad> <pad> <pad> <pad> <pad> <pad> <pad> <pad> <pad> <pad> <pad> <pad> <pad> <pad> <pad> <pad> <pad> <pad> <pad> <pad> <pad> <pad> <pad> <pad> <pad> <pad> <pad> <pad> <pad> <pad> <pad> <pad> <pad> <pad> <pad> <pad> <pad> <pad> <pad> <pad> <pad> <pad> <pad> <pad> <pad> <pad> <pad> <pad> <pad> <pad> <pad> <pad> <pad> <pad> <pad> <pad> <pad> <pad> <pad> <pad> <pad> <pad> <pad> <pad> <pad> <pad> <pad> <pad> <pad> <pad> <pad> <pad> <pad> <pad> <pad> <pad> \n",
      "\n",
      "<s> ▁Al ▁valorar ▁al ▁paciente ▁se ▁encontraba ▁con ▁ánimo ▁depresi vo ▁y ▁con ▁un ▁dolor ▁in so port able , ▁con ▁un ▁8 ▁en ▁la ▁escala ▁visual ▁ana lógica ▁( EVA ▁8) , ▁de ▁tipo ▁neuro p ático ▁- que ma zón ▁y ▁pin cha zos ▁intenso s ▁en ▁extrem idad ▁inferior ▁derecha ▁( E ID ) - ▁que ▁le ▁dificult aba ▁el ▁descanso ▁nocturn o ▁e ▁incluso ▁le ▁desperta ba . </s> <pad> <pad> <pad> <pad> <pad> <pad> <pad> <pad> <pad> <pad> <pad> <pad> <pad> <pad> <pad> <pad> <pad> <pad> <pad> <pad> <pad> <pad> <pad> <pad> <pad> <pad> <pad> <pad> <pad> <pad> <pad> <pad> <pad> <pad> <pad> <pad> <pad> <pad> <pad> <pad> <pad> <pad> <pad> <pad> <pad> <pad> <pad> <pad> <pad> <pad> <pad> <pad> <pad> <pad> <pad> \n",
      "\n",
      "<s> ▁En ▁este ▁momento ▁también ▁presenta ba ▁pic os ▁febr ile s ▁de ▁hasta ▁39 ▁o C ▁registrado s ▁en ▁la ▁gráfica ▁de ▁en ferm ería , ▁sin ▁reper cu sión ▁orgán ica . </s> <pad> <pad> <pad> <pad> <pad> <pad> <pad> <pad> <pad> <pad> <pad> <pad> <pad> <pad> <pad> <pad> <pad> <pad> <pad> <pad> <pad> <pad> <pad> <pad> <pad> <pad> <pad> <pad> <pad> <pad> <pad> <pad> <pad> <pad> <pad> <pad> <pad> <pad> <pad> <pad> <pad> <pad> <pad> <pad> <pad> <pad> <pad> <pad> <pad> <pad> <pad> <pad> <pad> <pad> <pad> <pad> <pad> <pad> <pad> <pad> <pad> <pad> <pad> <pad> <pad> <pad> <pad> <pad> <pad> <pad> <pad> <pad> <pad> <pad> <pad> <pad> <pad> <pad> <pad> <pad> <pad> <pad> <pad> <pad> <pad> <pad> <pad> <pad> <pad> <pad> <pad> <pad> <pad> \n",
      "\n",
      "<s> ▁El ▁manejo ▁del ▁tratamiento ▁del ▁dolor ▁de ▁este ▁paciente ▁result ó ▁sencillo ▁en ▁un ▁principio , ▁pues ▁presenta ba ▁sobre ▁todo ▁dolor ▁de ▁tipo ▁neuro p ático . </s> <pad> <pad> <pad> <pad> <pad> <pad> <pad> <pad> <pad> <pad> <pad> <pad> <pad> <pad> <pad> <pad> <pad> <pad> <pad> <pad> <pad> <pad> <pad> <pad> <pad> <pad> <pad> <pad> <pad> <pad> <pad> <pad> <pad> <pad> <pad> <pad> <pad> <pad> <pad> <pad> <pad> <pad> <pad> <pad> <pad> <pad> <pad> <pad> <pad> <pad> <pad> <pad> <pad> <pad> <pad> <pad> <pad> <pad> <pad> <pad> <pad> <pad> <pad> <pad> <pad> <pad> <pad> <pad> <pad> <pad> <pad> <pad> <pad> <pad> <pad> <pad> <pad> <pad> <pad> <pad> <pad> <pad> <pad> <pad> <pad> <pad> <pad> <pad> <pad> <pad> <pad> <pad> <pad> <pad> <pad> <pad> <pad> <pad> \n",
      "\n",
      "<s> ▁Por ▁nuestra ▁parte ▁planifica mos ▁suspend er ▁escal ona damente ▁el ▁distra ne uri ne ▁y ▁el ▁bro ma ze pan . </s> <pad> <pad> <pad> <pad> <pad> <pad> <pad> <pad> <pad> <pad> <pad> <pad> <pad> <pad> <pad> <pad> <pad> <pad> <pad> <pad> <pad> <pad> <pad> <pad> <pad> <pad> <pad> <pad> <pad> <pad> <pad> <pad> <pad> <pad> <pad> <pad> <pad> <pad> <pad> <pad> <pad> <pad> <pad> <pad> <pad> <pad> <pad> <pad> <pad> <pad> <pad> <pad> <pad> <pad> <pad> <pad> <pad> <pad> <pad> <pad> <pad> <pad> <pad> <pad> <pad> <pad> <pad> <pad> <pad> <pad> <pad> <pad> <pad> <pad> <pad> <pad> <pad> <pad> <pad> <pad> <pad> <pad> <pad> <pad> <pad> <pad> <pad> <pad> <pad> <pad> <pad> <pad> <pad> <pad> <pad> <pad> <pad> <pad> <pad> <pad> <pad> <pad> <pad> <pad> \n",
      "\n",
      "<s> ▁Se ▁pas ó ▁de ▁la ▁anal gesi a ▁en do ven osa ▁a ▁la ▁vía ▁oral , ▁consegui éndose ▁una ▁dis minu ción ▁de ▁la ▁sin tomat ología : ▁a ña d iendo ▁y ▁aumentando ▁anti neu rop áticos ▁( 1,2 ): ▁pre gabal ina ▁( hasta ▁llegar ▁a ▁150 ▁mg -0 -150 ▁mg ) ▁asocia da ▁con ▁ami trip ti lina ▁(0 -0 -25 ▁mg ). </s> <pad> <pad> <pad> <pad> <pad> <pad> <pad> <pad> <pad> <pad> <pad> <pad> <pad> <pad> <pad> <pad> <pad> <pad> <pad> <pad> <pad> <pad> <pad> <pad> <pad> <pad> <pad> <pad> <pad> <pad> <pad> <pad> <pad> <pad> <pad> <pad> <pad> <pad> <pad> <pad> <pad> <pad> <pad> <pad> <pad> <pad> <pad> <pad> <pad> <pad> <pad> <pad> <pad> <pad> <pad> <pad> <pad> <pad> <pad> \n",
      "\n",
      "<s> ▁Sus pendi endo ▁la ▁mor fina ▁en do ven osa ▁y ▁cambia ndo ▁a ▁O xy con tin ® ▁a ▁dosis ▁equi an al gés icas ▁con ▁la ▁mor fina ▁(10 -0 -10 ▁mg ) ▁y ▁para ce ta mol ▁1 ▁g /8 ▁h , ▁precisa ndo ▁puntual mente ▁rescat es ▁con ▁O xy norm ® ▁5 ▁mg . </s> <pad> <pad> <pad> <pad> <pad> <pad> <pad> <pad> <pad> <pad> <pad> <pad> <pad> <pad> <pad> <pad> <pad> <pad> <pad> <pad> <pad> <pad> <pad> <pad> <pad> <pad> <pad> <pad> <pad> <pad> <pad> <pad> <pad> <pad> <pad> <pad> <pad> <pad> <pad> <pad> <pad> <pad> <pad> <pad> <pad> <pad> <pad> <pad> <pad> <pad> <pad> <pad> <pad> <pad> <pad> <pad> <pad> <pad> <pad> <pad> <pad> <pad> <pad> <pad> <pad> <pad> <pad> \n",
      "\n",
      "<s> ▁Al ▁cuarto ▁día ▁del ▁seguimiento ▁el ▁paciente ▁debut ó ▁con ▁un ▁cuadro ▁de ▁estu por ▁importante ▁por ▁la ▁noche ▁y ▁al ▁día ▁siguiente , ▁sin ▁responder ▁a ▁estímulo s ▁ni ▁obedece r ▁ ór den es . </s> <pad> <pad> <pad> <pad> <pad> <pad> <pad> <pad> <pad> <pad> <pad> <pad> <pad> <pad> <pad> <pad> <pad> <pad> <pad> <pad> <pad> <pad> <pad> <pad> <pad> <pad> <pad> <pad> <pad> <pad> <pad> <pad> <pad> <pad> <pad> <pad> <pad> <pad> <pad> <pad> <pad> <pad> <pad> <pad> <pad> <pad> <pad> <pad> <pad> <pad> <pad> <pad> <pad> <pad> <pad> <pad> <pad> <pad> <pad> <pad> <pad> <pad> <pad> <pad> <pad> <pad> <pad> <pad> <pad> <pad> <pad> <pad> <pad> <pad> <pad> <pad> <pad> <pad> <pad> <pad> <pad> <pad> <pad> <pad> <pad> <pad> <pad> <pad> <pad> \n",
      "\n",
      "<s> ▁Tras ▁descarta r ▁consumo ▁ex ó geno ▁de ▁op io ide , ▁se ▁dis minu ye ▁la ▁dosis ▁total ▁de ▁op io ide ▁a ▁M ST ® ▁10 -0 -10 ▁y ▁A dol onta ® ▁100 ▁mg ▁de ▁rescat e ▁si ▁dolor ▁( preci s ando ▁al ▁inicio ▁del ▁tratamiento ▁una ▁antes ▁de ▁ac osta rse ▁y ▁ocasiona lmente ▁a ▁lo ▁largo ▁del ▁día , ▁y ▁no ▁precis á ndo la ▁al ▁cabo ▁de ▁10 ▁días ). </s> <pad> <pad> <pad> <pad> <pad> <pad> <pad> <pad> <pad> <pad> <pad> <pad> <pad> <pad> <pad> <pad> <pad> <pad> <pad> <pad> <pad> <pad> <pad> <pad> <pad> <pad> <pad> <pad> <pad> <pad> <pad> <pad> <pad> <pad> <pad> <pad> <pad> <pad> <pad> <pad> <pad> <pad> <pad> <pad> <pad> <pad> <pad> <pad> <pad> \n",
      "\n",
      "<s> ▁Al ▁quinto ▁día ▁el ▁paciente ▁se ▁encuentra ▁con ▁un ▁cuadro ▁de ▁agita ción ▁psico mot riz ▁importante , ▁in co her encia ▁en ▁el ▁lenguaje ▁y ▁des con ex ión ▁con ▁el ▁medio , ▁compatible ▁con ▁el ▁diagnóstico ▁de ▁síndrome ▁de ▁ab stin encia . </s> <pad> <pad> <pad> <pad> <pad> <pad> <pad> <pad> <pad> <pad> <pad> <pad> <pad> <pad> <pad> <pad> <pad> <pad> <pad> <pad> <pad> <pad> <pad> <pad> <pad> <pad> <pad> <pad> <pad> <pad> <pad> <pad> <pad> <pad> <pad> <pad> <pad> <pad> <pad> <pad> <pad> <pad> <pad> <pad> <pad> <pad> <pad> <pad> <pad> <pad> <pad> <pad> <pad> <pad> <pad> <pad> <pad> <pad> <pad> <pad> <pad> <pad> <pad> <pad> <pad> <pad> <pad> <pad> <pad> <pad> <pad> <pad> <pad> <pad> <pad> <pad> <pad> <pad> <pad> <pad> <pad> \n",
      "\n",
      "<s> ▁Nos ▁vemos ▁obliga dos ▁a ▁realizar ▁un ▁diagnóstico ▁di fen cial . </s> <pad> <pad> <pad> <pad> <pad> <pad> <pad> <pad> <pad> <pad> <pad> <pad> <pad> <pad> <pad> <pad> <pad> <pad> <pad> <pad> <pad> <pad> <pad> <pad> <pad> <pad> <pad> <pad> <pad> <pad> <pad> <pad> <pad> <pad> <pad> <pad> <pad> <pad> <pad> <pad> <pad> <pad> <pad> <pad> <pad> <pad> <pad> <pad> <pad> <pad> <pad> <pad> <pad> <pad> <pad> <pad> <pad> <pad> <pad> <pad> <pad> <pad> <pad> <pad> <pad> <pad> <pad> <pad> <pad> <pad> <pad> <pad> <pad> <pad> <pad> <pad> <pad> <pad> <pad> <pad> <pad> <pad> <pad> <pad> <pad> <pad> <pad> <pad> <pad> <pad> <pad> <pad> <pad> <pad> <pad> <pad> <pad> <pad> <pad> <pad> <pad> <pad> <pad> <pad> <pad> <pad> <pad> <pad> <pad> <pad> <pad> <pad> <pad> <pad> \n",
      "\n",
      "<s> ▁Desc ar tado ▁el ▁origen ▁meta ból ico ▁del ▁cuadro ▁confusion al ▁( ana lítica ▁normal ), ▁se ▁piensa ▁en ▁un ▁síndrome ▁de ▁sobre dos is / ab stin encia , ▁para ▁algunos ▁origina do ▁por ▁la ▁dosis ▁de ▁op io ide ▁pauta do ▁y ▁para ▁nosotros ▁por ▁un ▁posible ▁abuso ▁de ▁sustancia s ▁( el ▁perfil ▁de ▁tó xico s ▁en ▁o rina ▁no ▁es ▁conclu y ente ▁a ▁este ▁respecto , ▁pues ▁presenta ba ▁positiv idad ▁para ▁las ▁sustancia s ▁ya ▁pauta das ▁y ▁negativ idad ▁para ▁el ▁cannabis ), ▁por ▁lo ▁que ▁se ▁realiza ▁una ▁inter consult a ▁a ▁psi qui at ría ▁para ▁que ▁valore ▁al ▁paciente ▁y ▁confirme ▁si ▁hay ▁un ▁patrón ▁de ▁abuso ▁de ▁sustancia s ▁( la ▁familia ▁nie </s> \n",
      "\n",
      "<s> ga ▁consumo ▁de ▁tó xico s ▁por ▁parte ▁del ▁paciente , ▁pero ▁no ▁siempre ▁están ▁con ▁él ) ▁u ▁otro ▁origen . </s> <pad> <pad> <pad> <pad> <pad> <pad> <pad> <pad> <pad> <pad> <pad> <pad> <pad> <pad> <pad> <pad> <pad> <pad> <pad> <pad> <pad> <pad> <pad> <pad> <pad> <pad> <pad> <pad> <pad> <pad> <pad> <pad> <pad> <pad> <pad> <pad> <pad> <pad> <pad> <pad> <pad> <pad> <pad> <pad> <pad> <pad> <pad> <pad> <pad> <pad> <pad> <pad> <pad> <pad> <pad> <pad> <pad> <pad> <pad> <pad> <pad> <pad> <pad> <pad> <pad> <pad> <pad> <pad> <pad> <pad> <pad> <pad> <pad> <pad> <pad> <pad> <pad> <pad> <pad> <pad> <pad> <pad> <pad> <pad> <pad> <pad> <pad> <pad> <pad> <pad> <pad> <pad> <pad> <pad> <pad> <pad> <pad> <pad> <pad> <pad> <pad> <pad> <pad> <pad> \n",
      "\n",
      "<s> ▁La ▁impresión ▁di ag nó stica ▁del ▁psi qui atra ▁fue ▁poli medic ación , ▁sobre ▁todo ▁los ▁op io ides , ▁y ▁sug ieren ▁una ▁ben zo dia ce pina ▁de ▁vida ▁media ▁corta ▁para ▁controlar ▁la ▁agita ción ▁psico mot riz ▁( al praz o lam ▁4 ▁mg ▁v . o . /8 ▁h , ▁que ▁se ▁fue ▁dis minu y endo ▁progresiv amente ▁según ▁iba ▁remit iendo ▁el ▁cuadro ). </s> <pad> <pad> <pad> <pad> <pad> <pad> <pad> <pad> <pad> <pad> <pad> <pad> <pad> <pad> <pad> <pad> <pad> <pad> <pad> <pad> <pad> <pad> <pad> <pad> <pad> <pad> <pad> <pad> <pad> <pad> <pad> <pad> <pad> <pad> <pad> <pad> <pad> <pad> <pad> <pad> <pad> <pad> <pad> <pad> <pad> <pad> <pad> <pad> <pad> <pad> <pad> <pad> <pad> \n",
      "\n",
      "<s> ▁A ▁este ▁respecto , ▁como ▁ya ▁se ▁había ▁dis minu ido ▁el ▁op io ide , ▁no ▁se ▁to mó ▁ninguna ▁otra ▁medida . </s> <pad> <pad> <pad> <pad> <pad> <pad> <pad> <pad> <pad> <pad> <pad> <pad> <pad> <pad> <pad> <pad> <pad> <pad> <pad> <pad> <pad> <pad> <pad> <pad> <pad> <pad> <pad> <pad> <pad> <pad> <pad> <pad> <pad> <pad> <pad> <pad> <pad> <pad> <pad> <pad> <pad> <pad> <pad> <pad> <pad> <pad> <pad> <pad> <pad> <pad> <pad> <pad> <pad> <pad> <pad> <pad> <pad> <pad> <pad> <pad> <pad> <pad> <pad> <pad> <pad> <pad> <pad> <pad> <pad> <pad> <pad> <pad> <pad> <pad> <pad> <pad> <pad> <pad> <pad> <pad> <pad> <pad> <pad> <pad> <pad> <pad> <pad> <pad> <pad> <pad> <pad> <pad> <pad> <pad> <pad> <pad> <pad> <pad> <pad> <pad> <pad> <pad> \n",
      "\n",
      "<s> ▁En ▁cuanto ▁al ▁control ▁del ▁dolor , ▁en ▁los ▁siguientes ▁15 ▁días , ▁el ▁tratamiento ▁anti neu rop ático ▁fue ▁muy ▁efectivo , ▁except o ▁por ▁una ▁per sistencia ▁de ▁dolor ▁en ▁forma ▁de ▁\" pin cha zos \", ▁que ▁requiri ó ▁de ▁un ▁aumento ▁gradual ▁de ▁la ▁ami trip ti lina ▁(1 , 2) ▁hasta ▁75 ▁mg ▁por ▁la ▁noche . </s> <pad> <pad> <pad> <pad> <pad> <pad> <pad> <pad> <pad> <pad> <pad> <pad> <pad> <pad> <pad> <pad> <pad> <pad> <pad> <pad> <pad> <pad> <pad> <pad> <pad> <pad> <pad> <pad> <pad> <pad> <pad> <pad> <pad> <pad> <pad> <pad> <pad> <pad> <pad> <pad> <pad> <pad> <pad> <pad> <pad> <pad> <pad> <pad> <pad> <pad> <pad> <pad> <pad> <pad> <pad> <pad> <pad> <pad> <pad> <pad> <pad> <pad> <pad> <pad> \n",
      "\n",
      "<s> ▁Esta ▁medida ▁con s igu ió ▁un ▁ EVA 2 , ▁con ▁una ▁importante ▁mejora ▁en ▁el ▁descanso ▁nocturn o ▁y ▁en ▁el ▁estado ▁de ▁ánimo . </s> <pad> <pad> <pad> <pad> <pad> <pad> <pad> <pad> <pad> <pad> <pad> <pad> <pad> <pad> <pad> <pad> <pad> <pad> <pad> <pad> <pad> <pad> <pad> <pad> <pad> <pad> <pad> <pad> <pad> <pad> <pad> <pad> <pad> <pad> <pad> <pad> <pad> <pad> <pad> <pad> <pad> <pad> <pad> <pad> <pad> <pad> <pad> <pad> <pad> <pad> <pad> <pad> <pad> <pad> <pad> <pad> <pad> <pad> <pad> <pad> <pad> <pad> <pad> <pad> <pad> <pad> <pad> <pad> <pad> <pad> <pad> <pad> <pad> <pad> <pad> <pad> <pad> <pad> <pad> <pad> <pad> <pad> <pad> <pad> <pad> <pad> <pad> <pad> <pad> <pad> <pad> <pad> <pad> <pad> <pad> <pad> <pad> <pad> <pad> \n",
      "\n",
      "<s> ▁Además , ▁el ▁paciente ▁deja ▁de ▁precisar ▁rescat es , ▁como ▁ya ▁se ▁ha ▁comenta do . </s> <pad> <pad> <pad> <pad> <pad> <pad> <pad> <pad> <pad> <pad> <pad> <pad> <pad> <pad> <pad> <pad> <pad> <pad> <pad> <pad> <pad> <pad> <pad> <pad> <pad> <pad> <pad> <pad> <pad> <pad> <pad> <pad> <pad> <pad> <pad> <pad> <pad> <pad> <pad> <pad> <pad> <pad> <pad> <pad> <pad> <pad> <pad> <pad> <pad> <pad> <pad> <pad> <pad> <pad> <pad> <pad> <pad> <pad> <pad> <pad> <pad> <pad> <pad> <pad> <pad> <pad> <pad> <pad> <pad> <pad> <pad> <pad> <pad> <pad> <pad> <pad> <pad> <pad> <pad> <pad> <pad> <pad> <pad> <pad> <pad> <pad> <pad> <pad> <pad> <pad> <pad> <pad> <pad> <pad> <pad> <pad> <pad> <pad> <pad> <pad> <pad> <pad> <pad> <pad> <pad> <pad> <pad> <pad> <pad> \n",
      "\n",
      "<s> ▁Por ▁ello ▁nos ▁podría mos ▁haber ▁plantea do ▁la ▁dis minu ción ▁de ▁la ▁medica ción ▁op io ide , ▁pero ▁el ▁paciente ▁ segu ía ▁presenta ndo ▁altera ciones ▁del ▁comportamiento ▁y ▁del ▁nivel ▁de ▁con sci encia ▁que ▁i ban ▁del ▁estu por ▁a ▁la ▁agita ción ▁psico mot riz , ▁teniendo ▁como ▁primera ▁reper cu sión ▁la ▁no ▁administración ▁del ▁op io ide ▁pauta do ▁por ▁parte ▁del ▁personal ▁de ▁en ferm ería , ▁por ▁miedo ▁a ▁que ▁fue se ▁una ▁sobre dos is ▁de ▁op io ide ▁y ▁que ▁esta ▁con lle vas e ▁una ▁de presión ▁respirator ia , ▁y ▁en ▁segundo ▁lugar ▁requiri endo ▁conten ción ▁me cán ica ▁tras ▁ca er se ▁y ▁lux arse ▁el ▁espa ci ador </s> \n",
      "\n",
      "<s> ▁colocado ▁en ▁fé mur . </s> <pad> <pad> <pad> <pad> <pad> <pad> <pad> <pad> <pad> <pad> <pad> <pad> <pad> <pad> <pad> <pad> <pad> <pad> <pad> <pad> <pad> <pad> <pad> <pad> <pad> <pad> <pad> <pad> <pad> <pad> <pad> <pad> <pad> <pad> <pad> <pad> <pad> <pad> <pad> <pad> <pad> <pad> <pad> <pad> <pad> <pad> <pad> <pad> <pad> <pad> <pad> <pad> <pad> <pad> <pad> <pad> <pad> <pad> <pad> <pad> <pad> <pad> <pad> <pad> <pad> <pad> <pad> <pad> <pad> <pad> <pad> <pad> <pad> <pad> <pad> <pad> <pad> <pad> <pad> <pad> <pad> <pad> <pad> <pad> <pad> <pad> <pad> <pad> <pad> <pad> <pad> <pad> <pad> <pad> <pad> <pad> <pad> <pad> <pad> <pad> <pad> <pad> <pad> <pad> <pad> <pad> <pad> <pad> <pad> <pad> <pad> <pad> <pad> <pad> <pad> <pad> <pad> <pad> <pad> <pad> <pad> \n",
      "\n",
      "<s> ▁Se ▁insiste ▁en ▁que ▁se ▁ha ▁de ▁administra r ▁toda ▁la ▁medica ción ▁pauta da ▁y ▁se ▁mantiene ▁la ▁dosis ▁total ▁de ▁op io ide ▁( M ST ® ▁10 -0 -10 ▁y ▁A dol onta ® ▁100 ▁mg ▁de ▁rescat e ), ▁para ▁no ▁rein ci dir ▁en ▁posibles ▁síndrome s ▁de ▁ab stin encia . </s> <pad> <pad> <pad> <pad> <pad> <pad> <pad> <pad> <pad> <pad> <pad> <pad> <pad> <pad> <pad> <pad> <pad> <pad> <pad> <pad> <pad> <pad> <pad> <pad> <pad> <pad> <pad> <pad> <pad> <pad> <pad> <pad> <pad> <pad> <pad> <pad> <pad> <pad> <pad> <pad> <pad> <pad> <pad> <pad> <pad> <pad> <pad> <pad> <pad> <pad> <pad> <pad> <pad> <pad> <pad> <pad> <pad> <pad> <pad> <pad> <pad> <pad> <pad> <pad> <pad> <pad> <pad> <pad> <pad> \n",
      "\n",
      "<s> ▁A ▁pesar ▁de ▁que ▁el ▁paciente ▁presenta ba ▁pic os ▁febr ile s , ▁los ▁infect ólogo s ▁que ▁ segu ían ▁al ▁paciente ▁no ▁considera ban ▁que ▁la ▁fie bre ▁ni ▁otra ▁posible ▁complica ción ▁deriva da ▁de ▁la ▁osteo miel itis , ▁como ▁una ▁en do card itis ▁o ▁abs ces o ▁cerebral , ▁fue sen ▁responsables ▁del ▁cuadro . </s> <pad> <pad> <pad> <pad> <pad> <pad> <pad> <pad> <pad> <pad> <pad> <pad> <pad> <pad> <pad> <pad> <pad> <pad> <pad> <pad> <pad> <pad> <pad> <pad> <pad> <pad> <pad> <pad> <pad> <pad> <pad> <pad> <pad> <pad> <pad> <pad> <pad> <pad> <pad> <pad> <pad> <pad> <pad> <pad> <pad> <pad> <pad> <pad> <pad> <pad> <pad> <pad> <pad> <pad> <pad> <pad> <pad> <pad> <pad> <pad> <pad> <pad> <pad> <pad> \n",
      "\n",
      "<s> ▁Como ▁nos ▁parecía ▁poco ▁probable ▁que ▁una ▁sobre dos ificación / ab stin encia ▁de ▁los ▁op io ides ▁pauta dos ▁fue se ▁el ▁origen ▁del ▁síndrome ▁confusion al ▁que ▁pa de cía ▁este ▁paciente ▁a ▁lo ▁largo ▁de ▁más ▁de ▁2 ▁semanas , ▁se ▁decide ▁descarta r ▁organic idad ▁pidi endo ▁un ▁ TAC ▁c rane al ▁a ▁las ▁3 ▁semanas ▁del ▁seguimiento . </s> <pad> <pad> <pad> <pad> <pad> <pad> <pad> <pad> <pad> <pad> <pad> <pad> <pad> <pad> <pad> <pad> <pad> <pad> <pad> <pad> <pad> <pad> <pad> <pad> <pad> <pad> <pad> <pad> <pad> <pad> <pad> <pad> <pad> <pad> <pad> <pad> <pad> <pad> <pad> <pad> <pad> <pad> <pad> <pad> <pad> <pad> <pad> <pad> <pad> <pad> <pad> <pad> <pad> <pad> <pad> <pad> <pad> <pad> <pad> <pad> <pad> \n",
      "\n",
      "<s> ▁En ▁el ▁ TAC ▁c rane al ▁se ▁visual i zó ▁un ▁in far to ▁cerebral ▁pari e tal ▁derecho ▁sub agu do . </s> <pad> <pad> <pad> <pad> <pad> <pad> <pad> <pad> <pad> <pad> <pad> <pad> <pad> <pad> <pad> <pad> <pad> <pad> <pad> <pad> <pad> <pad> <pad> <pad> <pad> <pad> <pad> <pad> <pad> <pad> <pad> <pad> <pad> <pad> <pad> <pad> <pad> <pad> <pad> <pad> <pad> <pad> <pad> <pad> <pad> <pad> <pad> <pad> <pad> <pad> <pad> <pad> <pad> <pad> <pad> <pad> <pad> <pad> <pad> <pad> <pad> <pad> <pad> <pad> <pad> <pad> <pad> <pad> <pad> <pad> <pad> <pad> <pad> <pad> <pad> <pad> <pad> <pad> <pad> <pad> <pad> <pad> <pad> <pad> <pad> <pad> <pad> <pad> <pad> <pad> <pad> <pad> <pad> <pad> <pad> <pad> <pad> <pad> <pad> <pad> <pad> <pad> \n",
      "\n"
     ]
    }
   ],
   "source": [
    "check_id_frag = sum(dev_frag[:check_id])\n",
    "for frag in dev_ind[check_id_frag:check_id_frag + dev_frag[check_id]]:\n",
    "    print(' '.join([tokenizer._convert_id_to_token(int(ind)) for ind in frag]), \"\\n\")"
   ]
  },
  {
   "cell_type": "code",
   "execution_count": 103,
   "metadata": {},
   "outputs": [
    {
     "data": {
      "text/plain": [
       "count    4109.000000\n",
       "mean        0.832806\n",
       "std         1.250330\n",
       "min         0.000000\n",
       "25%         0.000000\n",
       "50%         0.000000\n",
       "75%         1.000000\n",
       "max        14.000000\n",
       "dtype: float64"
      ]
     },
     "execution_count": 103,
     "metadata": {},
     "output_type": "execute_result"
    }
   ],
   "source": [
    "# Fragment labels distribution\n",
    "pd.Series(np.sum(dev_y, axis=1)).describe()"
   ]
  },
  {
   "cell_type": "markdown",
   "metadata": {},
   "source": [
    "### Train-Dev abstracts corpus"
   ]
  },
  {
   "cell_type": "code",
   "execution_count": 104,
   "metadata": {},
   "outputs": [
    {
     "data": {
      "text/plain": [
       "0"
      ]
     },
     "execution_count": 104,
     "metadata": {},
     "output_type": "execute_result"
    }
   ],
   "source": [
    "len(set(df_text_all_abs[\"doc_id\"]) - set(df_codes_d_all_abs[\"doc_id\"]))"
   ]
  },
  {
   "cell_type": "code",
   "execution_count": 105,
   "metadata": {},
   "outputs": [],
   "source": [
    "all_abs_doc_list = sorted(set(df_codes_d_all_abs[\"doc_id\"]))"
   ]
  },
  {
   "cell_type": "code",
   "execution_count": 106,
   "metadata": {},
   "outputs": [
    {
     "data": {
      "text/plain": [
       "13339"
      ]
     },
     "execution_count": 106,
     "metadata": {},
     "output_type": "execute_result"
    }
   ],
   "source": [
    "len(all_abs_doc_list)"
   ]
  },
  {
   "cell_type": "code",
   "execution_count": 107,
   "metadata": {},
   "outputs": [
    {
     "name": "stderr",
     "output_type": "stream",
     "text": [
      "100%|██████████| 13339/13339 [00:27<00:00, 484.57it/s]\n"
     ]
    },
    {
     "name": "stdout",
     "output_type": "stream",
     "text": [
      "CPU times: user 27.8 s, sys: 137 ms, total: 28 s\n",
      "Wall time: 27.8 s\n"
     ]
    }
   ],
   "source": [
    "%%time\n",
    "all_abs_ind, all_abs_att, all_abs_y, all_abs_frag = create_frag_input_data_xlmr(df_text=df_text_all_abs, text_col=text_col, \n",
    "                                     df_label=df_codes_d_all_abs, doc_list=all_abs_doc_list, tokenizer=tokenizer, sp_pb2=spt, \n",
    "                                     lab_encoder=mlb_encoder, seq_len=SEQ_LEN)"
   ]
  },
  {
   "cell_type": "code",
   "execution_count": 108,
   "metadata": {},
   "outputs": [
    {
     "data": {
      "text/plain": [
       "(13339, 128)"
      ]
     },
     "execution_count": 108,
     "metadata": {},
     "output_type": "execute_result"
    }
   ],
   "source": [
    "all_abs_ind.shape"
   ]
  },
  {
   "cell_type": "code",
   "execution_count": 109,
   "metadata": {},
   "outputs": [
    {
     "data": {
      "text/plain": [
       "(13339, 128)"
      ]
     },
     "execution_count": 109,
     "metadata": {},
     "output_type": "execute_result"
    }
   ],
   "source": [
    "all_abs_att.shape"
   ]
  },
  {
   "cell_type": "code",
   "execution_count": 110,
   "metadata": {},
   "outputs": [
    {
     "data": {
      "text/plain": [
       "(13339, 2194)"
      ]
     },
     "execution_count": 110,
     "metadata": {},
     "output_type": "execute_result"
    }
   ],
   "source": [
    "all_abs_y.shape"
   ]
  },
  {
   "cell_type": "code",
   "execution_count": 111,
   "metadata": {},
   "outputs": [
    {
     "data": {
      "text/plain": [
       "13339"
      ]
     },
     "execution_count": 111,
     "metadata": {},
     "output_type": "execute_result"
    }
   ],
   "source": [
    "len(all_abs_frag)"
   ]
  },
  {
   "cell_type": "code",
   "execution_count": 112,
   "metadata": {},
   "outputs": [
    {
     "data": {
      "text/plain": [
       "count    13339.0\n",
       "mean         1.0\n",
       "std          0.0\n",
       "min          1.0\n",
       "25%          1.0\n",
       "50%          1.0\n",
       "75%          1.0\n",
       "max          1.0\n",
       "dtype: float64"
      ]
     },
     "execution_count": 112,
     "metadata": {},
     "output_type": "execute_result"
    }
   ],
   "source": [
    "# Check n_frag distribution across texts\n",
    "pd.Series(all_abs_frag).describe()"
   ]
  },
  {
   "cell_type": "code",
   "execution_count": 113,
   "metadata": {},
   "outputs": [],
   "source": [
    "# Inspect a randomly selected text and its encoded version\n",
    "check_id = np.random.randint(low=0, high=len(all_abs_doc_list), size=1)[0]"
   ]
  },
  {
   "cell_type": "code",
   "execution_count": 114,
   "metadata": {},
   "outputs": [
    {
     "data": {
      "text/plain": [
       "5925"
      ]
     },
     "execution_count": 114,
     "metadata": {},
     "output_type": "execute_result"
    }
   ],
   "source": [
    "check_id"
   ]
  },
  {
   "cell_type": "code",
   "execution_count": 115,
   "metadata": {},
   "outputs": [
    {
     "data": {
      "text/plain": [
       "'lil-249367'"
      ]
     },
     "execution_count": 115,
     "metadata": {},
     "output_type": "execute_result"
    }
   ],
   "source": [
    "all_abs_doc_list[check_id]"
   ]
  },
  {
   "cell_type": "code",
   "execution_count": 116,
   "metadata": {
    "scrolled": true
   },
   "outputs": [
    {
     "data": {
      "text/plain": [
       "'Describe sobre el derrame pleural purulento, señala el clasico razonamiento clinico frente al estudio de RX y el tratamiento de de la pleuresia purulenta'"
      ]
     },
     "execution_count": 116,
     "metadata": {},
     "output_type": "execute_result"
    }
   ],
   "source": [
    "df_text_all_abs[df_text_all_abs[\"doc_id\"] == all_abs_doc_list[check_id]][text_col].values[0]"
   ]
  },
  {
   "cell_type": "code",
   "execution_count": 117,
   "metadata": {},
   "outputs": [
    {
     "name": "stdout",
     "output_type": "stream",
     "text": [
      "[('j90',)] \n",
      "\n"
     ]
    }
   ],
   "source": [
    "check_id_frag = sum(all_abs_frag[:check_id])\n",
    "for i in range(check_id_frag, check_id_frag + all_abs_frag[check_id]):\n",
    "    print(mlb_encoder.inverse_transform(np.array([all_abs_y[i]])), \"\\n\")"
   ]
  },
  {
   "cell_type": "code",
   "execution_count": 118,
   "metadata": {},
   "outputs": [
    {
     "name": "stdout",
     "output_type": "stream",
     "text": [
      "<s> ▁De scribe ▁sobre ▁el ▁der ram e ▁ple ural ▁pur ul ento , ▁señala ▁el ▁clasic o ▁raz on amiento ▁clinic o ▁frente ▁al ▁estudio ▁de ▁R X ▁y ▁el ▁tratamiento ▁de ▁de ▁la ▁ple ures ia ▁pur ul enta </s> <pad> <pad> <pad> <pad> <pad> <pad> <pad> <pad> <pad> <pad> <pad> <pad> <pad> <pad> <pad> <pad> <pad> <pad> <pad> <pad> <pad> <pad> <pad> <pad> <pad> <pad> <pad> <pad> <pad> <pad> <pad> <pad> <pad> <pad> <pad> <pad> <pad> <pad> <pad> <pad> <pad> <pad> <pad> <pad> <pad> <pad> <pad> <pad> <pad> <pad> <pad> <pad> <pad> <pad> <pad> <pad> <pad> <pad> <pad> <pad> <pad> <pad> <pad> <pad> <pad> <pad> <pad> <pad> <pad> <pad> <pad> <pad> <pad> <pad> <pad> <pad> <pad> <pad> <pad> <pad> <pad> <pad> <pad> <pad> <pad> <pad> \n",
      "\n"
     ]
    }
   ],
   "source": [
    "check_id_frag = sum(all_abs_frag[:check_id])\n",
    "for frag in all_abs_ind[check_id_frag:check_id_frag + all_abs_frag[check_id]]:\n",
    "    print(' '.join([tokenizer._convert_id_to_token(int(ind)) for ind in frag]), \"\\n\")"
   ]
  },
  {
   "cell_type": "code",
   "execution_count": 119,
   "metadata": {},
   "outputs": [
    {
     "data": {
      "text/plain": [
       "count    13339.000000\n",
       "mean         1.371167\n",
       "std          0.733460\n",
       "min          1.000000\n",
       "25%          1.000000\n",
       "50%          1.000000\n",
       "75%          2.000000\n",
       "max         10.000000\n",
       "dtype: float64"
      ]
     },
     "execution_count": 119,
     "metadata": {},
     "output_type": "execute_result"
    }
   ],
   "source": [
    "# Fragment labels distribution\n",
    "pd.Series(np.sum(all_abs_y, axis=1)).describe()"
   ]
  },
  {
   "cell_type": "markdown",
   "metadata": {},
   "source": [
    "### Training & Development & Abstracts corpus\n",
    "\n",
    "We merge the previously generated datasets:"
   ]
  },
  {
   "cell_type": "code",
   "execution_count": 120,
   "metadata": {},
   "outputs": [],
   "source": [
    "# Indices\n",
    "train_dev_abs_ind = np.concatenate((train_ind, dev_ind, all_abs_ind))"
   ]
  },
  {
   "cell_type": "code",
   "execution_count": 121,
   "metadata": {},
   "outputs": [
    {
     "data": {
      "text/plain": [
       "(25189, 128)"
      ]
     },
     "execution_count": 121,
     "metadata": {},
     "output_type": "execute_result"
    }
   ],
   "source": [
    "train_dev_abs_ind.shape"
   ]
  },
  {
   "cell_type": "code",
   "execution_count": 122,
   "metadata": {},
   "outputs": [],
   "source": [
    "# Attention masks\n",
    "train_dev_abs_att = np.concatenate((train_att, dev_att, all_abs_att))"
   ]
  },
  {
   "cell_type": "code",
   "execution_count": 123,
   "metadata": {},
   "outputs": [
    {
     "data": {
      "text/plain": [
       "(25189, 128)"
      ]
     },
     "execution_count": 123,
     "metadata": {},
     "output_type": "execute_result"
    }
   ],
   "source": [
    "train_dev_abs_att.shape"
   ]
  },
  {
   "cell_type": "code",
   "execution_count": 124,
   "metadata": {},
   "outputs": [],
   "source": [
    "# y\n",
    "train_dev_abs_y = np.concatenate((train_y, dev_y, all_abs_y))"
   ]
  },
  {
   "cell_type": "code",
   "execution_count": 125,
   "metadata": {},
   "outputs": [
    {
     "data": {
      "text/plain": [
       "(25189, 2194)"
      ]
     },
     "execution_count": 125,
     "metadata": {},
     "output_type": "execute_result"
    }
   ],
   "source": [
    "train_dev_abs_y.shape"
   ]
  },
  {
   "cell_type": "markdown",
   "metadata": {},
   "source": [
    "## Fine-tuning\n",
    "\n",
    "Using the corpus of labeled sentences, we fine-tune the model on a multi-label sentence classification task."
   ]
  },
  {
   "cell_type": "code",
   "execution_count": 126,
   "metadata": {},
   "outputs": [
    {
     "name": "stderr",
     "output_type": "stream",
     "text": [
      "All PyTorch model weights were used when initializing TFXLMRobertaForSequenceClassification.\n",
      "\n",
      "Some weights or buffers of the TF 2.0 model TFXLMRobertaForSequenceClassification were not initialized from the PyTorch model and are newly initialized: ['classifier.dense.weight', 'classifier.dense.bias', 'classifier.out_proj.weight', 'classifier.out_proj.bias']\n",
      "You should probably TRAIN this model on a down-stream task to be able to use it for predictions and inference.\n"
     ]
    }
   ],
   "source": [
    "from transformers import TFXLMRobertaForSequenceClassification\n",
    "\n",
    "model = TFXLMRobertaForSequenceClassification.from_pretrained(model_name, from_pt=True)"
   ]
  },
  {
   "cell_type": "code",
   "execution_count": 127,
   "metadata": {},
   "outputs": [
    {
     "name": "stdout",
     "output_type": "stream",
     "text": [
      "Model: \"tfxlm_roberta_for_sequence_classification\"\n",
      "_________________________________________________________________\n",
      "Layer (type)                 Output Shape              Param #   \n",
      "=================================================================\n",
      "roberta (TFRobertaMainLayer) multiple                  277453056 \n",
      "_________________________________________________________________\n",
      "classifier (TFRobertaClassif multiple                  592130    \n",
      "=================================================================\n",
      "Total params: 278,045,186\n",
      "Trainable params: 278,045,186\n",
      "Non-trainable params: 0\n",
      "_________________________________________________________________\n"
     ]
    }
   ],
   "source": [
    "model.summary()"
   ]
  },
  {
   "cell_type": "code",
   "execution_count": 128,
   "metadata": {},
   "outputs": [],
   "source": [
    "from tensorflow.keras import Input, Model\n",
    "from tensorflow.keras.layers import Dense, Activation\n",
    "from tensorflow.keras.initializers import GlorotUniform\n",
    "\n",
    "input_ids = Input(shape=(SEQ_LEN,), name='input_ids', dtype='int64')\n",
    "attention_mask = Input(shape=(SEQ_LEN,), name='attention_mask', dtype='int64')\n",
    "inputs = [input_ids, attention_mask]\n",
    "\n",
    "cls_token = model.layers[0](input_ids=inputs[0], attention_mask=inputs[1])[0][:, 0, :] # take <s> token output representation (equiv. to [CLS]) \n",
    "out_logits = Dense(units=num_labels, kernel_initializer=GlorotUniform(seed=random_seed))(cls_token) # Multi-label classification\n",
    "out_act = Activation('sigmoid')(out_logits)\n",
    "\n",
    "model = Model(inputs=[input_ids, attention_mask], outputs=out_act)"
   ]
  },
  {
   "cell_type": "code",
   "execution_count": 129,
   "metadata": {},
   "outputs": [
    {
     "name": "stdout",
     "output_type": "stream",
     "text": [
      "Model: \"model\"\n",
      "__________________________________________________________________________________________________\n",
      "Layer (type)                    Output Shape         Param #     Connected to                     \n",
      "==================================================================================================\n",
      "input_ids (InputLayer)          [(None, 128)]        0                                            \n",
      "__________________________________________________________________________________________________\n",
      "attention_mask (InputLayer)     [(None, 128)]        0                                            \n",
      "__________________________________________________________________________________________________\n",
      "roberta (TFRobertaMainLayer)    TFBaseModelOutputWit 277453056   input_ids[0][0]                  \n",
      "__________________________________________________________________________________________________\n",
      "tf_op_layer_strided_slice (Tens [(None, 768)]        0           roberta[0][0]                    \n",
      "__________________________________________________________________________________________________\n",
      "dense (Dense)                   (None, 2194)         1687186     tf_op_layer_strided_slice[0][0]  \n",
      "__________________________________________________________________________________________________\n",
      "activation_4 (Activation)       (None, 2194)         0           dense[0][0]                      \n",
      "==================================================================================================\n",
      "Total params: 279,140,242\n",
      "Trainable params: 279,140,242\n",
      "Non-trainable params: 0\n",
      "__________________________________________________________________________________________________\n"
     ]
    }
   ],
   "source": [
    "model.summary()"
   ]
  },
  {
   "cell_type": "code",
   "execution_count": 130,
   "metadata": {},
   "outputs": [
    {
     "data": {
      "text/plain": [
       "[<tf.Tensor 'input_ids:0' shape=(None, 128) dtype=int64>,\n",
       " <tf.Tensor 'attention_mask:0' shape=(None, 128) dtype=int64>]"
      ]
     },
     "execution_count": 130,
     "metadata": {},
     "output_type": "execute_result"
    }
   ],
   "source": [
    "model.input"
   ]
  },
  {
   "cell_type": "code",
   "execution_count": 131,
   "metadata": {},
   "outputs": [
    {
     "data": {
      "text/plain": [
       "<tf.Tensor 'activation_4/Identity:0' shape=(None, 2194) dtype=float32>"
      ]
     },
     "execution_count": 131,
     "metadata": {},
     "output_type": "execute_result"
    }
   ],
   "source": [
    "model.output"
   ]
  },
  {
   "cell_type": "code",
   "execution_count": 132,
   "metadata": {},
   "outputs": [],
   "source": [
    "# Sample weights"
   ]
  },
  {
   "cell_type": "code",
   "execution_count": 133,
   "metadata": {},
   "outputs": [],
   "source": [
    "n_train_dev_frags = sum(train_frag) + sum(dev_frag)"
   ]
  },
  {
   "cell_type": "code",
   "execution_count": 134,
   "metadata": {},
   "outputs": [
    {
     "data": {
      "text/plain": [
       "11850"
      ]
     },
     "execution_count": 134,
     "metadata": {},
     "output_type": "execute_result"
    }
   ],
   "source": [
    "n_train_dev_frags"
   ]
  },
  {
   "cell_type": "code",
   "execution_count": 135,
   "metadata": {},
   "outputs": [],
   "source": [
    "train_dev_abs_weights = np.array([train_weight] * n_train_dev_frags + [all_abs_weight] * (train_dev_abs_y.shape[0] - \n",
    "                                                                                      n_train_dev_frags))"
   ]
  },
  {
   "cell_type": "code",
   "execution_count": null,
   "metadata": {},
   "outputs": [
    {
     "name": "stdout",
     "output_type": "stream",
     "text": [
      "Epoch 1/37\n",
      "1575/1575 [==============================] - 537s 341ms/step - loss: 0.3182\n",
      "Epoch 2/37\n",
      "1575/1575 [==============================] - 538s 341ms/step - loss: 0.0145\n",
      "Epoch 3/37\n",
      " 934/1575 [================>.............] - ETA: 3:38 - loss: 0.0096"
     ]
    }
   ],
   "source": [
    "%%time\n",
    "from tensorflow.keras import optimizers, losses\n",
    "import tensorflow_addons as tfa\n",
    "\n",
    "optimizer = tfa.optimizers.RectifiedAdam(learning_rate=LR)\n",
    "loss = losses.BinaryCrossentropy(from_logits=False)\n",
    "model.compile(optimizer=optimizer, loss=loss)\n",
    "\n",
    "history = model.fit(x={'input_ids': train_dev_abs_ind, 'attention_mask': train_dev_abs_att}, y=train_dev_abs_y,\n",
    "          batch_size=BATCH_SIZE, epochs=EPOCHS, sample_weight=train_dev_abs_weights, shuffle=True)"
   ]
  },
  {
   "cell_type": "markdown",
   "metadata": {},
   "source": [
    "## Test set predictions\n",
    "\n",
    "Finally, the predictions made by the model on the test set are saved. For this purpose, firstly, each sentence from the test corpus must be converted into a sequence of subwords (input IDs and attention mask arrays). Then, the predictions made by the model at the sentence-level are saved, to be further evaluated at document-level (see `results/CodiEsp-D/Evaluation.ipynb`)."
   ]
  },
  {
   "cell_type": "code",
   "execution_count": 136,
   "metadata": {},
   "outputs": [
    {
     "name": "stdout",
     "output_type": "stream",
     "text": [
      "CPU times: user 0 ns, sys: 18.5 ms, total: 18.5 ms\n",
      "Wall time: 94 ms\n"
     ]
    }
   ],
   "source": [
    "%%time\n",
    "test_path = corpus_path + \"test/text_files/\"\n",
    "test_files = [f for f in os.listdir(test_path) if os.path.isfile(test_path + f)]\n",
    "test_data = load_text_files(test_files, test_path)\n",
    "df_text_test = pd.DataFrame({'doc_id': [s.split('.txt')[0] for s in test_files], 'raw_text': test_data})"
   ]
  },
  {
   "cell_type": "code",
   "execution_count": 137,
   "metadata": {},
   "outputs": [
    {
     "data": {
      "text/plain": [
       "(250, 2)"
      ]
     },
     "execution_count": 137,
     "metadata": {},
     "output_type": "execute_result"
    }
   ],
   "source": [
    "df_text_test.shape"
   ]
  },
  {
   "cell_type": "code",
   "execution_count": 138,
   "metadata": {},
   "outputs": [
    {
     "data": {
      "text/html": [
       "<div>\n",
       "<style scoped>\n",
       "    .dataframe tbody tr th:only-of-type {\n",
       "        vertical-align: middle;\n",
       "    }\n",
       "\n",
       "    .dataframe tbody tr th {\n",
       "        vertical-align: top;\n",
       "    }\n",
       "\n",
       "    .dataframe thead th {\n",
       "        text-align: right;\n",
       "    }\n",
       "</style>\n",
       "<table border=\"1\" class=\"dataframe\">\n",
       "  <thead>\n",
       "    <tr style=\"text-align: right;\">\n",
       "      <th></th>\n",
       "      <th>doc_id</th>\n",
       "      <th>raw_text</th>\n",
       "    </tr>\n",
       "  </thead>\n",
       "  <tbody>\n",
       "    <tr>\n",
       "      <th>0</th>\n",
       "      <td>S0365-66912007000900014-1</td>\n",
       "      <td>Paciente varón de 34 años de edad diagnosticad...</td>\n",
       "    </tr>\n",
       "    <tr>\n",
       "      <th>1</th>\n",
       "      <td>S0211-69952014000200012-1</td>\n",
       "      <td>Un varón de 48 años, de raza caucásica, con IR...</td>\n",
       "    </tr>\n",
       "    <tr>\n",
       "      <th>2</th>\n",
       "      <td>S1139-76322017000200009-1</td>\n",
       "      <td>Presentamos el caso clínico de un niño de cinc...</td>\n",
       "    </tr>\n",
       "    <tr>\n",
       "      <th>3</th>\n",
       "      <td>S0210-48062010000100019-1</td>\n",
       "      <td>Paciente varón de 53 años, diagnosticado de es...</td>\n",
       "    </tr>\n",
       "    <tr>\n",
       "      <th>4</th>\n",
       "      <td>S1130-14732005000500006-1</td>\n",
       "      <td>Se trata de un varón de 20 años diagnosticado ...</td>\n",
       "    </tr>\n",
       "  </tbody>\n",
       "</table>\n",
       "</div>"
      ],
      "text/plain": [
       "                      doc_id  \\\n",
       "0  S0365-66912007000900014-1   \n",
       "1  S0211-69952014000200012-1   \n",
       "2  S1139-76322017000200009-1   \n",
       "3  S0210-48062010000100019-1   \n",
       "4  S1130-14732005000500006-1   \n",
       "\n",
       "                                            raw_text  \n",
       "0  Paciente varón de 34 años de edad diagnosticad...  \n",
       "1  Un varón de 48 años, de raza caucásica, con IR...  \n",
       "2  Presentamos el caso clínico de un niño de cinc...  \n",
       "3  Paciente varón de 53 años, diagnosticado de es...  \n",
       "4  Se trata de un varón de 20 años diagnosticado ...  "
      ]
     },
     "execution_count": 138,
     "metadata": {},
     "output_type": "execute_result"
    }
   ],
   "source": [
    "df_text_test.head()"
   ]
  },
  {
   "cell_type": "code",
   "execution_count": 139,
   "metadata": {},
   "outputs": [
    {
     "data": {
      "text/plain": [
       "'Paciente varón de 34 años de edad diagnosticado de varicela tres semanas antes ya resuelta sin complicaciones. Acude a urgencias por presentar disminución de agudeza visual en su ojo izquierdo.\\nEn la exploración oftalmológica presenta una agudeza visual corregida de 1 en el ojo derecho (OD) y de 0,6 en el ojo izquierdo (OI). El estudio con lámpara de hendidura demuestra en el OI un tyndall celular de 4+, precipitados queráticos inferiores (3+) y sin presentar la cornea tinción con fluoresceína, siendo normal el OD. La presión intraocular fue de 16mmHg en ambos ojos.\\nEn la exploración fundoscópica inicial del OI se aprecia leve vitritis (1+) sin focos de retinitis.\\nSe instaura tratamiento tópico con corticoides y midriáticos. A los 2 días se observa leve disminución del tyndall celular (3+) en cámara anterior pero en fondo de ojo aparece un foco periférico de retinitis necrotizante en el área temporal asociado a vasculitis retiniana.\\nSe ingresa al paciente y se instaura tratamiento con aciclovir intravenoso (10 mgr/kg/8 horas), antiagregación (ácido acetilsalicílico 150 mgr/24 horas) y se mantiene el tratamiento tópico. Asimismo se realiza fotocoagulación profiláctica con láser de argón rodeando la zona de necrosis retiniana.\\n\\nA las 48 horas y previa comprobación de una buena respuesta con disminución del foco de retinitis, se introducen corticoides sistémicos a dosis de 1 mg/kg/d, presentando una rápida mejoría de la agudeza visual, con disminución de la vitritis y menor tamaño del foco de retinitis. A las 2 semanas se pasa a vía oral el tratamiento antiviral (famciclovir 500 mgr/12 horas) y se inicia un descenso de corticoides de manera gradual a razón de 10 mgr cada semana. Se continúa con el tratamiento antiviral a dosis de mantenimiento durante 6 semanas, realizando controles analíticos periódicos hemograma y bioquímica para detectar afectación renal.\\nTras 6 meses del comienzo del cuadro, el paciente continúa asintomático, con una agudeza visual de unidad en OI, cicatrización de las lesiones retinianas y ausencia completa de actividad inflamatoria ocular en ambos ojos.\\nDurante el ingreso se constató la infección reciente por el virus varicela zoster mediante seroconversión.\\n\\n'"
      ]
     },
     "execution_count": 139,
     "metadata": {},
     "output_type": "execute_result"
    }
   ],
   "source": [
    "df_text_test.raw_text[0]"
   ]
  },
  {
   "cell_type": "code",
   "execution_count": 140,
   "metadata": {},
   "outputs": [],
   "source": [
    "test_doc_list = sorted(set(df_text_test[\"doc_id\"]))"
   ]
  },
  {
   "cell_type": "code",
   "execution_count": 141,
   "metadata": {},
   "outputs": [
    {
     "data": {
      "text/plain": [
       "250"
      ]
     },
     "execution_count": 141,
     "metadata": {},
     "output_type": "execute_result"
    }
   ],
   "source": [
    "len(test_doc_list)"
   ]
  },
  {
   "cell_type": "code",
   "execution_count": 142,
   "metadata": {},
   "outputs": [
    {
     "name": "stdout",
     "output_type": "stream",
     "text": [
      "CPU times: user 45.2 ms, sys: 12.1 ms, total: 57.3 ms\n",
      "Wall time: 205 ms\n"
     ]
    }
   ],
   "source": [
    "%%time\n",
    "ss_sub_corpus_path = ss_corpus_path + \"test/\"\n",
    "ss_files = [f for f in os.listdir(ss_sub_corpus_path) if os.path.isfile(ss_sub_corpus_path + f)]\n",
    "ss_dict_test = load_ss_files(ss_files, ss_sub_corpus_path)"
   ]
  },
  {
   "cell_type": "code",
   "execution_count": 143,
   "metadata": {},
   "outputs": [
    {
     "name": "stderr",
     "output_type": "stream",
     "text": [
      "100%|██████████| 250/250 [00:01<00:00, 248.37it/s]\n"
     ]
    },
    {
     "name": "stdout",
     "output_type": "stream",
     "text": [
      "CPU times: user 1.08 s, sys: 8.49 ms, total: 1.09 s\n",
      "Wall time: 1.07 s\n"
     ]
    }
   ],
   "source": [
    "%%time\n",
    "test_ind, test_att, _, test_frag, _ = ss_create_frag_input_data_xlmr(df_text=df_text_test, \n",
    "                                                  text_col=text_col,\n",
    "                                                  # Since labels are ignored, we pass df_codes_train_ner as df_ann\n",
    "                                                  df_ann=df_codes_train_ner, doc_list=test_doc_list, ss_dict=ss_dict_test,\n",
    "                                                  tokenizer=tokenizer, sp_pb2=spt, lab_encoder=mlb_encoder, seq_len=SEQ_LEN)"
   ]
  },
  {
   "cell_type": "code",
   "execution_count": 113,
   "metadata": {},
   "outputs": [
    {
     "name": "stdout",
     "output_type": "stream",
     "text": [
      "CPU times: user 14.9 s, sys: 1.68 s, total: 16.6 s\n",
      "Wall time: 16.9 s\n"
     ]
    }
   ],
   "source": [
    "%%time\n",
    "test_preds = model.predict({'input_ids': test_ind, 'attention_mask': test_att})"
   ]
  },
  {
   "cell_type": "code",
   "execution_count": 114,
   "metadata": {},
   "outputs": [
    {
     "data": {
      "text/plain": [
       "(3950, 727)"
      ]
     },
     "execution_count": 114,
     "metadata": {},
     "output_type": "execute_result"
    }
   ],
   "source": [
    "test_preds.shape"
   ]
  },
  {
   "cell_type": "code",
   "execution_count": 144,
   "metadata": {},
   "outputs": [],
   "source": [
    "results_dir_path = \"../results/CodiEsp-D/\""
   ]
  },
  {
   "cell_type": "code",
   "execution_count": 178,
   "metadata": {},
   "outputs": [
    {
     "name": "stdout",
     "output_type": "stream",
     "text": [
      "CPU times: user 2.21 ms, sys: 4.65 ms, total: 6.87 ms\n",
      "Wall time: 6.02 ms\n"
     ]
    }
   ],
   "source": [
    "%%time\n",
    "np.save(file=results_dir_path + \"predictions/xlm_r_seed_\" + str(random_seed) + \"_test_preds.npy\", arr=test_preds)"
   ]
  },
  {
   "cell_type": "code",
   "execution_count": 145,
   "metadata": {},
   "outputs": [],
   "source": [
    "# To be further used when evaluating model performance at document level\n",
    "np.save(file=results_dir_path + \"xlm_r_test_frags.npy\", arr=test_frag)\n",
    "np.save(file=results_dir_path + \"classes.npy\", arr=mlb_encoder.classes_)\n",
    "np.save(file=results_dir_path + \"test_docs.npy\", arr=test_doc_list)"
   ]
  }
 ],
 "metadata": {
  "kernelspec": {
   "display_name": "Python 3",
   "language": "python",
   "name": "python3"
  },
  "language_info": {
   "codemirror_mode": {
    "name": "ipython",
    "version": 3
   },
   "file_extension": ".py",
   "mimetype": "text/x-python",
   "name": "python",
   "nbconvert_exporter": "python",
   "pygments_lexer": "ipython3",
   "version": "3.7.9"
  }
 },
 "nbformat": 4,
 "nbformat_minor": 4
}
