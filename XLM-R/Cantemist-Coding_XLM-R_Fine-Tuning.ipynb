{
 "cells": [
  {
   "cell_type": "markdown",
   "metadata": {},
   "source": [
    "# Fine-tuning XLM-R on Cantemist-Coding\n",
    "\n",
    "In this notebook, following a multi-label sequence classification approach, the XLM-R model is fine-tuned on both the training and development sets of the Cantemist-Coding corpus. Additionally, the predictions made by the model on the test set are saved, in order to futher evaluate the clinical coding performance of the model (see `results/Cantemist-Coding/Evaluation.ipynb`)."
   ]
  },
  {
   "cell_type": "code",
   "execution_count": 1,
   "metadata": {},
   "outputs": [],
   "source": [
    "import tensorflow as tf\n",
    "\n",
    "# Auxiliary components\n",
    "import sys\n",
    "sys.path.append(\"..\")\n",
    "from nlp_utils import *\n",
    "\n",
    "# XLM-R tokenizer\n",
    "from transformers import XLMRobertaTokenizer\n",
    "import sentencepiece_pb2\n",
    "model_name = \"xlm-roberta-base\"\n",
    "tokenizer = XLMRobertaTokenizer.from_pretrained(model_name)\n",
    "spt = sentencepiece_pb2.SentencePieceText()\n",
    "\n",
    "# Hyper-parameters\n",
    "text_col = \"raw_text\"\n",
    "SEQ_LEN = 128\n",
    "BATCH_SIZE = 16\n",
    "EPOCHS = 30\n",
    "LR = 3e-5\n",
    "\n",
    "random_seed = 0\n",
    "tf.random.set_seed(random_seed)"
   ]
  },
  {
   "cell_type": "markdown",
   "metadata": {},
   "source": [
    "## Load text\n",
    "\n",
    "Firstly, all text files from training and development Cantemist corpora are loaded in different dataframes.\n",
    "\n",
    "Also, CIE-O codes are loaded."
   ]
  },
  {
   "cell_type": "code",
   "execution_count": 2,
   "metadata": {},
   "outputs": [],
   "source": [
    "corpus_path = \"../datasets/cantemist_v6/\"\n",
    "sub_task_path = \"cantemist-coding/\""
   ]
  },
  {
   "cell_type": "markdown",
   "metadata": {},
   "source": [
    "### Training corpus"
   ]
  },
  {
   "cell_type": "code",
   "execution_count": 3,
   "metadata": {},
   "outputs": [
    {
     "name": "stdout",
     "output_type": "stream",
     "text": [
      "CPU times: user 12.7 ms, sys: 4.07 ms, total: 16.8 ms\n",
      "Wall time: 16.5 ms\n"
     ]
    }
   ],
   "source": [
    "%%time\n",
    "train_path = corpus_path + \"train-set/\" + sub_task_path + \"txt/\"\n",
    "train_files = [f for f in os.listdir(train_path) if os.path.isfile(train_path + f)]\n",
    "n_train_files = len(train_files)\n",
    "train_data = load_text_files(train_files, train_path)\n",
    "dev1_path = corpus_path + \"dev-set1/\" + sub_task_path + \"txt/\"\n",
    "train_files.extend([f for f in os.listdir(dev1_path) if os.path.isfile(dev1_path + f)])\n",
    "train_data.extend(load_text_files(train_files[n_train_files:], dev1_path))\n",
    "df_text_train = pd.DataFrame({'doc_id': [s.split('.txt')[0] for s in train_files], 'raw_text': train_data})"
   ]
  },
  {
   "cell_type": "code",
   "execution_count": 4,
   "metadata": {},
   "outputs": [
    {
     "data": {
      "text/plain": [
       "(751, 2)"
      ]
     },
     "execution_count": 4,
     "metadata": {},
     "output_type": "execute_result"
    }
   ],
   "source": [
    "df_text_train.shape"
   ]
  },
  {
   "cell_type": "code",
   "execution_count": 5,
   "metadata": {},
   "outputs": [
    {
     "data": {
      "text/html": [
       "<div>\n",
       "<style scoped>\n",
       "    .dataframe tbody tr th:only-of-type {\n",
       "        vertical-align: middle;\n",
       "    }\n",
       "\n",
       "    .dataframe tbody tr th {\n",
       "        vertical-align: top;\n",
       "    }\n",
       "\n",
       "    .dataframe thead th {\n",
       "        text-align: right;\n",
       "    }\n",
       "</style>\n",
       "<table border=\"1\" class=\"dataframe\">\n",
       "  <thead>\n",
       "    <tr style=\"text-align: right;\">\n",
       "      <th></th>\n",
       "      <th>doc_id</th>\n",
       "      <th>raw_text</th>\n",
       "    </tr>\n",
       "  </thead>\n",
       "  <tbody>\n",
       "    <tr>\n",
       "      <th>0</th>\n",
       "      <td>cc_onco453</td>\n",
       "      <td>Anamnesis\\nSe trata de un varón de 55 años, ex...</td>\n",
       "    </tr>\n",
       "    <tr>\n",
       "      <th>1</th>\n",
       "      <td>cc_onco962</td>\n",
       "      <td>Anamnesis\\nMujer de 40 años que consulta por l...</td>\n",
       "    </tr>\n",
       "    <tr>\n",
       "      <th>2</th>\n",
       "      <td>cc_onco989</td>\n",
       "      <td>Anamnesis\\nPaciente de 43 años, perimenopáusic...</td>\n",
       "    </tr>\n",
       "    <tr>\n",
       "      <th>3</th>\n",
       "      <td>cc_onco187</td>\n",
       "      <td>Anamnesis\\nVarón de 72 años, exfumador y bebed...</td>\n",
       "    </tr>\n",
       "    <tr>\n",
       "      <th>4</th>\n",
       "      <td>cc_onco164</td>\n",
       "      <td>Anamnesis\\nMujer de 51 años, sin alergias medi...</td>\n",
       "    </tr>\n",
       "  </tbody>\n",
       "</table>\n",
       "</div>"
      ],
      "text/plain": [
       "       doc_id                                           raw_text\n",
       "0  cc_onco453  Anamnesis\\nSe trata de un varón de 55 años, ex...\n",
       "1  cc_onco962  Anamnesis\\nMujer de 40 años que consulta por l...\n",
       "2  cc_onco989  Anamnesis\\nPaciente de 43 años, perimenopáusic...\n",
       "3  cc_onco187  Anamnesis\\nVarón de 72 años, exfumador y bebed...\n",
       "4  cc_onco164  Anamnesis\\nMujer de 51 años, sin alergias medi..."
      ]
     },
     "execution_count": 5,
     "metadata": {},
     "output_type": "execute_result"
    }
   ],
   "source": [
    "df_text_train.head()"
   ]
  },
  {
   "cell_type": "code",
   "execution_count": 6,
   "metadata": {},
   "outputs": [
    {
     "data": {
      "text/plain": [
       "'Anamnesis\\nSe trata de un varón de 55 años, ex fumador con un índice tabáquico de 40 paquetes-año, HTA, sin antecedentes familiares de interés, en tratamiento con ácido fólico, omeprazol, hierro oral y risperidona.\\nEn junio de 2017, es diagnosticado a raíz de una trombosis iliaca derecha de una masa tumoral pobremente diferenciada que infiltraba tercio distal de apéndice cecal, con obliteración del paquete vascular iliaco, así como infiltración del uréter derecho, condicionando ureterohidronefrosis derecha grado cuatro.\\nSe realiza biopsia de la lesión, con hallazgos anatomopatológicos de neoplasia fusocelular con inmunohistoquímica (IHC) sugerente de origen urotelial con diferenciación sarcomatoide (positividad para p63, p40, GATA3, CD99, EMA CAM 5.2, CK 34, beta E12, CK7, negatividad para CK20, S100, CD34, cKIT y TTF1), con SYT no reordenado.\\nSe lleva a cabo intervención en julio de 2017 con extirpación de la masa tumoral, resección ileocecal, dejando ileostomía terminal y bypass extraanatómico femorofemoral.\\nEn octubre de 2017, se observa en TC toracoabdominopélvica una lesión hepática de nueva aparición que sugiere de metástasis.\\nCon juicio clínico de carcinoma urotelial de alto grado con diferenciación sarcomatoide estadio IV (pT4N2M1) por afectación hepática, se decide iniciar tratamiento sistémico de primera línea en febrero de 2018 dentro de ensayo clínico con antiPD1 y antiCTLA4 hasta julio de 2018, presentando buena tolerancia al tratamiento, pero con progresión de la enfermedad a nivel hepático.\\nInicia entonces segunda línea de tratamiento con carboplatino AUC5 día 1 y gemcitabina 1.000 mg/m2 días 1 y 8 cada 21 días, el 20 de agosto de 2018.\\nEn octubre de 2018, tras cinco ciclos de quimioterapia y una dosis acumulada de gemcitabina de 10.000 mg/m2, el paciente refiere aparición de lesiones ulceradas y dolorosas en regiones acras de dedos de manos.\\nCon sospecha de isquemia digital aguda, es derivado a Urgencias para valoración por Cirugía Vascular.\\n\\nExploración física\\nDurante la exploración física no presenta esclerodactilia, telangiectasias ni otras lesiones sugerentes de conectivopatías. Los pulsos radiales presentes y cubitales ausentes, con relleno capilar sin alteraciones.\\n\\nPruebas complementarias\\nEn analítica destacaba anemia normocítica normocroma grado 1 con Hb 10,2 g/dl (rango 13-15,5), sin otros hallazgos relevantes.\\nSe realiza estudio de autoanticuerpos (ENAS negativos, ANA positivo [1/80], anticuerpo (Ac) anti-P cíclico citrulinado negativo, Ac beta2-glicoproteina IgM e IgG negativos, cardiolipina IgG e IgM negativos, C-ANCAS y P-ANCAS negativos, VSG 137mm [rango 1,00-15] y crioglobulinas débilmente positivas) y estudio serológico con hallazgos de infección pasada de VHE y resto de virus hepatotropos negativos.\\nSe lleva a cabo eco-Doppler de miembros superiores en la que destaca alteración de flujo en arteria cubital derecha, y ecocardiograma transtorácico sin signos de endocarditis infecciosa.\\nEn la capilaroscopia como única alteración, destaca la presencia en segundo dedo de mano izquierda una hemorragia aislada, con distribución y densidad capilar conservada.\\n\\nDiagnóstico\\nCon estas pruebas, el paciente es diagnosticado de isquemia digital con datos de afectación macrovascular en relación al tratamiento de gemcitabina.\\n\\nTratamiento\\nEl paciente inicia tratamiento con prostaglandinas (PG) y anticoagulación con heparina de bajo peso molecular a dosis de 1 mg/kg cada 12 horas, experimentando mejoría progresiva de los síntomas y de las lesiones.\\n\\nEvolución\\nSe decide discontinuar tratamiento de quimioterapia, presentando respuesta parcial de la enfermedad tumoral con disminución de la masa pélvica, adenopatías retroperitoneales y de las metástasis hepáticas en TC de enero de 2019.'"
      ]
     },
     "execution_count": 6,
     "metadata": {},
     "output_type": "execute_result"
    }
   ],
   "source": [
    "df_text_train.raw_text[0]"
   ]
  },
  {
   "cell_type": "markdown",
   "metadata": {},
   "source": [
    "We also load the CIE-O codes table:"
   ]
  },
  {
   "cell_type": "code",
   "execution_count": 7,
   "metadata": {},
   "outputs": [],
   "source": [
    "df_codes_train = pd.concat([pd.read_table(corpus_path + \"train-set/\" + sub_task_path + \"train-coding.tsv\", \n",
    "                                 sep='\\t', header=0), \n",
    "                            pd.read_table(corpus_path + \"dev-set1/\" + sub_task_path + \"dev1-coding.tsv\", \n",
    "                                 sep='\\t', header=0)])"
   ]
  },
  {
   "cell_type": "code",
   "execution_count": 8,
   "metadata": {},
   "outputs": [
    {
     "data": {
      "text/plain": [
       "(4142, 2)"
      ]
     },
     "execution_count": 8,
     "metadata": {},
     "output_type": "execute_result"
    }
   ],
   "source": [
    "df_codes_train.shape"
   ]
  },
  {
   "cell_type": "code",
   "execution_count": 9,
   "metadata": {},
   "outputs": [],
   "source": [
    "df_codes_train[\"code\"] = df_codes_train[\"code\"].str.lower()"
   ]
  },
  {
   "cell_type": "code",
   "execution_count": 10,
   "metadata": {},
   "outputs": [
    {
     "data": {
      "text/html": [
       "<div>\n",
       "<style scoped>\n",
       "    .dataframe tbody tr th:only-of-type {\n",
       "        vertical-align: middle;\n",
       "    }\n",
       "\n",
       "    .dataframe tbody tr th {\n",
       "        vertical-align: top;\n",
       "    }\n",
       "\n",
       "    .dataframe thead th {\n",
       "        text-align: right;\n",
       "    }\n",
       "</style>\n",
       "<table border=\"1\" class=\"dataframe\">\n",
       "  <thead>\n",
       "    <tr style=\"text-align: right;\">\n",
       "      <th></th>\n",
       "      <th>file</th>\n",
       "      <th>code</th>\n",
       "    </tr>\n",
       "  </thead>\n",
       "  <tbody>\n",
       "    <tr>\n",
       "      <th>0</th>\n",
       "      <td>cc_onco860</td>\n",
       "      <td>8140/3</td>\n",
       "    </tr>\n",
       "    <tr>\n",
       "      <th>1</th>\n",
       "      <td>cc_onco860</td>\n",
       "      <td>8000/6</td>\n",
       "    </tr>\n",
       "    <tr>\n",
       "      <th>2</th>\n",
       "      <td>cc_onco860</td>\n",
       "      <td>8140/6</td>\n",
       "    </tr>\n",
       "    <tr>\n",
       "      <th>3</th>\n",
       "      <td>cc_onco98</td>\n",
       "      <td>8000/6</td>\n",
       "    </tr>\n",
       "    <tr>\n",
       "      <th>4</th>\n",
       "      <td>cc_onco98</td>\n",
       "      <td>8070/3</td>\n",
       "    </tr>\n",
       "  </tbody>\n",
       "</table>\n",
       "</div>"
      ],
      "text/plain": [
       "         file    code\n",
       "0  cc_onco860  8140/3\n",
       "1  cc_onco860  8000/6\n",
       "2  cc_onco860  8140/6\n",
       "3   cc_onco98  8000/6\n",
       "4   cc_onco98  8070/3"
      ]
     },
     "execution_count": 10,
     "metadata": {},
     "output_type": "execute_result"
    }
   ],
   "source": [
    "df_codes_train.head()"
   ]
  },
  {
   "cell_type": "code",
   "execution_count": 11,
   "metadata": {},
   "outputs": [
    {
     "data": {
      "text/html": [
       "<div>\n",
       "<style scoped>\n",
       "    .dataframe tbody tr th:only-of-type {\n",
       "        vertical-align: middle;\n",
       "    }\n",
       "\n",
       "    .dataframe tbody tr th {\n",
       "        vertical-align: top;\n",
       "    }\n",
       "\n",
       "    .dataframe thead th {\n",
       "        text-align: right;\n",
       "    }\n",
       "</style>\n",
       "<table border=\"1\" class=\"dataframe\">\n",
       "  <thead>\n",
       "    <tr style=\"text-align: right;\">\n",
       "      <th></th>\n",
       "      <th>file</th>\n",
       "      <th>code</th>\n",
       "    </tr>\n",
       "  </thead>\n",
       "  <tbody>\n",
       "    <tr>\n",
       "      <th>1862</th>\n",
       "      <td>cc_onco768</td>\n",
       "      <td>9080/1</td>\n",
       "    </tr>\n",
       "    <tr>\n",
       "      <th>1863</th>\n",
       "      <td>cc_onco768</td>\n",
       "      <td>9080/1</td>\n",
       "    </tr>\n",
       "  </tbody>\n",
       "</table>\n",
       "</div>"
      ],
      "text/plain": [
       "            file    code\n",
       "1862  cc_onco768  9080/1\n",
       "1863  cc_onco768  9080/1"
      ]
     },
     "execution_count": 11,
     "metadata": {},
     "output_type": "execute_result"
    }
   ],
   "source": [
    "df_codes_train[df_codes_train.duplicated(keep=False)]"
   ]
  },
  {
   "cell_type": "code",
   "execution_count": 12,
   "metadata": {},
   "outputs": [],
   "source": [
    "df_codes_train = df_codes_train[~df_codes_train.duplicated(keep='first')]"
   ]
  },
  {
   "cell_type": "code",
   "execution_count": 13,
   "metadata": {},
   "outputs": [
    {
     "data": {
      "text/plain": [
       "(4141, 2)"
      ]
     },
     "execution_count": 13,
     "metadata": {},
     "output_type": "execute_result"
    }
   ],
   "source": [
    "df_codes_train.shape"
   ]
  },
  {
   "cell_type": "code",
   "execution_count": 14,
   "metadata": {},
   "outputs": [
    {
     "data": {
      "text/plain": [
       "750"
      ]
     },
     "execution_count": 14,
     "metadata": {},
     "output_type": "execute_result"
    }
   ],
   "source": [
    "len(set(df_codes_train[\"file\"]))"
   ]
  },
  {
   "cell_type": "markdown",
   "metadata": {},
   "source": [
    "### Development corpus"
   ]
  },
  {
   "cell_type": "code",
   "execution_count": 15,
   "metadata": {},
   "outputs": [
    {
     "name": "stdout",
     "output_type": "stream",
     "text": [
      "CPU times: user 7.1 ms, sys: 0 ns, total: 7.1 ms\n",
      "Wall time: 6.51 ms\n"
     ]
    }
   ],
   "source": [
    "%%time\n",
    "dev_path = corpus_path + \"dev-set2/\" + sub_task_path + \"txt/\"\n",
    "dev_files = [f for f in os.listdir(dev_path) if os.path.isfile(dev_path + f)]\n",
    "dev_data = load_text_files(dev_files, dev_path)\n",
    "df_text_dev = pd.DataFrame({'doc_id': [s.split('.txt')[0] for s in dev_files], 'raw_text': dev_data})"
   ]
  },
  {
   "cell_type": "code",
   "execution_count": 16,
   "metadata": {},
   "outputs": [
    {
     "data": {
      "text/plain": [
       "(250, 2)"
      ]
     },
     "execution_count": 16,
     "metadata": {},
     "output_type": "execute_result"
    }
   ],
   "source": [
    "df_text_dev.shape"
   ]
  },
  {
   "cell_type": "code",
   "execution_count": 17,
   "metadata": {},
   "outputs": [
    {
     "data": {
      "text/html": [
       "<div>\n",
       "<style scoped>\n",
       "    .dataframe tbody tr th:only-of-type {\n",
       "        vertical-align: middle;\n",
       "    }\n",
       "\n",
       "    .dataframe tbody tr th {\n",
       "        vertical-align: top;\n",
       "    }\n",
       "\n",
       "    .dataframe thead th {\n",
       "        text-align: right;\n",
       "    }\n",
       "</style>\n",
       "<table border=\"1\" class=\"dataframe\">\n",
       "  <thead>\n",
       "    <tr style=\"text-align: right;\">\n",
       "      <th></th>\n",
       "      <th>doc_id</th>\n",
       "      <th>raw_text</th>\n",
       "    </tr>\n",
       "  </thead>\n",
       "  <tbody>\n",
       "    <tr>\n",
       "      <th>0</th>\n",
       "      <td>cc_onco1183</td>\n",
       "      <td>Anamnesis\\nVarón de 48 años que acude en agost...</td>\n",
       "    </tr>\n",
       "    <tr>\n",
       "      <th>1</th>\n",
       "      <td>cc_onco751</td>\n",
       "      <td>Anamnesis\\nHombre de 71 años de edad con antec...</td>\n",
       "    </tr>\n",
       "    <tr>\n",
       "      <th>2</th>\n",
       "      <td>cc_onco1384</td>\n",
       "      <td>Anamnesis\\nVarón de 30 años, sin antecedentes ...</td>\n",
       "    </tr>\n",
       "    <tr>\n",
       "      <th>3</th>\n",
       "      <td>cc_onco1208</td>\n",
       "      <td>Anamnesis\\nVarón de 76 años diagnosticado en a...</td>\n",
       "    </tr>\n",
       "    <tr>\n",
       "      <th>4</th>\n",
       "      <td>cc_onco734</td>\n",
       "      <td>Anamnesis\\nTras canalización del reservorio ce...</td>\n",
       "    </tr>\n",
       "  </tbody>\n",
       "</table>\n",
       "</div>"
      ],
      "text/plain": [
       "        doc_id                                           raw_text\n",
       "0  cc_onco1183  Anamnesis\\nVarón de 48 años que acude en agost...\n",
       "1   cc_onco751  Anamnesis\\nHombre de 71 años de edad con antec...\n",
       "2  cc_onco1384  Anamnesis\\nVarón de 30 años, sin antecedentes ...\n",
       "3  cc_onco1208  Anamnesis\\nVarón de 76 años diagnosticado en a...\n",
       "4   cc_onco734  Anamnesis\\nTras canalización del reservorio ce..."
      ]
     },
     "execution_count": 17,
     "metadata": {},
     "output_type": "execute_result"
    }
   ],
   "source": [
    "df_text_dev.head()"
   ]
  },
  {
   "cell_type": "code",
   "execution_count": 18,
   "metadata": {},
   "outputs": [
    {
     "data": {
      "text/plain": [
       "'Anamnesis\\nVarón de 48 años que acude en agosto de 2012 tras la realización de amputación en hallux derecho a la primera valoración por Oncología Médica.\\nAntecedentes: no alérgicos. Patológicos: diabético hace 3 años sin tratamiento. HTA en tratamiento. Enolismo crónico.\\nTrastorno afectivo bipolar. Quirúrgicos: apendicectomizado.\\nEnfermedad actual: desde hace 2 años presentaba una lesión hiperpigmentada en el hallux del pie derecho, que ocasionalmente sangraba.\\n\\nExamen físico\\nMuñón de hallux derecho en buen estado, presencia de adenopatías inguinales derechas. Resto de exploración sin alteraciones.\\n\\nPruebas complementarias\\n- Biopsia cutánea: melanoma ulcerado.\\n- AP de resección de melanoma: melanoma lentiginoso acral en fase de crecimiento vertical, ulcerado. Clark IV. Breslow 6,8 mm, sin infiltración linfovascular.\\n- TC de tórax-abdomen-pelvis: sin signos concluyentes de extensión tóraco-abdómino-pélvica de melanoma.\\nMicronódulos en el lóbulo superior derecho a valorar en controles sucesivos.\\n- Se realiza linfadenectomía inguinal electiva en octubre de 2012.\\n- AP: metástasis de melanoma en 4 de los 13 ganglios aislados.\\n\\nDiagnóstico\\nMelanoma lentiginoso acral en fase de crecimiento vertical ulcerado Clarck IV Breslow6,8 mm pT4b N2a M0 estadio IIIB.\\n\\nTratamiento\\nEn enero de 2013 inicia tratamiento adyuvante con interferón a altas dosis según el esquema Kirkwood, este se basa en el estudio ECOG 1684: interferón alfa-2b 20 millones de unidades i.v. x 20 días, seguido de 10 millones de unidades s.c. 3 veces a la semana durante 48 semanas. El paciente tuvo buena tolerancia a la fase de inducción y a la fase de mantenimiento.\\nEn agosto de 2013 se detecta un nódulo subcutáneo de 1,5 cm en la zona de la cicatriz del hallux derecho y también una lesión en la cara interna de la pierna derecha de 0,5 cm. Se considera recidiva intratratamiento, por lo que se interviene, realizándose exéresis local y ampliación de márgenes.\\nAP: melanoma de 2,4 x 0,7 x 0,8 cm con afectación del margen de resección.\\nSe decide enviar a Oncología Radioterápica por margen afecto.\\n\\nEvolución\\nDe septiembre a octubre de 2013 recibe tratamiento radioterápico \"adyuvante\": PTV en la lesión guiada por cicatriz en el pie derecho más 3 cm de margen, fraccionamiento 2,5 Gy en 24 fracciones hasta adminsitrar una dosis total de 60 Gy.\\nEn noviembre de 2013 presenta progresión cutánea con 4 lesiones hipercrómicas localizadas en el muslo derecho. No hay datos de afectación tóraco-abdominal a distancia.\\nEntre tanto, se realiza determinación del estado mutacional de B-RAF, el cual es nativo.\\nA la progresión cutánea se propone tratamiento con DTIC (1.000 mg/m2 cada 21 días), administrando un primer ciclo en diciembre de 2013. En enero de 2014 acude a consulta con un cuadro de ictericia mucocutánea y coluria. Se detecta bilirrubina total de 7,7 mg/dl, bilirrubina directa de 5,9 mg/dl. ALT 2.022 UI/l, AST 840 UI/l. Se realizan una ecografía hepatobiliar, con resultado normal, y serología de virus de hepatitis, con resultado de perfil de hepatitis B aguda. Se remite al Servicio de Aparato Digestivo, quienes realizan tratamiento conservador, observándose en semanas posteriores un descenso marcado en los valores de bilirrubina, ALT y AST hasta la completa normalidad.\\nEntre tanto, presenta crecimiento de numerosas lesiones subcutáneas distribuidas en la cara anterior e interna del muslo derecho sin datos de afectación a distancia en la TC. Se considera metástasis en tránsito de melanoma, por lo que en marzo de 2014 inicia la administración de interleucina-2 intralesional. Se aplica 1 ml en cada una de las lesiones subcutáneas, cubriendo un total de 20 lesiones por cada ciclo administrado cada 14 días, sin presentar efectos secundarios sistémicos, salvo dolor EVA 3 en los puntos de instilación, que mejoraba con el paracetamol. Con este tratamiento completa 5 ciclos hasta el mayo de 2014, presentando desaparición de la mayoría de las lesiones, persistiendo algunas de localización central.\\nEl 30 de mayo de 2014 acude con una TC de reevaluación, objetivándose progresión inguinal izquierda y una adenopatía en la cadena iliaca externa derecha de 3,3 x 2,3 cm compatible con progresión. Se ha propuesto una nueva línea de tratamiento con ipilimumab, pendiente de iniciar.'"
      ]
     },
     "execution_count": 18,
     "metadata": {},
     "output_type": "execute_result"
    }
   ],
   "source": [
    "df_text_dev.raw_text[0]"
   ]
  },
  {
   "cell_type": "markdown",
   "metadata": {},
   "source": [
    "We also load the CIE-O codes table:"
   ]
  },
  {
   "cell_type": "code",
   "execution_count": 19,
   "metadata": {},
   "outputs": [],
   "source": [
    "df_codes_dev = pd.read_table(corpus_path + \"dev-set2/\" + sub_task_path + \"dev2-coding.tsv\", \n",
    "                                 sep='\\t', header=0)"
   ]
  },
  {
   "cell_type": "code",
   "execution_count": 20,
   "metadata": {},
   "outputs": [
    {
     "data": {
      "text/plain": [
       "(1279, 2)"
      ]
     },
     "execution_count": 20,
     "metadata": {},
     "output_type": "execute_result"
    }
   ],
   "source": [
    "df_codes_dev.shape"
   ]
  },
  {
   "cell_type": "code",
   "execution_count": 21,
   "metadata": {},
   "outputs": [],
   "source": [
    "df_codes_dev[\"code\"] = df_codes_dev[\"code\"].str.lower()"
   ]
  },
  {
   "cell_type": "code",
   "execution_count": 22,
   "metadata": {},
   "outputs": [
    {
     "data": {
      "text/html": [
       "<div>\n",
       "<style scoped>\n",
       "    .dataframe tbody tr th:only-of-type {\n",
       "        vertical-align: middle;\n",
       "    }\n",
       "\n",
       "    .dataframe tbody tr th {\n",
       "        vertical-align: top;\n",
       "    }\n",
       "\n",
       "    .dataframe thead th {\n",
       "        text-align: right;\n",
       "    }\n",
       "</style>\n",
       "<table border=\"1\" class=\"dataframe\">\n",
       "  <thead>\n",
       "    <tr style=\"text-align: right;\">\n",
       "      <th></th>\n",
       "      <th>file</th>\n",
       "      <th>code</th>\n",
       "    </tr>\n",
       "  </thead>\n",
       "  <tbody>\n",
       "    <tr>\n",
       "      <th>0</th>\n",
       "      <td>cc_onco1258</td>\n",
       "      <td>8000/6</td>\n",
       "    </tr>\n",
       "    <tr>\n",
       "      <th>1</th>\n",
       "      <td>cc_onco1258</td>\n",
       "      <td>8010/3</td>\n",
       "    </tr>\n",
       "    <tr>\n",
       "      <th>2</th>\n",
       "      <td>cc_onco1258</td>\n",
       "      <td>8010/3/h</td>\n",
       "    </tr>\n",
       "    <tr>\n",
       "      <th>3</th>\n",
       "      <td>cc_onco1258</td>\n",
       "      <td>8520/3</td>\n",
       "    </tr>\n",
       "    <tr>\n",
       "      <th>4</th>\n",
       "      <td>cc_onco1258</td>\n",
       "      <td>8000/3</td>\n",
       "    </tr>\n",
       "  </tbody>\n",
       "</table>\n",
       "</div>"
      ],
      "text/plain": [
       "          file      code\n",
       "0  cc_onco1258    8000/6\n",
       "1  cc_onco1258    8010/3\n",
       "2  cc_onco1258  8010/3/h\n",
       "3  cc_onco1258    8520/3\n",
       "4  cc_onco1258    8000/3"
      ]
     },
     "execution_count": 22,
     "metadata": {},
     "output_type": "execute_result"
    }
   ],
   "source": [
    "df_codes_dev.head()"
   ]
  },
  {
   "cell_type": "code",
   "execution_count": 23,
   "metadata": {},
   "outputs": [
    {
     "data": {
      "text/plain": [
       "250"
      ]
     },
     "execution_count": 23,
     "metadata": {},
     "output_type": "execute_result"
    }
   ],
   "source": [
    "len(set(df_codes_dev[\"file\"]))"
   ]
  },
  {
   "cell_type": "markdown",
   "metadata": {},
   "source": [
    "We join the training and development Cantemist codes dataframes together:"
   ]
  },
  {
   "cell_type": "code",
   "execution_count": 24,
   "metadata": {},
   "outputs": [],
   "source": [
    "df_codes_train_dev = pd.concat([df_codes_train, df_codes_dev])"
   ]
  },
  {
   "cell_type": "code",
   "execution_count": 25,
   "metadata": {},
   "outputs": [
    {
     "data": {
      "text/plain": [
       "(5420, 2)"
      ]
     },
     "execution_count": 25,
     "metadata": {},
     "output_type": "execute_result"
    }
   ],
   "source": [
    "df_codes_train_dev.shape"
   ]
  },
  {
   "cell_type": "code",
   "execution_count": 26,
   "metadata": {},
   "outputs": [
    {
     "data": {
      "text/html": [
       "<div>\n",
       "<style scoped>\n",
       "    .dataframe tbody tr th:only-of-type {\n",
       "        vertical-align: middle;\n",
       "    }\n",
       "\n",
       "    .dataframe tbody tr th {\n",
       "        vertical-align: top;\n",
       "    }\n",
       "\n",
       "    .dataframe thead th {\n",
       "        text-align: right;\n",
       "    }\n",
       "</style>\n",
       "<table border=\"1\" class=\"dataframe\">\n",
       "  <thead>\n",
       "    <tr style=\"text-align: right;\">\n",
       "      <th></th>\n",
       "      <th>file</th>\n",
       "      <th>code</th>\n",
       "    </tr>\n",
       "  </thead>\n",
       "  <tbody>\n",
       "    <tr>\n",
       "      <th>0</th>\n",
       "      <td>cc_onco860</td>\n",
       "      <td>8140/3</td>\n",
       "    </tr>\n",
       "    <tr>\n",
       "      <th>1</th>\n",
       "      <td>cc_onco860</td>\n",
       "      <td>8000/6</td>\n",
       "    </tr>\n",
       "    <tr>\n",
       "      <th>2</th>\n",
       "      <td>cc_onco860</td>\n",
       "      <td>8140/6</td>\n",
       "    </tr>\n",
       "    <tr>\n",
       "      <th>3</th>\n",
       "      <td>cc_onco98</td>\n",
       "      <td>8000/6</td>\n",
       "    </tr>\n",
       "    <tr>\n",
       "      <th>4</th>\n",
       "      <td>cc_onco98</td>\n",
       "      <td>8070/3</td>\n",
       "    </tr>\n",
       "  </tbody>\n",
       "</table>\n",
       "</div>"
      ],
      "text/plain": [
       "         file    code\n",
       "0  cc_onco860  8140/3\n",
       "1  cc_onco860  8000/6\n",
       "2  cc_onco860  8140/6\n",
       "3   cc_onco98  8000/6\n",
       "4   cc_onco98  8070/3"
      ]
     },
     "execution_count": 26,
     "metadata": {},
     "output_type": "execute_result"
    }
   ],
   "source": [
    "df_codes_train_dev.head()"
   ]
  },
  {
   "cell_type": "markdown",
   "metadata": {},
   "source": [
    "## Creating corpora of annotated sentences\n",
    "\n",
    "Leveraging the information available for the named-entity-recognition and normalization (NER-N) Cantemist-NORM task, we create both a training and a development corpus of annotated sentences with CIE-O codes."
   ]
  },
  {
   "cell_type": "markdown",
   "metadata": {},
   "source": [
    "Firstly, we pre-process the NER-N oncology-codes annotations available for both the training and development corpora."
   ]
  },
  {
   "cell_type": "code",
   "execution_count": 27,
   "metadata": {},
   "outputs": [],
   "source": [
    "# Training corpus"
   ]
  },
  {
   "cell_type": "code",
   "execution_count": 28,
   "metadata": {},
   "outputs": [],
   "source": [
    "train_norm_path = corpus_path + \"train-set/cantemist-norm/\"\n",
    "train_ann_files = [train_norm_path + f for f in os.listdir(train_norm_path) if f.split('.')[-1] == \"ann\"]\n",
    "dev1_norm_path = corpus_path + \"dev-set1/cantemist-norm/\"\n",
    "train_ann_files.extend([dev1_norm_path + f for f in os.listdir(dev1_norm_path) if f.split('.')[-1] == \"ann\"])"
   ]
  },
  {
   "cell_type": "code",
   "execution_count": 29,
   "metadata": {},
   "outputs": [
    {
     "data": {
      "text/plain": [
       "751"
      ]
     },
     "execution_count": 29,
     "metadata": {},
     "output_type": "execute_result"
    }
   ],
   "source": [
    "len(train_ann_files)"
   ]
  },
  {
   "cell_type": "code",
   "execution_count": 30,
   "metadata": {},
   "outputs": [],
   "source": [
    "df_codes_train_ner = process_brat_labels(train_ann_files).sort_values([\"doc_id\", \"start\", \"end\"])"
   ]
  },
  {
   "cell_type": "code",
   "execution_count": 31,
   "metadata": {},
   "outputs": [
    {
     "data": {
      "text/plain": [
       "(9737, 5)"
      ]
     },
     "execution_count": 31,
     "metadata": {},
     "output_type": "execute_result"
    }
   ],
   "source": [
    "df_codes_train_ner.shape"
   ]
  },
  {
   "cell_type": "code",
   "execution_count": 32,
   "metadata": {},
   "outputs": [],
   "source": [
    "df_codes_train_ner[\"code\"] = df_codes_train_ner[\"code\"].str.lower()"
   ]
  },
  {
   "cell_type": "code",
   "execution_count": 33,
   "metadata": {},
   "outputs": [
    {
     "data": {
      "text/html": [
       "<div>\n",
       "<style scoped>\n",
       "    .dataframe tbody tr th:only-of-type {\n",
       "        vertical-align: middle;\n",
       "    }\n",
       "\n",
       "    .dataframe tbody tr th {\n",
       "        vertical-align: top;\n",
       "    }\n",
       "\n",
       "    .dataframe thead th {\n",
       "        text-align: right;\n",
       "    }\n",
       "</style>\n",
       "<table border=\"1\" class=\"dataframe\">\n",
       "  <thead>\n",
       "    <tr style=\"text-align: right;\">\n",
       "      <th></th>\n",
       "      <th>doc_id</th>\n",
       "      <th>code</th>\n",
       "      <th>text_ref</th>\n",
       "      <th>start</th>\n",
       "      <th>end</th>\n",
       "    </tr>\n",
       "  </thead>\n",
       "  <tbody>\n",
       "    <tr>\n",
       "      <th>5230</th>\n",
       "      <td>cc_onco1</td>\n",
       "      <td>8041/3</td>\n",
       "      <td>Carcinoma microcítico</td>\n",
       "      <td>2719</td>\n",
       "      <td>2740</td>\n",
       "    </tr>\n",
       "    <tr>\n",
       "      <th>5231</th>\n",
       "      <td>cc_onco1</td>\n",
       "      <td>8041/3</td>\n",
       "      <td>carcinoma microcítico</td>\n",
       "      <td>2950</td>\n",
       "      <td>2971</td>\n",
       "    </tr>\n",
       "    <tr>\n",
       "      <th>5232</th>\n",
       "      <td>cc_onco1</td>\n",
       "      <td>8000/6</td>\n",
       "      <td>M0</td>\n",
       "      <td>2988</td>\n",
       "      <td>2990</td>\n",
       "    </tr>\n",
       "    <tr>\n",
       "      <th>97</th>\n",
       "      <td>cc_onco10</td>\n",
       "      <td>8000/1</td>\n",
       "      <td>tumor</td>\n",
       "      <td>212</td>\n",
       "      <td>217</td>\n",
       "    </tr>\n",
       "    <tr>\n",
       "      <th>95</th>\n",
       "      <td>cc_onco10</td>\n",
       "      <td>8000/1</td>\n",
       "      <td>neoplasia</td>\n",
       "      <td>976</td>\n",
       "      <td>985</td>\n",
       "    </tr>\n",
       "  </tbody>\n",
       "</table>\n",
       "</div>"
      ],
      "text/plain": [
       "         doc_id    code               text_ref  start   end\n",
       "5230   cc_onco1  8041/3  Carcinoma microcítico   2719  2740\n",
       "5231   cc_onco1  8041/3  carcinoma microcítico   2950  2971\n",
       "5232   cc_onco1  8000/6                     M0   2988  2990\n",
       "97    cc_onco10  8000/1                  tumor    212   217\n",
       "95    cc_onco10  8000/1              neoplasia    976   985"
      ]
     },
     "execution_count": 33,
     "metadata": {},
     "output_type": "execute_result"
    }
   ],
   "source": [
    "df_codes_train_ner.head()"
   ]
  },
  {
   "cell_type": "code",
   "execution_count": 34,
   "metadata": {},
   "outputs": [
    {
     "data": {
      "text/plain": [
       "750"
      ]
     },
     "execution_count": 34,
     "metadata": {},
     "output_type": "execute_result"
    }
   ],
   "source": [
    "len(set(df_codes_train_ner[\"doc_id\"]))"
   ]
  },
  {
   "cell_type": "code",
   "execution_count": 35,
   "metadata": {},
   "outputs": [],
   "source": [
    "# Development corpus"
   ]
  },
  {
   "cell_type": "code",
   "execution_count": 36,
   "metadata": {},
   "outputs": [],
   "source": [
    "dev_norm_path = corpus_path + \"dev-set2/cantemist-norm/\"\n",
    "dev_ann_files = [dev_norm_path + f for f in os.listdir(dev_norm_path) if f.split('.')[-1] == \"ann\"]"
   ]
  },
  {
   "cell_type": "code",
   "execution_count": 37,
   "metadata": {},
   "outputs": [
    {
     "data": {
      "text/plain": [
       "250"
      ]
     },
     "execution_count": 37,
     "metadata": {},
     "output_type": "execute_result"
    }
   ],
   "source": [
    "len(dev_ann_files)"
   ]
  },
  {
   "cell_type": "code",
   "execution_count": 38,
   "metadata": {},
   "outputs": [],
   "source": [
    "df_codes_dev_ner = process_brat_labels(dev_ann_files).sort_values([\"doc_id\", \"start\", \"end\"])"
   ]
  },
  {
   "cell_type": "code",
   "execution_count": 39,
   "metadata": {},
   "outputs": [
    {
     "data": {
      "text/plain": [
       "(2660, 5)"
      ]
     },
     "execution_count": 39,
     "metadata": {},
     "output_type": "execute_result"
    }
   ],
   "source": [
    "df_codes_dev_ner.shape"
   ]
  },
  {
   "cell_type": "code",
   "execution_count": 40,
   "metadata": {},
   "outputs": [],
   "source": [
    "df_codes_dev_ner[\"code\"] = df_codes_dev_ner[\"code\"].str.lower()"
   ]
  },
  {
   "cell_type": "code",
   "execution_count": 41,
   "metadata": {},
   "outputs": [
    {
     "data": {
      "text/html": [
       "<div>\n",
       "<style scoped>\n",
       "    .dataframe tbody tr th:only-of-type {\n",
       "        vertical-align: middle;\n",
       "    }\n",
       "\n",
       "    .dataframe tbody tr th {\n",
       "        vertical-align: top;\n",
       "    }\n",
       "\n",
       "    .dataframe thead th {\n",
       "        text-align: right;\n",
       "    }\n",
       "</style>\n",
       "<table border=\"1\" class=\"dataframe\">\n",
       "  <thead>\n",
       "    <tr style=\"text-align: right;\">\n",
       "      <th></th>\n",
       "      <th>doc_id</th>\n",
       "      <th>code</th>\n",
       "      <th>text_ref</th>\n",
       "      <th>start</th>\n",
       "      <th>end</th>\n",
       "    </tr>\n",
       "  </thead>\n",
       "  <tbody>\n",
       "    <tr>\n",
       "      <th>1852</th>\n",
       "      <td>cc_onco1001</td>\n",
       "      <td>8070/3</td>\n",
       "      <td>carcinoma epidermoide</td>\n",
       "      <td>576</td>\n",
       "      <td>597</td>\n",
       "    </tr>\n",
       "    <tr>\n",
       "      <th>1854</th>\n",
       "      <td>cc_onco1001</td>\n",
       "      <td>8000/1</td>\n",
       "      <td>neoplasia</td>\n",
       "      <td>790</td>\n",
       "      <td>799</td>\n",
       "    </tr>\n",
       "    <tr>\n",
       "      <th>1857</th>\n",
       "      <td>cc_onco1001</td>\n",
       "      <td>8140/6</td>\n",
       "      <td>adenocarcinoma T4N3M1b</td>\n",
       "      <td>836</td>\n",
       "      <td>858</td>\n",
       "    </tr>\n",
       "    <tr>\n",
       "      <th>1853</th>\n",
       "      <td>cc_onco1001</td>\n",
       "      <td>8000/6</td>\n",
       "      <td>enfermedad hepática</td>\n",
       "      <td>1205</td>\n",
       "      <td>1224</td>\n",
       "    </tr>\n",
       "    <tr>\n",
       "      <th>1855</th>\n",
       "      <td>cc_onco1001</td>\n",
       "      <td>8000/1</td>\n",
       "      <td>tumoral</td>\n",
       "      <td>2303</td>\n",
       "      <td>2310</td>\n",
       "    </tr>\n",
       "  </tbody>\n",
       "</table>\n",
       "</div>"
      ],
      "text/plain": [
       "           doc_id    code                text_ref  start   end\n",
       "1852  cc_onco1001  8070/3   carcinoma epidermoide    576   597\n",
       "1854  cc_onco1001  8000/1               neoplasia    790   799\n",
       "1857  cc_onco1001  8140/6  adenocarcinoma T4N3M1b    836   858\n",
       "1853  cc_onco1001  8000/6     enfermedad hepática   1205  1224\n",
       "1855  cc_onco1001  8000/1                 tumoral   2303  2310"
      ]
     },
     "execution_count": 41,
     "metadata": {},
     "output_type": "execute_result"
    }
   ],
   "source": [
    "df_codes_dev_ner.head()"
   ]
  },
  {
   "cell_type": "code",
   "execution_count": 42,
   "metadata": {},
   "outputs": [
    {
     "data": {
      "text/plain": [
       "250"
      ]
     },
     "execution_count": 42,
     "metadata": {},
     "output_type": "execute_result"
    }
   ],
   "source": [
    "len(set(df_codes_dev_ner[\"doc_id\"]))"
   ]
  },
  {
   "cell_type": "markdown",
   "metadata": {},
   "source": [
    "Now, using the character start-end positions of each sentence from the Cantemist corpus (see `datasets/Cantemist-Sentence-Split.ipynb`), we annotate the sentences with CIE-O codes. Also, using XLM-R tokenizer, each sentence is converted into a sequence of subwords, which are further converted into vocabulary indices (input IDs) and attention mask arrays (XLM-R input tensors). We also generate a *fragments* dataset indicating the number of produced annotated sentences for each document."
   ]
  },
  {
   "cell_type": "code",
   "execution_count": 43,
   "metadata": {},
   "outputs": [],
   "source": [
    "# Sentence-Split information\n",
    "ss_corpus_path = \"../datasets/Cantemist-SSplit-text/\""
   ]
  },
  {
   "cell_type": "markdown",
   "metadata": {},
   "source": [
    "### Training corpus"
   ]
  },
  {
   "cell_type": "code",
   "execution_count": 44,
   "metadata": {},
   "outputs": [],
   "source": [
    "label_list = list(df_codes_train_dev[\"code\"])"
   ]
  },
  {
   "cell_type": "code",
   "execution_count": 45,
   "metadata": {},
   "outputs": [
    {
     "data": {
      "text/plain": [
       "5420"
      ]
     },
     "execution_count": 45,
     "metadata": {},
     "output_type": "execute_result"
    }
   ],
   "source": [
    "len(label_list)"
   ]
  },
  {
   "cell_type": "code",
   "execution_count": 46,
   "metadata": {},
   "outputs": [
    {
     "data": {
      "text/plain": [
       "743"
      ]
     },
     "execution_count": 46,
     "metadata": {},
     "output_type": "execute_result"
    }
   ],
   "source": [
    "len(set(label_list))"
   ]
  },
  {
   "cell_type": "code",
   "execution_count": 47,
   "metadata": {},
   "outputs": [
    {
     "data": {
      "text/plain": [
       "MultiLabelBinarizer()"
      ]
     },
     "execution_count": 47,
     "metadata": {},
     "output_type": "execute_result"
    }
   ],
   "source": [
    "from sklearn.preprocessing import MultiLabelBinarizer\n",
    "\n",
    "mlb_encoder = MultiLabelBinarizer()\n",
    "mlb_encoder.fit([label_list])"
   ]
  },
  {
   "cell_type": "code",
   "execution_count": 48,
   "metadata": {},
   "outputs": [],
   "source": [
    "# Number of distinct codes\n",
    "num_labels = len(mlb_encoder.classes_)"
   ]
  },
  {
   "cell_type": "code",
   "execution_count": 49,
   "metadata": {},
   "outputs": [
    {
     "data": {
      "text/plain": [
       "743"
      ]
     },
     "execution_count": 49,
     "metadata": {},
     "output_type": "execute_result"
    }
   ],
   "source": [
    "num_labels"
   ]
  },
  {
   "cell_type": "markdown",
   "metadata": {},
   "source": [
    "Only training texts that are annotated with CIE-O codes are considered:"
   ]
  },
  {
   "cell_type": "code",
   "execution_count": 50,
   "metadata": {},
   "outputs": [
    {
     "data": {
      "text/plain": [
       "1"
      ]
     },
     "execution_count": 50,
     "metadata": {},
     "output_type": "execute_result"
    }
   ],
   "source": [
    "# Some train documents (texts) are not annotated \n",
    "len(set(df_text_train[\"doc_id\"]) - set(df_codes_train_ner[\"doc_id\"]))"
   ]
  },
  {
   "cell_type": "code",
   "execution_count": 51,
   "metadata": {},
   "outputs": [],
   "source": [
    "train_doc_list = sorted(set(df_codes_train_ner[\"doc_id\"]))"
   ]
  },
  {
   "cell_type": "code",
   "execution_count": 52,
   "metadata": {},
   "outputs": [
    {
     "data": {
      "text/plain": [
       "750"
      ]
     },
     "execution_count": 52,
     "metadata": {},
     "output_type": "execute_result"
    }
   ],
   "source": [
    "len(train_doc_list)"
   ]
  },
  {
   "cell_type": "code",
   "execution_count": 53,
   "metadata": {},
   "outputs": [],
   "source": [
    "# Sentence-Split data"
   ]
  },
  {
   "cell_type": "code",
   "execution_count": 54,
   "metadata": {},
   "outputs": [
    {
     "name": "stdout",
     "output_type": "stream",
     "text": [
      "CPU times: user 34 ms, sys: 0 ns, total: 34 ms\n",
      "Wall time: 33.8 ms\n"
     ]
    }
   ],
   "source": [
    "%%time\n",
    "ss_sub_corpus_path = ss_corpus_path + \"training/\"\n",
    "ss_files = [f for f in os.listdir(ss_sub_corpus_path) if os.path.isfile(ss_sub_corpus_path + f)]\n",
    "ss_dict_train = load_ss_files(ss_files, ss_sub_corpus_path)"
   ]
  },
  {
   "cell_type": "code",
   "execution_count": 55,
   "metadata": {},
   "outputs": [
    {
     "name": "stderr",
     "output_type": "stream",
     "text": [
      "100%|██████████| 750/750 [00:40<00:00, 18.39it/s]\n"
     ]
    },
    {
     "name": "stdout",
     "output_type": "stream",
     "text": [
      "CPU times: user 41.1 s, sys: 133 ms, total: 41.3 s\n",
      "Wall time: 41.2 s\n"
     ]
    }
   ],
   "source": [
    "%%time\n",
    "train_ind, train_att, train_y, train_frag, train_start_end_frag = ss_create_frag_input_data_xlmr(df_text=df_text_train, \n",
    "                                                  text_col=text_col, \n",
    "                                                  df_ann=df_codes_train_ner, doc_list=train_doc_list, ss_dict=ss_dict_train,\n",
    "                                                  tokenizer=tokenizer, sp_pb2=spt, lab_encoder=mlb_encoder, seq_len=SEQ_LEN)"
   ]
  },
  {
   "cell_type": "code",
   "execution_count": 56,
   "metadata": {},
   "outputs": [],
   "source": [
    "# Sanity check"
   ]
  },
  {
   "cell_type": "code",
   "execution_count": 57,
   "metadata": {},
   "outputs": [
    {
     "data": {
      "text/plain": [
       "(27633, 128)"
      ]
     },
     "execution_count": 57,
     "metadata": {},
     "output_type": "execute_result"
    }
   ],
   "source": [
    "train_ind.shape"
   ]
  },
  {
   "cell_type": "code",
   "execution_count": 58,
   "metadata": {},
   "outputs": [
    {
     "data": {
      "text/plain": [
       "(27633, 128)"
      ]
     },
     "execution_count": 58,
     "metadata": {},
     "output_type": "execute_result"
    }
   ],
   "source": [
    "train_att.shape"
   ]
  },
  {
   "cell_type": "code",
   "execution_count": 59,
   "metadata": {},
   "outputs": [
    {
     "data": {
      "text/plain": [
       "(27633, 743)"
      ]
     },
     "execution_count": 59,
     "metadata": {},
     "output_type": "execute_result"
    }
   ],
   "source": [
    "train_y.shape"
   ]
  },
  {
   "cell_type": "code",
   "execution_count": 60,
   "metadata": {},
   "outputs": [
    {
     "data": {
      "text/plain": [
       "750"
      ]
     },
     "execution_count": 60,
     "metadata": {},
     "output_type": "execute_result"
    }
   ],
   "source": [
    "len(train_frag)"
   ]
  },
  {
   "cell_type": "code",
   "execution_count": 61,
   "metadata": {},
   "outputs": [
    {
     "data": {
      "text/plain": [
       "27633"
      ]
     },
     "execution_count": 61,
     "metadata": {},
     "output_type": "execute_result"
    }
   ],
   "source": [
    "len(train_start_end_frag)"
   ]
  },
  {
   "cell_type": "code",
   "execution_count": 62,
   "metadata": {},
   "outputs": [
    {
     "data": {
      "text/plain": [
       "count    750.000000\n",
       "mean      36.844000\n",
       "std       14.591672\n",
       "min       11.000000\n",
       "25%       27.000000\n",
       "50%       34.000000\n",
       "75%       44.000000\n",
       "max      102.000000\n",
       "dtype: float64"
      ]
     },
     "execution_count": 62,
     "metadata": {},
     "output_type": "execute_result"
    }
   ],
   "source": [
    "# Check n_frag distribution across texts\n",
    "pd.Series(train_frag).describe()"
   ]
  },
  {
   "cell_type": "code",
   "execution_count": 63,
   "metadata": {},
   "outputs": [],
   "source": [
    "# Inspect a randomly selected text and its encoded version\n",
    "check_id = np.random.randint(low=0, high=len(train_doc_list), size=1)[0]"
   ]
  },
  {
   "cell_type": "code",
   "execution_count": 64,
   "metadata": {},
   "outputs": [
    {
     "data": {
      "text/plain": [
       "358"
      ]
     },
     "execution_count": 64,
     "metadata": {},
     "output_type": "execute_result"
    }
   ],
   "source": [
    "check_id"
   ]
  },
  {
   "cell_type": "code",
   "execution_count": 65,
   "metadata": {},
   "outputs": [
    {
     "data": {
      "text/plain": [
       "'cc_onco509'"
      ]
     },
     "execution_count": 65,
     "metadata": {},
     "output_type": "execute_result"
    }
   ],
   "source": [
    "train_doc_list[check_id]"
   ]
  },
  {
   "cell_type": "code",
   "execution_count": 66,
   "metadata": {
    "scrolled": true
   },
   "outputs": [
    {
     "data": {
      "text/plain": [
       "'Anamnesis\\nMujer de 49 años remitida en octubre de 2018 desde Atención Primaria a consultas externas de Cirugía General, por aparición de nódulo palpable en mama derecha, de un mes de evolución.\\nEn ese momento, la paciente no presentaba antecedentes medicoquirúrgicos de interés, ni refería hábitos tóxicos. Trabajaba como ama de casa y tenía buen apoyo familiar. Como antecedentes familiares, una tía paterna fue diagnosticada de carcinoma de mama a los 65 años.\\nComo tratamiento crónico, se había pautado recientemente acetato de medroxiprogesterona por hiperplasia endometrial simple.\\n\\nExploración física\\nLa paciente presentaba buen estado general, con un performance status (PS) 0. En la exploración física, se palpaba un nódulo sólido, de aproximadamente 4 cm en cuadrante superoexterno de mama derecha. La exploración axilar resultó dentro de la normalidad, así como el resto de la exploración física.\\n\\nPruebas complementarias\\nSe solicitó mamografía/ecografía, que mostraba un nódulo ovoide, de 4 x 4 cm, lobulado, con un pequeño componente líquido en su interior, clasificado como BIRADS 4B por su rápido crecimiento. Se realizó biopsia con aguja gruesa (BAG) guiada por ecografía, con resultado anatomopatológico de tumor fusocelular maligno, positivo para actina, músculo liso y desmina, compatible con leiomiosarcoma\\nPor otro lado, se solicitó tomografía computarizada (TC) toracoabdominopélvica como estudio de extensión que mostró, como hallazgo incidental, la presencia de un adenoma suprarrenal confirmado con TC abdominal en vacío y estudio hormonal. Además, se objetivaron lesiones ocupantes de espacio (LOE) uterinas que, tras ser valoradas en Comité Multidisciplinar de Tumores Ginecológicos, se concluyó que las imágenes no eran sugestivas de malignidad, pero sí tenían indicación quirúrgica en un segundo tiempo, tras completar tratamiento del leiomiosarcoma de mama. No se encontró, por tanto, evidencia de enfermedad tumoral a otros niveles.\\n\\nDiagnóstico\\nEl diagnóstico definitivo fue de leiomiosarcoma de mama localizado (pT2 N0 M0).\\n\\nTratamiento\\nCon este diagnóstico, fue intervenida realizándose tumorectomía, con resultado anatomopatológico de leiomiosarcoma de alto grado, con resección completa y bordes libres. Se completó con biopsia selectiva de ganglio centinela (BSGC), que resultó negativa.\\nTras comentar el caso en Comité Multidisciplinar, dada la agresividad de la enfermedad con alto riesgo de recaída y el borde libre de resección insuficiente (0,5 mm), se decidió realizar en abril de 2019, ampliación quirúrgica mediante mastectomía.\\nAdemás, se realizó una búsqueda de ensayos clínicos disponibles en nuestra comunidad, no siendo candidata, por lo que se decidió completar tratamiento adyuvante con quimioterapia con esquema de epirrubicina e ifosfamida por tres ciclos, seguido de tratamiento con radioterapia.\\n\\nEvolución\\nAsí, la paciente inició tratamiento sistémico con esquema de quimioterapia con epirrubicina e Ifosfamida cada 21 días con soporte de factor estimulante de colonias, del que recibió 3 ciclos, que ha completado recientemente, con buena tolerancia.\\nLa paciente sigue manteniendo buen estado general, estando actualmente pendiente de inicio de tratamiento radioterápico para completar el tratamiento local.'"
      ]
     },
     "execution_count": 66,
     "metadata": {},
     "output_type": "execute_result"
    }
   ],
   "source": [
    "df_text_train[df_text_train[\"doc_id\"] == train_doc_list[check_id]][text_col].values[0]"
   ]
  },
  {
   "cell_type": "code",
   "execution_count": 67,
   "metadata": {},
   "outputs": [
    {
     "name": "stdout",
     "output_type": "stream",
     "text": [
      "[()] \n",
      "\n",
      "[()] \n",
      "\n",
      "[()] \n",
      "\n",
      "[('8010/3',)] \n",
      "\n",
      "[()] \n",
      "\n",
      "[()] \n",
      "\n",
      "[()] \n",
      "\n",
      "[()] \n",
      "\n",
      "[()] \n",
      "\n",
      "[('8004/3', '8140/0', '8890/3')] \n",
      "\n",
      "[('8000/3', '8890/3')] \n",
      "\n",
      "[('8000/1',)] \n",
      "\n",
      "[('8000/6', '8890/3')] \n",
      "\n",
      "[('8890/34',)] \n",
      "\n",
      "[()] \n",
      "\n",
      "[()] \n",
      "\n",
      "[()] \n",
      "\n",
      "[()] \n",
      "\n",
      "[()] \n",
      "\n"
     ]
    }
   ],
   "source": [
    "check_id_frag = sum(train_frag[:check_id])\n",
    "for i in range(check_id_frag, check_id_frag + train_frag[check_id]):\n",
    "    print(mlb_encoder.inverse_transform(np.array([train_y[i]])), \"\\n\")"
   ]
  },
  {
   "cell_type": "code",
   "execution_count": 68,
   "metadata": {},
   "outputs": [
    {
     "name": "stdout",
     "output_type": "stream",
     "text": [
      "[('▁Ana', (0, 3)), ('m', (3, 4)), ('nesi', (4, 8)), ('s', (8, 9)), ('▁Mu', (9, 12)), ('jer', (12, 15)), ('▁de', (15, 18)), ('▁49', (18, 21)), ('▁años', (21, 27)), ('▁remit', (27, 33)), ('ida', (33, 36)), ('▁en', (36, 39)), ('▁octubre', (39, 47)), ('▁de', (47, 50)), ('▁2018', (50, 55)), ('▁desde', (55, 61)), ('▁Atención', (61, 71)), ('▁Primaria', (71, 80)), ('▁a', (80, 82)), ('▁consulta', (82, 91)), ('s', (91, 92)), ('▁externa', (92, 100)), ('s', (100, 101)), ('▁de', (101, 104)), ('▁Ci', (104, 107)), ('rug', (107, 110)), ('ía', (110, 113)), ('▁General', (113, 121)), (',', (121, 122)), ('▁por', (122, 126)), ('▁aparición', (126, 137)), ('▁de', (137, 140)), ('▁nó', (140, 144)), ('du', (144, 146)), ('lo', (146, 148)), ('▁palp', (148, 153)), ('able', (153, 157)), ('▁en', (157, 160)), ('▁mama', (160, 165)), ('▁derecha', (165, 173)), (',', (173, 174)), ('▁de', (174, 177)), ('▁un', (177, 180)), ('▁mes', (180, 184)), ('▁de', (184, 187)), ('▁evolución', (187, 198)), ('.', (198, 199))]\n",
      "\n",
      "\n",
      "[('▁En', (200, 202)), ('▁ese', (202, 206)), ('▁momento', (206, 214)), (',', (214, 215)), ('▁la', (215, 218)), ('▁paciente', (218, 227)), ('▁no', (227, 230)), ('▁presenta', (230, 239)), ('ba', (239, 241)), ('▁antecede', (241, 250)), ('ntes', (250, 254)), ('▁medico', (254, 261)), ('qui', (261, 264)), ('rú', (264, 267)), ('rg', (267, 269)), ('icos', (269, 273)), ('▁de', (273, 276)), ('▁interés', (276, 285)), (',', (285, 286)), ('▁ni', (286, 289)), ('▁refer', (289, 295)), ('ía', (295, 298)), ('▁hábitos', (298, 307)), ('▁tó', (307, 311)), ('xico', (311, 315)), ('s', (315, 316)), ('.', (316, 317))]\n",
      "\n",
      "\n",
      "[('▁Traba', (318, 323)), ('ja', (323, 325)), ('ba', (325, 327)), ('▁como', (327, 332)), ('▁ama', (332, 336)), ('▁de', (336, 339)), ('▁casa', (339, 344)), ('▁y', (344, 346)), ('▁tenía', (346, 353)), ('▁buen', (353, 358)), ('▁apoyo', (358, 364)), ('▁familiar', (364, 373)), ('.', (373, 374))]\n",
      "\n",
      "\n",
      "[('▁Como', (375, 379)), ('▁antecede', (379, 388)), ('ntes', (388, 392)), ('▁familiares', (392, 403)), (',', (403, 404)), ('▁una', (404, 408)), ('▁tí', (408, 412)), ('a', (412, 413)), ('▁pater', (413, 419)), ('na', (419, 421)), ('▁fue', (421, 425)), ('▁diagnostic', (425, 436)), ('ada', (436, 439)), ('▁de', (439, 442)), ('▁car', (442, 446)), ('cino', (446, 450)), ('ma', (450, 452)), ('▁de', (452, 455)), ('▁mama', (455, 460)), ('▁a', (460, 462)), ('▁los', (462, 466)), ('▁65', (466, 469)), ('▁años', (469, 475)), ('.', (475, 476))]\n",
      "\n",
      "\n",
      "[('▁Como', (477, 481)), ('▁tratamiento', (481, 493)), ('▁cr', (493, 496)), ('ónico', (496, 502)), (',', (502, 503)), ('▁se', (503, 506)), ('▁había', (506, 513)), ('▁pauta', (513, 519)), ('do', (519, 521)), ('▁reciente', (521, 530)), ('mente', (530, 535)), ('▁a', (535, 537)), ('ce', (537, 539)), ('tato', (539, 543)), ('▁de', (543, 546)), ('▁med', (546, 550)), ('ro', (550, 552)), ('xi', (552, 554)), ('prog', (554, 558)), ('estero', (558, 564)), ('na', (564, 566)), ('▁por', (566, 570)), ('▁hiper', (570, 576)), ('plas', (576, 580)), ('ia', (580, 582)), ('▁end', (582, 586)), ('ometri', (586, 592)), ('al', (592, 594)), ('▁simple', (594, 601)), ('.', (601, 602))]\n",
      "\n",
      "\n",
      "[('▁Explo', (604, 609)), ('r', (609, 610)), ('ación', (610, 616)), ('▁física', (616, 624)), ('▁La', (624, 627)), ('▁paciente', (627, 636)), ('▁presenta', (636, 645)), ('ba', (645, 647)), ('▁buen', (647, 652)), ('▁estado', (652, 659)), ('▁general', (659, 667)), (',', (667, 668)), ('▁con', (668, 672)), ('▁un', (672, 675)), ('▁performance', (675, 687)), ('▁status', (687, 694)), ('▁(', (694, 696)), ('PS', (696, 698)), (')', (698, 699)), ('▁0', (699, 701)), ('.', (701, 702))]\n",
      "\n",
      "\n",
      "[('▁En', (703, 705)), ('▁la', (705, 708)), ('▁explora', (708, 716)), ('ción', (716, 721)), ('▁física', (721, 729)), (',', (729, 730)), ('▁se', (730, 733)), ('▁palp', (733, 738)), ('aba', (738, 741)), ('▁un', (741, 744)), ('▁nó', (744, 748)), ('du', (748, 750)), ('lo', (750, 752)), ('▁sólido', (752, 760)), (',', (760, 761)), ('▁de', (761, 764)), ('▁aproximadamente', (764, 780)), ('▁4', (780, 782)), ('▁cm', (782, 785)), ('▁en', (785, 788)), ('▁cu', (788, 791)), ('ad', (791, 793)), ('rante', (793, 798)), ('▁super', (798, 804)), ('o', (804, 805)), ('ex', (805, 807)), ('ter', (807, 810)), ('no', (810, 812)), ('▁de', (812, 815)), ('▁mama', (815, 820)), ('▁derecha', (820, 828)), ('.', (828, 829))]\n",
      "\n",
      "\n",
      "[('▁La', (830, 832)), ('▁explora', (832, 840)), ('ción', (840, 845)), ('▁a', (845, 847)), ('xi', (847, 849)), ('lar', (849, 852)), ('▁result', (852, 859)), ('ó', (859, 861)), ('▁dentro', (861, 868)), ('▁de', (868, 871)), ('▁la', (871, 874)), ('▁normal', (874, 881)), ('idad', (881, 885)), (',', (885, 886)), ('▁así', (886, 891)), ('▁como', (891, 896)), ('▁el', (896, 899)), ('▁resto', (899, 905)), ('▁de', (905, 908)), ('▁la', (908, 911)), ('▁explora', (911, 919)), ('ción', (919, 924)), ('▁física', (924, 932)), ('.', (932, 933))]\n",
      "\n",
      "\n",
      "[('▁Pru', (935, 938)), ('e', (938, 939)), ('bas', (939, 942)), ('▁complementar', (942, 955)), ('ias', (955, 958)), ('▁Se', (958, 961)), ('▁solicit', (961, 969)), ('ó', (969, 971)), ('▁mam', (971, 975)), ('ografía', (975, 983)), ('/', (983, 984)), ('ec', (984, 986)), ('ografía', (986, 994)), (',', (994, 995)), ('▁que', (995, 999)), ('▁mostra', (999, 1006)), ('ba', (1006, 1008)), ('▁un', (1008, 1011)), ('▁nó', (1011, 1015)), ('du', (1015, 1017)), ('lo', (1017, 1019)), ('▁ovo', (1019, 1023)), ('ide', (1023, 1026)), (',', (1026, 1027)), ('▁de', (1027, 1030)), ('▁4', (1030, 1032)), ('▁x', (1032, 1034)), ('▁4', (1034, 1036)), ('▁cm', (1036, 1039)), (',', (1039, 1040)), ('▁lo', (1040, 1043)), ('bula', (1043, 1047)), ('do', (1047, 1049)), (',', (1049, 1050)), ('▁con', (1050, 1054)), ('▁un', (1054, 1057)), ('▁pequeño', (1057, 1066)), ('▁componente', (1066, 1077)), ('▁líquido', (1077, 1086)), ('▁en', (1086, 1089)), ('▁su', (1089, 1092)), ('▁interior', (1092, 1101)), (',', (1101, 1102)), ('▁clasifica', (1102, 1112)), ('do', (1112, 1114)), ('▁como', (1114, 1119)), ('▁B', (1119, 1121)), ('IRA', (1121, 1124)), ('DS', (1124, 1126)), ('▁4', (1126, 1128)), ('B', (1128, 1129)), ('▁por', (1129, 1133)), ('▁su', (1133, 1136)), ('▁rápido', (1136, 1144)), ('▁crecimiento', (1144, 1156)), ('.', (1156, 1157))]\n",
      "\n",
      "\n",
      "[('▁Se', (1158, 1160)), ('▁realizó', (1160, 1169)), ('▁bio', (1169, 1173)), ('psi', (1173, 1176)), ('a', (1176, 1177)), ('▁con', (1177, 1181)), ('▁ag', (1181, 1184)), ('uja', (1184, 1187)), ('▁gru', (1187, 1191)), ('esa', (1191, 1194)), ('▁(', (1194, 1196)), ('BA', (1196, 1198)), ('G', (1198, 1199)), (')', (1199, 1200)), ('▁guia', (1200, 1205)), ('da', (1205, 1207)), ('▁por', (1207, 1211)), ('▁ec', (1211, 1214)), ('ografía', (1214, 1222)), (',', (1222, 1223)), ('▁con', (1223, 1227)), ('▁resultado', (1227, 1237)), ('▁a', (1237, 1239)), ('nato', (1239, 1243)), ('mo', (1243, 1245)), ('pat', (1245, 1248)), ('ológico', (1248, 1256)), ('▁de', (1256, 1259)), ('▁tumor', (1259, 1265)), ('▁fus', (1265, 1269)), ('oce', (1269, 1272)), ('lular', (1272, 1277)), ('▁malign', (1277, 1284)), ('o', (1284, 1285)), (',', (1285, 1286)), ('▁positivo', (1286, 1295)), ('▁para', (1295, 1300)), ('▁ac', (1300, 1303)), ('tina', (1303, 1307)), (',', (1307, 1308)), ('▁mú', (1308, 1312)), ('s', (1312, 1313)), ('culo', (1313, 1317)), ('▁li', (1317, 1320)), ('so', (1320, 1322)), ('▁y', (1322, 1324)), ('▁des', (1324, 1328)), ('mina', (1328, 1332)), (',', (1332, 1333)), ('▁compatible', (1333, 1344)), ('▁con', (1344, 1348)), ('▁lei', (1348, 1352)), ('om', (1352, 1354)), ('ios', (1354, 1357)), ('ar', (1357, 1359)), ('com', (1359, 1362)), ('a', (1362, 1363)), ('▁Por', (1363, 1367)), ('▁otro', (1367, 1372)), ('▁lado', (1372, 1377)), (',', (1377, 1378)), ('▁se', (1378, 1381)), ('▁solicit', (1381, 1389)), ('ó', (1389, 1391)), ('▁tom', (1391, 1395)), ('ografía', (1395, 1403)), ('▁computa', (1403, 1411)), ('r', (1411, 1412)), ('izada', (1412, 1417)), ('▁(', (1417, 1419)), ('TC', (1419, 1421)), (')', (1421, 1422)), ('▁to', (1422, 1425)), ('ra', (1425, 1427)), ('co', (1427, 1429)), ('ab', (1429, 1431)), ('domin', (1431, 1436)), ('op', (1436, 1438)), ('él', (1438, 1441)), ('vica', (1441, 1445)), ('▁como', (1445, 1450)), ('▁estudio', (1450, 1458)), ('▁de', (1458, 1461)), ('▁extensión', (1461, 1472)), ('▁que', (1472, 1476)), ('▁most', (1476, 1481)), ('ró', (1481, 1484)), (',', (1484, 1485)), ('▁como', (1485, 1490)), ('▁halla', (1490, 1496)), ('z', (1496, 1497)), ('go', (1497, 1499)), ('▁incident', (1499, 1508)), ('al', (1508, 1510)), (',', (1510, 1511)), ('▁la', (1511, 1514)), ('▁presencia', (1514, 1524)), ('▁de', (1524, 1527)), ('▁un', (1527, 1530)), ('▁ade', (1530, 1534)), ('noma', (1534, 1538)), ('▁supra', (1538, 1544)), ('rren', (1544, 1548)), ('al', (1548, 1550)), ('▁confirma', (1550, 1559)), ('do', (1559, 1561)), ('▁con', (1561, 1565)), ('▁TC', (1565, 1568)), ('▁abdominal', (1568, 1578)), ('▁en', (1578, 1581)), ('▁', (1581, 1582)), ('vací', (1582, 1587)), ('o', (1587, 1588)), ('▁y', (1588, 1590)), ('▁estudio', (1590, 1598)), ('▁hormonal', (1598, 1607)), ('.', (1607, 1608))]\n",
      "\n",
      "\n",
      "[('▁Además', (1609, 1616)), (',', (1616, 1617)), ('▁se', (1617, 1620)), ('▁objetiva', (1620, 1629)), ('ron', (1629, 1632)), ('▁les', (1632, 1636)), ('iones', (1636, 1641)), ('▁ocupa', (1641, 1647)), ('ntes', (1647, 1651)), ('▁de', (1651, 1654)), ('▁espacio', (1654, 1662)), ('▁(', (1662, 1664)), ('LO', (1664, 1666)), ('E', (1666, 1667)), (')', (1667, 1668)), ('▁ut', (1668, 1671)), ('er', (1671, 1673)), ('inas', (1673, 1677)), ('▁que', (1677, 1681)), (',', (1681, 1682)), ('▁tras', (1682, 1687)), ('▁ser', (1687, 1691)), ('▁valor', (1691, 1697)), ('adas', (1697, 1701)), ('▁en', (1701, 1704)), ('▁Comité', (1704, 1712)), ('▁Multi', (1712, 1718)), ('disciplin', (1718, 1727)), ('ar', (1727, 1729)), ('▁de', (1729, 1732)), ('▁Tum', (1732, 1736)), ('ores', (1736, 1740)), ('▁Gi', (1740, 1743)), ('nec', (1743, 1746)), ('ológico', (1746, 1754)), ('s', (1754, 1755)), (',', (1755, 1756)), ('▁se', (1756, 1759)), ('▁conclu', (1759, 1766)), ('yó', (1766, 1769)), ('▁que', (1769, 1773)), ('▁las', (1773, 1777)), ('▁imágenes', (1777, 1787)), ('▁no', (1787, 1790)), ('▁eran', (1790, 1795)), ('▁sugesti', (1795, 1803)), ('vas', (1803, 1806)), ('▁de', (1806, 1809)), ('▁malign', (1809, 1816)), ('idad', (1816, 1820)), (',', (1820, 1821)), ('▁pero', (1821, 1826)), ('▁sí', (1826, 1830)), ('▁tenía', (1830, 1837)), ('n', (1837, 1838)), ('▁indica', (1838, 1845)), ('ción', (1845, 1850)), ('▁qui', (1850, 1854)), ('rú', (1854, 1857)), ('r', (1857, 1858)), ('gica', (1858, 1862)), ('▁en', (1862, 1865)), ('▁un', (1865, 1868)), ('▁segundo', (1868, 1876)), ('▁tiempo', (1876, 1883)), (',', (1883, 1884)), ('▁tras', (1884, 1889)), ('▁completar', (1889, 1899)), ('▁tratamiento', (1899, 1911)), ('▁del', (1911, 1915)), ('▁lei', (1915, 1919)), ('om', (1919, 1921)), ('ios', (1921, 1924)), ('ar', (1924, 1926)), ('com', (1926, 1929)), ('a', (1929, 1930)), ('▁de', (1930, 1933)), ('▁mama', (1933, 1938)), ('.', (1938, 1939))]\n",
      "\n",
      "\n",
      "[('▁No', (1940, 1942)), ('▁se', (1942, 1945)), ('▁en', (1945, 1948)), ('con', (1948, 1951)), ('tró', (1951, 1955)), (',', (1955, 1956)), ('▁por', (1956, 1960)), ('▁tanto', (1960, 1966)), (',', (1966, 1967)), ('▁evidencia', (1967, 1977)), ('▁de', (1977, 1980)), ('▁enfermedad', (1980, 1991)), ('▁tumor', (1991, 1997)), ('al', (1997, 1999)), ('▁a', (1999, 2001)), ('▁otros', (2001, 2007)), ('▁niveles', (2007, 2015)), ('.', (2015, 2016))]\n",
      "\n",
      "\n",
      "[('▁Dia', (2018, 2021)), ('g', (2021, 2022)), ('nó', (2022, 2025)), ('stico', (2025, 2030)), ('▁El', (2030, 2033)), ('▁diagnóstico', (2033, 2046)), ('▁definitiv', (2046, 2056)), ('o', (2056, 2057)), ('▁fue', (2057, 2061)), ('▁de', (2061, 2064)), ('▁lei', (2064, 2068)), ('om', (2068, 2070)), ('ios', (2070, 2073)), ('ar', (2073, 2075)), ('com', (2075, 2078)), ('a', (2078, 2079)), ('▁de', (2079, 2082)), ('▁mama', (2082, 2087)), ('▁localizado', (2087, 2098)), ('▁(', (2098, 2100)), ('p', (2100, 2101)), ('T', (2101, 2102)), ('2', (2102, 2103)), ('▁N', (2103, 2105)), ('0', (2105, 2106)), ('▁M', (2106, 2108)), ('0)', (2108, 2110)), ('.', (2110, 2111))]\n",
      "\n",
      "\n",
      "[('▁Trata', (2113, 2118)), ('miento', (2118, 2124)), ('▁Con', (2124, 2128)), ('▁este', (2128, 2133)), ('▁diagnóstico', (2133, 2146)), (',', (2146, 2147)), ('▁fue', (2147, 2151)), ('▁interven', (2151, 2160)), ('ida', (2160, 2163)), ('▁realiz', (2163, 2170)), ('ándose', (2170, 2177)), ('▁tumor', (2177, 2183)), ('ecto', (2183, 2187)), ('m', (2187, 2188)), ('ía', (2188, 2191)), (',', (2191, 2192)), ('▁con', (2192, 2196)), ('▁resultado', (2196, 2206)), ('▁a', (2206, 2208)), ('nato', (2208, 2212)), ('mo', (2212, 2214)), ('pat', (2214, 2217)), ('ológico', (2217, 2225)), ('▁de', (2225, 2228)), ('▁lei', (2228, 2232)), ('om', (2232, 2234)), ('ios', (2234, 2237)), ('ar', (2237, 2239)), ('com', (2239, 2242)), ('a', (2242, 2243)), ('▁de', (2243, 2246)), ('▁alto', (2246, 2251)), ('▁grado', (2251, 2257)), (',', (2257, 2258)), ('▁con', (2258, 2262)), ('▁rese', (2262, 2267)), ('cción', (2267, 2273)), ('▁completa', (2273, 2282)), ('▁y', (2282, 2284)), ('▁borde', (2284, 2290)), ('s', (2290, 2291)), ('▁libre', (2291, 2297)), ('s', (2297, 2298)), ('.', (2298, 2299))]\n",
      "\n",
      "\n",
      "[('▁Se', (2300, 2302)), ('▁complet', (2302, 2310)), ('ó', (2310, 2312)), ('▁con', (2312, 2316)), ('▁bio', (2316, 2320)), ('psi', (2320, 2323)), ('a', (2323, 2324)), ('▁se', (2324, 2327)), ('lectiva', (2327, 2334)), ('▁de', (2334, 2337)), ('▁gan', (2337, 2341)), ('glio', (2341, 2345)), ('▁centi', (2345, 2351)), ('ne', (2351, 2353)), ('la', (2353, 2355)), ('▁(', (2355, 2357)), ('BS', (2357, 2359)), ('GC', (2359, 2361)), ('),', (2361, 2363)), ('▁que', (2363, 2367)), ('▁result', (2367, 2374)), ('ó', (2374, 2376)), ('▁negativa', (2376, 2385)), ('.', (2385, 2386))]\n",
      "\n",
      "\n",
      "[('▁Tras', (2387, 2391)), ('▁comentar', (2391, 2400)), ('▁el', (2400, 2403)), ('▁caso', (2403, 2408)), ('▁en', (2408, 2411)), ('▁Comité', (2411, 2419)), ('▁Multi', (2419, 2425)), ('disciplin', (2425, 2434)), ('ar', (2434, 2436)), (',', (2436, 2437)), ('▁dada', (2437, 2442)), ('▁la', (2442, 2445)), ('▁agresiv', (2445, 2453)), ('idad', (2453, 2457)), ('▁de', (2457, 2460)), ('▁la', (2460, 2463)), ('▁enfermedad', (2463, 2474)), ('▁con', (2474, 2478)), ('▁alto', (2478, 2483)), ('▁riesgo', (2483, 2490)), ('▁de', (2490, 2493)), ('▁reca', (2493, 2498)), ('ída', (2498, 2502)), ('▁y', (2502, 2504)), ('▁el', (2504, 2507)), ('▁borde', (2507, 2513)), ('▁libre', (2513, 2519)), ('▁de', (2519, 2522)), ('▁rese', (2522, 2527)), ('cción', (2527, 2533)), ('▁insuficient', (2533, 2545)), ('e', (2545, 2546)), ('▁(', (2546, 2548)), ('0,5', (2548, 2551)), ('▁mm', (2551, 2554)), ('),', (2554, 2556)), ('▁se', (2556, 2559)), ('▁decidi', (2559, 2566)), ('ó', (2566, 2568)), ('▁realizar', (2568, 2577)), ('▁en', (2577, 2580)), ('▁abril', (2580, 2586)), ('▁de', (2586, 2589)), ('▁2019', (2589, 2594)), (',', (2594, 2595)), ('▁ampliación', (2595, 2607)), ('▁qui', (2607, 2611)), ('rú', (2611, 2614)), ('r', (2614, 2615)), ('gica', (2615, 2619)), ('▁mediante', (2619, 2628)), ('▁mas', (2628, 2632)), ('tec', (2632, 2635)), ('tom', (2635, 2638)), ('ía', (2638, 2641)), ('.', (2641, 2642))]\n",
      "\n",
      "\n",
      "[('▁Además', (2643, 2650)), (',', (2650, 2651)), ('▁se', (2651, 2654)), ('▁realizó', (2654, 2663)), ('▁una', (2663, 2667)), ('▁búsqueda', (2667, 2677)), ('▁de', (2677, 2680)), ('▁en', (2680, 2683)), ('say', (2683, 2686)), ('os', (2686, 2688)), ('▁clínico', (2688, 2697)), ('s', (2697, 2698)), ('▁disponibles', (2698, 2710)), ('▁en', (2710, 2713)), ('▁nuestra', (2713, 2721)), ('▁comunidad', (2721, 2731)), (',', (2731, 2732)), ('▁no', (2732, 2735)), ('▁siendo', (2735, 2742)), ('▁candidat', (2742, 2751)), ('a', (2751, 2752)), (',', (2752, 2753)), ('▁por', (2753, 2757)), ('▁lo', (2757, 2760)), ('▁que', (2760, 2764)), ('▁se', (2764, 2767)), ('▁decidi', (2767, 2774)), ('ó', (2774, 2776)), ('▁completar', (2776, 2786)), ('▁tratamiento', (2786, 2798)), ('▁ad', (2798, 2801)), ('yu', (2801, 2803)), ('vante', (2803, 2808)), ('▁con', (2808, 2812)), ('▁qui', (2812, 2816)), ('mi', (2816, 2818)), ('oterapia', (2818, 2826)), ('▁con', (2826, 2830)), ('▁esquema', (2830, 2838)), ('▁de', (2838, 2841)), ('▁epi', (2841, 2845)), ('rr', (2845, 2847)), ('ubi', (2847, 2850)), ('cina', (2850, 2854)), ('▁e', (2854, 2856)), ('▁if', (2856, 2859)), ('os', (2859, 2861)), ('fam', (2861, 2864)), ('ida', (2864, 2867)), ('▁por', (2867, 2871)), ('▁tres', (2871, 2876)), ('▁ciclo', (2876, 2882)), ('s', (2882, 2883)), (',', (2883, 2884)), ('▁seguido', (2884, 2892)), ('▁de', (2892, 2895)), ('▁tratamiento', (2895, 2907)), ('▁con', (2907, 2911)), ('▁radi', (2911, 2916)), ('oterapia', (2916, 2924)), ('.', (2924, 2925))]\n",
      "\n",
      "\n",
      "[('▁Evolu', (2927, 2932)), ('ción', (2932, 2937)), ('▁Así', (2937, 2942)), (',', (2942, 2943)), ('▁la', (2943, 2946)), ('▁paciente', (2946, 2955)), ('▁ini', (2955, 2959)), ('ció', (2959, 2963)), ('▁tratamiento', (2963, 2975)), ('▁s', (2975, 2977)), ('isté', (2977, 2982)), ('mico', (2982, 2986)), ('▁con', (2986, 2990)), ('▁esquema', (2990, 2998)), ('▁de', (2998, 3001)), ('▁qui', (3001, 3005)), ('mi', (3005, 3007)), ('oterapia', (3007, 3015)), ('▁con', (3015, 3019)), ('▁epi', (3019, 3023)), ('rr', (3023, 3025)), ('ubi', (3025, 3028)), ('cina', (3028, 3032)), ('▁e', (3032, 3034)), ('▁If', (3034, 3037)), ('os', (3037, 3039)), ('fam', (3039, 3042)), ('ida', (3042, 3045)), ('▁cada', (3045, 3050)), ('▁21', (3050, 3053)), ('▁días', (3053, 3059)), ('▁con', (3059, 3063)), ('▁soporte', (3063, 3071)), ('▁de', (3071, 3074)), ('▁factor', (3074, 3081)), ('▁estimula', (3081, 3090)), ('nte', (3090, 3093)), ('▁de', (3093, 3096)), ('▁colonia', (3096, 3104)), ('s', (3104, 3105)), (',', (3105, 3106)), ('▁del', (3106, 3110)), ('▁que', (3110, 3114)), ('▁recibió', (3114, 3123)), ('▁3', (3123, 3125)), ('▁ciclo', (3125, 3131)), ('s', (3131, 3132)), (',', (3132, 3133)), ('▁que', (3133, 3137)), ('▁ha', (3137, 3140)), ('▁completa', (3140, 3149)), ('do', (3149, 3151)), ('▁reciente', (3151, 3160)), ('mente', (3160, 3165)), (',', (3165, 3166)), ('▁con', (3166, 3170)), ('▁buena', (3170, 3176)), ('▁toleranci', (3176, 3186)), ('a', (3186, 3187)), ('.', (3187, 3188))]\n",
      "\n",
      "\n",
      "[('▁La', (3189, 3191)), ('▁paciente', (3191, 3200)), ('▁sigue', (3200, 3206)), ('▁manten', (3206, 3213)), ('iendo', (3213, 3218)), ('▁buen', (3218, 3223)), ('▁estado', (3223, 3230)), ('▁general', (3230, 3238)), (',', (3238, 3239)), ('▁esta', (3239, 3244)), ('ndo', (3244, 3247)), ('▁actualmente', (3247, 3259)), ('▁pendiente', (3259, 3269)), ('▁de', (3269, 3272)), ('▁inicio', (3272, 3279)), ('▁de', (3279, 3282)), ('▁tratamiento', (3282, 3294)), ('▁radio', (3294, 3300)), ('te', (3300, 3302)), ('rá', (3302, 3305)), ('pico', (3305, 3309)), ('▁para', (3309, 3314)), ('▁completar', (3314, 3324)), ('▁el', (3324, 3327)), ('▁tratamiento', (3327, 3339)), ('▁local', (3339, 3345)), ('.', (3345, 3346))]\n",
      "\n",
      "\n"
     ]
    }
   ],
   "source": [
    "for i in range(check_id_frag, check_id_frag + train_frag[check_id]):\n",
    "    print(list(zip([tokenizer._convert_id_to_token(int(ind)) for ind in train_ind[i]][1:len(train_start_end_frag[i])+1], \n",
    "               train_start_end_frag[i])))\n",
    "    print(\"\\n\")"
   ]
  },
  {
   "cell_type": "code",
   "execution_count": 69,
   "metadata": {},
   "outputs": [
    {
     "name": "stdout",
     "output_type": "stream",
     "text": [
      "<s> ▁Ana m nesi s ▁Mu jer ▁de ▁49 ▁años ▁remit ida ▁en ▁octubre ▁de ▁2018 ▁desde ▁Atención ▁Primaria ▁a ▁consulta s ▁externa s ▁de ▁Ci rug ía ▁General , ▁por ▁aparición ▁de ▁nó du lo ▁palp able ▁en ▁mama ▁derecha , ▁de ▁un ▁mes ▁de ▁evolución . </s> <pad> <pad> <pad> <pad> <pad> <pad> <pad> <pad> <pad> <pad> <pad> <pad> <pad> <pad> <pad> <pad> <pad> <pad> <pad> <pad> <pad> <pad> <pad> <pad> <pad> <pad> <pad> <pad> <pad> <pad> <pad> <pad> <pad> <pad> <pad> <pad> <pad> <pad> <pad> <pad> <pad> <pad> <pad> <pad> <pad> <pad> <pad> <pad> <pad> <pad> <pad> <pad> <pad> <pad> <pad> <pad> <pad> <pad> <pad> <pad> <pad> <pad> <pad> <pad> <pad> <pad> <pad> <pad> <pad> <pad> <pad> <pad> <pad> <pad> <pad> <pad> <pad> <pad> <pad> \n",
      "\n",
      "<s> ▁En ▁ese ▁momento , ▁la ▁paciente ▁no ▁presenta ba ▁antecede ntes ▁medico qui rú rg icos ▁de ▁interés , ▁ni ▁refer ía ▁hábitos ▁tó xico s . </s> <pad> <pad> <pad> <pad> <pad> <pad> <pad> <pad> <pad> <pad> <pad> <pad> <pad> <pad> <pad> <pad> <pad> <pad> <pad> <pad> <pad> <pad> <pad> <pad> <pad> <pad> <pad> <pad> <pad> <pad> <pad> <pad> <pad> <pad> <pad> <pad> <pad> <pad> <pad> <pad> <pad> <pad> <pad> <pad> <pad> <pad> <pad> <pad> <pad> <pad> <pad> <pad> <pad> <pad> <pad> <pad> <pad> <pad> <pad> <pad> <pad> <pad> <pad> <pad> <pad> <pad> <pad> <pad> <pad> <pad> <pad> <pad> <pad> <pad> <pad> <pad> <pad> <pad> <pad> <pad> <pad> <pad> <pad> <pad> <pad> <pad> <pad> <pad> <pad> <pad> <pad> <pad> <pad> <pad> <pad> <pad> <pad> <pad> <pad> \n",
      "\n",
      "<s> ▁Traba ja ba ▁como ▁ama ▁de ▁casa ▁y ▁tenía ▁buen ▁apoyo ▁familiar . </s> <pad> <pad> <pad> <pad> <pad> <pad> <pad> <pad> <pad> <pad> <pad> <pad> <pad> <pad> <pad> <pad> <pad> <pad> <pad> <pad> <pad> <pad> <pad> <pad> <pad> <pad> <pad> <pad> <pad> <pad> <pad> <pad> <pad> <pad> <pad> <pad> <pad> <pad> <pad> <pad> <pad> <pad> <pad> <pad> <pad> <pad> <pad> <pad> <pad> <pad> <pad> <pad> <pad> <pad> <pad> <pad> <pad> <pad> <pad> <pad> <pad> <pad> <pad> <pad> <pad> <pad> <pad> <pad> <pad> <pad> <pad> <pad> <pad> <pad> <pad> <pad> <pad> <pad> <pad> <pad> <pad> <pad> <pad> <pad> <pad> <pad> <pad> <pad> <pad> <pad> <pad> <pad> <pad> <pad> <pad> <pad> <pad> <pad> <pad> <pad> <pad> <pad> <pad> <pad> <pad> <pad> <pad> <pad> <pad> <pad> <pad> <pad> <pad> \n",
      "\n",
      "<s> ▁Como ▁antecede ntes ▁familiares , ▁una ▁tí a ▁pater na ▁fue ▁diagnostic ada ▁de ▁car cino ma ▁de ▁mama ▁a ▁los ▁65 ▁años . </s> <pad> <pad> <pad> <pad> <pad> <pad> <pad> <pad> <pad> <pad> <pad> <pad> <pad> <pad> <pad> <pad> <pad> <pad> <pad> <pad> <pad> <pad> <pad> <pad> <pad> <pad> <pad> <pad> <pad> <pad> <pad> <pad> <pad> <pad> <pad> <pad> <pad> <pad> <pad> <pad> <pad> <pad> <pad> <pad> <pad> <pad> <pad> <pad> <pad> <pad> <pad> <pad> <pad> <pad> <pad> <pad> <pad> <pad> <pad> <pad> <pad> <pad> <pad> <pad> <pad> <pad> <pad> <pad> <pad> <pad> <pad> <pad> <pad> <pad> <pad> <pad> <pad> <pad> <pad> <pad> <pad> <pad> <pad> <pad> <pad> <pad> <pad> <pad> <pad> <pad> <pad> <pad> <pad> <pad> <pad> <pad> <pad> <pad> <pad> <pad> <pad> <pad> \n",
      "\n",
      "<s> ▁Como ▁tratamiento ▁cr ónico , ▁se ▁había ▁pauta do ▁reciente mente ▁a ce tato ▁de ▁med ro xi prog estero na ▁por ▁hiper plas ia ▁end ometri al ▁simple . </s> <pad> <pad> <pad> <pad> <pad> <pad> <pad> <pad> <pad> <pad> <pad> <pad> <pad> <pad> <pad> <pad> <pad> <pad> <pad> <pad> <pad> <pad> <pad> <pad> <pad> <pad> <pad> <pad> <pad> <pad> <pad> <pad> <pad> <pad> <pad> <pad> <pad> <pad> <pad> <pad> <pad> <pad> <pad> <pad> <pad> <pad> <pad> <pad> <pad> <pad> <pad> <pad> <pad> <pad> <pad> <pad> <pad> <pad> <pad> <pad> <pad> <pad> <pad> <pad> <pad> <pad> <pad> <pad> <pad> <pad> <pad> <pad> <pad> <pad> <pad> <pad> <pad> <pad> <pad> <pad> <pad> <pad> <pad> <pad> <pad> <pad> <pad> <pad> <pad> <pad> <pad> <pad> <pad> <pad> <pad> <pad> \n",
      "\n",
      "<s> ▁Explo r ación ▁física ▁La ▁paciente ▁presenta ba ▁buen ▁estado ▁general , ▁con ▁un ▁performance ▁status ▁( PS ) ▁0 . </s> <pad> <pad> <pad> <pad> <pad> <pad> <pad> <pad> <pad> <pad> <pad> <pad> <pad> <pad> <pad> <pad> <pad> <pad> <pad> <pad> <pad> <pad> <pad> <pad> <pad> <pad> <pad> <pad> <pad> <pad> <pad> <pad> <pad> <pad> <pad> <pad> <pad> <pad> <pad> <pad> <pad> <pad> <pad> <pad> <pad> <pad> <pad> <pad> <pad> <pad> <pad> <pad> <pad> <pad> <pad> <pad> <pad> <pad> <pad> <pad> <pad> <pad> <pad> <pad> <pad> <pad> <pad> <pad> <pad> <pad> <pad> <pad> <pad> <pad> <pad> <pad> <pad> <pad> <pad> <pad> <pad> <pad> <pad> <pad> <pad> <pad> <pad> <pad> <pad> <pad> <pad> <pad> <pad> <pad> <pad> <pad> <pad> <pad> <pad> <pad> <pad> <pad> <pad> <pad> <pad> \n",
      "\n",
      "<s> ▁En ▁la ▁explora ción ▁física , ▁se ▁palp aba ▁un ▁nó du lo ▁sólido , ▁de ▁aproximadamente ▁4 ▁cm ▁en ▁cu ad rante ▁super o ex ter no ▁de ▁mama ▁derecha . </s> <pad> <pad> <pad> <pad> <pad> <pad> <pad> <pad> <pad> <pad> <pad> <pad> <pad> <pad> <pad> <pad> <pad> <pad> <pad> <pad> <pad> <pad> <pad> <pad> <pad> <pad> <pad> <pad> <pad> <pad> <pad> <pad> <pad> <pad> <pad> <pad> <pad> <pad> <pad> <pad> <pad> <pad> <pad> <pad> <pad> <pad> <pad> <pad> <pad> <pad> <pad> <pad> <pad> <pad> <pad> <pad> <pad> <pad> <pad> <pad> <pad> <pad> <pad> <pad> <pad> <pad> <pad> <pad> <pad> <pad> <pad> <pad> <pad> <pad> <pad> <pad> <pad> <pad> <pad> <pad> <pad> <pad> <pad> <pad> <pad> <pad> <pad> <pad> <pad> <pad> <pad> <pad> <pad> <pad> \n",
      "\n",
      "<s> ▁La ▁explora ción ▁a xi lar ▁result ó ▁dentro ▁de ▁la ▁normal idad , ▁así ▁como ▁el ▁resto ▁de ▁la ▁explora ción ▁física . </s> <pad> <pad> <pad> <pad> <pad> <pad> <pad> <pad> <pad> <pad> <pad> <pad> <pad> <pad> <pad> <pad> <pad> <pad> <pad> <pad> <pad> <pad> <pad> <pad> <pad> <pad> <pad> <pad> <pad> <pad> <pad> <pad> <pad> <pad> <pad> <pad> <pad> <pad> <pad> <pad> <pad> <pad> <pad> <pad> <pad> <pad> <pad> <pad> <pad> <pad> <pad> <pad> <pad> <pad> <pad> <pad> <pad> <pad> <pad> <pad> <pad> <pad> <pad> <pad> <pad> <pad> <pad> <pad> <pad> <pad> <pad> <pad> <pad> <pad> <pad> <pad> <pad> <pad> <pad> <pad> <pad> <pad> <pad> <pad> <pad> <pad> <pad> <pad> <pad> <pad> <pad> <pad> <pad> <pad> <pad> <pad> <pad> <pad> <pad> <pad> <pad> <pad> \n",
      "\n",
      "<s> ▁Pru e bas ▁complementar ias ▁Se ▁solicit ó ▁mam ografía / ec ografía , ▁que ▁mostra ba ▁un ▁nó du lo ▁ovo ide , ▁de ▁4 ▁x ▁4 ▁cm , ▁lo bula do , ▁con ▁un ▁pequeño ▁componente ▁líquido ▁en ▁su ▁interior , ▁clasifica do ▁como ▁B IRA DS ▁4 B ▁por ▁su ▁rápido ▁crecimiento . </s> <pad> <pad> <pad> <pad> <pad> <pad> <pad> <pad> <pad> <pad> <pad> <pad> <pad> <pad> <pad> <pad> <pad> <pad> <pad> <pad> <pad> <pad> <pad> <pad> <pad> <pad> <pad> <pad> <pad> <pad> <pad> <pad> <pad> <pad> <pad> <pad> <pad> <pad> <pad> <pad> <pad> <pad> <pad> <pad> <pad> <pad> <pad> <pad> <pad> <pad> <pad> <pad> <pad> <pad> <pad> <pad> <pad> <pad> <pad> <pad> <pad> <pad> <pad> <pad> <pad> <pad> <pad> <pad> <pad> <pad> \n",
      "\n",
      "<s> ▁Se ▁realizó ▁bio psi a ▁con ▁ag uja ▁gru esa ▁( BA G ) ▁guia da ▁por ▁ec ografía , ▁con ▁resultado ▁a nato mo pat ológico ▁de ▁tumor ▁fus oce lular ▁malign o , ▁positivo ▁para ▁ac tina , ▁mú s culo ▁li so ▁y ▁des mina , ▁compatible ▁con ▁lei om ios ar com a ▁Por ▁otro ▁lado , ▁se ▁solicit ó ▁tom ografía ▁computa r izada ▁( TC ) ▁to ra co ab domin op él vica ▁como ▁estudio ▁de ▁extensión ▁que ▁most ró , ▁como ▁halla z go ▁incident al , ▁la ▁presencia ▁de ▁un ▁ade noma ▁supra rren al ▁confirma do ▁con ▁TC ▁abdominal ▁en ▁ vací o ▁y ▁estudio ▁hormonal . </s> <pad> <pad> <pad> <pad> <pad> <pad> <pad> <pad> <pad> \n",
      "\n",
      "<s> ▁Además , ▁se ▁objetiva ron ▁les iones ▁ocupa ntes ▁de ▁espacio ▁( LO E ) ▁ut er inas ▁que , ▁tras ▁ser ▁valor adas ▁en ▁Comité ▁Multi disciplin ar ▁de ▁Tum ores ▁Gi nec ológico s , ▁se ▁conclu yó ▁que ▁las ▁imágenes ▁no ▁eran ▁sugesti vas ▁de ▁malign idad , ▁pero ▁sí ▁tenía n ▁indica ción ▁qui rú r gica ▁en ▁un ▁segundo ▁tiempo , ▁tras ▁completar ▁tratamiento ▁del ▁lei om ios ar com a ▁de ▁mama . </s> <pad> <pad> <pad> <pad> <pad> <pad> <pad> <pad> <pad> <pad> <pad> <pad> <pad> <pad> <pad> <pad> <pad> <pad> <pad> <pad> <pad> <pad> <pad> <pad> <pad> <pad> <pad> <pad> <pad> <pad> <pad> <pad> <pad> <pad> <pad> <pad> <pad> <pad> <pad> <pad> <pad> <pad> <pad> <pad> <pad> <pad> <pad> \n",
      "\n",
      "<s> ▁No ▁se ▁en con tró , ▁por ▁tanto , ▁evidencia ▁de ▁enfermedad ▁tumor al ▁a ▁otros ▁niveles . </s> <pad> <pad> <pad> <pad> <pad> <pad> <pad> <pad> <pad> <pad> <pad> <pad> <pad> <pad> <pad> <pad> <pad> <pad> <pad> <pad> <pad> <pad> <pad> <pad> <pad> <pad> <pad> <pad> <pad> <pad> <pad> <pad> <pad> <pad> <pad> <pad> <pad> <pad> <pad> <pad> <pad> <pad> <pad> <pad> <pad> <pad> <pad> <pad> <pad> <pad> <pad> <pad> <pad> <pad> <pad> <pad> <pad> <pad> <pad> <pad> <pad> <pad> <pad> <pad> <pad> <pad> <pad> <pad> <pad> <pad> <pad> <pad> <pad> <pad> <pad> <pad> <pad> <pad> <pad> <pad> <pad> <pad> <pad> <pad> <pad> <pad> <pad> <pad> <pad> <pad> <pad> <pad> <pad> <pad> <pad> <pad> <pad> <pad> <pad> <pad> <pad> <pad> <pad> <pad> <pad> <pad> <pad> <pad> \n",
      "\n",
      "<s> ▁Dia g nó stico ▁El ▁diagnóstico ▁definitiv o ▁fue ▁de ▁lei om ios ar com a ▁de ▁mama ▁localizado ▁( p T 2 ▁N 0 ▁M 0) . </s> <pad> <pad> <pad> <pad> <pad> <pad> <pad> <pad> <pad> <pad> <pad> <pad> <pad> <pad> <pad> <pad> <pad> <pad> <pad> <pad> <pad> <pad> <pad> <pad> <pad> <pad> <pad> <pad> <pad> <pad> <pad> <pad> <pad> <pad> <pad> <pad> <pad> <pad> <pad> <pad> <pad> <pad> <pad> <pad> <pad> <pad> <pad> <pad> <pad> <pad> <pad> <pad> <pad> <pad> <pad> <pad> <pad> <pad> <pad> <pad> <pad> <pad> <pad> <pad> <pad> <pad> <pad> <pad> <pad> <pad> <pad> <pad> <pad> <pad> <pad> <pad> <pad> <pad> <pad> <pad> <pad> <pad> <pad> <pad> <pad> <pad> <pad> <pad> <pad> <pad> <pad> <pad> <pad> <pad> <pad> <pad> <pad> <pad> \n",
      "\n",
      "<s> ▁Trata miento ▁Con ▁este ▁diagnóstico , ▁fue ▁interven ida ▁realiz ándose ▁tumor ecto m ía , ▁con ▁resultado ▁a nato mo pat ológico ▁de ▁lei om ios ar com a ▁de ▁alto ▁grado , ▁con ▁rese cción ▁completa ▁y ▁borde s ▁libre s . </s> <pad> <pad> <pad> <pad> <pad> <pad> <pad> <pad> <pad> <pad> <pad> <pad> <pad> <pad> <pad> <pad> <pad> <pad> <pad> <pad> <pad> <pad> <pad> <pad> <pad> <pad> <pad> <pad> <pad> <pad> <pad> <pad> <pad> <pad> <pad> <pad> <pad> <pad> <pad> <pad> <pad> <pad> <pad> <pad> <pad> <pad> <pad> <pad> <pad> <pad> <pad> <pad> <pad> <pad> <pad> <pad> <pad> <pad> <pad> <pad> <pad> <pad> <pad> <pad> <pad> <pad> <pad> <pad> <pad> <pad> <pad> <pad> <pad> <pad> <pad> <pad> <pad> <pad> <pad> <pad> <pad> <pad> \n",
      "\n",
      "<s> ▁Se ▁complet ó ▁con ▁bio psi a ▁se lectiva ▁de ▁gan glio ▁centi ne la ▁( BS GC ), ▁que ▁result ó ▁negativa . </s> <pad> <pad> <pad> <pad> <pad> <pad> <pad> <pad> <pad> <pad> <pad> <pad> <pad> <pad> <pad> <pad> <pad> <pad> <pad> <pad> <pad> <pad> <pad> <pad> <pad> <pad> <pad> <pad> <pad> <pad> <pad> <pad> <pad> <pad> <pad> <pad> <pad> <pad> <pad> <pad> <pad> <pad> <pad> <pad> <pad> <pad> <pad> <pad> <pad> <pad> <pad> <pad> <pad> <pad> <pad> <pad> <pad> <pad> <pad> <pad> <pad> <pad> <pad> <pad> <pad> <pad> <pad> <pad> <pad> <pad> <pad> <pad> <pad> <pad> <pad> <pad> <pad> <pad> <pad> <pad> <pad> <pad> <pad> <pad> <pad> <pad> <pad> <pad> <pad> <pad> <pad> <pad> <pad> <pad> <pad> <pad> <pad> <pad> <pad> <pad> <pad> <pad> \n",
      "\n",
      "<s> ▁Tras ▁comentar ▁el ▁caso ▁en ▁Comité ▁Multi disciplin ar , ▁dada ▁la ▁agresiv idad ▁de ▁la ▁enfermedad ▁con ▁alto ▁riesgo ▁de ▁reca ída ▁y ▁el ▁borde ▁libre ▁de ▁rese cción ▁insuficient e ▁( 0,5 ▁mm ), ▁se ▁decidi ó ▁realizar ▁en ▁abril ▁de ▁2019 , ▁ampliación ▁qui rú r gica ▁mediante ▁mas tec tom ía . </s> <pad> <pad> <pad> <pad> <pad> <pad> <pad> <pad> <pad> <pad> <pad> <pad> <pad> <pad> <pad> <pad> <pad> <pad> <pad> <pad> <pad> <pad> <pad> <pad> <pad> <pad> <pad> <pad> <pad> <pad> <pad> <pad> <pad> <pad> <pad> <pad> <pad> <pad> <pad> <pad> <pad> <pad> <pad> <pad> <pad> <pad> <pad> <pad> <pad> <pad> <pad> <pad> <pad> <pad> <pad> <pad> <pad> <pad> <pad> <pad> <pad> <pad> <pad> <pad> <pad> <pad> <pad> <pad> <pad> <pad> \n",
      "\n",
      "<s> ▁Además , ▁se ▁realizó ▁una ▁búsqueda ▁de ▁en say os ▁clínico s ▁disponibles ▁en ▁nuestra ▁comunidad , ▁no ▁siendo ▁candidat a , ▁por ▁lo ▁que ▁se ▁decidi ó ▁completar ▁tratamiento ▁ad yu vante ▁con ▁qui mi oterapia ▁con ▁esquema ▁de ▁epi rr ubi cina ▁e ▁if os fam ida ▁por ▁tres ▁ciclo s , ▁seguido ▁de ▁tratamiento ▁con ▁radi oterapia . </s> <pad> <pad> <pad> <pad> <pad> <pad> <pad> <pad> <pad> <pad> <pad> <pad> <pad> <pad> <pad> <pad> <pad> <pad> <pad> <pad> <pad> <pad> <pad> <pad> <pad> <pad> <pad> <pad> <pad> <pad> <pad> <pad> <pad> <pad> <pad> <pad> <pad> <pad> <pad> <pad> <pad> <pad> <pad> <pad> <pad> <pad> <pad> <pad> <pad> <pad> <pad> <pad> <pad> <pad> <pad> <pad> <pad> <pad> <pad> <pad> <pad> <pad> <pad> <pad> <pad> \n",
      "\n",
      "<s> ▁Evolu ción ▁Así , ▁la ▁paciente ▁ini ció ▁tratamiento ▁s isté mico ▁con ▁esquema ▁de ▁qui mi oterapia ▁con ▁epi rr ubi cina ▁e ▁If os fam ida ▁cada ▁21 ▁días ▁con ▁soporte ▁de ▁factor ▁estimula nte ▁de ▁colonia s , ▁del ▁que ▁recibió ▁3 ▁ciclo s , ▁que ▁ha ▁completa do ▁reciente mente , ▁con ▁buena ▁toleranci a . </s> <pad> <pad> <pad> <pad> <pad> <pad> <pad> <pad> <pad> <pad> <pad> <pad> <pad> <pad> <pad> <pad> <pad> <pad> <pad> <pad> <pad> <pad> <pad> <pad> <pad> <pad> <pad> <pad> <pad> <pad> <pad> <pad> <pad> <pad> <pad> <pad> <pad> <pad> <pad> <pad> <pad> <pad> <pad> <pad> <pad> <pad> <pad> <pad> <pad> <pad> <pad> <pad> <pad> <pad> <pad> <pad> <pad> <pad> <pad> <pad> <pad> <pad> <pad> <pad> <pad> <pad> \n",
      "\n",
      "<s> ▁La ▁paciente ▁sigue ▁manten iendo ▁buen ▁estado ▁general , ▁esta ndo ▁actualmente ▁pendiente ▁de ▁inicio ▁de ▁tratamiento ▁radio te rá pico ▁para ▁completar ▁el ▁tratamiento ▁local . </s> <pad> <pad> <pad> <pad> <pad> <pad> <pad> <pad> <pad> <pad> <pad> <pad> <pad> <pad> <pad> <pad> <pad> <pad> <pad> <pad> <pad> <pad> <pad> <pad> <pad> <pad> <pad> <pad> <pad> <pad> <pad> <pad> <pad> <pad> <pad> <pad> <pad> <pad> <pad> <pad> <pad> <pad> <pad> <pad> <pad> <pad> <pad> <pad> <pad> <pad> <pad> <pad> <pad> <pad> <pad> <pad> <pad> <pad> <pad> <pad> <pad> <pad> <pad> <pad> <pad> <pad> <pad> <pad> <pad> <pad> <pad> <pad> <pad> <pad> <pad> <pad> <pad> <pad> <pad> <pad> <pad> <pad> <pad> <pad> <pad> <pad> <pad> <pad> <pad> <pad> <pad> <pad> <pad> <pad> <pad> <pad> <pad> <pad> <pad> \n",
      "\n"
     ]
    }
   ],
   "source": [
    "check_id_frag = sum(train_frag[:check_id])\n",
    "for frag in train_ind[check_id_frag:check_id_frag + train_frag[check_id]]:\n",
    "    print(' '.join([tokenizer._convert_id_to_token(int(ind)) for ind in frag]), \"\\n\")"
   ]
  },
  {
   "cell_type": "code",
   "execution_count": 70,
   "metadata": {},
   "outputs": [
    {
     "data": {
      "text/plain": [
       "count    27633.000000\n",
       "mean         0.316976\n",
       "std          0.621133\n",
       "min          0.000000\n",
       "25%          0.000000\n",
       "50%          0.000000\n",
       "75%          1.000000\n",
       "max         10.000000\n",
       "dtype: float64"
      ]
     },
     "execution_count": 70,
     "metadata": {},
     "output_type": "execute_result"
    }
   ],
   "source": [
    "# Fragment labels distribution\n",
    "pd.Series(np.sum(train_y, axis=1)).describe()"
   ]
  },
  {
   "cell_type": "markdown",
   "metadata": {},
   "source": [
    "### Development corpus\n",
    "\n",
    "Only development texts that are annotated with CIE-O codes are considered:"
   ]
  },
  {
   "cell_type": "code",
   "execution_count": 71,
   "metadata": {},
   "outputs": [
    {
     "data": {
      "text/plain": [
       "0"
      ]
     },
     "execution_count": 71,
     "metadata": {},
     "output_type": "execute_result"
    }
   ],
   "source": [
    "# Some dev documents (texts) are not annotated \n",
    "len(set(df_text_dev[\"doc_id\"]) - set(df_codes_dev_ner[\"doc_id\"]))"
   ]
  },
  {
   "cell_type": "code",
   "execution_count": 72,
   "metadata": {},
   "outputs": [],
   "source": [
    "dev_doc_list = sorted(set(df_codes_dev_ner[\"doc_id\"]))"
   ]
  },
  {
   "cell_type": "code",
   "execution_count": 73,
   "metadata": {},
   "outputs": [
    {
     "data": {
      "text/plain": [
       "250"
      ]
     },
     "execution_count": 73,
     "metadata": {},
     "output_type": "execute_result"
    }
   ],
   "source": [
    "len(dev_doc_list)"
   ]
  },
  {
   "cell_type": "code",
   "execution_count": 74,
   "metadata": {},
   "outputs": [
    {
     "name": "stdout",
     "output_type": "stream",
     "text": [
      "CPU times: user 11.4 ms, sys: 0 ns, total: 11.4 ms\n",
      "Wall time: 11.2 ms\n"
     ]
    }
   ],
   "source": [
    "%%time\n",
    "ss_sub_corpus_path = ss_corpus_path + \"development/\"\n",
    "ss_files = [f for f in os.listdir(ss_sub_corpus_path) if os.path.isfile(ss_sub_corpus_path + f)]\n",
    "ss_dict_dev = load_ss_files(ss_files, ss_sub_corpus_path)"
   ]
  },
  {
   "cell_type": "code",
   "execution_count": 75,
   "metadata": {},
   "outputs": [
    {
     "name": "stderr",
     "output_type": "stream",
     "text": [
      "100%|██████████| 250/250 [00:10<00:00, 23.81it/s]\n"
     ]
    },
    {
     "name": "stdout",
     "output_type": "stream",
     "text": [
      "CPU times: user 10.6 s, sys: 23.9 ms, total: 10.7 s\n",
      "Wall time: 10.6 s\n"
     ]
    }
   ],
   "source": [
    "%%time\n",
    "dev_ind, dev_att, dev_y, dev_frag, dev_start_end_frag = ss_create_frag_input_data_xlmr(df_text=df_text_dev, \n",
    "                                                  text_col=text_col, \n",
    "                                                  df_ann=df_codes_dev_ner, doc_list=dev_doc_list, ss_dict=ss_dict_dev,\n",
    "                                                  tokenizer=tokenizer, sp_pb2=spt, lab_encoder=mlb_encoder, seq_len=SEQ_LEN)"
   ]
  },
  {
   "cell_type": "code",
   "execution_count": 76,
   "metadata": {},
   "outputs": [],
   "source": [
    "# Sanity check"
   ]
  },
  {
   "cell_type": "code",
   "execution_count": 77,
   "metadata": {},
   "outputs": [
    {
     "data": {
      "text/plain": [
       "(8303, 128)"
      ]
     },
     "execution_count": 77,
     "metadata": {},
     "output_type": "execute_result"
    }
   ],
   "source": [
    "dev_ind.shape"
   ]
  },
  {
   "cell_type": "code",
   "execution_count": 78,
   "metadata": {},
   "outputs": [
    {
     "data": {
      "text/plain": [
       "(8303, 128)"
      ]
     },
     "execution_count": 78,
     "metadata": {},
     "output_type": "execute_result"
    }
   ],
   "source": [
    "dev_att.shape"
   ]
  },
  {
   "cell_type": "code",
   "execution_count": 79,
   "metadata": {},
   "outputs": [
    {
     "data": {
      "text/plain": [
       "(8303, 743)"
      ]
     },
     "execution_count": 79,
     "metadata": {},
     "output_type": "execute_result"
    }
   ],
   "source": [
    "dev_y.shape"
   ]
  },
  {
   "cell_type": "code",
   "execution_count": 80,
   "metadata": {},
   "outputs": [
    {
     "data": {
      "text/plain": [
       "250"
      ]
     },
     "execution_count": 80,
     "metadata": {},
     "output_type": "execute_result"
    }
   ],
   "source": [
    "len(dev_frag)"
   ]
  },
  {
   "cell_type": "code",
   "execution_count": 81,
   "metadata": {},
   "outputs": [
    {
     "data": {
      "text/plain": [
       "8303"
      ]
     },
     "execution_count": 81,
     "metadata": {},
     "output_type": "execute_result"
    }
   ],
   "source": [
    "len(dev_start_end_frag)"
   ]
  },
  {
   "cell_type": "code",
   "execution_count": 82,
   "metadata": {},
   "outputs": [
    {
     "data": {
      "text/plain": [
       "count    250.000000\n",
       "mean      33.212000\n",
       "std       16.315386\n",
       "min       10.000000\n",
       "25%       22.250000\n",
       "50%       30.000000\n",
       "75%       39.000000\n",
       "max      175.000000\n",
       "dtype: float64"
      ]
     },
     "execution_count": 82,
     "metadata": {},
     "output_type": "execute_result"
    }
   ],
   "source": [
    "# Check n_frag distribution across texts\n",
    "pd.Series(dev_frag).describe()"
   ]
  },
  {
   "cell_type": "code",
   "execution_count": 83,
   "metadata": {},
   "outputs": [],
   "source": [
    "# Inspect a randomly selected text and its encoded version\n",
    "check_id = np.random.randint(low=0, high=len(dev_doc_list), size=1)[0]"
   ]
  },
  {
   "cell_type": "code",
   "execution_count": 84,
   "metadata": {},
   "outputs": [
    {
     "data": {
      "text/plain": [
       "224"
      ]
     },
     "execution_count": 84,
     "metadata": {},
     "output_type": "execute_result"
    }
   ],
   "source": [
    "check_id"
   ]
  },
  {
   "cell_type": "code",
   "execution_count": 85,
   "metadata": {},
   "outputs": [
    {
     "data": {
      "text/plain": [
       "'cc_onco1475'"
      ]
     },
     "execution_count": 85,
     "metadata": {},
     "output_type": "execute_result"
    }
   ],
   "source": [
    "dev_doc_list[check_id]"
   ]
  },
  {
   "cell_type": "code",
   "execution_count": 86,
   "metadata": {
    "scrolled": true
   },
   "outputs": [
    {
     "data": {
      "text/plain": [
       "'Anamnesis\\nMujer de 62 años de edad, sin alergias medicamentosas conocidas, con antecedentes personales de dislipemia mixta, síndrome ansioso-depresivo, hipertransaminasemia atribuída a fármacos. Intervenida de meniscectomía, extirpación de quiste epidérmico mandibular, apendicectomía hace 40 años. Fumadora de 40 cigarrillos/día.\\nEn enero de 2007 es diagnosticada de hipotiroidismo subclínico después de consultar por aumento progresivo de peso, iniciándose tratamiento hormonal sustitutivo.\\nSe indica PAAF de nódulo de 3 cm en el lóbulo tiroideo izquierdo, que la paciente no se realiza, y no acude a consultas hasta julio de 2009.\\n\\nExploración física\\nPeso 120 kg; talla 162 cm; IMC 42,67 kg/m2.\\nPS 0, ECOG 0. Consciente, orientada. Buena coloración de piel y mucosas, bien perfundida, tiroides palpable con nódulo de aproximadamente 3 cm en el lóbulo izquierdo. No presenta adenopatías cervicales palpables. Resto sin alteraciones.\\n\\nPruebas complementarias\\n• Analítica: con hemograma y coagulación normal, bioquímica que muestra TSH 7.530 mUI/L, T4 0,46 ng/dL; resto sin alteraciones.\\n• Ecografía de tiroides (julio de 2009): glándula tiroidea globalmente aumentada de tamaño, con morfología polilobulada que en su interior presenta nódulos isoecogénicos con la glándula, de alrededor de 1 cm, en el lado derecho se objetiva alguno mayor de 1,3 cm, todo ello en probable relación con bocio multinodular, acompañado de adenopatías laterocervicales bilaterales, más numerosas en la cadena yugulocarotídea, de aspecto inflamatorio, la mayor de ellas en el lado izquierdo de 1,3 cm. Se realiza PAAF que muestra material insuficiente y la paciente se niega a su repetición hasta febrero de 2010.\\n• Ecografía de tiroides (febrero de 2010): bocio multinodular. En el lóbulo tiroideo izquierdo nódulo mayor de aspecto quístico redondeado de 0,9 x 0,8 x 0,8 cm que no se punciona. En el lóbulo derecho, nódulo mayor en el polo inferior de 1,4 x 1,32 x 1,71 cm, hipoecoico, no vascularizado con bordes irregulares que se punciona. Adenopatías laterocervicales bilaterales, más numerosas en cadena yugulocarotídea derecha de aspecto inflamatorio que conservan el hilio, aunque alguna tiene morfología redondeada, la mayor midiendo 0,86 cm.\\n• Resultado de la PAAF del nódulo en el lóbulo tiroideo derecho (marzo de 2010): tiroiditis crónica linfocítica tipo Hashimoto con signos proliferativos foliculares a células de Hürthle.\\nEl 3 de noviembre de 2010 es sometida a una lobectomía tiroidea derecha, enviándose la pieza a anatomía patológica que informa de linfoma de la zona marginal tipo MALT con prominente diferenciación plasmocítica. Tiroiditis de Hashimoto.\\n\\nDiagnóstico\\nLinfoma de la zona marginal tipo MALT y tiroiditis de Hashimoto.\\n\\nEvolución y tratamiento\\nEs remitida por primera vez en el Servicio de Oncología el 21 de enero de 2011, y se realizan los siguientes estudios:\\n• Analítica: hemograma y coagulación normal, VSG 30 mm, colesterol total 269 mg/dL, LDL 174 mg/ dL, triglicéridos 250 mg/dL, GGT 69, U/L, TSH 24.800 mUI/L, T4 libre 0,42 ng/dL, CEA 1,1 ng/mL, CA-19.9 15,8 U/mL, resto de la bioquímica negativa, serologías de virus de hepatitis, VIH, CMV, EB negativos.\\n• Aspirado y anatomía patológica de médula ósea normal.\\n• TC de cuello, tórax y abdomen (9 de febrero de 2011): ausencia de visualización de lóbulo tiroideo derecho e istmo tiroideo. Aumento de diámetro del lóbulo tiroideo izquierdo, de contornos lobulados y homogéneos desde el punto de vista radiológico. Se evidencian adenopatías en la práctica totalidad de compartimentos cervicales todas ellas inferiores a 1 cm con morfología ovoidea y desde el punto de vista radiológico inespecíficas y de probable carácter inflamatorio.\\nComienza con rituximab semanal, cuatro ciclos, desde 28 de febrero 2011 hasta 23 de marzo de 2011 y radioterapia sobre resto de tiroides desde el 26 de mayo de 2011 hasta 23 de junio de 2011, dosis total 36 Gy y fracción de 1,8 Gy.\\nSe realiza un escáner evolutivo de cuello-tóraxabdomen el 3 de noviembre de 2011: cambios posquirúrgicos, lóbulo tiroideo izquierdo globalmente aumentado de tamaño sin imágenes de nódulos, adenopatías en espacio submandibular, la mayor de ellas en el lado izquierdo, cuyo diámetro máximo en el eje corto es de 5,7 mm. No se evidencian signos de recidiva de la enfermedad.\\nAsintomática hasta la actualidad.'"
      ]
     },
     "execution_count": 86,
     "metadata": {},
     "output_type": "execute_result"
    }
   ],
   "source": [
    "df_text_dev[df_text_dev[\"doc_id\"] == dev_doc_list[check_id]][text_col].values[0]"
   ]
  },
  {
   "cell_type": "code",
   "execution_count": 87,
   "metadata": {},
   "outputs": [
    {
     "name": "stdout",
     "output_type": "stream",
     "text": [
      "[()] \n",
      "\n",
      "[()] \n",
      "\n",
      "[()] \n",
      "\n",
      "[()] \n",
      "\n",
      "[()] \n",
      "\n",
      "[()] \n",
      "\n",
      "[()] \n",
      "\n",
      "[()] \n",
      "\n",
      "[()] \n",
      "\n",
      "[()] \n",
      "\n",
      "[()] \n",
      "\n",
      "[()] \n",
      "\n",
      "[()] \n",
      "\n",
      "[()] \n",
      "\n",
      "[()] \n",
      "\n",
      "[()] \n",
      "\n",
      "[()] \n",
      "\n",
      "[()] \n",
      "\n",
      "[('8290/0',)] \n",
      "\n",
      "[('9671/3', '9699/3')] \n",
      "\n",
      "[()] \n",
      "\n",
      "[('9699/3',)] \n",
      "\n",
      "[()] \n",
      "\n",
      "[()] \n",
      "\n",
      "[()] \n",
      "\n",
      "[()] \n",
      "\n",
      "[()] \n",
      "\n",
      "[()] \n",
      "\n",
      "[()] \n",
      "\n",
      "[()] \n",
      "\n",
      "[()] \n",
      "\n",
      "[()] \n",
      "\n"
     ]
    }
   ],
   "source": [
    "check_id_frag = sum(dev_frag[:check_id])\n",
    "for i in range(check_id_frag, check_id_frag + dev_frag[check_id]):\n",
    "    print(mlb_encoder.inverse_transform(np.array([dev_y[i]])), \"\\n\")"
   ]
  },
  {
   "cell_type": "code",
   "execution_count": 88,
   "metadata": {},
   "outputs": [
    {
     "name": "stdout",
     "output_type": "stream",
     "text": [
      "[('▁Ana', (0, 3)), ('m', (3, 4)), ('nesi', (4, 8)), ('s', (8, 9)), ('▁Mu', (9, 12)), ('jer', (12, 15)), ('▁de', (15, 18)), ('▁62', (18, 21)), ('▁años', (21, 27)), ('▁de', (27, 30)), ('▁edad', (30, 35)), (',', (35, 36)), ('▁sin', (36, 40)), ('▁alergi', (40, 47)), ('as', (47, 49)), ('▁medicamentos', (49, 62)), ('as', (62, 64)), ('▁conocida', (64, 73)), ('s', (73, 74)), (',', (74, 75)), ('▁con', (75, 79)), ('▁antecede', (79, 88)), ('ntes', (88, 92)), ('▁personales', (92, 103)), ('▁de', (103, 106)), ('▁dis', (106, 110)), ('lip', (110, 113)), ('emia', (113, 117)), ('▁mix', (117, 121)), ('ta', (121, 123)), (',', (123, 124)), ('▁síndrome', (124, 134)), ('▁an', (134, 137)), ('si', (137, 139)), ('oso', (139, 142)), ('-', (142, 143)), ('de', (143, 145)), ('pres', (145, 149)), ('ivo', (149, 152)), (',', (152, 153)), ('▁hiper', (153, 159)), ('trans', (159, 164)), ('ami', (164, 167)), ('nas', (167, 170)), ('emia', (170, 174)), ('▁atribu', (174, 181)), ('ída', (181, 185)), ('▁a', (185, 187)), ('▁fá', (187, 191)), ('rma', (191, 194)), ('cos', (194, 197)), ('.', (197, 198))]\n",
      "\n",
      "\n",
      "[('▁Interven', (199, 207)), ('ida', (207, 210)), ('▁de', (210, 213)), ('▁men', (213, 217)), ('isce', (217, 221)), ('c', (221, 222)), ('tom', (222, 225)), ('ía', (225, 228)), (',', (228, 229)), ('▁ex', (229, 232)), ('tir', (232, 235)), ('pa', (235, 237)), ('ción', (237, 242)), ('▁de', (242, 245)), ('▁qui', (245, 249)), ('ste', (249, 252)), ('▁e', (252, 254)), ('pid', (254, 257)), ('ér', (257, 260)), ('mico', (260, 264)), ('▁mandi', (264, 270)), ('bu', (270, 272)), ('lar', (272, 275)), (',', (275, 276)), ('▁a', (276, 278)), ('pendi', (278, 283)), ('ce', (283, 285)), ('c', (285, 286)), ('tom', (286, 289)), ('ía', (289, 292)), ('▁hace', (292, 297)), ('▁40', (297, 300)), ('▁años', (300, 306)), ('.', (306, 307))]\n",
      "\n",
      "\n",
      "[('▁F', (308, 309)), ('um', (309, 311)), ('adora', (311, 316)), ('▁de', (316, 319)), ('▁40', (319, 322)), ('▁ci', (322, 325)), ('garri', (325, 330)), ('llos', (330, 334)), ('/', (334, 335)), ('día', (335, 339)), ('.', (339, 340))]\n",
      "\n",
      "\n",
      "[('▁En', (341, 343)), ('▁enero', (343, 349)), ('▁de', (349, 352)), ('▁2007', (352, 357)), ('▁es', (357, 360)), ('▁diagnostic', (360, 371)), ('ada', (371, 374)), ('▁de', (374, 377)), ('▁hipo', (377, 382)), ('ti', (382, 384)), ('roid', (384, 388)), ('ismo', (388, 392)), ('▁sub', (392, 396)), ('c', (396, 397)), ('lí', (397, 400)), ('nico', (400, 404)), ('▁después', (404, 413)), ('▁de', (413, 416)), ('▁consultar', (416, 426)), ('▁por', (426, 430)), ('▁aumento', (430, 438)), ('▁progresiv', (438, 448)), ('o', (448, 449)), ('▁de', (449, 452)), ('▁peso', (452, 457)), (',', (457, 458)), ('▁inici', (458, 464)), ('ándose', (464, 471)), ('▁tratamiento', (471, 483)), ('▁hormonal', (483, 492)), ('▁su', (492, 495)), ('stitu', (495, 500)), ('tivo', (500, 504)), ('.', (504, 505))]\n",
      "\n",
      "\n",
      "[('▁Se', (506, 508)), ('▁indica', (508, 515)), ('▁PA', (515, 518)), ('AF', (518, 520)), ('▁de', (520, 523)), ('▁nó', (523, 527)), ('du', (527, 529)), ('lo', (529, 531)), ('▁de', (531, 534)), ('▁3', (534, 536)), ('▁cm', (536, 539)), ('▁en', (539, 542)), ('▁el', (542, 545)), ('▁ló', (545, 549)), ('bulo', (549, 553)), ('▁tiro', (553, 558)), ('ide', (558, 561)), ('o', (561, 562)), ('▁iz', (562, 565)), ('quier', (565, 570)), ('do', (570, 572)), (',', (572, 573)), ('▁que', (573, 577)), ('▁la', (577, 580)), ('▁paciente', (580, 589)), ('▁no', (589, 592)), ('▁se', (592, 595)), ('▁realiza', (595, 603)), (',', (603, 604)), ('▁y', (604, 606)), ('▁no', (606, 609)), ('▁acu', (609, 613)), ('de', (613, 615)), ('▁a', (615, 617)), ('▁consulta', (617, 626)), ('s', (626, 627)), ('▁hasta', (627, 633)), ('▁julio', (633, 639)), ('▁de', (639, 642)), ('▁2009.', (642, 648))]\n",
      "\n",
      "\n",
      "[('▁Explo', (650, 655)), ('r', (655, 656)), ('ación', (656, 662)), ('▁física', (662, 670)), ('▁Pe', (670, 673)), ('so', (673, 675)), ('▁120', (675, 679)), ('▁kg', (679, 682)), (';', (682, 683)), ('▁talla', (683, 689)), ('▁162', (689, 693)), ('▁cm', (693, 696)), (';', (696, 697)), ('▁I', (697, 699)), ('MC', (699, 701)), ('▁42', (701, 704)), (',', (704, 705)), ('67', (705, 707)), ('▁kg', (707, 710)), ('/', (710, 711)), ('m', (711, 712)), ('2.', (712, 714))]\n",
      "\n",
      "\n",
      "[('▁PS', (715, 717)), ('▁0', (717, 719)), (',', (719, 720)), ('▁ECO', (720, 724)), ('G', (724, 725)), ('▁0', (725, 727)), ('.', (727, 728))]\n",
      "\n",
      "\n",
      "[('▁Cons', (729, 733)), ('ciente', (733, 739)), (',', (739, 740)), ('▁orienta', (740, 748)), ('da', (748, 750)), ('.', (750, 751))]\n",
      "\n",
      "\n",
      "[('▁Buena', (752, 757)), ('▁color', (757, 763)), ('ación', (763, 769)), ('▁de', (769, 772)), ('▁piel', (772, 777)), ('▁y', (777, 779)), ('▁mu', (779, 782)), ('cosa', (782, 786)), ('s', (786, 787)), (',', (787, 788)), ('▁bien', (788, 793)), ('▁per', (793, 797)), ('fundi', (797, 802)), ('da', (802, 804)), (',', (804, 805)), ('▁tiro', (805, 810)), ('ides', (810, 814)), ('▁palp', (814, 819)), ('able', (819, 823)), ('▁con', (823, 827)), ('▁nó', (827, 831)), ('du', (831, 833)), ('lo', (833, 835)), ('▁de', (835, 838)), ('▁aproximadamente', (838, 854)), ('▁3', (854, 856)), ('▁cm', (856, 859)), ('▁en', (859, 862)), ('▁el', (862, 865)), ('▁ló', (865, 869)), ('bulo', (869, 873)), ('▁iz', (873, 876)), ('quier', (876, 881)), ('do', (881, 883)), ('.', (883, 884))]\n",
      "\n",
      "\n",
      "[('▁No', (885, 887)), ('▁presenta', (887, 896)), ('▁ade', (896, 900)), ('no', (900, 902)), ('pat', (902, 905)), ('ías', (905, 909)), ('▁cer', (909, 913)), ('vica', (913, 917)), ('les', (917, 920)), ('▁palp', (920, 925)), ('ables', (925, 930)), ('.', (930, 931))]\n",
      "\n",
      "\n",
      "[('▁Rest', (932, 936)), ('o', (936, 937)), ('▁sin', (937, 941)), ('▁altera', (941, 948)), ('ciones', (948, 954)), ('.', (954, 955))]\n",
      "\n",
      "\n",
      "[('▁Pru', (957, 960)), ('e', (960, 961)), ('bas', (961, 964)), ('▁complementar', (964, 977)), ('ias', (977, 980)), ('▁•', (980, 984)), ('▁Ana', (984, 988)), ('lítica', (988, 995)), (':', (995, 996)), ('▁con', (996, 1000)), ('▁hem', (1000, 1004)), ('ogram', (1004, 1009)), ('a', (1009, 1010)), ('▁y', (1010, 1012)), ('▁coa', (1012, 1016)), ('gula', (1016, 1020)), ('ción', (1020, 1025)), ('▁normal', (1025, 1032)), (',', (1032, 1033)), ('▁bio', (1033, 1037)), ('químic', (1037, 1044)), ('a', (1044, 1045)), ('▁que', (1045, 1049)), ('▁muestra', (1049, 1057)), ('▁T', (1057, 1059)), ('SH', (1059, 1061)), ('▁7.5', (1061, 1065)), ('30', (1065, 1067)), ('▁m', (1067, 1069)), ('UI', (1069, 1071)), ('/', (1071, 1072)), ('L', (1072, 1073)), (',', (1073, 1074)), ('▁T', (1074, 1076)), ('4', (1076, 1077)), ('▁0,4', (1077, 1081)), ('6', (1081, 1082)), ('▁ng', (1082, 1085)), ('/', (1085, 1086)), ('d', (1086, 1087)), ('L', (1087, 1088)), (';', (1088, 1089)), ('▁resto', (1089, 1095)), ('▁sin', (1095, 1099)), ('▁altera', (1099, 1106)), ('ciones', (1106, 1112)), ('.', (1112, 1113))]\n",
      "\n",
      "\n",
      "[('▁•', (1114, 1117)), ('▁Ec', (1117, 1120)), ('ografía', (1120, 1128)), ('▁de', (1128, 1131)), ('▁tiro', (1131, 1136)), ('ides', (1136, 1140)), ('▁(', (1140, 1142)), ('ju', (1142, 1144)), ('lio', (1144, 1147)), ('▁de', (1147, 1150)), ('▁2009)', (1150, 1156)), (':', (1156, 1157)), ('▁g', (1157, 1159)), ('lán', (1159, 1163)), ('dula', (1163, 1167)), ('▁tiro', (1167, 1172)), ('idea', (1172, 1176)), ('▁global', (1176, 1183)), ('mente', (1183, 1188)), ('▁aumenta', (1188, 1196)), ('da', (1196, 1198)), ('▁de', (1198, 1201)), ('▁tamaño', (1201, 1209)), (',', (1209, 1210)), ('▁con', (1210, 1214)), ('▁', (1214, 1215)), ('morf', (1215, 1219)), ('ología', (1219, 1226)), ('▁poli', (1226, 1231)), ('lo', (1231, 1233)), ('bula', (1233, 1237)), ('da', (1237, 1239)), ('▁que', (1239, 1243)), ('▁en', (1243, 1246)), ('▁su', (1246, 1249)), ('▁interior', (1249, 1258)), ('▁presenta', (1258, 1267)), ('▁nó', (1267, 1271)), ('du', (1271, 1273)), ('los', (1273, 1276)), ('▁iso', (1276, 1280)), ('eco', (1280, 1283)), ('gén', (1283, 1287)), ('icos', (1287, 1291)), ('▁con', (1291, 1295)), ('▁la', (1295, 1298)), ('▁g', (1298, 1300)), ('lán', (1300, 1304)), ('dula', (1304, 1308)), (',', (1308, 1309)), ('▁de', (1309, 1312)), ('▁alrededor', (1312, 1322)), ('▁de', (1322, 1325)), ('▁1', (1325, 1327)), ('▁cm', (1327, 1330)), (',', (1330, 1331)), ('▁en', (1331, 1334)), ('▁el', (1334, 1337)), ('▁lado', (1337, 1342)), ('▁derecho', (1342, 1350)), ('▁se', (1350, 1353)), ('▁objetiva', (1353, 1362)), ('▁alguno', (1362, 1369)), ('▁mayor', (1369, 1375)), ('▁de', (1375, 1378)), ('▁1,3', (1378, 1382)), ('▁cm', (1382, 1385)), (',', (1385, 1386)), ('▁todo', (1386, 1391)), ('▁ello', (1391, 1396)), ('▁en', (1396, 1399)), ('▁probable', (1399, 1408)), ('▁relación', (1408, 1418)), ('▁con', (1418, 1422)), ('▁bo', (1422, 1425)), ('cio', (1425, 1428)), ('▁multi', (1428, 1434)), ('nod', (1434, 1437)), ('ular', (1437, 1441)), (',', (1441, 1442)), ('▁acompañado', (1442, 1454)), ('▁de', (1454, 1457)), ('▁ade', (1457, 1461)), ('no', (1461, 1463)), ('pat', (1463, 1466)), ('ías', (1466, 1470)), ('▁later', (1470, 1476)), ('o', (1476, 1477)), ('cer', (1477, 1480)), ('vica', (1480, 1484)), ('les', (1484, 1487)), ('▁bilateral', (1487, 1497)), ('es', (1497, 1499)), (',', (1499, 1500)), ('▁más', (1500, 1505)), ('▁numerosas', (1505, 1515)), ('▁en', (1515, 1518)), ('▁la', (1518, 1521)), ('▁cadena', (1521, 1528)), ('▁y', (1528, 1530)), ('ugu', (1530, 1533)), ('loca', (1533, 1537)), ('ro', (1537, 1539)), ('tí', (1539, 1542)), ('de', (1542, 1544)), ('a', (1544, 1545)), (',', (1545, 1546)), ('▁de', (1546, 1549)), ('▁aspecto', (1549, 1557)), ('▁inflama', (1557, 1565)), ('torio', (1565, 1570)), (',', (1570, 1571)), ('▁la', (1571, 1574)), ('▁mayor', (1574, 1580)), ('▁de', (1580, 1583)), ('▁ellas', (1583, 1589)), ('▁en', (1589, 1592)), ('▁el', (1592, 1595)), ('▁lado', (1595, 1600)), ('▁iz', (1600, 1603)), ('quier', (1603, 1608)), ('do', (1608, 1610)), ('▁de', (1610, 1613)), ('▁1,3', (1613, 1617)), ('▁cm', (1617, 1620)), ('.', (1620, 1621))]\n",
      "\n",
      "\n",
      "[('▁Se', (1622, 1624)), ('▁realiza', (1624, 1632)), ('▁PA', (1632, 1635)), ('AF', (1635, 1637)), ('▁que', (1637, 1641)), ('▁muestra', (1641, 1649)), ('▁material', (1649, 1658)), ('▁insuficient', (1658, 1670)), ('e', (1670, 1671)), ('▁y', (1671, 1673)), ('▁la', (1673, 1676)), ('▁paciente', (1676, 1685)), ('▁se', (1685, 1688)), ('▁nie', (1688, 1692)), ('ga', (1692, 1694)), ('▁a', (1694, 1696)), ('▁su', (1696, 1699)), ('▁repeti', (1699, 1706)), ('ción', (1706, 1711)), ('▁hasta', (1711, 1717)), ('▁febrero', (1717, 1725)), ('▁de', (1725, 1728)), ('▁2010.', (1728, 1734))]\n",
      "\n",
      "\n",
      "[('▁•', (1735, 1738)), ('▁Ec', (1738, 1741)), ('ografía', (1741, 1749)), ('▁de', (1749, 1752)), ('▁tiro', (1752, 1757)), ('ides', (1757, 1761)), ('▁(', (1761, 1763)), ('fe', (1763, 1765)), ('bre', (1765, 1768)), ('ro', (1768, 1770)), ('▁de', (1770, 1773)), ('▁2010)', (1773, 1779)), (':', (1779, 1780)), ('▁bo', (1780, 1783)), ('cio', (1783, 1786)), ('▁multi', (1786, 1792)), ('nod', (1792, 1795)), ('ular', (1795, 1799)), ('.', (1799, 1800))]\n",
      "\n",
      "\n",
      "[('▁En', (1801, 1803)), ('▁el', (1803, 1806)), ('▁ló', (1806, 1810)), ('bulo', (1810, 1814)), ('▁tiro', (1814, 1819)), ('ide', (1819, 1822)), ('o', (1822, 1823)), ('▁iz', (1823, 1826)), ('quier', (1826, 1831)), ('do', (1831, 1833)), ('▁nó', (1833, 1837)), ('du', (1837, 1839)), ('lo', (1839, 1841)), ('▁mayor', (1841, 1847)), ('▁de', (1847, 1850)), ('▁aspecto', (1850, 1858)), ('▁qu', (1858, 1861)), ('ístico', (1861, 1868)), ('▁redo', (1868, 1873)), ('nde', (1873, 1876)), ('ado', (1876, 1879)), ('▁de', (1879, 1882)), ('▁0,9', (1882, 1886)), ('▁x', (1886, 1888)), ('▁0,8', (1888, 1892)), ('▁x', (1892, 1894)), ('▁0,8', (1894, 1898)), ('▁cm', (1898, 1901)), ('▁que', (1901, 1905)), ('▁no', (1905, 1908)), ('▁se', (1908, 1911)), ('▁pun', (1911, 1915)), ('cion', (1915, 1919)), ('a', (1919, 1920)), ('.', (1920, 1921))]\n",
      "\n",
      "\n",
      "[('▁En', (1922, 1924)), ('▁el', (1924, 1927)), ('▁ló', (1927, 1931)), ('bulo', (1931, 1935)), ('▁derecho', (1935, 1943)), (',', (1943, 1944)), ('▁nó', (1944, 1948)), ('du', (1948, 1950)), ('lo', (1950, 1952)), ('▁mayor', (1952, 1958)), ('▁en', (1958, 1961)), ('▁el', (1961, 1964)), ('▁polo', (1964, 1969)), ('▁inferior', (1969, 1978)), ('▁de', (1978, 1981)), ('▁1,4', (1981, 1985)), ('▁x', (1985, 1987)), ('▁1,3', (1987, 1991)), ('2', (1991, 1992)), ('▁x', (1992, 1994)), ('▁1,7', (1994, 1998)), ('1', (1998, 1999)), ('▁cm', (1999, 2002)), (',', (2002, 2003)), ('▁hipo', (2003, 2008)), ('eco', (2008, 2011)), ('ico', (2011, 2014)), (',', (2014, 2015)), ('▁no', (2015, 2018)), ('▁vas', (2018, 2022)), ('cular', (2022, 2027)), ('izado', (2027, 2032)), ('▁con', (2032, 2036)), ('▁borde', (2036, 2042)), ('s', (2042, 2043)), ('▁irregular', (2043, 2053)), ('es', (2053, 2055)), ('▁que', (2055, 2059)), ('▁se', (2059, 2062)), ('▁pun', (2062, 2066)), ('cion', (2066, 2070)), ('a', (2070, 2071)), ('.', (2071, 2072))]\n",
      "\n",
      "\n",
      "[('▁Ade', (2073, 2076)), ('no', (2076, 2078)), ('pat', (2078, 2081)), ('ías', (2081, 2085)), ('▁later', (2085, 2091)), ('o', (2091, 2092)), ('cer', (2092, 2095)), ('vica', (2095, 2099)), ('les', (2099, 2102)), ('▁bilateral', (2102, 2112)), ('es', (2112, 2114)), (',', (2114, 2115)), ('▁más', (2115, 2120)), ('▁numerosas', (2120, 2130)), ('▁en', (2130, 2133)), ('▁cadena', (2133, 2140)), ('▁y', (2140, 2142)), ('ugu', (2142, 2145)), ('loca', (2145, 2149)), ('ro', (2149, 2151)), ('tí', (2151, 2154)), ('de', (2154, 2156)), ('a', (2156, 2157)), ('▁derecha', (2157, 2165)), ('▁de', (2165, 2168)), ('▁aspecto', (2168, 2176)), ('▁inflama', (2176, 2184)), ('torio', (2184, 2189)), ('▁que', (2189, 2193)), ('▁conserva', (2193, 2202)), ('n', (2202, 2203)), ('▁el', (2203, 2206)), ('▁hili', (2206, 2211)), ('o', (2211, 2212)), (',', (2212, 2213)), ('▁aunque', (2213, 2220)), ('▁alguna', (2220, 2227)), ('▁tiene', (2227, 2233)), ('▁', (2233, 2234)), ('morf', (2234, 2238)), ('ología', (2238, 2245)), ('▁redo', (2245, 2250)), ('nde', (2250, 2253)), ('ada', (2253, 2256)), (',', (2256, 2257)), ('▁la', (2257, 2260)), ('▁mayor', (2260, 2266)), ('▁mid', (2266, 2270)), ('iendo', (2270, 2275)), ('▁0,8', (2275, 2279)), ('6', (2279, 2280)), ('▁cm', (2280, 2283)), ('.', (2283, 2284))]\n",
      "\n",
      "\n",
      "[('▁•', (2285, 2288)), ('▁Resultado', (2288, 2298)), ('▁de', (2298, 2301)), ('▁la', (2301, 2304)), ('▁PA', (2304, 2307)), ('AF', (2307, 2309)), ('▁del', (2309, 2313)), ('▁nó', (2313, 2317)), ('du', (2317, 2319)), ('lo', (2319, 2321)), ('▁en', (2321, 2324)), ('▁el', (2324, 2327)), ('▁ló', (2327, 2331)), ('bulo', (2331, 2335)), ('▁tiro', (2335, 2340)), ('ide', (2340, 2343)), ('o', (2343, 2344)), ('▁derecho', (2344, 2352)), ('▁(', (2352, 2354)), ('mar', (2354, 2357)), ('zo', (2357, 2359)), ('▁de', (2359, 2362)), ('▁2010)', (2362, 2368)), (':', (2368, 2369)), ('▁tiro', (2369, 2374)), ('id', (2374, 2376)), ('itis', (2376, 2380)), ('▁crónica', (2380, 2389)), ('▁l', (2389, 2391)), ('info', (2391, 2395)), ('cí', (2395, 2398)), ('tica', (2398, 2402)), ('▁tipo', (2402, 2407)), ('▁Hashim', (2407, 2414)), ('oto', (2414, 2417)), ('▁con', (2417, 2421)), ('▁signo', (2421, 2427)), ('s', (2427, 2428)), ('▁prolifera', (2428, 2438)), ('tivos', (2438, 2443)), ('▁foli', (2443, 2448)), ('culare', (2448, 2454)), ('s', (2454, 2455)), ('▁a', (2455, 2457)), ('▁células', (2457, 2466)), ('▁de', (2466, 2469)), ('▁Hü', (2469, 2474)), ('rth', (2474, 2477)), ('le', (2477, 2479)), ('.', (2479, 2480))]\n",
      "\n",
      "\n",
      "[('▁El', (2481, 2483)), ('▁3', (2483, 2485)), ('▁de', (2485, 2488)), ('▁noviembre', (2488, 2498)), ('▁de', (2498, 2501)), ('▁2010', (2501, 2506)), ('▁es', (2506, 2509)), ('▁some', (2509, 2514)), ('tida', (2514, 2518)), ('▁a', (2518, 2520)), ('▁una', (2520, 2524)), ('▁l', (2524, 2526)), ('obec', (2526, 2530)), ('tom', (2530, 2533)), ('ía', (2533, 2536)), ('▁tiro', (2536, 2541)), ('idea', (2541, 2545)), ('▁derecha', (2545, 2553)), (',', (2553, 2554)), ('▁en', (2554, 2557)), ('vi', (2557, 2559)), ('ándose', (2559, 2566)), ('▁la', (2566, 2569)), ('▁pieza', (2569, 2575)), ('▁a', (2575, 2577)), ('▁anat', (2577, 2582)), ('om', (2582, 2584)), ('ía', (2584, 2587)), ('▁pat', (2587, 2591)), ('ológica', (2591, 2599)), ('▁que', (2599, 2603)), ('▁informa', (2603, 2611)), ('▁de', (2611, 2614)), ('▁l', (2614, 2616)), ('info', (2616, 2620)), ('ma', (2620, 2622)), ('▁de', (2622, 2625)), ('▁la', (2625, 2628)), ('▁zona', (2628, 2633)), ('▁marginal', (2633, 2642)), ('▁tipo', (2642, 2647)), ('▁MAL', (2647, 2651)), ('T', (2651, 2652)), ('▁con', (2652, 2656)), ('▁prominent', (2656, 2666)), ('e', (2666, 2667)), ('▁diferencia', (2667, 2678)), ('ción', (2678, 2683)), ('▁plas', (2683, 2688)), ('mo', (2688, 2690)), ('cí', (2690, 2693)), ('tica', (2693, 2697)), ('.', (2697, 2698))]\n",
      "\n",
      "\n",
      "[('▁Ti', (2699, 2701)), ('roid', (2701, 2705)), ('itis', (2705, 2709)), ('▁de', (2709, 2712)), ('▁Hashim', (2712, 2719)), ('oto', (2719, 2722)), ('.', (2722, 2723))]\n",
      "\n",
      "\n",
      "[('▁Dia', (2725, 2728)), ('g', (2728, 2729)), ('nó', (2729, 2732)), ('stico', (2732, 2737)), ('▁L', (2737, 2739)), ('info', (2739, 2743)), ('ma', (2743, 2745)), ('▁de', (2745, 2748)), ('▁la', (2748, 2751)), ('▁zona', (2751, 2756)), ('▁marginal', (2756, 2765)), ('▁tipo', (2765, 2770)), ('▁MAL', (2770, 2774)), ('T', (2774, 2775)), ('▁y', (2775, 2777)), ('▁tiro', (2777, 2782)), ('id', (2782, 2784)), ('itis', (2784, 2788)), ('▁de', (2788, 2791)), ('▁Hashim', (2791, 2798)), ('oto', (2798, 2801)), ('.', (2801, 2802))]\n",
      "\n",
      "\n",
      "[('▁Evolu', (2804, 2809)), ('ción', (2809, 2814)), ('▁y', (2814, 2816)), ('▁tratamiento', (2816, 2828)), ('▁Es', (2828, 2831)), ('▁remit', (2831, 2837)), ('ida', (2837, 2840)), ('▁por', (2840, 2844)), ('▁primera', (2844, 2852)), ('▁vez', (2852, 2856)), ('▁en', (2856, 2859)), ('▁el', (2859, 2862)), ('▁Servicio', (2862, 2871)), ('▁de', (2871, 2874)), ('▁On', (2874, 2877)), ('c', (2877, 2878)), ('ología', (2878, 2885)), ('▁el', (2885, 2888)), ('▁21', (2888, 2891)), ('▁de', (2891, 2894)), ('▁enero', (2894, 2900)), ('▁de', (2900, 2903)), ('▁2011,', (2903, 2909)), ('▁y', (2909, 2911)), ('▁se', (2911, 2914)), ('▁realizan', (2914, 2923)), ('▁los', (2923, 2927)), ('▁siguientes', (2927, 2938)), ('▁estudios', (2938, 2947)), (':', (2947, 2948)), ('▁•', (2948, 2952)), ('▁Ana', (2952, 2956)), ('lítica', (2956, 2963)), (':', (2963, 2964)), ('▁hem', (2964, 2968)), ('ogram', (2968, 2973)), ('a', (2973, 2974)), ('▁y', (2974, 2976)), ('▁coa', (2976, 2980)), ('gula', (2980, 2984)), ('ción', (2984, 2989)), ('▁normal', (2989, 2996)), (',', (2996, 2997)), ('▁V', (2997, 2999)), ('SG', (2999, 3001)), ('▁30', (3001, 3004)), ('▁mm', (3004, 3007)), (',', (3007, 3008)), ('▁colesterol', (3008, 3019)), ('▁total', (3019, 3025)), ('▁26', (3025, 3028)), ('9', (3028, 3029)), ('▁mg', (3029, 3032)), ('/', (3032, 3033)), ('d', (3033, 3034)), ('L', (3034, 3035)), (',', (3035, 3036)), ('▁L', (3036, 3038)), ('DL', (3038, 3040)), ('▁174', (3040, 3044)), ('▁mg', (3044, 3047)), ('/', (3047, 3048)), ('▁d', (3048, 3050)), ('L', (3050, 3051)), (',', (3051, 3052)), ('▁tri', (3052, 3056)), ('gli', (3056, 3059)), ('cé', (3059, 3062)), ('ri', (3062, 3064)), ('dos', (3064, 3067)), ('▁250', (3067, 3071)), ('▁mg', (3071, 3074)), ('/', (3074, 3075)), ('d', (3075, 3076)), ('L', (3076, 3077)), (',', (3077, 3078)), ('▁G', (3078, 3080)), ('GT', (3080, 3082)), ('▁69', (3082, 3085)), (',', (3085, 3086)), ('▁U', (3086, 3088)), ('/', (3088, 3089)), ('L', (3089, 3090)), (',', (3090, 3091)), ('▁T', (3091, 3093)), ('SH', (3093, 3095)), ('▁24.', (3095, 3099)), ('800', (3099, 3102)), ('▁m', (3102, 3104)), ('UI', (3104, 3106)), ('/', (3106, 3107)), ('L', (3107, 3108)), (',', (3108, 3109)), ('▁T', (3109, 3111)), ('4', (3111, 3112)), ('▁libre', (3112, 3118)), ('▁0,4', (3118, 3122)), ('2', (3122, 3123)), ('▁ng', (3123, 3126)), ('/', (3126, 3127)), ('d', (3127, 3128)), ('L', (3128, 3129)), (',', (3129, 3130)), ('▁CE', (3130, 3133)), ('A', (3133, 3134)), ('▁1,1', (3134, 3138)), ('▁ng', (3138, 3141)), ('/', (3141, 3142)), ('m', (3142, 3143)), ('L', (3143, 3144)), (',', (3144, 3145)), ('▁CA', (3145, 3148)), ('-19', (3148, 3151)), ('.', (3151, 3152)), ('9', (3152, 3153)), ('▁1', (3153, 3155)), ('5,8', (3155, 3158)), ('▁U', (3158, 3160)), ('/', (3160, 3161)), ('m', (3161, 3162)), ('L', (3162, 3163)), (',', (3163, 3164)), ('▁resto', (3164, 3170)), ('▁de', (3170, 3173)), ('▁la', (3173, 3176)), ('▁bio', (3176, 3180))]\n",
      "\n",
      "\n",
      "[('químic', (3180, 3187)), ('a', (3187, 3188)), ('▁negativa', (3188, 3197)), (',', (3197, 3198)), ('▁ser', (3198, 3202)), ('ología', (3202, 3209)), ('s', (3209, 3210)), ('▁de', (3210, 3213)), ('▁virus', (3213, 3219)), ('▁de', (3219, 3222)), ('▁hepatitis', (3222, 3232)), (',', (3232, 3233)), ('▁VI', (3233, 3236)), ('H', (3236, 3237)), (',', (3237, 3238)), ('▁C', (3238, 3240)), ('MV', (3240, 3242)), (',', (3242, 3243)), ('▁', (3243, 3244)), ('EB', (3244, 3246)), ('▁negativo', (3246, 3255)), ('s', (3255, 3256)), ('.', (3256, 3257))]\n",
      "\n",
      "\n",
      "[('▁•', (3258, 3261)), ('▁A', (3261, 3263)), ('spira', (3263, 3268)), ('do', (3268, 3270)), ('▁y', (3270, 3272)), ('▁anat', (3272, 3277)), ('om', (3277, 3279)), ('ía', (3279, 3282)), ('▁pat', (3282, 3286)), ('ológica', (3286, 3294)), ('▁de', (3294, 3297)), ('▁mé', (3297, 3301)), ('dula', (3301, 3305)), ('▁ó', (3305, 3308)), ('se', (3308, 3310)), ('a', (3310, 3311)), ('▁normal', (3311, 3318)), ('.', (3318, 3319))]\n",
      "\n",
      "\n",
      "[('▁•', (3320, 3323)), ('▁TC', (3323, 3326)), ('▁de', (3326, 3329)), ('▁cu', (3329, 3332)), ('ello', (3332, 3336)), (',', (3336, 3337)), ('▁tó', (3337, 3341)), ('ra', (3341, 3343)), ('x', (3343, 3344)), ('▁y', (3344, 3346)), ('▁ab', (3346, 3349)), ('dom', (3349, 3352)), ('en', (3352, 3354)), ('▁(9', (3354, 3357)), ('▁de', (3357, 3360)), ('▁febrero', (3360, 3368)), ('▁de', (3368, 3371)), ('▁2011)', (3371, 3377)), (':', (3377, 3378)), ('▁ausencia', (3378, 3387)), ('▁de', (3387, 3390)), ('▁visual', (3390, 3397)), ('ización', (3397, 3405)), ('▁de', (3405, 3408)), ('▁ló', (3408, 3412)), ('bulo', (3412, 3416)), ('▁tiro', (3416, 3421)), ('ide', (3421, 3424)), ('o', (3424, 3425)), ('▁derecho', (3425, 3433)), ('▁e', (3433, 3435)), ('▁ist', (3435, 3439)), ('mo', (3439, 3441)), ('▁tiro', (3441, 3446)), ('ide', (3446, 3449)), ('o', (3449, 3450)), ('.', (3450, 3451))]\n",
      "\n",
      "\n",
      "[('▁Au', (3452, 3454)), ('mento', (3454, 3459)), ('▁de', (3459, 3462)), ('▁di', (3462, 3465)), ('á', (3465, 3467)), ('metro', (3467, 3472)), ('▁del', (3472, 3476)), ('▁ló', (3476, 3480)), ('bulo', (3480, 3484)), ('▁tiro', (3484, 3489)), ('ide', (3489, 3492)), ('o', (3492, 3493)), ('▁iz', (3493, 3496)), ('quier', (3496, 3501)), ('do', (3501, 3503)), (',', (3503, 3504)), ('▁de', (3504, 3507)), ('▁contorno', (3507, 3516)), ('s', (3516, 3517)), ('▁lo', (3517, 3520)), ('bul', (3520, 3523)), ('ados', (3523, 3527)), ('▁y', (3527, 3529)), ('▁homo', (3529, 3534)), ('gén', (3534, 3538)), ('e', (3538, 3539)), ('os', (3539, 3541)), ('▁desde', (3541, 3547)), ('▁el', (3547, 3550)), ('▁punto', (3550, 3556)), ('▁de', (3556, 3559)), ('▁vista', (3559, 3565)), ('▁radi', (3565, 3570)), ('ológico', (3570, 3578)), ('.', (3578, 3579))]\n",
      "\n",
      "\n",
      "[('▁Se', (3580, 3582)), ('▁evidencia', (3582, 3592)), ('n', (3592, 3593)), ('▁ade', (3593, 3597)), ('no', (3597, 3599)), ('pat', (3599, 3602)), ('ías', (3602, 3606)), ('▁en', (3606, 3609)), ('▁la', (3609, 3612)), ('▁práctica', (3612, 3622)), ('▁total', (3622, 3628)), ('idad', (3628, 3632)), ('▁de', (3632, 3635)), ('▁comparti', (3635, 3644)), ('mentos', (3644, 3650)), ('▁cer', (3650, 3654)), ('vica', (3654, 3658)), ('les', (3658, 3661)), ('▁todas', (3661, 3667)), ('▁ellas', (3667, 3673)), ('▁inferiore', (3673, 3683)), ('s', (3683, 3684)), ('▁a', (3684, 3686)), ('▁1', (3686, 3688)), ('▁cm', (3688, 3691)), ('▁con', (3691, 3695)), ('▁', (3695, 3696)), ('morf', (3696, 3700)), ('ología', (3700, 3707)), ('▁ovo', (3707, 3711)), ('idea', (3711, 3715)), ('▁y', (3715, 3717)), ('▁desde', (3717, 3723)), ('▁el', (3723, 3726)), ('▁punto', (3726, 3732)), ('▁de', (3732, 3735)), ('▁vista', (3735, 3741)), ('▁radi', (3741, 3746)), ('ológico', (3746, 3754)), ('▁in', (3754, 3757)), ('e', (3757, 3758)), ('spec', (3758, 3762)), ('í', (3762, 3764)), ('fica', (3764, 3768)), ('s', (3768, 3769)), ('▁y', (3769, 3771)), ('▁de', (3771, 3774)), ('▁probable', (3774, 3783)), ('▁carácter', (3783, 3793)), ('▁inflama', (3793, 3801)), ('torio', (3801, 3806)), ('.', (3806, 3807))]\n",
      "\n",
      "\n",
      "[('▁Com', (3808, 3811)), ('i', (3811, 3812)), ('enza', (3812, 3816)), ('▁con', (3816, 3820)), ('▁', (3820, 3821)), ('ritu', (3821, 3825)), ('xim', (3825, 3828)), ('ab', (3828, 3830)), ('▁semana', (3830, 3837)), ('l', (3837, 3838)), (',', (3838, 3839)), ('▁cuatro', (3839, 3846)), ('▁ciclo', (3846, 3852)), ('s', (3852, 3853)), (',', (3853, 3854)), ('▁desde', (3854, 3860)), ('▁28', (3860, 3863)), ('▁de', (3863, 3866)), ('▁febrero', (3866, 3874)), ('▁2011', (3874, 3879)), ('▁hasta', (3879, 3885)), ('▁23', (3885, 3888)), ('▁de', (3888, 3891)), ('▁marzo', (3891, 3897)), ('▁de', (3897, 3900)), ('▁2011', (3900, 3905)), ('▁y', (3905, 3907)), ('▁radi', (3907, 3912)), ('oterapia', (3912, 3920)), ('▁sobre', (3920, 3926)), ('▁resto', (3926, 3932)), ('▁de', (3932, 3935)), ('▁tiro', (3935, 3940)), ('ides', (3940, 3944)), ('▁desde', (3944, 3950)), ('▁el', (3950, 3953)), ('▁26', (3953, 3956)), ('▁de', (3956, 3959)), ('▁mayo', (3959, 3964)), ('▁de', (3964, 3967)), ('▁2011', (3967, 3972)), ('▁hasta', (3972, 3978)), ('▁23', (3978, 3981)), ('▁de', (3981, 3984)), ('▁junio', (3984, 3990)), ('▁de', (3990, 3993)), ('▁2011,', (3993, 3999)), ('▁dosis', (3999, 4005)), ('▁total', (4005, 4011)), ('▁36', (4011, 4014)), ('▁Gy', (4014, 4017)), ('▁y', (4017, 4019)), ('▁fra', (4019, 4023)), ('cción', (4023, 4029)), ('▁de', (4029, 4032)), ('▁1,8', (4032, 4036)), ('▁Gy', (4036, 4039)), ('.', (4039, 4040))]\n",
      "\n",
      "\n",
      "[('▁Se', (4041, 4043)), ('▁realiza', (4043, 4051)), ('▁un', (4051, 4054)), ('▁es', (4054, 4057)), ('cán', (4057, 4061)), ('er', (4061, 4063)), ('▁evolu', (4063, 4069)), ('tivo', (4069, 4073)), ('▁de', (4073, 4076)), ('▁cu', (4076, 4079)), ('ello', (4079, 4083)), ('-', (4083, 4084)), ('t', (4084, 4085)), ('óra', (4085, 4089)), ('x', (4089, 4090)), ('ab', (4090, 4092)), ('dom', (4092, 4095)), ('en', (4095, 4097)), ('▁el', (4097, 4100)), ('▁3', (4100, 4102)), ('▁de', (4102, 4105)), ('▁noviembre', (4105, 4115)), ('▁de', (4115, 4118)), ('▁2011', (4118, 4123)), (':', (4123, 4124)), ('▁cambios', (4124, 4132)), ('▁pos', (4132, 4136)), ('qui', (4136, 4139)), ('rú', (4139, 4142)), ('rg', (4142, 4144)), ('icos', (4144, 4148)), (',', (4148, 4149)), ('▁ló', (4149, 4153)), ('bulo', (4153, 4157)), ('▁tiro', (4157, 4162)), ('ide', (4162, 4165)), ('o', (4165, 4166)), ('▁iz', (4166, 4169)), ('quier', (4169, 4174)), ('do', (4174, 4176)), ('▁global', (4176, 4183)), ('mente', (4183, 4188)), ('▁aumenta', (4188, 4196)), ('do', (4196, 4198)), ('▁de', (4198, 4201)), ('▁tamaño', (4201, 4209)), ('▁sin', (4209, 4213)), ('▁imágenes', (4213, 4223)), ('▁de', (4223, 4226)), ('▁nó', (4226, 4230)), ('du', (4230, 4232)), ('los', (4232, 4235)), (',', (4235, 4236)), ('▁ade', (4236, 4240)), ('no', (4240, 4242)), ('pat', (4242, 4245)), ('ías', (4245, 4249)), ('▁en', (4249, 4252)), ('▁espacio', (4252, 4260)), ('▁sub', (4260, 4264)), ('mandi', (4264, 4269)), ('bu', (4269, 4271)), ('lar', (4271, 4274)), (',', (4274, 4275)), ('▁la', (4275, 4278)), ('▁mayor', (4278, 4284)), ('▁de', (4284, 4287)), ('▁ellas', (4287, 4293)), ('▁en', (4293, 4296)), ('▁el', (4296, 4299)), ('▁lado', (4299, 4304)), ('▁iz', (4304, 4307)), ('quier', (4307, 4312)), ('do', (4312, 4314)), (',', (4314, 4315)), ('▁cuyo', (4315, 4320)), ('▁di', (4320, 4323)), ('á', (4323, 4325)), ('metro', (4325, 4330)), ('▁máximo', (4330, 4338)), ('▁en', (4338, 4341)), ('▁el', (4341, 4344)), ('▁e', (4344, 4346)), ('je', (4346, 4348)), ('▁corto', (4348, 4354)), ('▁es', (4354, 4357)), ('▁de', (4357, 4360)), ('▁', (4360, 4361)), ('5,7', (4361, 4364)), ('▁mm', (4364, 4367)), ('.', (4367, 4368))]\n",
      "\n",
      "\n",
      "[('▁No', (4369, 4371)), ('▁se', (4371, 4374)), ('▁evidencia', (4374, 4384)), ('n', (4384, 4385)), ('▁signo', (4385, 4391)), ('s', (4391, 4392)), ('▁de', (4392, 4395)), ('▁reci', (4395, 4400)), ('di', (4400, 4402)), ('va', (4402, 4404)), ('▁de', (4404, 4407)), ('▁la', (4407, 4410)), ('▁enfermedad', (4410, 4421)), ('.', (4421, 4422))]\n",
      "\n",
      "\n",
      "[('▁A', (4423, 4424)), ('sin', (4424, 4427)), ('tom', (4427, 4430)), ('ática', (4430, 4436)), ('▁hasta', (4436, 4442)), ('▁la', (4442, 4445)), ('▁actualidad', (4445, 4456)), ('.', (4456, 4457))]\n",
      "\n",
      "\n"
     ]
    }
   ],
   "source": [
    "for i in range(check_id_frag, check_id_frag + dev_frag[check_id]):\n",
    "    print(list(zip([tokenizer._convert_id_to_token(int(ind)) for ind in dev_ind[i]][1:len(dev_start_end_frag[i])+1], \n",
    "               dev_start_end_frag[i])))\n",
    "    print(\"\\n\")"
   ]
  },
  {
   "cell_type": "code",
   "execution_count": 89,
   "metadata": {},
   "outputs": [
    {
     "name": "stdout",
     "output_type": "stream",
     "text": [
      "<s> ▁Ana m nesi s ▁Mu jer ▁de ▁62 ▁años ▁de ▁edad , ▁sin ▁alergi as ▁medicamentos as ▁conocida s , ▁con ▁antecede ntes ▁personales ▁de ▁dis lip emia ▁mix ta , ▁síndrome ▁an si oso - de pres ivo , ▁hiper trans ami nas emia ▁atribu ída ▁a ▁fá rma cos . </s> <pad> <pad> <pad> <pad> <pad> <pad> <pad> <pad> <pad> <pad> <pad> <pad> <pad> <pad> <pad> <pad> <pad> <pad> <pad> <pad> <pad> <pad> <pad> <pad> <pad> <pad> <pad> <pad> <pad> <pad> <pad> <pad> <pad> <pad> <pad> <pad> <pad> <pad> <pad> <pad> <pad> <pad> <pad> <pad> <pad> <pad> <pad> <pad> <pad> <pad> <pad> <pad> <pad> <pad> <pad> <pad> <pad> <pad> <pad> <pad> <pad> <pad> <pad> <pad> <pad> <pad> <pad> <pad> <pad> <pad> <pad> <pad> <pad> <pad> \n",
      "\n",
      "<s> ▁Interven ida ▁de ▁men isce c tom ía , ▁ex tir pa ción ▁de ▁qui ste ▁e pid ér mico ▁mandi bu lar , ▁a pendi ce c tom ía ▁hace ▁40 ▁años . </s> <pad> <pad> <pad> <pad> <pad> <pad> <pad> <pad> <pad> <pad> <pad> <pad> <pad> <pad> <pad> <pad> <pad> <pad> <pad> <pad> <pad> <pad> <pad> <pad> <pad> <pad> <pad> <pad> <pad> <pad> <pad> <pad> <pad> <pad> <pad> <pad> <pad> <pad> <pad> <pad> <pad> <pad> <pad> <pad> <pad> <pad> <pad> <pad> <pad> <pad> <pad> <pad> <pad> <pad> <pad> <pad> <pad> <pad> <pad> <pad> <pad> <pad> <pad> <pad> <pad> <pad> <pad> <pad> <pad> <pad> <pad> <pad> <pad> <pad> <pad> <pad> <pad> <pad> <pad> <pad> <pad> <pad> <pad> <pad> <pad> <pad> <pad> <pad> <pad> <pad> <pad> <pad> \n",
      "\n",
      "<s> ▁F um adora ▁de ▁40 ▁ci garri llos / día . </s> <pad> <pad> <pad> <pad> <pad> <pad> <pad> <pad> <pad> <pad> <pad> <pad> <pad> <pad> <pad> <pad> <pad> <pad> <pad> <pad> <pad> <pad> <pad> <pad> <pad> <pad> <pad> <pad> <pad> <pad> <pad> <pad> <pad> <pad> <pad> <pad> <pad> <pad> <pad> <pad> <pad> <pad> <pad> <pad> <pad> <pad> <pad> <pad> <pad> <pad> <pad> <pad> <pad> <pad> <pad> <pad> <pad> <pad> <pad> <pad> <pad> <pad> <pad> <pad> <pad> <pad> <pad> <pad> <pad> <pad> <pad> <pad> <pad> <pad> <pad> <pad> <pad> <pad> <pad> <pad> <pad> <pad> <pad> <pad> <pad> <pad> <pad> <pad> <pad> <pad> <pad> <pad> <pad> <pad> <pad> <pad> <pad> <pad> <pad> <pad> <pad> <pad> <pad> <pad> <pad> <pad> <pad> <pad> <pad> <pad> <pad> <pad> <pad> <pad> <pad> \n",
      "\n",
      "<s> ▁En ▁enero ▁de ▁2007 ▁es ▁diagnostic ada ▁de ▁hipo ti roid ismo ▁sub c lí nico ▁después ▁de ▁consultar ▁por ▁aumento ▁progresiv o ▁de ▁peso , ▁inici ándose ▁tratamiento ▁hormonal ▁su stitu tivo . </s> <pad> <pad> <pad> <pad> <pad> <pad> <pad> <pad> <pad> <pad> <pad> <pad> <pad> <pad> <pad> <pad> <pad> <pad> <pad> <pad> <pad> <pad> <pad> <pad> <pad> <pad> <pad> <pad> <pad> <pad> <pad> <pad> <pad> <pad> <pad> <pad> <pad> <pad> <pad> <pad> <pad> <pad> <pad> <pad> <pad> <pad> <pad> <pad> <pad> <pad> <pad> <pad> <pad> <pad> <pad> <pad> <pad> <pad> <pad> <pad> <pad> <pad> <pad> <pad> <pad> <pad> <pad> <pad> <pad> <pad> <pad> <pad> <pad> <pad> <pad> <pad> <pad> <pad> <pad> <pad> <pad> <pad> <pad> <pad> <pad> <pad> <pad> <pad> <pad> <pad> <pad> <pad> \n",
      "\n",
      "<s> ▁Se ▁indica ▁PA AF ▁de ▁nó du lo ▁de ▁3 ▁cm ▁en ▁el ▁ló bulo ▁tiro ide o ▁iz quier do , ▁que ▁la ▁paciente ▁no ▁se ▁realiza , ▁y ▁no ▁acu de ▁a ▁consulta s ▁hasta ▁julio ▁de ▁2009. </s> <pad> <pad> <pad> <pad> <pad> <pad> <pad> <pad> <pad> <pad> <pad> <pad> <pad> <pad> <pad> <pad> <pad> <pad> <pad> <pad> <pad> <pad> <pad> <pad> <pad> <pad> <pad> <pad> <pad> <pad> <pad> <pad> <pad> <pad> <pad> <pad> <pad> <pad> <pad> <pad> <pad> <pad> <pad> <pad> <pad> <pad> <pad> <pad> <pad> <pad> <pad> <pad> <pad> <pad> <pad> <pad> <pad> <pad> <pad> <pad> <pad> <pad> <pad> <pad> <pad> <pad> <pad> <pad> <pad> <pad> <pad> <pad> <pad> <pad> <pad> <pad> <pad> <pad> <pad> <pad> <pad> <pad> <pad> <pad> <pad> <pad> \n",
      "\n",
      "<s> ▁Explo r ación ▁física ▁Pe so ▁120 ▁kg ; ▁talla ▁162 ▁cm ; ▁I MC ▁42 , 67 ▁kg / m 2. </s> <pad> <pad> <pad> <pad> <pad> <pad> <pad> <pad> <pad> <pad> <pad> <pad> <pad> <pad> <pad> <pad> <pad> <pad> <pad> <pad> <pad> <pad> <pad> <pad> <pad> <pad> <pad> <pad> <pad> <pad> <pad> <pad> <pad> <pad> <pad> <pad> <pad> <pad> <pad> <pad> <pad> <pad> <pad> <pad> <pad> <pad> <pad> <pad> <pad> <pad> <pad> <pad> <pad> <pad> <pad> <pad> <pad> <pad> <pad> <pad> <pad> <pad> <pad> <pad> <pad> <pad> <pad> <pad> <pad> <pad> <pad> <pad> <pad> <pad> <pad> <pad> <pad> <pad> <pad> <pad> <pad> <pad> <pad> <pad> <pad> <pad> <pad> <pad> <pad> <pad> <pad> <pad> <pad> <pad> <pad> <pad> <pad> <pad> <pad> <pad> <pad> <pad> <pad> <pad> \n",
      "\n",
      "<s> ▁PS ▁0 , ▁ECO G ▁0 . </s> <pad> <pad> <pad> <pad> <pad> <pad> <pad> <pad> <pad> <pad> <pad> <pad> <pad> <pad> <pad> <pad> <pad> <pad> <pad> <pad> <pad> <pad> <pad> <pad> <pad> <pad> <pad> <pad> <pad> <pad> <pad> <pad> <pad> <pad> <pad> <pad> <pad> <pad> <pad> <pad> <pad> <pad> <pad> <pad> <pad> <pad> <pad> <pad> <pad> <pad> <pad> <pad> <pad> <pad> <pad> <pad> <pad> <pad> <pad> <pad> <pad> <pad> <pad> <pad> <pad> <pad> <pad> <pad> <pad> <pad> <pad> <pad> <pad> <pad> <pad> <pad> <pad> <pad> <pad> <pad> <pad> <pad> <pad> <pad> <pad> <pad> <pad> <pad> <pad> <pad> <pad> <pad> <pad> <pad> <pad> <pad> <pad> <pad> <pad> <pad> <pad> <pad> <pad> <pad> <pad> <pad> <pad> <pad> <pad> <pad> <pad> <pad> <pad> <pad> <pad> <pad> <pad> <pad> <pad> \n",
      "\n",
      "<s> ▁Cons ciente , ▁orienta da . </s> <pad> <pad> <pad> <pad> <pad> <pad> <pad> <pad> <pad> <pad> <pad> <pad> <pad> <pad> <pad> <pad> <pad> <pad> <pad> <pad> <pad> <pad> <pad> <pad> <pad> <pad> <pad> <pad> <pad> <pad> <pad> <pad> <pad> <pad> <pad> <pad> <pad> <pad> <pad> <pad> <pad> <pad> <pad> <pad> <pad> <pad> <pad> <pad> <pad> <pad> <pad> <pad> <pad> <pad> <pad> <pad> <pad> <pad> <pad> <pad> <pad> <pad> <pad> <pad> <pad> <pad> <pad> <pad> <pad> <pad> <pad> <pad> <pad> <pad> <pad> <pad> <pad> <pad> <pad> <pad> <pad> <pad> <pad> <pad> <pad> <pad> <pad> <pad> <pad> <pad> <pad> <pad> <pad> <pad> <pad> <pad> <pad> <pad> <pad> <pad> <pad> <pad> <pad> <pad> <pad> <pad> <pad> <pad> <pad> <pad> <pad> <pad> <pad> <pad> <pad> <pad> <pad> <pad> <pad> <pad> \n",
      "\n",
      "<s> ▁Buena ▁color ación ▁de ▁piel ▁y ▁mu cosa s , ▁bien ▁per fundi da , ▁tiro ides ▁palp able ▁con ▁nó du lo ▁de ▁aproximadamente ▁3 ▁cm ▁en ▁el ▁ló bulo ▁iz quier do . </s> <pad> <pad> <pad> <pad> <pad> <pad> <pad> <pad> <pad> <pad> <pad> <pad> <pad> <pad> <pad> <pad> <pad> <pad> <pad> <pad> <pad> <pad> <pad> <pad> <pad> <pad> <pad> <pad> <pad> <pad> <pad> <pad> <pad> <pad> <pad> <pad> <pad> <pad> <pad> <pad> <pad> <pad> <pad> <pad> <pad> <pad> <pad> <pad> <pad> <pad> <pad> <pad> <pad> <pad> <pad> <pad> <pad> <pad> <pad> <pad> <pad> <pad> <pad> <pad> <pad> <pad> <pad> <pad> <pad> <pad> <pad> <pad> <pad> <pad> <pad> <pad> <pad> <pad> <pad> <pad> <pad> <pad> <pad> <pad> <pad> <pad> <pad> <pad> <pad> <pad> <pad> \n",
      "\n",
      "<s> ▁No ▁presenta ▁ade no pat ías ▁cer vica les ▁palp ables . </s> <pad> <pad> <pad> <pad> <pad> <pad> <pad> <pad> <pad> <pad> <pad> <pad> <pad> <pad> <pad> <pad> <pad> <pad> <pad> <pad> <pad> <pad> <pad> <pad> <pad> <pad> <pad> <pad> <pad> <pad> <pad> <pad> <pad> <pad> <pad> <pad> <pad> <pad> <pad> <pad> <pad> <pad> <pad> <pad> <pad> <pad> <pad> <pad> <pad> <pad> <pad> <pad> <pad> <pad> <pad> <pad> <pad> <pad> <pad> <pad> <pad> <pad> <pad> <pad> <pad> <pad> <pad> <pad> <pad> <pad> <pad> <pad> <pad> <pad> <pad> <pad> <pad> <pad> <pad> <pad> <pad> <pad> <pad> <pad> <pad> <pad> <pad> <pad> <pad> <pad> <pad> <pad> <pad> <pad> <pad> <pad> <pad> <pad> <pad> <pad> <pad> <pad> <pad> <pad> <pad> <pad> <pad> <pad> <pad> <pad> <pad> <pad> <pad> <pad> \n",
      "\n",
      "<s> ▁Rest o ▁sin ▁altera ciones . </s> <pad> <pad> <pad> <pad> <pad> <pad> <pad> <pad> <pad> <pad> <pad> <pad> <pad> <pad> <pad> <pad> <pad> <pad> <pad> <pad> <pad> <pad> <pad> <pad> <pad> <pad> <pad> <pad> <pad> <pad> <pad> <pad> <pad> <pad> <pad> <pad> <pad> <pad> <pad> <pad> <pad> <pad> <pad> <pad> <pad> <pad> <pad> <pad> <pad> <pad> <pad> <pad> <pad> <pad> <pad> <pad> <pad> <pad> <pad> <pad> <pad> <pad> <pad> <pad> <pad> <pad> <pad> <pad> <pad> <pad> <pad> <pad> <pad> <pad> <pad> <pad> <pad> <pad> <pad> <pad> <pad> <pad> <pad> <pad> <pad> <pad> <pad> <pad> <pad> <pad> <pad> <pad> <pad> <pad> <pad> <pad> <pad> <pad> <pad> <pad> <pad> <pad> <pad> <pad> <pad> <pad> <pad> <pad> <pad> <pad> <pad> <pad> <pad> <pad> <pad> <pad> <pad> <pad> <pad> <pad> \n",
      "\n",
      "<s> ▁Pru e bas ▁complementar ias ▁• ▁Ana lítica : ▁con ▁hem ogram a ▁y ▁coa gula ción ▁normal , ▁bio químic a ▁que ▁muestra ▁T SH ▁7.5 30 ▁m UI / L , ▁T 4 ▁0,4 6 ▁ng / d L ; ▁resto ▁sin ▁altera ciones . </s> <pad> <pad> <pad> <pad> <pad> <pad> <pad> <pad> <pad> <pad> <pad> <pad> <pad> <pad> <pad> <pad> <pad> <pad> <pad> <pad> <pad> <pad> <pad> <pad> <pad> <pad> <pad> <pad> <pad> <pad> <pad> <pad> <pad> <pad> <pad> <pad> <pad> <pad> <pad> <pad> <pad> <pad> <pad> <pad> <pad> <pad> <pad> <pad> <pad> <pad> <pad> <pad> <pad> <pad> <pad> <pad> <pad> <pad> <pad> <pad> <pad> <pad> <pad> <pad> <pad> <pad> <pad> <pad> <pad> <pad> <pad> <pad> <pad> <pad> <pad> <pad> <pad> <pad> <pad> \n",
      "\n",
      "<s> ▁• ▁Ec ografía ▁de ▁tiro ides ▁( ju lio ▁de ▁2009) : ▁g lán dula ▁tiro idea ▁global mente ▁aumenta da ▁de ▁tamaño , ▁con ▁ morf ología ▁poli lo bula da ▁que ▁en ▁su ▁interior ▁presenta ▁nó du los ▁iso eco gén icos ▁con ▁la ▁g lán dula , ▁de ▁alrededor ▁de ▁1 ▁cm , ▁en ▁el ▁lado ▁derecho ▁se ▁objetiva ▁alguno ▁mayor ▁de ▁1,3 ▁cm , ▁todo ▁ello ▁en ▁probable ▁relación ▁con ▁bo cio ▁multi nod ular , ▁acompañado ▁de ▁ade no pat ías ▁later o cer vica les ▁bilateral es , ▁más ▁numerosas ▁en ▁la ▁cadena ▁y ugu loca ro tí de a , ▁de ▁aspecto ▁inflama torio , ▁la ▁mayor ▁de ▁ellas ▁en ▁el ▁lado ▁iz quier do ▁de ▁1,3 ▁cm . </s> \n",
      "\n",
      "<s> ▁Se ▁realiza ▁PA AF ▁que ▁muestra ▁material ▁insuficient e ▁y ▁la ▁paciente ▁se ▁nie ga ▁a ▁su ▁repeti ción ▁hasta ▁febrero ▁de ▁2010. </s> <pad> <pad> <pad> <pad> <pad> <pad> <pad> <pad> <pad> <pad> <pad> <pad> <pad> <pad> <pad> <pad> <pad> <pad> <pad> <pad> <pad> <pad> <pad> <pad> <pad> <pad> <pad> <pad> <pad> <pad> <pad> <pad> <pad> <pad> <pad> <pad> <pad> <pad> <pad> <pad> <pad> <pad> <pad> <pad> <pad> <pad> <pad> <pad> <pad> <pad> <pad> <pad> <pad> <pad> <pad> <pad> <pad> <pad> <pad> <pad> <pad> <pad> <pad> <pad> <pad> <pad> <pad> <pad> <pad> <pad> <pad> <pad> <pad> <pad> <pad> <pad> <pad> <pad> <pad> <pad> <pad> <pad> <pad> <pad> <pad> <pad> <pad> <pad> <pad> <pad> <pad> <pad> <pad> <pad> <pad> <pad> <pad> <pad> <pad> <pad> <pad> <pad> <pad> \n",
      "\n",
      "<s> ▁• ▁Ec ografía ▁de ▁tiro ides ▁( fe bre ro ▁de ▁2010) : ▁bo cio ▁multi nod ular . </s> <pad> <pad> <pad> <pad> <pad> <pad> <pad> <pad> <pad> <pad> <pad> <pad> <pad> <pad> <pad> <pad> <pad> <pad> <pad> <pad> <pad> <pad> <pad> <pad> <pad> <pad> <pad> <pad> <pad> <pad> <pad> <pad> <pad> <pad> <pad> <pad> <pad> <pad> <pad> <pad> <pad> <pad> <pad> <pad> <pad> <pad> <pad> <pad> <pad> <pad> <pad> <pad> <pad> <pad> <pad> <pad> <pad> <pad> <pad> <pad> <pad> <pad> <pad> <pad> <pad> <pad> <pad> <pad> <pad> <pad> <pad> <pad> <pad> <pad> <pad> <pad> <pad> <pad> <pad> <pad> <pad> <pad> <pad> <pad> <pad> <pad> <pad> <pad> <pad> <pad> <pad> <pad> <pad> <pad> <pad> <pad> <pad> <pad> <pad> <pad> <pad> <pad> <pad> <pad> <pad> <pad> <pad> \n",
      "\n",
      "<s> ▁En ▁el ▁ló bulo ▁tiro ide o ▁iz quier do ▁nó du lo ▁mayor ▁de ▁aspecto ▁qu ístico ▁redo nde ado ▁de ▁0,9 ▁x ▁0,8 ▁x ▁0,8 ▁cm ▁que ▁no ▁se ▁pun cion a . </s> <pad> <pad> <pad> <pad> <pad> <pad> <pad> <pad> <pad> <pad> <pad> <pad> <pad> <pad> <pad> <pad> <pad> <pad> <pad> <pad> <pad> <pad> <pad> <pad> <pad> <pad> <pad> <pad> <pad> <pad> <pad> <pad> <pad> <pad> <pad> <pad> <pad> <pad> <pad> <pad> <pad> <pad> <pad> <pad> <pad> <pad> <pad> <pad> <pad> <pad> <pad> <pad> <pad> <pad> <pad> <pad> <pad> <pad> <pad> <pad> <pad> <pad> <pad> <pad> <pad> <pad> <pad> <pad> <pad> <pad> <pad> <pad> <pad> <pad> <pad> <pad> <pad> <pad> <pad> <pad> <pad> <pad> <pad> <pad> <pad> <pad> <pad> <pad> <pad> <pad> <pad> \n",
      "\n",
      "<s> ▁En ▁el ▁ló bulo ▁derecho , ▁nó du lo ▁mayor ▁en ▁el ▁polo ▁inferior ▁de ▁1,4 ▁x ▁1,3 2 ▁x ▁1,7 1 ▁cm , ▁hipo eco ico , ▁no ▁vas cular izado ▁con ▁borde s ▁irregular es ▁que ▁se ▁pun cion a . </s> <pad> <pad> <pad> <pad> <pad> <pad> <pad> <pad> <pad> <pad> <pad> <pad> <pad> <pad> <pad> <pad> <pad> <pad> <pad> <pad> <pad> <pad> <pad> <pad> <pad> <pad> <pad> <pad> <pad> <pad> <pad> <pad> <pad> <pad> <pad> <pad> <pad> <pad> <pad> <pad> <pad> <pad> <pad> <pad> <pad> <pad> <pad> <pad> <pad> <pad> <pad> <pad> <pad> <pad> <pad> <pad> <pad> <pad> <pad> <pad> <pad> <pad> <pad> <pad> <pad> <pad> <pad> <pad> <pad> <pad> <pad> <pad> <pad> <pad> <pad> <pad> <pad> <pad> <pad> <pad> <pad> <pad> <pad> \n",
      "\n",
      "<s> ▁Ade no pat ías ▁later o cer vica les ▁bilateral es , ▁más ▁numerosas ▁en ▁cadena ▁y ugu loca ro tí de a ▁derecha ▁de ▁aspecto ▁inflama torio ▁que ▁conserva n ▁el ▁hili o , ▁aunque ▁alguna ▁tiene ▁ morf ología ▁redo nde ada , ▁la ▁mayor ▁mid iendo ▁0,8 6 ▁cm . </s> <pad> <pad> <pad> <pad> <pad> <pad> <pad> <pad> <pad> <pad> <pad> <pad> <pad> <pad> <pad> <pad> <pad> <pad> <pad> <pad> <pad> <pad> <pad> <pad> <pad> <pad> <pad> <pad> <pad> <pad> <pad> <pad> <pad> <pad> <pad> <pad> <pad> <pad> <pad> <pad> <pad> <pad> <pad> <pad> <pad> <pad> <pad> <pad> <pad> <pad> <pad> <pad> <pad> <pad> <pad> <pad> <pad> <pad> <pad> <pad> <pad> <pad> <pad> <pad> <pad> <pad> <pad> <pad> <pad> <pad> <pad> <pad> <pad> \n",
      "\n",
      "<s> ▁• ▁Resultado ▁de ▁la ▁PA AF ▁del ▁nó du lo ▁en ▁el ▁ló bulo ▁tiro ide o ▁derecho ▁( mar zo ▁de ▁2010) : ▁tiro id itis ▁crónica ▁l info cí tica ▁tipo ▁Hashim oto ▁con ▁signo s ▁prolifera tivos ▁foli culare s ▁a ▁células ▁de ▁Hü rth le . </s> <pad> <pad> <pad> <pad> <pad> <pad> <pad> <pad> <pad> <pad> <pad> <pad> <pad> <pad> <pad> <pad> <pad> <pad> <pad> <pad> <pad> <pad> <pad> <pad> <pad> <pad> <pad> <pad> <pad> <pad> <pad> <pad> <pad> <pad> <pad> <pad> <pad> <pad> <pad> <pad> <pad> <pad> <pad> <pad> <pad> <pad> <pad> <pad> <pad> <pad> <pad> <pad> <pad> <pad> <pad> <pad> <pad> <pad> <pad> <pad> <pad> <pad> <pad> <pad> <pad> <pad> <pad> <pad> <pad> <pad> <pad> <pad> <pad> <pad> <pad> <pad> \n",
      "\n",
      "<s> ▁El ▁3 ▁de ▁noviembre ▁de ▁2010 ▁es ▁some tida ▁a ▁una ▁l obec tom ía ▁tiro idea ▁derecha , ▁en vi ándose ▁la ▁pieza ▁a ▁anat om ía ▁pat ológica ▁que ▁informa ▁de ▁l info ma ▁de ▁la ▁zona ▁marginal ▁tipo ▁MAL T ▁con ▁prominent e ▁diferencia ción ▁plas mo cí tica . </s> <pad> <pad> <pad> <pad> <pad> <pad> <pad> <pad> <pad> <pad> <pad> <pad> <pad> <pad> <pad> <pad> <pad> <pad> <pad> <pad> <pad> <pad> <pad> <pad> <pad> <pad> <pad> <pad> <pad> <pad> <pad> <pad> <pad> <pad> <pad> <pad> <pad> <pad> <pad> <pad> <pad> <pad> <pad> <pad> <pad> <pad> <pad> <pad> <pad> <pad> <pad> <pad> <pad> <pad> <pad> <pad> <pad> <pad> <pad> <pad> <pad> <pad> <pad> <pad> <pad> <pad> <pad> <pad> <pad> <pad> <pad> <pad> <pad> \n",
      "\n",
      "<s> ▁Ti roid itis ▁de ▁Hashim oto . </s> <pad> <pad> <pad> <pad> <pad> <pad> <pad> <pad> <pad> <pad> <pad> <pad> <pad> <pad> <pad> <pad> <pad> <pad> <pad> <pad> <pad> <pad> <pad> <pad> <pad> <pad> <pad> <pad> <pad> <pad> <pad> <pad> <pad> <pad> <pad> <pad> <pad> <pad> <pad> <pad> <pad> <pad> <pad> <pad> <pad> <pad> <pad> <pad> <pad> <pad> <pad> <pad> <pad> <pad> <pad> <pad> <pad> <pad> <pad> <pad> <pad> <pad> <pad> <pad> <pad> <pad> <pad> <pad> <pad> <pad> <pad> <pad> <pad> <pad> <pad> <pad> <pad> <pad> <pad> <pad> <pad> <pad> <pad> <pad> <pad> <pad> <pad> <pad> <pad> <pad> <pad> <pad> <pad> <pad> <pad> <pad> <pad> <pad> <pad> <pad> <pad> <pad> <pad> <pad> <pad> <pad> <pad> <pad> <pad> <pad> <pad> <pad> <pad> <pad> <pad> <pad> <pad> <pad> <pad> \n",
      "\n",
      "<s> ▁Dia g nó stico ▁L info ma ▁de ▁la ▁zona ▁marginal ▁tipo ▁MAL T ▁y ▁tiro id itis ▁de ▁Hashim oto . </s> <pad> <pad> <pad> <pad> <pad> <pad> <pad> <pad> <pad> <pad> <pad> <pad> <pad> <pad> <pad> <pad> <pad> <pad> <pad> <pad> <pad> <pad> <pad> <pad> <pad> <pad> <pad> <pad> <pad> <pad> <pad> <pad> <pad> <pad> <pad> <pad> <pad> <pad> <pad> <pad> <pad> <pad> <pad> <pad> <pad> <pad> <pad> <pad> <pad> <pad> <pad> <pad> <pad> <pad> <pad> <pad> <pad> <pad> <pad> <pad> <pad> <pad> <pad> <pad> <pad> <pad> <pad> <pad> <pad> <pad> <pad> <pad> <pad> <pad> <pad> <pad> <pad> <pad> <pad> <pad> <pad> <pad> <pad> <pad> <pad> <pad> <pad> <pad> <pad> <pad> <pad> <pad> <pad> <pad> <pad> <pad> <pad> <pad> <pad> <pad> <pad> <pad> <pad> <pad> \n",
      "\n",
      "<s> ▁Evolu ción ▁y ▁tratamiento ▁Es ▁remit ida ▁por ▁primera ▁vez ▁en ▁el ▁Servicio ▁de ▁On c ología ▁el ▁21 ▁de ▁enero ▁de ▁2011, ▁y ▁se ▁realizan ▁los ▁siguientes ▁estudios : ▁• ▁Ana lítica : ▁hem ogram a ▁y ▁coa gula ción ▁normal , ▁V SG ▁30 ▁mm , ▁colesterol ▁total ▁26 9 ▁mg / d L , ▁L DL ▁174 ▁mg / ▁d L , ▁tri gli cé ri dos ▁250 ▁mg / d L , ▁G GT ▁69 , ▁U / L , ▁T SH ▁24. 800 ▁m UI / L , ▁T 4 ▁libre ▁0,4 2 ▁ng / d L , ▁CE A ▁1,1 ▁ng / m L , ▁CA -19 . 9 ▁1 5,8 ▁U / m L , ▁resto ▁de ▁la ▁bio </s> \n",
      "\n",
      "<s> químic a ▁negativa , ▁ser ología s ▁de ▁virus ▁de ▁hepatitis , ▁VI H , ▁C MV , ▁ EB ▁negativo s . </s> <pad> <pad> <pad> <pad> <pad> <pad> <pad> <pad> <pad> <pad> <pad> <pad> <pad> <pad> <pad> <pad> <pad> <pad> <pad> <pad> <pad> <pad> <pad> <pad> <pad> <pad> <pad> <pad> <pad> <pad> <pad> <pad> <pad> <pad> <pad> <pad> <pad> <pad> <pad> <pad> <pad> <pad> <pad> <pad> <pad> <pad> <pad> <pad> <pad> <pad> <pad> <pad> <pad> <pad> <pad> <pad> <pad> <pad> <pad> <pad> <pad> <pad> <pad> <pad> <pad> <pad> <pad> <pad> <pad> <pad> <pad> <pad> <pad> <pad> <pad> <pad> <pad> <pad> <pad> <pad> <pad> <pad> <pad> <pad> <pad> <pad> <pad> <pad> <pad> <pad> <pad> <pad> <pad> <pad> <pad> <pad> <pad> <pad> <pad> <pad> <pad> <pad> <pad> \n",
      "\n",
      "<s> ▁• ▁A spira do ▁y ▁anat om ía ▁pat ológica ▁de ▁mé dula ▁ó se a ▁normal . </s> <pad> <pad> <pad> <pad> <pad> <pad> <pad> <pad> <pad> <pad> <pad> <pad> <pad> <pad> <pad> <pad> <pad> <pad> <pad> <pad> <pad> <pad> <pad> <pad> <pad> <pad> <pad> <pad> <pad> <pad> <pad> <pad> <pad> <pad> <pad> <pad> <pad> <pad> <pad> <pad> <pad> <pad> <pad> <pad> <pad> <pad> <pad> <pad> <pad> <pad> <pad> <pad> <pad> <pad> <pad> <pad> <pad> <pad> <pad> <pad> <pad> <pad> <pad> <pad> <pad> <pad> <pad> <pad> <pad> <pad> <pad> <pad> <pad> <pad> <pad> <pad> <pad> <pad> <pad> <pad> <pad> <pad> <pad> <pad> <pad> <pad> <pad> <pad> <pad> <pad> <pad> <pad> <pad> <pad> <pad> <pad> <pad> <pad> <pad> <pad> <pad> <pad> <pad> <pad> <pad> <pad> <pad> <pad> \n",
      "\n",
      "<s> ▁• ▁TC ▁de ▁cu ello , ▁tó ra x ▁y ▁ab dom en ▁(9 ▁de ▁febrero ▁de ▁2011) : ▁ausencia ▁de ▁visual ización ▁de ▁ló bulo ▁tiro ide o ▁derecho ▁e ▁ist mo ▁tiro ide o . </s> <pad> <pad> <pad> <pad> <pad> <pad> <pad> <pad> <pad> <pad> <pad> <pad> <pad> <pad> <pad> <pad> <pad> <pad> <pad> <pad> <pad> <pad> <pad> <pad> <pad> <pad> <pad> <pad> <pad> <pad> <pad> <pad> <pad> <pad> <pad> <pad> <pad> <pad> <pad> <pad> <pad> <pad> <pad> <pad> <pad> <pad> <pad> <pad> <pad> <pad> <pad> <pad> <pad> <pad> <pad> <pad> <pad> <pad> <pad> <pad> <pad> <pad> <pad> <pad> <pad> <pad> <pad> <pad> <pad> <pad> <pad> <pad> <pad> <pad> <pad> <pad> <pad> <pad> <pad> <pad> <pad> <pad> <pad> <pad> <pad> <pad> <pad> <pad> <pad> \n",
      "\n",
      "<s> ▁Au mento ▁de ▁di á metro ▁del ▁ló bulo ▁tiro ide o ▁iz quier do , ▁de ▁contorno s ▁lo bul ados ▁y ▁homo gén e os ▁desde ▁el ▁punto ▁de ▁vista ▁radi ológico . </s> <pad> <pad> <pad> <pad> <pad> <pad> <pad> <pad> <pad> <pad> <pad> <pad> <pad> <pad> <pad> <pad> <pad> <pad> <pad> <pad> <pad> <pad> <pad> <pad> <pad> <pad> <pad> <pad> <pad> <pad> <pad> <pad> <pad> <pad> <pad> <pad> <pad> <pad> <pad> <pad> <pad> <pad> <pad> <pad> <pad> <pad> <pad> <pad> <pad> <pad> <pad> <pad> <pad> <pad> <pad> <pad> <pad> <pad> <pad> <pad> <pad> <pad> <pad> <pad> <pad> <pad> <pad> <pad> <pad> <pad> <pad> <pad> <pad> <pad> <pad> <pad> <pad> <pad> <pad> <pad> <pad> <pad> <pad> <pad> <pad> <pad> <pad> <pad> <pad> <pad> <pad> \n",
      "\n",
      "<s> ▁Se ▁evidencia n ▁ade no pat ías ▁en ▁la ▁práctica ▁total idad ▁de ▁comparti mentos ▁cer vica les ▁todas ▁ellas ▁inferiore s ▁a ▁1 ▁cm ▁con ▁ morf ología ▁ovo idea ▁y ▁desde ▁el ▁punto ▁de ▁vista ▁radi ológico ▁in e spec í fica s ▁y ▁de ▁probable ▁carácter ▁inflama torio . </s> <pad> <pad> <pad> <pad> <pad> <pad> <pad> <pad> <pad> <pad> <pad> <pad> <pad> <pad> <pad> <pad> <pad> <pad> <pad> <pad> <pad> <pad> <pad> <pad> <pad> <pad> <pad> <pad> <pad> <pad> <pad> <pad> <pad> <pad> <pad> <pad> <pad> <pad> <pad> <pad> <pad> <pad> <pad> <pad> <pad> <pad> <pad> <pad> <pad> <pad> <pad> <pad> <pad> <pad> <pad> <pad> <pad> <pad> <pad> <pad> <pad> <pad> <pad> <pad> <pad> <pad> <pad> <pad> <pad> <pad> <pad> <pad> <pad> <pad> \n",
      "\n",
      "<s> ▁Com i enza ▁con ▁ ritu xim ab ▁semana l , ▁cuatro ▁ciclo s , ▁desde ▁28 ▁de ▁febrero ▁2011 ▁hasta ▁23 ▁de ▁marzo ▁de ▁2011 ▁y ▁radi oterapia ▁sobre ▁resto ▁de ▁tiro ides ▁desde ▁el ▁26 ▁de ▁mayo ▁de ▁2011 ▁hasta ▁23 ▁de ▁junio ▁de ▁2011, ▁dosis ▁total ▁36 ▁Gy ▁y ▁fra cción ▁de ▁1,8 ▁Gy . </s> <pad> <pad> <pad> <pad> <pad> <pad> <pad> <pad> <pad> <pad> <pad> <pad> <pad> <pad> <pad> <pad> <pad> <pad> <pad> <pad> <pad> <pad> <pad> <pad> <pad> <pad> <pad> <pad> <pad> <pad> <pad> <pad> <pad> <pad> <pad> <pad> <pad> <pad> <pad> <pad> <pad> <pad> <pad> <pad> <pad> <pad> <pad> <pad> <pad> <pad> <pad> <pad> <pad> <pad> <pad> <pad> <pad> <pad> <pad> <pad> <pad> <pad> <pad> <pad> <pad> <pad> <pad> <pad> \n",
      "\n",
      "<s> ▁Se ▁realiza ▁un ▁es cán er ▁evolu tivo ▁de ▁cu ello - t óra x ab dom en ▁el ▁3 ▁de ▁noviembre ▁de ▁2011 : ▁cambios ▁pos qui rú rg icos , ▁ló bulo ▁tiro ide o ▁iz quier do ▁global mente ▁aumenta do ▁de ▁tamaño ▁sin ▁imágenes ▁de ▁nó du los , ▁ade no pat ías ▁en ▁espacio ▁sub mandi bu lar , ▁la ▁mayor ▁de ▁ellas ▁en ▁el ▁lado ▁iz quier do , ▁cuyo ▁di á metro ▁máximo ▁en ▁el ▁e je ▁corto ▁es ▁de ▁ 5,7 ▁mm . </s> <pad> <pad> <pad> <pad> <pad> <pad> <pad> <pad> <pad> <pad> <pad> <pad> <pad> <pad> <pad> <pad> <pad> <pad> <pad> <pad> <pad> <pad> <pad> <pad> <pad> <pad> <pad> <pad> <pad> <pad> <pad> <pad> <pad> <pad> <pad> \n",
      "\n",
      "<s> ▁No ▁se ▁evidencia n ▁signo s ▁de ▁reci di va ▁de ▁la ▁enfermedad . </s> <pad> <pad> <pad> <pad> <pad> <pad> <pad> <pad> <pad> <pad> <pad> <pad> <pad> <pad> <pad> <pad> <pad> <pad> <pad> <pad> <pad> <pad> <pad> <pad> <pad> <pad> <pad> <pad> <pad> <pad> <pad> <pad> <pad> <pad> <pad> <pad> <pad> <pad> <pad> <pad> <pad> <pad> <pad> <pad> <pad> <pad> <pad> <pad> <pad> <pad> <pad> <pad> <pad> <pad> <pad> <pad> <pad> <pad> <pad> <pad> <pad> <pad> <pad> <pad> <pad> <pad> <pad> <pad> <pad> <pad> <pad> <pad> <pad> <pad> <pad> <pad> <pad> <pad> <pad> <pad> <pad> <pad> <pad> <pad> <pad> <pad> <pad> <pad> <pad> <pad> <pad> <pad> <pad> <pad> <pad> <pad> <pad> <pad> <pad> <pad> <pad> <pad> <pad> <pad> <pad> <pad> <pad> <pad> <pad> <pad> <pad> <pad> \n",
      "\n",
      "<s> ▁A sin tom ática ▁hasta ▁la ▁actualidad . </s> <pad> <pad> <pad> <pad> <pad> <pad> <pad> <pad> <pad> <pad> <pad> <pad> <pad> <pad> <pad> <pad> <pad> <pad> <pad> <pad> <pad> <pad> <pad> <pad> <pad> <pad> <pad> <pad> <pad> <pad> <pad> <pad> <pad> <pad> <pad> <pad> <pad> <pad> <pad> <pad> <pad> <pad> <pad> <pad> <pad> <pad> <pad> <pad> <pad> <pad> <pad> <pad> <pad> <pad> <pad> <pad> <pad> <pad> <pad> <pad> <pad> <pad> <pad> <pad> <pad> <pad> <pad> <pad> <pad> <pad> <pad> <pad> <pad> <pad> <pad> <pad> <pad> <pad> <pad> <pad> <pad> <pad> <pad> <pad> <pad> <pad> <pad> <pad> <pad> <pad> <pad> <pad> <pad> <pad> <pad> <pad> <pad> <pad> <pad> <pad> <pad> <pad> <pad> <pad> <pad> <pad> <pad> <pad> <pad> <pad> <pad> <pad> <pad> <pad> <pad> <pad> <pad> <pad> \n",
      "\n"
     ]
    }
   ],
   "source": [
    "check_id_frag = sum(dev_frag[:check_id])\n",
    "for frag in dev_ind[check_id_frag:check_id_frag + dev_frag[check_id]]:\n",
    "    print(' '.join([tokenizer._convert_id_to_token(int(ind)) for ind in frag]), \"\\n\")"
   ]
  },
  {
   "cell_type": "code",
   "execution_count": 90,
   "metadata": {},
   "outputs": [
    {
     "data": {
      "text/plain": [
       "count    8303.000000\n",
       "mean        0.294231\n",
       "std         0.586341\n",
       "min         0.000000\n",
       "25%         0.000000\n",
       "50%         0.000000\n",
       "75%         0.000000\n",
       "max         6.000000\n",
       "dtype: float64"
      ]
     },
     "execution_count": 90,
     "metadata": {},
     "output_type": "execute_result"
    }
   ],
   "source": [
    "# Fragment labels distribution\n",
    "pd.Series(np.sum(dev_y, axis=1)).describe()"
   ]
  },
  {
   "cell_type": "markdown",
   "metadata": {},
   "source": [
    "### Training & Development corpus\n",
    "\n",
    "We merge the previously generated datasets:"
   ]
  },
  {
   "cell_type": "code",
   "execution_count": 91,
   "metadata": {},
   "outputs": [],
   "source": [
    "# Indices\n",
    "train_dev_ind = np.concatenate((train_ind, dev_ind))"
   ]
  },
  {
   "cell_type": "code",
   "execution_count": 92,
   "metadata": {},
   "outputs": [
    {
     "data": {
      "text/plain": [
       "(35936, 128)"
      ]
     },
     "execution_count": 92,
     "metadata": {},
     "output_type": "execute_result"
    }
   ],
   "source": [
    "train_dev_ind.shape"
   ]
  },
  {
   "cell_type": "code",
   "execution_count": 93,
   "metadata": {},
   "outputs": [],
   "source": [
    "# Attention masks\n",
    "train_dev_att = np.concatenate((train_att, dev_att))"
   ]
  },
  {
   "cell_type": "code",
   "execution_count": 94,
   "metadata": {},
   "outputs": [
    {
     "data": {
      "text/plain": [
       "(35936, 128)"
      ]
     },
     "execution_count": 94,
     "metadata": {},
     "output_type": "execute_result"
    }
   ],
   "source": [
    "train_dev_att.shape"
   ]
  },
  {
   "cell_type": "code",
   "execution_count": 95,
   "metadata": {},
   "outputs": [],
   "source": [
    "# y\n",
    "train_dev_y = np.concatenate((train_y, dev_y))"
   ]
  },
  {
   "cell_type": "code",
   "execution_count": 96,
   "metadata": {},
   "outputs": [
    {
     "data": {
      "text/plain": [
       "(35936, 743)"
      ]
     },
     "execution_count": 96,
     "metadata": {},
     "output_type": "execute_result"
    }
   ],
   "source": [
    "train_dev_y.shape"
   ]
  },
  {
   "cell_type": "markdown",
   "metadata": {},
   "source": [
    "## Fine-tuning\n",
    "\n",
    "Using the corpus of labeled sentences, we fine-tune the model on a multi-label sentence classification task."
   ]
  },
  {
   "cell_type": "code",
   "execution_count": 98,
   "metadata": {},
   "outputs": [
    {
     "name": "stderr",
     "output_type": "stream",
     "text": [
      "All PyTorch model weights were used when initializing TFXLMRobertaForSequenceClassification.\n",
      "\n",
      "Some weights or buffers of the TF 2.0 model TFXLMRobertaForSequenceClassification were not initialized from the PyTorch model and are newly initialized: ['classifier.dense.weight', 'classifier.dense.bias', 'classifier.out_proj.weight', 'classifier.out_proj.bias']\n",
      "You should probably TRAIN this model on a down-stream task to be able to use it for predictions and inference.\n"
     ]
    }
   ],
   "source": [
    "from transformers import TFXLMRobertaForSequenceClassification\n",
    "\n",
    "model = TFXLMRobertaForSequenceClassification.from_pretrained(model_name, from_pt=True)"
   ]
  },
  {
   "cell_type": "code",
   "execution_count": 99,
   "metadata": {},
   "outputs": [
    {
     "name": "stdout",
     "output_type": "stream",
     "text": [
      "Model: \"tfxlm_roberta_for_sequence_classification\"\n",
      "_________________________________________________________________\n",
      "Layer (type)                 Output Shape              Param #   \n",
      "=================================================================\n",
      "roberta (TFRobertaMainLayer) multiple                  277453056 \n",
      "_________________________________________________________________\n",
      "classifier (TFRobertaClassif multiple                  592130    \n",
      "=================================================================\n",
      "Total params: 278,045,186\n",
      "Trainable params: 278,045,186\n",
      "Non-trainable params: 0\n",
      "_________________________________________________________________\n"
     ]
    }
   ],
   "source": [
    "model.summary()"
   ]
  },
  {
   "cell_type": "code",
   "execution_count": 100,
   "metadata": {},
   "outputs": [],
   "source": [
    "from tensorflow.keras import Input, Model\n",
    "from tensorflow.keras.layers import Dense, Activation\n",
    "from tensorflow.keras.initializers import GlorotUniform\n",
    "\n",
    "input_ids = Input(shape=(SEQ_LEN,), name='input_ids', dtype='int64')\n",
    "attention_mask = Input(shape=(SEQ_LEN,), name='attention_mask', dtype='int64')\n",
    "inputs = [input_ids, attention_mask]\n",
    "\n",
    "cls_token = model.layers[0](input_ids=inputs[0], attention_mask=inputs[1])[0][:, 0, :] # take <s> token output representation (equiv. to [CLS]) \n",
    "out_logits = Dense(units=num_labels, kernel_initializer=GlorotUniform(seed=random_seed))(cls_token) # Multi-label classification\n",
    "out_act = Activation('sigmoid')(out_logits)\n",
    "\n",
    "model = Model(inputs=[input_ids, attention_mask], outputs=out_act)"
   ]
  },
  {
   "cell_type": "code",
   "execution_count": 101,
   "metadata": {},
   "outputs": [
    {
     "name": "stdout",
     "output_type": "stream",
     "text": [
      "Model: \"model\"\n",
      "__________________________________________________________________________________________________\n",
      "Layer (type)                    Output Shape         Param #     Connected to                     \n",
      "==================================================================================================\n",
      "input_ids (InputLayer)          [(None, 128)]        0                                            \n",
      "__________________________________________________________________________________________________\n",
      "attention_mask (InputLayer)     [(None, 128)]        0                                            \n",
      "__________________________________________________________________________________________________\n",
      "roberta (TFRobertaMainLayer)    TFBaseModelOutputWit 277453056   input_ids[0][0]                  \n",
      "__________________________________________________________________________________________________\n",
      "tf_op_layer_strided_slice (Tens [(None, 768)]        0           roberta[0][0]                    \n",
      "__________________________________________________________________________________________________\n",
      "dense (Dense)                   (None, 743)          571367      tf_op_layer_strided_slice[0][0]  \n",
      "__________________________________________________________________________________________________\n",
      "activation_4 (Activation)       (None, 743)          0           dense[0][0]                      \n",
      "==================================================================================================\n",
      "Total params: 278,024,423\n",
      "Trainable params: 278,024,423\n",
      "Non-trainable params: 0\n",
      "__________________________________________________________________________________________________\n"
     ]
    }
   ],
   "source": [
    "model.summary()"
   ]
  },
  {
   "cell_type": "code",
   "execution_count": 102,
   "metadata": {},
   "outputs": [
    {
     "data": {
      "text/plain": [
       "[<tf.Tensor 'input_ids:0' shape=(None, 128) dtype=int64>,\n",
       " <tf.Tensor 'attention_mask:0' shape=(None, 128) dtype=int64>]"
      ]
     },
     "execution_count": 102,
     "metadata": {},
     "output_type": "execute_result"
    }
   ],
   "source": [
    "model.inputs"
   ]
  },
  {
   "cell_type": "code",
   "execution_count": 103,
   "metadata": {},
   "outputs": [
    {
     "data": {
      "text/plain": [
       "[<tf.Tensor 'activation_4/Identity:0' shape=(None, 743) dtype=float32>]"
      ]
     },
     "execution_count": 103,
     "metadata": {},
     "output_type": "execute_result"
    }
   ],
   "source": [
    "model.outputs"
   ]
  },
  {
   "cell_type": "code",
   "execution_count": null,
   "metadata": {},
   "outputs": [
    {
     "name": "stdout",
     "output_type": "stream",
     "text": [
      "Epoch 1/30\n",
      "2246/2246 [==============================] - 742s 330ms/step - loss: 0.0822\n",
      "Epoch 2/30\n",
      "  15/2246 [..............................] - ETA: 11:27 - loss: 0.0042"
     ]
    }
   ],
   "source": [
    "%%time\n",
    "from tensorflow.keras import optimizers, losses\n",
    "import tensorflow_addons as tfa\n",
    "\n",
    "optimizer = tfa.optimizers.RectifiedAdam(learning_rate=LR)\n",
    "loss = losses.BinaryCrossentropy(from_logits=False)\n",
    "model.compile(optimizer=optimizer, loss=loss)\n",
    "\n",
    "history = model.fit(x={'input_ids': train_dev_ind, 'attention_mask': train_dev_att}, y=train_dev_y,\n",
    "          batch_size=BATCH_SIZE, epochs=EPOCHS, shuffle=True)"
   ]
  },
  {
   "cell_type": "markdown",
   "metadata": {},
   "source": [
    "## Test set predictions\n",
    "\n",
    "Finally, the predictions made by the model on the test set are saved. For this purpose, firstly, each sentence from the test corpus must be converted into a sequence of subwords (input IDs and attention mask arrays). Then, the predictions made by the model at the sentence-level are saved, to be further evaluated at document-level (see `results/Cantemist-Coding/Evaluation.ipynb`)."
   ]
  },
  {
   "cell_type": "code",
   "execution_count": 99,
   "metadata": {},
   "outputs": [
    {
     "name": "stdout",
     "output_type": "stream",
     "text": [
      "CPU times: user 10.1 ms, sys: 8 µs, total: 10.2 ms\n",
      "Wall time: 9.26 ms\n"
     ]
    }
   ],
   "source": [
    "%%time\n",
    "test_path = corpus_path + \"test-set/cantemist-ner/\"\n",
    "test_files = [f for f in os.listdir(test_path) if os.path.isfile(test_path + f) and f.split('.')[-1] == 'txt']\n",
    "test_data = load_text_files(test_files, test_path)\n",
    "df_text_test = pd.DataFrame({'doc_id': [s.split('.txt')[0] for s in test_files], 'raw_text': test_data})"
   ]
  },
  {
   "cell_type": "code",
   "execution_count": 100,
   "metadata": {},
   "outputs": [
    {
     "data": {
      "text/plain": [
       "(300, 2)"
      ]
     },
     "execution_count": 100,
     "metadata": {},
     "output_type": "execute_result"
    }
   ],
   "source": [
    "df_text_test.shape"
   ]
  },
  {
   "cell_type": "code",
   "execution_count": 101,
   "metadata": {},
   "outputs": [
    {
     "data": {
      "text/html": [
       "<div>\n",
       "<style scoped>\n",
       "    .dataframe tbody tr th:only-of-type {\n",
       "        vertical-align: middle;\n",
       "    }\n",
       "\n",
       "    .dataframe tbody tr th {\n",
       "        vertical-align: top;\n",
       "    }\n",
       "\n",
       "    .dataframe thead th {\n",
       "        text-align: right;\n",
       "    }\n",
       "</style>\n",
       "<table border=\"1\" class=\"dataframe\">\n",
       "  <thead>\n",
       "    <tr style=\"text-align: right;\">\n",
       "      <th></th>\n",
       "      <th>doc_id</th>\n",
       "      <th>raw_text</th>\n",
       "    </tr>\n",
       "  </thead>\n",
       "  <tbody>\n",
       "    <tr>\n",
       "      <th>0</th>\n",
       "      <td>cc_onco877</td>\n",
       "      <td>Anamnesis\\nMujer de 59 años, alérgica a penici...</td>\n",
       "    </tr>\n",
       "    <tr>\n",
       "      <th>1</th>\n",
       "      <td>cc_onco1075</td>\n",
       "      <td>Anamnesis\\nMujer de 52 años, sin alergias cono...</td>\n",
       "    </tr>\n",
       "    <tr>\n",
       "      <th>2</th>\n",
       "      <td>cc_onco1450</td>\n",
       "      <td>Anamnesis\\nMujer de 51 años de edad, sin antec...</td>\n",
       "    </tr>\n",
       "    <tr>\n",
       "      <th>3</th>\n",
       "      <td>cc_onco1165</td>\n",
       "      <td>Anamnesis\\nPaciente varón de 75 años sin hábit...</td>\n",
       "    </tr>\n",
       "    <tr>\n",
       "      <th>4</th>\n",
       "      <td>cc_onco1298</td>\n",
       "      <td>Anamnesis\\nMujer de 60 años, exfumadora de 20 ...</td>\n",
       "    </tr>\n",
       "  </tbody>\n",
       "</table>\n",
       "</div>"
      ],
      "text/plain": [
       "        doc_id                                           raw_text\n",
       "0   cc_onco877  Anamnesis\\nMujer de 59 años, alérgica a penici...\n",
       "1  cc_onco1075  Anamnesis\\nMujer de 52 años, sin alergias cono...\n",
       "2  cc_onco1450  Anamnesis\\nMujer de 51 años de edad, sin antec...\n",
       "3  cc_onco1165  Anamnesis\\nPaciente varón de 75 años sin hábit...\n",
       "4  cc_onco1298  Anamnesis\\nMujer de 60 años, exfumadora de 20 ..."
      ]
     },
     "execution_count": 101,
     "metadata": {},
     "output_type": "execute_result"
    }
   ],
   "source": [
    "df_text_test.head()"
   ]
  },
  {
   "cell_type": "code",
   "execution_count": 102,
   "metadata": {},
   "outputs": [
    {
     "data": {
      "text/plain": [
       "'Anamnesis\\nMujer de 59 años, alérgica a penicilina y procaína. Fumadora activa (IPA: 43).\\nAntecedentes familiares: abuelo materno diagnosticado de carcinoma colon a los 70 años; madre diagnosticada de carcinoma de mama bilateral a los 50 años; padre fallecido de carcinoma gástrico a los 47 años; tres tías maternas diagnosticadas de carcinoma de mama a los 55, 56 y 57 años respectivamente; y tres primas afectas de cáncer de mama.\\nAntecedentes personales: bronquitis crónica, poliposis colónica, carcinoma ductal infiltrante clásico mama pT2pN0M0 G2 subtipo tumoral luminal a (RH: +, HER-2: negativo) intervenido en agosto de 2013 mediante tumorectomía mama izquierda (patrón round block) + biopsia selectiva ganglio centinela (negativo) y posterior QT adyuvante con esquema TC (paclitaxel-ciclofosfamida) x 4 ciclos.\\nAcude en noviembre de 2013 a visita de seguimiento tras finalizar tratamiento adyuvante. Asintomática.\\n\\nExploración física\\nTemperatura axilar 36,5ºC, tensión arterial 130/83 mm Hg, frecuencia cardiaca 90 lpm y saturación basal de oxígeno del 98 %.\\nConsciente, orientada en las tres esferas, eupneica en reposo. Buen estado general. Glasgow 15. Exploración mamaria: no se aprecian signos de inflamación, ulceración y/o asimetrías. No hay secreción ni retracción de pezón. No se palpan nódulos, masas ni adenopatías regionales. AC: tonos rítmicos, sin soplos. AP: hipoventilación en hemitórax izquierdo. Abdomen: anodino. Sin edemas ni signos de TVP en EEII.\\n\\nPruebas complementarias\\nTC con contraste: nódulos pulmonares de 10 mm en lóbulo superior derecho (LSD), que presenta amplio contacto con pleura y discreta especulación marginal (apariencia atípica para corresponder a enfermedad secundaria) y dos en lóbulo medio (LM) de bordes bien definidos, el mayor de 16 mm.\\nAnalítica general: bioquímica y hemograma sin alteraciones relevantes. Marcadores tumorales: Ca 15,3: 23,3 U/ml (0-30). CEA: 18,27 ng/ml (0-4,6).\\n\\nDiagnóstico\\n- Nódulos pulmonares a estudio.\\n- Carcinoma ductal infiltrante pT2pN0M0 luminal A.\\n\\nTratamiento\\nNo precisa tratamiento específico en este momento.\\n\\nEvolución\\nSe solicita PET/TC que confirma la existencia de nódulo de 1,3 mm en LSD con SUVmax 6,6 y nódulo de 10 mm en LM con SUVmax de 3; sin otros hallazgos.\\nTC craneoencefálica con contraste: no se evidencian imágenes que sugieran existencia de enfermedad secundaria a nivel encefálico. Espacios subaracnoideos de convexidad y sistema ventricular dentro de límites de normalidad.\\nTras presentar el caso en Comité de Tumores Tórax, se plantea intervención quirúrgica. El día 26/2/2014 se realiza resección atípica de ambos nódulos pulmonares (16 mm LSD y 12 mm LM), con resultado anatomopatológico de adenocarcinoma acinar focalmente mucosecretor de origen pulmonar G2 (perfil inmunohistoquímico, IHQ: TTF1:+). Determinación: mutación EGFR (RT-PCR Cobas®): negativa. Translocación ALK (IHQ Novocastra®): negativa.\\nTras la cirugía se solicita PET/TC que detecta hipercaptación en adenopatías 4R, 7, 10R con SUVmax hasta 4. Tras presentar el caso en comité multidisciplinar, se decide solicitar TC que no muestra hallazgos destacables y ecobroncoscopia (EBUS). Se procede a realizar punción-biopsia de adenopatías 4R y 7 resultando negativas para malignidad con hallazgos inflamatorios.\\nContinúa el seguimiento estrecho y en abril/2015 se detecta en TC nódulo pulmonar de 0,6 cm en LSD y aumento de CEA (8). En PET/TC se aprecia micronódulo LSD de 0,5 cm con SUVmax de 1,6 sospechoso de malignidad, sin más datos de enfermedad regional y/o a distancia. Se solicitan además pruebas funcionales respiratorias y broncoscopia, anodina.\\nAnte sospecha de recidiva local, se presenta nuevamente en Comité de Tumores Tórax y se plantea cirugía. Se interviene bajo anestesia general, el 25-6-2015 realizándose resección sublobar atípica en cuña de LSD, localizando nódulo en segmento posterior de LSD. El resultado anatomopatológico confirma adenocarcinoma moderadamente diferenciado de origen pulmonar pT1aN0M0 (perfil IHQ: TTF1:+, RH: -; Ki 67: 75 %). Posteriormente recibe QT adyuvante esquema cisplatino 75 mg/m2 IV d1 + VNR oral 60 mg/m2 d1y8 c/21d, x 4 ciclos con buena tolerancia y respuesta completa radiológica.\\nControles periódicos posteriores sin evidencia de enfermedad hasta que en mayo/2017 aparece en TC progresión de enfermedad con aparición de masa pulmonar izquierda, nódulos pulmonares metastásicos bilaterales, afectación metastásica ganglionar mediastínica e hiliar izquierda con diseminación ósea. Múltiples adenopatías y conglomerados mediastínicos, lesión blástica en cuerpo vertebral T5.\\nDurante la exploración física, destacaba palpación de conglomerado adenopático en región supraclavicular izquierda doloroso en la palpación.\\nSe solicitó determinación de perfil genómico con material de la biopsia de pieza quirúrgica tumoral previa a través de la plataforma Next Generation Sequencing (NGS) FoundationOne® en el que se identificaron amplificación ERBB2, mutación BRCA-1 (variante D1692fs*10), amplificación MYC, mutación TP53 (splicesite 920-1G>T), además de una alta carga mutacional (TMB-High; 42Muts/Mb).\\nSe solicitó adicionalmente determinación por inmunohistoquímica de PD-L1, encontrando expresión del mismo en menos del 1 % (sin expresión).\\nSe confirma en gammagrafía ósea presencia de múltiples metástasis óseas distribuidas en calota, parrilla costal, raquis, esternón, ambos húmeros, pelvis y fémur derecho.\\nCon todos los hallazgos clínico-radiológicos y perfil genómico e IHQ tumoral, valorando las diferentes opciones terapéuticas, se decide iniciar primera línea de QT paliativa con esquema carboplatino AUC-5+ pemetrexed 500 mg/m2 IV d1 c/21d + ácido zoledrónico 4 mg IV.\\nEn la actualidad, ha completado 2 ciclos con buena tolerancia y se ha solicitado radioterapia paliativa antiálgica sobre lesiones óseas pélvicas, debido al mal control del dolor a pesar de analgesia de tercer escalón.'"
      ]
     },
     "execution_count": 102,
     "metadata": {},
     "output_type": "execute_result"
    }
   ],
   "source": [
    "df_text_test.raw_text[0]"
   ]
  },
  {
   "cell_type": "code",
   "execution_count": 103,
   "metadata": {},
   "outputs": [],
   "source": [
    "test_doc_list = sorted(set(df_text_test[\"doc_id\"]))"
   ]
  },
  {
   "cell_type": "code",
   "execution_count": 104,
   "metadata": {},
   "outputs": [
    {
     "data": {
      "text/plain": [
       "300"
      ]
     },
     "execution_count": 104,
     "metadata": {},
     "output_type": "execute_result"
    }
   ],
   "source": [
    "len(test_doc_list)"
   ]
  },
  {
   "cell_type": "code",
   "execution_count": 105,
   "metadata": {},
   "outputs": [
    {
     "name": "stdout",
     "output_type": "stream",
     "text": [
      "CPU times: user 150 ms, sys: 16 ms, total: 166 ms\n",
      "Wall time: 166 ms\n"
     ]
    }
   ],
   "source": [
    "%%time\n",
    "ss_sub_corpus_path = ss_corpus_path + \"test-background/\"\n",
    "ss_files = [f for f in os.listdir(ss_sub_corpus_path) if os.path.isfile(ss_sub_corpus_path + f)]\n",
    "ss_dict_test = load_ss_files(ss_files, ss_sub_corpus_path)"
   ]
  },
  {
   "cell_type": "code",
   "execution_count": 106,
   "metadata": {},
   "outputs": [
    {
     "name": "stderr",
     "output_type": "stream",
     "text": [
      "100%|██████████| 300/300 [00:02<00:00, 133.27it/s]\n"
     ]
    },
    {
     "name": "stdout",
     "output_type": "stream",
     "text": [
      "CPU times: user 2.41 s, sys: 12.1 ms, total: 2.42 s\n",
      "Wall time: 2.4 s\n"
     ]
    }
   ],
   "source": [
    "%%time\n",
    "test_ind, test_att, _, test_frag, _ = ss_create_frag_input_data_xlmr(df_text=df_text_test, \n",
    "                                                  text_col=text_col,\n",
    "                                                  # Since labels are ignored, we pass df_codes_train_ner as df_ann\n",
    "                                                  df_ann=df_codes_train_ner, doc_list=test_doc_list, ss_dict=ss_dict_test,\n",
    "                                                  tokenizer=tokenizer, sp_pb2=spt, lab_encoder=mlb_encoder, seq_len=SEQ_LEN)"
   ]
  },
  {
   "cell_type": "code",
   "execution_count": null,
   "metadata": {},
   "outputs": [],
   "source": [
    "%%time\n",
    "test_preds = model.predict({'input_ids': test_ind, 'attention_mask': test_att})"
   ]
  },
  {
   "cell_type": "code",
   "execution_count": 120,
   "metadata": {},
   "outputs": [
    {
     "data": {
      "text/plain": [
       "(3955, 727)"
      ]
     },
     "execution_count": 120,
     "metadata": {},
     "output_type": "execute_result"
    }
   ],
   "source": [
    "test_preds.shape"
   ]
  },
  {
   "cell_type": "code",
   "execution_count": 97,
   "metadata": {},
   "outputs": [],
   "source": [
    "results_dir_path = \"../results/Cantemist-Coding/\""
   ]
  },
  {
   "cell_type": "code",
   "execution_count": 178,
   "metadata": {},
   "outputs": [
    {
     "name": "stdout",
     "output_type": "stream",
     "text": [
      "CPU times: user 2.21 ms, sys: 4.65 ms, total: 6.87 ms\n",
      "Wall time: 6.02 ms\n"
     ]
    }
   ],
   "source": [
    "%%time\n",
    "np.save(file=results_dir_path + \"predictions/xlm_r_seed_\" + str(random_seed) + \"_test_preds.npy\", arr=test_preds)"
   ]
  },
  {
   "cell_type": "code",
   "execution_count": 107,
   "metadata": {},
   "outputs": [],
   "source": [
    "# To be further used when evaluating model performance at document level\n",
    "np.save(file=results_dir_path + \"xlm_r_test_frags.npy\", arr=test_frag)\n",
    "np.save(file=results_dir_path + \"classes.npy\", arr=mlb_encoder.classes_)\n",
    "np.save(file=results_dir_path + \"test_docs.npy\", arr=test_doc_list)"
   ]
  }
 ],
 "metadata": {
  "kernelspec": {
   "display_name": "Python 3",
   "language": "python",
   "name": "python3"
  },
  "language_info": {
   "codemirror_mode": {
    "name": "ipython",
    "version": 3
   },
   "file_extension": ".py",
   "mimetype": "text/x-python",
   "name": "python",
   "nbconvert_exporter": "python",
   "pygments_lexer": "ipython3",
   "version": "3.6.5"
  }
 },
 "nbformat": 4,
 "nbformat_minor": 4
}
