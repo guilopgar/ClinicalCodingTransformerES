{
 "cells": [
  {
   "cell_type": "markdown",
   "metadata": {},
   "source": [
    "# Fine-tuning mBERT-Galén on Cantemist-Coding\n",
    "\n",
    "In this notebook, following a multi-label sequence classification approach, the mBERT-Galén model is fine-tuned on both the training and development sets of the Cantemist-Coding corpus. Additionally, the predictions made by the model on the test set are saved, in order to futher evaluate the clinical coding performance of the model (see `results/Cantemist-Coding/Evaluation.ipynb`)."
   ]
  },
  {
   "cell_type": "code",
   "execution_count": 1,
   "metadata": {},
   "outputs": [
    {
     "name": "stderr",
     "output_type": "stream",
     "text": [
      "Using TensorFlow backend.\n"
     ]
    }
   ],
   "source": [
    "import tensorflow as tf\n",
    "\n",
    "# Auxiliary components\n",
    "import sys\n",
    "sys.path.append(\"..\")\n",
    "from nlp_utils import *\n",
    "\n",
    "# mBERT tokenizer\n",
    "from keras_bert import load_vocabulary, Tokenizer\n",
    "model_path = \"multi_cased_L-12_H-768_A-12/\"\n",
    "config_path = model_path + \"bert_config.json\"\n",
    "checkpoint_path = model_path + \"mBERT-Galen/model.ckpt-1000000\"\n",
    "vocab_file = \"vocab.txt\"\n",
    "tokenizer = Tokenizer(token_dict=load_vocabulary(model_path + vocab_file), pad_index=0, cased=True)\n",
    "\n",
    "# Hyper-parameters\n",
    "text_col = \"raw_text\"\n",
    "training = False\n",
    "trainable = True\n",
    "SEQ_LEN = 128\n",
    "BATCH_SIZE = 16\n",
    "EPOCHS = 18\n",
    "LR = 3e-5\n",
    "\n",
    "random_seed = 0\n",
    "tf.set_random_seed(random_seed)"
   ]
  },
  {
   "cell_type": "markdown",
   "metadata": {},
   "source": [
    "## Load text\n",
    "\n",
    "Firstly, all text files from training and development Cantemist corpora are loaded in different dataframes.\n",
    "\n",
    "Also, CIE-O codes are loaded."
   ]
  },
  {
   "cell_type": "code",
   "execution_count": 2,
   "metadata": {},
   "outputs": [],
   "source": [
    "corpus_path = \"../datasets/cantemist_v6/\"\n",
    "sub_task_path = \"cantemist-coding/\""
   ]
  },
  {
   "cell_type": "markdown",
   "metadata": {},
   "source": [
    "### Training corpus"
   ]
  },
  {
   "cell_type": "code",
   "execution_count": 3,
   "metadata": {},
   "outputs": [
    {
     "name": "stdout",
     "output_type": "stream",
     "text": [
      "CPU times: user 16.8 ms, sys: 92 µs, total: 16.9 ms\n",
      "Wall time: 16.7 ms\n"
     ]
    }
   ],
   "source": [
    "%%time\n",
    "train_path = corpus_path + \"train-set/\" + sub_task_path + \"txt/\"\n",
    "train_files = [f for f in os.listdir(train_path) if os.path.isfile(train_path + f)]\n",
    "n_train_files = len(train_files)\n",
    "train_data = load_text_files(train_files, train_path)\n",
    "dev1_path = corpus_path + \"dev-set1/\" + sub_task_path + \"txt/\"\n",
    "train_files.extend([f for f in os.listdir(dev1_path) if os.path.isfile(dev1_path + f)])\n",
    "train_data.extend(load_text_files(train_files[n_train_files:], dev1_path))\n",
    "df_text_train = pd.DataFrame({'doc_id': [s.split('.txt')[0] for s in train_files], 'raw_text': train_data})"
   ]
  },
  {
   "cell_type": "code",
   "execution_count": 4,
   "metadata": {},
   "outputs": [
    {
     "data": {
      "text/plain": [
       "(751, 2)"
      ]
     },
     "execution_count": 4,
     "metadata": {},
     "output_type": "execute_result"
    }
   ],
   "source": [
    "df_text_train.shape"
   ]
  },
  {
   "cell_type": "code",
   "execution_count": 5,
   "metadata": {},
   "outputs": [
    {
     "data": {
      "text/html": [
       "<div>\n",
       "<style scoped>\n",
       "    .dataframe tbody tr th:only-of-type {\n",
       "        vertical-align: middle;\n",
       "    }\n",
       "\n",
       "    .dataframe tbody tr th {\n",
       "        vertical-align: top;\n",
       "    }\n",
       "\n",
       "    .dataframe thead th {\n",
       "        text-align: right;\n",
       "    }\n",
       "</style>\n",
       "<table border=\"1\" class=\"dataframe\">\n",
       "  <thead>\n",
       "    <tr style=\"text-align: right;\">\n",
       "      <th></th>\n",
       "      <th>doc_id</th>\n",
       "      <th>raw_text</th>\n",
       "    </tr>\n",
       "  </thead>\n",
       "  <tbody>\n",
       "    <tr>\n",
       "      <th>0</th>\n",
       "      <td>cc_onco453</td>\n",
       "      <td>Anamnesis\\nSe trata de un varón de 55 años, ex...</td>\n",
       "    </tr>\n",
       "    <tr>\n",
       "      <th>1</th>\n",
       "      <td>cc_onco962</td>\n",
       "      <td>Anamnesis\\nMujer de 40 años que consulta por l...</td>\n",
       "    </tr>\n",
       "    <tr>\n",
       "      <th>2</th>\n",
       "      <td>cc_onco989</td>\n",
       "      <td>Anamnesis\\nPaciente de 43 años, perimenopáusic...</td>\n",
       "    </tr>\n",
       "    <tr>\n",
       "      <th>3</th>\n",
       "      <td>cc_onco187</td>\n",
       "      <td>Anamnesis\\nVarón de 72 años, exfumador y bebed...</td>\n",
       "    </tr>\n",
       "    <tr>\n",
       "      <th>4</th>\n",
       "      <td>cc_onco164</td>\n",
       "      <td>Anamnesis\\nMujer de 51 años, sin alergias medi...</td>\n",
       "    </tr>\n",
       "  </tbody>\n",
       "</table>\n",
       "</div>"
      ],
      "text/plain": [
       "       doc_id                                           raw_text\n",
       "0  cc_onco453  Anamnesis\\nSe trata de un varón de 55 años, ex...\n",
       "1  cc_onco962  Anamnesis\\nMujer de 40 años que consulta por l...\n",
       "2  cc_onco989  Anamnesis\\nPaciente de 43 años, perimenopáusic...\n",
       "3  cc_onco187  Anamnesis\\nVarón de 72 años, exfumador y bebed...\n",
       "4  cc_onco164  Anamnesis\\nMujer de 51 años, sin alergias medi..."
      ]
     },
     "execution_count": 5,
     "metadata": {},
     "output_type": "execute_result"
    }
   ],
   "source": [
    "df_text_train.head()"
   ]
  },
  {
   "cell_type": "code",
   "execution_count": 6,
   "metadata": {},
   "outputs": [
    {
     "data": {
      "text/plain": [
       "'Anamnesis\\nSe trata de un varón de 55 años, ex fumador con un índice tabáquico de 40 paquetes-año, HTA, sin antecedentes familiares de interés, en tratamiento con ácido fólico, omeprazol, hierro oral y risperidona.\\nEn junio de 2017, es diagnosticado a raíz de una trombosis iliaca derecha de una masa tumoral pobremente diferenciada que infiltraba tercio distal de apéndice cecal, con obliteración del paquete vascular iliaco, así como infiltración del uréter derecho, condicionando ureterohidronefrosis derecha grado cuatro.\\nSe realiza biopsia de la lesión, con hallazgos anatomopatológicos de neoplasia fusocelular con inmunohistoquímica (IHC) sugerente de origen urotelial con diferenciación sarcomatoide (positividad para p63, p40, GATA3, CD99, EMA CAM 5.2, CK 34, beta E12, CK7, negatividad para CK20, S100, CD34, cKIT y TTF1), con SYT no reordenado.\\nSe lleva a cabo intervención en julio de 2017 con extirpación de la masa tumoral, resección ileocecal, dejando ileostomía terminal y bypass extraanatómico femorofemoral.\\nEn octubre de 2017, se observa en TC toracoabdominopélvica una lesión hepática de nueva aparición que sugiere de metástasis.\\nCon juicio clínico de carcinoma urotelial de alto grado con diferenciación sarcomatoide estadio IV (pT4N2M1) por afectación hepática, se decide iniciar tratamiento sistémico de primera línea en febrero de 2018 dentro de ensayo clínico con antiPD1 y antiCTLA4 hasta julio de 2018, presentando buena tolerancia al tratamiento, pero con progresión de la enfermedad a nivel hepático.\\nInicia entonces segunda línea de tratamiento con carboplatino AUC5 día 1 y gemcitabina 1.000 mg/m2 días 1 y 8 cada 21 días, el 20 de agosto de 2018.\\nEn octubre de 2018, tras cinco ciclos de quimioterapia y una dosis acumulada de gemcitabina de 10.000 mg/m2, el paciente refiere aparición de lesiones ulceradas y dolorosas en regiones acras de dedos de manos.\\nCon sospecha de isquemia digital aguda, es derivado a Urgencias para valoración por Cirugía Vascular.\\n\\nExploración física\\nDurante la exploración física no presenta esclerodactilia, telangiectasias ni otras lesiones sugerentes de conectivopatías. Los pulsos radiales presentes y cubitales ausentes, con relleno capilar sin alteraciones.\\n\\nPruebas complementarias\\nEn analítica destacaba anemia normocítica normocroma grado 1 con Hb 10,2 g/dl (rango 13-15,5), sin otros hallazgos relevantes.\\nSe realiza estudio de autoanticuerpos (ENAS negativos, ANA positivo [1/80], anticuerpo (Ac) anti-P cíclico citrulinado negativo, Ac beta2-glicoproteina IgM e IgG negativos, cardiolipina IgG e IgM negativos, C-ANCAS y P-ANCAS negativos, VSG 137mm [rango 1,00-15] y crioglobulinas débilmente positivas) y estudio serológico con hallazgos de infección pasada de VHE y resto de virus hepatotropos negativos.\\nSe lleva a cabo eco-Doppler de miembros superiores en la que destaca alteración de flujo en arteria cubital derecha, y ecocardiograma transtorácico sin signos de endocarditis infecciosa.\\nEn la capilaroscopia como única alteración, destaca la presencia en segundo dedo de mano izquierda una hemorragia aislada, con distribución y densidad capilar conservada.\\n\\nDiagnóstico\\nCon estas pruebas, el paciente es diagnosticado de isquemia digital con datos de afectación macrovascular en relación al tratamiento de gemcitabina.\\n\\nTratamiento\\nEl paciente inicia tratamiento con prostaglandinas (PG) y anticoagulación con heparina de bajo peso molecular a dosis de 1 mg/kg cada 12 horas, experimentando mejoría progresiva de los síntomas y de las lesiones.\\n\\nEvolución\\nSe decide discontinuar tratamiento de quimioterapia, presentando respuesta parcial de la enfermedad tumoral con disminución de la masa pélvica, adenopatías retroperitoneales y de las metástasis hepáticas en TC de enero de 2019.'"
      ]
     },
     "execution_count": 6,
     "metadata": {},
     "output_type": "execute_result"
    }
   ],
   "source": [
    "df_text_train.raw_text[0]"
   ]
  },
  {
   "cell_type": "markdown",
   "metadata": {},
   "source": [
    "We also load the CIE-O codes table:"
   ]
  },
  {
   "cell_type": "code",
   "execution_count": 7,
   "metadata": {},
   "outputs": [],
   "source": [
    "df_codes_train = pd.concat([pd.read_table(corpus_path + \"train-set/\" + sub_task_path + \"train-coding.tsv\", \n",
    "                                 sep='\\t', header=0), \n",
    "                            pd.read_table(corpus_path + \"dev-set1/\" + sub_task_path + \"dev1-coding.tsv\", \n",
    "                                 sep='\\t', header=0)])"
   ]
  },
  {
   "cell_type": "code",
   "execution_count": 8,
   "metadata": {},
   "outputs": [
    {
     "data": {
      "text/plain": [
       "(4142, 2)"
      ]
     },
     "execution_count": 8,
     "metadata": {},
     "output_type": "execute_result"
    }
   ],
   "source": [
    "df_codes_train.shape"
   ]
  },
  {
   "cell_type": "code",
   "execution_count": 9,
   "metadata": {},
   "outputs": [],
   "source": [
    "df_codes_train[\"code\"] = df_codes_train[\"code\"].str.lower()"
   ]
  },
  {
   "cell_type": "code",
   "execution_count": 10,
   "metadata": {},
   "outputs": [
    {
     "data": {
      "text/html": [
       "<div>\n",
       "<style scoped>\n",
       "    .dataframe tbody tr th:only-of-type {\n",
       "        vertical-align: middle;\n",
       "    }\n",
       "\n",
       "    .dataframe tbody tr th {\n",
       "        vertical-align: top;\n",
       "    }\n",
       "\n",
       "    .dataframe thead th {\n",
       "        text-align: right;\n",
       "    }\n",
       "</style>\n",
       "<table border=\"1\" class=\"dataframe\">\n",
       "  <thead>\n",
       "    <tr style=\"text-align: right;\">\n",
       "      <th></th>\n",
       "      <th>file</th>\n",
       "      <th>code</th>\n",
       "    </tr>\n",
       "  </thead>\n",
       "  <tbody>\n",
       "    <tr>\n",
       "      <th>0</th>\n",
       "      <td>cc_onco860</td>\n",
       "      <td>8140/3</td>\n",
       "    </tr>\n",
       "    <tr>\n",
       "      <th>1</th>\n",
       "      <td>cc_onco860</td>\n",
       "      <td>8000/6</td>\n",
       "    </tr>\n",
       "    <tr>\n",
       "      <th>2</th>\n",
       "      <td>cc_onco860</td>\n",
       "      <td>8140/6</td>\n",
       "    </tr>\n",
       "    <tr>\n",
       "      <th>3</th>\n",
       "      <td>cc_onco98</td>\n",
       "      <td>8000/6</td>\n",
       "    </tr>\n",
       "    <tr>\n",
       "      <th>4</th>\n",
       "      <td>cc_onco98</td>\n",
       "      <td>8070/3</td>\n",
       "    </tr>\n",
       "  </tbody>\n",
       "</table>\n",
       "</div>"
      ],
      "text/plain": [
       "         file    code\n",
       "0  cc_onco860  8140/3\n",
       "1  cc_onco860  8000/6\n",
       "2  cc_onco860  8140/6\n",
       "3   cc_onco98  8000/6\n",
       "4   cc_onco98  8070/3"
      ]
     },
     "execution_count": 10,
     "metadata": {},
     "output_type": "execute_result"
    }
   ],
   "source": [
    "df_codes_train.head()"
   ]
  },
  {
   "cell_type": "code",
   "execution_count": 11,
   "metadata": {},
   "outputs": [
    {
     "data": {
      "text/html": [
       "<div>\n",
       "<style scoped>\n",
       "    .dataframe tbody tr th:only-of-type {\n",
       "        vertical-align: middle;\n",
       "    }\n",
       "\n",
       "    .dataframe tbody tr th {\n",
       "        vertical-align: top;\n",
       "    }\n",
       "\n",
       "    .dataframe thead th {\n",
       "        text-align: right;\n",
       "    }\n",
       "</style>\n",
       "<table border=\"1\" class=\"dataframe\">\n",
       "  <thead>\n",
       "    <tr style=\"text-align: right;\">\n",
       "      <th></th>\n",
       "      <th>file</th>\n",
       "      <th>code</th>\n",
       "    </tr>\n",
       "  </thead>\n",
       "  <tbody>\n",
       "    <tr>\n",
       "      <th>1862</th>\n",
       "      <td>cc_onco768</td>\n",
       "      <td>9080/1</td>\n",
       "    </tr>\n",
       "    <tr>\n",
       "      <th>1863</th>\n",
       "      <td>cc_onco768</td>\n",
       "      <td>9080/1</td>\n",
       "    </tr>\n",
       "  </tbody>\n",
       "</table>\n",
       "</div>"
      ],
      "text/plain": [
       "            file    code\n",
       "1862  cc_onco768  9080/1\n",
       "1863  cc_onco768  9080/1"
      ]
     },
     "execution_count": 11,
     "metadata": {},
     "output_type": "execute_result"
    }
   ],
   "source": [
    "df_codes_train[df_codes_train.duplicated(keep=False)]"
   ]
  },
  {
   "cell_type": "code",
   "execution_count": 12,
   "metadata": {},
   "outputs": [],
   "source": [
    "df_codes_train = df_codes_train[~df_codes_train.duplicated(keep='first')]"
   ]
  },
  {
   "cell_type": "code",
   "execution_count": 13,
   "metadata": {},
   "outputs": [
    {
     "data": {
      "text/plain": [
       "(4141, 2)"
      ]
     },
     "execution_count": 13,
     "metadata": {},
     "output_type": "execute_result"
    }
   ],
   "source": [
    "df_codes_train.shape"
   ]
  },
  {
   "cell_type": "code",
   "execution_count": 14,
   "metadata": {},
   "outputs": [
    {
     "data": {
      "text/plain": [
       "750"
      ]
     },
     "execution_count": 14,
     "metadata": {},
     "output_type": "execute_result"
    }
   ],
   "source": [
    "len(set(df_codes_train[\"file\"]))"
   ]
  },
  {
   "cell_type": "markdown",
   "metadata": {},
   "source": [
    "### Development corpus"
   ]
  },
  {
   "cell_type": "code",
   "execution_count": 15,
   "metadata": {},
   "outputs": [
    {
     "name": "stdout",
     "output_type": "stream",
     "text": [
      "CPU times: user 6.33 ms, sys: 0 ns, total: 6.33 ms\n",
      "Wall time: 6.07 ms\n"
     ]
    }
   ],
   "source": [
    "%%time\n",
    "dev_path = corpus_path + \"dev-set2/\" + sub_task_path + \"txt/\"\n",
    "dev_files = [f for f in os.listdir(dev_path) if os.path.isfile(dev_path + f)]\n",
    "dev_data = load_text_files(dev_files, dev_path)\n",
    "df_text_dev = pd.DataFrame({'doc_id': [s.split('.txt')[0] for s in dev_files], 'raw_text': dev_data})"
   ]
  },
  {
   "cell_type": "code",
   "execution_count": 16,
   "metadata": {},
   "outputs": [
    {
     "data": {
      "text/plain": [
       "(250, 2)"
      ]
     },
     "execution_count": 16,
     "metadata": {},
     "output_type": "execute_result"
    }
   ],
   "source": [
    "df_text_dev.shape"
   ]
  },
  {
   "cell_type": "code",
   "execution_count": 17,
   "metadata": {},
   "outputs": [
    {
     "data": {
      "text/html": [
       "<div>\n",
       "<style scoped>\n",
       "    .dataframe tbody tr th:only-of-type {\n",
       "        vertical-align: middle;\n",
       "    }\n",
       "\n",
       "    .dataframe tbody tr th {\n",
       "        vertical-align: top;\n",
       "    }\n",
       "\n",
       "    .dataframe thead th {\n",
       "        text-align: right;\n",
       "    }\n",
       "</style>\n",
       "<table border=\"1\" class=\"dataframe\">\n",
       "  <thead>\n",
       "    <tr style=\"text-align: right;\">\n",
       "      <th></th>\n",
       "      <th>doc_id</th>\n",
       "      <th>raw_text</th>\n",
       "    </tr>\n",
       "  </thead>\n",
       "  <tbody>\n",
       "    <tr>\n",
       "      <th>0</th>\n",
       "      <td>cc_onco1183</td>\n",
       "      <td>Anamnesis\\nVarón de 48 años que acude en agost...</td>\n",
       "    </tr>\n",
       "    <tr>\n",
       "      <th>1</th>\n",
       "      <td>cc_onco751</td>\n",
       "      <td>Anamnesis\\nHombre de 71 años de edad con antec...</td>\n",
       "    </tr>\n",
       "    <tr>\n",
       "      <th>2</th>\n",
       "      <td>cc_onco1384</td>\n",
       "      <td>Anamnesis\\nVarón de 30 años, sin antecedentes ...</td>\n",
       "    </tr>\n",
       "    <tr>\n",
       "      <th>3</th>\n",
       "      <td>cc_onco1208</td>\n",
       "      <td>Anamnesis\\nVarón de 76 años diagnosticado en a...</td>\n",
       "    </tr>\n",
       "    <tr>\n",
       "      <th>4</th>\n",
       "      <td>cc_onco734</td>\n",
       "      <td>Anamnesis\\nTras canalización del reservorio ce...</td>\n",
       "    </tr>\n",
       "  </tbody>\n",
       "</table>\n",
       "</div>"
      ],
      "text/plain": [
       "        doc_id                                           raw_text\n",
       "0  cc_onco1183  Anamnesis\\nVarón de 48 años que acude en agost...\n",
       "1   cc_onco751  Anamnesis\\nHombre de 71 años de edad con antec...\n",
       "2  cc_onco1384  Anamnesis\\nVarón de 30 años, sin antecedentes ...\n",
       "3  cc_onco1208  Anamnesis\\nVarón de 76 años diagnosticado en a...\n",
       "4   cc_onco734  Anamnesis\\nTras canalización del reservorio ce..."
      ]
     },
     "execution_count": 17,
     "metadata": {},
     "output_type": "execute_result"
    }
   ],
   "source": [
    "df_text_dev.head()"
   ]
  },
  {
   "cell_type": "code",
   "execution_count": 18,
   "metadata": {},
   "outputs": [
    {
     "data": {
      "text/plain": [
       "'Anamnesis\\nVarón de 48 años que acude en agosto de 2012 tras la realización de amputación en hallux derecho a la primera valoración por Oncología Médica.\\nAntecedentes: no alérgicos. Patológicos: diabético hace 3 años sin tratamiento. HTA en tratamiento. Enolismo crónico.\\nTrastorno afectivo bipolar. Quirúrgicos: apendicectomizado.\\nEnfermedad actual: desde hace 2 años presentaba una lesión hiperpigmentada en el hallux del pie derecho, que ocasionalmente sangraba.\\n\\nExamen físico\\nMuñón de hallux derecho en buen estado, presencia de adenopatías inguinales derechas. Resto de exploración sin alteraciones.\\n\\nPruebas complementarias\\n- Biopsia cutánea: melanoma ulcerado.\\n- AP de resección de melanoma: melanoma lentiginoso acral en fase de crecimiento vertical, ulcerado. Clark IV. Breslow 6,8 mm, sin infiltración linfovascular.\\n- TC de tórax-abdomen-pelvis: sin signos concluyentes de extensión tóraco-abdómino-pélvica de melanoma.\\nMicronódulos en el lóbulo superior derecho a valorar en controles sucesivos.\\n- Se realiza linfadenectomía inguinal electiva en octubre de 2012.\\n- AP: metástasis de melanoma en 4 de los 13 ganglios aislados.\\n\\nDiagnóstico\\nMelanoma lentiginoso acral en fase de crecimiento vertical ulcerado Clarck IV Breslow6,8 mm pT4b N2a M0 estadio IIIB.\\n\\nTratamiento\\nEn enero de 2013 inicia tratamiento adyuvante con interferón a altas dosis según el esquema Kirkwood, este se basa en el estudio ECOG 1684: interferón alfa-2b 20 millones de unidades i.v. x 20 días, seguido de 10 millones de unidades s.c. 3 veces a la semana durante 48 semanas. El paciente tuvo buena tolerancia a la fase de inducción y a la fase de mantenimiento.\\nEn agosto de 2013 se detecta un nódulo subcutáneo de 1,5 cm en la zona de la cicatriz del hallux derecho y también una lesión en la cara interna de la pierna derecha de 0,5 cm. Se considera recidiva intratratamiento, por lo que se interviene, realizándose exéresis local y ampliación de márgenes.\\nAP: melanoma de 2,4 x 0,7 x 0,8 cm con afectación del margen de resección.\\nSe decide enviar a Oncología Radioterápica por margen afecto.\\n\\nEvolución\\nDe septiembre a octubre de 2013 recibe tratamiento radioterápico \"adyuvante\": PTV en la lesión guiada por cicatriz en el pie derecho más 3 cm de margen, fraccionamiento 2,5 Gy en 24 fracciones hasta adminsitrar una dosis total de 60 Gy.\\nEn noviembre de 2013 presenta progresión cutánea con 4 lesiones hipercrómicas localizadas en el muslo derecho. No hay datos de afectación tóraco-abdominal a distancia.\\nEntre tanto, se realiza determinación del estado mutacional de B-RAF, el cual es nativo.\\nA la progresión cutánea se propone tratamiento con DTIC (1.000 mg/m2 cada 21 días), administrando un primer ciclo en diciembre de 2013. En enero de 2014 acude a consulta con un cuadro de ictericia mucocutánea y coluria. Se detecta bilirrubina total de 7,7 mg/dl, bilirrubina directa de 5,9 mg/dl. ALT 2.022 UI/l, AST 840 UI/l. Se realizan una ecografía hepatobiliar, con resultado normal, y serología de virus de hepatitis, con resultado de perfil de hepatitis B aguda. Se remite al Servicio de Aparato Digestivo, quienes realizan tratamiento conservador, observándose en semanas posteriores un descenso marcado en los valores de bilirrubina, ALT y AST hasta la completa normalidad.\\nEntre tanto, presenta crecimiento de numerosas lesiones subcutáneas distribuidas en la cara anterior e interna del muslo derecho sin datos de afectación a distancia en la TC. Se considera metástasis en tránsito de melanoma, por lo que en marzo de 2014 inicia la administración de interleucina-2 intralesional. Se aplica 1 ml en cada una de las lesiones subcutáneas, cubriendo un total de 20 lesiones por cada ciclo administrado cada 14 días, sin presentar efectos secundarios sistémicos, salvo dolor EVA 3 en los puntos de instilación, que mejoraba con el paracetamol. Con este tratamiento completa 5 ciclos hasta el mayo de 2014, presentando desaparición de la mayoría de las lesiones, persistiendo algunas de localización central.\\nEl 30 de mayo de 2014 acude con una TC de reevaluación, objetivándose progresión inguinal izquierda y una adenopatía en la cadena iliaca externa derecha de 3,3 x 2,3 cm compatible con progresión. Se ha propuesto una nueva línea de tratamiento con ipilimumab, pendiente de iniciar.'"
      ]
     },
     "execution_count": 18,
     "metadata": {},
     "output_type": "execute_result"
    }
   ],
   "source": [
    "df_text_dev.raw_text[0]"
   ]
  },
  {
   "cell_type": "markdown",
   "metadata": {},
   "source": [
    "We also load the CIE-O codes table:"
   ]
  },
  {
   "cell_type": "code",
   "execution_count": 19,
   "metadata": {},
   "outputs": [],
   "source": [
    "df_codes_dev = pd.read_table(corpus_path + \"dev-set2/\" + sub_task_path + \"dev2-coding.tsv\", \n",
    "                                 sep='\\t', header=0)"
   ]
  },
  {
   "cell_type": "code",
   "execution_count": 20,
   "metadata": {},
   "outputs": [
    {
     "data": {
      "text/plain": [
       "(1279, 2)"
      ]
     },
     "execution_count": 20,
     "metadata": {},
     "output_type": "execute_result"
    }
   ],
   "source": [
    "df_codes_dev.shape"
   ]
  },
  {
   "cell_type": "code",
   "execution_count": 21,
   "metadata": {},
   "outputs": [],
   "source": [
    "df_codes_dev[\"code\"] = df_codes_dev[\"code\"].str.lower()"
   ]
  },
  {
   "cell_type": "code",
   "execution_count": 22,
   "metadata": {},
   "outputs": [
    {
     "data": {
      "text/html": [
       "<div>\n",
       "<style scoped>\n",
       "    .dataframe tbody tr th:only-of-type {\n",
       "        vertical-align: middle;\n",
       "    }\n",
       "\n",
       "    .dataframe tbody tr th {\n",
       "        vertical-align: top;\n",
       "    }\n",
       "\n",
       "    .dataframe thead th {\n",
       "        text-align: right;\n",
       "    }\n",
       "</style>\n",
       "<table border=\"1\" class=\"dataframe\">\n",
       "  <thead>\n",
       "    <tr style=\"text-align: right;\">\n",
       "      <th></th>\n",
       "      <th>file</th>\n",
       "      <th>code</th>\n",
       "    </tr>\n",
       "  </thead>\n",
       "  <tbody>\n",
       "    <tr>\n",
       "      <th>0</th>\n",
       "      <td>cc_onco1258</td>\n",
       "      <td>8000/6</td>\n",
       "    </tr>\n",
       "    <tr>\n",
       "      <th>1</th>\n",
       "      <td>cc_onco1258</td>\n",
       "      <td>8010/3</td>\n",
       "    </tr>\n",
       "    <tr>\n",
       "      <th>2</th>\n",
       "      <td>cc_onco1258</td>\n",
       "      <td>8010/3/h</td>\n",
       "    </tr>\n",
       "    <tr>\n",
       "      <th>3</th>\n",
       "      <td>cc_onco1258</td>\n",
       "      <td>8520/3</td>\n",
       "    </tr>\n",
       "    <tr>\n",
       "      <th>4</th>\n",
       "      <td>cc_onco1258</td>\n",
       "      <td>8000/3</td>\n",
       "    </tr>\n",
       "  </tbody>\n",
       "</table>\n",
       "</div>"
      ],
      "text/plain": [
       "          file      code\n",
       "0  cc_onco1258    8000/6\n",
       "1  cc_onco1258    8010/3\n",
       "2  cc_onco1258  8010/3/h\n",
       "3  cc_onco1258    8520/3\n",
       "4  cc_onco1258    8000/3"
      ]
     },
     "execution_count": 22,
     "metadata": {},
     "output_type": "execute_result"
    }
   ],
   "source": [
    "df_codes_dev.head()"
   ]
  },
  {
   "cell_type": "code",
   "execution_count": 23,
   "metadata": {},
   "outputs": [
    {
     "data": {
      "text/plain": [
       "250"
      ]
     },
     "execution_count": 23,
     "metadata": {},
     "output_type": "execute_result"
    }
   ],
   "source": [
    "len(set(df_codes_dev[\"file\"]))"
   ]
  },
  {
   "cell_type": "markdown",
   "metadata": {},
   "source": [
    "We join the training and development Cantemist codes dataframes together:"
   ]
  },
  {
   "cell_type": "code",
   "execution_count": 24,
   "metadata": {},
   "outputs": [],
   "source": [
    "df_codes_train_dev = pd.concat([df_codes_train, df_codes_dev])"
   ]
  },
  {
   "cell_type": "code",
   "execution_count": 25,
   "metadata": {},
   "outputs": [
    {
     "data": {
      "text/plain": [
       "(5420, 2)"
      ]
     },
     "execution_count": 25,
     "metadata": {},
     "output_type": "execute_result"
    }
   ],
   "source": [
    "df_codes_train_dev.shape"
   ]
  },
  {
   "cell_type": "code",
   "execution_count": 26,
   "metadata": {},
   "outputs": [
    {
     "data": {
      "text/html": [
       "<div>\n",
       "<style scoped>\n",
       "    .dataframe tbody tr th:only-of-type {\n",
       "        vertical-align: middle;\n",
       "    }\n",
       "\n",
       "    .dataframe tbody tr th {\n",
       "        vertical-align: top;\n",
       "    }\n",
       "\n",
       "    .dataframe thead th {\n",
       "        text-align: right;\n",
       "    }\n",
       "</style>\n",
       "<table border=\"1\" class=\"dataframe\">\n",
       "  <thead>\n",
       "    <tr style=\"text-align: right;\">\n",
       "      <th></th>\n",
       "      <th>file</th>\n",
       "      <th>code</th>\n",
       "    </tr>\n",
       "  </thead>\n",
       "  <tbody>\n",
       "    <tr>\n",
       "      <th>0</th>\n",
       "      <td>cc_onco860</td>\n",
       "      <td>8140/3</td>\n",
       "    </tr>\n",
       "    <tr>\n",
       "      <th>1</th>\n",
       "      <td>cc_onco860</td>\n",
       "      <td>8000/6</td>\n",
       "    </tr>\n",
       "    <tr>\n",
       "      <th>2</th>\n",
       "      <td>cc_onco860</td>\n",
       "      <td>8140/6</td>\n",
       "    </tr>\n",
       "    <tr>\n",
       "      <th>3</th>\n",
       "      <td>cc_onco98</td>\n",
       "      <td>8000/6</td>\n",
       "    </tr>\n",
       "    <tr>\n",
       "      <th>4</th>\n",
       "      <td>cc_onco98</td>\n",
       "      <td>8070/3</td>\n",
       "    </tr>\n",
       "  </tbody>\n",
       "</table>\n",
       "</div>"
      ],
      "text/plain": [
       "         file    code\n",
       "0  cc_onco860  8140/3\n",
       "1  cc_onco860  8000/6\n",
       "2  cc_onco860  8140/6\n",
       "3   cc_onco98  8000/6\n",
       "4   cc_onco98  8070/3"
      ]
     },
     "execution_count": 26,
     "metadata": {},
     "output_type": "execute_result"
    }
   ],
   "source": [
    "df_codes_train_dev.head()"
   ]
  },
  {
   "cell_type": "markdown",
   "metadata": {},
   "source": [
    "## Creating corpora of annotated sentences\n",
    "\n",
    "Leveraging the information available for the named-entity-recognition and normalization (NER-N) Cantemist-NORM task, we create both a training and a development corpus of annotated sentences with CIE-O codes."
   ]
  },
  {
   "cell_type": "markdown",
   "metadata": {},
   "source": [
    "Firstly, we pre-process the NER-N oncology-codes annotations available for both the training and development corpora."
   ]
  },
  {
   "cell_type": "code",
   "execution_count": 27,
   "metadata": {},
   "outputs": [],
   "source": [
    "# Training corpus"
   ]
  },
  {
   "cell_type": "code",
   "execution_count": 28,
   "metadata": {},
   "outputs": [],
   "source": [
    "train_norm_path = corpus_path + \"train-set/cantemist-norm/\"\n",
    "train_ann_files = [train_norm_path + f for f in os.listdir(train_norm_path) if f.split('.')[-1] == \"ann\"]\n",
    "dev1_norm_path = corpus_path + \"dev-set1/cantemist-norm/\"\n",
    "train_ann_files.extend([dev1_norm_path + f for f in os.listdir(dev1_norm_path) if f.split('.')[-1] == \"ann\"])"
   ]
  },
  {
   "cell_type": "code",
   "execution_count": 29,
   "metadata": {},
   "outputs": [
    {
     "data": {
      "text/plain": [
       "751"
      ]
     },
     "execution_count": 29,
     "metadata": {},
     "output_type": "execute_result"
    }
   ],
   "source": [
    "len(train_ann_files)"
   ]
  },
  {
   "cell_type": "code",
   "execution_count": 30,
   "metadata": {},
   "outputs": [],
   "source": [
    "df_codes_train_ner = process_brat_labels(train_ann_files).sort_values([\"doc_id\", \"start\", \"end\"])"
   ]
  },
  {
   "cell_type": "code",
   "execution_count": 31,
   "metadata": {},
   "outputs": [
    {
     "data": {
      "text/plain": [
       "(9737, 5)"
      ]
     },
     "execution_count": 31,
     "metadata": {},
     "output_type": "execute_result"
    }
   ],
   "source": [
    "df_codes_train_ner.shape"
   ]
  },
  {
   "cell_type": "code",
   "execution_count": 32,
   "metadata": {},
   "outputs": [],
   "source": [
    "df_codes_train_ner[\"code\"] = df_codes_train_ner[\"code\"].str.lower()"
   ]
  },
  {
   "cell_type": "code",
   "execution_count": 33,
   "metadata": {},
   "outputs": [
    {
     "data": {
      "text/html": [
       "<div>\n",
       "<style scoped>\n",
       "    .dataframe tbody tr th:only-of-type {\n",
       "        vertical-align: middle;\n",
       "    }\n",
       "\n",
       "    .dataframe tbody tr th {\n",
       "        vertical-align: top;\n",
       "    }\n",
       "\n",
       "    .dataframe thead th {\n",
       "        text-align: right;\n",
       "    }\n",
       "</style>\n",
       "<table border=\"1\" class=\"dataframe\">\n",
       "  <thead>\n",
       "    <tr style=\"text-align: right;\">\n",
       "      <th></th>\n",
       "      <th>doc_id</th>\n",
       "      <th>code</th>\n",
       "      <th>text_ref</th>\n",
       "      <th>start</th>\n",
       "      <th>end</th>\n",
       "    </tr>\n",
       "  </thead>\n",
       "  <tbody>\n",
       "    <tr>\n",
       "      <th>5230</th>\n",
       "      <td>cc_onco1</td>\n",
       "      <td>8041/3</td>\n",
       "      <td>Carcinoma microcítico</td>\n",
       "      <td>2719</td>\n",
       "      <td>2740</td>\n",
       "    </tr>\n",
       "    <tr>\n",
       "      <th>5231</th>\n",
       "      <td>cc_onco1</td>\n",
       "      <td>8041/3</td>\n",
       "      <td>carcinoma microcítico</td>\n",
       "      <td>2950</td>\n",
       "      <td>2971</td>\n",
       "    </tr>\n",
       "    <tr>\n",
       "      <th>5232</th>\n",
       "      <td>cc_onco1</td>\n",
       "      <td>8000/6</td>\n",
       "      <td>M0</td>\n",
       "      <td>2988</td>\n",
       "      <td>2990</td>\n",
       "    </tr>\n",
       "    <tr>\n",
       "      <th>97</th>\n",
       "      <td>cc_onco10</td>\n",
       "      <td>8000/1</td>\n",
       "      <td>tumor</td>\n",
       "      <td>212</td>\n",
       "      <td>217</td>\n",
       "    </tr>\n",
       "    <tr>\n",
       "      <th>95</th>\n",
       "      <td>cc_onco10</td>\n",
       "      <td>8000/1</td>\n",
       "      <td>neoplasia</td>\n",
       "      <td>976</td>\n",
       "      <td>985</td>\n",
       "    </tr>\n",
       "  </tbody>\n",
       "</table>\n",
       "</div>"
      ],
      "text/plain": [
       "         doc_id    code               text_ref  start   end\n",
       "5230   cc_onco1  8041/3  Carcinoma microcítico   2719  2740\n",
       "5231   cc_onco1  8041/3  carcinoma microcítico   2950  2971\n",
       "5232   cc_onco1  8000/6                     M0   2988  2990\n",
       "97    cc_onco10  8000/1                  tumor    212   217\n",
       "95    cc_onco10  8000/1              neoplasia    976   985"
      ]
     },
     "execution_count": 33,
     "metadata": {},
     "output_type": "execute_result"
    }
   ],
   "source": [
    "df_codes_train_ner.head()"
   ]
  },
  {
   "cell_type": "code",
   "execution_count": 34,
   "metadata": {},
   "outputs": [
    {
     "data": {
      "text/plain": [
       "750"
      ]
     },
     "execution_count": 34,
     "metadata": {},
     "output_type": "execute_result"
    }
   ],
   "source": [
    "len(set(df_codes_train_ner[\"doc_id\"]))"
   ]
  },
  {
   "cell_type": "code",
   "execution_count": 35,
   "metadata": {},
   "outputs": [],
   "source": [
    "# Development corpus"
   ]
  },
  {
   "cell_type": "code",
   "execution_count": 36,
   "metadata": {},
   "outputs": [],
   "source": [
    "dev_norm_path = corpus_path + \"dev-set2/cantemist-norm/\"\n",
    "dev_ann_files = [dev_norm_path + f for f in os.listdir(dev_norm_path) if f.split('.')[-1] == \"ann\"]"
   ]
  },
  {
   "cell_type": "code",
   "execution_count": 37,
   "metadata": {},
   "outputs": [
    {
     "data": {
      "text/plain": [
       "250"
      ]
     },
     "execution_count": 37,
     "metadata": {},
     "output_type": "execute_result"
    }
   ],
   "source": [
    "len(dev_ann_files)"
   ]
  },
  {
   "cell_type": "code",
   "execution_count": 38,
   "metadata": {},
   "outputs": [],
   "source": [
    "df_codes_dev_ner = process_brat_labels(dev_ann_files).sort_values([\"doc_id\", \"start\", \"end\"])"
   ]
  },
  {
   "cell_type": "code",
   "execution_count": 39,
   "metadata": {},
   "outputs": [
    {
     "data": {
      "text/plain": [
       "(2660, 5)"
      ]
     },
     "execution_count": 39,
     "metadata": {},
     "output_type": "execute_result"
    }
   ],
   "source": [
    "df_codes_dev_ner.shape"
   ]
  },
  {
   "cell_type": "code",
   "execution_count": 40,
   "metadata": {},
   "outputs": [],
   "source": [
    "df_codes_dev_ner[\"code\"] = df_codes_dev_ner[\"code\"].str.lower()"
   ]
  },
  {
   "cell_type": "code",
   "execution_count": 41,
   "metadata": {},
   "outputs": [
    {
     "data": {
      "text/html": [
       "<div>\n",
       "<style scoped>\n",
       "    .dataframe tbody tr th:only-of-type {\n",
       "        vertical-align: middle;\n",
       "    }\n",
       "\n",
       "    .dataframe tbody tr th {\n",
       "        vertical-align: top;\n",
       "    }\n",
       "\n",
       "    .dataframe thead th {\n",
       "        text-align: right;\n",
       "    }\n",
       "</style>\n",
       "<table border=\"1\" class=\"dataframe\">\n",
       "  <thead>\n",
       "    <tr style=\"text-align: right;\">\n",
       "      <th></th>\n",
       "      <th>doc_id</th>\n",
       "      <th>code</th>\n",
       "      <th>text_ref</th>\n",
       "      <th>start</th>\n",
       "      <th>end</th>\n",
       "    </tr>\n",
       "  </thead>\n",
       "  <tbody>\n",
       "    <tr>\n",
       "      <th>1852</th>\n",
       "      <td>cc_onco1001</td>\n",
       "      <td>8070/3</td>\n",
       "      <td>carcinoma epidermoide</td>\n",
       "      <td>576</td>\n",
       "      <td>597</td>\n",
       "    </tr>\n",
       "    <tr>\n",
       "      <th>1854</th>\n",
       "      <td>cc_onco1001</td>\n",
       "      <td>8000/1</td>\n",
       "      <td>neoplasia</td>\n",
       "      <td>790</td>\n",
       "      <td>799</td>\n",
       "    </tr>\n",
       "    <tr>\n",
       "      <th>1857</th>\n",
       "      <td>cc_onco1001</td>\n",
       "      <td>8140/6</td>\n",
       "      <td>adenocarcinoma T4N3M1b</td>\n",
       "      <td>836</td>\n",
       "      <td>858</td>\n",
       "    </tr>\n",
       "    <tr>\n",
       "      <th>1853</th>\n",
       "      <td>cc_onco1001</td>\n",
       "      <td>8000/6</td>\n",
       "      <td>enfermedad hepática</td>\n",
       "      <td>1205</td>\n",
       "      <td>1224</td>\n",
       "    </tr>\n",
       "    <tr>\n",
       "      <th>1855</th>\n",
       "      <td>cc_onco1001</td>\n",
       "      <td>8000/1</td>\n",
       "      <td>tumoral</td>\n",
       "      <td>2303</td>\n",
       "      <td>2310</td>\n",
       "    </tr>\n",
       "  </tbody>\n",
       "</table>\n",
       "</div>"
      ],
      "text/plain": [
       "           doc_id    code                text_ref  start   end\n",
       "1852  cc_onco1001  8070/3   carcinoma epidermoide    576   597\n",
       "1854  cc_onco1001  8000/1               neoplasia    790   799\n",
       "1857  cc_onco1001  8140/6  adenocarcinoma T4N3M1b    836   858\n",
       "1853  cc_onco1001  8000/6     enfermedad hepática   1205  1224\n",
       "1855  cc_onco1001  8000/1                 tumoral   2303  2310"
      ]
     },
     "execution_count": 41,
     "metadata": {},
     "output_type": "execute_result"
    }
   ],
   "source": [
    "df_codes_dev_ner.head()"
   ]
  },
  {
   "cell_type": "code",
   "execution_count": 42,
   "metadata": {},
   "outputs": [
    {
     "data": {
      "text/plain": [
       "250"
      ]
     },
     "execution_count": 42,
     "metadata": {},
     "output_type": "execute_result"
    }
   ],
   "source": [
    "len(set(df_codes_dev_ner[\"doc_id\"]))"
   ]
  },
  {
   "cell_type": "markdown",
   "metadata": {},
   "source": [
    "Now, using the character start-end positions of each sentence from the Cantemist corpus (see `datasets/Cantemist-Sentence-Split.ipynb`), we annotate the sentences with CIE-O codes. Also, using mBERT tokenizer, each sentence is converted into a sequence of subwords, which are further converted into vocabulary indices (input IDs) and segments arrays (BERT input tensors). We also generate a *fragments* dataset indicating the number of produced annotated sentences for each document."
   ]
  },
  {
   "cell_type": "code",
   "execution_count": 43,
   "metadata": {},
   "outputs": [],
   "source": [
    "# Sentence-Split information\n",
    "ss_corpus_path = \"../datasets/Cantemist-SSplit-text/\""
   ]
  },
  {
   "cell_type": "markdown",
   "metadata": {},
   "source": [
    "### Training corpus"
   ]
  },
  {
   "cell_type": "code",
   "execution_count": 44,
   "metadata": {},
   "outputs": [],
   "source": [
    "label_list = list(df_codes_train_dev[\"code\"])"
   ]
  },
  {
   "cell_type": "code",
   "execution_count": 45,
   "metadata": {},
   "outputs": [
    {
     "data": {
      "text/plain": [
       "5420"
      ]
     },
     "execution_count": 45,
     "metadata": {},
     "output_type": "execute_result"
    }
   ],
   "source": [
    "len(label_list)"
   ]
  },
  {
   "cell_type": "code",
   "execution_count": 46,
   "metadata": {},
   "outputs": [
    {
     "data": {
      "text/plain": [
       "743"
      ]
     },
     "execution_count": 46,
     "metadata": {},
     "output_type": "execute_result"
    }
   ],
   "source": [
    "len(set(label_list))"
   ]
  },
  {
   "cell_type": "code",
   "execution_count": 47,
   "metadata": {},
   "outputs": [
    {
     "data": {
      "text/plain": [
       "MultiLabelBinarizer(classes=None, sparse_output=False)"
      ]
     },
     "execution_count": 47,
     "metadata": {},
     "output_type": "execute_result"
    }
   ],
   "source": [
    "from sklearn.preprocessing import MultiLabelBinarizer\n",
    "\n",
    "mlb_encoder = MultiLabelBinarizer()\n",
    "mlb_encoder.fit([label_list])"
   ]
  },
  {
   "cell_type": "code",
   "execution_count": 48,
   "metadata": {},
   "outputs": [],
   "source": [
    "# Number of distinct codes\n",
    "num_labels = len(mlb_encoder.classes_)"
   ]
  },
  {
   "cell_type": "code",
   "execution_count": 49,
   "metadata": {},
   "outputs": [
    {
     "data": {
      "text/plain": [
       "743"
      ]
     },
     "execution_count": 49,
     "metadata": {},
     "output_type": "execute_result"
    }
   ],
   "source": [
    "num_labels"
   ]
  },
  {
   "cell_type": "markdown",
   "metadata": {},
   "source": [
    "Only training texts that are annotated with CIE-O codes are considered:"
   ]
  },
  {
   "cell_type": "code",
   "execution_count": 50,
   "metadata": {},
   "outputs": [
    {
     "data": {
      "text/plain": [
       "1"
      ]
     },
     "execution_count": 50,
     "metadata": {},
     "output_type": "execute_result"
    }
   ],
   "source": [
    "# Some train documents (texts) are not annotated \n",
    "len(set(df_text_train[\"doc_id\"]) - set(df_codes_train_ner[\"doc_id\"]))"
   ]
  },
  {
   "cell_type": "code",
   "execution_count": 51,
   "metadata": {},
   "outputs": [],
   "source": [
    "train_doc_list = sorted(set(df_codes_train_ner[\"doc_id\"]))"
   ]
  },
  {
   "cell_type": "code",
   "execution_count": 52,
   "metadata": {},
   "outputs": [
    {
     "data": {
      "text/plain": [
       "750"
      ]
     },
     "execution_count": 52,
     "metadata": {},
     "output_type": "execute_result"
    }
   ],
   "source": [
    "len(train_doc_list)"
   ]
  },
  {
   "cell_type": "code",
   "execution_count": 53,
   "metadata": {},
   "outputs": [],
   "source": [
    "# Sentence-Split data"
   ]
  },
  {
   "cell_type": "code",
   "execution_count": 54,
   "metadata": {},
   "outputs": [
    {
     "name": "stdout",
     "output_type": "stream",
     "text": [
      "CPU times: user 28.9 ms, sys: 8.16 ms, total: 37 ms\n",
      "Wall time: 36.8 ms\n"
     ]
    }
   ],
   "source": [
    "%%time\n",
    "ss_sub_corpus_path = ss_corpus_path + \"training/\"\n",
    "ss_files = [f for f in os.listdir(ss_sub_corpus_path) if os.path.isfile(ss_sub_corpus_path + f)]\n",
    "ss_dict_train = load_ss_files(ss_files, ss_sub_corpus_path)"
   ]
  },
  {
   "cell_type": "code",
   "execution_count": 55,
   "metadata": {},
   "outputs": [
    {
     "name": "stderr",
     "output_type": "stream",
     "text": [
      "100%|██████████| 750/750 [00:54<00:00, 14.62it/s]\n"
     ]
    },
    {
     "name": "stdout",
     "output_type": "stream",
     "text": [
      "CPU times: user 54.4 s, sys: 243 ms, total: 54.7 s\n",
      "Wall time: 54.5 s\n"
     ]
    }
   ],
   "source": [
    "%%time\n",
    "train_ind, train_seg, train_y, train_frag, train_start_end_frag = ss_create_frag_input_data_bert(df_text=df_text_train, \n",
    "                                                  text_col=text_col, \n",
    "                                                  df_ann=df_codes_train_ner, doc_list=train_doc_list, ss_dict=ss_dict_train,\n",
    "                                                  tokenizer=tokenizer, lab_encoder=mlb_encoder, seq_len=SEQ_LEN,\n",
    "                                                  greedy=False)"
   ]
  },
  {
   "cell_type": "code",
   "execution_count": 56,
   "metadata": {},
   "outputs": [],
   "source": [
    "# Sanity check"
   ]
  },
  {
   "cell_type": "code",
   "execution_count": 57,
   "metadata": {},
   "outputs": [
    {
     "data": {
      "text/plain": [
       "(27708, 128)"
      ]
     },
     "execution_count": 57,
     "metadata": {},
     "output_type": "execute_result"
    }
   ],
   "source": [
    "train_ind.shape"
   ]
  },
  {
   "cell_type": "code",
   "execution_count": 58,
   "metadata": {},
   "outputs": [
    {
     "data": {
      "text/plain": [
       "(27708, 128)"
      ]
     },
     "execution_count": 58,
     "metadata": {},
     "output_type": "execute_result"
    }
   ],
   "source": [
    "train_seg.shape"
   ]
  },
  {
   "cell_type": "code",
   "execution_count": 59,
   "metadata": {},
   "outputs": [
    {
     "data": {
      "text/plain": [
       "(27708, 743)"
      ]
     },
     "execution_count": 59,
     "metadata": {},
     "output_type": "execute_result"
    }
   ],
   "source": [
    "train_y.shape"
   ]
  },
  {
   "cell_type": "code",
   "execution_count": 60,
   "metadata": {},
   "outputs": [
    {
     "data": {
      "text/plain": [
       "750"
      ]
     },
     "execution_count": 60,
     "metadata": {},
     "output_type": "execute_result"
    }
   ],
   "source": [
    "len(train_frag)"
   ]
  },
  {
   "cell_type": "code",
   "execution_count": 61,
   "metadata": {},
   "outputs": [
    {
     "data": {
      "text/plain": [
       "27708"
      ]
     },
     "execution_count": 61,
     "metadata": {},
     "output_type": "execute_result"
    }
   ],
   "source": [
    "len(train_start_end_frag)"
   ]
  },
  {
   "cell_type": "code",
   "execution_count": 62,
   "metadata": {},
   "outputs": [
    {
     "data": {
      "text/plain": [
       "count    750.000000\n",
       "mean      36.944000\n",
       "std       14.595647\n",
       "min       11.000000\n",
       "25%       27.000000\n",
       "50%       34.500000\n",
       "75%       44.000000\n",
       "max      102.000000\n",
       "dtype: float64"
      ]
     },
     "execution_count": 62,
     "metadata": {},
     "output_type": "execute_result"
    }
   ],
   "source": [
    "# Check n_frag distribution across texts\n",
    "pd.Series(train_frag).describe()"
   ]
  },
  {
   "cell_type": "code",
   "execution_count": 63,
   "metadata": {},
   "outputs": [],
   "source": [
    "# Inspect a randomly selected text and its encoded version\n",
    "check_id = np.random.randint(low=0, high=len(train_doc_list), size=1)[0]"
   ]
  },
  {
   "cell_type": "code",
   "execution_count": 64,
   "metadata": {},
   "outputs": [
    {
     "data": {
      "text/plain": [
       "146"
      ]
     },
     "execution_count": 64,
     "metadata": {},
     "output_type": "execute_result"
    }
   ],
   "source": [
    "check_id"
   ]
  },
  {
   "cell_type": "code",
   "execution_count": 65,
   "metadata": {},
   "outputs": [
    {
     "data": {
      "text/plain": [
       "'cc_onco255'"
      ]
     },
     "execution_count": 65,
     "metadata": {},
     "output_type": "execute_result"
    }
   ],
   "source": [
    "train_doc_list[check_id]"
   ]
  },
  {
   "cell_type": "code",
   "execution_count": 66,
   "metadata": {
    "scrolled": true
   },
   "outputs": [
    {
     "data": {
      "text/plain": [
       "'Anamnesis\\nMujer de 66 años de edad, con antecedentes de hipertensión arterial e hipercolesterolemia, intervenida de tumorectomía en mama derecha en 1975 por patología benigna, incontinencia urinaria, varices, meniscopatía y miopía, en tratamiento habitual con losartán y atorvastatina. Diagnosticada en diciembre de 2015 de Carcinoma ductal infiltrante de mama derecha localmente avanzado E-IIB (T2N1M0) fenotipo HER2 positivo. RE+++. RP +. Ki 67 15%. Se decide quimioterapia (QT) neoadyuvante esquema Doxorrubicina liposomal 50 mg/m2 (día 1) + Paclitaxel 80 mg/m2 (día 1,8,15) + Trastuzumab 4 mg/kg (día 1) y 2 mg (día 8,15), con dosis de carga en ciclo 1. Tras recibir 2 ciclos completos de tratamiento, acudió a urgencias por cuadro febril de 3 días de evolución de hasta 39ºC, con leves molestias para deglutir y artromialgias genealizadas, sin tos ni expectoración ni otra semiología infecciosa por aparatos, con radiografía de tórax normal, siendo dada de alta con el diagnóstico de faringitis aguda, con pauta antibiótica. 4 días después, acudió nuevamente por empeoramiento del estado general y fiebre de 39ºC, acompañado de tos, dolor torácico de características pleuríticas, con disnea de reciente aparición a mínimos esfuerzos, con ortopnea y oliguria. Ante la gravedad de la situación, con signos de insuficiencia respiratoria grave, se traslada a UCI. Durante su estancia en dicha unidad, se inicia antibioticoterapia de amplio espectro, y tratamiento con ventilación no invasiva que se mantiene durante unas horas, precisando posteriormente intubación y drogas vasoactivas. Ante la no mejoría clínica, con los días, se asocia tratamiento antiviral (oseltamivir), antifúngico (voriconazol) y cotrimoxazol dado el estado de inmunodepresión, a la espera de los resultados de las pruebas complementarias.\\n\\nExploración física\\nA su llegada a urgencias, mal estado general, palidez mucocutánea, taquipnea a 36 rpm, con tiraje intercostal. Habla entrecortada. TA 115/70. FC 110. SATO2 84% aire ambiente. SATO2 90% con reservorio a 100%. ACP: ruidos cardíacos rítmicos, no soplos. Murmullo vesicular disminuido globalmente, con estertores crepitantes, roncus y sibilancias en ambos campos pulmonares. Abdomen: Ruidos hidroaéreos presentes. Blando, depresible, no doloroso a la palpación. No reacción peritoneal. No edemas en miembros inferiores. Pulsos débiles pero simétricos.\\n\\nPruebas complementarias\\n. Analítica sanguínea: Hb 8.9. Leucocitos 12.100. Función hepática y renal normales.\\n. Gasometría arterial: pO2 57 mmHg con mascarilla de ventimask al 50 %. SATO2 82%.\\n. ECG: Taquicardia sinusal a 110 latidos por minuto.\\n. Rx de tórax: Infiltrados algodonosos bilaterales, en ambos lóbulos superiores y LID.\\n. TAC tórax: Patrón de vidrio deslustrado parcheado, con áreas de consolidación peribronquiales, subpleurales bilaterales.\\n. Antígenos para Legionella y neumococo negativos.\\n. PCR para gripe A, gripe B, VRS A y B, TBC, galactomanano, Pneumocystis jirovecii, CMV, Virus Epstein Barr, Mycoplasma, Coxiella burnetii, clamydias, Herpes virus 1 y 2 negativos.\\n. Hemocultivos, urinocultivos negativos.\\n. Ecocardiografía: Fracción de eyección preservada. No alteraciones.\\n. Fibrobroncoscopia: árboles bronquiales permeables, de calibre normal, con mucosa eritematosa y escasa secreción serosa. Citometría de flujo de BAL: destaca la presencia de linfocitosis de 84% (linfocitos T 98%, B 0.5%, y NK 1.5%). AP: ausencia de células malignas.\\n\\nDiagnóstico\\nNeumonitis intersticial inducida por fármacos quimioterápicos complicada con síndrome de distréss respiratorio agudo.\\n\\nTratamiento\\nAnte los resultados diagnósticos, se decide suspender todo tratamiento antiinfeccioso, y se inicia la administración de metilprednisolona intravenosa a dosis de 1 mg/Kg/día.\\n\\nEvolución\\nTras el inicio del tratamiento corticoideo, la paciente presenta mejoría clínica, analítica y radiológica, que permitió posteriormente proceder a la extubación, manteniendo ventilación mecánica no invasiva con descenso paulatino del flujo con estabilidad clínica, por lo que se traslada a sala de hospitalización, donde se continúa con tratamiento corticoideo y disminución progresiva del flujo de oxígeno, llegando a su retirada con adecuada tolerancia, procediendo al alta hospitalaria con corticoides por vía oral en pauta descendente.\\n\\nDada la toxicidad pulmonar grado 4 inducida por fármacos QT, se presentó en comité de tumores de mama, donde se decide suspender el tratamiento neoadyuvante y estudio de reevaluación, objetivando RP, con lo que se procedió a realizar cuadrantectomía y radioterapia adyuvante. Actualmente, presenta ECOG 0, en tratamiento con letrozol y sin evidencia de enfermedad tumoral.'"
      ]
     },
     "execution_count": 66,
     "metadata": {},
     "output_type": "execute_result"
    }
   ],
   "source": [
    "df_text_train[df_text_train[\"doc_id\"] == train_doc_list[check_id]][text_col].values[0]"
   ]
  },
  {
   "cell_type": "code",
   "execution_count": 67,
   "metadata": {},
   "outputs": [
    {
     "name": "stdout",
     "output_type": "stream",
     "text": [
      "[()] \n",
      "\n",
      "[('8000/6', '8500/3')] \n",
      "\n",
      "[()] \n",
      "\n",
      "[()] \n",
      "\n",
      "[()] \n",
      "\n",
      "[()] \n",
      "\n",
      "[()] \n",
      "\n",
      "[()] \n",
      "\n",
      "[()] \n",
      "\n",
      "[()] \n",
      "\n",
      "[()] \n",
      "\n",
      "[()] \n",
      "\n",
      "[()] \n",
      "\n",
      "[()] \n",
      "\n",
      "[()] \n",
      "\n",
      "[()] \n",
      "\n",
      "[()] \n",
      "\n",
      "[()] \n",
      "\n",
      "[()] \n",
      "\n",
      "[()] \n",
      "\n",
      "[()] \n",
      "\n",
      "[()] \n",
      "\n",
      "[()] \n",
      "\n",
      "[()] \n",
      "\n",
      "[()] \n",
      "\n",
      "[()] \n",
      "\n",
      "[()] \n",
      "\n",
      "[()] \n",
      "\n",
      "[()] \n",
      "\n",
      "[()] \n",
      "\n",
      "[()] \n",
      "\n",
      "[()] \n",
      "\n",
      "[()] \n",
      "\n",
      "[()] \n",
      "\n",
      "[()] \n",
      "\n",
      "[()] \n",
      "\n",
      "[()] \n",
      "\n",
      "[()] \n",
      "\n",
      "[()] \n",
      "\n",
      "[()] \n",
      "\n",
      "[()] \n",
      "\n",
      "[()] \n",
      "\n",
      "[()] \n",
      "\n",
      "[()] \n",
      "\n",
      "[()] \n",
      "\n",
      "[()] \n",
      "\n",
      "[()] \n",
      "\n",
      "[()] \n",
      "\n",
      "[()] \n",
      "\n",
      "[('8001/3',)] \n",
      "\n",
      "[()] \n",
      "\n",
      "[()] \n",
      "\n",
      "[()] \n",
      "\n",
      "[()] \n",
      "\n",
      "[()] \n",
      "\n",
      "[('8000/1',)] \n",
      "\n"
     ]
    }
   ],
   "source": [
    "check_id_frag = sum(train_frag[:check_id])\n",
    "for i in range(check_id_frag, check_id_frag + train_frag[check_id]):\n",
    "    print(mlb_encoder.inverse_transform(np.array([train_y[i]])), \"\\n\")"
   ]
  },
  {
   "cell_type": "code",
   "execution_count": 68,
   "metadata": {},
   "outputs": [
    {
     "name": "stdout",
     "output_type": "stream",
     "text": [
      "[('Ana', (0, 3)), ('##mne', (3, 6)), ('##sis', (6, 9)), ('Mujer', (10, 15)), ('de', (16, 18)), ('66', (19, 21)), ('años', (22, 26)), ('de', (27, 29)), ('edad', (30, 34)), (',', (34, 35)), ('con', (36, 39)), ('ante', (40, 44)), ('##cedent', (44, 50)), ('##es', (50, 52)), ('de', (53, 55)), ('hip', (56, 59)), ('##erten', (59, 64)), ('##sión', (64, 68)), ('arteria', (69, 76)), ('##l', (76, 77)), ('e', (78, 79)), ('hip', (80, 83)), ('##er', (83, 85)), ('##coles', (85, 90)), ('##tero', (90, 94)), ('##lem', (94, 97)), ('##ia', (97, 99)), (',', (99, 100)), ('inter', (101, 106)), ('##veni', (106, 110)), ('##da', (110, 112)), ('de', (113, 115)), ('tumor', (116, 121)), ('##ect', (121, 124)), ('##om', (124, 126)), ('##ía', (126, 128)), ('en', (129, 131)), ('mama', (132, 136)), ('derecha', (137, 144)), ('en', (145, 147)), ('1975', (148, 152)), ('por', (153, 156)), ('pat', (157, 160)), ('##ología', (160, 166)), ('beni', (167, 171)), ('##gna', (171, 174)), (',', (174, 175)), ('in', (176, 178)), ('##con', (178, 181)), ('##tinen', (181, 186)), ('##cia', (186, 189)), ('uri', (190, 193)), ('##nari', (193, 197)), ('##a', (197, 198)), (',', (198, 199)), ('vari', (200, 204)), ('##ces', (204, 207)), (',', (207, 208)), ('meni', (209, 213)), ('##sco', (213, 216)), ('##pat', (216, 219)), ('##ía', (219, 221)), ('y', (222, 223)), ('mio', (224, 227)), ('##pía', (227, 230)), (',', (230, 231)), ('en', (232, 234)), ('tratamiento', (235, 246)), ('habitual', (247, 255)), ('con', (256, 259)), ('los', (260, 263)), ('##art', (263, 266)), ('##án', (266, 268)), ('y', (269, 270)), ('ator', (271, 275)), ('##vas', (275, 278)), ('##tati', (278, 282)), ('##na', (282, 284)), ('.', (284, 285))]\n",
      "\n",
      "\n",
      "[('Dia', (286, 289)), ('##gno', (289, 292)), ('##stica', (292, 297)), ('##da', (297, 299)), ('en', (300, 302)), ('diciembre', (303, 312)), ('de', (313, 315)), ('2015', (316, 320)), ('de', (321, 323)), ('Car', (324, 327)), ('##cino', (327, 331)), ('##ma', (331, 333)), ('duc', (334, 337)), ('##tal', (337, 340)), ('in', (341, 343)), ('##fil', (343, 346)), ('##tra', (346, 349)), ('##nte', (349, 352)), ('de', (353, 355)), ('mama', (356, 360)), ('derecha', (361, 368)), ('local', (369, 374)), ('##mente', (374, 379)), ('av', (380, 382)), ('##anza', (382, 386)), ('##do', (386, 388)), ('E', (389, 390)), ('-', (390, 391)), ('II', (391, 393)), ('##B', (393, 394)), ('(', (395, 396)), ('T2', (396, 398)), ('##N', (398, 399)), ('##1', (399, 400)), ('##M', (400, 401)), ('##0', (401, 402)), (')', (402, 403)), ('fe', (404, 406)), ('##not', (406, 409)), ('##ipo', (409, 412)), ('H', (413, 414)), ('##ER', (414, 416)), ('##2', (416, 417)), ('positivo', (418, 426)), ('.', (426, 427))]\n",
      "\n",
      "\n",
      "[('RE', (428, 430)), ('+', (430, 431)), ('+', (431, 432)), ('+', (432, 433)), ('.', (433, 434))]\n",
      "\n",
      "\n",
      "[('RP', (435, 437)), ('+', (438, 439)), ('.', (439, 440))]\n",
      "\n",
      "\n",
      "[('Ki', (441, 443)), ('67', (444, 446)), ('15', (447, 449)), ('%', (449, 450)), ('.', (450, 451))]\n",
      "\n",
      "\n",
      "[('Se', (452, 454)), ('decide', (455, 461)), ('qui', (462, 465)), ('##mio', (465, 468)), ('##tera', (468, 472)), ('##pia', (472, 475)), ('(', (476, 477)), ('Q', (477, 478)), ('##T', (478, 479)), (')', (479, 480)), ('neo', (481, 484)), ('##ady', (484, 487)), ('##uva', (487, 490)), ('##nte', (490, 493)), ('esquema', (494, 501)), ('Do', (502, 504)), ('##xo', (504, 506)), ('##rr', (506, 508)), ('##ubi', (508, 511)), ('##cina', (511, 515)), ('li', (516, 518)), ('##pos', (518, 521)), ('##oma', (521, 524)), ('##l', (524, 525)), ('50', (526, 528)), ('mg', (529, 531)), ('/', (531, 532)), ('m2', (532, 534)), ('(', (535, 536)), ('día', (536, 539)), ('1', (540, 541)), (')', (541, 542)), ('+', (543, 544)), ('Pac', (545, 548)), ('##lita', (548, 552)), ('##xel', (552, 555)), ('80', (556, 558)), ('mg', (559, 561)), ('/', (561, 562)), ('m2', (562, 564)), ('(', (565, 566)), ('día', (566, 569)), ('1', (570, 571)), (',', (571, 572)), ('8', (572, 573)), (',', (573, 574)), ('15', (574, 576)), (')', (576, 577)), ('+', (578, 579)), ('Tras', (580, 584)), ('##tu', (584, 586)), ('##zuma', (586, 590)), ('##b', (590, 591)), ('4', (592, 593)), ('mg', (594, 596)), ('/', (596, 597)), ('kg', (597, 599)), ('(', (600, 601)), ('día', (601, 604)), ('1', (605, 606)), (')', (606, 607)), ('y', (608, 609)), ('2', (610, 611)), ('mg', (612, 614)), ('(', (615, 616)), ('día', (616, 619)), ('8', (620, 621)), (',', (621, 622)), ('15', (622, 624)), (')', (624, 625)), (',', (625, 626)), ('con', (627, 630)), ('dos', (631, 634)), ('##is', (634, 636)), ('de', (637, 639)), ('carga', (640, 645)), ('en', (646, 648)), ('ciclo', (649, 654)), ('1', (655, 656)), ('.', (656, 657))]\n",
      "\n",
      "\n",
      "[('Tras', (658, 662)), ('recibir', (663, 670)), ('2', (671, 672)), ('ciclo', (673, 678)), ('##s', (678, 679)), ('completo', (680, 688)), ('##s', (688, 689)), ('de', (690, 692)), ('tratamiento', (693, 704)), (',', (704, 705)), ('acu', (706, 709)), ('##dió', (709, 712)), ('a', (713, 714)), ('ur', (715, 717)), ('##gen', (717, 720)), ('##cias', (720, 724)), ('por', (725, 728)), ('cuadro', (729, 735)), ('fe', (736, 738)), ('##bri', (738, 741)), ('##l', (741, 742)), ('de', (743, 745)), ('3', (746, 747)), ('días', (748, 752)), ('de', (753, 755)), ('evolución', (756, 765)), ('de', (766, 768)), ('hasta', (769, 774)), ('39', (775, 777)), ('##º', (777, 778)), ('##C', (778, 779)), (',', (779, 780)), ('con', (781, 784)), ('leve', (785, 789)), ('##s', (789, 790)), ('mol', (791, 794)), ('##esti', (794, 798)), ('##as', (798, 800)), ('para', (801, 805)), ('de', (806, 808)), ('##gl', (808, 810)), ('##uti', (810, 813)), ('##r', (813, 814)), ('y', (815, 816)), ('art', (817, 820)), ('##romia', (820, 825)), ('##lgi', (825, 828)), ('##as', (828, 830)), ('gene', (831, 835)), ('##ali', (835, 838)), ('##zadas', (838, 843)), (',', (843, 844)), ('sin', (845, 848)), ('tos', (849, 852)), ('ni', (853, 855)), ('ex', (856, 858)), ('##pect', (858, 862)), ('##ora', (862, 865)), ('##ción', (865, 869)), ('ni', (870, 872)), ('otra', (873, 877)), ('semi', (878, 882)), ('##ología', (882, 888)), ('in', (889, 891)), ('##fe', (891, 893)), ('##ccio', (893, 897)), ('##sa', (897, 899)), ('por', (900, 903)), ('apa', (904, 907)), ('##ratos', (907, 912)), (',', (912, 913)), ('con', (914, 917)), ('radio', (918, 923)), ('##grafía', (923, 929)), ('de', (930, 932)), ('tó', (933, 935)), ('##rax', (935, 938)), ('normal', (939, 945)), (',', (945, 946)), ('siendo', (947, 953)), ('dada', (954, 958)), ('de', (959, 961)), ('alta', (962, 966)), ('con', (967, 970)), ('el', (971, 973)), ('dia', (974, 977)), ('##gnóstico', (977, 985)), ('de', (986, 988)), ('far', (989, 992)), ('##ingi', (992, 996)), ('##tis', (996, 999)), ('ag', (1000, 1002)), ('##uda', (1002, 1005)), (',', (1005, 1006)), ('con', (1007, 1010)), ('pau', (1011, 1014)), ('##ta', (1014, 1016)), ('anti', (1017, 1021)), ('##bió', (1021, 1024)), ('##tica', (1024, 1028)), ('.', (1028, 1029))]\n",
      "\n",
      "\n",
      "[('4', (1030, 1031)), ('días', (1032, 1036)), ('después', (1037, 1044)), (',', (1044, 1045)), ('acu', (1046, 1049)), ('##dió', (1049, 1052)), ('nuevamente', (1053, 1063)), ('por', (1064, 1067)), ('em', (1068, 1070)), ('##pe', (1070, 1072)), ('##ora', (1072, 1075)), ('##miento', (1075, 1081)), ('del', (1082, 1085)), ('estado', (1086, 1092)), ('general', (1093, 1100)), ('y', (1101, 1102)), ('fie', (1103, 1106)), ('##bre', (1106, 1109)), ('de', (1110, 1112)), ('39', (1113, 1115)), ('##º', (1115, 1116)), ('##C', (1116, 1117)), (',', (1117, 1118)), ('acompañado', (1119, 1129)), ('de', (1130, 1132)), ('tos', (1133, 1136)), (',', (1136, 1137)), ('dolor', (1138, 1143)), ('to', (1144, 1146)), ('##rá', (1146, 1148)), ('##ci', (1148, 1150)), ('##co', (1150, 1152)), ('de', (1153, 1155)), ('características', (1156, 1171)), ('pl', (1172, 1174)), ('##eur', (1174, 1177)), ('##ítica', (1177, 1182)), ('##s', (1182, 1183)), (',', (1183, 1184)), ('con', (1185, 1188)), ('dis', (1189, 1192)), ('##nea', (1192, 1195)), ('de', (1196, 1198)), ('reciente', (1199, 1207)), ('aparición', (1208, 1217)), ('a', (1218, 1219)), ('mínimo', (1220, 1226)), ('##s', (1226, 1227)), ('esfuerzos', (1228, 1237)), (',', (1237, 1238)), ('con', (1239, 1242)), ('ort', (1243, 1246)), ('##op', (1246, 1248)), ('##nea', (1248, 1251)), ('y', (1252, 1253)), ('oli', (1254, 1257)), ('##gur', (1257, 1260)), ('##ia', (1260, 1262)), ('.', (1262, 1263))]\n",
      "\n",
      "\n",
      "[('Ante', (1264, 1268)), ('la', (1269, 1271)), ('grave', (1272, 1277)), ('##dad', (1277, 1280)), ('de', (1281, 1283)), ('la', (1284, 1286)), ('situación', (1287, 1296)), (',', (1296, 1297)), ('con', (1298, 1301)), ('sign', (1302, 1306)), ('##os', (1306, 1308)), ('de', (1309, 1311)), ('ins', (1312, 1315)), ('##uf', (1315, 1317)), ('##iciencia', (1317, 1325)), ('resp', (1326, 1330)), ('##irat', (1330, 1334)), ('##oria', (1334, 1338)), ('grave', (1339, 1344)), (',', (1344, 1345)), ('se', (1346, 1348)), ('tras', (1349, 1353)), ('##lada', (1353, 1357)), ('a', (1358, 1359)), ('UCI', (1360, 1363)), ('.', (1363, 1364))]\n",
      "\n",
      "\n",
      "[('Durante', (1365, 1372)), ('su', (1373, 1375)), ('estancia', (1376, 1384)), ('en', (1385, 1387)), ('dicha', (1388, 1393)), ('unidad', (1394, 1400)), (',', (1400, 1401)), ('se', (1402, 1404)), ('inicia', (1405, 1411)), ('anti', (1412, 1416)), ('##bio', (1416, 1419)), ('##tico', (1419, 1423)), ('##tera', (1423, 1427)), ('##pia', (1427, 1430)), ('de', (1431, 1433)), ('amplio', (1434, 1440)), ('es', (1441, 1443)), ('##pect', (1443, 1447)), ('##ro', (1447, 1449)), (',', (1449, 1450)), ('y', (1451, 1452)), ('tratamiento', (1453, 1464)), ('con', (1465, 1468)), ('venti', (1469, 1474)), ('##lación', (1474, 1480)), ('no', (1481, 1483)), ('in', (1484, 1486)), ('##vasi', (1486, 1490)), ('##va', (1490, 1492)), ('que', (1493, 1496)), ('se', (1497, 1499)), ('mantiene', (1500, 1508)), ('durante', (1509, 1516)), ('unas', (1517, 1521)), ('horas', (1522, 1527)), (',', (1527, 1528)), ('precisa', (1529, 1536)), ('##ndo', (1536, 1539)), ('posteriormente', (1540, 1554)), ('int', (1555, 1558)), ('##uba', (1558, 1561)), ('##ción', (1561, 1565)), ('y', (1566, 1567)), ('drogas', (1568, 1574)), ('vas', (1575, 1578)), ('##oa', (1578, 1580)), ('##ctiva', (1580, 1585)), ('##s', (1585, 1586)), ('.', (1586, 1587))]\n",
      "\n",
      "\n",
      "[('Ante', (1588, 1592)), ('la', (1593, 1595)), ('no', (1596, 1598)), ('mejor', (1599, 1604)), ('##ía', (1604, 1606)), ('clínica', (1607, 1614)), (',', (1614, 1615)), ('con', (1616, 1619)), ('los', (1620, 1623)), ('días', (1624, 1628)), (',', (1628, 1629)), ('se', (1630, 1632)), ('as', (1633, 1635)), ('##oci', (1635, 1638)), ('##a', (1638, 1639)), ('tratamiento', (1640, 1651)), ('anti', (1652, 1656)), ('##vira', (1656, 1660)), ('##l', (1660, 1661)), ('(', (1662, 1663)), ('ose', (1663, 1666)), ('##lta', (1666, 1669)), ('##mi', (1669, 1671)), ('##vir', (1671, 1674)), (')', (1674, 1675)), (',', (1675, 1676)), ('anti', (1677, 1681)), ('##f', (1681, 1682)), ('##ún', (1682, 1684)), ('##gico', (1684, 1688)), ('(', (1689, 1690)), ('vor', (1690, 1693)), ('##ico', (1693, 1696)), ('##na', (1696, 1698)), ('##zo', (1698, 1700)), ('##l', (1700, 1701)), (')', (1701, 1702)), ('y', (1703, 1704)), ('co', (1705, 1707)), ('##tri', (1707, 1710)), ('##mo', (1710, 1712)), ('##xa', (1712, 1714)), ('##zo', (1714, 1716)), ('##l', (1716, 1717)), ('dado', (1718, 1722)), ('el', (1723, 1725)), ('estado', (1726, 1732)), ('de', (1733, 1735)), ('in', (1736, 1738)), ('##mun', (1738, 1741)), ('##ode', (1741, 1744)), ('##presión', (1744, 1751)), (',', (1751, 1752)), ('a', (1753, 1754)), ('la', (1755, 1757)), ('espera', (1758, 1764)), ('de', (1765, 1767)), ('los', (1768, 1771)), ('resultados', (1772, 1782)), ('de', (1783, 1785)), ('las', (1786, 1789)), ('pruebas', (1790, 1797)), ('complement', (1798, 1808)), ('##arias', (1808, 1813)), ('.', (1813, 1814))]\n",
      "\n",
      "\n",
      "[('Ex', (1816, 1818)), ('##plo', (1818, 1821)), ('##ración', (1821, 1827)), ('física', (1828, 1834)), ('A', (1835, 1836)), ('su', (1837, 1839)), ('llegada', (1840, 1847)), ('a', (1848, 1849)), ('ur', (1850, 1852)), ('##gen', (1852, 1855)), ('##cias', (1855, 1859)), (',', (1859, 1860)), ('mal', (1861, 1864)), ('estado', (1865, 1871)), ('general', (1872, 1879)), (',', (1879, 1880)), ('pal', (1881, 1884)), ('##ide', (1884, 1887)), ('##z', (1887, 1888)), ('mu', (1889, 1891)), ('##co', (1891, 1893)), ('##cut', (1893, 1896)), ('##án', (1896, 1898)), ('##ea', (1898, 1900)), (',', (1900, 1901)), ('ta', (1902, 1904)), ('##qui', (1904, 1907)), ('##pne', (1907, 1910)), ('##a', (1910, 1911)), ('a', (1912, 1913)), ('36', (1914, 1916)), ('rpm', (1917, 1920)), (',', (1920, 1921)), ('con', (1922, 1925)), ('tira', (1926, 1930)), ('##je', (1930, 1932)), ('inter', (1933, 1938)), ('##cos', (1938, 1941)), ('##tal', (1941, 1944)), ('.', (1944, 1945))]\n",
      "\n",
      "\n",
      "[('Ha', (1946, 1948)), ('##bla', (1948, 1951)), ('entre', (1952, 1957)), ('##cor', (1957, 1960)), ('##tada', (1960, 1964)), ('.', (1964, 1965))]\n",
      "\n",
      "\n",
      "[('TA', (1966, 1968)), ('115', (1969, 1972)), ('/', (1972, 1973)), ('70', (1973, 1975)), ('.', (1975, 1976))]\n",
      "\n",
      "\n",
      "[('FC', (1977, 1979)), ('110', (1980, 1983)), ('.', (1983, 1984))]\n",
      "\n",
      "\n",
      "[('SA', (1985, 1987)), ('##TO', (1987, 1989)), ('##2', (1989, 1990)), ('84', (1991, 1993)), ('%', (1993, 1994)), ('aire', (1995, 1999)), ('ambiente', (2000, 2008)), ('.', (2008, 2009))]\n",
      "\n",
      "\n",
      "[('SA', (2010, 2012)), ('##TO', (2012, 2014)), ('##2', (2014, 2015)), ('90', (2016, 2018)), ('%', (2018, 2019)), ('con', (2020, 2023)), ('res', (2024, 2027)), ('##ervo', (2027, 2031)), ('##rio', (2031, 2034)), ('a', (2035, 2036)), ('100', (2037, 2040)), ('%', (2040, 2041)), ('.', (2041, 2042))]\n",
      "\n",
      "\n",
      "[('AC', (2043, 2045)), ('##P', (2045, 2046)), (':', (2046, 2047)), ('ru', (2048, 2050)), ('##idos', (2050, 2054)), ('card', (2055, 2059)), ('##ía', (2059, 2061)), ('##cos', (2061, 2064)), ('r', (2065, 2066)), ('##ít', (2066, 2068)), ('##micos', (2068, 2073)), (',', (2073, 2074)), ('no', (2075, 2077)), ('so', (2078, 2080)), ('##plos', (2080, 2084)), ('.', (2084, 2085))]\n",
      "\n",
      "\n",
      "[('Mur', (2086, 2089)), ('##mul', (2089, 2092)), ('##lo', (2092, 2094)), ('ve', (2095, 2097)), ('##sic', (2097, 2100)), ('##ular', (2100, 2104)), ('dis', (2105, 2108)), ('##min', (2108, 2111)), ('##uido', (2111, 2115)), ('global', (2116, 2122)), ('##mente', (2122, 2127)), (',', (2127, 2128)), ('con', (2129, 2132)), ('este', (2133, 2137)), ('##rto', (2137, 2140)), ('##res', (2140, 2143)), ('c', (2144, 2145)), ('##re', (2145, 2147)), ('##pita', (2147, 2151)), ('##ntes', (2151, 2155)), (',', (2155, 2156)), ('ro', (2157, 2159)), ('##ncu', (2159, 2162)), ('##s', (2162, 2163)), ('y', (2164, 2165)), ('si', (2166, 2168)), ('##bilan', (2168, 2173)), ('##cias', (2173, 2177)), ('en', (2178, 2180)), ('ambos', (2181, 2186)), ('campos', (2187, 2193)), ('pu', (2194, 2196)), ('##lm', (2196, 2198)), ('##onare', (2198, 2203)), ('##s', (2203, 2204)), ('.', (2204, 2205))]\n",
      "\n",
      "\n",
      "[('Abd', (2206, 2209)), ('##omen', (2209, 2213)), (':', (2213, 2214)), ('Rui', (2215, 2218)), ('##dos', (2218, 2221)), ('hi', (2222, 2224)), ('##dro', (2224, 2227)), ('##a', (2227, 2228)), ('##éreo', (2228, 2232)), ('##s', (2232, 2233)), ('presentes', (2234, 2243)), ('.', (2243, 2244))]\n",
      "\n",
      "\n",
      "[('Bland', (2245, 2250)), ('##o', (2250, 2251)), (',', (2251, 2252)), ('de', (2253, 2255)), ('##presi', (2255, 2260)), ('##ble', (2260, 2263)), (',', (2263, 2264)), ('no', (2265, 2267)), ('dolor', (2268, 2273)), ('##oso', (2273, 2276)), ('a', (2277, 2278)), ('la', (2279, 2281)), ('pal', (2282, 2285)), ('##pación', (2285, 2291)), ('.', (2291, 2292))]\n",
      "\n",
      "\n",
      "[('No', (2293, 2295)), ('reacción', (2296, 2304)), ('per', (2305, 2308)), ('##iton', (2308, 2312)), ('##eal', (2312, 2315)), ('.', (2315, 2316))]\n",
      "\n",
      "\n",
      "[('No', (2317, 2319)), ('ede', (2320, 2323)), ('##mas', (2323, 2326)), ('en', (2327, 2329)), ('miembros', (2330, 2338)), ('inferiores', (2339, 2349)), ('.', (2349, 2350))]\n",
      "\n",
      "\n",
      "[('P', (2351, 2352)), ('##ul', (2352, 2354)), ('##sos', (2354, 2357)), ('dé', (2358, 2360)), ('##bile', (2360, 2364)), ('##s', (2364, 2365)), ('pero', (2366, 2370)), ('sim', (2371, 2374)), ('##ét', (2374, 2376)), ('##ricos', (2376, 2381)), ('.', (2381, 2382))]\n",
      "\n",
      "\n",
      "[('Pr', (2384, 2386)), ('##ue', (2386, 2388)), ('##bas', (2388, 2391)), ('complement', (2392, 2402)), ('##arias', (2402, 2407)), ('.', (2408, 2409))]\n",
      "\n",
      "\n",
      "[('Ana', (2410, 2413)), ('##lí', (2413, 2415)), ('##tica', (2415, 2419)), ('sang', (2420, 2424)), ('##u', (2424, 2425)), ('##íne', (2425, 2428)), ('##a', (2428, 2429)), (':', (2429, 2430)), ('H', (2431, 2432)), ('##b', (2432, 2433)), ('8', (2434, 2435)), ('.', (2435, 2436)), ('9', (2436, 2437)), ('.', (2437, 2438))]\n",
      "\n",
      "\n",
      "[('Le', (2439, 2441)), ('##uco', (2441, 2444)), ('##cito', (2444, 2448)), ('##s', (2448, 2449)), ('12', (2450, 2452)), ('.', (2452, 2453)), ('100', (2453, 2456)), ('.', (2456, 2457))]\n",
      "\n",
      "\n",
      "[('Fun', (2458, 2461)), ('##ción', (2461, 2465)), ('hep', (2466, 2469)), ('##ática', (2469, 2474)), ('y', (2475, 2476)), ('ren', (2477, 2480)), ('##al', (2480, 2482)), ('normale', (2483, 2490)), ('##s', (2490, 2491)), ('.', (2491, 2492))]\n",
      "\n",
      "\n",
      "[('.', (2493, 2494))]\n",
      "\n",
      "\n",
      "[('Gas', (2495, 2498)), ('##ome', (2498, 2501)), ('##tr', (2501, 2503)), ('##ía', (2503, 2505)), ('arteria', (2506, 2513)), ('##l', (2513, 2514)), (':', (2514, 2515)), ('p', (2516, 2517)), ('##O', (2517, 2518)), ('##2', (2518, 2519)), ('57', (2520, 2522)), ('mm', (2523, 2525)), ('##H', (2525, 2526)), ('##g', (2526, 2527)), ('con', (2528, 2531)), ('mas', (2532, 2535)), ('##cari', (2535, 2539)), ('##lla', (2539, 2542)), ('de', (2543, 2545)), ('venti', (2546, 2551)), ('##mas', (2551, 2554)), ('##k', (2554, 2555)), ('al', (2556, 2558)), ('50', (2559, 2561)), ('%', (2562, 2563)), ('.', (2563, 2564))]\n",
      "\n",
      "\n",
      "[('SA', (2565, 2567)), ('##TO', (2567, 2569)), ('##2', (2569, 2570)), ('82', (2571, 2573)), ('%', (2573, 2574)), ('.', (2574, 2575))]\n",
      "\n",
      "\n",
      "[('.', (2576, 2577))]\n",
      "\n",
      "\n",
      "[('EC', (2578, 2580)), ('##G', (2580, 2581)), (':', (2581, 2582)), ('Ta', (2583, 2585)), ('##qui', (2585, 2588)), ('##card', (2588, 2592)), ('##ia', (2592, 2594)), ('sin', (2595, 2598)), ('##usal', (2598, 2602)), ('a', (2603, 2604)), ('110', (2605, 2608)), ('lati', (2609, 2613)), ('##dos', (2613, 2616)), ('por', (2617, 2620)), ('minuto', (2621, 2627)), ('.', (2627, 2628))]\n",
      "\n",
      "\n",
      "[('.', (2629, 2630))]\n",
      "\n",
      "\n",
      "[('R', (2631, 2632)), ('##x', (2632, 2633)), ('de', (2634, 2636)), ('tó', (2637, 2639)), ('##rax', (2639, 2642)), (':', (2642, 2643)), ('Inf', (2644, 2647)), ('##ilt', (2647, 2650)), ('##rados', (2650, 2655)), ('algo', (2656, 2660)), ('##dono', (2660, 2664)), ('##sos', (2664, 2667)), ('bila', (2668, 2672)), ('##teral', (2672, 2677)), ('##es', (2677, 2679)), (',', (2679, 2680)), ('en', (2681, 2683)), ('ambos', (2684, 2689)), ('l', (2690, 2691)), ('##ób', (2691, 2693)), ('##ulos', (2693, 2697)), ('superiores', (2698, 2708)), ('y', (2709, 2710)), ('L', (2711, 2712)), ('##ID', (2712, 2714)), ('.', (2714, 2715))]\n",
      "\n",
      "\n",
      "[('.', (2716, 2717))]\n",
      "\n",
      "\n",
      "[('TA', (2718, 2720)), ('##C', (2720, 2721)), ('tó', (2722, 2724)), ('##rax', (2724, 2727)), (':', (2727, 2728)), ('Pat', (2729, 2732)), ('##rón', (2732, 2735)), ('de', (2736, 2738)), ('vid', (2739, 2742)), ('##rio', (2742, 2745)), ('des', (2746, 2749)), ('##lust', (2749, 2753)), ('##rado', (2753, 2757)), ('parc', (2758, 2762)), ('##head', (2762, 2766)), ('##o', (2766, 2767)), (',', (2767, 2768)), ('con', (2769, 2772)), ('áreas', (2773, 2778)), ('de', (2779, 2781)), ('con', (2782, 2785)), ('##sol', (2785, 2788)), ('##ida', (2788, 2791)), ('##ción', (2791, 2795)), ('per', (2796, 2799)), ('##ib', (2799, 2801)), ('##ron', (2801, 2804)), ('##quia', (2804, 2808)), ('##les', (2808, 2811)), (',', (2811, 2812)), ('sub', (2813, 2816)), ('##ple', (2816, 2819)), ('##ural', (2819, 2823)), ('##es', (2823, 2825)), ('bila', (2826, 2830)), ('##teral', (2830, 2835)), ('##es', (2835, 2837)), ('.', (2837, 2838))]\n",
      "\n",
      "\n",
      "[('.', (2839, 2840))]\n",
      "\n",
      "\n",
      "[('Ant', (2841, 2844)), ('##íg', (2844, 2846)), ('##enos', (2846, 2850)), ('para', (2851, 2855)), ('Legion', (2856, 2862)), ('##ella', (2862, 2866)), ('y', (2867, 2868)), ('neu', (2869, 2872)), ('##mo', (2872, 2874)), ('##co', (2874, 2876)), ('##co', (2876, 2878)), ('negativo', (2879, 2887)), ('##s', (2887, 2888)), ('.', (2888, 2889))]\n",
      "\n",
      "\n",
      "[('.', (2890, 2891))]\n",
      "\n",
      "\n",
      "[('PCR', (2892, 2895)), ('para', (2896, 2900)), ('gr', (2901, 2903)), ('##ipe', (2903, 2906)), ('A', (2907, 2908)), (',', (2908, 2909)), ('gr', (2910, 2912)), ('##ipe', (2912, 2915)), ('B', (2916, 2917)), (',', (2917, 2918)), ('VR', (2919, 2921)), ('##S', (2921, 2922)), ('A', (2923, 2924)), ('y', (2925, 2926)), ('B', (2927, 2928)), (',', (2928, 2929)), ('TB', (2930, 2932)), ('##C', (2932, 2933)), (',', (2933, 2934)), ('gala', (2935, 2939)), ('##cto', (2939, 2942)), ('##mana', (2942, 2946)), ('##no', (2946, 2948)), (',', (2948, 2949)), ('P', (2950, 2951)), ('##ne', (2951, 2953)), ('##umo', (2953, 2956)), ('##cy', (2956, 2958)), ('##stis', (2958, 2962)), ('ji', (2963, 2965)), ('##rove', (2965, 2969)), ('##cii', (2969, 2972)), (',', (2972, 2973)), ('CM', (2974, 2976)), ('##V', (2976, 2977)), (',', (2977, 2978)), ('Virus', (2979, 2984)), ('Epstein', (2985, 2992)), ('Barr', (2993, 2997)), (',', (2997, 2998)), ('My', (2999, 3001)), ('##co', (3001, 3003)), ('##pla', (3003, 3006)), ('##sma', (3006, 3009)), (',', (3009, 3010)), ('Cox', (3011, 3014)), ('##iella', (3014, 3019)), ('bu', (3020, 3022)), ('##rnet', (3022, 3026)), ('##ii', (3026, 3028)), (',', (3028, 3029)), ('c', (3030, 3031)), ('##lam', (3031, 3034)), ('##ydi', (3034, 3037)), ('##as', (3037, 3039)), (',', (3039, 3040)), ('Her', (3041, 3044)), ('##pes', (3044, 3047)), ('virus', (3048, 3053)), ('1', (3054, 3055)), ('y', (3056, 3057)), ('2', (3058, 3059)), ('negativo', (3060, 3068)), ('##s', (3068, 3069)), ('.', (3069, 3070))]\n",
      "\n",
      "\n",
      "[('.', (3071, 3072))]\n",
      "\n",
      "\n",
      "[('He', (3073, 3075)), ('##mo', (3075, 3077)), ('##cul', (3077, 3080)), ('##tivos', (3080, 3085)), (',', (3085, 3086)), ('uri', (3087, 3090)), ('##no', (3090, 3092)), ('##cul', (3092, 3095)), ('##tivos', (3095, 3100)), ('negativo', (3101, 3109)), ('##s', (3109, 3110)), ('.', (3110, 3111))]\n",
      "\n",
      "\n",
      "[('.', (3112, 3113))]\n",
      "\n",
      "\n",
      "[('Eco', (3114, 3117)), ('##card', (3117, 3121)), ('##io', (3121, 3123)), ('##grafía', (3123, 3129)), (':', (3129, 3130)), ('Fra', (3131, 3134)), ('##cción', (3134, 3139)), ('de', (3140, 3142)), ('eye', (3143, 3146)), ('##cción', (3146, 3151)), ('prese', (3152, 3157)), ('##rva', (3157, 3160)), ('##da', (3160, 3162)), ('.', (3162, 3163))]\n",
      "\n",
      "\n",
      "[('No', (3164, 3166)), ('alter', (3167, 3172)), ('##aciones', (3172, 3179)), ('.', (3179, 3180))]\n",
      "\n",
      "\n",
      "[('.', (3181, 3182))]\n",
      "\n",
      "\n",
      "[('Fi', (3183, 3185)), ('##bro', (3185, 3188)), ('##bron', (3188, 3192)), ('##cos', (3192, 3195)), ('##co', (3195, 3197)), ('##pia', (3197, 3200)), (':', (3200, 3201)), ('árboles', (3202, 3209)), ('bron', (3210, 3214)), ('##quia', (3214, 3218)), ('##les', (3218, 3221)), ('per', (3222, 3225)), ('##mea', (3225, 3228)), ('##bles', (3228, 3232)), (',', (3232, 3233)), ('de', (3234, 3236)), ('calibre', (3237, 3244)), ('normal', (3245, 3251)), (',', (3251, 3252)), ('con', (3253, 3256)), ('mu', (3257, 3259)), ('##cosa', (3259, 3263)), ('eri', (3264, 3267)), ('##tem', (3267, 3270)), ('##atos', (3270, 3274)), ('##a', (3274, 3275)), ('y', (3276, 3277)), ('es', (3278, 3280)), ('##casa', (3280, 3284)), ('sec', (3285, 3288)), ('##reció', (3288, 3293)), ('##n', (3293, 3294)), ('ser', (3295, 3298)), ('##osa', (3298, 3301)), ('.', (3301, 3302))]\n",
      "\n",
      "\n",
      "[('Ci', (3303, 3305)), ('##tom', (3305, 3308)), ('##et', (3308, 3310)), ('##ría', (3310, 3313)), ('de', (3314, 3316)), ('fl', (3317, 3319)), ('##ujo', (3319, 3322)), ('de', (3323, 3325)), ('BA', (3326, 3328)), ('##L', (3328, 3329)), (':', (3329, 3330)), ('destaca', (3331, 3338)), ('la', (3339, 3341)), ('presencia', (3342, 3351)), ('de', (3352, 3354)), ('li', (3355, 3357)), ('##nfo', (3357, 3360)), ('##cito', (3360, 3364)), ('##sis', (3364, 3367)), ('de', (3368, 3370)), ('84', (3371, 3373)), ('%', (3373, 3374)), ('(', (3375, 3376)), ('li', (3376, 3378)), ('##nfo', (3378, 3381)), ('##cito', (3381, 3385)), ('##s', (3385, 3386)), ('T', (3387, 3388)), ('98', (3389, 3391)), ('%', (3391, 3392)), (',', (3392, 3393)), ('B', (3394, 3395)), ('0', (3396, 3397)), ('.', (3397, 3398)), ('5', (3398, 3399)), ('%', (3399, 3400)), (',', (3400, 3401)), ('y', (3402, 3403)), ('NK', (3404, 3406)), ('1', (3407, 3408)), ('.', (3408, 3409)), ('5', (3409, 3410)), ('%', (3410, 3411)), (')', (3411, 3412)), ('.', (3412, 3413))]\n",
      "\n",
      "\n",
      "[('AP', (3414, 3416)), (':', (3416, 3417)), ('ausencia', (3418, 3426)), ('de', (3427, 3429)), ('células', (3430, 3437)), ('mali', (3438, 3442)), ('##gna', (3442, 3445)), ('##s', (3445, 3446)), ('.', (3446, 3447))]\n",
      "\n",
      "\n",
      "[('Dia', (3449, 3452)), ('##gnóstico', (3452, 3460)), ('Neu', (3461, 3464)), ('##moni', (3464, 3468)), ('##tis', (3468, 3471)), ('inter', (3472, 3477)), ('##stici', (3477, 3482)), ('##al', (3482, 3484)), ('ind', (3485, 3488)), ('##ucida', (3488, 3493)), ('por', (3494, 3497)), ('f', (3498, 3499)), ('##ár', (3499, 3501)), ('##ma', (3501, 3503)), ('##cos', (3503, 3506)), ('qui', (3507, 3510)), ('##mio', (3510, 3513)), ('##ter', (3513, 3516)), ('##áp', (3516, 3518)), ('##icos', (3518, 3522)), ('com', (3523, 3526)), ('##pli', (3526, 3529)), ('##cada', (3529, 3533)), ('con', (3534, 3537)), ('síndrome', (3538, 3546)), ('de', (3547, 3549)), ('dis', (3550, 3553)), ('##tré', (3553, 3556)), ('##ss', (3556, 3558)), ('resp', (3559, 3563)), ('##irat', (3563, 3567)), ('##orio', (3567, 3571)), ('ag', (3572, 3574)), ('##udo', (3574, 3577)), ('.', (3577, 3578))]\n",
      "\n",
      "\n",
      "[('Trata', (3580, 3585)), ('##miento', (3585, 3591)), ('Ante', (3592, 3596)), ('los', (3597, 3600)), ('resultados', (3601, 3611)), ('dia', (3612, 3615)), ('##gnóstico', (3615, 3623)), ('##s', (3623, 3624)), (',', (3624, 3625)), ('se', (3626, 3628)), ('decide', (3629, 3635)), ('sus', (3636, 3639)), ('##pende', (3639, 3644)), ('##r', (3644, 3645)), ('todo', (3646, 3650)), ('tratamiento', (3651, 3662)), ('anti', (3663, 3667)), ('##in', (3667, 3669)), ('##fe', (3669, 3671)), ('##ccio', (3671, 3675)), ('##so', (3675, 3677)), (',', (3677, 3678)), ('y', (3679, 3680)), ('se', (3681, 3683)), ('inicia', (3684, 3690)), ('la', (3691, 3693)), ('administración', (3694, 3708)), ('de', (3709, 3711)), ('met', (3712, 3715)), ('##il', (3715, 3717)), ('##pred', (3717, 3721)), ('##nis', (3721, 3724)), ('##olo', (3724, 3727)), ('##na', (3727, 3729)), ('intra', (3730, 3735)), ('##veno', (3735, 3739)), ('##sa', (3739, 3741)), ('a', (3742, 3743)), ('dos', (3744, 3747)), ('##is', (3747, 3749)), ('de', (3750, 3752)), ('1', (3753, 3754)), ('mg', (3755, 3757)), ('/', (3757, 3758)), ('K', (3758, 3759)), ('##g', (3759, 3760)), ('/', (3760, 3761)), ('día', (3761, 3764)), ('.', (3764, 3765))]\n",
      "\n",
      "\n",
      "[('E', (3767, 3768)), ('##vol', (3768, 3771)), ('##ución', (3771, 3776)), ('Tras', (3777, 3781)), ('el', (3782, 3784)), ('inicio', (3785, 3791)), ('del', (3792, 3795)), ('tratamiento', (3796, 3807)), ('cort', (3808, 3812)), ('##ico', (3812, 3815)), ('##ide', (3815, 3818)), ('##o', (3818, 3819)), (',', (3819, 3820)), ('la', (3821, 3823)), ('paciente', (3824, 3832)), ('presenta', (3833, 3841)), ('mejor', (3842, 3847)), ('##ía', (3847, 3849)), ('clínica', (3850, 3857)), (',', (3857, 3858)), ('anal', (3859, 3863)), ('##ítica', (3863, 3868)), ('y', (3869, 3870)), ('radio', (3871, 3876)), ('##lógica', (3876, 3882)), (',', (3882, 3883)), ('que', (3884, 3887)), ('permitió', (3888, 3896)), ('posteriormente', (3897, 3911)), ('procede', (3912, 3919)), ('##r', (3919, 3920)), ('a', (3921, 3922)), ('la', (3923, 3925)), ('ex', (3926, 3928)), ('##tub', (3928, 3931)), ('##ación', (3931, 3936)), (',', (3936, 3937)), ('man', (3938, 3941)), ('##teniendo', (3941, 3949)), ('venti', (3950, 3955)), ('##lación', (3955, 3961)), ('mecánica', (3962, 3970)), ('no', (3971, 3973)), ('in', (3974, 3976)), ('##vasi', (3976, 3980)), ('##va', (3980, 3982)), ('con', (3983, 3986)), ('descenso', (3987, 3995)), ('pau', (3996, 3999)), ('##lati', (3999, 4003)), ('##no', (4003, 4005)), ('del', (4006, 4009)), ('fl', (4010, 4012)), ('##ujo', (4012, 4015)), ('con', (4016, 4019)), ('esta', (4020, 4024)), ('##bilidad', (4024, 4031)), ('clínica', (4032, 4039)), (',', (4039, 4040)), ('por', (4041, 4044)), ('lo', (4045, 4047)), ('que', (4048, 4051)), ('se', (4052, 4054)), ('tras', (4055, 4059)), ('##lada', (4059, 4063)), ('a', (4064, 4065)), ('sala', (4066, 4070)), ('de', (4071, 4073)), ('hospital', (4074, 4082)), ('##ización', (4082, 4089)), (',', (4089, 4090)), ('donde', (4091, 4096)), ('se', (4097, 4099)), ('continúa', (4100, 4108)), ('con', (4109, 4112)), ('tratamiento', (4113, 4124)), ('cort', (4125, 4129)), ('##ico', (4129, 4132)), ('##ide', (4132, 4135)), ('##o', (4135, 4136)), ('y', (4137, 4138)), ('dis', (4139, 4142)), ('##minución', (4142, 4150)), ('pro', (4151, 4154)), ('##gres', (4154, 4158)), ('##iva', (4158, 4161)), ('del', (4162, 4165)), ('fl', (4166, 4168)), ('##ujo', (4168, 4171)), ('de', (4172, 4174)), ('o', (4175, 4176)), ('##x', (4176, 4177)), ('##íg', (4177, 4179)), ('##eno', (4179, 4182)), (',', (4182, 4183)), ('llegando', (4184, 4192)), ('a', (4193, 4194)), ('su', (4195, 4197)), ('retirada', (4198, 4206)), ('con', (4207, 4210)), ('ad', (4211, 4213)), ('##ecu', (4213, 4216)), ('##ada', (4216, 4219)), ('tol', (4220, 4223)), ('##eran', (4223, 4227)), ('##cia', (4227, 4230)), (',', (4230, 4231)), ('pro', (4232, 4235)), ('##ced', (4235, 4238)), ('##iendo', (4238, 4243)), ('al', (4244, 4246)), ('alta', (4247, 4251)), ('hospital', (4252, 4260)), ('##aria', (4260, 4264)), ('con', (4265, 4268)), ('cort', (4269, 4273)), ('##ico', (4273, 4276)), ('##ides', (4276, 4280)), ('por', (4281, 4284)), ('vía', (4285, 4288)), ('oral', (4289, 4293)), ('en', (4294, 4296)), ('pau', (4297, 4300)), ('##ta', (4300, 4302)), ('des', (4303, 4306)), ('##cendente', (4306, 4314))]\n",
      "\n",
      "\n",
      "[('.', (4314, 4315))]\n",
      "\n",
      "\n",
      "[('Dada', (4317, 4321)), ('la', (4322, 4324)), ('to', (4325, 4327)), ('##xic', (4327, 4330)), ('##idad', (4330, 4334)), ('pu', (4335, 4337)), ('##lm', (4337, 4339)), ('##onar', (4339, 4343)), ('grado', (4344, 4349)), ('4', (4350, 4351)), ('ind', (4352, 4355)), ('##ucida', (4355, 4360)), ('por', (4361, 4364)), ('f', (4365, 4366)), ('##ár', (4366, 4368)), ('##ma', (4368, 4370)), ('##cos', (4370, 4373)), ('Q', (4374, 4375)), ('##T', (4375, 4376)), (',', (4376, 4377)), ('se', (4378, 4380)), ('presentó', (4381, 4389)), ('en', (4390, 4392)), ('comité', (4393, 4399)), ('de', (4400, 4402)), ('tumor', (4403, 4408)), ('##es', (4408, 4410)), ('de', (4411, 4413)), ('mama', (4414, 4418)), (',', (4418, 4419)), ('donde', (4420, 4425)), ('se', (4426, 4428)), ('decide', (4429, 4435)), ('sus', (4436, 4439)), ('##pende', (4439, 4444)), ('##r', (4444, 4445)), ('el', (4446, 4448)), ('tratamiento', (4449, 4460)), ('neo', (4461, 4464)), ('##ady', (4464, 4467)), ('##uva', (4467, 4470)), ('##nte', (4470, 4473)), ('y', (4474, 4475)), ('estudio', (4476, 4483)), ('de', (4484, 4486)), ('re', (4487, 4489)), ('##eva', (4489, 4492)), ('##lua', (4492, 4495)), ('##ción', (4495, 4499)), (',', (4499, 4500)), ('objet', (4501, 4506)), ('##iva', (4506, 4509)), ('##ndo', (4509, 4512)), ('RP', (4513, 4515)), (',', (4515, 4516)), ('con', (4517, 4520)), ('lo', (4521, 4523)), ('que', (4524, 4527)), ('se', (4528, 4530)), ('pro', (4531, 4534)), ('##cedió', (4534, 4539)), ('a', (4540, 4541)), ('realizar', (4542, 4550)), ('cu', (4551, 4553)), ('##ad', (4553, 4555)), ('##rante', (4555, 4560)), ('##cto', (4560, 4563)), ('##mí', (4563, 4565)), ('##a', (4565, 4566)), ('y', (4567, 4568)), ('radio', (4569, 4574)), ('##tera', (4574, 4578)), ('##pia', (4578, 4581)), ('ad', (4582, 4584)), ('##yu', (4584, 4586)), ('##vant', (4586, 4590)), ('##e', (4590, 4591)), ('.', (4591, 4592))]\n",
      "\n",
      "\n",
      "[('Actualmente', (4593, 4604)), (',', (4604, 4605)), ('presenta', (4606, 4614)), ('EC', (4615, 4617)), ('##O', (4617, 4618)), ('##G', (4618, 4619)), ('0', (4620, 4621)), (',', (4621, 4622)), ('en', (4623, 4625)), ('tratamiento', (4626, 4637)), ('con', (4638, 4641)), ('let', (4642, 4645)), ('##ro', (4645, 4647)), ('##zo', (4647, 4649)), ('##l', (4649, 4650)), ('y', (4651, 4652)), ('sin', (4653, 4656)), ('evidencia', (4657, 4666)), ('de', (4667, 4669)), ('enfermedad', (4670, 4680)), ('tumor', (4681, 4686)), ('##al', (4686, 4688)), ('.', (4688, 4689))]\n",
      "\n",
      "\n"
     ]
    }
   ],
   "source": [
    "for i in range(check_id_frag, check_id_frag + train_frag[check_id]):\n",
    "    print(list(zip([tokenizer._token_dict_inv[ind] for ind in train_ind[i]][1:len(train_start_end_frag[i])+1], \n",
    "               train_start_end_frag[i])))\n",
    "    print(\"\\n\")"
   ]
  },
  {
   "cell_type": "code",
   "execution_count": 69,
   "metadata": {},
   "outputs": [
    {
     "name": "stdout",
     "output_type": "stream",
     "text": [
      "[CLS] Ana ##mne ##sis Mujer de 66 años de edad , con ante ##cedent ##es de hip ##erten ##sión arteria ##l e hip ##er ##coles ##tero ##lem ##ia , inter ##veni ##da de tumor ##ect ##om ##ía en mama derecha en 1975 por pat ##ología beni ##gna , in ##con ##tinen ##cia uri ##nari ##a , vari ##ces , meni ##sco ##pat ##ía y mio ##pía , en tratamiento habitual con los ##art ##án y ator ##vas ##tati ##na . [SEP] [PAD] [PAD] [PAD] [PAD] [PAD] [PAD] [PAD] [PAD] [PAD] [PAD] [PAD] [PAD] [PAD] [PAD] [PAD] [PAD] [PAD] [PAD] [PAD] [PAD] [PAD] [PAD] [PAD] [PAD] [PAD] [PAD] [PAD] [PAD] [PAD] [PAD] [PAD] [PAD] [PAD] [PAD] [PAD] [PAD] [PAD] [PAD] [PAD] [PAD] [PAD] [PAD] [PAD] [PAD] [PAD] [PAD] [PAD] \n",
      "\n",
      "[CLS] Dia ##gno ##stica ##da en diciembre de 2015 de Car ##cino ##ma duc ##tal in ##fil ##tra ##nte de mama derecha local ##mente av ##anza ##do E - II ##B ( T2 ##N ##1 ##M ##0 ) fe ##not ##ipo H ##ER ##2 positivo . [SEP] [PAD] [PAD] [PAD] [PAD] [PAD] [PAD] [PAD] [PAD] [PAD] [PAD] [PAD] [PAD] [PAD] [PAD] [PAD] [PAD] [PAD] [PAD] [PAD] [PAD] [PAD] [PAD] [PAD] [PAD] [PAD] [PAD] [PAD] [PAD] [PAD] [PAD] [PAD] [PAD] [PAD] [PAD] [PAD] [PAD] [PAD] [PAD] [PAD] [PAD] [PAD] [PAD] [PAD] [PAD] [PAD] [PAD] [PAD] [PAD] [PAD] [PAD] [PAD] [PAD] [PAD] [PAD] [PAD] [PAD] [PAD] [PAD] [PAD] [PAD] [PAD] [PAD] [PAD] [PAD] [PAD] [PAD] [PAD] [PAD] [PAD] [PAD] [PAD] [PAD] [PAD] [PAD] [PAD] [PAD] [PAD] [PAD] [PAD] [PAD] [PAD] \n",
      "\n",
      "[CLS] RE + + + . [SEP] [PAD] [PAD] [PAD] [PAD] [PAD] [PAD] [PAD] [PAD] [PAD] [PAD] [PAD] [PAD] [PAD] [PAD] [PAD] [PAD] [PAD] [PAD] [PAD] [PAD] [PAD] [PAD] [PAD] [PAD] [PAD] [PAD] [PAD] [PAD] [PAD] [PAD] [PAD] [PAD] [PAD] [PAD] [PAD] [PAD] [PAD] [PAD] [PAD] [PAD] [PAD] [PAD] [PAD] [PAD] [PAD] [PAD] [PAD] [PAD] [PAD] [PAD] [PAD] [PAD] [PAD] [PAD] [PAD] [PAD] [PAD] [PAD] [PAD] [PAD] [PAD] [PAD] [PAD] [PAD] [PAD] [PAD] [PAD] [PAD] [PAD] [PAD] [PAD] [PAD] [PAD] [PAD] [PAD] [PAD] [PAD] [PAD] [PAD] [PAD] [PAD] [PAD] [PAD] [PAD] [PAD] [PAD] [PAD] [PAD] [PAD] [PAD] [PAD] [PAD] [PAD] [PAD] [PAD] [PAD] [PAD] [PAD] [PAD] [PAD] [PAD] [PAD] [PAD] [PAD] [PAD] [PAD] [PAD] [PAD] [PAD] [PAD] [PAD] [PAD] [PAD] [PAD] [PAD] [PAD] [PAD] [PAD] [PAD] [PAD] [PAD] \n",
      "\n",
      "[CLS] RP + . [SEP] [PAD] [PAD] [PAD] [PAD] [PAD] [PAD] [PAD] [PAD] [PAD] [PAD] [PAD] [PAD] [PAD] [PAD] [PAD] [PAD] [PAD] [PAD] [PAD] [PAD] [PAD] [PAD] [PAD] [PAD] [PAD] [PAD] [PAD] [PAD] [PAD] [PAD] [PAD] [PAD] [PAD] [PAD] [PAD] [PAD] [PAD] [PAD] [PAD] [PAD] [PAD] [PAD] [PAD] [PAD] [PAD] [PAD] [PAD] [PAD] [PAD] [PAD] [PAD] [PAD] [PAD] [PAD] [PAD] [PAD] [PAD] [PAD] [PAD] [PAD] [PAD] [PAD] [PAD] [PAD] [PAD] [PAD] [PAD] [PAD] [PAD] [PAD] [PAD] [PAD] [PAD] [PAD] [PAD] [PAD] [PAD] [PAD] [PAD] [PAD] [PAD] [PAD] [PAD] [PAD] [PAD] [PAD] [PAD] [PAD] [PAD] [PAD] [PAD] [PAD] [PAD] [PAD] [PAD] [PAD] [PAD] [PAD] [PAD] [PAD] [PAD] [PAD] [PAD] [PAD] [PAD] [PAD] [PAD] [PAD] [PAD] [PAD] [PAD] [PAD] [PAD] [PAD] [PAD] [PAD] [PAD] [PAD] [PAD] [PAD] [PAD] [PAD] [PAD] \n",
      "\n",
      "[CLS] Ki 67 15 % . [SEP] [PAD] [PAD] [PAD] [PAD] [PAD] [PAD] [PAD] [PAD] [PAD] [PAD] [PAD] [PAD] [PAD] [PAD] [PAD] [PAD] [PAD] [PAD] [PAD] [PAD] [PAD] [PAD] [PAD] [PAD] [PAD] [PAD] [PAD] [PAD] [PAD] [PAD] [PAD] [PAD] [PAD] [PAD] [PAD] [PAD] [PAD] [PAD] [PAD] [PAD] [PAD] [PAD] [PAD] [PAD] [PAD] [PAD] [PAD] [PAD] [PAD] [PAD] [PAD] [PAD] [PAD] [PAD] [PAD] [PAD] [PAD] [PAD] [PAD] [PAD] [PAD] [PAD] [PAD] [PAD] [PAD] [PAD] [PAD] [PAD] [PAD] [PAD] [PAD] [PAD] [PAD] [PAD] [PAD] [PAD] [PAD] [PAD] [PAD] [PAD] [PAD] [PAD] [PAD] [PAD] [PAD] [PAD] [PAD] [PAD] [PAD] [PAD] [PAD] [PAD] [PAD] [PAD] [PAD] [PAD] [PAD] [PAD] [PAD] [PAD] [PAD] [PAD] [PAD] [PAD] [PAD] [PAD] [PAD] [PAD] [PAD] [PAD] [PAD] [PAD] [PAD] [PAD] [PAD] [PAD] [PAD] [PAD] [PAD] [PAD] [PAD] \n",
      "\n",
      "[CLS] Se decide qui ##mio ##tera ##pia ( Q ##T ) neo ##ady ##uva ##nte esquema Do ##xo ##rr ##ubi ##cina li ##pos ##oma ##l 50 mg / m2 ( día 1 ) + Pac ##lita ##xel 80 mg / m2 ( día 1 , 8 , 15 ) + Tras ##tu ##zuma ##b 4 mg / kg ( día 1 ) y 2 mg ( día 8 , 15 ) , con dos ##is de carga en ciclo 1 . [SEP] [PAD] [PAD] [PAD] [PAD] [PAD] [PAD] [PAD] [PAD] [PAD] [PAD] [PAD] [PAD] [PAD] [PAD] [PAD] [PAD] [PAD] [PAD] [PAD] [PAD] [PAD] [PAD] [PAD] [PAD] [PAD] [PAD] [PAD] [PAD] [PAD] [PAD] [PAD] [PAD] [PAD] [PAD] [PAD] [PAD] [PAD] [PAD] [PAD] [PAD] [PAD] [PAD] [PAD] [PAD] [PAD] [PAD] \n",
      "\n",
      "[CLS] Tras recibir 2 ciclo ##s completo ##s de tratamiento , acu ##dió a ur ##gen ##cias por cuadro fe ##bri ##l de 3 días de evolución de hasta 39 ##º ##C , con leve ##s mol ##esti ##as para de ##gl ##uti ##r y art ##romia ##lgi ##as gene ##ali ##zadas , sin tos ni ex ##pect ##ora ##ción ni otra semi ##ología in ##fe ##ccio ##sa por apa ##ratos , con radio ##grafía de tó ##rax normal , siendo dada de alta con el dia ##gnóstico de far ##ingi ##tis ag ##uda , con pau ##ta anti ##bió ##tica . [SEP] [PAD] [PAD] [PAD] [PAD] [PAD] [PAD] [PAD] [PAD] [PAD] [PAD] [PAD] [PAD] [PAD] [PAD] [PAD] [PAD] [PAD] [PAD] [PAD] [PAD] [PAD] [PAD] [PAD] [PAD] [PAD] \n",
      "\n",
      "[CLS] 4 días después , acu ##dió nuevamente por em ##pe ##ora ##miento del estado general y fie ##bre de 39 ##º ##C , acompañado de tos , dolor to ##rá ##ci ##co de características pl ##eur ##ítica ##s , con dis ##nea de reciente aparición a mínimo ##s esfuerzos , con ort ##op ##nea y oli ##gur ##ia . [SEP] [PAD] [PAD] [PAD] [PAD] [PAD] [PAD] [PAD] [PAD] [PAD] [PAD] [PAD] [PAD] [PAD] [PAD] [PAD] [PAD] [PAD] [PAD] [PAD] [PAD] [PAD] [PAD] [PAD] [PAD] [PAD] [PAD] [PAD] [PAD] [PAD] [PAD] [PAD] [PAD] [PAD] [PAD] [PAD] [PAD] [PAD] [PAD] [PAD] [PAD] [PAD] [PAD] [PAD] [PAD] [PAD] [PAD] [PAD] [PAD] [PAD] [PAD] [PAD] [PAD] [PAD] [PAD] [PAD] [PAD] [PAD] [PAD] [PAD] [PAD] [PAD] [PAD] [PAD] [PAD] [PAD] [PAD] [PAD] \n",
      "\n",
      "[CLS] Ante la grave ##dad de la situación , con sign ##os de ins ##uf ##iciencia resp ##irat ##oria grave , se tras ##lada a UCI . [SEP] [PAD] [PAD] [PAD] [PAD] [PAD] [PAD] [PAD] [PAD] [PAD] [PAD] [PAD] [PAD] [PAD] [PAD] [PAD] [PAD] [PAD] [PAD] [PAD] [PAD] [PAD] [PAD] [PAD] [PAD] [PAD] [PAD] [PAD] [PAD] [PAD] [PAD] [PAD] [PAD] [PAD] [PAD] [PAD] [PAD] [PAD] [PAD] [PAD] [PAD] [PAD] [PAD] [PAD] [PAD] [PAD] [PAD] [PAD] [PAD] [PAD] [PAD] [PAD] [PAD] [PAD] [PAD] [PAD] [PAD] [PAD] [PAD] [PAD] [PAD] [PAD] [PAD] [PAD] [PAD] [PAD] [PAD] [PAD] [PAD] [PAD] [PAD] [PAD] [PAD] [PAD] [PAD] [PAD] [PAD] [PAD] [PAD] [PAD] [PAD] [PAD] [PAD] [PAD] [PAD] [PAD] [PAD] [PAD] [PAD] [PAD] [PAD] [PAD] [PAD] [PAD] [PAD] [PAD] [PAD] [PAD] [PAD] [PAD] [PAD] \n",
      "\n",
      "[CLS] Durante su estancia en dicha unidad , se inicia anti ##bio ##tico ##tera ##pia de amplio es ##pect ##ro , y tratamiento con venti ##lación no in ##vasi ##va que se mantiene durante unas horas , precisa ##ndo posteriormente int ##uba ##ción y drogas vas ##oa ##ctiva ##s . [SEP] [PAD] [PAD] [PAD] [PAD] [PAD] [PAD] [PAD] [PAD] [PAD] [PAD] [PAD] [PAD] [PAD] [PAD] [PAD] [PAD] [PAD] [PAD] [PAD] [PAD] [PAD] [PAD] [PAD] [PAD] [PAD] [PAD] [PAD] [PAD] [PAD] [PAD] [PAD] [PAD] [PAD] [PAD] [PAD] [PAD] [PAD] [PAD] [PAD] [PAD] [PAD] [PAD] [PAD] [PAD] [PAD] [PAD] [PAD] [PAD] [PAD] [PAD] [PAD] [PAD] [PAD] [PAD] [PAD] [PAD] [PAD] [PAD] [PAD] [PAD] [PAD] [PAD] [PAD] [PAD] [PAD] [PAD] [PAD] [PAD] [PAD] [PAD] [PAD] [PAD] [PAD] [PAD] [PAD] [PAD] [PAD] \n",
      "\n",
      "[CLS] Ante la no mejor ##ía clínica , con los días , se as ##oci ##a tratamiento anti ##vira ##l ( ose ##lta ##mi ##vir ) , anti ##f ##ún ##gico ( vor ##ico ##na ##zo ##l ) y co ##tri ##mo ##xa ##zo ##l dado el estado de in ##mun ##ode ##presión , a la espera de los resultados de las pruebas complement ##arias . [SEP] [PAD] [PAD] [PAD] [PAD] [PAD] [PAD] [PAD] [PAD] [PAD] [PAD] [PAD] [PAD] [PAD] [PAD] [PAD] [PAD] [PAD] [PAD] [PAD] [PAD] [PAD] [PAD] [PAD] [PAD] [PAD] [PAD] [PAD] [PAD] [PAD] [PAD] [PAD] [PAD] [PAD] [PAD] [PAD] [PAD] [PAD] [PAD] [PAD] [PAD] [PAD] [PAD] [PAD] [PAD] [PAD] [PAD] [PAD] [PAD] [PAD] [PAD] [PAD] [PAD] [PAD] [PAD] [PAD] [PAD] [PAD] [PAD] [PAD] [PAD] [PAD] \n",
      "\n",
      "[CLS] Ex ##plo ##ración física A su llegada a ur ##gen ##cias , mal estado general , pal ##ide ##z mu ##co ##cut ##án ##ea , ta ##qui ##pne ##a a 36 rpm , con tira ##je inter ##cos ##tal . [SEP] [PAD] [PAD] [PAD] [PAD] [PAD] [PAD] [PAD] [PAD] [PAD] [PAD] [PAD] [PAD] [PAD] [PAD] [PAD] [PAD] [PAD] [PAD] [PAD] [PAD] [PAD] [PAD] [PAD] [PAD] [PAD] [PAD] [PAD] [PAD] [PAD] [PAD] [PAD] [PAD] [PAD] [PAD] [PAD] [PAD] [PAD] [PAD] [PAD] [PAD] [PAD] [PAD] [PAD] [PAD] [PAD] [PAD] [PAD] [PAD] [PAD] [PAD] [PAD] [PAD] [PAD] [PAD] [PAD] [PAD] [PAD] [PAD] [PAD] [PAD] [PAD] [PAD] [PAD] [PAD] [PAD] [PAD] [PAD] [PAD] [PAD] [PAD] [PAD] [PAD] [PAD] [PAD] [PAD] [PAD] [PAD] [PAD] [PAD] [PAD] [PAD] [PAD] [PAD] [PAD] [PAD] [PAD] \n",
      "\n",
      "[CLS] Ha ##bla entre ##cor ##tada . [SEP] [PAD] [PAD] [PAD] [PAD] [PAD] [PAD] [PAD] [PAD] [PAD] [PAD] [PAD] [PAD] [PAD] [PAD] [PAD] [PAD] [PAD] [PAD] [PAD] [PAD] [PAD] [PAD] [PAD] [PAD] [PAD] [PAD] [PAD] [PAD] [PAD] [PAD] [PAD] [PAD] [PAD] [PAD] [PAD] [PAD] [PAD] [PAD] [PAD] [PAD] [PAD] [PAD] [PAD] [PAD] [PAD] [PAD] [PAD] [PAD] [PAD] [PAD] [PAD] [PAD] [PAD] [PAD] [PAD] [PAD] [PAD] [PAD] [PAD] [PAD] [PAD] [PAD] [PAD] [PAD] [PAD] [PAD] [PAD] [PAD] [PAD] [PAD] [PAD] [PAD] [PAD] [PAD] [PAD] [PAD] [PAD] [PAD] [PAD] [PAD] [PAD] [PAD] [PAD] [PAD] [PAD] [PAD] [PAD] [PAD] [PAD] [PAD] [PAD] [PAD] [PAD] [PAD] [PAD] [PAD] [PAD] [PAD] [PAD] [PAD] [PAD] [PAD] [PAD] [PAD] [PAD] [PAD] [PAD] [PAD] [PAD] [PAD] [PAD] [PAD] [PAD] [PAD] [PAD] [PAD] [PAD] [PAD] [PAD] [PAD] \n",
      "\n",
      "[CLS] TA 115 / 70 . [SEP] [PAD] [PAD] [PAD] [PAD] [PAD] [PAD] [PAD] [PAD] [PAD] [PAD] [PAD] [PAD] [PAD] [PAD] [PAD] [PAD] [PAD] [PAD] [PAD] [PAD] [PAD] [PAD] [PAD] [PAD] [PAD] [PAD] [PAD] [PAD] [PAD] [PAD] [PAD] [PAD] [PAD] [PAD] [PAD] [PAD] [PAD] [PAD] [PAD] [PAD] [PAD] [PAD] [PAD] [PAD] [PAD] [PAD] [PAD] [PAD] [PAD] [PAD] [PAD] [PAD] [PAD] [PAD] [PAD] [PAD] [PAD] [PAD] [PAD] [PAD] [PAD] [PAD] [PAD] [PAD] [PAD] [PAD] [PAD] [PAD] [PAD] [PAD] [PAD] [PAD] [PAD] [PAD] [PAD] [PAD] [PAD] [PAD] [PAD] [PAD] [PAD] [PAD] [PAD] [PAD] [PAD] [PAD] [PAD] [PAD] [PAD] [PAD] [PAD] [PAD] [PAD] [PAD] [PAD] [PAD] [PAD] [PAD] [PAD] [PAD] [PAD] [PAD] [PAD] [PAD] [PAD] [PAD] [PAD] [PAD] [PAD] [PAD] [PAD] [PAD] [PAD] [PAD] [PAD] [PAD] [PAD] [PAD] [PAD] [PAD] [PAD] \n",
      "\n",
      "[CLS] FC 110 . [SEP] [PAD] [PAD] [PAD] [PAD] [PAD] [PAD] [PAD] [PAD] [PAD] [PAD] [PAD] [PAD] [PAD] [PAD] [PAD] [PAD] [PAD] [PAD] [PAD] [PAD] [PAD] [PAD] [PAD] [PAD] [PAD] [PAD] [PAD] [PAD] [PAD] [PAD] [PAD] [PAD] [PAD] [PAD] [PAD] [PAD] [PAD] [PAD] [PAD] [PAD] [PAD] [PAD] [PAD] [PAD] [PAD] [PAD] [PAD] [PAD] [PAD] [PAD] [PAD] [PAD] [PAD] [PAD] [PAD] [PAD] [PAD] [PAD] [PAD] [PAD] [PAD] [PAD] [PAD] [PAD] [PAD] [PAD] [PAD] [PAD] [PAD] [PAD] [PAD] [PAD] [PAD] [PAD] [PAD] [PAD] [PAD] [PAD] [PAD] [PAD] [PAD] [PAD] [PAD] [PAD] [PAD] [PAD] [PAD] [PAD] [PAD] [PAD] [PAD] [PAD] [PAD] [PAD] [PAD] [PAD] [PAD] [PAD] [PAD] [PAD] [PAD] [PAD] [PAD] [PAD] [PAD] [PAD] [PAD] [PAD] [PAD] [PAD] [PAD] [PAD] [PAD] [PAD] [PAD] [PAD] [PAD] [PAD] [PAD] [PAD] [PAD] [PAD] [PAD] \n",
      "\n",
      "[CLS] SA ##TO ##2 84 % aire ambiente . [SEP] [PAD] [PAD] [PAD] [PAD] [PAD] [PAD] [PAD] [PAD] [PAD] [PAD] [PAD] [PAD] [PAD] [PAD] [PAD] [PAD] [PAD] [PAD] [PAD] [PAD] [PAD] [PAD] [PAD] [PAD] [PAD] [PAD] [PAD] [PAD] [PAD] [PAD] [PAD] [PAD] [PAD] [PAD] [PAD] [PAD] [PAD] [PAD] [PAD] [PAD] [PAD] [PAD] [PAD] [PAD] [PAD] [PAD] [PAD] [PAD] [PAD] [PAD] [PAD] [PAD] [PAD] [PAD] [PAD] [PAD] [PAD] [PAD] [PAD] [PAD] [PAD] [PAD] [PAD] [PAD] [PAD] [PAD] [PAD] [PAD] [PAD] [PAD] [PAD] [PAD] [PAD] [PAD] [PAD] [PAD] [PAD] [PAD] [PAD] [PAD] [PAD] [PAD] [PAD] [PAD] [PAD] [PAD] [PAD] [PAD] [PAD] [PAD] [PAD] [PAD] [PAD] [PAD] [PAD] [PAD] [PAD] [PAD] [PAD] [PAD] [PAD] [PAD] [PAD] [PAD] [PAD] [PAD] [PAD] [PAD] [PAD] [PAD] [PAD] [PAD] [PAD] [PAD] [PAD] [PAD] [PAD] [PAD] \n",
      "\n",
      "[CLS] SA ##TO ##2 90 % con res ##ervo ##rio a 100 % . [SEP] [PAD] [PAD] [PAD] [PAD] [PAD] [PAD] [PAD] [PAD] [PAD] [PAD] [PAD] [PAD] [PAD] [PAD] [PAD] [PAD] [PAD] [PAD] [PAD] [PAD] [PAD] [PAD] [PAD] [PAD] [PAD] [PAD] [PAD] [PAD] [PAD] [PAD] [PAD] [PAD] [PAD] [PAD] [PAD] [PAD] [PAD] [PAD] [PAD] [PAD] [PAD] [PAD] [PAD] [PAD] [PAD] [PAD] [PAD] [PAD] [PAD] [PAD] [PAD] [PAD] [PAD] [PAD] [PAD] [PAD] [PAD] [PAD] [PAD] [PAD] [PAD] [PAD] [PAD] [PAD] [PAD] [PAD] [PAD] [PAD] [PAD] [PAD] [PAD] [PAD] [PAD] [PAD] [PAD] [PAD] [PAD] [PAD] [PAD] [PAD] [PAD] [PAD] [PAD] [PAD] [PAD] [PAD] [PAD] [PAD] [PAD] [PAD] [PAD] [PAD] [PAD] [PAD] [PAD] [PAD] [PAD] [PAD] [PAD] [PAD] [PAD] [PAD] [PAD] [PAD] [PAD] [PAD] [PAD] [PAD] [PAD] [PAD] [PAD] [PAD] [PAD] \n",
      "\n",
      "[CLS] AC ##P : ru ##idos card ##ía ##cos r ##ít ##micos , no so ##plos . [SEP] [PAD] [PAD] [PAD] [PAD] [PAD] [PAD] [PAD] [PAD] [PAD] [PAD] [PAD] [PAD] [PAD] [PAD] [PAD] [PAD] [PAD] [PAD] [PAD] [PAD] [PAD] [PAD] [PAD] [PAD] [PAD] [PAD] [PAD] [PAD] [PAD] [PAD] [PAD] [PAD] [PAD] [PAD] [PAD] [PAD] [PAD] [PAD] [PAD] [PAD] [PAD] [PAD] [PAD] [PAD] [PAD] [PAD] [PAD] [PAD] [PAD] [PAD] [PAD] [PAD] [PAD] [PAD] [PAD] [PAD] [PAD] [PAD] [PAD] [PAD] [PAD] [PAD] [PAD] [PAD] [PAD] [PAD] [PAD] [PAD] [PAD] [PAD] [PAD] [PAD] [PAD] [PAD] [PAD] [PAD] [PAD] [PAD] [PAD] [PAD] [PAD] [PAD] [PAD] [PAD] [PAD] [PAD] [PAD] [PAD] [PAD] [PAD] [PAD] [PAD] [PAD] [PAD] [PAD] [PAD] [PAD] [PAD] [PAD] [PAD] [PAD] [PAD] [PAD] [PAD] [PAD] [PAD] [PAD] [PAD] [PAD] [PAD] \n",
      "\n",
      "[CLS] Mur ##mul ##lo ve ##sic ##ular dis ##min ##uido global ##mente , con este ##rto ##res c ##re ##pita ##ntes , ro ##ncu ##s y si ##bilan ##cias en ambos campos pu ##lm ##onare ##s . [SEP] [PAD] [PAD] [PAD] [PAD] [PAD] [PAD] [PAD] [PAD] [PAD] [PAD] [PAD] [PAD] [PAD] [PAD] [PAD] [PAD] [PAD] [PAD] [PAD] [PAD] [PAD] [PAD] [PAD] [PAD] [PAD] [PAD] [PAD] [PAD] [PAD] [PAD] [PAD] [PAD] [PAD] [PAD] [PAD] [PAD] [PAD] [PAD] [PAD] [PAD] [PAD] [PAD] [PAD] [PAD] [PAD] [PAD] [PAD] [PAD] [PAD] [PAD] [PAD] [PAD] [PAD] [PAD] [PAD] [PAD] [PAD] [PAD] [PAD] [PAD] [PAD] [PAD] [PAD] [PAD] [PAD] [PAD] [PAD] [PAD] [PAD] [PAD] [PAD] [PAD] [PAD] [PAD] [PAD] [PAD] [PAD] [PAD] [PAD] [PAD] [PAD] [PAD] [PAD] [PAD] [PAD] [PAD] [PAD] [PAD] [PAD] [PAD] \n",
      "\n",
      "[CLS] Abd ##omen : Rui ##dos hi ##dro ##a ##éreo ##s presentes . [SEP] [PAD] [PAD] [PAD] [PAD] [PAD] [PAD] [PAD] [PAD] [PAD] [PAD] [PAD] [PAD] [PAD] [PAD] [PAD] [PAD] [PAD] [PAD] [PAD] [PAD] [PAD] [PAD] [PAD] [PAD] [PAD] [PAD] [PAD] [PAD] [PAD] [PAD] [PAD] [PAD] [PAD] [PAD] [PAD] [PAD] [PAD] [PAD] [PAD] [PAD] [PAD] [PAD] [PAD] [PAD] [PAD] [PAD] [PAD] [PAD] [PAD] [PAD] [PAD] [PAD] [PAD] [PAD] [PAD] [PAD] [PAD] [PAD] [PAD] [PAD] [PAD] [PAD] [PAD] [PAD] [PAD] [PAD] [PAD] [PAD] [PAD] [PAD] [PAD] [PAD] [PAD] [PAD] [PAD] [PAD] [PAD] [PAD] [PAD] [PAD] [PAD] [PAD] [PAD] [PAD] [PAD] [PAD] [PAD] [PAD] [PAD] [PAD] [PAD] [PAD] [PAD] [PAD] [PAD] [PAD] [PAD] [PAD] [PAD] [PAD] [PAD] [PAD] [PAD] [PAD] [PAD] [PAD] [PAD] [PAD] [PAD] [PAD] [PAD] [PAD] [PAD] [PAD] \n",
      "\n",
      "[CLS] Bland ##o , de ##presi ##ble , no dolor ##oso a la pal ##pación . [SEP] [PAD] [PAD] [PAD] [PAD] [PAD] [PAD] [PAD] [PAD] [PAD] [PAD] [PAD] [PAD] [PAD] [PAD] [PAD] [PAD] [PAD] [PAD] [PAD] [PAD] [PAD] [PAD] [PAD] [PAD] [PAD] [PAD] [PAD] [PAD] [PAD] [PAD] [PAD] [PAD] [PAD] [PAD] [PAD] [PAD] [PAD] [PAD] [PAD] [PAD] [PAD] [PAD] [PAD] [PAD] [PAD] [PAD] [PAD] [PAD] [PAD] [PAD] [PAD] [PAD] [PAD] [PAD] [PAD] [PAD] [PAD] [PAD] [PAD] [PAD] [PAD] [PAD] [PAD] [PAD] [PAD] [PAD] [PAD] [PAD] [PAD] [PAD] [PAD] [PAD] [PAD] [PAD] [PAD] [PAD] [PAD] [PAD] [PAD] [PAD] [PAD] [PAD] [PAD] [PAD] [PAD] [PAD] [PAD] [PAD] [PAD] [PAD] [PAD] [PAD] [PAD] [PAD] [PAD] [PAD] [PAD] [PAD] [PAD] [PAD] [PAD] [PAD] [PAD] [PAD] [PAD] [PAD] [PAD] [PAD] [PAD] [PAD] [PAD] \n",
      "\n",
      "[CLS] No reacción per ##iton ##eal . [SEP] [PAD] [PAD] [PAD] [PAD] [PAD] [PAD] [PAD] [PAD] [PAD] [PAD] [PAD] [PAD] [PAD] [PAD] [PAD] [PAD] [PAD] [PAD] [PAD] [PAD] [PAD] [PAD] [PAD] [PAD] [PAD] [PAD] [PAD] [PAD] [PAD] [PAD] [PAD] [PAD] [PAD] [PAD] [PAD] [PAD] [PAD] [PAD] [PAD] [PAD] [PAD] [PAD] [PAD] [PAD] [PAD] [PAD] [PAD] [PAD] [PAD] [PAD] [PAD] [PAD] [PAD] [PAD] [PAD] [PAD] [PAD] [PAD] [PAD] [PAD] [PAD] [PAD] [PAD] [PAD] [PAD] [PAD] [PAD] [PAD] [PAD] [PAD] [PAD] [PAD] [PAD] [PAD] [PAD] [PAD] [PAD] [PAD] [PAD] [PAD] [PAD] [PAD] [PAD] [PAD] [PAD] [PAD] [PAD] [PAD] [PAD] [PAD] [PAD] [PAD] [PAD] [PAD] [PAD] [PAD] [PAD] [PAD] [PAD] [PAD] [PAD] [PAD] [PAD] [PAD] [PAD] [PAD] [PAD] [PAD] [PAD] [PAD] [PAD] [PAD] [PAD] [PAD] [PAD] [PAD] [PAD] [PAD] [PAD] [PAD] \n",
      "\n",
      "[CLS] No ede ##mas en miembros inferiores . [SEP] [PAD] [PAD] [PAD] [PAD] [PAD] [PAD] [PAD] [PAD] [PAD] [PAD] [PAD] [PAD] [PAD] [PAD] [PAD] [PAD] [PAD] [PAD] [PAD] [PAD] [PAD] [PAD] [PAD] [PAD] [PAD] [PAD] [PAD] [PAD] [PAD] [PAD] [PAD] [PAD] [PAD] [PAD] [PAD] [PAD] [PAD] [PAD] [PAD] [PAD] [PAD] [PAD] [PAD] [PAD] [PAD] [PAD] [PAD] [PAD] [PAD] [PAD] [PAD] [PAD] [PAD] [PAD] [PAD] [PAD] [PAD] [PAD] [PAD] [PAD] [PAD] [PAD] [PAD] [PAD] [PAD] [PAD] [PAD] [PAD] [PAD] [PAD] [PAD] [PAD] [PAD] [PAD] [PAD] [PAD] [PAD] [PAD] [PAD] [PAD] [PAD] [PAD] [PAD] [PAD] [PAD] [PAD] [PAD] [PAD] [PAD] [PAD] [PAD] [PAD] [PAD] [PAD] [PAD] [PAD] [PAD] [PAD] [PAD] [PAD] [PAD] [PAD] [PAD] [PAD] [PAD] [PAD] [PAD] [PAD] [PAD] [PAD] [PAD] [PAD] [PAD] [PAD] [PAD] [PAD] [PAD] [PAD] [PAD] \n",
      "\n",
      "[CLS] P ##ul ##sos dé ##bile ##s pero sim ##ét ##ricos . [SEP] [PAD] [PAD] [PAD] [PAD] [PAD] [PAD] [PAD] [PAD] [PAD] [PAD] [PAD] [PAD] [PAD] [PAD] [PAD] [PAD] [PAD] [PAD] [PAD] [PAD] [PAD] [PAD] [PAD] [PAD] [PAD] [PAD] [PAD] [PAD] [PAD] [PAD] [PAD] [PAD] [PAD] [PAD] [PAD] [PAD] [PAD] [PAD] [PAD] [PAD] [PAD] [PAD] [PAD] [PAD] [PAD] [PAD] [PAD] [PAD] [PAD] [PAD] [PAD] [PAD] [PAD] [PAD] [PAD] [PAD] [PAD] [PAD] [PAD] [PAD] [PAD] [PAD] [PAD] [PAD] [PAD] [PAD] [PAD] [PAD] [PAD] [PAD] [PAD] [PAD] [PAD] [PAD] [PAD] [PAD] [PAD] [PAD] [PAD] [PAD] [PAD] [PAD] [PAD] [PAD] [PAD] [PAD] [PAD] [PAD] [PAD] [PAD] [PAD] [PAD] [PAD] [PAD] [PAD] [PAD] [PAD] [PAD] [PAD] [PAD] [PAD] [PAD] [PAD] [PAD] [PAD] [PAD] [PAD] [PAD] [PAD] [PAD] [PAD] [PAD] [PAD] [PAD] [PAD] \n",
      "\n",
      "[CLS] Pr ##ue ##bas complement ##arias . [SEP] [PAD] [PAD] [PAD] [PAD] [PAD] [PAD] [PAD] [PAD] [PAD] [PAD] [PAD] [PAD] [PAD] [PAD] [PAD] [PAD] [PAD] [PAD] [PAD] [PAD] [PAD] [PAD] [PAD] [PAD] [PAD] [PAD] [PAD] [PAD] [PAD] [PAD] [PAD] [PAD] [PAD] [PAD] [PAD] [PAD] [PAD] [PAD] [PAD] [PAD] [PAD] [PAD] [PAD] [PAD] [PAD] [PAD] [PAD] [PAD] [PAD] [PAD] [PAD] [PAD] [PAD] [PAD] [PAD] [PAD] [PAD] [PAD] [PAD] [PAD] [PAD] [PAD] [PAD] [PAD] [PAD] [PAD] [PAD] [PAD] [PAD] [PAD] [PAD] [PAD] [PAD] [PAD] [PAD] [PAD] [PAD] [PAD] [PAD] [PAD] [PAD] [PAD] [PAD] [PAD] [PAD] [PAD] [PAD] [PAD] [PAD] [PAD] [PAD] [PAD] [PAD] [PAD] [PAD] [PAD] [PAD] [PAD] [PAD] [PAD] [PAD] [PAD] [PAD] [PAD] [PAD] [PAD] [PAD] [PAD] [PAD] [PAD] [PAD] [PAD] [PAD] [PAD] [PAD] [PAD] [PAD] [PAD] [PAD] [PAD] \n",
      "\n",
      "[CLS] Ana ##lí ##tica sang ##u ##íne ##a : H ##b 8 . 9 . [SEP] [PAD] [PAD] [PAD] [PAD] [PAD] [PAD] [PAD] [PAD] [PAD] [PAD] [PAD] [PAD] [PAD] [PAD] [PAD] [PAD] [PAD] [PAD] [PAD] [PAD] [PAD] [PAD] [PAD] [PAD] [PAD] [PAD] [PAD] [PAD] [PAD] [PAD] [PAD] [PAD] [PAD] [PAD] [PAD] [PAD] [PAD] [PAD] [PAD] [PAD] [PAD] [PAD] [PAD] [PAD] [PAD] [PAD] [PAD] [PAD] [PAD] [PAD] [PAD] [PAD] [PAD] [PAD] [PAD] [PAD] [PAD] [PAD] [PAD] [PAD] [PAD] [PAD] [PAD] [PAD] [PAD] [PAD] [PAD] [PAD] [PAD] [PAD] [PAD] [PAD] [PAD] [PAD] [PAD] [PAD] [PAD] [PAD] [PAD] [PAD] [PAD] [PAD] [PAD] [PAD] [PAD] [PAD] [PAD] [PAD] [PAD] [PAD] [PAD] [PAD] [PAD] [PAD] [PAD] [PAD] [PAD] [PAD] [PAD] [PAD] [PAD] [PAD] [PAD] [PAD] [PAD] [PAD] [PAD] [PAD] [PAD] [PAD] [PAD] [PAD] \n",
      "\n",
      "[CLS] Le ##uco ##cito ##s 12 . 100 . [SEP] [PAD] [PAD] [PAD] [PAD] [PAD] [PAD] [PAD] [PAD] [PAD] [PAD] [PAD] [PAD] [PAD] [PAD] [PAD] [PAD] [PAD] [PAD] [PAD] [PAD] [PAD] [PAD] [PAD] [PAD] [PAD] [PAD] [PAD] [PAD] [PAD] [PAD] [PAD] [PAD] [PAD] [PAD] [PAD] [PAD] [PAD] [PAD] [PAD] [PAD] [PAD] [PAD] [PAD] [PAD] [PAD] [PAD] [PAD] [PAD] [PAD] [PAD] [PAD] [PAD] [PAD] [PAD] [PAD] [PAD] [PAD] [PAD] [PAD] [PAD] [PAD] [PAD] [PAD] [PAD] [PAD] [PAD] [PAD] [PAD] [PAD] [PAD] [PAD] [PAD] [PAD] [PAD] [PAD] [PAD] [PAD] [PAD] [PAD] [PAD] [PAD] [PAD] [PAD] [PAD] [PAD] [PAD] [PAD] [PAD] [PAD] [PAD] [PAD] [PAD] [PAD] [PAD] [PAD] [PAD] [PAD] [PAD] [PAD] [PAD] [PAD] [PAD] [PAD] [PAD] [PAD] [PAD] [PAD] [PAD] [PAD] [PAD] [PAD] [PAD] [PAD] [PAD] [PAD] [PAD] [PAD] [PAD] \n",
      "\n",
      "[CLS] Fun ##ción hep ##ática y ren ##al normale ##s . [SEP] [PAD] [PAD] [PAD] [PAD] [PAD] [PAD] [PAD] [PAD] [PAD] [PAD] [PAD] [PAD] [PAD] [PAD] [PAD] [PAD] [PAD] [PAD] [PAD] [PAD] [PAD] [PAD] [PAD] [PAD] [PAD] [PAD] [PAD] [PAD] [PAD] [PAD] [PAD] [PAD] [PAD] [PAD] [PAD] [PAD] [PAD] [PAD] [PAD] [PAD] [PAD] [PAD] [PAD] [PAD] [PAD] [PAD] [PAD] [PAD] [PAD] [PAD] [PAD] [PAD] [PAD] [PAD] [PAD] [PAD] [PAD] [PAD] [PAD] [PAD] [PAD] [PAD] [PAD] [PAD] [PAD] [PAD] [PAD] [PAD] [PAD] [PAD] [PAD] [PAD] [PAD] [PAD] [PAD] [PAD] [PAD] [PAD] [PAD] [PAD] [PAD] [PAD] [PAD] [PAD] [PAD] [PAD] [PAD] [PAD] [PAD] [PAD] [PAD] [PAD] [PAD] [PAD] [PAD] [PAD] [PAD] [PAD] [PAD] [PAD] [PAD] [PAD] [PAD] [PAD] [PAD] [PAD] [PAD] [PAD] [PAD] [PAD] [PAD] [PAD] [PAD] [PAD] [PAD] [PAD] \n",
      "\n",
      "[CLS] . [SEP] [PAD] [PAD] [PAD] [PAD] [PAD] [PAD] [PAD] [PAD] [PAD] [PAD] [PAD] [PAD] [PAD] [PAD] [PAD] [PAD] [PAD] [PAD] [PAD] [PAD] [PAD] [PAD] [PAD] [PAD] [PAD] [PAD] [PAD] [PAD] [PAD] [PAD] [PAD] [PAD] [PAD] [PAD] [PAD] [PAD] [PAD] [PAD] [PAD] [PAD] [PAD] [PAD] [PAD] [PAD] [PAD] [PAD] [PAD] [PAD] [PAD] [PAD] [PAD] [PAD] [PAD] [PAD] [PAD] [PAD] [PAD] [PAD] [PAD] [PAD] [PAD] [PAD] [PAD] [PAD] [PAD] [PAD] [PAD] [PAD] [PAD] [PAD] [PAD] [PAD] [PAD] [PAD] [PAD] [PAD] [PAD] [PAD] [PAD] [PAD] [PAD] [PAD] [PAD] [PAD] [PAD] [PAD] [PAD] [PAD] [PAD] [PAD] [PAD] [PAD] [PAD] [PAD] [PAD] [PAD] [PAD] [PAD] [PAD] [PAD] [PAD] [PAD] [PAD] [PAD] [PAD] [PAD] [PAD] [PAD] [PAD] [PAD] [PAD] [PAD] [PAD] [PAD] [PAD] [PAD] [PAD] [PAD] [PAD] [PAD] [PAD] [PAD] [PAD] [PAD] [PAD] \n",
      "\n",
      "[CLS] Gas ##ome ##tr ##ía arteria ##l : p ##O ##2 57 mm ##H ##g con mas ##cari ##lla de venti ##mas ##k al 50 % . [SEP] [PAD] [PAD] [PAD] [PAD] [PAD] [PAD] [PAD] [PAD] [PAD] [PAD] [PAD] [PAD] [PAD] [PAD] [PAD] [PAD] [PAD] [PAD] [PAD] [PAD] [PAD] [PAD] [PAD] [PAD] [PAD] [PAD] [PAD] [PAD] [PAD] [PAD] [PAD] [PAD] [PAD] [PAD] [PAD] [PAD] [PAD] [PAD] [PAD] [PAD] [PAD] [PAD] [PAD] [PAD] [PAD] [PAD] [PAD] [PAD] [PAD] [PAD] [PAD] [PAD] [PAD] [PAD] [PAD] [PAD] [PAD] [PAD] [PAD] [PAD] [PAD] [PAD] [PAD] [PAD] [PAD] [PAD] [PAD] [PAD] [PAD] [PAD] [PAD] [PAD] [PAD] [PAD] [PAD] [PAD] [PAD] [PAD] [PAD] [PAD] [PAD] [PAD] [PAD] [PAD] [PAD] [PAD] [PAD] [PAD] [PAD] [PAD] [PAD] [PAD] [PAD] [PAD] [PAD] [PAD] [PAD] [PAD] [PAD] [PAD] \n",
      "\n",
      "[CLS] SA ##TO ##2 82 % . [SEP] [PAD] [PAD] [PAD] [PAD] [PAD] [PAD] [PAD] [PAD] [PAD] [PAD] [PAD] [PAD] [PAD] [PAD] [PAD] [PAD] [PAD] [PAD] [PAD] [PAD] [PAD] [PAD] [PAD] [PAD] [PAD] [PAD] [PAD] [PAD] [PAD] [PAD] [PAD] [PAD] [PAD] [PAD] [PAD] [PAD] [PAD] [PAD] [PAD] [PAD] [PAD] [PAD] [PAD] [PAD] [PAD] [PAD] [PAD] [PAD] [PAD] [PAD] [PAD] [PAD] [PAD] [PAD] [PAD] [PAD] [PAD] [PAD] [PAD] [PAD] [PAD] [PAD] [PAD] [PAD] [PAD] [PAD] [PAD] [PAD] [PAD] [PAD] [PAD] [PAD] [PAD] [PAD] [PAD] [PAD] [PAD] [PAD] [PAD] [PAD] [PAD] [PAD] [PAD] [PAD] [PAD] [PAD] [PAD] [PAD] [PAD] [PAD] [PAD] [PAD] [PAD] [PAD] [PAD] [PAD] [PAD] [PAD] [PAD] [PAD] [PAD] [PAD] [PAD] [PAD] [PAD] [PAD] [PAD] [PAD] [PAD] [PAD] [PAD] [PAD] [PAD] [PAD] [PAD] [PAD] [PAD] [PAD] [PAD] [PAD] \n",
      "\n",
      "[CLS] . [SEP] [PAD] [PAD] [PAD] [PAD] [PAD] [PAD] [PAD] [PAD] [PAD] [PAD] [PAD] [PAD] [PAD] [PAD] [PAD] [PAD] [PAD] [PAD] [PAD] [PAD] [PAD] [PAD] [PAD] [PAD] [PAD] [PAD] [PAD] [PAD] [PAD] [PAD] [PAD] [PAD] [PAD] [PAD] [PAD] [PAD] [PAD] [PAD] [PAD] [PAD] [PAD] [PAD] [PAD] [PAD] [PAD] [PAD] [PAD] [PAD] [PAD] [PAD] [PAD] [PAD] [PAD] [PAD] [PAD] [PAD] [PAD] [PAD] [PAD] [PAD] [PAD] [PAD] [PAD] [PAD] [PAD] [PAD] [PAD] [PAD] [PAD] [PAD] [PAD] [PAD] [PAD] [PAD] [PAD] [PAD] [PAD] [PAD] [PAD] [PAD] [PAD] [PAD] [PAD] [PAD] [PAD] [PAD] [PAD] [PAD] [PAD] [PAD] [PAD] [PAD] [PAD] [PAD] [PAD] [PAD] [PAD] [PAD] [PAD] [PAD] [PAD] [PAD] [PAD] [PAD] [PAD] [PAD] [PAD] [PAD] [PAD] [PAD] [PAD] [PAD] [PAD] [PAD] [PAD] [PAD] [PAD] [PAD] [PAD] [PAD] [PAD] [PAD] [PAD] [PAD] [PAD] \n",
      "\n",
      "[CLS] EC ##G : Ta ##qui ##card ##ia sin ##usal a 110 lati ##dos por minuto . [SEP] [PAD] [PAD] [PAD] [PAD] [PAD] [PAD] [PAD] [PAD] [PAD] [PAD] [PAD] [PAD] [PAD] [PAD] [PAD] [PAD] [PAD] [PAD] [PAD] [PAD] [PAD] [PAD] [PAD] [PAD] [PAD] [PAD] [PAD] [PAD] [PAD] [PAD] [PAD] [PAD] [PAD] [PAD] [PAD] [PAD] [PAD] [PAD] [PAD] [PAD] [PAD] [PAD] [PAD] [PAD] [PAD] [PAD] [PAD] [PAD] [PAD] [PAD] [PAD] [PAD] [PAD] [PAD] [PAD] [PAD] [PAD] [PAD] [PAD] [PAD] [PAD] [PAD] [PAD] [PAD] [PAD] [PAD] [PAD] [PAD] [PAD] [PAD] [PAD] [PAD] [PAD] [PAD] [PAD] [PAD] [PAD] [PAD] [PAD] [PAD] [PAD] [PAD] [PAD] [PAD] [PAD] [PAD] [PAD] [PAD] [PAD] [PAD] [PAD] [PAD] [PAD] [PAD] [PAD] [PAD] [PAD] [PAD] [PAD] [PAD] [PAD] [PAD] [PAD] [PAD] [PAD] [PAD] [PAD] [PAD] [PAD] [PAD] \n",
      "\n",
      "[CLS] . [SEP] [PAD] [PAD] [PAD] [PAD] [PAD] [PAD] [PAD] [PAD] [PAD] [PAD] [PAD] [PAD] [PAD] [PAD] [PAD] [PAD] [PAD] [PAD] [PAD] [PAD] [PAD] [PAD] [PAD] [PAD] [PAD] [PAD] [PAD] [PAD] [PAD] [PAD] [PAD] [PAD] [PAD] [PAD] [PAD] [PAD] [PAD] [PAD] [PAD] [PAD] [PAD] [PAD] [PAD] [PAD] [PAD] [PAD] [PAD] [PAD] [PAD] [PAD] [PAD] [PAD] [PAD] [PAD] [PAD] [PAD] [PAD] [PAD] [PAD] [PAD] [PAD] [PAD] [PAD] [PAD] [PAD] [PAD] [PAD] [PAD] [PAD] [PAD] [PAD] [PAD] [PAD] [PAD] [PAD] [PAD] [PAD] [PAD] [PAD] [PAD] [PAD] [PAD] [PAD] [PAD] [PAD] [PAD] [PAD] [PAD] [PAD] [PAD] [PAD] [PAD] [PAD] [PAD] [PAD] [PAD] [PAD] [PAD] [PAD] [PAD] [PAD] [PAD] [PAD] [PAD] [PAD] [PAD] [PAD] [PAD] [PAD] [PAD] [PAD] [PAD] [PAD] [PAD] [PAD] [PAD] [PAD] [PAD] [PAD] [PAD] [PAD] [PAD] [PAD] [PAD] [PAD] \n",
      "\n",
      "[CLS] R ##x de tó ##rax : Inf ##ilt ##rados algo ##dono ##sos bila ##teral ##es , en ambos l ##ób ##ulos superiores y L ##ID . [SEP] [PAD] [PAD] [PAD] [PAD] [PAD] [PAD] [PAD] [PAD] [PAD] [PAD] [PAD] [PAD] [PAD] [PAD] [PAD] [PAD] [PAD] [PAD] [PAD] [PAD] [PAD] [PAD] [PAD] [PAD] [PAD] [PAD] [PAD] [PAD] [PAD] [PAD] [PAD] [PAD] [PAD] [PAD] [PAD] [PAD] [PAD] [PAD] [PAD] [PAD] [PAD] [PAD] [PAD] [PAD] [PAD] [PAD] [PAD] [PAD] [PAD] [PAD] [PAD] [PAD] [PAD] [PAD] [PAD] [PAD] [PAD] [PAD] [PAD] [PAD] [PAD] [PAD] [PAD] [PAD] [PAD] [PAD] [PAD] [PAD] [PAD] [PAD] [PAD] [PAD] [PAD] [PAD] [PAD] [PAD] [PAD] [PAD] [PAD] [PAD] [PAD] [PAD] [PAD] [PAD] [PAD] [PAD] [PAD] [PAD] [PAD] [PAD] [PAD] [PAD] [PAD] [PAD] [PAD] [PAD] [PAD] [PAD] [PAD] [PAD] \n",
      "\n",
      "[CLS] . [SEP] [PAD] [PAD] [PAD] [PAD] [PAD] [PAD] [PAD] [PAD] [PAD] [PAD] [PAD] [PAD] [PAD] [PAD] [PAD] [PAD] [PAD] [PAD] [PAD] [PAD] [PAD] [PAD] [PAD] [PAD] [PAD] [PAD] [PAD] [PAD] [PAD] [PAD] [PAD] [PAD] [PAD] [PAD] [PAD] [PAD] [PAD] [PAD] [PAD] [PAD] [PAD] [PAD] [PAD] [PAD] [PAD] [PAD] [PAD] [PAD] [PAD] [PAD] [PAD] [PAD] [PAD] [PAD] [PAD] [PAD] [PAD] [PAD] [PAD] [PAD] [PAD] [PAD] [PAD] [PAD] [PAD] [PAD] [PAD] [PAD] [PAD] [PAD] [PAD] [PAD] [PAD] [PAD] [PAD] [PAD] [PAD] [PAD] [PAD] [PAD] [PAD] [PAD] [PAD] [PAD] [PAD] [PAD] [PAD] [PAD] [PAD] [PAD] [PAD] [PAD] [PAD] [PAD] [PAD] [PAD] [PAD] [PAD] [PAD] [PAD] [PAD] [PAD] [PAD] [PAD] [PAD] [PAD] [PAD] [PAD] [PAD] [PAD] [PAD] [PAD] [PAD] [PAD] [PAD] [PAD] [PAD] [PAD] [PAD] [PAD] [PAD] [PAD] [PAD] [PAD] [PAD] \n",
      "\n",
      "[CLS] TA ##C tó ##rax : Pat ##rón de vid ##rio des ##lust ##rado parc ##head ##o , con áreas de con ##sol ##ida ##ción per ##ib ##ron ##quia ##les , sub ##ple ##ural ##es bila ##teral ##es . [SEP] [PAD] [PAD] [PAD] [PAD] [PAD] [PAD] [PAD] [PAD] [PAD] [PAD] [PAD] [PAD] [PAD] [PAD] [PAD] [PAD] [PAD] [PAD] [PAD] [PAD] [PAD] [PAD] [PAD] [PAD] [PAD] [PAD] [PAD] [PAD] [PAD] [PAD] [PAD] [PAD] [PAD] [PAD] [PAD] [PAD] [PAD] [PAD] [PAD] [PAD] [PAD] [PAD] [PAD] [PAD] [PAD] [PAD] [PAD] [PAD] [PAD] [PAD] [PAD] [PAD] [PAD] [PAD] [PAD] [PAD] [PAD] [PAD] [PAD] [PAD] [PAD] [PAD] [PAD] [PAD] [PAD] [PAD] [PAD] [PAD] [PAD] [PAD] [PAD] [PAD] [PAD] [PAD] [PAD] [PAD] [PAD] [PAD] [PAD] [PAD] [PAD] [PAD] [PAD] [PAD] [PAD] [PAD] [PAD] [PAD] \n",
      "\n",
      "[CLS] . [SEP] [PAD] [PAD] [PAD] [PAD] [PAD] [PAD] [PAD] [PAD] [PAD] [PAD] [PAD] [PAD] [PAD] [PAD] [PAD] [PAD] [PAD] [PAD] [PAD] [PAD] [PAD] [PAD] [PAD] [PAD] [PAD] [PAD] [PAD] [PAD] [PAD] [PAD] [PAD] [PAD] [PAD] [PAD] [PAD] [PAD] [PAD] [PAD] [PAD] [PAD] [PAD] [PAD] [PAD] [PAD] [PAD] [PAD] [PAD] [PAD] [PAD] [PAD] [PAD] [PAD] [PAD] [PAD] [PAD] [PAD] [PAD] [PAD] [PAD] [PAD] [PAD] [PAD] [PAD] [PAD] [PAD] [PAD] [PAD] [PAD] [PAD] [PAD] [PAD] [PAD] [PAD] [PAD] [PAD] [PAD] [PAD] [PAD] [PAD] [PAD] [PAD] [PAD] [PAD] [PAD] [PAD] [PAD] [PAD] [PAD] [PAD] [PAD] [PAD] [PAD] [PAD] [PAD] [PAD] [PAD] [PAD] [PAD] [PAD] [PAD] [PAD] [PAD] [PAD] [PAD] [PAD] [PAD] [PAD] [PAD] [PAD] [PAD] [PAD] [PAD] [PAD] [PAD] [PAD] [PAD] [PAD] [PAD] [PAD] [PAD] [PAD] [PAD] [PAD] [PAD] [PAD] \n",
      "\n",
      "[CLS] Ant ##íg ##enos para Legion ##ella y neu ##mo ##co ##co negativo ##s . [SEP] [PAD] [PAD] [PAD] [PAD] [PAD] [PAD] [PAD] [PAD] [PAD] [PAD] [PAD] [PAD] [PAD] [PAD] [PAD] [PAD] [PAD] [PAD] [PAD] [PAD] [PAD] [PAD] [PAD] [PAD] [PAD] [PAD] [PAD] [PAD] [PAD] [PAD] [PAD] [PAD] [PAD] [PAD] [PAD] [PAD] [PAD] [PAD] [PAD] [PAD] [PAD] [PAD] [PAD] [PAD] [PAD] [PAD] [PAD] [PAD] [PAD] [PAD] [PAD] [PAD] [PAD] [PAD] [PAD] [PAD] [PAD] [PAD] [PAD] [PAD] [PAD] [PAD] [PAD] [PAD] [PAD] [PAD] [PAD] [PAD] [PAD] [PAD] [PAD] [PAD] [PAD] [PAD] [PAD] [PAD] [PAD] [PAD] [PAD] [PAD] [PAD] [PAD] [PAD] [PAD] [PAD] [PAD] [PAD] [PAD] [PAD] [PAD] [PAD] [PAD] [PAD] [PAD] [PAD] [PAD] [PAD] [PAD] [PAD] [PAD] [PAD] [PAD] [PAD] [PAD] [PAD] [PAD] [PAD] [PAD] [PAD] [PAD] [PAD] [PAD] \n",
      "\n",
      "[CLS] . [SEP] [PAD] [PAD] [PAD] [PAD] [PAD] [PAD] [PAD] [PAD] [PAD] [PAD] [PAD] [PAD] [PAD] [PAD] [PAD] [PAD] [PAD] [PAD] [PAD] [PAD] [PAD] [PAD] [PAD] [PAD] [PAD] [PAD] [PAD] [PAD] [PAD] [PAD] [PAD] [PAD] [PAD] [PAD] [PAD] [PAD] [PAD] [PAD] [PAD] [PAD] [PAD] [PAD] [PAD] [PAD] [PAD] [PAD] [PAD] [PAD] [PAD] [PAD] [PAD] [PAD] [PAD] [PAD] [PAD] [PAD] [PAD] [PAD] [PAD] [PAD] [PAD] [PAD] [PAD] [PAD] [PAD] [PAD] [PAD] [PAD] [PAD] [PAD] [PAD] [PAD] [PAD] [PAD] [PAD] [PAD] [PAD] [PAD] [PAD] [PAD] [PAD] [PAD] [PAD] [PAD] [PAD] [PAD] [PAD] [PAD] [PAD] [PAD] [PAD] [PAD] [PAD] [PAD] [PAD] [PAD] [PAD] [PAD] [PAD] [PAD] [PAD] [PAD] [PAD] [PAD] [PAD] [PAD] [PAD] [PAD] [PAD] [PAD] [PAD] [PAD] [PAD] [PAD] [PAD] [PAD] [PAD] [PAD] [PAD] [PAD] [PAD] [PAD] [PAD] [PAD] [PAD] \n",
      "\n",
      "[CLS] PCR para gr ##ipe A , gr ##ipe B , VR ##S A y B , TB ##C , gala ##cto ##mana ##no , P ##ne ##umo ##cy ##stis ji ##rove ##cii , CM ##V , Virus Epstein Barr , My ##co ##pla ##sma , Cox ##iella bu ##rnet ##ii , c ##lam ##ydi ##as , Her ##pes virus 1 y 2 negativo ##s . [SEP] [PAD] [PAD] [PAD] [PAD] [PAD] [PAD] [PAD] [PAD] [PAD] [PAD] [PAD] [PAD] [PAD] [PAD] [PAD] [PAD] [PAD] [PAD] [PAD] [PAD] [PAD] [PAD] [PAD] [PAD] [PAD] [PAD] [PAD] [PAD] [PAD] [PAD] [PAD] [PAD] [PAD] [PAD] [PAD] [PAD] [PAD] [PAD] [PAD] [PAD] [PAD] [PAD] [PAD] [PAD] [PAD] [PAD] [PAD] [PAD] [PAD] [PAD] [PAD] [PAD] [PAD] [PAD] [PAD] [PAD] [PAD] [PAD] [PAD] [PAD] [PAD] \n",
      "\n",
      "[CLS] . [SEP] [PAD] [PAD] [PAD] [PAD] [PAD] [PAD] [PAD] [PAD] [PAD] [PAD] [PAD] [PAD] [PAD] [PAD] [PAD] [PAD] [PAD] [PAD] [PAD] [PAD] [PAD] [PAD] [PAD] [PAD] [PAD] [PAD] [PAD] [PAD] [PAD] [PAD] [PAD] [PAD] [PAD] [PAD] [PAD] [PAD] [PAD] [PAD] [PAD] [PAD] [PAD] [PAD] [PAD] [PAD] [PAD] [PAD] [PAD] [PAD] [PAD] [PAD] [PAD] [PAD] [PAD] [PAD] [PAD] [PAD] [PAD] [PAD] [PAD] [PAD] [PAD] [PAD] [PAD] [PAD] [PAD] [PAD] [PAD] [PAD] [PAD] [PAD] [PAD] [PAD] [PAD] [PAD] [PAD] [PAD] [PAD] [PAD] [PAD] [PAD] [PAD] [PAD] [PAD] [PAD] [PAD] [PAD] [PAD] [PAD] [PAD] [PAD] [PAD] [PAD] [PAD] [PAD] [PAD] [PAD] [PAD] [PAD] [PAD] [PAD] [PAD] [PAD] [PAD] [PAD] [PAD] [PAD] [PAD] [PAD] [PAD] [PAD] [PAD] [PAD] [PAD] [PAD] [PAD] [PAD] [PAD] [PAD] [PAD] [PAD] [PAD] [PAD] [PAD] [PAD] [PAD] \n",
      "\n",
      "[CLS] He ##mo ##cul ##tivos , uri ##no ##cul ##tivos negativo ##s . [SEP] [PAD] [PAD] [PAD] [PAD] [PAD] [PAD] [PAD] [PAD] [PAD] [PAD] [PAD] [PAD] [PAD] [PAD] [PAD] [PAD] [PAD] [PAD] [PAD] [PAD] [PAD] [PAD] [PAD] [PAD] [PAD] [PAD] [PAD] [PAD] [PAD] [PAD] [PAD] [PAD] [PAD] [PAD] [PAD] [PAD] [PAD] [PAD] [PAD] [PAD] [PAD] [PAD] [PAD] [PAD] [PAD] [PAD] [PAD] [PAD] [PAD] [PAD] [PAD] [PAD] [PAD] [PAD] [PAD] [PAD] [PAD] [PAD] [PAD] [PAD] [PAD] [PAD] [PAD] [PAD] [PAD] [PAD] [PAD] [PAD] [PAD] [PAD] [PAD] [PAD] [PAD] [PAD] [PAD] [PAD] [PAD] [PAD] [PAD] [PAD] [PAD] [PAD] [PAD] [PAD] [PAD] [PAD] [PAD] [PAD] [PAD] [PAD] [PAD] [PAD] [PAD] [PAD] [PAD] [PAD] [PAD] [PAD] [PAD] [PAD] [PAD] [PAD] [PAD] [PAD] [PAD] [PAD] [PAD] [PAD] [PAD] [PAD] [PAD] [PAD] [PAD] [PAD] \n",
      "\n",
      "[CLS] . [SEP] [PAD] [PAD] [PAD] [PAD] [PAD] [PAD] [PAD] [PAD] [PAD] [PAD] [PAD] [PAD] [PAD] [PAD] [PAD] [PAD] [PAD] [PAD] [PAD] [PAD] [PAD] [PAD] [PAD] [PAD] [PAD] [PAD] [PAD] [PAD] [PAD] [PAD] [PAD] [PAD] [PAD] [PAD] [PAD] [PAD] [PAD] [PAD] [PAD] [PAD] [PAD] [PAD] [PAD] [PAD] [PAD] [PAD] [PAD] [PAD] [PAD] [PAD] [PAD] [PAD] [PAD] [PAD] [PAD] [PAD] [PAD] [PAD] [PAD] [PAD] [PAD] [PAD] [PAD] [PAD] [PAD] [PAD] [PAD] [PAD] [PAD] [PAD] [PAD] [PAD] [PAD] [PAD] [PAD] [PAD] [PAD] [PAD] [PAD] [PAD] [PAD] [PAD] [PAD] [PAD] [PAD] [PAD] [PAD] [PAD] [PAD] [PAD] [PAD] [PAD] [PAD] [PAD] [PAD] [PAD] [PAD] [PAD] [PAD] [PAD] [PAD] [PAD] [PAD] [PAD] [PAD] [PAD] [PAD] [PAD] [PAD] [PAD] [PAD] [PAD] [PAD] [PAD] [PAD] [PAD] [PAD] [PAD] [PAD] [PAD] [PAD] [PAD] [PAD] [PAD] [PAD] \n",
      "\n",
      "[CLS] Eco ##card ##io ##grafía : Fra ##cción de eye ##cción prese ##rva ##da . [SEP] [PAD] [PAD] [PAD] [PAD] [PAD] [PAD] [PAD] [PAD] [PAD] [PAD] [PAD] [PAD] [PAD] [PAD] [PAD] [PAD] [PAD] [PAD] [PAD] [PAD] [PAD] [PAD] [PAD] [PAD] [PAD] [PAD] [PAD] [PAD] [PAD] [PAD] [PAD] [PAD] [PAD] [PAD] [PAD] [PAD] [PAD] [PAD] [PAD] [PAD] [PAD] [PAD] [PAD] [PAD] [PAD] [PAD] [PAD] [PAD] [PAD] [PAD] [PAD] [PAD] [PAD] [PAD] [PAD] [PAD] [PAD] [PAD] [PAD] [PAD] [PAD] [PAD] [PAD] [PAD] [PAD] [PAD] [PAD] [PAD] [PAD] [PAD] [PAD] [PAD] [PAD] [PAD] [PAD] [PAD] [PAD] [PAD] [PAD] [PAD] [PAD] [PAD] [PAD] [PAD] [PAD] [PAD] [PAD] [PAD] [PAD] [PAD] [PAD] [PAD] [PAD] [PAD] [PAD] [PAD] [PAD] [PAD] [PAD] [PAD] [PAD] [PAD] [PAD] [PAD] [PAD] [PAD] [PAD] [PAD] [PAD] [PAD] [PAD] [PAD] \n",
      "\n",
      "[CLS] No alter ##aciones . [SEP] [PAD] [PAD] [PAD] [PAD] [PAD] [PAD] [PAD] [PAD] [PAD] [PAD] [PAD] [PAD] [PAD] [PAD] [PAD] [PAD] [PAD] [PAD] [PAD] [PAD] [PAD] [PAD] [PAD] [PAD] [PAD] [PAD] [PAD] [PAD] [PAD] [PAD] [PAD] [PAD] [PAD] [PAD] [PAD] [PAD] [PAD] [PAD] [PAD] [PAD] [PAD] [PAD] [PAD] [PAD] [PAD] [PAD] [PAD] [PAD] [PAD] [PAD] [PAD] [PAD] [PAD] [PAD] [PAD] [PAD] [PAD] [PAD] [PAD] [PAD] [PAD] [PAD] [PAD] [PAD] [PAD] [PAD] [PAD] [PAD] [PAD] [PAD] [PAD] [PAD] [PAD] [PAD] [PAD] [PAD] [PAD] [PAD] [PAD] [PAD] [PAD] [PAD] [PAD] [PAD] [PAD] [PAD] [PAD] [PAD] [PAD] [PAD] [PAD] [PAD] [PAD] [PAD] [PAD] [PAD] [PAD] [PAD] [PAD] [PAD] [PAD] [PAD] [PAD] [PAD] [PAD] [PAD] [PAD] [PAD] [PAD] [PAD] [PAD] [PAD] [PAD] [PAD] [PAD] [PAD] [PAD] [PAD] [PAD] [PAD] [PAD] [PAD] \n",
      "\n",
      "[CLS] . [SEP] [PAD] [PAD] [PAD] [PAD] [PAD] [PAD] [PAD] [PAD] [PAD] [PAD] [PAD] [PAD] [PAD] [PAD] [PAD] [PAD] [PAD] [PAD] [PAD] [PAD] [PAD] [PAD] [PAD] [PAD] [PAD] [PAD] [PAD] [PAD] [PAD] [PAD] [PAD] [PAD] [PAD] [PAD] [PAD] [PAD] [PAD] [PAD] [PAD] [PAD] [PAD] [PAD] [PAD] [PAD] [PAD] [PAD] [PAD] [PAD] [PAD] [PAD] [PAD] [PAD] [PAD] [PAD] [PAD] [PAD] [PAD] [PAD] [PAD] [PAD] [PAD] [PAD] [PAD] [PAD] [PAD] [PAD] [PAD] [PAD] [PAD] [PAD] [PAD] [PAD] [PAD] [PAD] [PAD] [PAD] [PAD] [PAD] [PAD] [PAD] [PAD] [PAD] [PAD] [PAD] [PAD] [PAD] [PAD] [PAD] [PAD] [PAD] [PAD] [PAD] [PAD] [PAD] [PAD] [PAD] [PAD] [PAD] [PAD] [PAD] [PAD] [PAD] [PAD] [PAD] [PAD] [PAD] [PAD] [PAD] [PAD] [PAD] [PAD] [PAD] [PAD] [PAD] [PAD] [PAD] [PAD] [PAD] [PAD] [PAD] [PAD] [PAD] [PAD] [PAD] [PAD] \n",
      "\n",
      "[CLS] Fi ##bro ##bron ##cos ##co ##pia : árboles bron ##quia ##les per ##mea ##bles , de calibre normal , con mu ##cosa eri ##tem ##atos ##a y es ##casa sec ##reció ##n ser ##osa . [SEP] [PAD] [PAD] [PAD] [PAD] [PAD] [PAD] [PAD] [PAD] [PAD] [PAD] [PAD] [PAD] [PAD] [PAD] [PAD] [PAD] [PAD] [PAD] [PAD] [PAD] [PAD] [PAD] [PAD] [PAD] [PAD] [PAD] [PAD] [PAD] [PAD] [PAD] [PAD] [PAD] [PAD] [PAD] [PAD] [PAD] [PAD] [PAD] [PAD] [PAD] [PAD] [PAD] [PAD] [PAD] [PAD] [PAD] [PAD] [PAD] [PAD] [PAD] [PAD] [PAD] [PAD] [PAD] [PAD] [PAD] [PAD] [PAD] [PAD] [PAD] [PAD] [PAD] [PAD] [PAD] [PAD] [PAD] [PAD] [PAD] [PAD] [PAD] [PAD] [PAD] [PAD] [PAD] [PAD] [PAD] [PAD] [PAD] [PAD] [PAD] [PAD] [PAD] [PAD] [PAD] [PAD] [PAD] [PAD] [PAD] [PAD] [PAD] [PAD] \n",
      "\n",
      "[CLS] Ci ##tom ##et ##ría de fl ##ujo de BA ##L : destaca la presencia de li ##nfo ##cito ##sis de 84 % ( li ##nfo ##cito ##s T 98 % , B 0 . 5 % , y NK 1 . 5 % ) . [SEP] [PAD] [PAD] [PAD] [PAD] [PAD] [PAD] [PAD] [PAD] [PAD] [PAD] [PAD] [PAD] [PAD] [PAD] [PAD] [PAD] [PAD] [PAD] [PAD] [PAD] [PAD] [PAD] [PAD] [PAD] [PAD] [PAD] [PAD] [PAD] [PAD] [PAD] [PAD] [PAD] [PAD] [PAD] [PAD] [PAD] [PAD] [PAD] [PAD] [PAD] [PAD] [PAD] [PAD] [PAD] [PAD] [PAD] [PAD] [PAD] [PAD] [PAD] [PAD] [PAD] [PAD] [PAD] [PAD] [PAD] [PAD] [PAD] [PAD] [PAD] [PAD] [PAD] [PAD] [PAD] [PAD] [PAD] [PAD] [PAD] [PAD] [PAD] [PAD] [PAD] [PAD] [PAD] [PAD] [PAD] [PAD] [PAD] [PAD] [PAD] [PAD] \n",
      "\n",
      "[CLS] AP : ausencia de células mali ##gna ##s . [SEP] [PAD] [PAD] [PAD] [PAD] [PAD] [PAD] [PAD] [PAD] [PAD] [PAD] [PAD] [PAD] [PAD] [PAD] [PAD] [PAD] [PAD] [PAD] [PAD] [PAD] [PAD] [PAD] [PAD] [PAD] [PAD] [PAD] [PAD] [PAD] [PAD] [PAD] [PAD] [PAD] [PAD] [PAD] [PAD] [PAD] [PAD] [PAD] [PAD] [PAD] [PAD] [PAD] [PAD] [PAD] [PAD] [PAD] [PAD] [PAD] [PAD] [PAD] [PAD] [PAD] [PAD] [PAD] [PAD] [PAD] [PAD] [PAD] [PAD] [PAD] [PAD] [PAD] [PAD] [PAD] [PAD] [PAD] [PAD] [PAD] [PAD] [PAD] [PAD] [PAD] [PAD] [PAD] [PAD] [PAD] [PAD] [PAD] [PAD] [PAD] [PAD] [PAD] [PAD] [PAD] [PAD] [PAD] [PAD] [PAD] [PAD] [PAD] [PAD] [PAD] [PAD] [PAD] [PAD] [PAD] [PAD] [PAD] [PAD] [PAD] [PAD] [PAD] [PAD] [PAD] [PAD] [PAD] [PAD] [PAD] [PAD] [PAD] [PAD] [PAD] [PAD] [PAD] [PAD] [PAD] [PAD] \n",
      "\n",
      "[CLS] Dia ##gnóstico Neu ##moni ##tis inter ##stici ##al ind ##ucida por f ##ár ##ma ##cos qui ##mio ##ter ##áp ##icos com ##pli ##cada con síndrome de dis ##tré ##ss resp ##irat ##orio ag ##udo . [SEP] [PAD] [PAD] [PAD] [PAD] [PAD] [PAD] [PAD] [PAD] [PAD] [PAD] [PAD] [PAD] [PAD] [PAD] [PAD] [PAD] [PAD] [PAD] [PAD] [PAD] [PAD] [PAD] [PAD] [PAD] [PAD] [PAD] [PAD] [PAD] [PAD] [PAD] [PAD] [PAD] [PAD] [PAD] [PAD] [PAD] [PAD] [PAD] [PAD] [PAD] [PAD] [PAD] [PAD] [PAD] [PAD] [PAD] [PAD] [PAD] [PAD] [PAD] [PAD] [PAD] [PAD] [PAD] [PAD] [PAD] [PAD] [PAD] [PAD] [PAD] [PAD] [PAD] [PAD] [PAD] [PAD] [PAD] [PAD] [PAD] [PAD] [PAD] [PAD] [PAD] [PAD] [PAD] [PAD] [PAD] [PAD] [PAD] [PAD] [PAD] [PAD] [PAD] [PAD] [PAD] [PAD] [PAD] [PAD] [PAD] [PAD] [PAD] [PAD] \n",
      "\n",
      "[CLS] Trata ##miento Ante los resultados dia ##gnóstico ##s , se decide sus ##pende ##r todo tratamiento anti ##in ##fe ##ccio ##so , y se inicia la administración de met ##il ##pred ##nis ##olo ##na intra ##veno ##sa a dos ##is de 1 mg / K ##g / día . [SEP] [PAD] [PAD] [PAD] [PAD] [PAD] [PAD] [PAD] [PAD] [PAD] [PAD] [PAD] [PAD] [PAD] [PAD] [PAD] [PAD] [PAD] [PAD] [PAD] [PAD] [PAD] [PAD] [PAD] [PAD] [PAD] [PAD] [PAD] [PAD] [PAD] [PAD] [PAD] [PAD] [PAD] [PAD] [PAD] [PAD] [PAD] [PAD] [PAD] [PAD] [PAD] [PAD] [PAD] [PAD] [PAD] [PAD] [PAD] [PAD] [PAD] [PAD] [PAD] [PAD] [PAD] [PAD] [PAD] [PAD] [PAD] [PAD] [PAD] [PAD] [PAD] [PAD] [PAD] [PAD] [PAD] [PAD] [PAD] [PAD] [PAD] [PAD] [PAD] [PAD] [PAD] [PAD] [PAD] [PAD] [PAD] \n",
      "\n",
      "[CLS] E ##vol ##ución Tras el inicio del tratamiento cort ##ico ##ide ##o , la paciente presenta mejor ##ía clínica , anal ##ítica y radio ##lógica , que permitió posteriormente procede ##r a la ex ##tub ##ación , man ##teniendo venti ##lación mecánica no in ##vasi ##va con descenso pau ##lati ##no del fl ##ujo con esta ##bilidad clínica , por lo que se tras ##lada a sala de hospital ##ización , donde se continúa con tratamiento cort ##ico ##ide ##o y dis ##minución pro ##gres ##iva del fl ##ujo de o ##x ##íg ##eno , llegando a su retirada con ad ##ecu ##ada tol ##eran ##cia , pro ##ced ##iendo al alta hospital ##aria con cort ##ico ##ides por vía oral en pau ##ta des ##cendente [SEP] \n",
      "\n",
      "[CLS] . [SEP] [PAD] [PAD] [PAD] [PAD] [PAD] [PAD] [PAD] [PAD] [PAD] [PAD] [PAD] [PAD] [PAD] [PAD] [PAD] [PAD] [PAD] [PAD] [PAD] [PAD] [PAD] [PAD] [PAD] [PAD] [PAD] [PAD] [PAD] [PAD] [PAD] [PAD] [PAD] [PAD] [PAD] [PAD] [PAD] [PAD] [PAD] [PAD] [PAD] [PAD] [PAD] [PAD] [PAD] [PAD] [PAD] [PAD] [PAD] [PAD] [PAD] [PAD] [PAD] [PAD] [PAD] [PAD] [PAD] [PAD] [PAD] [PAD] [PAD] [PAD] [PAD] [PAD] [PAD] [PAD] [PAD] [PAD] [PAD] [PAD] [PAD] [PAD] [PAD] [PAD] [PAD] [PAD] [PAD] [PAD] [PAD] [PAD] [PAD] [PAD] [PAD] [PAD] [PAD] [PAD] [PAD] [PAD] [PAD] [PAD] [PAD] [PAD] [PAD] [PAD] [PAD] [PAD] [PAD] [PAD] [PAD] [PAD] [PAD] [PAD] [PAD] [PAD] [PAD] [PAD] [PAD] [PAD] [PAD] [PAD] [PAD] [PAD] [PAD] [PAD] [PAD] [PAD] [PAD] [PAD] [PAD] [PAD] [PAD] [PAD] [PAD] [PAD] [PAD] [PAD] [PAD] \n",
      "\n",
      "[CLS] Dada la to ##xic ##idad pu ##lm ##onar grado 4 ind ##ucida por f ##ár ##ma ##cos Q ##T , se presentó en comité de tumor ##es de mama , donde se decide sus ##pende ##r el tratamiento neo ##ady ##uva ##nte y estudio de re ##eva ##lua ##ción , objet ##iva ##ndo RP , con lo que se pro ##cedió a realizar cu ##ad ##rante ##cto ##mí ##a y radio ##tera ##pia ad ##yu ##vant ##e . [SEP] [PAD] [PAD] [PAD] [PAD] [PAD] [PAD] [PAD] [PAD] [PAD] [PAD] [PAD] [PAD] [PAD] [PAD] [PAD] [PAD] [PAD] [PAD] [PAD] [PAD] [PAD] [PAD] [PAD] [PAD] [PAD] [PAD] [PAD] [PAD] [PAD] [PAD] [PAD] [PAD] [PAD] [PAD] [PAD] [PAD] [PAD] [PAD] [PAD] [PAD] [PAD] [PAD] [PAD] [PAD] [PAD] [PAD] [PAD] [PAD] \n",
      "\n",
      "[CLS] Actualmente , presenta EC ##O ##G 0 , en tratamiento con let ##ro ##zo ##l y sin evidencia de enfermedad tumor ##al . [SEP] [PAD] [PAD] [PAD] [PAD] [PAD] [PAD] [PAD] [PAD] [PAD] [PAD] [PAD] [PAD] [PAD] [PAD] [PAD] [PAD] [PAD] [PAD] [PAD] [PAD] [PAD] [PAD] [PAD] [PAD] [PAD] [PAD] [PAD] [PAD] [PAD] [PAD] [PAD] [PAD] [PAD] [PAD] [PAD] [PAD] [PAD] [PAD] [PAD] [PAD] [PAD] [PAD] [PAD] [PAD] [PAD] [PAD] [PAD] [PAD] [PAD] [PAD] [PAD] [PAD] [PAD] [PAD] [PAD] [PAD] [PAD] [PAD] [PAD] [PAD] [PAD] [PAD] [PAD] [PAD] [PAD] [PAD] [PAD] [PAD] [PAD] [PAD] [PAD] [PAD] [PAD] [PAD] [PAD] [PAD] [PAD] [PAD] [PAD] [PAD] [PAD] [PAD] [PAD] [PAD] [PAD] [PAD] [PAD] [PAD] [PAD] [PAD] [PAD] [PAD] [PAD] [PAD] [PAD] [PAD] [PAD] [PAD] [PAD] [PAD] [PAD] [PAD] [PAD] \n",
      "\n"
     ]
    }
   ],
   "source": [
    "check_id_frag = sum(train_frag[:check_id])\n",
    "for frag in train_ind[check_id_frag:check_id_frag + train_frag[check_id]]:\n",
    "    print(' '.join([tokenizer._token_dict_inv[ind] for ind in frag]), \"\\n\")"
   ]
  },
  {
   "cell_type": "code",
   "execution_count": 70,
   "metadata": {},
   "outputs": [
    {
     "data": {
      "text/plain": [
       "count    27708.000000\n",
       "mean         0.316335\n",
       "std          0.620517\n",
       "min          0.000000\n",
       "25%          0.000000\n",
       "50%          0.000000\n",
       "75%          1.000000\n",
       "max         10.000000\n",
       "dtype: float64"
      ]
     },
     "execution_count": 70,
     "metadata": {},
     "output_type": "execute_result"
    }
   ],
   "source": [
    "# Fragment labels distribution\n",
    "pd.Series(np.sum(train_y, axis=1)).describe()"
   ]
  },
  {
   "cell_type": "markdown",
   "metadata": {},
   "source": [
    "### Development corpus\n",
    "\n",
    "Only development texts that are annotated with CIE-O codes are considered:"
   ]
  },
  {
   "cell_type": "code",
   "execution_count": 71,
   "metadata": {},
   "outputs": [
    {
     "data": {
      "text/plain": [
       "0"
      ]
     },
     "execution_count": 71,
     "metadata": {},
     "output_type": "execute_result"
    }
   ],
   "source": [
    "# Some dev documents (texts) are not annotated \n",
    "len(set(df_text_dev[\"doc_id\"]) - set(df_codes_dev_ner[\"doc_id\"]))"
   ]
  },
  {
   "cell_type": "code",
   "execution_count": 72,
   "metadata": {},
   "outputs": [],
   "source": [
    "dev_doc_list = sorted(set(df_codes_dev_ner[\"doc_id\"]))"
   ]
  },
  {
   "cell_type": "code",
   "execution_count": 73,
   "metadata": {},
   "outputs": [
    {
     "data": {
      "text/plain": [
       "250"
      ]
     },
     "execution_count": 73,
     "metadata": {},
     "output_type": "execute_result"
    }
   ],
   "source": [
    "len(dev_doc_list)"
   ]
  },
  {
   "cell_type": "code",
   "execution_count": 74,
   "metadata": {},
   "outputs": [
    {
     "name": "stdout",
     "output_type": "stream",
     "text": [
      "CPU times: user 10 ms, sys: 4.03 ms, total: 14 ms\n",
      "Wall time: 13.6 ms\n"
     ]
    }
   ],
   "source": [
    "%%time\n",
    "ss_sub_corpus_path = ss_corpus_path + \"development/\"\n",
    "ss_files = [f for f in os.listdir(ss_sub_corpus_path) if os.path.isfile(ss_sub_corpus_path + f)]\n",
    "ss_dict_dev = load_ss_files(ss_files, ss_sub_corpus_path)"
   ]
  },
  {
   "cell_type": "code",
   "execution_count": 75,
   "metadata": {},
   "outputs": [
    {
     "name": "stderr",
     "output_type": "stream",
     "text": [
      "100%|██████████| 250/250 [00:13<00:00, 18.00it/s]\n"
     ]
    },
    {
     "name": "stdout",
     "output_type": "stream",
     "text": [
      "CPU times: user 14 s, sys: 48 ms, total: 14 s\n",
      "Wall time: 14 s\n"
     ]
    }
   ],
   "source": [
    "%%time\n",
    "dev_ind, dev_seg, dev_y, dev_frag, dev_start_end_frag = ss_create_frag_input_data_bert(df_text=df_text_dev, \n",
    "                                                  text_col=text_col, \n",
    "                                                  df_ann=df_codes_dev_ner, doc_list=dev_doc_list, ss_dict=ss_dict_dev,\n",
    "                                                  tokenizer=tokenizer, lab_encoder=mlb_encoder, seq_len=SEQ_LEN,\n",
    "                                                  greedy=False)"
   ]
  },
  {
   "cell_type": "code",
   "execution_count": 76,
   "metadata": {},
   "outputs": [],
   "source": [
    "# Sanity check"
   ]
  },
  {
   "cell_type": "code",
   "execution_count": 77,
   "metadata": {},
   "outputs": [
    {
     "data": {
      "text/plain": [
       "(8319, 128)"
      ]
     },
     "execution_count": 77,
     "metadata": {},
     "output_type": "execute_result"
    }
   ],
   "source": [
    "dev_ind.shape"
   ]
  },
  {
   "cell_type": "code",
   "execution_count": 78,
   "metadata": {},
   "outputs": [
    {
     "data": {
      "text/plain": [
       "(8319, 128)"
      ]
     },
     "execution_count": 78,
     "metadata": {},
     "output_type": "execute_result"
    }
   ],
   "source": [
    "dev_seg.shape"
   ]
  },
  {
   "cell_type": "code",
   "execution_count": 79,
   "metadata": {},
   "outputs": [
    {
     "data": {
      "text/plain": [
       "(8319, 743)"
      ]
     },
     "execution_count": 79,
     "metadata": {},
     "output_type": "execute_result"
    }
   ],
   "source": [
    "dev_y.shape"
   ]
  },
  {
   "cell_type": "code",
   "execution_count": 80,
   "metadata": {},
   "outputs": [
    {
     "data": {
      "text/plain": [
       "250"
      ]
     },
     "execution_count": 80,
     "metadata": {},
     "output_type": "execute_result"
    }
   ],
   "source": [
    "len(dev_frag)"
   ]
  },
  {
   "cell_type": "code",
   "execution_count": 81,
   "metadata": {},
   "outputs": [
    {
     "data": {
      "text/plain": [
       "8319"
      ]
     },
     "execution_count": 81,
     "metadata": {},
     "output_type": "execute_result"
    }
   ],
   "source": [
    "len(dev_start_end_frag)"
   ]
  },
  {
   "cell_type": "code",
   "execution_count": 82,
   "metadata": {},
   "outputs": [
    {
     "data": {
      "text/plain": [
       "count    250.000000\n",
       "mean      33.276000\n",
       "std       16.370945\n",
       "min       10.000000\n",
       "25%       22.250000\n",
       "50%       30.500000\n",
       "75%       39.000000\n",
       "max      175.000000\n",
       "dtype: float64"
      ]
     },
     "execution_count": 82,
     "metadata": {},
     "output_type": "execute_result"
    }
   ],
   "source": [
    "# Check n_frag distribution across texts\n",
    "pd.Series(dev_frag).describe()"
   ]
  },
  {
   "cell_type": "code",
   "execution_count": 83,
   "metadata": {},
   "outputs": [],
   "source": [
    "# Inspect a randomly selected text and its encoded version\n",
    "check_id = np.random.randint(low=0, high=len(dev_doc_list), size=1)[0]"
   ]
  },
  {
   "cell_type": "code",
   "execution_count": 84,
   "metadata": {},
   "outputs": [
    {
     "data": {
      "text/plain": [
       "161"
      ]
     },
     "execution_count": 84,
     "metadata": {},
     "output_type": "execute_result"
    }
   ],
   "source": [
    "check_id"
   ]
  },
  {
   "cell_type": "code",
   "execution_count": 85,
   "metadata": {},
   "outputs": [
    {
     "data": {
      "text/plain": [
       "'cc_onco1325'"
      ]
     },
     "execution_count": 85,
     "metadata": {},
     "output_type": "execute_result"
    }
   ],
   "source": [
    "dev_doc_list[check_id]"
   ]
  },
  {
   "cell_type": "code",
   "execution_count": 86,
   "metadata": {
    "scrolled": true
   },
   "outputs": [
    {
     "data": {
      "text/plain": [
       "'Anamnesis\\nPaciente de 19 años que consulta por crecimiento progresivo de tumoración en nalga derecha de un año de evolución.\\n\\nExamen físico\\nA la exploración, destaca tumoración dependiente de nalga derecha de, aproximadamente, 20 cm de diámetro.\\nResto del examen físico sin hallazgos.\\n\\nPruebas complementarias\\nResonancia magnética pélvica: tumoración excéntrica en nalga derecha de 13,5 x 16 x 8,8 cm con aporte de pequeños vasos a nivel craneal, condicionando alta vascularización en su porción media y áreas de fibrosis y necrosis en su porción periférica.\\nTomografia computarizada toracoabdominopélvica (TC): ganglios linfáticos aumentados en regiones inguinales y cadenas ilíacas derechas con una adenopatía ilíaca externa derecha de 11 mm de eje corto.\\nSe realiza exéresis quirúrgica completa de la tumoración con resultado anatomopatológico (AP) de sarcoma de células redondas grandes de alto grado de 20 cm de diámetro mayor. Márgenes libres. Invasión vascular y linfática.\\nInmunohistoquímica: CD99+++, CKAE1/AE3++, Ki67: 85 %. Las determinaciones para traslocación EWS-FLI1 y EWS-ETS para sarcoma de Ewing fueron negativas, enviándose tejido en fresco para estudio de traslocaciones poco comunes, detectándose traslocación CIC/DUX4 t(4:19), correspondiente a sarcoma Ewing-like.\\nAnte dicho diagnóstico se realiza:\\nTomografía por emisión de positrones (PET): dos acúmulos patológicos en cadena ganglionar ilíaca interna derecha (20 mm, SUVmáx 4.3) y en adenopatía inguinal inferior derecha (28 mm, SUVmáx 5.0).\\nTC pélvica: aumento de adenopatías inguinales derechas, las mayores de 38 y 28 mm de eje corto.\\n\\nDiagnóstico\\nSarcoma indiferenciado de células redondas grandes de alto grado tipo Ewing-like. Estadio III, T2aN1M0.\\n\\nTratamiento\\nTras la exéresis quirúrgica y completar estudio de extensión, se presenta el caso en el Comité decidiéndose inicio de tratamiento según esquema VAC-IE (vincristina-doxorrubicina-ciclofosfamida alternado con ifosfamida-etopósido).\\n\\nEvolución\\nTras tres ciclos de tratamiento, a la exploración, se aprecia aumento de tamaño de la adenopatía inguinal derecha. Se solicita TC donde se objetiva un marcado crecimiento de adenopatías inguinales derechas, de 44 y 48 mm de eje corto.\\nAnte la evidente progresión ganglionar, se comenta el caso en Comité y se decide la exéresis ganglionar inguinal derecha. El resultado AP mostraba metástasis por sarcoma indiferenciado en 2/2 ganglios linfáticos inguinales derechos extirpados, el mayor de 90 mm, con el mismo perfil inmunohistoquímico que la lesión primaria, tipo Ewing-like.\\nActualmente pendiente de la realización de PET para decisión terapéutica.'"
      ]
     },
     "execution_count": 86,
     "metadata": {},
     "output_type": "execute_result"
    }
   ],
   "source": [
    "df_text_dev[df_text_dev[\"doc_id\"] == dev_doc_list[check_id]][text_col].values[0]"
   ]
  },
  {
   "cell_type": "code",
   "execution_count": 87,
   "metadata": {},
   "outputs": [
    {
     "name": "stdout",
     "output_type": "stream",
     "text": [
      "[('8000/1',)] \n",
      "\n",
      "[('8000/1',)] \n",
      "\n",
      "[()] \n",
      "\n",
      "[('8000/1',)] \n",
      "\n",
      "[()] \n",
      "\n",
      "[('8000/1', '8800/34/h')] \n",
      "\n",
      "[()] \n",
      "\n",
      "[()] \n",
      "\n",
      "[()] \n",
      "\n",
      "[('8800/3/h', '9260/3')] \n",
      "\n",
      "[()] \n",
      "\n",
      "[()] \n",
      "\n",
      "[('8800/34/h', '8805/3')] \n",
      "\n",
      "[('8000/6',)] \n",
      "\n",
      "[()] \n",
      "\n",
      "[()] \n",
      "\n",
      "[()] \n",
      "\n",
      "[()] \n",
      "\n",
      "[('8800/3/h', '8805/6')] \n",
      "\n",
      "[()] \n",
      "\n"
     ]
    }
   ],
   "source": [
    "check_id_frag = sum(dev_frag[:check_id])\n",
    "for i in range(check_id_frag, check_id_frag + dev_frag[check_id]):\n",
    "    print(mlb_encoder.inverse_transform(np.array([dev_y[i]])), \"\\n\")"
   ]
  },
  {
   "cell_type": "code",
   "execution_count": 88,
   "metadata": {},
   "outputs": [
    {
     "name": "stdout",
     "output_type": "stream",
     "text": [
      "[('Ana', (0, 3)), ('##mne', (3, 6)), ('##sis', (6, 9)), ('Pac', (10, 13)), ('##iente', (13, 18)), ('de', (19, 21)), ('19', (22, 24)), ('años', (25, 29)), ('que', (30, 33)), ('consulta', (34, 42)), ('por', (43, 46)), ('crecimiento', (47, 58)), ('pro', (59, 62)), ('##gres', (62, 66)), ('##ivo', (66, 69)), ('de', (70, 72)), ('tumor', (73, 78)), ('##ación', (78, 83)), ('en', (84, 86)), ('na', (87, 89)), ('##lga', (89, 92)), ('derecha', (93, 100)), ('de', (101, 103)), ('un', (104, 106)), ('año', (107, 110)), ('de', (111, 113)), ('evolución', (114, 123)), ('.', (123, 124))]\n",
      "\n",
      "\n",
      "[('Ex', (126, 128)), ('##amen', (128, 132)), ('físico', (133, 139)), ('A', (140, 141)), ('la', (142, 144)), ('ex', (145, 147)), ('##plo', (147, 150)), ('##ración', (150, 156)), (',', (156, 157)), ('destaca', (158, 165)), ('tumor', (166, 171)), ('##ación', (171, 176)), ('de', (177, 179)), ('##pend', (179, 183)), ('##iente', (183, 188)), ('de', (189, 191)), ('na', (192, 194)), ('##lga', (194, 197)), ('derecha', (198, 205)), ('de', (206, 208)), (',', (208, 209)), ('aproximadamente', (210, 225)), (',', (225, 226)), ('20', (227, 229)), ('cm', (230, 232)), ('de', (233, 235)), ('diámetro', (236, 244)), ('.', (244, 245))]\n",
      "\n",
      "\n",
      "[('Rest', (246, 250)), ('##o', (250, 251)), ('del', (252, 255)), ('examen', (256, 262)), ('físico', (263, 269)), ('sin', (270, 273)), ('hall', (274, 278)), ('##azgo', (278, 282)), ('##s', (282, 283)), ('.', (283, 284))]\n",
      "\n",
      "\n",
      "[('Pr', (286, 288)), ('##ue', (288, 290)), ('##bas', (290, 293)), ('complement', (294, 304)), ('##arias', (304, 309)), ('Res', (310, 313)), ('##onan', (313, 317)), ('##cia', (317, 320)), ('mag', (321, 324)), ('##nética', (324, 330)), ('pé', (331, 333)), ('##lv', (333, 335)), ('##ica', (335, 338)), (':', (338, 339)), ('tumor', (340, 345)), ('##ación', (345, 350)), ('ex', (351, 353)), ('##cé', (353, 355)), ('##nt', (355, 357)), ('##rica', (357, 361)), ('en', (362, 364)), ('na', (365, 367)), ('##lga', (367, 370)), ('derecha', (371, 378)), ('de', (379, 381)), ('13', (382, 384)), (',', (384, 385)), ('5', (385, 386)), ('x', (387, 388)), ('16', (389, 391)), ('x', (392, 393)), ('8', (394, 395)), (',', (395, 396)), ('8', (396, 397)), ('cm', (398, 400)), ('con', (401, 404)), ('apo', (405, 408)), ('##rte', (408, 411)), ('de', (412, 414)), ('pequeños', (415, 423)), ('vas', (424, 427)), ('##os', (427, 429)), ('a', (430, 431)), ('nivel', (432, 437)), ('c', (438, 439)), ('##rane', (439, 443)), ('##al', (443, 445)), (',', (445, 446)), ('con', (447, 450)), ('##dici', (450, 454)), ('##onan', (454, 458)), ('##do', (458, 460)), ('alta', (461, 465)), ('vas', (466, 469)), ('##cular', (469, 474)), ('##ización', (474, 481)), ('en', (482, 484)), ('su', (485, 487)), ('por', (488, 491)), ('##ción', (491, 495)), ('media', (496, 501)), ('y', (502, 503)), ('áreas', (504, 509)), ('de', (510, 512)), ('fi', (513, 515)), ('##bros', (515, 519)), ('##is', (519, 521)), ('y', (522, 523)), ('ne', (524, 526)), ('##cro', (526, 529)), ('##sis', (529, 532)), ('en', (533, 535)), ('su', (536, 538)), ('por', (539, 542)), ('##ción', (542, 546)), ('per', (547, 550)), ('##if', (550, 552)), ('##érica', (552, 557)), ('.', (557, 558))]\n",
      "\n",
      "\n",
      "[('Tomo', (559, 563)), ('##grafia', (563, 569)), ('com', (570, 573)), ('##put', (573, 576)), ('##ari', (576, 579)), ('##zada', (579, 583)), ('to', (584, 586)), ('##rac', (586, 589)), ('##oa', (589, 591)), ('##b', (591, 592)), ('##dom', (592, 595)), ('##ino', (595, 598)), ('##pé', (598, 600)), ('##lv', (600, 602)), ('##ica', (602, 605)), ('(', (606, 607)), ('TC', (607, 609)), (')', (609, 610)), (':', (610, 611)), ('gang', (612, 616)), ('##lios', (616, 620)), ('li', (621, 623)), ('##n', (623, 624)), ('##f', (624, 625)), ('##áticos', (625, 631)), ('aumenta', (632, 639)), ('##dos', (639, 642)), ('en', (643, 645)), ('regiones', (646, 654)), ('ing', (655, 658)), ('##uin', (658, 661)), ('##ales', (661, 665)), ('y', (666, 667)), ('cadena', (668, 674)), ('##s', (674, 675)), ('il', (676, 678)), ('##ía', (678, 680)), ('##cas', (680, 683)), ('derecha', (684, 691)), ('##s', (691, 692)), ('con', (693, 696)), ('una', (697, 700)), ('ad', (701, 703)), ('##eno', (703, 706)), ('##pat', (706, 709)), ('##ía', (709, 711)), ('il', (712, 714)), ('##ía', (714, 716)), ('##ca', (716, 718)), ('externa', (719, 726)), ('derecha', (727, 734)), ('de', (735, 737)), ('11', (738, 740)), ('mm', (741, 743)), ('de', (744, 746)), ('eje', (747, 750)), ('corto', (751, 756)), ('.', (756, 757))]\n",
      "\n",
      "\n",
      "[('Se', (758, 760)), ('realiza', (761, 768)), ('ex', (769, 771)), ('##ére', (771, 774)), ('##sis', (774, 777)), ('qui', (778, 781)), ('##rú', (781, 783)), ('##rgi', (783, 786)), ('##ca', (786, 788)), ('completa', (789, 797)), ('de', (798, 800)), ('la', (801, 803)), ('tumor', (804, 809)), ('##ación', (809, 814)), ('con', (815, 818)), ('resultado', (819, 828)), ('ana', (829, 832)), ('##tom', (832, 835)), ('##opa', (835, 838)), ('##tol', (838, 841)), ('##ógico', (841, 846)), ('(', (847, 848)), ('AP', (848, 850)), (')', (850, 851)), ('de', (852, 854)), ('sa', (855, 857)), ('##rco', (857, 860)), ('##ma', (860, 862)), ('de', (863, 865)), ('células', (866, 873)), ('red', (874, 877)), ('##onda', (877, 881)), ('##s', (881, 882)), ('grandes', (883, 890)), ('de', (891, 893)), ('alto', (894, 898)), ('grado', (899, 904)), ('de', (905, 907)), ('20', (908, 910)), ('cm', (911, 913)), ('de', (914, 916)), ('diámetro', (917, 925)), ('mayor', (926, 931)), ('.', (931, 932))]\n",
      "\n",
      "\n",
      "[('Má', (933, 935)), ('##rgen', (935, 939)), ('##es', (939, 941)), ('libres', (942, 948)), ('.', (948, 949))]\n",
      "\n",
      "\n",
      "[('In', (950, 952)), ('##vasi', (952, 956)), ('##ón', (956, 958)), ('vas', (959, 962)), ('##cular', (962, 967)), ('y', (968, 969)), ('li', (970, 972)), ('##n', (972, 973)), ('##f', (973, 974)), ('##ática', (974, 979)), ('.', (979, 980))]\n",
      "\n",
      "\n",
      "[('In', (981, 983)), ('##mun', (983, 986)), ('##oh', (986, 988)), ('##isto', (988, 992)), ('##quí', (992, 995)), ('##mica', (995, 999)), (':', (999, 1000)), ('CD', (1001, 1003)), ('##99', (1003, 1005)), ('+', (1005, 1006)), ('+', (1006, 1007)), ('+', (1007, 1008)), (',', (1008, 1009)), ('CK', (1010, 1012)), ('##A', (1012, 1013)), ('##E', (1013, 1014)), ('##1', (1014, 1015)), ('/', (1015, 1016)), ('AE', (1016, 1018)), ('##3', (1018, 1019)), ('+', (1019, 1020)), ('+', (1020, 1021)), (',', (1021, 1022)), ('Ki', (1023, 1025)), ('##6', (1025, 1026)), ('##7', (1026, 1027)), (':', (1027, 1028)), ('85', (1029, 1031)), ('%', (1032, 1033)), ('.', (1033, 1034))]\n",
      "\n",
      "\n",
      "[('Las', (1035, 1038)), ('determina', (1039, 1048)), ('##ciones', (1048, 1054)), ('para', (1055, 1059)), ('tras', (1060, 1064)), ('##loc', (1064, 1067)), ('##ación', (1067, 1072)), ('E', (1073, 1074)), ('##WS', (1074, 1076)), ('-', (1076, 1077)), ('FL', (1077, 1079)), ('##I', (1079, 1080)), ('##1', (1080, 1081)), ('y', (1082, 1083)), ('E', (1084, 1085)), ('##WS', (1085, 1087)), ('-', (1087, 1088)), ('ET', (1088, 1090)), ('##S', (1090, 1091)), ('para', (1092, 1096)), ('sa', (1097, 1099)), ('##rco', (1099, 1102)), ('##ma', (1102, 1104)), ('de', (1105, 1107)), ('Ewing', (1108, 1113)), ('fueron', (1114, 1120)), ('negativa', (1121, 1129)), ('##s', (1129, 1130)), (',', (1130, 1131)), ('en', (1132, 1134)), ('##vi', (1134, 1136)), ('##ándose', (1136, 1142)), ('tej', (1143, 1146)), ('##ido', (1146, 1149)), ('en', (1150, 1152)), ('fresco', (1153, 1159)), ('para', (1160, 1164)), ('estudio', (1165, 1172)), ('de', (1173, 1175)), ('tras', (1176, 1180)), ('##loc', (1180, 1183)), ('##aciones', (1183, 1190)), ('poco', (1191, 1195)), ('comunes', (1196, 1203)), (',', (1203, 1204)), ('det', (1205, 1208)), ('##ect', (1208, 1211)), ('##ándose', (1211, 1217)), ('tras', (1218, 1222)), ('##loc', (1222, 1225)), ('##ación', (1225, 1230)), ('C', (1231, 1232)), ('##IC', (1232, 1234)), ('/', (1234, 1235)), ('D', (1235, 1236)), ('##U', (1236, 1237)), ('##X', (1237, 1238)), ('##4', (1238, 1239)), ('t', (1240, 1241)), ('(', (1241, 1242)), ('4', (1242, 1243)), (':', (1243, 1244)), ('19', (1244, 1246)), (')', (1246, 1247)), (',', (1247, 1248)), ('correspondiente', (1249, 1264)), ('a', (1265, 1266)), ('sa', (1267, 1269)), ('##rco', (1269, 1272)), ('##ma', (1272, 1274)), ('Ewing', (1275, 1280)), ('-', (1280, 1281)), ('like', (1281, 1285)), ('.', (1285, 1286))]\n",
      "\n",
      "\n",
      "[('Ante', (1287, 1291)), ('dicho', (1292, 1297)), ('dia', (1298, 1301)), ('##gnóstico', (1301, 1309)), ('se', (1310, 1312)), ('realiza', (1313, 1320)), (':', (1320, 1321)), ('Tomo', (1322, 1326)), ('##grafía', (1326, 1332)), ('por', (1333, 1336)), ('emisión', (1337, 1344)), ('de', (1345, 1347)), ('pos', (1348, 1351)), ('##it', (1351, 1353)), ('##rones', (1353, 1358)), ('(', (1359, 1360)), ('PE', (1360, 1362)), ('##T', (1362, 1363)), (')', (1363, 1364)), (':', (1364, 1365)), ('dos', (1366, 1369)), ('ac', (1370, 1372)), ('##ú', (1372, 1373)), ('##mul', (1373, 1376)), ('##os', (1376, 1378)), ('pat', (1379, 1382)), ('##ológicos', (1382, 1390)), ('en', (1391, 1393)), ('cadena', (1394, 1400)), ('gang', (1401, 1405)), ('##lion', (1405, 1409)), ('##ar', (1409, 1411)), ('il', (1412, 1414)), ('##ía', (1414, 1416)), ('##ca', (1416, 1418)), ('interna', (1419, 1426)), ('derecha', (1427, 1434)), ('(', (1435, 1436)), ('20', (1436, 1438)), ('mm', (1439, 1441)), (',', (1441, 1442)), ('SU', (1443, 1445)), ('##V', (1445, 1446)), ('##má', (1446, 1448)), ('##x', (1448, 1449)), ('4', (1450, 1451)), ('.', (1451, 1452)), ('3', (1452, 1453)), (')', (1453, 1454)), ('y', (1455, 1456)), ('en', (1457, 1459)), ('ad', (1460, 1462)), ('##eno', (1462, 1465)), ('##pat', (1465, 1468)), ('##ía', (1468, 1470)), ('ing', (1471, 1474)), ('##uin', (1474, 1477)), ('##al', (1477, 1479)), ('inferior', (1480, 1488)), ('derecha', (1489, 1496)), ('(', (1497, 1498)), ('28', (1498, 1500)), ('mm', (1501, 1503)), (',', (1503, 1504)), ('SU', (1505, 1507)), ('##V', (1507, 1508)), ('##má', (1508, 1510)), ('##x', (1510, 1511)), ('5', (1512, 1513)), ('.', (1513, 1514)), ('0', (1514, 1515)), (')', (1515, 1516)), ('.', (1516, 1517))]\n",
      "\n",
      "\n",
      "[('TC', (1518, 1520)), ('pé', (1521, 1523)), ('##lv', (1523, 1525)), ('##ica', (1525, 1528)), (':', (1528, 1529)), ('aumento', (1530, 1537)), ('de', (1538, 1540)), ('ad', (1541, 1543)), ('##eno', (1543, 1546)), ('##pat', (1546, 1549)), ('##ías', (1549, 1552)), ('ing', (1553, 1556)), ('##uin', (1556, 1559)), ('##ales', (1559, 1563)), ('derecha', (1564, 1571)), ('##s', (1571, 1572)), (',', (1572, 1573)), ('las', (1574, 1577)), ('mayores', (1578, 1585)), ('de', (1586, 1588)), ('38', (1589, 1591)), ('y', (1592, 1593)), ('28', (1594, 1596)), ('mm', (1597, 1599)), ('de', (1600, 1602)), ('eje', (1603, 1606)), ('corto', (1607, 1612)), ('.', (1612, 1613))]\n",
      "\n",
      "\n",
      "[('Dia', (1615, 1618)), ('##gnóstico', (1618, 1626)), ('Sar', (1627, 1630)), ('##coma', (1630, 1634)), ('ind', (1635, 1638)), ('##ifer', (1638, 1642)), ('##encia', (1642, 1647)), ('##do', (1647, 1649)), ('de', (1650, 1652)), ('células', (1653, 1660)), ('red', (1661, 1664)), ('##onda', (1664, 1668)), ('##s', (1668, 1669)), ('grandes', (1670, 1677)), ('de', (1678, 1680)), ('alto', (1681, 1685)), ('grado', (1686, 1691)), ('tipo', (1692, 1696)), ('Ewing', (1697, 1702)), ('-', (1702, 1703)), ('like', (1703, 1707)), ('.', (1707, 1708))]\n",
      "\n",
      "\n",
      "[('Estadio', (1709, 1716)), ('III', (1717, 1720)), (',', (1720, 1721)), ('T2', (1722, 1724)), ('##a', (1724, 1725)), ('##N', (1725, 1726)), ('##1', (1726, 1727)), ('##M', (1727, 1728)), ('##0', (1728, 1729)), ('.', (1729, 1730))]\n",
      "\n",
      "\n",
      "[('Trata', (1732, 1737)), ('##miento', (1737, 1743)), ('Tras', (1744, 1748)), ('la', (1749, 1751)), ('ex', (1752, 1754)), ('##ére', (1754, 1757)), ('##sis', (1757, 1760)), ('qui', (1761, 1764)), ('##rú', (1764, 1766)), ('##rgi', (1766, 1769)), ('##ca', (1769, 1771)), ('y', (1772, 1773)), ('completar', (1774, 1783)), ('estudio', (1784, 1791)), ('de', (1792, 1794)), ('extensión', (1795, 1804)), (',', (1804, 1805)), ('se', (1806, 1808)), ('presenta', (1809, 1817)), ('el', (1818, 1820)), ('caso', (1821, 1825)), ('en', (1826, 1828)), ('el', (1829, 1831)), ('Comité', (1832, 1838)), ('de', (1839, 1841)), ('##cid', (1841, 1844)), ('##iéndose', (1844, 1851)), ('inicio', (1852, 1858)), ('de', (1859, 1861)), ('tratamiento', (1862, 1873)), ('según', (1874, 1879)), ('esquema', (1880, 1887)), ('VA', (1888, 1890)), ('##C', (1890, 1891)), ('-', (1891, 1892)), ('I', (1892, 1893)), ('##E', (1893, 1894)), ('(', (1895, 1896)), ('vin', (1896, 1899)), ('##cris', (1899, 1903)), ('##tina', (1903, 1907)), ('-', (1907, 1908)), ('do', (1908, 1910)), ('##xo', (1910, 1912)), ('##rr', (1912, 1914)), ('##ubi', (1914, 1917)), ('##cina', (1917, 1921)), ('-', (1921, 1922)), ('ciclo', (1922, 1927)), ('##fos', (1927, 1930)), ('##fa', (1930, 1932)), ('##mida', (1932, 1936)), ('alter', (1937, 1942)), ('##nado', (1942, 1946)), ('con', (1947, 1950)), ('if', (1951, 1953)), ('##os', (1953, 1955)), ('##fa', (1955, 1957)), ('##mida', (1957, 1961)), ('-', (1961, 1962)), ('et', (1962, 1964)), ('##op', (1964, 1966)), ('##ós', (1966, 1968)), ('##ido', (1968, 1971)), (')', (1971, 1972)), ('.', (1972, 1973))]\n",
      "\n",
      "\n",
      "[('E', (1975, 1976)), ('##vol', (1976, 1979)), ('##ución', (1979, 1984)), ('Tras', (1985, 1989)), ('tres', (1990, 1994)), ('ciclo', (1995, 2000)), ('##s', (2000, 2001)), ('de', (2002, 2004)), ('tratamiento', (2005, 2016)), (',', (2016, 2017)), ('a', (2018, 2019)), ('la', (2020, 2022)), ('ex', (2023, 2025)), ('##plo', (2025, 2028)), ('##ración', (2028, 2034)), (',', (2034, 2035)), ('se', (2036, 2038)), ('apre', (2039, 2043)), ('##cia', (2043, 2046)), ('aumento', (2047, 2054)), ('de', (2055, 2057)), ('tamaño', (2058, 2064)), ('de', (2065, 2067)), ('la', (2068, 2070)), ('ad', (2071, 2073)), ('##eno', (2073, 2076)), ('##pat', (2076, 2079)), ('##ía', (2079, 2081)), ('ing', (2082, 2085)), ('##uin', (2085, 2088)), ('##al', (2088, 2090)), ('derecha', (2091, 2098)), ('.', (2098, 2099))]\n",
      "\n",
      "\n",
      "[('Se', (2100, 2102)), ('soli', (2103, 2107)), ('##cita', (2107, 2111)), ('TC', (2112, 2114)), ('donde', (2115, 2120)), ('se', (2121, 2123)), ('objet', (2124, 2129)), ('##iva', (2129, 2132)), ('un', (2133, 2135)), ('marcado', (2136, 2143)), ('crecimiento', (2144, 2155)), ('de', (2156, 2158)), ('ad', (2159, 2161)), ('##eno', (2161, 2164)), ('##pat', (2164, 2167)), ('##ías', (2167, 2170)), ('ing', (2171, 2174)), ('##uin', (2174, 2177)), ('##ales', (2177, 2181)), ('derecha', (2182, 2189)), ('##s', (2189, 2190)), (',', (2190, 2191)), ('de', (2192, 2194)), ('44', (2195, 2197)), ('y', (2198, 2199)), ('48', (2200, 2202)), ('mm', (2203, 2205)), ('de', (2206, 2208)), ('eje', (2209, 2212)), ('corto', (2213, 2218)), ('.', (2218, 2219))]\n",
      "\n",
      "\n",
      "[('Ante', (2220, 2224)), ('la', (2225, 2227)), ('evidente', (2228, 2236)), ('pro', (2237, 2240)), ('##gres', (2240, 2244)), ('##ión', (2244, 2247)), ('gang', (2248, 2252)), ('##lion', (2252, 2256)), ('##ar', (2256, 2258)), (',', (2258, 2259)), ('se', (2260, 2262)), ('come', (2263, 2267)), ('##nta', (2267, 2270)), ('el', (2271, 2273)), ('caso', (2274, 2278)), ('en', (2279, 2281)), ('Comité', (2282, 2288)), ('y', (2289, 2290)), ('se', (2291, 2293)), ('decide', (2294, 2300)), ('la', (2301, 2303)), ('ex', (2304, 2306)), ('##ére', (2306, 2309)), ('##sis', (2309, 2312)), ('gang', (2313, 2317)), ('##lion', (2317, 2321)), ('##ar', (2321, 2323)), ('ing', (2324, 2327)), ('##uin', (2327, 2330)), ('##al', (2330, 2332)), ('derecha', (2333, 2340)), ('.', (2340, 2341))]\n",
      "\n",
      "\n",
      "[('El', (2342, 2344)), ('resultado', (2345, 2354)), ('AP', (2355, 2357)), ('mostra', (2358, 2364)), ('##ba', (2364, 2366)), ('met', (2367, 2370)), ('##ást', (2370, 2373)), ('##asis', (2373, 2377)), ('por', (2378, 2381)), ('sa', (2382, 2384)), ('##rco', (2384, 2387)), ('##ma', (2387, 2389)), ('ind', (2390, 2393)), ('##ifer', (2393, 2397)), ('##encia', (2397, 2402)), ('##do', (2402, 2404)), ('en', (2405, 2407)), ('2', (2408, 2409)), ('/', (2409, 2410)), ('2', (2410, 2411)), ('gang', (2412, 2416)), ('##lios', (2416, 2420)), ('li', (2421, 2423)), ('##n', (2423, 2424)), ('##f', (2424, 2425)), ('##áticos', (2425, 2431)), ('ing', (2432, 2435)), ('##uin', (2435, 2438)), ('##ales', (2438, 2442)), ('derechos', (2443, 2451)), ('ex', (2452, 2454)), ('##tir', (2454, 2457)), ('##pado', (2457, 2461)), ('##s', (2461, 2462)), (',', (2462, 2463)), ('el', (2464, 2466)), ('mayor', (2467, 2472)), ('de', (2473, 2475)), ('90', (2476, 2478)), ('mm', (2479, 2481)), (',', (2481, 2482)), ('con', (2483, 2486)), ('el', (2487, 2489)), ('mismo', (2490, 2495)), ('perfil', (2496, 2502)), ('in', (2503, 2505)), ('##mun', (2505, 2508)), ('##oh', (2508, 2510)), ('##isto', (2510, 2514)), ('##quí', (2514, 2517)), ('##mico', (2517, 2521)), ('que', (2522, 2525)), ('la', (2526, 2528)), ('lesión', (2529, 2535)), ('primaria', (2536, 2544)), (',', (2544, 2545)), ('tipo', (2546, 2550)), ('Ewing', (2551, 2556)), ('-', (2556, 2557)), ('like', (2557, 2561)), ('.', (2561, 2562))]\n",
      "\n",
      "\n",
      "[('Actualmente', (2563, 2574)), ('pen', (2575, 2578)), ('##dien', (2578, 2582)), ('##te', (2582, 2584)), ('de', (2585, 2587)), ('la', (2588, 2590)), ('realización', (2591, 2602)), ('de', (2603, 2605)), ('PE', (2606, 2608)), ('##T', (2608, 2609)), ('para', (2610, 2614)), ('decisión', (2615, 2623)), ('ter', (2624, 2627)), ('##ap', (2627, 2629)), ('##éu', (2629, 2631)), ('##tica', (2631, 2635)), ('.', (2635, 2636))]\n",
      "\n",
      "\n"
     ]
    }
   ],
   "source": [
    "for i in range(check_id_frag, check_id_frag + dev_frag[check_id]):\n",
    "    print(list(zip([tokenizer._token_dict_inv[ind] for ind in dev_ind[i]][1:len(dev_start_end_frag[i])+1], \n",
    "               dev_start_end_frag[i])))\n",
    "    print(\"\\n\")"
   ]
  },
  {
   "cell_type": "code",
   "execution_count": 89,
   "metadata": {},
   "outputs": [
    {
     "name": "stdout",
     "output_type": "stream",
     "text": [
      "[CLS] Ana ##mne ##sis Pac ##iente de 19 años que consulta por crecimiento pro ##gres ##ivo de tumor ##ación en na ##lga derecha de un año de evolución . [SEP] [PAD] [PAD] [PAD] [PAD] [PAD] [PAD] [PAD] [PAD] [PAD] [PAD] [PAD] [PAD] [PAD] [PAD] [PAD] [PAD] [PAD] [PAD] [PAD] [PAD] [PAD] [PAD] [PAD] [PAD] [PAD] [PAD] [PAD] [PAD] [PAD] [PAD] [PAD] [PAD] [PAD] [PAD] [PAD] [PAD] [PAD] [PAD] [PAD] [PAD] [PAD] [PAD] [PAD] [PAD] [PAD] [PAD] [PAD] [PAD] [PAD] [PAD] [PAD] [PAD] [PAD] [PAD] [PAD] [PAD] [PAD] [PAD] [PAD] [PAD] [PAD] [PAD] [PAD] [PAD] [PAD] [PAD] [PAD] [PAD] [PAD] [PAD] [PAD] [PAD] [PAD] [PAD] [PAD] [PAD] [PAD] [PAD] [PAD] [PAD] [PAD] [PAD] [PAD] [PAD] [PAD] [PAD] [PAD] [PAD] [PAD] [PAD] [PAD] [PAD] [PAD] [PAD] [PAD] [PAD] [PAD] [PAD] \n",
      "\n",
      "[CLS] Ex ##amen físico A la ex ##plo ##ración , destaca tumor ##ación de ##pend ##iente de na ##lga derecha de , aproximadamente , 20 cm de diámetro . [SEP] [PAD] [PAD] [PAD] [PAD] [PAD] [PAD] [PAD] [PAD] [PAD] [PAD] [PAD] [PAD] [PAD] [PAD] [PAD] [PAD] [PAD] [PAD] [PAD] [PAD] [PAD] [PAD] [PAD] [PAD] [PAD] [PAD] [PAD] [PAD] [PAD] [PAD] [PAD] [PAD] [PAD] [PAD] [PAD] [PAD] [PAD] [PAD] [PAD] [PAD] [PAD] [PAD] [PAD] [PAD] [PAD] [PAD] [PAD] [PAD] [PAD] [PAD] [PAD] [PAD] [PAD] [PAD] [PAD] [PAD] [PAD] [PAD] [PAD] [PAD] [PAD] [PAD] [PAD] [PAD] [PAD] [PAD] [PAD] [PAD] [PAD] [PAD] [PAD] [PAD] [PAD] [PAD] [PAD] [PAD] [PAD] [PAD] [PAD] [PAD] [PAD] [PAD] [PAD] [PAD] [PAD] [PAD] [PAD] [PAD] [PAD] [PAD] [PAD] [PAD] [PAD] [PAD] [PAD] [PAD] [PAD] [PAD] \n",
      "\n",
      "[CLS] Rest ##o del examen físico sin hall ##azgo ##s . [SEP] [PAD] [PAD] [PAD] [PAD] [PAD] [PAD] [PAD] [PAD] [PAD] [PAD] [PAD] [PAD] [PAD] [PAD] [PAD] [PAD] [PAD] [PAD] [PAD] [PAD] [PAD] [PAD] [PAD] [PAD] [PAD] [PAD] [PAD] [PAD] [PAD] [PAD] [PAD] [PAD] [PAD] [PAD] [PAD] [PAD] [PAD] [PAD] [PAD] [PAD] [PAD] [PAD] [PAD] [PAD] [PAD] [PAD] [PAD] [PAD] [PAD] [PAD] [PAD] [PAD] [PAD] [PAD] [PAD] [PAD] [PAD] [PAD] [PAD] [PAD] [PAD] [PAD] [PAD] [PAD] [PAD] [PAD] [PAD] [PAD] [PAD] [PAD] [PAD] [PAD] [PAD] [PAD] [PAD] [PAD] [PAD] [PAD] [PAD] [PAD] [PAD] [PAD] [PAD] [PAD] [PAD] [PAD] [PAD] [PAD] [PAD] [PAD] [PAD] [PAD] [PAD] [PAD] [PAD] [PAD] [PAD] [PAD] [PAD] [PAD] [PAD] [PAD] [PAD] [PAD] [PAD] [PAD] [PAD] [PAD] [PAD] [PAD] [PAD] [PAD] [PAD] [PAD] [PAD] [PAD] \n",
      "\n",
      "[CLS] Pr ##ue ##bas complement ##arias Res ##onan ##cia mag ##nética pé ##lv ##ica : tumor ##ación ex ##cé ##nt ##rica en na ##lga derecha de 13 , 5 x 16 x 8 , 8 cm con apo ##rte de pequeños vas ##os a nivel c ##rane ##al , con ##dici ##onan ##do alta vas ##cular ##ización en su por ##ción media y áreas de fi ##bros ##is y ne ##cro ##sis en su por ##ción per ##if ##érica . [SEP] [PAD] [PAD] [PAD] [PAD] [PAD] [PAD] [PAD] [PAD] [PAD] [PAD] [PAD] [PAD] [PAD] [PAD] [PAD] [PAD] [PAD] [PAD] [PAD] [PAD] [PAD] [PAD] [PAD] [PAD] [PAD] [PAD] [PAD] [PAD] [PAD] [PAD] [PAD] [PAD] [PAD] [PAD] [PAD] [PAD] [PAD] [PAD] [PAD] [PAD] [PAD] [PAD] [PAD] [PAD] [PAD] [PAD] [PAD] \n",
      "\n",
      "[CLS] Tomo ##grafia com ##put ##ari ##zada to ##rac ##oa ##b ##dom ##ino ##pé ##lv ##ica ( TC ) : gang ##lios li ##n ##f ##áticos aumenta ##dos en regiones ing ##uin ##ales y cadena ##s il ##ía ##cas derecha ##s con una ad ##eno ##pat ##ía il ##ía ##ca externa derecha de 11 mm de eje corto . [SEP] [PAD] [PAD] [PAD] [PAD] [PAD] [PAD] [PAD] [PAD] [PAD] [PAD] [PAD] [PAD] [PAD] [PAD] [PAD] [PAD] [PAD] [PAD] [PAD] [PAD] [PAD] [PAD] [PAD] [PAD] [PAD] [PAD] [PAD] [PAD] [PAD] [PAD] [PAD] [PAD] [PAD] [PAD] [PAD] [PAD] [PAD] [PAD] [PAD] [PAD] [PAD] [PAD] [PAD] [PAD] [PAD] [PAD] [PAD] [PAD] [PAD] [PAD] [PAD] [PAD] [PAD] [PAD] [PAD] [PAD] [PAD] [PAD] [PAD] [PAD] [PAD] [PAD] [PAD] [PAD] [PAD] [PAD] [PAD] [PAD] \n",
      "\n",
      "[CLS] Se realiza ex ##ére ##sis qui ##rú ##rgi ##ca completa de la tumor ##ación con resultado ana ##tom ##opa ##tol ##ógico ( AP ) de sa ##rco ##ma de células red ##onda ##s grandes de alto grado de 20 cm de diámetro mayor . [SEP] [PAD] [PAD] [PAD] [PAD] [PAD] [PAD] [PAD] [PAD] [PAD] [PAD] [PAD] [PAD] [PAD] [PAD] [PAD] [PAD] [PAD] [PAD] [PAD] [PAD] [PAD] [PAD] [PAD] [PAD] [PAD] [PAD] [PAD] [PAD] [PAD] [PAD] [PAD] [PAD] [PAD] [PAD] [PAD] [PAD] [PAD] [PAD] [PAD] [PAD] [PAD] [PAD] [PAD] [PAD] [PAD] [PAD] [PAD] [PAD] [PAD] [PAD] [PAD] [PAD] [PAD] [PAD] [PAD] [PAD] [PAD] [PAD] [PAD] [PAD] [PAD] [PAD] [PAD] [PAD] [PAD] [PAD] [PAD] [PAD] [PAD] [PAD] [PAD] [PAD] [PAD] [PAD] [PAD] [PAD] [PAD] [PAD] [PAD] [PAD] [PAD] [PAD] \n",
      "\n",
      "[CLS] Má ##rgen ##es libres . [SEP] [PAD] [PAD] [PAD] [PAD] [PAD] [PAD] [PAD] [PAD] [PAD] [PAD] [PAD] [PAD] [PAD] [PAD] [PAD] [PAD] [PAD] [PAD] [PAD] [PAD] [PAD] [PAD] [PAD] [PAD] [PAD] [PAD] [PAD] [PAD] [PAD] [PAD] [PAD] [PAD] [PAD] [PAD] [PAD] [PAD] [PAD] [PAD] [PAD] [PAD] [PAD] [PAD] [PAD] [PAD] [PAD] [PAD] [PAD] [PAD] [PAD] [PAD] [PAD] [PAD] [PAD] [PAD] [PAD] [PAD] [PAD] [PAD] [PAD] [PAD] [PAD] [PAD] [PAD] [PAD] [PAD] [PAD] [PAD] [PAD] [PAD] [PAD] [PAD] [PAD] [PAD] [PAD] [PAD] [PAD] [PAD] [PAD] [PAD] [PAD] [PAD] [PAD] [PAD] [PAD] [PAD] [PAD] [PAD] [PAD] [PAD] [PAD] [PAD] [PAD] [PAD] [PAD] [PAD] [PAD] [PAD] [PAD] [PAD] [PAD] [PAD] [PAD] [PAD] [PAD] [PAD] [PAD] [PAD] [PAD] [PAD] [PAD] [PAD] [PAD] [PAD] [PAD] [PAD] [PAD] [PAD] [PAD] [PAD] [PAD] [PAD] \n",
      "\n",
      "[CLS] In ##vasi ##ón vas ##cular y li ##n ##f ##ática . [SEP] [PAD] [PAD] [PAD] [PAD] [PAD] [PAD] [PAD] [PAD] [PAD] [PAD] [PAD] [PAD] [PAD] [PAD] [PAD] [PAD] [PAD] [PAD] [PAD] [PAD] [PAD] [PAD] [PAD] [PAD] [PAD] [PAD] [PAD] [PAD] [PAD] [PAD] [PAD] [PAD] [PAD] [PAD] [PAD] [PAD] [PAD] [PAD] [PAD] [PAD] [PAD] [PAD] [PAD] [PAD] [PAD] [PAD] [PAD] [PAD] [PAD] [PAD] [PAD] [PAD] [PAD] [PAD] [PAD] [PAD] [PAD] [PAD] [PAD] [PAD] [PAD] [PAD] [PAD] [PAD] [PAD] [PAD] [PAD] [PAD] [PAD] [PAD] [PAD] [PAD] [PAD] [PAD] [PAD] [PAD] [PAD] [PAD] [PAD] [PAD] [PAD] [PAD] [PAD] [PAD] [PAD] [PAD] [PAD] [PAD] [PAD] [PAD] [PAD] [PAD] [PAD] [PAD] [PAD] [PAD] [PAD] [PAD] [PAD] [PAD] [PAD] [PAD] [PAD] [PAD] [PAD] [PAD] [PAD] [PAD] [PAD] [PAD] [PAD] [PAD] [PAD] [PAD] [PAD] \n",
      "\n",
      "[CLS] In ##mun ##oh ##isto ##quí ##mica : CD ##99 + + + , CK ##A ##E ##1 / AE ##3 + + , Ki ##6 ##7 : 85 % . [SEP] [PAD] [PAD] [PAD] [PAD] [PAD] [PAD] [PAD] [PAD] [PAD] [PAD] [PAD] [PAD] [PAD] [PAD] [PAD] [PAD] [PAD] [PAD] [PAD] [PAD] [PAD] [PAD] [PAD] [PAD] [PAD] [PAD] [PAD] [PAD] [PAD] [PAD] [PAD] [PAD] [PAD] [PAD] [PAD] [PAD] [PAD] [PAD] [PAD] [PAD] [PAD] [PAD] [PAD] [PAD] [PAD] [PAD] [PAD] [PAD] [PAD] [PAD] [PAD] [PAD] [PAD] [PAD] [PAD] [PAD] [PAD] [PAD] [PAD] [PAD] [PAD] [PAD] [PAD] [PAD] [PAD] [PAD] [PAD] [PAD] [PAD] [PAD] [PAD] [PAD] [PAD] [PAD] [PAD] [PAD] [PAD] [PAD] [PAD] [PAD] [PAD] [PAD] [PAD] [PAD] [PAD] [PAD] [PAD] [PAD] [PAD] [PAD] [PAD] [PAD] [PAD] [PAD] [PAD] [PAD] \n",
      "\n",
      "[CLS] Las determina ##ciones para tras ##loc ##ación E ##WS - FL ##I ##1 y E ##WS - ET ##S para sa ##rco ##ma de Ewing fueron negativa ##s , en ##vi ##ándose tej ##ido en fresco para estudio de tras ##loc ##aciones poco comunes , det ##ect ##ándose tras ##loc ##ación C ##IC / D ##U ##X ##4 t ( 4 : 19 ) , correspondiente a sa ##rco ##ma Ewing - like . [SEP] [PAD] [PAD] [PAD] [PAD] [PAD] [PAD] [PAD] [PAD] [PAD] [PAD] [PAD] [PAD] [PAD] [PAD] [PAD] [PAD] [PAD] [PAD] [PAD] [PAD] [PAD] [PAD] [PAD] [PAD] [PAD] [PAD] [PAD] [PAD] [PAD] [PAD] [PAD] [PAD] [PAD] [PAD] [PAD] [PAD] [PAD] [PAD] [PAD] [PAD] [PAD] [PAD] [PAD] [PAD] [PAD] [PAD] [PAD] [PAD] [PAD] [PAD] [PAD] [PAD] \n",
      "\n",
      "[CLS] Ante dicho dia ##gnóstico se realiza : Tomo ##grafía por emisión de pos ##it ##rones ( PE ##T ) : dos ac ##ú ##mul ##os pat ##ológicos en cadena gang ##lion ##ar il ##ía ##ca interna derecha ( 20 mm , SU ##V ##má ##x 4 . 3 ) y en ad ##eno ##pat ##ía ing ##uin ##al inferior derecha ( 28 mm , SU ##V ##má ##x 5 . 0 ) . [SEP] [PAD] [PAD] [PAD] [PAD] [PAD] [PAD] [PAD] [PAD] [PAD] [PAD] [PAD] [PAD] [PAD] [PAD] [PAD] [PAD] [PAD] [PAD] [PAD] [PAD] [PAD] [PAD] [PAD] [PAD] [PAD] [PAD] [PAD] [PAD] [PAD] [PAD] [PAD] [PAD] [PAD] [PAD] [PAD] [PAD] [PAD] [PAD] [PAD] [PAD] [PAD] [PAD] [PAD] [PAD] [PAD] [PAD] [PAD] [PAD] [PAD] [PAD] [PAD] [PAD] [PAD] \n",
      "\n",
      "[CLS] TC pé ##lv ##ica : aumento de ad ##eno ##pat ##ías ing ##uin ##ales derecha ##s , las mayores de 38 y 28 mm de eje corto . [SEP] [PAD] [PAD] [PAD] [PAD] [PAD] [PAD] [PAD] [PAD] [PAD] [PAD] [PAD] [PAD] [PAD] [PAD] [PAD] [PAD] [PAD] [PAD] [PAD] [PAD] [PAD] [PAD] [PAD] [PAD] [PAD] [PAD] [PAD] [PAD] [PAD] [PAD] [PAD] [PAD] [PAD] [PAD] [PAD] [PAD] [PAD] [PAD] [PAD] [PAD] [PAD] [PAD] [PAD] [PAD] [PAD] [PAD] [PAD] [PAD] [PAD] [PAD] [PAD] [PAD] [PAD] [PAD] [PAD] [PAD] [PAD] [PAD] [PAD] [PAD] [PAD] [PAD] [PAD] [PAD] [PAD] [PAD] [PAD] [PAD] [PAD] [PAD] [PAD] [PAD] [PAD] [PAD] [PAD] [PAD] [PAD] [PAD] [PAD] [PAD] [PAD] [PAD] [PAD] [PAD] [PAD] [PAD] [PAD] [PAD] [PAD] [PAD] [PAD] [PAD] [PAD] [PAD] [PAD] [PAD] [PAD] [PAD] \n",
      "\n",
      "[CLS] Dia ##gnóstico Sar ##coma ind ##ifer ##encia ##do de células red ##onda ##s grandes de alto grado tipo Ewing - like . [SEP] [PAD] [PAD] [PAD] [PAD] [PAD] [PAD] [PAD] [PAD] [PAD] [PAD] [PAD] [PAD] [PAD] [PAD] [PAD] [PAD] [PAD] [PAD] [PAD] [PAD] [PAD] [PAD] [PAD] [PAD] [PAD] [PAD] [PAD] [PAD] [PAD] [PAD] [PAD] [PAD] [PAD] [PAD] [PAD] [PAD] [PAD] [PAD] [PAD] [PAD] [PAD] [PAD] [PAD] [PAD] [PAD] [PAD] [PAD] [PAD] [PAD] [PAD] [PAD] [PAD] [PAD] [PAD] [PAD] [PAD] [PAD] [PAD] [PAD] [PAD] [PAD] [PAD] [PAD] [PAD] [PAD] [PAD] [PAD] [PAD] [PAD] [PAD] [PAD] [PAD] [PAD] [PAD] [PAD] [PAD] [PAD] [PAD] [PAD] [PAD] [PAD] [PAD] [PAD] [PAD] [PAD] [PAD] [PAD] [PAD] [PAD] [PAD] [PAD] [PAD] [PAD] [PAD] [PAD] [PAD] [PAD] [PAD] [PAD] [PAD] [PAD] [PAD] [PAD] [PAD] \n",
      "\n",
      "[CLS] Estadio III , T2 ##a ##N ##1 ##M ##0 . [SEP] [PAD] [PAD] [PAD] [PAD] [PAD] [PAD] [PAD] [PAD] [PAD] [PAD] [PAD] [PAD] [PAD] [PAD] [PAD] [PAD] [PAD] [PAD] [PAD] [PAD] [PAD] [PAD] [PAD] [PAD] [PAD] [PAD] [PAD] [PAD] [PAD] [PAD] [PAD] [PAD] [PAD] [PAD] [PAD] [PAD] [PAD] [PAD] [PAD] [PAD] [PAD] [PAD] [PAD] [PAD] [PAD] [PAD] [PAD] [PAD] [PAD] [PAD] [PAD] [PAD] [PAD] [PAD] [PAD] [PAD] [PAD] [PAD] [PAD] [PAD] [PAD] [PAD] [PAD] [PAD] [PAD] [PAD] [PAD] [PAD] [PAD] [PAD] [PAD] [PAD] [PAD] [PAD] [PAD] [PAD] [PAD] [PAD] [PAD] [PAD] [PAD] [PAD] [PAD] [PAD] [PAD] [PAD] [PAD] [PAD] [PAD] [PAD] [PAD] [PAD] [PAD] [PAD] [PAD] [PAD] [PAD] [PAD] [PAD] [PAD] [PAD] [PAD] [PAD] [PAD] [PAD] [PAD] [PAD] [PAD] [PAD] [PAD] [PAD] [PAD] [PAD] [PAD] [PAD] [PAD] \n",
      "\n",
      "[CLS] Trata ##miento Tras la ex ##ére ##sis qui ##rú ##rgi ##ca y completar estudio de extensión , se presenta el caso en el Comité de ##cid ##iéndose inicio de tratamiento según esquema VA ##C - I ##E ( vin ##cris ##tina - do ##xo ##rr ##ubi ##cina - ciclo ##fos ##fa ##mida alter ##nado con if ##os ##fa ##mida - et ##op ##ós ##ido ) . [SEP] [PAD] [PAD] [PAD] [PAD] [PAD] [PAD] [PAD] [PAD] [PAD] [PAD] [PAD] [PAD] [PAD] [PAD] [PAD] [PAD] [PAD] [PAD] [PAD] [PAD] [PAD] [PAD] [PAD] [PAD] [PAD] [PAD] [PAD] [PAD] [PAD] [PAD] [PAD] [PAD] [PAD] [PAD] [PAD] [PAD] [PAD] [PAD] [PAD] [PAD] [PAD] [PAD] [PAD] [PAD] [PAD] [PAD] [PAD] [PAD] [PAD] [PAD] [PAD] [PAD] [PAD] [PAD] [PAD] [PAD] [PAD] [PAD] [PAD] [PAD] \n",
      "\n",
      "[CLS] E ##vol ##ución Tras tres ciclo ##s de tratamiento , a la ex ##plo ##ración , se apre ##cia aumento de tamaño de la ad ##eno ##pat ##ía ing ##uin ##al derecha . [SEP] [PAD] [PAD] [PAD] [PAD] [PAD] [PAD] [PAD] [PAD] [PAD] [PAD] [PAD] [PAD] [PAD] [PAD] [PAD] [PAD] [PAD] [PAD] [PAD] [PAD] [PAD] [PAD] [PAD] [PAD] [PAD] [PAD] [PAD] [PAD] [PAD] [PAD] [PAD] [PAD] [PAD] [PAD] [PAD] [PAD] [PAD] [PAD] [PAD] [PAD] [PAD] [PAD] [PAD] [PAD] [PAD] [PAD] [PAD] [PAD] [PAD] [PAD] [PAD] [PAD] [PAD] [PAD] [PAD] [PAD] [PAD] [PAD] [PAD] [PAD] [PAD] [PAD] [PAD] [PAD] [PAD] [PAD] [PAD] [PAD] [PAD] [PAD] [PAD] [PAD] [PAD] [PAD] [PAD] [PAD] [PAD] [PAD] [PAD] [PAD] [PAD] [PAD] [PAD] [PAD] [PAD] [PAD] [PAD] [PAD] [PAD] [PAD] [PAD] [PAD] [PAD] \n",
      "\n",
      "[CLS] Se soli ##cita TC donde se objet ##iva un marcado crecimiento de ad ##eno ##pat ##ías ing ##uin ##ales derecha ##s , de 44 y 48 mm de eje corto . [SEP] [PAD] [PAD] [PAD] [PAD] [PAD] [PAD] [PAD] [PAD] [PAD] [PAD] [PAD] [PAD] [PAD] [PAD] [PAD] [PAD] [PAD] [PAD] [PAD] [PAD] [PAD] [PAD] [PAD] [PAD] [PAD] [PAD] [PAD] [PAD] [PAD] [PAD] [PAD] [PAD] [PAD] [PAD] [PAD] [PAD] [PAD] [PAD] [PAD] [PAD] [PAD] [PAD] [PAD] [PAD] [PAD] [PAD] [PAD] [PAD] [PAD] [PAD] [PAD] [PAD] [PAD] [PAD] [PAD] [PAD] [PAD] [PAD] [PAD] [PAD] [PAD] [PAD] [PAD] [PAD] [PAD] [PAD] [PAD] [PAD] [PAD] [PAD] [PAD] [PAD] [PAD] [PAD] [PAD] [PAD] [PAD] [PAD] [PAD] [PAD] [PAD] [PAD] [PAD] [PAD] [PAD] [PAD] [PAD] [PAD] [PAD] [PAD] [PAD] [PAD] [PAD] [PAD] [PAD] \n",
      "\n",
      "[CLS] Ante la evidente pro ##gres ##ión gang ##lion ##ar , se come ##nta el caso en Comité y se decide la ex ##ére ##sis gang ##lion ##ar ing ##uin ##al derecha . [SEP] [PAD] [PAD] [PAD] [PAD] [PAD] [PAD] [PAD] [PAD] [PAD] [PAD] [PAD] [PAD] [PAD] [PAD] [PAD] [PAD] [PAD] [PAD] [PAD] [PAD] [PAD] [PAD] [PAD] [PAD] [PAD] [PAD] [PAD] [PAD] [PAD] [PAD] [PAD] [PAD] [PAD] [PAD] [PAD] [PAD] [PAD] [PAD] [PAD] [PAD] [PAD] [PAD] [PAD] [PAD] [PAD] [PAD] [PAD] [PAD] [PAD] [PAD] [PAD] [PAD] [PAD] [PAD] [PAD] [PAD] [PAD] [PAD] [PAD] [PAD] [PAD] [PAD] [PAD] [PAD] [PAD] [PAD] [PAD] [PAD] [PAD] [PAD] [PAD] [PAD] [PAD] [PAD] [PAD] [PAD] [PAD] [PAD] [PAD] [PAD] [PAD] [PAD] [PAD] [PAD] [PAD] [PAD] [PAD] [PAD] [PAD] [PAD] [PAD] [PAD] [PAD] [PAD] \n",
      "\n",
      "[CLS] El resultado AP mostra ##ba met ##ást ##asis por sa ##rco ##ma ind ##ifer ##encia ##do en 2 / 2 gang ##lios li ##n ##f ##áticos ing ##uin ##ales derechos ex ##tir ##pado ##s , el mayor de 90 mm , con el mismo perfil in ##mun ##oh ##isto ##quí ##mico que la lesión primaria , tipo Ewing - like . [SEP] [PAD] [PAD] [PAD] [PAD] [PAD] [PAD] [PAD] [PAD] [PAD] [PAD] [PAD] [PAD] [PAD] [PAD] [PAD] [PAD] [PAD] [PAD] [PAD] [PAD] [PAD] [PAD] [PAD] [PAD] [PAD] [PAD] [PAD] [PAD] [PAD] [PAD] [PAD] [PAD] [PAD] [PAD] [PAD] [PAD] [PAD] [PAD] [PAD] [PAD] [PAD] [PAD] [PAD] [PAD] [PAD] [PAD] [PAD] [PAD] [PAD] [PAD] [PAD] [PAD] [PAD] [PAD] [PAD] [PAD] [PAD] [PAD] [PAD] [PAD] [PAD] [PAD] [PAD] [PAD] [PAD] \n",
      "\n",
      "[CLS] Actualmente pen ##dien ##te de la realización de PE ##T para decisión ter ##ap ##éu ##tica . [SEP] [PAD] [PAD] [PAD] [PAD] [PAD] [PAD] [PAD] [PAD] [PAD] [PAD] [PAD] [PAD] [PAD] [PAD] [PAD] [PAD] [PAD] [PAD] [PAD] [PAD] [PAD] [PAD] [PAD] [PAD] [PAD] [PAD] [PAD] [PAD] [PAD] [PAD] [PAD] [PAD] [PAD] [PAD] [PAD] [PAD] [PAD] [PAD] [PAD] [PAD] [PAD] [PAD] [PAD] [PAD] [PAD] [PAD] [PAD] [PAD] [PAD] [PAD] [PAD] [PAD] [PAD] [PAD] [PAD] [PAD] [PAD] [PAD] [PAD] [PAD] [PAD] [PAD] [PAD] [PAD] [PAD] [PAD] [PAD] [PAD] [PAD] [PAD] [PAD] [PAD] [PAD] [PAD] [PAD] [PAD] [PAD] [PAD] [PAD] [PAD] [PAD] [PAD] [PAD] [PAD] [PAD] [PAD] [PAD] [PAD] [PAD] [PAD] [PAD] [PAD] [PAD] [PAD] [PAD] [PAD] [PAD] [PAD] [PAD] [PAD] [PAD] [PAD] [PAD] [PAD] [PAD] [PAD] [PAD] [PAD] [PAD] \n",
      "\n"
     ]
    }
   ],
   "source": [
    "check_id_frag = sum(dev_frag[:check_id])\n",
    "for frag in dev_ind[check_id_frag:check_id_frag + dev_frag[check_id]]:\n",
    "    print(' '.join([tokenizer._token_dict_inv[ind] for ind in frag]), \"\\n\")"
   ]
  },
  {
   "cell_type": "code",
   "execution_count": 90,
   "metadata": {},
   "outputs": [
    {
     "data": {
      "text/plain": [
       "count    8319.000000\n",
       "mean        0.293665\n",
       "std         0.585919\n",
       "min         0.000000\n",
       "25%         0.000000\n",
       "50%         0.000000\n",
       "75%         0.000000\n",
       "max         6.000000\n",
       "dtype: float64"
      ]
     },
     "execution_count": 90,
     "metadata": {},
     "output_type": "execute_result"
    }
   ],
   "source": [
    "# Fragment labels distribution\n",
    "pd.Series(np.sum(dev_y, axis=1)).describe()"
   ]
  },
  {
   "cell_type": "markdown",
   "metadata": {},
   "source": [
    "### Training & Development corpus\n",
    "\n",
    "We merge the previously generated datasets:"
   ]
  },
  {
   "cell_type": "code",
   "execution_count": 91,
   "metadata": {},
   "outputs": [],
   "source": [
    "# Indices\n",
    "train_dev_ind = np.concatenate((train_ind, dev_ind))"
   ]
  },
  {
   "cell_type": "code",
   "execution_count": 92,
   "metadata": {},
   "outputs": [
    {
     "data": {
      "text/plain": [
       "(36027, 128)"
      ]
     },
     "execution_count": 92,
     "metadata": {},
     "output_type": "execute_result"
    }
   ],
   "source": [
    "train_dev_ind.shape"
   ]
  },
  {
   "cell_type": "code",
   "execution_count": 93,
   "metadata": {},
   "outputs": [],
   "source": [
    "# Segments\n",
    "train_dev_seg = np.concatenate((train_seg, dev_seg))"
   ]
  },
  {
   "cell_type": "code",
   "execution_count": 94,
   "metadata": {},
   "outputs": [
    {
     "data": {
      "text/plain": [
       "(36027, 128)"
      ]
     },
     "execution_count": 94,
     "metadata": {},
     "output_type": "execute_result"
    }
   ],
   "source": [
    "train_dev_seg.shape"
   ]
  },
  {
   "cell_type": "code",
   "execution_count": 96,
   "metadata": {},
   "outputs": [],
   "source": [
    "# y\n",
    "train_dev_y = np.concatenate((train_y, dev_y))"
   ]
  },
  {
   "cell_type": "code",
   "execution_count": 97,
   "metadata": {},
   "outputs": [
    {
     "data": {
      "text/plain": [
       "(36027, 743)"
      ]
     },
     "execution_count": 97,
     "metadata": {},
     "output_type": "execute_result"
    }
   ],
   "source": [
    "train_dev_y.shape"
   ]
  },
  {
   "cell_type": "markdown",
   "metadata": {},
   "source": [
    "## Fine-tuning\n",
    "\n",
    "Using the corpus of labeled sentences, we fine-tune the model on a multi-label sentence classification task."
   ]
  },
  {
   "cell_type": "code",
   "execution_count": 98,
   "metadata": {},
   "outputs": [],
   "source": [
    "from keras.backend.tensorflow_backend import set_session\n",
    "\n",
    "# Prevent GPU memory allocation problems\n",
    "config = tf.ConfigProto()\n",
    "config.gpu_options.allow_growth = True\n",
    "set_session(tf.Session(config=config))"
   ]
  },
  {
   "cell_type": "code",
   "execution_count": 100,
   "metadata": {},
   "outputs": [],
   "source": [
    "from keras_bert import load_trained_model_from_checkpoint\n",
    "\n",
    "model = load_trained_model_from_checkpoint(\n",
    "    config_file=config_path, \n",
    "    checkpoint_file=checkpoint_path, \n",
    "    training=training,                                       \n",
    "    trainable=trainable, \n",
    "    seq_len=SEQ_LEN\n",
    ")"
   ]
  },
  {
   "cell_type": "code",
   "execution_count": 101,
   "metadata": {},
   "outputs": [
    {
     "data": {
      "text/plain": [
       "[<tf.Tensor 'Input-Token:0' shape=(?, 128) dtype=float32>,\n",
       " <tf.Tensor 'Input-Segment:0' shape=(?, 128) dtype=float32>]"
      ]
     },
     "execution_count": 101,
     "metadata": {},
     "output_type": "execute_result"
    }
   ],
   "source": [
    "model.inputs"
   ]
  },
  {
   "cell_type": "code",
   "execution_count": 102,
   "metadata": {},
   "outputs": [
    {
     "data": {
      "text/plain": [
       "[<tf.Tensor 'Encoder-12-FeedForward-Norm/add_1:0' shape=(?, 128, 768) dtype=float32>]"
      ]
     },
     "execution_count": 102,
     "metadata": {},
     "output_type": "execute_result"
    }
   ],
   "source": [
    "model.outputs"
   ]
  },
  {
   "cell_type": "code",
   "execution_count": 103,
   "metadata": {},
   "outputs": [],
   "source": [
    "from keras.layers import Dense, Activation\n",
    "from keras.models import Model\n",
    "from keras.initializers import glorot_uniform\n",
    "from keras_bert.layers import Extract\n",
    "\n",
    "dense_cls = Extract(index=0, name='Extract')(model.output) # In order to extract CLS token embedding\n",
    "dense_out = Dense(units=num_labels, kernel_initializer=glorot_uniform(seed=random_seed))(dense_cls) # Multi-label classification\n",
    "outputs = Activation('sigmoid')(dense_out)\n",
    "\n",
    "model = Model(model.inputs, outputs)"
   ]
  },
  {
   "cell_type": "code",
   "execution_count": 104,
   "metadata": {},
   "outputs": [
    {
     "data": {
      "text/plain": [
       "[<tf.Tensor 'Input-Token:0' shape=(?, 128) dtype=float32>,\n",
       " <tf.Tensor 'Input-Segment:0' shape=(?, 128) dtype=float32>]"
      ]
     },
     "execution_count": 104,
     "metadata": {},
     "output_type": "execute_result"
    }
   ],
   "source": [
    "model.inputs"
   ]
  },
  {
   "cell_type": "code",
   "execution_count": 105,
   "metadata": {},
   "outputs": [
    {
     "data": {
      "text/plain": [
       "[<tf.Tensor 'activation_1/Sigmoid:0' shape=(?, 743) dtype=float32>]"
      ]
     },
     "execution_count": 105,
     "metadata": {},
     "output_type": "execute_result"
    }
   ],
   "source": [
    "model.outputs"
   ]
  },
  {
   "cell_type": "code",
   "execution_count": null,
   "metadata": {},
   "outputs": [
    {
     "name": "stdout",
     "output_type": "stream",
     "text": [
      "Epoch 1/30\n",
      "36027/36027 [==============================] - 672s 19ms/step - loss: 0.0804\n",
      "Epoch 2/30\n",
      "36027/36027 [==============================] - 663s 18ms/step - loss: 0.0028\n",
      "Epoch 3/30\n",
      "12336/36027 [=========>....................] - ETA: 7:16 - loss: 0.0017"
     ]
    }
   ],
   "source": [
    "%%time\n",
    "from keras_radam import RAdam\n",
    "\n",
    "model.compile(\n",
    "    optimizer=RAdam(learning_rate=LR),\n",
    "    loss='binary_crossentropy'\n",
    ")\n",
    "\n",
    "history = model.fit(\n",
    "    x=[train_dev_ind, train_dev_seg],\n",
    "    y=train_dev_y,\n",
    "    epochs=EPOCHS,\n",
    "    batch_size=BATCH_SIZE,\n",
    "    shuffle=True\n",
    ")"
   ]
  },
  {
   "cell_type": "markdown",
   "metadata": {},
   "source": [
    "## Test set predictions\n",
    "\n",
    "Finally, the predictions made by the model on the test set are saved. For this purpose, firstly, each sentence from the test corpus must be converted into a sequence of subwords (input IDs and attention mask arrays). Then, the predictions made by the model at the sentence-level are saved, to be further evaluated at document-level (see `results/Cantemist-Coding/Evaluation.ipynb`)."
   ]
  },
  {
   "cell_type": "code",
   "execution_count": 98,
   "metadata": {},
   "outputs": [
    {
     "name": "stdout",
     "output_type": "stream",
     "text": [
      "CPU times: user 40.2 ms, sys: 15.9 ms, total: 56.1 ms\n",
      "Wall time: 290 ms\n"
     ]
    }
   ],
   "source": [
    "%%time\n",
    "test_path = corpus_path + \"test-set/cantemist-ner/\"\n",
    "test_files = [f for f in os.listdir(test_path) if os.path.isfile(test_path + f) and f.split('.')[-1] == 'txt']\n",
    "test_data = load_text_files(test_files, test_path)\n",
    "df_text_test = pd.DataFrame({'doc_id': [s.split('.txt')[0] for s in test_files], 'raw_text': test_data})"
   ]
  },
  {
   "cell_type": "code",
   "execution_count": 109,
   "metadata": {},
   "outputs": [
    {
     "data": {
      "text/plain": [
       "(250, 2)"
      ]
     },
     "execution_count": 109,
     "metadata": {},
     "output_type": "execute_result"
    }
   ],
   "source": [
    "df_text_test.shape"
   ]
  },
  {
   "cell_type": "code",
   "execution_count": 99,
   "metadata": {},
   "outputs": [
    {
     "data": {
      "text/html": [
       "<div>\n",
       "<style scoped>\n",
       "    .dataframe tbody tr th:only-of-type {\n",
       "        vertical-align: middle;\n",
       "    }\n",
       "\n",
       "    .dataframe tbody tr th {\n",
       "        vertical-align: top;\n",
       "    }\n",
       "\n",
       "    .dataframe thead th {\n",
       "        text-align: right;\n",
       "    }\n",
       "</style>\n",
       "<table border=\"1\" class=\"dataframe\">\n",
       "  <thead>\n",
       "    <tr style=\"text-align: right;\">\n",
       "      <th></th>\n",
       "      <th>doc_id</th>\n",
       "      <th>raw_text</th>\n",
       "    </tr>\n",
       "  </thead>\n",
       "  <tbody>\n",
       "    <tr>\n",
       "      <th>0</th>\n",
       "      <td>cc_onco877</td>\n",
       "      <td>Anamnesis\\nMujer de 59 años, alérgica a penici...</td>\n",
       "    </tr>\n",
       "    <tr>\n",
       "      <th>1</th>\n",
       "      <td>cc_onco1075</td>\n",
       "      <td>Anamnesis\\nMujer de 52 años, sin alergias cono...</td>\n",
       "    </tr>\n",
       "    <tr>\n",
       "      <th>2</th>\n",
       "      <td>cc_onco1450</td>\n",
       "      <td>Anamnesis\\nMujer de 51 años de edad, sin antec...</td>\n",
       "    </tr>\n",
       "    <tr>\n",
       "      <th>3</th>\n",
       "      <td>cc_onco1165</td>\n",
       "      <td>Anamnesis\\nPaciente varón de 75 años sin hábit...</td>\n",
       "    </tr>\n",
       "    <tr>\n",
       "      <th>4</th>\n",
       "      <td>cc_onco1298</td>\n",
       "      <td>Anamnesis\\nMujer de 60 años, exfumadora de 20 ...</td>\n",
       "    </tr>\n",
       "  </tbody>\n",
       "</table>\n",
       "</div>"
      ],
      "text/plain": [
       "        doc_id                                           raw_text\n",
       "0   cc_onco877  Anamnesis\\nMujer de 59 años, alérgica a penici...\n",
       "1  cc_onco1075  Anamnesis\\nMujer de 52 años, sin alergias cono...\n",
       "2  cc_onco1450  Anamnesis\\nMujer de 51 años de edad, sin antec...\n",
       "3  cc_onco1165  Anamnesis\\nPaciente varón de 75 años sin hábit...\n",
       "4  cc_onco1298  Anamnesis\\nMujer de 60 años, exfumadora de 20 ..."
      ]
     },
     "execution_count": 99,
     "metadata": {},
     "output_type": "execute_result"
    }
   ],
   "source": [
    "df_text_test.head()"
   ]
  },
  {
   "cell_type": "code",
   "execution_count": 100,
   "metadata": {},
   "outputs": [
    {
     "data": {
      "text/plain": [
       "'Anamnesis\\nMujer de 59 años, alérgica a penicilina y procaína. Fumadora activa (IPA: 43).\\nAntecedentes familiares: abuelo materno diagnosticado de carcinoma colon a los 70 años; madre diagnosticada de carcinoma de mama bilateral a los 50 años; padre fallecido de carcinoma gástrico a los 47 años; tres tías maternas diagnosticadas de carcinoma de mama a los 55, 56 y 57 años respectivamente; y tres primas afectas de cáncer de mama.\\nAntecedentes personales: bronquitis crónica, poliposis colónica, carcinoma ductal infiltrante clásico mama pT2pN0M0 G2 subtipo tumoral luminal a (RH: +, HER-2: negativo) intervenido en agosto de 2013 mediante tumorectomía mama izquierda (patrón round block) + biopsia selectiva ganglio centinela (negativo) y posterior QT adyuvante con esquema TC (paclitaxel-ciclofosfamida) x 4 ciclos.\\nAcude en noviembre de 2013 a visita de seguimiento tras finalizar tratamiento adyuvante. Asintomática.\\n\\nExploración física\\nTemperatura axilar 36,5ºC, tensión arterial 130/83 mm Hg, frecuencia cardiaca 90 lpm y saturación basal de oxígeno del 98 %.\\nConsciente, orientada en las tres esferas, eupneica en reposo. Buen estado general. Glasgow 15. Exploración mamaria: no se aprecian signos de inflamación, ulceración y/o asimetrías. No hay secreción ni retracción de pezón. No se palpan nódulos, masas ni adenopatías regionales. AC: tonos rítmicos, sin soplos. AP: hipoventilación en hemitórax izquierdo. Abdomen: anodino. Sin edemas ni signos de TVP en EEII.\\n\\nPruebas complementarias\\nTC con contraste: nódulos pulmonares de 10 mm en lóbulo superior derecho (LSD), que presenta amplio contacto con pleura y discreta especulación marginal (apariencia atípica para corresponder a enfermedad secundaria) y dos en lóbulo medio (LM) de bordes bien definidos, el mayor de 16 mm.\\nAnalítica general: bioquímica y hemograma sin alteraciones relevantes. Marcadores tumorales: Ca 15,3: 23,3 U/ml (0-30). CEA: 18,27 ng/ml (0-4,6).\\n\\nDiagnóstico\\n- Nódulos pulmonares a estudio.\\n- Carcinoma ductal infiltrante pT2pN0M0 luminal A.\\n\\nTratamiento\\nNo precisa tratamiento específico en este momento.\\n\\nEvolución\\nSe solicita PET/TC que confirma la existencia de nódulo de 1,3 mm en LSD con SUVmax 6,6 y nódulo de 10 mm en LM con SUVmax de 3; sin otros hallazgos.\\nTC craneoencefálica con contraste: no se evidencian imágenes que sugieran existencia de enfermedad secundaria a nivel encefálico. Espacios subaracnoideos de convexidad y sistema ventricular dentro de límites de normalidad.\\nTras presentar el caso en Comité de Tumores Tórax, se plantea intervención quirúrgica. El día 26/2/2014 se realiza resección atípica de ambos nódulos pulmonares (16 mm LSD y 12 mm LM), con resultado anatomopatológico de adenocarcinoma acinar focalmente mucosecretor de origen pulmonar G2 (perfil inmunohistoquímico, IHQ: TTF1:+). Determinación: mutación EGFR (RT-PCR Cobas®): negativa. Translocación ALK (IHQ Novocastra®): negativa.\\nTras la cirugía se solicita PET/TC que detecta hipercaptación en adenopatías 4R, 7, 10R con SUVmax hasta 4. Tras presentar el caso en comité multidisciplinar, se decide solicitar TC que no muestra hallazgos destacables y ecobroncoscopia (EBUS). Se procede a realizar punción-biopsia de adenopatías 4R y 7 resultando negativas para malignidad con hallazgos inflamatorios.\\nContinúa el seguimiento estrecho y en abril/2015 se detecta en TC nódulo pulmonar de 0,6 cm en LSD y aumento de CEA (8). En PET/TC se aprecia micronódulo LSD de 0,5 cm con SUVmax de 1,6 sospechoso de malignidad, sin más datos de enfermedad regional y/o a distancia. Se solicitan además pruebas funcionales respiratorias y broncoscopia, anodina.\\nAnte sospecha de recidiva local, se presenta nuevamente en Comité de Tumores Tórax y se plantea cirugía. Se interviene bajo anestesia general, el 25-6-2015 realizándose resección sublobar atípica en cuña de LSD, localizando nódulo en segmento posterior de LSD. El resultado anatomopatológico confirma adenocarcinoma moderadamente diferenciado de origen pulmonar pT1aN0M0 (perfil IHQ: TTF1:+, RH: -; Ki 67: 75 %). Posteriormente recibe QT adyuvante esquema cisplatino 75 mg/m2 IV d1 + VNR oral 60 mg/m2 d1y8 c/21d, x 4 ciclos con buena tolerancia y respuesta completa radiológica.\\nControles periódicos posteriores sin evidencia de enfermedad hasta que en mayo/2017 aparece en TC progresión de enfermedad con aparición de masa pulmonar izquierda, nódulos pulmonares metastásicos bilaterales, afectación metastásica ganglionar mediastínica e hiliar izquierda con diseminación ósea. Múltiples adenopatías y conglomerados mediastínicos, lesión blástica en cuerpo vertebral T5.\\nDurante la exploración física, destacaba palpación de conglomerado adenopático en región supraclavicular izquierda doloroso en la palpación.\\nSe solicitó determinación de perfil genómico con material de la biopsia de pieza quirúrgica tumoral previa a través de la plataforma Next Generation Sequencing (NGS) FoundationOne® en el que se identificaron amplificación ERBB2, mutación BRCA-1 (variante D1692fs*10), amplificación MYC, mutación TP53 (splicesite 920-1G>T), además de una alta carga mutacional (TMB-High; 42Muts/Mb).\\nSe solicitó adicionalmente determinación por inmunohistoquímica de PD-L1, encontrando expresión del mismo en menos del 1 % (sin expresión).\\nSe confirma en gammagrafía ósea presencia de múltiples metástasis óseas distribuidas en calota, parrilla costal, raquis, esternón, ambos húmeros, pelvis y fémur derecho.\\nCon todos los hallazgos clínico-radiológicos y perfil genómico e IHQ tumoral, valorando las diferentes opciones terapéuticas, se decide iniciar primera línea de QT paliativa con esquema carboplatino AUC-5+ pemetrexed 500 mg/m2 IV d1 c/21d + ácido zoledrónico 4 mg IV.\\nEn la actualidad, ha completado 2 ciclos con buena tolerancia y se ha solicitado radioterapia paliativa antiálgica sobre lesiones óseas pélvicas, debido al mal control del dolor a pesar de analgesia de tercer escalón.'"
      ]
     },
     "execution_count": 100,
     "metadata": {},
     "output_type": "execute_result"
    }
   ],
   "source": [
    "df_text_test.raw_text[0]"
   ]
  },
  {
   "cell_type": "code",
   "execution_count": 101,
   "metadata": {},
   "outputs": [],
   "source": [
    "test_doc_list = sorted(set(df_text_test[\"doc_id\"]))"
   ]
  },
  {
   "cell_type": "code",
   "execution_count": 102,
   "metadata": {},
   "outputs": [
    {
     "data": {
      "text/plain": [
       "300"
      ]
     },
     "execution_count": 102,
     "metadata": {},
     "output_type": "execute_result"
    }
   ],
   "source": [
    "len(test_doc_list)"
   ]
  },
  {
   "cell_type": "code",
   "execution_count": 103,
   "metadata": {},
   "outputs": [
    {
     "name": "stdout",
     "output_type": "stream",
     "text": [
      "CPU times: user 141 ms, sys: 36.1 ms, total: 177 ms\n",
      "Wall time: 177 ms\n"
     ]
    }
   ],
   "source": [
    "%%time\n",
    "ss_sub_corpus_path = ss_corpus_path + \"test-background/\"\n",
    "ss_files = [f for f in os.listdir(ss_sub_corpus_path) if os.path.isfile(ss_sub_corpus_path + f)]\n",
    "ss_dict_test = load_ss_files(ss_files, ss_sub_corpus_path)"
   ]
  },
  {
   "cell_type": "code",
   "execution_count": 107,
   "metadata": {},
   "outputs": [
    {
     "name": "stderr",
     "output_type": "stream",
     "text": [
      "100%|██████████| 300/300 [00:03<00:00, 88.74it/s] "
     ]
    },
    {
     "name": "stdout",
     "output_type": "stream",
     "text": [
      "CPU times: user 3.42 s, sys: 56.3 ms, total: 3.48 s\n",
      "Wall time: 3.44 s\n"
     ]
    },
    {
     "name": "stderr",
     "output_type": "stream",
     "text": [
      "\n"
     ]
    }
   ],
   "source": [
    "%%time\n",
    "test_ind, test_seg, _, test_frag, _ = ss_create_frag_input_data_bert(df_text=df_text_test, \n",
    "                                                  text_col=text_col,\n",
    "                                                  # Since labels are ignored, we pass df_codes_train_ner as df_ann\n",
    "                                                  df_ann=df_codes_train_ner, doc_list=test_doc_list, ss_dict=ss_dict_test,\n",
    "                                                  tokenizer=tokenizer, lab_encoder=mlb_encoder, seq_len=SEQ_LEN,\n",
    "                                                  greedy=False)"
   ]
  },
  {
   "cell_type": "code",
   "execution_count": null,
   "metadata": {},
   "outputs": [],
   "source": [
    "%%time\n",
    "test_preds = model.predict([test_ind, test_seg])"
   ]
  },
  {
   "cell_type": "code",
   "execution_count": 120,
   "metadata": {},
   "outputs": [
    {
     "data": {
      "text/plain": [
       "(3955, 727)"
      ]
     },
     "execution_count": 120,
     "metadata": {},
     "output_type": "execute_result"
    }
   ],
   "source": [
    "test_preds.shape"
   ]
  },
  {
   "cell_type": "code",
   "execution_count": 105,
   "metadata": {},
   "outputs": [],
   "source": [
    "results_dir_path = \"../results/Cantemist-Coding/\""
   ]
  },
  {
   "cell_type": "code",
   "execution_count": 178,
   "metadata": {},
   "outputs": [
    {
     "name": "stdout",
     "output_type": "stream",
     "text": [
      "CPU times: user 2.21 ms, sys: 4.65 ms, total: 6.87 ms\n",
      "Wall time: 6.02 ms\n"
     ]
    }
   ],
   "source": [
    "%%time\n",
    "np.save(file=results_dir_path + \"predictions/mbert_galen_seed_\" + str(random_seed) + \"_test_preds.npy\", arr=test_preds)"
   ]
  }
 ],
 "metadata": {
  "kernelspec": {
   "display_name": "Python 3",
   "language": "python",
   "name": "python3"
  },
  "language_info": {
   "codemirror_mode": {
    "name": "ipython",
    "version": 3
   },
   "file_extension": ".py",
   "mimetype": "text/x-python",
   "name": "python",
   "nbconvert_exporter": "python",
   "pygments_lexer": "ipython3",
   "version": "3.6.5"
  }
 },
 "nbformat": 4,
 "nbformat_minor": 4
}
