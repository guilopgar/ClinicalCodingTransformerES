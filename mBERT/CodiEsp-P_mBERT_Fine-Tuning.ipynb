{
 "cells": [
  {
   "cell_type": "markdown",
   "metadata": {},
   "source": [
    "# Fine-tuning mBERT on CodiEsp-P\n",
    "\n",
    "In this notebook, following a multi-label sequence classification approach, the mBERT model is fine-tuned on both the training and development sets of the CodiEsp-P corpus. Additionally, the predictions made by the model on the test set are saved, in order to futher evaluate the clinical coding performance of the model (see `results/CodiEsp-P/Evaluation.ipynb`)."
   ]
  },
  {
   "cell_type": "code",
   "execution_count": 1,
   "metadata": {},
   "outputs": [
    {
     "name": "stderr",
     "output_type": "stream",
     "text": [
      "Using TensorFlow backend.\n"
     ]
    }
   ],
   "source": [
    "import tensorflow as tf\n",
    "\n",
    "# Auxiliary components\n",
    "import sys\n",
    "sys.path.append(\"..\")\n",
    "from nlp_utils import *\n",
    "\n",
    "# mBERT tokenizer\n",
    "from keras_bert import load_vocabulary, Tokenizer\n",
    "model_path = \"multi_cased_L-12_H-768_A-12/\"\n",
    "config_path = model_path + \"bert_config.json\"\n",
    "checkpoint_path = model_path + \"bert_model.ckpt\"\n",
    "vocab_file = \"vocab.txt\"\n",
    "tokenizer = Tokenizer(token_dict=load_vocabulary(model_path + vocab_file), pad_index=0, cased=True)\n",
    "\n",
    "# Hyper-parameters\n",
    "text_col = \"raw_text\"\n",
    "training = False\n",
    "trainable = True\n",
    "SEQ_LEN = 128\n",
    "BATCH_SIZE = 16\n",
    "EPOCHS = 30\n",
    "LR = 3e-5\n",
    "\n",
    "random_seed = 0\n",
    "tf.set_random_seed(random_seed)"
   ]
  },
  {
   "cell_type": "markdown",
   "metadata": {},
   "source": [
    "## Load text\n",
    "\n",
    "Firstly, all text files from training and development CodiEsp corpora are loaded in different dataframes.\n",
    "\n",
    "Also, CIE-Procedimiento codes are loaded."
   ]
  },
  {
   "cell_type": "code",
   "execution_count": 2,
   "metadata": {},
   "outputs": [],
   "source": [
    "corpus_path = \"../datasets/codiesp_v4/\""
   ]
  },
  {
   "cell_type": "markdown",
   "metadata": {},
   "source": [
    "### Training corpus"
   ]
  },
  {
   "cell_type": "code",
   "execution_count": 3,
   "metadata": {},
   "outputs": [
    {
     "name": "stdout",
     "output_type": "stream",
     "text": [
      "CPU times: user 12.1 ms, sys: 17 µs, total: 12.1 ms\n",
      "Wall time: 11.4 ms\n"
     ]
    }
   ],
   "source": [
    "%%time\n",
    "train_path = corpus_path + \"train/text_files/\"\n",
    "train_files = [f for f in os.listdir(train_path) if os.path.isfile(train_path + f)]\n",
    "train_data = load_text_files(train_files, train_path)\n",
    "df_text_train = pd.DataFrame({'doc_id': [s.split('.txt')[0] for s in train_files], 'raw_text': train_data})"
   ]
  },
  {
   "cell_type": "code",
   "execution_count": 4,
   "metadata": {},
   "outputs": [
    {
     "data": {
      "text/plain": [
       "(500, 2)"
      ]
     },
     "execution_count": 4,
     "metadata": {},
     "output_type": "execute_result"
    }
   ],
   "source": [
    "df_text_train.shape"
   ]
  },
  {
   "cell_type": "code",
   "execution_count": 5,
   "metadata": {},
   "outputs": [
    {
     "data": {
      "text/html": [
       "<div>\n",
       "<style scoped>\n",
       "    .dataframe tbody tr th:only-of-type {\n",
       "        vertical-align: middle;\n",
       "    }\n",
       "\n",
       "    .dataframe tbody tr th {\n",
       "        vertical-align: top;\n",
       "    }\n",
       "\n",
       "    .dataframe thead th {\n",
       "        text-align: right;\n",
       "    }\n",
       "</style>\n",
       "<table border=\"1\" class=\"dataframe\">\n",
       "  <thead>\n",
       "    <tr style=\"text-align: right;\">\n",
       "      <th></th>\n",
       "      <th>doc_id</th>\n",
       "      <th>raw_text</th>\n",
       "    </tr>\n",
       "  </thead>\n",
       "  <tbody>\n",
       "    <tr>\n",
       "      <th>0</th>\n",
       "      <td>S0365-66912006000600011-1</td>\n",
       "      <td>Un varón de 13 años es remitido para valoració...</td>\n",
       "    </tr>\n",
       "    <tr>\n",
       "      <th>1</th>\n",
       "      <td>S1139-13752009000200010-2</td>\n",
       "      <td>Paciente de 42 años diagnosticado de pancoliti...</td>\n",
       "    </tr>\n",
       "    <tr>\n",
       "      <th>2</th>\n",
       "      <td>S1130-05582017000100037-1</td>\n",
       "      <td>Varón de 72 años, sin antecedentes médicos de ...</td>\n",
       "    </tr>\n",
       "    <tr>\n",
       "      <th>3</th>\n",
       "      <td>S1139-76322016000300015-1</td>\n",
       "      <td>Lactante de ocho días cuyos padres consultan p...</td>\n",
       "    </tr>\n",
       "    <tr>\n",
       "      <th>4</th>\n",
       "      <td>S0211-69952011000100019-1</td>\n",
       "      <td>Mujer de 47 años de edad con antecedentes de g...</td>\n",
       "    </tr>\n",
       "  </tbody>\n",
       "</table>\n",
       "</div>"
      ],
      "text/plain": [
       "                      doc_id  \\\n",
       "0  S0365-66912006000600011-1   \n",
       "1  S1139-13752009000200010-2   \n",
       "2  S1130-05582017000100037-1   \n",
       "3  S1139-76322016000300015-1   \n",
       "4  S0211-69952011000100019-1   \n",
       "\n",
       "                                            raw_text  \n",
       "0  Un varón de 13 años es remitido para valoració...  \n",
       "1  Paciente de 42 años diagnosticado de pancoliti...  \n",
       "2  Varón de 72 años, sin antecedentes médicos de ...  \n",
       "3  Lactante de ocho días cuyos padres consultan p...  \n",
       "4  Mujer de 47 años de edad con antecedentes de g...  "
      ]
     },
     "execution_count": 5,
     "metadata": {},
     "output_type": "execute_result"
    }
   ],
   "source": [
    "df_text_train.head()"
   ]
  },
  {
   "cell_type": "code",
   "execution_count": 6,
   "metadata": {},
   "outputs": [
    {
     "data": {
      "text/plain": [
       "'Un varón de 13 años es remitido para valoración oftalmológica por mala visión. Fenotípicamente era un niño de talla corta con una estatura de 133 cm, braquimorfia y braquidactilia en las cuatro extremidades.\\nEl paciente presentaba un error refractivo corregido de -13,00 -6,50 a 1º en el ojo derecho y de -16,00-6,25 a 179º en el izquierdo. Con dicha corrección alcanzaba una agudeza visual de 0,4 y 0,2 respectivamente. No existía diplopía monocular ni hallazgos en la motilidad ocular extrínseca e intrínseca.\\nEl diámetro corneal horizontal era de 12,0 mm en ambos ojos y la paquimetría de 613 y 611 micras respectivamente. La cámara anterior era estrecha, apreciándose iridofacodonesis bilateral. Se evidenció microesferofaquia con desplazamiento anterior de ambos cristalinos dentro de la cámara posterior.\\nLa presión intraocular era de 20 mmHg bilateralmente. Gonioscópicamente se apreció un ángulo estrecho simétrico en ambos ojos grado II según Schaffer.\\nLa exploración mediante topógrafo Orbscan-II (Topógrafo corneal, Baush and Lomb, U.S.A.) y el examen del fondo de ojo no mostraron alteraciones.\\nComo prevención del cierre angular se realizó una iridotomía láser Nd:YAG en ambos ojos a las 10 y 2 horas respectivamente. Dada la estabilidad de la visión y la ausencia de diplopía se adoptó una actitud conservadora de acuerdo con el deseo de la familia del paciente mediante control de la agudeza visual, presión intraocular, documentación fotográfica y la realización de campos visuales para detectar la aparición de daño glaucomatoso.\\nRevisando sus antecentes familiares se identificó al paciente como el menor de una familia de ocho hermanos, en la que -además del mencionado- un hermano y dos hermanas presentaban esferofaquia, braquimorfia y braquidactilia. Los padres eran sanos y ninguno de los hijos ha tenido descendencia.\\n\\n'"
      ]
     },
     "execution_count": 6,
     "metadata": {},
     "output_type": "execute_result"
    }
   ],
   "source": [
    "df_text_train.raw_text[0]"
   ]
  },
  {
   "cell_type": "markdown",
   "metadata": {},
   "source": [
    "We also load the CIE-Procedimiento codes table:"
   ]
  },
  {
   "cell_type": "code",
   "execution_count": 7,
   "metadata": {},
   "outputs": [],
   "source": [
    "df_codes_train = pd.read_table(corpus_path + \"train/trainP.tsv\", sep='\\t', header=None)"
   ]
  },
  {
   "cell_type": "code",
   "execution_count": 8,
   "metadata": {},
   "outputs": [],
   "source": [
    "df_codes_train.columns = [\"doc_id\", \"code\"]"
   ]
  },
  {
   "cell_type": "code",
   "execution_count": 9,
   "metadata": {},
   "outputs": [
    {
     "data": {
      "text/plain": [
       "(1550, 2)"
      ]
     },
     "execution_count": 9,
     "metadata": {},
     "output_type": "execute_result"
    }
   ],
   "source": [
    "df_codes_train.shape"
   ]
  },
  {
   "cell_type": "code",
   "execution_count": 10,
   "metadata": {},
   "outputs": [
    {
     "data": {
      "text/html": [
       "<div>\n",
       "<style scoped>\n",
       "    .dataframe tbody tr th:only-of-type {\n",
       "        vertical-align: middle;\n",
       "    }\n",
       "\n",
       "    .dataframe tbody tr th {\n",
       "        vertical-align: top;\n",
       "    }\n",
       "\n",
       "    .dataframe thead th {\n",
       "        text-align: right;\n",
       "    }\n",
       "</style>\n",
       "<table border=\"1\" class=\"dataframe\">\n",
       "  <thead>\n",
       "    <tr style=\"text-align: right;\">\n",
       "      <th></th>\n",
       "      <th>doc_id</th>\n",
       "      <th>code</th>\n",
       "    </tr>\n",
       "  </thead>\n",
       "  <tbody>\n",
       "    <tr>\n",
       "      <th>0</th>\n",
       "      <td>S0004-06142005000700014-1</td>\n",
       "      <td>bw03zzz</td>\n",
       "    </tr>\n",
       "    <tr>\n",
       "      <th>1</th>\n",
       "      <td>S0004-06142005000700014-1</td>\n",
       "      <td>3e02329</td>\n",
       "    </tr>\n",
       "    <tr>\n",
       "      <th>2</th>\n",
       "      <td>S0004-06142005000700014-1</td>\n",
       "      <td>bw40zzz</td>\n",
       "    </tr>\n",
       "    <tr>\n",
       "      <th>3</th>\n",
       "      <td>S0004-06142005000700014-1</td>\n",
       "      <td>bv44zzz</td>\n",
       "    </tr>\n",
       "    <tr>\n",
       "      <th>4</th>\n",
       "      <td>S0004-06142005000700014-1</td>\n",
       "      <td>bn20</td>\n",
       "    </tr>\n",
       "  </tbody>\n",
       "</table>\n",
       "</div>"
      ],
      "text/plain": [
       "                      doc_id     code\n",
       "0  S0004-06142005000700014-1  bw03zzz\n",
       "1  S0004-06142005000700014-1  3e02329\n",
       "2  S0004-06142005000700014-1  bw40zzz\n",
       "3  S0004-06142005000700014-1  bv44zzz\n",
       "4  S0004-06142005000700014-1     bn20"
      ]
     },
     "execution_count": 10,
     "metadata": {},
     "output_type": "execute_result"
    }
   ],
   "source": [
    "df_codes_train.head()"
   ]
  },
  {
   "cell_type": "code",
   "execution_count": 11,
   "metadata": {},
   "outputs": [
    {
     "data": {
      "text/plain": [
       "435"
      ]
     },
     "execution_count": 11,
     "metadata": {},
     "output_type": "execute_result"
    }
   ],
   "source": [
    "len(set(df_codes_train[\"doc_id\"]))"
   ]
  },
  {
   "cell_type": "markdown",
   "metadata": {},
   "source": [
    "### Development corpus"
   ]
  },
  {
   "cell_type": "code",
   "execution_count": 12,
   "metadata": {},
   "outputs": [
    {
     "name": "stdout",
     "output_type": "stream",
     "text": [
      "CPU times: user 3.67 ms, sys: 3.97 ms, total: 7.64 ms\n",
      "Wall time: 6.95 ms\n"
     ]
    }
   ],
   "source": [
    "%%time\n",
    "dev_path = corpus_path + \"dev/text_files/\"\n",
    "dev_files = [f for f in os.listdir(dev_path) if os.path.isfile(dev_path + f)]\n",
    "dev_data = load_text_files(dev_files, dev_path)\n",
    "df_text_dev = pd.DataFrame({'doc_id': [s.split('.txt')[0] for s in dev_files], 'raw_text': dev_data})"
   ]
  },
  {
   "cell_type": "code",
   "execution_count": 13,
   "metadata": {},
   "outputs": [
    {
     "data": {
      "text/plain": [
       "(250, 2)"
      ]
     },
     "execution_count": 13,
     "metadata": {},
     "output_type": "execute_result"
    }
   ],
   "source": [
    "df_text_dev.shape"
   ]
  },
  {
   "cell_type": "code",
   "execution_count": 14,
   "metadata": {},
   "outputs": [
    {
     "data": {
      "text/html": [
       "<div>\n",
       "<style scoped>\n",
       "    .dataframe tbody tr th:only-of-type {\n",
       "        vertical-align: middle;\n",
       "    }\n",
       "\n",
       "    .dataframe tbody tr th {\n",
       "        vertical-align: top;\n",
       "    }\n",
       "\n",
       "    .dataframe thead th {\n",
       "        text-align: right;\n",
       "    }\n",
       "</style>\n",
       "<table border=\"1\" class=\"dataframe\">\n",
       "  <thead>\n",
       "    <tr style=\"text-align: right;\">\n",
       "      <th></th>\n",
       "      <th>doc_id</th>\n",
       "      <th>raw_text</th>\n",
       "    </tr>\n",
       "  </thead>\n",
       "  <tbody>\n",
       "    <tr>\n",
       "      <th>0</th>\n",
       "      <td>S1130-63432016000600013-1</td>\n",
       "      <td>Varón de 75 años, con antecedentes de hiperuri...</td>\n",
       "    </tr>\n",
       "    <tr>\n",
       "      <th>1</th>\n",
       "      <td>S0365-66912003000600010-1</td>\n",
       "      <td>Paciente de 33 años de edad, gestante de 34 se...</td>\n",
       "    </tr>\n",
       "    <tr>\n",
       "      <th>2</th>\n",
       "      <td>S0211-69952012000200030-1</td>\n",
       "      <td>Mujer de 67 años con múltiples factores de rie...</td>\n",
       "    </tr>\n",
       "    <tr>\n",
       "      <th>3</th>\n",
       "      <td>S0365-66912004000900009-1</td>\n",
       "      <td>Paciente de 55 años que acudió a urgencias por...</td>\n",
       "    </tr>\n",
       "    <tr>\n",
       "      <th>4</th>\n",
       "      <td>S1139-76322016000300016-2</td>\n",
       "      <td>Lactante de 1 mes y 29 días, sin antecedentes ...</td>\n",
       "    </tr>\n",
       "  </tbody>\n",
       "</table>\n",
       "</div>"
      ],
      "text/plain": [
       "                      doc_id  \\\n",
       "0  S1130-63432016000600013-1   \n",
       "1  S0365-66912003000600010-1   \n",
       "2  S0211-69952012000200030-1   \n",
       "3  S0365-66912004000900009-1   \n",
       "4  S1139-76322016000300016-2   \n",
       "\n",
       "                                            raw_text  \n",
       "0  Varón de 75 años, con antecedentes de hiperuri...  \n",
       "1  Paciente de 33 años de edad, gestante de 34 se...  \n",
       "2  Mujer de 67 años con múltiples factores de rie...  \n",
       "3  Paciente de 55 años que acudió a urgencias por...  \n",
       "4  Lactante de 1 mes y 29 días, sin antecedentes ...  "
      ]
     },
     "execution_count": 14,
     "metadata": {},
     "output_type": "execute_result"
    }
   ],
   "source": [
    "df_text_dev.head()"
   ]
  },
  {
   "cell_type": "code",
   "execution_count": 15,
   "metadata": {},
   "outputs": [
    {
     "data": {
      "text/plain": [
       "'Varón de 75 años, con antecedentes de hiperuricemia en tratamiento con Alopurinol que ingresa para realización de resección transuretral de próstata.\\nPostoperatorio inmediato sin incidencias con tratamiento con Pantoprazol, Ciprofloxacino, Paracetamol, Enantyum y Alopurinol. Al cuarto día de postoperatorio presenta mareos, temblor con componente mioclónico en extremidades y tronco e incapacidad para caminar, sin verse alteraciones analíticas. En esta situación se pauta Rivotril y se suspende el tratamiento con Ciprofloxacino, desapareciendo la clínica mioclónica y mejorando el estado del paciente, por lo que se decide el alta hospitalaria.\\n\\n'"
      ]
     },
     "execution_count": 15,
     "metadata": {},
     "output_type": "execute_result"
    }
   ],
   "source": [
    "df_text_dev.raw_text[0]"
   ]
  },
  {
   "cell_type": "markdown",
   "metadata": {},
   "source": [
    "We also load the CIE-Procedimiento codes table:"
   ]
  },
  {
   "cell_type": "code",
   "execution_count": 16,
   "metadata": {},
   "outputs": [],
   "source": [
    "df_codes_dev = pd.read_table(corpus_path + \"dev/devP.tsv\", sep='\\t', header=None)"
   ]
  },
  {
   "cell_type": "code",
   "execution_count": 17,
   "metadata": {},
   "outputs": [],
   "source": [
    "df_codes_dev.columns = [\"doc_id\", \"code\"]"
   ]
  },
  {
   "cell_type": "code",
   "execution_count": 18,
   "metadata": {},
   "outputs": [
    {
     "data": {
      "text/plain": [
       "(817, 2)"
      ]
     },
     "execution_count": 18,
     "metadata": {},
     "output_type": "execute_result"
    }
   ],
   "source": [
    "df_codes_dev.shape"
   ]
  },
  {
   "cell_type": "code",
   "execution_count": 19,
   "metadata": {},
   "outputs": [
    {
     "data": {
      "text/html": [
       "<div>\n",
       "<style scoped>\n",
       "    .dataframe tbody tr th:only-of-type {\n",
       "        vertical-align: middle;\n",
       "    }\n",
       "\n",
       "    .dataframe tbody tr th {\n",
       "        vertical-align: top;\n",
       "    }\n",
       "\n",
       "    .dataframe thead th {\n",
       "        text-align: right;\n",
       "    }\n",
       "</style>\n",
       "<table border=\"1\" class=\"dataframe\">\n",
       "  <thead>\n",
       "    <tr style=\"text-align: right;\">\n",
       "      <th></th>\n",
       "      <th>doc_id</th>\n",
       "      <th>code</th>\n",
       "    </tr>\n",
       "  </thead>\n",
       "  <tbody>\n",
       "    <tr>\n",
       "      <th>0</th>\n",
       "      <td>S0004-06142005000900016-1</td>\n",
       "      <td>bt41zzz</td>\n",
       "    </tr>\n",
       "    <tr>\n",
       "      <th>1</th>\n",
       "      <td>S0004-06142005000900016-1</td>\n",
       "      <td>ct13</td>\n",
       "    </tr>\n",
       "    <tr>\n",
       "      <th>2</th>\n",
       "      <td>S0004-06142005001000011-1</td>\n",
       "      <td>3e1m39z</td>\n",
       "    </tr>\n",
       "    <tr>\n",
       "      <th>3</th>\n",
       "      <td>S0004-06142005001000011-1</td>\n",
       "      <td>0tcb</td>\n",
       "    </tr>\n",
       "    <tr>\n",
       "      <th>4</th>\n",
       "      <td>S0004-06142005001000011-1</td>\n",
       "      <td>bt02</td>\n",
       "    </tr>\n",
       "  </tbody>\n",
       "</table>\n",
       "</div>"
      ],
      "text/plain": [
       "                      doc_id     code\n",
       "0  S0004-06142005000900016-1  bt41zzz\n",
       "1  S0004-06142005000900016-1     ct13\n",
       "2  S0004-06142005001000011-1  3e1m39z\n",
       "3  S0004-06142005001000011-1     0tcb\n",
       "4  S0004-06142005001000011-1     bt02"
      ]
     },
     "execution_count": 19,
     "metadata": {},
     "output_type": "execute_result"
    }
   ],
   "source": [
    "df_codes_dev.head()"
   ]
  },
  {
   "cell_type": "code",
   "execution_count": 20,
   "metadata": {},
   "outputs": [
    {
     "data": {
      "text/plain": [
       "222"
      ]
     },
     "execution_count": 20,
     "metadata": {},
     "output_type": "execute_result"
    }
   ],
   "source": [
    "len(set(df_codes_dev[\"doc_id\"]))"
   ]
  },
  {
   "cell_type": "markdown",
   "metadata": {},
   "source": [
    "We join the training and development CodiEsp codes dataframes together:"
   ]
  },
  {
   "cell_type": "code",
   "execution_count": 21,
   "metadata": {},
   "outputs": [],
   "source": [
    "df_codes_train_dev = pd.concat([df_codes_train, df_codes_dev])"
   ]
  },
  {
   "cell_type": "code",
   "execution_count": 22,
   "metadata": {},
   "outputs": [
    {
     "data": {
      "text/plain": [
       "(2367, 2)"
      ]
     },
     "execution_count": 22,
     "metadata": {},
     "output_type": "execute_result"
    }
   ],
   "source": [
    "df_codes_train_dev.shape"
   ]
  },
  {
   "cell_type": "code",
   "execution_count": 23,
   "metadata": {},
   "outputs": [
    {
     "data": {
      "text/html": [
       "<div>\n",
       "<style scoped>\n",
       "    .dataframe tbody tr th:only-of-type {\n",
       "        vertical-align: middle;\n",
       "    }\n",
       "\n",
       "    .dataframe tbody tr th {\n",
       "        vertical-align: top;\n",
       "    }\n",
       "\n",
       "    .dataframe thead th {\n",
       "        text-align: right;\n",
       "    }\n",
       "</style>\n",
       "<table border=\"1\" class=\"dataframe\">\n",
       "  <thead>\n",
       "    <tr style=\"text-align: right;\">\n",
       "      <th></th>\n",
       "      <th>doc_id</th>\n",
       "      <th>code</th>\n",
       "    </tr>\n",
       "  </thead>\n",
       "  <tbody>\n",
       "    <tr>\n",
       "      <th>0</th>\n",
       "      <td>S0004-06142005000700014-1</td>\n",
       "      <td>bw03zzz</td>\n",
       "    </tr>\n",
       "    <tr>\n",
       "      <th>1</th>\n",
       "      <td>S0004-06142005000700014-1</td>\n",
       "      <td>3e02329</td>\n",
       "    </tr>\n",
       "    <tr>\n",
       "      <th>2</th>\n",
       "      <td>S0004-06142005000700014-1</td>\n",
       "      <td>bw40zzz</td>\n",
       "    </tr>\n",
       "    <tr>\n",
       "      <th>3</th>\n",
       "      <td>S0004-06142005000700014-1</td>\n",
       "      <td>bv44zzz</td>\n",
       "    </tr>\n",
       "    <tr>\n",
       "      <th>4</th>\n",
       "      <td>S0004-06142005000700014-1</td>\n",
       "      <td>bn20</td>\n",
       "    </tr>\n",
       "  </tbody>\n",
       "</table>\n",
       "</div>"
      ],
      "text/plain": [
       "                      doc_id     code\n",
       "0  S0004-06142005000700014-1  bw03zzz\n",
       "1  S0004-06142005000700014-1  3e02329\n",
       "2  S0004-06142005000700014-1  bw40zzz\n",
       "3  S0004-06142005000700014-1  bv44zzz\n",
       "4  S0004-06142005000700014-1     bn20"
      ]
     },
     "execution_count": 23,
     "metadata": {},
     "output_type": "execute_result"
    }
   ],
   "source": [
    "df_codes_train_dev.head()"
   ]
  },
  {
   "cell_type": "markdown",
   "metadata": {},
   "source": [
    "## Creating corpora of annotated sentences\n",
    "\n",
    "Leveraging the information available for the named-entity-recognition and normalization (NER-N) CodiEsp-X task, we create both a training and a development corpus of annotated sentences with CIE-Procedimiento codes."
   ]
  },
  {
   "cell_type": "markdown",
   "metadata": {},
   "source": [
    "Firstly, we pre-process the NER-N precedure-codes annotations available for both the training and development corpora."
   ]
  },
  {
   "cell_type": "code",
   "execution_count": 24,
   "metadata": {},
   "outputs": [],
   "source": [
    "# Training corpus"
   ]
  },
  {
   "cell_type": "code",
   "execution_count": 24,
   "metadata": {},
   "outputs": [
    {
     "name": "stdout",
     "output_type": "stream",
     "text": [
      "CPU times: user 13.8 ms, sys: 191 µs, total: 14 ms\n",
      "Wall time: 12.5 ms\n"
     ]
    }
   ],
   "source": [
    "%%time\n",
    "\n",
    "codiesp_x_train = pd.read_table(corpus_path + \"train/trainX.tsv\", sep='\\t', header=None)"
   ]
  },
  {
   "cell_type": "code",
   "execution_count": 25,
   "metadata": {},
   "outputs": [],
   "source": [
    "codiesp_x_train.columns = [\"doc_id\", \"type\", \"code\", \"word\", \"location\"]"
   ]
  },
  {
   "cell_type": "code",
   "execution_count": 26,
   "metadata": {},
   "outputs": [
    {
     "data": {
      "text/plain": [
       "(9181, 5)"
      ]
     },
     "execution_count": 26,
     "metadata": {},
     "output_type": "execute_result"
    }
   ],
   "source": [
    "codiesp_x_train.shape"
   ]
  },
  {
   "cell_type": "code",
   "execution_count": 27,
   "metadata": {},
   "outputs": [
    {
     "data": {
      "text/html": [
       "<div>\n",
       "<style scoped>\n",
       "    .dataframe tbody tr th:only-of-type {\n",
       "        vertical-align: middle;\n",
       "    }\n",
       "\n",
       "    .dataframe tbody tr th {\n",
       "        vertical-align: top;\n",
       "    }\n",
       "\n",
       "    .dataframe thead th {\n",
       "        text-align: right;\n",
       "    }\n",
       "</style>\n",
       "<table border=\"1\" class=\"dataframe\">\n",
       "  <thead>\n",
       "    <tr style=\"text-align: right;\">\n",
       "      <th></th>\n",
       "      <th>doc_id</th>\n",
       "      <th>type</th>\n",
       "      <th>code</th>\n",
       "      <th>word</th>\n",
       "      <th>location</th>\n",
       "    </tr>\n",
       "  </thead>\n",
       "  <tbody>\n",
       "    <tr>\n",
       "      <th>0</th>\n",
       "      <td>S0004-06142005000700014-1</td>\n",
       "      <td>PROCEDIMIENTO</td>\n",
       "      <td>bw03zzz</td>\n",
       "      <td>Rx tórax</td>\n",
       "      <td>2163 2171</td>\n",
       "    </tr>\n",
       "    <tr>\n",
       "      <th>1</th>\n",
       "      <td>S0004-06142005000700014-1</td>\n",
       "      <td>PROCEDIMIENTO</td>\n",
       "      <td>3e02329</td>\n",
       "      <td>Estreptomicina intramuscular</td>\n",
       "      <td>2787 2801;2810 2823</td>\n",
       "    </tr>\n",
       "    <tr>\n",
       "      <th>2</th>\n",
       "      <td>S0004-06142005000700014-1</td>\n",
       "      <td>DIAGNOSTICO</td>\n",
       "      <td>n44.8</td>\n",
       "      <td>teste derecho aumentado de tamaño</td>\n",
       "      <td>1343 1376</td>\n",
       "    </tr>\n",
       "    <tr>\n",
       "      <th>3</th>\n",
       "      <td>S0004-06142005000700014-1</td>\n",
       "      <td>DIAGNOSTICO</td>\n",
       "      <td>z20.818</td>\n",
       "      <td>exposición a Brucella</td>\n",
       "      <td>594 615</td>\n",
       "    </tr>\n",
       "    <tr>\n",
       "      <th>4</th>\n",
       "      <td>S0004-06142005000700014-1</td>\n",
       "      <td>DIAGNOSTICO</td>\n",
       "      <td>r60.9</td>\n",
       "      <td>edemas</td>\n",
       "      <td>1250 1256</td>\n",
       "    </tr>\n",
       "  </tbody>\n",
       "</table>\n",
       "</div>"
      ],
      "text/plain": [
       "                      doc_id           type     code  \\\n",
       "0  S0004-06142005000700014-1  PROCEDIMIENTO  bw03zzz   \n",
       "1  S0004-06142005000700014-1  PROCEDIMIENTO  3e02329   \n",
       "2  S0004-06142005000700014-1    DIAGNOSTICO    n44.8   \n",
       "3  S0004-06142005000700014-1    DIAGNOSTICO  z20.818   \n",
       "4  S0004-06142005000700014-1    DIAGNOSTICO    r60.9   \n",
       "\n",
       "                                word             location  \n",
       "0                           Rx tórax            2163 2171  \n",
       "1       Estreptomicina intramuscular  2787 2801;2810 2823  \n",
       "2  teste derecho aumentado de tamaño            1343 1376  \n",
       "3              exposición a Brucella              594 615  \n",
       "4                             edemas            1250 1256  "
      ]
     },
     "execution_count": 27,
     "metadata": {},
     "output_type": "execute_result"
    }
   ],
   "source": [
    "codiesp_x_train.head()"
   ]
  },
  {
   "cell_type": "code",
   "execution_count": 28,
   "metadata": {},
   "outputs": [],
   "source": [
    "codiesp_x_train = codiesp_x_train[codiesp_x_train[\"type\"] == \"PROCEDIMIENTO\"]"
   ]
  },
  {
   "cell_type": "code",
   "execution_count": 29,
   "metadata": {},
   "outputs": [
    {
     "data": {
      "text/plain": [
       "(1972, 5)"
      ]
     },
     "execution_count": 29,
     "metadata": {},
     "output_type": "execute_result"
    }
   ],
   "source": [
    "codiesp_x_train.shape"
   ]
  },
  {
   "cell_type": "code",
   "execution_count": 30,
   "metadata": {},
   "outputs": [],
   "source": [
    "df_codes_train_ner = process_ner_labels(codiesp_x_train).sort_values([\"doc_id\", \"start\", \"end\"])"
   ]
  },
  {
   "cell_type": "code",
   "execution_count": 31,
   "metadata": {},
   "outputs": [
    {
     "data": {
      "text/html": [
       "<div>\n",
       "<style scoped>\n",
       "    .dataframe tbody tr th:only-of-type {\n",
       "        vertical-align: middle;\n",
       "    }\n",
       "\n",
       "    .dataframe tbody tr th {\n",
       "        vertical-align: top;\n",
       "    }\n",
       "\n",
       "    .dataframe thead th {\n",
       "        text-align: right;\n",
       "    }\n",
       "</style>\n",
       "<table border=\"1\" class=\"dataframe\">\n",
       "  <thead>\n",
       "    <tr style=\"text-align: right;\">\n",
       "      <th></th>\n",
       "      <th>doc_id</th>\n",
       "      <th>type</th>\n",
       "      <th>code</th>\n",
       "      <th>word</th>\n",
       "      <th>start</th>\n",
       "      <th>end</th>\n",
       "    </tr>\n",
       "  </thead>\n",
       "  <tbody>\n",
       "    <tr>\n",
       "      <th>0</th>\n",
       "      <td>S0004-06142005000700014-1</td>\n",
       "      <td>PROCEDIMIENTO</td>\n",
       "      <td>bw03zzz</td>\n",
       "      <td>Rx tórax</td>\n",
       "      <td>2163</td>\n",
       "      <td>2171</td>\n",
       "    </tr>\n",
       "    <tr>\n",
       "      <th>3</th>\n",
       "      <td>S0004-06142005000700014-1</td>\n",
       "      <td>PROCEDIMIENTO</td>\n",
       "      <td>bw40zzz</td>\n",
       "      <td>Ecografía abdominal</td>\n",
       "      <td>2173</td>\n",
       "      <td>2192</td>\n",
       "    </tr>\n",
       "    <tr>\n",
       "      <th>5</th>\n",
       "      <td>S0004-06142005000700014-1</td>\n",
       "      <td>PROCEDIMIENTO</td>\n",
       "      <td>bn20</td>\n",
       "      <td>TAC craneal</td>\n",
       "      <td>2194</td>\n",
       "      <td>2205</td>\n",
       "    </tr>\n",
       "    <tr>\n",
       "      <th>4</th>\n",
       "      <td>S0004-06142005000700014-1</td>\n",
       "      <td>PROCEDIMIENTO</td>\n",
       "      <td>bv44zzz</td>\n",
       "      <td>Ecografía testicular</td>\n",
       "      <td>2287</td>\n",
       "      <td>2307</td>\n",
       "    </tr>\n",
       "    <tr>\n",
       "      <th>1</th>\n",
       "      <td>S0004-06142005000700014-1</td>\n",
       "      <td>PROCEDIMIENTO</td>\n",
       "      <td>3e02329</td>\n",
       "      <td>Estreptomicina intramuscular</td>\n",
       "      <td>2787</td>\n",
       "      <td>2801</td>\n",
       "    </tr>\n",
       "  </tbody>\n",
       "</table>\n",
       "</div>"
      ],
      "text/plain": [
       "                      doc_id           type     code  \\\n",
       "0  S0004-06142005000700014-1  PROCEDIMIENTO  bw03zzz   \n",
       "3  S0004-06142005000700014-1  PROCEDIMIENTO  bw40zzz   \n",
       "5  S0004-06142005000700014-1  PROCEDIMIENTO     bn20   \n",
       "4  S0004-06142005000700014-1  PROCEDIMIENTO  bv44zzz   \n",
       "1  S0004-06142005000700014-1  PROCEDIMIENTO  3e02329   \n",
       "\n",
       "                           word start   end  \n",
       "0                      Rx tórax  2163  2171  \n",
       "3           Ecografía abdominal  2173  2192  \n",
       "5                   TAC craneal  2194  2205  \n",
       "4          Ecografía testicular  2287  2307  \n",
       "1  Estreptomicina intramuscular  2787  2801  "
      ]
     },
     "execution_count": 31,
     "metadata": {},
     "output_type": "execute_result"
    }
   ],
   "source": [
    "df_codes_train_ner.head()"
   ]
  },
  {
   "cell_type": "code",
   "execution_count": 32,
   "metadata": {},
   "outputs": [
    {
     "data": {
      "text/plain": [
       "(2769, 6)"
      ]
     },
     "execution_count": 32,
     "metadata": {},
     "output_type": "execute_result"
    }
   ],
   "source": [
    "df_codes_train_ner.shape"
   ]
  },
  {
   "cell_type": "code",
   "execution_count": 34,
   "metadata": {},
   "outputs": [],
   "source": [
    "# Development corpus"
   ]
  },
  {
   "cell_type": "code",
   "execution_count": 33,
   "metadata": {},
   "outputs": [
    {
     "name": "stdout",
     "output_type": "stream",
     "text": [
      "CPU times: user 7.39 ms, sys: 3.57 ms, total: 11 ms\n",
      "Wall time: 8.47 ms\n"
     ]
    }
   ],
   "source": [
    "%%time\n",
    "\n",
    "codiesp_x_dev = pd.read_table(corpus_path + \"dev/devX.tsv\", sep='\\t', header=None)"
   ]
  },
  {
   "cell_type": "code",
   "execution_count": 34,
   "metadata": {},
   "outputs": [],
   "source": [
    "codiesp_x_dev.columns = [\"doc_id\", \"type\", \"code\", \"word\", \"location\"]"
   ]
  },
  {
   "cell_type": "code",
   "execution_count": 35,
   "metadata": {},
   "outputs": [
    {
     "data": {
      "text/plain": [
       "(4477, 5)"
      ]
     },
     "execution_count": 35,
     "metadata": {},
     "output_type": "execute_result"
    }
   ],
   "source": [
    "codiesp_x_dev.shape"
   ]
  },
  {
   "cell_type": "code",
   "execution_count": 36,
   "metadata": {},
   "outputs": [
    {
     "data": {
      "text/html": [
       "<div>\n",
       "<style scoped>\n",
       "    .dataframe tbody tr th:only-of-type {\n",
       "        vertical-align: middle;\n",
       "    }\n",
       "\n",
       "    .dataframe tbody tr th {\n",
       "        vertical-align: top;\n",
       "    }\n",
       "\n",
       "    .dataframe thead th {\n",
       "        text-align: right;\n",
       "    }\n",
       "</style>\n",
       "<table border=\"1\" class=\"dataframe\">\n",
       "  <thead>\n",
       "    <tr style=\"text-align: right;\">\n",
       "      <th></th>\n",
       "      <th>doc_id</th>\n",
       "      <th>type</th>\n",
       "      <th>code</th>\n",
       "      <th>word</th>\n",
       "      <th>location</th>\n",
       "    </tr>\n",
       "  </thead>\n",
       "  <tbody>\n",
       "    <tr>\n",
       "      <th>0</th>\n",
       "      <td>S0004-06142005000900016-1</td>\n",
       "      <td>PROCEDIMIENTO</td>\n",
       "      <td>bt41zzz</td>\n",
       "      <td>ecografía renal derecha</td>\n",
       "      <td>307 316;348 361</td>\n",
       "    </tr>\n",
       "    <tr>\n",
       "      <th>1</th>\n",
       "      <td>S0004-06142005000900016-1</td>\n",
       "      <td>PROCEDIMIENTO</td>\n",
       "      <td>ct13</td>\n",
       "      <td>gammagrafía renal</td>\n",
       "      <td>739 756</td>\n",
       "    </tr>\n",
       "    <tr>\n",
       "      <th>2</th>\n",
       "      <td>S0004-06142005000900016-1</td>\n",
       "      <td>DIAGNOSTICO</td>\n",
       "      <td>q62.11</td>\n",
       "      <td>estenosis en la unión pieloureteral derecha</td>\n",
       "      <td>540 583</td>\n",
       "    </tr>\n",
       "    <tr>\n",
       "      <th>3</th>\n",
       "      <td>S0004-06142005000900016-1</td>\n",
       "      <td>DIAGNOSTICO</td>\n",
       "      <td>n28.89</td>\n",
       "      <td>ectasia pielocalicial</td>\n",
       "      <td>326 347</td>\n",
       "    </tr>\n",
       "    <tr>\n",
       "      <th>4</th>\n",
       "      <td>S0004-06142005000900016-1</td>\n",
       "      <td>DIAGNOSTICO</td>\n",
       "      <td>n39.0</td>\n",
       "      <td>infecciones del tracto urinario</td>\n",
       "      <td>198 229</td>\n",
       "    </tr>\n",
       "  </tbody>\n",
       "</table>\n",
       "</div>"
      ],
      "text/plain": [
       "                      doc_id           type     code  \\\n",
       "0  S0004-06142005000900016-1  PROCEDIMIENTO  bt41zzz   \n",
       "1  S0004-06142005000900016-1  PROCEDIMIENTO     ct13   \n",
       "2  S0004-06142005000900016-1    DIAGNOSTICO   q62.11   \n",
       "3  S0004-06142005000900016-1    DIAGNOSTICO   n28.89   \n",
       "4  S0004-06142005000900016-1    DIAGNOSTICO    n39.0   \n",
       "\n",
       "                                          word         location  \n",
       "0                      ecografía renal derecha  307 316;348 361  \n",
       "1                            gammagrafía renal          739 756  \n",
       "2  estenosis en la unión pieloureteral derecha          540 583  \n",
       "3                        ectasia pielocalicial          326 347  \n",
       "4              infecciones del tracto urinario          198 229  "
      ]
     },
     "execution_count": 36,
     "metadata": {},
     "output_type": "execute_result"
    }
   ],
   "source": [
    "codiesp_x_dev.head()"
   ]
  },
  {
   "cell_type": "code",
   "execution_count": 37,
   "metadata": {},
   "outputs": [],
   "source": [
    "codiesp_x_dev = codiesp_x_dev[codiesp_x_dev[\"type\"] == \"PROCEDIMIENTO\"]"
   ]
  },
  {
   "cell_type": "code",
   "execution_count": 38,
   "metadata": {},
   "outputs": [
    {
     "data": {
      "text/plain": [
       "(1046, 5)"
      ]
     },
     "execution_count": 38,
     "metadata": {},
     "output_type": "execute_result"
    }
   ],
   "source": [
    "codiesp_x_dev.shape"
   ]
  },
  {
   "cell_type": "code",
   "execution_count": 39,
   "metadata": {},
   "outputs": [],
   "source": [
    "df_codes_dev_ner = process_ner_labels(codiesp_x_dev).sort_values([\"doc_id\", \"start\", \"end\"])"
   ]
  },
  {
   "cell_type": "code",
   "execution_count": 40,
   "metadata": {},
   "outputs": [
    {
     "data": {
      "text/html": [
       "<div>\n",
       "<style scoped>\n",
       "    .dataframe tbody tr th:only-of-type {\n",
       "        vertical-align: middle;\n",
       "    }\n",
       "\n",
       "    .dataframe tbody tr th {\n",
       "        vertical-align: top;\n",
       "    }\n",
       "\n",
       "    .dataframe thead th {\n",
       "        text-align: right;\n",
       "    }\n",
       "</style>\n",
       "<table border=\"1\" class=\"dataframe\">\n",
       "  <thead>\n",
       "    <tr style=\"text-align: right;\">\n",
       "      <th></th>\n",
       "      <th>doc_id</th>\n",
       "      <th>type</th>\n",
       "      <th>code</th>\n",
       "      <th>word</th>\n",
       "      <th>start</th>\n",
       "      <th>end</th>\n",
       "    </tr>\n",
       "  </thead>\n",
       "  <tbody>\n",
       "    <tr>\n",
       "      <th>0</th>\n",
       "      <td>S0004-06142005000900016-1</td>\n",
       "      <td>PROCEDIMIENTO</td>\n",
       "      <td>bt41zzz</td>\n",
       "      <td>ecografía renal derecha</td>\n",
       "      <td>307</td>\n",
       "      <td>316</td>\n",
       "    </tr>\n",
       "    <tr>\n",
       "      <th>1</th>\n",
       "      <td>S0004-06142005000900016-1</td>\n",
       "      <td>PROCEDIMIENTO</td>\n",
       "      <td>bt41zzz</td>\n",
       "      <td>ecografía renal derecha</td>\n",
       "      <td>348</td>\n",
       "      <td>361</td>\n",
       "    </tr>\n",
       "    <tr>\n",
       "      <th>2</th>\n",
       "      <td>S0004-06142005000900016-1</td>\n",
       "      <td>PROCEDIMIENTO</td>\n",
       "      <td>ct13</td>\n",
       "      <td>gammagrafía renal</td>\n",
       "      <td>739</td>\n",
       "      <td>756</td>\n",
       "    </tr>\n",
       "    <tr>\n",
       "      <th>3</th>\n",
       "      <td>S0004-06142005001000011-1</td>\n",
       "      <td>PROCEDIMIENTO</td>\n",
       "      <td>3e1m39z</td>\n",
       "      <td>diálisis peritoneal</td>\n",
       "      <td>95</td>\n",
       "      <td>114</td>\n",
       "    </tr>\n",
       "    <tr>\n",
       "      <th>7</th>\n",
       "      <td>S0004-06142005001000011-1</td>\n",
       "      <td>PROCEDIMIENTO</td>\n",
       "      <td>0270</td>\n",
       "      <td>angioplastia transluminal de la coronaria derecha</td>\n",
       "      <td>424</td>\n",
       "      <td>473</td>\n",
       "    </tr>\n",
       "  </tbody>\n",
       "</table>\n",
       "</div>"
      ],
      "text/plain": [
       "                      doc_id           type     code  \\\n",
       "0  S0004-06142005000900016-1  PROCEDIMIENTO  bt41zzz   \n",
       "1  S0004-06142005000900016-1  PROCEDIMIENTO  bt41zzz   \n",
       "2  S0004-06142005000900016-1  PROCEDIMIENTO     ct13   \n",
       "3  S0004-06142005001000011-1  PROCEDIMIENTO  3e1m39z   \n",
       "7  S0004-06142005001000011-1  PROCEDIMIENTO     0270   \n",
       "\n",
       "                                                word start  end  \n",
       "0                            ecografía renal derecha   307  316  \n",
       "1                            ecografía renal derecha   348  361  \n",
       "2                                  gammagrafía renal   739  756  \n",
       "3                                diálisis peritoneal    95  114  \n",
       "7  angioplastia transluminal de la coronaria derecha   424  473  "
      ]
     },
     "execution_count": 40,
     "metadata": {},
     "output_type": "execute_result"
    }
   ],
   "source": [
    "df_codes_dev_ner.head()"
   ]
  },
  {
   "cell_type": "code",
   "execution_count": 41,
   "metadata": {},
   "outputs": [
    {
     "data": {
      "text/plain": [
       "(1540, 6)"
      ]
     },
     "execution_count": 41,
     "metadata": {},
     "output_type": "execute_result"
    }
   ],
   "source": [
    "df_codes_dev_ner.shape"
   ]
  },
  {
   "cell_type": "markdown",
   "metadata": {},
   "source": [
    "Now, using the character start-end positions of each sentence from the CodiEsp corpus (see `datasets/CodiEsp-Sentence-Split.ipynb`), we annotate the sentences with CIE-Procedimiento codes. Also, using mBERT tokenizer, each sentence is converted into a sequence of subwords, which are further converted into vocabulary indices (input IDs) and segments arrays (BERT input tensors). We also generate a *fragments* dataset indicating the number of produced annotated sentences for each document."
   ]
  },
  {
   "cell_type": "code",
   "execution_count": 42,
   "metadata": {},
   "outputs": [],
   "source": [
    "# Sentence-Split information\n",
    "ss_corpus_path = \"../datasets/CodiEsp-SSplit-text/\""
   ]
  },
  {
   "cell_type": "markdown",
   "metadata": {},
   "source": [
    "### Training corpus"
   ]
  },
  {
   "cell_type": "code",
   "execution_count": 43,
   "metadata": {},
   "outputs": [],
   "source": [
    "label_list = list(df_codes_train_dev[\"code\"])"
   ]
  },
  {
   "cell_type": "code",
   "execution_count": 44,
   "metadata": {},
   "outputs": [
    {
     "data": {
      "text/plain": [
       "2367"
      ]
     },
     "execution_count": 44,
     "metadata": {},
     "output_type": "execute_result"
    }
   ],
   "source": [
    "len(label_list)"
   ]
  },
  {
   "cell_type": "code",
   "execution_count": 45,
   "metadata": {},
   "outputs": [
    {
     "data": {
      "text/plain": [
       "727"
      ]
     },
     "execution_count": 45,
     "metadata": {},
     "output_type": "execute_result"
    }
   ],
   "source": [
    "len(set(label_list))"
   ]
  },
  {
   "cell_type": "code",
   "execution_count": 46,
   "metadata": {},
   "outputs": [
    {
     "data": {
      "text/plain": [
       "MultiLabelBinarizer(classes=None, sparse_output=False)"
      ]
     },
     "execution_count": 46,
     "metadata": {},
     "output_type": "execute_result"
    }
   ],
   "source": [
    "from sklearn.preprocessing import MultiLabelBinarizer\n",
    "\n",
    "mlb_encoder = MultiLabelBinarizer()\n",
    "mlb_encoder.fit([label_list])"
   ]
  },
  {
   "cell_type": "code",
   "execution_count": 47,
   "metadata": {},
   "outputs": [],
   "source": [
    "# Number of distinct codes\n",
    "num_labels = len(mlb_encoder.classes_)"
   ]
  },
  {
   "cell_type": "code",
   "execution_count": 48,
   "metadata": {},
   "outputs": [
    {
     "data": {
      "text/plain": [
       "727"
      ]
     },
     "execution_count": 48,
     "metadata": {},
     "output_type": "execute_result"
    }
   ],
   "source": [
    "num_labels"
   ]
  },
  {
   "cell_type": "markdown",
   "metadata": {},
   "source": [
    "Only training texts that are annotated with CIE-Procedimiento codes are considered:"
   ]
  },
  {
   "cell_type": "code",
   "execution_count": 49,
   "metadata": {},
   "outputs": [
    {
     "data": {
      "text/plain": [
       "65"
      ]
     },
     "execution_count": 49,
     "metadata": {},
     "output_type": "execute_result"
    }
   ],
   "source": [
    "# Some train documents (texts) are not annotated \n",
    "len(set(df_text_train[\"doc_id\"]) - set(df_codes_train_ner[\"doc_id\"]))"
   ]
  },
  {
   "cell_type": "code",
   "execution_count": 50,
   "metadata": {},
   "outputs": [],
   "source": [
    "train_doc_list = sorted(set(df_codes_train_ner[\"doc_id\"]))"
   ]
  },
  {
   "cell_type": "code",
   "execution_count": 51,
   "metadata": {},
   "outputs": [
    {
     "data": {
      "text/plain": [
       "435"
      ]
     },
     "execution_count": 51,
     "metadata": {},
     "output_type": "execute_result"
    }
   ],
   "source": [
    "len(train_doc_list)"
   ]
  },
  {
   "cell_type": "code",
   "execution_count": 54,
   "metadata": {},
   "outputs": [],
   "source": [
    "# Sentence-Split data"
   ]
  },
  {
   "cell_type": "code",
   "execution_count": 52,
   "metadata": {},
   "outputs": [
    {
     "name": "stdout",
     "output_type": "stream",
     "text": [
      "CPU times: user 18.3 ms, sys: 0 ns, total: 18.3 ms\n",
      "Wall time: 17.6 ms\n"
     ]
    }
   ],
   "source": [
    "%%time\n",
    "ss_sub_corpus_path = ss_corpus_path + \"train/\"\n",
    "ss_files = [f for f in os.listdir(ss_sub_corpus_path) if os.path.isfile(ss_sub_corpus_path + f)]\n",
    "ss_dict_train = load_ss_files(ss_files, ss_sub_corpus_path)"
   ]
  },
  {
   "cell_type": "code",
   "execution_count": 53,
   "metadata": {},
   "outputs": [
    {
     "name": "stderr",
     "output_type": "stream",
     "text": [
      "100%|██████████| 435/435 [00:06<00:00, 63.87it/s]\n"
     ]
    },
    {
     "name": "stdout",
     "output_type": "stream",
     "text": [
      "CPU times: user 6.91 s, sys: 44.3 ms, total: 6.96 s\n",
      "Wall time: 6.89 s\n"
     ]
    }
   ],
   "source": [
    "%%time\n",
    "train_ind, train_seg, train_y, train_frag, train_start_end_frag = ss_create_frag_input_data_bert(df_text=df_text_train, \n",
    "                                                  text_col=text_col, \n",
    "                                                  df_ann=df_codes_train_ner, doc_list=train_doc_list, ss_dict=ss_dict_train,\n",
    "                                                  tokenizer=tokenizer, lab_encoder=mlb_encoder, seq_len=SEQ_LEN,\n",
    "                                                  greedy=False)"
   ]
  },
  {
   "cell_type": "code",
   "execution_count": 57,
   "metadata": {},
   "outputs": [],
   "source": [
    "# Sanity check"
   ]
  },
  {
   "cell_type": "code",
   "execution_count": 54,
   "metadata": {},
   "outputs": [
    {
     "data": {
      "text/plain": [
       "(7025, 128)"
      ]
     },
     "execution_count": 54,
     "metadata": {},
     "output_type": "execute_result"
    }
   ],
   "source": [
    "train_ind.shape"
   ]
  },
  {
   "cell_type": "code",
   "execution_count": 55,
   "metadata": {},
   "outputs": [
    {
     "data": {
      "text/plain": [
       "(7025, 128)"
      ]
     },
     "execution_count": 55,
     "metadata": {},
     "output_type": "execute_result"
    }
   ],
   "source": [
    "train_seg.shape"
   ]
  },
  {
   "cell_type": "code",
   "execution_count": 56,
   "metadata": {},
   "outputs": [
    {
     "data": {
      "text/plain": [
       "(7025, 727)"
      ]
     },
     "execution_count": 56,
     "metadata": {},
     "output_type": "execute_result"
    }
   ],
   "source": [
    "train_y.shape"
   ]
  },
  {
   "cell_type": "code",
   "execution_count": 57,
   "metadata": {},
   "outputs": [
    {
     "data": {
      "text/plain": [
       "435"
      ]
     },
     "execution_count": 57,
     "metadata": {},
     "output_type": "execute_result"
    }
   ],
   "source": [
    "len(train_frag)"
   ]
  },
  {
   "cell_type": "code",
   "execution_count": 58,
   "metadata": {},
   "outputs": [
    {
     "data": {
      "text/plain": [
       "7025"
      ]
     },
     "execution_count": 58,
     "metadata": {},
     "output_type": "execute_result"
    }
   ],
   "source": [
    "len(train_start_end_frag)"
   ]
  },
  {
   "cell_type": "code",
   "execution_count": 59,
   "metadata": {},
   "outputs": [
    {
     "data": {
      "text/plain": [
       "count    435.000000\n",
       "mean      16.149425\n",
       "std        7.778513\n",
       "min        4.000000\n",
       "25%       10.500000\n",
       "50%       15.000000\n",
       "75%       20.000000\n",
       "max       54.000000\n",
       "dtype: float64"
      ]
     },
     "execution_count": 59,
     "metadata": {},
     "output_type": "execute_result"
    }
   ],
   "source": [
    "# Check n_frag distribution across texts\n",
    "pd.Series(train_frag).describe()"
   ]
  },
  {
   "cell_type": "code",
   "execution_count": 60,
   "metadata": {},
   "outputs": [],
   "source": [
    "# Inspect a randomly selected text and its encoded version\n",
    "check_id = np.random.randint(low=0, high=len(train_doc_list), size=1)[0]"
   ]
  },
  {
   "cell_type": "code",
   "execution_count": 61,
   "metadata": {},
   "outputs": [
    {
     "data": {
      "text/plain": [
       "110"
      ]
     },
     "execution_count": 61,
     "metadata": {},
     "output_type": "execute_result"
    }
   ],
   "source": [
    "check_id"
   ]
  },
  {
   "cell_type": "code",
   "execution_count": 62,
   "metadata": {},
   "outputs": [
    {
     "data": {
      "text/plain": [
       "'S0211-69952013000500035-1'"
      ]
     },
     "execution_count": 62,
     "metadata": {},
     "output_type": "execute_result"
    }
   ],
   "source": [
    "train_doc_list[check_id]"
   ]
  },
  {
   "cell_type": "code",
   "execution_count": 63,
   "metadata": {
    "scrolled": true
   },
   "outputs": [
    {
     "data": {
      "text/plain": [
       "'Se presenta el caso de un varón de 64 años sin antecedentes de interés, que consulta por pérdida de 17 kg de peso, astenia, anorexia y anemia. Se realizó una colonoscopia que mostraba cambios inflamatorios inespecíficos de la mucosa colónica y una gastroscopia que evidenciaba neoplasia gástrica y gastropatía antral, con toma de biopsias. La histología de la biopsia gástrica confirmó una proliferación neoplásica con patrón sólido sugestiva de GIST, y la inmunohistoquímica presentaba positividad para CD117. Se observaron depósitos de amiloide AA en las biopsias de la mucosa gástrica, del tumor y de la mucosa colónica.\\nPosteriormente, comenzó con edemas en los miembros inferiores y diarrea. En la analítica destacaba: hemoglobina 8,7 g/dl, hematocrito 28%, volumen corpuscular medio 75, creatinina sérica 1,3 mg/dl; proteínas totales 5,9 g/dl; albúmina 1,36 g/dl; colesterol 96 mg/dl; índice de saturación de transferrina 13%. Proteinuria de 5,1 g/día y sedimento con 4-6 hematíes/campo. Dada la mala situación del paciente, no se realizó biopsia renal y se asumió que la amiloidosis previamente observada en las biopsias gastrointestinales era la responsable del síndrome nefrótico y la diarrea. Se descartó amiloidosis cardíaca mediante ecocardiograma.\\nSe inició tratamiento con un inhibidor selectivo de la tirosina cinasa de cKit, Imatinib (Glivec®), 100 mg diarios. A los 15 meses del diagnóstico se decidió la extirpación quirúrgica tras observarse una disminución de la masa tumoral en el estudio por tomografía por emisión de positrones/tomografía computarizada. En la anatomía patológica se confirmó la afectación del estómago y el ángulo esplénico del colon extirpados. En este sentido, se clasificó como un GIST de alto riesgo (> 5 cm de tamaño, > 5 mitosis por campo de gran aumento)2.\\nLa función renal continuó deteriorándose, por lo que finalmente entra en programa de hemodiálisis periódica, un año y siete meses después del hallazgo del GIST, con el diagnóstico de insuficiencia renal crónica secundaria a amiloidosis AA.\\n\\n'"
      ]
     },
     "execution_count": 63,
     "metadata": {},
     "output_type": "execute_result"
    }
   ],
   "source": [
    "df_text_train[df_text_train[\"doc_id\"] == train_doc_list[check_id]][text_col].values[0]"
   ]
  },
  {
   "cell_type": "code",
   "execution_count": 64,
   "metadata": {},
   "outputs": [
    {
     "name": "stdout",
     "output_type": "stream",
     "text": [
      "[()] \n",
      "\n",
      "[('0db68zx', '0dbe8zx', '0dj68zz', '0djd8zz')] \n",
      "\n",
      "[('0db6',)] \n",
      "\n",
      "[('0db6',)] \n",
      "\n",
      "[()] \n",
      "\n",
      "[()] \n",
      "\n",
      "[()] \n",
      "\n",
      "[()] \n",
      "\n",
      "[()] \n",
      "\n",
      "[()] \n",
      "\n",
      "[()] \n",
      "\n",
      "[()] \n",
      "\n",
      "[()] \n",
      "\n",
      "[('5a1d',)] \n",
      "\n"
     ]
    }
   ],
   "source": [
    "check_id_frag = sum(train_frag[:check_id])\n",
    "for i in range(check_id_frag, check_id_frag + train_frag[check_id]):\n",
    "    print(mlb_encoder.inverse_transform(np.array([train_y[i]])), \"\\n\")"
   ]
  },
  {
   "cell_type": "code",
   "execution_count": 67,
   "metadata": {},
   "outputs": [
    {
     "name": "stdout",
     "output_type": "stream",
     "text": [
      "[('Se', (0, 2)), ('presenta', (3, 11)), ('el', (12, 14)), ('caso', (15, 19)), ('de', (20, 22)), ('un', (23, 25)), ('var', (26, 29)), ('##ón', (29, 31)), ('de', (32, 34)), ('64', (35, 37)), ('años', (38, 42)), ('sin', (43, 46)), ('ante', (47, 51)), ('##cedent', (51, 57)), ('##es', (57, 59)), ('de', (60, 62)), ('interés', (63, 70)), (',', (70, 71)), ('que', (72, 75)), ('consulta', (76, 84)), ('por', (85, 88)), ('pérdida', (89, 96)), ('de', (97, 99)), ('17', (100, 102)), ('kg', (103, 105)), ('de', (106, 108)), ('peso', (109, 113)), (',', (113, 114)), ('as', (115, 117)), ('##tenia', (117, 122)), (',', (122, 123)), ('ano', (124, 127)), ('##re', (127, 129)), ('##xia', (129, 132)), ('y', (133, 134)), ('ane', (135, 138)), ('##mia', (138, 141)), ('.', (141, 142))]\n",
      "\n",
      "\n",
      "[('Se', (143, 145)), ('realizó', (146, 153)), ('una', (154, 157)), ('colonos', (158, 165)), ('##co', (165, 167)), ('##pia', (167, 170)), ('que', (171, 174)), ('mostra', (175, 181)), ('##ba', (181, 183)), ('cambios', (184, 191)), ('in', (192, 194)), ('##f', (194, 195)), ('##lama', (195, 199)), ('##torio', (199, 204)), ('##s', (204, 205)), ('in', (206, 208)), ('##es', (208, 210)), ('##pec', (210, 213)), ('##ífic', (213, 217)), ('##os', (217, 219)), ('de', (220, 222)), ('la', (223, 225)), ('mu', (226, 228)), ('##cosa', (228, 232)), ('col', (233, 236)), ('##ónica', (236, 241)), ('y', (242, 243)), ('una', (244, 247)), ('gas', (248, 251)), ('##tros', (251, 255)), ('##co', (255, 257)), ('##pia', (257, 260)), ('que', (261, 264)), ('evidencia', (265, 274)), ('##ba', (274, 276)), ('neo', (277, 280)), ('##pla', (280, 283)), ('##sia', (283, 286)), ('g', (287, 288)), ('##ást', (288, 291)), ('##rica', (291, 295)), ('y', (296, 297)), ('gas', (298, 301)), ('##tro', (301, 304)), ('##pat', (304, 307)), ('##ía', (307, 309)), ('ant', (310, 313)), ('##ral', (313, 316)), (',', (316, 317)), ('con', (318, 321)), ('toma', (322, 326)), ('de', (327, 329)), ('bio', (330, 333)), ('##psia', (333, 337)), ('##s', (337, 338)), ('.', (338, 339))]\n",
      "\n",
      "\n",
      "[('La', (340, 342)), ('his', (343, 346)), ('##tol', (346, 349)), ('##ogía', (349, 353)), ('de', (354, 356)), ('la', (357, 359)), ('bio', (360, 363)), ('##psia', (363, 367)), ('g', (368, 369)), ('##ást', (369, 372)), ('##rica', (372, 376)), ('confirmó', (377, 385)), ('una', (386, 389)), ('pro', (390, 393)), ('##life', (393, 397)), ('##ración', (397, 403)), ('neo', (404, 407)), ('##pl', (407, 409)), ('##ási', (409, 412)), ('##ca', (412, 414)), ('con', (415, 418)), ('patrón', (419, 425)), ('só', (426, 428)), ('##lido', (428, 432)), ('su', (433, 435)), ('##gest', (435, 439)), ('##iva', (439, 442)), ('de', (443, 445)), ('G', (446, 447)), ('##IS', (447, 449)), ('##T', (449, 450)), (',', (450, 451)), ('y', (452, 453)), ('la', (454, 456)), ('in', (457, 459)), ('##mun', (459, 462)), ('##oh', (462, 464)), ('##isto', (464, 468)), ('##quí', (468, 471)), ('##mica', (471, 475)), ('presenta', (476, 484)), ('##ba', (484, 486)), ('positiv', (487, 494)), ('##idad', (494, 498)), ('para', (499, 503)), ('CD', (504, 506)), ('##11', (506, 508)), ('##7', (508, 509)), ('.', (509, 510))]\n",
      "\n",
      "\n",
      "[('Se', (511, 513)), ('observar', (514, 522)), ('##on', (522, 524)), ('depósitos', (525, 534)), ('de', (535, 537)), ('ami', (538, 541)), ('##lo', (541, 543)), ('##ide', (543, 546)), ('AA', (547, 549)), ('en', (550, 552)), ('las', (553, 556)), ('bio', (557, 560)), ('##psia', (560, 564)), ('##s', (564, 565)), ('de', (566, 568)), ('la', (569, 571)), ('mu', (572, 574)), ('##cosa', (574, 578)), ('g', (579, 580)), ('##ást', (580, 583)), ('##rica', (583, 587)), (',', (587, 588)), ('del', (589, 592)), ('tumor', (593, 598)), ('y', (599, 600)), ('de', (601, 603)), ('la', (604, 606)), ('mu', (607, 609)), ('##cosa', (609, 613)), ('col', (614, 617)), ('##ónica', (617, 622)), ('.', (622, 623))]\n",
      "\n",
      "\n",
      "[('Posteriormente', (624, 638)), (',', (638, 639)), ('comenzó', (640, 647)), ('con', (648, 651)), ('ede', (652, 655)), ('##mas', (655, 658)), ('en', (659, 661)), ('los', (662, 665)), ('miembros', (666, 674)), ('inferiores', (675, 685)), ('y', (686, 687)), ('dia', (688, 691)), ('##rrea', (691, 695)), ('.', (695, 696))]\n",
      "\n",
      "\n",
      "[('En', (697, 699)), ('la', (700, 702)), ('anal', (703, 707)), ('##ítica', (707, 712)), ('destaca', (713, 720)), ('##ba', (720, 722)), (':', (722, 723)), ('hem', (724, 727)), ('##og', (727, 729)), ('##lob', (729, 732)), ('##ina', (732, 735)), ('8', (736, 737)), (',', (737, 738)), ('7', (738, 739)), ('g', (740, 741)), ('/', (741, 742)), ('dl', (742, 744)), (',', (744, 745)), ('hem', (746, 749)), ('##ato', (749, 752)), ('##crito', (752, 757)), ('28', (758, 760)), ('%', (760, 761)), (',', (761, 762)), ('volumen', (763, 770)), ('corpus', (771, 777)), ('##cular', (777, 782)), ('medio', (783, 788)), ('75', (789, 791)), (',', (791, 792)), ('creat', (793, 798)), ('##inin', (798, 802)), ('##a', (802, 803)), ('sér', (804, 807)), ('##ica', (807, 810)), ('1', (811, 812)), (',', (812, 813)), ('3', (813, 814)), ('mg', (815, 817)), ('/', (817, 818)), ('dl', (818, 820)), (';', (820, 821)), ('proteínas', (822, 831)), ('totale', (832, 838)), ('##s', (838, 839)), ('5', (840, 841)), (',', (841, 842)), ('9', (842, 843)), ('g', (844, 845)), ('/', (845, 846)), ('dl', (846, 848)), (';', (848, 849)), ('alb', (850, 853)), ('##ú', (853, 854)), ('##mina', (854, 858)), ('1', (859, 860)), (',', (860, 861)), ('36', (861, 863)), ('g', (864, 865)), ('/', (865, 866)), ('dl', (866, 868)), (';', (868, 869)), ('coles', (870, 875)), ('##tero', (875, 879)), ('##l', (879, 880)), ('96', (881, 883)), ('mg', (884, 886)), ('/', (886, 887)), ('dl', (887, 889)), (';', (889, 890)), ('índice', (891, 897)), ('de', (898, 900)), ('satu', (901, 905)), ('##ración', (905, 911)), ('de', (912, 914)), ('transfer', (915, 923)), ('##rina', (923, 927)), ('13', (928, 930)), ('%', (930, 931)), ('.', (931, 932))]\n",
      "\n",
      "\n",
      "[('Protein', (933, 940)), ('##uria', (940, 944)), ('de', (945, 947)), ('5', (948, 949)), (',', (949, 950)), ('1', (950, 951)), ('g', (952, 953)), ('/', (953, 954)), ('día', (954, 957)), ('y', (958, 959)), ('sed', (960, 963)), ('##imento', (963, 969)), ('con', (970, 973)), ('4', (974, 975)), ('-', (975, 976)), ('6', (976, 977)), ('hem', (978, 981)), ('##at', (981, 983)), ('##íes', (983, 986)), ('/', (986, 987)), ('campo', (987, 992)), ('.', (992, 993))]\n",
      "\n",
      "\n",
      "[('Dada', (994, 998)), ('la', (999, 1001)), ('mala', (1002, 1006)), ('situación', (1007, 1016)), ('del', (1017, 1020)), ('paciente', (1021, 1029)), (',', (1029, 1030)), ('no', (1031, 1033)), ('se', (1034, 1036)), ('realizó', (1037, 1044)), ('bio', (1045, 1048)), ('##psia', (1048, 1052)), ('ren', (1053, 1056)), ('##al', (1056, 1058)), ('y', (1059, 1060)), ('se', (1061, 1063)), ('asumió', (1064, 1070)), ('que', (1071, 1074)), ('la', (1075, 1077)), ('ami', (1078, 1081)), ('##lo', (1081, 1083)), ('##idos', (1083, 1087)), ('##is', (1087, 1089)), ('previamente', (1090, 1101)), ('observa', (1102, 1109)), ('##da', (1109, 1111)), ('en', (1112, 1114)), ('las', (1115, 1118)), ('bio', (1119, 1122)), ('##psia', (1122, 1126)), ('##s', (1126, 1127)), ('gas', (1128, 1131)), ('##tro', (1131, 1134)), ('##intes', (1134, 1139)), ('##tina', (1139, 1143)), ('##les', (1143, 1146)), ('era', (1147, 1150)), ('la', (1151, 1153)), ('responsable', (1154, 1165)), ('del', (1166, 1169)), ('síndrome', (1170, 1178)), ('nef', (1179, 1182)), ('##ró', (1182, 1184)), ('##tico', (1184, 1188)), ('y', (1189, 1190)), ('la', (1191, 1193)), ('dia', (1194, 1197)), ('##rrea', (1197, 1201)), ('.', (1201, 1202))]\n",
      "\n",
      "\n",
      "[('Se', (1203, 1205)), ('des', (1206, 1209)), ('##car', (1209, 1212)), ('##tó', (1212, 1214)), ('ami', (1215, 1218)), ('##lo', (1218, 1220)), ('##idos', (1220, 1224)), ('##is', (1224, 1226)), ('card', (1227, 1231)), ('##ía', (1231, 1233)), ('##ca', (1233, 1235)), ('mediante', (1236, 1244)), ('e', (1245, 1246)), ('##co', (1246, 1248)), ('##card', (1248, 1252)), ('##io', (1252, 1254)), ('##grama', (1254, 1259)), ('.', (1259, 1260))]\n",
      "\n",
      "\n",
      "[('Se', (1261, 1263)), ('inició', (1264, 1270)), ('tratamiento', (1271, 1282)), ('con', (1283, 1286)), ('un', (1287, 1289)), ('in', (1290, 1292)), ('##hib', (1292, 1295)), ('##idor', (1295, 1299)), ('select', (1300, 1306)), ('##ivo', (1306, 1309)), ('de', (1310, 1312)), ('la', (1313, 1315)), ('tiro', (1316, 1320)), ('##sina', (1320, 1324)), ('ci', (1325, 1327)), ('##nas', (1327, 1330)), ('##a', (1330, 1331)), ('de', (1332, 1334)), ('c', (1335, 1336)), ('##K', (1336, 1337)), ('##it', (1337, 1339)), (',', (1339, 1340)), ('Ima', (1341, 1344)), ('##tini', (1344, 1348)), ('##b', (1348, 1349)), ('(', (1350, 1351)), ('Gli', (1351, 1354)), ('##vec', (1354, 1357)), ('##®', (1357, 1358)), (')', (1358, 1359)), (',', (1359, 1360)), ('100', (1361, 1364)), ('mg', (1365, 1367)), ('diario', (1368, 1374)), ('##s', (1374, 1375)), ('.', (1375, 1376))]\n",
      "\n",
      "\n",
      "[('A', (1377, 1378)), ('los', (1379, 1382)), ('15', (1383, 1385)), ('meses', (1386, 1391)), ('del', (1392, 1395)), ('dia', (1396, 1399)), ('##gnóstico', (1399, 1407)), ('se', (1408, 1410)), ('decidió', (1411, 1418)), ('la', (1419, 1421)), ('ex', (1422, 1424)), ('##tir', (1424, 1427)), ('##pación', (1427, 1433)), ('qui', (1434, 1437)), ('##rú', (1437, 1439)), ('##rgi', (1439, 1442)), ('##ca', (1442, 1444)), ('tras', (1445, 1449)), ('observar', (1450, 1458)), ('##se', (1458, 1460)), ('una', (1461, 1464)), ('dis', (1465, 1468)), ('##minución', (1468, 1476)), ('de', (1477, 1479)), ('la', (1480, 1482)), ('masa', (1483, 1487)), ('tumor', (1488, 1493)), ('##al', (1493, 1495)), ('en', (1496, 1498)), ('el', (1499, 1501)), ('estudio', (1502, 1509)), ('por', (1510, 1513)), ('tom', (1514, 1517)), ('##ografía', (1517, 1524)), ('por', (1525, 1528)), ('emisión', (1529, 1536)), ('de', (1537, 1539)), ('pos', (1540, 1543)), ('##it', (1543, 1545)), ('##rones', (1545, 1550)), ('/', (1550, 1551)), ('tom', (1551, 1554)), ('##ografía', (1554, 1561)), ('com', (1562, 1565)), ('##put', (1565, 1568)), ('##ari', (1568, 1571)), ('##zada', (1571, 1575)), ('.', (1575, 1576))]\n",
      "\n",
      "\n",
      "[('En', (1577, 1579)), ('la', (1580, 1582)), ('ana', (1583, 1586)), ('##tom', (1586, 1589)), ('##ía', (1589, 1591)), ('pat', (1592, 1595)), ('##ológica', (1595, 1602)), ('se', (1603, 1605)), ('confirmó', (1606, 1614)), ('la', (1615, 1617)), ('afecta', (1618, 1624)), ('##ción', (1624, 1628)), ('del', (1629, 1632)), ('est', (1633, 1636)), ('##óm', (1636, 1638)), ('##ago', (1638, 1641)), ('y', (1642, 1643)), ('el', (1644, 1646)), ('án', (1647, 1649)), ('##gulo', (1649, 1653)), ('es', (1654, 1656)), ('##pl', (1656, 1658)), ('##éni', (1658, 1661)), ('##co', (1661, 1663)), ('del', (1664, 1667)), ('col', (1668, 1671)), ('##on', (1671, 1673)), ('ex', (1674, 1676)), ('##tir', (1676, 1679)), ('##pado', (1679, 1683)), ('##s', (1683, 1684)), ('.', (1684, 1685))]\n",
      "\n",
      "\n",
      "[('En', (1686, 1688)), ('este', (1689, 1693)), ('sentido', (1694, 1701)), (',', (1701, 1702)), ('se', (1703, 1705)), ('c', (1706, 1707)), ('##lasi', (1707, 1711)), ('##ficó', (1711, 1715)), ('como', (1716, 1720)), ('un', (1721, 1723)), ('G', (1724, 1725)), ('##IS', (1725, 1727)), ('##T', (1727, 1728)), ('de', (1729, 1731)), ('alto', (1732, 1736)), ('riesgo', (1737, 1743)), ('(', (1744, 1745)), ('>', (1745, 1746)), ('5', (1747, 1748)), ('cm', (1749, 1751)), ('de', (1752, 1754)), ('tamaño', (1755, 1761)), (',', (1761, 1762)), ('>', (1763, 1764)), ('5', (1765, 1766)), ('mito', (1767, 1771)), ('##sis', (1771, 1774)), ('por', (1775, 1778)), ('campo', (1779, 1784)), ('de', (1785, 1787)), ('gran', (1788, 1792)), ('aumento', (1793, 1800)), (')', (1800, 1801)), ('2', (1801, 1802)), ('.', (1802, 1803))]\n",
      "\n",
      "\n",
      "[('La', (1804, 1806)), ('función', (1807, 1814)), ('ren', (1815, 1818)), ('##al', (1818, 1820)), ('continuó', (1821, 1829)), ('det', (1830, 1833)), ('##eri', (1833, 1836)), ('##or', (1836, 1838)), ('##ándose', (1838, 1844)), (',', (1844, 1845)), ('por', (1846, 1849)), ('lo', (1850, 1852)), ('que', (1853, 1856)), ('finalmente', (1857, 1867)), ('entra', (1868, 1873)), ('en', (1874, 1876)), ('programa', (1877, 1885)), ('de', (1886, 1888)), ('hem', (1889, 1892)), ('##odi', (1892, 1895)), ('##ális', (1895, 1899)), ('##is', (1899, 1901)), ('per', (1902, 1905)), ('##ió', (1905, 1907)), ('##dica', (1907, 1911)), (',', (1911, 1912)), ('un', (1913, 1915)), ('año', (1916, 1919)), ('y', (1920, 1921)), ('siete', (1922, 1927)), ('meses', (1928, 1933)), ('después', (1934, 1941)), ('del', (1942, 1945)), ('hall', (1946, 1950)), ('##azgo', (1950, 1954)), ('del', (1955, 1958)), ('G', (1959, 1960)), ('##IS', (1960, 1962)), ('##T', (1962, 1963)), (',', (1963, 1964)), ('con', (1965, 1968)), ('el', (1969, 1971)), ('dia', (1972, 1975)), ('##gnóstico', (1975, 1983)), ('de', (1984, 1986)), ('ins', (1987, 1990)), ('##uf', (1990, 1992)), ('##iciencia', (1992, 2000)), ('ren', (2001, 2004)), ('##al', (2004, 2006)), ('c', (2007, 2008)), ('##rónica', (2008, 2014)), ('secundaria', (2015, 2025)), ('a', (2026, 2027)), ('ami', (2028, 2031)), ('##lo', (2031, 2033)), ('##idos', (2033, 2037)), ('##is', (2037, 2039)), ('AA', (2040, 2042)), ('.', (2042, 2043))]\n",
      "\n",
      "\n"
     ]
    }
   ],
   "source": [
    "for i in range(check_id_frag, check_id_frag + train_frag[check_id]):\n",
    "    print(list(zip([tokenizer._token_dict_inv[ind] for ind in train_ind[i]][1:len(train_start_end_frag[i])+1], \n",
    "               train_start_end_frag[i])))\n",
    "    print(\"\\n\")"
   ]
  },
  {
   "cell_type": "code",
   "execution_count": 69,
   "metadata": {},
   "outputs": [
    {
     "name": "stdout",
     "output_type": "stream",
     "text": [
      "[CLS] Se presenta el caso de un var ##ón de 64 años sin ante ##cedent ##es de interés , que consulta por pérdida de 17 kg de peso , as ##tenia , ano ##re ##xia y ane ##mia . [SEP] [PAD] [PAD] [PAD] [PAD] [PAD] [PAD] [PAD] [PAD] [PAD] [PAD] [PAD] [PAD] [PAD] [PAD] [PAD] [PAD] [PAD] [PAD] [PAD] [PAD] [PAD] [PAD] [PAD] [PAD] [PAD] [PAD] [PAD] [PAD] [PAD] [PAD] [PAD] [PAD] [PAD] [PAD] [PAD] [PAD] [PAD] [PAD] [PAD] [PAD] [PAD] [PAD] [PAD] [PAD] [PAD] [PAD] [PAD] [PAD] [PAD] [PAD] [PAD] [PAD] [PAD] [PAD] [PAD] [PAD] [PAD] [PAD] [PAD] [PAD] [PAD] [PAD] [PAD] [PAD] [PAD] [PAD] [PAD] [PAD] [PAD] [PAD] [PAD] [PAD] [PAD] [PAD] [PAD] [PAD] [PAD] [PAD] [PAD] [PAD] [PAD] [PAD] [PAD] [PAD] [PAD] [PAD] [PAD] [PAD] \n",
      "\n",
      "[CLS] Se realizó una colonos ##co ##pia que mostra ##ba cambios in ##f ##lama ##torio ##s in ##es ##pec ##ífic ##os de la mu ##cosa col ##ónica y una gas ##tros ##co ##pia que evidencia ##ba neo ##pla ##sia g ##ást ##rica y gas ##tro ##pat ##ía ant ##ral , con toma de bio ##psia ##s . [SEP] [PAD] [PAD] [PAD] [PAD] [PAD] [PAD] [PAD] [PAD] [PAD] [PAD] [PAD] [PAD] [PAD] [PAD] [PAD] [PAD] [PAD] [PAD] [PAD] [PAD] [PAD] [PAD] [PAD] [PAD] [PAD] [PAD] [PAD] [PAD] [PAD] [PAD] [PAD] [PAD] [PAD] [PAD] [PAD] [PAD] [PAD] [PAD] [PAD] [PAD] [PAD] [PAD] [PAD] [PAD] [PAD] [PAD] [PAD] [PAD] [PAD] [PAD] [PAD] [PAD] [PAD] [PAD] [PAD] [PAD] [PAD] [PAD] [PAD] [PAD] [PAD] [PAD] [PAD] [PAD] [PAD] [PAD] [PAD] [PAD] [PAD] [PAD] \n",
      "\n",
      "[CLS] La his ##tol ##ogía de la bio ##psia g ##ást ##rica confirmó una pro ##life ##ración neo ##pl ##ási ##ca con patrón só ##lido su ##gest ##iva de G ##IS ##T , y la in ##mun ##oh ##isto ##quí ##mica presenta ##ba positiv ##idad para CD ##11 ##7 . [SEP] [PAD] [PAD] [PAD] [PAD] [PAD] [PAD] [PAD] [PAD] [PAD] [PAD] [PAD] [PAD] [PAD] [PAD] [PAD] [PAD] [PAD] [PAD] [PAD] [PAD] [PAD] [PAD] [PAD] [PAD] [PAD] [PAD] [PAD] [PAD] [PAD] [PAD] [PAD] [PAD] [PAD] [PAD] [PAD] [PAD] [PAD] [PAD] [PAD] [PAD] [PAD] [PAD] [PAD] [PAD] [PAD] [PAD] [PAD] [PAD] [PAD] [PAD] [PAD] [PAD] [PAD] [PAD] [PAD] [PAD] [PAD] [PAD] [PAD] [PAD] [PAD] [PAD] [PAD] [PAD] [PAD] [PAD] [PAD] [PAD] [PAD] [PAD] [PAD] [PAD] [PAD] [PAD] [PAD] [PAD] [PAD] \n",
      "\n",
      "[CLS] Se observar ##on depósitos de ami ##lo ##ide AA en las bio ##psia ##s de la mu ##cosa g ##ást ##rica , del tumor y de la mu ##cosa col ##ónica . [SEP] [PAD] [PAD] [PAD] [PAD] [PAD] [PAD] [PAD] [PAD] [PAD] [PAD] [PAD] [PAD] [PAD] [PAD] [PAD] [PAD] [PAD] [PAD] [PAD] [PAD] [PAD] [PAD] [PAD] [PAD] [PAD] [PAD] [PAD] [PAD] [PAD] [PAD] [PAD] [PAD] [PAD] [PAD] [PAD] [PAD] [PAD] [PAD] [PAD] [PAD] [PAD] [PAD] [PAD] [PAD] [PAD] [PAD] [PAD] [PAD] [PAD] [PAD] [PAD] [PAD] [PAD] [PAD] [PAD] [PAD] [PAD] [PAD] [PAD] [PAD] [PAD] [PAD] [PAD] [PAD] [PAD] [PAD] [PAD] [PAD] [PAD] [PAD] [PAD] [PAD] [PAD] [PAD] [PAD] [PAD] [PAD] [PAD] [PAD] [PAD] [PAD] [PAD] [PAD] [PAD] [PAD] [PAD] [PAD] [PAD] [PAD] [PAD] [PAD] [PAD] [PAD] [PAD] \n",
      "\n",
      "[CLS] Posteriormente , comenzó con ede ##mas en los miembros inferiores y dia ##rrea . [SEP] [PAD] [PAD] [PAD] [PAD] [PAD] [PAD] [PAD] [PAD] [PAD] [PAD] [PAD] [PAD] [PAD] [PAD] [PAD] [PAD] [PAD] [PAD] [PAD] [PAD] [PAD] [PAD] [PAD] [PAD] [PAD] [PAD] [PAD] [PAD] [PAD] [PAD] [PAD] [PAD] [PAD] [PAD] [PAD] [PAD] [PAD] [PAD] [PAD] [PAD] [PAD] [PAD] [PAD] [PAD] [PAD] [PAD] [PAD] [PAD] [PAD] [PAD] [PAD] [PAD] [PAD] [PAD] [PAD] [PAD] [PAD] [PAD] [PAD] [PAD] [PAD] [PAD] [PAD] [PAD] [PAD] [PAD] [PAD] [PAD] [PAD] [PAD] [PAD] [PAD] [PAD] [PAD] [PAD] [PAD] [PAD] [PAD] [PAD] [PAD] [PAD] [PAD] [PAD] [PAD] [PAD] [PAD] [PAD] [PAD] [PAD] [PAD] [PAD] [PAD] [PAD] [PAD] [PAD] [PAD] [PAD] [PAD] [PAD] [PAD] [PAD] [PAD] [PAD] [PAD] [PAD] [PAD] [PAD] [PAD] [PAD] [PAD] [PAD] [PAD] \n",
      "\n",
      "[CLS] En la anal ##ítica destaca ##ba : hem ##og ##lob ##ina 8 , 7 g / dl , hem ##ato ##crito 28 % , volumen corpus ##cular medio 75 , creat ##inin ##a sér ##ica 1 , 3 mg / dl ; proteínas totale ##s 5 , 9 g / dl ; alb ##ú ##mina 1 , 36 g / dl ; coles ##tero ##l 96 mg / dl ; índice de satu ##ración de transfer ##rina 13 % . [SEP] [PAD] [PAD] [PAD] [PAD] [PAD] [PAD] [PAD] [PAD] [PAD] [PAD] [PAD] [PAD] [PAD] [PAD] [PAD] [PAD] [PAD] [PAD] [PAD] [PAD] [PAD] [PAD] [PAD] [PAD] [PAD] [PAD] [PAD] [PAD] [PAD] [PAD] [PAD] [PAD] [PAD] [PAD] [PAD] [PAD] [PAD] [PAD] [PAD] [PAD] [PAD] [PAD] [PAD] [PAD] [PAD] [PAD] \n",
      "\n",
      "[CLS] Protein ##uria de 5 , 1 g / día y sed ##imento con 4 - 6 hem ##at ##íes / campo . [SEP] [PAD] [PAD] [PAD] [PAD] [PAD] [PAD] [PAD] [PAD] [PAD] [PAD] [PAD] [PAD] [PAD] [PAD] [PAD] [PAD] [PAD] [PAD] [PAD] [PAD] [PAD] [PAD] [PAD] [PAD] [PAD] [PAD] [PAD] [PAD] [PAD] [PAD] [PAD] [PAD] [PAD] [PAD] [PAD] [PAD] [PAD] [PAD] [PAD] [PAD] [PAD] [PAD] [PAD] [PAD] [PAD] [PAD] [PAD] [PAD] [PAD] [PAD] [PAD] [PAD] [PAD] [PAD] [PAD] [PAD] [PAD] [PAD] [PAD] [PAD] [PAD] [PAD] [PAD] [PAD] [PAD] [PAD] [PAD] [PAD] [PAD] [PAD] [PAD] [PAD] [PAD] [PAD] [PAD] [PAD] [PAD] [PAD] [PAD] [PAD] [PAD] [PAD] [PAD] [PAD] [PAD] [PAD] [PAD] [PAD] [PAD] [PAD] [PAD] [PAD] [PAD] [PAD] [PAD] [PAD] [PAD] [PAD] [PAD] [PAD] [PAD] [PAD] [PAD] [PAD] \n",
      "\n",
      "[CLS] Dada la mala situación del paciente , no se realizó bio ##psia ren ##al y se asumió que la ami ##lo ##idos ##is previamente observa ##da en las bio ##psia ##s gas ##tro ##intes ##tina ##les era la responsable del síndrome nef ##ró ##tico y la dia ##rrea . [SEP] [PAD] [PAD] [PAD] [PAD] [PAD] [PAD] [PAD] [PAD] [PAD] [PAD] [PAD] [PAD] [PAD] [PAD] [PAD] [PAD] [PAD] [PAD] [PAD] [PAD] [PAD] [PAD] [PAD] [PAD] [PAD] [PAD] [PAD] [PAD] [PAD] [PAD] [PAD] [PAD] [PAD] [PAD] [PAD] [PAD] [PAD] [PAD] [PAD] [PAD] [PAD] [PAD] [PAD] [PAD] [PAD] [PAD] [PAD] [PAD] [PAD] [PAD] [PAD] [PAD] [PAD] [PAD] [PAD] [PAD] [PAD] [PAD] [PAD] [PAD] [PAD] [PAD] [PAD] [PAD] [PAD] [PAD] [PAD] [PAD] [PAD] [PAD] [PAD] [PAD] [PAD] [PAD] [PAD] [PAD] [PAD] \n",
      "\n",
      "[CLS] Se des ##car ##tó ami ##lo ##idos ##is card ##ía ##ca mediante e ##co ##card ##io ##grama . [SEP] [PAD] [PAD] [PAD] [PAD] [PAD] [PAD] [PAD] [PAD] [PAD] [PAD] [PAD] [PAD] [PAD] [PAD] [PAD] [PAD] [PAD] [PAD] [PAD] [PAD] [PAD] [PAD] [PAD] [PAD] [PAD] [PAD] [PAD] [PAD] [PAD] [PAD] [PAD] [PAD] [PAD] [PAD] [PAD] [PAD] [PAD] [PAD] [PAD] [PAD] [PAD] [PAD] [PAD] [PAD] [PAD] [PAD] [PAD] [PAD] [PAD] [PAD] [PAD] [PAD] [PAD] [PAD] [PAD] [PAD] [PAD] [PAD] [PAD] [PAD] [PAD] [PAD] [PAD] [PAD] [PAD] [PAD] [PAD] [PAD] [PAD] [PAD] [PAD] [PAD] [PAD] [PAD] [PAD] [PAD] [PAD] [PAD] [PAD] [PAD] [PAD] [PAD] [PAD] [PAD] [PAD] [PAD] [PAD] [PAD] [PAD] [PAD] [PAD] [PAD] [PAD] [PAD] [PAD] [PAD] [PAD] [PAD] [PAD] [PAD] [PAD] [PAD] [PAD] [PAD] [PAD] [PAD] [PAD] [PAD] \n",
      "\n",
      "[CLS] Se inició tratamiento con un in ##hib ##idor select ##ivo de la tiro ##sina ci ##nas ##a de c ##K ##it , Ima ##tini ##b ( Gli ##vec ##® ) , 100 mg diario ##s . [SEP] [PAD] [PAD] [PAD] [PAD] [PAD] [PAD] [PAD] [PAD] [PAD] [PAD] [PAD] [PAD] [PAD] [PAD] [PAD] [PAD] [PAD] [PAD] [PAD] [PAD] [PAD] [PAD] [PAD] [PAD] [PAD] [PAD] [PAD] [PAD] [PAD] [PAD] [PAD] [PAD] [PAD] [PAD] [PAD] [PAD] [PAD] [PAD] [PAD] [PAD] [PAD] [PAD] [PAD] [PAD] [PAD] [PAD] [PAD] [PAD] [PAD] [PAD] [PAD] [PAD] [PAD] [PAD] [PAD] [PAD] [PAD] [PAD] [PAD] [PAD] [PAD] [PAD] [PAD] [PAD] [PAD] [PAD] [PAD] [PAD] [PAD] [PAD] [PAD] [PAD] [PAD] [PAD] [PAD] [PAD] [PAD] [PAD] [PAD] [PAD] [PAD] [PAD] [PAD] [PAD] [PAD] [PAD] [PAD] [PAD] [PAD] [PAD] \n",
      "\n",
      "[CLS] A los 15 meses del dia ##gnóstico se decidió la ex ##tir ##pación qui ##rú ##rgi ##ca tras observar ##se una dis ##minución de la masa tumor ##al en el estudio por tom ##ografía por emisión de pos ##it ##rones / tom ##ografía com ##put ##ari ##zada . [SEP] [PAD] [PAD] [PAD] [PAD] [PAD] [PAD] [PAD] [PAD] [PAD] [PAD] [PAD] [PAD] [PAD] [PAD] [PAD] [PAD] [PAD] [PAD] [PAD] [PAD] [PAD] [PAD] [PAD] [PAD] [PAD] [PAD] [PAD] [PAD] [PAD] [PAD] [PAD] [PAD] [PAD] [PAD] [PAD] [PAD] [PAD] [PAD] [PAD] [PAD] [PAD] [PAD] [PAD] [PAD] [PAD] [PAD] [PAD] [PAD] [PAD] [PAD] [PAD] [PAD] [PAD] [PAD] [PAD] [PAD] [PAD] [PAD] [PAD] [PAD] [PAD] [PAD] [PAD] [PAD] [PAD] [PAD] [PAD] [PAD] [PAD] [PAD] [PAD] [PAD] [PAD] [PAD] [PAD] [PAD] [PAD] [PAD] \n",
      "\n",
      "[CLS] En la ana ##tom ##ía pat ##ológica se confirmó la afecta ##ción del est ##óm ##ago y el án ##gulo es ##pl ##éni ##co del col ##on ex ##tir ##pado ##s . [SEP] [PAD] [PAD] [PAD] [PAD] [PAD] [PAD] [PAD] [PAD] [PAD] [PAD] [PAD] [PAD] [PAD] [PAD] [PAD] [PAD] [PAD] [PAD] [PAD] [PAD] [PAD] [PAD] [PAD] [PAD] [PAD] [PAD] [PAD] [PAD] [PAD] [PAD] [PAD] [PAD] [PAD] [PAD] [PAD] [PAD] [PAD] [PAD] [PAD] [PAD] [PAD] [PAD] [PAD] [PAD] [PAD] [PAD] [PAD] [PAD] [PAD] [PAD] [PAD] [PAD] [PAD] [PAD] [PAD] [PAD] [PAD] [PAD] [PAD] [PAD] [PAD] [PAD] [PAD] [PAD] [PAD] [PAD] [PAD] [PAD] [PAD] [PAD] [PAD] [PAD] [PAD] [PAD] [PAD] [PAD] [PAD] [PAD] [PAD] [PAD] [PAD] [PAD] [PAD] [PAD] [PAD] [PAD] [PAD] [PAD] [PAD] [PAD] [PAD] [PAD] [PAD] [PAD] \n",
      "\n",
      "[CLS] En este sentido , se c ##lasi ##ficó como un G ##IS ##T de alto riesgo ( > 5 cm de tamaño , > 5 mito ##sis por campo de gran aumento ) 2 . [SEP] [PAD] [PAD] [PAD] [PAD] [PAD] [PAD] [PAD] [PAD] [PAD] [PAD] [PAD] [PAD] [PAD] [PAD] [PAD] [PAD] [PAD] [PAD] [PAD] [PAD] [PAD] [PAD] [PAD] [PAD] [PAD] [PAD] [PAD] [PAD] [PAD] [PAD] [PAD] [PAD] [PAD] [PAD] [PAD] [PAD] [PAD] [PAD] [PAD] [PAD] [PAD] [PAD] [PAD] [PAD] [PAD] [PAD] [PAD] [PAD] [PAD] [PAD] [PAD] [PAD] [PAD] [PAD] [PAD] [PAD] [PAD] [PAD] [PAD] [PAD] [PAD] [PAD] [PAD] [PAD] [PAD] [PAD] [PAD] [PAD] [PAD] [PAD] [PAD] [PAD] [PAD] [PAD] [PAD] [PAD] [PAD] [PAD] [PAD] [PAD] [PAD] [PAD] [PAD] [PAD] [PAD] [PAD] [PAD] [PAD] [PAD] [PAD] [PAD] \n",
      "\n",
      "[CLS] La función ren ##al continuó det ##eri ##or ##ándose , por lo que finalmente entra en programa de hem ##odi ##ális ##is per ##ió ##dica , un año y siete meses después del hall ##azgo del G ##IS ##T , con el dia ##gnóstico de ins ##uf ##iciencia ren ##al c ##rónica secundaria a ami ##lo ##idos ##is AA . [SEP] [PAD] [PAD] [PAD] [PAD] [PAD] [PAD] [PAD] [PAD] [PAD] [PAD] [PAD] [PAD] [PAD] [PAD] [PAD] [PAD] [PAD] [PAD] [PAD] [PAD] [PAD] [PAD] [PAD] [PAD] [PAD] [PAD] [PAD] [PAD] [PAD] [PAD] [PAD] [PAD] [PAD] [PAD] [PAD] [PAD] [PAD] [PAD] [PAD] [PAD] [PAD] [PAD] [PAD] [PAD] [PAD] [PAD] [PAD] [PAD] [PAD] [PAD] [PAD] [PAD] [PAD] [PAD] [PAD] [PAD] [PAD] [PAD] [PAD] [PAD] [PAD] [PAD] [PAD] [PAD] [PAD] [PAD] \n",
      "\n"
     ]
    }
   ],
   "source": [
    "check_id_frag = sum(train_frag[:check_id])\n",
    "for frag in train_ind[check_id_frag:check_id_frag + train_frag[check_id]]:\n",
    "    print(' '.join([tokenizer._token_dict_inv[ind] for ind in frag]), \"\\n\")"
   ]
  },
  {
   "cell_type": "code",
   "execution_count": 70,
   "metadata": {},
   "outputs": [
    {
     "data": {
      "text/plain": [
       "count    7025.000000\n",
       "mean        0.304911\n",
       "std         0.652322\n",
       "min         0.000000\n",
       "25%         0.000000\n",
       "50%         0.000000\n",
       "75%         0.000000\n",
       "max         6.000000\n",
       "dtype: float64"
      ]
     },
     "execution_count": 70,
     "metadata": {},
     "output_type": "execute_result"
    }
   ],
   "source": [
    "# Fragment labels distribution\n",
    "pd.Series(np.sum(train_y, axis=1)).describe()"
   ]
  },
  {
   "cell_type": "markdown",
   "metadata": {},
   "source": [
    "### Development corpus\n",
    "\n",
    "Only development texts that are annotated with CIE-Procedimiento codes are considered:"
   ]
  },
  {
   "cell_type": "code",
   "execution_count": 71,
   "metadata": {},
   "outputs": [
    {
     "data": {
      "text/plain": [
       "28"
      ]
     },
     "execution_count": 71,
     "metadata": {},
     "output_type": "execute_result"
    }
   ],
   "source": [
    "# Some dev documents (texts) are not annotated \n",
    "len(set(df_text_dev[\"doc_id\"]) - set(df_codes_dev_ner[\"doc_id\"]))"
   ]
  },
  {
   "cell_type": "code",
   "execution_count": 72,
   "metadata": {},
   "outputs": [],
   "source": [
    "dev_doc_list = sorted(set(df_codes_dev_ner[\"doc_id\"]))"
   ]
  },
  {
   "cell_type": "code",
   "execution_count": 73,
   "metadata": {},
   "outputs": [
    {
     "data": {
      "text/plain": [
       "222"
      ]
     },
     "execution_count": 73,
     "metadata": {},
     "output_type": "execute_result"
    }
   ],
   "source": [
    "len(dev_doc_list)"
   ]
  },
  {
   "cell_type": "code",
   "execution_count": 74,
   "metadata": {},
   "outputs": [
    {
     "name": "stdout",
     "output_type": "stream",
     "text": [
      "CPU times: user 6.13 ms, sys: 3.83 ms, total: 9.96 ms\n",
      "Wall time: 9.37 ms\n"
     ]
    }
   ],
   "source": [
    "%%time\n",
    "ss_sub_corpus_path = ss_corpus_path + \"dev/\"\n",
    "ss_files = [f for f in os.listdir(ss_sub_corpus_path) if os.path.isfile(ss_sub_corpus_path + f)]\n",
    "ss_dict_dev = load_ss_files(ss_files, ss_sub_corpus_path)"
   ]
  },
  {
   "cell_type": "code",
   "execution_count": 75,
   "metadata": {},
   "outputs": [
    {
     "name": "stderr",
     "output_type": "stream",
     "text": [
      "100%|██████████| 222/222 [00:03<00:00, 60.41it/s]\n"
     ]
    },
    {
     "name": "stdout",
     "output_type": "stream",
     "text": [
      "CPU times: user 3.73 s, sys: 23.8 ms, total: 3.75 s\n",
      "Wall time: 3.72 s\n"
     ]
    }
   ],
   "source": [
    "%%time\n",
    "dev_ind, dev_seg, dev_y, dev_frag, dev_start_end_frag = ss_create_frag_input_data_bert(df_text=df_text_dev, \n",
    "                                                  text_col=text_col, \n",
    "                                                  df_ann=df_codes_dev_ner, doc_list=dev_doc_list, ss_dict=ss_dict_dev,\n",
    "                                                  tokenizer=tokenizer, lab_encoder=mlb_encoder, seq_len=SEQ_LEN,\n",
    "                                                  greedy=False)"
   ]
  },
  {
   "cell_type": "code",
   "execution_count": 77,
   "metadata": {},
   "outputs": [],
   "source": [
    "# Sanity check"
   ]
  },
  {
   "cell_type": "code",
   "execution_count": 76,
   "metadata": {},
   "outputs": [
    {
     "data": {
      "text/plain": [
       "(3808, 128)"
      ]
     },
     "execution_count": 76,
     "metadata": {},
     "output_type": "execute_result"
    }
   ],
   "source": [
    "dev_ind.shape"
   ]
  },
  {
   "cell_type": "code",
   "execution_count": 77,
   "metadata": {},
   "outputs": [
    {
     "data": {
      "text/plain": [
       "(3808, 128)"
      ]
     },
     "execution_count": 77,
     "metadata": {},
     "output_type": "execute_result"
    }
   ],
   "source": [
    "dev_seg.shape"
   ]
  },
  {
   "cell_type": "code",
   "execution_count": 78,
   "metadata": {},
   "outputs": [
    {
     "data": {
      "text/plain": [
       "(3808, 727)"
      ]
     },
     "execution_count": 78,
     "metadata": {},
     "output_type": "execute_result"
    }
   ],
   "source": [
    "dev_y.shape"
   ]
  },
  {
   "cell_type": "code",
   "execution_count": 79,
   "metadata": {},
   "outputs": [
    {
     "data": {
      "text/plain": [
       "222"
      ]
     },
     "execution_count": 79,
     "metadata": {},
     "output_type": "execute_result"
    }
   ],
   "source": [
    "len(dev_frag)"
   ]
  },
  {
   "cell_type": "code",
   "execution_count": 80,
   "metadata": {},
   "outputs": [
    {
     "data": {
      "text/plain": [
       "3808"
      ]
     },
     "execution_count": 80,
     "metadata": {},
     "output_type": "execute_result"
    }
   ],
   "source": [
    "len(dev_start_end_frag)"
   ]
  },
  {
   "cell_type": "code",
   "execution_count": 81,
   "metadata": {},
   "outputs": [
    {
     "data": {
      "text/plain": [
       "count    222.000000\n",
       "mean      17.153153\n",
       "std        8.327785\n",
       "min        4.000000\n",
       "25%       11.000000\n",
       "50%       15.000000\n",
       "75%       21.000000\n",
       "max       65.000000\n",
       "dtype: float64"
      ]
     },
     "execution_count": 81,
     "metadata": {},
     "output_type": "execute_result"
    }
   ],
   "source": [
    "# Check n_frag distribution across texts\n",
    "pd.Series(dev_frag).describe()"
   ]
  },
  {
   "cell_type": "code",
   "execution_count": 82,
   "metadata": {},
   "outputs": [],
   "source": [
    "# Inspect a randomly selected text and its encoded version\n",
    "check_id = np.random.randint(low=0, high=len(dev_doc_list), size=1)[0]"
   ]
  },
  {
   "cell_type": "code",
   "execution_count": 83,
   "metadata": {},
   "outputs": [
    {
     "data": {
      "text/plain": [
       "166"
      ]
     },
     "execution_count": 83,
     "metadata": {},
     "output_type": "execute_result"
    }
   ],
   "source": [
    "check_id"
   ]
  },
  {
   "cell_type": "code",
   "execution_count": 84,
   "metadata": {},
   "outputs": [
    {
     "data": {
      "text/plain": [
       "'S1130-14732009000300006-1'"
      ]
     },
     "execution_count": 84,
     "metadata": {},
     "output_type": "execute_result"
    }
   ],
   "source": [
    "dev_doc_list[check_id]"
   ]
  },
  {
   "cell_type": "code",
   "execution_count": 85,
   "metadata": {
    "scrolled": true
   },
   "outputs": [
    {
     "data": {
      "text/plain": [
       "'Una mujer de 26 años sin antecedentes neurológicos previos, asmática y en tratamiento con anticonceptivos orales, presenta un cuadro de cefalea holocraneal muy intensa acompañada de fotofobia, nauseas y vómitos sin fiebre de unas 24 horas de evolución, que se complica a la mañana siguiente de forma súbita con inestabilidad para la marcha y diplopia. Acude a urgencias de nuestro centro; en el examen neurológico presenta discreta rigidez nucal, oftalmoplejia internuclear derecha, Romberg tambaleante y lateropulsión izquierda en la marcha, siendo el resto normal. Se le práctica una tomografía axial computarizada objetivándose una lesión con densidad negativa (-20 a -67 Unidades Hounsfield) localizada en la región temporal así como múltiples imágenes ovulares diseminadas por las cisternas supraselares derechas, cuadrigéminas bilaterales, ángulo pontocerebeloso y asta frontal del ventrículo lateral izquierdo que se interpretan como partículas de grasa. Con la sospecha de meningitis química por ruptura de quiste dermoide se inicia tratamiento con dexametasona a dosis de 4 miligramos cada 12 horas. En la resonancia magnética cerebral realizada a los seis días del inicio de los síntomas se observa la masa extraparenquimatosa correspondiente al quiste en la región medial del polo temporal izquierdo que asciende ocupando la zona anterior de la cisterna perimesencefálica izquierda y diseminación de grasa en el espacio subaracnoideo; además se observa en la región paramedial del mesencéfalo una imagen hiperintensa en la secuencias potenciadas en T2 que se muestra hiperintensa en las secuencias en difusión e hipointensa en el mapa de ADC compatible con un infarto isquémico. Se completa la resonancia con secuencias en T1 y EGD con supresión grasa tras administración de gadolinio observándose las pequeñas partículas de grasa diseminadas en el espacio subaracnoideo; llama la atención el acúmulo graso en la cisterna interpeduncular en íntimo contacto con la parte distal de la basilar y la salida teórica de las ramas perforantes mediales mesencefálicas, arterias cerebelosas superiores y arterias cerebrales posteriores. En la figura 1 se muestra una composición con la neuroimagen mas representativa del caso. Tras el resultado de esta prueba se inicia tratamiento con ácido acetilsalicílico a dosis de 100 mg al día y se completó el estudio etiológico del ictus con analítica, hemograma, lipidograma, estudio de autoinmunidad, serología, hormonas tiroideas, homocisteina, anticuerpos anticardiolipina, B2-microglobulina, antifosfolípido, estudio de líquido cefalorraquídeo, electrocardiograma, duplex de troncos supraórticos, doppler transcraneal, test de burbujas, ecocardiografía transtorácica, holter de arritmias y angioresonancia de polígono de Willis; todas ellas con resultado normal o negativo.\\nLa cefalea respondió a la administración de dexametasona en menos de 48 horas y la oftalmoparesia e inestabilidad se resolvieron a los 10 días quedando la paciente asintomática. Se diagnosticó de infarto aislado anteromedial mesencefálico posiblemente secundario a vasoespamo de arterias perforantes paramedianas mesencefálicas en relación con la diseminación subaracnoidea del contenido graso de un quiste dermoide temporal roto. De acuerdo con la paciente, el servicio de Neurocirugía decidió actitud expectante y controles de neuroimagen seriados, dejando la cirugía electiva para el caso de que apareciera sintomatología por compresión tumoral.\\n\\n'"
      ]
     },
     "execution_count": 85,
     "metadata": {},
     "output_type": "execute_result"
    }
   ],
   "source": [
    "df_text_dev[df_text_dev[\"doc_id\"] == dev_doc_list[check_id]][text_col].values[0]"
   ]
  },
  {
   "cell_type": "code",
   "execution_count": 86,
   "metadata": {},
   "outputs": [
    {
     "name": "stdout",
     "output_type": "stream",
     "text": [
      "[()] \n",
      "\n",
      "[()] \n",
      "\n",
      "[('b020',)] \n",
      "\n",
      "[()] \n",
      "\n",
      "[('b020', 'b030')] \n",
      "\n",
      "[()] \n",
      "\n",
      "[()] \n",
      "\n",
      "[()] \n",
      "\n",
      "[('4a02x4z',)] \n",
      "\n",
      "[()] \n",
      "\n",
      "[()] \n",
      "\n",
      "[()] \n",
      "\n",
      "[()] \n",
      "\n"
     ]
    }
   ],
   "source": [
    "check_id_frag = sum(dev_frag[:check_id])\n",
    "for i in range(check_id_frag, check_id_frag + dev_frag[check_id]):\n",
    "    print(mlb_encoder.inverse_transform(np.array([dev_y[i]])), \"\\n\")"
   ]
  },
  {
   "cell_type": "code",
   "execution_count": 87,
   "metadata": {},
   "outputs": [
    {
     "name": "stdout",
     "output_type": "stream",
     "text": [
      "[('Una', (0, 3)), ('mujer', (4, 9)), ('de', (10, 12)), ('26', (13, 15)), ('años', (16, 20)), ('sin', (21, 24)), ('ante', (25, 29)), ('##cedent', (29, 35)), ('##es', (35, 37)), ('neu', (38, 41)), ('##rol', (41, 44)), ('##ógicos', (44, 50)), ('pre', (51, 54)), ('##vios', (54, 58)), (',', (58, 59)), ('as', (60, 62)), ('##mática', (62, 68)), ('y', (69, 70)), ('en', (71, 73)), ('tratamiento', (74, 85)), ('con', (86, 89)), ('antico', (90, 96)), ('##nce', (96, 99)), ('##pti', (99, 102)), ('##vos', (102, 105)), ('oral', (106, 110)), ('##es', (110, 112)), (',', (112, 113)), ('presenta', (114, 122)), ('un', (123, 125)), ('cuadro', (126, 132)), ('de', (133, 135)), ('ce', (136, 138)), ('##fal', (138, 141)), ('##ea', (141, 143)), ('hol', (144, 147)), ('##oc', (147, 149)), ('##rane', (149, 153)), ('##al', (153, 155)), ('muy', (156, 159)), ('intensa', (160, 167)), ('ac', (168, 170)), ('##om', (170, 172)), ('##pa', (172, 174)), ('##ñada', (174, 178)), ('de', (179, 181)), ('foto', (182, 186)), ('##fo', (186, 188)), ('##bia', (188, 191)), (',', (191, 192)), ('nau', (193, 196)), ('##sea', (196, 199)), ('##s', (199, 200)), ('y', (201, 202)), ('v', (203, 204)), ('##óm', (204, 206)), ('##itos', (206, 210)), ('sin', (211, 214)), ('fie', (215, 218)), ('##bre', (218, 221)), ('de', (222, 224)), ('unas', (225, 229)), ('24', (230, 232)), ('horas', (233, 238)), ('de', (239, 241)), ('evolución', (242, 251)), (',', (251, 252)), ('que', (253, 256)), ('se', (257, 259)), ('com', (260, 263)), ('##pli', (263, 266)), ('##ca', (266, 268)), ('a', (269, 270)), ('la', (271, 273)), ('mañana', (274, 280)), ('siguiente', (281, 290)), ('de', (291, 293)), ('forma', (294, 299)), ('sú', (300, 302)), ('##bita', (302, 306)), ('con', (307, 310)), ('in', (311, 313)), ('##esta', (313, 317)), ('##bilidad', (317, 324)), ('para', (325, 329)), ('la', (330, 332)), ('marcha', (333, 339)), ('y', (340, 341)), ('di', (342, 344)), ('##plo', (344, 347)), ('##pia', (347, 350)), ('.', (350, 351))]\n",
      "\n",
      "\n",
      "[('A', (352, 353)), ('##cud', (353, 356)), ('##e', (356, 357)), ('a', (358, 359)), ('ur', (360, 362)), ('##gen', (362, 365)), ('##cias', (365, 369)), ('de', (370, 372)), ('nuestro', (373, 380)), ('centro', (381, 387)), (';', (387, 388)), ('en', (389, 391)), ('el', (392, 394)), ('examen', (395, 401)), ('neu', (402, 405)), ('##rol', (405, 408)), ('##ógico', (408, 413)), ('presenta', (414, 422)), ('disc', (423, 427)), ('##reta', (427, 431)), ('ri', (432, 434)), ('##gide', (434, 438)), ('##z', (438, 439)), ('nu', (440, 442)), ('##cal', (442, 445)), (',', (445, 446)), ('ofta', (447, 451)), ('##lm', (451, 453)), ('##op', (453, 455)), ('##lej', (455, 458)), ('##ia', (458, 460)), ('intern', (461, 467)), ('##uc', (467, 469)), ('##lea', (469, 472)), ('##r', (472, 473)), ('derecha', (474, 481)), (',', (481, 482)), ('Rom', (483, 486)), ('##berg', (486, 490)), ('tam', (491, 494)), ('##bal', (494, 497)), ('##ean', (497, 500)), ('##te', (500, 502)), ('y', (503, 504)), ('later', (505, 510)), ('##op', (510, 512)), ('##ul', (512, 514)), ('##sión', (514, 518)), ('izquierda', (519, 528)), ('en', (529, 531)), ('la', (532, 534)), ('marcha', (535, 541)), (',', (541, 542)), ('siendo', (543, 549)), ('el', (550, 552)), ('resto', (553, 558)), ('normal', (559, 565)), ('.', (565, 566))]\n",
      "\n",
      "\n",
      "[('Se', (567, 569)), ('le', (570, 572)), ('práctica', (573, 581)), ('una', (582, 585)), ('tom', (586, 589)), ('##ografía', (589, 596)), ('a', (597, 598)), ('##xia', (598, 601)), ('##l', (601, 602)), ('com', (603, 606)), ('##put', (606, 609)), ('##ari', (609, 612)), ('##zada', (612, 616)), ('objet', (617, 622)), ('##iv', (622, 624)), ('##ándose', (624, 630)), ('una', (631, 634)), ('lesión', (635, 641)), ('con', (642, 645)), ('densidad', (646, 654)), ('negativa', (655, 663)), ('(', (664, 665)), ('-', (665, 666)), ('20', (666, 668)), ('a', (669, 670)), ('-', (671, 672)), ('67', (672, 674)), ('Unidad', (675, 681)), ('##es', (681, 683)), ('Ho', (684, 686)), ('##uns', (686, 689)), ('##field', (689, 694)), (')', (694, 695)), ('localizada', (696, 706)), ('en', (707, 709)), ('la', (710, 712)), ('región', (713, 719)), ('temporal', (720, 728)), ('así', (729, 732)), ('como', (733, 737)), ('múltiples', (738, 747)), ('imágenes', (748, 756)), ('ovu', (757, 760)), ('##lares', (760, 765)), ('dis', (766, 769)), ('##emi', (769, 772)), ('##nada', (772, 776)), ('##s', (776, 777)), ('por', (778, 781)), ('las', (782, 785)), ('ci', (786, 788)), ('##stern', (788, 793)), ('##as', (793, 795)), ('supra', (796, 801)), ('##sel', (801, 804)), ('##ares', (804, 808)), ('derecha', (809, 816)), ('##s', (816, 817)), (',', (817, 818)), ('cu', (819, 821)), ('##ad', (821, 823)), ('##rig', (823, 826)), ('##ém', (826, 828)), ('##inas', (828, 832)), ('bila', (833, 837)), ('##teral', (837, 842)), ('##es', (842, 844)), (',', (844, 845)), ('án', (846, 848)), ('##gulo', (848, 852)), ('ponto', (853, 858)), ('##cere', (858, 862)), ('##bel', (862, 865)), ('##oso', (865, 868)), ('y', (869, 870)), ('asta', (871, 875)), ('frontal', (876, 883)), ('del', (884, 887)), ('vent', (888, 892)), ('##rí', (892, 894)), ('##culo', (894, 898)), ('lateral', (899, 906)), ('izquierdo', (907, 916)), ('que', (917, 920)), ('se', (921, 923)), ('interpreta', (924, 934)), ('##n', (934, 935)), ('como', (936, 940)), ('partículas', (941, 951)), ('de', (952, 954)), ('gras', (955, 959)), ('##a', (959, 960)), ('.', (960, 961))]\n",
      "\n",
      "\n",
      "[('Con', (962, 965)), ('la', (966, 968)), ('sos', (969, 972)), ('##pec', (972, 975)), ('##ha', (975, 977)), ('de', (978, 980)), ('mening', (981, 987)), ('##itis', (987, 991)), ('química', (992, 999)), ('por', (1000, 1003)), ('ruptura', (1004, 1011)), ('de', (1012, 1014)), ('qui', (1015, 1018)), ('##ste', (1018, 1021)), ('der', (1022, 1025)), ('##mo', (1025, 1027)), ('##ide', (1027, 1030)), ('se', (1031, 1033)), ('inicia', (1034, 1040)), ('tratamiento', (1041, 1052)), ('con', (1053, 1056)), ('de', (1057, 1059)), ('##xa', (1059, 1061)), ('##meta', (1061, 1065)), ('##sona', (1065, 1069)), ('a', (1070, 1071)), ('dos', (1072, 1075)), ('##is', (1075, 1077)), ('de', (1078, 1080)), ('4', (1081, 1082)), ('mil', (1083, 1086)), ('##ig', (1086, 1088)), ('##ram', (1088, 1091)), ('##os', (1091, 1093)), ('cada', (1094, 1098)), ('12', (1099, 1101)), ('horas', (1102, 1107)), ('.', (1107, 1108))]\n",
      "\n",
      "\n",
      "[('En', (1109, 1111)), ('la', (1112, 1114)), ('reso', (1115, 1119)), ('##nan', (1119, 1122)), ('##cia', (1122, 1125)), ('mag', (1126, 1129)), ('##nética', (1129, 1135)), ('cerebral', (1136, 1144)), ('realizada', (1145, 1154)), ('a', (1155, 1156)), ('los', (1157, 1160)), ('seis', (1161, 1165)), ('días', (1166, 1170)), ('del', (1171, 1174)), ('inicio', (1175, 1181)), ('de', (1182, 1184)), ('los', (1185, 1188)), ('sí', (1189, 1191)), ('##nto', (1191, 1194)), ('##mas', (1194, 1197)), ('se', (1198, 1200)), ('observa', (1201, 1208)), ('la', (1209, 1211)), ('masa', (1212, 1216)), ('extra', (1217, 1222)), ('##pare', (1222, 1226)), ('##n', (1226, 1227)), ('##qui', (1227, 1230)), ('##mat', (1230, 1233)), ('##osa', (1233, 1236)), ('correspondiente', (1237, 1252)), ('al', (1253, 1255)), ('qui', (1256, 1259)), ('##ste', (1259, 1262)), ('en', (1263, 1265)), ('la', (1266, 1268)), ('región', (1269, 1275)), ('media', (1276, 1281)), ('##l', (1281, 1282)), ('del', (1283, 1286)), ('polo', (1287, 1291)), ('temporal', (1292, 1300)), ('izquierdo', (1301, 1310)), ('que', (1311, 1314)), ('as', (1315, 1317)), ('##cie', (1317, 1320)), ('##nde', (1320, 1323)), ('ocupando', (1324, 1332)), ('la', (1333, 1335)), ('zona', (1336, 1340)), ('anterior', (1341, 1349)), ('de', (1350, 1352)), ('la', (1353, 1355)), ('ci', (1356, 1358)), ('##stern', (1358, 1363)), ('##a', (1363, 1364)), ('per', (1365, 1368)), ('##imes', (1368, 1372)), ('##ence', (1372, 1376)), ('##f', (1376, 1377)), ('##áli', (1377, 1380)), ('##ca', (1380, 1382)), ('izquierda', (1383, 1392)), ('y', (1393, 1394)), ('dis', (1395, 1398)), ('##emi', (1398, 1401)), ('##nación', (1401, 1407)), ('de', (1408, 1410)), ('gras', (1411, 1415)), ('##a', (1415, 1416)), ('en', (1417, 1419)), ('el', (1420, 1422)), ('espacio', (1423, 1430)), ('suba', (1431, 1435)), ('##rac', (1435, 1438)), ('##noi', (1438, 1441)), ('##deo', (1441, 1444)), (';', (1444, 1445)), ('además', (1446, 1452)), ('se', (1453, 1455)), ('observa', (1456, 1463)), ('en', (1464, 1466)), ('la', (1467, 1469)), ('región', (1470, 1476)), ('para', (1477, 1481)), ('##media', (1481, 1486)), ('##l', (1486, 1487)), ('del', (1488, 1491)), ('mese', (1492, 1496)), ('##ncé', (1496, 1499)), ('##fal', (1499, 1502)), ('##o', (1502, 1503)), ('una', (1504, 1507)), ('imagen', (1508, 1514)), ('hip', (1515, 1518)), ('##erin', (1518, 1522)), ('##tens', (1522, 1526)), ('##a', (1526, 1527)), ('en', (1528, 1530)), ('la', (1531, 1533)), ('secuencia', (1534, 1543)), ('##s', (1543, 1544)), ('potencia', (1545, 1553)), ('##das', (1553, 1556)), ('en', (1557, 1559)), ('T2', (1560, 1562)), ('que', (1563, 1566)), ('se', (1567, 1569)), ('muestra', (1570, 1577)), ('hip', (1578, 1581)), ('##erin', (1581, 1585)), ('##tens', (1585, 1589)), ('##a', (1589, 1590)), ('en', (1591, 1593)), ('las', (1594, 1597)), ('secuencia', (1598, 1607)), ('##s', (1607, 1608)), ('en', (1609, 1611)), ('difusión', (1612, 1620)), ('e', (1621, 1622)), ('hip', (1623, 1626)), ('##oint', (1626, 1630)), ('##ensa', (1630, 1634)), ('en', (1635, 1637)), ('el', (1638, 1640)), ('mapa', (1641, 1645))]\n",
      "\n",
      "\n",
      "[('de', (1646, 1648)), ('AD', (1649, 1651)), ('##C', (1651, 1652)), ('compatible', (1653, 1663)), ('con', (1664, 1667)), ('un', (1668, 1670)), ('in', (1671, 1673)), ('##far', (1673, 1676)), ('##to', (1676, 1678)), ('is', (1679, 1681)), ('##qué', (1681, 1684)), ('##mico', (1684, 1688)), ('.', (1688, 1689))]\n",
      "\n",
      "\n",
      "[('Se', (1690, 1692)), ('completa', (1693, 1701)), ('la', (1702, 1704)), ('reso', (1705, 1709)), ('##nan', (1709, 1712)), ('##cia', (1712, 1715)), ('con', (1716, 1719)), ('secuencia', (1720, 1729)), ('##s', (1729, 1730)), ('en', (1731, 1733)), ('T1', (1734, 1736)), ('y', (1737, 1738)), ('E', (1739, 1740)), ('##G', (1740, 1741)), ('##D', (1741, 1742)), ('con', (1743, 1746)), ('su', (1747, 1749)), ('##presión', (1749, 1756)), ('gras', (1757, 1761)), ('##a', (1761, 1762)), ('tras', (1763, 1767)), ('administración', (1768, 1782)), ('de', (1783, 1785)), ('ga', (1786, 1788)), ('##dol', (1788, 1791)), ('##inio', (1791, 1795)), ('ob', (1796, 1798)), ('##ser', (1798, 1801)), ('##ván', (1801, 1804)), ('##dose', (1804, 1808)), ('las', (1809, 1812)), ('pequeñas', (1813, 1821)), ('partículas', (1822, 1832)), ('de', (1833, 1835)), ('gras', (1836, 1840)), ('##a', (1840, 1841)), ('dis', (1842, 1845)), ('##emi', (1845, 1848)), ('##nada', (1848, 1852)), ('##s', (1852, 1853)), ('en', (1854, 1856)), ('el', (1857, 1859)), ('espacio', (1860, 1867)), ('suba', (1868, 1872)), ('##rac', (1872, 1875)), ('##noi', (1875, 1878)), ('##deo', (1878, 1881)), (';', (1881, 1882)), ('llama', (1883, 1888)), ('la', (1889, 1891)), ('atención', (1892, 1900)), ('el', (1901, 1903)), ('ac', (1904, 1906)), ('##ú', (1906, 1907)), ('##mul', (1907, 1910)), ('##o', (1910, 1911)), ('gras', (1912, 1916)), ('##o', (1916, 1917)), ('en', (1918, 1920)), ('la', (1921, 1923)), ('ci', (1924, 1926)), ('##stern', (1926, 1931)), ('##a', (1931, 1932)), ('inter', (1933, 1938)), ('##ped', (1938, 1941)), ('##uncu', (1941, 1945)), ('##lar', (1945, 1948)), ('en', (1949, 1951)), ('í', (1952, 1953)), ('##nti', (1953, 1956)), ('##mo', (1956, 1958)), ('contacto', (1959, 1967)), ('con', (1968, 1971)), ('la', (1972, 1974)), ('parte', (1975, 1980)), ('dis', (1981, 1984)), ('##tal', (1984, 1987)), ('de', (1988, 1990)), ('la', (1991, 1993)), ('basi', (1994, 1998)), ('##lar', (1998, 2001)), ('y', (2002, 2003)), ('la', (2004, 2006)), ('salida', (2007, 2013)), ('te', (2014, 2016)), ('##órica', (2016, 2021)), ('de', (2022, 2024)), ('las', (2025, 2028)), ('ramas', (2029, 2034)), ('per', (2035, 2038)), ('##fora', (2038, 2042)), ('##ntes', (2042, 2046)), ('media', (2047, 2052)), ('##les', (2052, 2055)), ('mese', (2056, 2060)), ('##nce', (2060, 2063)), ('##f', (2063, 2064)), ('##áli', (2064, 2067)), ('##cas', (2067, 2070)), (',', (2070, 2071)), ('arteria', (2072, 2079)), ('##s', (2079, 2080)), ('ce', (2081, 2083)), ('##re', (2083, 2085)), ('##bel', (2085, 2088)), ('##osas', (2088, 2092)), ('superiores', (2093, 2103)), ('y', (2104, 2105)), ('arteria', (2106, 2113)), ('##s', (2113, 2114)), ('cerebral', (2115, 2123)), ('##es', (2123, 2125)), ('posteriores', (2126, 2137)), ('.', (2137, 2138))]\n",
      "\n",
      "\n",
      "[('En', (2139, 2141)), ('la', (2142, 2144)), ('figura', (2145, 2151)), ('1', (2152, 2153)), ('se', (2154, 2156)), ('muestra', (2157, 2164)), ('una', (2165, 2168)), ('composición', (2169, 2180)), ('con', (2181, 2184)), ('la', (2185, 2187)), ('neu', (2188, 2191)), ('##roi', (2191, 2194)), ('##mage', (2194, 2198)), ('##n', (2198, 2199)), ('mas', (2200, 2203)), ('representa', (2204, 2214)), ('##tiva', (2214, 2218)), ('del', (2219, 2222)), ('caso', (2223, 2227)), ('.', (2227, 2228))]\n",
      "\n",
      "\n",
      "[('Tras', (2229, 2233)), ('el', (2234, 2236)), ('resultado', (2237, 2246)), ('de', (2247, 2249)), ('esta', (2250, 2254)), ('prueba', (2255, 2261)), ('se', (2262, 2264)), ('inicia', (2265, 2271)), ('tratamiento', (2272, 2283)), ('con', (2284, 2287)), ('ácido', (2288, 2293)), ('ac', (2294, 2296)), ('##eti', (2296, 2299)), ('##ls', (2299, 2301)), ('##ali', (2301, 2304)), ('##cí', (2304, 2306)), ('##lico', (2306, 2310)), ('a', (2311, 2312)), ('dos', (2313, 2316)), ('##is', (2316, 2318)), ('de', (2319, 2321)), ('100', (2322, 2325)), ('mg', (2326, 2328)), ('al', (2329, 2331)), ('día', (2332, 2335)), ('y', (2336, 2337)), ('se', (2338, 2340)), ('complet', (2341, 2348)), ('##ó', (2348, 2349)), ('el', (2350, 2352)), ('estudio', (2353, 2360)), ('et', (2361, 2363)), ('##iol', (2363, 2366)), ('##ógico', (2366, 2371)), ('del', (2372, 2375)), ('i', (2376, 2377)), ('##ctus', (2377, 2381)), ('con', (2382, 2385)), ('anal', (2386, 2390)), ('##ítica', (2390, 2395)), (',', (2395, 2396)), ('hem', (2397, 2400)), ('##og', (2400, 2402)), ('##rama', (2402, 2406)), (',', (2406, 2407)), ('li', (2408, 2410)), ('##pido', (2410, 2414)), ('##grama', (2414, 2419)), (',', (2419, 2420)), ('estudio', (2421, 2428)), ('de', (2429, 2431)), ('auto', (2432, 2436)), ('##in', (2436, 2438)), ('##mun', (2438, 2441)), ('##idad', (2441, 2445)), (',', (2445, 2446)), ('ser', (2447, 2450)), ('##ología', (2450, 2456)), (',', (2456, 2457)), ('ho', (2458, 2460)), ('##rmon', (2460, 2464)), ('##as', (2464, 2466)), ('tiro', (2467, 2471)), ('##idea', (2471, 2475)), ('##s', (2475, 2476)), (',', (2476, 2477)), ('homo', (2478, 2482)), ('##cist', (2482, 2486)), ('##ein', (2486, 2489)), ('##a', (2489, 2490)), (',', (2490, 2491)), ('antic', (2492, 2497)), ('##uer', (2497, 2500)), ('##pos', (2500, 2503)), ('antica', (2504, 2510)), ('##rdi', (2510, 2513)), ('##oli', (2513, 2516)), ('##pina', (2516, 2520)), (',', (2520, 2521)), ('B2', (2522, 2524)), ('-', (2524, 2525)), ('micro', (2525, 2530)), ('##glo', (2530, 2533)), ('##bul', (2533, 2536)), ('##ina', (2536, 2539)), (',', (2539, 2540)), ('anti', (2541, 2545)), ('##fos', (2545, 2548)), ('##fo', (2548, 2550)), ('##lí', (2550, 2552)), ('##pido', (2552, 2556)), (',', (2556, 2557)), ('estudio', (2558, 2565)), ('de', (2566, 2568)), ('líquido', (2569, 2576)), ('ce', (2577, 2579)), ('##fal', (2579, 2582)), ('##or', (2582, 2584)), ('##raq', (2584, 2587)), ('##u', (2587, 2588)), ('##íd', (2588, 2590)), ('##eo', (2590, 2592)), (',', (2592, 2593)), ('elect', (2594, 2599)), ('##roca', (2599, 2603)), ('##rdi', (2603, 2606)), ('##og', (2606, 2608)), ('##rama', (2608, 2612)), (',', (2612, 2613)), ('du', (2614, 2616)), ('##plex', (2616, 2620)), ('de', (2621, 2623)), ('tronco', (2624, 2630)), ('##s', (2630, 2631)), ('supra', (2632, 2637)), ('##ór', (2637, 2639)), ('##ticos', (2639, 2644)), (',', (2644, 2645)), ('do', (2646, 2648)), ('##pp', (2648, 2650)), ('##ler', (2650, 2653)), ('trans', (2654, 2659)), ('##cra', (2659, 2662)), ('##nea', (2662, 2665)), ('##l', (2665, 2666)), (',', (2666, 2667))]\n",
      "\n",
      "\n",
      "[('test', (2668, 2672)), ('de', (2673, 2675)), ('bu', (2676, 2678)), ('##rb', (2678, 2680)), ('##ujas', (2680, 2684)), (',', (2684, 2685)), ('e', (2686, 2687)), ('##co', (2687, 2689)), ('##card', (2689, 2693)), ('##io', (2693, 2695)), ('##grafía', (2695, 2701)), ('trans', (2702, 2707)), ('##tor', (2707, 2710)), ('##áci', (2710, 2713)), ('##ca', (2713, 2715)), (',', (2715, 2716)), ('holte', (2717, 2722)), ('##r', (2722, 2723)), ('de', (2724, 2726)), ('ar', (2727, 2729)), ('##rit', (2729, 2732)), ('##mia', (2732, 2735)), ('##s', (2735, 2736)), ('y', (2737, 2738)), ('ang', (2739, 2742)), ('##ior', (2742, 2745)), ('##eson', (2745, 2749)), ('##ancia', (2749, 2754)), ('de', (2755, 2757)), ('pol', (2758, 2761)), ('##íg', (2761, 2763)), ('##ono', (2763, 2766)), ('de', (2767, 2769)), ('Willis', (2770, 2776)), (';', (2776, 2777)), ('todas', (2778, 2783)), ('ellas', (2784, 2789)), ('con', (2790, 2793)), ('resultado', (2794, 2803)), ('normal', (2804, 2810)), ('o', (2811, 2812)), ('negativo', (2813, 2821)), ('.', (2821, 2822))]\n",
      "\n",
      "\n",
      "[('La', (2823, 2825)), ('ce', (2826, 2828)), ('##fal', (2828, 2831)), ('##ea', (2831, 2833)), ('respond', (2834, 2841)), ('##ió', (2841, 2843)), ('a', (2844, 2845)), ('la', (2846, 2848)), ('administración', (2849, 2863)), ('de', (2864, 2866)), ('de', (2867, 2869)), ('##xa', (2869, 2871)), ('##meta', (2871, 2875)), ('##sona', (2875, 2879)), ('en', (2880, 2882)), ('menos', (2883, 2888)), ('de', (2889, 2891)), ('48', (2892, 2894)), ('horas', (2895, 2900)), ('y', (2901, 2902)), ('la', (2903, 2905)), ('ofta', (2906, 2910)), ('##lm', (2910, 2912)), ('##opa', (2912, 2915)), ('##resi', (2915, 2919)), ('##a', (2919, 2920)), ('e', (2921, 2922)), ('in', (2923, 2925)), ('##esta', (2925, 2929)), ('##bilidad', (2929, 2936)), ('se', (2937, 2939)), ('reso', (2940, 2944)), ('##lv', (2944, 2946)), ('##ieron', (2946, 2951)), ('a', (2952, 2953)), ('los', (2954, 2957)), ('10', (2958, 2960)), ('días', (2961, 2965)), ('quedando', (2966, 2974)), ('la', (2975, 2977)), ('paciente', (2978, 2986)), ('asi', (2987, 2990)), ('##nto', (2990, 2993)), ('##mática', (2993, 2999)), ('.', (2999, 3000))]\n",
      "\n",
      "\n",
      "[('Se', (3001, 3003)), ('diagnostic', (3004, 3014)), ('##ó', (3014, 3015)), ('de', (3016, 3018)), ('in', (3019, 3021)), ('##far', (3021, 3024)), ('##to', (3024, 3026)), ('ai', (3027, 3029)), ('##sla', (3029, 3032)), ('##do', (3032, 3034)), ('ante', (3035, 3039)), ('##rome', (3039, 3043)), ('##dia', (3043, 3046)), ('##l', (3046, 3047)), ('mese', (3048, 3052)), ('##nce', (3052, 3055)), ('##f', (3055, 3056)), ('##áli', (3056, 3059)), ('##co', (3059, 3061)), ('posiblemente', (3062, 3074)), ('sec', (3075, 3078)), ('##unda', (3078, 3082)), ('##rio', (3082, 3085)), ('a', (3086, 3087)), ('vas', (3088, 3091)), ('##oes', (3091, 3094)), ('##pa', (3094, 3096)), ('##mo', (3096, 3098)), ('de', (3099, 3101)), ('arteria', (3102, 3109)), ('##s', (3109, 3110)), ('per', (3111, 3114)), ('##fora', (3114, 3118)), ('##ntes', (3118, 3122)), ('para', (3123, 3127)), ('##media', (3127, 3132)), ('##nas', (3132, 3135)), ('mese', (3136, 3140)), ('##nce', (3140, 3143)), ('##f', (3143, 3144)), ('##áli', (3144, 3147)), ('##cas', (3147, 3150)), ('en', (3151, 3153)), ('relación', (3154, 3162)), ('con', (3163, 3166)), ('la', (3167, 3169)), ('dis', (3170, 3173)), ('##emi', (3173, 3176)), ('##nación', (3176, 3182)), ('suba', (3183, 3187)), ('##rac', (3187, 3190)), ('##noi', (3190, 3193)), ('##dea', (3193, 3196)), ('del', (3197, 3200)), ('contenido', (3201, 3210)), ('gras', (3211, 3215)), ('##o', (3215, 3216)), ('de', (3217, 3219)), ('un', (3220, 3222)), ('qui', (3223, 3226)), ('##ste', (3226, 3229)), ('der', (3230, 3233)), ('##mo', (3233, 3235)), ('##ide', (3235, 3238)), ('temporal', (3239, 3247)), ('rot', (3248, 3251)), ('##o', (3251, 3252)), ('.', (3252, 3253))]\n",
      "\n",
      "\n",
      "[('De', (3254, 3256)), ('acuerdo', (3257, 3264)), ('con', (3265, 3268)), ('la', (3269, 3271)), ('paciente', (3272, 3280)), (',', (3280, 3281)), ('el', (3282, 3284)), ('servicio', (3285, 3293)), ('de', (3294, 3296)), ('Neu', (3297, 3300)), ('##roc', (3300, 3303)), ('##iru', (3303, 3306)), ('##gía', (3306, 3309)), ('decidió', (3310, 3317)), ('actitud', (3318, 3325)), ('ex', (3326, 3328)), ('##pect', (3328, 3332)), ('##ante', (3332, 3336)), ('y', (3337, 3338)), ('controle', (3339, 3347)), ('##s', (3347, 3348)), ('de', (3349, 3351)), ('neu', (3352, 3355)), ('##roi', (3355, 3358)), ('##mage', (3358, 3362)), ('##n', (3362, 3363)), ('seria', (3364, 3369)), ('##dos', (3369, 3372)), (',', (3372, 3373)), ('dejando', (3374, 3381)), ('la', (3382, 3384)), ('ci', (3385, 3387)), ('##rug', (3387, 3390)), ('##ía', (3390, 3392)), ('elect', (3393, 3398)), ('##iva', (3398, 3401)), ('para', (3402, 3406)), ('el', (3407, 3409)), ('caso', (3410, 3414)), ('de', (3415, 3417)), ('que', (3418, 3421)), ('apare', (3422, 3427)), ('##cier', (3427, 3431)), ('##a', (3431, 3432)), ('sin', (3433, 3436)), ('##toma', (3436, 3440)), ('##tol', (3440, 3443)), ('##ogía', (3443, 3447)), ('por', (3448, 3451)), ('com', (3452, 3455)), ('##presión', (3455, 3462)), ('tumor', (3463, 3468)), ('##al', (3468, 3470)), ('.', (3470, 3471))]\n",
      "\n",
      "\n"
     ]
    }
   ],
   "source": [
    "for i in range(check_id_frag, check_id_frag + dev_frag[check_id]):\n",
    "    print(list(zip([tokenizer._token_dict_inv[ind] for ind in dev_ind[i]][1:len(dev_start_end_frag[i])+1], \n",
    "               dev_start_end_frag[i])))\n",
    "    print(\"\\n\")"
   ]
  },
  {
   "cell_type": "code",
   "execution_count": 88,
   "metadata": {},
   "outputs": [
    {
     "name": "stdout",
     "output_type": "stream",
     "text": [
      "[CLS] Una mujer de 26 años sin ante ##cedent ##es neu ##rol ##ógicos pre ##vios , as ##mática y en tratamiento con antico ##nce ##pti ##vos oral ##es , presenta un cuadro de ce ##fal ##ea hol ##oc ##rane ##al muy intensa ac ##om ##pa ##ñada de foto ##fo ##bia , nau ##sea ##s y v ##óm ##itos sin fie ##bre de unas 24 horas de evolución , que se com ##pli ##ca a la mañana siguiente de forma sú ##bita con in ##esta ##bilidad para la marcha y di ##plo ##pia . [SEP] [PAD] [PAD] [PAD] [PAD] [PAD] [PAD] [PAD] [PAD] [PAD] [PAD] [PAD] [PAD] [PAD] [PAD] [PAD] [PAD] [PAD] [PAD] [PAD] [PAD] [PAD] [PAD] [PAD] [PAD] [PAD] [PAD] [PAD] [PAD] [PAD] [PAD] [PAD] [PAD] [PAD] [PAD] \n",
      "\n",
      "[CLS] A ##cud ##e a ur ##gen ##cias de nuestro centro ; en el examen neu ##rol ##ógico presenta disc ##reta ri ##gide ##z nu ##cal , ofta ##lm ##op ##lej ##ia intern ##uc ##lea ##r derecha , Rom ##berg tam ##bal ##ean ##te y later ##op ##ul ##sión izquierda en la marcha , siendo el resto normal . [SEP] [PAD] [PAD] [PAD] [PAD] [PAD] [PAD] [PAD] [PAD] [PAD] [PAD] [PAD] [PAD] [PAD] [PAD] [PAD] [PAD] [PAD] [PAD] [PAD] [PAD] [PAD] [PAD] [PAD] [PAD] [PAD] [PAD] [PAD] [PAD] [PAD] [PAD] [PAD] [PAD] [PAD] [PAD] [PAD] [PAD] [PAD] [PAD] [PAD] [PAD] [PAD] [PAD] [PAD] [PAD] [PAD] [PAD] [PAD] [PAD] [PAD] [PAD] [PAD] [PAD] [PAD] [PAD] [PAD] [PAD] [PAD] [PAD] [PAD] [PAD] [PAD] [PAD] [PAD] [PAD] [PAD] [PAD] [PAD] [PAD] \n",
      "\n",
      "[CLS] Se le práctica una tom ##ografía a ##xia ##l com ##put ##ari ##zada objet ##iv ##ándose una lesión con densidad negativa ( - 20 a - 67 Unidad ##es Ho ##uns ##field ) localizada en la región temporal así como múltiples imágenes ovu ##lares dis ##emi ##nada ##s por las ci ##stern ##as supra ##sel ##ares derecha ##s , cu ##ad ##rig ##ém ##inas bila ##teral ##es , án ##gulo ponto ##cere ##bel ##oso y asta frontal del vent ##rí ##culo lateral izquierdo que se interpreta ##n como partículas de gras ##a . [SEP] [PAD] [PAD] [PAD] [PAD] [PAD] [PAD] [PAD] [PAD] [PAD] [PAD] [PAD] [PAD] [PAD] [PAD] [PAD] [PAD] [PAD] [PAD] [PAD] [PAD] [PAD] [PAD] [PAD] [PAD] [PAD] [PAD] [PAD] [PAD] [PAD] [PAD] [PAD] [PAD] [PAD] \n",
      "\n",
      "[CLS] Con la sos ##pec ##ha de mening ##itis química por ruptura de qui ##ste der ##mo ##ide se inicia tratamiento con de ##xa ##meta ##sona a dos ##is de 4 mil ##ig ##ram ##os cada 12 horas . [SEP] [PAD] [PAD] [PAD] [PAD] [PAD] [PAD] [PAD] [PAD] [PAD] [PAD] [PAD] [PAD] [PAD] [PAD] [PAD] [PAD] [PAD] [PAD] [PAD] [PAD] [PAD] [PAD] [PAD] [PAD] [PAD] [PAD] [PAD] [PAD] [PAD] [PAD] [PAD] [PAD] [PAD] [PAD] [PAD] [PAD] [PAD] [PAD] [PAD] [PAD] [PAD] [PAD] [PAD] [PAD] [PAD] [PAD] [PAD] [PAD] [PAD] [PAD] [PAD] [PAD] [PAD] [PAD] [PAD] [PAD] [PAD] [PAD] [PAD] [PAD] [PAD] [PAD] [PAD] [PAD] [PAD] [PAD] [PAD] [PAD] [PAD] [PAD] [PAD] [PAD] [PAD] [PAD] [PAD] [PAD] [PAD] [PAD] [PAD] [PAD] [PAD] [PAD] [PAD] [PAD] [PAD] [PAD] [PAD] [PAD] \n",
      "\n",
      "[CLS] En la reso ##nan ##cia mag ##nética cerebral realizada a los seis días del inicio de los sí ##nto ##mas se observa la masa extra ##pare ##n ##qui ##mat ##osa correspondiente al qui ##ste en la región media ##l del polo temporal izquierdo que as ##cie ##nde ocupando la zona anterior de la ci ##stern ##a per ##imes ##ence ##f ##áli ##ca izquierda y dis ##emi ##nación de gras ##a en el espacio suba ##rac ##noi ##deo ; además se observa en la región para ##media ##l del mese ##ncé ##fal ##o una imagen hip ##erin ##tens ##a en la secuencia ##s potencia ##das en T2 que se muestra hip ##erin ##tens ##a en las secuencia ##s en difusión e hip ##oint ##ensa en el mapa [SEP] \n",
      "\n",
      "[CLS] de AD ##C compatible con un in ##far ##to is ##qué ##mico . [SEP] [PAD] [PAD] [PAD] [PAD] [PAD] [PAD] [PAD] [PAD] [PAD] [PAD] [PAD] [PAD] [PAD] [PAD] [PAD] [PAD] [PAD] [PAD] [PAD] [PAD] [PAD] [PAD] [PAD] [PAD] [PAD] [PAD] [PAD] [PAD] [PAD] [PAD] [PAD] [PAD] [PAD] [PAD] [PAD] [PAD] [PAD] [PAD] [PAD] [PAD] [PAD] [PAD] [PAD] [PAD] [PAD] [PAD] [PAD] [PAD] [PAD] [PAD] [PAD] [PAD] [PAD] [PAD] [PAD] [PAD] [PAD] [PAD] [PAD] [PAD] [PAD] [PAD] [PAD] [PAD] [PAD] [PAD] [PAD] [PAD] [PAD] [PAD] [PAD] [PAD] [PAD] [PAD] [PAD] [PAD] [PAD] [PAD] [PAD] [PAD] [PAD] [PAD] [PAD] [PAD] [PAD] [PAD] [PAD] [PAD] [PAD] [PAD] [PAD] [PAD] [PAD] [PAD] [PAD] [PAD] [PAD] [PAD] [PAD] [PAD] [PAD] [PAD] [PAD] [PAD] [PAD] [PAD] [PAD] [PAD] [PAD] [PAD] [PAD] [PAD] [PAD] \n",
      "\n",
      "[CLS] Se completa la reso ##nan ##cia con secuencia ##s en T1 y E ##G ##D con su ##presión gras ##a tras administración de ga ##dol ##inio ob ##ser ##ván ##dose las pequeñas partículas de gras ##a dis ##emi ##nada ##s en el espacio suba ##rac ##noi ##deo ; llama la atención el ac ##ú ##mul ##o gras ##o en la ci ##stern ##a inter ##ped ##uncu ##lar en í ##nti ##mo contacto con la parte dis ##tal de la basi ##lar y la salida te ##órica de las ramas per ##fora ##ntes media ##les mese ##nce ##f ##áli ##cas , arteria ##s ce ##re ##bel ##osas superiores y arteria ##s cerebral ##es posteriores . [SEP] [PAD] [PAD] [PAD] [PAD] [PAD] [PAD] [PAD] [PAD] [PAD] [PAD] [PAD] [PAD] \n",
      "\n",
      "[CLS] En la figura 1 se muestra una composición con la neu ##roi ##mage ##n mas representa ##tiva del caso . [SEP] [PAD] [PAD] [PAD] [PAD] [PAD] [PAD] [PAD] [PAD] [PAD] [PAD] [PAD] [PAD] [PAD] [PAD] [PAD] [PAD] [PAD] [PAD] [PAD] [PAD] [PAD] [PAD] [PAD] [PAD] [PAD] [PAD] [PAD] [PAD] [PAD] [PAD] [PAD] [PAD] [PAD] [PAD] [PAD] [PAD] [PAD] [PAD] [PAD] [PAD] [PAD] [PAD] [PAD] [PAD] [PAD] [PAD] [PAD] [PAD] [PAD] [PAD] [PAD] [PAD] [PAD] [PAD] [PAD] [PAD] [PAD] [PAD] [PAD] [PAD] [PAD] [PAD] [PAD] [PAD] [PAD] [PAD] [PAD] [PAD] [PAD] [PAD] [PAD] [PAD] [PAD] [PAD] [PAD] [PAD] [PAD] [PAD] [PAD] [PAD] [PAD] [PAD] [PAD] [PAD] [PAD] [PAD] [PAD] [PAD] [PAD] [PAD] [PAD] [PAD] [PAD] [PAD] [PAD] [PAD] [PAD] [PAD] [PAD] [PAD] [PAD] [PAD] [PAD] [PAD] [PAD] [PAD] \n",
      "\n",
      "[CLS] Tras el resultado de esta prueba se inicia tratamiento con ácido ac ##eti ##ls ##ali ##cí ##lico a dos ##is de 100 mg al día y se complet ##ó el estudio et ##iol ##ógico del i ##ctus con anal ##ítica , hem ##og ##rama , li ##pido ##grama , estudio de auto ##in ##mun ##idad , ser ##ología , ho ##rmon ##as tiro ##idea ##s , homo ##cist ##ein ##a , antic ##uer ##pos antica ##rdi ##oli ##pina , B2 - micro ##glo ##bul ##ina , anti ##fos ##fo ##lí ##pido , estudio de líquido ce ##fal ##or ##raq ##u ##íd ##eo , elect ##roca ##rdi ##og ##rama , du ##plex de tronco ##s supra ##ór ##ticos , do ##pp ##ler trans ##cra ##nea ##l , [SEP] \n",
      "\n",
      "[CLS] test de bu ##rb ##ujas , e ##co ##card ##io ##grafía trans ##tor ##áci ##ca , holte ##r de ar ##rit ##mia ##s y ang ##ior ##eson ##ancia de pol ##íg ##ono de Willis ; todas ellas con resultado normal o negativo . [SEP] [PAD] [PAD] [PAD] [PAD] [PAD] [PAD] [PAD] [PAD] [PAD] [PAD] [PAD] [PAD] [PAD] [PAD] [PAD] [PAD] [PAD] [PAD] [PAD] [PAD] [PAD] [PAD] [PAD] [PAD] [PAD] [PAD] [PAD] [PAD] [PAD] [PAD] [PAD] [PAD] [PAD] [PAD] [PAD] [PAD] [PAD] [PAD] [PAD] [PAD] [PAD] [PAD] [PAD] [PAD] [PAD] [PAD] [PAD] [PAD] [PAD] [PAD] [PAD] [PAD] [PAD] [PAD] [PAD] [PAD] [PAD] [PAD] [PAD] [PAD] [PAD] [PAD] [PAD] [PAD] [PAD] [PAD] [PAD] [PAD] [PAD] [PAD] [PAD] [PAD] [PAD] [PAD] [PAD] [PAD] [PAD] [PAD] [PAD] [PAD] [PAD] [PAD] [PAD] \n",
      "\n",
      "[CLS] La ce ##fal ##ea respond ##ió a la administración de de ##xa ##meta ##sona en menos de 48 horas y la ofta ##lm ##opa ##resi ##a e in ##esta ##bilidad se reso ##lv ##ieron a los 10 días quedando la paciente asi ##nto ##mática . [SEP] [PAD] [PAD] [PAD] [PAD] [PAD] [PAD] [PAD] [PAD] [PAD] [PAD] [PAD] [PAD] [PAD] [PAD] [PAD] [PAD] [PAD] [PAD] [PAD] [PAD] [PAD] [PAD] [PAD] [PAD] [PAD] [PAD] [PAD] [PAD] [PAD] [PAD] [PAD] [PAD] [PAD] [PAD] [PAD] [PAD] [PAD] [PAD] [PAD] [PAD] [PAD] [PAD] [PAD] [PAD] [PAD] [PAD] [PAD] [PAD] [PAD] [PAD] [PAD] [PAD] [PAD] [PAD] [PAD] [PAD] [PAD] [PAD] [PAD] [PAD] [PAD] [PAD] [PAD] [PAD] [PAD] [PAD] [PAD] [PAD] [PAD] [PAD] [PAD] [PAD] [PAD] [PAD] [PAD] [PAD] [PAD] [PAD] [PAD] [PAD] [PAD] \n",
      "\n",
      "[CLS] Se diagnostic ##ó de in ##far ##to ai ##sla ##do ante ##rome ##dia ##l mese ##nce ##f ##áli ##co posiblemente sec ##unda ##rio a vas ##oes ##pa ##mo de arteria ##s per ##fora ##ntes para ##media ##nas mese ##nce ##f ##áli ##cas en relación con la dis ##emi ##nación suba ##rac ##noi ##dea del contenido gras ##o de un qui ##ste der ##mo ##ide temporal rot ##o . [SEP] [PAD] [PAD] [PAD] [PAD] [PAD] [PAD] [PAD] [PAD] [PAD] [PAD] [PAD] [PAD] [PAD] [PAD] [PAD] [PAD] [PAD] [PAD] [PAD] [PAD] [PAD] [PAD] [PAD] [PAD] [PAD] [PAD] [PAD] [PAD] [PAD] [PAD] [PAD] [PAD] [PAD] [PAD] [PAD] [PAD] [PAD] [PAD] [PAD] [PAD] [PAD] [PAD] [PAD] [PAD] [PAD] [PAD] [PAD] [PAD] [PAD] [PAD] [PAD] [PAD] [PAD] [PAD] [PAD] [PAD] [PAD] [PAD] \n",
      "\n",
      "[CLS] De acuerdo con la paciente , el servicio de Neu ##roc ##iru ##gía decidió actitud ex ##pect ##ante y controle ##s de neu ##roi ##mage ##n seria ##dos , dejando la ci ##rug ##ía elect ##iva para el caso de que apare ##cier ##a sin ##toma ##tol ##ogía por com ##presión tumor ##al . [SEP] [PAD] [PAD] [PAD] [PAD] [PAD] [PAD] [PAD] [PAD] [PAD] [PAD] [PAD] [PAD] [PAD] [PAD] [PAD] [PAD] [PAD] [PAD] [PAD] [PAD] [PAD] [PAD] [PAD] [PAD] [PAD] [PAD] [PAD] [PAD] [PAD] [PAD] [PAD] [PAD] [PAD] [PAD] [PAD] [PAD] [PAD] [PAD] [PAD] [PAD] [PAD] [PAD] [PAD] [PAD] [PAD] [PAD] [PAD] [PAD] [PAD] [PAD] [PAD] [PAD] [PAD] [PAD] [PAD] [PAD] [PAD] [PAD] [PAD] [PAD] [PAD] [PAD] [PAD] [PAD] [PAD] [PAD] [PAD] [PAD] [PAD] [PAD] [PAD] [PAD] \n",
      "\n"
     ]
    }
   ],
   "source": [
    "check_id_frag = sum(dev_frag[:check_id])\n",
    "for frag in dev_ind[check_id_frag:check_id_frag + dev_frag[check_id]]:\n",
    "    print(' '.join([tokenizer._token_dict_inv[ind] for ind in frag]), \"\\n\")"
   ]
  },
  {
   "cell_type": "code",
   "execution_count": 89,
   "metadata": {},
   "outputs": [
    {
     "data": {
      "text/plain": [
       "count    3808.000000\n",
       "mean        0.309086\n",
       "std         0.637504\n",
       "min         0.000000\n",
       "25%         0.000000\n",
       "50%         0.000000\n",
       "75%         0.000000\n",
       "max         5.000000\n",
       "dtype: float64"
      ]
     },
     "execution_count": 89,
     "metadata": {},
     "output_type": "execute_result"
    }
   ],
   "source": [
    "# Fragment labels distribution\n",
    "pd.Series(np.sum(dev_y, axis=1)).describe()"
   ]
  },
  {
   "cell_type": "markdown",
   "metadata": {},
   "source": [
    "### Training & Development corpus\n",
    "\n",
    "We merge the previously generated datasets:"
   ]
  },
  {
   "cell_type": "code",
   "execution_count": 90,
   "metadata": {},
   "outputs": [],
   "source": [
    "# Indices\n",
    "train_dev_ind = np.concatenate((train_ind, dev_ind))"
   ]
  },
  {
   "cell_type": "code",
   "execution_count": 91,
   "metadata": {},
   "outputs": [
    {
     "data": {
      "text/plain": [
       "(10833, 128)"
      ]
     },
     "execution_count": 91,
     "metadata": {},
     "output_type": "execute_result"
    }
   ],
   "source": [
    "train_dev_ind.shape"
   ]
  },
  {
   "cell_type": "code",
   "execution_count": 92,
   "metadata": {},
   "outputs": [],
   "source": [
    "# Segments\n",
    "train_dev_seg = np.concatenate((train_seg, dev_seg))"
   ]
  },
  {
   "cell_type": "code",
   "execution_count": 93,
   "metadata": {},
   "outputs": [
    {
     "data": {
      "text/plain": [
       "(10833, 128)"
      ]
     },
     "execution_count": 93,
     "metadata": {},
     "output_type": "execute_result"
    }
   ],
   "source": [
    "train_dev_seg.shape"
   ]
  },
  {
   "cell_type": "code",
   "execution_count": 94,
   "metadata": {},
   "outputs": [],
   "source": [
    "# y\n",
    "train_dev_y = np.concatenate((train_y, dev_y))"
   ]
  },
  {
   "cell_type": "code",
   "execution_count": 95,
   "metadata": {},
   "outputs": [
    {
     "data": {
      "text/plain": [
       "(10833, 727)"
      ]
     },
     "execution_count": 95,
     "metadata": {},
     "output_type": "execute_result"
    }
   ],
   "source": [
    "train_dev_y.shape"
   ]
  },
  {
   "cell_type": "markdown",
   "metadata": {},
   "source": [
    "## Fine-tuning\n",
    "\n",
    "Using the corpus of labeled sentences, we fine-tune the model on a multi-label sentence classification task."
   ]
  },
  {
   "cell_type": "code",
   "execution_count": 96,
   "metadata": {},
   "outputs": [],
   "source": [
    "from keras.backend.tensorflow_backend import set_session\n",
    "\n",
    "# Prevent GPU memory allocation problems\n",
    "config = tf.ConfigProto()\n",
    "config.gpu_options.allow_growth = True\n",
    "set_session(tf.Session(config=config))"
   ]
  },
  {
   "cell_type": "code",
   "execution_count": null,
   "metadata": {},
   "outputs": [],
   "source": [
    "from keras_bert import load_trained_model_from_checkpoint\n",
    "\n",
    "bert_model = load_trained_model_from_checkpoint(\n",
    "    config_file=config_path, \n",
    "    checkpoint_file=checkpoint_path, \n",
    "    training=training,                                       \n",
    "    trainable=trainable, \n",
    "    seq_len=SEQ_LEN\n",
    ")"
   ]
  },
  {
   "cell_type": "code",
   "execution_count": 99,
   "metadata": {},
   "outputs": [
    {
     "name": "stdout",
     "output_type": "stream",
     "text": [
      "Model: \"tfxlm_roberta_for_sequence_classification\"\n",
      "_________________________________________________________________\n",
      "Layer (type)                 Output Shape              Param #   \n",
      "=================================================================\n",
      "roberta (TFRobertaMainLayer) multiple                  277453056 \n",
      "_________________________________________________________________\n",
      "classifier (TFRobertaClassif multiple                  592130    \n",
      "=================================================================\n",
      "Total params: 278,045,186\n",
      "Trainable params: 278,045,186\n",
      "Non-trainable params: 0\n",
      "_________________________________________________________________\n"
     ]
    }
   ],
   "source": [
    "model.summary()"
   ]
  },
  {
   "cell_type": "code",
   "execution_count": 100,
   "metadata": {},
   "outputs": [
    {
     "data": {
      "text/plain": [
       "[<transformers.models.roberta.modeling_tf_roberta.TFRobertaMainLayer at 0x7f4c78857090>,\n",
       " <transformers.models.roberta.modeling_tf_roberta.TFRobertaClassificationHead at 0x7f4c494b8650>]"
      ]
     },
     "execution_count": 100,
     "metadata": {},
     "output_type": "execute_result"
    }
   ],
   "source": [
    "model.layers"
   ]
  },
  {
   "cell_type": "code",
   "execution_count": 101,
   "metadata": {},
   "outputs": [],
   "source": [
    "from tensorflow.keras import Input, Model\n",
    "from tensorflow.keras.layers import Dense, Activation\n",
    "from tensorflow.keras.initializers import GlorotUniform\n",
    "\n",
    "input_ids = Input(shape=(SEQ_LEN,), name='input_ids', dtype='int64')\n",
    "attention_mask = Input(shape=(SEQ_LEN,), name='attention_mask', dtype='int64')\n",
    "inputs = [input_ids, attention_mask]\n",
    "\n",
    "cls_token = model.layers[0](input_ids=inputs[0], attention_mask=inputs[1])[0][:, 0, :] # take <s> token output representation (equiv. to [CLS]) \n",
    "out_logits = Dense(units=num_labels, kernel_initializer=GlorotUniform(seed=random_seed))(cls_token) # Multi-label classification\n",
    "out_act = Activation('sigmoid')(out_logits)\n",
    "\n",
    "model = Model(inputs=[input_ids, attention_mask], outputs=out_act)"
   ]
  },
  {
   "cell_type": "code",
   "execution_count": 102,
   "metadata": {},
   "outputs": [
    {
     "name": "stdout",
     "output_type": "stream",
     "text": [
      "Model: \"model\"\n",
      "__________________________________________________________________________________________________\n",
      "Layer (type)                    Output Shape         Param #     Connected to                     \n",
      "==================================================================================================\n",
      "input_ids (InputLayer)          [(None, 128)]        0                                            \n",
      "__________________________________________________________________________________________________\n",
      "attention_mask (InputLayer)     [(None, 128)]        0                                            \n",
      "__________________________________________________________________________________________________\n",
      "roberta (TFRobertaMainLayer)    TFBaseModelOutputWit 277453056   input_ids[0][0]                  \n",
      "__________________________________________________________________________________________________\n",
      "tf_op_layer_strided_slice (Tens [(None, 768)]        0           roberta[0][0]                    \n",
      "__________________________________________________________________________________________________\n",
      "dense (Dense)                   (None, 727)          559063      tf_op_layer_strided_slice[0][0]  \n",
      "__________________________________________________________________________________________________\n",
      "activation_4 (Activation)       (None, 727)          0           dense[0][0]                      \n",
      "==================================================================================================\n",
      "Total params: 278,012,119\n",
      "Trainable params: 278,012,119\n",
      "Non-trainable params: 0\n",
      "__________________________________________________________________________________________________\n"
     ]
    }
   ],
   "source": [
    "model.summary()"
   ]
  },
  {
   "cell_type": "code",
   "execution_count": 103,
   "metadata": {},
   "outputs": [
    {
     "data": {
      "text/plain": [
       "[<tf.Tensor 'input_ids:0' shape=(None, 128) dtype=int64>,\n",
       " <tf.Tensor 'attention_mask:0' shape=(None, 128) dtype=int64>]"
      ]
     },
     "execution_count": 103,
     "metadata": {},
     "output_type": "execute_result"
    }
   ],
   "source": [
    "model.input"
   ]
  },
  {
   "cell_type": "code",
   "execution_count": 104,
   "metadata": {},
   "outputs": [
    {
     "data": {
      "text/plain": [
       "<tf.Tensor 'activation_4/Identity:0' shape=(None, 727) dtype=float32>"
      ]
     },
     "execution_count": 104,
     "metadata": {},
     "output_type": "execute_result"
    }
   ],
   "source": [
    "model.output"
   ]
  },
  {
   "cell_type": "code",
   "execution_count": null,
   "metadata": {},
   "outputs": [
    {
     "name": "stdout",
     "output_type": "stream",
     "text": [
      "Epoch 1/41\n",
      "676/676 [==============================] - 172s 255ms/step - loss: 0.2379\n",
      "Epoch 2/41\n",
      "676/676 [==============================] - 174s 257ms/step - loss: 0.0208\n",
      "Epoch 3/41\n",
      "676/676 [==============================] - 174s 257ms/step - loss: 0.0075\n",
      "Epoch 4/41\n",
      "676/676 [==============================] - 174s 257ms/step - loss: 0.0048\n",
      "Epoch 5/41\n",
      "676/676 [==============================] - 174s 257ms/step - loss: 0.0040\n",
      "Epoch 6/41\n",
      "676/676 [==============================] - 174s 257ms/step - loss: 0.0036\n",
      "Epoch 7/41\n",
      "676/676 [==============================] - 174s 258ms/step - loss: 0.0034\n",
      "Epoch 8/41\n",
      "676/676 [==============================] - 174s 258ms/step - loss: 0.0032\n",
      "Epoch 9/41\n",
      "676/676 [==============================] - 174s 258ms/step - loss: 0.0031\n",
      "Epoch 10/41\n",
      "676/676 [==============================] - 174s 258ms/step - loss: 0.0029\n",
      "Epoch 11/41\n",
      "676/676 [==============================] - 174s 258ms/step - loss: 0.0027\n",
      "Epoch 12/41\n",
      "676/676 [==============================] - 174s 258ms/step - loss: 0.0026\n",
      "Epoch 13/41\n",
      "676/676 [==============================] - 174s 258ms/step - loss: 0.0024\n",
      "Epoch 14/41\n",
      "676/676 [==============================] - 174s 258ms/step - loss: 0.0023\n",
      "Epoch 15/41\n",
      "676/676 [==============================] - 174s 258ms/step - loss: 0.0023\n",
      "Epoch 16/41\n",
      "676/676 [==============================] - 174s 258ms/step - loss: 0.0034\n",
      "Epoch 17/41\n",
      "456/676 [===================>..........] - ETA: 56s - loss: 0.0034"
     ]
    }
   ],
   "source": [
    "%%time\n",
    "from tensorflow.keras import optimizers, losses\n",
    "import tensorflow_addons as tfa\n",
    "\n",
    "optimizer = tfa.optimizers.RectifiedAdam(learning_rate=LR)\n",
    "loss = losses.BinaryCrossentropy(from_logits=False)\n",
    "model.compile(optimizer=optimizer, loss=loss)\n",
    "\n",
    "history = model.fit(x={'input_ids': train_dev_ind, 'attention_mask': train_dev_att}, y=train_dev_y,\n",
    "          batch_size=BATCH_SIZE, epochs=EPOCHS, shuffle=True)"
   ]
  },
  {
   "cell_type": "markdown",
   "metadata": {},
   "source": [
    "## Test set predictions\n",
    "\n",
    "Finally, the predictions made by the model on the test set are saved. For this purpose, firstly, each sentence from the test corpus must be converted into a sequence of subwords (input IDs and attention mask arrays). Then, the predictions made by the model at the sentence-level are saved, to be further evaluated at document-level (see `results/CodiEsp-P/Evaluation.ipynb`)."
   ]
  },
  {
   "cell_type": "code",
   "execution_count": 98,
   "metadata": {},
   "outputs": [
    {
     "name": "stdout",
     "output_type": "stream",
     "text": [
      "CPU times: user 6.74 ms, sys: 0 ns, total: 6.74 ms\n",
      "Wall time: 6.07 ms\n"
     ]
    }
   ],
   "source": [
    "%%time\n",
    "test_path = corpus_path + \"test/text_files/\"\n",
    "test_files = [f for f in os.listdir(test_path) if os.path.isfile(test_path + f)]\n",
    "test_data = load_text_files(test_files, test_path)\n",
    "df_text_test = pd.DataFrame({'doc_id': [s.split('.txt')[0] for s in test_files], 'raw_text': test_data})"
   ]
  },
  {
   "cell_type": "code",
   "execution_count": 99,
   "metadata": {},
   "outputs": [
    {
     "data": {
      "text/plain": [
       "(250, 2)"
      ]
     },
     "execution_count": 99,
     "metadata": {},
     "output_type": "execute_result"
    }
   ],
   "source": [
    "df_text_test.shape"
   ]
  },
  {
   "cell_type": "code",
   "execution_count": 100,
   "metadata": {},
   "outputs": [
    {
     "data": {
      "text/html": [
       "<div>\n",
       "<style scoped>\n",
       "    .dataframe tbody tr th:only-of-type {\n",
       "        vertical-align: middle;\n",
       "    }\n",
       "\n",
       "    .dataframe tbody tr th {\n",
       "        vertical-align: top;\n",
       "    }\n",
       "\n",
       "    .dataframe thead th {\n",
       "        text-align: right;\n",
       "    }\n",
       "</style>\n",
       "<table border=\"1\" class=\"dataframe\">\n",
       "  <thead>\n",
       "    <tr style=\"text-align: right;\">\n",
       "      <th></th>\n",
       "      <th>doc_id</th>\n",
       "      <th>raw_text</th>\n",
       "    </tr>\n",
       "  </thead>\n",
       "  <tbody>\n",
       "    <tr>\n",
       "      <th>0</th>\n",
       "      <td>S0365-66912007000900014-1</td>\n",
       "      <td>Paciente varón de 34 años de edad diagnosticad...</td>\n",
       "    </tr>\n",
       "    <tr>\n",
       "      <th>1</th>\n",
       "      <td>S0211-69952014000200012-1</td>\n",
       "      <td>Un varón de 48 años, de raza caucásica, con IR...</td>\n",
       "    </tr>\n",
       "    <tr>\n",
       "      <th>2</th>\n",
       "      <td>S1139-76322017000200009-1</td>\n",
       "      <td>Presentamos el caso clínico de un niño de cinc...</td>\n",
       "    </tr>\n",
       "    <tr>\n",
       "      <th>3</th>\n",
       "      <td>S0210-48062010000100019-1</td>\n",
       "      <td>Paciente varón de 53 años, diagnosticado de es...</td>\n",
       "    </tr>\n",
       "    <tr>\n",
       "      <th>4</th>\n",
       "      <td>S1130-14732005000500006-1</td>\n",
       "      <td>Se trata de un varón de 20 años diagnosticado ...</td>\n",
       "    </tr>\n",
       "  </tbody>\n",
       "</table>\n",
       "</div>"
      ],
      "text/plain": [
       "                      doc_id  \\\n",
       "0  S0365-66912007000900014-1   \n",
       "1  S0211-69952014000200012-1   \n",
       "2  S1139-76322017000200009-1   \n",
       "3  S0210-48062010000100019-1   \n",
       "4  S1130-14732005000500006-1   \n",
       "\n",
       "                                            raw_text  \n",
       "0  Paciente varón de 34 años de edad diagnosticad...  \n",
       "1  Un varón de 48 años, de raza caucásica, con IR...  \n",
       "2  Presentamos el caso clínico de un niño de cinc...  \n",
       "3  Paciente varón de 53 años, diagnosticado de es...  \n",
       "4  Se trata de un varón de 20 años diagnosticado ...  "
      ]
     },
     "execution_count": 100,
     "metadata": {},
     "output_type": "execute_result"
    }
   ],
   "source": [
    "df_text_test.head()"
   ]
  },
  {
   "cell_type": "code",
   "execution_count": 101,
   "metadata": {},
   "outputs": [
    {
     "data": {
      "text/plain": [
       "'Paciente varón de 34 años de edad diagnosticado de varicela tres semanas antes ya resuelta sin complicaciones. Acude a urgencias por presentar disminución de agudeza visual en su ojo izquierdo.\\nEn la exploración oftalmológica presenta una agudeza visual corregida de 1 en el ojo derecho (OD) y de 0,6 en el ojo izquierdo (OI). El estudio con lámpara de hendidura demuestra en el OI un tyndall celular de 4+, precipitados queráticos inferiores (3+) y sin presentar la cornea tinción con fluoresceína, siendo normal el OD. La presión intraocular fue de 16mmHg en ambos ojos.\\nEn la exploración fundoscópica inicial del OI se aprecia leve vitritis (1+) sin focos de retinitis.\\nSe instaura tratamiento tópico con corticoides y midriáticos. A los 2 días se observa leve disminución del tyndall celular (3+) en cámara anterior pero en fondo de ojo aparece un foco periférico de retinitis necrotizante en el área temporal asociado a vasculitis retiniana.\\nSe ingresa al paciente y se instaura tratamiento con aciclovir intravenoso (10 mgr/kg/8 horas), antiagregación (ácido acetilsalicílico 150 mgr/24 horas) y se mantiene el tratamiento tópico. Asimismo se realiza fotocoagulación profiláctica con láser de argón rodeando la zona de necrosis retiniana.\\n\\nA las 48 horas y previa comprobación de una buena respuesta con disminución del foco de retinitis, se introducen corticoides sistémicos a dosis de 1 mg/kg/d, presentando una rápida mejoría de la agudeza visual, con disminución de la vitritis y menor tamaño del foco de retinitis. A las 2 semanas se pasa a vía oral el tratamiento antiviral (famciclovir 500 mgr/12 horas) y se inicia un descenso de corticoides de manera gradual a razón de 10 mgr cada semana. Se continúa con el tratamiento antiviral a dosis de mantenimiento durante 6 semanas, realizando controles analíticos periódicos hemograma y bioquímica para detectar afectación renal.\\nTras 6 meses del comienzo del cuadro, el paciente continúa asintomático, con una agudeza visual de unidad en OI, cicatrización de las lesiones retinianas y ausencia completa de actividad inflamatoria ocular en ambos ojos.\\nDurante el ingreso se constató la infección reciente por el virus varicela zoster mediante seroconversión.\\n\\n'"
      ]
     },
     "execution_count": 101,
     "metadata": {},
     "output_type": "execute_result"
    }
   ],
   "source": [
    "df_text_test.raw_text[0]"
   ]
  },
  {
   "cell_type": "code",
   "execution_count": 102,
   "metadata": {},
   "outputs": [],
   "source": [
    "test_doc_list = sorted(set(df_text_test[\"doc_id\"]))"
   ]
  },
  {
   "cell_type": "code",
   "execution_count": 103,
   "metadata": {},
   "outputs": [
    {
     "data": {
      "text/plain": [
       "250"
      ]
     },
     "execution_count": 103,
     "metadata": {},
     "output_type": "execute_result"
    }
   ],
   "source": [
    "len(test_doc_list)"
   ]
  },
  {
   "cell_type": "code",
   "execution_count": 111,
   "metadata": {},
   "outputs": [
    {
     "name": "stdout",
     "output_type": "stream",
     "text": [
      "CPU times: user 34.7 ms, sys: 0 ns, total: 34.7 ms\n",
      "Wall time: 34.1 ms\n"
     ]
    }
   ],
   "source": [
    "%%time\n",
    "ss_sub_corpus_path = ss_corpus_path + \"test/\"\n",
    "ss_files = [f for f in os.listdir(ss_sub_corpus_path) if os.path.isfile(ss_sub_corpus_path + f)]\n",
    "ss_dict_test = load_ss_files(ss_files, ss_sub_corpus_path)"
   ]
  },
  {
   "cell_type": "code",
   "execution_count": 112,
   "metadata": {},
   "outputs": [
    {
     "name": "stderr",
     "output_type": "stream",
     "text": [
      "100%|██████████| 250/250 [00:00<00:00, 279.35it/s]\n"
     ]
    },
    {
     "name": "stdout",
     "output_type": "stream",
     "text": [
      "CPU times: user 956 ms, sys: 12.4 ms, total: 968 ms\n",
      "Wall time: 951 ms\n"
     ]
    }
   ],
   "source": [
    "%%time\n",
    "test_ind, test_att, _, test_frag, _ = ss_create_frag_input_data_xlmr(df_text=df_text_test, \n",
    "                                                  text_col=text_col,\n",
    "                                                  # Since labels are ignored, we pass df_codes_train_ner as df_ann\n",
    "                                                  df_ann=df_codes_train_ner, doc_list=test_doc_list, ss_dict=ss_dict_test,\n",
    "                                                  tokenizer=tokenizer, sp_pb2=spt, lab_encoder=mlb_encoder, seq_len=SEQ_LEN)"
   ]
  },
  {
   "cell_type": "code",
   "execution_count": 113,
   "metadata": {},
   "outputs": [
    {
     "name": "stdout",
     "output_type": "stream",
     "text": [
      "CPU times: user 14.9 s, sys: 1.68 s, total: 16.6 s\n",
      "Wall time: 16.9 s\n"
     ]
    }
   ],
   "source": [
    "%%time\n",
    "test_preds = model.predict({'input_ids': test_ind, 'attention_mask': test_att})"
   ]
  },
  {
   "cell_type": "code",
   "execution_count": 114,
   "metadata": {},
   "outputs": [
    {
     "data": {
      "text/plain": [
       "(3950, 727)"
      ]
     },
     "execution_count": 114,
     "metadata": {},
     "output_type": "execute_result"
    }
   ],
   "source": [
    "test_preds.shape"
   ]
  },
  {
   "cell_type": "code",
   "execution_count": 104,
   "metadata": {},
   "outputs": [],
   "source": [
    "results_dir_path = \"../results/CodiEsp-P/\""
   ]
  },
  {
   "cell_type": "code",
   "execution_count": 178,
   "metadata": {},
   "outputs": [
    {
     "name": "stdout",
     "output_type": "stream",
     "text": [
      "CPU times: user 2.21 ms, sys: 4.65 ms, total: 6.87 ms\n",
      "Wall time: 6.02 ms\n"
     ]
    }
   ],
   "source": [
    "%%time\n",
    "np.save(file=results_dir_path + \"predictions/mbert_seed_\" + str(random_seed) + \"_test_preds.npy\", arr=test_preds)"
   ]
  },
  {
   "cell_type": "code",
   "execution_count": 111,
   "metadata": {},
   "outputs": [],
   "source": [
    "# To be further used when evaluating model performance at document level\n",
    "np.save(file=results_dir_path + \"mbert_test_frags.npy\", arr=test_frag)"
   ]
  }
 ],
 "metadata": {
  "kernelspec": {
   "display_name": "Python 3",
   "language": "python",
   "name": "python3"
  },
  "language_info": {
   "codemirror_mode": {
    "name": "ipython",
    "version": 3
   },
   "file_extension": ".py",
   "mimetype": "text/x-python",
   "name": "python",
   "nbconvert_exporter": "python",
   "pygments_lexer": "ipython3",
   "version": "3.6.5"
  }
 },
 "nbformat": 4,
 "nbformat_minor": 4
}
