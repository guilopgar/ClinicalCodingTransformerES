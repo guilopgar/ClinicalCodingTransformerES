{
 "cells": [
  {
   "cell_type": "markdown",
   "metadata": {},
   "source": [
    "# Fine-tuning mBERT on CodiEsp-P\n",
    "\n",
    "In this notebook, following a multi-label sequence classification approach, the mBERT model is fine-tuned on both the training and development sets of the CodiEsp-P corpus. Additionally, the predictions made by the model on the test set are saved, in order to futher evaluate the clinical coding performance of the model (see `results/CodiEsp-P/Evaluation.ipynb`)."
   ]
  },
  {
   "cell_type": "code",
   "execution_count": 1,
   "metadata": {},
   "outputs": [
    {
     "name": "stderr",
     "output_type": "stream",
     "text": [
      "Using TensorFlow backend.\n"
     ]
    }
   ],
   "source": [
    "import tensorflow as tf\n",
    "\n",
    "# Auxiliary components\n",
    "import sys\n",
    "sys.path.append(\"..\")\n",
    "from nlp_utils import *\n",
    "\n",
    "# mBERT tokenizer\n",
    "from keras_bert import load_vocabulary, Tokenizer\n",
    "model_path = \"multi_cased_L-12_H-768_A-12/\"\n",
    "config_path = model_path + \"bert_config.json\"\n",
    "checkpoint_path = model_path + \"bert_model.ckpt\"\n",
    "vocab_file = \"vocab.txt\"\n",
    "tokenizer = Tokenizer(token_dict=load_vocabulary(model_path + vocab_file), pad_index=0, cased=True)\n",
    "\n",
    "# Hyper-parameters\n",
    "text_col = \"raw_text\"\n",
    "training = False\n",
    "trainable = True\n",
    "SEQ_LEN = 128\n",
    "BATCH_SIZE = 16\n",
    "EPOCHS = 30\n",
    "LR = 3e-5\n",
    "\n",
    "random_seed = 0\n",
    "tf.set_random_seed(random_seed)"
   ]
  },
  {
   "cell_type": "markdown",
   "metadata": {},
   "source": [
    "## Load text\n",
    "\n",
    "Firstly, all text files from training and development CodiEsp corpora are loaded in different dataframes.\n",
    "\n",
    "Also, CIE-Procedimiento codes are loaded."
   ]
  },
  {
   "cell_type": "code",
   "execution_count": 2,
   "metadata": {},
   "outputs": [],
   "source": [
    "corpus_path = \"../datasets/codiesp_v4/\""
   ]
  },
  {
   "cell_type": "markdown",
   "metadata": {},
   "source": [
    "### Training corpus"
   ]
  },
  {
   "cell_type": "code",
   "execution_count": 3,
   "metadata": {},
   "outputs": [
    {
     "name": "stdout",
     "output_type": "stream",
     "text": [
      "CPU times: user 5.81 ms, sys: 8.19 ms, total: 14 ms\n",
      "Wall time: 13.9 ms\n"
     ]
    }
   ],
   "source": [
    "%%time\n",
    "train_path = corpus_path + \"train/text_files/\"\n",
    "train_files = [f for f in os.listdir(train_path) if os.path.isfile(train_path + f)]\n",
    "train_data = load_text_files(train_files, train_path)\n",
    "df_text_train = pd.DataFrame({'doc_id': [s.split('.txt')[0] for s in train_files], 'raw_text': train_data})"
   ]
  },
  {
   "cell_type": "code",
   "execution_count": 4,
   "metadata": {},
   "outputs": [
    {
     "data": {
      "text/plain": [
       "(500, 2)"
      ]
     },
     "execution_count": 4,
     "metadata": {},
     "output_type": "execute_result"
    }
   ],
   "source": [
    "df_text_train.shape"
   ]
  },
  {
   "cell_type": "code",
   "execution_count": 5,
   "metadata": {},
   "outputs": [
    {
     "data": {
      "text/html": [
       "<div>\n",
       "<style scoped>\n",
       "    .dataframe tbody tr th:only-of-type {\n",
       "        vertical-align: middle;\n",
       "    }\n",
       "\n",
       "    .dataframe tbody tr th {\n",
       "        vertical-align: top;\n",
       "    }\n",
       "\n",
       "    .dataframe thead th {\n",
       "        text-align: right;\n",
       "    }\n",
       "</style>\n",
       "<table border=\"1\" class=\"dataframe\">\n",
       "  <thead>\n",
       "    <tr style=\"text-align: right;\">\n",
       "      <th></th>\n",
       "      <th>doc_id</th>\n",
       "      <th>raw_text</th>\n",
       "    </tr>\n",
       "  </thead>\n",
       "  <tbody>\n",
       "    <tr>\n",
       "      <th>0</th>\n",
       "      <td>S0004-06142007000600016-2</td>\n",
       "      <td>Paciente varón de 35 años con tumoración en po...</td>\n",
       "    </tr>\n",
       "    <tr>\n",
       "      <th>1</th>\n",
       "      <td>S1137-66272009000500017-1</td>\n",
       "      <td>Lactante de sexo femenino que ingresó a los 7 ...</td>\n",
       "    </tr>\n",
       "    <tr>\n",
       "      <th>2</th>\n",
       "      <td>S0365-66912007001100010-1</td>\n",
       "      <td>Paciente de 63 años que refería déficit de agu...</td>\n",
       "    </tr>\n",
       "    <tr>\n",
       "      <th>3</th>\n",
       "      <td>S0365-66912009000300010-1</td>\n",
       "      <td>Se presenta el caso de un varón de 24 años de ...</td>\n",
       "    </tr>\n",
       "    <tr>\n",
       "      <th>4</th>\n",
       "      <td>S0211-69952013000500035-1</td>\n",
       "      <td>Se presenta el caso de un varón de 64 años sin...</td>\n",
       "    </tr>\n",
       "  </tbody>\n",
       "</table>\n",
       "</div>"
      ],
      "text/plain": [
       "                      doc_id  \\\n",
       "0  S0004-06142007000600016-2   \n",
       "1  S1137-66272009000500017-1   \n",
       "2  S0365-66912007001100010-1   \n",
       "3  S0365-66912009000300010-1   \n",
       "4  S0211-69952013000500035-1   \n",
       "\n",
       "                                            raw_text  \n",
       "0  Paciente varón de 35 años con tumoración en po...  \n",
       "1  Lactante de sexo femenino que ingresó a los 7 ...  \n",
       "2  Paciente de 63 años que refería déficit de agu...  \n",
       "3  Se presenta el caso de un varón de 24 años de ...  \n",
       "4  Se presenta el caso de un varón de 64 años sin...  "
      ]
     },
     "execution_count": 5,
     "metadata": {},
     "output_type": "execute_result"
    }
   ],
   "source": [
    "df_text_train.head()"
   ]
  },
  {
   "cell_type": "code",
   "execution_count": 6,
   "metadata": {},
   "outputs": [
    {
     "data": {
      "text/plain": [
       "'Paciente varón de 35 años con tumoración en polo superior de teste derecho hallada de manera casual durante una autoexploración, motivo por el cual acude a consulta de urología donde se realiza exploración física, apreciando masa de 1cm aproximado de diámetro dependiente de epidídimo, y ecografía testicular, que se informa como lesión nodular sólida en cabeza de epidídimo derecho. Se realiza RMN. Confirmando masa nodular, siendo el tumor adenomatoide de epidídimo la primera posibilidad diagnóstica.\\n\\nSe decide, en los dos casos, resección quirúrgica de tumoración nodular en cola epidídimo derecho, sin realización de orquiectomía posterior.\\nEn ambos casos se realizó examen anátomopatológico de la pieza quirúrgica. Hallazgos histológicos macroscópicos: formación nodular de 1,5 cms (caso1) y 1,2 cms (caso 2) de consistencia firme, coloración blanquecina y bien delimitada. Microscópicamente se observa proliferación tumoral constituida por estructuras tubulares en las que la celularidad muestra núcleos redondeados y elongados sin atipia citológica y que ocasionalmente muestra citoplasmas vacuolados, todo ello compatible con tumor adenomatoide de epidídimo.\\n\\n'"
      ]
     },
     "execution_count": 6,
     "metadata": {},
     "output_type": "execute_result"
    }
   ],
   "source": [
    "df_text_train.raw_text[0]"
   ]
  },
  {
   "cell_type": "markdown",
   "metadata": {},
   "source": [
    "We also load the CIE-Procedimiento codes table:"
   ]
  },
  {
   "cell_type": "code",
   "execution_count": 7,
   "metadata": {},
   "outputs": [],
   "source": [
    "df_codes_train = pd.read_table(corpus_path + \"train/trainP.tsv\", sep='\\t', header=None)"
   ]
  },
  {
   "cell_type": "code",
   "execution_count": 8,
   "metadata": {},
   "outputs": [],
   "source": [
    "df_codes_train.columns = [\"doc_id\", \"code\"]"
   ]
  },
  {
   "cell_type": "code",
   "execution_count": 9,
   "metadata": {},
   "outputs": [
    {
     "data": {
      "text/plain": [
       "(1550, 2)"
      ]
     },
     "execution_count": 9,
     "metadata": {},
     "output_type": "execute_result"
    }
   ],
   "source": [
    "df_codes_train.shape"
   ]
  },
  {
   "cell_type": "code",
   "execution_count": 10,
   "metadata": {},
   "outputs": [
    {
     "data": {
      "text/html": [
       "<div>\n",
       "<style scoped>\n",
       "    .dataframe tbody tr th:only-of-type {\n",
       "        vertical-align: middle;\n",
       "    }\n",
       "\n",
       "    .dataframe tbody tr th {\n",
       "        vertical-align: top;\n",
       "    }\n",
       "\n",
       "    .dataframe thead th {\n",
       "        text-align: right;\n",
       "    }\n",
       "</style>\n",
       "<table border=\"1\" class=\"dataframe\">\n",
       "  <thead>\n",
       "    <tr style=\"text-align: right;\">\n",
       "      <th></th>\n",
       "      <th>doc_id</th>\n",
       "      <th>code</th>\n",
       "    </tr>\n",
       "  </thead>\n",
       "  <tbody>\n",
       "    <tr>\n",
       "      <th>0</th>\n",
       "      <td>S0004-06142005000700014-1</td>\n",
       "      <td>bw03zzz</td>\n",
       "    </tr>\n",
       "    <tr>\n",
       "      <th>1</th>\n",
       "      <td>S0004-06142005000700014-1</td>\n",
       "      <td>3e02329</td>\n",
       "    </tr>\n",
       "    <tr>\n",
       "      <th>2</th>\n",
       "      <td>S0004-06142005000700014-1</td>\n",
       "      <td>bw40zzz</td>\n",
       "    </tr>\n",
       "    <tr>\n",
       "      <th>3</th>\n",
       "      <td>S0004-06142005000700014-1</td>\n",
       "      <td>bv44zzz</td>\n",
       "    </tr>\n",
       "    <tr>\n",
       "      <th>4</th>\n",
       "      <td>S0004-06142005000700014-1</td>\n",
       "      <td>bn20</td>\n",
       "    </tr>\n",
       "  </tbody>\n",
       "</table>\n",
       "</div>"
      ],
      "text/plain": [
       "                      doc_id     code\n",
       "0  S0004-06142005000700014-1  bw03zzz\n",
       "1  S0004-06142005000700014-1  3e02329\n",
       "2  S0004-06142005000700014-1  bw40zzz\n",
       "3  S0004-06142005000700014-1  bv44zzz\n",
       "4  S0004-06142005000700014-1     bn20"
      ]
     },
     "execution_count": 10,
     "metadata": {},
     "output_type": "execute_result"
    }
   ],
   "source": [
    "df_codes_train.head()"
   ]
  },
  {
   "cell_type": "code",
   "execution_count": 11,
   "metadata": {},
   "outputs": [
    {
     "data": {
      "text/plain": [
       "435"
      ]
     },
     "execution_count": 11,
     "metadata": {},
     "output_type": "execute_result"
    }
   ],
   "source": [
    "len(set(df_codes_train[\"doc_id\"]))"
   ]
  },
  {
   "cell_type": "markdown",
   "metadata": {},
   "source": [
    "### Development corpus"
   ]
  },
  {
   "cell_type": "code",
   "execution_count": 12,
   "metadata": {},
   "outputs": [
    {
     "name": "stdout",
     "output_type": "stream",
     "text": [
      "CPU times: user 19.7 ms, sys: 4.05 ms, total: 23.8 ms\n",
      "Wall time: 23.3 ms\n"
     ]
    }
   ],
   "source": [
    "%%time\n",
    "dev_path = corpus_path + \"dev/text_files/\"\n",
    "dev_files = [f for f in os.listdir(dev_path) if os.path.isfile(dev_path + f)]\n",
    "dev_data = load_text_files(dev_files, dev_path)\n",
    "df_text_dev = pd.DataFrame({'doc_id': [s.split('.txt')[0] for s in dev_files], 'raw_text': dev_data})"
   ]
  },
  {
   "cell_type": "code",
   "execution_count": 13,
   "metadata": {},
   "outputs": [
    {
     "data": {
      "text/plain": [
       "(250, 2)"
      ]
     },
     "execution_count": 13,
     "metadata": {},
     "output_type": "execute_result"
    }
   ],
   "source": [
    "df_text_dev.shape"
   ]
  },
  {
   "cell_type": "code",
   "execution_count": 14,
   "metadata": {},
   "outputs": [
    {
     "data": {
      "text/html": [
       "<div>\n",
       "<style scoped>\n",
       "    .dataframe tbody tr th:only-of-type {\n",
       "        vertical-align: middle;\n",
       "    }\n",
       "\n",
       "    .dataframe tbody tr th {\n",
       "        vertical-align: top;\n",
       "    }\n",
       "\n",
       "    .dataframe thead th {\n",
       "        text-align: right;\n",
       "    }\n",
       "</style>\n",
       "<table border=\"1\" class=\"dataframe\">\n",
       "  <thead>\n",
       "    <tr style=\"text-align: right;\">\n",
       "      <th></th>\n",
       "      <th>doc_id</th>\n",
       "      <th>raw_text</th>\n",
       "    </tr>\n",
       "  </thead>\n",
       "  <tbody>\n",
       "    <tr>\n",
       "      <th>0</th>\n",
       "      <td>S1698-44472004000100009-1</td>\n",
       "      <td>Varón de 64 años de edad con tumefacción mandi...</td>\n",
       "    </tr>\n",
       "    <tr>\n",
       "      <th>1</th>\n",
       "      <td>S1139-76322015000300013-1</td>\n",
       "      <td>Niña de tres años que acude a Urgencias tras l...</td>\n",
       "    </tr>\n",
       "    <tr>\n",
       "      <th>2</th>\n",
       "      <td>S1130-05582015000100004-1</td>\n",
       "      <td>Se presenta el caso de una mujer de 60 años de...</td>\n",
       "    </tr>\n",
       "    <tr>\n",
       "      <th>3</th>\n",
       "      <td>S1887-85712015000200005-1</td>\n",
       "      <td>Paciente varón de cinco años de edad que tras ...</td>\n",
       "    </tr>\n",
       "    <tr>\n",
       "      <th>4</th>\n",
       "      <td>S1699-65852010000300002-1</td>\n",
       "      <td>LTR. Paciente de sexo masculino, de 32 años de...</td>\n",
       "    </tr>\n",
       "  </tbody>\n",
       "</table>\n",
       "</div>"
      ],
      "text/plain": [
       "                      doc_id  \\\n",
       "0  S1698-44472004000100009-1   \n",
       "1  S1139-76322015000300013-1   \n",
       "2  S1130-05582015000100004-1   \n",
       "3  S1887-85712015000200005-1   \n",
       "4  S1699-65852010000300002-1   \n",
       "\n",
       "                                            raw_text  \n",
       "0  Varón de 64 años de edad con tumefacción mandi...  \n",
       "1  Niña de tres años que acude a Urgencias tras l...  \n",
       "2  Se presenta el caso de una mujer de 60 años de...  \n",
       "3  Paciente varón de cinco años de edad que tras ...  \n",
       "4  LTR. Paciente de sexo masculino, de 32 años de...  "
      ]
     },
     "execution_count": 14,
     "metadata": {},
     "output_type": "execute_result"
    }
   ],
   "source": [
    "df_text_dev.head()"
   ]
  },
  {
   "cell_type": "code",
   "execution_count": 15,
   "metadata": {},
   "outputs": [
    {
     "data": {
      "text/plain": [
       "'Varón de 64 años de edad con tumefacción mandibular derecha de 6 meses de evolución. La radiografía simple mostraba una lesión expansiva bien delimitada, osteolítica, multiloculada, localizada en rama horizontal mandibular. La tomografía computerizada presentaba una lesión expansiva con destrucción de la cortical ósea. Con el diagnóstico provisional de probable ameloblastoma se procedió a la resección-biopsia de la lesión. Mediante incisión interpapilar se expuso la mandíbula que mostraba la superficie abombada y destruída por una tumoración carnosa de consistencia densa que rodeaba la rama del nervio dentario inferior. Tras un cuidadoso curetaje de la cavidad ósea se reconstruyó la mandíbula y se repuso la mucosa. No hubo complicaciones postquirúrgicas.\\n\\nEl material remitido a Anatomía Patológica consistía en fragmentos tumorales de unos 2x1.5 cm, blanco-grisáceos al corte y de consistencia firme. Se tomaron diversas muestras que tras fijarse en formaldehído se incluyeron en parafina y se procesaron mediante técnicas de rutina: se cortaron secciones de 4m de grosor que se tiñeron con hematoxilina-eosina. Se procedió a estudio inmunohistoquímico de cortes representativos mediante el método avidina-biotina peroxidasa, utilizando anticuerpos primarios anti antígeno de membrana epitelial EMA, (Dako M613, USA, 10/500), proteína S-100 (Dako, L1845, USA, prediluída), neurofilamentos (Biogenex 6670-0154, USA), enolasa neuroespecífica NSE, (Biogenex MU055-VC, USA, 10/1000), CD57 (Becton-Dickinson 7660, USA, 10/500), CD34 (Becton-Dickinson 7660, USA, 10/500), a-actina de músculo liso (Dako MO851, USA, 10/200), desmina (Dako M760, USA, 10/500), y vimentina (Shandon 402255, USA, pred.). El proceso se realizó siguiendo el protocolo estándar, utilizando controles positivos y negativos.\\nLa hibridización in situ con fluorescencia (FISH) se realizó en cortes parafinados de 50m de espesor mediante un mezclador de doble color LSI BCR/ABL (VYSIS Inc, Downers Grove, USA) siguiendo el procedimiento recomendado por el fabricante y se examinaron con un microscopio de fluorescencia Nikon con un filtro de triple banda, siendo estudiados un centenar de núcleos por dos de los autores.\\nHistológicamente los fragmentos tumorales estaban constituídos por células alargadas de forma y tamaño regulares dispuestas en haces entrelazados y en remolinos estructurados en \"bulbo de cebolla\". La densidad celular y del estroma intercelular eran variables, con algunas zonas mostrando aspecto mixoide. No se apreciaron células dispuestas en empalizada ni se observaron pleomorfimso celular o mitosis atípicas. En la periferia de algunos fragmentos se identificaron fibras residuales del tronco nervioso mandibular. Con el diagnóstico provisional de PIN se procedió a los examenes complementarios.\\n\\nLa inmunohistoquímica mostró que las células tumorales eran intensamente positivas para el EMA y la vimentina y negativas para la proteína S-100, NSE, colágeno IV, CD57, a-actina de músculo liso, desmina y CD34. Las células de Schwann en los remolinos eran positivas para la proteína S-100 y en el centro de los \"bulbos\" se identificaron axones positivos para el antígeno anti-neurofilamento. Las fibras residuales del nervio dentario eran positivas para la proteína S-100, la NSE y los neurofilamentos y el perineurio positivo para el EMA.\\n\\nLa hibridización in situ con fluorescencia reveló una delección del brazo largo del cromosoma 22 (22q11) en los núcleos del 75% de las células tumorales así como pérdida de centrómero del cromosoma 22.\\n\\n'"
      ]
     },
     "execution_count": 15,
     "metadata": {},
     "output_type": "execute_result"
    }
   ],
   "source": [
    "df_text_dev.raw_text[0]"
   ]
  },
  {
   "cell_type": "markdown",
   "metadata": {},
   "source": [
    "We also load the CIE-Procedimiento codes table:"
   ]
  },
  {
   "cell_type": "code",
   "execution_count": 16,
   "metadata": {},
   "outputs": [],
   "source": [
    "df_codes_dev = pd.read_table(corpus_path + \"dev/devP.tsv\", sep='\\t', header=None)"
   ]
  },
  {
   "cell_type": "code",
   "execution_count": 17,
   "metadata": {},
   "outputs": [],
   "source": [
    "df_codes_dev.columns = [\"doc_id\", \"code\"]"
   ]
  },
  {
   "cell_type": "code",
   "execution_count": 18,
   "metadata": {},
   "outputs": [
    {
     "data": {
      "text/plain": [
       "(817, 2)"
      ]
     },
     "execution_count": 18,
     "metadata": {},
     "output_type": "execute_result"
    }
   ],
   "source": [
    "df_codes_dev.shape"
   ]
  },
  {
   "cell_type": "code",
   "execution_count": 19,
   "metadata": {},
   "outputs": [
    {
     "data": {
      "text/html": [
       "<div>\n",
       "<style scoped>\n",
       "    .dataframe tbody tr th:only-of-type {\n",
       "        vertical-align: middle;\n",
       "    }\n",
       "\n",
       "    .dataframe tbody tr th {\n",
       "        vertical-align: top;\n",
       "    }\n",
       "\n",
       "    .dataframe thead th {\n",
       "        text-align: right;\n",
       "    }\n",
       "</style>\n",
       "<table border=\"1\" class=\"dataframe\">\n",
       "  <thead>\n",
       "    <tr style=\"text-align: right;\">\n",
       "      <th></th>\n",
       "      <th>doc_id</th>\n",
       "      <th>code</th>\n",
       "    </tr>\n",
       "  </thead>\n",
       "  <tbody>\n",
       "    <tr>\n",
       "      <th>0</th>\n",
       "      <td>S0004-06142005000900016-1</td>\n",
       "      <td>bt41zzz</td>\n",
       "    </tr>\n",
       "    <tr>\n",
       "      <th>1</th>\n",
       "      <td>S0004-06142005000900016-1</td>\n",
       "      <td>ct13</td>\n",
       "    </tr>\n",
       "    <tr>\n",
       "      <th>2</th>\n",
       "      <td>S0004-06142005001000011-1</td>\n",
       "      <td>3e1m39z</td>\n",
       "    </tr>\n",
       "    <tr>\n",
       "      <th>3</th>\n",
       "      <td>S0004-06142005001000011-1</td>\n",
       "      <td>0tcb</td>\n",
       "    </tr>\n",
       "    <tr>\n",
       "      <th>4</th>\n",
       "      <td>S0004-06142005001000011-1</td>\n",
       "      <td>bt02</td>\n",
       "    </tr>\n",
       "  </tbody>\n",
       "</table>\n",
       "</div>"
      ],
      "text/plain": [
       "                      doc_id     code\n",
       "0  S0004-06142005000900016-1  bt41zzz\n",
       "1  S0004-06142005000900016-1     ct13\n",
       "2  S0004-06142005001000011-1  3e1m39z\n",
       "3  S0004-06142005001000011-1     0tcb\n",
       "4  S0004-06142005001000011-1     bt02"
      ]
     },
     "execution_count": 19,
     "metadata": {},
     "output_type": "execute_result"
    }
   ],
   "source": [
    "df_codes_dev.head()"
   ]
  },
  {
   "cell_type": "code",
   "execution_count": 20,
   "metadata": {},
   "outputs": [
    {
     "data": {
      "text/plain": [
       "222"
      ]
     },
     "execution_count": 20,
     "metadata": {},
     "output_type": "execute_result"
    }
   ],
   "source": [
    "len(set(df_codes_dev[\"doc_id\"]))"
   ]
  },
  {
   "cell_type": "markdown",
   "metadata": {},
   "source": [
    "We join the training and development CodiEsp codes dataframes together:"
   ]
  },
  {
   "cell_type": "code",
   "execution_count": 21,
   "metadata": {},
   "outputs": [],
   "source": [
    "df_codes_train_dev = pd.concat([df_codes_train, df_codes_dev])"
   ]
  },
  {
   "cell_type": "code",
   "execution_count": 22,
   "metadata": {},
   "outputs": [
    {
     "data": {
      "text/plain": [
       "(2367, 2)"
      ]
     },
     "execution_count": 22,
     "metadata": {},
     "output_type": "execute_result"
    }
   ],
   "source": [
    "df_codes_train_dev.shape"
   ]
  },
  {
   "cell_type": "code",
   "execution_count": 23,
   "metadata": {},
   "outputs": [
    {
     "data": {
      "text/html": [
       "<div>\n",
       "<style scoped>\n",
       "    .dataframe tbody tr th:only-of-type {\n",
       "        vertical-align: middle;\n",
       "    }\n",
       "\n",
       "    .dataframe tbody tr th {\n",
       "        vertical-align: top;\n",
       "    }\n",
       "\n",
       "    .dataframe thead th {\n",
       "        text-align: right;\n",
       "    }\n",
       "</style>\n",
       "<table border=\"1\" class=\"dataframe\">\n",
       "  <thead>\n",
       "    <tr style=\"text-align: right;\">\n",
       "      <th></th>\n",
       "      <th>doc_id</th>\n",
       "      <th>code</th>\n",
       "    </tr>\n",
       "  </thead>\n",
       "  <tbody>\n",
       "    <tr>\n",
       "      <th>0</th>\n",
       "      <td>S0004-06142005000700014-1</td>\n",
       "      <td>bw03zzz</td>\n",
       "    </tr>\n",
       "    <tr>\n",
       "      <th>1</th>\n",
       "      <td>S0004-06142005000700014-1</td>\n",
       "      <td>3e02329</td>\n",
       "    </tr>\n",
       "    <tr>\n",
       "      <th>2</th>\n",
       "      <td>S0004-06142005000700014-1</td>\n",
       "      <td>bw40zzz</td>\n",
       "    </tr>\n",
       "    <tr>\n",
       "      <th>3</th>\n",
       "      <td>S0004-06142005000700014-1</td>\n",
       "      <td>bv44zzz</td>\n",
       "    </tr>\n",
       "    <tr>\n",
       "      <th>4</th>\n",
       "      <td>S0004-06142005000700014-1</td>\n",
       "      <td>bn20</td>\n",
       "    </tr>\n",
       "  </tbody>\n",
       "</table>\n",
       "</div>"
      ],
      "text/plain": [
       "                      doc_id     code\n",
       "0  S0004-06142005000700014-1  bw03zzz\n",
       "1  S0004-06142005000700014-1  3e02329\n",
       "2  S0004-06142005000700014-1  bw40zzz\n",
       "3  S0004-06142005000700014-1  bv44zzz\n",
       "4  S0004-06142005000700014-1     bn20"
      ]
     },
     "execution_count": 23,
     "metadata": {},
     "output_type": "execute_result"
    }
   ],
   "source": [
    "df_codes_train_dev.head()"
   ]
  },
  {
   "cell_type": "markdown",
   "metadata": {},
   "source": [
    "## Creating corpora of annotated sentences\n",
    "\n",
    "Leveraging the information available for the named-entity-recognition and normalization (NER-N) CodiEsp-X task, we create both a training and a development corpus of annotated sentences with CIE-Procedimiento codes."
   ]
  },
  {
   "cell_type": "markdown",
   "metadata": {},
   "source": [
    "Firstly, we pre-process the NER-N precedure-codes annotations available for both the training and development corpora."
   ]
  },
  {
   "cell_type": "code",
   "execution_count": 24,
   "metadata": {},
   "outputs": [],
   "source": [
    "# Training corpus"
   ]
  },
  {
   "cell_type": "code",
   "execution_count": 25,
   "metadata": {},
   "outputs": [
    {
     "name": "stdout",
     "output_type": "stream",
     "text": [
      "CPU times: user 42.5 ms, sys: 0 ns, total: 42.5 ms\n",
      "Wall time: 41.9 ms\n"
     ]
    }
   ],
   "source": [
    "%%time\n",
    "\n",
    "codiesp_x_train = pd.read_table(corpus_path + \"train/trainX.tsv\", sep='\\t', header=None)"
   ]
  },
  {
   "cell_type": "code",
   "execution_count": 26,
   "metadata": {},
   "outputs": [],
   "source": [
    "codiesp_x_train.columns = [\"doc_id\", \"type\", \"code\", \"word\", \"location\"]"
   ]
  },
  {
   "cell_type": "code",
   "execution_count": 27,
   "metadata": {},
   "outputs": [
    {
     "data": {
      "text/plain": [
       "(9181, 5)"
      ]
     },
     "execution_count": 27,
     "metadata": {},
     "output_type": "execute_result"
    }
   ],
   "source": [
    "codiesp_x_train.shape"
   ]
  },
  {
   "cell_type": "code",
   "execution_count": 28,
   "metadata": {},
   "outputs": [
    {
     "data": {
      "text/html": [
       "<div>\n",
       "<style scoped>\n",
       "    .dataframe tbody tr th:only-of-type {\n",
       "        vertical-align: middle;\n",
       "    }\n",
       "\n",
       "    .dataframe tbody tr th {\n",
       "        vertical-align: top;\n",
       "    }\n",
       "\n",
       "    .dataframe thead th {\n",
       "        text-align: right;\n",
       "    }\n",
       "</style>\n",
       "<table border=\"1\" class=\"dataframe\">\n",
       "  <thead>\n",
       "    <tr style=\"text-align: right;\">\n",
       "      <th></th>\n",
       "      <th>doc_id</th>\n",
       "      <th>type</th>\n",
       "      <th>code</th>\n",
       "      <th>word</th>\n",
       "      <th>location</th>\n",
       "    </tr>\n",
       "  </thead>\n",
       "  <tbody>\n",
       "    <tr>\n",
       "      <th>0</th>\n",
       "      <td>S0004-06142005000700014-1</td>\n",
       "      <td>PROCEDIMIENTO</td>\n",
       "      <td>bw03zzz</td>\n",
       "      <td>Rx tórax</td>\n",
       "      <td>2163 2171</td>\n",
       "    </tr>\n",
       "    <tr>\n",
       "      <th>1</th>\n",
       "      <td>S0004-06142005000700014-1</td>\n",
       "      <td>PROCEDIMIENTO</td>\n",
       "      <td>3e02329</td>\n",
       "      <td>Estreptomicina intramuscular</td>\n",
       "      <td>2787 2801;2810 2823</td>\n",
       "    </tr>\n",
       "    <tr>\n",
       "      <th>2</th>\n",
       "      <td>S0004-06142005000700014-1</td>\n",
       "      <td>DIAGNOSTICO</td>\n",
       "      <td>n44.8</td>\n",
       "      <td>teste derecho aumentado de tamaño</td>\n",
       "      <td>1343 1376</td>\n",
       "    </tr>\n",
       "    <tr>\n",
       "      <th>3</th>\n",
       "      <td>S0004-06142005000700014-1</td>\n",
       "      <td>DIAGNOSTICO</td>\n",
       "      <td>z20.818</td>\n",
       "      <td>exposición a Brucella</td>\n",
       "      <td>594 615</td>\n",
       "    </tr>\n",
       "    <tr>\n",
       "      <th>4</th>\n",
       "      <td>S0004-06142005000700014-1</td>\n",
       "      <td>DIAGNOSTICO</td>\n",
       "      <td>r60.9</td>\n",
       "      <td>edemas</td>\n",
       "      <td>1250 1256</td>\n",
       "    </tr>\n",
       "  </tbody>\n",
       "</table>\n",
       "</div>"
      ],
      "text/plain": [
       "                      doc_id           type     code  \\\n",
       "0  S0004-06142005000700014-1  PROCEDIMIENTO  bw03zzz   \n",
       "1  S0004-06142005000700014-1  PROCEDIMIENTO  3e02329   \n",
       "2  S0004-06142005000700014-1    DIAGNOSTICO    n44.8   \n",
       "3  S0004-06142005000700014-1    DIAGNOSTICO  z20.818   \n",
       "4  S0004-06142005000700014-1    DIAGNOSTICO    r60.9   \n",
       "\n",
       "                                word             location  \n",
       "0                           Rx tórax            2163 2171  \n",
       "1       Estreptomicina intramuscular  2787 2801;2810 2823  \n",
       "2  teste derecho aumentado de tamaño            1343 1376  \n",
       "3              exposición a Brucella              594 615  \n",
       "4                             edemas            1250 1256  "
      ]
     },
     "execution_count": 28,
     "metadata": {},
     "output_type": "execute_result"
    }
   ],
   "source": [
    "codiesp_x_train.head()"
   ]
  },
  {
   "cell_type": "code",
   "execution_count": 29,
   "metadata": {},
   "outputs": [],
   "source": [
    "codiesp_x_train = codiesp_x_train[codiesp_x_train[\"type\"] == \"PROCEDIMIENTO\"]"
   ]
  },
  {
   "cell_type": "code",
   "execution_count": 30,
   "metadata": {},
   "outputs": [
    {
     "data": {
      "text/plain": [
       "(1972, 5)"
      ]
     },
     "execution_count": 30,
     "metadata": {},
     "output_type": "execute_result"
    }
   ],
   "source": [
    "codiesp_x_train.shape"
   ]
  },
  {
   "cell_type": "code",
   "execution_count": 31,
   "metadata": {},
   "outputs": [],
   "source": [
    "df_codes_train_ner = process_ner_labels(codiesp_x_train).sort_values([\"doc_id\", \"start\", \"end\"])"
   ]
  },
  {
   "cell_type": "code",
   "execution_count": 32,
   "metadata": {},
   "outputs": [
    {
     "data": {
      "text/html": [
       "<div>\n",
       "<style scoped>\n",
       "    .dataframe tbody tr th:only-of-type {\n",
       "        vertical-align: middle;\n",
       "    }\n",
       "\n",
       "    .dataframe tbody tr th {\n",
       "        vertical-align: top;\n",
       "    }\n",
       "\n",
       "    .dataframe thead th {\n",
       "        text-align: right;\n",
       "    }\n",
       "</style>\n",
       "<table border=\"1\" class=\"dataframe\">\n",
       "  <thead>\n",
       "    <tr style=\"text-align: right;\">\n",
       "      <th></th>\n",
       "      <th>doc_id</th>\n",
       "      <th>type</th>\n",
       "      <th>code</th>\n",
       "      <th>word</th>\n",
       "      <th>start</th>\n",
       "      <th>end</th>\n",
       "    </tr>\n",
       "  </thead>\n",
       "  <tbody>\n",
       "    <tr>\n",
       "      <th>0</th>\n",
       "      <td>S0004-06142005000700014-1</td>\n",
       "      <td>PROCEDIMIENTO</td>\n",
       "      <td>bw03zzz</td>\n",
       "      <td>Rx tórax</td>\n",
       "      <td>2163</td>\n",
       "      <td>2171</td>\n",
       "    </tr>\n",
       "    <tr>\n",
       "      <th>3</th>\n",
       "      <td>S0004-06142005000700014-1</td>\n",
       "      <td>PROCEDIMIENTO</td>\n",
       "      <td>bw40zzz</td>\n",
       "      <td>Ecografía abdominal</td>\n",
       "      <td>2173</td>\n",
       "      <td>2192</td>\n",
       "    </tr>\n",
       "    <tr>\n",
       "      <th>5</th>\n",
       "      <td>S0004-06142005000700014-1</td>\n",
       "      <td>PROCEDIMIENTO</td>\n",
       "      <td>bn20</td>\n",
       "      <td>TAC craneal</td>\n",
       "      <td>2194</td>\n",
       "      <td>2205</td>\n",
       "    </tr>\n",
       "    <tr>\n",
       "      <th>4</th>\n",
       "      <td>S0004-06142005000700014-1</td>\n",
       "      <td>PROCEDIMIENTO</td>\n",
       "      <td>bv44zzz</td>\n",
       "      <td>Ecografía testicular</td>\n",
       "      <td>2287</td>\n",
       "      <td>2307</td>\n",
       "    </tr>\n",
       "    <tr>\n",
       "      <th>1</th>\n",
       "      <td>S0004-06142005000700014-1</td>\n",
       "      <td>PROCEDIMIENTO</td>\n",
       "      <td>3e02329</td>\n",
       "      <td>Estreptomicina intramuscular</td>\n",
       "      <td>2787</td>\n",
       "      <td>2801</td>\n",
       "    </tr>\n",
       "  </tbody>\n",
       "</table>\n",
       "</div>"
      ],
      "text/plain": [
       "                      doc_id           type     code  \\\n",
       "0  S0004-06142005000700014-1  PROCEDIMIENTO  bw03zzz   \n",
       "3  S0004-06142005000700014-1  PROCEDIMIENTO  bw40zzz   \n",
       "5  S0004-06142005000700014-1  PROCEDIMIENTO     bn20   \n",
       "4  S0004-06142005000700014-1  PROCEDIMIENTO  bv44zzz   \n",
       "1  S0004-06142005000700014-1  PROCEDIMIENTO  3e02329   \n",
       "\n",
       "                           word start   end  \n",
       "0                      Rx tórax  2163  2171  \n",
       "3           Ecografía abdominal  2173  2192  \n",
       "5                   TAC craneal  2194  2205  \n",
       "4          Ecografía testicular  2287  2307  \n",
       "1  Estreptomicina intramuscular  2787  2801  "
      ]
     },
     "execution_count": 32,
     "metadata": {},
     "output_type": "execute_result"
    }
   ],
   "source": [
    "df_codes_train_ner.head()"
   ]
  },
  {
   "cell_type": "code",
   "execution_count": 33,
   "metadata": {},
   "outputs": [
    {
     "data": {
      "text/plain": [
       "(2769, 6)"
      ]
     },
     "execution_count": 33,
     "metadata": {},
     "output_type": "execute_result"
    }
   ],
   "source": [
    "df_codes_train_ner.shape"
   ]
  },
  {
   "cell_type": "code",
   "execution_count": 34,
   "metadata": {},
   "outputs": [],
   "source": [
    "# Development corpus"
   ]
  },
  {
   "cell_type": "code",
   "execution_count": 35,
   "metadata": {},
   "outputs": [
    {
     "name": "stdout",
     "output_type": "stream",
     "text": [
      "CPU times: user 21.5 ms, sys: 12.1 ms, total: 33.5 ms\n",
      "Wall time: 33 ms\n"
     ]
    }
   ],
   "source": [
    "%%time\n",
    "\n",
    "codiesp_x_dev = pd.read_table(corpus_path + \"dev/devX.tsv\", sep='\\t', header=None)"
   ]
  },
  {
   "cell_type": "code",
   "execution_count": 36,
   "metadata": {},
   "outputs": [],
   "source": [
    "codiesp_x_dev.columns = [\"doc_id\", \"type\", \"code\", \"word\", \"location\"]"
   ]
  },
  {
   "cell_type": "code",
   "execution_count": 37,
   "metadata": {},
   "outputs": [
    {
     "data": {
      "text/plain": [
       "(4477, 5)"
      ]
     },
     "execution_count": 37,
     "metadata": {},
     "output_type": "execute_result"
    }
   ],
   "source": [
    "codiesp_x_dev.shape"
   ]
  },
  {
   "cell_type": "code",
   "execution_count": 38,
   "metadata": {},
   "outputs": [
    {
     "data": {
      "text/html": [
       "<div>\n",
       "<style scoped>\n",
       "    .dataframe tbody tr th:only-of-type {\n",
       "        vertical-align: middle;\n",
       "    }\n",
       "\n",
       "    .dataframe tbody tr th {\n",
       "        vertical-align: top;\n",
       "    }\n",
       "\n",
       "    .dataframe thead th {\n",
       "        text-align: right;\n",
       "    }\n",
       "</style>\n",
       "<table border=\"1\" class=\"dataframe\">\n",
       "  <thead>\n",
       "    <tr style=\"text-align: right;\">\n",
       "      <th></th>\n",
       "      <th>doc_id</th>\n",
       "      <th>type</th>\n",
       "      <th>code</th>\n",
       "      <th>word</th>\n",
       "      <th>location</th>\n",
       "    </tr>\n",
       "  </thead>\n",
       "  <tbody>\n",
       "    <tr>\n",
       "      <th>0</th>\n",
       "      <td>S0004-06142005000900016-1</td>\n",
       "      <td>PROCEDIMIENTO</td>\n",
       "      <td>bt41zzz</td>\n",
       "      <td>ecografía renal derecha</td>\n",
       "      <td>307 316;348 361</td>\n",
       "    </tr>\n",
       "    <tr>\n",
       "      <th>1</th>\n",
       "      <td>S0004-06142005000900016-1</td>\n",
       "      <td>PROCEDIMIENTO</td>\n",
       "      <td>ct13</td>\n",
       "      <td>gammagrafía renal</td>\n",
       "      <td>739 756</td>\n",
       "    </tr>\n",
       "    <tr>\n",
       "      <th>2</th>\n",
       "      <td>S0004-06142005000900016-1</td>\n",
       "      <td>DIAGNOSTICO</td>\n",
       "      <td>q62.11</td>\n",
       "      <td>estenosis en la unión pieloureteral derecha</td>\n",
       "      <td>540 583</td>\n",
       "    </tr>\n",
       "    <tr>\n",
       "      <th>3</th>\n",
       "      <td>S0004-06142005000900016-1</td>\n",
       "      <td>DIAGNOSTICO</td>\n",
       "      <td>n28.89</td>\n",
       "      <td>ectasia pielocalicial</td>\n",
       "      <td>326 347</td>\n",
       "    </tr>\n",
       "    <tr>\n",
       "      <th>4</th>\n",
       "      <td>S0004-06142005000900016-1</td>\n",
       "      <td>DIAGNOSTICO</td>\n",
       "      <td>n39.0</td>\n",
       "      <td>infecciones del tracto urinario</td>\n",
       "      <td>198 229</td>\n",
       "    </tr>\n",
       "  </tbody>\n",
       "</table>\n",
       "</div>"
      ],
      "text/plain": [
       "                      doc_id           type     code  \\\n",
       "0  S0004-06142005000900016-1  PROCEDIMIENTO  bt41zzz   \n",
       "1  S0004-06142005000900016-1  PROCEDIMIENTO     ct13   \n",
       "2  S0004-06142005000900016-1    DIAGNOSTICO   q62.11   \n",
       "3  S0004-06142005000900016-1    DIAGNOSTICO   n28.89   \n",
       "4  S0004-06142005000900016-1    DIAGNOSTICO    n39.0   \n",
       "\n",
       "                                          word         location  \n",
       "0                      ecografía renal derecha  307 316;348 361  \n",
       "1                            gammagrafía renal          739 756  \n",
       "2  estenosis en la unión pieloureteral derecha          540 583  \n",
       "3                        ectasia pielocalicial          326 347  \n",
       "4              infecciones del tracto urinario          198 229  "
      ]
     },
     "execution_count": 38,
     "metadata": {},
     "output_type": "execute_result"
    }
   ],
   "source": [
    "codiesp_x_dev.head()"
   ]
  },
  {
   "cell_type": "code",
   "execution_count": 39,
   "metadata": {},
   "outputs": [],
   "source": [
    "codiesp_x_dev = codiesp_x_dev[codiesp_x_dev[\"type\"] == \"PROCEDIMIENTO\"]"
   ]
  },
  {
   "cell_type": "code",
   "execution_count": 40,
   "metadata": {},
   "outputs": [
    {
     "data": {
      "text/plain": [
       "(1046, 5)"
      ]
     },
     "execution_count": 40,
     "metadata": {},
     "output_type": "execute_result"
    }
   ],
   "source": [
    "codiesp_x_dev.shape"
   ]
  },
  {
   "cell_type": "code",
   "execution_count": 41,
   "metadata": {},
   "outputs": [],
   "source": [
    "df_codes_dev_ner = process_ner_labels(codiesp_x_dev).sort_values([\"doc_id\", \"start\", \"end\"])"
   ]
  },
  {
   "cell_type": "code",
   "execution_count": 42,
   "metadata": {},
   "outputs": [
    {
     "data": {
      "text/html": [
       "<div>\n",
       "<style scoped>\n",
       "    .dataframe tbody tr th:only-of-type {\n",
       "        vertical-align: middle;\n",
       "    }\n",
       "\n",
       "    .dataframe tbody tr th {\n",
       "        vertical-align: top;\n",
       "    }\n",
       "\n",
       "    .dataframe thead th {\n",
       "        text-align: right;\n",
       "    }\n",
       "</style>\n",
       "<table border=\"1\" class=\"dataframe\">\n",
       "  <thead>\n",
       "    <tr style=\"text-align: right;\">\n",
       "      <th></th>\n",
       "      <th>doc_id</th>\n",
       "      <th>type</th>\n",
       "      <th>code</th>\n",
       "      <th>word</th>\n",
       "      <th>start</th>\n",
       "      <th>end</th>\n",
       "    </tr>\n",
       "  </thead>\n",
       "  <tbody>\n",
       "    <tr>\n",
       "      <th>0</th>\n",
       "      <td>S0004-06142005000900016-1</td>\n",
       "      <td>PROCEDIMIENTO</td>\n",
       "      <td>bt41zzz</td>\n",
       "      <td>ecografía renal derecha</td>\n",
       "      <td>307</td>\n",
       "      <td>316</td>\n",
       "    </tr>\n",
       "    <tr>\n",
       "      <th>1</th>\n",
       "      <td>S0004-06142005000900016-1</td>\n",
       "      <td>PROCEDIMIENTO</td>\n",
       "      <td>bt41zzz</td>\n",
       "      <td>ecografía renal derecha</td>\n",
       "      <td>348</td>\n",
       "      <td>361</td>\n",
       "    </tr>\n",
       "    <tr>\n",
       "      <th>2</th>\n",
       "      <td>S0004-06142005000900016-1</td>\n",
       "      <td>PROCEDIMIENTO</td>\n",
       "      <td>ct13</td>\n",
       "      <td>gammagrafía renal</td>\n",
       "      <td>739</td>\n",
       "      <td>756</td>\n",
       "    </tr>\n",
       "    <tr>\n",
       "      <th>3</th>\n",
       "      <td>S0004-06142005001000011-1</td>\n",
       "      <td>PROCEDIMIENTO</td>\n",
       "      <td>3e1m39z</td>\n",
       "      <td>diálisis peritoneal</td>\n",
       "      <td>95</td>\n",
       "      <td>114</td>\n",
       "    </tr>\n",
       "    <tr>\n",
       "      <th>7</th>\n",
       "      <td>S0004-06142005001000011-1</td>\n",
       "      <td>PROCEDIMIENTO</td>\n",
       "      <td>0270</td>\n",
       "      <td>angioplastia transluminal de la coronaria derecha</td>\n",
       "      <td>424</td>\n",
       "      <td>473</td>\n",
       "    </tr>\n",
       "  </tbody>\n",
       "</table>\n",
       "</div>"
      ],
      "text/plain": [
       "                      doc_id           type     code  \\\n",
       "0  S0004-06142005000900016-1  PROCEDIMIENTO  bt41zzz   \n",
       "1  S0004-06142005000900016-1  PROCEDIMIENTO  bt41zzz   \n",
       "2  S0004-06142005000900016-1  PROCEDIMIENTO     ct13   \n",
       "3  S0004-06142005001000011-1  PROCEDIMIENTO  3e1m39z   \n",
       "7  S0004-06142005001000011-1  PROCEDIMIENTO     0270   \n",
       "\n",
       "                                                word start  end  \n",
       "0                            ecografía renal derecha   307  316  \n",
       "1                            ecografía renal derecha   348  361  \n",
       "2                                  gammagrafía renal   739  756  \n",
       "3                                diálisis peritoneal    95  114  \n",
       "7  angioplastia transluminal de la coronaria derecha   424  473  "
      ]
     },
     "execution_count": 42,
     "metadata": {},
     "output_type": "execute_result"
    }
   ],
   "source": [
    "df_codes_dev_ner.head()"
   ]
  },
  {
   "cell_type": "code",
   "execution_count": 43,
   "metadata": {},
   "outputs": [
    {
     "data": {
      "text/plain": [
       "(1540, 6)"
      ]
     },
     "execution_count": 43,
     "metadata": {},
     "output_type": "execute_result"
    }
   ],
   "source": [
    "df_codes_dev_ner.shape"
   ]
  },
  {
   "cell_type": "markdown",
   "metadata": {},
   "source": [
    "Now, using the character start-end positions of each sentence from the CodiEsp corpus (see `datasets/CodiEsp-Sentence-Split.ipynb`), we annotate the sentences with CIE-Procedimiento codes. Also, using mBERT tokenizer, each sentence is converted into a sequence of subwords, which are further converted into vocabulary indices (input IDs) and segments arrays (BERT input tensors). We also generate a *fragments* dataset indicating the number of produced annotated sentences for each document."
   ]
  },
  {
   "cell_type": "code",
   "execution_count": 44,
   "metadata": {},
   "outputs": [],
   "source": [
    "# Sentence-Split information\n",
    "ss_corpus_path = \"../datasets/CodiEsp-SSplit-text/\""
   ]
  },
  {
   "cell_type": "markdown",
   "metadata": {},
   "source": [
    "### Training corpus"
   ]
  },
  {
   "cell_type": "code",
   "execution_count": 45,
   "metadata": {},
   "outputs": [],
   "source": [
    "label_list = list(df_codes_train_dev[\"code\"])"
   ]
  },
  {
   "cell_type": "code",
   "execution_count": 46,
   "metadata": {},
   "outputs": [
    {
     "data": {
      "text/plain": [
       "2367"
      ]
     },
     "execution_count": 46,
     "metadata": {},
     "output_type": "execute_result"
    }
   ],
   "source": [
    "len(label_list)"
   ]
  },
  {
   "cell_type": "code",
   "execution_count": 47,
   "metadata": {},
   "outputs": [
    {
     "data": {
      "text/plain": [
       "727"
      ]
     },
     "execution_count": 47,
     "metadata": {},
     "output_type": "execute_result"
    }
   ],
   "source": [
    "len(set(label_list))"
   ]
  },
  {
   "cell_type": "code",
   "execution_count": 48,
   "metadata": {},
   "outputs": [
    {
     "data": {
      "text/plain": [
       "MultiLabelBinarizer(classes=None, sparse_output=False)"
      ]
     },
     "execution_count": 48,
     "metadata": {},
     "output_type": "execute_result"
    }
   ],
   "source": [
    "from sklearn.preprocessing import MultiLabelBinarizer\n",
    "\n",
    "mlb_encoder = MultiLabelBinarizer()\n",
    "mlb_encoder.fit([label_list])"
   ]
  },
  {
   "cell_type": "code",
   "execution_count": 49,
   "metadata": {},
   "outputs": [],
   "source": [
    "# Number of distinct codes\n",
    "num_labels = len(mlb_encoder.classes_)"
   ]
  },
  {
   "cell_type": "code",
   "execution_count": 50,
   "metadata": {},
   "outputs": [
    {
     "data": {
      "text/plain": [
       "727"
      ]
     },
     "execution_count": 50,
     "metadata": {},
     "output_type": "execute_result"
    }
   ],
   "source": [
    "num_labels"
   ]
  },
  {
   "cell_type": "markdown",
   "metadata": {},
   "source": [
    "Only training texts that are annotated with CIE-Procedimiento codes are considered:"
   ]
  },
  {
   "cell_type": "code",
   "execution_count": 51,
   "metadata": {},
   "outputs": [
    {
     "data": {
      "text/plain": [
       "65"
      ]
     },
     "execution_count": 51,
     "metadata": {},
     "output_type": "execute_result"
    }
   ],
   "source": [
    "# Some train documents (texts) are not annotated \n",
    "len(set(df_text_train[\"doc_id\"]) - set(df_codes_train_ner[\"doc_id\"]))"
   ]
  },
  {
   "cell_type": "code",
   "execution_count": 52,
   "metadata": {},
   "outputs": [],
   "source": [
    "train_doc_list = sorted(set(df_codes_train_ner[\"doc_id\"]))"
   ]
  },
  {
   "cell_type": "code",
   "execution_count": 53,
   "metadata": {},
   "outputs": [
    {
     "data": {
      "text/plain": [
       "435"
      ]
     },
     "execution_count": 53,
     "metadata": {},
     "output_type": "execute_result"
    }
   ],
   "source": [
    "len(train_doc_list)"
   ]
  },
  {
   "cell_type": "code",
   "execution_count": 54,
   "metadata": {},
   "outputs": [],
   "source": [
    "# Sentence-Split data"
   ]
  },
  {
   "cell_type": "code",
   "execution_count": 55,
   "metadata": {},
   "outputs": [
    {
     "name": "stdout",
     "output_type": "stream",
     "text": [
      "CPU times: user 11.6 ms, sys: 8.19 ms, total: 19.8 ms\n",
      "Wall time: 19.2 ms\n"
     ]
    }
   ],
   "source": [
    "%%time\n",
    "ss_sub_corpus_path = ss_corpus_path + \"train/\"\n",
    "ss_files = [f for f in os.listdir(ss_sub_corpus_path) if os.path.isfile(ss_sub_corpus_path + f)]\n",
    "ss_dict_train = load_ss_files(ss_files, ss_sub_corpus_path)"
   ]
  },
  {
   "cell_type": "code",
   "execution_count": 56,
   "metadata": {},
   "outputs": [
    {
     "name": "stderr",
     "output_type": "stream",
     "text": [
      "100%|██████████| 435/435 [00:06<00:00, 66.21it/s]\n"
     ]
    },
    {
     "name": "stdout",
     "output_type": "stream",
     "text": [
      "CPU times: user 6.67 s, sys: 35.7 ms, total: 6.7 s\n",
      "Wall time: 6.65 s\n"
     ]
    }
   ],
   "source": [
    "%%time\n",
    "train_ind, train_seg, train_y, train_frag, train_start_end_frag = ss_create_frag_input_data_bert(df_text=df_text_train, \n",
    "                                                  text_col=text_col, \n",
    "                                                  df_ann=df_codes_train_ner, doc_list=train_doc_list, ss_dict=ss_dict_train,\n",
    "                                                  tokenizer=tokenizer, lab_encoder=mlb_encoder, seq_len=SEQ_LEN,\n",
    "                                                  greedy=False)"
   ]
  },
  {
   "cell_type": "code",
   "execution_count": 57,
   "metadata": {},
   "outputs": [],
   "source": [
    "# Sanity check"
   ]
  },
  {
   "cell_type": "code",
   "execution_count": 58,
   "metadata": {},
   "outputs": [
    {
     "data": {
      "text/plain": [
       "(7025, 128)"
      ]
     },
     "execution_count": 58,
     "metadata": {},
     "output_type": "execute_result"
    }
   ],
   "source": [
    "train_ind.shape"
   ]
  },
  {
   "cell_type": "code",
   "execution_count": 59,
   "metadata": {},
   "outputs": [
    {
     "data": {
      "text/plain": [
       "(7025, 128)"
      ]
     },
     "execution_count": 59,
     "metadata": {},
     "output_type": "execute_result"
    }
   ],
   "source": [
    "train_seg.shape"
   ]
  },
  {
   "cell_type": "code",
   "execution_count": 60,
   "metadata": {},
   "outputs": [
    {
     "data": {
      "text/plain": [
       "(7025, 727)"
      ]
     },
     "execution_count": 60,
     "metadata": {},
     "output_type": "execute_result"
    }
   ],
   "source": [
    "train_y.shape"
   ]
  },
  {
   "cell_type": "code",
   "execution_count": 61,
   "metadata": {},
   "outputs": [
    {
     "data": {
      "text/plain": [
       "435"
      ]
     },
     "execution_count": 61,
     "metadata": {},
     "output_type": "execute_result"
    }
   ],
   "source": [
    "len(train_frag)"
   ]
  },
  {
   "cell_type": "code",
   "execution_count": 62,
   "metadata": {},
   "outputs": [
    {
     "data": {
      "text/plain": [
       "7025"
      ]
     },
     "execution_count": 62,
     "metadata": {},
     "output_type": "execute_result"
    }
   ],
   "source": [
    "len(train_start_end_frag)"
   ]
  },
  {
   "cell_type": "code",
   "execution_count": 63,
   "metadata": {},
   "outputs": [
    {
     "data": {
      "text/plain": [
       "count    435.000000\n",
       "mean      16.149425\n",
       "std        7.778513\n",
       "min        4.000000\n",
       "25%       10.500000\n",
       "50%       15.000000\n",
       "75%       20.000000\n",
       "max       54.000000\n",
       "dtype: float64"
      ]
     },
     "execution_count": 63,
     "metadata": {},
     "output_type": "execute_result"
    }
   ],
   "source": [
    "# Check n_frag distribution across texts\n",
    "pd.Series(train_frag).describe()"
   ]
  },
  {
   "cell_type": "code",
   "execution_count": 64,
   "metadata": {},
   "outputs": [],
   "source": [
    "# Inspect a randomly selected text and its encoded version\n",
    "check_id = np.random.randint(low=0, high=len(train_doc_list), size=1)[0]"
   ]
  },
  {
   "cell_type": "code",
   "execution_count": 65,
   "metadata": {},
   "outputs": [
    {
     "data": {
      "text/plain": [
       "302"
      ]
     },
     "execution_count": 65,
     "metadata": {},
     "output_type": "execute_result"
    }
   ],
   "source": [
    "check_id"
   ]
  },
  {
   "cell_type": "code",
   "execution_count": 66,
   "metadata": {},
   "outputs": [
    {
     "data": {
      "text/plain": [
       "'S1130-05582015000400005-1'"
      ]
     },
     "execution_count": 66,
     "metadata": {},
     "output_type": "execute_result"
    }
   ],
   "source": [
    "train_doc_list[check_id]"
   ]
  },
  {
   "cell_type": "code",
   "execution_count": 67,
   "metadata": {
    "scrolled": true
   },
   "outputs": [
    {
     "data": {
      "text/plain": [
       "'Paciente H.V.P.D., 16 años, se presentó con queja principal de dificultad de fonación. Durante el examen físico, se observó que el paciente presentaba elevada estatura, patrón facial III, con severa hipoplasia maxilar, apiñamientos dentarios, relación de clase III de Angle, mordida abierta anterior, úvula bífida y una macroglosia. En la recolección de datos durante la anamnesis, fue revelado también que, al nacimiento, el paciente tenía un defecto en la pared abdominal que fue corregido posteriormente. Todos esos hallazgos contribuyeron para la formación del diagnóstico del síndrome de Beckwith-Wiedmann.\\n\\nEl paciente fue incorporado al tratamiento ortoquirúrgico, siendo observados problemas de deglución, fonación y dificultades respiratorias, con fuerte correlación con la macroglosia. Por consiguiente, se planeó para ese caso un procedimiento quirúrgico de glosectomía parcial, anterior al procedimiento de cirugía ortognática. La técnica utilizada fue la propuesta por Obwegeser et al. (1964)10, en la que se realizó una resección del segmento central y del ápice de la lengua, con lo que se consiguió la disminución de sus dimensiones en el sentido anteroposterior y transversal, para que los problemas relacionados con el habla fuesen atenuados.\\nPara el adecuado control del sangrado transoperatorio y facilidad de ejecución, la cirugía se realizó bajo anestesia general con intubación orotraqueal, debido a la presencia de hipertrofía de los cornetes nasales que impidió el pasaje de la sonda nasotraqueal. Para la realización de las incisiones, fueron establecidos puntos de reparo con hilo de algodón 2.0 en las extremidades laterales y anteriores de la lengua y fue utilizada una pinza de aprehensión de tejido del tipo Allis para auxiliar en la disección. Después de la estabilización, fueron realizadas la demarcación de la incisión con azul de metileno y las infiltraciones de anestésico local (lidocaína 2% con epinefrina 1:200.000). La remoción del segmento demarcado se ejecutó con un disector quirúrgico eléctrico (aguja colrado, Stryker Corporation®) en el sentido ápice-base, preservando los bordes laterales y minimizando el riesgo de lesiones en las ramas del nervio lingual. El segmento fue removido y se efectuó una hemostasia cuidadosa para minimizar los riesgos de hematoma lingual y el sangrado postoperatorio. Después del control de sangrado, los segmentos fueron aproximados con hilo reabsorbible (Vicryl 3.0-ETHICON) de la porción más profunda para la superficial de forma minuciosa en el sentido base-ápice. En el postoperatorio inmediato fue ya posible verificar la disminución anterior y transversal de la lengua sin compromiso de la vía aérea, y sin que ocurriera ninguna complicación de naturaleza hemorrágica o infecciosa. A los 10 días del postoperatorio, el paciente empezó el tratamiento fonoaudiológico para ayudar el retorno de la motilidad de la lengua y de la fonación.\\nActualmente, el paciente se encuentra con 3 años de postoperatorio y una disminución considerable del tamaño de la lengua en el sentido transversal y longitudinal, sin relato de pérdida sensitiva o gustativa de la región. Está siguiendo un tratamiento fonoaudilógico y ortodóncico con el propósito de realizar un procedimiento quirúrgico para la corrección de la discrepancia maxilomandibular.\\n\\n'"
      ]
     },
     "execution_count": 67,
     "metadata": {},
     "output_type": "execute_result"
    }
   ],
   "source": [
    "df_text_train[df_text_train[\"doc_id\"] == train_doc_list[check_id]][text_col].values[0]"
   ]
  },
  {
   "cell_type": "code",
   "execution_count": 68,
   "metadata": {},
   "outputs": [
    {
     "name": "stdout",
     "output_type": "stream",
     "text": [
      "[()] \n",
      "\n",
      "[()] \n",
      "\n",
      "[()] \n",
      "\n",
      "[()] \n",
      "\n",
      "[()] \n",
      "\n",
      "[('0cb7',)] \n",
      "\n",
      "[()] \n",
      "\n",
      "[()] \n",
      "\n",
      "[('0bh1',)] \n",
      "\n",
      "[()] \n",
      "\n",
      "[()] \n",
      "\n",
      "[()] \n",
      "\n",
      "[()] \n",
      "\n",
      "[()] \n",
      "\n",
      "[()] \n",
      "\n",
      "[()] \n",
      "\n",
      "[()] \n",
      "\n",
      "[()] \n",
      "\n"
     ]
    }
   ],
   "source": [
    "check_id_frag = sum(train_frag[:check_id])\n",
    "for i in range(check_id_frag, check_id_frag + train_frag[check_id]):\n",
    "    print(mlb_encoder.inverse_transform(np.array([train_y[i]])), \"\\n\")"
   ]
  },
  {
   "cell_type": "code",
   "execution_count": 69,
   "metadata": {},
   "outputs": [
    {
     "name": "stdout",
     "output_type": "stream",
     "text": [
      "[('Pac', (0, 3)), ('##iente', (3, 8)), ('H', (9, 10)), ('.', (10, 11)), ('V', (11, 12)), ('.', (12, 13)), ('P', (13, 14)), ('.', (14, 15)), ('D', (15, 16)), ('.', (16, 17)), (',', (17, 18)), ('16', (19, 21)), ('años', (22, 26)), (',', (26, 27)), ('se', (28, 30)), ('presentó', (31, 39)), ('con', (40, 43)), ('que', (44, 47)), ('##ja', (47, 49)), ('principal', (50, 59)), ('de', (60, 62)), ('di', (63, 65)), ('##ficu', (65, 69)), ('##ltad', (69, 73)), ('de', (74, 76)), ('fon', (77, 80)), ('##ación', (80, 85)), ('.', (85, 86))]\n",
      "\n",
      "\n",
      "[('Durante', (87, 94)), ('el', (95, 97)), ('examen', (98, 104)), ('físico', (105, 111)), (',', (111, 112)), ('se', (113, 115)), ('ob', (116, 118)), ('##ser', (118, 121)), ('##vó', (121, 123)), ('que', (124, 127)), ('el', (128, 130)), ('paciente', (131, 139)), ('presenta', (140, 148)), ('##ba', (148, 150)), ('elevada', (151, 158)), ('estat', (159, 164)), ('##ura', (164, 167)), (',', (167, 168)), ('patrón', (169, 175)), ('fac', (176, 179)), ('##ial', (179, 182)), ('III', (183, 186)), (',', (186, 187)), ('con', (188, 191)), ('sever', (192, 197)), ('##a', (197, 198)), ('hip', (199, 202)), ('##op', (202, 204)), ('##lasi', (204, 208)), ('##a', (208, 209)), ('maxi', (210, 214)), ('##lar', (214, 217)), (',', (217, 218)), ('api', (219, 222)), ('##ña', (222, 224)), ('##mientos', (224, 231)), ('den', (232, 235)), ('##tario', (235, 240)), ('##s', (240, 241)), (',', (241, 242)), ('relación', (243, 251)), ('de', (252, 254)), ('clase', (255, 260)), ('III', (261, 264)), ('de', (265, 267)), ('Angle', (268, 273)), (',', (273, 274)), ('mor', (275, 278)), ('##dida', (278, 282)), ('abierta', (283, 290)), ('anterior', (291, 299)), (',', (299, 300)), ('ú', (301, 302)), ('##vul', (302, 305)), ('##a', (305, 306)), ('bí', (307, 309)), ('##fida', (309, 313)), ('y', (314, 315)), ('una', (316, 319)), ('mac', (320, 323)), ('##rog', (323, 326)), ('##los', (326, 329)), ('##ia', (329, 331)), ('.', (331, 332))]\n",
      "\n",
      "\n",
      "[('En', (333, 335)), ('la', (336, 338)), ('re', (339, 341)), ('##cole', (341, 345)), ('##cción', (345, 350)), ('de', (351, 353)), ('datos', (354, 359)), ('durante', (360, 367)), ('la', (368, 370)), ('ana', (371, 374)), ('##mne', (374, 377)), ('##sis', (377, 380)), (',', (380, 381)), ('fue', (382, 385)), ('revela', (386, 392)), ('##do', (392, 394)), ('también', (395, 402)), ('que', (403, 406)), (',', (406, 407)), ('al', (408, 410)), ('nacimiento', (411, 421)), (',', (421, 422)), ('el', (423, 425)), ('paciente', (426, 434)), ('tenía', (435, 440)), ('un', (441, 443)), ('def', (444, 447)), ('##ect', (447, 450)), ('##o', (450, 451)), ('en', (452, 454)), ('la', (455, 457)), ('pare', (458, 462)), ('##d', (462, 463)), ('ab', (464, 466)), ('##dom', (466, 469)), ('##inal', (469, 473)), ('que', (474, 477)), ('fue', (478, 481)), ('corre', (482, 487)), ('##gido', (487, 491)), ('posteriormente', (492, 506)), ('.', (506, 507))]\n",
      "\n",
      "\n",
      "[('Todos', (508, 513)), ('esos', (514, 518)), ('hall', (519, 523)), ('##azgo', (523, 527)), ('##s', (527, 528)), ('cont', (529, 533)), ('##rib', (533, 536)), ('##uye', (536, 539)), ('##ron', (539, 542)), ('para', (543, 547)), ('la', (548, 550)), ('formación', (551, 560)), ('del', (561, 564)), ('dia', (565, 568)), ('##gnóstico', (568, 576)), ('del', (577, 580)), ('síndrome', (581, 589)), ('de', (590, 592)), ('Beck', (593, 597)), ('##wit', (597, 600)), ('##h', (600, 601)), ('-', (601, 602)), ('Wie', (602, 605)), ('##dman', (605, 609)), ('##n', (609, 610)), ('.', (610, 611))]\n",
      "\n",
      "\n",
      "[('El', (613, 615)), ('paciente', (616, 624)), ('fue', (625, 628)), ('incorpora', (629, 638)), ('##do', (638, 640)), ('al', (641, 643)), ('tratamiento', (644, 655)), ('ort', (656, 659)), ('##oq', (659, 661)), ('##uir', (661, 664)), ('##úr', (664, 666)), ('##gico', (666, 670)), (',', (670, 671)), ('siendo', (672, 678)), ('observa', (679, 686)), ('##dos', (686, 689)), ('problemas', (690, 699)), ('de', (700, 702)), ('de', (703, 705)), ('##gl', (705, 707)), ('##ución', (707, 712)), (',', (712, 713)), ('fon', (714, 717)), ('##ación', (717, 722)), ('y', (723, 724)), ('dificultades', (725, 737)), ('resp', (738, 742)), ('##irat', (742, 746)), ('##oria', (746, 750)), ('##s', (750, 751)), (',', (751, 752)), ('con', (753, 756)), ('fuerte', (757, 763)), ('corre', (764, 769)), ('##lación', (769, 775)), ('con', (776, 779)), ('la', (780, 782)), ('mac', (783, 786)), ('##rog', (786, 789)), ('##los', (789, 792)), ('##ia', (792, 794)), ('.', (794, 795))]\n",
      "\n",
      "\n",
      "[('Por', (796, 799)), ('con', (800, 803)), ('##sig', (803, 806)), ('##ui', (806, 808)), ('##ente', (808, 812)), (',', (812, 813)), ('se', (814, 816)), ('plane', (817, 822)), ('##ó', (822, 823)), ('para', (824, 828)), ('ese', (829, 832)), ('caso', (833, 837)), ('un', (838, 840)), ('pro', (841, 844)), ('##ced', (844, 847)), ('##imiento', (847, 854)), ('qui', (855, 858)), ('##rú', (858, 860)), ('##rgi', (860, 863)), ('##co', (863, 865)), ('de', (866, 868)), ('g', (869, 870)), ('##lose', (870, 874)), ('##cto', (874, 877)), ('##mí', (877, 879)), ('##a', (879, 880)), ('parcial', (881, 888)), (',', (888, 889)), ('anterior', (890, 898)), ('al', (899, 901)), ('pro', (902, 905)), ('##ced', (905, 908)), ('##imiento', (908, 915)), ('de', (916, 918)), ('ci', (919, 921)), ('##rug', (921, 924)), ('##ía', (924, 926)), ('ort', (927, 930)), ('##og', (930, 932)), ('##ná', (932, 934)), ('##tica', (934, 938)), ('.', (938, 939))]\n",
      "\n",
      "\n",
      "[('La', (940, 942)), ('técnica', (943, 950)), ('utilizada', (951, 960)), ('fue', (961, 964)), ('la', (965, 967)), ('propuesta', (968, 977)), ('por', (978, 981)), ('Ob', (982, 984)), ('##wege', (984, 988)), ('##ser', (988, 991)), ('et', (992, 994)), ('al', (995, 997)), ('.', (997, 998))]\n",
      "\n",
      "\n",
      "[('(', (999, 1000)), ('1964', (1000, 1004)), (')', (1004, 1005)), ('10', (1005, 1007)), (',', (1007, 1008)), ('en', (1009, 1011)), ('la', (1012, 1014)), ('que', (1015, 1018)), ('se', (1019, 1021)), ('realizó', (1022, 1029)), ('una', (1030, 1033)), ('res', (1034, 1037)), ('##ec', (1037, 1039)), ('##ción', (1039, 1043)), ('del', (1044, 1047)), ('segmento', (1048, 1056)), ('central', (1057, 1064)), ('y', (1065, 1066)), ('del', (1067, 1070)), ('áp', (1071, 1073)), ('##ice', (1073, 1076)), ('de', (1077, 1079)), ('la', (1080, 1082)), ('lengua', (1083, 1089)), (',', (1089, 1090)), ('con', (1091, 1094)), ('lo', (1095, 1097)), ('que', (1098, 1101)), ('se', (1102, 1104)), ('consiguió', (1105, 1114)), ('la', (1115, 1117)), ('dis', (1118, 1121)), ('##minución', (1121, 1129)), ('de', (1130, 1132)), ('sus', (1133, 1136)), ('dimensiones', (1137, 1148)), ('en', (1149, 1151)), ('el', (1152, 1154)), ('sentido', (1155, 1162)), ('ante', (1163, 1167)), ('##rop', (1167, 1170)), ('##oster', (1170, 1175)), ('##ior', (1175, 1178)), ('y', (1179, 1180)), ('trans', (1181, 1186)), ('##versa', (1186, 1191)), ('##l', (1191, 1192)), (',', (1192, 1193)), ('para', (1194, 1198)), ('que', (1199, 1202)), ('los', (1203, 1206)), ('problemas', (1207, 1216)), ('relacionados', (1217, 1229)), ('con', (1230, 1233)), ('el', (1234, 1236)), ('habla', (1237, 1242)), ('fue', (1243, 1246)), ('##sen', (1246, 1249)), ('at', (1250, 1252)), ('##enu', (1252, 1255)), ('##ados', (1255, 1259)), ('.', (1259, 1260))]\n",
      "\n",
      "\n",
      "[('Para', (1261, 1265)), ('el', (1266, 1268)), ('ad', (1269, 1271)), ('##ecu', (1271, 1274)), ('##ado', (1274, 1277)), ('control', (1278, 1285)), ('del', (1286, 1289)), ('sang', (1290, 1294)), ('##rado', (1294, 1298)), ('trans', (1299, 1304)), ('##oper', (1304, 1308)), ('##atorio', (1308, 1314)), ('y', (1315, 1316)), ('fac', (1317, 1320)), ('##ilidad', (1320, 1326)), ('de', (1327, 1329)), ('ejecución', (1330, 1339)), (',', (1339, 1340)), ('la', (1341, 1343)), ('ci', (1344, 1346)), ('##rug', (1346, 1349)), ('##ía', (1349, 1351)), ('se', (1352, 1354)), ('realizó', (1355, 1362)), ('bajo', (1363, 1367)), ('ane', (1368, 1371)), ('##stes', (1371, 1375)), ('##ia', (1375, 1377)), ('general', (1378, 1385)), ('con', (1386, 1389)), ('int', (1390, 1393)), ('##uba', (1393, 1396)), ('##ción', (1396, 1400)), ('oro', (1401, 1404)), ('##tra', (1404, 1407)), ('##que', (1407, 1410)), ('##al', (1410, 1412)), (',', (1412, 1413)), ('debido', (1414, 1420)), ('a', (1421, 1422)), ('la', (1423, 1425)), ('presencia', (1426, 1435)), ('de', (1436, 1438)), ('hip', (1439, 1442)), ('##ert', (1442, 1445)), ('##ro', (1445, 1447)), ('##f', (1447, 1448)), ('##ía', (1448, 1450)), ('de', (1451, 1453)), ('los', (1454, 1457)), ('corn', (1458, 1462)), ('##etes', (1462, 1466)), ('nasa', (1467, 1471)), ('##les', (1471, 1474)), ('que', (1475, 1478)), ('im', (1479, 1481)), ('##pid', (1481, 1484)), ('##ió', (1484, 1486)), ('el', (1487, 1489)), ('pasa', (1490, 1494)), ('##je', (1494, 1496)), ('de', (1497, 1499)), ('la', (1500, 1502)), ('sonda', (1503, 1508)), ('nas', (1509, 1512)), ('##ot', (1512, 1514)), ('##raq', (1514, 1517)), ('##ue', (1517, 1519)), ('##al', (1519, 1521)), ('.', (1521, 1522))]\n",
      "\n",
      "\n",
      "[('Para', (1523, 1527)), ('la', (1528, 1530)), ('realización', (1531, 1542)), ('de', (1543, 1545)), ('las', (1546, 1549)), ('in', (1550, 1552)), ('##cisione', (1552, 1559)), ('##s', (1559, 1560)), (',', (1560, 1561)), ('fueron', (1562, 1568)), ('establecido', (1569, 1580)), ('##s', (1580, 1581)), ('puntos', (1582, 1588)), ('de', (1589, 1591)), ('rep', (1592, 1595)), ('##aro', (1595, 1598)), ('con', (1599, 1602)), ('hil', (1603, 1606)), ('##o', (1606, 1607)), ('de', (1608, 1610)), ('algo', (1611, 1615)), ('##dón', (1615, 1618)), ('2', (1619, 1620)), ('.', (1620, 1621)), ('0', (1621, 1622)), ('en', (1623, 1625)), ('las', (1626, 1629)), ('extrem', (1630, 1636)), ('##idades', (1636, 1642)), ('laterales', (1643, 1652)), ('y', (1653, 1654)), ('anteriores', (1655, 1665)), ('de', (1666, 1668)), ('la', (1669, 1671)), ('lengua', (1672, 1678)), ('y', (1679, 1680)), ('fue', (1681, 1684)), ('utilizada', (1685, 1694)), ('una', (1695, 1698)), ('pin', (1699, 1702)), ('##za', (1702, 1704)), ('de', (1705, 1707)), ('apre', (1708, 1712)), ('##hen', (1712, 1715)), ('##sión', (1715, 1719)), ('de', (1720, 1722)), ('tej', (1723, 1726)), ('##ido', (1726, 1729)), ('del', (1730, 1733)), ('tipo', (1734, 1738)), ('All', (1739, 1742)), ('##is', (1742, 1744)), ('para', (1745, 1749)), ('auxiliar', (1750, 1758)), ('en', (1759, 1761)), ('la', (1762, 1764)), ('dis', (1765, 1768)), ('##ec', (1768, 1770)), ('##ción', (1770, 1774)), ('.', (1774, 1775))]\n",
      "\n",
      "\n",
      "[('Después', (1776, 1783)), ('de', (1784, 1786)), ('la', (1787, 1789)), ('esta', (1790, 1794)), ('##bili', (1794, 1798)), ('##zación', (1798, 1804)), (',', (1804, 1805)), ('fueron', (1806, 1812)), ('realizadas', (1813, 1823)), ('la', (1824, 1826)), ('dem', (1827, 1830)), ('##ar', (1830, 1832)), ('##cación', (1832, 1838)), ('de', (1839, 1841)), ('la', (1842, 1844)), ('in', (1845, 1847)), ('##cisión', (1847, 1853)), ('con', (1854, 1857)), ('azul', (1858, 1862)), ('de', (1863, 1865)), ('met', (1866, 1869)), ('##ilen', (1869, 1873)), ('##o', (1873, 1874)), ('y', (1875, 1876)), ('las', (1877, 1880)), ('in', (1881, 1883)), ('##fil', (1883, 1886)), ('##tra', (1886, 1889)), ('##ciones', (1889, 1895)), ('de', (1896, 1898)), ('ane', (1899, 1902)), ('##st', (1902, 1904)), ('##ési', (1904, 1907)), ('##co', (1907, 1909)), ('local', (1910, 1915)), ('(', (1916, 1917)), ('lid', (1917, 1920)), ('##oca', (1920, 1923)), ('##ína', (1923, 1926)), ('2', (1927, 1928)), ('%', (1928, 1929)), ('con', (1930, 1933)), ('epi', (1934, 1937)), ('##ne', (1937, 1939)), ('##fr', (1939, 1941)), ('##ina', (1941, 1944)), ('1', (1945, 1946)), (':', (1946, 1947)), ('200', (1947, 1950)), ('.', (1950, 1951)), ('000', (1951, 1954)), (')', (1954, 1955)), ('.', (1955, 1956))]\n",
      "\n",
      "\n",
      "[('La', (1957, 1959)), ('re', (1960, 1962)), ('##mo', (1962, 1964)), ('##ción', (1964, 1968)), ('del', (1969, 1972)), ('segmento', (1973, 1981)), ('dem', (1982, 1985)), ('##ar', (1985, 1987)), ('##cado', (1987, 1991)), ('se', (1992, 1994)), ('eje', (1995, 1998)), ('##cut', (1998, 2001)), ('##ó', (2001, 2002)), ('con', (2003, 2006)), ('un', (2007, 2009)), ('dis', (2010, 2013)), ('##ector', (2013, 2018)), ('qui', (2019, 2022)), ('##rú', (2022, 2024)), ('##rgi', (2024, 2027)), ('##co', (2027, 2029)), ('eléctrico', (2030, 2039)), ('(', (2040, 2041)), ('ag', (2041, 2043)), ('##uja', (2043, 2046)), ('col', (2047, 2050)), ('##rado', (2050, 2054)), (',', (2054, 2055)), ('St', (2056, 2058)), ('##ryk', (2058, 2061)), ('##er', (2061, 2063)), ('Corporation', (2064, 2075)), ('##®', (2075, 2076)), (')', (2076, 2077)), ('en', (2078, 2080)), ('el', (2081, 2083)), ('sentido', (2084, 2091)), ('áp', (2092, 2094)), ('##ice', (2094, 2097)), ('-', (2097, 2098)), ('base', (2098, 2102)), (',', (2102, 2103)), ('prese', (2104, 2109)), ('##rva', (2109, 2112)), ('##ndo', (2112, 2115)), ('los', (2116, 2119)), ('borde', (2120, 2125)), ('##s', (2125, 2126)), ('laterales', (2127, 2136)), ('y', (2137, 2138)), ('mini', (2139, 2143)), ('##mi', (2143, 2145)), ('##zando', (2145, 2150)), ('el', (2151, 2153)), ('riesgo', (2154, 2160)), ('de', (2161, 2163)), ('les', (2164, 2167)), ('##iones', (2167, 2172)), ('en', (2173, 2175)), ('las', (2176, 2179)), ('ramas', (2180, 2185)), ('del', (2186, 2189)), ('ner', (2190, 2193)), ('##vio', (2193, 2196)), ('lingua', (2197, 2203)), ('##l', (2203, 2204)), ('.', (2204, 2205))]\n",
      "\n",
      "\n",
      "[('El', (2206, 2208)), ('segmento', (2209, 2217)), ('fue', (2218, 2221)), ('re', (2222, 2224)), ('##mov', (2224, 2227)), ('##ido', (2227, 2230)), ('y', (2231, 2232)), ('se', (2233, 2235)), ('ef', (2236, 2238)), ('##ect', (2238, 2241)), ('##u', (2241, 2242)), ('##ó', (2242, 2243)), ('una', (2244, 2247)), ('hem', (2248, 2251)), ('##ostas', (2251, 2256)), ('##ia', (2256, 2258)), ('cuidado', (2259, 2266)), ('##sa', (2266, 2268)), ('para', (2269, 2273)), ('mini', (2274, 2278)), ('##mi', (2278, 2280)), ('##zar', (2280, 2283)), ('los', (2284, 2287)), ('riesgo', (2288, 2294)), ('##s', (2294, 2295)), ('de', (2296, 2298)), ('hem', (2299, 2302)), ('##ato', (2302, 2305)), ('##ma', (2305, 2307)), ('lingua', (2308, 2314)), ('##l', (2314, 2315)), ('y', (2316, 2317)), ('el', (2318, 2320)), ('sang', (2321, 2325)), ('##rado', (2325, 2329)), ('posto', (2330, 2335)), ('##perator', (2335, 2342)), ('##io', (2342, 2344)), ('.', (2344, 2345))]\n",
      "\n",
      "\n",
      "[('Después', (2346, 2353)), ('del', (2354, 2357)), ('control', (2358, 2365)), ('de', (2366, 2368)), ('sang', (2369, 2373)), ('##rado', (2373, 2377)), (',', (2377, 2378)), ('los', (2379, 2382)), ('segmento', (2383, 2391)), ('##s', (2391, 2392)), ('fueron', (2393, 2399)), ('ap', (2400, 2402)), ('##rox', (2402, 2405)), ('##ima', (2405, 2408)), ('##dos', (2408, 2411)), ('con', (2412, 2415)), ('hil', (2416, 2419)), ('##o', (2419, 2420)), ('re', (2421, 2423)), ('##ab', (2423, 2425)), ('##sor', (2425, 2428)), ('##bi', (2428, 2430)), ('##ble', (2430, 2433)), ('(', (2434, 2435)), ('Vic', (2435, 2438)), ('##ryl', (2438, 2441)), ('3', (2442, 2443)), ('.', (2443, 2444)), ('0', (2444, 2445)), ('-', (2445, 2446)), ('ET', (2446, 2448)), ('##HI', (2448, 2450)), ('##CO', (2450, 2452)), ('##N', (2452, 2453)), (')', (2453, 2454)), ('de', (2455, 2457)), ('la', (2458, 2460)), ('por', (2461, 2464)), ('##ción', (2464, 2468)), ('más', (2469, 2472)), ('profunda', (2473, 2481)), ('para', (2482, 2486)), ('la', (2487, 2489)), ('superficial', (2490, 2501)), ('de', (2502, 2504)), ('forma', (2505, 2510)), ('min', (2511, 2514)), ('##uc', (2514, 2516)), ('##iosa', (2516, 2520)), ('en', (2521, 2523)), ('el', (2524, 2526)), ('sentido', (2527, 2534)), ('base', (2535, 2539)), ('-', (2539, 2540)), ('áp', (2540, 2542)), ('##ice', (2542, 2545)), ('.', (2545, 2546))]\n",
      "\n",
      "\n",
      "[('En', (2547, 2549)), ('el', (2550, 2552)), ('posto', (2553, 2558)), ('##perator', (2558, 2565)), ('##io', (2565, 2567)), ('in', (2568, 2570)), ('##mediato', (2570, 2577)), ('fue', (2578, 2581)), ('ya', (2582, 2584)), ('posible', (2585, 2592)), ('veri', (2593, 2597)), ('##ficar', (2597, 2602)), ('la', (2603, 2605)), ('dis', (2606, 2609)), ('##minución', (2609, 2617)), ('anterior', (2618, 2626)), ('y', (2627, 2628)), ('trans', (2629, 2634)), ('##versa', (2634, 2639)), ('##l', (2639, 2640)), ('de', (2641, 2643)), ('la', (2644, 2646)), ('lengua', (2647, 2653)), ('sin', (2654, 2657)), ('com', (2658, 2661)), ('##promiso', (2661, 2668)), ('de', (2669, 2671)), ('la', (2672, 2674)), ('vía', (2675, 2678)), ('aérea', (2679, 2684)), (',', (2684, 2685)), ('y', (2686, 2687)), ('sin', (2688, 2691)), ('que', (2692, 2695)), ('o', (2696, 2697)), ('##cu', (2697, 2699)), ('##rri', (2699, 2702)), ('##era', (2702, 2705)), ('ninguna', (2706, 2713)), ('com', (2714, 2717)), ('##pli', (2717, 2720)), ('##cación', (2720, 2726)), ('de', (2727, 2729)), ('naturaleza', (2730, 2740)), ('hem', (2741, 2744)), ('##or', (2744, 2746)), ('##rá', (2746, 2748)), ('##gica', (2748, 2752)), ('o', (2753, 2754)), ('in', (2755, 2757)), ('##fe', (2757, 2759)), ('##ccio', (2759, 2763)), ('##sa', (2763, 2765)), ('.', (2765, 2766))]\n",
      "\n",
      "\n",
      "[('A', (2767, 2768)), ('los', (2769, 2772)), ('10', (2773, 2775)), ('días', (2776, 2780)), ('del', (2781, 2784)), ('posto', (2785, 2790)), ('##perator', (2790, 2797)), ('##io', (2797, 2799)), (',', (2799, 2800)), ('el', (2801, 2803)), ('paciente', (2804, 2812)), ('empezó', (2813, 2819)), ('el', (2820, 2822)), ('tratamiento', (2823, 2834)), ('fon', (2835, 2838)), ('##oa', (2838, 2840)), ('##udio', (2840, 2844)), ('##lógico', (2844, 2850)), ('para', (2851, 2855)), ('ayudar', (2856, 2862)), ('el', (2863, 2865)), ('retorno', (2866, 2873)), ('de', (2874, 2876)), ('la', (2877, 2879)), ('mot', (2880, 2883)), ('##ilidad', (2883, 2889)), ('de', (2890, 2892)), ('la', (2893, 2895)), ('lengua', (2896, 2902)), ('y', (2903, 2904)), ('de', (2905, 2907)), ('la', (2908, 2910)), ('fon', (2911, 2914)), ('##ación', (2914, 2919)), ('.', (2919, 2920))]\n",
      "\n",
      "\n",
      "[('Actualmente', (2921, 2932)), (',', (2932, 2933)), ('el', (2934, 2936)), ('paciente', (2937, 2945)), ('se', (2946, 2948)), ('encuentra', (2949, 2958)), ('con', (2959, 2962)), ('3', (2963, 2964)), ('años', (2965, 2969)), ('de', (2970, 2972)), ('posto', (2973, 2978)), ('##perator', (2978, 2985)), ('##io', (2985, 2987)), ('y', (2988, 2989)), ('una', (2990, 2993)), ('dis', (2994, 2997)), ('##minución', (2997, 3005)), ('considerable', (3006, 3018)), ('del', (3019, 3022)), ('tamaño', (3023, 3029)), ('de', (3030, 3032)), ('la', (3033, 3035)), ('lengua', (3036, 3042)), ('en', (3043, 3045)), ('el', (3046, 3048)), ('sentido', (3049, 3056)), ('trans', (3057, 3062)), ('##versa', (3062, 3067)), ('##l', (3067, 3068)), ('y', (3069, 3070)), ('longitud', (3071, 3079)), ('##inal', (3079, 3083)), (',', (3083, 3084)), ('sin', (3085, 3088)), ('relato', (3089, 3095)), ('de', (3096, 3098)), ('pérdida', (3099, 3106)), ('sens', (3107, 3111)), ('##itiva', (3111, 3116)), ('o', (3117, 3118)), ('gu', (3119, 3121)), ('##stati', (3121, 3126)), ('##va', (3126, 3128)), ('de', (3129, 3131)), ('la', (3132, 3134)), ('región', (3135, 3141)), ('.', (3141, 3142))]\n",
      "\n",
      "\n",
      "[('Está', (3143, 3147)), ('siguiendo', (3148, 3157)), ('un', (3158, 3160)), ('tratamiento', (3161, 3172)), ('fon', (3173, 3176)), ('##oa', (3176, 3178)), ('##udi', (3178, 3181)), ('##lógico', (3181, 3187)), ('y', (3188, 3189)), ('ort', (3190, 3193)), ('##od', (3193, 3195)), ('##ón', (3195, 3197)), ('##ci', (3197, 3199)), ('##co', (3199, 3201)), ('con', (3202, 3205)), ('el', (3206, 3208)), ('propósito', (3209, 3218)), ('de', (3219, 3221)), ('realizar', (3222, 3230)), ('un', (3231, 3233)), ('pro', (3234, 3237)), ('##ced', (3237, 3240)), ('##imiento', (3240, 3247)), ('qui', (3248, 3251)), ('##rú', (3251, 3253)), ('##rgi', (3253, 3256)), ('##co', (3256, 3258)), ('para', (3259, 3263)), ('la', (3264, 3266)), ('corre', (3267, 3272)), ('##cción', (3272, 3277)), ('de', (3278, 3280)), ('la', (3281, 3283)), ('disc', (3284, 3288)), ('##re', (3288, 3290)), ('##pan', (3290, 3293)), ('##cia', (3293, 3296)), ('maxi', (3297, 3301)), ('##loma', (3301, 3305)), ('##ndi', (3305, 3308)), ('##bula', (3308, 3312)), ('##r', (3312, 3313)), ('.', (3313, 3314))]\n",
      "\n",
      "\n"
     ]
    }
   ],
   "source": [
    "for i in range(check_id_frag, check_id_frag + train_frag[check_id]):\n",
    "    print(list(zip([tokenizer._token_dict_inv[ind] for ind in train_ind[i]][1:len(train_start_end_frag[i])+1], \n",
    "               train_start_end_frag[i])))\n",
    "    print(\"\\n\")"
   ]
  },
  {
   "cell_type": "code",
   "execution_count": 70,
   "metadata": {},
   "outputs": [
    {
     "name": "stdout",
     "output_type": "stream",
     "text": [
      "[CLS] Pac ##iente H . V . P . D . , 16 años , se presentó con que ##ja principal de di ##ficu ##ltad de fon ##ación . [SEP] [PAD] [PAD] [PAD] [PAD] [PAD] [PAD] [PAD] [PAD] [PAD] [PAD] [PAD] [PAD] [PAD] [PAD] [PAD] [PAD] [PAD] [PAD] [PAD] [PAD] [PAD] [PAD] [PAD] [PAD] [PAD] [PAD] [PAD] [PAD] [PAD] [PAD] [PAD] [PAD] [PAD] [PAD] [PAD] [PAD] [PAD] [PAD] [PAD] [PAD] [PAD] [PAD] [PAD] [PAD] [PAD] [PAD] [PAD] [PAD] [PAD] [PAD] [PAD] [PAD] [PAD] [PAD] [PAD] [PAD] [PAD] [PAD] [PAD] [PAD] [PAD] [PAD] [PAD] [PAD] [PAD] [PAD] [PAD] [PAD] [PAD] [PAD] [PAD] [PAD] [PAD] [PAD] [PAD] [PAD] [PAD] [PAD] [PAD] [PAD] [PAD] [PAD] [PAD] [PAD] [PAD] [PAD] [PAD] [PAD] [PAD] [PAD] [PAD] [PAD] [PAD] [PAD] [PAD] [PAD] [PAD] [PAD] \n",
      "\n",
      "[CLS] Durante el examen físico , se ob ##ser ##vó que el paciente presenta ##ba elevada estat ##ura , patrón fac ##ial III , con sever ##a hip ##op ##lasi ##a maxi ##lar , api ##ña ##mientos den ##tario ##s , relación de clase III de Angle , mor ##dida abierta anterior , ú ##vul ##a bí ##fida y una mac ##rog ##los ##ia . [SEP] [PAD] [PAD] [PAD] [PAD] [PAD] [PAD] [PAD] [PAD] [PAD] [PAD] [PAD] [PAD] [PAD] [PAD] [PAD] [PAD] [PAD] [PAD] [PAD] [PAD] [PAD] [PAD] [PAD] [PAD] [PAD] [PAD] [PAD] [PAD] [PAD] [PAD] [PAD] [PAD] [PAD] [PAD] [PAD] [PAD] [PAD] [PAD] [PAD] [PAD] [PAD] [PAD] [PAD] [PAD] [PAD] [PAD] [PAD] [PAD] [PAD] [PAD] [PAD] [PAD] [PAD] [PAD] [PAD] [PAD] [PAD] [PAD] [PAD] [PAD] [PAD] [PAD] \n",
      "\n",
      "[CLS] En la re ##cole ##cción de datos durante la ana ##mne ##sis , fue revela ##do también que , al nacimiento , el paciente tenía un def ##ect ##o en la pare ##d ab ##dom ##inal que fue corre ##gido posteriormente . [SEP] [PAD] [PAD] [PAD] [PAD] [PAD] [PAD] [PAD] [PAD] [PAD] [PAD] [PAD] [PAD] [PAD] [PAD] [PAD] [PAD] [PAD] [PAD] [PAD] [PAD] [PAD] [PAD] [PAD] [PAD] [PAD] [PAD] [PAD] [PAD] [PAD] [PAD] [PAD] [PAD] [PAD] [PAD] [PAD] [PAD] [PAD] [PAD] [PAD] [PAD] [PAD] [PAD] [PAD] [PAD] [PAD] [PAD] [PAD] [PAD] [PAD] [PAD] [PAD] [PAD] [PAD] [PAD] [PAD] [PAD] [PAD] [PAD] [PAD] [PAD] [PAD] [PAD] [PAD] [PAD] [PAD] [PAD] [PAD] [PAD] [PAD] [PAD] [PAD] [PAD] [PAD] [PAD] [PAD] [PAD] [PAD] [PAD] [PAD] [PAD] [PAD] [PAD] [PAD] [PAD] \n",
      "\n",
      "[CLS] Todos esos hall ##azgo ##s cont ##rib ##uye ##ron para la formación del dia ##gnóstico del síndrome de Beck ##wit ##h - Wie ##dman ##n . [SEP] [PAD] [PAD] [PAD] [PAD] [PAD] [PAD] [PAD] [PAD] [PAD] [PAD] [PAD] [PAD] [PAD] [PAD] [PAD] [PAD] [PAD] [PAD] [PAD] [PAD] [PAD] [PAD] [PAD] [PAD] [PAD] [PAD] [PAD] [PAD] [PAD] [PAD] [PAD] [PAD] [PAD] [PAD] [PAD] [PAD] [PAD] [PAD] [PAD] [PAD] [PAD] [PAD] [PAD] [PAD] [PAD] [PAD] [PAD] [PAD] [PAD] [PAD] [PAD] [PAD] [PAD] [PAD] [PAD] [PAD] [PAD] [PAD] [PAD] [PAD] [PAD] [PAD] [PAD] [PAD] [PAD] [PAD] [PAD] [PAD] [PAD] [PAD] [PAD] [PAD] [PAD] [PAD] [PAD] [PAD] [PAD] [PAD] [PAD] [PAD] [PAD] [PAD] [PAD] [PAD] [PAD] [PAD] [PAD] [PAD] [PAD] [PAD] [PAD] [PAD] [PAD] [PAD] [PAD] [PAD] [PAD] [PAD] [PAD] [PAD] \n",
      "\n",
      "[CLS] El paciente fue incorpora ##do al tratamiento ort ##oq ##uir ##úr ##gico , siendo observa ##dos problemas de de ##gl ##ución , fon ##ación y dificultades resp ##irat ##oria ##s , con fuerte corre ##lación con la mac ##rog ##los ##ia . [SEP] [PAD] [PAD] [PAD] [PAD] [PAD] [PAD] [PAD] [PAD] [PAD] [PAD] [PAD] [PAD] [PAD] [PAD] [PAD] [PAD] [PAD] [PAD] [PAD] [PAD] [PAD] [PAD] [PAD] [PAD] [PAD] [PAD] [PAD] [PAD] [PAD] [PAD] [PAD] [PAD] [PAD] [PAD] [PAD] [PAD] [PAD] [PAD] [PAD] [PAD] [PAD] [PAD] [PAD] [PAD] [PAD] [PAD] [PAD] [PAD] [PAD] [PAD] [PAD] [PAD] [PAD] [PAD] [PAD] [PAD] [PAD] [PAD] [PAD] [PAD] [PAD] [PAD] [PAD] [PAD] [PAD] [PAD] [PAD] [PAD] [PAD] [PAD] [PAD] [PAD] [PAD] [PAD] [PAD] [PAD] [PAD] [PAD] [PAD] [PAD] [PAD] [PAD] [PAD] [PAD] \n",
      "\n",
      "[CLS] Por con ##sig ##ui ##ente , se plane ##ó para ese caso un pro ##ced ##imiento qui ##rú ##rgi ##co de g ##lose ##cto ##mí ##a parcial , anterior al pro ##ced ##imiento de ci ##rug ##ía ort ##og ##ná ##tica . [SEP] [PAD] [PAD] [PAD] [PAD] [PAD] [PAD] [PAD] [PAD] [PAD] [PAD] [PAD] [PAD] [PAD] [PAD] [PAD] [PAD] [PAD] [PAD] [PAD] [PAD] [PAD] [PAD] [PAD] [PAD] [PAD] [PAD] [PAD] [PAD] [PAD] [PAD] [PAD] [PAD] [PAD] [PAD] [PAD] [PAD] [PAD] [PAD] [PAD] [PAD] [PAD] [PAD] [PAD] [PAD] [PAD] [PAD] [PAD] [PAD] [PAD] [PAD] [PAD] [PAD] [PAD] [PAD] [PAD] [PAD] [PAD] [PAD] [PAD] [PAD] [PAD] [PAD] [PAD] [PAD] [PAD] [PAD] [PAD] [PAD] [PAD] [PAD] [PAD] [PAD] [PAD] [PAD] [PAD] [PAD] [PAD] [PAD] [PAD] [PAD] [PAD] [PAD] [PAD] [PAD] \n",
      "\n",
      "[CLS] La técnica utilizada fue la propuesta por Ob ##wege ##ser et al . [SEP] [PAD] [PAD] [PAD] [PAD] [PAD] [PAD] [PAD] [PAD] [PAD] [PAD] [PAD] [PAD] [PAD] [PAD] [PAD] [PAD] [PAD] [PAD] [PAD] [PAD] [PAD] [PAD] [PAD] [PAD] [PAD] [PAD] [PAD] [PAD] [PAD] [PAD] [PAD] [PAD] [PAD] [PAD] [PAD] [PAD] [PAD] [PAD] [PAD] [PAD] [PAD] [PAD] [PAD] [PAD] [PAD] [PAD] [PAD] [PAD] [PAD] [PAD] [PAD] [PAD] [PAD] [PAD] [PAD] [PAD] [PAD] [PAD] [PAD] [PAD] [PAD] [PAD] [PAD] [PAD] [PAD] [PAD] [PAD] [PAD] [PAD] [PAD] [PAD] [PAD] [PAD] [PAD] [PAD] [PAD] [PAD] [PAD] [PAD] [PAD] [PAD] [PAD] [PAD] [PAD] [PAD] [PAD] [PAD] [PAD] [PAD] [PAD] [PAD] [PAD] [PAD] [PAD] [PAD] [PAD] [PAD] [PAD] [PAD] [PAD] [PAD] [PAD] [PAD] [PAD] [PAD] [PAD] [PAD] [PAD] [PAD] [PAD] [PAD] [PAD] [PAD] \n",
      "\n",
      "[CLS] ( 1964 ) 10 , en la que se realizó una res ##ec ##ción del segmento central y del áp ##ice de la lengua , con lo que se consiguió la dis ##minución de sus dimensiones en el sentido ante ##rop ##oster ##ior y trans ##versa ##l , para que los problemas relacionados con el habla fue ##sen at ##enu ##ados . [SEP] [PAD] [PAD] [PAD] [PAD] [PAD] [PAD] [PAD] [PAD] [PAD] [PAD] [PAD] [PAD] [PAD] [PAD] [PAD] [PAD] [PAD] [PAD] [PAD] [PAD] [PAD] [PAD] [PAD] [PAD] [PAD] [PAD] [PAD] [PAD] [PAD] [PAD] [PAD] [PAD] [PAD] [PAD] [PAD] [PAD] [PAD] [PAD] [PAD] [PAD] [PAD] [PAD] [PAD] [PAD] [PAD] [PAD] [PAD] [PAD] [PAD] [PAD] [PAD] [PAD] [PAD] [PAD] [PAD] [PAD] [PAD] [PAD] [PAD] [PAD] [PAD] [PAD] [PAD] [PAD] \n",
      "\n",
      "[CLS] Para el ad ##ecu ##ado control del sang ##rado trans ##oper ##atorio y fac ##ilidad de ejecución , la ci ##rug ##ía se realizó bajo ane ##stes ##ia general con int ##uba ##ción oro ##tra ##que ##al , debido a la presencia de hip ##ert ##ro ##f ##ía de los corn ##etes nasa ##les que im ##pid ##ió el pasa ##je de la sonda nas ##ot ##raq ##ue ##al . [SEP] [PAD] [PAD] [PAD] [PAD] [PAD] [PAD] [PAD] [PAD] [PAD] [PAD] [PAD] [PAD] [PAD] [PAD] [PAD] [PAD] [PAD] [PAD] [PAD] [PAD] [PAD] [PAD] [PAD] [PAD] [PAD] [PAD] [PAD] [PAD] [PAD] [PAD] [PAD] [PAD] [PAD] [PAD] [PAD] [PAD] [PAD] [PAD] [PAD] [PAD] [PAD] [PAD] [PAD] [PAD] [PAD] [PAD] [PAD] [PAD] [PAD] [PAD] [PAD] [PAD] [PAD] [PAD] [PAD] [PAD] \n",
      "\n",
      "[CLS] Para la realización de las in ##cisione ##s , fueron establecido ##s puntos de rep ##aro con hil ##o de algo ##dón 2 . 0 en las extrem ##idades laterales y anteriores de la lengua y fue utilizada una pin ##za de apre ##hen ##sión de tej ##ido del tipo All ##is para auxiliar en la dis ##ec ##ción . [SEP] [PAD] [PAD] [PAD] [PAD] [PAD] [PAD] [PAD] [PAD] [PAD] [PAD] [PAD] [PAD] [PAD] [PAD] [PAD] [PAD] [PAD] [PAD] [PAD] [PAD] [PAD] [PAD] [PAD] [PAD] [PAD] [PAD] [PAD] [PAD] [PAD] [PAD] [PAD] [PAD] [PAD] [PAD] [PAD] [PAD] [PAD] [PAD] [PAD] [PAD] [PAD] [PAD] [PAD] [PAD] [PAD] [PAD] [PAD] [PAD] [PAD] [PAD] [PAD] [PAD] [PAD] [PAD] [PAD] [PAD] [PAD] [PAD] [PAD] [PAD] [PAD] [PAD] [PAD] [PAD] [PAD] [PAD] \n",
      "\n",
      "[CLS] Después de la esta ##bili ##zación , fueron realizadas la dem ##ar ##cación de la in ##cisión con azul de met ##ilen ##o y las in ##fil ##tra ##ciones de ane ##st ##ési ##co local ( lid ##oca ##ína 2 % con epi ##ne ##fr ##ina 1 : 200 . 000 ) . [SEP] [PAD] [PAD] [PAD] [PAD] [PAD] [PAD] [PAD] [PAD] [PAD] [PAD] [PAD] [PAD] [PAD] [PAD] [PAD] [PAD] [PAD] [PAD] [PAD] [PAD] [PAD] [PAD] [PAD] [PAD] [PAD] [PAD] [PAD] [PAD] [PAD] [PAD] [PAD] [PAD] [PAD] [PAD] [PAD] [PAD] [PAD] [PAD] [PAD] [PAD] [PAD] [PAD] [PAD] [PAD] [PAD] [PAD] [PAD] [PAD] [PAD] [PAD] [PAD] [PAD] [PAD] [PAD] [PAD] [PAD] [PAD] [PAD] [PAD] [PAD] [PAD] [PAD] [PAD] [PAD] [PAD] [PAD] [PAD] [PAD] [PAD] [PAD] [PAD] [PAD] [PAD] \n",
      "\n",
      "[CLS] La re ##mo ##ción del segmento dem ##ar ##cado se eje ##cut ##ó con un dis ##ector qui ##rú ##rgi ##co eléctrico ( ag ##uja col ##rado , St ##ryk ##er Corporation ##® ) en el sentido áp ##ice - base , prese ##rva ##ndo los borde ##s laterales y mini ##mi ##zando el riesgo de les ##iones en las ramas del ner ##vio lingua ##l . [SEP] [PAD] [PAD] [PAD] [PAD] [PAD] [PAD] [PAD] [PAD] [PAD] [PAD] [PAD] [PAD] [PAD] [PAD] [PAD] [PAD] [PAD] [PAD] [PAD] [PAD] [PAD] [PAD] [PAD] [PAD] [PAD] [PAD] [PAD] [PAD] [PAD] [PAD] [PAD] [PAD] [PAD] [PAD] [PAD] [PAD] [PAD] [PAD] [PAD] [PAD] [PAD] [PAD] [PAD] [PAD] [PAD] [PAD] [PAD] [PAD] [PAD] [PAD] [PAD] [PAD] [PAD] [PAD] [PAD] [PAD] [PAD] [PAD] [PAD] \n",
      "\n",
      "[CLS] El segmento fue re ##mov ##ido y se ef ##ect ##u ##ó una hem ##ostas ##ia cuidado ##sa para mini ##mi ##zar los riesgo ##s de hem ##ato ##ma lingua ##l y el sang ##rado posto ##perator ##io . [SEP] [PAD] [PAD] [PAD] [PAD] [PAD] [PAD] [PAD] [PAD] [PAD] [PAD] [PAD] [PAD] [PAD] [PAD] [PAD] [PAD] [PAD] [PAD] [PAD] [PAD] [PAD] [PAD] [PAD] [PAD] [PAD] [PAD] [PAD] [PAD] [PAD] [PAD] [PAD] [PAD] [PAD] [PAD] [PAD] [PAD] [PAD] [PAD] [PAD] [PAD] [PAD] [PAD] [PAD] [PAD] [PAD] [PAD] [PAD] [PAD] [PAD] [PAD] [PAD] [PAD] [PAD] [PAD] [PAD] [PAD] [PAD] [PAD] [PAD] [PAD] [PAD] [PAD] [PAD] [PAD] [PAD] [PAD] [PAD] [PAD] [PAD] [PAD] [PAD] [PAD] [PAD] [PAD] [PAD] [PAD] [PAD] [PAD] [PAD] [PAD] [PAD] [PAD] [PAD] [PAD] [PAD] [PAD] [PAD] \n",
      "\n",
      "[CLS] Después del control de sang ##rado , los segmento ##s fueron ap ##rox ##ima ##dos con hil ##o re ##ab ##sor ##bi ##ble ( Vic ##ryl 3 . 0 - ET ##HI ##CO ##N ) de la por ##ción más profunda para la superficial de forma min ##uc ##iosa en el sentido base - áp ##ice . [SEP] [PAD] [PAD] [PAD] [PAD] [PAD] [PAD] [PAD] [PAD] [PAD] [PAD] [PAD] [PAD] [PAD] [PAD] [PAD] [PAD] [PAD] [PAD] [PAD] [PAD] [PAD] [PAD] [PAD] [PAD] [PAD] [PAD] [PAD] [PAD] [PAD] [PAD] [PAD] [PAD] [PAD] [PAD] [PAD] [PAD] [PAD] [PAD] [PAD] [PAD] [PAD] [PAD] [PAD] [PAD] [PAD] [PAD] [PAD] [PAD] [PAD] [PAD] [PAD] [PAD] [PAD] [PAD] [PAD] [PAD] [PAD] [PAD] [PAD] [PAD] [PAD] [PAD] [PAD] [PAD] [PAD] [PAD] [PAD] [PAD] [PAD] \n",
      "\n",
      "[CLS] En el posto ##perator ##io in ##mediato fue ya posible veri ##ficar la dis ##minución anterior y trans ##versa ##l de la lengua sin com ##promiso de la vía aérea , y sin que o ##cu ##rri ##era ninguna com ##pli ##cación de naturaleza hem ##or ##rá ##gica o in ##fe ##ccio ##sa . [SEP] [PAD] [PAD] [PAD] [PAD] [PAD] [PAD] [PAD] [PAD] [PAD] [PAD] [PAD] [PAD] [PAD] [PAD] [PAD] [PAD] [PAD] [PAD] [PAD] [PAD] [PAD] [PAD] [PAD] [PAD] [PAD] [PAD] [PAD] [PAD] [PAD] [PAD] [PAD] [PAD] [PAD] [PAD] [PAD] [PAD] [PAD] [PAD] [PAD] [PAD] [PAD] [PAD] [PAD] [PAD] [PAD] [PAD] [PAD] [PAD] [PAD] [PAD] [PAD] [PAD] [PAD] [PAD] [PAD] [PAD] [PAD] [PAD] [PAD] [PAD] [PAD] [PAD] [PAD] [PAD] [PAD] [PAD] [PAD] [PAD] [PAD] [PAD] [PAD] [PAD] \n",
      "\n",
      "[CLS] A los 10 días del posto ##perator ##io , el paciente empezó el tratamiento fon ##oa ##udio ##lógico para ayudar el retorno de la mot ##ilidad de la lengua y de la fon ##ación . [SEP] [PAD] [PAD] [PAD] [PAD] [PAD] [PAD] [PAD] [PAD] [PAD] [PAD] [PAD] [PAD] [PAD] [PAD] [PAD] [PAD] [PAD] [PAD] [PAD] [PAD] [PAD] [PAD] [PAD] [PAD] [PAD] [PAD] [PAD] [PAD] [PAD] [PAD] [PAD] [PAD] [PAD] [PAD] [PAD] [PAD] [PAD] [PAD] [PAD] [PAD] [PAD] [PAD] [PAD] [PAD] [PAD] [PAD] [PAD] [PAD] [PAD] [PAD] [PAD] [PAD] [PAD] [PAD] [PAD] [PAD] [PAD] [PAD] [PAD] [PAD] [PAD] [PAD] [PAD] [PAD] [PAD] [PAD] [PAD] [PAD] [PAD] [PAD] [PAD] [PAD] [PAD] [PAD] [PAD] [PAD] [PAD] [PAD] [PAD] [PAD] [PAD] [PAD] [PAD] [PAD] [PAD] [PAD] [PAD] [PAD] [PAD] [PAD] [PAD] \n",
      "\n",
      "[CLS] Actualmente , el paciente se encuentra con 3 años de posto ##perator ##io y una dis ##minución considerable del tamaño de la lengua en el sentido trans ##versa ##l y longitud ##inal , sin relato de pérdida sens ##itiva o gu ##stati ##va de la región . [SEP] [PAD] [PAD] [PAD] [PAD] [PAD] [PAD] [PAD] [PAD] [PAD] [PAD] [PAD] [PAD] [PAD] [PAD] [PAD] [PAD] [PAD] [PAD] [PAD] [PAD] [PAD] [PAD] [PAD] [PAD] [PAD] [PAD] [PAD] [PAD] [PAD] [PAD] [PAD] [PAD] [PAD] [PAD] [PAD] [PAD] [PAD] [PAD] [PAD] [PAD] [PAD] [PAD] [PAD] [PAD] [PAD] [PAD] [PAD] [PAD] [PAD] [PAD] [PAD] [PAD] [PAD] [PAD] [PAD] [PAD] [PAD] [PAD] [PAD] [PAD] [PAD] [PAD] [PAD] [PAD] [PAD] [PAD] [PAD] [PAD] [PAD] [PAD] [PAD] [PAD] [PAD] [PAD] [PAD] [PAD] [PAD] [PAD] [PAD] \n",
      "\n",
      "[CLS] Está siguiendo un tratamiento fon ##oa ##udi ##lógico y ort ##od ##ón ##ci ##co con el propósito de realizar un pro ##ced ##imiento qui ##rú ##rgi ##co para la corre ##cción de la disc ##re ##pan ##cia maxi ##loma ##ndi ##bula ##r . [SEP] [PAD] [PAD] [PAD] [PAD] [PAD] [PAD] [PAD] [PAD] [PAD] [PAD] [PAD] [PAD] [PAD] [PAD] [PAD] [PAD] [PAD] [PAD] [PAD] [PAD] [PAD] [PAD] [PAD] [PAD] [PAD] [PAD] [PAD] [PAD] [PAD] [PAD] [PAD] [PAD] [PAD] [PAD] [PAD] [PAD] [PAD] [PAD] [PAD] [PAD] [PAD] [PAD] [PAD] [PAD] [PAD] [PAD] [PAD] [PAD] [PAD] [PAD] [PAD] [PAD] [PAD] [PAD] [PAD] [PAD] [PAD] [PAD] [PAD] [PAD] [PAD] [PAD] [PAD] [PAD] [PAD] [PAD] [PAD] [PAD] [PAD] [PAD] [PAD] [PAD] [PAD] [PAD] [PAD] [PAD] [PAD] [PAD] [PAD] [PAD] [PAD] [PAD] [PAD] \n",
      "\n"
     ]
    }
   ],
   "source": [
    "check_id_frag = sum(train_frag[:check_id])\n",
    "for frag in train_ind[check_id_frag:check_id_frag + train_frag[check_id]]:\n",
    "    print(' '.join([tokenizer._token_dict_inv[ind] for ind in frag]), \"\\n\")"
   ]
  },
  {
   "cell_type": "code",
   "execution_count": 71,
   "metadata": {},
   "outputs": [
    {
     "data": {
      "text/plain": [
       "count    7025.000000\n",
       "mean        0.304911\n",
       "std         0.652322\n",
       "min         0.000000\n",
       "25%         0.000000\n",
       "50%         0.000000\n",
       "75%         0.000000\n",
       "max         6.000000\n",
       "dtype: float64"
      ]
     },
     "execution_count": 71,
     "metadata": {},
     "output_type": "execute_result"
    }
   ],
   "source": [
    "# Fragment labels distribution\n",
    "pd.Series(np.sum(train_y, axis=1)).describe()"
   ]
  },
  {
   "cell_type": "markdown",
   "metadata": {},
   "source": [
    "### Development corpus\n",
    "\n",
    "Only development texts that are annotated with CIE-Procedimiento codes are considered:"
   ]
  },
  {
   "cell_type": "code",
   "execution_count": 72,
   "metadata": {},
   "outputs": [
    {
     "data": {
      "text/plain": [
       "28"
      ]
     },
     "execution_count": 72,
     "metadata": {},
     "output_type": "execute_result"
    }
   ],
   "source": [
    "# Some dev documents (texts) are not annotated \n",
    "len(set(df_text_dev[\"doc_id\"]) - set(df_codes_dev_ner[\"doc_id\"]))"
   ]
  },
  {
   "cell_type": "code",
   "execution_count": 73,
   "metadata": {},
   "outputs": [],
   "source": [
    "dev_doc_list = sorted(set(df_codes_dev_ner[\"doc_id\"]))"
   ]
  },
  {
   "cell_type": "code",
   "execution_count": 74,
   "metadata": {},
   "outputs": [
    {
     "data": {
      "text/plain": [
       "222"
      ]
     },
     "execution_count": 74,
     "metadata": {},
     "output_type": "execute_result"
    }
   ],
   "source": [
    "len(dev_doc_list)"
   ]
  },
  {
   "cell_type": "code",
   "execution_count": 75,
   "metadata": {},
   "outputs": [
    {
     "name": "stdout",
     "output_type": "stream",
     "text": [
      "CPU times: user 16.8 ms, sys: 19 µs, total: 16.8 ms\n",
      "Wall time: 16.5 ms\n"
     ]
    }
   ],
   "source": [
    "%%time\n",
    "ss_sub_corpus_path = ss_corpus_path + \"dev/\"\n",
    "ss_files = [f for f in os.listdir(ss_sub_corpus_path) if os.path.isfile(ss_sub_corpus_path + f)]\n",
    "ss_dict_dev = load_ss_files(ss_files, ss_sub_corpus_path)"
   ]
  },
  {
   "cell_type": "code",
   "execution_count": 76,
   "metadata": {},
   "outputs": [
    {
     "name": "stderr",
     "output_type": "stream",
     "text": [
      "100%|██████████| 222/222 [00:03<00:00, 63.11it/s]"
     ]
    },
    {
     "name": "stdout",
     "output_type": "stream",
     "text": [
      "CPU times: user 3.57 s, sys: 11.5 ms, total: 3.59 s\n",
      "Wall time: 3.56 s\n"
     ]
    },
    {
     "name": "stderr",
     "output_type": "stream",
     "text": [
      "\n"
     ]
    }
   ],
   "source": [
    "%%time\n",
    "dev_ind, dev_seg, dev_y, dev_frag, dev_start_end_frag = ss_create_frag_input_data_bert(df_text=df_text_dev, \n",
    "                                                  text_col=text_col, \n",
    "                                                  df_ann=df_codes_dev_ner, doc_list=dev_doc_list, ss_dict=ss_dict_dev,\n",
    "                                                  tokenizer=tokenizer, lab_encoder=mlb_encoder, seq_len=SEQ_LEN,\n",
    "                                                  greedy=False)"
   ]
  },
  {
   "cell_type": "code",
   "execution_count": 77,
   "metadata": {},
   "outputs": [],
   "source": [
    "# Sanity check"
   ]
  },
  {
   "cell_type": "code",
   "execution_count": 78,
   "metadata": {},
   "outputs": [
    {
     "data": {
      "text/plain": [
       "(3808, 128)"
      ]
     },
     "execution_count": 78,
     "metadata": {},
     "output_type": "execute_result"
    }
   ],
   "source": [
    "dev_ind.shape"
   ]
  },
  {
   "cell_type": "code",
   "execution_count": 79,
   "metadata": {},
   "outputs": [
    {
     "data": {
      "text/plain": [
       "(3808, 128)"
      ]
     },
     "execution_count": 79,
     "metadata": {},
     "output_type": "execute_result"
    }
   ],
   "source": [
    "dev_seg.shape"
   ]
  },
  {
   "cell_type": "code",
   "execution_count": 80,
   "metadata": {},
   "outputs": [
    {
     "data": {
      "text/plain": [
       "(3808, 727)"
      ]
     },
     "execution_count": 80,
     "metadata": {},
     "output_type": "execute_result"
    }
   ],
   "source": [
    "dev_y.shape"
   ]
  },
  {
   "cell_type": "code",
   "execution_count": 81,
   "metadata": {},
   "outputs": [
    {
     "data": {
      "text/plain": [
       "222"
      ]
     },
     "execution_count": 81,
     "metadata": {},
     "output_type": "execute_result"
    }
   ],
   "source": [
    "len(dev_frag)"
   ]
  },
  {
   "cell_type": "code",
   "execution_count": 82,
   "metadata": {},
   "outputs": [
    {
     "data": {
      "text/plain": [
       "3808"
      ]
     },
     "execution_count": 82,
     "metadata": {},
     "output_type": "execute_result"
    }
   ],
   "source": [
    "len(dev_start_end_frag)"
   ]
  },
  {
   "cell_type": "code",
   "execution_count": 83,
   "metadata": {},
   "outputs": [
    {
     "data": {
      "text/plain": [
       "count    222.000000\n",
       "mean      17.153153\n",
       "std        8.327785\n",
       "min        4.000000\n",
       "25%       11.000000\n",
       "50%       15.000000\n",
       "75%       21.000000\n",
       "max       65.000000\n",
       "dtype: float64"
      ]
     },
     "execution_count": 83,
     "metadata": {},
     "output_type": "execute_result"
    }
   ],
   "source": [
    "# Check n_frag distribution across texts\n",
    "pd.Series(dev_frag).describe()"
   ]
  },
  {
   "cell_type": "code",
   "execution_count": 84,
   "metadata": {},
   "outputs": [],
   "source": [
    "# Inspect a randomly selected text and its encoded version\n",
    "check_id = np.random.randint(low=0, high=len(dev_doc_list), size=1)[0]"
   ]
  },
  {
   "cell_type": "code",
   "execution_count": 85,
   "metadata": {},
   "outputs": [
    {
     "data": {
      "text/plain": [
       "99"
      ]
     },
     "execution_count": 85,
     "metadata": {},
     "output_type": "execute_result"
    }
   ],
   "source": [
    "check_id"
   ]
  },
  {
   "cell_type": "code",
   "execution_count": 86,
   "metadata": {},
   "outputs": [
    {
     "data": {
      "text/plain": [
       "'S0365-66912011001000005-1'"
      ]
     },
     "execution_count": 86,
     "metadata": {},
     "output_type": "execute_result"
    }
   ],
   "source": [
    "dev_doc_list[check_id]"
   ]
  },
  {
   "cell_type": "code",
   "execution_count": 87,
   "metadata": {
    "scrolled": true
   },
   "outputs": [
    {
     "data": {
      "text/plain": [
       "'Mujer de 52 años que refirió disminución de agudeza visual (AV) espontánea en su ojo izquierdo (OI) ambliope. No tenía el antecedente de parto prematuro, ni historia familiar de enfermedad ocular.\\nEn la primera exploración, la mejor AV corregida fue de 1 en el ojo derecho (OD) (-1 cilindro 150o +3 esfera; longitud axial de 22,5mm) y de 0,025 en el ojo izquierdo (OI) (-0,75 cilindro 25o -13,25 esfera; longitud axial de 25,3mm).\\nEl estudio biomicroscópico del OI permitió identificar la mancha de Mittendorf localizada en el cuadrante nasal inferior de la cápsula posterior del cristalino y el extremo anterior de la AHP con contenido hemático en su interior. El ojo adelfo era normal. Los diámetros corneales horizontales midieron 12mm en ambos ojos (AO) y la tonometría de aplanación fue de 18mm Hg en AO.\\n\\nLa oftalmoscopia indirecta del OI mostró una hemorragia intravítrea leve difusa. El trayecto de la AHP se pudo seguir desde el nervio óptico hasta la cristaloides posterior. La arteria, fijada en sus dos extremos, se desplazaba libremente con los movimientos oculares. El vítreo posterior estaba desprendido parcialmente de la retina. No se hallaron anomalías retinianas periféricas, ni signos de tracción vitreorretiniana o desprendimiento de retina. El fondo del OD era normal.\\n\\nLa hemorragia se reabsorbió gradualmente en el transcurso de una semana. La AHP se pudo distinguir con más claridad permitiendo un mejor estudio anatómico. En la tomografía de coherencia óptica (TCO) se apreciaron las características morfológicas de la papila de Bergmeister. De esta, surgía la AHP que mostró una estructura tubular con un interior hiporreflectivo.\\n\\nEn la ecografía en modo B se evidenció una imagen lineal hiperecogénica respecto al vítreo que se correspondía con la AHP y un desprendimiento parcial de vítreo posterior. El eco-doppler demostró el flujo sanguíneo normal de la arteria central de la retina y de las arterias ciliares posteriores aunque no se objetivó la presencia de flujo sanguíneo activo en la AHP.\\n\\nEl hemograma y las pruebas específicas de coagulación fueron normales. El hemovítreo se reabsorbió completamente y la paciente recuperó la visión de 0,2 que presentaba antes de sobrevenir la hemorragia a causa de una ambliopía por anisometropía. No hubo recurrencia de sangrado en 6 meses de seguimiento.\\n\\n'"
      ]
     },
     "execution_count": 87,
     "metadata": {},
     "output_type": "execute_result"
    }
   ],
   "source": [
    "df_text_dev[df_text_dev[\"doc_id\"] == dev_doc_list[check_id]][text_col].values[0]"
   ]
  },
  {
   "cell_type": "code",
   "execution_count": 88,
   "metadata": {},
   "outputs": [
    {
     "name": "stdout",
     "output_type": "stream",
     "text": [
      "[()] \n",
      "\n",
      "[()] \n",
      "\n",
      "[()] \n",
      "\n",
      "[()] \n",
      "\n",
      "[()] \n",
      "\n",
      "[()] \n",
      "\n",
      "[()] \n",
      "\n",
      "[()] \n",
      "\n",
      "[()] \n",
      "\n",
      "[()] \n",
      "\n",
      "[()] \n",
      "\n",
      "[()] \n",
      "\n",
      "[()] \n",
      "\n",
      "[()] \n",
      "\n",
      "[()] \n",
      "\n",
      "[()] \n",
      "\n",
      "[()] \n",
      "\n",
      "[('b34vzzz',)] \n",
      "\n",
      "[()] \n",
      "\n",
      "[()] \n",
      "\n",
      "[()] \n",
      "\n"
     ]
    }
   ],
   "source": [
    "check_id_frag = sum(dev_frag[:check_id])\n",
    "for i in range(check_id_frag, check_id_frag + dev_frag[check_id]):\n",
    "    print(mlb_encoder.inverse_transform(np.array([dev_y[i]])), \"\\n\")"
   ]
  },
  {
   "cell_type": "code",
   "execution_count": 89,
   "metadata": {},
   "outputs": [
    {
     "name": "stdout",
     "output_type": "stream",
     "text": [
      "[('Mujer', (0, 5)), ('de', (6, 8)), ('52', (9, 11)), ('años', (12, 16)), ('que', (17, 20)), ('ref', (21, 24)), ('##iri', (24, 27)), ('##ó', (27, 28)), ('dis', (29, 32)), ('##minución', (32, 40)), ('de', (41, 43)), ('ag', (44, 46)), ('##ude', (46, 49)), ('##za', (49, 51)), ('visual', (52, 58)), ('(', (59, 60)), ('AV', (60, 62)), (')', (62, 63)), ('es', (64, 66)), ('##pont', (66, 70)), ('##án', (70, 72)), ('##ea', (72, 74)), ('en', (75, 77)), ('su', (78, 80)), ('ojo', (81, 84)), ('izquierdo', (85, 94)), ('(', (95, 96)), ('O', (96, 97)), ('##I', (97, 98)), (')', (98, 99)), ('amb', (100, 103)), ('##lio', (103, 106)), ('##pe', (106, 108)), ('.', (108, 109))]\n",
      "\n",
      "\n",
      "[('No', (110, 112)), ('tenía', (113, 118)), ('el', (119, 121)), ('ante', (122, 126)), ('##cedent', (126, 132)), ('##e', (132, 133)), ('de', (134, 136)), ('parto', (137, 142)), ('prema', (143, 148)), ('##tur', (148, 151)), ('##o', (151, 152)), (',', (152, 153)), ('ni', (154, 156)), ('historia', (157, 165)), ('familiar', (166, 174)), ('de', (175, 177)), ('enfermedad', (178, 188)), ('o', (189, 190)), ('##cular', (190, 195)), ('.', (195, 196))]\n",
      "\n",
      "\n",
      "[('En', (197, 199)), ('la', (200, 202)), ('primera', (203, 210)), ('ex', (211, 213)), ('##plo', (213, 216)), ('##ración', (216, 222)), (',', (222, 223)), ('la', (224, 226)), ('mejor', (227, 232)), ('AV', (233, 235)), ('corre', (236, 241)), ('##gida', (241, 245)), ('fue', (246, 249)), ('de', (250, 252)), ('1', (253, 254)), ('en', (255, 257)), ('el', (258, 260)), ('ojo', (261, 264)), ('derecho', (265, 272)), ('(', (273, 274)), ('O', (274, 275)), ('##D', (275, 276)), (')', (276, 277)), ('(', (278, 279)), ('-', (279, 280)), ('1', (280, 281)), ('cili', (282, 286)), ('##ndro', (286, 290)), ('150', (291, 294)), ('##o', (294, 295)), ('+', (296, 297)), ('3', (297, 298)), ('esfera', (299, 305)), (';', (305, 306)), ('longitud', (307, 315)), ('a', (316, 317)), ('##xia', (317, 320)), ('##l', (320, 321)), ('de', (322, 324)), ('22', (325, 327)), (',', (327, 328)), ('5', (328, 329)), ('##mm', (329, 331)), (')', (331, 332)), ('y', (333, 334)), ('de', (335, 337)), ('0', (338, 339)), (',', (339, 340)), ('025', (340, 343)), ('en', (344, 346)), ('el', (347, 349)), ('ojo', (350, 353)), ('izquierdo', (354, 363)), ('(', (364, 365)), ('O', (365, 366)), ('##I', (366, 367)), (')', (367, 368)), ('(', (369, 370)), ('-', (370, 371)), ('0', (371, 372)), (',', (372, 373)), ('75', (373, 375)), ('cili', (376, 380)), ('##ndro', (380, 384)), ('25', (385, 387)), ('##o', (387, 388)), ('-', (389, 390)), ('13', (390, 392)), (',', (392, 393)), ('25', (393, 395)), ('esfera', (396, 402)), (';', (402, 403)), ('longitud', (404, 412)), ('a', (413, 414)), ('##xia', (414, 417)), ('##l', (417, 418)), ('de', (419, 421)), ('25', (422, 424)), (',', (424, 425)), ('3', (425, 426)), ('##mm', (426, 428)), (')', (428, 429)), ('.', (429, 430))]\n",
      "\n",
      "\n",
      "[('El', (431, 433)), ('estudio', (434, 441)), ('bio', (442, 445)), ('##mic', (445, 448)), ('##ros', (448, 451)), ('##có', (451, 453)), ('##pico', (453, 457)), ('del', (458, 461)), ('O', (462, 463)), ('##I', (463, 464)), ('permitió', (465, 473)), ('identificar', (474, 485)), ('la', (486, 488)), ('man', (489, 492)), ('##cha', (492, 495)), ('de', (496, 498)), ('Mitte', (499, 504)), ('##ndorf', (504, 509)), ('localizada', (510, 520)), ('en', (521, 523)), ('el', (524, 526)), ('cu', (527, 529)), ('##ad', (529, 531)), ('##rante', (531, 536)), ('nasa', (537, 541)), ('##l', (541, 542)), ('inferior', (543, 551)), ('de', (552, 554)), ('la', (555, 557)), ('cá', (558, 560)), ('##ps', (560, 562)), ('##ula', (562, 565)), ('posterior', (566, 575)), ('del', (576, 579)), ('cristal', (580, 587)), ('##ino', (587, 590)), ('y', (591, 592)), ('el', (593, 595)), ('extremo', (596, 603)), ('anterior', (604, 612)), ('de', (613, 615)), ('la', (616, 618)), ('AH', (619, 621)), ('##P', (621, 622)), ('con', (623, 626)), ('contenido', (627, 636)), ('hem', (637, 640)), ('##ático', (640, 645)), ('en', (646, 648)), ('su', (649, 651)), ('interior', (652, 660)), ('.', (660, 661))]\n",
      "\n",
      "\n",
      "[('El', (662, 664)), ('ojo', (665, 668)), ('adel', (669, 673)), ('##fo', (673, 675)), ('era', (676, 679)), ('normal', (680, 686)), ('.', (686, 687))]\n",
      "\n",
      "\n",
      "[('Los', (688, 691)), ('diámetro', (692, 700)), ('##s', (700, 701)), ('corn', (702, 706)), ('##eal', (706, 709)), ('##es', (709, 711)), ('horizontal', (712, 722)), ('##es', (722, 724)), ('midi', (725, 729)), ('##eron', (729, 733)), ('12', (734, 736)), ('##mm', (736, 738)), ('en', (739, 741)), ('ambos', (742, 747)), ('ojos', (748, 752)), ('(', (753, 754)), ('A', (754, 755)), ('##O', (755, 756)), (')', (756, 757)), ('y', (758, 759)), ('la', (760, 762)), ('tono', (763, 767)), ('##met', (767, 770)), ('##ría', (770, 773)), ('de', (774, 776)), ('ap', (777, 779)), ('##lana', (779, 783)), ('##ción', (783, 787)), ('fue', (788, 791)), ('de', (792, 794)), ('18', (795, 797)), ('##mm', (797, 799)), ('Hg', (800, 802)), ('en', (803, 805)), ('A', (806, 807)), ('##O', (807, 808)), ('.', (808, 809))]\n",
      "\n",
      "\n",
      "[('La', (811, 813)), ('ofta', (814, 818)), ('##lmos', (818, 822)), ('##co', (822, 824)), ('##pia', (824, 827)), ('ind', (828, 831)), ('##irect', (831, 836)), ('##a', (836, 837)), ('del', (838, 841)), ('O', (842, 843)), ('##I', (843, 844)), ('mostró', (845, 851)), ('una', (852, 855)), ('hem', (856, 859)), ('##or', (859, 861)), ('##rag', (861, 864)), ('##ia', (864, 866)), ('intra', (867, 872)), ('##ví', (872, 874)), ('##tre', (874, 877)), ('##a', (877, 878)), ('leve', (879, 883)), ('di', (884, 886)), ('##fusa', (886, 890)), ('.', (890, 891))]\n",
      "\n",
      "\n",
      "[('El', (892, 894)), ('tra', (895, 898)), ('##yecto', (898, 903)), ('de', (904, 906)), ('la', (907, 909)), ('AH', (910, 912)), ('##P', (912, 913)), ('se', (914, 916)), ('pudo', (917, 921)), ('seguir', (922, 928)), ('desde', (929, 934)), ('el', (935, 937)), ('ner', (938, 941)), ('##vio', (941, 944)), ('ó', (945, 946)), ('##ptic', (946, 950)), ('##o', (950, 951)), ('hasta', (952, 957)), ('la', (958, 960)), ('cristal', (961, 968)), ('##oides', (968, 973)), ('posterior', (974, 983)), ('.', (983, 984))]\n",
      "\n",
      "\n",
      "[('La', (985, 987)), ('arteria', (988, 995)), (',', (995, 996)), ('fi', (997, 999)), ('##jada', (999, 1003)), ('en', (1004, 1006)), ('sus', (1007, 1010)), ('dos', (1011, 1014)), ('extremos', (1015, 1023)), (',', (1023, 1024)), ('se', (1025, 1027)), ('des', (1028, 1031)), ('##pla', (1031, 1034)), ('##zaba', (1034, 1038)), ('libre', (1039, 1044)), ('##mente', (1044, 1049)), ('con', (1050, 1053)), ('los', (1054, 1057)), ('movimientos', (1058, 1069)), ('o', (1070, 1071)), ('##cular', (1071, 1076)), ('##es', (1076, 1078)), ('.', (1078, 1079))]\n",
      "\n",
      "\n",
      "[('El', (1080, 1082)), ('ví', (1083, 1085)), ('##tre', (1085, 1088)), ('##o', (1088, 1089)), ('posterior', (1090, 1099)), ('estaba', (1100, 1106)), ('despre', (1107, 1113)), ('##ndi', (1113, 1116)), ('##do', (1116, 1118)), ('parcialmente', (1119, 1131)), ('de', (1132, 1134)), ('la', (1135, 1137)), ('reti', (1138, 1142)), ('##na', (1142, 1144)), ('.', (1144, 1145))]\n",
      "\n",
      "\n",
      "[('No', (1146, 1148)), ('se', (1149, 1151)), ('hall', (1152, 1156)), ('##aron', (1156, 1160)), ('ano', (1161, 1164)), ('##mal', (1164, 1167)), ('##ías', (1167, 1170)), ('reti', (1171, 1175)), ('##niana', (1175, 1180)), ('##s', (1180, 1181)), ('per', (1182, 1185)), ('##if', (1185, 1187)), ('##érica', (1187, 1192)), ('##s', (1192, 1193)), (',', (1193, 1194)), ('ni', (1195, 1197)), ('sign', (1198, 1202)), ('##os', (1202, 1204)), ('de', (1205, 1207)), ('tra', (1208, 1211)), ('##cción', (1211, 1216)), ('vit', (1217, 1220)), ('##reo', (1220, 1223)), ('##rre', (1223, 1226)), ('##tini', (1226, 1230)), ('##ana', (1230, 1233)), ('o', (1234, 1235)), ('despre', (1236, 1242)), ('##ndi', (1242, 1245)), ('##miento', (1245, 1251)), ('de', (1252, 1254)), ('reti', (1255, 1259)), ('##na', (1259, 1261)), ('.', (1261, 1262))]\n",
      "\n",
      "\n",
      "[('El', (1263, 1265)), ('fondo', (1266, 1271)), ('del', (1272, 1275)), ('O', (1276, 1277)), ('##D', (1277, 1278)), ('era', (1279, 1282)), ('normal', (1283, 1289)), ('.', (1289, 1290))]\n",
      "\n",
      "\n",
      "[('La', (1292, 1294)), ('hem', (1295, 1298)), ('##or', (1298, 1300)), ('##rag', (1300, 1303)), ('##ia', (1303, 1305)), ('se', (1306, 1308)), ('re', (1309, 1311)), ('##ab', (1311, 1313)), ('##sor', (1313, 1316)), ('##bió', (1316, 1319)), ('gradualmente', (1320, 1332)), ('en', (1333, 1335)), ('el', (1336, 1338)), ('trans', (1339, 1344)), ('##curso', (1344, 1349)), ('de', (1350, 1352)), ('una', (1353, 1356)), ('semana', (1357, 1363)), ('.', (1363, 1364))]\n",
      "\n",
      "\n",
      "[('La', (1365, 1367)), ('AH', (1368, 1370)), ('##P', (1370, 1371)), ('se', (1372, 1374)), ('pudo', (1375, 1379)), ('dis', (1380, 1383)), ('##ting', (1383, 1387)), ('##uir', (1387, 1390)), ('con', (1391, 1394)), ('más', (1395, 1398)), ('clar', (1399, 1403)), ('##idad', (1403, 1407)), ('permit', (1408, 1414)), ('##iendo', (1414, 1419)), ('un', (1420, 1422)), ('mejor', (1423, 1428)), ('estudio', (1429, 1436)), ('ana', (1437, 1440)), ('##tó', (1440, 1442)), ('##mico', (1442, 1446)), ('.', (1446, 1447))]\n",
      "\n",
      "\n",
      "[('En', (1448, 1450)), ('la', (1451, 1453)), ('tom', (1454, 1457)), ('##ografía', (1457, 1464)), ('de', (1465, 1467)), ('co', (1468, 1470)), ('##here', (1470, 1474)), ('##ncia', (1474, 1478)), ('ó', (1479, 1480)), ('##ptica', (1480, 1485)), ('(', (1486, 1487)), ('TC', (1487, 1489)), ('##O', (1489, 1490)), (')', (1490, 1491)), ('se', (1492, 1494)), ('apre', (1495, 1499)), ('##ciar', (1499, 1503)), ('##on', (1503, 1505)), ('las', (1506, 1509)), ('características', (1510, 1525)), ('mor', (1526, 1529)), ('##fo', (1529, 1531)), ('##lógica', (1531, 1537)), ('##s', (1537, 1538)), ('de', (1539, 1541)), ('la', (1542, 1544)), ('pa', (1545, 1547)), ('##pila', (1547, 1551)), ('de', (1552, 1554)), ('Berg', (1555, 1559)), ('##meister', (1559, 1566)), ('.', (1566, 1567))]\n",
      "\n",
      "\n",
      "[('De', (1568, 1570)), ('esta', (1571, 1575)), (',', (1575, 1576)), ('sur', (1577, 1580)), ('##gía', (1580, 1583)), ('la', (1584, 1586)), ('AH', (1587, 1589)), ('##P', (1589, 1590)), ('que', (1591, 1594)), ('mostró', (1595, 1601)), ('una', (1602, 1605)), ('estructura', (1606, 1616)), ('tu', (1617, 1619)), ('##bula', (1619, 1623)), ('##r', (1623, 1624)), ('con', (1625, 1628)), ('un', (1629, 1631)), ('interior', (1632, 1640)), ('hip', (1641, 1644)), ('##orre', (1644, 1648)), ('##f', (1648, 1649)), ('##lec', (1649, 1652)), ('##tivo', (1652, 1656)), ('.', (1656, 1657))]\n",
      "\n",
      "\n",
      "[('En', (1659, 1661)), ('la', (1662, 1664)), ('e', (1665, 1666)), ('##co', (1666, 1668)), ('##grafía', (1668, 1674)), ('en', (1675, 1677)), ('modo', (1678, 1682)), ('B', (1683, 1684)), ('se', (1685, 1687)), ('evi', (1688, 1691)), ('##den', (1691, 1694)), ('##ció', (1694, 1697)), ('una', (1698, 1701)), ('imagen', (1702, 1708)), ('lineal', (1709, 1715)), ('hip', (1716, 1719)), ('##ere', (1719, 1722)), ('##co', (1722, 1724)), ('##gé', (1724, 1726)), ('##nica', (1726, 1730)), ('respecto', (1731, 1739)), ('al', (1740, 1742)), ('ví', (1743, 1745)), ('##tre', (1745, 1748)), ('##o', (1748, 1749)), ('que', (1750, 1753)), ('se', (1754, 1756)), ('correspond', (1757, 1767)), ('##ía', (1767, 1769)), ('con', (1770, 1773)), ('la', (1774, 1776)), ('AH', (1777, 1779)), ('##P', (1779, 1780)), ('y', (1781, 1782)), ('un', (1783, 1785)), ('despre', (1786, 1792)), ('##ndi', (1792, 1795)), ('##miento', (1795, 1801)), ('parcial', (1802, 1809)), ('de', (1810, 1812)), ('ví', (1813, 1815)), ('##tre', (1815, 1818)), ('##o', (1818, 1819)), ('posterior', (1820, 1829)), ('.', (1829, 1830))]\n",
      "\n",
      "\n",
      "[('El', (1831, 1833)), ('e', (1834, 1835)), ('##co', (1835, 1837)), ('-', (1837, 1838)), ('do', (1838, 1840)), ('##pp', (1840, 1842)), ('##ler', (1842, 1845)), ('demo', (1846, 1850)), ('##stró', (1850, 1854)), ('el', (1855, 1857)), ('fl', (1858, 1860)), ('##ujo', (1860, 1863)), ('sang', (1864, 1868)), ('##u', (1868, 1869)), ('##íne', (1869, 1872)), ('##o', (1872, 1873)), ('normal', (1874, 1880)), ('de', (1881, 1883)), ('la', (1884, 1886)), ('arteria', (1887, 1894)), ('central', (1895, 1902)), ('de', (1903, 1905)), ('la', (1906, 1908)), ('reti', (1909, 1913)), ('##na', (1913, 1915)), ('y', (1916, 1917)), ('de', (1918, 1920)), ('las', (1921, 1924)), ('arteria', (1925, 1932)), ('##s', (1932, 1933)), ('cili', (1934, 1938)), ('##ares', (1938, 1942)), ('posteriores', (1943, 1954)), ('aunque', (1955, 1961)), ('no', (1962, 1964)), ('se', (1965, 1967)), ('objet', (1968, 1973)), ('##iv', (1973, 1975)), ('##ó', (1975, 1976)), ('la', (1977, 1979)), ('presencia', (1980, 1989)), ('de', (1990, 1992)), ('fl', (1993, 1995)), ('##ujo', (1995, 1998)), ('sang', (1999, 2003)), ('##u', (2003, 2004)), ('##íne', (2004, 2007)), ('##o', (2007, 2008)), ('activo', (2009, 2015)), ('en', (2016, 2018)), ('la', (2019, 2021)), ('AH', (2022, 2024)), ('##P', (2024, 2025)), ('.', (2025, 2026))]\n",
      "\n",
      "\n",
      "[('El', (2028, 2030)), ('hem', (2031, 2034)), ('##og', (2034, 2036)), ('##rama', (2036, 2040)), ('y', (2041, 2042)), ('las', (2043, 2046)), ('pruebas', (2047, 2054)), ('específica', (2055, 2065)), ('##s', (2065, 2066)), ('de', (2067, 2069)), ('coa', (2070, 2073)), ('##gula', (2073, 2077)), ('##ción', (2077, 2081)), ('fueron', (2082, 2088)), ('normale', (2089, 2096)), ('##s', (2096, 2097)), ('.', (2097, 2098))]\n",
      "\n",
      "\n",
      "[('El', (2099, 2101)), ('hem', (2102, 2105)), ('##ov', (2105, 2107)), ('##ít', (2107, 2109)), ('##reo', (2109, 2112)), ('se', (2113, 2115)), ('re', (2116, 2118)), ('##ab', (2118, 2120)), ('##sor', (2120, 2123)), ('##bió', (2123, 2126)), ('completamente', (2127, 2140)), ('y', (2141, 2142)), ('la', (2143, 2145)), ('paciente', (2146, 2154)), ('re', (2155, 2157)), ('##cup', (2157, 2160)), ('##er', (2160, 2162)), ('##ó', (2162, 2163)), ('la', (2164, 2166)), ('visión', (2167, 2173)), ('de', (2174, 2176)), ('0', (2177, 2178)), (',', (2178, 2179)), ('2', (2179, 2180)), ('que', (2181, 2184)), ('presenta', (2185, 2193)), ('##ba', (2193, 2195)), ('antes', (2196, 2201)), ('de', (2202, 2204)), ('sobre', (2205, 2210)), ('##venir', (2210, 2215)), ('la', (2216, 2218)), ('hem', (2219, 2222)), ('##or', (2222, 2224)), ('##rag', (2224, 2227)), ('##ia', (2227, 2229)), ('a', (2230, 2231)), ('causa', (2232, 2237)), ('de', (2238, 2240)), ('una', (2241, 2244)), ('amb', (2245, 2248)), ('##lio', (2248, 2251)), ('##pía', (2251, 2254)), ('por', (2255, 2258)), ('ani', (2259, 2262)), ('##some', (2262, 2266)), ('##tro', (2266, 2269)), ('##pía', (2269, 2272)), ('.', (2272, 2273))]\n",
      "\n",
      "\n",
      "[('No', (2274, 2276)), ('hubo', (2277, 2281)), ('re', (2282, 2284)), ('##cu', (2284, 2286)), ('##rren', (2286, 2290)), ('##cia', (2290, 2293)), ('de', (2294, 2296)), ('sang', (2297, 2301)), ('##rado', (2301, 2305)), ('en', (2306, 2308)), ('6', (2309, 2310)), ('meses', (2311, 2316)), ('de', (2317, 2319)), ('seg', (2320, 2323)), ('##ui', (2323, 2325)), ('##miento', (2325, 2331)), ('.', (2331, 2332))]\n",
      "\n",
      "\n"
     ]
    }
   ],
   "source": [
    "for i in range(check_id_frag, check_id_frag + dev_frag[check_id]):\n",
    "    print(list(zip([tokenizer._token_dict_inv[ind] for ind in dev_ind[i]][1:len(dev_start_end_frag[i])+1], \n",
    "               dev_start_end_frag[i])))\n",
    "    print(\"\\n\")"
   ]
  },
  {
   "cell_type": "code",
   "execution_count": 90,
   "metadata": {},
   "outputs": [
    {
     "name": "stdout",
     "output_type": "stream",
     "text": [
      "[CLS] Mujer de 52 años que ref ##iri ##ó dis ##minución de ag ##ude ##za visual ( AV ) es ##pont ##án ##ea en su ojo izquierdo ( O ##I ) amb ##lio ##pe . [SEP] [PAD] [PAD] [PAD] [PAD] [PAD] [PAD] [PAD] [PAD] [PAD] [PAD] [PAD] [PAD] [PAD] [PAD] [PAD] [PAD] [PAD] [PAD] [PAD] [PAD] [PAD] [PAD] [PAD] [PAD] [PAD] [PAD] [PAD] [PAD] [PAD] [PAD] [PAD] [PAD] [PAD] [PAD] [PAD] [PAD] [PAD] [PAD] [PAD] [PAD] [PAD] [PAD] [PAD] [PAD] [PAD] [PAD] [PAD] [PAD] [PAD] [PAD] [PAD] [PAD] [PAD] [PAD] [PAD] [PAD] [PAD] [PAD] [PAD] [PAD] [PAD] [PAD] [PAD] [PAD] [PAD] [PAD] [PAD] [PAD] [PAD] [PAD] [PAD] [PAD] [PAD] [PAD] [PAD] [PAD] [PAD] [PAD] [PAD] [PAD] [PAD] [PAD] [PAD] [PAD] [PAD] [PAD] [PAD] [PAD] [PAD] [PAD] [PAD] [PAD] \n",
      "\n",
      "[CLS] No tenía el ante ##cedent ##e de parto prema ##tur ##o , ni historia familiar de enfermedad o ##cular . [SEP] [PAD] [PAD] [PAD] [PAD] [PAD] [PAD] [PAD] [PAD] [PAD] [PAD] [PAD] [PAD] [PAD] [PAD] [PAD] [PAD] [PAD] [PAD] [PAD] [PAD] [PAD] [PAD] [PAD] [PAD] [PAD] [PAD] [PAD] [PAD] [PAD] [PAD] [PAD] [PAD] [PAD] [PAD] [PAD] [PAD] [PAD] [PAD] [PAD] [PAD] [PAD] [PAD] [PAD] [PAD] [PAD] [PAD] [PAD] [PAD] [PAD] [PAD] [PAD] [PAD] [PAD] [PAD] [PAD] [PAD] [PAD] [PAD] [PAD] [PAD] [PAD] [PAD] [PAD] [PAD] [PAD] [PAD] [PAD] [PAD] [PAD] [PAD] [PAD] [PAD] [PAD] [PAD] [PAD] [PAD] [PAD] [PAD] [PAD] [PAD] [PAD] [PAD] [PAD] [PAD] [PAD] [PAD] [PAD] [PAD] [PAD] [PAD] [PAD] [PAD] [PAD] [PAD] [PAD] [PAD] [PAD] [PAD] [PAD] [PAD] [PAD] [PAD] [PAD] [PAD] [PAD] [PAD] \n",
      "\n",
      "[CLS] En la primera ex ##plo ##ración , la mejor AV corre ##gida fue de 1 en el ojo derecho ( O ##D ) ( - 1 cili ##ndro 150 ##o + 3 esfera ; longitud a ##xia ##l de 22 , 5 ##mm ) y de 0 , 025 en el ojo izquierdo ( O ##I ) ( - 0 , 75 cili ##ndro 25 ##o - 13 , 25 esfera ; longitud a ##xia ##l de 25 , 3 ##mm ) . [SEP] [PAD] [PAD] [PAD] [PAD] [PAD] [PAD] [PAD] [PAD] [PAD] [PAD] [PAD] [PAD] [PAD] [PAD] [PAD] [PAD] [PAD] [PAD] [PAD] [PAD] [PAD] [PAD] [PAD] [PAD] [PAD] [PAD] [PAD] [PAD] [PAD] [PAD] [PAD] [PAD] [PAD] [PAD] [PAD] [PAD] [PAD] [PAD] [PAD] [PAD] [PAD] [PAD] [PAD] \n",
      "\n",
      "[CLS] El estudio bio ##mic ##ros ##có ##pico del O ##I permitió identificar la man ##cha de Mitte ##ndorf localizada en el cu ##ad ##rante nasa ##l inferior de la cá ##ps ##ula posterior del cristal ##ino y el extremo anterior de la AH ##P con contenido hem ##ático en su interior . [SEP] [PAD] [PAD] [PAD] [PAD] [PAD] [PAD] [PAD] [PAD] [PAD] [PAD] [PAD] [PAD] [PAD] [PAD] [PAD] [PAD] [PAD] [PAD] [PAD] [PAD] [PAD] [PAD] [PAD] [PAD] [PAD] [PAD] [PAD] [PAD] [PAD] [PAD] [PAD] [PAD] [PAD] [PAD] [PAD] [PAD] [PAD] [PAD] [PAD] [PAD] [PAD] [PAD] [PAD] [PAD] [PAD] [PAD] [PAD] [PAD] [PAD] [PAD] [PAD] [PAD] [PAD] [PAD] [PAD] [PAD] [PAD] [PAD] [PAD] [PAD] [PAD] [PAD] [PAD] [PAD] [PAD] [PAD] [PAD] [PAD] [PAD] [PAD] [PAD] [PAD] [PAD] [PAD] \n",
      "\n",
      "[CLS] El ojo adel ##fo era normal . [SEP] [PAD] [PAD] [PAD] [PAD] [PAD] [PAD] [PAD] [PAD] [PAD] [PAD] [PAD] [PAD] [PAD] [PAD] [PAD] [PAD] [PAD] [PAD] [PAD] [PAD] [PAD] [PAD] [PAD] [PAD] [PAD] [PAD] [PAD] [PAD] [PAD] [PAD] [PAD] [PAD] [PAD] [PAD] [PAD] [PAD] [PAD] [PAD] [PAD] [PAD] [PAD] [PAD] [PAD] [PAD] [PAD] [PAD] [PAD] [PAD] [PAD] [PAD] [PAD] [PAD] [PAD] [PAD] [PAD] [PAD] [PAD] [PAD] [PAD] [PAD] [PAD] [PAD] [PAD] [PAD] [PAD] [PAD] [PAD] [PAD] [PAD] [PAD] [PAD] [PAD] [PAD] [PAD] [PAD] [PAD] [PAD] [PAD] [PAD] [PAD] [PAD] [PAD] [PAD] [PAD] [PAD] [PAD] [PAD] [PAD] [PAD] [PAD] [PAD] [PAD] [PAD] [PAD] [PAD] [PAD] [PAD] [PAD] [PAD] [PAD] [PAD] [PAD] [PAD] [PAD] [PAD] [PAD] [PAD] [PAD] [PAD] [PAD] [PAD] [PAD] [PAD] [PAD] [PAD] [PAD] [PAD] [PAD] [PAD] \n",
      "\n",
      "[CLS] Los diámetro ##s corn ##eal ##es horizontal ##es midi ##eron 12 ##mm en ambos ojos ( A ##O ) y la tono ##met ##ría de ap ##lana ##ción fue de 18 ##mm Hg en A ##O . [SEP] [PAD] [PAD] [PAD] [PAD] [PAD] [PAD] [PAD] [PAD] [PAD] [PAD] [PAD] [PAD] [PAD] [PAD] [PAD] [PAD] [PAD] [PAD] [PAD] [PAD] [PAD] [PAD] [PAD] [PAD] [PAD] [PAD] [PAD] [PAD] [PAD] [PAD] [PAD] [PAD] [PAD] [PAD] [PAD] [PAD] [PAD] [PAD] [PAD] [PAD] [PAD] [PAD] [PAD] [PAD] [PAD] [PAD] [PAD] [PAD] [PAD] [PAD] [PAD] [PAD] [PAD] [PAD] [PAD] [PAD] [PAD] [PAD] [PAD] [PAD] [PAD] [PAD] [PAD] [PAD] [PAD] [PAD] [PAD] [PAD] [PAD] [PAD] [PAD] [PAD] [PAD] [PAD] [PAD] [PAD] [PAD] [PAD] [PAD] [PAD] [PAD] [PAD] [PAD] [PAD] [PAD] [PAD] [PAD] [PAD] [PAD] \n",
      "\n",
      "[CLS] La ofta ##lmos ##co ##pia ind ##irect ##a del O ##I mostró una hem ##or ##rag ##ia intra ##ví ##tre ##a leve di ##fusa . [SEP] [PAD] [PAD] [PAD] [PAD] [PAD] [PAD] [PAD] [PAD] [PAD] [PAD] [PAD] [PAD] [PAD] [PAD] [PAD] [PAD] [PAD] [PAD] [PAD] [PAD] [PAD] [PAD] [PAD] [PAD] [PAD] [PAD] [PAD] [PAD] [PAD] [PAD] [PAD] [PAD] [PAD] [PAD] [PAD] [PAD] [PAD] [PAD] [PAD] [PAD] [PAD] [PAD] [PAD] [PAD] [PAD] [PAD] [PAD] [PAD] [PAD] [PAD] [PAD] [PAD] [PAD] [PAD] [PAD] [PAD] [PAD] [PAD] [PAD] [PAD] [PAD] [PAD] [PAD] [PAD] [PAD] [PAD] [PAD] [PAD] [PAD] [PAD] [PAD] [PAD] [PAD] [PAD] [PAD] [PAD] [PAD] [PAD] [PAD] [PAD] [PAD] [PAD] [PAD] [PAD] [PAD] [PAD] [PAD] [PAD] [PAD] [PAD] [PAD] [PAD] [PAD] [PAD] [PAD] [PAD] [PAD] [PAD] [PAD] [PAD] [PAD] \n",
      "\n",
      "[CLS] El tra ##yecto de la AH ##P se pudo seguir desde el ner ##vio ó ##ptic ##o hasta la cristal ##oides posterior . [SEP] [PAD] [PAD] [PAD] [PAD] [PAD] [PAD] [PAD] [PAD] [PAD] [PAD] [PAD] [PAD] [PAD] [PAD] [PAD] [PAD] [PAD] [PAD] [PAD] [PAD] [PAD] [PAD] [PAD] [PAD] [PAD] [PAD] [PAD] [PAD] [PAD] [PAD] [PAD] [PAD] [PAD] [PAD] [PAD] [PAD] [PAD] [PAD] [PAD] [PAD] [PAD] [PAD] [PAD] [PAD] [PAD] [PAD] [PAD] [PAD] [PAD] [PAD] [PAD] [PAD] [PAD] [PAD] [PAD] [PAD] [PAD] [PAD] [PAD] [PAD] [PAD] [PAD] [PAD] [PAD] [PAD] [PAD] [PAD] [PAD] [PAD] [PAD] [PAD] [PAD] [PAD] [PAD] [PAD] [PAD] [PAD] [PAD] [PAD] [PAD] [PAD] [PAD] [PAD] [PAD] [PAD] [PAD] [PAD] [PAD] [PAD] [PAD] [PAD] [PAD] [PAD] [PAD] [PAD] [PAD] [PAD] [PAD] [PAD] [PAD] [PAD] [PAD] [PAD] \n",
      "\n",
      "[CLS] La arteria , fi ##jada en sus dos extremos , se des ##pla ##zaba libre ##mente con los movimientos o ##cular ##es . [SEP] [PAD] [PAD] [PAD] [PAD] [PAD] [PAD] [PAD] [PAD] [PAD] [PAD] [PAD] [PAD] [PAD] [PAD] [PAD] [PAD] [PAD] [PAD] [PAD] [PAD] [PAD] [PAD] [PAD] [PAD] [PAD] [PAD] [PAD] [PAD] [PAD] [PAD] [PAD] [PAD] [PAD] [PAD] [PAD] [PAD] [PAD] [PAD] [PAD] [PAD] [PAD] [PAD] [PAD] [PAD] [PAD] [PAD] [PAD] [PAD] [PAD] [PAD] [PAD] [PAD] [PAD] [PAD] [PAD] [PAD] [PAD] [PAD] [PAD] [PAD] [PAD] [PAD] [PAD] [PAD] [PAD] [PAD] [PAD] [PAD] [PAD] [PAD] [PAD] [PAD] [PAD] [PAD] [PAD] [PAD] [PAD] [PAD] [PAD] [PAD] [PAD] [PAD] [PAD] [PAD] [PAD] [PAD] [PAD] [PAD] [PAD] [PAD] [PAD] [PAD] [PAD] [PAD] [PAD] [PAD] [PAD] [PAD] [PAD] [PAD] [PAD] [PAD] [PAD] \n",
      "\n",
      "[CLS] El ví ##tre ##o posterior estaba despre ##ndi ##do parcialmente de la reti ##na . [SEP] [PAD] [PAD] [PAD] [PAD] [PAD] [PAD] [PAD] [PAD] [PAD] [PAD] [PAD] [PAD] [PAD] [PAD] [PAD] [PAD] [PAD] [PAD] [PAD] [PAD] [PAD] [PAD] [PAD] [PAD] [PAD] [PAD] [PAD] [PAD] [PAD] [PAD] [PAD] [PAD] [PAD] [PAD] [PAD] [PAD] [PAD] [PAD] [PAD] [PAD] [PAD] [PAD] [PAD] [PAD] [PAD] [PAD] [PAD] [PAD] [PAD] [PAD] [PAD] [PAD] [PAD] [PAD] [PAD] [PAD] [PAD] [PAD] [PAD] [PAD] [PAD] [PAD] [PAD] [PAD] [PAD] [PAD] [PAD] [PAD] [PAD] [PAD] [PAD] [PAD] [PAD] [PAD] [PAD] [PAD] [PAD] [PAD] [PAD] [PAD] [PAD] [PAD] [PAD] [PAD] [PAD] [PAD] [PAD] [PAD] [PAD] [PAD] [PAD] [PAD] [PAD] [PAD] [PAD] [PAD] [PAD] [PAD] [PAD] [PAD] [PAD] [PAD] [PAD] [PAD] [PAD] [PAD] [PAD] [PAD] [PAD] [PAD] [PAD] \n",
      "\n",
      "[CLS] No se hall ##aron ano ##mal ##ías reti ##niana ##s per ##if ##érica ##s , ni sign ##os de tra ##cción vit ##reo ##rre ##tini ##ana o despre ##ndi ##miento de reti ##na . [SEP] [PAD] [PAD] [PAD] [PAD] [PAD] [PAD] [PAD] [PAD] [PAD] [PAD] [PAD] [PAD] [PAD] [PAD] [PAD] [PAD] [PAD] [PAD] [PAD] [PAD] [PAD] [PAD] [PAD] [PAD] [PAD] [PAD] [PAD] [PAD] [PAD] [PAD] [PAD] [PAD] [PAD] [PAD] [PAD] [PAD] [PAD] [PAD] [PAD] [PAD] [PAD] [PAD] [PAD] [PAD] [PAD] [PAD] [PAD] [PAD] [PAD] [PAD] [PAD] [PAD] [PAD] [PAD] [PAD] [PAD] [PAD] [PAD] [PAD] [PAD] [PAD] [PAD] [PAD] [PAD] [PAD] [PAD] [PAD] [PAD] [PAD] [PAD] [PAD] [PAD] [PAD] [PAD] [PAD] [PAD] [PAD] [PAD] [PAD] [PAD] [PAD] [PAD] [PAD] [PAD] [PAD] [PAD] [PAD] [PAD] [PAD] [PAD] [PAD] [PAD] \n",
      "\n",
      "[CLS] El fondo del O ##D era normal . [SEP] [PAD] [PAD] [PAD] [PAD] [PAD] [PAD] [PAD] [PAD] [PAD] [PAD] [PAD] [PAD] [PAD] [PAD] [PAD] [PAD] [PAD] [PAD] [PAD] [PAD] [PAD] [PAD] [PAD] [PAD] [PAD] [PAD] [PAD] [PAD] [PAD] [PAD] [PAD] [PAD] [PAD] [PAD] [PAD] [PAD] [PAD] [PAD] [PAD] [PAD] [PAD] [PAD] [PAD] [PAD] [PAD] [PAD] [PAD] [PAD] [PAD] [PAD] [PAD] [PAD] [PAD] [PAD] [PAD] [PAD] [PAD] [PAD] [PAD] [PAD] [PAD] [PAD] [PAD] [PAD] [PAD] [PAD] [PAD] [PAD] [PAD] [PAD] [PAD] [PAD] [PAD] [PAD] [PAD] [PAD] [PAD] [PAD] [PAD] [PAD] [PAD] [PAD] [PAD] [PAD] [PAD] [PAD] [PAD] [PAD] [PAD] [PAD] [PAD] [PAD] [PAD] [PAD] [PAD] [PAD] [PAD] [PAD] [PAD] [PAD] [PAD] [PAD] [PAD] [PAD] [PAD] [PAD] [PAD] [PAD] [PAD] [PAD] [PAD] [PAD] [PAD] [PAD] [PAD] [PAD] [PAD] [PAD] \n",
      "\n",
      "[CLS] La hem ##or ##rag ##ia se re ##ab ##sor ##bió gradualmente en el trans ##curso de una semana . [SEP] [PAD] [PAD] [PAD] [PAD] [PAD] [PAD] [PAD] [PAD] [PAD] [PAD] [PAD] [PAD] [PAD] [PAD] [PAD] [PAD] [PAD] [PAD] [PAD] [PAD] [PAD] [PAD] [PAD] [PAD] [PAD] [PAD] [PAD] [PAD] [PAD] [PAD] [PAD] [PAD] [PAD] [PAD] [PAD] [PAD] [PAD] [PAD] [PAD] [PAD] [PAD] [PAD] [PAD] [PAD] [PAD] [PAD] [PAD] [PAD] [PAD] [PAD] [PAD] [PAD] [PAD] [PAD] [PAD] [PAD] [PAD] [PAD] [PAD] [PAD] [PAD] [PAD] [PAD] [PAD] [PAD] [PAD] [PAD] [PAD] [PAD] [PAD] [PAD] [PAD] [PAD] [PAD] [PAD] [PAD] [PAD] [PAD] [PAD] [PAD] [PAD] [PAD] [PAD] [PAD] [PAD] [PAD] [PAD] [PAD] [PAD] [PAD] [PAD] [PAD] [PAD] [PAD] [PAD] [PAD] [PAD] [PAD] [PAD] [PAD] [PAD] [PAD] [PAD] [PAD] [PAD] [PAD] [PAD] \n",
      "\n",
      "[CLS] La AH ##P se pudo dis ##ting ##uir con más clar ##idad permit ##iendo un mejor estudio ana ##tó ##mico . [SEP] [PAD] [PAD] [PAD] [PAD] [PAD] [PAD] [PAD] [PAD] [PAD] [PAD] [PAD] [PAD] [PAD] [PAD] [PAD] [PAD] [PAD] [PAD] [PAD] [PAD] [PAD] [PAD] [PAD] [PAD] [PAD] [PAD] [PAD] [PAD] [PAD] [PAD] [PAD] [PAD] [PAD] [PAD] [PAD] [PAD] [PAD] [PAD] [PAD] [PAD] [PAD] [PAD] [PAD] [PAD] [PAD] [PAD] [PAD] [PAD] [PAD] [PAD] [PAD] [PAD] [PAD] [PAD] [PAD] [PAD] [PAD] [PAD] [PAD] [PAD] [PAD] [PAD] [PAD] [PAD] [PAD] [PAD] [PAD] [PAD] [PAD] [PAD] [PAD] [PAD] [PAD] [PAD] [PAD] [PAD] [PAD] [PAD] [PAD] [PAD] [PAD] [PAD] [PAD] [PAD] [PAD] [PAD] [PAD] [PAD] [PAD] [PAD] [PAD] [PAD] [PAD] [PAD] [PAD] [PAD] [PAD] [PAD] [PAD] [PAD] [PAD] [PAD] [PAD] [PAD] [PAD] \n",
      "\n",
      "[CLS] En la tom ##ografía de co ##here ##ncia ó ##ptica ( TC ##O ) se apre ##ciar ##on las características mor ##fo ##lógica ##s de la pa ##pila de Berg ##meister . [SEP] [PAD] [PAD] [PAD] [PAD] [PAD] [PAD] [PAD] [PAD] [PAD] [PAD] [PAD] [PAD] [PAD] [PAD] [PAD] [PAD] [PAD] [PAD] [PAD] [PAD] [PAD] [PAD] [PAD] [PAD] [PAD] [PAD] [PAD] [PAD] [PAD] [PAD] [PAD] [PAD] [PAD] [PAD] [PAD] [PAD] [PAD] [PAD] [PAD] [PAD] [PAD] [PAD] [PAD] [PAD] [PAD] [PAD] [PAD] [PAD] [PAD] [PAD] [PAD] [PAD] [PAD] [PAD] [PAD] [PAD] [PAD] [PAD] [PAD] [PAD] [PAD] [PAD] [PAD] [PAD] [PAD] [PAD] [PAD] [PAD] [PAD] [PAD] [PAD] [PAD] [PAD] [PAD] [PAD] [PAD] [PAD] [PAD] [PAD] [PAD] [PAD] [PAD] [PAD] [PAD] [PAD] [PAD] [PAD] [PAD] [PAD] [PAD] [PAD] [PAD] [PAD] [PAD] \n",
      "\n",
      "[CLS] De esta , sur ##gía la AH ##P que mostró una estructura tu ##bula ##r con un interior hip ##orre ##f ##lec ##tivo . [SEP] [PAD] [PAD] [PAD] [PAD] [PAD] [PAD] [PAD] [PAD] [PAD] [PAD] [PAD] [PAD] [PAD] [PAD] [PAD] [PAD] [PAD] [PAD] [PAD] [PAD] [PAD] [PAD] [PAD] [PAD] [PAD] [PAD] [PAD] [PAD] [PAD] [PAD] [PAD] [PAD] [PAD] [PAD] [PAD] [PAD] [PAD] [PAD] [PAD] [PAD] [PAD] [PAD] [PAD] [PAD] [PAD] [PAD] [PAD] [PAD] [PAD] [PAD] [PAD] [PAD] [PAD] [PAD] [PAD] [PAD] [PAD] [PAD] [PAD] [PAD] [PAD] [PAD] [PAD] [PAD] [PAD] [PAD] [PAD] [PAD] [PAD] [PAD] [PAD] [PAD] [PAD] [PAD] [PAD] [PAD] [PAD] [PAD] [PAD] [PAD] [PAD] [PAD] [PAD] [PAD] [PAD] [PAD] [PAD] [PAD] [PAD] [PAD] [PAD] [PAD] [PAD] [PAD] [PAD] [PAD] [PAD] [PAD] [PAD] [PAD] [PAD] [PAD] \n",
      "\n",
      "[CLS] En la e ##co ##grafía en modo B se evi ##den ##ció una imagen lineal hip ##ere ##co ##gé ##nica respecto al ví ##tre ##o que se correspond ##ía con la AH ##P y un despre ##ndi ##miento parcial de ví ##tre ##o posterior . [SEP] [PAD] [PAD] [PAD] [PAD] [PAD] [PAD] [PAD] [PAD] [PAD] [PAD] [PAD] [PAD] [PAD] [PAD] [PAD] [PAD] [PAD] [PAD] [PAD] [PAD] [PAD] [PAD] [PAD] [PAD] [PAD] [PAD] [PAD] [PAD] [PAD] [PAD] [PAD] [PAD] [PAD] [PAD] [PAD] [PAD] [PAD] [PAD] [PAD] [PAD] [PAD] [PAD] [PAD] [PAD] [PAD] [PAD] [PAD] [PAD] [PAD] [PAD] [PAD] [PAD] [PAD] [PAD] [PAD] [PAD] [PAD] [PAD] [PAD] [PAD] [PAD] [PAD] [PAD] [PAD] [PAD] [PAD] [PAD] [PAD] [PAD] [PAD] [PAD] [PAD] [PAD] [PAD] [PAD] [PAD] [PAD] [PAD] [PAD] [PAD] [PAD] \n",
      "\n",
      "[CLS] El e ##co - do ##pp ##ler demo ##stró el fl ##ujo sang ##u ##íne ##o normal de la arteria central de la reti ##na y de las arteria ##s cili ##ares posteriores aunque no se objet ##iv ##ó la presencia de fl ##ujo sang ##u ##íne ##o activo en la AH ##P . [SEP] [PAD] [PAD] [PAD] [PAD] [PAD] [PAD] [PAD] [PAD] [PAD] [PAD] [PAD] [PAD] [PAD] [PAD] [PAD] [PAD] [PAD] [PAD] [PAD] [PAD] [PAD] [PAD] [PAD] [PAD] [PAD] [PAD] [PAD] [PAD] [PAD] [PAD] [PAD] [PAD] [PAD] [PAD] [PAD] [PAD] [PAD] [PAD] [PAD] [PAD] [PAD] [PAD] [PAD] [PAD] [PAD] [PAD] [PAD] [PAD] [PAD] [PAD] [PAD] [PAD] [PAD] [PAD] [PAD] [PAD] [PAD] [PAD] [PAD] [PAD] [PAD] [PAD] [PAD] [PAD] [PAD] [PAD] [PAD] [PAD] [PAD] [PAD] [PAD] [PAD] \n",
      "\n",
      "[CLS] El hem ##og ##rama y las pruebas específica ##s de coa ##gula ##ción fueron normale ##s . [SEP] [PAD] [PAD] [PAD] [PAD] [PAD] [PAD] [PAD] [PAD] [PAD] [PAD] [PAD] [PAD] [PAD] [PAD] [PAD] [PAD] [PAD] [PAD] [PAD] [PAD] [PAD] [PAD] [PAD] [PAD] [PAD] [PAD] [PAD] [PAD] [PAD] [PAD] [PAD] [PAD] [PAD] [PAD] [PAD] [PAD] [PAD] [PAD] [PAD] [PAD] [PAD] [PAD] [PAD] [PAD] [PAD] [PAD] [PAD] [PAD] [PAD] [PAD] [PAD] [PAD] [PAD] [PAD] [PAD] [PAD] [PAD] [PAD] [PAD] [PAD] [PAD] [PAD] [PAD] [PAD] [PAD] [PAD] [PAD] [PAD] [PAD] [PAD] [PAD] [PAD] [PAD] [PAD] [PAD] [PAD] [PAD] [PAD] [PAD] [PAD] [PAD] [PAD] [PAD] [PAD] [PAD] [PAD] [PAD] [PAD] [PAD] [PAD] [PAD] [PAD] [PAD] [PAD] [PAD] [PAD] [PAD] [PAD] [PAD] [PAD] [PAD] [PAD] [PAD] [PAD] [PAD] [PAD] [PAD] [PAD] [PAD] \n",
      "\n",
      "[CLS] El hem ##ov ##ít ##reo se re ##ab ##sor ##bió completamente y la paciente re ##cup ##er ##ó la visión de 0 , 2 que presenta ##ba antes de sobre ##venir la hem ##or ##rag ##ia a causa de una amb ##lio ##pía por ani ##some ##tro ##pía . [SEP] [PAD] [PAD] [PAD] [PAD] [PAD] [PAD] [PAD] [PAD] [PAD] [PAD] [PAD] [PAD] [PAD] [PAD] [PAD] [PAD] [PAD] [PAD] [PAD] [PAD] [PAD] [PAD] [PAD] [PAD] [PAD] [PAD] [PAD] [PAD] [PAD] [PAD] [PAD] [PAD] [PAD] [PAD] [PAD] [PAD] [PAD] [PAD] [PAD] [PAD] [PAD] [PAD] [PAD] [PAD] [PAD] [PAD] [PAD] [PAD] [PAD] [PAD] [PAD] [PAD] [PAD] [PAD] [PAD] [PAD] [PAD] [PAD] [PAD] [PAD] [PAD] [PAD] [PAD] [PAD] [PAD] [PAD] [PAD] [PAD] [PAD] [PAD] [PAD] [PAD] [PAD] [PAD] [PAD] [PAD] [PAD] \n",
      "\n",
      "[CLS] No hubo re ##cu ##rren ##cia de sang ##rado en 6 meses de seg ##ui ##miento . [SEP] [PAD] [PAD] [PAD] [PAD] [PAD] [PAD] [PAD] [PAD] [PAD] [PAD] [PAD] [PAD] [PAD] [PAD] [PAD] [PAD] [PAD] [PAD] [PAD] [PAD] [PAD] [PAD] [PAD] [PAD] [PAD] [PAD] [PAD] [PAD] [PAD] [PAD] [PAD] [PAD] [PAD] [PAD] [PAD] [PAD] [PAD] [PAD] [PAD] [PAD] [PAD] [PAD] [PAD] [PAD] [PAD] [PAD] [PAD] [PAD] [PAD] [PAD] [PAD] [PAD] [PAD] [PAD] [PAD] [PAD] [PAD] [PAD] [PAD] [PAD] [PAD] [PAD] [PAD] [PAD] [PAD] [PAD] [PAD] [PAD] [PAD] [PAD] [PAD] [PAD] [PAD] [PAD] [PAD] [PAD] [PAD] [PAD] [PAD] [PAD] [PAD] [PAD] [PAD] [PAD] [PAD] [PAD] [PAD] [PAD] [PAD] [PAD] [PAD] [PAD] [PAD] [PAD] [PAD] [PAD] [PAD] [PAD] [PAD] [PAD] [PAD] [PAD] [PAD] [PAD] [PAD] [PAD] [PAD] [PAD] [PAD] \n",
      "\n"
     ]
    }
   ],
   "source": [
    "check_id_frag = sum(dev_frag[:check_id])\n",
    "for frag in dev_ind[check_id_frag:check_id_frag + dev_frag[check_id]]:\n",
    "    print(' '.join([tokenizer._token_dict_inv[ind] for ind in frag]), \"\\n\")"
   ]
  },
  {
   "cell_type": "code",
   "execution_count": 91,
   "metadata": {},
   "outputs": [
    {
     "data": {
      "text/plain": [
       "count    3808.000000\n",
       "mean        0.309086\n",
       "std         0.637504\n",
       "min         0.000000\n",
       "25%         0.000000\n",
       "50%         0.000000\n",
       "75%         0.000000\n",
       "max         5.000000\n",
       "dtype: float64"
      ]
     },
     "execution_count": 91,
     "metadata": {},
     "output_type": "execute_result"
    }
   ],
   "source": [
    "# Fragment labels distribution\n",
    "pd.Series(np.sum(dev_y, axis=1)).describe()"
   ]
  },
  {
   "cell_type": "markdown",
   "metadata": {},
   "source": [
    "### Training & Development corpus\n",
    "\n",
    "We merge the previously generated datasets:"
   ]
  },
  {
   "cell_type": "code",
   "execution_count": 92,
   "metadata": {},
   "outputs": [],
   "source": [
    "# Indices\n",
    "train_dev_ind = np.concatenate((train_ind, dev_ind))"
   ]
  },
  {
   "cell_type": "code",
   "execution_count": 93,
   "metadata": {},
   "outputs": [
    {
     "data": {
      "text/plain": [
       "(10833, 128)"
      ]
     },
     "execution_count": 93,
     "metadata": {},
     "output_type": "execute_result"
    }
   ],
   "source": [
    "train_dev_ind.shape"
   ]
  },
  {
   "cell_type": "code",
   "execution_count": 94,
   "metadata": {},
   "outputs": [],
   "source": [
    "# Segments\n",
    "train_dev_seg = np.concatenate((train_seg, dev_seg))"
   ]
  },
  {
   "cell_type": "code",
   "execution_count": 95,
   "metadata": {},
   "outputs": [
    {
     "data": {
      "text/plain": [
       "(10833, 128)"
      ]
     },
     "execution_count": 95,
     "metadata": {},
     "output_type": "execute_result"
    }
   ],
   "source": [
    "train_dev_seg.shape"
   ]
  },
  {
   "cell_type": "code",
   "execution_count": 96,
   "metadata": {},
   "outputs": [],
   "source": [
    "# y\n",
    "train_dev_y = np.concatenate((train_y, dev_y))"
   ]
  },
  {
   "cell_type": "code",
   "execution_count": 97,
   "metadata": {},
   "outputs": [
    {
     "data": {
      "text/plain": [
       "(10833, 727)"
      ]
     },
     "execution_count": 97,
     "metadata": {},
     "output_type": "execute_result"
    }
   ],
   "source": [
    "train_dev_y.shape"
   ]
  },
  {
   "cell_type": "markdown",
   "metadata": {},
   "source": [
    "## Fine-tuning\n",
    "\n",
    "Using the corpus of labeled sentences, we fine-tune the model on a multi-label sentence classification task."
   ]
  },
  {
   "cell_type": "code",
   "execution_count": 98,
   "metadata": {},
   "outputs": [],
   "source": [
    "from keras.backend.tensorflow_backend import set_session\n",
    "\n",
    "# Prevent GPU memory allocation problems\n",
    "config = tf.ConfigProto()\n",
    "config.gpu_options.allow_growth = True\n",
    "set_session(tf.Session(config=config))"
   ]
  },
  {
   "cell_type": "code",
   "execution_count": 99,
   "metadata": {},
   "outputs": [],
   "source": [
    "from keras_bert import load_trained_model_from_checkpoint\n",
    "\n",
    "model = load_trained_model_from_checkpoint(\n",
    "    config_file=config_path, \n",
    "    checkpoint_file=checkpoint_path, \n",
    "    training=training,                                       \n",
    "    trainable=trainable, \n",
    "    seq_len=SEQ_LEN\n",
    ")"
   ]
  },
  {
   "cell_type": "code",
   "execution_count": 100,
   "metadata": {},
   "outputs": [
    {
     "data": {
      "text/plain": [
       "[<tf.Tensor 'Input-Token:0' shape=(?, 128) dtype=float32>,\n",
       " <tf.Tensor 'Input-Segment:0' shape=(?, 128) dtype=float32>]"
      ]
     },
     "execution_count": 100,
     "metadata": {},
     "output_type": "execute_result"
    }
   ],
   "source": [
    "model.inputs"
   ]
  },
  {
   "cell_type": "code",
   "execution_count": 101,
   "metadata": {},
   "outputs": [
    {
     "data": {
      "text/plain": [
       "[<tf.Tensor 'Encoder-12-FeedForward-Norm/add_1:0' shape=(?, 128, 768) dtype=float32>]"
      ]
     },
     "execution_count": 101,
     "metadata": {},
     "output_type": "execute_result"
    }
   ],
   "source": [
    "model.outputs"
   ]
  },
  {
   "cell_type": "code",
   "execution_count": 102,
   "metadata": {},
   "outputs": [],
   "source": [
    "from keras.layers import Dense, Activation\n",
    "from keras.models import Model\n",
    "from keras.initializers import glorot_uniform\n",
    "from keras_bert.layers import Extract\n",
    "\n",
    "dense_cls = Extract(index=0, name='Extract')(model.output) # In order to extract CLS token embedding\n",
    "dense_out = Dense(units=num_labels, kernel_initializer=glorot_uniform(seed=random_seed))(dense_cls) # Multi-label classification\n",
    "outputs = Activation('sigmoid')(dense_out)\n",
    "\n",
    "model = Model(model.inputs, outputs)"
   ]
  },
  {
   "cell_type": "code",
   "execution_count": 103,
   "metadata": {},
   "outputs": [
    {
     "data": {
      "text/plain": [
       "[<tf.Tensor 'Input-Token:0' shape=(?, 128) dtype=float32>,\n",
       " <tf.Tensor 'Input-Segment:0' shape=(?, 128) dtype=float32>]"
      ]
     },
     "execution_count": 103,
     "metadata": {},
     "output_type": "execute_result"
    }
   ],
   "source": [
    "model.inputs"
   ]
  },
  {
   "cell_type": "code",
   "execution_count": 104,
   "metadata": {},
   "outputs": [
    {
     "data": {
      "text/plain": [
       "[<tf.Tensor 'activation_1/Sigmoid:0' shape=(?, 727) dtype=float32>]"
      ]
     },
     "execution_count": 104,
     "metadata": {},
     "output_type": "execute_result"
    }
   ],
   "source": [
    "model.outputs"
   ]
  },
  {
   "cell_type": "code",
   "execution_count": null,
   "metadata": {},
   "outputs": [
    {
     "name": "stdout",
     "output_type": "stream",
     "text": [
      "Epoch 1/30\n",
      "10833/10833 [==============================] - 161s 15ms/step - loss: 0.2331\n",
      "Epoch 2/30\n",
      "10833/10833 [==============================] - 160s 15ms/step - loss: 0.0251\n",
      "Epoch 3/30\n",
      "10833/10833 [==============================] - 161s 15ms/step - loss: 0.0085\n",
      "Epoch 4/30\n",
      "10833/10833 [==============================] - 161s 15ms/step - loss: 0.0052\n",
      "Epoch 5/30\n",
      "10833/10833 [==============================] - 161s 15ms/step - loss: 0.0041\n",
      "Epoch 6/30\n",
      "10833/10833 [==============================] - 161s 15ms/step - loss: 0.0037\n",
      "Epoch 7/30\n",
      " 9584/10833 [=========================>....] - ETA: 18s - loss: 0.0035"
     ]
    }
   ],
   "source": [
    "%%time\n",
    "from keras_radam import RAdam\n",
    "\n",
    "model.compile(\n",
    "    optimizer=RAdam(learning_rate=LR),\n",
    "    loss='binary_crossentropy'\n",
    ")\n",
    "\n",
    "history = model.fit(\n",
    "    x=[train_dev_ind, train_dev_seg],\n",
    "    y=train_dev_y,\n",
    "    epochs=EPOCHS,\n",
    "    batch_size=BATCH_SIZE,\n",
    "    shuffle=True\n",
    ")"
   ]
  },
  {
   "cell_type": "markdown",
   "metadata": {},
   "source": [
    "## Test set predictions\n",
    "\n",
    "Finally, the predictions made by the model on the test set are saved. For this purpose, firstly, each sentence from the test corpus must be converted into a sequence of subwords (input IDs and attention mask arrays). Then, the predictions made by the model at the sentence-level are saved, to be further evaluated at document-level (see `results/CodiEsp-P/Evaluation.ipynb`)."
   ]
  },
  {
   "cell_type": "code",
   "execution_count": 108,
   "metadata": {},
   "outputs": [
    {
     "name": "stdout",
     "output_type": "stream",
     "text": [
      "CPU times: user 5.75 ms, sys: 336 µs, total: 6.09 ms\n",
      "Wall time: 5.17 ms\n"
     ]
    }
   ],
   "source": [
    "%%time\n",
    "test_path = corpus_path + \"test/text_files/\"\n",
    "test_files = [f for f in os.listdir(test_path) if os.path.isfile(test_path + f)]\n",
    "test_data = load_text_files(test_files, test_path)\n",
    "df_text_test = pd.DataFrame({'doc_id': [s.split('.txt')[0] for s in test_files], 'raw_text': test_data})"
   ]
  },
  {
   "cell_type": "code",
   "execution_count": 109,
   "metadata": {},
   "outputs": [
    {
     "data": {
      "text/plain": [
       "(250, 2)"
      ]
     },
     "execution_count": 109,
     "metadata": {},
     "output_type": "execute_result"
    }
   ],
   "source": [
    "df_text_test.shape"
   ]
  },
  {
   "cell_type": "code",
   "execution_count": 110,
   "metadata": {},
   "outputs": [
    {
     "data": {
      "text/html": [
       "<div>\n",
       "<style scoped>\n",
       "    .dataframe tbody tr th:only-of-type {\n",
       "        vertical-align: middle;\n",
       "    }\n",
       "\n",
       "    .dataframe tbody tr th {\n",
       "        vertical-align: top;\n",
       "    }\n",
       "\n",
       "    .dataframe thead th {\n",
       "        text-align: right;\n",
       "    }\n",
       "</style>\n",
       "<table border=\"1\" class=\"dataframe\">\n",
       "  <thead>\n",
       "    <tr style=\"text-align: right;\">\n",
       "      <th></th>\n",
       "      <th>doc_id</th>\n",
       "      <th>raw_text</th>\n",
       "    </tr>\n",
       "  </thead>\n",
       "  <tbody>\n",
       "    <tr>\n",
       "      <th>0</th>\n",
       "      <td>S1698-44472004000400012-1</td>\n",
       "      <td>Varón de 54 años de edad, remitido a nuestro s...</td>\n",
       "    </tr>\n",
       "    <tr>\n",
       "      <th>1</th>\n",
       "      <td>S1130-05582012000300005-1</td>\n",
       "      <td>Acude a nuestras consultas a un paciente que p...</td>\n",
       "    </tr>\n",
       "    <tr>\n",
       "      <th>2</th>\n",
       "      <td>S0212-16112009000300015-1</td>\n",
       "      <td>Se trató de un varón de 77 años con antecedent...</td>\n",
       "    </tr>\n",
       "    <tr>\n",
       "      <th>3</th>\n",
       "      <td>S1139-76322014000500014-1</td>\n",
       "      <td>Niño de cinco años derivado por su pediatra de...</td>\n",
       "    </tr>\n",
       "    <tr>\n",
       "      <th>4</th>\n",
       "      <td>S0212-71992004000300009-1</td>\n",
       "      <td>Varón de 22 años de edad que acude a consultas...</td>\n",
       "    </tr>\n",
       "  </tbody>\n",
       "</table>\n",
       "</div>"
      ],
      "text/plain": [
       "                      doc_id  \\\n",
       "0  S1698-44472004000400012-1   \n",
       "1  S1130-05582012000300005-1   \n",
       "2  S0212-16112009000300015-1   \n",
       "3  S1139-76322014000500014-1   \n",
       "4  S0212-71992004000300009-1   \n",
       "\n",
       "                                            raw_text  \n",
       "0  Varón de 54 años de edad, remitido a nuestro s...  \n",
       "1  Acude a nuestras consultas a un paciente que p...  \n",
       "2  Se trató de un varón de 77 años con antecedent...  \n",
       "3  Niño de cinco años derivado por su pediatra de...  \n",
       "4  Varón de 22 años de edad que acude a consultas...  "
      ]
     },
     "execution_count": 110,
     "metadata": {},
     "output_type": "execute_result"
    }
   ],
   "source": [
    "df_text_test.head()"
   ]
  },
  {
   "cell_type": "code",
   "execution_count": 111,
   "metadata": {},
   "outputs": [
    {
     "data": {
      "text/plain": [
       "'Varón de 54 años de edad, remitido a nuestro servicio en mayo del 2003 por presentar odontalgia en relación con un tercer molar inferior derecho erupcionado. A la inspección oral se pudo observar la existencia de una tumefacción que expandía las corticales vestibulo-linguales, en la región del tercer molar mandibular derecho, cariado por distal. La mucosa oral estaba indemne, y no se palpaban adenomegalias cervicales. El paciente refería la existencia de una hipoestesia en el territorio de distribución del nervio mentoniano de quince días de evolución. En la ortopantomografía, se evidenció la presencia de una imagen radiolúcida, de contornos poco definidos, en el cuerpo mandibular derecho. Dos días después, bajo anestesia local, se procedió a la exodoncia del tercer molar y curetaje-biopsia del tejido subyacente. Durante el acto operatorio, se produjo una intensa hemorragia, que pudo ser cohibida con el empleo de Surgicel (Johnson & Johnson, Nuevo Brunswick, NJ) y mediante el empaquetado en el lecho alveolar de cera de hueso.\\n\\nEl hemograma y el estudio de coagulación postoperato-rios no mostraron alteraciones significativas. El diagnóstico histopatológico del material remitido fue de: metástasis mandibular por hepatocarcinoma bien diferenciado. Las células neoplásicas no se teñían con las citoqueratinas 19 y 20, ni con la alfa-fetoproteina, pero si mostraron una intensa tinción granular citoplasmática con el marcador hepatocito N.\\n\\nEntre los antecedentes personales del paciente, destacaban una historia de diabetes tipo II de 8 años de evolución, controlada con hipoglucemiantes orales. Se trataba de un bebedor de 130 g. etanol/día desde los 30 años, y fumador de 2 paquetes de cigarrillos/día desde los 20 años. Un año antes de nuestra valoración, el enfermo había sido diagnosticado de cirrosis hepática (estadio A de Child Pugh: 5/15), y de hepatocarcinoma multicéntrico con afectación de los segmentos II, III, y IV, siendo intervenido mediante resección hepática parcial, al mes de su diagnostico. Previamente se había realizado un estudio completo que incluyó gammagrafía ósea con tecnecio 99-MDP y tomografía computarizada de cráneo, pulmón, abdomen y pelvis, sin objetivar la presencia de metástasis. Los valores séricos de alfa-fetoproteina eran, en los controles postoperatorios, normales (3,6 ng/ml).\\nA los 15 días de nuestra intervención se objetivó una marcada elevación de los niveles de alfa-fetoproteina (221 ng/ml), evidenciándose mediante gammagrafía ósea y resonancia magnética la existencia de múltiples metástasis que afectaban al occipital izquierdo, cuerpo esternal, pelvis, y múltiples vértebras. El paciente fue sometido a radioterapia paliativa sobre las lesiones vertebrales (10 Gy a la semana de Co 60) sin mejoría, siendo éxitus a los seis meses de nuestra biopsia.\\n\\n'"
      ]
     },
     "execution_count": 111,
     "metadata": {},
     "output_type": "execute_result"
    }
   ],
   "source": [
    "df_text_test.raw_text[0]"
   ]
  },
  {
   "cell_type": "code",
   "execution_count": 112,
   "metadata": {},
   "outputs": [],
   "source": [
    "test_doc_list = sorted(set(df_text_test[\"doc_id\"]))"
   ]
  },
  {
   "cell_type": "code",
   "execution_count": 113,
   "metadata": {},
   "outputs": [
    {
     "data": {
      "text/plain": [
       "250"
      ]
     },
     "execution_count": 113,
     "metadata": {},
     "output_type": "execute_result"
    }
   ],
   "source": [
    "len(test_doc_list)"
   ]
  },
  {
   "cell_type": "code",
   "execution_count": 115,
   "metadata": {},
   "outputs": [
    {
     "name": "stdout",
     "output_type": "stream",
     "text": [
      "CPU times: user 9.24 ms, sys: 0 ns, total: 9.24 ms\n",
      "Wall time: 8.4 ms\n"
     ]
    }
   ],
   "source": [
    "%%time\n",
    "ss_sub_corpus_path = ss_corpus_path + \"test/\"\n",
    "ss_files = [f for f in os.listdir(ss_sub_corpus_path) if os.path.isfile(ss_sub_corpus_path + f)]\n",
    "ss_dict_test = load_ss_files(ss_files, ss_sub_corpus_path)"
   ]
  },
  {
   "cell_type": "code",
   "execution_count": 116,
   "metadata": {},
   "outputs": [
    {
     "name": "stderr",
     "output_type": "stream",
     "text": [
      "100%|██████████| 250/250 [00:01<00:00, 171.24it/s]"
     ]
    },
    {
     "name": "stdout",
     "output_type": "stream",
     "text": [
      "CPU times: user 1.55 s, sys: 0 ns, total: 1.55 s\n",
      "Wall time: 1.51 s\n"
     ]
    },
    {
     "name": "stderr",
     "output_type": "stream",
     "text": [
      "\n"
     ]
    }
   ],
   "source": [
    "%%time\n",
    "test_ind, test_seg, _, test_frag, _ = ss_create_frag_input_data_bert(df_text=df_text_test, \n",
    "                                                  text_col=text_col,\n",
    "                                                  # Since labels are ignored, we pass df_codes_train_ner as df_ann\n",
    "                                                  df_ann=df_codes_train_ner, doc_list=test_doc_list, ss_dict=ss_dict_test,\n",
    "                                                  tokenizer=tokenizer, lab_encoder=mlb_encoder, seq_len=SEQ_LEN,\n",
    "                                                  greedy=False)"
   ]
  },
  {
   "cell_type": "code",
   "execution_count": 119,
   "metadata": {},
   "outputs": [
    {
     "name": "stdout",
     "output_type": "stream",
     "text": [
      "CPU times: user 6.19 s, sys: 502 ms, total: 6.69 s\n",
      "Wall time: 14 s\n"
     ]
    }
   ],
   "source": [
    "%%time\n",
    "test_preds = model.predict([test_ind, test_seg])"
   ]
  },
  {
   "cell_type": "code",
   "execution_count": 120,
   "metadata": {},
   "outputs": [
    {
     "data": {
      "text/plain": [
       "(3955, 727)"
      ]
     },
     "execution_count": 120,
     "metadata": {},
     "output_type": "execute_result"
    }
   ],
   "source": [
    "test_preds.shape"
   ]
  },
  {
   "cell_type": "code",
   "execution_count": 121,
   "metadata": {},
   "outputs": [],
   "source": [
    "results_dir_path = \"../results/CodiEsp-P/\""
   ]
  },
  {
   "cell_type": "code",
   "execution_count": 178,
   "metadata": {},
   "outputs": [
    {
     "name": "stdout",
     "output_type": "stream",
     "text": [
      "CPU times: user 2.21 ms, sys: 4.65 ms, total: 6.87 ms\n",
      "Wall time: 6.02 ms\n"
     ]
    }
   ],
   "source": [
    "%%time\n",
    "np.save(file=results_dir_path + \"predictions/mbert_seed_\" + str(random_seed) + \"_test_preds.npy\", arr=test_preds)"
   ]
  },
  {
   "cell_type": "code",
   "execution_count": 122,
   "metadata": {},
   "outputs": [],
   "source": [
    "# To be further used when evaluating model performance at document level\n",
    "np.save(file=results_dir_path + \"mbert_test_frags.npy\", arr=test_frag)"
   ]
  }
 ],
 "metadata": {
  "kernelspec": {
   "display_name": "Python 3",
   "language": "python",
   "name": "python3"
  },
  "language_info": {
   "codemirror_mode": {
    "name": "ipython",
    "version": 3
   },
   "file_extension": ".py",
   "mimetype": "text/x-python",
   "name": "python",
   "nbconvert_exporter": "python",
   "pygments_lexer": "ipython3",
   "version": "3.6.5"
  }
 },
 "nbformat": 4,
 "nbformat_minor": 4
}
