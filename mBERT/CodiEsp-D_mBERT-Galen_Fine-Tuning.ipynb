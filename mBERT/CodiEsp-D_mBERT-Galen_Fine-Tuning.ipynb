{
 "cells": [
  {
   "cell_type": "markdown",
   "metadata": {},
   "source": [
    "# Fine-tuning mBERT-Galén on CodiEsp-D\n",
    "\n",
    "In this notebook, following a multi-label sequence classification approach, the mBERT-Galén model is fine-tuned on both the training and development sets of the CodiEsp-D corpus. Additionally, the predictions made by the model on the test set are saved, in order to futher evaluate the clinical coding performance of the model (see `results/CodiEsp-D/Evaluation.ipynb`)."
   ]
  },
  {
   "cell_type": "code",
   "execution_count": 1,
   "metadata": {},
   "outputs": [
    {
     "name": "stderr",
     "output_type": "stream",
     "text": [
      "Using TensorFlow backend.\n"
     ]
    }
   ],
   "source": [
    "import tensorflow as tf\n",
    "\n",
    "# Auxiliary components\n",
    "import sys\n",
    "sys.path.append(\"..\")\n",
    "from nlp_utils import *\n",
    "\n",
    "# mBERT tokenizer\n",
    "from keras_bert import load_vocabulary, Tokenizer\n",
    "model_path = \"multi_cased_L-12_H-768_A-12/\"\n",
    "config_path = model_path + \"bert_config.json\"\n",
    "checkpoint_path = model_path + \"mBERT-Galen/model.ckpt-1000000\"\n",
    "vocab_file = \"vocab.txt\"\n",
    "tokenizer = Tokenizer(token_dict=load_vocabulary(model_path + vocab_file), pad_index=0, cased=True)\n",
    "\n",
    "# Hyper-parameters\n",
    "text_col = \"raw_text\"\n",
    "training = False\n",
    "trainable = True\n",
    "SEQ_LEN = 128\n",
    "BATCH_SIZE = 16\n",
    "EPOCHS = 31\n",
    "LR = 3e-5\n",
    "train_weight = 4\n",
    "all_abs_weight = 1\n",
    "\n",
    "random_seed = 0\n",
    "tf.set_random_seed(random_seed)"
   ]
  },
  {
   "cell_type": "markdown",
   "metadata": {},
   "source": [
    "## Load text\n",
    "\n",
    "Firstly, all text files from training and development CodiEsp corpora are loaded in different dataframes.\n",
    "\n",
    "Also, CIE-Diagnóstico codes are loaded."
   ]
  },
  {
   "cell_type": "code",
   "execution_count": 2,
   "metadata": {},
   "outputs": [],
   "source": [
    "corpus_path = \"../datasets/codiesp_v4/\"\n",
    "abs_corpus_path = \"../datasets/abstractsWithCIE10_v2/\""
   ]
  },
  {
   "cell_type": "markdown",
   "metadata": {},
   "source": [
    "### Training corpus"
   ]
  },
  {
   "cell_type": "code",
   "execution_count": 3,
   "metadata": {},
   "outputs": [
    {
     "name": "stdout",
     "output_type": "stream",
     "text": [
      "CPU times: user 6.37 ms, sys: 4.26 ms, total: 10.6 ms\n",
      "Wall time: 10.3 ms\n"
     ]
    }
   ],
   "source": [
    "%%time\n",
    "train_path = corpus_path + \"train/text_files/\"\n",
    "train_files = [f for f in os.listdir(train_path) if os.path.isfile(train_path + f)]\n",
    "train_data = load_text_files(train_files, train_path)\n",
    "df_text_train = pd.DataFrame({'doc_id': [s.split('.txt')[0] for s in train_files], 'raw_text': train_data})"
   ]
  },
  {
   "cell_type": "code",
   "execution_count": 4,
   "metadata": {},
   "outputs": [
    {
     "data": {
      "text/plain": [
       "(500, 2)"
      ]
     },
     "execution_count": 4,
     "metadata": {},
     "output_type": "execute_result"
    }
   ],
   "source": [
    "df_text_train.shape"
   ]
  },
  {
   "cell_type": "code",
   "execution_count": 5,
   "metadata": {},
   "outputs": [
    {
     "data": {
      "text/html": [
       "<div>\n",
       "<style scoped>\n",
       "    .dataframe tbody tr th:only-of-type {\n",
       "        vertical-align: middle;\n",
       "    }\n",
       "\n",
       "    .dataframe tbody tr th {\n",
       "        vertical-align: top;\n",
       "    }\n",
       "\n",
       "    .dataframe thead th {\n",
       "        text-align: right;\n",
       "    }\n",
       "</style>\n",
       "<table border=\"1\" class=\"dataframe\">\n",
       "  <thead>\n",
       "    <tr style=\"text-align: right;\">\n",
       "      <th></th>\n",
       "      <th>doc_id</th>\n",
       "      <th>raw_text</th>\n",
       "    </tr>\n",
       "  </thead>\n",
       "  <tbody>\n",
       "    <tr>\n",
       "      <th>0</th>\n",
       "      <td>S0365-66912006000600011-1</td>\n",
       "      <td>Un varón de 13 años es remitido para valoració...</td>\n",
       "    </tr>\n",
       "    <tr>\n",
       "      <th>1</th>\n",
       "      <td>S1139-13752009000200010-2</td>\n",
       "      <td>Paciente de 42 años diagnosticado de pancoliti...</td>\n",
       "    </tr>\n",
       "    <tr>\n",
       "      <th>2</th>\n",
       "      <td>S1130-05582017000100037-1</td>\n",
       "      <td>Varón de 72 años, sin antecedentes médicos de ...</td>\n",
       "    </tr>\n",
       "    <tr>\n",
       "      <th>3</th>\n",
       "      <td>S1139-76322016000300015-1</td>\n",
       "      <td>Lactante de ocho días cuyos padres consultan p...</td>\n",
       "    </tr>\n",
       "    <tr>\n",
       "      <th>4</th>\n",
       "      <td>S0211-69952011000100019-1</td>\n",
       "      <td>Mujer de 47 años de edad con antecedentes de g...</td>\n",
       "    </tr>\n",
       "  </tbody>\n",
       "</table>\n",
       "</div>"
      ],
      "text/plain": [
       "                      doc_id  \\\n",
       "0  S0365-66912006000600011-1   \n",
       "1  S1139-13752009000200010-2   \n",
       "2  S1130-05582017000100037-1   \n",
       "3  S1139-76322016000300015-1   \n",
       "4  S0211-69952011000100019-1   \n",
       "\n",
       "                                            raw_text  \n",
       "0  Un varón de 13 años es remitido para valoració...  \n",
       "1  Paciente de 42 años diagnosticado de pancoliti...  \n",
       "2  Varón de 72 años, sin antecedentes médicos de ...  \n",
       "3  Lactante de ocho días cuyos padres consultan p...  \n",
       "4  Mujer de 47 años de edad con antecedentes de g...  "
      ]
     },
     "execution_count": 5,
     "metadata": {},
     "output_type": "execute_result"
    }
   ],
   "source": [
    "df_text_train.head()"
   ]
  },
  {
   "cell_type": "code",
   "execution_count": 6,
   "metadata": {},
   "outputs": [
    {
     "data": {
      "text/plain": [
       "'Un varón de 13 años es remitido para valoración oftalmológica por mala visión. Fenotípicamente era un niño de talla corta con una estatura de 133 cm, braquimorfia y braquidactilia en las cuatro extremidades.\\nEl paciente presentaba un error refractivo corregido de -13,00 -6,50 a 1º en el ojo derecho y de -16,00-6,25 a 179º en el izquierdo. Con dicha corrección alcanzaba una agudeza visual de 0,4 y 0,2 respectivamente. No existía diplopía monocular ni hallazgos en la motilidad ocular extrínseca e intrínseca.\\nEl diámetro corneal horizontal era de 12,0 mm en ambos ojos y la paquimetría de 613 y 611 micras respectivamente. La cámara anterior era estrecha, apreciándose iridofacodonesis bilateral. Se evidenció microesferofaquia con desplazamiento anterior de ambos cristalinos dentro de la cámara posterior.\\nLa presión intraocular era de 20 mmHg bilateralmente. Gonioscópicamente se apreció un ángulo estrecho simétrico en ambos ojos grado II según Schaffer.\\nLa exploración mediante topógrafo Orbscan-II (Topógrafo corneal, Baush and Lomb, U.S.A.) y el examen del fondo de ojo no mostraron alteraciones.\\nComo prevención del cierre angular se realizó una iridotomía láser Nd:YAG en ambos ojos a las 10 y 2 horas respectivamente. Dada la estabilidad de la visión y la ausencia de diplopía se adoptó una actitud conservadora de acuerdo con el deseo de la familia del paciente mediante control de la agudeza visual, presión intraocular, documentación fotográfica y la realización de campos visuales para detectar la aparición de daño glaucomatoso.\\nRevisando sus antecentes familiares se identificó al paciente como el menor de una familia de ocho hermanos, en la que -además del mencionado- un hermano y dos hermanas presentaban esferofaquia, braquimorfia y braquidactilia. Los padres eran sanos y ninguno de los hijos ha tenido descendencia.\\n\\n'"
      ]
     },
     "execution_count": 6,
     "metadata": {},
     "output_type": "execute_result"
    }
   ],
   "source": [
    "df_text_train.raw_text[0]"
   ]
  },
  {
   "cell_type": "markdown",
   "metadata": {},
   "source": [
    "We also load the CIE-Diagnóstico codes table:"
   ]
  },
  {
   "cell_type": "code",
   "execution_count": 7,
   "metadata": {},
   "outputs": [],
   "source": [
    "df_codes_train = pd.read_table(corpus_path + \"train/trainD.tsv\", sep='\\t', header=None)"
   ]
  },
  {
   "cell_type": "code",
   "execution_count": 8,
   "metadata": {},
   "outputs": [],
   "source": [
    "df_codes_train.columns = [\"doc_id\", \"code\"]"
   ]
  },
  {
   "cell_type": "code",
   "execution_count": 9,
   "metadata": {},
   "outputs": [
    {
     "data": {
      "text/plain": [
       "(5639, 2)"
      ]
     },
     "execution_count": 9,
     "metadata": {},
     "output_type": "execute_result"
    }
   ],
   "source": [
    "df_codes_train.shape"
   ]
  },
  {
   "cell_type": "code",
   "execution_count": 10,
   "metadata": {},
   "outputs": [
    {
     "data": {
      "text/html": [
       "<div>\n",
       "<style scoped>\n",
       "    .dataframe tbody tr th:only-of-type {\n",
       "        vertical-align: middle;\n",
       "    }\n",
       "\n",
       "    .dataframe tbody tr th {\n",
       "        vertical-align: top;\n",
       "    }\n",
       "\n",
       "    .dataframe thead th {\n",
       "        text-align: right;\n",
       "    }\n",
       "</style>\n",
       "<table border=\"1\" class=\"dataframe\">\n",
       "  <thead>\n",
       "    <tr style=\"text-align: right;\">\n",
       "      <th></th>\n",
       "      <th>doc_id</th>\n",
       "      <th>code</th>\n",
       "    </tr>\n",
       "  </thead>\n",
       "  <tbody>\n",
       "    <tr>\n",
       "      <th>0</th>\n",
       "      <td>S0004-06142005000700014-1</td>\n",
       "      <td>n44.8</td>\n",
       "    </tr>\n",
       "    <tr>\n",
       "      <th>1</th>\n",
       "      <td>S0004-06142005000700014-1</td>\n",
       "      <td>z20.818</td>\n",
       "    </tr>\n",
       "    <tr>\n",
       "      <th>2</th>\n",
       "      <td>S0004-06142005000700014-1</td>\n",
       "      <td>r60.9</td>\n",
       "    </tr>\n",
       "    <tr>\n",
       "      <th>3</th>\n",
       "      <td>S0004-06142005000700014-1</td>\n",
       "      <td>r52</td>\n",
       "    </tr>\n",
       "    <tr>\n",
       "      <th>4</th>\n",
       "      <td>S0004-06142005000700014-1</td>\n",
       "      <td>a23.9</td>\n",
       "    </tr>\n",
       "  </tbody>\n",
       "</table>\n",
       "</div>"
      ],
      "text/plain": [
       "                      doc_id     code\n",
       "0  S0004-06142005000700014-1    n44.8\n",
       "1  S0004-06142005000700014-1  z20.818\n",
       "2  S0004-06142005000700014-1    r60.9\n",
       "3  S0004-06142005000700014-1      r52\n",
       "4  S0004-06142005000700014-1    a23.9"
      ]
     },
     "execution_count": 10,
     "metadata": {},
     "output_type": "execute_result"
    }
   ],
   "source": [
    "df_codes_train.head()"
   ]
  },
  {
   "cell_type": "code",
   "execution_count": 11,
   "metadata": {},
   "outputs": [
    {
     "data": {
      "text/plain": [
       "500"
      ]
     },
     "execution_count": 11,
     "metadata": {},
     "output_type": "execute_result"
    }
   ],
   "source": [
    "len(set(df_codes_train[\"doc_id\"]))"
   ]
  },
  {
   "cell_type": "markdown",
   "metadata": {},
   "source": [
    "### Development corpus"
   ]
  },
  {
   "cell_type": "code",
   "execution_count": 12,
   "metadata": {},
   "outputs": [
    {
     "name": "stdout",
     "output_type": "stream",
     "text": [
      "CPU times: user 5.48 ms, sys: 155 µs, total: 5.64 ms\n",
      "Wall time: 5.46 ms\n"
     ]
    }
   ],
   "source": [
    "%%time\n",
    "dev_path = corpus_path + \"dev/text_files/\"\n",
    "dev_files = [f for f in os.listdir(dev_path) if os.path.isfile(dev_path + f)]\n",
    "dev_data = load_text_files(dev_files, dev_path)\n",
    "df_text_dev = pd.DataFrame({'doc_id': [s.split('.txt')[0] for s in dev_files], 'raw_text': dev_data})"
   ]
  },
  {
   "cell_type": "code",
   "execution_count": 13,
   "metadata": {},
   "outputs": [
    {
     "data": {
      "text/plain": [
       "(250, 2)"
      ]
     },
     "execution_count": 13,
     "metadata": {},
     "output_type": "execute_result"
    }
   ],
   "source": [
    "df_text_dev.shape"
   ]
  },
  {
   "cell_type": "code",
   "execution_count": 14,
   "metadata": {},
   "outputs": [
    {
     "data": {
      "text/html": [
       "<div>\n",
       "<style scoped>\n",
       "    .dataframe tbody tr th:only-of-type {\n",
       "        vertical-align: middle;\n",
       "    }\n",
       "\n",
       "    .dataframe tbody tr th {\n",
       "        vertical-align: top;\n",
       "    }\n",
       "\n",
       "    .dataframe thead th {\n",
       "        text-align: right;\n",
       "    }\n",
       "</style>\n",
       "<table border=\"1\" class=\"dataframe\">\n",
       "  <thead>\n",
       "    <tr style=\"text-align: right;\">\n",
       "      <th></th>\n",
       "      <th>doc_id</th>\n",
       "      <th>raw_text</th>\n",
       "    </tr>\n",
       "  </thead>\n",
       "  <tbody>\n",
       "    <tr>\n",
       "      <th>0</th>\n",
       "      <td>S1130-63432016000600013-1</td>\n",
       "      <td>Varón de 75 años, con antecedentes de hiperuri...</td>\n",
       "    </tr>\n",
       "    <tr>\n",
       "      <th>1</th>\n",
       "      <td>S0365-66912003000600010-1</td>\n",
       "      <td>Paciente de 33 años de edad, gestante de 34 se...</td>\n",
       "    </tr>\n",
       "    <tr>\n",
       "      <th>2</th>\n",
       "      <td>S0211-69952012000200030-1</td>\n",
       "      <td>Mujer de 67 años con múltiples factores de rie...</td>\n",
       "    </tr>\n",
       "    <tr>\n",
       "      <th>3</th>\n",
       "      <td>S0365-66912004000900009-1</td>\n",
       "      <td>Paciente de 55 años que acudió a urgencias por...</td>\n",
       "    </tr>\n",
       "    <tr>\n",
       "      <th>4</th>\n",
       "      <td>S1139-76322016000300016-2</td>\n",
       "      <td>Lactante de 1 mes y 29 días, sin antecedentes ...</td>\n",
       "    </tr>\n",
       "  </tbody>\n",
       "</table>\n",
       "</div>"
      ],
      "text/plain": [
       "                      doc_id  \\\n",
       "0  S1130-63432016000600013-1   \n",
       "1  S0365-66912003000600010-1   \n",
       "2  S0211-69952012000200030-1   \n",
       "3  S0365-66912004000900009-1   \n",
       "4  S1139-76322016000300016-2   \n",
       "\n",
       "                                            raw_text  \n",
       "0  Varón de 75 años, con antecedentes de hiperuri...  \n",
       "1  Paciente de 33 años de edad, gestante de 34 se...  \n",
       "2  Mujer de 67 años con múltiples factores de rie...  \n",
       "3  Paciente de 55 años que acudió a urgencias por...  \n",
       "4  Lactante de 1 mes y 29 días, sin antecedentes ...  "
      ]
     },
     "execution_count": 14,
     "metadata": {},
     "output_type": "execute_result"
    }
   ],
   "source": [
    "df_text_dev.head()"
   ]
  },
  {
   "cell_type": "code",
   "execution_count": 15,
   "metadata": {},
   "outputs": [
    {
     "data": {
      "text/plain": [
       "'Varón de 75 años, con antecedentes de hiperuricemia en tratamiento con Alopurinol que ingresa para realización de resección transuretral de próstata.\\nPostoperatorio inmediato sin incidencias con tratamiento con Pantoprazol, Ciprofloxacino, Paracetamol, Enantyum y Alopurinol. Al cuarto día de postoperatorio presenta mareos, temblor con componente mioclónico en extremidades y tronco e incapacidad para caminar, sin verse alteraciones analíticas. En esta situación se pauta Rivotril y se suspende el tratamiento con Ciprofloxacino, desapareciendo la clínica mioclónica y mejorando el estado del paciente, por lo que se decide el alta hospitalaria.\\n\\n'"
      ]
     },
     "execution_count": 15,
     "metadata": {},
     "output_type": "execute_result"
    }
   ],
   "source": [
    "df_text_dev.raw_text[0]"
   ]
  },
  {
   "cell_type": "markdown",
   "metadata": {},
   "source": [
    "We also load the CIE-Diagnóstico codes table:"
   ]
  },
  {
   "cell_type": "code",
   "execution_count": 16,
   "metadata": {},
   "outputs": [],
   "source": [
    "df_codes_dev = pd.read_table(corpus_path + \"dev/devD.tsv\", sep='\\t', header=None)"
   ]
  },
  {
   "cell_type": "code",
   "execution_count": 17,
   "metadata": {},
   "outputs": [],
   "source": [
    "df_codes_dev.columns = [\"doc_id\", \"code\"]"
   ]
  },
  {
   "cell_type": "code",
   "execution_count": 18,
   "metadata": {},
   "outputs": [
    {
     "data": {
      "text/plain": [
       "(2677, 2)"
      ]
     },
     "execution_count": 18,
     "metadata": {},
     "output_type": "execute_result"
    }
   ],
   "source": [
    "df_codes_dev.shape"
   ]
  },
  {
   "cell_type": "code",
   "execution_count": 19,
   "metadata": {},
   "outputs": [
    {
     "data": {
      "text/html": [
       "<div>\n",
       "<style scoped>\n",
       "    .dataframe tbody tr th:only-of-type {\n",
       "        vertical-align: middle;\n",
       "    }\n",
       "\n",
       "    .dataframe tbody tr th {\n",
       "        vertical-align: top;\n",
       "    }\n",
       "\n",
       "    .dataframe thead th {\n",
       "        text-align: right;\n",
       "    }\n",
       "</style>\n",
       "<table border=\"1\" class=\"dataframe\">\n",
       "  <thead>\n",
       "    <tr style=\"text-align: right;\">\n",
       "      <th></th>\n",
       "      <th>doc_id</th>\n",
       "      <th>code</th>\n",
       "    </tr>\n",
       "  </thead>\n",
       "  <tbody>\n",
       "    <tr>\n",
       "      <th>0</th>\n",
       "      <td>S0004-06142005000900016-1</td>\n",
       "      <td>q62.11</td>\n",
       "    </tr>\n",
       "    <tr>\n",
       "      <th>1</th>\n",
       "      <td>S0004-06142005000900016-1</td>\n",
       "      <td>n28.89</td>\n",
       "    </tr>\n",
       "    <tr>\n",
       "      <th>2</th>\n",
       "      <td>S0004-06142005000900016-1</td>\n",
       "      <td>n39.0</td>\n",
       "    </tr>\n",
       "    <tr>\n",
       "      <th>3</th>\n",
       "      <td>S0004-06142005000900016-1</td>\n",
       "      <td>r31.9</td>\n",
       "    </tr>\n",
       "    <tr>\n",
       "      <th>4</th>\n",
       "      <td>S0004-06142005000900016-1</td>\n",
       "      <td>n23</td>\n",
       "    </tr>\n",
       "  </tbody>\n",
       "</table>\n",
       "</div>"
      ],
      "text/plain": [
       "                      doc_id    code\n",
       "0  S0004-06142005000900016-1  q62.11\n",
       "1  S0004-06142005000900016-1  n28.89\n",
       "2  S0004-06142005000900016-1   n39.0\n",
       "3  S0004-06142005000900016-1   r31.9\n",
       "4  S0004-06142005000900016-1     n23"
      ]
     },
     "execution_count": 19,
     "metadata": {},
     "output_type": "execute_result"
    }
   ],
   "source": [
    "df_codes_dev.head()"
   ]
  },
  {
   "cell_type": "code",
   "execution_count": 20,
   "metadata": {},
   "outputs": [
    {
     "data": {
      "text/plain": [
       "250"
      ]
     },
     "execution_count": 20,
     "metadata": {},
     "output_type": "execute_result"
    }
   ],
   "source": [
    "len(set(df_codes_dev[\"doc_id\"]))"
   ]
  },
  {
   "cell_type": "markdown",
   "metadata": {},
   "source": [
    "### Train-Dev abstracts corpus\n",
    "\n",
    "From the additional abstracts corpus, we load the text from the abstracts containing CIE-Diagnóstico codes which are present either in the training or development CodiEsp-D corpora:"
   ]
  },
  {
   "cell_type": "code",
   "execution_count": 21,
   "metadata": {},
   "outputs": [
    {
     "name": "stdout",
     "output_type": "stream",
     "text": [
      "CPU times: user 1.34 s, sys: 96.3 ms, total: 1.44 s\n",
      "Wall time: 1.44 s\n"
     ]
    }
   ],
   "source": [
    "%%time\n",
    "df_text_all_abs = pd.read_table(abs_corpus_path + \"train_dev_abstracts_text.tsv\", sep='\\t')"
   ]
  },
  {
   "cell_type": "code",
   "execution_count": 22,
   "metadata": {},
   "outputs": [
    {
     "data": {
      "text/plain": [
       "(100397, 3)"
      ]
     },
     "execution_count": 22,
     "metadata": {},
     "output_type": "execute_result"
    }
   ],
   "source": [
    "df_text_all_abs.shape"
   ]
  },
  {
   "cell_type": "markdown",
   "metadata": {},
   "source": [
    "We only select the abstracts with a subtokens sequence length <= the maximum input sequence size used by the mBERT model (128 subtokens):"
   ]
  },
  {
   "cell_type": "code",
   "execution_count": 23,
   "metadata": {},
   "outputs": [],
   "source": [
    "all_abs_doc_one_frag = set(pd.read_table(abs_corpus_path + \"all_abstracts_seq_len_mbert_128.tsv\", \n",
    "                                               sep='\\t', header=None)[0])"
   ]
  },
  {
   "cell_type": "code",
   "execution_count": 24,
   "metadata": {},
   "outputs": [
    {
     "data": {
      "text/plain": [
       "17723"
      ]
     },
     "execution_count": 24,
     "metadata": {},
     "output_type": "execute_result"
    }
   ],
   "source": [
    "len(all_abs_doc_one_frag)"
   ]
  },
  {
   "cell_type": "code",
   "execution_count": 25,
   "metadata": {},
   "outputs": [],
   "source": [
    "df_text_all_abs = df_text_all_abs[df_text_all_abs[\"doc_id\"].isin(all_abs_doc_one_frag)]"
   ]
  },
  {
   "cell_type": "code",
   "execution_count": 26,
   "metadata": {},
   "outputs": [
    {
     "data": {
      "text/plain": [
       "(11515, 3)"
      ]
     },
     "execution_count": 26,
     "metadata": {},
     "output_type": "execute_result"
    }
   ],
   "source": [
    "df_text_all_abs.shape"
   ]
  },
  {
   "cell_type": "code",
   "execution_count": 27,
   "metadata": {},
   "outputs": [
    {
     "data": {
      "text/html": [
       "<div>\n",
       "<style scoped>\n",
       "    .dataframe tbody tr th:only-of-type {\n",
       "        vertical-align: middle;\n",
       "    }\n",
       "\n",
       "    .dataframe tbody tr th {\n",
       "        vertical-align: top;\n",
       "    }\n",
       "\n",
       "    .dataframe thead th {\n",
       "        text-align: right;\n",
       "    }\n",
       "</style>\n",
       "<table border=\"1\" class=\"dataframe\">\n",
       "  <thead>\n",
       "    <tr style=\"text-align: right;\">\n",
       "      <th></th>\n",
       "      <th>doc_id</th>\n",
       "      <th>raw_text</th>\n",
       "      <th>punc_text</th>\n",
       "    </tr>\n",
       "  </thead>\n",
       "  <tbody>\n",
       "    <tr>\n",
       "      <th>38</th>\n",
       "      <td>biblio-1000756</td>\n",
       "      <td>Este libro es el resultado de un trabajo minuc...</td>\n",
       "      <td>Este libro es el resultado de un trabajo minuc...</td>\n",
       "    </tr>\n",
       "    <tr>\n",
       "      <th>48</th>\n",
       "      <td>biblio-1002637</td>\n",
       "      <td>Se efectuó una revisión actualizada sobre el d...</td>\n",
       "      <td>Se efectuó una revisión actualizada sobre el d...</td>\n",
       "    </tr>\n",
       "    <tr>\n",
       "      <th>105</th>\n",
       "      <td>biblio-1005037</td>\n",
       "      <td>La microlitiasis testicular (TM) es una patolo...</td>\n",
       "      <td>La microlitiasis testicular TM es una patologí...</td>\n",
       "    </tr>\n",
       "    <tr>\n",
       "      <th>115</th>\n",
       "      <td>biblio-1005118</td>\n",
       "      <td>Se proponen algunas consideraciones teóricas s...</td>\n",
       "      <td>Se proponen algunas consideraciones teóricas s...</td>\n",
       "    </tr>\n",
       "    <tr>\n",
       "      <th>144</th>\n",
       "      <td>biblio-1005452</td>\n",
       "      <td>Objetivo: entender la relación entre la depres...</td>\n",
       "      <td>Objetivo entender la relación entre la depresi...</td>\n",
       "    </tr>\n",
       "  </tbody>\n",
       "</table>\n",
       "</div>"
      ],
      "text/plain": [
       "             doc_id                                           raw_text  \\\n",
       "38   biblio-1000756  Este libro es el resultado de un trabajo minuc...   \n",
       "48   biblio-1002637  Se efectuó una revisión actualizada sobre el d...   \n",
       "105  biblio-1005037  La microlitiasis testicular (TM) es una patolo...   \n",
       "115  biblio-1005118  Se proponen algunas consideraciones teóricas s...   \n",
       "144  biblio-1005452  Objetivo: entender la relación entre la depres...   \n",
       "\n",
       "                                             punc_text  \n",
       "38   Este libro es el resultado de un trabajo minuc...  \n",
       "48   Se efectuó una revisión actualizada sobre el d...  \n",
       "105  La microlitiasis testicular TM es una patologí...  \n",
       "115  Se proponen algunas consideraciones teóricas s...  \n",
       "144  Objetivo entender la relación entre la depresi...  "
      ]
     },
     "execution_count": 27,
     "metadata": {},
     "output_type": "execute_result"
    }
   ],
   "source": [
    "df_text_all_abs.head()"
   ]
  },
  {
   "cell_type": "markdown",
   "metadata": {},
   "source": [
    "We also load the CIE-Diagnóstico codes from the previously loaded abstracts:"
   ]
  },
  {
   "cell_type": "code",
   "execution_count": 28,
   "metadata": {},
   "outputs": [],
   "source": [
    "df_codes_d_all_abs = pd.read_table(abs_corpus_path + \"train_dev_abstracts_codes.tsv\", sep='\\t', \n",
    "                                   header=None)"
   ]
  },
  {
   "cell_type": "code",
   "execution_count": 29,
   "metadata": {},
   "outputs": [],
   "source": [
    "df_codes_d_all_abs.columns = [\"doc_id\", \"code\"]"
   ]
  },
  {
   "cell_type": "code",
   "execution_count": 30,
   "metadata": {},
   "outputs": [],
   "source": [
    "df_codes_d_all_abs = df_codes_d_all_abs[df_codes_d_all_abs[\"doc_id\"].isin(all_abs_doc_one_frag)]"
   ]
  },
  {
   "cell_type": "code",
   "execution_count": 31,
   "metadata": {},
   "outputs": [
    {
     "data": {
      "text/plain": [
       "(15725, 2)"
      ]
     },
     "execution_count": 31,
     "metadata": {},
     "output_type": "execute_result"
    }
   ],
   "source": [
    "df_codes_d_all_abs.shape"
   ]
  },
  {
   "cell_type": "code",
   "execution_count": 32,
   "metadata": {},
   "outputs": [
    {
     "data": {
      "text/html": [
       "<div>\n",
       "<style scoped>\n",
       "    .dataframe tbody tr th:only-of-type {\n",
       "        vertical-align: middle;\n",
       "    }\n",
       "\n",
       "    .dataframe tbody tr th {\n",
       "        vertical-align: top;\n",
       "    }\n",
       "\n",
       "    .dataframe thead th {\n",
       "        text-align: right;\n",
       "    }\n",
       "</style>\n",
       "<table border=\"1\" class=\"dataframe\">\n",
       "  <thead>\n",
       "    <tr style=\"text-align: right;\">\n",
       "      <th></th>\n",
       "      <th>doc_id</th>\n",
       "      <th>code</th>\n",
       "    </tr>\n",
       "  </thead>\n",
       "  <tbody>\n",
       "    <tr>\n",
       "      <th>1</th>\n",
       "      <td>lil-286177</td>\n",
       "      <td>i82.40</td>\n",
       "    </tr>\n",
       "    <tr>\n",
       "      <th>2</th>\n",
       "      <td>lil-286177</td>\n",
       "      <td>i82.90</td>\n",
       "    </tr>\n",
       "    <tr>\n",
       "      <th>10</th>\n",
       "      <td>lil-506160</td>\n",
       "      <td>q03.1</td>\n",
       "    </tr>\n",
       "    <tr>\n",
       "      <th>45</th>\n",
       "      <td>lil-176866</td>\n",
       "      <td>g51.0</td>\n",
       "    </tr>\n",
       "    <tr>\n",
       "      <th>46</th>\n",
       "      <td>lil-176866</td>\n",
       "      <td>r29.810</td>\n",
       "    </tr>\n",
       "  </tbody>\n",
       "</table>\n",
       "</div>"
      ],
      "text/plain": [
       "        doc_id     code\n",
       "1   lil-286177   i82.40\n",
       "2   lil-286177   i82.90\n",
       "10  lil-506160    q03.1\n",
       "45  lil-176866    g51.0\n",
       "46  lil-176866  r29.810"
      ]
     },
     "execution_count": 32,
     "metadata": {},
     "output_type": "execute_result"
    }
   ],
   "source": [
    "df_codes_d_all_abs.head()"
   ]
  },
  {
   "cell_type": "markdown",
   "metadata": {},
   "source": [
    "We join the training and development CodiEsp as well as the abstracts codes dataframes together:"
   ]
  },
  {
   "cell_type": "code",
   "execution_count": 33,
   "metadata": {},
   "outputs": [],
   "source": [
    "df_codes_train_dev_abs = pd.concat([df_codes_train, df_codes_dev, df_codes_d_all_abs])"
   ]
  },
  {
   "cell_type": "code",
   "execution_count": 34,
   "metadata": {},
   "outputs": [
    {
     "data": {
      "text/plain": [
       "(24041, 2)"
      ]
     },
     "execution_count": 34,
     "metadata": {},
     "output_type": "execute_result"
    }
   ],
   "source": [
    "df_codes_train_dev_abs.shape"
   ]
  },
  {
   "cell_type": "code",
   "execution_count": 35,
   "metadata": {},
   "outputs": [
    {
     "data": {
      "text/html": [
       "<div>\n",
       "<style scoped>\n",
       "    .dataframe tbody tr th:only-of-type {\n",
       "        vertical-align: middle;\n",
       "    }\n",
       "\n",
       "    .dataframe tbody tr th {\n",
       "        vertical-align: top;\n",
       "    }\n",
       "\n",
       "    .dataframe thead th {\n",
       "        text-align: right;\n",
       "    }\n",
       "</style>\n",
       "<table border=\"1\" class=\"dataframe\">\n",
       "  <thead>\n",
       "    <tr style=\"text-align: right;\">\n",
       "      <th></th>\n",
       "      <th>doc_id</th>\n",
       "      <th>code</th>\n",
       "    </tr>\n",
       "  </thead>\n",
       "  <tbody>\n",
       "    <tr>\n",
       "      <th>0</th>\n",
       "      <td>S0004-06142005000700014-1</td>\n",
       "      <td>n44.8</td>\n",
       "    </tr>\n",
       "    <tr>\n",
       "      <th>1</th>\n",
       "      <td>S0004-06142005000700014-1</td>\n",
       "      <td>z20.818</td>\n",
       "    </tr>\n",
       "    <tr>\n",
       "      <th>2</th>\n",
       "      <td>S0004-06142005000700014-1</td>\n",
       "      <td>r60.9</td>\n",
       "    </tr>\n",
       "    <tr>\n",
       "      <th>3</th>\n",
       "      <td>S0004-06142005000700014-1</td>\n",
       "      <td>r52</td>\n",
       "    </tr>\n",
       "    <tr>\n",
       "      <th>4</th>\n",
       "      <td>S0004-06142005000700014-1</td>\n",
       "      <td>a23.9</td>\n",
       "    </tr>\n",
       "  </tbody>\n",
       "</table>\n",
       "</div>"
      ],
      "text/plain": [
       "                      doc_id     code\n",
       "0  S0004-06142005000700014-1    n44.8\n",
       "1  S0004-06142005000700014-1  z20.818\n",
       "2  S0004-06142005000700014-1    r60.9\n",
       "3  S0004-06142005000700014-1      r52\n",
       "4  S0004-06142005000700014-1    a23.9"
      ]
     },
     "execution_count": 35,
     "metadata": {},
     "output_type": "execute_result"
    }
   ],
   "source": [
    "df_codes_train_dev_abs.head()"
   ]
  },
  {
   "cell_type": "markdown",
   "metadata": {},
   "source": [
    "## Creating corpora of annotated sentences\n",
    "\n",
    "Leveraging the information available for the named-entity-recognition and normalization (NER-N) CodiEsp-X task, we create both a training and a development corpus of annotated sentences with CIE-Diagnóstico codes."
   ]
  },
  {
   "cell_type": "markdown",
   "metadata": {},
   "source": [
    "Firstly, we pre-process the NER-N precedure-codes annotations available for both the training and development corpora."
   ]
  },
  {
   "cell_type": "code",
   "execution_count": 36,
   "metadata": {},
   "outputs": [],
   "source": [
    "# Training corpus"
   ]
  },
  {
   "cell_type": "code",
   "execution_count": 37,
   "metadata": {},
   "outputs": [
    {
     "name": "stdout",
     "output_type": "stream",
     "text": [
      "CPU times: user 11.3 ms, sys: 281 µs, total: 11.5 ms\n",
      "Wall time: 11.3 ms\n"
     ]
    }
   ],
   "source": [
    "%%time\n",
    "\n",
    "codiesp_x_train = pd.read_table(corpus_path + \"train/trainX.tsv\", sep='\\t', header=None)"
   ]
  },
  {
   "cell_type": "code",
   "execution_count": 38,
   "metadata": {},
   "outputs": [],
   "source": [
    "codiesp_x_train.columns = [\"doc_id\", \"type\", \"code\", \"word\", \"location\"]"
   ]
  },
  {
   "cell_type": "code",
   "execution_count": 39,
   "metadata": {},
   "outputs": [
    {
     "data": {
      "text/plain": [
       "(9181, 5)"
      ]
     },
     "execution_count": 39,
     "metadata": {},
     "output_type": "execute_result"
    }
   ],
   "source": [
    "codiesp_x_train.shape"
   ]
  },
  {
   "cell_type": "code",
   "execution_count": 40,
   "metadata": {},
   "outputs": [
    {
     "data": {
      "text/html": [
       "<div>\n",
       "<style scoped>\n",
       "    .dataframe tbody tr th:only-of-type {\n",
       "        vertical-align: middle;\n",
       "    }\n",
       "\n",
       "    .dataframe tbody tr th {\n",
       "        vertical-align: top;\n",
       "    }\n",
       "\n",
       "    .dataframe thead th {\n",
       "        text-align: right;\n",
       "    }\n",
       "</style>\n",
       "<table border=\"1\" class=\"dataframe\">\n",
       "  <thead>\n",
       "    <tr style=\"text-align: right;\">\n",
       "      <th></th>\n",
       "      <th>doc_id</th>\n",
       "      <th>type</th>\n",
       "      <th>code</th>\n",
       "      <th>word</th>\n",
       "      <th>location</th>\n",
       "    </tr>\n",
       "  </thead>\n",
       "  <tbody>\n",
       "    <tr>\n",
       "      <th>0</th>\n",
       "      <td>S0004-06142005000700014-1</td>\n",
       "      <td>PROCEDIMIENTO</td>\n",
       "      <td>bw03zzz</td>\n",
       "      <td>Rx tórax</td>\n",
       "      <td>2163 2171</td>\n",
       "    </tr>\n",
       "    <tr>\n",
       "      <th>1</th>\n",
       "      <td>S0004-06142005000700014-1</td>\n",
       "      <td>PROCEDIMIENTO</td>\n",
       "      <td>3e02329</td>\n",
       "      <td>Estreptomicina intramuscular</td>\n",
       "      <td>2787 2801;2810 2823</td>\n",
       "    </tr>\n",
       "    <tr>\n",
       "      <th>2</th>\n",
       "      <td>S0004-06142005000700014-1</td>\n",
       "      <td>DIAGNOSTICO</td>\n",
       "      <td>n44.8</td>\n",
       "      <td>teste derecho aumentado de tamaño</td>\n",
       "      <td>1343 1376</td>\n",
       "    </tr>\n",
       "    <tr>\n",
       "      <th>3</th>\n",
       "      <td>S0004-06142005000700014-1</td>\n",
       "      <td>DIAGNOSTICO</td>\n",
       "      <td>z20.818</td>\n",
       "      <td>exposición a Brucella</td>\n",
       "      <td>594 615</td>\n",
       "    </tr>\n",
       "    <tr>\n",
       "      <th>4</th>\n",
       "      <td>S0004-06142005000700014-1</td>\n",
       "      <td>DIAGNOSTICO</td>\n",
       "      <td>r60.9</td>\n",
       "      <td>edemas</td>\n",
       "      <td>1250 1256</td>\n",
       "    </tr>\n",
       "  </tbody>\n",
       "</table>\n",
       "</div>"
      ],
      "text/plain": [
       "                      doc_id           type     code  \\\n",
       "0  S0004-06142005000700014-1  PROCEDIMIENTO  bw03zzz   \n",
       "1  S0004-06142005000700014-1  PROCEDIMIENTO  3e02329   \n",
       "2  S0004-06142005000700014-1    DIAGNOSTICO    n44.8   \n",
       "3  S0004-06142005000700014-1    DIAGNOSTICO  z20.818   \n",
       "4  S0004-06142005000700014-1    DIAGNOSTICO    r60.9   \n",
       "\n",
       "                                word             location  \n",
       "0                           Rx tórax            2163 2171  \n",
       "1       Estreptomicina intramuscular  2787 2801;2810 2823  \n",
       "2  teste derecho aumentado de tamaño            1343 1376  \n",
       "3              exposición a Brucella              594 615  \n",
       "4                             edemas            1250 1256  "
      ]
     },
     "execution_count": 40,
     "metadata": {},
     "output_type": "execute_result"
    }
   ],
   "source": [
    "codiesp_x_train.head()"
   ]
  },
  {
   "cell_type": "code",
   "execution_count": 41,
   "metadata": {},
   "outputs": [],
   "source": [
    "codiesp_x_train = codiesp_x_train[codiesp_x_train[\"type\"] == \"DIAGNOSTICO\"]"
   ]
  },
  {
   "cell_type": "code",
   "execution_count": 42,
   "metadata": {},
   "outputs": [
    {
     "data": {
      "text/plain": [
       "(7209, 5)"
      ]
     },
     "execution_count": 42,
     "metadata": {},
     "output_type": "execute_result"
    }
   ],
   "source": [
    "codiesp_x_train.shape"
   ]
  },
  {
   "cell_type": "code",
   "execution_count": 43,
   "metadata": {},
   "outputs": [],
   "source": [
    "df_codes_train_ner = process_ner_labels(codiesp_x_train).sort_values([\"doc_id\", \"start\", \"end\"])"
   ]
  },
  {
   "cell_type": "code",
   "execution_count": 44,
   "metadata": {},
   "outputs": [
    {
     "data": {
      "text/html": [
       "<div>\n",
       "<style scoped>\n",
       "    .dataframe tbody tr th:only-of-type {\n",
       "        vertical-align: middle;\n",
       "    }\n",
       "\n",
       "    .dataframe tbody tr th {\n",
       "        vertical-align: top;\n",
       "    }\n",
       "\n",
       "    .dataframe thead th {\n",
       "        text-align: right;\n",
       "    }\n",
       "</style>\n",
       "<table border=\"1\" class=\"dataframe\">\n",
       "  <thead>\n",
       "    <tr style=\"text-align: right;\">\n",
       "      <th></th>\n",
       "      <th>doc_id</th>\n",
       "      <th>type</th>\n",
       "      <th>code</th>\n",
       "      <th>word</th>\n",
       "      <th>start</th>\n",
       "      <th>end</th>\n",
       "    </tr>\n",
       "  </thead>\n",
       "  <tbody>\n",
       "    <tr>\n",
       "      <th>3</th>\n",
       "      <td>S0004-06142005000700014-1</td>\n",
       "      <td>DIAGNOSTICO</td>\n",
       "      <td>r52</td>\n",
       "      <td>dolores</td>\n",
       "      <td>78</td>\n",
       "      <td>85</td>\n",
       "    </tr>\n",
       "    <tr>\n",
       "      <th>13</th>\n",
       "      <td>S0004-06142005000700014-1</td>\n",
       "      <td>DIAGNOSTICO</td>\n",
       "      <td>m25.50</td>\n",
       "      <td>dolores osteoarticulares</td>\n",
       "      <td>78</td>\n",
       "      <td>102</td>\n",
       "    </tr>\n",
       "    <tr>\n",
       "      <th>9</th>\n",
       "      <td>S0004-06142005000700014-1</td>\n",
       "      <td>DIAGNOSTICO</td>\n",
       "      <td>r50.9</td>\n",
       "      <td>fiebre</td>\n",
       "      <td>147</td>\n",
       "      <td>153</td>\n",
       "    </tr>\n",
       "    <tr>\n",
       "      <th>14</th>\n",
       "      <td>S0004-06142005000700014-1</td>\n",
       "      <td>DIAGNOSTICO</td>\n",
       "      <td>a23.9</td>\n",
       "      <td>brucella</td>\n",
       "      <td>360</td>\n",
       "      <td>368</td>\n",
       "    </tr>\n",
       "    <tr>\n",
       "      <th>10</th>\n",
       "      <td>S0004-06142005000700014-1</td>\n",
       "      <td>DIAGNOSTICO</td>\n",
       "      <td>r50.9</td>\n",
       "      <td>síndrome febril</td>\n",
       "      <td>534</td>\n",
       "      <td>549</td>\n",
       "    </tr>\n",
       "  </tbody>\n",
       "</table>\n",
       "</div>"
      ],
      "text/plain": [
       "                       doc_id         type    code                      word  \\\n",
       "3   S0004-06142005000700014-1  DIAGNOSTICO     r52                   dolores   \n",
       "13  S0004-06142005000700014-1  DIAGNOSTICO  m25.50  dolores osteoarticulares   \n",
       "9   S0004-06142005000700014-1  DIAGNOSTICO   r50.9                    fiebre   \n",
       "14  S0004-06142005000700014-1  DIAGNOSTICO   a23.9                  brucella   \n",
       "10  S0004-06142005000700014-1  DIAGNOSTICO   r50.9           síndrome febril   \n",
       "\n",
       "   start  end  \n",
       "3     78   85  \n",
       "13    78  102  \n",
       "9    147  153  \n",
       "14   360  368  \n",
       "10   534  549  "
      ]
     },
     "execution_count": 44,
     "metadata": {},
     "output_type": "execute_result"
    }
   ],
   "source": [
    "df_codes_train_ner.head()"
   ]
  },
  {
   "cell_type": "code",
   "execution_count": 45,
   "metadata": {},
   "outputs": [
    {
     "data": {
      "text/plain": [
       "(8272, 6)"
      ]
     },
     "execution_count": 45,
     "metadata": {},
     "output_type": "execute_result"
    }
   ],
   "source": [
    "df_codes_train_ner.shape"
   ]
  },
  {
   "cell_type": "code",
   "execution_count": 46,
   "metadata": {},
   "outputs": [],
   "source": [
    "# Development corpus"
   ]
  },
  {
   "cell_type": "code",
   "execution_count": 47,
   "metadata": {},
   "outputs": [
    {
     "name": "stdout",
     "output_type": "stream",
     "text": [
      "CPU times: user 6.85 ms, sys: 209 µs, total: 7.06 ms\n",
      "Wall time: 6.82 ms\n"
     ]
    }
   ],
   "source": [
    "%%time\n",
    "\n",
    "codiesp_x_dev = pd.read_table(corpus_path + \"dev/devX.tsv\", sep='\\t', header=None)"
   ]
  },
  {
   "cell_type": "code",
   "execution_count": 48,
   "metadata": {},
   "outputs": [],
   "source": [
    "codiesp_x_dev.columns = [\"doc_id\", \"type\", \"code\", \"word\", \"location\"]"
   ]
  },
  {
   "cell_type": "code",
   "execution_count": 49,
   "metadata": {},
   "outputs": [
    {
     "data": {
      "text/plain": [
       "(4477, 5)"
      ]
     },
     "execution_count": 49,
     "metadata": {},
     "output_type": "execute_result"
    }
   ],
   "source": [
    "codiesp_x_dev.shape"
   ]
  },
  {
   "cell_type": "code",
   "execution_count": 50,
   "metadata": {},
   "outputs": [
    {
     "data": {
      "text/html": [
       "<div>\n",
       "<style scoped>\n",
       "    .dataframe tbody tr th:only-of-type {\n",
       "        vertical-align: middle;\n",
       "    }\n",
       "\n",
       "    .dataframe tbody tr th {\n",
       "        vertical-align: top;\n",
       "    }\n",
       "\n",
       "    .dataframe thead th {\n",
       "        text-align: right;\n",
       "    }\n",
       "</style>\n",
       "<table border=\"1\" class=\"dataframe\">\n",
       "  <thead>\n",
       "    <tr style=\"text-align: right;\">\n",
       "      <th></th>\n",
       "      <th>doc_id</th>\n",
       "      <th>type</th>\n",
       "      <th>code</th>\n",
       "      <th>word</th>\n",
       "      <th>location</th>\n",
       "    </tr>\n",
       "  </thead>\n",
       "  <tbody>\n",
       "    <tr>\n",
       "      <th>0</th>\n",
       "      <td>S0004-06142005000900016-1</td>\n",
       "      <td>PROCEDIMIENTO</td>\n",
       "      <td>bt41zzz</td>\n",
       "      <td>ecografía renal derecha</td>\n",
       "      <td>307 316;348 361</td>\n",
       "    </tr>\n",
       "    <tr>\n",
       "      <th>1</th>\n",
       "      <td>S0004-06142005000900016-1</td>\n",
       "      <td>PROCEDIMIENTO</td>\n",
       "      <td>ct13</td>\n",
       "      <td>gammagrafía renal</td>\n",
       "      <td>739 756</td>\n",
       "    </tr>\n",
       "    <tr>\n",
       "      <th>2</th>\n",
       "      <td>S0004-06142005000900016-1</td>\n",
       "      <td>DIAGNOSTICO</td>\n",
       "      <td>q62.11</td>\n",
       "      <td>estenosis en la unión pieloureteral derecha</td>\n",
       "      <td>540 583</td>\n",
       "    </tr>\n",
       "    <tr>\n",
       "      <th>3</th>\n",
       "      <td>S0004-06142005000900016-1</td>\n",
       "      <td>DIAGNOSTICO</td>\n",
       "      <td>n28.89</td>\n",
       "      <td>ectasia pielocalicial</td>\n",
       "      <td>326 347</td>\n",
       "    </tr>\n",
       "    <tr>\n",
       "      <th>4</th>\n",
       "      <td>S0004-06142005000900016-1</td>\n",
       "      <td>DIAGNOSTICO</td>\n",
       "      <td>n39.0</td>\n",
       "      <td>infecciones del tracto urinario</td>\n",
       "      <td>198 229</td>\n",
       "    </tr>\n",
       "  </tbody>\n",
       "</table>\n",
       "</div>"
      ],
      "text/plain": [
       "                      doc_id           type     code  \\\n",
       "0  S0004-06142005000900016-1  PROCEDIMIENTO  bt41zzz   \n",
       "1  S0004-06142005000900016-1  PROCEDIMIENTO     ct13   \n",
       "2  S0004-06142005000900016-1    DIAGNOSTICO   q62.11   \n",
       "3  S0004-06142005000900016-1    DIAGNOSTICO   n28.89   \n",
       "4  S0004-06142005000900016-1    DIAGNOSTICO    n39.0   \n",
       "\n",
       "                                          word         location  \n",
       "0                      ecografía renal derecha  307 316;348 361  \n",
       "1                            gammagrafía renal          739 756  \n",
       "2  estenosis en la unión pieloureteral derecha          540 583  \n",
       "3                        ectasia pielocalicial          326 347  \n",
       "4              infecciones del tracto urinario          198 229  "
      ]
     },
     "execution_count": 50,
     "metadata": {},
     "output_type": "execute_result"
    }
   ],
   "source": [
    "codiesp_x_dev.head()"
   ]
  },
  {
   "cell_type": "code",
   "execution_count": 51,
   "metadata": {},
   "outputs": [],
   "source": [
    "codiesp_x_dev = codiesp_x_dev[codiesp_x_dev[\"type\"] == \"DIAGNOSTICO\"]"
   ]
  },
  {
   "cell_type": "code",
   "execution_count": 52,
   "metadata": {},
   "outputs": [
    {
     "data": {
      "text/plain": [
       "(3431, 5)"
      ]
     },
     "execution_count": 52,
     "metadata": {},
     "output_type": "execute_result"
    }
   ],
   "source": [
    "codiesp_x_dev.shape"
   ]
  },
  {
   "cell_type": "code",
   "execution_count": 53,
   "metadata": {},
   "outputs": [],
   "source": [
    "df_codes_dev_ner = process_ner_labels(codiesp_x_dev).sort_values([\"doc_id\", \"start\", \"end\"])"
   ]
  },
  {
   "cell_type": "code",
   "execution_count": 54,
   "metadata": {},
   "outputs": [
    {
     "data": {
      "text/html": [
       "<div>\n",
       "<style scoped>\n",
       "    .dataframe tbody tr th:only-of-type {\n",
       "        vertical-align: middle;\n",
       "    }\n",
       "\n",
       "    .dataframe tbody tr th {\n",
       "        vertical-align: top;\n",
       "    }\n",
       "\n",
       "    .dataframe thead th {\n",
       "        text-align: right;\n",
       "    }\n",
       "</style>\n",
       "<table border=\"1\" class=\"dataframe\">\n",
       "  <thead>\n",
       "    <tr style=\"text-align: right;\">\n",
       "      <th></th>\n",
       "      <th>doc_id</th>\n",
       "      <th>type</th>\n",
       "      <th>code</th>\n",
       "      <th>word</th>\n",
       "      <th>start</th>\n",
       "      <th>end</th>\n",
       "    </tr>\n",
       "  </thead>\n",
       "  <tbody>\n",
       "    <tr>\n",
       "      <th>11</th>\n",
       "      <td>S0004-06142005000900016-1</td>\n",
       "      <td>DIAGNOSTICO</td>\n",
       "      <td>k26.9</td>\n",
       "      <td>ulcus duodenal</td>\n",
       "      <td>37</td>\n",
       "      <td>51</td>\n",
       "    </tr>\n",
       "    <tr>\n",
       "      <th>14</th>\n",
       "      <td>S0004-06142005000900016-1</td>\n",
       "      <td>DIAGNOSTICO</td>\n",
       "      <td>k59.00</td>\n",
       "      <td>estreñimiento</td>\n",
       "      <td>54</td>\n",
       "      <td>67</td>\n",
       "    </tr>\n",
       "    <tr>\n",
       "      <th>4</th>\n",
       "      <td>S0004-06142005000900016-1</td>\n",
       "      <td>DIAGNOSTICO</td>\n",
       "      <td>n23</td>\n",
       "      <td>dolor en fosa renal</td>\n",
       "      <td>85</td>\n",
       "      <td>104</td>\n",
       "    </tr>\n",
       "    <tr>\n",
       "      <th>5</th>\n",
       "      <td>S0004-06142005000900016-1</td>\n",
       "      <td>DIAGNOSTICO</td>\n",
       "      <td>n28.0</td>\n",
       "      <td>crisis renoureteral</td>\n",
       "      <td>128</td>\n",
       "      <td>147</td>\n",
       "    </tr>\n",
       "    <tr>\n",
       "      <th>13</th>\n",
       "      <td>S0004-06142005000900016-1</td>\n",
       "      <td>DIAGNOSTICO</td>\n",
       "      <td>n20.0</td>\n",
       "      <td>nefrolitiasis</td>\n",
       "      <td>168</td>\n",
       "      <td>181</td>\n",
       "    </tr>\n",
       "  </tbody>\n",
       "</table>\n",
       "</div>"
      ],
      "text/plain": [
       "                       doc_id         type    code                 word start  \\\n",
       "11  S0004-06142005000900016-1  DIAGNOSTICO   k26.9       ulcus duodenal    37   \n",
       "14  S0004-06142005000900016-1  DIAGNOSTICO  k59.00        estreñimiento    54   \n",
       "4   S0004-06142005000900016-1  DIAGNOSTICO     n23  dolor en fosa renal    85   \n",
       "5   S0004-06142005000900016-1  DIAGNOSTICO   n28.0  crisis renoureteral   128   \n",
       "13  S0004-06142005000900016-1  DIAGNOSTICO   n20.0        nefrolitiasis   168   \n",
       "\n",
       "    end  \n",
       "11   51  \n",
       "14   67  \n",
       "4   104  \n",
       "5   147  \n",
       "13  181  "
      ]
     },
     "execution_count": 54,
     "metadata": {},
     "output_type": "execute_result"
    }
   ],
   "source": [
    "df_codes_dev_ner.head()"
   ]
  },
  {
   "cell_type": "code",
   "execution_count": 55,
   "metadata": {},
   "outputs": [
    {
     "data": {
      "text/plain": [
       "(3947, 6)"
      ]
     },
     "execution_count": 55,
     "metadata": {},
     "output_type": "execute_result"
    }
   ],
   "source": [
    "df_codes_dev_ner.shape"
   ]
  },
  {
   "cell_type": "markdown",
   "metadata": {},
   "source": [
    "Now, using the character start-end positions of each sentence from the CodiEsp corpus (see `datasets/CodiEsp-Sentence-Split.ipynb`), we annotate the sentences with CIE-Procedimiento codes. Also, using mBERT tokenizer, each sentence is converted into a sequence of subwords, which are further converted into vocabulary indices (input IDs) and segments arrays (BERT input tensors). We also generate a *fragments* dataset indicating the number of produced annotated sentences for each document."
   ]
  },
  {
   "cell_type": "code",
   "execution_count": 56,
   "metadata": {},
   "outputs": [],
   "source": [
    "# Sentence-Split information\n",
    "ss_corpus_path = \"../datasets/CodiEsp-SSplit-text/\""
   ]
  },
  {
   "cell_type": "markdown",
   "metadata": {},
   "source": [
    "### Training corpus"
   ]
  },
  {
   "cell_type": "code",
   "execution_count": 57,
   "metadata": {},
   "outputs": [],
   "source": [
    "label_list = list(df_codes_train_dev_abs[\"code\"])"
   ]
  },
  {
   "cell_type": "code",
   "execution_count": 58,
   "metadata": {},
   "outputs": [
    {
     "data": {
      "text/plain": [
       "24041"
      ]
     },
     "execution_count": 58,
     "metadata": {},
     "output_type": "execute_result"
    }
   ],
   "source": [
    "len(label_list)"
   ]
  },
  {
   "cell_type": "code",
   "execution_count": 59,
   "metadata": {},
   "outputs": [
    {
     "data": {
      "text/plain": [
       "2194"
      ]
     },
     "execution_count": 59,
     "metadata": {},
     "output_type": "execute_result"
    }
   ],
   "source": [
    "len(set(label_list))"
   ]
  },
  {
   "cell_type": "code",
   "execution_count": 60,
   "metadata": {},
   "outputs": [
    {
     "data": {
      "text/plain": [
       "MultiLabelBinarizer(classes=None, sparse_output=False)"
      ]
     },
     "execution_count": 60,
     "metadata": {},
     "output_type": "execute_result"
    }
   ],
   "source": [
    "from sklearn.preprocessing import MultiLabelBinarizer\n",
    "\n",
    "mlb_encoder = MultiLabelBinarizer()\n",
    "mlb_encoder.fit([label_list])"
   ]
  },
  {
   "cell_type": "code",
   "execution_count": 61,
   "metadata": {},
   "outputs": [],
   "source": [
    "# Number of distinct codes\n",
    "num_labels = len(mlb_encoder.classes_)"
   ]
  },
  {
   "cell_type": "code",
   "execution_count": 62,
   "metadata": {},
   "outputs": [
    {
     "data": {
      "text/plain": [
       "2194"
      ]
     },
     "execution_count": 62,
     "metadata": {},
     "output_type": "execute_result"
    }
   ],
   "source": [
    "num_labels"
   ]
  },
  {
   "cell_type": "markdown",
   "metadata": {},
   "source": [
    "Only training texts that are annotated with CIE-Diagnóstico codes are considered:"
   ]
  },
  {
   "cell_type": "code",
   "execution_count": 63,
   "metadata": {},
   "outputs": [
    {
     "data": {
      "text/plain": [
       "0"
      ]
     },
     "execution_count": 63,
     "metadata": {},
     "output_type": "execute_result"
    }
   ],
   "source": [
    "len(set(df_text_train[\"doc_id\"]) - set(df_codes_train_ner[\"doc_id\"]))"
   ]
  },
  {
   "cell_type": "code",
   "execution_count": 64,
   "metadata": {},
   "outputs": [],
   "source": [
    "train_doc_list = sorted(set(df_codes_train_ner[\"doc_id\"]))"
   ]
  },
  {
   "cell_type": "code",
   "execution_count": 65,
   "metadata": {},
   "outputs": [
    {
     "data": {
      "text/plain": [
       "500"
      ]
     },
     "execution_count": 65,
     "metadata": {},
     "output_type": "execute_result"
    }
   ],
   "source": [
    "len(train_doc_list)"
   ]
  },
  {
   "cell_type": "code",
   "execution_count": 66,
   "metadata": {},
   "outputs": [],
   "source": [
    "# Sentence-Split data"
   ]
  },
  {
   "cell_type": "code",
   "execution_count": 67,
   "metadata": {},
   "outputs": [
    {
     "name": "stdout",
     "output_type": "stream",
     "text": [
      "CPU times: user 13 ms, sys: 4.1 ms, total: 17.1 ms\n",
      "Wall time: 16.9 ms\n"
     ]
    }
   ],
   "source": [
    "%%time\n",
    "ss_sub_corpus_path = ss_corpus_path + \"train/\"\n",
    "ss_files = [f for f in os.listdir(ss_sub_corpus_path) if os.path.isfile(ss_sub_corpus_path + f)]\n",
    "ss_dict_train = load_ss_files(ss_files, ss_sub_corpus_path)"
   ]
  },
  {
   "cell_type": "code",
   "execution_count": 68,
   "metadata": {},
   "outputs": [
    {
     "name": "stderr",
     "output_type": "stream",
     "text": [
      "100%|██████████| 500/500 [00:15<00:00, 18.45it/s]"
     ]
    },
    {
     "name": "stdout",
     "output_type": "stream",
     "text": [
      "CPU times: user 15.9 s, sys: 54.8 ms, total: 16 s\n",
      "Wall time: 15.9 s\n"
     ]
    },
    {
     "name": "stderr",
     "output_type": "stream",
     "text": [
      "\n"
     ]
    }
   ],
   "source": [
    "%%time\n",
    "train_ind, train_seg, train_y, train_frag, train_start_end_frag = ss_create_frag_input_data_bert(df_text=df_text_train, \n",
    "                                                  text_col=text_col, \n",
    "                                                  df_ann=df_codes_train_ner, doc_list=train_doc_list, ss_dict=ss_dict_train,\n",
    "                                                  tokenizer=tokenizer, lab_encoder=mlb_encoder, seq_len=SEQ_LEN,\n",
    "                                                  greedy=False)"
   ]
  },
  {
   "cell_type": "code",
   "execution_count": 69,
   "metadata": {},
   "outputs": [],
   "source": [
    "# Sanity check"
   ]
  },
  {
   "cell_type": "code",
   "execution_count": 70,
   "metadata": {},
   "outputs": [
    {
     "data": {
      "text/plain": [
       "(7753, 128)"
      ]
     },
     "execution_count": 70,
     "metadata": {},
     "output_type": "execute_result"
    }
   ],
   "source": [
    "train_ind.shape"
   ]
  },
  {
   "cell_type": "code",
   "execution_count": 71,
   "metadata": {},
   "outputs": [
    {
     "data": {
      "text/plain": [
       "(7753, 128)"
      ]
     },
     "execution_count": 71,
     "metadata": {},
     "output_type": "execute_result"
    }
   ],
   "source": [
    "train_seg.shape"
   ]
  },
  {
   "cell_type": "code",
   "execution_count": 72,
   "metadata": {},
   "outputs": [
    {
     "data": {
      "text/plain": [
       "(7753, 2194)"
      ]
     },
     "execution_count": 72,
     "metadata": {},
     "output_type": "execute_result"
    }
   ],
   "source": [
    "train_y.shape"
   ]
  },
  {
   "cell_type": "code",
   "execution_count": 73,
   "metadata": {},
   "outputs": [
    {
     "data": {
      "text/plain": [
       "500"
      ]
     },
     "execution_count": 73,
     "metadata": {},
     "output_type": "execute_result"
    }
   ],
   "source": [
    "len(train_frag)"
   ]
  },
  {
   "cell_type": "code",
   "execution_count": 74,
   "metadata": {},
   "outputs": [
    {
     "data": {
      "text/plain": [
       "7753"
      ]
     },
     "execution_count": 74,
     "metadata": {},
     "output_type": "execute_result"
    }
   ],
   "source": [
    "len(train_start_end_frag)"
   ]
  },
  {
   "cell_type": "code",
   "execution_count": 75,
   "metadata": {},
   "outputs": [
    {
     "data": {
      "text/plain": [
       "count    500.000000\n",
       "mean      15.506000\n",
       "std        7.682709\n",
       "min        2.000000\n",
       "25%       10.000000\n",
       "50%       14.000000\n",
       "75%       19.000000\n",
       "max       54.000000\n",
       "dtype: float64"
      ]
     },
     "execution_count": 75,
     "metadata": {},
     "output_type": "execute_result"
    }
   ],
   "source": [
    "# Check n_frag distribution across texts\n",
    "pd.Series(train_frag).describe()"
   ]
  },
  {
   "cell_type": "code",
   "execution_count": 76,
   "metadata": {},
   "outputs": [],
   "source": [
    "# Inspect a randomly selected text and its encoded version\n",
    "check_id = np.random.randint(low=0, high=len(train_doc_list), size=1)[0]"
   ]
  },
  {
   "cell_type": "code",
   "execution_count": 77,
   "metadata": {},
   "outputs": [
    {
     "data": {
      "text/plain": [
       "73"
      ]
     },
     "execution_count": 77,
     "metadata": {},
     "output_type": "execute_result"
    }
   ],
   "source": [
    "check_id"
   ]
  },
  {
   "cell_type": "code",
   "execution_count": 78,
   "metadata": {},
   "outputs": [
    {
     "data": {
      "text/plain": [
       "'S0210-48062007001000004-1'"
      ]
     },
     "execution_count": 78,
     "metadata": {},
     "output_type": "execute_result"
    }
   ],
   "source": [
    "train_doc_list[check_id]"
   ]
  },
  {
   "cell_type": "code",
   "execution_count": 79,
   "metadata": {
    "scrolled": true
   },
   "outputs": [
    {
     "data": {
      "text/plain": [
       "'Paciente de 25 años que, durante ingreso en el servicio de Medicina Interna por fiebre vespertina de 3 días de evolución, se le descubre incidentalmente mediante estudio ecográfico tumoración en testículo derecho.\\nComo antecedentes personales, refiere no tener alergias medicamentosas. Herniorrafia inguinal bilateral.\\nRefiere tumoración indolora de un año de evolución que ha ido aumentando progresivamente.\\nA la exploración física se palpa aumento del testículo derecho con tumoración indolora en polo superior.\\nAnte la sospecha de tumor testicular se le realizan diferentes pruebas complementarias. En la Ecografía testicular, se aprecia tumoración en testículo derecho de 78 mm x 57 mm x 61 mm heterogénea, sólida compatible con tumor testicular primario. Teste izquierdo normal. Tomografía axial computerizada (TAC): tumoración testicular derecha con adenopatías retrocavas y paraaórticas > 2 y <5 cm. Lactato deshidrogenasa (LDH): 1890 UI/I; alfafetoproteína (AFP): 51 ng/ml; beta-gonadotropina coriónica (Beta-HCG): 23 mUI/ml.\\nSe sometió a orquiectomia inguinal derecha con informe de Anatomía Patológica de Carcinoma Embrionario de 7 cm que sustituye parénquima y epidídimo con implantes en cordón y alcanza albugínea. Diagnosticado de carcinoma embrionario de testículo derecho T3N2M0, estadio II con riesgo intermedio por elevación de LDH, completó el tratamiento con quimioterapia según el esquema BEP (bleom<icina, etopósido y cisplatino) de 4 ciclos.\\nA los 4 años, y estando libre de enfermedad en las revisiones de control, acude a Urgencias por tumoración dolorosa en testículo izquierdo.\\nA la exploración física se aprecia, monorquio izquierdo, tumoración indurada a nivel del polo inferior del epidídimo izquierdo.\\nDentro de las exploraciones complementarias destaca: Lactato deshidrogenasa (LDH): 347 UI/I; alfafetoproteína (AFP): 2,4 ng/ml; beta-gonadotropina coriónica (Beta-HCG): 0,1 mUI/ml. Radiografía de tórax: Sin hallazgos patológicos. Ecografía testicular: Tumoración testicular de 51x19x22 mm de tamaño, con ecoestructura heterogénea y con flujo doppler color, que afecta además a cuerpo y cola de epidídimo. Calcificación en vertiente anteroinferior de testículo. Tomografía Axial Computerizada toraco-abdomino-pélvico: Hígado, bazo y páncreas normales. Riñones de morfología y densidad normales. No adenopatías ni cadenas ganglionares.\\nBajo la sospecha de segundo tumor de células germinales se le realiza orquiectomía radical izquierda vía inguinal, siendo le resultado de la Anatomía Patológica de Seminoma clásico de 3,2 cm de diámetro que infiltra parénquima testicular extendiéndose a epidídimo y cordón espermático.\\nEl postoperatorio cursó sin complicaciones.\\nSe remite al Servicio de Oncología para valoración de tratamiento adyuvante y control. Dado que el diámetro máximo del tumor es de 3,2 cm y no afecta a la rete testis, se opta por el tratamiento conservador de control.\\nTres meses después, en Tomografía Axial Computerizada de control, se detecta adenopatía retroperitoneal izquierda aumentada de tamaño (3,5 cm), con mal plano de separación con el psoas que atrapa el tercio medio del uréter causando hidronefrosis grado I. En las analíticas sanguíneas de control: hemograma, bioquímica y hemostasia dentro de los parámetros de la normalidad excepto por Creatinina de 1,2 mg/dl; lactato deshidrogenasa=552 UI/I, alfafetoproteína y beta-gonadotropina coriónica dentro de la normalidad.\\nSe diagnostica de recidiva retroperitoneal y se somete a tratamiento con quimioterapia (etopósido y cisplatino de 4 ciclos).\\nActualmente el paciente lleva 3 años libre de enfermedad en los controles periódicos que se le realizan en los servicios de Urología y Oncología.\\n\\n'"
      ]
     },
     "execution_count": 79,
     "metadata": {},
     "output_type": "execute_result"
    }
   ],
   "source": [
    "df_text_train[df_text_train[\"doc_id\"] == train_doc_list[check_id]][text_col].values[0]"
   ]
  },
  {
   "cell_type": "code",
   "execution_count": 80,
   "metadata": {},
   "outputs": [
    {
     "name": "stdout",
     "output_type": "stream",
     "text": [
      "[('n50.9', 'r50.9')] \n",
      "\n",
      "[()] \n",
      "\n",
      "[()] \n",
      "\n",
      "[()] \n",
      "\n",
      "[('n50.9',)] \n",
      "\n",
      "[('d49.59',)] \n",
      "\n",
      "[('d49.59', 'n50.9')] \n",
      "\n",
      "[()] \n",
      "\n",
      "[('n50.9', 'r59.0')] \n",
      "\n",
      "[()] \n",
      "\n",
      "[()] \n",
      "\n",
      "[('c62.91',)] \n",
      "\n",
      "[('n50.9',)] \n",
      "\n",
      "[('n50.9',)] \n",
      "\n",
      "[()] \n",
      "\n",
      "[()] \n",
      "\n",
      "[('n50.9',)] \n",
      "\n",
      "[()] \n",
      "\n",
      "[()] \n",
      "\n",
      "[()] \n",
      "\n",
      "[('r59.9',)] \n",
      "\n",
      "[('c62.90',)] \n",
      "\n",
      "[()] \n",
      "\n",
      "[()] \n",
      "\n",
      "[()] \n",
      "\n",
      "[('n13.30', 'r59.0')] \n",
      "\n",
      "[()] \n",
      "\n",
      "[()] \n",
      "\n",
      "[()] \n",
      "\n"
     ]
    }
   ],
   "source": [
    "check_id_frag = sum(train_frag[:check_id])\n",
    "for i in range(check_id_frag, check_id_frag + train_frag[check_id]):\n",
    "    print(mlb_encoder.inverse_transform(np.array([train_y[i]])), \"\\n\")"
   ]
  },
  {
   "cell_type": "code",
   "execution_count": 81,
   "metadata": {},
   "outputs": [
    {
     "name": "stdout",
     "output_type": "stream",
     "text": [
      "[('Pac', (0, 3)), ('##iente', (3, 8)), ('de', (9, 11)), ('25', (12, 14)), ('años', (15, 19)), ('que', (20, 23)), (',', (23, 24)), ('durante', (25, 32)), ('ingreso', (33, 40)), ('en', (41, 43)), ('el', (44, 46)), ('servicio', (47, 55)), ('de', (56, 58)), ('Medicina', (59, 67)), ('Inter', (68, 73)), ('##na', (73, 75)), ('por', (76, 79)), ('fie', (80, 83)), ('##bre', (83, 86)), ('ve', (87, 89)), ('##sper', (89, 93)), ('##tina', (93, 97)), ('de', (98, 100)), ('3', (101, 102)), ('días', (103, 107)), ('de', (108, 110)), ('evolución', (111, 120)), (',', (120, 121)), ('se', (122, 124)), ('le', (125, 127)), ('descubre', (128, 136)), ('incident', (137, 145)), ('##almente', (145, 152)), ('mediante', (153, 161)), ('estudio', (162, 169)), ('e', (170, 171)), ('##co', (171, 173)), ('##gráfico', (173, 180)), ('tumor', (181, 186)), ('##ación', (186, 191)), ('en', (192, 194)), ('test', (195, 199)), ('##ículo', (199, 204)), ('derecho', (205, 212)), ('.', (212, 213))]\n",
      "\n",
      "\n",
      "[('Como', (214, 218)), ('ante', (219, 223)), ('##cedent', (223, 229)), ('##es', (229, 231)), ('personales', (232, 242)), (',', (242, 243)), ('refiere', (244, 251)), ('no', (252, 254)), ('tener', (255, 260)), ('ale', (261, 264)), ('##rgia', (264, 268)), ('##s', (268, 269)), ('med', (270, 273)), ('##ica', (273, 276)), ('##mentos', (276, 282)), ('##as', (282, 284)), ('.', (284, 285))]\n",
      "\n",
      "\n",
      "[('Her', (286, 289)), ('##nio', (289, 292)), ('##rra', (292, 295)), ('##fia', (295, 298)), ('ing', (299, 302)), ('##uin', (302, 305)), ('##al', (305, 307)), ('bila', (308, 312)), ('##teral', (312, 317)), ('.', (317, 318))]\n",
      "\n",
      "\n",
      "[('Re', (319, 321)), ('##fier', (321, 325)), ('##e', (325, 326)), ('tumor', (327, 332)), ('##ación', (332, 337)), ('indo', (338, 342)), ('##lora', (342, 346)), ('de', (347, 349)), ('un', (350, 352)), ('año', (353, 356)), ('de', (357, 359)), ('evolución', (360, 369)), ('que', (370, 373)), ('ha', (374, 376)), ('ido', (377, 380)), ('aumentando', (381, 391)), ('pro', (392, 395)), ('##gres', (395, 399)), ('##ivamente', (399, 407)), ('.', (407, 408))]\n",
      "\n",
      "\n",
      "[('A', (409, 410)), ('la', (411, 413)), ('ex', (414, 416)), ('##plo', (416, 419)), ('##ración', (419, 425)), ('física', (426, 432)), ('se', (433, 435)), ('pal', (436, 439)), ('##pa', (439, 441)), ('aumento', (442, 449)), ('del', (450, 453)), ('test', (454, 458)), ('##ículo', (458, 463)), ('derecho', (464, 471)), ('con', (472, 475)), ('tumor', (476, 481)), ('##ación', (481, 486)), ('indo', (487, 491)), ('##lora', (491, 495)), ('en', (496, 498)), ('polo', (499, 503)), ('superior', (504, 512)), ('.', (512, 513))]\n",
      "\n",
      "\n",
      "[('Ante', (514, 518)), ('la', (519, 521)), ('sos', (522, 525)), ('##pec', (525, 528)), ('##ha', (528, 530)), ('de', (531, 533)), ('tumor', (534, 539)), ('testi', (540, 545)), ('##cular', (545, 550)), ('se', (551, 553)), ('le', (554, 556)), ('realizan', (557, 565)), ('diferentes', (566, 576)), ('pruebas', (577, 584)), ('complement', (585, 595)), ('##arias', (595, 600)), ('.', (600, 601))]\n",
      "\n",
      "\n",
      "[('En', (602, 604)), ('la', (605, 607)), ('Eco', (608, 611)), ('##grafía', (611, 617)), ('testi', (618, 623)), ('##cular', (623, 628)), (',', (628, 629)), ('se', (630, 632)), ('apre', (633, 637)), ('##cia', (637, 640)), ('tumor', (641, 646)), ('##ación', (646, 651)), ('en', (652, 654)), ('test', (655, 659)), ('##ículo', (659, 664)), ('derecho', (665, 672)), ('de', (673, 675)), ('78', (676, 678)), ('mm', (679, 681)), ('x', (682, 683)), ('57', (684, 686)), ('mm', (687, 689)), ('x', (690, 691)), ('61', (692, 694)), ('mm', (695, 697)), ('heter', (698, 703)), ('##og', (703, 705)), ('##én', (705, 707)), ('##ea', (707, 709)), (',', (709, 710)), ('só', (711, 713)), ('##lida', (713, 717)), ('compatible', (718, 728)), ('con', (729, 732)), ('tumor', (733, 738)), ('testi', (739, 744)), ('##cular', (744, 749)), ('prima', (750, 755)), ('##rio', (755, 758)), ('.', (758, 759))]\n",
      "\n",
      "\n",
      "[('Test', (760, 764)), ('##e', (764, 765)), ('izquierdo', (766, 775)), ('normal', (776, 782)), ('.', (782, 783))]\n",
      "\n",
      "\n",
      "[('Tomo', (784, 788)), ('##grafía', (788, 794)), ('a', (795, 796)), ('##xia', (796, 799)), ('##l', (799, 800)), ('computer', (801, 809)), ('##izada', (809, 814)), ('(', (815, 816)), ('TA', (816, 818)), ('##C', (818, 819)), (')', (819, 820)), (':', (820, 821)), ('tumor', (822, 827)), ('##ación', (827, 832)), ('testi', (833, 838)), ('##cular', (838, 843)), ('derecha', (844, 851)), ('con', (852, 855)), ('ad', (856, 858)), ('##eno', (858, 861)), ('##pat', (861, 864)), ('##ías', (864, 867)), ('ret', (868, 871)), ('##roca', (871, 875)), ('##vas', (875, 878)), ('y', (879, 880)), ('para', (881, 885)), ('##a', (885, 886)), ('##ór', (886, 888)), ('##ticas', (888, 893)), ('>', (894, 895)), ('2', (896, 897)), ('y', (898, 899)), ('<', (900, 901)), ('5', (901, 902)), ('cm', (903, 905)), ('.', (905, 906))]\n",
      "\n",
      "\n",
      "[('Lac', (907, 910)), ('##tato', (910, 914)), ('des', (915, 918)), ('##hid', (918, 921)), ('##rog', (921, 924)), ('##enas', (924, 928)), ('##a', (928, 929)), ('(', (930, 931)), ('L', (931, 932)), ('##DH', (932, 934)), (')', (934, 935)), (':', (935, 936)), ('1890', (937, 941)), ('U', (942, 943)), ('##I', (943, 944)), ('/', (944, 945)), ('I', (945, 946)), (';', (946, 947)), ('alfa', (948, 952)), ('##fet', (952, 955)), ('##op', (955, 957)), ('##rot', (957, 960)), ('##e', (960, 961)), ('##ína', (961, 964)), ('(', (965, 966)), ('AF', (966, 968)), ('##P', (968, 969)), (')', (969, 970)), (':', (970, 971)), ('51', (972, 974)), ('ng', (975, 977)), ('/', (977, 978)), ('ml', (978, 980)), (';', (980, 981)), ('beta', (982, 986)), ('-', (986, 987)), ('go', (987, 989)), ('##nado', (989, 993)), ('##tro', (993, 996)), ('##pina', (996, 1000)), ('cori', (1001, 1005)), ('##ónica', (1005, 1010)), ('(', (1011, 1012)), ('Beta', (1012, 1016)), ('-', (1016, 1017)), ('HC', (1017, 1019)), ('##G', (1019, 1020)), (')', (1020, 1021)), (':', (1021, 1022)), ('23', (1023, 1025)), ('m', (1026, 1027)), ('##UI', (1027, 1029)), ('/', (1029, 1030)), ('ml', (1030, 1032)), ('.', (1032, 1033))]\n",
      "\n",
      "\n",
      "[('Se', (1034, 1036)), ('some', (1037, 1041)), ('##tió', (1041, 1044)), ('a', (1045, 1046)), ('or', (1047, 1049)), ('##qui', (1049, 1052)), ('##ect', (1052, 1055)), ('##omia', (1055, 1059)), ('ing', (1060, 1063)), ('##uin', (1063, 1066)), ('##al', (1066, 1068)), ('derecha', (1069, 1076)), ('con', (1077, 1080)), ('informe', (1081, 1088)), ('de', (1089, 1091)), ('Ana', (1092, 1095)), ('##tom', (1095, 1098)), ('##ía', (1098, 1100)), ('Pato', (1101, 1105)), ('##lógica', (1105, 1111)), ('de', (1112, 1114)), ('Car', (1115, 1118)), ('##cino', (1118, 1122)), ('##ma', (1122, 1124)), ('Em', (1125, 1127)), ('##brio', (1127, 1131)), ('##nario', (1131, 1136)), ('de', (1137, 1139)), ('7', (1140, 1141)), ('cm', (1142, 1144)), ('que', (1145, 1148)), ('sus', (1149, 1152)), ('##tit', (1152, 1155)), ('##uye', (1155, 1158)), ('par', (1159, 1162)), ('##én', (1162, 1164)), ('##qui', (1164, 1167)), ('##ma', (1167, 1169)), ('y', (1170, 1171)), ('epi', (1172, 1175)), ('##dí', (1175, 1177)), ('##dim', (1177, 1180)), ('##o', (1180, 1181)), ('con', (1182, 1185)), ('im', (1186, 1188)), ('##plant', (1188, 1193)), ('##es', (1193, 1195)), ('en', (1196, 1198)), ('cor', (1199, 1202)), ('##dón', (1202, 1205)), ('y', (1206, 1207)), ('alcanza', (1208, 1215)), ('alb', (1216, 1219)), ('##ug', (1219, 1221)), ('##íne', (1221, 1224)), ('##a', (1224, 1225)), ('.', (1225, 1226))]\n",
      "\n",
      "\n",
      "[('Dia', (1227, 1230)), ('##gno', (1230, 1233)), ('##stica', (1233, 1238)), ('##do', (1238, 1240)), ('de', (1241, 1243)), ('car', (1244, 1247)), ('##cino', (1247, 1251)), ('##ma', (1251, 1253)), ('em', (1254, 1256)), ('##brio', (1256, 1260)), ('##nario', (1260, 1265)), ('de', (1266, 1268)), ('test', (1269, 1273)), ('##ículo', (1273, 1278)), ('derecho', (1279, 1286)), ('T', (1287, 1288)), ('##3', (1288, 1289)), ('##N', (1289, 1290)), ('##2', (1290, 1291)), ('##M', (1291, 1292)), ('##0', (1292, 1293)), (',', (1293, 1294)), ('estadio', (1295, 1302)), ('II', (1303, 1305)), ('con', (1306, 1309)), ('riesgo', (1310, 1316)), ('inter', (1317, 1322)), ('##medio', (1322, 1327)), ('por', (1328, 1331)), ('elev', (1332, 1336)), ('##ación', (1336, 1341)), ('de', (1342, 1344)), ('L', (1345, 1346)), ('##DH', (1346, 1348)), (',', (1348, 1349)), ('complet', (1350, 1357)), ('##ó', (1357, 1358)), ('el', (1359, 1361)), ('tratamiento', (1362, 1373)), ('con', (1374, 1377)), ('qui', (1378, 1381)), ('##mio', (1381, 1384)), ('##tera', (1384, 1388)), ('##pia', (1388, 1391)), ('según', (1392, 1397)), ('el', (1398, 1400)), ('esquema', (1401, 1408)), ('BE', (1409, 1411)), ('##P', (1411, 1412)), ('(', (1413, 1414)), ('ble', (1414, 1417)), ('##om', (1417, 1419)), ('<', (1419, 1420)), ('ici', (1420, 1423)), ('##na', (1423, 1425)), (',', (1425, 1426)), ('et', (1427, 1429)), ('##op', (1429, 1431)), ('##ós', (1431, 1433)), ('##ido', (1433, 1436)), ('y', (1437, 1438)), ('ci', (1439, 1441)), ('##sp', (1441, 1443)), ('##lati', (1443, 1447)), ('##no', (1447, 1449)), (')', (1449, 1450)), ('de', (1451, 1453)), ('4', (1454, 1455)), ('ciclo', (1456, 1461)), ('##s', (1461, 1462)), ('.', (1462, 1463))]\n",
      "\n",
      "\n",
      "[('A', (1464, 1465)), ('los', (1466, 1469)), ('4', (1470, 1471)), ('años', (1472, 1476)), (',', (1476, 1477)), ('y', (1478, 1479)), ('estando', (1480, 1487)), ('libre', (1488, 1493)), ('de', (1494, 1496)), ('enfermedad', (1497, 1507)), ('en', (1508, 1510)), ('las', (1511, 1514)), ('revision', (1515, 1523)), ('##es', (1523, 1525)), ('de', (1526, 1528)), ('control', (1529, 1536)), (',', (1536, 1537)), ('acu', (1538, 1541)), ('##de', (1541, 1543)), ('a', (1544, 1545)), ('Ur', (1546, 1548)), ('##gen', (1548, 1551)), ('##cias', (1551, 1555)), ('por', (1556, 1559)), ('tumor', (1560, 1565)), ('##ación', (1565, 1570)), ('dolor', (1571, 1576)), ('##osa', (1576, 1579)), ('en', (1580, 1582)), ('test', (1583, 1587)), ('##ículo', (1587, 1592)), ('izquierdo', (1593, 1602)), ('.', (1602, 1603))]\n",
      "\n",
      "\n",
      "[('A', (1604, 1605)), ('la', (1606, 1608)), ('ex', (1609, 1611)), ('##plo', (1611, 1614)), ('##ración', (1614, 1620)), ('física', (1621, 1627)), ('se', (1628, 1630)), ('apre', (1631, 1635)), ('##cia', (1635, 1638)), (',', (1638, 1639)), ('mono', (1640, 1644)), ('##r', (1644, 1645)), ('##quio', (1645, 1649)), ('izquierdo', (1650, 1659)), (',', (1659, 1660)), ('tumor', (1661, 1666)), ('##ación', (1666, 1671)), ('ind', (1672, 1675)), ('##urada', (1675, 1680)), ('a', (1681, 1682)), ('nivel', (1683, 1688)), ('del', (1689, 1692)), ('polo', (1693, 1697)), ('inferior', (1698, 1706)), ('del', (1707, 1710)), ('epi', (1711, 1714)), ('##dí', (1714, 1716)), ('##dim', (1716, 1719)), ('##o', (1719, 1720)), ('izquierdo', (1721, 1730)), ('.', (1730, 1731))]\n",
      "\n",
      "\n",
      "[('Dentro', (1732, 1738)), ('de', (1739, 1741)), ('las', (1742, 1745)), ('ex', (1746, 1748)), ('##plo', (1748, 1751)), ('##raciones', (1751, 1759)), ('complement', (1760, 1770)), ('##arias', (1770, 1775)), ('destaca', (1776, 1783)), (':', (1783, 1784)), ('Lac', (1785, 1788)), ('##tato', (1788, 1792)), ('des', (1793, 1796)), ('##hid', (1796, 1799)), ('##rog', (1799, 1802)), ('##enas', (1802, 1806)), ('##a', (1806, 1807)), ('(', (1808, 1809)), ('L', (1809, 1810)), ('##DH', (1810, 1812)), (')', (1812, 1813)), (':', (1813, 1814)), ('347', (1815, 1818)), ('U', (1819, 1820)), ('##I', (1820, 1821)), ('/', (1821, 1822)), ('I', (1822, 1823)), (';', (1823, 1824)), ('alfa', (1825, 1829)), ('##fet', (1829, 1832)), ('##op', (1832, 1834)), ('##rot', (1834, 1837)), ('##e', (1837, 1838)), ('##ína', (1838, 1841)), ('(', (1842, 1843)), ('AF', (1843, 1845)), ('##P', (1845, 1846)), (')', (1846, 1847)), (':', (1847, 1848)), ('2', (1849, 1850)), (',', (1850, 1851)), ('4', (1851, 1852)), ('ng', (1853, 1855)), ('/', (1855, 1856)), ('ml', (1856, 1858)), (';', (1858, 1859)), ('beta', (1860, 1864)), ('-', (1864, 1865)), ('go', (1865, 1867)), ('##nado', (1867, 1871)), ('##tro', (1871, 1874)), ('##pina', (1874, 1878)), ('cori', (1879, 1883)), ('##ónica', (1883, 1888)), ('(', (1889, 1890)), ('Beta', (1890, 1894)), ('-', (1894, 1895)), ('HC', (1895, 1897)), ('##G', (1897, 1898)), (')', (1898, 1899)), (':', (1899, 1900)), ('0', (1901, 1902)), (',', (1902, 1903)), ('1', (1903, 1904)), ('m', (1905, 1906)), ('##UI', (1906, 1908)), ('/', (1908, 1909)), ('ml', (1909, 1911)), ('.', (1911, 1912))]\n",
      "\n",
      "\n",
      "[('Radio', (1913, 1918)), ('##grafía', (1918, 1924)), ('de', (1925, 1927)), ('tó', (1928, 1930)), ('##rax', (1930, 1933)), (':', (1933, 1934)), ('Sin', (1935, 1938)), ('hall', (1939, 1943)), ('##azgo', (1943, 1947)), ('##s', (1947, 1948)), ('pat', (1949, 1952)), ('##ológicos', (1952, 1960)), ('.', (1960, 1961))]\n",
      "\n",
      "\n",
      "[('Eco', (1962, 1965)), ('##grafía', (1965, 1971)), ('testi', (1972, 1977)), ('##cular', (1977, 1982)), (':', (1982, 1983)), ('Tu', (1984, 1986)), ('##mora', (1986, 1990)), ('##ción', (1990, 1994)), ('testi', (1995, 2000)), ('##cular', (2000, 2005)), ('de', (2006, 2008)), ('51', (2009, 2011)), ('##x', (2011, 2012)), ('##19', (2012, 2014)), ('##x', (2014, 2015)), ('##22', (2015, 2017)), ('mm', (2018, 2020)), ('de', (2021, 2023)), ('tamaño', (2024, 2030)), (',', (2030, 2031)), ('con', (2032, 2035)), ('e', (2036, 2037)), ('##coe', (2037, 2040)), ('##stru', (2040, 2044)), ('##ctura', (2044, 2049)), ('heter', (2050, 2055)), ('##og', (2055, 2057)), ('##én', (2057, 2059)), ('##ea', (2059, 2061)), ('y', (2062, 2063)), ('con', (2064, 2067)), ('fl', (2068, 2070)), ('##ujo', (2070, 2073)), ('do', (2074, 2076)), ('##pp', (2076, 2078)), ('##ler', (2078, 2081)), ('color', (2082, 2087)), (',', (2087, 2088)), ('que', (2089, 2092)), ('afecta', (2093, 2099)), ('además', (2100, 2106)), ('a', (2107, 2108)), ('cuerpo', (2109, 2115)), ('y', (2116, 2117)), ('cola', (2118, 2122)), ('de', (2123, 2125)), ('epi', (2126, 2129)), ('##dí', (2129, 2131)), ('##dim', (2131, 2134)), ('##o', (2134, 2135)), ('.', (2135, 2136))]\n",
      "\n",
      "\n",
      "[('Cal', (2137, 2140)), ('##ci', (2140, 2142)), ('##ficación', (2142, 2150)), ('en', (2151, 2153)), ('vert', (2154, 2158)), ('##iente', (2158, 2163)), ('ante', (2164, 2168)), ('##roi', (2168, 2171)), ('##n', (2171, 2172)), ('##feri', (2172, 2176)), ('##or', (2176, 2178)), ('de', (2179, 2181)), ('test', (2182, 2186)), ('##ículo', (2186, 2191)), ('.', (2191, 2192))]\n",
      "\n",
      "\n",
      "[('Tomo', (2193, 2197)), ('##grafía', (2197, 2203)), ('A', (2204, 2205)), ('##xia', (2205, 2208)), ('##l', (2208, 2209)), ('Computer', (2210, 2218)), ('##izada', (2218, 2223)), ('to', (2224, 2226)), ('##rac', (2226, 2229)), ('##o', (2229, 2230)), ('-', (2230, 2231)), ('ab', (2231, 2233)), ('##dom', (2233, 2236)), ('##ino', (2236, 2239)), ('-', (2239, 2240)), ('pé', (2240, 2242)), ('##lv', (2242, 2244)), ('##ico', (2244, 2247)), (':', (2247, 2248)), ('H', (2249, 2250)), ('##íg', (2250, 2252)), ('##ado', (2252, 2255)), (',', (2255, 2256)), ('ba', (2257, 2259)), ('##zo', (2259, 2261)), ('y', (2262, 2263)), ('p', (2264, 2265)), ('##án', (2265, 2267)), ('##cre', (2267, 2270)), ('##as', (2270, 2272)), ('normale', (2273, 2280)), ('##s', (2280, 2281)), ('.', (2281, 2282))]\n",
      "\n",
      "\n",
      "[('R', (2283, 2284)), ('##iño', (2284, 2287)), ('##nes', (2287, 2290)), ('de', (2291, 2293)), ('mor', (2294, 2297)), ('##fo', (2297, 2299)), ('##logía', (2299, 2304)), ('y', (2305, 2306)), ('densidad', (2307, 2315)), ('normale', (2316, 2323)), ('##s', (2323, 2324)), ('.', (2324, 2325))]\n",
      "\n",
      "\n",
      "[('No', (2326, 2328)), ('ad', (2329, 2331)), ('##eno', (2331, 2334)), ('##pat', (2334, 2337)), ('##ías', (2337, 2340)), ('ni', (2341, 2343)), ('cadena', (2344, 2350)), ('##s', (2350, 2351)), ('gang', (2352, 2356)), ('##lion', (2356, 2360)), ('##ares', (2360, 2364)), ('.', (2364, 2365))]\n",
      "\n",
      "\n",
      "[('Bajo', (2366, 2370)), ('la', (2371, 2373)), ('sos', (2374, 2377)), ('##pec', (2377, 2380)), ('##ha', (2380, 2382)), ('de', (2383, 2385)), ('segundo', (2386, 2393)), ('tumor', (2394, 2399)), ('de', (2400, 2402)), ('células', (2403, 2410)), ('ger', (2411, 2414)), ('##mina', (2414, 2418)), ('##les', (2418, 2421)), ('se', (2422, 2424)), ('le', (2425, 2427)), ('realiza', (2428, 2435)), ('or', (2436, 2438)), ('##qui', (2438, 2441)), ('##ect', (2441, 2444)), ('##om', (2444, 2446)), ('##ía', (2446, 2448)), ('radical', (2449, 2456)), ('izquierda', (2457, 2466)), ('vía', (2467, 2470)), ('ing', (2471, 2474)), ('##uin', (2474, 2477)), ('##al', (2477, 2479)), (',', (2479, 2480)), ('siendo', (2481, 2487)), ('le', (2488, 2490)), ('resultado', (2491, 2500)), ('de', (2501, 2503)), ('la', (2504, 2506)), ('Ana', (2507, 2510)), ('##tom', (2510, 2513)), ('##ía', (2513, 2515)), ('Pato', (2516, 2520)), ('##lógica', (2520, 2526)), ('de', (2527, 2529)), ('Semi', (2530, 2534)), ('##noma', (2534, 2538)), ('clásico', (2539, 2546)), ('de', (2547, 2549)), ('3', (2550, 2551)), (',', (2551, 2552)), ('2', (2552, 2553)), ('cm', (2554, 2556)), ('de', (2557, 2559)), ('diámetro', (2560, 2568)), ('que', (2569, 2572)), ('in', (2573, 2575)), ('##fil', (2575, 2578)), ('##tra', (2578, 2581)), ('par', (2582, 2585)), ('##én', (2585, 2587)), ('##qui', (2587, 2590)), ('##ma', (2590, 2592)), ('testi', (2593, 2598)), ('##cular', (2598, 2603)), ('extend', (2604, 2610)), ('##iéndose', (2610, 2617)), ('a', (2618, 2619)), ('epi', (2620, 2623)), ('##dí', (2623, 2625)), ('##dim', (2625, 2628)), ('##o', (2628, 2629)), ('y', (2630, 2631)), ('cor', (2632, 2635)), ('##dón', (2635, 2638)), ('es', (2639, 2641)), ('##per', (2641, 2644)), ('##mático', (2644, 2650)), ('.', (2650, 2651))]\n",
      "\n",
      "\n",
      "[('El', (2652, 2654)), ('posto', (2655, 2660)), ('##perator', (2660, 2667)), ('##io', (2667, 2669)), ('curs', (2670, 2674)), ('##ó', (2674, 2675)), ('sin', (2676, 2679)), ('com', (2680, 2683)), ('##pli', (2683, 2686)), ('##caciones', (2686, 2694)), ('.', (2694, 2695))]\n",
      "\n",
      "\n",
      "[('Se', (2696, 2698)), ('re', (2699, 2701)), ('##mite', (2701, 2705)), ('al', (2706, 2708)), ('Servicio', (2709, 2717)), ('de', (2718, 2720)), ('On', (2721, 2723)), ('##colo', (2723, 2727)), ('##gía', (2727, 2730)), ('para', (2731, 2735)), ('valor', (2736, 2741)), ('##ación', (2741, 2746)), ('de', (2747, 2749)), ('tratamiento', (2750, 2761)), ('ad', (2762, 2764)), ('##yu', (2764, 2766)), ('##vant', (2766, 2770)), ('##e', (2770, 2771)), ('y', (2772, 2773)), ('control', (2774, 2781)), ('.', (2781, 2782))]\n",
      "\n",
      "\n",
      "[('Dado', (2783, 2787)), ('que', (2788, 2791)), ('el', (2792, 2794)), ('diámetro', (2795, 2803)), ('máximo', (2804, 2810)), ('del', (2811, 2814)), ('tumor', (2815, 2820)), ('es', (2821, 2823)), ('de', (2824, 2826)), ('3', (2827, 2828)), (',', (2828, 2829)), ('2', (2829, 2830)), ('cm', (2831, 2833)), ('y', (2834, 2835)), ('no', (2836, 2838)), ('afecta', (2839, 2845)), ('a', (2846, 2847)), ('la', (2848, 2850)), ('rete', (2851, 2855)), ('testi', (2856, 2861)), ('##s', (2861, 2862)), (',', (2862, 2863)), ('se', (2864, 2866)), ('op', (2867, 2869)), ('##ta', (2869, 2871)), ('por', (2872, 2875)), ('el', (2876, 2878)), ('tratamiento', (2879, 2890)), ('conservador', (2891, 2902)), ('de', (2903, 2905)), ('control', (2906, 2913)), ('.', (2913, 2914))]\n",
      "\n",
      "\n",
      "[('Tres', (2915, 2919)), ('meses', (2920, 2925)), ('después', (2926, 2933)), (',', (2933, 2934)), ('en', (2935, 2937)), ('Tomo', (2938, 2942)), ('##grafía', (2942, 2948)), ('A', (2949, 2950)), ('##xia', (2950, 2953)), ('##l', (2953, 2954)), ('Computer', (2955, 2963)), ('##izada', (2963, 2968)), ('de', (2969, 2971)), ('control', (2972, 2979)), (',', (2979, 2980)), ('se', (2981, 2983)), ('det', (2984, 2987)), ('##ecta', (2987, 2991)), ('ad', (2992, 2994)), ('##eno', (2994, 2997)), ('##pat', (2997, 3000)), ('##ía', (3000, 3002)), ('ret', (3003, 3006)), ('##rop', (3006, 3009)), ('##erit', (3009, 3013)), ('##one', (3013, 3016)), ('##al', (3016, 3018)), ('izquierda', (3019, 3028)), ('aumenta', (3029, 3036)), ('##da', (3036, 3038)), ('de', (3039, 3041)), ('tamaño', (3042, 3048)), ('(', (3049, 3050)), ('3', (3050, 3051)), (',', (3051, 3052)), ('5', (3052, 3053)), ('cm', (3054, 3056)), (')', (3056, 3057)), (',', (3057, 3058)), ('con', (3059, 3062)), ('mal', (3063, 3066)), ('plano', (3067, 3072)), ('de', (3073, 3075)), ('separación', (3076, 3086)), ('con', (3087, 3090)), ('el', (3091, 3093)), ('ps', (3094, 3096)), ('##oa', (3096, 3098)), ('##s', (3098, 3099)), ('que', (3100, 3103)), ('at', (3104, 3106)), ('##rap', (3106, 3109)), ('##a', (3109, 3110)), ('el', (3111, 3113)), ('ter', (3114, 3117)), ('##cio', (3117, 3120)), ('medio', (3121, 3126)), ('del', (3127, 3130)), ('ur', (3131, 3133)), ('##éter', (3133, 3137)), ('causando', (3138, 3146)), ('hi', (3147, 3149)), ('##dron', (3149, 3153)), ('##ef', (3153, 3155)), ('##ros', (3155, 3158)), ('##is', (3158, 3160)), ('grado', (3161, 3166)), ('I', (3167, 3168)), ('.', (3168, 3169)), ('En', (3170, 3172)), ('las', (3173, 3176)), ('anal', (3177, 3181)), ('##ítica', (3181, 3186)), ('##s', (3186, 3187)), ('sang', (3188, 3192)), ('##u', (3192, 3193)), ('##íne', (3193, 3196)), ('##as', (3196, 3198)), ('de', (3199, 3201)), ('control', (3202, 3209)), (':', (3209, 3210)), ('hem', (3211, 3214)), ('##og', (3214, 3216)), ('##rama', (3216, 3220)), (',', (3220, 3221)), ('bio', (3222, 3225)), ('##quí', (3225, 3228)), ('##mica', (3228, 3232)), ('y', (3233, 3234)), ('hem', (3235, 3238)), ('##ostas', (3238, 3243)), ('##ia', (3243, 3245)), ('dentro', (3246, 3252)), ('de', (3253, 3255)), ('los', (3256, 3259)), ('par', (3260, 3263)), ('##ám', (3263, 3265)), ('##etros', (3265, 3270)), ('de', (3271, 3273)), ('la', (3274, 3276)), ('normal', (3277, 3283)), ('##idad', (3283, 3287)), ('excepto', (3288, 3295)), ('por', (3296, 3299)), ('C', (3300, 3301)), ('##reat', (3301, 3305)), ('##inin', (3305, 3309)), ('##a', (3309, 3310)), ('de', (3311, 3313)), ('1', (3314, 3315)), (',', (3315, 3316)), ('2', (3316, 3317)), ('mg', (3318, 3320)), ('/', (3320, 3321)), ('dl', (3321, 3323)), (';', (3323, 3324)), ('lac', (3325, 3328)), ('##tato', (3328, 3332)), ('des', (3333, 3336)), ('##hid', (3336, 3339)), ('##rog', (3339, 3342)), ('##enas', (3342, 3346)), ('##a', (3346, 3347)), ('=', (3347, 3348)), ('552', (3348, 3351)), ('U', (3352, 3353))]\n",
      "\n",
      "\n",
      "[('##I', (3353, 3354)), ('/', (3354, 3355)), ('I', (3355, 3356)), (',', (3356, 3357)), ('alfa', (3358, 3362)), ('##fet', (3362, 3365)), ('##op', (3365, 3367)), ('##rot', (3367, 3370)), ('##e', (3370, 3371)), ('##ína', (3371, 3374)), ('y', (3375, 3376)), ('beta', (3377, 3381)), ('-', (3381, 3382)), ('go', (3382, 3384)), ('##nado', (3384, 3388)), ('##tro', (3388, 3391)), ('##pina', (3391, 3395)), ('cori', (3396, 3400)), ('##ónica', (3400, 3405)), ('dentro', (3406, 3412)), ('de', (3413, 3415)), ('la', (3416, 3418)), ('normal', (3419, 3425)), ('##idad', (3425, 3429)), ('.', (3429, 3430))]\n",
      "\n",
      "\n",
      "[('Se', (3431, 3433)), ('diagnostic', (3434, 3444)), ('##a', (3444, 3445)), ('de', (3446, 3448)), ('re', (3449, 3451)), ('##cid', (3451, 3454)), ('##iva', (3454, 3457)), ('ret', (3458, 3461)), ('##rop', (3461, 3464)), ('##erit', (3464, 3468)), ('##one', (3468, 3471)), ('##al', (3471, 3473)), ('y', (3474, 3475)), ('se', (3476, 3478)), ('some', (3479, 3483)), ('##te', (3483, 3485)), ('a', (3486, 3487)), ('tratamiento', (3488, 3499)), ('con', (3500, 3503)), ('qui', (3504, 3507)), ('##mio', (3507, 3510)), ('##tera', (3510, 3514)), ('##pia', (3514, 3517)), ('(', (3518, 3519)), ('et', (3519, 3521)), ('##op', (3521, 3523)), ('##ós', (3523, 3525)), ('##ido', (3525, 3528)), ('y', (3529, 3530)), ('ci', (3531, 3533)), ('##sp', (3533, 3535)), ('##lati', (3535, 3539)), ('##no', (3539, 3541)), ('de', (3542, 3544)), ('4', (3545, 3546)), ('ciclo', (3547, 3552)), ('##s', (3552, 3553)), (')', (3553, 3554)), ('.', (3554, 3555))]\n",
      "\n",
      "\n",
      "[('Actualmente', (3556, 3567)), ('el', (3568, 3570)), ('paciente', (3571, 3579)), ('lleva', (3580, 3585)), ('3', (3586, 3587)), ('años', (3588, 3592)), ('libre', (3593, 3598)), ('de', (3599, 3601)), ('enfermedad', (3602, 3612)), ('en', (3613, 3615)), ('los', (3616, 3619)), ('controle', (3620, 3628)), ('##s', (3628, 3629)), ('periódicos', (3630, 3640)), ('que', (3641, 3644)), ('se', (3645, 3647)), ('le', (3648, 3650)), ('realizan', (3651, 3659)), ('en', (3660, 3662)), ('los', (3663, 3666)), ('servicios', (3667, 3676)), ('de', (3677, 3679)), ('Ur', (3680, 3682)), ('##ología', (3682, 3688)), ('y', (3689, 3690)), ('On', (3691, 3693)), ('##colo', (3693, 3697)), ('##gía', (3697, 3700)), ('.', (3700, 3701))]\n",
      "\n",
      "\n"
     ]
    }
   ],
   "source": [
    "for i in range(check_id_frag, check_id_frag + train_frag[check_id]):\n",
    "    print(list(zip([tokenizer._token_dict_inv[ind] for ind in train_ind[i]][1:len(train_start_end_frag[i])+1], \n",
    "               train_start_end_frag[i])))\n",
    "    print(\"\\n\")"
   ]
  },
  {
   "cell_type": "code",
   "execution_count": 82,
   "metadata": {},
   "outputs": [
    {
     "name": "stdout",
     "output_type": "stream",
     "text": [
      "[CLS] Pac ##iente de 25 años que , durante ingreso en el servicio de Medicina Inter ##na por fie ##bre ve ##sper ##tina de 3 días de evolución , se le descubre incident ##almente mediante estudio e ##co ##gráfico tumor ##ación en test ##ículo derecho . [SEP] [PAD] [PAD] [PAD] [PAD] [PAD] [PAD] [PAD] [PAD] [PAD] [PAD] [PAD] [PAD] [PAD] [PAD] [PAD] [PAD] [PAD] [PAD] [PAD] [PAD] [PAD] [PAD] [PAD] [PAD] [PAD] [PAD] [PAD] [PAD] [PAD] [PAD] [PAD] [PAD] [PAD] [PAD] [PAD] [PAD] [PAD] [PAD] [PAD] [PAD] [PAD] [PAD] [PAD] [PAD] [PAD] [PAD] [PAD] [PAD] [PAD] [PAD] [PAD] [PAD] [PAD] [PAD] [PAD] [PAD] [PAD] [PAD] [PAD] [PAD] [PAD] [PAD] [PAD] [PAD] [PAD] [PAD] [PAD] [PAD] [PAD] [PAD] [PAD] [PAD] [PAD] [PAD] [PAD] [PAD] [PAD] [PAD] [PAD] [PAD] [PAD] \n",
      "\n",
      "[CLS] Como ante ##cedent ##es personales , refiere no tener ale ##rgia ##s med ##ica ##mentos ##as . [SEP] [PAD] [PAD] [PAD] [PAD] [PAD] [PAD] [PAD] [PAD] [PAD] [PAD] [PAD] [PAD] [PAD] [PAD] [PAD] [PAD] [PAD] [PAD] [PAD] [PAD] [PAD] [PAD] [PAD] [PAD] [PAD] [PAD] [PAD] [PAD] [PAD] [PAD] [PAD] [PAD] [PAD] [PAD] [PAD] [PAD] [PAD] [PAD] [PAD] [PAD] [PAD] [PAD] [PAD] [PAD] [PAD] [PAD] [PAD] [PAD] [PAD] [PAD] [PAD] [PAD] [PAD] [PAD] [PAD] [PAD] [PAD] [PAD] [PAD] [PAD] [PAD] [PAD] [PAD] [PAD] [PAD] [PAD] [PAD] [PAD] [PAD] [PAD] [PAD] [PAD] [PAD] [PAD] [PAD] [PAD] [PAD] [PAD] [PAD] [PAD] [PAD] [PAD] [PAD] [PAD] [PAD] [PAD] [PAD] [PAD] [PAD] [PAD] [PAD] [PAD] [PAD] [PAD] [PAD] [PAD] [PAD] [PAD] [PAD] [PAD] [PAD] [PAD] [PAD] [PAD] [PAD] [PAD] [PAD] [PAD] [PAD] \n",
      "\n",
      "[CLS] Her ##nio ##rra ##fia ing ##uin ##al bila ##teral . [SEP] [PAD] [PAD] [PAD] [PAD] [PAD] [PAD] [PAD] [PAD] [PAD] [PAD] [PAD] [PAD] [PAD] [PAD] [PAD] [PAD] [PAD] [PAD] [PAD] [PAD] [PAD] [PAD] [PAD] [PAD] [PAD] [PAD] [PAD] [PAD] [PAD] [PAD] [PAD] [PAD] [PAD] [PAD] [PAD] [PAD] [PAD] [PAD] [PAD] [PAD] [PAD] [PAD] [PAD] [PAD] [PAD] [PAD] [PAD] [PAD] [PAD] [PAD] [PAD] [PAD] [PAD] [PAD] [PAD] [PAD] [PAD] [PAD] [PAD] [PAD] [PAD] [PAD] [PAD] [PAD] [PAD] [PAD] [PAD] [PAD] [PAD] [PAD] [PAD] [PAD] [PAD] [PAD] [PAD] [PAD] [PAD] [PAD] [PAD] [PAD] [PAD] [PAD] [PAD] [PAD] [PAD] [PAD] [PAD] [PAD] [PAD] [PAD] [PAD] [PAD] [PAD] [PAD] [PAD] [PAD] [PAD] [PAD] [PAD] [PAD] [PAD] [PAD] [PAD] [PAD] [PAD] [PAD] [PAD] [PAD] [PAD] [PAD] [PAD] [PAD] [PAD] [PAD] [PAD] [PAD] \n",
      "\n",
      "[CLS] Re ##fier ##e tumor ##ación indo ##lora de un año de evolución que ha ido aumentando pro ##gres ##ivamente . [SEP] [PAD] [PAD] [PAD] [PAD] [PAD] [PAD] [PAD] [PAD] [PAD] [PAD] [PAD] [PAD] [PAD] [PAD] [PAD] [PAD] [PAD] [PAD] [PAD] [PAD] [PAD] [PAD] [PAD] [PAD] [PAD] [PAD] [PAD] [PAD] [PAD] [PAD] [PAD] [PAD] [PAD] [PAD] [PAD] [PAD] [PAD] [PAD] [PAD] [PAD] [PAD] [PAD] [PAD] [PAD] [PAD] [PAD] [PAD] [PAD] [PAD] [PAD] [PAD] [PAD] [PAD] [PAD] [PAD] [PAD] [PAD] [PAD] [PAD] [PAD] [PAD] [PAD] [PAD] [PAD] [PAD] [PAD] [PAD] [PAD] [PAD] [PAD] [PAD] [PAD] [PAD] [PAD] [PAD] [PAD] [PAD] [PAD] [PAD] [PAD] [PAD] [PAD] [PAD] [PAD] [PAD] [PAD] [PAD] [PAD] [PAD] [PAD] [PAD] [PAD] [PAD] [PAD] [PAD] [PAD] [PAD] [PAD] [PAD] [PAD] [PAD] [PAD] [PAD] [PAD] [PAD] [PAD] \n",
      "\n",
      "[CLS] A la ex ##plo ##ración física se pal ##pa aumento del test ##ículo derecho con tumor ##ación indo ##lora en polo superior . [SEP] [PAD] [PAD] [PAD] [PAD] [PAD] [PAD] [PAD] [PAD] [PAD] [PAD] [PAD] [PAD] [PAD] [PAD] [PAD] [PAD] [PAD] [PAD] [PAD] [PAD] [PAD] [PAD] [PAD] [PAD] [PAD] [PAD] [PAD] [PAD] [PAD] [PAD] [PAD] [PAD] [PAD] [PAD] [PAD] [PAD] [PAD] [PAD] [PAD] [PAD] [PAD] [PAD] [PAD] [PAD] [PAD] [PAD] [PAD] [PAD] [PAD] [PAD] [PAD] [PAD] [PAD] [PAD] [PAD] [PAD] [PAD] [PAD] [PAD] [PAD] [PAD] [PAD] [PAD] [PAD] [PAD] [PAD] [PAD] [PAD] [PAD] [PAD] [PAD] [PAD] [PAD] [PAD] [PAD] [PAD] [PAD] [PAD] [PAD] [PAD] [PAD] [PAD] [PAD] [PAD] [PAD] [PAD] [PAD] [PAD] [PAD] [PAD] [PAD] [PAD] [PAD] [PAD] [PAD] [PAD] [PAD] [PAD] [PAD] [PAD] [PAD] [PAD] [PAD] \n",
      "\n",
      "[CLS] Ante la sos ##pec ##ha de tumor testi ##cular se le realizan diferentes pruebas complement ##arias . [SEP] [PAD] [PAD] [PAD] [PAD] [PAD] [PAD] [PAD] [PAD] [PAD] [PAD] [PAD] [PAD] [PAD] [PAD] [PAD] [PAD] [PAD] [PAD] [PAD] [PAD] [PAD] [PAD] [PAD] [PAD] [PAD] [PAD] [PAD] [PAD] [PAD] [PAD] [PAD] [PAD] [PAD] [PAD] [PAD] [PAD] [PAD] [PAD] [PAD] [PAD] [PAD] [PAD] [PAD] [PAD] [PAD] [PAD] [PAD] [PAD] [PAD] [PAD] [PAD] [PAD] [PAD] [PAD] [PAD] [PAD] [PAD] [PAD] [PAD] [PAD] [PAD] [PAD] [PAD] [PAD] [PAD] [PAD] [PAD] [PAD] [PAD] [PAD] [PAD] [PAD] [PAD] [PAD] [PAD] [PAD] [PAD] [PAD] [PAD] [PAD] [PAD] [PAD] [PAD] [PAD] [PAD] [PAD] [PAD] [PAD] [PAD] [PAD] [PAD] [PAD] [PAD] [PAD] [PAD] [PAD] [PAD] [PAD] [PAD] [PAD] [PAD] [PAD] [PAD] [PAD] [PAD] [PAD] [PAD] [PAD] [PAD] \n",
      "\n",
      "[CLS] En la Eco ##grafía testi ##cular , se apre ##cia tumor ##ación en test ##ículo derecho de 78 mm x 57 mm x 61 mm heter ##og ##én ##ea , só ##lida compatible con tumor testi ##cular prima ##rio . [SEP] [PAD] [PAD] [PAD] [PAD] [PAD] [PAD] [PAD] [PAD] [PAD] [PAD] [PAD] [PAD] [PAD] [PAD] [PAD] [PAD] [PAD] [PAD] [PAD] [PAD] [PAD] [PAD] [PAD] [PAD] [PAD] [PAD] [PAD] [PAD] [PAD] [PAD] [PAD] [PAD] [PAD] [PAD] [PAD] [PAD] [PAD] [PAD] [PAD] [PAD] [PAD] [PAD] [PAD] [PAD] [PAD] [PAD] [PAD] [PAD] [PAD] [PAD] [PAD] [PAD] [PAD] [PAD] [PAD] [PAD] [PAD] [PAD] [PAD] [PAD] [PAD] [PAD] [PAD] [PAD] [PAD] [PAD] [PAD] [PAD] [PAD] [PAD] [PAD] [PAD] [PAD] [PAD] [PAD] [PAD] [PAD] [PAD] [PAD] [PAD] [PAD] [PAD] [PAD] [PAD] [PAD] [PAD] \n",
      "\n",
      "[CLS] Test ##e izquierdo normal . [SEP] [PAD] [PAD] [PAD] [PAD] [PAD] [PAD] [PAD] [PAD] [PAD] [PAD] [PAD] [PAD] [PAD] [PAD] [PAD] [PAD] [PAD] [PAD] [PAD] [PAD] [PAD] [PAD] [PAD] [PAD] [PAD] [PAD] [PAD] [PAD] [PAD] [PAD] [PAD] [PAD] [PAD] [PAD] [PAD] [PAD] [PAD] [PAD] [PAD] [PAD] [PAD] [PAD] [PAD] [PAD] [PAD] [PAD] [PAD] [PAD] [PAD] [PAD] [PAD] [PAD] [PAD] [PAD] [PAD] [PAD] [PAD] [PAD] [PAD] [PAD] [PAD] [PAD] [PAD] [PAD] [PAD] [PAD] [PAD] [PAD] [PAD] [PAD] [PAD] [PAD] [PAD] [PAD] [PAD] [PAD] [PAD] [PAD] [PAD] [PAD] [PAD] [PAD] [PAD] [PAD] [PAD] [PAD] [PAD] [PAD] [PAD] [PAD] [PAD] [PAD] [PAD] [PAD] [PAD] [PAD] [PAD] [PAD] [PAD] [PAD] [PAD] [PAD] [PAD] [PAD] [PAD] [PAD] [PAD] [PAD] [PAD] [PAD] [PAD] [PAD] [PAD] [PAD] [PAD] [PAD] [PAD] [PAD] [PAD] [PAD] [PAD] \n",
      "\n",
      "[CLS] Tomo ##grafía a ##xia ##l computer ##izada ( TA ##C ) : tumor ##ación testi ##cular derecha con ad ##eno ##pat ##ías ret ##roca ##vas y para ##a ##ór ##ticas > 2 y < 5 cm . [SEP] [PAD] [PAD] [PAD] [PAD] [PAD] [PAD] [PAD] [PAD] [PAD] [PAD] [PAD] [PAD] [PAD] [PAD] [PAD] [PAD] [PAD] [PAD] [PAD] [PAD] [PAD] [PAD] [PAD] [PAD] [PAD] [PAD] [PAD] [PAD] [PAD] [PAD] [PAD] [PAD] [PAD] [PAD] [PAD] [PAD] [PAD] [PAD] [PAD] [PAD] [PAD] [PAD] [PAD] [PAD] [PAD] [PAD] [PAD] [PAD] [PAD] [PAD] [PAD] [PAD] [PAD] [PAD] [PAD] [PAD] [PAD] [PAD] [PAD] [PAD] [PAD] [PAD] [PAD] [PAD] [PAD] [PAD] [PAD] [PAD] [PAD] [PAD] [PAD] [PAD] [PAD] [PAD] [PAD] [PAD] [PAD] [PAD] [PAD] [PAD] [PAD] [PAD] [PAD] [PAD] [PAD] [PAD] [PAD] [PAD] [PAD] \n",
      "\n",
      "[CLS] Lac ##tato des ##hid ##rog ##enas ##a ( L ##DH ) : 1890 U ##I / I ; alfa ##fet ##op ##rot ##e ##ína ( AF ##P ) : 51 ng / ml ; beta - go ##nado ##tro ##pina cori ##ónica ( Beta - HC ##G ) : 23 m ##UI / ml . [SEP] [PAD] [PAD] [PAD] [PAD] [PAD] [PAD] [PAD] [PAD] [PAD] [PAD] [PAD] [PAD] [PAD] [PAD] [PAD] [PAD] [PAD] [PAD] [PAD] [PAD] [PAD] [PAD] [PAD] [PAD] [PAD] [PAD] [PAD] [PAD] [PAD] [PAD] [PAD] [PAD] [PAD] [PAD] [PAD] [PAD] [PAD] [PAD] [PAD] [PAD] [PAD] [PAD] [PAD] [PAD] [PAD] [PAD] [PAD] [PAD] [PAD] [PAD] [PAD] [PAD] [PAD] [PAD] [PAD] [PAD] [PAD] [PAD] [PAD] [PAD] [PAD] [PAD] [PAD] [PAD] [PAD] [PAD] [PAD] [PAD] [PAD] [PAD] [PAD] \n",
      "\n",
      "[CLS] Se some ##tió a or ##qui ##ect ##omia ing ##uin ##al derecha con informe de Ana ##tom ##ía Pato ##lógica de Car ##cino ##ma Em ##brio ##nario de 7 cm que sus ##tit ##uye par ##én ##qui ##ma y epi ##dí ##dim ##o con im ##plant ##es en cor ##dón y alcanza alb ##ug ##íne ##a . [SEP] [PAD] [PAD] [PAD] [PAD] [PAD] [PAD] [PAD] [PAD] [PAD] [PAD] [PAD] [PAD] [PAD] [PAD] [PAD] [PAD] [PAD] [PAD] [PAD] [PAD] [PAD] [PAD] [PAD] [PAD] [PAD] [PAD] [PAD] [PAD] [PAD] [PAD] [PAD] [PAD] [PAD] [PAD] [PAD] [PAD] [PAD] [PAD] [PAD] [PAD] [PAD] [PAD] [PAD] [PAD] [PAD] [PAD] [PAD] [PAD] [PAD] [PAD] [PAD] [PAD] [PAD] [PAD] [PAD] [PAD] [PAD] [PAD] [PAD] [PAD] [PAD] [PAD] [PAD] [PAD] [PAD] [PAD] [PAD] [PAD] [PAD] \n",
      "\n",
      "[CLS] Dia ##gno ##stica ##do de car ##cino ##ma em ##brio ##nario de test ##ículo derecho T ##3 ##N ##2 ##M ##0 , estadio II con riesgo inter ##medio por elev ##ación de L ##DH , complet ##ó el tratamiento con qui ##mio ##tera ##pia según el esquema BE ##P ( ble ##om < ici ##na , et ##op ##ós ##ido y ci ##sp ##lati ##no ) de 4 ciclo ##s . [SEP] [PAD] [PAD] [PAD] [PAD] [PAD] [PAD] [PAD] [PAD] [PAD] [PAD] [PAD] [PAD] [PAD] [PAD] [PAD] [PAD] [PAD] [PAD] [PAD] [PAD] [PAD] [PAD] [PAD] [PAD] [PAD] [PAD] [PAD] [PAD] [PAD] [PAD] [PAD] [PAD] [PAD] [PAD] [PAD] [PAD] [PAD] [PAD] [PAD] [PAD] [PAD] [PAD] [PAD] [PAD] [PAD] [PAD] [PAD] [PAD] [PAD] [PAD] [PAD] [PAD] [PAD] [PAD] [PAD] \n",
      "\n",
      "[CLS] A los 4 años , y estando libre de enfermedad en las revision ##es de control , acu ##de a Ur ##gen ##cias por tumor ##ación dolor ##osa en test ##ículo izquierdo . [SEP] [PAD] [PAD] [PAD] [PAD] [PAD] [PAD] [PAD] [PAD] [PAD] [PAD] [PAD] [PAD] [PAD] [PAD] [PAD] [PAD] [PAD] [PAD] [PAD] [PAD] [PAD] [PAD] [PAD] [PAD] [PAD] [PAD] [PAD] [PAD] [PAD] [PAD] [PAD] [PAD] [PAD] [PAD] [PAD] [PAD] [PAD] [PAD] [PAD] [PAD] [PAD] [PAD] [PAD] [PAD] [PAD] [PAD] [PAD] [PAD] [PAD] [PAD] [PAD] [PAD] [PAD] [PAD] [PAD] [PAD] [PAD] [PAD] [PAD] [PAD] [PAD] [PAD] [PAD] [PAD] [PAD] [PAD] [PAD] [PAD] [PAD] [PAD] [PAD] [PAD] [PAD] [PAD] [PAD] [PAD] [PAD] [PAD] [PAD] [PAD] [PAD] [PAD] [PAD] [PAD] [PAD] [PAD] [PAD] [PAD] [PAD] [PAD] [PAD] [PAD] [PAD] \n",
      "\n",
      "[CLS] A la ex ##plo ##ración física se apre ##cia , mono ##r ##quio izquierdo , tumor ##ación ind ##urada a nivel del polo inferior del epi ##dí ##dim ##o izquierdo . [SEP] [PAD] [PAD] [PAD] [PAD] [PAD] [PAD] [PAD] [PAD] [PAD] [PAD] [PAD] [PAD] [PAD] [PAD] [PAD] [PAD] [PAD] [PAD] [PAD] [PAD] [PAD] [PAD] [PAD] [PAD] [PAD] [PAD] [PAD] [PAD] [PAD] [PAD] [PAD] [PAD] [PAD] [PAD] [PAD] [PAD] [PAD] [PAD] [PAD] [PAD] [PAD] [PAD] [PAD] [PAD] [PAD] [PAD] [PAD] [PAD] [PAD] [PAD] [PAD] [PAD] [PAD] [PAD] [PAD] [PAD] [PAD] [PAD] [PAD] [PAD] [PAD] [PAD] [PAD] [PAD] [PAD] [PAD] [PAD] [PAD] [PAD] [PAD] [PAD] [PAD] [PAD] [PAD] [PAD] [PAD] [PAD] [PAD] [PAD] [PAD] [PAD] [PAD] [PAD] [PAD] [PAD] [PAD] [PAD] [PAD] [PAD] [PAD] [PAD] [PAD] [PAD] [PAD] [PAD] \n",
      "\n",
      "[CLS] Dentro de las ex ##plo ##raciones complement ##arias destaca : Lac ##tato des ##hid ##rog ##enas ##a ( L ##DH ) : 347 U ##I / I ; alfa ##fet ##op ##rot ##e ##ína ( AF ##P ) : 2 , 4 ng / ml ; beta - go ##nado ##tro ##pina cori ##ónica ( Beta - HC ##G ) : 0 , 1 m ##UI / ml . [SEP] [PAD] [PAD] [PAD] [PAD] [PAD] [PAD] [PAD] [PAD] [PAD] [PAD] [PAD] [PAD] [PAD] [PAD] [PAD] [PAD] [PAD] [PAD] [PAD] [PAD] [PAD] [PAD] [PAD] [PAD] [PAD] [PAD] [PAD] [PAD] [PAD] [PAD] [PAD] [PAD] [PAD] [PAD] [PAD] [PAD] [PAD] [PAD] [PAD] [PAD] [PAD] [PAD] [PAD] [PAD] [PAD] [PAD] [PAD] [PAD] [PAD] [PAD] [PAD] [PAD] [PAD] [PAD] [PAD] [PAD] [PAD] \n",
      "\n",
      "[CLS] Radio ##grafía de tó ##rax : Sin hall ##azgo ##s pat ##ológicos . [SEP] [PAD] [PAD] [PAD] [PAD] [PAD] [PAD] [PAD] [PAD] [PAD] [PAD] [PAD] [PAD] [PAD] [PAD] [PAD] [PAD] [PAD] [PAD] [PAD] [PAD] [PAD] [PAD] [PAD] [PAD] [PAD] [PAD] [PAD] [PAD] [PAD] [PAD] [PAD] [PAD] [PAD] [PAD] [PAD] [PAD] [PAD] [PAD] [PAD] [PAD] [PAD] [PAD] [PAD] [PAD] [PAD] [PAD] [PAD] [PAD] [PAD] [PAD] [PAD] [PAD] [PAD] [PAD] [PAD] [PAD] [PAD] [PAD] [PAD] [PAD] [PAD] [PAD] [PAD] [PAD] [PAD] [PAD] [PAD] [PAD] [PAD] [PAD] [PAD] [PAD] [PAD] [PAD] [PAD] [PAD] [PAD] [PAD] [PAD] [PAD] [PAD] [PAD] [PAD] [PAD] [PAD] [PAD] [PAD] [PAD] [PAD] [PAD] [PAD] [PAD] [PAD] [PAD] [PAD] [PAD] [PAD] [PAD] [PAD] [PAD] [PAD] [PAD] [PAD] [PAD] [PAD] [PAD] [PAD] [PAD] [PAD] [PAD] [PAD] [PAD] [PAD] \n",
      "\n",
      "[CLS] Eco ##grafía testi ##cular : Tu ##mora ##ción testi ##cular de 51 ##x ##19 ##x ##22 mm de tamaño , con e ##coe ##stru ##ctura heter ##og ##én ##ea y con fl ##ujo do ##pp ##ler color , que afecta además a cuerpo y cola de epi ##dí ##dim ##o . [SEP] [PAD] [PAD] [PAD] [PAD] [PAD] [PAD] [PAD] [PAD] [PAD] [PAD] [PAD] [PAD] [PAD] [PAD] [PAD] [PAD] [PAD] [PAD] [PAD] [PAD] [PAD] [PAD] [PAD] [PAD] [PAD] [PAD] [PAD] [PAD] [PAD] [PAD] [PAD] [PAD] [PAD] [PAD] [PAD] [PAD] [PAD] [PAD] [PAD] [PAD] [PAD] [PAD] [PAD] [PAD] [PAD] [PAD] [PAD] [PAD] [PAD] [PAD] [PAD] [PAD] [PAD] [PAD] [PAD] [PAD] [PAD] [PAD] [PAD] [PAD] [PAD] [PAD] [PAD] [PAD] [PAD] [PAD] [PAD] [PAD] [PAD] [PAD] [PAD] [PAD] [PAD] [PAD] [PAD] \n",
      "\n",
      "[CLS] Cal ##ci ##ficación en vert ##iente ante ##roi ##n ##feri ##or de test ##ículo . [SEP] [PAD] [PAD] [PAD] [PAD] [PAD] [PAD] [PAD] [PAD] [PAD] [PAD] [PAD] [PAD] [PAD] [PAD] [PAD] [PAD] [PAD] [PAD] [PAD] [PAD] [PAD] [PAD] [PAD] [PAD] [PAD] [PAD] [PAD] [PAD] [PAD] [PAD] [PAD] [PAD] [PAD] [PAD] [PAD] [PAD] [PAD] [PAD] [PAD] [PAD] [PAD] [PAD] [PAD] [PAD] [PAD] [PAD] [PAD] [PAD] [PAD] [PAD] [PAD] [PAD] [PAD] [PAD] [PAD] [PAD] [PAD] [PAD] [PAD] [PAD] [PAD] [PAD] [PAD] [PAD] [PAD] [PAD] [PAD] [PAD] [PAD] [PAD] [PAD] [PAD] [PAD] [PAD] [PAD] [PAD] [PAD] [PAD] [PAD] [PAD] [PAD] [PAD] [PAD] [PAD] [PAD] [PAD] [PAD] [PAD] [PAD] [PAD] [PAD] [PAD] [PAD] [PAD] [PAD] [PAD] [PAD] [PAD] [PAD] [PAD] [PAD] [PAD] [PAD] [PAD] [PAD] [PAD] [PAD] [PAD] [PAD] [PAD] [PAD] \n",
      "\n",
      "[CLS] Tomo ##grafía A ##xia ##l Computer ##izada to ##rac ##o - ab ##dom ##ino - pé ##lv ##ico : H ##íg ##ado , ba ##zo y p ##án ##cre ##as normale ##s . [SEP] [PAD] [PAD] [PAD] [PAD] [PAD] [PAD] [PAD] [PAD] [PAD] [PAD] [PAD] [PAD] [PAD] [PAD] [PAD] [PAD] [PAD] [PAD] [PAD] [PAD] [PAD] [PAD] [PAD] [PAD] [PAD] [PAD] [PAD] [PAD] [PAD] [PAD] [PAD] [PAD] [PAD] [PAD] [PAD] [PAD] [PAD] [PAD] [PAD] [PAD] [PAD] [PAD] [PAD] [PAD] [PAD] [PAD] [PAD] [PAD] [PAD] [PAD] [PAD] [PAD] [PAD] [PAD] [PAD] [PAD] [PAD] [PAD] [PAD] [PAD] [PAD] [PAD] [PAD] [PAD] [PAD] [PAD] [PAD] [PAD] [PAD] [PAD] [PAD] [PAD] [PAD] [PAD] [PAD] [PAD] [PAD] [PAD] [PAD] [PAD] [PAD] [PAD] [PAD] [PAD] [PAD] [PAD] [PAD] [PAD] [PAD] [PAD] [PAD] [PAD] [PAD] \n",
      "\n",
      "[CLS] R ##iño ##nes de mor ##fo ##logía y densidad normale ##s . [SEP] [PAD] [PAD] [PAD] [PAD] [PAD] [PAD] [PAD] [PAD] [PAD] [PAD] [PAD] [PAD] [PAD] [PAD] [PAD] [PAD] [PAD] [PAD] [PAD] [PAD] [PAD] [PAD] [PAD] [PAD] [PAD] [PAD] [PAD] [PAD] [PAD] [PAD] [PAD] [PAD] [PAD] [PAD] [PAD] [PAD] [PAD] [PAD] [PAD] [PAD] [PAD] [PAD] [PAD] [PAD] [PAD] [PAD] [PAD] [PAD] [PAD] [PAD] [PAD] [PAD] [PAD] [PAD] [PAD] [PAD] [PAD] [PAD] [PAD] [PAD] [PAD] [PAD] [PAD] [PAD] [PAD] [PAD] [PAD] [PAD] [PAD] [PAD] [PAD] [PAD] [PAD] [PAD] [PAD] [PAD] [PAD] [PAD] [PAD] [PAD] [PAD] [PAD] [PAD] [PAD] [PAD] [PAD] [PAD] [PAD] [PAD] [PAD] [PAD] [PAD] [PAD] [PAD] [PAD] [PAD] [PAD] [PAD] [PAD] [PAD] [PAD] [PAD] [PAD] [PAD] [PAD] [PAD] [PAD] [PAD] [PAD] [PAD] [PAD] [PAD] [PAD] [PAD] \n",
      "\n",
      "[CLS] No ad ##eno ##pat ##ías ni cadena ##s gang ##lion ##ares . [SEP] [PAD] [PAD] [PAD] [PAD] [PAD] [PAD] [PAD] [PAD] [PAD] [PAD] [PAD] [PAD] [PAD] [PAD] [PAD] [PAD] [PAD] [PAD] [PAD] [PAD] [PAD] [PAD] [PAD] [PAD] [PAD] [PAD] [PAD] [PAD] [PAD] [PAD] [PAD] [PAD] [PAD] [PAD] [PAD] [PAD] [PAD] [PAD] [PAD] [PAD] [PAD] [PAD] [PAD] [PAD] [PAD] [PAD] [PAD] [PAD] [PAD] [PAD] [PAD] [PAD] [PAD] [PAD] [PAD] [PAD] [PAD] [PAD] [PAD] [PAD] [PAD] [PAD] [PAD] [PAD] [PAD] [PAD] [PAD] [PAD] [PAD] [PAD] [PAD] [PAD] [PAD] [PAD] [PAD] [PAD] [PAD] [PAD] [PAD] [PAD] [PAD] [PAD] [PAD] [PAD] [PAD] [PAD] [PAD] [PAD] [PAD] [PAD] [PAD] [PAD] [PAD] [PAD] [PAD] [PAD] [PAD] [PAD] [PAD] [PAD] [PAD] [PAD] [PAD] [PAD] [PAD] [PAD] [PAD] [PAD] [PAD] [PAD] [PAD] [PAD] [PAD] [PAD] \n",
      "\n",
      "[CLS] Bajo la sos ##pec ##ha de segundo tumor de células ger ##mina ##les se le realiza or ##qui ##ect ##om ##ía radical izquierda vía ing ##uin ##al , siendo le resultado de la Ana ##tom ##ía Pato ##lógica de Semi ##noma clásico de 3 , 2 cm de diámetro que in ##fil ##tra par ##én ##qui ##ma testi ##cular extend ##iéndose a epi ##dí ##dim ##o y cor ##dón es ##per ##mático . [SEP] [PAD] [PAD] [PAD] [PAD] [PAD] [PAD] [PAD] [PAD] [PAD] [PAD] [PAD] [PAD] [PAD] [PAD] [PAD] [PAD] [PAD] [PAD] [PAD] [PAD] [PAD] [PAD] [PAD] [PAD] [PAD] [PAD] [PAD] [PAD] [PAD] [PAD] [PAD] [PAD] [PAD] [PAD] [PAD] [PAD] [PAD] [PAD] [PAD] [PAD] [PAD] [PAD] [PAD] [PAD] [PAD] [PAD] [PAD] [PAD] [PAD] [PAD] [PAD] [PAD] [PAD] \n",
      "\n",
      "[CLS] El posto ##perator ##io curs ##ó sin com ##pli ##caciones . [SEP] [PAD] [PAD] [PAD] [PAD] [PAD] [PAD] [PAD] [PAD] [PAD] [PAD] [PAD] [PAD] [PAD] [PAD] [PAD] [PAD] [PAD] [PAD] [PAD] [PAD] [PAD] [PAD] [PAD] [PAD] [PAD] [PAD] [PAD] [PAD] [PAD] [PAD] [PAD] [PAD] [PAD] [PAD] [PAD] [PAD] [PAD] [PAD] [PAD] [PAD] [PAD] [PAD] [PAD] [PAD] [PAD] [PAD] [PAD] [PAD] [PAD] [PAD] [PAD] [PAD] [PAD] [PAD] [PAD] [PAD] [PAD] [PAD] [PAD] [PAD] [PAD] [PAD] [PAD] [PAD] [PAD] [PAD] [PAD] [PAD] [PAD] [PAD] [PAD] [PAD] [PAD] [PAD] [PAD] [PAD] [PAD] [PAD] [PAD] [PAD] [PAD] [PAD] [PAD] [PAD] [PAD] [PAD] [PAD] [PAD] [PAD] [PAD] [PAD] [PAD] [PAD] [PAD] [PAD] [PAD] [PAD] [PAD] [PAD] [PAD] [PAD] [PAD] [PAD] [PAD] [PAD] [PAD] [PAD] [PAD] [PAD] [PAD] [PAD] [PAD] [PAD] [PAD] [PAD] \n",
      "\n",
      "[CLS] Se re ##mite al Servicio de On ##colo ##gía para valor ##ación de tratamiento ad ##yu ##vant ##e y control . [SEP] [PAD] [PAD] [PAD] [PAD] [PAD] [PAD] [PAD] [PAD] [PAD] [PAD] [PAD] [PAD] [PAD] [PAD] [PAD] [PAD] [PAD] [PAD] [PAD] [PAD] [PAD] [PAD] [PAD] [PAD] [PAD] [PAD] [PAD] [PAD] [PAD] [PAD] [PAD] [PAD] [PAD] [PAD] [PAD] [PAD] [PAD] [PAD] [PAD] [PAD] [PAD] [PAD] [PAD] [PAD] [PAD] [PAD] [PAD] [PAD] [PAD] [PAD] [PAD] [PAD] [PAD] [PAD] [PAD] [PAD] [PAD] [PAD] [PAD] [PAD] [PAD] [PAD] [PAD] [PAD] [PAD] [PAD] [PAD] [PAD] [PAD] [PAD] [PAD] [PAD] [PAD] [PAD] [PAD] [PAD] [PAD] [PAD] [PAD] [PAD] [PAD] [PAD] [PAD] [PAD] [PAD] [PAD] [PAD] [PAD] [PAD] [PAD] [PAD] [PAD] [PAD] [PAD] [PAD] [PAD] [PAD] [PAD] [PAD] [PAD] [PAD] [PAD] [PAD] [PAD] [PAD] \n",
      "\n",
      "[CLS] Dado que el diámetro máximo del tumor es de 3 , 2 cm y no afecta a la rete testi ##s , se op ##ta por el tratamiento conservador de control . [SEP] [PAD] [PAD] [PAD] [PAD] [PAD] [PAD] [PAD] [PAD] [PAD] [PAD] [PAD] [PAD] [PAD] [PAD] [PAD] [PAD] [PAD] [PAD] [PAD] [PAD] [PAD] [PAD] [PAD] [PAD] [PAD] [PAD] [PAD] [PAD] [PAD] [PAD] [PAD] [PAD] [PAD] [PAD] [PAD] [PAD] [PAD] [PAD] [PAD] [PAD] [PAD] [PAD] [PAD] [PAD] [PAD] [PAD] [PAD] [PAD] [PAD] [PAD] [PAD] [PAD] [PAD] [PAD] [PAD] [PAD] [PAD] [PAD] [PAD] [PAD] [PAD] [PAD] [PAD] [PAD] [PAD] [PAD] [PAD] [PAD] [PAD] [PAD] [PAD] [PAD] [PAD] [PAD] [PAD] [PAD] [PAD] [PAD] [PAD] [PAD] [PAD] [PAD] [PAD] [PAD] [PAD] [PAD] [PAD] [PAD] [PAD] [PAD] [PAD] [PAD] [PAD] [PAD] \n",
      "\n",
      "[CLS] Tres meses después , en Tomo ##grafía A ##xia ##l Computer ##izada de control , se det ##ecta ad ##eno ##pat ##ía ret ##rop ##erit ##one ##al izquierda aumenta ##da de tamaño ( 3 , 5 cm ) , con mal plano de separación con el ps ##oa ##s que at ##rap ##a el ter ##cio medio del ur ##éter causando hi ##dron ##ef ##ros ##is grado I . En las anal ##ítica ##s sang ##u ##íne ##as de control : hem ##og ##rama , bio ##quí ##mica y hem ##ostas ##ia dentro de los par ##ám ##etros de la normal ##idad excepto por C ##reat ##inin ##a de 1 , 2 mg / dl ; lac ##tato des ##hid ##rog ##enas ##a = 552 U [SEP] \n",
      "\n",
      "[CLS] ##I / I , alfa ##fet ##op ##rot ##e ##ína y beta - go ##nado ##tro ##pina cori ##ónica dentro de la normal ##idad . [SEP] [PAD] [PAD] [PAD] [PAD] [PAD] [PAD] [PAD] [PAD] [PAD] [PAD] [PAD] [PAD] [PAD] [PAD] [PAD] [PAD] [PAD] [PAD] [PAD] [PAD] [PAD] [PAD] [PAD] [PAD] [PAD] [PAD] [PAD] [PAD] [PAD] [PAD] [PAD] [PAD] [PAD] [PAD] [PAD] [PAD] [PAD] [PAD] [PAD] [PAD] [PAD] [PAD] [PAD] [PAD] [PAD] [PAD] [PAD] [PAD] [PAD] [PAD] [PAD] [PAD] [PAD] [PAD] [PAD] [PAD] [PAD] [PAD] [PAD] [PAD] [PAD] [PAD] [PAD] [PAD] [PAD] [PAD] [PAD] [PAD] [PAD] [PAD] [PAD] [PAD] [PAD] [PAD] [PAD] [PAD] [PAD] [PAD] [PAD] [PAD] [PAD] [PAD] [PAD] [PAD] [PAD] [PAD] [PAD] [PAD] [PAD] [PAD] [PAD] [PAD] [PAD] [PAD] [PAD] [PAD] [PAD] [PAD] [PAD] [PAD] [PAD] \n",
      "\n",
      "[CLS] Se diagnostic ##a de re ##cid ##iva ret ##rop ##erit ##one ##al y se some ##te a tratamiento con qui ##mio ##tera ##pia ( et ##op ##ós ##ido y ci ##sp ##lati ##no de 4 ciclo ##s ) . [SEP] [PAD] [PAD] [PAD] [PAD] [PAD] [PAD] [PAD] [PAD] [PAD] [PAD] [PAD] [PAD] [PAD] [PAD] [PAD] [PAD] [PAD] [PAD] [PAD] [PAD] [PAD] [PAD] [PAD] [PAD] [PAD] [PAD] [PAD] [PAD] [PAD] [PAD] [PAD] [PAD] [PAD] [PAD] [PAD] [PAD] [PAD] [PAD] [PAD] [PAD] [PAD] [PAD] [PAD] [PAD] [PAD] [PAD] [PAD] [PAD] [PAD] [PAD] [PAD] [PAD] [PAD] [PAD] [PAD] [PAD] [PAD] [PAD] [PAD] [PAD] [PAD] [PAD] [PAD] [PAD] [PAD] [PAD] [PAD] [PAD] [PAD] [PAD] [PAD] [PAD] [PAD] [PAD] [PAD] [PAD] [PAD] [PAD] [PAD] [PAD] [PAD] [PAD] [PAD] [PAD] [PAD] [PAD] [PAD] \n",
      "\n",
      "[CLS] Actualmente el paciente lleva 3 años libre de enfermedad en los controle ##s periódicos que se le realizan en los servicios de Ur ##ología y On ##colo ##gía . [SEP] [PAD] [PAD] [PAD] [PAD] [PAD] [PAD] [PAD] [PAD] [PAD] [PAD] [PAD] [PAD] [PAD] [PAD] [PAD] [PAD] [PAD] [PAD] [PAD] [PAD] [PAD] [PAD] [PAD] [PAD] [PAD] [PAD] [PAD] [PAD] [PAD] [PAD] [PAD] [PAD] [PAD] [PAD] [PAD] [PAD] [PAD] [PAD] [PAD] [PAD] [PAD] [PAD] [PAD] [PAD] [PAD] [PAD] [PAD] [PAD] [PAD] [PAD] [PAD] [PAD] [PAD] [PAD] [PAD] [PAD] [PAD] [PAD] [PAD] [PAD] [PAD] [PAD] [PAD] [PAD] [PAD] [PAD] [PAD] [PAD] [PAD] [PAD] [PAD] [PAD] [PAD] [PAD] [PAD] [PAD] [PAD] [PAD] [PAD] [PAD] [PAD] [PAD] [PAD] [PAD] [PAD] [PAD] [PAD] [PAD] [PAD] [PAD] [PAD] [PAD] [PAD] [PAD] [PAD] [PAD] [PAD] \n",
      "\n"
     ]
    }
   ],
   "source": [
    "check_id_frag = sum(train_frag[:check_id])\n",
    "for frag in train_ind[check_id_frag:check_id_frag + train_frag[check_id]]:\n",
    "    print(' '.join([tokenizer._token_dict_inv[ind] for ind in frag]), \"\\n\")"
   ]
  },
  {
   "cell_type": "code",
   "execution_count": 83,
   "metadata": {},
   "outputs": [
    {
     "data": {
      "text/plain": [
       "count    7753.000000\n",
       "mean        0.928415\n",
       "std         1.339604\n",
       "min         0.000000\n",
       "25%         0.000000\n",
       "50%         0.000000\n",
       "75%         1.000000\n",
       "max        14.000000\n",
       "dtype: float64"
      ]
     },
     "execution_count": 83,
     "metadata": {},
     "output_type": "execute_result"
    }
   ],
   "source": [
    "# Fragment labels distribution\n",
    "pd.Series(np.sum(train_y, axis=1)).describe()"
   ]
  },
  {
   "cell_type": "markdown",
   "metadata": {},
   "source": [
    "### Development corpus\n",
    "\n",
    "Only development texts that are annotated with CIE-Diagnóstico codes are considered:"
   ]
  },
  {
   "cell_type": "code",
   "execution_count": 84,
   "metadata": {},
   "outputs": [
    {
     "data": {
      "text/plain": [
       "0"
      ]
     },
     "execution_count": 84,
     "metadata": {},
     "output_type": "execute_result"
    }
   ],
   "source": [
    "len(set(df_text_dev[\"doc_id\"]) - set(df_codes_dev_ner[\"doc_id\"]))"
   ]
  },
  {
   "cell_type": "code",
   "execution_count": 85,
   "metadata": {},
   "outputs": [],
   "source": [
    "dev_doc_list = sorted(set(df_codes_dev_ner[\"doc_id\"]))"
   ]
  },
  {
   "cell_type": "code",
   "execution_count": 86,
   "metadata": {},
   "outputs": [
    {
     "data": {
      "text/plain": [
       "250"
      ]
     },
     "execution_count": 86,
     "metadata": {},
     "output_type": "execute_result"
    }
   ],
   "source": [
    "len(dev_doc_list)"
   ]
  },
  {
   "cell_type": "code",
   "execution_count": 87,
   "metadata": {},
   "outputs": [
    {
     "name": "stdout",
     "output_type": "stream",
     "text": [
      "CPU times: user 9.04 ms, sys: 18 µs, total: 9.06 ms\n",
      "Wall time: 8.84 ms\n"
     ]
    }
   ],
   "source": [
    "%%time\n",
    "ss_sub_corpus_path = ss_corpus_path + \"dev/\"\n",
    "ss_files = [f for f in os.listdir(ss_sub_corpus_path) if os.path.isfile(ss_sub_corpus_path + f)]\n",
    "ss_dict_dev = load_ss_files(ss_files, ss_sub_corpus_path)"
   ]
  },
  {
   "cell_type": "code",
   "execution_count": 88,
   "metadata": {},
   "outputs": [
    {
     "name": "stderr",
     "output_type": "stream",
     "text": [
      "100%|██████████| 250/250 [00:07<00:00, 32.26it/s]"
     ]
    },
    {
     "name": "stdout",
     "output_type": "stream",
     "text": [
      "CPU times: user 7.86 s, sys: 28.1 ms, total: 7.88 s\n",
      "Wall time: 7.84 s\n"
     ]
    },
    {
     "name": "stderr",
     "output_type": "stream",
     "text": [
      "\n"
     ]
    }
   ],
   "source": [
    "%%time\n",
    "dev_ind, dev_seg, dev_y, dev_frag, dev_start_end_frag = ss_create_frag_input_data_bert(df_text=df_text_dev, \n",
    "                                                  text_col=text_col, \n",
    "                                                  df_ann=df_codes_dev_ner, doc_list=dev_doc_list, ss_dict=ss_dict_dev,\n",
    "                                                  tokenizer=tokenizer, lab_encoder=mlb_encoder, seq_len=SEQ_LEN,\n",
    "                                                  greedy=False)"
   ]
  },
  {
   "cell_type": "code",
   "execution_count": 89,
   "metadata": {},
   "outputs": [],
   "source": [
    "# Sanity check"
   ]
  },
  {
   "cell_type": "code",
   "execution_count": 90,
   "metadata": {},
   "outputs": [
    {
     "data": {
      "text/plain": [
       "(4118, 128)"
      ]
     },
     "execution_count": 90,
     "metadata": {},
     "output_type": "execute_result"
    }
   ],
   "source": [
    "dev_ind.shape"
   ]
  },
  {
   "cell_type": "code",
   "execution_count": 91,
   "metadata": {},
   "outputs": [
    {
     "data": {
      "text/plain": [
       "(4118, 128)"
      ]
     },
     "execution_count": 91,
     "metadata": {},
     "output_type": "execute_result"
    }
   ],
   "source": [
    "dev_seg.shape"
   ]
  },
  {
   "cell_type": "code",
   "execution_count": 92,
   "metadata": {},
   "outputs": [
    {
     "data": {
      "text/plain": [
       "(4118, 2194)"
      ]
     },
     "execution_count": 92,
     "metadata": {},
     "output_type": "execute_result"
    }
   ],
   "source": [
    "dev_y.shape"
   ]
  },
  {
   "cell_type": "code",
   "execution_count": 93,
   "metadata": {},
   "outputs": [
    {
     "data": {
      "text/plain": [
       "250"
      ]
     },
     "execution_count": 93,
     "metadata": {},
     "output_type": "execute_result"
    }
   ],
   "source": [
    "len(dev_frag)"
   ]
  },
  {
   "cell_type": "code",
   "execution_count": 94,
   "metadata": {},
   "outputs": [
    {
     "data": {
      "text/plain": [
       "4118"
      ]
     },
     "execution_count": 94,
     "metadata": {},
     "output_type": "execute_result"
    }
   ],
   "source": [
    "len(dev_start_end_frag)"
   ]
  },
  {
   "cell_type": "code",
   "execution_count": 95,
   "metadata": {},
   "outputs": [
    {
     "data": {
      "text/plain": [
       "count    250.000000\n",
       "mean      16.472000\n",
       "std        8.425031\n",
       "min        4.000000\n",
       "25%       11.000000\n",
       "50%       15.000000\n",
       "75%       21.000000\n",
       "max       65.000000\n",
       "dtype: float64"
      ]
     },
     "execution_count": 95,
     "metadata": {},
     "output_type": "execute_result"
    }
   ],
   "source": [
    "# Check n_frag distribution across texts\n",
    "pd.Series(dev_frag).describe()"
   ]
  },
  {
   "cell_type": "code",
   "execution_count": 96,
   "metadata": {},
   "outputs": [],
   "source": [
    "# Inspect a randomly selected text and its encoded version\n",
    "check_id = np.random.randint(low=0, high=len(dev_doc_list), size=1)[0]"
   ]
  },
  {
   "cell_type": "code",
   "execution_count": 97,
   "metadata": {},
   "outputs": [
    {
     "data": {
      "text/plain": [
       "168"
      ]
     },
     "execution_count": 97,
     "metadata": {},
     "output_type": "execute_result"
    }
   ],
   "source": [
    "check_id"
   ]
  },
  {
   "cell_type": "code",
   "execution_count": 98,
   "metadata": {},
   "outputs": [
    {
     "data": {
      "text/plain": [
       "'S1130-05582015000100004-1'"
      ]
     },
     "execution_count": 98,
     "metadata": {},
     "output_type": "execute_result"
    }
   ],
   "source": [
    "dev_doc_list[check_id]"
   ]
  },
  {
   "cell_type": "code",
   "execution_count": 99,
   "metadata": {
    "scrolled": true
   },
   "outputs": [
    {
     "data": {
      "text/plain": [
       "'Se presenta el caso de una mujer de 60 años de edad, no fumadora ni bebedora de alcohol, sin antecedentes clínicos de interés, que no refiere procedimientos médicos ni quirúrgicos relevantes y que acude a nuestro servicio para realizarse una exodoncia del primer premolar inferior izquierdo. En el momento del examen clínico intraoral se observa una lesión tumoral asintomática de 15 mm de diámetro en la mucosa bucal izquierda. Su color es rosa pálido similar al de la mucosa y de superficie lisa. En la mucosa bucal derecha se observa una lesión tumoral de 10 mm de diámetro. Esta lesión es hipocrómica comparada con la mucosa bucal y de superficie lisa. El diagnóstico provisional para ambas lesiones es un fibroma traumático asociado a una prótesis mal adaptada. En el momento de realizar la historia clínica la paciente no relató haber sido sometida a un tratamiento de infiltraciones faciales con biopolímeros. El método diagnóstico es una biopsia excisional y el tratamiento es la remoción quirúrgica. La escisión se realiza anestesiando la zona. Se efectuó la incisión con una hoja de bisturí número 15 y la posterior sutura con seda negra 3-0. El cierre de la lesión derecha se realizó con Vicryl y luego seda negra 3-0. En el momento de la escisión quirúrgica de la lesión izquierda el aspecto macroscópico supone un lipoma debido a su coloración interna y a que está encapsulado.\\n\\nPara la lesión izquierda el estudio microscópico indica una lesión reactiva tapizada por un epitelio de revestimiento plano estratificado de espesor variable. Debajo del epitelio se observa una lesión conformada por abundantes fibras colágenas dispuestas al azar entremezcladas con fibroblastos y algunos vasos sanguíneos delineados por el endotelio de aspecto normal. Esto confirma que se trata de un fibroma traumático. El estudio histopatológico de la lesión de la mucosa derecha revela la presencia de abundantes espacios redondeados vacíos rodeados por numerosos histiocitos de aspecto espumoso, lo cual indica que se encuentran fagocitando lípidos y tienen ese aspecto. Tras la obtención de las imágenes del examen microscópico la paciente indica que 10 años antes había sido sometida a un tratamiento de infiltraciones faciales con biopolímeros en la frente y en las comisuras. La paciente no refirió ningún síntoma asociado a los efectos adversos.\\n\\n'"
      ]
     },
     "execution_count": 99,
     "metadata": {},
     "output_type": "execute_result"
    }
   ],
   "source": [
    "df_text_dev[df_text_dev[\"doc_id\"] == dev_doc_list[check_id]][text_col].values[0]"
   ]
  },
  {
   "cell_type": "code",
   "execution_count": 100,
   "metadata": {},
   "outputs": [
    {
     "name": "stdout",
     "output_type": "stream",
     "text": [
      "[('f10.10', 'f17.200')] \n",
      "\n",
      "[('k13.79',)] \n",
      "\n",
      "[()] \n",
      "\n",
      "[('k13.79',)] \n",
      "\n",
      "[('k13.79',)] \n",
      "\n",
      "[('k13.79',)] \n",
      "\n",
      "[()] \n",
      "\n",
      "[()] \n",
      "\n",
      "[()] \n",
      "\n",
      "[()] \n",
      "\n",
      "[('k13.79',)] \n",
      "\n",
      "[()] \n",
      "\n",
      "[()] \n",
      "\n",
      "[()] \n",
      "\n",
      "[()] \n",
      "\n",
      "[()] \n",
      "\n",
      "[()] \n",
      "\n",
      "[()] \n",
      "\n"
     ]
    }
   ],
   "source": [
    "check_id_frag = sum(dev_frag[:check_id])\n",
    "for i in range(check_id_frag, check_id_frag + dev_frag[check_id]):\n",
    "    print(mlb_encoder.inverse_transform(np.array([dev_y[i]])), \"\\n\")"
   ]
  },
  {
   "cell_type": "code",
   "execution_count": 101,
   "metadata": {},
   "outputs": [
    {
     "name": "stdout",
     "output_type": "stream",
     "text": [
      "[('Se', (0, 2)), ('presenta', (3, 11)), ('el', (12, 14)), ('caso', (15, 19)), ('de', (20, 22)), ('una', (23, 26)), ('mujer', (27, 32)), ('de', (33, 35)), ('60', (36, 38)), ('años', (39, 43)), ('de', (44, 46)), ('edad', (47, 51)), (',', (51, 52)), ('no', (53, 55)), ('fu', (56, 58)), ('##mad', (58, 61)), ('##ora', (61, 64)), ('ni', (65, 67)), ('be', (68, 70)), ('##bed', (70, 73)), ('##ora', (73, 76)), ('de', (77, 79)), ('alcohol', (80, 87)), (',', (87, 88)), ('sin', (89, 92)), ('ante', (93, 97)), ('##cedent', (97, 103)), ('##es', (103, 105)), ('c', (106, 107)), ('##lín', (107, 110)), ('##icos', (110, 114)), ('de', (115, 117)), ('interés', (118, 125)), (',', (125, 126)), ('que', (127, 130)), ('no', (131, 133)), ('refiere', (134, 141)), ('pro', (142, 145)), ('##ced', (145, 148)), ('##imientos', (148, 156)), ('médicos', (157, 164)), ('ni', (165, 167)), ('qui', (168, 171)), ('##rú', (171, 173)), ('##rgi', (173, 176)), ('##cos', (176, 179)), ('relevante', (180, 189)), ('##s', (189, 190)), ('y', (191, 192)), ('que', (193, 196)), ('acu', (197, 200)), ('##de', (200, 202)), ('a', (203, 204)), ('nuestro', (205, 212)), ('servicio', (213, 221)), ('para', (222, 226)), ('realizar', (227, 235)), ('##se', (235, 237)), ('una', (238, 241)), ('ex', (242, 244)), ('##odon', (244, 248)), ('##cia', (248, 251)), ('del', (252, 255)), ('primer', (256, 262)), ('pre', (263, 266)), ('##mol', (266, 269)), ('##ar', (269, 271)), ('inferior', (272, 280)), ('izquierdo', (281, 290)), ('.', (290, 291))]\n",
      "\n",
      "\n",
      "[('En', (292, 294)), ('el', (295, 297)), ('momento', (298, 305)), ('del', (306, 309)), ('examen', (310, 316)), ('c', (317, 318)), ('##lín', (318, 321)), ('##ico', (321, 324)), ('intra', (325, 330)), ('##oral', (330, 334)), ('se', (335, 337)), ('observa', (338, 345)), ('una', (346, 349)), ('lesión', (350, 356)), ('tumor', (357, 362)), ('##al', (362, 364)), ('asi', (365, 368)), ('##nto', (368, 371)), ('##mática', (371, 377)), ('de', (378, 380)), ('15', (381, 383)), ('mm', (384, 386)), ('de', (387, 389)), ('diámetro', (390, 398)), ('en', (399, 401)), ('la', (402, 404)), ('mu', (405, 407)), ('##cosa', (407, 411)), ('bu', (412, 414)), ('##cal', (414, 417)), ('izquierda', (418, 427)), ('.', (427, 428))]\n",
      "\n",
      "\n",
      "[('Su', (429, 431)), ('color', (432, 437)), ('es', (438, 440)), ('rosa', (441, 445)), ('p', (446, 447)), ('##áli', (447, 450)), ('##do', (450, 452)), ('similar', (453, 460)), ('al', (461, 463)), ('de', (464, 466)), ('la', (467, 469)), ('mu', (470, 472)), ('##cosa', (472, 476)), ('y', (477, 478)), ('de', (479, 481)), ('superficie', (482, 492)), ('li', (493, 495)), ('##sa', (495, 497)), ('.', (497, 498))]\n",
      "\n",
      "\n",
      "[('En', (499, 501)), ('la', (502, 504)), ('mu', (505, 507)), ('##cosa', (507, 511)), ('bu', (512, 514)), ('##cal', (514, 517)), ('derecha', (518, 525)), ('se', (526, 528)), ('observa', (529, 536)), ('una', (537, 540)), ('lesión', (541, 547)), ('tumor', (548, 553)), ('##al', (553, 555)), ('de', (556, 558)), ('10', (559, 561)), ('mm', (562, 564)), ('de', (565, 567)), ('diámetro', (568, 576)), ('.', (576, 577))]\n",
      "\n",
      "\n",
      "[('Esta', (578, 582)), ('lesión', (583, 589)), ('es', (590, 592)), ('hip', (593, 596)), ('##oc', (596, 598)), ('##ró', (598, 600)), ('##mica', (600, 604)), ('com', (605, 608)), ('##parada', (608, 614)), ('con', (615, 618)), ('la', (619, 621)), ('mu', (622, 624)), ('##cosa', (624, 628)), ('bu', (629, 631)), ('##cal', (631, 634)), ('y', (635, 636)), ('de', (637, 639)), ('superficie', (640, 650)), ('li', (651, 653)), ('##sa', (653, 655)), ('.', (655, 656))]\n",
      "\n",
      "\n",
      "[('El', (657, 659)), ('dia', (660, 663)), ('##gnóstico', (663, 671)), ('provisional', (672, 683)), ('para', (684, 688)), ('ambas', (689, 694)), ('les', (695, 698)), ('##iones', (698, 703)), ('es', (704, 706)), ('un', (707, 709)), ('fi', (710, 712)), ('##bro', (712, 715)), ('##ma', (715, 717)), ('tra', (718, 721)), ('##um', (721, 723)), ('##ático', (723, 728)), ('asociado', (729, 737)), ('a', (738, 739)), ('una', (740, 743)), ('pr', (744, 746)), ('##ót', (746, 748)), ('##esis', (748, 752)), ('mal', (753, 756)), ('ada', (757, 760)), ('##pta', (760, 763)), ('##da', (763, 765)), ('.', (765, 766))]\n",
      "\n",
      "\n",
      "[('En', (767, 769)), ('el', (770, 772)), ('momento', (773, 780)), ('de', (781, 783)), ('realizar', (784, 792)), ('la', (793, 795)), ('historia', (796, 804)), ('clínica', (805, 812)), ('la', (813, 815)), ('paciente', (816, 824)), ('no', (825, 827)), ('re', (828, 830)), ('##lat', (830, 833)), ('##ó', (833, 834)), ('haber', (835, 840)), ('sido', (841, 845)), ('some', (846, 850)), ('##tida', (850, 854)), ('a', (855, 856)), ('un', (857, 859)), ('tratamiento', (860, 871)), ('de', (872, 874)), ('in', (875, 877)), ('##fil', (877, 880)), ('##tra', (880, 883)), ('##ciones', (883, 889)), ('fac', (890, 893)), ('##iales', (893, 898)), ('con', (899, 902)), ('bio', (903, 906)), ('##pol', (906, 909)), ('##íme', (909, 912)), ('##ros', (912, 915)), ('.', (915, 916))]\n",
      "\n",
      "\n",
      "[('El', (917, 919)), ('método', (920, 926)), ('dia', (927, 930)), ('##gnóstico', (930, 938)), ('es', (939, 941)), ('una', (942, 945)), ('bio', (946, 949)), ('##psia', (949, 953)), ('ex', (954, 956)), ('##cision', (956, 962)), ('##al', (962, 964)), ('y', (965, 966)), ('el', (967, 969)), ('tratamiento', (970, 981)), ('es', (982, 984)), ('la', (985, 987)), ('re', (988, 990)), ('##mo', (990, 992)), ('##ción', (992, 996)), ('qui', (997, 1000)), ('##rú', (1000, 1002)), ('##rgi', (1002, 1005)), ('##ca', (1005, 1007)), ('.', (1007, 1008))]\n",
      "\n",
      "\n",
      "[('La', (1009, 1011)), ('es', (1012, 1014)), ('##cisión', (1014, 1020)), ('se', (1021, 1023)), ('realiza', (1024, 1031)), ('ane', (1032, 1035)), ('##stes', (1035, 1039)), ('##ian', (1039, 1042)), ('##do', (1042, 1044)), ('la', (1045, 1047)), ('zona', (1048, 1052)), ('.', (1052, 1053))]\n",
      "\n",
      "\n",
      "[('Se', (1054, 1056)), ('ef', (1057, 1059)), ('##ect', (1059, 1062)), ('##u', (1062, 1063)), ('##ó', (1063, 1064)), ('la', (1065, 1067)), ('in', (1068, 1070)), ('##cisión', (1070, 1076)), ('con', (1077, 1080)), ('una', (1081, 1084)), ('ho', (1085, 1087)), ('##ja', (1087, 1089)), ('de', (1090, 1092)), ('bis', (1093, 1096)), ('##tur', (1096, 1099)), ('##í', (1099, 1100)), ('número', (1101, 1107)), ('15', (1108, 1110)), ('y', (1111, 1112)), ('la', (1113, 1115)), ('posterior', (1116, 1125)), ('sut', (1126, 1129)), ('##ura', (1129, 1132)), ('con', (1133, 1136)), ('seda', (1137, 1141)), ('negra', (1142, 1147)), ('3', (1148, 1149)), ('-', (1149, 1150)), ('0', (1150, 1151)), ('.', (1151, 1152))]\n",
      "\n",
      "\n",
      "[('El', (1153, 1155)), ('ci', (1156, 1158)), ('##erre', (1158, 1162)), ('de', (1163, 1165)), ('la', (1166, 1168)), ('lesión', (1169, 1175)), ('derecha', (1176, 1183)), ('se', (1184, 1186)), ('realizó', (1187, 1194)), ('con', (1195, 1198)), ('Vic', (1199, 1202)), ('##ryl', (1202, 1205)), ('y', (1206, 1207)), ('luego', (1208, 1213)), ('seda', (1214, 1218)), ('negra', (1219, 1224)), ('3', (1225, 1226)), ('-', (1226, 1227)), ('0', (1227, 1228)), ('.', (1228, 1229))]\n",
      "\n",
      "\n",
      "[('En', (1230, 1232)), ('el', (1233, 1235)), ('momento', (1236, 1243)), ('de', (1244, 1246)), ('la', (1247, 1249)), ('es', (1250, 1252)), ('##cisión', (1252, 1258)), ('qui', (1259, 1262)), ('##rú', (1262, 1264)), ('##rgi', (1264, 1267)), ('##ca', (1267, 1269)), ('de', (1270, 1272)), ('la', (1273, 1275)), ('lesión', (1276, 1282)), ('izquierda', (1283, 1292)), ('el', (1293, 1295)), ('aspecto', (1296, 1303)), ('mac', (1304, 1307)), ('##ros', (1307, 1310)), ('##có', (1310, 1312)), ('##pico', (1312, 1316)), ('su', (1317, 1319)), ('##pone', (1319, 1323)), ('un', (1324, 1326)), ('li', (1327, 1329)), ('##po', (1329, 1331)), ('##ma', (1331, 1333)), ('debido', (1334, 1340)), ('a', (1341, 1342)), ('su', (1343, 1345)), ('color', (1346, 1351)), ('##ación', (1351, 1356)), ('interna', (1357, 1364)), ('y', (1365, 1366)), ('a', (1367, 1368)), ('que', (1369, 1372)), ('está', (1373, 1377)), ('en', (1378, 1380)), ('##cap', (1380, 1383)), ('##sula', (1383, 1387)), ('##do', (1387, 1389)), ('.', (1389, 1390))]\n",
      "\n",
      "\n",
      "[('Para', (1392, 1396)), ('la', (1397, 1399)), ('lesión', (1400, 1406)), ('izquierda', (1407, 1416)), ('el', (1417, 1419)), ('estudio', (1420, 1427)), ('micro', (1428, 1433)), ('##sc', (1433, 1435)), ('##ó', (1435, 1436)), ('##pico', (1436, 1440)), ('indica', (1441, 1447)), ('una', (1448, 1451)), ('lesión', (1452, 1458)), ('re', (1459, 1461)), ('##act', (1461, 1464)), ('##iva', (1464, 1467)), ('tapi', (1468, 1472)), ('##zada', (1472, 1476)), ('por', (1477, 1480)), ('un', (1481, 1483)), ('epi', (1484, 1487)), ('##teli', (1487, 1491)), ('##o', (1491, 1492)), ('de', (1493, 1495)), ('rev', (1496, 1499)), ('##esti', (1499, 1503)), ('##miento', (1503, 1509)), ('plano', (1510, 1515)), ('est', (1516, 1519)), ('##rati', (1519, 1523)), ('##ficado', (1523, 1529)), ('de', (1530, 1532)), ('es', (1533, 1535)), ('##pes', (1535, 1538)), ('##or', (1538, 1540)), ('variable', (1541, 1549)), ('.', (1549, 1550))]\n",
      "\n",
      "\n",
      "[('De', (1551, 1553)), ('##bajo', (1553, 1557)), ('del', (1558, 1561)), ('epi', (1562, 1565)), ('##teli', (1565, 1569)), ('##o', (1569, 1570)), ('se', (1571, 1573)), ('observa', (1574, 1581)), ('una', (1582, 1585)), ('lesión', (1586, 1592)), ('conform', (1593, 1600)), ('##ada', (1600, 1603)), ('por', (1604, 1607)), ('abundant', (1608, 1616)), ('##es', (1616, 1618)), ('fibra', (1619, 1624)), ('##s', (1624, 1625)), ('col', (1626, 1629)), ('##ág', (1629, 1631)), ('##enas', (1631, 1635)), ('dis', (1636, 1639)), ('##puesta', (1639, 1645)), ('##s', (1645, 1646)), ('al', (1647, 1649)), ('az', (1650, 1652)), ('##ar', (1652, 1654)), ('entre', (1655, 1660)), ('##mez', (1660, 1663)), ('##cla', (1663, 1666)), ('##das', (1666, 1669)), ('con', (1670, 1673)), ('fi', (1674, 1676)), ('##bro', (1676, 1679)), ('##blast', (1679, 1684)), ('##os', (1684, 1686)), ('y', (1687, 1688)), ('algunos', (1689, 1696)), ('vas', (1697, 1700)), ('##os', (1700, 1702)), ('sang', (1703, 1707)), ('##u', (1707, 1708)), ('##íne', (1708, 1711)), ('##os', (1711, 1713)), ('del', (1714, 1717)), ('##inea', (1717, 1721)), ('##dos', (1721, 1724)), ('por', (1725, 1728)), ('el', (1729, 1731)), ('end', (1732, 1735)), ('##ote', (1735, 1738)), ('##lio', (1738, 1741)), ('de', (1742, 1744)), ('aspecto', (1745, 1752)), ('normal', (1753, 1759)), ('.', (1759, 1760))]\n",
      "\n",
      "\n",
      "[('Esto', (1761, 1765)), ('con', (1766, 1769)), ('##firma', (1769, 1774)), ('que', (1775, 1778)), ('se', (1779, 1781)), ('trata', (1782, 1787)), ('de', (1788, 1790)), ('un', (1791, 1793)), ('fi', (1794, 1796)), ('##bro', (1796, 1799)), ('##ma', (1799, 1801)), ('tra', (1802, 1805)), ('##um', (1805, 1807)), ('##ático', (1807, 1812)), ('.', (1812, 1813))]\n",
      "\n",
      "\n",
      "[('El', (1814, 1816)), ('estudio', (1817, 1824)), ('his', (1825, 1828)), ('##top', (1828, 1831)), ('##ato', (1831, 1834)), ('##lógico', (1834, 1840)), ('de', (1841, 1843)), ('la', (1844, 1846)), ('lesión', (1847, 1853)), ('de', (1854, 1856)), ('la', (1857, 1859)), ('mu', (1860, 1862)), ('##cosa', (1862, 1866)), ('derecha', (1867, 1874)), ('revela', (1875, 1881)), ('la', (1882, 1884)), ('presencia', (1885, 1894)), ('de', (1895, 1897)), ('abundant', (1898, 1906)), ('##es', (1906, 1908)), ('espacios', (1909, 1917)), ('red', (1918, 1921)), ('##onde', (1921, 1925)), ('##ados', (1925, 1929)), ('va', (1930, 1932)), ('##cí', (1932, 1934)), ('##os', (1934, 1936)), ('rode', (1937, 1941)), ('##ados', (1941, 1945)), ('por', (1946, 1949)), ('numerosos', (1950, 1959)), ('his', (1960, 1963)), ('##tio', (1963, 1966)), ('##cito', (1966, 1970)), ('##s', (1970, 1971)), ('de', (1972, 1974)), ('aspecto', (1975, 1982)), ('es', (1983, 1985)), ('##pu', (1985, 1987)), ('##mos', (1987, 1990)), ('##o', (1990, 1991)), (',', (1991, 1992)), ('lo', (1993, 1995)), ('cual', (1996, 2000)), ('indica', (2001, 2007)), ('que', (2008, 2011)), ('se', (2012, 2014)), ('encuentran', (2015, 2025)), ('fa', (2026, 2028)), ('##go', (2028, 2030)), ('##cita', (2030, 2034)), ('##ndo', (2034, 2037)), ('l', (2038, 2039)), ('##í', (2039, 2040)), ('##pido', (2040, 2044)), ('##s', (2044, 2045)), ('y', (2046, 2047)), ('tienen', (2048, 2054)), ('ese', (2055, 2058)), ('aspecto', (2059, 2066)), ('.', (2066, 2067))]\n",
      "\n",
      "\n",
      "[('Tras', (2068, 2072)), ('la', (2073, 2075)), ('ob', (2076, 2078)), ('##ten', (2078, 2081)), ('##ción', (2081, 2085)), ('de', (2086, 2088)), ('las', (2089, 2092)), ('imágenes', (2093, 2101)), ('del', (2102, 2105)), ('examen', (2106, 2112)), ('micro', (2113, 2118)), ('##sc', (2118, 2120)), ('##ó', (2120, 2121)), ('##pico', (2121, 2125)), ('la', (2126, 2128)), ('paciente', (2129, 2137)), ('indica', (2138, 2144)), ('que', (2145, 2148)), ('10', (2149, 2151)), ('años', (2152, 2156)), ('antes', (2157, 2162)), ('había', (2163, 2168)), ('sido', (2169, 2173)), ('some', (2174, 2178)), ('##tida', (2178, 2182)), ('a', (2183, 2184)), ('un', (2185, 2187)), ('tratamiento', (2188, 2199)), ('de', (2200, 2202)), ('in', (2203, 2205)), ('##fil', (2205, 2208)), ('##tra', (2208, 2211)), ('##ciones', (2211, 2217)), ('fac', (2218, 2221)), ('##iales', (2221, 2226)), ('con', (2227, 2230)), ('bio', (2231, 2234)), ('##pol', (2234, 2237)), ('##íme', (2237, 2240)), ('##ros', (2240, 2243)), ('en', (2244, 2246)), ('la', (2247, 2249)), ('frente', (2250, 2256)), ('y', (2257, 2258)), ('en', (2259, 2261)), ('las', (2262, 2265)), ('com', (2266, 2269)), ('##isu', (2269, 2272)), ('##ras', (2272, 2275)), ('.', (2275, 2276))]\n",
      "\n",
      "\n",
      "[('La', (2277, 2279)), ('paciente', (2280, 2288)), ('no', (2289, 2291)), ('ref', (2292, 2295)), ('##iri', (2295, 2298)), ('##ó', (2298, 2299)), ('ningún', (2300, 2306)), ('sí', (2307, 2309)), ('##nto', (2309, 2312)), ('##ma', (2312, 2314)), ('asociado', (2315, 2323)), ('a', (2324, 2325)), ('los', (2326, 2329)), ('efectos', (2330, 2337)), ('ad', (2338, 2340)), ('##versos', (2340, 2346)), ('.', (2346, 2347))]\n",
      "\n",
      "\n"
     ]
    }
   ],
   "source": [
    "for i in range(check_id_frag, check_id_frag + dev_frag[check_id]):\n",
    "    print(list(zip([tokenizer._token_dict_inv[ind] for ind in dev_ind[i]][1:len(dev_start_end_frag[i])+1], \n",
    "               dev_start_end_frag[i])))\n",
    "    print(\"\\n\")"
   ]
  },
  {
   "cell_type": "code",
   "execution_count": 102,
   "metadata": {},
   "outputs": [
    {
     "name": "stdout",
     "output_type": "stream",
     "text": [
      "[CLS] Se presenta el caso de una mujer de 60 años de edad , no fu ##mad ##ora ni be ##bed ##ora de alcohol , sin ante ##cedent ##es c ##lín ##icos de interés , que no refiere pro ##ced ##imientos médicos ni qui ##rú ##rgi ##cos relevante ##s y que acu ##de a nuestro servicio para realizar ##se una ex ##odon ##cia del primer pre ##mol ##ar inferior izquierdo . [SEP] [PAD] [PAD] [PAD] [PAD] [PAD] [PAD] [PAD] [PAD] [PAD] [PAD] [PAD] [PAD] [PAD] [PAD] [PAD] [PAD] [PAD] [PAD] [PAD] [PAD] [PAD] [PAD] [PAD] [PAD] [PAD] [PAD] [PAD] [PAD] [PAD] [PAD] [PAD] [PAD] [PAD] [PAD] [PAD] [PAD] [PAD] [PAD] [PAD] [PAD] [PAD] [PAD] [PAD] [PAD] [PAD] [PAD] [PAD] [PAD] [PAD] [PAD] [PAD] [PAD] [PAD] [PAD] [PAD] [PAD] \n",
      "\n",
      "[CLS] En el momento del examen c ##lín ##ico intra ##oral se observa una lesión tumor ##al asi ##nto ##mática de 15 mm de diámetro en la mu ##cosa bu ##cal izquierda . [SEP] [PAD] [PAD] [PAD] [PAD] [PAD] [PAD] [PAD] [PAD] [PAD] [PAD] [PAD] [PAD] [PAD] [PAD] [PAD] [PAD] [PAD] [PAD] [PAD] [PAD] [PAD] [PAD] [PAD] [PAD] [PAD] [PAD] [PAD] [PAD] [PAD] [PAD] [PAD] [PAD] [PAD] [PAD] [PAD] [PAD] [PAD] [PAD] [PAD] [PAD] [PAD] [PAD] [PAD] [PAD] [PAD] [PAD] [PAD] [PAD] [PAD] [PAD] [PAD] [PAD] [PAD] [PAD] [PAD] [PAD] [PAD] [PAD] [PAD] [PAD] [PAD] [PAD] [PAD] [PAD] [PAD] [PAD] [PAD] [PAD] [PAD] [PAD] [PAD] [PAD] [PAD] [PAD] [PAD] [PAD] [PAD] [PAD] [PAD] [PAD] [PAD] [PAD] [PAD] [PAD] [PAD] [PAD] [PAD] [PAD] [PAD] [PAD] [PAD] [PAD] [PAD] [PAD] \n",
      "\n",
      "[CLS] Su color es rosa p ##áli ##do similar al de la mu ##cosa y de superficie li ##sa . [SEP] [PAD] [PAD] [PAD] [PAD] [PAD] [PAD] [PAD] [PAD] [PAD] [PAD] [PAD] [PAD] [PAD] [PAD] [PAD] [PAD] [PAD] [PAD] [PAD] [PAD] [PAD] [PAD] [PAD] [PAD] [PAD] [PAD] [PAD] [PAD] [PAD] [PAD] [PAD] [PAD] [PAD] [PAD] [PAD] [PAD] [PAD] [PAD] [PAD] [PAD] [PAD] [PAD] [PAD] [PAD] [PAD] [PAD] [PAD] [PAD] [PAD] [PAD] [PAD] [PAD] [PAD] [PAD] [PAD] [PAD] [PAD] [PAD] [PAD] [PAD] [PAD] [PAD] [PAD] [PAD] [PAD] [PAD] [PAD] [PAD] [PAD] [PAD] [PAD] [PAD] [PAD] [PAD] [PAD] [PAD] [PAD] [PAD] [PAD] [PAD] [PAD] [PAD] [PAD] [PAD] [PAD] [PAD] [PAD] [PAD] [PAD] [PAD] [PAD] [PAD] [PAD] [PAD] [PAD] [PAD] [PAD] [PAD] [PAD] [PAD] [PAD] [PAD] [PAD] [PAD] [PAD] [PAD] [PAD] \n",
      "\n",
      "[CLS] En la mu ##cosa bu ##cal derecha se observa una lesión tumor ##al de 10 mm de diámetro . [SEP] [PAD] [PAD] [PAD] [PAD] [PAD] [PAD] [PAD] [PAD] [PAD] [PAD] [PAD] [PAD] [PAD] [PAD] [PAD] [PAD] [PAD] [PAD] [PAD] [PAD] [PAD] [PAD] [PAD] [PAD] [PAD] [PAD] [PAD] [PAD] [PAD] [PAD] [PAD] [PAD] [PAD] [PAD] [PAD] [PAD] [PAD] [PAD] [PAD] [PAD] [PAD] [PAD] [PAD] [PAD] [PAD] [PAD] [PAD] [PAD] [PAD] [PAD] [PAD] [PAD] [PAD] [PAD] [PAD] [PAD] [PAD] [PAD] [PAD] [PAD] [PAD] [PAD] [PAD] [PAD] [PAD] [PAD] [PAD] [PAD] [PAD] [PAD] [PAD] [PAD] [PAD] [PAD] [PAD] [PAD] [PAD] [PAD] [PAD] [PAD] [PAD] [PAD] [PAD] [PAD] [PAD] [PAD] [PAD] [PAD] [PAD] [PAD] [PAD] [PAD] [PAD] [PAD] [PAD] [PAD] [PAD] [PAD] [PAD] [PAD] [PAD] [PAD] [PAD] [PAD] [PAD] [PAD] [PAD] \n",
      "\n",
      "[CLS] Esta lesión es hip ##oc ##ró ##mica com ##parada con la mu ##cosa bu ##cal y de superficie li ##sa . [SEP] [PAD] [PAD] [PAD] [PAD] [PAD] [PAD] [PAD] [PAD] [PAD] [PAD] [PAD] [PAD] [PAD] [PAD] [PAD] [PAD] [PAD] [PAD] [PAD] [PAD] [PAD] [PAD] [PAD] [PAD] [PAD] [PAD] [PAD] [PAD] [PAD] [PAD] [PAD] [PAD] [PAD] [PAD] [PAD] [PAD] [PAD] [PAD] [PAD] [PAD] [PAD] [PAD] [PAD] [PAD] [PAD] [PAD] [PAD] [PAD] [PAD] [PAD] [PAD] [PAD] [PAD] [PAD] [PAD] [PAD] [PAD] [PAD] [PAD] [PAD] [PAD] [PAD] [PAD] [PAD] [PAD] [PAD] [PAD] [PAD] [PAD] [PAD] [PAD] [PAD] [PAD] [PAD] [PAD] [PAD] [PAD] [PAD] [PAD] [PAD] [PAD] [PAD] [PAD] [PAD] [PAD] [PAD] [PAD] [PAD] [PAD] [PAD] [PAD] [PAD] [PAD] [PAD] [PAD] [PAD] [PAD] [PAD] [PAD] [PAD] [PAD] [PAD] [PAD] [PAD] [PAD] \n",
      "\n",
      "[CLS] El dia ##gnóstico provisional para ambas les ##iones es un fi ##bro ##ma tra ##um ##ático asociado a una pr ##ót ##esis mal ada ##pta ##da . [SEP] [PAD] [PAD] [PAD] [PAD] [PAD] [PAD] [PAD] [PAD] [PAD] [PAD] [PAD] [PAD] [PAD] [PAD] [PAD] [PAD] [PAD] [PAD] [PAD] [PAD] [PAD] [PAD] [PAD] [PAD] [PAD] [PAD] [PAD] [PAD] [PAD] [PAD] [PAD] [PAD] [PAD] [PAD] [PAD] [PAD] [PAD] [PAD] [PAD] [PAD] [PAD] [PAD] [PAD] [PAD] [PAD] [PAD] [PAD] [PAD] [PAD] [PAD] [PAD] [PAD] [PAD] [PAD] [PAD] [PAD] [PAD] [PAD] [PAD] [PAD] [PAD] [PAD] [PAD] [PAD] [PAD] [PAD] [PAD] [PAD] [PAD] [PAD] [PAD] [PAD] [PAD] [PAD] [PAD] [PAD] [PAD] [PAD] [PAD] [PAD] [PAD] [PAD] [PAD] [PAD] [PAD] [PAD] [PAD] [PAD] [PAD] [PAD] [PAD] [PAD] [PAD] [PAD] [PAD] [PAD] [PAD] [PAD] [PAD] \n",
      "\n",
      "[CLS] En el momento de realizar la historia clínica la paciente no re ##lat ##ó haber sido some ##tida a un tratamiento de in ##fil ##tra ##ciones fac ##iales con bio ##pol ##íme ##ros . [SEP] [PAD] [PAD] [PAD] [PAD] [PAD] [PAD] [PAD] [PAD] [PAD] [PAD] [PAD] [PAD] [PAD] [PAD] [PAD] [PAD] [PAD] [PAD] [PAD] [PAD] [PAD] [PAD] [PAD] [PAD] [PAD] [PAD] [PAD] [PAD] [PAD] [PAD] [PAD] [PAD] [PAD] [PAD] [PAD] [PAD] [PAD] [PAD] [PAD] [PAD] [PAD] [PAD] [PAD] [PAD] [PAD] [PAD] [PAD] [PAD] [PAD] [PAD] [PAD] [PAD] [PAD] [PAD] [PAD] [PAD] [PAD] [PAD] [PAD] [PAD] [PAD] [PAD] [PAD] [PAD] [PAD] [PAD] [PAD] [PAD] [PAD] [PAD] [PAD] [PAD] [PAD] [PAD] [PAD] [PAD] [PAD] [PAD] [PAD] [PAD] [PAD] [PAD] [PAD] [PAD] [PAD] [PAD] [PAD] [PAD] [PAD] [PAD] [PAD] [PAD] \n",
      "\n",
      "[CLS] El método dia ##gnóstico es una bio ##psia ex ##cision ##al y el tratamiento es la re ##mo ##ción qui ##rú ##rgi ##ca . [SEP] [PAD] [PAD] [PAD] [PAD] [PAD] [PAD] [PAD] [PAD] [PAD] [PAD] [PAD] [PAD] [PAD] [PAD] [PAD] [PAD] [PAD] [PAD] [PAD] [PAD] [PAD] [PAD] [PAD] [PAD] [PAD] [PAD] [PAD] [PAD] [PAD] [PAD] [PAD] [PAD] [PAD] [PAD] [PAD] [PAD] [PAD] [PAD] [PAD] [PAD] [PAD] [PAD] [PAD] [PAD] [PAD] [PAD] [PAD] [PAD] [PAD] [PAD] [PAD] [PAD] [PAD] [PAD] [PAD] [PAD] [PAD] [PAD] [PAD] [PAD] [PAD] [PAD] [PAD] [PAD] [PAD] [PAD] [PAD] [PAD] [PAD] [PAD] [PAD] [PAD] [PAD] [PAD] [PAD] [PAD] [PAD] [PAD] [PAD] [PAD] [PAD] [PAD] [PAD] [PAD] [PAD] [PAD] [PAD] [PAD] [PAD] [PAD] [PAD] [PAD] [PAD] [PAD] [PAD] [PAD] [PAD] [PAD] [PAD] [PAD] [PAD] [PAD] \n",
      "\n",
      "[CLS] La es ##cisión se realiza ane ##stes ##ian ##do la zona . [SEP] [PAD] [PAD] [PAD] [PAD] [PAD] [PAD] [PAD] [PAD] [PAD] [PAD] [PAD] [PAD] [PAD] [PAD] [PAD] [PAD] [PAD] [PAD] [PAD] [PAD] [PAD] [PAD] [PAD] [PAD] [PAD] [PAD] [PAD] [PAD] [PAD] [PAD] [PAD] [PAD] [PAD] [PAD] [PAD] [PAD] [PAD] [PAD] [PAD] [PAD] [PAD] [PAD] [PAD] [PAD] [PAD] [PAD] [PAD] [PAD] [PAD] [PAD] [PAD] [PAD] [PAD] [PAD] [PAD] [PAD] [PAD] [PAD] [PAD] [PAD] [PAD] [PAD] [PAD] [PAD] [PAD] [PAD] [PAD] [PAD] [PAD] [PAD] [PAD] [PAD] [PAD] [PAD] [PAD] [PAD] [PAD] [PAD] [PAD] [PAD] [PAD] [PAD] [PAD] [PAD] [PAD] [PAD] [PAD] [PAD] [PAD] [PAD] [PAD] [PAD] [PAD] [PAD] [PAD] [PAD] [PAD] [PAD] [PAD] [PAD] [PAD] [PAD] [PAD] [PAD] [PAD] [PAD] [PAD] [PAD] [PAD] [PAD] [PAD] [PAD] [PAD] [PAD] \n",
      "\n",
      "[CLS] Se ef ##ect ##u ##ó la in ##cisión con una ho ##ja de bis ##tur ##í número 15 y la posterior sut ##ura con seda negra 3 - 0 . [SEP] [PAD] [PAD] [PAD] [PAD] [PAD] [PAD] [PAD] [PAD] [PAD] [PAD] [PAD] [PAD] [PAD] [PAD] [PAD] [PAD] [PAD] [PAD] [PAD] [PAD] [PAD] [PAD] [PAD] [PAD] [PAD] [PAD] [PAD] [PAD] [PAD] [PAD] [PAD] [PAD] [PAD] [PAD] [PAD] [PAD] [PAD] [PAD] [PAD] [PAD] [PAD] [PAD] [PAD] [PAD] [PAD] [PAD] [PAD] [PAD] [PAD] [PAD] [PAD] [PAD] [PAD] [PAD] [PAD] [PAD] [PAD] [PAD] [PAD] [PAD] [PAD] [PAD] [PAD] [PAD] [PAD] [PAD] [PAD] [PAD] [PAD] [PAD] [PAD] [PAD] [PAD] [PAD] [PAD] [PAD] [PAD] [PAD] [PAD] [PAD] [PAD] [PAD] [PAD] [PAD] [PAD] [PAD] [PAD] [PAD] [PAD] [PAD] [PAD] [PAD] [PAD] [PAD] [PAD] [PAD] \n",
      "\n",
      "[CLS] El ci ##erre de la lesión derecha se realizó con Vic ##ryl y luego seda negra 3 - 0 . [SEP] [PAD] [PAD] [PAD] [PAD] [PAD] [PAD] [PAD] [PAD] [PAD] [PAD] [PAD] [PAD] [PAD] [PAD] [PAD] [PAD] [PAD] [PAD] [PAD] [PAD] [PAD] [PAD] [PAD] [PAD] [PAD] [PAD] [PAD] [PAD] [PAD] [PAD] [PAD] [PAD] [PAD] [PAD] [PAD] [PAD] [PAD] [PAD] [PAD] [PAD] [PAD] [PAD] [PAD] [PAD] [PAD] [PAD] [PAD] [PAD] [PAD] [PAD] [PAD] [PAD] [PAD] [PAD] [PAD] [PAD] [PAD] [PAD] [PAD] [PAD] [PAD] [PAD] [PAD] [PAD] [PAD] [PAD] [PAD] [PAD] [PAD] [PAD] [PAD] [PAD] [PAD] [PAD] [PAD] [PAD] [PAD] [PAD] [PAD] [PAD] [PAD] [PAD] [PAD] [PAD] [PAD] [PAD] [PAD] [PAD] [PAD] [PAD] [PAD] [PAD] [PAD] [PAD] [PAD] [PAD] [PAD] [PAD] [PAD] [PAD] [PAD] [PAD] [PAD] [PAD] [PAD] [PAD] \n",
      "\n",
      "[CLS] En el momento de la es ##cisión qui ##rú ##rgi ##ca de la lesión izquierda el aspecto mac ##ros ##có ##pico su ##pone un li ##po ##ma debido a su color ##ación interna y a que está en ##cap ##sula ##do . [SEP] [PAD] [PAD] [PAD] [PAD] [PAD] [PAD] [PAD] [PAD] [PAD] [PAD] [PAD] [PAD] [PAD] [PAD] [PAD] [PAD] [PAD] [PAD] [PAD] [PAD] [PAD] [PAD] [PAD] [PAD] [PAD] [PAD] [PAD] [PAD] [PAD] [PAD] [PAD] [PAD] [PAD] [PAD] [PAD] [PAD] [PAD] [PAD] [PAD] [PAD] [PAD] [PAD] [PAD] [PAD] [PAD] [PAD] [PAD] [PAD] [PAD] [PAD] [PAD] [PAD] [PAD] [PAD] [PAD] [PAD] [PAD] [PAD] [PAD] [PAD] [PAD] [PAD] [PAD] [PAD] [PAD] [PAD] [PAD] [PAD] [PAD] [PAD] [PAD] [PAD] [PAD] [PAD] [PAD] [PAD] [PAD] [PAD] [PAD] [PAD] [PAD] [PAD] [PAD] [PAD] \n",
      "\n",
      "[CLS] Para la lesión izquierda el estudio micro ##sc ##ó ##pico indica una lesión re ##act ##iva tapi ##zada por un epi ##teli ##o de rev ##esti ##miento plano est ##rati ##ficado de es ##pes ##or variable . [SEP] [PAD] [PAD] [PAD] [PAD] [PAD] [PAD] [PAD] [PAD] [PAD] [PAD] [PAD] [PAD] [PAD] [PAD] [PAD] [PAD] [PAD] [PAD] [PAD] [PAD] [PAD] [PAD] [PAD] [PAD] [PAD] [PAD] [PAD] [PAD] [PAD] [PAD] [PAD] [PAD] [PAD] [PAD] [PAD] [PAD] [PAD] [PAD] [PAD] [PAD] [PAD] [PAD] [PAD] [PAD] [PAD] [PAD] [PAD] [PAD] [PAD] [PAD] [PAD] [PAD] [PAD] [PAD] [PAD] [PAD] [PAD] [PAD] [PAD] [PAD] [PAD] [PAD] [PAD] [PAD] [PAD] [PAD] [PAD] [PAD] [PAD] [PAD] [PAD] [PAD] [PAD] [PAD] [PAD] [PAD] [PAD] [PAD] [PAD] [PAD] [PAD] [PAD] [PAD] [PAD] [PAD] [PAD] [PAD] [PAD] [PAD] \n",
      "\n",
      "[CLS] De ##bajo del epi ##teli ##o se observa una lesión conform ##ada por abundant ##es fibra ##s col ##ág ##enas dis ##puesta ##s al az ##ar entre ##mez ##cla ##das con fi ##bro ##blast ##os y algunos vas ##os sang ##u ##íne ##os del ##inea ##dos por el end ##ote ##lio de aspecto normal . [SEP] [PAD] [PAD] [PAD] [PAD] [PAD] [PAD] [PAD] [PAD] [PAD] [PAD] [PAD] [PAD] [PAD] [PAD] [PAD] [PAD] [PAD] [PAD] [PAD] [PAD] [PAD] [PAD] [PAD] [PAD] [PAD] [PAD] [PAD] [PAD] [PAD] [PAD] [PAD] [PAD] [PAD] [PAD] [PAD] [PAD] [PAD] [PAD] [PAD] [PAD] [PAD] [PAD] [PAD] [PAD] [PAD] [PAD] [PAD] [PAD] [PAD] [PAD] [PAD] [PAD] [PAD] [PAD] [PAD] [PAD] [PAD] [PAD] [PAD] [PAD] [PAD] [PAD] [PAD] [PAD] [PAD] [PAD] [PAD] [PAD] [PAD] [PAD] [PAD] \n",
      "\n",
      "[CLS] Esto con ##firma que se trata de un fi ##bro ##ma tra ##um ##ático . [SEP] [PAD] [PAD] [PAD] [PAD] [PAD] [PAD] [PAD] [PAD] [PAD] [PAD] [PAD] [PAD] [PAD] [PAD] [PAD] [PAD] [PAD] [PAD] [PAD] [PAD] [PAD] [PAD] [PAD] [PAD] [PAD] [PAD] [PAD] [PAD] [PAD] [PAD] [PAD] [PAD] [PAD] [PAD] [PAD] [PAD] [PAD] [PAD] [PAD] [PAD] [PAD] [PAD] [PAD] [PAD] [PAD] [PAD] [PAD] [PAD] [PAD] [PAD] [PAD] [PAD] [PAD] [PAD] [PAD] [PAD] [PAD] [PAD] [PAD] [PAD] [PAD] [PAD] [PAD] [PAD] [PAD] [PAD] [PAD] [PAD] [PAD] [PAD] [PAD] [PAD] [PAD] [PAD] [PAD] [PAD] [PAD] [PAD] [PAD] [PAD] [PAD] [PAD] [PAD] [PAD] [PAD] [PAD] [PAD] [PAD] [PAD] [PAD] [PAD] [PAD] [PAD] [PAD] [PAD] [PAD] [PAD] [PAD] [PAD] [PAD] [PAD] [PAD] [PAD] [PAD] [PAD] [PAD] [PAD] [PAD] [PAD] [PAD] [PAD] \n",
      "\n",
      "[CLS] El estudio his ##top ##ato ##lógico de la lesión de la mu ##cosa derecha revela la presencia de abundant ##es espacios red ##onde ##ados va ##cí ##os rode ##ados por numerosos his ##tio ##cito ##s de aspecto es ##pu ##mos ##o , lo cual indica que se encuentran fa ##go ##cita ##ndo l ##í ##pido ##s y tienen ese aspecto . [SEP] [PAD] [PAD] [PAD] [PAD] [PAD] [PAD] [PAD] [PAD] [PAD] [PAD] [PAD] [PAD] [PAD] [PAD] [PAD] [PAD] [PAD] [PAD] [PAD] [PAD] [PAD] [PAD] [PAD] [PAD] [PAD] [PAD] [PAD] [PAD] [PAD] [PAD] [PAD] [PAD] [PAD] [PAD] [PAD] [PAD] [PAD] [PAD] [PAD] [PAD] [PAD] [PAD] [PAD] [PAD] [PAD] [PAD] [PAD] [PAD] [PAD] [PAD] [PAD] [PAD] [PAD] [PAD] [PAD] [PAD] [PAD] [PAD] [PAD] [PAD] [PAD] [PAD] [PAD] [PAD] [PAD] \n",
      "\n",
      "[CLS] Tras la ob ##ten ##ción de las imágenes del examen micro ##sc ##ó ##pico la paciente indica que 10 años antes había sido some ##tida a un tratamiento de in ##fil ##tra ##ciones fac ##iales con bio ##pol ##íme ##ros en la frente y en las com ##isu ##ras . [SEP] [PAD] [PAD] [PAD] [PAD] [PAD] [PAD] [PAD] [PAD] [PAD] [PAD] [PAD] [PAD] [PAD] [PAD] [PAD] [PAD] [PAD] [PAD] [PAD] [PAD] [PAD] [PAD] [PAD] [PAD] [PAD] [PAD] [PAD] [PAD] [PAD] [PAD] [PAD] [PAD] [PAD] [PAD] [PAD] [PAD] [PAD] [PAD] [PAD] [PAD] [PAD] [PAD] [PAD] [PAD] [PAD] [PAD] [PAD] [PAD] [PAD] [PAD] [PAD] [PAD] [PAD] [PAD] [PAD] [PAD] [PAD] [PAD] [PAD] [PAD] [PAD] [PAD] [PAD] [PAD] [PAD] [PAD] [PAD] [PAD] [PAD] [PAD] [PAD] [PAD] [PAD] [PAD] [PAD] [PAD] \n",
      "\n",
      "[CLS] La paciente no ref ##iri ##ó ningún sí ##nto ##ma asociado a los efectos ad ##versos . [SEP] [PAD] [PAD] [PAD] [PAD] [PAD] [PAD] [PAD] [PAD] [PAD] [PAD] [PAD] [PAD] [PAD] [PAD] [PAD] [PAD] [PAD] [PAD] [PAD] [PAD] [PAD] [PAD] [PAD] [PAD] [PAD] [PAD] [PAD] [PAD] [PAD] [PAD] [PAD] [PAD] [PAD] [PAD] [PAD] [PAD] [PAD] [PAD] [PAD] [PAD] [PAD] [PAD] [PAD] [PAD] [PAD] [PAD] [PAD] [PAD] [PAD] [PAD] [PAD] [PAD] [PAD] [PAD] [PAD] [PAD] [PAD] [PAD] [PAD] [PAD] [PAD] [PAD] [PAD] [PAD] [PAD] [PAD] [PAD] [PAD] [PAD] [PAD] [PAD] [PAD] [PAD] [PAD] [PAD] [PAD] [PAD] [PAD] [PAD] [PAD] [PAD] [PAD] [PAD] [PAD] [PAD] [PAD] [PAD] [PAD] [PAD] [PAD] [PAD] [PAD] [PAD] [PAD] [PAD] [PAD] [PAD] [PAD] [PAD] [PAD] [PAD] [PAD] [PAD] [PAD] [PAD] [PAD] [PAD] [PAD] [PAD] \n",
      "\n"
     ]
    }
   ],
   "source": [
    "check_id_frag = sum(dev_frag[:check_id])\n",
    "for frag in dev_ind[check_id_frag:check_id_frag + dev_frag[check_id]]:\n",
    "    print(' '.join([tokenizer._token_dict_inv[ind] for ind in frag]), \"\\n\")"
   ]
  },
  {
   "cell_type": "code",
   "execution_count": 103,
   "metadata": {},
   "outputs": [
    {
     "data": {
      "text/plain": [
       "count    4118.000000\n",
       "mean        0.830986\n",
       "std         1.249374\n",
       "min         0.000000\n",
       "25%         0.000000\n",
       "50%         0.000000\n",
       "75%         1.000000\n",
       "max        14.000000\n",
       "dtype: float64"
      ]
     },
     "execution_count": 103,
     "metadata": {},
     "output_type": "execute_result"
    }
   ],
   "source": [
    "# Fragment labels distribution\n",
    "pd.Series(np.sum(dev_y, axis=1)).describe()"
   ]
  },
  {
   "cell_type": "markdown",
   "metadata": {},
   "source": [
    "### Train-Dev abstracts corpus"
   ]
  },
  {
   "cell_type": "code",
   "execution_count": 104,
   "metadata": {},
   "outputs": [
    {
     "data": {
      "text/plain": [
       "0"
      ]
     },
     "execution_count": 104,
     "metadata": {},
     "output_type": "execute_result"
    }
   ],
   "source": [
    "len(set(df_text_all_abs[\"doc_id\"]) - set(df_codes_d_all_abs[\"doc_id\"]))"
   ]
  },
  {
   "cell_type": "code",
   "execution_count": 105,
   "metadata": {},
   "outputs": [],
   "source": [
    "all_abs_doc_list = sorted(set(df_codes_d_all_abs[\"doc_id\"]))"
   ]
  },
  {
   "cell_type": "code",
   "execution_count": 106,
   "metadata": {},
   "outputs": [
    {
     "data": {
      "text/plain": [
       "11515"
      ]
     },
     "execution_count": 106,
     "metadata": {},
     "output_type": "execute_result"
    }
   ],
   "source": [
    "len(all_abs_doc_list)"
   ]
  },
  {
   "cell_type": "code",
   "execution_count": 107,
   "metadata": {},
   "outputs": [
    {
     "name": "stderr",
     "output_type": "stream",
     "text": [
      "100%|██████████| 11515/11515 [00:24<00:00, 464.07it/s]\n"
     ]
    },
    {
     "name": "stdout",
     "output_type": "stream",
     "text": [
      "CPU times: user 25.2 s, sys: 106 ms, total: 25.3 s\n",
      "Wall time: 25 s\n"
     ]
    }
   ],
   "source": [
    "%%time\n",
    "all_abs_ind, all_abs_seg, all_abs_y, all_abs_frag = create_frag_input_data_bert(df_text=df_text_all_abs, text_col=text_col, \n",
    "                                     df_label=df_codes_d_all_abs, doc_list=all_abs_doc_list, tokenizer=tokenizer, \n",
    "                                     lab_encoder=mlb_encoder, seq_len=SEQ_LEN)"
   ]
  },
  {
   "cell_type": "code",
   "execution_count": 108,
   "metadata": {},
   "outputs": [
    {
     "data": {
      "text/plain": [
       "(11515, 128)"
      ]
     },
     "execution_count": 108,
     "metadata": {},
     "output_type": "execute_result"
    }
   ],
   "source": [
    "all_abs_ind.shape"
   ]
  },
  {
   "cell_type": "code",
   "execution_count": 109,
   "metadata": {},
   "outputs": [
    {
     "data": {
      "text/plain": [
       "(11515, 128)"
      ]
     },
     "execution_count": 109,
     "metadata": {},
     "output_type": "execute_result"
    }
   ],
   "source": [
    "all_abs_seg.shape"
   ]
  },
  {
   "cell_type": "code",
   "execution_count": 110,
   "metadata": {},
   "outputs": [
    {
     "data": {
      "text/plain": [
       "(11515, 2194)"
      ]
     },
     "execution_count": 110,
     "metadata": {},
     "output_type": "execute_result"
    }
   ],
   "source": [
    "all_abs_y.shape"
   ]
  },
  {
   "cell_type": "code",
   "execution_count": 111,
   "metadata": {},
   "outputs": [
    {
     "data": {
      "text/plain": [
       "11515"
      ]
     },
     "execution_count": 111,
     "metadata": {},
     "output_type": "execute_result"
    }
   ],
   "source": [
    "len(all_abs_frag)"
   ]
  },
  {
   "cell_type": "code",
   "execution_count": 112,
   "metadata": {},
   "outputs": [
    {
     "data": {
      "text/plain": [
       "count    11515.0\n",
       "mean         1.0\n",
       "std          0.0\n",
       "min          1.0\n",
       "25%          1.0\n",
       "50%          1.0\n",
       "75%          1.0\n",
       "max          1.0\n",
       "dtype: float64"
      ]
     },
     "execution_count": 112,
     "metadata": {},
     "output_type": "execute_result"
    }
   ],
   "source": [
    "# Check n_frag distribution across texts\n",
    "pd.Series(all_abs_frag).describe()"
   ]
  },
  {
   "cell_type": "code",
   "execution_count": 113,
   "metadata": {},
   "outputs": [],
   "source": [
    "# Inspect a randomly selected text and its encoded version\n",
    "check_id = np.random.randint(low=0, high=len(all_abs_doc_list), size=1)[0]"
   ]
  },
  {
   "cell_type": "code",
   "execution_count": 114,
   "metadata": {},
   "outputs": [
    {
     "data": {
      "text/plain": [
       "10019"
      ]
     },
     "execution_count": 114,
     "metadata": {},
     "output_type": "execute_result"
    }
   ],
   "source": [
    "check_id"
   ]
  },
  {
   "cell_type": "code",
   "execution_count": 115,
   "metadata": {},
   "outputs": [
    {
     "data": {
      "text/plain": [
       "'lil-657011'"
      ]
     },
     "execution_count": 115,
     "metadata": {},
     "output_type": "execute_result"
    }
   ],
   "source": [
    "all_abs_doc_list[check_id]"
   ]
  },
  {
   "cell_type": "code",
   "execution_count": 116,
   "metadata": {
    "scrolled": true
   },
   "outputs": [
    {
     "data": {
      "text/plain": [
       "'El tumor de Krukenberg (descrito por un médico alemán que tenía el mismo nombre) es un tumor de ovario que representa la metástasis de una tumoración primaria usualmente ubicada en el estómago. En este trabajo se realiza una breve reseña histórica y se presentan cinco casos manejados en nuestro servicio, con el fin de mostrar la complejidad de su diagnóstico, el abordaje terapéutico y el pésimo pronóstico que esta enfermedad tiene.'"
      ]
     },
     "execution_count": 116,
     "metadata": {},
     "output_type": "execute_result"
    }
   ],
   "source": [
    "df_text_all_abs[df_text_all_abs[\"doc_id\"] == all_abs_doc_list[check_id]][text_col].values[0]"
   ]
  },
  {
   "cell_type": "code",
   "execution_count": 117,
   "metadata": {},
   "outputs": [
    {
     "name": "stdout",
     "output_type": "stream",
     "text": [
      "[('c16.9',)] \n",
      "\n"
     ]
    }
   ],
   "source": [
    "check_id_frag = sum(all_abs_frag[:check_id])\n",
    "for i in range(check_id_frag, check_id_frag + all_abs_frag[check_id]):\n",
    "    print(mlb_encoder.inverse_transform(np.array([all_abs_y[i]])), \"\\n\")"
   ]
  },
  {
   "cell_type": "code",
   "execution_count": 118,
   "metadata": {},
   "outputs": [
    {
     "name": "stdout",
     "output_type": "stream",
     "text": [
      "[CLS] El tumor de Kr ##uke ##nberg ( descrito por un médico alemán que tenía el mismo nombre ) es un tumor de ova ##rio que representa la met ##ást ##asis de una tumor ##ación primaria usualmente ubicada en el est ##óm ##ago . En este trabajo se realiza una breve res ##eña histórica y se presentan cinco casos man ##eja ##dos en nuestro servicio , con el fin de mostrar la com ##ple ##ji ##dad de su dia ##gnóstico , el abord ##aje ter ##ap ##éu ##tico y el pés ##imo pro ##nó ##stico que esta enfermedad tiene . [SEP] [PAD] [PAD] [PAD] [PAD] [PAD] [PAD] [PAD] [PAD] [PAD] [PAD] [PAD] [PAD] [PAD] [PAD] [PAD] [PAD] [PAD] [PAD] [PAD] [PAD] [PAD] [PAD] [PAD] [PAD] [PAD] [PAD] [PAD] \n",
      "\n"
     ]
    }
   ],
   "source": [
    "check_id_frag = sum(all_abs_frag[:check_id])\n",
    "for frag in all_abs_ind[check_id_frag:check_id_frag + all_abs_frag[check_id]]:\n",
    "    print(' '.join([tokenizer._token_dict_inv[ind] for ind in frag]), \"\\n\")"
   ]
  },
  {
   "cell_type": "code",
   "execution_count": 119,
   "metadata": {},
   "outputs": [
    {
     "data": {
      "text/plain": [
       "count    11515.000000\n",
       "mean         1.365610\n",
       "std          0.731603\n",
       "min          1.000000\n",
       "25%          1.000000\n",
       "50%          1.000000\n",
       "75%          2.000000\n",
       "max         10.000000\n",
       "dtype: float64"
      ]
     },
     "execution_count": 119,
     "metadata": {},
     "output_type": "execute_result"
    }
   ],
   "source": [
    "# Fragment labels distribution\n",
    "pd.Series(np.sum(all_abs_y, axis=1)).describe()"
   ]
  },
  {
   "cell_type": "markdown",
   "metadata": {},
   "source": [
    "### Training & Development & Abstracts corpus\n",
    "\n",
    "We merge the previously generated datasets:"
   ]
  },
  {
   "cell_type": "code",
   "execution_count": 120,
   "metadata": {},
   "outputs": [],
   "source": [
    "# Indices\n",
    "train_dev_abs_ind = np.concatenate((train_ind, dev_ind, all_abs_ind))"
   ]
  },
  {
   "cell_type": "code",
   "execution_count": 121,
   "metadata": {},
   "outputs": [
    {
     "data": {
      "text/plain": [
       "(23386, 128)"
      ]
     },
     "execution_count": 121,
     "metadata": {},
     "output_type": "execute_result"
    }
   ],
   "source": [
    "train_dev_abs_ind.shape"
   ]
  },
  {
   "cell_type": "code",
   "execution_count": 122,
   "metadata": {},
   "outputs": [],
   "source": [
    "# Segments\n",
    "train_dev_abs_seg = np.concatenate((train_seg, dev_seg, all_abs_seg))"
   ]
  },
  {
   "cell_type": "code",
   "execution_count": 123,
   "metadata": {},
   "outputs": [
    {
     "data": {
      "text/plain": [
       "(23386, 128)"
      ]
     },
     "execution_count": 123,
     "metadata": {},
     "output_type": "execute_result"
    }
   ],
   "source": [
    "train_dev_abs_seg.shape"
   ]
  },
  {
   "cell_type": "code",
   "execution_count": 124,
   "metadata": {},
   "outputs": [],
   "source": [
    "# y\n",
    "train_dev_abs_y = np.concatenate((train_y, dev_y, all_abs_y))"
   ]
  },
  {
   "cell_type": "code",
   "execution_count": 125,
   "metadata": {},
   "outputs": [
    {
     "data": {
      "text/plain": [
       "(23386, 2194)"
      ]
     },
     "execution_count": 125,
     "metadata": {},
     "output_type": "execute_result"
    }
   ],
   "source": [
    "train_dev_abs_y.shape"
   ]
  },
  {
   "cell_type": "markdown",
   "metadata": {},
   "source": [
    "## Fine-tuning\n",
    "\n",
    "Using the corpus of labeled sentences, we fine-tune the model on a multi-label sentence classification task."
   ]
  },
  {
   "cell_type": "code",
   "execution_count": 126,
   "metadata": {},
   "outputs": [],
   "source": [
    "from keras.backend.tensorflow_backend import set_session\n",
    "\n",
    "# Prevent GPU memory allocation problems\n",
    "config = tf.ConfigProto()\n",
    "config.gpu_options.allow_growth = True\n",
    "set_session(tf.Session(config=config))"
   ]
  },
  {
   "cell_type": "code",
   "execution_count": 127,
   "metadata": {},
   "outputs": [],
   "source": [
    "from keras_bert import load_trained_model_from_checkpoint\n",
    "\n",
    "model = load_trained_model_from_checkpoint(\n",
    "    config_file=config_path, \n",
    "    checkpoint_file=checkpoint_path, \n",
    "    training=training,                                       \n",
    "    trainable=trainable, \n",
    "    seq_len=SEQ_LEN\n",
    ")"
   ]
  },
  {
   "cell_type": "code",
   "execution_count": 128,
   "metadata": {},
   "outputs": [
    {
     "data": {
      "text/plain": [
       "[<tf.Tensor 'Input-Token:0' shape=(?, 128) dtype=float32>,\n",
       " <tf.Tensor 'Input-Segment:0' shape=(?, 128) dtype=float32>]"
      ]
     },
     "execution_count": 128,
     "metadata": {},
     "output_type": "execute_result"
    }
   ],
   "source": [
    "model.inputs"
   ]
  },
  {
   "cell_type": "code",
   "execution_count": 129,
   "metadata": {},
   "outputs": [
    {
     "data": {
      "text/plain": [
       "[<tf.Tensor 'Encoder-12-FeedForward-Norm/add_1:0' shape=(?, 128, 768) dtype=float32>]"
      ]
     },
     "execution_count": 129,
     "metadata": {},
     "output_type": "execute_result"
    }
   ],
   "source": [
    "model.outputs"
   ]
  },
  {
   "cell_type": "code",
   "execution_count": 130,
   "metadata": {},
   "outputs": [],
   "source": [
    "from keras.layers import Dense, Activation\n",
    "from keras.models import Model\n",
    "from keras.initializers import glorot_uniform\n",
    "from keras_bert.layers import Extract\n",
    "\n",
    "dense_cls = Extract(index=0, name='Extract')(model.output) # In order to extract CLS token embedding\n",
    "dense_out = Dense(units=num_labels, kernel_initializer=glorot_uniform(seed=random_seed))(dense_cls) # Multi-label classification\n",
    "outputs = Activation('sigmoid')(dense_out)\n",
    "\n",
    "model = Model(model.inputs, outputs)"
   ]
  },
  {
   "cell_type": "code",
   "execution_count": 131,
   "metadata": {},
   "outputs": [
    {
     "data": {
      "text/plain": [
       "[<tf.Tensor 'Input-Token:0' shape=(?, 128) dtype=float32>,\n",
       " <tf.Tensor 'Input-Segment:0' shape=(?, 128) dtype=float32>]"
      ]
     },
     "execution_count": 131,
     "metadata": {},
     "output_type": "execute_result"
    }
   ],
   "source": [
    "model.inputs"
   ]
  },
  {
   "cell_type": "code",
   "execution_count": 132,
   "metadata": {},
   "outputs": [
    {
     "data": {
      "text/plain": [
       "[<tf.Tensor 'activation_1/Sigmoid:0' shape=(?, 2194) dtype=float32>]"
      ]
     },
     "execution_count": 132,
     "metadata": {},
     "output_type": "execute_result"
    }
   ],
   "source": [
    "model.outputs"
   ]
  },
  {
   "cell_type": "code",
   "execution_count": 133,
   "metadata": {},
   "outputs": [],
   "source": [
    "# Sample weights"
   ]
  },
  {
   "cell_type": "code",
   "execution_count": 134,
   "metadata": {},
   "outputs": [],
   "source": [
    "n_train_dev_frags = sum(train_frag) + sum(dev_frag)"
   ]
  },
  {
   "cell_type": "code",
   "execution_count": 135,
   "metadata": {},
   "outputs": [
    {
     "data": {
      "text/plain": [
       "11871"
      ]
     },
     "execution_count": 135,
     "metadata": {},
     "output_type": "execute_result"
    }
   ],
   "source": [
    "n_train_dev_frags"
   ]
  },
  {
   "cell_type": "code",
   "execution_count": 136,
   "metadata": {},
   "outputs": [],
   "source": [
    "train_dev_abs_weights = np.array([train_weight] * n_train_dev_frags + [all_abs_weight] * (train_dev_abs_y.shape[0] - \n",
    "                                                                                      n_train_dev_frags))"
   ]
  },
  {
   "cell_type": "code",
   "execution_count": null,
   "metadata": {},
   "outputs": [
    {
     "name": "stdout",
     "output_type": "stream",
     "text": [
      "Epoch 1/34\n",
      "23386/23386 [==============================] - 440s 19ms/step - loss: 0.3587\n",
      "Epoch 2/34\n",
      " 7168/23386 [========>.....................] - ETA: 5:00 - loss: 0.0256"
     ]
    }
   ],
   "source": [
    "%%time\n",
    "from keras_radam import RAdam\n",
    "\n",
    "model.compile(\n",
    "    optimizer=RAdam(learning_rate=LR),\n",
    "    loss='binary_crossentropy'\n",
    ")\n",
    "\n",
    "history = model.fit(\n",
    "    x=[train_dev_abs_ind, train_dev_abs_seg],\n",
    "    y=train_dev_abs_y,\n",
    "    epochs=EPOCHS,\n",
    "    batch_size=BATCH_SIZE,\n",
    "    sample_weight=train_dev_abs_weights,\n",
    "    shuffle=True\n",
    ")"
   ]
  },
  {
   "cell_type": "markdown",
   "metadata": {},
   "source": [
    "## Test set predictions\n",
    "\n",
    "Finally, the predictions made by the model on the test set are saved. For this purpose, firstly, each sentence from the test corpus must be converted into a sequence of subwords (input IDs and attention mask arrays). Then, the predictions made by the model at the sentence-level are saved, to be further evaluated at document-level (see `results/CodiEsp-D/Evaluation.ipynb`)."
   ]
  },
  {
   "cell_type": "code",
   "execution_count": 137,
   "metadata": {},
   "outputs": [
    {
     "name": "stdout",
     "output_type": "stream",
     "text": [
      "CPU times: user 3.67 ms, sys: 3.93 ms, total: 7.6 ms\n",
      "Wall time: 6.56 ms\n"
     ]
    }
   ],
   "source": [
    "%%time\n",
    "test_path = corpus_path + \"test/text_files/\"\n",
    "test_files = [f for f in os.listdir(test_path) if os.path.isfile(test_path + f)]\n",
    "test_data = load_text_files(test_files, test_path)\n",
    "df_text_test = pd.DataFrame({'doc_id': [s.split('.txt')[0] for s in test_files], 'raw_text': test_data})"
   ]
  },
  {
   "cell_type": "code",
   "execution_count": 138,
   "metadata": {},
   "outputs": [
    {
     "data": {
      "text/plain": [
       "(250, 2)"
      ]
     },
     "execution_count": 138,
     "metadata": {},
     "output_type": "execute_result"
    }
   ],
   "source": [
    "df_text_test.shape"
   ]
  },
  {
   "cell_type": "code",
   "execution_count": 139,
   "metadata": {},
   "outputs": [
    {
     "data": {
      "text/html": [
       "<div>\n",
       "<style scoped>\n",
       "    .dataframe tbody tr th:only-of-type {\n",
       "        vertical-align: middle;\n",
       "    }\n",
       "\n",
       "    .dataframe tbody tr th {\n",
       "        vertical-align: top;\n",
       "    }\n",
       "\n",
       "    .dataframe thead th {\n",
       "        text-align: right;\n",
       "    }\n",
       "</style>\n",
       "<table border=\"1\" class=\"dataframe\">\n",
       "  <thead>\n",
       "    <tr style=\"text-align: right;\">\n",
       "      <th></th>\n",
       "      <th>doc_id</th>\n",
       "      <th>raw_text</th>\n",
       "    </tr>\n",
       "  </thead>\n",
       "  <tbody>\n",
       "    <tr>\n",
       "      <th>0</th>\n",
       "      <td>S0365-66912007000900014-1</td>\n",
       "      <td>Paciente varón de 34 años de edad diagnosticad...</td>\n",
       "    </tr>\n",
       "    <tr>\n",
       "      <th>1</th>\n",
       "      <td>S0211-69952014000200012-1</td>\n",
       "      <td>Un varón de 48 años, de raza caucásica, con IR...</td>\n",
       "    </tr>\n",
       "    <tr>\n",
       "      <th>2</th>\n",
       "      <td>S1139-76322017000200009-1</td>\n",
       "      <td>Presentamos el caso clínico de un niño de cinc...</td>\n",
       "    </tr>\n",
       "    <tr>\n",
       "      <th>3</th>\n",
       "      <td>S0210-48062010000100019-1</td>\n",
       "      <td>Paciente varón de 53 años, diagnosticado de es...</td>\n",
       "    </tr>\n",
       "    <tr>\n",
       "      <th>4</th>\n",
       "      <td>S1130-14732005000500006-1</td>\n",
       "      <td>Se trata de un varón de 20 años diagnosticado ...</td>\n",
       "    </tr>\n",
       "  </tbody>\n",
       "</table>\n",
       "</div>"
      ],
      "text/plain": [
       "                      doc_id  \\\n",
       "0  S0365-66912007000900014-1   \n",
       "1  S0211-69952014000200012-1   \n",
       "2  S1139-76322017000200009-1   \n",
       "3  S0210-48062010000100019-1   \n",
       "4  S1130-14732005000500006-1   \n",
       "\n",
       "                                            raw_text  \n",
       "0  Paciente varón de 34 años de edad diagnosticad...  \n",
       "1  Un varón de 48 años, de raza caucásica, con IR...  \n",
       "2  Presentamos el caso clínico de un niño de cinc...  \n",
       "3  Paciente varón de 53 años, diagnosticado de es...  \n",
       "4  Se trata de un varón de 20 años diagnosticado ...  "
      ]
     },
     "execution_count": 139,
     "metadata": {},
     "output_type": "execute_result"
    }
   ],
   "source": [
    "df_text_test.head()"
   ]
  },
  {
   "cell_type": "code",
   "execution_count": 140,
   "metadata": {},
   "outputs": [
    {
     "data": {
      "text/plain": [
       "'Paciente varón de 34 años de edad diagnosticado de varicela tres semanas antes ya resuelta sin complicaciones. Acude a urgencias por presentar disminución de agudeza visual en su ojo izquierdo.\\nEn la exploración oftalmológica presenta una agudeza visual corregida de 1 en el ojo derecho (OD) y de 0,6 en el ojo izquierdo (OI). El estudio con lámpara de hendidura demuestra en el OI un tyndall celular de 4+, precipitados queráticos inferiores (3+) y sin presentar la cornea tinción con fluoresceína, siendo normal el OD. La presión intraocular fue de 16mmHg en ambos ojos.\\nEn la exploración fundoscópica inicial del OI se aprecia leve vitritis (1+) sin focos de retinitis.\\nSe instaura tratamiento tópico con corticoides y midriáticos. A los 2 días se observa leve disminución del tyndall celular (3+) en cámara anterior pero en fondo de ojo aparece un foco periférico de retinitis necrotizante en el área temporal asociado a vasculitis retiniana.\\nSe ingresa al paciente y se instaura tratamiento con aciclovir intravenoso (10 mgr/kg/8 horas), antiagregación (ácido acetilsalicílico 150 mgr/24 horas) y se mantiene el tratamiento tópico. Asimismo se realiza fotocoagulación profiláctica con láser de argón rodeando la zona de necrosis retiniana.\\n\\nA las 48 horas y previa comprobación de una buena respuesta con disminución del foco de retinitis, se introducen corticoides sistémicos a dosis de 1 mg/kg/d, presentando una rápida mejoría de la agudeza visual, con disminución de la vitritis y menor tamaño del foco de retinitis. A las 2 semanas se pasa a vía oral el tratamiento antiviral (famciclovir 500 mgr/12 horas) y se inicia un descenso de corticoides de manera gradual a razón de 10 mgr cada semana. Se continúa con el tratamiento antiviral a dosis de mantenimiento durante 6 semanas, realizando controles analíticos periódicos hemograma y bioquímica para detectar afectación renal.\\nTras 6 meses del comienzo del cuadro, el paciente continúa asintomático, con una agudeza visual de unidad en OI, cicatrización de las lesiones retinianas y ausencia completa de actividad inflamatoria ocular en ambos ojos.\\nDurante el ingreso se constató la infección reciente por el virus varicela zoster mediante seroconversión.\\n\\n'"
      ]
     },
     "execution_count": 140,
     "metadata": {},
     "output_type": "execute_result"
    }
   ],
   "source": [
    "df_text_test.raw_text[0]"
   ]
  },
  {
   "cell_type": "code",
   "execution_count": 141,
   "metadata": {},
   "outputs": [],
   "source": [
    "test_doc_list = sorted(set(df_text_test[\"doc_id\"]))"
   ]
  },
  {
   "cell_type": "code",
   "execution_count": 142,
   "metadata": {},
   "outputs": [
    {
     "data": {
      "text/plain": [
       "250"
      ]
     },
     "execution_count": 142,
     "metadata": {},
     "output_type": "execute_result"
    }
   ],
   "source": [
    "len(test_doc_list)"
   ]
  },
  {
   "cell_type": "code",
   "execution_count": 143,
   "metadata": {},
   "outputs": [
    {
     "name": "stdout",
     "output_type": "stream",
     "text": [
      "CPU times: user 2.39 ms, sys: 7.95 ms, total: 10.3 ms\n",
      "Wall time: 9.41 ms\n"
     ]
    }
   ],
   "source": [
    "%%time\n",
    "ss_sub_corpus_path = ss_corpus_path + \"test/\"\n",
    "ss_files = [f for f in os.listdir(ss_sub_corpus_path) if os.path.isfile(ss_sub_corpus_path + f)]\n",
    "ss_dict_test = load_ss_files(ss_files, ss_sub_corpus_path)"
   ]
  },
  {
   "cell_type": "code",
   "execution_count": 144,
   "metadata": {},
   "outputs": [
    {
     "name": "stderr",
     "output_type": "stream",
     "text": [
      "100%|██████████| 250/250 [00:01<00:00, 168.13it/s]"
     ]
    },
    {
     "name": "stdout",
     "output_type": "stream",
     "text": [
      "CPU times: user 1.54 s, sys: 36.5 ms, total: 1.58 s\n",
      "Wall time: 1.53 s\n"
     ]
    },
    {
     "name": "stderr",
     "output_type": "stream",
     "text": [
      "\n"
     ]
    }
   ],
   "source": [
    "%%time\n",
    "test_ind, test_seg, _, test_frag, _ = ss_create_frag_input_data_bert(df_text=df_text_test, \n",
    "                                                  text_col=text_col,\n",
    "                                                  # Since labels are ignored, we pass df_codes_train_ner as df_ann\n",
    "                                                  df_ann=df_codes_train_ner, doc_list=test_doc_list, ss_dict=ss_dict_test,\n",
    "                                                  tokenizer=tokenizer, lab_encoder=mlb_encoder, seq_len=SEQ_LEN,\n",
    "                                                  greedy=False)"
   ]
  },
  {
   "cell_type": "code",
   "execution_count": 113,
   "metadata": {},
   "outputs": [
    {
     "name": "stdout",
     "output_type": "stream",
     "text": [
      "CPU times: user 14.9 s, sys: 1.68 s, total: 16.6 s\n",
      "Wall time: 16.9 s\n"
     ]
    }
   ],
   "source": [
    "%%time\n",
    "test_preds = model.predict([test_ind, test_seg])"
   ]
  },
  {
   "cell_type": "code",
   "execution_count": 114,
   "metadata": {},
   "outputs": [
    {
     "data": {
      "text/plain": [
       "(3950, 727)"
      ]
     },
     "execution_count": 114,
     "metadata": {},
     "output_type": "execute_result"
    }
   ],
   "source": [
    "test_preds.shape"
   ]
  },
  {
   "cell_type": "code",
   "execution_count": 145,
   "metadata": {},
   "outputs": [],
   "source": [
    "results_dir_path = \"../results/CodiEsp-D/\""
   ]
  },
  {
   "cell_type": "code",
   "execution_count": 178,
   "metadata": {},
   "outputs": [
    {
     "name": "stdout",
     "output_type": "stream",
     "text": [
      "CPU times: user 2.21 ms, sys: 4.65 ms, total: 6.87 ms\n",
      "Wall time: 6.02 ms\n"
     ]
    }
   ],
   "source": [
    "%%time\n",
    "np.save(file=results_dir_path + \"predictions/mbert_galen_seed_\" + str(random_seed) + \"_test_preds.npy\", arr=test_preds)"
   ]
  }
 ],
 "metadata": {
  "kernelspec": {
   "display_name": "Python 3",
   "language": "python",
   "name": "python3"
  },
  "language_info": {
   "codemirror_mode": {
    "name": "ipython",
    "version": 3
   },
   "file_extension": ".py",
   "mimetype": "text/x-python",
   "name": "python",
   "nbconvert_exporter": "python",
   "pygments_lexer": "ipython3",
   "version": "3.6.5"
  }
 },
 "nbformat": 4,
 "nbformat_minor": 4
}
