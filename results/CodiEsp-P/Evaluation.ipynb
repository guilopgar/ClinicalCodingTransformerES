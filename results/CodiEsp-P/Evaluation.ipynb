{
 "cells": [
  {
   "cell_type": "markdown",
   "metadata": {},
   "source": [
    "# Model evaluation\n",
    "\n",
    "In this notebook, the transformer-based models analyzed in this work are evaluated according to their clinical coding performance achieved in the CodiEsp-P task."
   ]
  },
  {
   "cell_type": "code",
   "execution_count": 1,
   "metadata": {},
   "outputs": [],
   "source": [
    "# Auxiliary components\n",
    "import sys\n",
    "sys.path.append(\"../../\")\n",
    "from nlp_utils import *"
   ]
  },
  {
   "cell_type": "code",
   "execution_count": 2,
   "metadata": {},
   "outputs": [],
   "source": [
    "corpus_path = \"../../datasets/codiesp_v4/\"\n",
    "\n",
    "# Both arrays were saved in CodiEsp-P_XLM-R_Fine-Tuning.ipynb\n",
    "test_doc_list = np.load(\"test_docs.npy\")\n",
    "codes = np.load(\"classes.npy\")"
   ]
  },
  {
   "cell_type": "markdown",
   "metadata": {},
   "source": [
    "## Load models predictions\n",
    "\n",
    "We load the coding predictions made by the models at sentence-level, and we further convert them to document-level predictions."
   ]
  },
  {
   "cell_type": "code",
   "execution_count": 3,
   "metadata": {},
   "outputs": [],
   "source": [
    "preds_dir = \"predictions/\"\n",
    "rnd_seeds = list(range(5))"
   ]
  },
  {
   "cell_type": "markdown",
   "metadata": {},
   "source": [
    "### mBERT"
   ]
  },
  {
   "cell_type": "code",
   "execution_count": 4,
   "metadata": {},
   "outputs": [],
   "source": [
    "model_name = \"mbert\"\n",
    "mbert_test_frags = np.load(model_name + \"_test_frags.npy\")\n",
    "mbert_doc_preds = [max_fragment(y_frag_pred=np.load(preds_dir + model_name + \"_seed_\" + str(i) + \"_test_preds.npy\"), \n",
    "                            n_fragments=mbert_test_frags) for i in rnd_seeds]"
   ]
  },
  {
   "cell_type": "markdown",
   "metadata": {},
   "source": [
    "### mBERT-Galén"
   ]
  },
  {
   "cell_type": "code",
   "execution_count": 5,
   "metadata": {},
   "outputs": [],
   "source": [
    "model_name = \"mbert_galen\"\n",
    "mbert_galen_doc_preds = [max_fragment(y_frag_pred=np.load(preds_dir + model_name + \"_seed_\" + str(i) + \"_test_preds.npy\"), \n",
    "                            n_fragments=mbert_test_frags) for i in rnd_seeds]"
   ]
  },
  {
   "cell_type": "code",
   "execution_count": null,
   "metadata": {},
   "outputs": [],
   "source": []
  },
  {
   "cell_type": "markdown",
   "metadata": {},
   "source": [
    "### XLM-R"
   ]
  },
  {
   "cell_type": "code",
   "execution_count": 6,
   "metadata": {},
   "outputs": [],
   "source": [
    "model_name = \"xlm_r\"\n",
    "xlmr_test_frags = np.load(model_name + \"_test_frags.npy\")\n",
    "xlmr_doc_preds = [max_fragment(y_frag_pred=np.load(preds_dir + model_name + \"_seed_\" + str(i) + \"_test_preds.npy\"), \n",
    "                            n_fragments=xlmr_test_frags) for i in rnd_seeds]"
   ]
  },
  {
   "cell_type": "markdown",
   "metadata": {},
   "source": [
    "### XLM-R-Galén"
   ]
  },
  {
   "cell_type": "code",
   "execution_count": 7,
   "metadata": {},
   "outputs": [],
   "source": [
    "model_name = \"xlm_r_galen\"\n",
    "xlmr_galen_doc_preds = [max_fragment(y_frag_pred=np.load(preds_dir + model_name + \"_seed_\" + str(i) + \"_test_preds.npy\"), \n",
    "                            n_fragments=xlmr_test_frags) for i in rnd_seeds]"
   ]
  },
  {
   "cell_type": "markdown",
   "metadata": {},
   "source": [
    "## MAP\n",
    "\n",
    "Firstly, we evaluate the models according to the main evaluation metric of the task, the Mean Average Precision (MAP) score."
   ]
  },
  {
   "cell_type": "code",
   "execution_count": 8,
   "metadata": {},
   "outputs": [],
   "source": [
    "# Load valid codes\n",
    "codes_path = \"../../resources/codiesp-evaluation-script/codiesp_codes/codiesp-P_codes.tsv\"\n",
    "valid_codes = set(pd.read_csv(codes_path, sep='\\t', header=None, \n",
    "                              usecols=[0])[0].tolist())\n",
    "valid_codes = set([x.lower() for x in valid_codes])\n",
    "\n",
    "# Format Gold Standard (GS) annotations\n",
    "test_gs_path = corpus_path + \"test/testP.tsv\"\n",
    "test_gs_out_path = \"./test_intermediate_gs_file.txt\"\n",
    "format_gs(filepath=test_gs_path, output_path=test_gs_out_path)"
   ]
  },
  {
   "cell_type": "code",
   "execution_count": 9,
   "metadata": {},
   "outputs": [],
   "source": [
    "map_res_dict = {}"
   ]
  },
  {
   "cell_type": "code",
   "execution_count": 10,
   "metadata": {},
   "outputs": [],
   "source": [
    "map_res_dict[\"mBERT\"] = compute_map_avg(doc_preds_arr=mbert_doc_preds, codes_labels=codes, docs=test_doc_list, \n",
    "                                        valid_codes=valid_codes, gs_out_path=test_gs_out_path)"
   ]
  },
  {
   "cell_type": "code",
   "execution_count": 11,
   "metadata": {},
   "outputs": [],
   "source": [
    "map_res_dict[\"mBERT-Galén\"] = compute_map_avg(doc_preds_arr=mbert_galen_doc_preds, codes_labels=codes, docs=test_doc_list, \n",
    "                                              valid_codes=valid_codes, gs_out_path=test_gs_out_path)"
   ]
  },
  {
   "cell_type": "code",
   "execution_count": null,
   "metadata": {},
   "outputs": [],
   "source": []
  },
  {
   "cell_type": "code",
   "execution_count": 12,
   "metadata": {},
   "outputs": [],
   "source": [
    "map_res_dict[\"XLM-R\"] = compute_map_avg(doc_preds_arr=xlmr_doc_preds, codes_labels=codes, docs=test_doc_list, \n",
    "                                        valid_codes=valid_codes, gs_out_path=test_gs_out_path)"
   ]
  },
  {
   "cell_type": "code",
   "execution_count": 13,
   "metadata": {},
   "outputs": [],
   "source": [
    "map_res_dict[\"XLM-R-Galén\"] = compute_map_avg(doc_preds_arr=xlmr_galen_doc_preds, codes_labels=codes, docs=test_doc_list, \n",
    "                                              valid_codes=valid_codes, gs_out_path=test_gs_out_path)"
   ]
  },
  {
   "cell_type": "code",
   "execution_count": null,
   "metadata": {},
   "outputs": [],
   "source": []
  },
  {
   "cell_type": "code",
   "execution_count": null,
   "metadata": {},
   "outputs": [],
   "source": []
  },
  {
   "cell_type": "code",
   "execution_count": 14,
   "metadata": {
    "scrolled": true
   },
   "outputs": [
    {
     "data": {
      "text/html": [
       "<div>\n",
       "<style scoped>\n",
       "    .dataframe tbody tr th:only-of-type {\n",
       "        vertical-align: middle;\n",
       "    }\n",
       "\n",
       "    .dataframe tbody tr th {\n",
       "        vertical-align: top;\n",
       "    }\n",
       "\n",
       "    .dataframe thead th {\n",
       "        text-align: right;\n",
       "    }\n",
       "</style>\n",
       "<table border=\"1\" class=\"dataframe\">\n",
       "  <thead>\n",
       "    <tr style=\"text-align: right;\">\n",
       "      <th></th>\n",
       "      <th>MAP</th>\n",
       "      <th>MAP_std</th>\n",
       "      <th>MAP_max</th>\n",
       "    </tr>\n",
       "  </thead>\n",
       "  <tbody>\n",
       "    <tr>\n",
       "      <th>mBERT</th>\n",
       "      <td>0.469</td>\n",
       "      <td>0.003</td>\n",
       "      <td>0.475</td>\n",
       "    </tr>\n",
       "    <tr>\n",
       "      <th>mBERT-Galén</th>\n",
       "      <td>0.495</td>\n",
       "      <td>0.007</td>\n",
       "      <td>0.508</td>\n",
       "    </tr>\n",
       "    <tr>\n",
       "      <th>XLM-R</th>\n",
       "      <td>0.469</td>\n",
       "      <td>0.006</td>\n",
       "      <td>0.477</td>\n",
       "    </tr>\n",
       "    <tr>\n",
       "      <th>XLM-R-Galén</th>\n",
       "      <td>0.493</td>\n",
       "      <td>0.003</td>\n",
       "      <td>0.498</td>\n",
       "    </tr>\n",
       "  </tbody>\n",
       "</table>\n",
       "</div>"
      ],
      "text/plain": [
       "               MAP  MAP_std  MAP_max\n",
       "mBERT        0.469    0.003    0.475\n",
       "mBERT-Galén  0.495    0.007    0.508\n",
       "XLM-R        0.469    0.006    0.477\n",
       "XLM-R-Galén  0.493    0.003    0.498"
      ]
     },
     "execution_count": 14,
     "metadata": {},
     "output_type": "execute_result"
    }
   ],
   "source": [
    "pd.DataFrame(map_res_dict).transpose()"
   ]
  },
  {
   "cell_type": "markdown",
   "metadata": {},
   "source": [
    "### Ensemble"
   ]
  },
  {
   "cell_type": "code",
   "execution_count": 15,
   "metadata": {},
   "outputs": [],
   "source": [
    "map_ens_res_dict = {}"
   ]
  },
  {
   "cell_type": "markdown",
   "metadata": {},
   "source": [
    "#### Single-model"
   ]
  },
  {
   "cell_type": "code",
   "execution_count": 16,
   "metadata": {},
   "outputs": [],
   "source": [
    "map_ens_res_dict[\"mBERT\"] = pd.Series({\"MAP\": round(compute_map(valid_codes=valid_codes, \n",
    "        pred=prob_codiesp_prediction_format(y_pred=sum(mbert_doc_preds), label_encoder_classes=codes, doc_list=test_doc_list),\n",
    "        gs_out_path=test_gs_out_path), 3)})"
   ]
  },
  {
   "cell_type": "code",
   "execution_count": 17,
   "metadata": {},
   "outputs": [],
   "source": [
    "map_ens_res_dict[\"mBERT-Galén\"] = pd.Series({\"MAP\": round(compute_map(valid_codes=valid_codes, \n",
    "        pred=prob_codiesp_prediction_format(y_pred=sum(mbert_galen_doc_preds), label_encoder_classes=codes, \n",
    "                                            doc_list=test_doc_list),\n",
    "        gs_out_path=test_gs_out_path), 3)})"
   ]
  },
  {
   "cell_type": "code",
   "execution_count": null,
   "metadata": {},
   "outputs": [],
   "source": []
  },
  {
   "cell_type": "code",
   "execution_count": 18,
   "metadata": {},
   "outputs": [],
   "source": [
    "map_ens_res_dict[\"XLM-R\"] = pd.Series({\"MAP\": round(compute_map(valid_codes=valid_codes, \n",
    "        pred=prob_codiesp_prediction_format(y_pred=sum(xlmr_doc_preds), label_encoder_classes=codes, doc_list=test_doc_list),\n",
    "        gs_out_path=test_gs_out_path), 3)})"
   ]
  },
  {
   "cell_type": "code",
   "execution_count": 19,
   "metadata": {},
   "outputs": [],
   "source": [
    "map_ens_res_dict[\"XLM-R-Galén\"] = pd.Series({\"MAP\": round(compute_map(valid_codes=valid_codes, \n",
    "        pred=prob_codiesp_prediction_format(y_pred=sum(xlmr_galen_doc_preds), label_encoder_classes=codes, \n",
    "                                            doc_list=test_doc_list),\n",
    "        gs_out_path=test_gs_out_path), 3)})"
   ]
  },
  {
   "cell_type": "code",
   "execution_count": null,
   "metadata": {},
   "outputs": [],
   "source": []
  },
  {
   "cell_type": "code",
   "execution_count": null,
   "metadata": {},
   "outputs": [],
   "source": []
  },
  {
   "cell_type": "markdown",
   "metadata": {},
   "source": [
    "#### Multiple-model"
   ]
  },
  {
   "cell_type": "code",
   "execution_count": 20,
   "metadata": {},
   "outputs": [],
   "source": [
    "map_ens_res_dict[\"mBERT + mBERT-Galén\"] = pd.Series({\"MAP\": round(compute_map(valid_codes=valid_codes, \n",
    "        pred=prob_codiesp_prediction_format(y_pred=sum([sum(mbert_doc_preds), sum(mbert_galen_doc_preds)]), \n",
    "                                            label_encoder_classes=codes, doc_list=test_doc_list),\n",
    "        gs_out_path=test_gs_out_path), 3)})"
   ]
  },
  {
   "cell_type": "code",
   "execution_count": null,
   "metadata": {},
   "outputs": [],
   "source": []
  },
  {
   "cell_type": "code",
   "execution_count": 21,
   "metadata": {},
   "outputs": [],
   "source": [
    "map_ens_res_dict[\"XLM-R + XLM-R-Galén\"] = pd.Series({\"MAP\": round(compute_map(valid_codes=valid_codes, \n",
    "        pred=prob_codiesp_prediction_format(y_pred=sum([sum(xlmr_doc_preds), sum(xlmr_galen_doc_preds)]), \n",
    "                                            label_encoder_classes=codes, doc_list=test_doc_list),\n",
    "        gs_out_path=test_gs_out_path), 3)})"
   ]
  },
  {
   "cell_type": "code",
   "execution_count": null,
   "metadata": {},
   "outputs": [],
   "source": []
  },
  {
   "cell_type": "code",
   "execution_count": null,
   "metadata": {},
   "outputs": [],
   "source": []
  },
  {
   "cell_type": "code",
   "execution_count": 22,
   "metadata": {},
   "outputs": [
    {
     "data": {
      "text/html": [
       "<div>\n",
       "<style scoped>\n",
       "    .dataframe tbody tr th:only-of-type {\n",
       "        vertical-align: middle;\n",
       "    }\n",
       "\n",
       "    .dataframe tbody tr th {\n",
       "        vertical-align: top;\n",
       "    }\n",
       "\n",
       "    .dataframe thead th {\n",
       "        text-align: right;\n",
       "    }\n",
       "</style>\n",
       "<table border=\"1\" class=\"dataframe\">\n",
       "  <thead>\n",
       "    <tr style=\"text-align: right;\">\n",
       "      <th></th>\n",
       "      <th>MAP</th>\n",
       "    </tr>\n",
       "  </thead>\n",
       "  <tbody>\n",
       "    <tr>\n",
       "      <th>mBERT</th>\n",
       "      <td>0.508</td>\n",
       "    </tr>\n",
       "    <tr>\n",
       "      <th>mBERT-Galén</th>\n",
       "      <td>0.521</td>\n",
       "    </tr>\n",
       "    <tr>\n",
       "      <th>XLM-R</th>\n",
       "      <td>0.501</td>\n",
       "    </tr>\n",
       "    <tr>\n",
       "      <th>XLM-R-Galén</th>\n",
       "      <td>0.526</td>\n",
       "    </tr>\n",
       "    <tr>\n",
       "      <th>mBERT + mBERT-Galén</th>\n",
       "      <td>0.528</td>\n",
       "    </tr>\n",
       "    <tr>\n",
       "      <th>XLM-R + XLM-R-Galén</th>\n",
       "      <td>0.524</td>\n",
       "    </tr>\n",
       "  </tbody>\n",
       "</table>\n",
       "</div>"
      ],
      "text/plain": [
       "                       MAP\n",
       "mBERT                0.508\n",
       "mBERT-Galén          0.521\n",
       "XLM-R                0.501\n",
       "XLM-R-Galén          0.526\n",
       "mBERT + mBERT-Galén  0.528\n",
       "XLM-R + XLM-R-Galén  0.524"
      ]
     },
     "execution_count": 22,
     "metadata": {},
     "output_type": "execute_result"
    }
   ],
   "source": [
    "pd.DataFrame(map_ens_res_dict).transpose()"
   ]
  },
  {
   "cell_type": "markdown",
   "metadata": {},
   "source": [
    "## Additional metrics\n",
    "\n",
    "Additionally, we also evaluate the models according to the micro-averaged precision, recall and F1-score. For this purpose, we use binary classification thresholds previously estimated on the development set of the CodiEsp-P corpus."
   ]
  },
  {
   "cell_type": "code",
   "execution_count": 23,
   "metadata": {},
   "outputs": [],
   "source": [
    "add_res_dict = {}"
   ]
  },
  {
   "cell_type": "code",
   "execution_count": 24,
   "metadata": {},
   "outputs": [],
   "source": [
    "test_pred_file_path = \"./test_intermediate_pred_file.txt\""
   ]
  },
  {
   "cell_type": "code",
   "execution_count": 25,
   "metadata": {},
   "outputs": [],
   "source": [
    "mbert_thr = 0.52"
   ]
  },
  {
   "cell_type": "code",
   "execution_count": 26,
   "metadata": {},
   "outputs": [
    {
     "name": "stdout",
     "output_type": "stream",
     "text": [
      "CPU times: user 2.61 s, sys: 40.9 ms, total: 2.65 s\n",
      "Wall time: 2.65 s\n"
     ]
    }
   ],
   "source": [
    "%%time\n",
    "add_res_dict[\"mBERT\"] = compute_metrics_avg(thr=mbert_thr, doc_preds_arr=mbert_doc_preds, codes_labels=codes, \n",
    "                                            docs=list(test_doc_list), pred_file_path=test_pred_file_path, \n",
    "                                            gs_path=test_gs_path, valid_codes_path=codes_path)"
   ]
  },
  {
   "cell_type": "code",
   "execution_count": 27,
   "metadata": {},
   "outputs": [],
   "source": [
    "mbert_galen_thr = 0.12"
   ]
  },
  {
   "cell_type": "code",
   "execution_count": 28,
   "metadata": {},
   "outputs": [
    {
     "name": "stdout",
     "output_type": "stream",
     "text": [
      "CPU times: user 2.64 s, sys: 40.9 ms, total: 2.69 s\n",
      "Wall time: 2.68 s\n"
     ]
    }
   ],
   "source": [
    "%%time\n",
    "add_res_dict[\"mBERT-Galén\"] = compute_metrics_avg(thr=mbert_galen_thr, doc_preds_arr=mbert_galen_doc_preds, codes_labels=codes, \n",
    "                                            docs=list(test_doc_list), pred_file_path=test_pred_file_path, \n",
    "                                            gs_path=test_gs_path, valid_codes_path=codes_path)"
   ]
  },
  {
   "cell_type": "code",
   "execution_count": null,
   "metadata": {},
   "outputs": [],
   "source": [
    "beto_thr = 0.53"
   ]
  },
  {
   "cell_type": "code",
   "execution_count": null,
   "metadata": {},
   "outputs": [],
   "source": []
  },
  {
   "cell_type": "code",
   "execution_count": null,
   "metadata": {},
   "outputs": [],
   "source": [
    "beto_galen_thr = 0.31"
   ]
  },
  {
   "cell_type": "code",
   "execution_count": null,
   "metadata": {},
   "outputs": [],
   "source": []
  },
  {
   "cell_type": "code",
   "execution_count": 29,
   "metadata": {},
   "outputs": [],
   "source": [
    "xlmr_thr = 0.43"
   ]
  },
  {
   "cell_type": "code",
   "execution_count": 30,
   "metadata": {},
   "outputs": [
    {
     "name": "stdout",
     "output_type": "stream",
     "text": [
      "CPU times: user 2.68 s, sys: 39.7 ms, total: 2.72 s\n",
      "Wall time: 2.72 s\n"
     ]
    }
   ],
   "source": [
    "%%time\n",
    "add_res_dict[\"XLM-R\"] = compute_metrics_avg(thr=xlmr_thr, doc_preds_arr=xlmr_doc_preds, codes_labels=codes, \n",
    "                                            docs=list(test_doc_list), pred_file_path=test_pred_file_path, \n",
    "                                            gs_path=test_gs_path, valid_codes_path=codes_path)"
   ]
  },
  {
   "cell_type": "code",
   "execution_count": 31,
   "metadata": {},
   "outputs": [],
   "source": [
    "xlmr_galen_thr = 0.33"
   ]
  },
  {
   "cell_type": "code",
   "execution_count": 32,
   "metadata": {},
   "outputs": [
    {
     "name": "stdout",
     "output_type": "stream",
     "text": [
      "CPU times: user 2.63 s, sys: 43.9 ms, total: 2.68 s\n",
      "Wall time: 2.68 s\n"
     ]
    }
   ],
   "source": [
    "%%time\n",
    "add_res_dict[\"XLM-R-Galén\"] = compute_metrics_avg(thr=xlmr_galen_thr, doc_preds_arr=xlmr_galen_doc_preds, codes_labels=codes, \n",
    "                                            docs=list(test_doc_list), pred_file_path=test_pred_file_path, \n",
    "                                            gs_path=test_gs_path, valid_codes_path=codes_path)"
   ]
  },
  {
   "cell_type": "code",
   "execution_count": 33,
   "metadata": {},
   "outputs": [
    {
     "data": {
      "text/html": [
       "<div>\n",
       "<style scoped>\n",
       "    .dataframe tbody tr th:only-of-type {\n",
       "        vertical-align: middle;\n",
       "    }\n",
       "\n",
       "    .dataframe tbody tr th {\n",
       "        vertical-align: top;\n",
       "    }\n",
       "\n",
       "    .dataframe thead th {\n",
       "        text-align: right;\n",
       "    }\n",
       "</style>\n",
       "<table border=\"1\" class=\"dataframe\">\n",
       "  <thead>\n",
       "    <tr style=\"text-align: right;\">\n",
       "      <th></th>\n",
       "      <th>P</th>\n",
       "      <th>P_std</th>\n",
       "      <th>P_max</th>\n",
       "      <th>R</th>\n",
       "      <th>R_std</th>\n",
       "      <th>R_max</th>\n",
       "      <th>F1</th>\n",
       "      <th>F1_std</th>\n",
       "      <th>F1_max</th>\n",
       "    </tr>\n",
       "  </thead>\n",
       "  <tbody>\n",
       "    <tr>\n",
       "      <th>mBERT</th>\n",
       "      <td>0.655</td>\n",
       "      <td>0.013</td>\n",
       "      <td>0.669</td>\n",
       "      <td>0.438</td>\n",
       "      <td>0.013</td>\n",
       "      <td>0.452</td>\n",
       "      <td>0.525</td>\n",
       "      <td>0.012</td>\n",
       "      <td>0.537</td>\n",
       "    </tr>\n",
       "    <tr>\n",
       "      <th>mBERT-Galén</th>\n",
       "      <td>0.582</td>\n",
       "      <td>0.014</td>\n",
       "      <td>0.603</td>\n",
       "      <td>0.501</td>\n",
       "      <td>0.009</td>\n",
       "      <td>0.510</td>\n",
       "      <td>0.538</td>\n",
       "      <td>0.009</td>\n",
       "      <td>0.552</td>\n",
       "    </tr>\n",
       "    <tr>\n",
       "      <th>XLM-R</th>\n",
       "      <td>0.608</td>\n",
       "      <td>0.024</td>\n",
       "      <td>0.638</td>\n",
       "      <td>0.461</td>\n",
       "      <td>0.018</td>\n",
       "      <td>0.487</td>\n",
       "      <td>0.524</td>\n",
       "      <td>0.003</td>\n",
       "      <td>0.527</td>\n",
       "    </tr>\n",
       "    <tr>\n",
       "      <th>XLM-R-Galén</th>\n",
       "      <td>0.600</td>\n",
       "      <td>0.012</td>\n",
       "      <td>0.612</td>\n",
       "      <td>0.477</td>\n",
       "      <td>0.010</td>\n",
       "      <td>0.490</td>\n",
       "      <td>0.532</td>\n",
       "      <td>0.008</td>\n",
       "      <td>0.543</td>\n",
       "    </tr>\n",
       "  </tbody>\n",
       "</table>\n",
       "</div>"
      ],
      "text/plain": [
       "                 P  P_std  P_max      R  R_std  R_max     F1  F1_std  F1_max\n",
       "mBERT        0.655  0.013  0.669  0.438  0.013  0.452  0.525   0.012   0.537\n",
       "mBERT-Galén  0.582  0.014  0.603  0.501  0.009  0.510  0.538   0.009   0.552\n",
       "XLM-R        0.608  0.024  0.638  0.461  0.018  0.487  0.524   0.003   0.527\n",
       "XLM-R-Galén  0.600  0.012  0.612  0.477  0.010  0.490  0.532   0.008   0.543"
      ]
     },
     "execution_count": 33,
     "metadata": {},
     "output_type": "execute_result"
    }
   ],
   "source": [
    "pd.DataFrame(add_res_dict).transpose()"
   ]
  },
  {
   "cell_type": "markdown",
   "metadata": {},
   "source": [
    "### Ensemble"
   ]
  },
  {
   "cell_type": "code",
   "execution_count": 34,
   "metadata": {},
   "outputs": [],
   "source": [
    "add_ens_res_dict = {}"
   ]
  },
  {
   "cell_type": "markdown",
   "metadata": {},
   "source": [
    "#### Single-model"
   ]
  },
  {
   "cell_type": "code",
   "execution_count": 42,
   "metadata": {},
   "outputs": [],
   "source": [
    "df_test_pred = thr_codiesp_prediction_format(y_pred=sum(mbert_doc_preds)/len(rnd_seeds), label_encoder_classes=codes, \n",
    "                                             doc_list=test_doc_list, thr=mbert_thr)\n",
    "df_test_pred[[\"doc_id\", \"code\"]].to_csv(path_or_buf=test_pred_file_path, sep=\"\\t\", header=False, index=False)\n",
    "p, r, f1 = compute_p_r_f1(gs_path=test_gs_path, pred_path=test_pred_file_path, codes_path=codes_path)\n",
    "add_ens_res_dict[\"mBERT\"] = pd.Series({\"P\": p, \"R\": r, \"F1\": f1})"
   ]
  },
  {
   "cell_type": "code",
   "execution_count": 43,
   "metadata": {},
   "outputs": [],
   "source": [
    "df_test_pred = thr_codiesp_prediction_format(y_pred=sum(mbert_galen_doc_preds)/len(rnd_seeds), label_encoder_classes=codes, \n",
    "                                             doc_list=test_doc_list, thr=mbert_galen_thr)\n",
    "df_test_pred[[\"doc_id\", \"code\"]].to_csv(path_or_buf=test_pred_file_path, sep=\"\\t\", header=False, index=False)\n",
    "p, r, f1 = compute_p_r_f1(gs_path=test_gs_path, pred_path=test_pred_file_path, codes_path=codes_path)\n",
    "add_ens_res_dict[\"mBERT-Galén\"] = pd.Series({\"P\": p, \"R\": r, \"F1\": f1})"
   ]
  },
  {
   "cell_type": "code",
   "execution_count": null,
   "metadata": {},
   "outputs": [],
   "source": []
  },
  {
   "cell_type": "code",
   "execution_count": 37,
   "metadata": {},
   "outputs": [],
   "source": [
    "df_test_pred = thr_codiesp_prediction_format(y_pred=sum(xlmr_doc_preds)/len(rnd_seeds), label_encoder_classes=codes, \n",
    "                                             doc_list=test_doc_list, thr=xlmr_thr)\n",
    "df_test_pred[[\"doc_id\", \"code\"]].to_csv(path_or_buf=test_pred_file_path, sep=\"\\t\", header=False, index=False)\n",
    "p, r, f1 = compute_p_r_f1(gs_path=test_gs_path, pred_path=test_pred_file_path, codes_path=codes_path)\n",
    "add_ens_res_dict[\"XLM-R\"] = pd.Series({\"P\": p, \"R\": r, \"F1\": f1})"
   ]
  },
  {
   "cell_type": "code",
   "execution_count": 38,
   "metadata": {},
   "outputs": [],
   "source": [
    "df_test_pred = thr_codiesp_prediction_format(y_pred=sum(xlmr_galen_doc_preds)/len(rnd_seeds), label_encoder_classes=codes, \n",
    "                                             doc_list=test_doc_list, thr=xlmr_galen_thr)\n",
    "df_test_pred[[\"doc_id\", \"code\"]].to_csv(path_or_buf=test_pred_file_path, sep=\"\\t\", header=False, index=False)\n",
    "p, r, f1 = compute_p_r_f1(gs_path=test_gs_path, pred_path=test_pred_file_path, codes_path=codes_path)\n",
    "add_ens_res_dict[\"XLM-R-Galén\"] = pd.Series({\"P\": p, \"R\": r, \"F1\": f1})"
   ]
  },
  {
   "cell_type": "markdown",
   "metadata": {},
   "source": [
    "#### Multiple-model"
   ]
  },
  {
   "cell_type": "code",
   "execution_count": 39,
   "metadata": {},
   "outputs": [],
   "source": [
    "df_test_pred = thr_codiesp_prediction_format(y_pred=sum([sum(mbert_doc_preds), sum(mbert_galen_doc_preds)])/(len(rnd_seeds)*2), \n",
    "                                             label_encoder_classes=codes, doc_list=test_doc_list, \n",
    "                                             thr=(mbert_thr + mbert_galen_thr)/2)\n",
    "df_test_pred[[\"doc_id\", \"code\"]].to_csv(path_or_buf=test_pred_file_path, sep=\"\\t\", header=False, index=False)\n",
    "p, r, f1 = compute_p_r_f1(gs_path=test_gs_path, pred_path=test_pred_file_path, codes_path=codes_path)\n",
    "add_ens_res_dict[\"mBERT + mBERT-Galén\"] = pd.Series({\"P\": p, \"R\": r, \"F1\": f1})"
   ]
  },
  {
   "cell_type": "code",
   "execution_count": null,
   "metadata": {},
   "outputs": [],
   "source": []
  },
  {
   "cell_type": "code",
   "execution_count": 40,
   "metadata": {},
   "outputs": [],
   "source": [
    "df_test_pred = thr_codiesp_prediction_format(y_pred=sum([sum(xlmr_doc_preds), sum(xlmr_galen_doc_preds)])/(len(rnd_seeds)*2), \n",
    "                                             label_encoder_classes=codes, doc_list=test_doc_list, \n",
    "                                             thr=(xlmr_thr + xlmr_galen_thr)/2)\n",
    "df_test_pred[[\"doc_id\", \"code\"]].to_csv(path_or_buf=test_pred_file_path, sep=\"\\t\", header=False, index=False)\n",
    "p, r, f1 = compute_p_r_f1(gs_path=test_gs_path, pred_path=test_pred_file_path, codes_path=codes_path)\n",
    "add_ens_res_dict[\"XLM-R + XLM-R-Galén\"] = pd.Series({\"P\": p, \"R\": r, \"F1\": f1})"
   ]
  },
  {
   "cell_type": "code",
   "execution_count": null,
   "metadata": {},
   "outputs": [],
   "source": []
  },
  {
   "cell_type": "code",
   "execution_count": null,
   "metadata": {},
   "outputs": [],
   "source": []
  },
  {
   "cell_type": "code",
   "execution_count": 44,
   "metadata": {},
   "outputs": [
    {
     "data": {
      "text/html": [
       "<div>\n",
       "<style scoped>\n",
       "    .dataframe tbody tr th:only-of-type {\n",
       "        vertical-align: middle;\n",
       "    }\n",
       "\n",
       "    .dataframe tbody tr th {\n",
       "        vertical-align: top;\n",
       "    }\n",
       "\n",
       "    .dataframe thead th {\n",
       "        text-align: right;\n",
       "    }\n",
       "</style>\n",
       "<table border=\"1\" class=\"dataframe\">\n",
       "  <thead>\n",
       "    <tr style=\"text-align: right;\">\n",
       "      <th></th>\n",
       "      <th>P</th>\n",
       "      <th>R</th>\n",
       "      <th>F1</th>\n",
       "    </tr>\n",
       "  </thead>\n",
       "  <tbody>\n",
       "    <tr>\n",
       "      <th>mBERT</th>\n",
       "      <td>0.736</td>\n",
       "      <td>0.433</td>\n",
       "      <td>0.545</td>\n",
       "    </tr>\n",
       "    <tr>\n",
       "      <th>mBERT-Galén</th>\n",
       "      <td>0.568</td>\n",
       "      <td>0.573</td>\n",
       "      <td>0.571</td>\n",
       "    </tr>\n",
       "    <tr>\n",
       "      <th>XLM-R</th>\n",
       "      <td>0.699</td>\n",
       "      <td>0.468</td>\n",
       "      <td>0.560</td>\n",
       "    </tr>\n",
       "    <tr>\n",
       "      <th>XLM-R-Galén</th>\n",
       "      <td>0.646</td>\n",
       "      <td>0.503</td>\n",
       "      <td>0.566</td>\n",
       "    </tr>\n",
       "    <tr>\n",
       "      <th>mBERT + mBERT-Galén</th>\n",
       "      <td>0.692</td>\n",
       "      <td>0.482</td>\n",
       "      <td>0.568</td>\n",
       "    </tr>\n",
       "    <tr>\n",
       "      <th>XLM-R + XLM-R-Galén</th>\n",
       "      <td>0.681</td>\n",
       "      <td>0.484</td>\n",
       "      <td>0.566</td>\n",
       "    </tr>\n",
       "  </tbody>\n",
       "</table>\n",
       "</div>"
      ],
      "text/plain": [
       "                         P      R     F1\n",
       "mBERT                0.736  0.433  0.545\n",
       "mBERT-Galén          0.568  0.573  0.571\n",
       "XLM-R                0.699  0.468  0.560\n",
       "XLM-R-Galén          0.646  0.503  0.566\n",
       "mBERT + mBERT-Galén  0.692  0.482  0.568\n",
       "XLM-R + XLM-R-Galén  0.681  0.484  0.566"
      ]
     },
     "execution_count": 44,
     "metadata": {},
     "output_type": "execute_result"
    }
   ],
   "source": [
    "pd.DataFrame(add_ens_res_dict).transpose()"
   ]
  }
 ],
 "metadata": {
  "kernelspec": {
   "display_name": "Python 3",
   "language": "python",
   "name": "python3"
  },
  "language_info": {
   "codemirror_mode": {
    "name": "ipython",
    "version": 3
   },
   "file_extension": ".py",
   "mimetype": "text/x-python",
   "name": "python",
   "nbconvert_exporter": "python",
   "pygments_lexer": "ipython3",
   "version": "3.6.5"
  }
 },
 "nbformat": 4,
 "nbformat_minor": 2
}
