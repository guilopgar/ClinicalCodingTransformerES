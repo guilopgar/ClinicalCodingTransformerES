{
 "cells": [
  {
   "cell_type": "markdown",
   "metadata": {},
   "source": [
    "# Model evaluation\n",
    "\n",
    "In this notebook, the transformer-based models analyzed in this work are evaluated according to their clinical coding performance achieved in the CodiEsp-P task."
   ]
  },
  {
   "cell_type": "code",
   "execution_count": 1,
   "metadata": {},
   "outputs": [],
   "source": [
    "# Auxiliary components\n",
    "import sys\n",
    "sys.path.append(\"../../\")\n",
    "from nlp_utils import *"
   ]
  },
  {
   "cell_type": "code",
   "execution_count": 3,
   "metadata": {},
   "outputs": [],
   "source": [
    "def compute_metrics_avg(thr, doc_preds_arr):\n",
    "    \"\"\"\n",
    "    Custom function that returns a pd.Series containing the average P, R, F1, MAP values obtained for \n",
    "    a set of different predictions using a single threshold.\n",
    "    \"\"\"\n",
    "    \n",
    "    p_arr, r_arr, f1_arr, m_arr = [], [], [], []\n",
    "    for doc_preds in doc_preds_arr:\n",
    "        df_test_pred = thr_codiesp_prediction_format(y_pred=doc_preds, label_encoder_classes=mlb_encoder.classes_, \n",
    "                                                     doc_list=test_doc_list, thr=thr)\n",
    "        df_test_pred[[\"doc_id\", \"code\"]].to_csv(path_or_buf=test_pred_file_path, sep=\"\\t\", header=False, index=False)\n",
    "        p, r, f1 = compute_p_r_f1(gs_path, test_pred_file_path, valid_path)\n",
    "        m = round(compute_map(valid_codes=valid_d_codes, pred=df_test_pred, gs_out_path=gs_out_path), 3)\n",
    "        p_arr.append(p)\n",
    "        r_arr.append(r)\n",
    "        f1_arr.append(f1)\n",
    "        m_arr.append(m)\n",
    "\n",
    "    return pd.Series({'P': np.mean(p_arr), 'P_std': np.std(p_arr), 'P_max': np.max(p_arr), \n",
    "                      'R': np.mean(r_arr), 'R_std': np.std(r_arr), 'R_max': np.max(r_arr), \n",
    "                      'F1': np.mean(f1_arr), 'F1_std': np.std(f1_arr), 'F1_max': np.max(f1_arr), \n",
    "                      'Thr': thr}).apply(lambda x: round(x, 3))"
   ]
  },
  {
   "cell_type": "code",
   "execution_count": 2,
   "metadata": {},
   "outputs": [],
   "source": [
    "# Both arrays were saved in CodiEsp-P_XLM-R_Fine-Tuning.ipynb\n",
    "test_doc_list = np.load(\"test_docs.npy\")\n",
    "codes = np.load(\"classes.npy\")"
   ]
  },
  {
   "cell_type": "markdown",
   "metadata": {},
   "source": [
    "## Load models predictions\n",
    "\n",
    "We load the coding predictions made by the models at sentence-level, and we further convert them to document-level predictions."
   ]
  },
  {
   "cell_type": "code",
   "execution_count": 3,
   "metadata": {},
   "outputs": [],
   "source": [
    "preds_dir = \"predictions/\"\n",
    "rnd_seeds = list(range(5))"
   ]
  },
  {
   "cell_type": "markdown",
   "metadata": {},
   "source": [
    "### XLM-R"
   ]
  },
  {
   "cell_type": "code",
   "execution_count": 5,
   "metadata": {},
   "outputs": [],
   "source": [
    "model_name = \"xlm_r\"\n",
    "xlmr_test_frags = np.load(model_name + \"_test_frags.npy\")\n",
    "xlmr_preds = [max_fragment(y_frag_pred=np.load(preds_dir + model_name + \"_seed_\" + str(i) + \"_test_preds.npy\"), \n",
    "                            n_fragments=xlmr_test_frags) for i in rnd_seeds]"
   ]
  },
  {
   "cell_type": "markdown",
   "metadata": {},
   "source": [
    "### XLM-R-Galén"
   ]
  },
  {
   "cell_type": "code",
   "execution_count": 7,
   "metadata": {},
   "outputs": [],
   "source": [
    "model_name = \"xlm_r_galen\"\n",
    "xlmr_galen_preds = [max_fragment(y_frag_pred=np.load(preds_dir + model_name + \"_seed_\" + str(i) + \"_test_preds.npy\"), \n",
    "                            n_fragments=xlmr_test_frags) for i in rnd_seeds]"
   ]
  },
  {
   "cell_type": "markdown",
   "metadata": {},
   "source": [
    "## MAP\n",
    "\n",
    "Firstly, we evaluate the models according to the main evaluation metric of the task, the Mean Average Precision (MAP) score."
   ]
  },
  {
   "cell_type": "code",
   "execution_count": null,
   "metadata": {},
   "outputs": [],
   "source": [
    "# Load valid codes\n",
    "codes_path = \"../../resources/CodiEsp-Evaluation-Script/codiesp_codes/codiesp-P_codes.tsv\"\n",
    "valid_d_codes = set(pd.read_csv(codes_path, sep='\\t', header=None, \n",
    "                              usecols=[0])[0].tolist())\n",
    "valid_d_codes = set([x.lower() for x in valid_d_codes])"
   ]
  },
  {
   "cell_type": "code",
   "execution_count": null,
   "metadata": {},
   "outputs": [],
   "source": [
    "def compute_map_avg(doc_preds_arr, codes_labels, docs, valid_codes, gs_out_path):\n",
    "    \"\"\"\n",
    "    Computes the average, std and max MAP scores for a given array of document-level predictions. \n",
    "    \"\"\"\n",
    "    map_arr = []\n",
    "    for doc_preds in doc_preds_arr:\n",
    "        df_pred = prob_codiesp_prediction_format(y_pred=doc_preds, label_encoder_classes=codes_labels, \n",
    "                                                 doc_list=docs)\n",
    "        map_arr.append(round(compute_map(valid_codes=valid_codes, pred=df_pred, gs_out_path=gs_out_path), 3))\n",
    "    return pd.Series({'MAP': np.mean(map_arr), 'MAP_std': np.std(map_arr), \n",
    "                      'MAP_max': np.max(map_arr)}).apply(lambda x: round(x, 3))"
   ]
  },
  {
   "cell_type": "code",
   "execution_count": null,
   "metadata": {},
   "outputs": [],
   "source": []
  },
  {
   "cell_type": "code",
   "execution_count": null,
   "metadata": {},
   "outputs": [],
   "source": [
    "# here guille now"
   ]
  },
  {
   "cell_type": "code",
   "execution_count": 97,
   "metadata": {},
   "outputs": [],
   "source": [
    "test_pred_file_path = \"proc_test_frag_preds.tsv\""
   ]
  },
  {
   "cell_type": "markdown",
   "metadata": {},
   "source": [
    "We load the sentence-predictions from the different models, and generate the predictions at document level, using Max criterion:"
   ]
  },
  {
   "cell_type": "code",
   "execution_count": 98,
   "metadata": {
    "scrolled": true
   },
   "outputs": [
    {
     "name": "stdout",
     "output_type": "stream",
     "text": [
      "CPU times: user 2.95 ms, sys: 608 µs, total: 3.56 ms\n",
      "Wall time: 3.29 ms\n"
     ]
    }
   ],
   "source": [
    "%%time\n",
    "multi_test_preds = np.load('Paper_Executions/p_multi_ss_test_preds_map_475.npy')"
   ]
  },
  {
   "cell_type": "code",
   "execution_count": 99,
   "metadata": {},
   "outputs": [
    {
     "data": {
      "text/plain": [
       "(3955, 727)"
      ]
     },
     "execution_count": 99,
     "metadata": {},
     "output_type": "execute_result"
    }
   ],
   "source": [
    "multi_test_preds.shape"
   ]
  },
  {
   "cell_type": "code",
   "execution_count": 100,
   "metadata": {},
   "outputs": [],
   "source": [
    "multi_doc_preds = max_fragment(y_frag_pred=multi_test_preds, n_fragments=test_frag)"
   ]
  },
  {
   "cell_type": "code",
   "execution_count": 101,
   "metadata": {},
   "outputs": [
    {
     "data": {
      "text/plain": [
       "(250, 727)"
      ]
     },
     "execution_count": 101,
     "metadata": {},
     "output_type": "execute_result"
    }
   ],
   "source": [
    "multi_doc_preds.shape"
   ]
  },
  {
   "cell_type": "code",
   "execution_count": 102,
   "metadata": {
    "scrolled": true
   },
   "outputs": [
    {
     "name": "stdout",
     "output_type": "stream",
     "text": [
      "CPU times: user 0 ns, sys: 3.97 ms, total: 3.97 ms\n",
      "Wall time: 3.64 ms\n"
     ]
    }
   ],
   "source": [
    "%%time\n",
    "multi_1_test_preds = np.load('Paper_Executions/p_multi_ss_test_preds_map_469.npy')"
   ]
  },
  {
   "cell_type": "code",
   "execution_count": 103,
   "metadata": {},
   "outputs": [
    {
     "data": {
      "text/plain": [
       "(3955, 727)"
      ]
     },
     "execution_count": 103,
     "metadata": {},
     "output_type": "execute_result"
    }
   ],
   "source": [
    "multi_1_test_preds.shape"
   ]
  },
  {
   "cell_type": "code",
   "execution_count": 104,
   "metadata": {},
   "outputs": [],
   "source": [
    "multi_1_doc_preds = max_fragment(y_frag_pred=multi_1_test_preds, n_fragments=test_frag)"
   ]
  },
  {
   "cell_type": "code",
   "execution_count": 105,
   "metadata": {},
   "outputs": [
    {
     "data": {
      "text/plain": [
       "(250, 727)"
      ]
     },
     "execution_count": 105,
     "metadata": {},
     "output_type": "execute_result"
    }
   ],
   "source": [
    "multi_1_doc_preds.shape"
   ]
  },
  {
   "cell_type": "code",
   "execution_count": 106,
   "metadata": {
    "scrolled": true
   },
   "outputs": [
    {
     "name": "stdout",
     "output_type": "stream",
     "text": [
      "CPU times: user 0 ns, sys: 3.88 ms, total: 3.88 ms\n",
      "Wall time: 3.54 ms\n"
     ]
    }
   ],
   "source": [
    "%%time\n",
    "multi_2_test_preds = np.load('Paper_Executions/p_multi_ss_test_preds_map_468.npy')"
   ]
  },
  {
   "cell_type": "code",
   "execution_count": 107,
   "metadata": {},
   "outputs": [
    {
     "data": {
      "text/plain": [
       "(3955, 727)"
      ]
     },
     "execution_count": 107,
     "metadata": {},
     "output_type": "execute_result"
    }
   ],
   "source": [
    "multi_2_test_preds.shape"
   ]
  },
  {
   "cell_type": "code",
   "execution_count": 108,
   "metadata": {},
   "outputs": [],
   "source": [
    "multi_2_doc_preds = max_fragment(y_frag_pred=multi_2_test_preds, n_fragments=test_frag)"
   ]
  },
  {
   "cell_type": "code",
   "execution_count": 109,
   "metadata": {},
   "outputs": [
    {
     "data": {
      "text/plain": [
       "(250, 727)"
      ]
     },
     "execution_count": 109,
     "metadata": {},
     "output_type": "execute_result"
    }
   ],
   "source": [
    "multi_2_doc_preds.shape"
   ]
  },
  {
   "cell_type": "code",
   "execution_count": 110,
   "metadata": {
    "scrolled": true
   },
   "outputs": [
    {
     "name": "stdout",
     "output_type": "stream",
     "text": [
      "CPU times: user 0 ns, sys: 3.49 ms, total: 3.49 ms\n",
      "Wall time: 3.18 ms\n"
     ]
    }
   ],
   "source": [
    "%%time\n",
    "multi_3_test_preds = np.load('Paper_Executions/p_multi_ss_test_preds_map_467.npy')"
   ]
  },
  {
   "cell_type": "code",
   "execution_count": 111,
   "metadata": {},
   "outputs": [
    {
     "data": {
      "text/plain": [
       "(3955, 727)"
      ]
     },
     "execution_count": 111,
     "metadata": {},
     "output_type": "execute_result"
    }
   ],
   "source": [
    "multi_3_test_preds.shape"
   ]
  },
  {
   "cell_type": "code",
   "execution_count": 112,
   "metadata": {},
   "outputs": [],
   "source": [
    "multi_3_doc_preds = max_fragment(y_frag_pred=multi_3_test_preds, n_fragments=test_frag)"
   ]
  },
  {
   "cell_type": "code",
   "execution_count": 113,
   "metadata": {},
   "outputs": [
    {
     "data": {
      "text/plain": [
       "(250, 727)"
      ]
     },
     "execution_count": 113,
     "metadata": {},
     "output_type": "execute_result"
    }
   ],
   "source": [
    "multi_3_doc_preds.shape"
   ]
  },
  {
   "cell_type": "code",
   "execution_count": 114,
   "metadata": {
    "scrolled": true
   },
   "outputs": [
    {
     "name": "stdout",
     "output_type": "stream",
     "text": [
      "CPU times: user 3.16 ms, sys: 657 µs, total: 3.82 ms\n",
      "Wall time: 3.48 ms\n"
     ]
    }
   ],
   "source": [
    "%%time\n",
    "multi_4_test_preds = np.load('Paper_Executions/p_multi_ss_test_preds_map_466.npy')"
   ]
  },
  {
   "cell_type": "code",
   "execution_count": 115,
   "metadata": {},
   "outputs": [
    {
     "data": {
      "text/plain": [
       "(3955, 727)"
      ]
     },
     "execution_count": 115,
     "metadata": {},
     "output_type": "execute_result"
    }
   ],
   "source": [
    "multi_4_test_preds.shape"
   ]
  },
  {
   "cell_type": "code",
   "execution_count": 116,
   "metadata": {},
   "outputs": [],
   "source": [
    "multi_4_doc_preds = max_fragment(y_frag_pred=multi_4_test_preds, n_fragments=test_frag)"
   ]
  },
  {
   "cell_type": "code",
   "execution_count": 117,
   "metadata": {},
   "outputs": [
    {
     "data": {
      "text/plain": [
       "(250, 727)"
      ]
     },
     "execution_count": 117,
     "metadata": {},
     "output_type": "execute_result"
    }
   ],
   "source": [
    "multi_4_doc_preds.shape"
   ]
  },
  {
   "cell_type": "markdown",
   "metadata": {},
   "source": [
    "### RESULTS FOR PAPER"
   ]
  },
  {
   "cell_type": "code",
   "execution_count": 118,
   "metadata": {},
   "outputs": [
    {
     "name": "stdout",
     "output_type": "stream",
     "text": [
      "CPU times: user 236 ms, sys: 10.6 ms, total: 247 ms\n",
      "Wall time: 246 ms\n"
     ]
    }
   ],
   "source": [
    "%%time\n",
    "test_pred_df = prob_codiesp_prediction_format(y_pred=multi_doc_preds,\n",
    "                                      label_encoder_classes=mlb_encoder.classes_, doc_list=test_doc_list)\n",
    "test_pred_df[[\"doc_id\", \"code\"]].to_csv(path_or_buf=test_pred_file_path, sep=\"\\t\", header=False, index=False)"
   ]
  },
  {
   "cell_type": "code",
   "execution_count": 119,
   "metadata": {},
   "outputs": [
    {
     "name": "stdout",
     "output_type": "stream",
     "text": [
      "\n",
      "MAP estimate: 0.475\n",
      "\n",
      "CPU times: user 19.3 ms, sys: 8.8 ms, total: 28.1 ms\n",
      "Wall time: 1.44 s\n"
     ]
    }
   ],
   "source": [
    "%%time\n",
    "# Manual insert (copy + paste) train pred file name\n",
    "!python ../../resources/CodiEsp-Evaluation-Script/codiespD_P_evaluation.py -g ../../datasets/final_dataset_v4_to_publish/test/testP.tsv -p proc_test_frag_preds.tsv -c ../../resources/CodiEsp-Evaluation-Script/codiesp_codes/codiesp-P_codes.tsv  "
   ]
  },
  {
   "cell_type": "code",
   "execution_count": 120,
   "metadata": {},
   "outputs": [
    {
     "name": "stdout",
     "output_type": "stream",
     "text": [
      "0.46900000000000003 0.003162277660168361\n",
      "0.469 0.003\n"
     ]
    }
   ],
   "source": [
    "res = [0.475, 0.469, 0.468, 0.467, 0.466]\n",
    "print(np.mean(res), np.std(res))\n",
    "print(round(np.mean(res), 3), round(np.std(res), 3))"
   ]
  },
  {
   "cell_type": "code",
   "execution_count": 121,
   "metadata": {
    "scrolled": true
   },
   "outputs": [
    {
     "name": "stdout",
     "output_type": "stream",
     "text": [
      "CPU times: user 3.21 ms, sys: 16.3 ms, total: 19.5 ms\n",
      "Wall time: 15.8 ms\n"
     ]
    }
   ],
   "source": [
    "%%time\n",
    "multi_galen_test_preds = np.load('Paper_Executions/p_multi_galen_ss_test_preds_map_508.npy')"
   ]
  },
  {
   "cell_type": "code",
   "execution_count": 122,
   "metadata": {},
   "outputs": [
    {
     "data": {
      "text/plain": [
       "(3955, 727)"
      ]
     },
     "execution_count": 122,
     "metadata": {},
     "output_type": "execute_result"
    }
   ],
   "source": [
    "multi_galen_test_preds.shape"
   ]
  },
  {
   "cell_type": "code",
   "execution_count": 123,
   "metadata": {},
   "outputs": [],
   "source": [
    "multi_galen_doc_preds = max_fragment(y_frag_pred=multi_galen_test_preds, n_fragments=test_frag)"
   ]
  },
  {
   "cell_type": "code",
   "execution_count": 124,
   "metadata": {},
   "outputs": [
    {
     "data": {
      "text/plain": [
       "(250, 727)"
      ]
     },
     "execution_count": 124,
     "metadata": {},
     "output_type": "execute_result"
    }
   ],
   "source": [
    "multi_galen_doc_preds.shape"
   ]
  },
  {
   "cell_type": "code",
   "execution_count": 125,
   "metadata": {
    "scrolled": true
   },
   "outputs": [
    {
     "name": "stdout",
     "output_type": "stream",
     "text": [
      "CPU times: user 402 µs, sys: 4.2 ms, total: 4.61 ms\n",
      "Wall time: 4.26 ms\n"
     ]
    }
   ],
   "source": [
    "%%time\n",
    "multi_galen_1_test_preds = np.load('Paper_Executions/p_multi_galen_ss_test_preds_map_494.npy')"
   ]
  },
  {
   "cell_type": "code",
   "execution_count": 126,
   "metadata": {},
   "outputs": [
    {
     "data": {
      "text/plain": [
       "(3955, 727)"
      ]
     },
     "execution_count": 126,
     "metadata": {},
     "output_type": "execute_result"
    }
   ],
   "source": [
    "multi_galen_1_test_preds.shape"
   ]
  },
  {
   "cell_type": "code",
   "execution_count": 127,
   "metadata": {},
   "outputs": [],
   "source": [
    "multi_galen_1_doc_preds = max_fragment(y_frag_pred=multi_galen_1_test_preds, n_fragments=test_frag)"
   ]
  },
  {
   "cell_type": "code",
   "execution_count": 128,
   "metadata": {},
   "outputs": [
    {
     "data": {
      "text/plain": [
       "(250, 727)"
      ]
     },
     "execution_count": 128,
     "metadata": {},
     "output_type": "execute_result"
    }
   ],
   "source": [
    "multi_galen_1_doc_preds.shape"
   ]
  },
  {
   "cell_type": "code",
   "execution_count": 129,
   "metadata": {
    "scrolled": true
   },
   "outputs": [
    {
     "name": "stdout",
     "output_type": "stream",
     "text": [
      "CPU times: user 0 ns, sys: 3.94 ms, total: 3.94 ms\n",
      "Wall time: 3.61 ms\n"
     ]
    }
   ],
   "source": [
    "%%time\n",
    "multi_galen_2_test_preds = np.load('Paper_Executions/p_multi_galen_ss_test_preds_map_493.npy')"
   ]
  },
  {
   "cell_type": "code",
   "execution_count": 130,
   "metadata": {},
   "outputs": [
    {
     "data": {
      "text/plain": [
       "(3955, 727)"
      ]
     },
     "execution_count": 130,
     "metadata": {},
     "output_type": "execute_result"
    }
   ],
   "source": [
    "multi_galen_2_test_preds.shape"
   ]
  },
  {
   "cell_type": "code",
   "execution_count": 131,
   "metadata": {},
   "outputs": [],
   "source": [
    "multi_galen_2_doc_preds = max_fragment(y_frag_pred=multi_galen_2_test_preds, n_fragments=test_frag)"
   ]
  },
  {
   "cell_type": "code",
   "execution_count": 132,
   "metadata": {},
   "outputs": [
    {
     "data": {
      "text/plain": [
       "(250, 727)"
      ]
     },
     "execution_count": 132,
     "metadata": {},
     "output_type": "execute_result"
    }
   ],
   "source": [
    "multi_galen_2_doc_preds.shape"
   ]
  },
  {
   "cell_type": "code",
   "execution_count": 133,
   "metadata": {
    "scrolled": true
   },
   "outputs": [
    {
     "name": "stdout",
     "output_type": "stream",
     "text": [
      "CPU times: user 0 ns, sys: 3.8 ms, total: 3.8 ms\n",
      "Wall time: 3.49 ms\n"
     ]
    }
   ],
   "source": [
    "%%time\n",
    "multi_galen_3_test_preds = np.load('Paper_Executions/p_multi_galen_ss_test_preds_map_49_2.npy')"
   ]
  },
  {
   "cell_type": "code",
   "execution_count": 134,
   "metadata": {},
   "outputs": [
    {
     "data": {
      "text/plain": [
       "(3955, 727)"
      ]
     },
     "execution_count": 134,
     "metadata": {},
     "output_type": "execute_result"
    }
   ],
   "source": [
    "multi_galen_3_test_preds.shape"
   ]
  },
  {
   "cell_type": "code",
   "execution_count": 135,
   "metadata": {},
   "outputs": [],
   "source": [
    "multi_galen_3_doc_preds = max_fragment(y_frag_pred=multi_galen_3_test_preds, n_fragments=test_frag)"
   ]
  },
  {
   "cell_type": "code",
   "execution_count": 136,
   "metadata": {},
   "outputs": [
    {
     "data": {
      "text/plain": [
       "(250, 727)"
      ]
     },
     "execution_count": 136,
     "metadata": {},
     "output_type": "execute_result"
    }
   ],
   "source": [
    "multi_galen_3_doc_preds.shape"
   ]
  },
  {
   "cell_type": "code",
   "execution_count": 137,
   "metadata": {
    "scrolled": true
   },
   "outputs": [
    {
     "name": "stdout",
     "output_type": "stream",
     "text": [
      "CPU times: user 0 ns, sys: 3.94 ms, total: 3.94 ms\n",
      "Wall time: 3.63 ms\n"
     ]
    }
   ],
   "source": [
    "%%time\n",
    "multi_galen_4_test_preds = np.load('Paper_Executions/p_multi_galen_ss_test_preds_map_49.npy')"
   ]
  },
  {
   "cell_type": "code",
   "execution_count": 138,
   "metadata": {},
   "outputs": [
    {
     "data": {
      "text/plain": [
       "(3955, 727)"
      ]
     },
     "execution_count": 138,
     "metadata": {},
     "output_type": "execute_result"
    }
   ],
   "source": [
    "multi_galen_4_test_preds.shape"
   ]
  },
  {
   "cell_type": "code",
   "execution_count": 139,
   "metadata": {},
   "outputs": [],
   "source": [
    "multi_galen_4_doc_preds = max_fragment(y_frag_pred=multi_galen_4_test_preds, n_fragments=test_frag)"
   ]
  },
  {
   "cell_type": "code",
   "execution_count": 140,
   "metadata": {},
   "outputs": [
    {
     "data": {
      "text/plain": [
       "(250, 727)"
      ]
     },
     "execution_count": 140,
     "metadata": {},
     "output_type": "execute_result"
    }
   ],
   "source": [
    "multi_galen_4_doc_preds.shape"
   ]
  },
  {
   "cell_type": "markdown",
   "metadata": {},
   "source": [
    "### RESULTS FOR PAPER"
   ]
  },
  {
   "cell_type": "code",
   "execution_count": 141,
   "metadata": {},
   "outputs": [
    {
     "name": "stdout",
     "output_type": "stream",
     "text": [
      "CPU times: user 240 ms, sys: 6.74 ms, total: 247 ms\n",
      "Wall time: 246 ms\n"
     ]
    }
   ],
   "source": [
    "%%time\n",
    "test_pred_df = prob_codiesp_prediction_format(y_pred=multi_galen_doc_preds,\n",
    "                                      label_encoder_classes=mlb_encoder.classes_, doc_list=test_doc_list)\n",
    "test_pred_df[[\"doc_id\", \"code\"]].to_csv(path_or_buf=test_pred_file_path, sep=\"\\t\", header=False, index=False)"
   ]
  },
  {
   "cell_type": "code",
   "execution_count": 142,
   "metadata": {},
   "outputs": [
    {
     "name": "stdout",
     "output_type": "stream",
     "text": [
      "\n",
      "MAP estimate: 0.508\n",
      "\n",
      "CPU times: user 19.2 ms, sys: 8.72 ms, total: 27.9 ms\n",
      "Wall time: 1.47 s\n"
     ]
    }
   ],
   "source": [
    "%%time\n",
    "# Manual insert (copy + paste) train pred file name\n",
    "!python ../../resources/CodiEsp-Evaluation-Script/codiespD_P_evaluation.py -g ../../datasets/final_dataset_v4_to_publish/test/testP.tsv -p proc_test_frag_preds.tsv -c ../../resources/CodiEsp-Evaluation-Script/codiesp_codes/codiesp-P_codes.tsv  "
   ]
  },
  {
   "cell_type": "code",
   "execution_count": 143,
   "metadata": {},
   "outputs": [
    {
     "name": "stdout",
     "output_type": "stream",
     "text": [
      "0.495 0.00669328021227261\n",
      "0.495 0.007\n"
     ]
    }
   ],
   "source": [
    "res = [0.508, 0.494, 0.493, 0.49, 0.49]\n",
    "print(np.mean(res), np.std(res))\n",
    "print(round(np.mean(res), 3), round(np.std(res), 3))"
   ]
  },
  {
   "cell_type": "code",
   "execution_count": 144,
   "metadata": {
    "scrolled": true
   },
   "outputs": [
    {
     "name": "stdout",
     "output_type": "stream",
     "text": [
      "CPU times: user 654 µs, sys: 8.38 ms, total: 9.03 ms\n",
      "Wall time: 8.25 ms\n"
     ]
    }
   ],
   "source": [
    "%%time\n",
    "multi_mimic_test_preds = np.load('Paper_Executions/p_multi_mimic_ss_test_preds_map_468.npy')"
   ]
  },
  {
   "cell_type": "code",
   "execution_count": 145,
   "metadata": {},
   "outputs": [
    {
     "data": {
      "text/plain": [
       "(3955, 727)"
      ]
     },
     "execution_count": 145,
     "metadata": {},
     "output_type": "execute_result"
    }
   ],
   "source": [
    "multi_mimic_test_preds.shape"
   ]
  },
  {
   "cell_type": "code",
   "execution_count": 146,
   "metadata": {},
   "outputs": [],
   "source": [
    "multi_mimic_doc_preds = max_fragment(y_frag_pred=multi_mimic_test_preds, n_fragments=test_frag)"
   ]
  },
  {
   "cell_type": "code",
   "execution_count": 147,
   "metadata": {},
   "outputs": [
    {
     "data": {
      "text/plain": [
       "(250, 727)"
      ]
     },
     "execution_count": 147,
     "metadata": {},
     "output_type": "execute_result"
    }
   ],
   "source": [
    "multi_mimic_doc_preds.shape"
   ]
  },
  {
   "cell_type": "code",
   "execution_count": 148,
   "metadata": {
    "scrolled": true
   },
   "outputs": [
    {
     "name": "stdout",
     "output_type": "stream",
     "text": [
      "CPU times: user 1.1 ms, sys: 4.35 ms, total: 5.45 ms\n",
      "Wall time: 4.91 ms\n"
     ]
    }
   ],
   "source": [
    "%%time\n",
    "multi_mimic_1_test_preds = np.load('Paper_Executions/p_multi_mimic_ss_test_preds_map_465.npy')"
   ]
  },
  {
   "cell_type": "code",
   "execution_count": 149,
   "metadata": {},
   "outputs": [
    {
     "data": {
      "text/plain": [
       "(3955, 727)"
      ]
     },
     "execution_count": 149,
     "metadata": {},
     "output_type": "execute_result"
    }
   ],
   "source": [
    "multi_mimic_1_test_preds.shape"
   ]
  },
  {
   "cell_type": "code",
   "execution_count": 150,
   "metadata": {},
   "outputs": [],
   "source": [
    "multi_mimic_1_doc_preds = max_fragment(y_frag_pred=multi_mimic_1_test_preds, n_fragments=test_frag)"
   ]
  },
  {
   "cell_type": "code",
   "execution_count": 151,
   "metadata": {},
   "outputs": [
    {
     "data": {
      "text/plain": [
       "(250, 727)"
      ]
     },
     "execution_count": 151,
     "metadata": {},
     "output_type": "execute_result"
    }
   ],
   "source": [
    "multi_mimic_1_doc_preds.shape"
   ]
  },
  {
   "cell_type": "code",
   "execution_count": 152,
   "metadata": {
    "scrolled": true
   },
   "outputs": [
    {
     "name": "stdout",
     "output_type": "stream",
     "text": [
      "CPU times: user 637 µs, sys: 3.24 ms, total: 3.88 ms\n",
      "Wall time: 3.55 ms\n"
     ]
    }
   ],
   "source": [
    "%%time\n",
    "multi_mimic_2_test_preds = np.load('Paper_Executions/p_multi_mimic_ss_test_preds_map_463.npy')"
   ]
  },
  {
   "cell_type": "code",
   "execution_count": 153,
   "metadata": {},
   "outputs": [
    {
     "data": {
      "text/plain": [
       "(3955, 727)"
      ]
     },
     "execution_count": 153,
     "metadata": {},
     "output_type": "execute_result"
    }
   ],
   "source": [
    "multi_mimic_2_test_preds.shape"
   ]
  },
  {
   "cell_type": "code",
   "execution_count": 154,
   "metadata": {},
   "outputs": [],
   "source": [
    "multi_mimic_2_doc_preds = max_fragment(y_frag_pred=multi_mimic_2_test_preds, n_fragments=test_frag)"
   ]
  },
  {
   "cell_type": "code",
   "execution_count": 155,
   "metadata": {},
   "outputs": [
    {
     "data": {
      "text/plain": [
       "(250, 727)"
      ]
     },
     "execution_count": 155,
     "metadata": {},
     "output_type": "execute_result"
    }
   ],
   "source": [
    "multi_mimic_2_doc_preds.shape"
   ]
  },
  {
   "cell_type": "code",
   "execution_count": 156,
   "metadata": {
    "scrolled": true
   },
   "outputs": [
    {
     "name": "stdout",
     "output_type": "stream",
     "text": [
      "CPU times: user 3.21 ms, sys: 630 µs, total: 3.84 ms\n",
      "Wall time: 3.56 ms\n"
     ]
    }
   ],
   "source": [
    "%%time\n",
    "multi_mimic_3_test_preds = np.load('Paper_Executions/p_multi_mimic_ss_test_preds_map_462.npy')"
   ]
  },
  {
   "cell_type": "code",
   "execution_count": 157,
   "metadata": {},
   "outputs": [
    {
     "data": {
      "text/plain": [
       "(3955, 727)"
      ]
     },
     "execution_count": 157,
     "metadata": {},
     "output_type": "execute_result"
    }
   ],
   "source": [
    "multi_mimic_3_test_preds.shape"
   ]
  },
  {
   "cell_type": "code",
   "execution_count": 158,
   "metadata": {},
   "outputs": [],
   "source": [
    "multi_mimic_3_doc_preds = max_fragment(y_frag_pred=multi_mimic_3_test_preds, n_fragments=test_frag)"
   ]
  },
  {
   "cell_type": "code",
   "execution_count": 159,
   "metadata": {},
   "outputs": [
    {
     "data": {
      "text/plain": [
       "(250, 727)"
      ]
     },
     "execution_count": 159,
     "metadata": {},
     "output_type": "execute_result"
    }
   ],
   "source": [
    "multi_mimic_3_doc_preds.shape"
   ]
  },
  {
   "cell_type": "code",
   "execution_count": 160,
   "metadata": {
    "scrolled": true
   },
   "outputs": [
    {
     "name": "stdout",
     "output_type": "stream",
     "text": [
      "CPU times: user 0 ns, sys: 3.88 ms, total: 3.88 ms\n",
      "Wall time: 3.58 ms\n"
     ]
    }
   ],
   "source": [
    "%%time\n",
    "multi_mimic_4_test_preds = np.load('Paper_Executions/p_multi_mimic_ss_test_preds_map_46.npy')"
   ]
  },
  {
   "cell_type": "code",
   "execution_count": 161,
   "metadata": {},
   "outputs": [
    {
     "data": {
      "text/plain": [
       "(3955, 727)"
      ]
     },
     "execution_count": 161,
     "metadata": {},
     "output_type": "execute_result"
    }
   ],
   "source": [
    "multi_mimic_4_test_preds.shape"
   ]
  },
  {
   "cell_type": "code",
   "execution_count": 162,
   "metadata": {},
   "outputs": [],
   "source": [
    "multi_mimic_4_doc_preds = max_fragment(y_frag_pred=multi_mimic_4_test_preds, n_fragments=test_frag)"
   ]
  },
  {
   "cell_type": "code",
   "execution_count": 163,
   "metadata": {},
   "outputs": [
    {
     "data": {
      "text/plain": [
       "(250, 727)"
      ]
     },
     "execution_count": 163,
     "metadata": {},
     "output_type": "execute_result"
    }
   ],
   "source": [
    "multi_mimic_4_doc_preds.shape"
   ]
  },
  {
   "cell_type": "markdown",
   "metadata": {},
   "source": [
    "### RESULTS FOR PAPER"
   ]
  },
  {
   "cell_type": "code",
   "execution_count": 164,
   "metadata": {},
   "outputs": [
    {
     "name": "stdout",
     "output_type": "stream",
     "text": [
      "CPU times: user 227 ms, sys: 19.9 ms, total: 247 ms\n",
      "Wall time: 246 ms\n"
     ]
    }
   ],
   "source": [
    "%%time\n",
    "test_pred_df = prob_codiesp_prediction_format(y_pred=multi_mimic_4_doc_preds,\n",
    "                                      label_encoder_classes=mlb_encoder.classes_, doc_list=test_doc_list)\n",
    "test_pred_df[[\"doc_id\", \"code\"]].to_csv(path_or_buf=test_pred_file_path, sep=\"\\t\", header=False, index=False)"
   ]
  },
  {
   "cell_type": "code",
   "execution_count": 165,
   "metadata": {},
   "outputs": [
    {
     "name": "stdout",
     "output_type": "stream",
     "text": [
      "\n",
      "MAP estimate: 0.46\n",
      "\n",
      "CPU times: user 16.9 ms, sys: 8.33 ms, total: 25.2 ms\n",
      "Wall time: 1.46 s\n"
     ]
    }
   ],
   "source": [
    "%%time\n",
    "# Manual insert (copy + paste) train pred file name\n",
    "!python ../../resources/CodiEsp-Evaluation-Script/codiespD_P_evaluation.py -g ../../datasets/final_dataset_v4_to_publish/test/testP.tsv -p proc_test_frag_preds.tsv -c ../../resources/CodiEsp-Evaluation-Script/codiesp_codes/codiesp-P_codes.tsv  "
   ]
  },
  {
   "cell_type": "code",
   "execution_count": 166,
   "metadata": {},
   "outputs": [
    {
     "name": "stdout",
     "output_type": "stream",
     "text": [
      "0.4636 0.0027276363393971734\n",
      "0.464 0.003\n"
     ]
    }
   ],
   "source": [
    "res = [0.468, 0.465, 0.463, 0.462, 0.46]\n",
    "print(np.mean(res), np.std(res))\n",
    "print(round(np.mean(res), 3), round(np.std(res), 3))"
   ]
  },
  {
   "cell_type": "code",
   "execution_count": 167,
   "metadata": {
    "scrolled": true
   },
   "outputs": [
    {
     "name": "stdout",
     "output_type": "stream",
     "text": [
      "CPU times: user 5.39 ms, sys: 12.7 ms, total: 18.1 ms\n",
      "Wall time: 14.6 ms\n"
     ]
    }
   ],
   "source": [
    "%%time\n",
    "multi_mimic_galen_test_preds = np.load('Paper_Executions/p_multi_mimic_galen_ss_test_preds_map_508.npy')"
   ]
  },
  {
   "cell_type": "code",
   "execution_count": 168,
   "metadata": {},
   "outputs": [
    {
     "data": {
      "text/plain": [
       "(3955, 727)"
      ]
     },
     "execution_count": 168,
     "metadata": {},
     "output_type": "execute_result"
    }
   ],
   "source": [
    "multi_mimic_galen_test_preds.shape"
   ]
  },
  {
   "cell_type": "code",
   "execution_count": 169,
   "metadata": {},
   "outputs": [],
   "source": [
    "multi_mimic_galen_doc_preds = max_fragment(y_frag_pred=multi_mimic_galen_test_preds, n_fragments=test_frag)"
   ]
  },
  {
   "cell_type": "code",
   "execution_count": 170,
   "metadata": {},
   "outputs": [
    {
     "data": {
      "text/plain": [
       "(250, 727)"
      ]
     },
     "execution_count": 170,
     "metadata": {},
     "output_type": "execute_result"
    }
   ],
   "source": [
    "multi_mimic_galen_doc_preds.shape"
   ]
  },
  {
   "cell_type": "code",
   "execution_count": 171,
   "metadata": {
    "scrolled": true
   },
   "outputs": [
    {
     "name": "stdout",
     "output_type": "stream",
     "text": [
      "CPU times: user 133 µs, sys: 4.15 ms, total: 4.29 ms\n",
      "Wall time: 3.93 ms\n"
     ]
    }
   ],
   "source": [
    "%%time\n",
    "multi_mimic_galen_1_test_preds = np.load('Paper_Executions/p_multi_mimic_galen_ss_test_preds_map_502.npy')"
   ]
  },
  {
   "cell_type": "code",
   "execution_count": 172,
   "metadata": {},
   "outputs": [
    {
     "data": {
      "text/plain": [
       "(3955, 727)"
      ]
     },
     "execution_count": 172,
     "metadata": {},
     "output_type": "execute_result"
    }
   ],
   "source": [
    "multi_mimic_galen_1_test_preds.shape"
   ]
  },
  {
   "cell_type": "code",
   "execution_count": 173,
   "metadata": {},
   "outputs": [],
   "source": [
    "multi_mimic_galen_1_doc_preds = max_fragment(y_frag_pred=multi_mimic_galen_1_test_preds, n_fragments=test_frag)"
   ]
  },
  {
   "cell_type": "code",
   "execution_count": 174,
   "metadata": {},
   "outputs": [
    {
     "data": {
      "text/plain": [
       "(250, 727)"
      ]
     },
     "execution_count": 174,
     "metadata": {},
     "output_type": "execute_result"
    }
   ],
   "source": [
    "multi_mimic_galen_1_doc_preds.shape"
   ]
  },
  {
   "cell_type": "code",
   "execution_count": 175,
   "metadata": {
    "scrolled": true
   },
   "outputs": [
    {
     "name": "stdout",
     "output_type": "stream",
     "text": [
      "CPU times: user 0 ns, sys: 3.84 ms, total: 3.84 ms\n",
      "Wall time: 3.55 ms\n"
     ]
    }
   ],
   "source": [
    "%%time\n",
    "multi_mimic_galen_2_test_preds = np.load('Paper_Executions/p_multi_mimic_galen_ss_test_preds_map_501.npy')"
   ]
  },
  {
   "cell_type": "code",
   "execution_count": 176,
   "metadata": {},
   "outputs": [
    {
     "data": {
      "text/plain": [
       "(3955, 727)"
      ]
     },
     "execution_count": 176,
     "metadata": {},
     "output_type": "execute_result"
    }
   ],
   "source": [
    "multi_mimic_galen_2_test_preds.shape"
   ]
  },
  {
   "cell_type": "code",
   "execution_count": 177,
   "metadata": {},
   "outputs": [],
   "source": [
    "multi_mimic_galen_2_doc_preds = max_fragment(y_frag_pred=multi_mimic_galen_2_test_preds, n_fragments=test_frag)"
   ]
  },
  {
   "cell_type": "code",
   "execution_count": 178,
   "metadata": {},
   "outputs": [
    {
     "data": {
      "text/plain": [
       "(250, 727)"
      ]
     },
     "execution_count": 178,
     "metadata": {},
     "output_type": "execute_result"
    }
   ],
   "source": [
    "multi_mimic_galen_2_doc_preds.shape"
   ]
  },
  {
   "cell_type": "code",
   "execution_count": 179,
   "metadata": {
    "scrolled": true
   },
   "outputs": [
    {
     "name": "stdout",
     "output_type": "stream",
     "text": [
      "CPU times: user 3.36 ms, sys: 3.98 ms, total: 7.34 ms\n",
      "Wall time: 6.15 ms\n"
     ]
    }
   ],
   "source": [
    "%%time\n",
    "multi_mimic_galen_3_test_preds = np.load('Paper_Executions/p_multi_mimic_galen_ss_test_preds_map_498.npy')"
   ]
  },
  {
   "cell_type": "code",
   "execution_count": 180,
   "metadata": {},
   "outputs": [
    {
     "data": {
      "text/plain": [
       "(3955, 727)"
      ]
     },
     "execution_count": 180,
     "metadata": {},
     "output_type": "execute_result"
    }
   ],
   "source": [
    "multi_mimic_galen_3_test_preds.shape"
   ]
  },
  {
   "cell_type": "code",
   "execution_count": 181,
   "metadata": {},
   "outputs": [],
   "source": [
    "multi_mimic_galen_3_doc_preds = max_fragment(y_frag_pred=multi_mimic_galen_3_test_preds, n_fragments=test_frag)"
   ]
  },
  {
   "cell_type": "code",
   "execution_count": 182,
   "metadata": {},
   "outputs": [
    {
     "data": {
      "text/plain": [
       "(250, 727)"
      ]
     },
     "execution_count": 182,
     "metadata": {},
     "output_type": "execute_result"
    }
   ],
   "source": [
    "multi_mimic_galen_3_doc_preds.shape"
   ]
  },
  {
   "cell_type": "code",
   "execution_count": 183,
   "metadata": {
    "scrolled": true
   },
   "outputs": [
    {
     "name": "stdout",
     "output_type": "stream",
     "text": [
      "CPU times: user 0 ns, sys: 3.83 ms, total: 3.83 ms\n",
      "Wall time: 3.51 ms\n"
     ]
    }
   ],
   "source": [
    "%%time\n",
    "multi_mimic_galen_4_test_preds = np.load('Paper_Executions/p_multi_mimic_galen_ss_test_preds_map_496.npy')"
   ]
  },
  {
   "cell_type": "code",
   "execution_count": 184,
   "metadata": {},
   "outputs": [
    {
     "data": {
      "text/plain": [
       "(3955, 727)"
      ]
     },
     "execution_count": 184,
     "metadata": {},
     "output_type": "execute_result"
    }
   ],
   "source": [
    "multi_mimic_galen_4_test_preds.shape"
   ]
  },
  {
   "cell_type": "code",
   "execution_count": 185,
   "metadata": {},
   "outputs": [],
   "source": [
    "multi_mimic_galen_4_doc_preds = max_fragment(y_frag_pred=multi_mimic_galen_4_test_preds, n_fragments=test_frag)"
   ]
  },
  {
   "cell_type": "code",
   "execution_count": 186,
   "metadata": {},
   "outputs": [
    {
     "data": {
      "text/plain": [
       "(250, 727)"
      ]
     },
     "execution_count": 186,
     "metadata": {},
     "output_type": "execute_result"
    }
   ],
   "source": [
    "multi_mimic_galen_4_doc_preds.shape"
   ]
  },
  {
   "cell_type": "markdown",
   "metadata": {},
   "source": [
    "### RESULTS FOR PAPER"
   ]
  },
  {
   "cell_type": "code",
   "execution_count": 187,
   "metadata": {},
   "outputs": [
    {
     "name": "stdout",
     "output_type": "stream",
     "text": [
      "CPU times: user 234 ms, sys: 11.4 ms, total: 246 ms\n",
      "Wall time: 245 ms\n"
     ]
    }
   ],
   "source": [
    "%%time\n",
    "test_pred_df = prob_codiesp_prediction_format(y_pred=multi_mimic_galen_4_doc_preds,\n",
    "                                      label_encoder_classes=mlb_encoder.classes_, doc_list=test_doc_list)\n",
    "test_pred_df[[\"doc_id\", \"code\"]].to_csv(path_or_buf=test_pred_file_path, sep=\"\\t\", header=False, index=False)"
   ]
  },
  {
   "cell_type": "code",
   "execution_count": 188,
   "metadata": {},
   "outputs": [
    {
     "name": "stdout",
     "output_type": "stream",
     "text": [
      "\n",
      "MAP estimate: 0.496\n",
      "\n",
      "CPU times: user 13.3 ms, sys: 16.6 ms, total: 29.9 ms\n",
      "Wall time: 1.46 s\n"
     ]
    }
   ],
   "source": [
    "%%time\n",
    "# Manual insert (copy + paste) train pred file name\n",
    "!python ../../resources/CodiEsp-Evaluation-Script/codiespD_P_evaluation.py -g ../../datasets/final_dataset_v4_to_publish/test/testP.tsv -p proc_test_frag_preds.tsv -c ../../resources/CodiEsp-Evaluation-Script/codiesp_codes/codiesp-P_codes.tsv  "
   ]
  },
  {
   "cell_type": "code",
   "execution_count": 189,
   "metadata": {},
   "outputs": [
    {
     "name": "stdout",
     "output_type": "stream",
     "text": [
      "0.5010000000000001 0.0040987803063838426\n",
      "0.501 0.004\n"
     ]
    }
   ],
   "source": [
    "res = [0.508, 0.502, 0.501, 0.498, 0.496]\n",
    "print(np.mean(res), np.std(res))\n",
    "print(round(np.mean(res), 3), round(np.std(res), 3))"
   ]
  },
  {
   "cell_type": "markdown",
   "metadata": {},
   "source": [
    "## BETO model"
   ]
  },
  {
   "cell_type": "code",
   "execution_count": 190,
   "metadata": {},
   "outputs": [],
   "source": [
    "bert_path = \"../../../../NLP/BERT_models/BETO_cased/\""
   ]
  },
  {
   "cell_type": "code",
   "execution_count": 191,
   "metadata": {},
   "outputs": [],
   "source": [
    "vocab_file = \"vocab.txt\""
   ]
  },
  {
   "cell_type": "code",
   "execution_count": 192,
   "metadata": {},
   "outputs": [],
   "source": [
    "bert_token_dict = load_vocabulary(bert_path + vocab_file)"
   ]
  },
  {
   "cell_type": "code",
   "execution_count": 193,
   "metadata": {},
   "outputs": [
    {
     "data": {
      "text/plain": [
       "31002"
      ]
     },
     "execution_count": 193,
     "metadata": {},
     "output_type": "execute_result"
    }
   ],
   "source": [
    "len(bert_token_dict)"
   ]
  },
  {
   "cell_type": "code",
   "execution_count": 194,
   "metadata": {},
   "outputs": [],
   "source": [
    "bert_tokenizer = Tokenizer(token_dict=bert_token_dict, pad_index=1, cased=True)"
   ]
  },
  {
   "cell_type": "code",
   "execution_count": 195,
   "metadata": {},
   "outputs": [],
   "source": [
    "# Hyper-parameters (only tune bs, epochs, lr and (optionally) wd)\n",
    "text_col = \"raw_text\"\n",
    "SEQ_LEN = 128 # Lower than max_position_embeddings field in config file (GPU exhausted)"
   ]
  },
  {
   "cell_type": "code",
   "execution_count": 196,
   "metadata": {},
   "outputs": [
    {
     "name": "stderr",
     "output_type": "stream",
     "text": [
      "100%|██████████| 250/250 [00:01<00:00, 179.99it/s]"
     ]
    },
    {
     "name": "stdout",
     "output_type": "stream",
     "text": [
      "CPU times: user 1.44 s, sys: 34.3 ms, total: 1.47 s\n",
      "Wall time: 1.44 s\n"
     ]
    },
    {
     "name": "stderr",
     "output_type": "stream",
     "text": [
      "\n"
     ]
    }
   ],
   "source": [
    "%%time\n",
    "test_ind, test_seg, test_y, test_frag, test_start_end_frag = ss_brute_force_create_frag_input_data(df_text=df_text_test, \n",
    "                                                  text_col=text_col, \n",
    "                                                  df_ann=df_codes_d_train, doc_list=test_doc_list, ss_dict=ss_dict_test,\n",
    "                                                  tokenizer=bert_tokenizer, lab_encoder=mlb_encoder, seq_len=SEQ_LEN,\n",
    "                                                  greedy=False)"
   ]
  },
  {
   "cell_type": "code",
   "execution_count": 197,
   "metadata": {},
   "outputs": [
    {
     "data": {
      "text/plain": [
       "(3948, 128)"
      ]
     },
     "execution_count": 197,
     "metadata": {},
     "output_type": "execute_result"
    }
   ],
   "source": [
    "test_ind.shape"
   ]
  },
  {
   "cell_type": "code",
   "execution_count": 198,
   "metadata": {},
   "outputs": [
    {
     "data": {
      "text/plain": [
       "(3948, 128)"
      ]
     },
     "execution_count": 198,
     "metadata": {},
     "output_type": "execute_result"
    }
   ],
   "source": [
    "test_seg.shape"
   ]
  },
  {
   "cell_type": "code",
   "execution_count": 199,
   "metadata": {},
   "outputs": [
    {
     "data": {
      "text/plain": [
       "(3948, 727)"
      ]
     },
     "execution_count": 199,
     "metadata": {},
     "output_type": "execute_result"
    }
   ],
   "source": [
    "test_y.shape"
   ]
  },
  {
   "cell_type": "code",
   "execution_count": 200,
   "metadata": {},
   "outputs": [
    {
     "data": {
      "text/plain": [
       "(250,)"
      ]
     },
     "execution_count": 200,
     "metadata": {},
     "output_type": "execute_result"
    }
   ],
   "source": [
    "test_frag.shape"
   ]
  },
  {
   "cell_type": "markdown",
   "metadata": {},
   "source": [
    "Sanity check:"
   ]
  },
  {
   "cell_type": "code",
   "execution_count": 201,
   "metadata": {},
   "outputs": [],
   "source": [
    "# Check fragments have n_doc shape\n",
    "assert len(test_frag) == len(test_doc_list)"
   ]
  },
  {
   "cell_type": "code",
   "execution_count": 202,
   "metadata": {},
   "outputs": [],
   "source": [
    "# Check indices have n_doc*n_frag x SEQ_LEN shape\n",
    "assert test_ind.shape == (sum(test_frag), SEQ_LEN)"
   ]
  },
  {
   "cell_type": "code",
   "execution_count": 203,
   "metadata": {},
   "outputs": [
    {
     "data": {
      "text/plain": [
       "count    250.000000\n",
       "mean      15.792000\n",
       "std        8.114439\n",
       "min        4.000000\n",
       "25%       10.000000\n",
       "50%       14.000000\n",
       "75%       19.000000\n",
       "max       59.000000\n",
       "dtype: float64"
      ]
     },
     "execution_count": 203,
     "metadata": {},
     "output_type": "execute_result"
    }
   ],
   "source": [
    "# Check n_frag distribution across train texts\n",
    "pd.Series(test_frag).describe()"
   ]
  },
  {
   "cell_type": "code",
   "execution_count": 204,
   "metadata": {},
   "outputs": [],
   "source": [
    "# Inspect a randomly selected text and its encoded version\n",
    "check_id = np.random.randint(low=0, high=len(test_doc_list), size=1)[0]"
   ]
  },
  {
   "cell_type": "code",
   "execution_count": 205,
   "metadata": {},
   "outputs": [
    {
     "data": {
      "text/plain": [
       "6"
      ]
     },
     "execution_count": 205,
     "metadata": {},
     "output_type": "execute_result"
    }
   ],
   "source": [
    "check_id"
   ]
  },
  {
   "cell_type": "code",
   "execution_count": 206,
   "metadata": {
    "scrolled": true
   },
   "outputs": [
    {
     "data": {
      "text/plain": [
       "'Presentamos una paciente de 63 años de edad, con antecedentes de hipertensión arterial y angor pectoris, remitida a nuestro servicio desde un hospital de un medio rural. El motivo de la consulta era el hallazgo casual en una ecografía de una masa renal izquierda, no refiriendo la paciente sintomatología alguna. En la analítica de sangre sólo aparecía una discreta eosinofilia. Como estudios complementarios se realizaron urografías intravenosas en las que se observó un efecto masa a nivel de flanco izquierdo, de borde liso y bien delimitado, dependiente del polo superior del riñón izquierdo, con compresión extrínseca del sistema pielocalicial, de 16 x 10 cm.. La TAC reveló una masa de 17 x 12 x 19 cm en el polo superior del riñón izquierdo, con zonas quísticas, compatible con nefroma quístico multilocular, sin existir adenopatías. La gammagrafía DMSA mostraba una función renal diferencial del 63% para el riñón derecho y del 37% para el izquierdo.\\n\\nSe realizó una nueva ecografía en la que se aprecia una imagen compatible con quiste hidatídico de gran tamaño, con estructuras compatibles con vesículas en su interior. La serología hidatídica resultó negativa, por lo que se decidió someter a la paciente a una RMN que tampoco aclaró el diagnóstico de forma definitiva: masa en el polo superior del riñón izquierdo con estructura interna compleja, bien delimitada, sin captación de contraste, con calcificaciones, sospechosa de quiste hidatídico renal o nefroma quístico multilocular.\\nEn vista de los resultados anteriormente expuestos, el paso siguiente fue la punción ecodirigida de la masa renal, siendo nuevamente negativa la serología para hidatidosis, aunque se obtuvo un líquido de aspecto cristalino.\\nFinalmente la paciente se sometió a intervención quirúrgica en la que se confirmó el diagnóstico de quiste hidatídico renal y se realizó quistectomía parcial del mismo, preparando el campo operatorio mediante compresas bañadas en rivanol..\\n\\nLa evolución postoperatoria fue favorable, instaurándose tratamiento con albendazol 400 mg cada 12 horas durante un mes tras la intervención quirúrgica.\\nEn el momento actual la paciente permanece asintomática (se mantiene la hipertensión arterial que ya presentaba antes del diagnóstico) y la serología de control volvió a resultar negativa, persistiendo una mínima eosinofilia.\\n\\n'"
      ]
     },
     "execution_count": 206,
     "metadata": {},
     "output_type": "execute_result"
    }
   ],
   "source": [
    "df_text_test[df_text_test[\"doc_id\"] == test_doc_list[check_id]][text_col].values[0]"
   ]
  },
  {
   "cell_type": "code",
   "execution_count": 207,
   "metadata": {},
   "outputs": [
    {
     "name": "stdout",
     "output_type": "stream",
     "text": [
      "[CLS] Presenta ##mos una paciente de 63 años de edad , con antecedentes de hiper ##tensión arterial y an ##gor pec ##tori ##s , remi ##tida a nuestro servicio desde un hospital de un medio rural . [SEP] [PAD] [PAD] [PAD] [PAD] [PAD] [PAD] [PAD] [PAD] [PAD] [PAD] [PAD] [PAD] [PAD] [PAD] [PAD] [PAD] [PAD] [PAD] [PAD] [PAD] [PAD] [PAD] [PAD] [PAD] [PAD] [PAD] [PAD] [PAD] [PAD] [PAD] [PAD] [PAD] [PAD] [PAD] [PAD] [PAD] [PAD] [PAD] [PAD] [PAD] [PAD] [PAD] [PAD] [PAD] [PAD] [PAD] [PAD] [PAD] [PAD] [PAD] [PAD] [PAD] [PAD] [PAD] [PAD] [PAD] [PAD] [PAD] [PAD] [PAD] [PAD] [PAD] [PAD] [PAD] [PAD] [PAD] [PAD] [PAD] [PAD] [PAD] [PAD] [PAD] [PAD] [PAD] [PAD] [PAD] [PAD] [PAD] [PAD] [PAD] [PAD] [PAD] [PAD] [PAD] [PAD] [PAD] [PAD] [PAD] [PAD] [PAD] \n",
      "\n",
      "[CLS] El motivo de la consulta era el hallaz ##go cas ##ual en una eco ##grafía de una masa renal izquierda , no refi ##riendo la paciente sin ##toma ##tología alguna . [SEP] [PAD] [PAD] [PAD] [PAD] [PAD] [PAD] [PAD] [PAD] [PAD] [PAD] [PAD] [PAD] [PAD] [PAD] [PAD] [PAD] [PAD] [PAD] [PAD] [PAD] [PAD] [PAD] [PAD] [PAD] [PAD] [PAD] [PAD] [PAD] [PAD] [PAD] [PAD] [PAD] [PAD] [PAD] [PAD] [PAD] [PAD] [PAD] [PAD] [PAD] [PAD] [PAD] [PAD] [PAD] [PAD] [PAD] [PAD] [PAD] [PAD] [PAD] [PAD] [PAD] [PAD] [PAD] [PAD] [PAD] [PAD] [PAD] [PAD] [PAD] [PAD] [PAD] [PAD] [PAD] [PAD] [PAD] [PAD] [PAD] [PAD] [PAD] [PAD] [PAD] [PAD] [PAD] [PAD] [PAD] [PAD] [PAD] [PAD] [PAD] [PAD] [PAD] [PAD] [PAD] [PAD] [PAD] [PAD] [PAD] [PAD] [PAD] [PAD] [PAD] [PAD] [PAD] [PAD] \n",
      "\n",
      "[CLS] En la analí ##tica de sangre sólo aparecía una discre ##ta e ##os ##ino ##fil ##ia . [SEP] [PAD] [PAD] [PAD] [PAD] [PAD] [PAD] [PAD] [PAD] [PAD] [PAD] [PAD] [PAD] [PAD] [PAD] [PAD] [PAD] [PAD] [PAD] [PAD] [PAD] [PAD] [PAD] [PAD] [PAD] [PAD] [PAD] [PAD] [PAD] [PAD] [PAD] [PAD] [PAD] [PAD] [PAD] [PAD] [PAD] [PAD] [PAD] [PAD] [PAD] [PAD] [PAD] [PAD] [PAD] [PAD] [PAD] [PAD] [PAD] [PAD] [PAD] [PAD] [PAD] [PAD] [PAD] [PAD] [PAD] [PAD] [PAD] [PAD] [PAD] [PAD] [PAD] [PAD] [PAD] [PAD] [PAD] [PAD] [PAD] [PAD] [PAD] [PAD] [PAD] [PAD] [PAD] [PAD] [PAD] [PAD] [PAD] [PAD] [PAD] [PAD] [PAD] [PAD] [PAD] [PAD] [PAD] [PAD] [PAD] [PAD] [PAD] [PAD] [PAD] [PAD] [PAD] [PAD] [PAD] [PAD] [PAD] [PAD] [PAD] [PAD] [PAD] [PAD] [PAD] [PAD] [PAD] [PAD] [PAD] [PAD] \n",
      "\n",
      "[CLS] Como estudios complementarios se realizaron ur ##o ##grafías intravenosa ##s en las que se observó un efecto masa a nivel de flan ##co izquierdo , de borde lis ##o y bien delim ##itado , dependiente del polo superior del riñón izquierdo , con compresión ex ##tr ##ín ##sec ##a del sistema piel ##oc ##ali ##cial , de 16 x 10 cm . . [SEP] [PAD] [PAD] [PAD] [PAD] [PAD] [PAD] [PAD] [PAD] [PAD] [PAD] [PAD] [PAD] [PAD] [PAD] [PAD] [PAD] [PAD] [PAD] [PAD] [PAD] [PAD] [PAD] [PAD] [PAD] [PAD] [PAD] [PAD] [PAD] [PAD] [PAD] [PAD] [PAD] [PAD] [PAD] [PAD] [PAD] [PAD] [PAD] [PAD] [PAD] [PAD] [PAD] [PAD] [PAD] [PAD] [PAD] [PAD] [PAD] [PAD] [PAD] [PAD] [PAD] [PAD] [PAD] [PAD] [PAD] [PAD] [PAD] [PAD] [PAD] [PAD] [PAD] [PAD] \n",
      "\n",
      "[CLS] La TA ##C reveló una masa de 1 [UNK] x 12 x 19 cm en el polo superior del riñón izquierdo , con zonas quí ##sticas , compatible con ne ##fr ##oma quí ##stico multi ##locu ##lar , sin existir aden ##op ##atía ##s . [SEP] [PAD] [PAD] [PAD] [PAD] [PAD] [PAD] [PAD] [PAD] [PAD] [PAD] [PAD] [PAD] [PAD] [PAD] [PAD] [PAD] [PAD] [PAD] [PAD] [PAD] [PAD] [PAD] [PAD] [PAD] [PAD] [PAD] [PAD] [PAD] [PAD] [PAD] [PAD] [PAD] [PAD] [PAD] [PAD] [PAD] [PAD] [PAD] [PAD] [PAD] [PAD] [PAD] [PAD] [PAD] [PAD] [PAD] [PAD] [PAD] [PAD] [PAD] [PAD] [PAD] [PAD] [PAD] [PAD] [PAD] [PAD] [PAD] [PAD] [PAD] [PAD] [PAD] [PAD] [PAD] [PAD] [PAD] [PAD] [PAD] [PAD] [PAD] [PAD] [PAD] [PAD] [PAD] [PAD] [PAD] [PAD] [PAD] [PAD] [PAD] [PAD] \n",
      "\n",
      "[CLS] La gam ##ma ##grafía D ##MS ##A mostraba una función renal diferencial del 63 [UNK] para el riñón derecho y del 3 [UNK] [UNK] para el izquierdo . [SEP] [PAD] [PAD] [PAD] [PAD] [PAD] [PAD] [PAD] [PAD] [PAD] [PAD] [PAD] [PAD] [PAD] [PAD] [PAD] [PAD] [PAD] [PAD] [PAD] [PAD] [PAD] [PAD] [PAD] [PAD] [PAD] [PAD] [PAD] [PAD] [PAD] [PAD] [PAD] [PAD] [PAD] [PAD] [PAD] [PAD] [PAD] [PAD] [PAD] [PAD] [PAD] [PAD] [PAD] [PAD] [PAD] [PAD] [PAD] [PAD] [PAD] [PAD] [PAD] [PAD] [PAD] [PAD] [PAD] [PAD] [PAD] [PAD] [PAD] [PAD] [PAD] [PAD] [PAD] [PAD] [PAD] [PAD] [PAD] [PAD] [PAD] [PAD] [PAD] [PAD] [PAD] [PAD] [PAD] [PAD] [PAD] [PAD] [PAD] [PAD] [PAD] [PAD] [PAD] [PAD] [PAD] [PAD] [PAD] [PAD] [PAD] [PAD] [PAD] [PAD] [PAD] [PAD] [PAD] [PAD] [PAD] [PAD] \n",
      "\n",
      "[CLS] Se realizó una nueva eco ##grafía en la que se aprecia una imagen compatible con qui ##ste hi ##da ##tí ##dico de gran tamaño , con estructuras compatibles con ves ##ículas en su interior . [SEP] [PAD] [PAD] [PAD] [PAD] [PAD] [PAD] [PAD] [PAD] [PAD] [PAD] [PAD] [PAD] [PAD] [PAD] [PAD] [PAD] [PAD] [PAD] [PAD] [PAD] [PAD] [PAD] [PAD] [PAD] [PAD] [PAD] [PAD] [PAD] [PAD] [PAD] [PAD] [PAD] [PAD] [PAD] [PAD] [PAD] [PAD] [PAD] [PAD] [PAD] [PAD] [PAD] [PAD] [PAD] [PAD] [PAD] [PAD] [PAD] [PAD] [PAD] [PAD] [PAD] [PAD] [PAD] [PAD] [PAD] [PAD] [PAD] [PAD] [PAD] [PAD] [PAD] [PAD] [PAD] [PAD] [PAD] [PAD] [PAD] [PAD] [PAD] [PAD] [PAD] [PAD] [PAD] [PAD] [PAD] [PAD] [PAD] [PAD] [PAD] [PAD] [PAD] [PAD] [PAD] [PAD] [PAD] [PAD] [PAD] [PAD] [PAD] [PAD] \n",
      "\n",
      "[CLS] La ser ##ología hi ##da ##tí ##dica resultó negativa , por lo que se decidió someter a la paciente a una RM ##N que tampoco aclar ##ó el diagnóstico de forma definitiva : masa en el polo superior del riñón izquierdo con estructura interna compleja , bien delim ##itada , sin cap ##tación de contraste , con cal ##ci ##ficaciones , sospechosa de qui ##ste hi ##da ##tí ##dico renal o ne ##fr ##oma quí ##stico multi ##locu ##lar . [SEP] [PAD] [PAD] [PAD] [PAD] [PAD] [PAD] [PAD] [PAD] [PAD] [PAD] [PAD] [PAD] [PAD] [PAD] [PAD] [PAD] [PAD] [PAD] [PAD] [PAD] [PAD] [PAD] [PAD] [PAD] [PAD] [PAD] [PAD] [PAD] [PAD] [PAD] [PAD] [PAD] [PAD] [PAD] [PAD] [PAD] [PAD] [PAD] [PAD] [PAD] [PAD] [PAD] [PAD] [PAD] [PAD] [PAD] \n",
      "\n",
      "[CLS] En vista de los resultados anteriormente expuestos , el paso siguiente fue la pun ##ción eco ##dir ##ig ##ida de la masa renal , siendo nuevamente negativa la ser ##ología para hi ##da ##tidos ##is , aunque se obtuvo un líquido de aspecto cristal ##ino . [SEP] [PAD] [PAD] [PAD] [PAD] [PAD] [PAD] [PAD] [PAD] [PAD] [PAD] [PAD] [PAD] [PAD] [PAD] [PAD] [PAD] [PAD] [PAD] [PAD] [PAD] [PAD] [PAD] [PAD] [PAD] [PAD] [PAD] [PAD] [PAD] [PAD] [PAD] [PAD] [PAD] [PAD] [PAD] [PAD] [PAD] [PAD] [PAD] [PAD] [PAD] [PAD] [PAD] [PAD] [PAD] [PAD] [PAD] [PAD] [PAD] [PAD] [PAD] [PAD] [PAD] [PAD] [PAD] [PAD] [PAD] [PAD] [PAD] [PAD] [PAD] [PAD] [PAD] [PAD] [PAD] [PAD] [PAD] [PAD] [PAD] [PAD] [PAD] [PAD] [PAD] [PAD] [PAD] [PAD] [PAD] [PAD] [PAD] [PAD] [PAD] \n",
      "\n",
      "[CLS] Finalmente la paciente se some ##tió a intervención quirúr ##gica en la que se confirmó el diagnóstico de qui ##ste hi ##da ##tí ##dico renal y se realizó qui ##ste ##cto ##mí ##a parcial del mismo , preparando el campo opera ##torio mediante compres ##as bañ ##adas en riv ##ano ##l . . [SEP] [PAD] [PAD] [PAD] [PAD] [PAD] [PAD] [PAD] [PAD] [PAD] [PAD] [PAD] [PAD] [PAD] [PAD] [PAD] [PAD] [PAD] [PAD] [PAD] [PAD] [PAD] [PAD] [PAD] [PAD] [PAD] [PAD] [PAD] [PAD] [PAD] [PAD] [PAD] [PAD] [PAD] [PAD] [PAD] [PAD] [PAD] [PAD] [PAD] [PAD] [PAD] [PAD] [PAD] [PAD] [PAD] [PAD] [PAD] [PAD] [PAD] [PAD] [PAD] [PAD] [PAD] [PAD] [PAD] [PAD] [PAD] [PAD] [PAD] [PAD] [PAD] [PAD] [PAD] [PAD] [PAD] [PAD] [PAD] [PAD] [PAD] [PAD] [PAD] [PAD] [PAD] \n",
      "\n",
      "[CLS] La evolución post ##op ##erato ##ria fue favorable , insta ##ur ##ándose tratamiento con al ##ben ##daz ##ol 400 mg cada 12 horas durante un mes tras la intervención quirúr ##gica . [SEP] [PAD] [PAD] [PAD] [PAD] [PAD] [PAD] [PAD] [PAD] [PAD] [PAD] [PAD] [PAD] [PAD] [PAD] [PAD] [PAD] [PAD] [PAD] [PAD] [PAD] [PAD] [PAD] [PAD] [PAD] [PAD] [PAD] [PAD] [PAD] [PAD] [PAD] [PAD] [PAD] [PAD] [PAD] [PAD] [PAD] [PAD] [PAD] [PAD] [PAD] [PAD] [PAD] [PAD] [PAD] [PAD] [PAD] [PAD] [PAD] [PAD] [PAD] [PAD] [PAD] [PAD] [PAD] [PAD] [PAD] [PAD] [PAD] [PAD] [PAD] [PAD] [PAD] [PAD] [PAD] [PAD] [PAD] [PAD] [PAD] [PAD] [PAD] [PAD] [PAD] [PAD] [PAD] [PAD] [PAD] [PAD] [PAD] [PAD] [PAD] [PAD] [PAD] [PAD] [PAD] [PAD] [PAD] [PAD] [PAD] [PAD] [PAD] [PAD] [PAD] [PAD] [PAD] \n",
      "\n",
      "[CLS] En el momento actual la paciente permanece asi ##nto ##mática ( se mantiene la hiper ##tensión arterial que ya presentaba antes del diagnóstico ) y la ser ##ología de control volvió a resultar negativa , persist ##iendo una mínima e ##os ##ino ##fil ##ia . [SEP] [PAD] [PAD] [PAD] [PAD] [PAD] [PAD] [PAD] [PAD] [PAD] [PAD] [PAD] [PAD] [PAD] [PAD] [PAD] [PAD] [PAD] [PAD] [PAD] [PAD] [PAD] [PAD] [PAD] [PAD] [PAD] [PAD] [PAD] [PAD] [PAD] [PAD] [PAD] [PAD] [PAD] [PAD] [PAD] [PAD] [PAD] [PAD] [PAD] [PAD] [PAD] [PAD] [PAD] [PAD] [PAD] [PAD] [PAD] [PAD] [PAD] [PAD] [PAD] [PAD] [PAD] [PAD] [PAD] [PAD] [PAD] [PAD] [PAD] [PAD] [PAD] [PAD] [PAD] [PAD] [PAD] [PAD] [PAD] [PAD] [PAD] [PAD] [PAD] [PAD] [PAD] [PAD] [PAD] [PAD] [PAD] [PAD] [PAD] [PAD] [PAD] \n",
      "\n"
     ]
    }
   ],
   "source": [
    "check_id_frag = sum(test_frag[:check_id])\n",
    "for frag in test_ind[check_id_frag:check_id_frag + test_frag[check_id]]:\n",
    "    print(' '.join([bert_tokenizer._token_dict_inv[ind] for ind in frag]), \"\\n\")"
   ]
  },
  {
   "cell_type": "code",
   "execution_count": 208,
   "metadata": {},
   "outputs": [],
   "source": [
    "# Check segments are a zeros n_doc*n_frag x SEQ_LEN matrix\n",
    "assert np.array_equal(np.zeros(test_ind.shape), test_seg)"
   ]
  },
  {
   "cell_type": "code",
   "execution_count": 209,
   "metadata": {},
   "outputs": [],
   "source": [
    "# Check labels shape\n",
    "assert test_y.shape == (test_ind.shape[0], num_labels)"
   ]
  },
  {
   "cell_type": "code",
   "execution_count": 210,
   "metadata": {},
   "outputs": [],
   "source": [
    "# Check artificial labels are all zero\n",
    "assert np.array_equal(np.zeros(test_y.shape), test_y)"
   ]
  },
  {
   "cell_type": "code",
   "execution_count": 211,
   "metadata": {},
   "outputs": [
    {
     "data": {
      "text/plain": [
       "count    3948.0\n",
       "mean        0.0\n",
       "std         0.0\n",
       "min         0.0\n",
       "25%         0.0\n",
       "50%         0.0\n",
       "75%         0.0\n",
       "max         0.0\n",
       "dtype: float64"
      ]
     },
     "execution_count": 211,
     "metadata": {},
     "output_type": "execute_result"
    }
   ],
   "source": [
    "# Fragment labels distribution\n",
    "pd.Series(np.sum(test_y, axis=1)).describe()"
   ]
  },
  {
   "cell_type": "code",
   "execution_count": 212,
   "metadata": {},
   "outputs": [],
   "source": [
    "test_pred_file_path = \"proc_test_frag_preds.tsv\""
   ]
  },
  {
   "cell_type": "markdown",
   "metadata": {},
   "source": [
    "We load the sentence-predictions from the different models, and generate the predictions at document level, using Max criterion:"
   ]
  },
  {
   "cell_type": "code",
   "execution_count": 213,
   "metadata": {
    "scrolled": true
   },
   "outputs": [
    {
     "name": "stdout",
     "output_type": "stream",
     "text": [
      "CPU times: user 0 ns, sys: 3.89 ms, total: 3.89 ms\n",
      "Wall time: 3.49 ms\n"
     ]
    }
   ],
   "source": [
    "%%time\n",
    "beto_test_preds = np.load('Paper_Executions/p_beto_ss_test_preds_map_467.npy')"
   ]
  },
  {
   "cell_type": "code",
   "execution_count": 214,
   "metadata": {},
   "outputs": [
    {
     "data": {
      "text/plain": [
       "(3948, 727)"
      ]
     },
     "execution_count": 214,
     "metadata": {},
     "output_type": "execute_result"
    }
   ],
   "source": [
    "beto_test_preds.shape"
   ]
  },
  {
   "cell_type": "code",
   "execution_count": 215,
   "metadata": {},
   "outputs": [],
   "source": [
    "beto_doc_preds = max_fragment(y_frag_pred=beto_test_preds, n_fragments=test_frag)"
   ]
  },
  {
   "cell_type": "code",
   "execution_count": 216,
   "metadata": {},
   "outputs": [
    {
     "data": {
      "text/plain": [
       "(250, 727)"
      ]
     },
     "execution_count": 216,
     "metadata": {},
     "output_type": "execute_result"
    }
   ],
   "source": [
    "beto_doc_preds.shape"
   ]
  },
  {
   "cell_type": "code",
   "execution_count": 217,
   "metadata": {
    "scrolled": true
   },
   "outputs": [
    {
     "name": "stdout",
     "output_type": "stream",
     "text": [
      "CPU times: user 658 µs, sys: 4.22 ms, total: 4.88 ms\n",
      "Wall time: 4.4 ms\n"
     ]
    }
   ],
   "source": [
    "%%time\n",
    "beto_1_test_preds = np.load('Paper_Executions/p_beto_ss_test_preds_map_461.npy')"
   ]
  },
  {
   "cell_type": "code",
   "execution_count": 218,
   "metadata": {},
   "outputs": [
    {
     "data": {
      "text/plain": [
       "(3948, 727)"
      ]
     },
     "execution_count": 218,
     "metadata": {},
     "output_type": "execute_result"
    }
   ],
   "source": [
    "beto_1_test_preds.shape"
   ]
  },
  {
   "cell_type": "code",
   "execution_count": 219,
   "metadata": {},
   "outputs": [],
   "source": [
    "beto_1_doc_preds = max_fragment(y_frag_pred=beto_1_test_preds, n_fragments=test_frag)"
   ]
  },
  {
   "cell_type": "code",
   "execution_count": 220,
   "metadata": {},
   "outputs": [
    {
     "data": {
      "text/plain": [
       "(250, 727)"
      ]
     },
     "execution_count": 220,
     "metadata": {},
     "output_type": "execute_result"
    }
   ],
   "source": [
    "beto_1_doc_preds.shape"
   ]
  },
  {
   "cell_type": "code",
   "execution_count": 221,
   "metadata": {
    "scrolled": true
   },
   "outputs": [
    {
     "name": "stdout",
     "output_type": "stream",
     "text": [
      "CPU times: user 0 ns, sys: 3.91 ms, total: 3.91 ms\n",
      "Wall time: 3.58 ms\n"
     ]
    }
   ],
   "source": [
    "%%time\n",
    "beto_2_test_preds = np.load('Paper_Executions/p_beto_ss_test_preds_map_46.npy')"
   ]
  },
  {
   "cell_type": "code",
   "execution_count": 222,
   "metadata": {},
   "outputs": [
    {
     "data": {
      "text/plain": [
       "(3948, 727)"
      ]
     },
     "execution_count": 222,
     "metadata": {},
     "output_type": "execute_result"
    }
   ],
   "source": [
    "beto_2_test_preds.shape"
   ]
  },
  {
   "cell_type": "code",
   "execution_count": 223,
   "metadata": {},
   "outputs": [],
   "source": [
    "beto_2_doc_preds = max_fragment(y_frag_pred=beto_2_test_preds, n_fragments=test_frag)"
   ]
  },
  {
   "cell_type": "code",
   "execution_count": 224,
   "metadata": {},
   "outputs": [
    {
     "data": {
      "text/plain": [
       "(250, 727)"
      ]
     },
     "execution_count": 224,
     "metadata": {},
     "output_type": "execute_result"
    }
   ],
   "source": [
    "beto_2_doc_preds.shape"
   ]
  },
  {
   "cell_type": "code",
   "execution_count": 225,
   "metadata": {
    "scrolled": true
   },
   "outputs": [
    {
     "name": "stdout",
     "output_type": "stream",
     "text": [
      "CPU times: user 0 ns, sys: 4 ms, total: 4 ms\n",
      "Wall time: 3.74 ms\n"
     ]
    }
   ],
   "source": [
    "%%time\n",
    "beto_3_test_preds = np.load('Paper_Executions/p_beto_ss_test_preds_map_452.npy')"
   ]
  },
  {
   "cell_type": "code",
   "execution_count": 226,
   "metadata": {},
   "outputs": [
    {
     "data": {
      "text/plain": [
       "(3948, 727)"
      ]
     },
     "execution_count": 226,
     "metadata": {},
     "output_type": "execute_result"
    }
   ],
   "source": [
    "beto_3_test_preds.shape"
   ]
  },
  {
   "cell_type": "code",
   "execution_count": 227,
   "metadata": {},
   "outputs": [],
   "source": [
    "beto_3_doc_preds = max_fragment(y_frag_pred=beto_3_test_preds, n_fragments=test_frag)"
   ]
  },
  {
   "cell_type": "code",
   "execution_count": 228,
   "metadata": {},
   "outputs": [
    {
     "data": {
      "text/plain": [
       "(250, 727)"
      ]
     },
     "execution_count": 228,
     "metadata": {},
     "output_type": "execute_result"
    }
   ],
   "source": [
    "beto_3_doc_preds.shape"
   ]
  },
  {
   "cell_type": "code",
   "execution_count": 229,
   "metadata": {
    "scrolled": true
   },
   "outputs": [
    {
     "name": "stdout",
     "output_type": "stream",
     "text": [
      "CPU times: user 4.07 ms, sys: 0 ns, total: 4.07 ms\n",
      "Wall time: 3.72 ms\n"
     ]
    }
   ],
   "source": [
    "%%time\n",
    "beto_4_test_preds = np.load('Paper_Executions/p_beto_ss_test_preds_map_45.npy')"
   ]
  },
  {
   "cell_type": "code",
   "execution_count": 230,
   "metadata": {},
   "outputs": [
    {
     "data": {
      "text/plain": [
       "(3948, 727)"
      ]
     },
     "execution_count": 230,
     "metadata": {},
     "output_type": "execute_result"
    }
   ],
   "source": [
    "beto_4_test_preds.shape"
   ]
  },
  {
   "cell_type": "code",
   "execution_count": 231,
   "metadata": {},
   "outputs": [],
   "source": [
    "beto_4_doc_preds = max_fragment(y_frag_pred=beto_4_test_preds, n_fragments=test_frag)"
   ]
  },
  {
   "cell_type": "code",
   "execution_count": 232,
   "metadata": {},
   "outputs": [
    {
     "data": {
      "text/plain": [
       "(250, 727)"
      ]
     },
     "execution_count": 232,
     "metadata": {},
     "output_type": "execute_result"
    }
   ],
   "source": [
    "beto_4_doc_preds.shape"
   ]
  },
  {
   "cell_type": "markdown",
   "metadata": {},
   "source": [
    "### RESULTS FOR PAPER"
   ]
  },
  {
   "cell_type": "code",
   "execution_count": 233,
   "metadata": {},
   "outputs": [
    {
     "name": "stdout",
     "output_type": "stream",
     "text": [
      "CPU times: user 252 ms, sys: 0 ns, total: 252 ms\n",
      "Wall time: 251 ms\n"
     ]
    }
   ],
   "source": [
    "%%time\n",
    "test_pred_df = prob_codiesp_prediction_format(y_pred=beto_doc_preds,\n",
    "                                      label_encoder_classes=mlb_encoder.classes_, doc_list=test_doc_list)\n",
    "test_pred_df[[\"doc_id\", \"code\"]].to_csv(path_or_buf=test_pred_file_path, sep=\"\\t\", header=False, index=False)"
   ]
  },
  {
   "cell_type": "code",
   "execution_count": 234,
   "metadata": {},
   "outputs": [
    {
     "name": "stdout",
     "output_type": "stream",
     "text": [
      "\n",
      "MAP estimate: 0.467\n",
      "\n",
      "CPU times: user 20.9 ms, sys: 11.2 ms, total: 32.2 ms\n",
      "Wall time: 1.46 s\n"
     ]
    }
   ],
   "source": [
    "%%time\n",
    "# Manual insert (copy + paste) train pred file name\n",
    "!python ../../resources/CodiEsp-Evaluation-Script/codiespD_P_evaluation.py -g ../../datasets/final_dataset_v4_to_publish/test/testP.tsv -p proc_test_frag_preds.tsv -c ../../resources/CodiEsp-Evaluation-Script/codiesp_codes/codiesp-P_codes.tsv  "
   ]
  },
  {
   "cell_type": "code",
   "execution_count": 235,
   "metadata": {},
   "outputs": [
    {
     "name": "stdout",
     "output_type": "stream",
     "text": [
      "0.458 0.0062289646009589805\n",
      "0.458 0.006\n"
     ]
    }
   ],
   "source": [
    "res = [0.467, 0.461, 0.46, 0.452, 0.45]\n",
    "print(np.mean(res), np.std(res))\n",
    "print(round(np.mean(res), 3), round(np.std(res), 3))"
   ]
  },
  {
   "cell_type": "code",
   "execution_count": 236,
   "metadata": {
    "scrolled": true
   },
   "outputs": [
    {
     "name": "stdout",
     "output_type": "stream",
     "text": [
      "CPU times: user 4.12 ms, sys: 12.3 ms, total: 16.5 ms\n",
      "Wall time: 12.4 ms\n"
     ]
    }
   ],
   "source": [
    "%%time\n",
    "beto_galen_test_preds = np.load('Paper_Executions/p_beto_galen_ss_test_preds_map_52.npy')"
   ]
  },
  {
   "cell_type": "code",
   "execution_count": 237,
   "metadata": {},
   "outputs": [
    {
     "data": {
      "text/plain": [
       "(3948, 727)"
      ]
     },
     "execution_count": 237,
     "metadata": {},
     "output_type": "execute_result"
    }
   ],
   "source": [
    "beto_galen_test_preds.shape"
   ]
  },
  {
   "cell_type": "code",
   "execution_count": 238,
   "metadata": {},
   "outputs": [],
   "source": [
    "beto_galen_doc_preds = max_fragment(y_frag_pred=beto_galen_test_preds, n_fragments=test_frag)"
   ]
  },
  {
   "cell_type": "code",
   "execution_count": 239,
   "metadata": {},
   "outputs": [
    {
     "data": {
      "text/plain": [
       "(250, 727)"
      ]
     },
     "execution_count": 239,
     "metadata": {},
     "output_type": "execute_result"
    }
   ],
   "source": [
    "beto_galen_doc_preds.shape"
   ]
  },
  {
   "cell_type": "code",
   "execution_count": 240,
   "metadata": {
    "scrolled": true
   },
   "outputs": [
    {
     "name": "stdout",
     "output_type": "stream",
     "text": [
      "CPU times: user 4.83 ms, sys: 117 µs, total: 4.95 ms\n",
      "Wall time: 4.23 ms\n"
     ]
    }
   ],
   "source": [
    "%%time\n",
    "beto_galen_1_test_preds = np.load('Paper_Executions/p_beto_galen_ss_test_preds_map_516.npy')"
   ]
  },
  {
   "cell_type": "code",
   "execution_count": 241,
   "metadata": {},
   "outputs": [
    {
     "data": {
      "text/plain": [
       "(3948, 727)"
      ]
     },
     "execution_count": 241,
     "metadata": {},
     "output_type": "execute_result"
    }
   ],
   "source": [
    "beto_galen_1_test_preds.shape"
   ]
  },
  {
   "cell_type": "code",
   "execution_count": 242,
   "metadata": {},
   "outputs": [],
   "source": [
    "beto_galen_1_doc_preds = max_fragment(y_frag_pred=beto_galen_1_test_preds, n_fragments=test_frag)"
   ]
  },
  {
   "cell_type": "code",
   "execution_count": 243,
   "metadata": {},
   "outputs": [
    {
     "data": {
      "text/plain": [
       "(250, 727)"
      ]
     },
     "execution_count": 243,
     "metadata": {},
     "output_type": "execute_result"
    }
   ],
   "source": [
    "beto_galen_1_doc_preds.shape"
   ]
  },
  {
   "cell_type": "code",
   "execution_count": 244,
   "metadata": {
    "scrolled": true
   },
   "outputs": [
    {
     "name": "stdout",
     "output_type": "stream",
     "text": [
      "CPU times: user 0 ns, sys: 3.77 ms, total: 3.77 ms\n",
      "Wall time: 3.46 ms\n"
     ]
    }
   ],
   "source": [
    "%%time\n",
    "beto_galen_2_test_preds = np.load('Paper_Executions/p_beto_galen_ss_test_preds_map_512_2.npy')"
   ]
  },
  {
   "cell_type": "code",
   "execution_count": 245,
   "metadata": {},
   "outputs": [
    {
     "data": {
      "text/plain": [
       "(3948, 727)"
      ]
     },
     "execution_count": 245,
     "metadata": {},
     "output_type": "execute_result"
    }
   ],
   "source": [
    "beto_galen_2_test_preds.shape"
   ]
  },
  {
   "cell_type": "code",
   "execution_count": 246,
   "metadata": {},
   "outputs": [],
   "source": [
    "beto_galen_2_doc_preds = max_fragment(y_frag_pred=beto_galen_2_test_preds, n_fragments=test_frag)"
   ]
  },
  {
   "cell_type": "code",
   "execution_count": 247,
   "metadata": {},
   "outputs": [
    {
     "data": {
      "text/plain": [
       "(250, 727)"
      ]
     },
     "execution_count": 247,
     "metadata": {},
     "output_type": "execute_result"
    }
   ],
   "source": [
    "beto_galen_2_doc_preds.shape"
   ]
  },
  {
   "cell_type": "code",
   "execution_count": 248,
   "metadata": {
    "scrolled": true
   },
   "outputs": [
    {
     "name": "stdout",
     "output_type": "stream",
     "text": [
      "CPU times: user 0 ns, sys: 3.82 ms, total: 3.82 ms\n",
      "Wall time: 3.5 ms\n"
     ]
    }
   ],
   "source": [
    "%%time\n",
    "beto_galen_3_test_preds = np.load('Paper_Executions/p_beto_galen_ss_test_preds_map_512.npy')"
   ]
  },
  {
   "cell_type": "code",
   "execution_count": 249,
   "metadata": {},
   "outputs": [
    {
     "data": {
      "text/plain": [
       "(3948, 727)"
      ]
     },
     "execution_count": 249,
     "metadata": {},
     "output_type": "execute_result"
    }
   ],
   "source": [
    "beto_galen_3_test_preds.shape"
   ]
  },
  {
   "cell_type": "code",
   "execution_count": 250,
   "metadata": {},
   "outputs": [],
   "source": [
    "beto_galen_3_doc_preds = max_fragment(y_frag_pred=beto_galen_3_test_preds, n_fragments=test_frag)"
   ]
  },
  {
   "cell_type": "code",
   "execution_count": 251,
   "metadata": {},
   "outputs": [
    {
     "data": {
      "text/plain": [
       "(250, 727)"
      ]
     },
     "execution_count": 251,
     "metadata": {},
     "output_type": "execute_result"
    }
   ],
   "source": [
    "beto_galen_3_doc_preds.shape"
   ]
  },
  {
   "cell_type": "code",
   "execution_count": 252,
   "metadata": {
    "scrolled": true
   },
   "outputs": [
    {
     "name": "stdout",
     "output_type": "stream",
     "text": [
      "CPU times: user 0 ns, sys: 3.79 ms, total: 3.79 ms\n",
      "Wall time: 3.48 ms\n"
     ]
    }
   ],
   "source": [
    "%%time\n",
    "beto_galen_4_test_preds = np.load('Paper_Executions/p_beto_galen_ss_test_preds_map_509.npy')"
   ]
  },
  {
   "cell_type": "code",
   "execution_count": 253,
   "metadata": {},
   "outputs": [
    {
     "data": {
      "text/plain": [
       "(3948, 727)"
      ]
     },
     "execution_count": 253,
     "metadata": {},
     "output_type": "execute_result"
    }
   ],
   "source": [
    "beto_galen_4_test_preds.shape"
   ]
  },
  {
   "cell_type": "code",
   "execution_count": 254,
   "metadata": {},
   "outputs": [],
   "source": [
    "beto_galen_4_doc_preds = max_fragment(y_frag_pred=beto_galen_4_test_preds, n_fragments=test_frag)"
   ]
  },
  {
   "cell_type": "code",
   "execution_count": 255,
   "metadata": {},
   "outputs": [
    {
     "data": {
      "text/plain": [
       "(250, 727)"
      ]
     },
     "execution_count": 255,
     "metadata": {},
     "output_type": "execute_result"
    }
   ],
   "source": [
    "beto_galen_4_doc_preds.shape"
   ]
  },
  {
   "cell_type": "markdown",
   "metadata": {},
   "source": [
    "### RESULTS FOR PAPER"
   ]
  },
  {
   "cell_type": "code",
   "execution_count": 256,
   "metadata": {},
   "outputs": [
    {
     "name": "stdout",
     "output_type": "stream",
     "text": [
      "CPU times: user 241 ms, sys: 7.33 ms, total: 249 ms\n",
      "Wall time: 248 ms\n"
     ]
    }
   ],
   "source": [
    "%%time\n",
    "test_pred_df = prob_codiesp_prediction_format(y_pred=beto_galen_doc_preds,\n",
    "                                      label_encoder_classes=mlb_encoder.classes_, doc_list=test_doc_list)\n",
    "test_pred_df[[\"doc_id\", \"code\"]].to_csv(path_or_buf=test_pred_file_path, sep=\"\\t\", header=False, index=False)"
   ]
  },
  {
   "cell_type": "code",
   "execution_count": 257,
   "metadata": {
    "scrolled": true
   },
   "outputs": [
    {
     "name": "stdout",
     "output_type": "stream",
     "text": [
      "\n",
      "MAP estimate: 0.52\n",
      "\n",
      "CPU times: user 23.1 ms, sys: 5.77 ms, total: 28.9 ms\n",
      "Wall time: 1.53 s\n"
     ]
    }
   ],
   "source": [
    "%%time\n",
    "# Manual insert (copy + paste) train pred file name\n",
    "!python ../../resources/CodiEsp-Evaluation-Script/codiespD_P_evaluation.py -g ../../datasets/final_dataset_v4_to_publish/test/testP.tsv -p proc_test_frag_preds.tsv -c ../../resources/CodiEsp-Evaluation-Script/codiesp_codes/codiesp-P_codes.tsv  "
   ]
  },
  {
   "cell_type": "code",
   "execution_count": 258,
   "metadata": {},
   "outputs": [
    {
     "name": "stdout",
     "output_type": "stream",
     "text": [
      "0.5138 0.003815756805667786\n",
      "0.514 0.004\n"
     ]
    }
   ],
   "source": [
    "res = [0.52, 0.516, 0.512, 0.512, 0.509]\n",
    "print(np.mean(res), np.std(res))\n",
    "print(round(np.mean(res), 3), round(np.std(res), 3))"
   ]
  },
  {
   "cell_type": "markdown",
   "metadata": {},
   "source": [
    "## XLM-R model"
   ]
  },
  {
   "cell_type": "code",
   "execution_count": 259,
   "metadata": {},
   "outputs": [],
   "source": [
    "test_frag = np.load(\"keras-data/p_xlm_r_test_frag.npy\")"
   ]
  },
  {
   "cell_type": "code",
   "execution_count": 260,
   "metadata": {},
   "outputs": [
    {
     "data": {
      "text/plain": [
       "(250,)"
      ]
     },
     "execution_count": 260,
     "metadata": {},
     "output_type": "execute_result"
    }
   ],
   "source": [
    "test_frag.shape"
   ]
  },
  {
   "cell_type": "code",
   "execution_count": 261,
   "metadata": {},
   "outputs": [
    {
     "data": {
      "text/plain": [
       "3950"
      ]
     },
     "execution_count": 261,
     "metadata": {},
     "output_type": "execute_result"
    }
   ],
   "source": [
    "test_frag.sum()"
   ]
  },
  {
   "cell_type": "code",
   "execution_count": 262,
   "metadata": {},
   "outputs": [],
   "source": [
    "test_pred_file_path = \"proc_test_frag_preds.tsv\""
   ]
  },
  {
   "cell_type": "markdown",
   "metadata": {},
   "source": [
    "We load the sentence-predictions from the different models, and generate the predictions at document level, using Max criterion:"
   ]
  },
  {
   "cell_type": "code",
   "execution_count": 263,
   "metadata": {
    "scrolled": true
   },
   "outputs": [
    {
     "name": "stdout",
     "output_type": "stream",
     "text": [
      "CPU times: user 2.49 ms, sys: 7.98 ms, total: 10.5 ms\n",
      "Wall time: 8.51 ms\n"
     ]
    }
   ],
   "source": [
    "%%time\n",
    "xlm_r_test_preds = np.load('Paper_Executions/p_xlm_r_seed_0_ss_test_preds_map_477.npy')"
   ]
  },
  {
   "cell_type": "code",
   "execution_count": 264,
   "metadata": {},
   "outputs": [
    {
     "data": {
      "text/plain": [
       "(3950, 727)"
      ]
     },
     "execution_count": 264,
     "metadata": {},
     "output_type": "execute_result"
    }
   ],
   "source": [
    "xlm_r_test_preds.shape"
   ]
  },
  {
   "cell_type": "code",
   "execution_count": 265,
   "metadata": {},
   "outputs": [],
   "source": [
    "xlm_r_doc_preds = max_fragment(y_frag_pred=xlm_r_test_preds, n_fragments=test_frag)"
   ]
  },
  {
   "cell_type": "code",
   "execution_count": 266,
   "metadata": {},
   "outputs": [
    {
     "data": {
      "text/plain": [
       "(250, 727)"
      ]
     },
     "execution_count": 266,
     "metadata": {},
     "output_type": "execute_result"
    }
   ],
   "source": [
    "xlm_r_doc_preds.shape"
   ]
  },
  {
   "cell_type": "code",
   "execution_count": 267,
   "metadata": {
    "scrolled": true
   },
   "outputs": [
    {
     "name": "stdout",
     "output_type": "stream",
     "text": [
      "CPU times: user 139 µs, sys: 4.14 ms, total: 4.28 ms\n",
      "Wall time: 3.9 ms\n"
     ]
    }
   ],
   "source": [
    "%%time\n",
    "xlm_r_1_test_preds = np.load('Paper_Executions/p_xlm_r_seed_2_ss_test_preds_map_472.npy')"
   ]
  },
  {
   "cell_type": "code",
   "execution_count": 268,
   "metadata": {},
   "outputs": [
    {
     "data": {
      "text/plain": [
       "(3950, 727)"
      ]
     },
     "execution_count": 268,
     "metadata": {},
     "output_type": "execute_result"
    }
   ],
   "source": [
    "xlm_r_1_test_preds.shape"
   ]
  },
  {
   "cell_type": "code",
   "execution_count": 269,
   "metadata": {},
   "outputs": [],
   "source": [
    "xlm_r_1_doc_preds = max_fragment(y_frag_pred=xlm_r_1_test_preds, n_fragments=test_frag)"
   ]
  },
  {
   "cell_type": "code",
   "execution_count": 270,
   "metadata": {},
   "outputs": [
    {
     "data": {
      "text/plain": [
       "(250, 727)"
      ]
     },
     "execution_count": 270,
     "metadata": {},
     "output_type": "execute_result"
    }
   ],
   "source": [
    "xlm_r_1_doc_preds.shape"
   ]
  },
  {
   "cell_type": "code",
   "execution_count": 271,
   "metadata": {
    "scrolled": true
   },
   "outputs": [
    {
     "name": "stdout",
     "output_type": "stream",
     "text": [
      "CPU times: user 0 ns, sys: 3.95 ms, total: 3.95 ms\n",
      "Wall time: 3.61 ms\n"
     ]
    }
   ],
   "source": [
    "%%time\n",
    "xlm_r_2_test_preds = np.load('Paper_Executions/p_xlm_r_seed_2_ss_test_preds_map_471.npy')"
   ]
  },
  {
   "cell_type": "code",
   "execution_count": 272,
   "metadata": {},
   "outputs": [
    {
     "data": {
      "text/plain": [
       "(3950, 727)"
      ]
     },
     "execution_count": 272,
     "metadata": {},
     "output_type": "execute_result"
    }
   ],
   "source": [
    "xlm_r_2_test_preds.shape"
   ]
  },
  {
   "cell_type": "code",
   "execution_count": 273,
   "metadata": {},
   "outputs": [],
   "source": [
    "xlm_r_2_doc_preds = max_fragment(y_frag_pred=xlm_r_2_test_preds, n_fragments=test_frag)"
   ]
  },
  {
   "cell_type": "code",
   "execution_count": 274,
   "metadata": {},
   "outputs": [
    {
     "data": {
      "text/plain": [
       "(250, 727)"
      ]
     },
     "execution_count": 274,
     "metadata": {},
     "output_type": "execute_result"
    }
   ],
   "source": [
    "xlm_r_2_doc_preds.shape"
   ]
  },
  {
   "cell_type": "code",
   "execution_count": 275,
   "metadata": {
    "scrolled": true
   },
   "outputs": [
    {
     "name": "stdout",
     "output_type": "stream",
     "text": [
      "CPU times: user 0 ns, sys: 3.86 ms, total: 3.86 ms\n",
      "Wall time: 3.53 ms\n"
     ]
    }
   ],
   "source": [
    "%%time\n",
    "xlm_r_3_test_preds = np.load('Paper_Executions/p_xlm_r_seed_1_ss_test_preds_map_463.npy')"
   ]
  },
  {
   "cell_type": "code",
   "execution_count": 276,
   "metadata": {},
   "outputs": [
    {
     "data": {
      "text/plain": [
       "(3950, 727)"
      ]
     },
     "execution_count": 276,
     "metadata": {},
     "output_type": "execute_result"
    }
   ],
   "source": [
    "xlm_r_3_test_preds.shape"
   ]
  },
  {
   "cell_type": "code",
   "execution_count": 277,
   "metadata": {},
   "outputs": [],
   "source": [
    "xlm_r_3_doc_preds = max_fragment(y_frag_pred=xlm_r_3_test_preds, n_fragments=test_frag)"
   ]
  },
  {
   "cell_type": "code",
   "execution_count": 278,
   "metadata": {},
   "outputs": [
    {
     "data": {
      "text/plain": [
       "(250, 727)"
      ]
     },
     "execution_count": 278,
     "metadata": {},
     "output_type": "execute_result"
    }
   ],
   "source": [
    "xlm_r_3_doc_preds.shape"
   ]
  },
  {
   "cell_type": "code",
   "execution_count": 279,
   "metadata": {
    "scrolled": true
   },
   "outputs": [
    {
     "name": "stdout",
     "output_type": "stream",
     "text": [
      "CPU times: user 0 ns, sys: 3.89 ms, total: 3.89 ms\n",
      "Wall time: 3.57 ms\n"
     ]
    }
   ],
   "source": [
    "%%time\n",
    "xlm_r_4_test_preds = np.load('Paper_Executions/p_xlm_r_seed_0_ss_test_preds_map_462.npy')"
   ]
  },
  {
   "cell_type": "code",
   "execution_count": 280,
   "metadata": {},
   "outputs": [
    {
     "data": {
      "text/plain": [
       "(3950, 727)"
      ]
     },
     "execution_count": 280,
     "metadata": {},
     "output_type": "execute_result"
    }
   ],
   "source": [
    "xlm_r_4_test_preds.shape"
   ]
  },
  {
   "cell_type": "code",
   "execution_count": 281,
   "metadata": {},
   "outputs": [],
   "source": [
    "xlm_r_4_doc_preds = max_fragment(y_frag_pred=xlm_r_4_test_preds, n_fragments=test_frag)"
   ]
  },
  {
   "cell_type": "code",
   "execution_count": 282,
   "metadata": {},
   "outputs": [
    {
     "data": {
      "text/plain": [
       "(250, 727)"
      ]
     },
     "execution_count": 282,
     "metadata": {},
     "output_type": "execute_result"
    }
   ],
   "source": [
    "xlm_r_4_doc_preds.shape"
   ]
  },
  {
   "cell_type": "markdown",
   "metadata": {},
   "source": [
    "### RESULTS FOR PAPER"
   ]
  },
  {
   "cell_type": "code",
   "execution_count": 283,
   "metadata": {},
   "outputs": [
    {
     "name": "stdout",
     "output_type": "stream",
     "text": [
      "CPU times: user 233 ms, sys: 11.4 ms, total: 245 ms\n",
      "Wall time: 244 ms\n"
     ]
    }
   ],
   "source": [
    "%%time\n",
    "test_pred_df = prob_codiesp_prediction_format(y_pred=xlm_r_4_doc_preds,\n",
    "                                      label_encoder_classes=mlb_encoder.classes_, doc_list=test_doc_list)\n",
    "test_pred_df[[\"doc_id\", \"code\"]].to_csv(path_or_buf=test_pred_file_path, sep=\"\\t\", header=False, index=False)"
   ]
  },
  {
   "cell_type": "code",
   "execution_count": 284,
   "metadata": {},
   "outputs": [
    {
     "name": "stdout",
     "output_type": "stream",
     "text": [
      "\n",
      "MAP estimate: 0.462\n",
      "\n",
      "CPU times: user 18.4 ms, sys: 11.9 ms, total: 30.4 ms\n",
      "Wall time: 1.47 s\n"
     ]
    }
   ],
   "source": [
    "%%time\n",
    "# Manual insert (copy + paste) train pred file name\n",
    "!python ../../resources/CodiEsp-Evaluation-Script/codiespD_P_evaluation.py -g ../../datasets/final_dataset_v4_to_publish/test/testP.tsv -p proc_test_frag_preds.tsv -c ../../resources/CodiEsp-Evaluation-Script/codiesp_codes/codiesp-P_codes.tsv  "
   ]
  },
  {
   "cell_type": "code",
   "execution_count": 285,
   "metadata": {},
   "outputs": [
    {
     "name": "stdout",
     "output_type": "stream",
     "text": [
      "0.46900000000000003 0.0056920997883030625\n",
      "0.469 0.006\n"
     ]
    }
   ],
   "source": [
    "res = [0.477, 0.472, 0.471, 0.463, 0.462]\n",
    "print(np.mean(res), np.std(res))\n",
    "print(round(np.mean(res), 3), round(np.std(res), 3))"
   ]
  },
  {
   "cell_type": "code",
   "execution_count": 286,
   "metadata": {
    "scrolled": true
   },
   "outputs": [
    {
     "name": "stdout",
     "output_type": "stream",
     "text": [
      "CPU times: user 0 ns, sys: 7.47 ms, total: 7.47 ms\n",
      "Wall time: 6.97 ms\n"
     ]
    }
   ],
   "source": [
    "%%time\n",
    "xlm_r_galen_test_preds = np.load('Paper_Executions/p_xlm_r_galen_seed_2_ss_test_preds_map_498.npy')"
   ]
  },
  {
   "cell_type": "code",
   "execution_count": 287,
   "metadata": {},
   "outputs": [
    {
     "data": {
      "text/plain": [
       "(3950, 727)"
      ]
     },
     "execution_count": 287,
     "metadata": {},
     "output_type": "execute_result"
    }
   ],
   "source": [
    "xlm_r_galen_test_preds.shape"
   ]
  },
  {
   "cell_type": "code",
   "execution_count": 288,
   "metadata": {},
   "outputs": [],
   "source": [
    "xlm_r_galen_doc_preds = max_fragment(y_frag_pred=xlm_r_galen_test_preds, n_fragments=test_frag)"
   ]
  },
  {
   "cell_type": "code",
   "execution_count": 289,
   "metadata": {},
   "outputs": [
    {
     "data": {
      "text/plain": [
       "(250, 727)"
      ]
     },
     "execution_count": 289,
     "metadata": {},
     "output_type": "execute_result"
    }
   ],
   "source": [
    "xlm_r_galen_doc_preds.shape"
   ]
  },
  {
   "cell_type": "code",
   "execution_count": 290,
   "metadata": {
    "scrolled": true
   },
   "outputs": [
    {
     "name": "stdout",
     "output_type": "stream",
     "text": [
      "CPU times: user 973 µs, sys: 4.27 ms, total: 5.25 ms\n",
      "Wall time: 4.56 ms\n"
     ]
    }
   ],
   "source": [
    "%%time\n",
    "xlm_r_galen_1_test_preds = np.load('Paper_Executions/p_xlm_r_galen_seed_3_ss_test_preds_map_494.npy')"
   ]
  },
  {
   "cell_type": "code",
   "execution_count": 291,
   "metadata": {},
   "outputs": [
    {
     "data": {
      "text/plain": [
       "(3950, 727)"
      ]
     },
     "execution_count": 291,
     "metadata": {},
     "output_type": "execute_result"
    }
   ],
   "source": [
    "xlm_r_galen_1_test_preds.shape"
   ]
  },
  {
   "cell_type": "code",
   "execution_count": 292,
   "metadata": {},
   "outputs": [],
   "source": [
    "xlm_r_galen_1_doc_preds = max_fragment(y_frag_pred=xlm_r_galen_1_test_preds, n_fragments=test_frag)"
   ]
  },
  {
   "cell_type": "code",
   "execution_count": 293,
   "metadata": {},
   "outputs": [
    {
     "data": {
      "text/plain": [
       "(250, 727)"
      ]
     },
     "execution_count": 293,
     "metadata": {},
     "output_type": "execute_result"
    }
   ],
   "source": [
    "xlm_r_galen_1_doc_preds.shape"
   ]
  },
  {
   "cell_type": "code",
   "execution_count": 294,
   "metadata": {
    "scrolled": true
   },
   "outputs": [
    {
     "name": "stdout",
     "output_type": "stream",
     "text": [
      "CPU times: user 3.89 ms, sys: 0 ns, total: 3.89 ms\n",
      "Wall time: 3.6 ms\n"
     ]
    }
   ],
   "source": [
    "%%time\n",
    "xlm_r_galen_2_test_preds = np.load('Paper_Executions/p_xlm_r_galen_seed_0_ss_test_preds_map_493.npy')"
   ]
  },
  {
   "cell_type": "code",
   "execution_count": 295,
   "metadata": {},
   "outputs": [
    {
     "data": {
      "text/plain": [
       "(3950, 727)"
      ]
     },
     "execution_count": 295,
     "metadata": {},
     "output_type": "execute_result"
    }
   ],
   "source": [
    "xlm_r_galen_2_test_preds.shape"
   ]
  },
  {
   "cell_type": "code",
   "execution_count": 296,
   "metadata": {},
   "outputs": [],
   "source": [
    "xlm_r_galen_2_doc_preds = max_fragment(y_frag_pred=xlm_r_galen_2_test_preds, n_fragments=test_frag)"
   ]
  },
  {
   "cell_type": "code",
   "execution_count": 297,
   "metadata": {},
   "outputs": [
    {
     "data": {
      "text/plain": [
       "(250, 727)"
      ]
     },
     "execution_count": 297,
     "metadata": {},
     "output_type": "execute_result"
    }
   ],
   "source": [
    "xlm_r_galen_2_doc_preds.shape"
   ]
  },
  {
   "cell_type": "code",
   "execution_count": 298,
   "metadata": {
    "scrolled": true
   },
   "outputs": [
    {
     "name": "stdout",
     "output_type": "stream",
     "text": [
      "CPU times: user 0 ns, sys: 3.73 ms, total: 3.73 ms\n",
      "Wall time: 3.47 ms\n"
     ]
    }
   ],
   "source": [
    "%%time\n",
    "xlm_r_galen_3_test_preds = np.load('Paper_Executions/p_xlm_r_galen_seed_1_ss_test_preds_map_49.npy')"
   ]
  },
  {
   "cell_type": "code",
   "execution_count": 299,
   "metadata": {},
   "outputs": [
    {
     "data": {
      "text/plain": [
       "(3950, 727)"
      ]
     },
     "execution_count": 299,
     "metadata": {},
     "output_type": "execute_result"
    }
   ],
   "source": [
    "xlm_r_galen_3_test_preds.shape"
   ]
  },
  {
   "cell_type": "code",
   "execution_count": 300,
   "metadata": {},
   "outputs": [],
   "source": [
    "xlm_r_galen_3_doc_preds = max_fragment(y_frag_pred=xlm_r_galen_3_test_preds, n_fragments=test_frag)"
   ]
  },
  {
   "cell_type": "code",
   "execution_count": 301,
   "metadata": {},
   "outputs": [
    {
     "data": {
      "text/plain": [
       "(250, 727)"
      ]
     },
     "execution_count": 301,
     "metadata": {},
     "output_type": "execute_result"
    }
   ],
   "source": [
    "xlm_r_galen_3_doc_preds.shape"
   ]
  },
  {
   "cell_type": "code",
   "execution_count": 302,
   "metadata": {
    "scrolled": true
   },
   "outputs": [
    {
     "name": "stdout",
     "output_type": "stream",
     "text": [
      "CPU times: user 50 µs, sys: 4.12 ms, total: 4.17 ms\n",
      "Wall time: 3.83 ms\n"
     ]
    }
   ],
   "source": [
    "%%time\n",
    "xlm_r_galen_4_test_preds = np.load('Paper_Executions/p_xlm_r_galen_seed_0_ss_test_preds_map_488.npy')"
   ]
  },
  {
   "cell_type": "code",
   "execution_count": 303,
   "metadata": {},
   "outputs": [
    {
     "data": {
      "text/plain": [
       "(3950, 727)"
      ]
     },
     "execution_count": 303,
     "metadata": {},
     "output_type": "execute_result"
    }
   ],
   "source": [
    "xlm_r_galen_4_test_preds.shape"
   ]
  },
  {
   "cell_type": "code",
   "execution_count": 304,
   "metadata": {},
   "outputs": [],
   "source": [
    "xlm_r_galen_4_doc_preds = max_fragment(y_frag_pred=xlm_r_galen_4_test_preds, n_fragments=test_frag)"
   ]
  },
  {
   "cell_type": "code",
   "execution_count": 305,
   "metadata": {},
   "outputs": [
    {
     "data": {
      "text/plain": [
       "(250, 727)"
      ]
     },
     "execution_count": 305,
     "metadata": {},
     "output_type": "execute_result"
    }
   ],
   "source": [
    "xlm_r_galen_4_doc_preds.shape"
   ]
  },
  {
   "cell_type": "markdown",
   "metadata": {},
   "source": [
    "### RESULTS FOR PAPER"
   ]
  },
  {
   "cell_type": "code",
   "execution_count": 306,
   "metadata": {},
   "outputs": [
    {
     "name": "stdout",
     "output_type": "stream",
     "text": [
      "CPU times: user 235 ms, sys: 7.24 ms, total: 242 ms\n",
      "Wall time: 241 ms\n"
     ]
    }
   ],
   "source": [
    "%%time\n",
    "test_pred_df = prob_codiesp_prediction_format(y_pred=xlm_r_galen_4_doc_preds,\n",
    "                                      label_encoder_classes=mlb_encoder.classes_, doc_list=test_doc_list)\n",
    "test_pred_df[[\"doc_id\", \"code\"]].to_csv(path_or_buf=test_pred_file_path, sep=\"\\t\", header=False, index=False)"
   ]
  },
  {
   "cell_type": "code",
   "execution_count": 307,
   "metadata": {},
   "outputs": [
    {
     "name": "stdout",
     "output_type": "stream",
     "text": [
      "\n",
      "MAP estimate: 0.488\n",
      "\n",
      "CPU times: user 11.9 ms, sys: 21.1 ms, total: 32.9 ms\n",
      "Wall time: 1.48 s\n"
     ]
    }
   ],
   "source": [
    "%%time\n",
    "# Manual insert (copy + paste) train pred file name\n",
    "!python ../../resources/CodiEsp-Evaluation-Script/codiespD_P_evaluation.py -g ../../datasets/final_dataset_v4_to_publish/test/testP.tsv -p proc_test_frag_preds.tsv -c ../../resources/CodiEsp-Evaluation-Script/codiesp_codes/codiesp-P_codes.tsv  "
   ]
  },
  {
   "cell_type": "code",
   "execution_count": 308,
   "metadata": {},
   "outputs": [
    {
     "name": "stdout",
     "output_type": "stream",
     "text": [
      "0.49260000000000004 0.0034409301068170535\n",
      "0.493 0.003\n"
     ]
    }
   ],
   "source": [
    "res = [0.498, 0.494, 0.493, 0.49, 0.488]\n",
    "print(np.mean(res), np.std(res))\n",
    "print(round(np.mean(res), 3), round(np.std(res), 3))"
   ]
  },
  {
   "cell_type": "code",
   "execution_count": null,
   "metadata": {},
   "outputs": [],
   "source": []
  },
  {
   "cell_type": "code",
   "execution_count": null,
   "metadata": {},
   "outputs": [],
   "source": []
  },
  {
   "cell_type": "code",
   "execution_count": 309,
   "metadata": {},
   "outputs": [],
   "source": [
    "# COMPUTE P, R, F1 METRICS"
   ]
  },
  {
   "cell_type": "code",
   "execution_count": 310,
   "metadata": {},
   "outputs": [],
   "source": [
    "# Automatic"
   ]
  },
  {
   "cell_type": "code",
   "execution_count": 311,
   "metadata": {},
   "outputs": [],
   "source": [
    "thr_arr = np.linspace(0.01, 0.60, 60)\n",
    "gs_path = \"../../datasets/final_dataset_v4_to_publish/test/testP.tsv\"\n",
    "valid_path = \"../../resources/CodiEsp-Evaluation-Script/codiesp_codes/codiesp-P_codes.tsv\"\n",
    "\n",
    "# MAP\n",
    "gs_out_path = \"./test_intermediate_gs_file.txt\"\n",
    "format_gs(filepath=gs_path, output_path=gs_out_path)\n",
    "valid_d_codes = set(pd.read_csv(valid_path, sep='\\t', header=None, \n",
    "                              usecols=[0])[0].tolist())\n",
    "valid_d_codes = set([x.lower() for x in valid_d_codes])"
   ]
  },
  {
   "cell_type": "code",
   "execution_count": 312,
   "metadata": {},
   "outputs": [],
   "source": [
    "# Multi"
   ]
  },
  {
   "cell_type": "code",
   "execution_count": 312,
   "metadata": {},
   "outputs": [],
   "source": [
    "doc_preds = multi_doc_preds"
   ]
  },
  {
   "cell_type": "code",
   "execution_count": 314,
   "metadata": {},
   "outputs": [
    {
     "name": "stdout",
     "output_type": "stream",
     "text": [
      "CPU times: user 35.7 s, sys: 111 ms, total: 35.8 s\n",
      "Wall time: 35.8 s\n"
     ]
    }
   ],
   "source": [
    "%%time\n",
    "df_res_metrics = compute_metrics(thr_arr=thr_arr, doc_preds=doc_preds)"
   ]
  },
  {
   "cell_type": "code",
   "execution_count": 315,
   "metadata": {},
   "outputs": [
    {
     "data": {
      "text/html": [
       "<div>\n",
       "<style scoped>\n",
       "    .dataframe tbody tr th:only-of-type {\n",
       "        vertical-align: middle;\n",
       "    }\n",
       "\n",
       "    .dataframe tbody tr th {\n",
       "        vertical-align: top;\n",
       "    }\n",
       "\n",
       "    .dataframe thead th {\n",
       "        text-align: right;\n",
       "    }\n",
       "</style>\n",
       "<table border=\"1\" class=\"dataframe\">\n",
       "  <thead>\n",
       "    <tr style=\"text-align: right;\">\n",
       "      <th></th>\n",
       "      <th>P</th>\n",
       "      <th>R</th>\n",
       "      <th>F1</th>\n",
       "      <th>MAP</th>\n",
       "      <th>Thr</th>\n",
       "    </tr>\n",
       "  </thead>\n",
       "  <tbody>\n",
       "    <tr>\n",
       "      <th>51</th>\n",
       "      <td>0.669</td>\n",
       "      <td>0.448</td>\n",
       "      <td>0.537</td>\n",
       "      <td>0.479</td>\n",
       "      <td>0.52</td>\n",
       "    </tr>\n",
       "    <tr>\n",
       "      <th>55</th>\n",
       "      <td>0.681</td>\n",
       "      <td>0.443</td>\n",
       "      <td>0.537</td>\n",
       "      <td>0.478</td>\n",
       "      <td>0.56</td>\n",
       "    </tr>\n",
       "    <tr>\n",
       "      <th>57</th>\n",
       "      <td>0.687</td>\n",
       "      <td>0.440</td>\n",
       "      <td>0.537</td>\n",
       "      <td>0.478</td>\n",
       "      <td>0.58</td>\n",
       "    </tr>\n",
       "    <tr>\n",
       "      <th>52</th>\n",
       "      <td>0.670</td>\n",
       "      <td>0.446</td>\n",
       "      <td>0.536</td>\n",
       "      <td>0.481</td>\n",
       "      <td>0.53</td>\n",
       "    </tr>\n",
       "    <tr>\n",
       "      <th>53</th>\n",
       "      <td>0.674</td>\n",
       "      <td>0.445</td>\n",
       "      <td>0.536</td>\n",
       "      <td>0.480</td>\n",
       "      <td>0.54</td>\n",
       "    </tr>\n",
       "    <tr>\n",
       "      <th>54</th>\n",
       "      <td>0.678</td>\n",
       "      <td>0.444</td>\n",
       "      <td>0.536</td>\n",
       "      <td>0.479</td>\n",
       "      <td>0.55</td>\n",
       "    </tr>\n",
       "    <tr>\n",
       "      <th>50</th>\n",
       "      <td>0.664</td>\n",
       "      <td>0.449</td>\n",
       "      <td>0.536</td>\n",
       "      <td>0.477</td>\n",
       "      <td>0.51</td>\n",
       "    </tr>\n",
       "    <tr>\n",
       "      <th>56</th>\n",
       "      <td>0.683</td>\n",
       "      <td>0.441</td>\n",
       "      <td>0.536</td>\n",
       "      <td>0.477</td>\n",
       "      <td>0.57</td>\n",
       "    </tr>\n",
       "    <tr>\n",
       "      <th>49</th>\n",
       "      <td>0.659</td>\n",
       "      <td>0.449</td>\n",
       "      <td>0.535</td>\n",
       "      <td>0.477</td>\n",
       "      <td>0.50</td>\n",
       "    </tr>\n",
       "    <tr>\n",
       "      <th>47</th>\n",
       "      <td>0.655</td>\n",
       "      <td>0.451</td>\n",
       "      <td>0.534</td>\n",
       "      <td>0.478</td>\n",
       "      <td>0.48</td>\n",
       "    </tr>\n",
       "    <tr>\n",
       "      <th>58</th>\n",
       "      <td>0.688</td>\n",
       "      <td>0.437</td>\n",
       "      <td>0.534</td>\n",
       "      <td>0.473</td>\n",
       "      <td>0.59</td>\n",
       "    </tr>\n",
       "    <tr>\n",
       "      <th>59</th>\n",
       "      <td>0.691</td>\n",
       "      <td>0.435</td>\n",
       "      <td>0.534</td>\n",
       "      <td>0.470</td>\n",
       "      <td>0.60</td>\n",
       "    </tr>\n",
       "    <tr>\n",
       "      <th>44</th>\n",
       "      <td>0.642</td>\n",
       "      <td>0.455</td>\n",
       "      <td>0.533</td>\n",
       "      <td>0.478</td>\n",
       "      <td>0.45</td>\n",
       "    </tr>\n",
       "    <tr>\n",
       "      <th>45</th>\n",
       "      <td>0.646</td>\n",
       "      <td>0.454</td>\n",
       "      <td>0.533</td>\n",
       "      <td>0.477</td>\n",
       "      <td>0.46</td>\n",
       "    </tr>\n",
       "    <tr>\n",
       "      <th>48</th>\n",
       "      <td>0.655</td>\n",
       "      <td>0.449</td>\n",
       "      <td>0.533</td>\n",
       "      <td>0.477</td>\n",
       "      <td>0.49</td>\n",
       "    </tr>\n",
       "    <tr>\n",
       "      <th>46</th>\n",
       "      <td>0.647</td>\n",
       "      <td>0.451</td>\n",
       "      <td>0.531</td>\n",
       "      <td>0.475</td>\n",
       "      <td>0.47</td>\n",
       "    </tr>\n",
       "    <tr>\n",
       "      <th>36</th>\n",
       "      <td>0.617</td>\n",
       "      <td>0.465</td>\n",
       "      <td>0.530</td>\n",
       "      <td>0.481</td>\n",
       "      <td>0.37</td>\n",
       "    </tr>\n",
       "    <tr>\n",
       "      <th>37</th>\n",
       "      <td>0.620</td>\n",
       "      <td>0.463</td>\n",
       "      <td>0.530</td>\n",
       "      <td>0.480</td>\n",
       "      <td>0.38</td>\n",
       "    </tr>\n",
       "    <tr>\n",
       "      <th>43</th>\n",
       "      <td>0.635</td>\n",
       "      <td>0.455</td>\n",
       "      <td>0.530</td>\n",
       "      <td>0.476</td>\n",
       "      <td>0.44</td>\n",
       "    </tr>\n",
       "    <tr>\n",
       "      <th>33</th>\n",
       "      <td>0.603</td>\n",
       "      <td>0.471</td>\n",
       "      <td>0.529</td>\n",
       "      <td>0.485</td>\n",
       "      <td>0.34</td>\n",
       "    </tr>\n",
       "  </tbody>\n",
       "</table>\n",
       "</div>"
      ],
      "text/plain": [
       "        P      R     F1    MAP   Thr\n",
       "51  0.669  0.448  0.537  0.479  0.52\n",
       "55  0.681  0.443  0.537  0.478  0.56\n",
       "57  0.687  0.440  0.537  0.478  0.58\n",
       "52  0.670  0.446  0.536  0.481  0.53\n",
       "53  0.674  0.445  0.536  0.480  0.54\n",
       "54  0.678  0.444  0.536  0.479  0.55\n",
       "50  0.664  0.449  0.536  0.477  0.51\n",
       "56  0.683  0.441  0.536  0.477  0.57\n",
       "49  0.659  0.449  0.535  0.477  0.50\n",
       "47  0.655  0.451  0.534  0.478  0.48\n",
       "58  0.688  0.437  0.534  0.473  0.59\n",
       "59  0.691  0.435  0.534  0.470  0.60\n",
       "44  0.642  0.455  0.533  0.478  0.45\n",
       "45  0.646  0.454  0.533  0.477  0.46\n",
       "48  0.655  0.449  0.533  0.477  0.49\n",
       "46  0.647  0.451  0.531  0.475  0.47\n",
       "36  0.617  0.465  0.530  0.481  0.37\n",
       "37  0.620  0.463  0.530  0.480  0.38\n",
       "43  0.635  0.455  0.530  0.476  0.44\n",
       "33  0.603  0.471  0.529  0.485  0.34"
      ]
     },
     "execution_count": 315,
     "metadata": {},
     "output_type": "execute_result"
    }
   ],
   "source": [
    "df_res_metrics.sort_values(by=[\"F1\", \"MAP\"], ascending=False).head(20)"
   ]
  },
  {
   "cell_type": "code",
   "execution_count": 313,
   "metadata": {},
   "outputs": [],
   "source": [
    "best_thr = 0.52"
   ]
  },
  {
   "cell_type": "code",
   "execution_count": 318,
   "metadata": {},
   "outputs": [
    {
     "data": {
      "text/html": [
       "<div>\n",
       "<style scoped>\n",
       "    .dataframe tbody tr th:only-of-type {\n",
       "        vertical-align: middle;\n",
       "    }\n",
       "\n",
       "    .dataframe tbody tr th {\n",
       "        vertical-align: top;\n",
       "    }\n",
       "\n",
       "    .dataframe thead th {\n",
       "        text-align: right;\n",
       "    }\n",
       "</style>\n",
       "<table border=\"1\" class=\"dataframe\">\n",
       "  <thead>\n",
       "    <tr style=\"text-align: right;\">\n",
       "      <th></th>\n",
       "      <th>P</th>\n",
       "      <th>R</th>\n",
       "      <th>F1</th>\n",
       "      <th>MAP</th>\n",
       "      <th>Thr</th>\n",
       "    </tr>\n",
       "  </thead>\n",
       "  <tbody>\n",
       "    <tr>\n",
       "      <th>51</th>\n",
       "      <td>0.669</td>\n",
       "      <td>0.448</td>\n",
       "      <td>0.537</td>\n",
       "      <td>0.479</td>\n",
       "      <td>0.52</td>\n",
       "    </tr>\n",
       "  </tbody>\n",
       "</table>\n",
       "</div>"
      ],
      "text/plain": [
       "        P      R     F1    MAP   Thr\n",
       "51  0.669  0.448  0.537  0.479  0.52"
      ]
     },
     "execution_count": 318,
     "metadata": {},
     "output_type": "execute_result"
    }
   ],
   "source": [
    "df_res_metrics[round(df_res_metrics['Thr'], 2) == best_thr]"
   ]
  },
  {
   "cell_type": "code",
   "execution_count": null,
   "metadata": {},
   "outputs": [],
   "source": [
    "# Sanity check: Manual"
   ]
  },
  {
   "cell_type": "code",
   "execution_count": 319,
   "metadata": {},
   "outputs": [],
   "source": [
    "thr_codiesp_prediction_format(y_pred=doc_preds, label_encoder_classes=mlb_encoder.classes_, \n",
    "                              doc_list=test_doc_list, thr=best_thr)[[\"doc_id\", \"code\"]] \\\n",
    "    .to_csv(path_or_buf=test_pred_file_path, sep=\"\\t\", header=False, index=False)"
   ]
  },
  {
   "cell_type": "code",
   "execution_count": 320,
   "metadata": {},
   "outputs": [
    {
     "name": "stdout",
     "output_type": "stream",
     "text": [
      "\n",
      "MAP estimate: 0.479\n",
      "\n",
      "CPU times: user 13.8 ms, sys: 8 ms, total: 21.8 ms\n",
      "Wall time: 769 ms\n"
     ]
    }
   ],
   "source": [
    "%%time\n",
    "# Manual insert (copy + paste) train pred file name\n",
    "!python ../../resources/CodiEsp-Evaluation-Script/codiespD_P_evaluation.py -g ../../datasets/final_dataset_v4_to_publish/test/testP.tsv -p proc_test_frag_preds.tsv -c ../../resources/CodiEsp-Evaluation-Script/codiesp_codes/codiesp-P_codes.tsv  "
   ]
  },
  {
   "cell_type": "code",
   "execution_count": null,
   "metadata": {},
   "outputs": [],
   "source": [
    "## Avg"
   ]
  },
  {
   "cell_type": "code",
   "execution_count": 314,
   "metadata": {},
   "outputs": [
    {
     "data": {
      "text/html": [
       "<div>\n",
       "<style scoped>\n",
       "    .dataframe tbody tr th:only-of-type {\n",
       "        vertical-align: middle;\n",
       "    }\n",
       "\n",
       "    .dataframe tbody tr th {\n",
       "        vertical-align: top;\n",
       "    }\n",
       "\n",
       "    .dataframe thead th {\n",
       "        text-align: right;\n",
       "    }\n",
       "</style>\n",
       "<table border=\"1\" class=\"dataframe\">\n",
       "  <thead>\n",
       "    <tr style=\"text-align: right;\">\n",
       "      <th></th>\n",
       "      <th>P</th>\n",
       "      <th>P_std</th>\n",
       "      <th>P_max</th>\n",
       "      <th>R</th>\n",
       "      <th>R_std</th>\n",
       "      <th>R_max</th>\n",
       "      <th>F1</th>\n",
       "      <th>F1_std</th>\n",
       "      <th>F1_max</th>\n",
       "      <th>Thr</th>\n",
       "    </tr>\n",
       "  </thead>\n",
       "  <tbody>\n",
       "    <tr>\n",
       "      <th>0</th>\n",
       "      <td>0.655</td>\n",
       "      <td>0.013</td>\n",
       "      <td>0.669</td>\n",
       "      <td>0.438</td>\n",
       "      <td>0.013</td>\n",
       "      <td>0.452</td>\n",
       "      <td>0.525</td>\n",
       "      <td>0.012</td>\n",
       "      <td>0.537</td>\n",
       "      <td>0.52</td>\n",
       "    </tr>\n",
       "  </tbody>\n",
       "</table>\n",
       "</div>"
      ],
      "text/plain": [
       "       P  P_std  P_max      R  R_std  R_max     F1  F1_std  F1_max   Thr\n",
       "0  0.655  0.013  0.669  0.438  0.013  0.452  0.525   0.012   0.537  0.52"
      ]
     },
     "execution_count": 314,
     "metadata": {},
     "output_type": "execute_result"
    }
   ],
   "source": [
    "pd.DataFrame(compute_metrics_avg(thr=best_thr, doc_preds_arr=[multi_doc_preds, multi_1_doc_preds, multi_2_doc_preds, \n",
    "                                                 multi_3_doc_preds, multi_4_doc_preds])).transpose()"
   ]
  },
  {
   "cell_type": "code",
   "execution_count": null,
   "metadata": {},
   "outputs": [],
   "source": [
    "## Ensemble"
   ]
  },
  {
   "cell_type": "code",
   "execution_count": 315,
   "metadata": {},
   "outputs": [],
   "source": [
    "sum_ens = (multi_doc_preds + multi_1_doc_preds + multi_2_doc_preds + multi_3_doc_preds + multi_4_doc_preds)/5"
   ]
  },
  {
   "cell_type": "code",
   "execution_count": 316,
   "metadata": {},
   "outputs": [
    {
     "data": {
      "text/html": [
       "<div>\n",
       "<style scoped>\n",
       "    .dataframe tbody tr th:only-of-type {\n",
       "        vertical-align: middle;\n",
       "    }\n",
       "\n",
       "    .dataframe tbody tr th {\n",
       "        vertical-align: top;\n",
       "    }\n",
       "\n",
       "    .dataframe thead th {\n",
       "        text-align: right;\n",
       "    }\n",
       "</style>\n",
       "<table border=\"1\" class=\"dataframe\">\n",
       "  <thead>\n",
       "    <tr style=\"text-align: right;\">\n",
       "      <th></th>\n",
       "      <th>P</th>\n",
       "      <th>R</th>\n",
       "      <th>F1</th>\n",
       "      <th>MAP</th>\n",
       "      <th>Thr</th>\n",
       "    </tr>\n",
       "  </thead>\n",
       "  <tbody>\n",
       "    <tr>\n",
       "      <th>0</th>\n",
       "      <td>0.736</td>\n",
       "      <td>0.433</td>\n",
       "      <td>0.545</td>\n",
       "      <td>0.494</td>\n",
       "      <td>0.52</td>\n",
       "    </tr>\n",
       "  </tbody>\n",
       "</table>\n",
       "</div>"
      ],
      "text/plain": [
       "       P      R     F1    MAP   Thr\n",
       "0  0.736  0.433  0.545  0.494  0.52"
      ]
     },
     "execution_count": 316,
     "metadata": {},
     "output_type": "execute_result"
    }
   ],
   "source": [
    "compute_metrics([best_thr], sum_ens)"
   ]
  },
  {
   "cell_type": "code",
   "execution_count": null,
   "metadata": {},
   "outputs": [],
   "source": [
    "# Sanity check: Manual"
   ]
  },
  {
   "cell_type": "code",
   "execution_count": 324,
   "metadata": {},
   "outputs": [
    {
     "name": "stdout",
     "output_type": "stream",
     "text": [
      "\n",
      "MAP estimate: 0.494\n",
      "\n",
      "CPU times: user 13.1 ms, sys: 8.11 ms, total: 21.2 ms\n",
      "Wall time: 765 ms\n"
     ]
    }
   ],
   "source": [
    "%%time\n",
    "# Manual insert (copy + paste) train pred file name\n",
    "!python ../../resources/CodiEsp-Evaluation-Script/codiespD_P_evaluation.py -g ../../datasets/final_dataset_v4_to_publish/test/testP.tsv -p proc_test_frag_preds.tsv -c ../../resources/CodiEsp-Evaluation-Script/codiesp_codes/codiesp-P_codes.tsv  "
   ]
  },
  {
   "cell_type": "code",
   "execution_count": 262,
   "metadata": {},
   "outputs": [],
   "source": [
    "# Multi-Galén"
   ]
  },
  {
   "cell_type": "code",
   "execution_count": 317,
   "metadata": {},
   "outputs": [],
   "source": [
    "doc_preds = multi_galen_doc_preds"
   ]
  },
  {
   "cell_type": "code",
   "execution_count": 326,
   "metadata": {
    "scrolled": true
   },
   "outputs": [
    {
     "name": "stdout",
     "output_type": "stream",
     "text": [
      "CPU times: user 35.8 s, sys: 146 ms, total: 35.9 s\n",
      "Wall time: 35.9 s\n"
     ]
    }
   ],
   "source": [
    "%%time\n",
    "df_res_metrics = compute_metrics(thr_arr, doc_preds)"
   ]
  },
  {
   "cell_type": "code",
   "execution_count": 327,
   "metadata": {},
   "outputs": [
    {
     "data": {
      "text/html": [
       "<div>\n",
       "<style scoped>\n",
       "    .dataframe tbody tr th:only-of-type {\n",
       "        vertical-align: middle;\n",
       "    }\n",
       "\n",
       "    .dataframe tbody tr th {\n",
       "        vertical-align: top;\n",
       "    }\n",
       "\n",
       "    .dataframe thead th {\n",
       "        text-align: right;\n",
       "    }\n",
       "</style>\n",
       "<table border=\"1\" class=\"dataframe\">\n",
       "  <thead>\n",
       "    <tr style=\"text-align: right;\">\n",
       "      <th></th>\n",
       "      <th>P</th>\n",
       "      <th>R</th>\n",
       "      <th>F1</th>\n",
       "      <th>MAP</th>\n",
       "      <th>Thr</th>\n",
       "    </tr>\n",
       "  </thead>\n",
       "  <tbody>\n",
       "    <tr>\n",
       "      <th>11</th>\n",
       "      <td>0.603</td>\n",
       "      <td>0.510</td>\n",
       "      <td>0.552</td>\n",
       "      <td>0.509</td>\n",
       "      <td>0.12</td>\n",
       "    </tr>\n",
       "    <tr>\n",
       "      <th>12</th>\n",
       "      <td>0.607</td>\n",
       "      <td>0.505</td>\n",
       "      <td>0.551</td>\n",
       "      <td>0.505</td>\n",
       "      <td>0.13</td>\n",
       "    </tr>\n",
       "    <tr>\n",
       "      <th>13</th>\n",
       "      <td>0.608</td>\n",
       "      <td>0.502</td>\n",
       "      <td>0.550</td>\n",
       "      <td>0.503</td>\n",
       "      <td>0.14</td>\n",
       "    </tr>\n",
       "    <tr>\n",
       "      <th>10</th>\n",
       "      <td>0.593</td>\n",
       "      <td>0.511</td>\n",
       "      <td>0.549</td>\n",
       "      <td>0.508</td>\n",
       "      <td>0.11</td>\n",
       "    </tr>\n",
       "    <tr>\n",
       "      <th>14</th>\n",
       "      <td>0.610</td>\n",
       "      <td>0.499</td>\n",
       "      <td>0.549</td>\n",
       "      <td>0.502</td>\n",
       "      <td>0.15</td>\n",
       "    </tr>\n",
       "    <tr>\n",
       "      <th>9</th>\n",
       "      <td>0.586</td>\n",
       "      <td>0.514</td>\n",
       "      <td>0.548</td>\n",
       "      <td>0.508</td>\n",
       "      <td>0.10</td>\n",
       "    </tr>\n",
       "    <tr>\n",
       "      <th>8</th>\n",
       "      <td>0.577</td>\n",
       "      <td>0.520</td>\n",
       "      <td>0.547</td>\n",
       "      <td>0.510</td>\n",
       "      <td>0.09</td>\n",
       "    </tr>\n",
       "    <tr>\n",
       "      <th>16</th>\n",
       "      <td>0.616</td>\n",
       "      <td>0.493</td>\n",
       "      <td>0.547</td>\n",
       "      <td>0.502</td>\n",
       "      <td>0.17</td>\n",
       "    </tr>\n",
       "    <tr>\n",
       "      <th>15</th>\n",
       "      <td>0.612</td>\n",
       "      <td>0.494</td>\n",
       "      <td>0.547</td>\n",
       "      <td>0.499</td>\n",
       "      <td>0.16</td>\n",
       "    </tr>\n",
       "    <tr>\n",
       "      <th>6</th>\n",
       "      <td>0.562</td>\n",
       "      <td>0.528</td>\n",
       "      <td>0.545</td>\n",
       "      <td>0.504</td>\n",
       "      <td>0.07</td>\n",
       "    </tr>\n",
       "    <tr>\n",
       "      <th>27</th>\n",
       "      <td>0.648</td>\n",
       "      <td>0.471</td>\n",
       "      <td>0.545</td>\n",
       "      <td>0.502</td>\n",
       "      <td>0.28</td>\n",
       "    </tr>\n",
       "    <tr>\n",
       "      <th>28</th>\n",
       "      <td>0.649</td>\n",
       "      <td>0.470</td>\n",
       "      <td>0.545</td>\n",
       "      <td>0.501</td>\n",
       "      <td>0.29</td>\n",
       "    </tr>\n",
       "    <tr>\n",
       "      <th>7</th>\n",
       "      <td>0.569</td>\n",
       "      <td>0.522</td>\n",
       "      <td>0.544</td>\n",
       "      <td>0.504</td>\n",
       "      <td>0.08</td>\n",
       "    </tr>\n",
       "    <tr>\n",
       "      <th>26</th>\n",
       "      <td>0.644</td>\n",
       "      <td>0.471</td>\n",
       "      <td>0.544</td>\n",
       "      <td>0.502</td>\n",
       "      <td>0.27</td>\n",
       "    </tr>\n",
       "    <tr>\n",
       "      <th>25</th>\n",
       "      <td>0.640</td>\n",
       "      <td>0.472</td>\n",
       "      <td>0.544</td>\n",
       "      <td>0.500</td>\n",
       "      <td>0.26</td>\n",
       "    </tr>\n",
       "    <tr>\n",
       "      <th>17</th>\n",
       "      <td>0.617</td>\n",
       "      <td>0.487</td>\n",
       "      <td>0.544</td>\n",
       "      <td>0.498</td>\n",
       "      <td>0.18</td>\n",
       "    </tr>\n",
       "    <tr>\n",
       "      <th>18</th>\n",
       "      <td>0.619</td>\n",
       "      <td>0.485</td>\n",
       "      <td>0.544</td>\n",
       "      <td>0.497</td>\n",
       "      <td>0.19</td>\n",
       "    </tr>\n",
       "    <tr>\n",
       "      <th>20</th>\n",
       "      <td>0.626</td>\n",
       "      <td>0.479</td>\n",
       "      <td>0.543</td>\n",
       "      <td>0.501</td>\n",
       "      <td>0.21</td>\n",
       "    </tr>\n",
       "    <tr>\n",
       "      <th>29</th>\n",
       "      <td>0.650</td>\n",
       "      <td>0.466</td>\n",
       "      <td>0.543</td>\n",
       "      <td>0.501</td>\n",
       "      <td>0.30</td>\n",
       "    </tr>\n",
       "    <tr>\n",
       "      <th>23</th>\n",
       "      <td>0.636</td>\n",
       "      <td>0.473</td>\n",
       "      <td>0.543</td>\n",
       "      <td>0.500</td>\n",
       "      <td>0.24</td>\n",
       "    </tr>\n",
       "  </tbody>\n",
       "</table>\n",
       "</div>"
      ],
      "text/plain": [
       "        P      R     F1    MAP   Thr\n",
       "11  0.603  0.510  0.552  0.509  0.12\n",
       "12  0.607  0.505  0.551  0.505  0.13\n",
       "13  0.608  0.502  0.550  0.503  0.14\n",
       "10  0.593  0.511  0.549  0.508  0.11\n",
       "14  0.610  0.499  0.549  0.502  0.15\n",
       "9   0.586  0.514  0.548  0.508  0.10\n",
       "8   0.577  0.520  0.547  0.510  0.09\n",
       "16  0.616  0.493  0.547  0.502  0.17\n",
       "15  0.612  0.494  0.547  0.499  0.16\n",
       "6   0.562  0.528  0.545  0.504  0.07\n",
       "27  0.648  0.471  0.545  0.502  0.28\n",
       "28  0.649  0.470  0.545  0.501  0.29\n",
       "7   0.569  0.522  0.544  0.504  0.08\n",
       "26  0.644  0.471  0.544  0.502  0.27\n",
       "25  0.640  0.472  0.544  0.500  0.26\n",
       "17  0.617  0.487  0.544  0.498  0.18\n",
       "18  0.619  0.485  0.544  0.497  0.19\n",
       "20  0.626  0.479  0.543  0.501  0.21\n",
       "29  0.650  0.466  0.543  0.501  0.30\n",
       "23  0.636  0.473  0.543  0.500  0.24"
      ]
     },
     "execution_count": 327,
     "metadata": {},
     "output_type": "execute_result"
    }
   ],
   "source": [
    "df_res_metrics.sort_values(by=[\"F1\", \"MAP\"], ascending=False).head(20)"
   ]
  },
  {
   "cell_type": "code",
   "execution_count": 318,
   "metadata": {},
   "outputs": [],
   "source": [
    "best_thr = 0.12"
   ]
  },
  {
   "cell_type": "code",
   "execution_count": 329,
   "metadata": {},
   "outputs": [
    {
     "data": {
      "text/html": [
       "<div>\n",
       "<style scoped>\n",
       "    .dataframe tbody tr th:only-of-type {\n",
       "        vertical-align: middle;\n",
       "    }\n",
       "\n",
       "    .dataframe tbody tr th {\n",
       "        vertical-align: top;\n",
       "    }\n",
       "\n",
       "    .dataframe thead th {\n",
       "        text-align: right;\n",
       "    }\n",
       "</style>\n",
       "<table border=\"1\" class=\"dataframe\">\n",
       "  <thead>\n",
       "    <tr style=\"text-align: right;\">\n",
       "      <th></th>\n",
       "      <th>P</th>\n",
       "      <th>R</th>\n",
       "      <th>F1</th>\n",
       "      <th>MAP</th>\n",
       "      <th>Thr</th>\n",
       "    </tr>\n",
       "  </thead>\n",
       "  <tbody>\n",
       "    <tr>\n",
       "      <th>11</th>\n",
       "      <td>0.603</td>\n",
       "      <td>0.51</td>\n",
       "      <td>0.552</td>\n",
       "      <td>0.509</td>\n",
       "      <td>0.12</td>\n",
       "    </tr>\n",
       "  </tbody>\n",
       "</table>\n",
       "</div>"
      ],
      "text/plain": [
       "        P     R     F1    MAP   Thr\n",
       "11  0.603  0.51  0.552  0.509  0.12"
      ]
     },
     "execution_count": 329,
     "metadata": {},
     "output_type": "execute_result"
    }
   ],
   "source": [
    "df_res_metrics[round(df_res_metrics['Thr'], 2) == best_thr]"
   ]
  },
  {
   "cell_type": "code",
   "execution_count": null,
   "metadata": {},
   "outputs": [],
   "source": [
    "# Sanity check: Manual"
   ]
  },
  {
   "cell_type": "code",
   "execution_count": 330,
   "metadata": {},
   "outputs": [],
   "source": [
    "thr_codiesp_prediction_format(y_pred=doc_preds, label_encoder_classes=mlb_encoder.classes_, \n",
    "                              doc_list=test_doc_list, thr=best_thr)[[\"doc_id\", \"code\"]] \\\n",
    "    .to_csv(path_or_buf=test_pred_file_path, sep=\"\\t\", header=False, index=False)"
   ]
  },
  {
   "cell_type": "code",
   "execution_count": 331,
   "metadata": {},
   "outputs": [
    {
     "name": "stdout",
     "output_type": "stream",
     "text": [
      "\n",
      "MAP estimate: 0.509\n",
      "\n",
      "CPU times: user 16.2 ms, sys: 12.2 ms, total: 28.4 ms\n",
      "Wall time: 779 ms\n"
     ]
    }
   ],
   "source": [
    "%%time\n",
    "# Manual insert (copy + paste) train pred file name\n",
    "!python ../../resources/CodiEsp-Evaluation-Script/codiespD_P_evaluation.py -g ../../datasets/final_dataset_v4_to_publish/test/testP.tsv -p proc_test_frag_preds.tsv -c ../../resources/CodiEsp-Evaluation-Script/codiesp_codes/codiesp-P_codes.tsv  "
   ]
  },
  {
   "cell_type": "code",
   "execution_count": null,
   "metadata": {},
   "outputs": [],
   "source": [
    "## Avg"
   ]
  },
  {
   "cell_type": "code",
   "execution_count": 319,
   "metadata": {},
   "outputs": [
    {
     "data": {
      "text/html": [
       "<div>\n",
       "<style scoped>\n",
       "    .dataframe tbody tr th:only-of-type {\n",
       "        vertical-align: middle;\n",
       "    }\n",
       "\n",
       "    .dataframe tbody tr th {\n",
       "        vertical-align: top;\n",
       "    }\n",
       "\n",
       "    .dataframe thead th {\n",
       "        text-align: right;\n",
       "    }\n",
       "</style>\n",
       "<table border=\"1\" class=\"dataframe\">\n",
       "  <thead>\n",
       "    <tr style=\"text-align: right;\">\n",
       "      <th></th>\n",
       "      <th>P</th>\n",
       "      <th>P_std</th>\n",
       "      <th>P_max</th>\n",
       "      <th>R</th>\n",
       "      <th>R_std</th>\n",
       "      <th>R_max</th>\n",
       "      <th>F1</th>\n",
       "      <th>F1_std</th>\n",
       "      <th>F1_max</th>\n",
       "      <th>Thr</th>\n",
       "    </tr>\n",
       "  </thead>\n",
       "  <tbody>\n",
       "    <tr>\n",
       "      <th>0</th>\n",
       "      <td>0.582</td>\n",
       "      <td>0.014</td>\n",
       "      <td>0.603</td>\n",
       "      <td>0.501</td>\n",
       "      <td>0.009</td>\n",
       "      <td>0.51</td>\n",
       "      <td>0.538</td>\n",
       "      <td>0.009</td>\n",
       "      <td>0.552</td>\n",
       "      <td>0.12</td>\n",
       "    </tr>\n",
       "  </tbody>\n",
       "</table>\n",
       "</div>"
      ],
      "text/plain": [
       "       P  P_std  P_max      R  R_std  R_max     F1  F1_std  F1_max   Thr\n",
       "0  0.582  0.014  0.603  0.501  0.009   0.51  0.538   0.009   0.552  0.12"
      ]
     },
     "execution_count": 319,
     "metadata": {},
     "output_type": "execute_result"
    }
   ],
   "source": [
    "pd.DataFrame(compute_metrics_avg(thr=best_thr, doc_preds_arr=[multi_galen_doc_preds, multi_galen_1_doc_preds, multi_galen_2_doc_preds, \n",
    "                                                              multi_galen_3_doc_preds, multi_galen_4_doc_preds])).transpose()"
   ]
  },
  {
   "cell_type": "code",
   "execution_count": null,
   "metadata": {},
   "outputs": [],
   "source": [
    "## Ensemble"
   ]
  },
  {
   "cell_type": "code",
   "execution_count": 320,
   "metadata": {},
   "outputs": [],
   "source": [
    "sum_ens = (multi_galen_doc_preds + multi_galen_1_doc_preds + multi_galen_2_doc_preds + multi_galen_3_doc_preds + multi_galen_4_doc_preds)/5 "
   ]
  },
  {
   "cell_type": "code",
   "execution_count": 321,
   "metadata": {},
   "outputs": [
    {
     "data": {
      "text/html": [
       "<div>\n",
       "<style scoped>\n",
       "    .dataframe tbody tr th:only-of-type {\n",
       "        vertical-align: middle;\n",
       "    }\n",
       "\n",
       "    .dataframe tbody tr th {\n",
       "        vertical-align: top;\n",
       "    }\n",
       "\n",
       "    .dataframe thead th {\n",
       "        text-align: right;\n",
       "    }\n",
       "</style>\n",
       "<table border=\"1\" class=\"dataframe\">\n",
       "  <thead>\n",
       "    <tr style=\"text-align: right;\">\n",
       "      <th></th>\n",
       "      <th>P</th>\n",
       "      <th>R</th>\n",
       "      <th>F1</th>\n",
       "      <th>MAP</th>\n",
       "      <th>Thr</th>\n",
       "    </tr>\n",
       "  </thead>\n",
       "  <tbody>\n",
       "    <tr>\n",
       "      <th>0</th>\n",
       "      <td>0.568</td>\n",
       "      <td>0.573</td>\n",
       "      <td>0.571</td>\n",
       "      <td>0.539</td>\n",
       "      <td>0.12</td>\n",
       "    </tr>\n",
       "  </tbody>\n",
       "</table>\n",
       "</div>"
      ],
      "text/plain": [
       "       P      R     F1    MAP   Thr\n",
       "0  0.568  0.573  0.571  0.539  0.12"
      ]
     },
     "execution_count": 321,
     "metadata": {},
     "output_type": "execute_result"
    }
   ],
   "source": [
    "compute_metrics([best_thr], sum_ens)"
   ]
  },
  {
   "cell_type": "code",
   "execution_count": null,
   "metadata": {},
   "outputs": [],
   "source": [
    "# Sanity check: Manual"
   ]
  },
  {
   "cell_type": "code",
   "execution_count": 335,
   "metadata": {},
   "outputs": [
    {
     "name": "stdout",
     "output_type": "stream",
     "text": [
      "\n",
      "MAP estimate: 0.539\n",
      "\n",
      "CPU times: user 16.5 ms, sys: 32.1 ms, total: 48.6 ms\n",
      "Wall time: 783 ms\n"
     ]
    }
   ],
   "source": [
    "%%time\n",
    "# Manual insert (copy + paste) train pred file name\n",
    "!python ../../resources/CodiEsp-Evaluation-Script/codiespD_P_evaluation.py -g ../../datasets/final_dataset_v4_to_publish/test/testP.tsv -p proc_test_frag_preds.tsv -c ../../resources/CodiEsp-Evaluation-Script/codiesp_codes/codiesp-P_codes.tsv  "
   ]
  },
  {
   "cell_type": "code",
   "execution_count": 262,
   "metadata": {},
   "outputs": [],
   "source": [
    "# BETO"
   ]
  },
  {
   "cell_type": "code",
   "execution_count": 322,
   "metadata": {},
   "outputs": [],
   "source": [
    "doc_preds = beto_doc_preds"
   ]
  },
  {
   "cell_type": "code",
   "execution_count": 337,
   "metadata": {},
   "outputs": [
    {
     "name": "stdout",
     "output_type": "stream",
     "text": [
      "CPU times: user 35.8 s, sys: 135 ms, total: 35.9 s\n",
      "Wall time: 35.9 s\n"
     ]
    }
   ],
   "source": [
    "%%time\n",
    "df_res_metrics = compute_metrics(thr_arr, doc_preds)"
   ]
  },
  {
   "cell_type": "code",
   "execution_count": 338,
   "metadata": {},
   "outputs": [
    {
     "data": {
      "text/html": [
       "<div>\n",
       "<style scoped>\n",
       "    .dataframe tbody tr th:only-of-type {\n",
       "        vertical-align: middle;\n",
       "    }\n",
       "\n",
       "    .dataframe tbody tr th {\n",
       "        vertical-align: top;\n",
       "    }\n",
       "\n",
       "    .dataframe thead th {\n",
       "        text-align: right;\n",
       "    }\n",
       "</style>\n",
       "<table border=\"1\" class=\"dataframe\">\n",
       "  <thead>\n",
       "    <tr style=\"text-align: right;\">\n",
       "      <th></th>\n",
       "      <th>P</th>\n",
       "      <th>R</th>\n",
       "      <th>F1</th>\n",
       "      <th>MAP</th>\n",
       "      <th>Thr</th>\n",
       "    </tr>\n",
       "  </thead>\n",
       "  <tbody>\n",
       "    <tr>\n",
       "      <th>52</th>\n",
       "      <td>0.643</td>\n",
       "      <td>0.440</td>\n",
       "      <td>0.523</td>\n",
       "      <td>0.467</td>\n",
       "      <td>0.53</td>\n",
       "    </tr>\n",
       "    <tr>\n",
       "      <th>51</th>\n",
       "      <td>0.640</td>\n",
       "      <td>0.440</td>\n",
       "      <td>0.522</td>\n",
       "      <td>0.467</td>\n",
       "      <td>0.52</td>\n",
       "    </tr>\n",
       "    <tr>\n",
       "      <th>53</th>\n",
       "      <td>0.644</td>\n",
       "      <td>0.439</td>\n",
       "      <td>0.522</td>\n",
       "      <td>0.467</td>\n",
       "      <td>0.54</td>\n",
       "    </tr>\n",
       "    <tr>\n",
       "      <th>54</th>\n",
       "      <td>0.645</td>\n",
       "      <td>0.438</td>\n",
       "      <td>0.522</td>\n",
       "      <td>0.467</td>\n",
       "      <td>0.55</td>\n",
       "    </tr>\n",
       "    <tr>\n",
       "      <th>55</th>\n",
       "      <td>0.647</td>\n",
       "      <td>0.438</td>\n",
       "      <td>0.522</td>\n",
       "      <td>0.467</td>\n",
       "      <td>0.56</td>\n",
       "    </tr>\n",
       "    <tr>\n",
       "      <th>20</th>\n",
       "      <td>0.579</td>\n",
       "      <td>0.473</td>\n",
       "      <td>0.521</td>\n",
       "      <td>0.472</td>\n",
       "      <td>0.21</td>\n",
       "    </tr>\n",
       "    <tr>\n",
       "      <th>50</th>\n",
       "      <td>0.635</td>\n",
       "      <td>0.441</td>\n",
       "      <td>0.521</td>\n",
       "      <td>0.465</td>\n",
       "      <td>0.51</td>\n",
       "    </tr>\n",
       "    <tr>\n",
       "      <th>56</th>\n",
       "      <td>0.647</td>\n",
       "      <td>0.436</td>\n",
       "      <td>0.521</td>\n",
       "      <td>0.465</td>\n",
       "      <td>0.57</td>\n",
       "    </tr>\n",
       "    <tr>\n",
       "      <th>18</th>\n",
       "      <td>0.572</td>\n",
       "      <td>0.477</td>\n",
       "      <td>0.520</td>\n",
       "      <td>0.476</td>\n",
       "      <td>0.19</td>\n",
       "    </tr>\n",
       "    <tr>\n",
       "      <th>45</th>\n",
       "      <td>0.629</td>\n",
       "      <td>0.444</td>\n",
       "      <td>0.520</td>\n",
       "      <td>0.466</td>\n",
       "      <td>0.46</td>\n",
       "    </tr>\n",
       "    <tr>\n",
       "      <th>47</th>\n",
       "      <td>0.632</td>\n",
       "      <td>0.441</td>\n",
       "      <td>0.520</td>\n",
       "      <td>0.465</td>\n",
       "      <td>0.48</td>\n",
       "    </tr>\n",
       "    <tr>\n",
       "      <th>48</th>\n",
       "      <td>0.634</td>\n",
       "      <td>0.441</td>\n",
       "      <td>0.520</td>\n",
       "      <td>0.465</td>\n",
       "      <td>0.49</td>\n",
       "    </tr>\n",
       "    <tr>\n",
       "      <th>49</th>\n",
       "      <td>0.634</td>\n",
       "      <td>0.441</td>\n",
       "      <td>0.520</td>\n",
       "      <td>0.465</td>\n",
       "      <td>0.50</td>\n",
       "    </tr>\n",
       "    <tr>\n",
       "      <th>57</th>\n",
       "      <td>0.647</td>\n",
       "      <td>0.435</td>\n",
       "      <td>0.520</td>\n",
       "      <td>0.464</td>\n",
       "      <td>0.58</td>\n",
       "    </tr>\n",
       "    <tr>\n",
       "      <th>19</th>\n",
       "      <td>0.574</td>\n",
       "      <td>0.474</td>\n",
       "      <td>0.519</td>\n",
       "      <td>0.474</td>\n",
       "      <td>0.20</td>\n",
       "    </tr>\n",
       "    <tr>\n",
       "      <th>21</th>\n",
       "      <td>0.579</td>\n",
       "      <td>0.470</td>\n",
       "      <td>0.519</td>\n",
       "      <td>0.470</td>\n",
       "      <td>0.22</td>\n",
       "    </tr>\n",
       "    <tr>\n",
       "      <th>46</th>\n",
       "      <td>0.631</td>\n",
       "      <td>0.441</td>\n",
       "      <td>0.519</td>\n",
       "      <td>0.465</td>\n",
       "      <td>0.47</td>\n",
       "    </tr>\n",
       "    <tr>\n",
       "      <th>44</th>\n",
       "      <td>0.625</td>\n",
       "      <td>0.444</td>\n",
       "      <td>0.519</td>\n",
       "      <td>0.464</td>\n",
       "      <td>0.45</td>\n",
       "    </tr>\n",
       "    <tr>\n",
       "      <th>17</th>\n",
       "      <td>0.563</td>\n",
       "      <td>0.480</td>\n",
       "      <td>0.518</td>\n",
       "      <td>0.474</td>\n",
       "      <td>0.18</td>\n",
       "    </tr>\n",
       "    <tr>\n",
       "      <th>22</th>\n",
       "      <td>0.582</td>\n",
       "      <td>0.466</td>\n",
       "      <td>0.518</td>\n",
       "      <td>0.470</td>\n",
       "      <td>0.23</td>\n",
       "    </tr>\n",
       "  </tbody>\n",
       "</table>\n",
       "</div>"
      ],
      "text/plain": [
       "        P      R     F1    MAP   Thr\n",
       "52  0.643  0.440  0.523  0.467  0.53\n",
       "51  0.640  0.440  0.522  0.467  0.52\n",
       "53  0.644  0.439  0.522  0.467  0.54\n",
       "54  0.645  0.438  0.522  0.467  0.55\n",
       "55  0.647  0.438  0.522  0.467  0.56\n",
       "20  0.579  0.473  0.521  0.472  0.21\n",
       "50  0.635  0.441  0.521  0.465  0.51\n",
       "56  0.647  0.436  0.521  0.465  0.57\n",
       "18  0.572  0.477  0.520  0.476  0.19\n",
       "45  0.629  0.444  0.520  0.466  0.46\n",
       "47  0.632  0.441  0.520  0.465  0.48\n",
       "48  0.634  0.441  0.520  0.465  0.49\n",
       "49  0.634  0.441  0.520  0.465  0.50\n",
       "57  0.647  0.435  0.520  0.464  0.58\n",
       "19  0.574  0.474  0.519  0.474  0.20\n",
       "21  0.579  0.470  0.519  0.470  0.22\n",
       "46  0.631  0.441  0.519  0.465  0.47\n",
       "44  0.625  0.444  0.519  0.464  0.45\n",
       "17  0.563  0.480  0.518  0.474  0.18\n",
       "22  0.582  0.466  0.518  0.470  0.23"
      ]
     },
     "execution_count": 338,
     "metadata": {},
     "output_type": "execute_result"
    }
   ],
   "source": [
    "df_res_metrics.sort_values(by=[\"F1\", \"MAP\"], ascending=False).head(20)"
   ]
  },
  {
   "cell_type": "code",
   "execution_count": 323,
   "metadata": {},
   "outputs": [],
   "source": [
    "best_thr = 0.53"
   ]
  },
  {
   "cell_type": "code",
   "execution_count": 340,
   "metadata": {},
   "outputs": [
    {
     "data": {
      "text/html": [
       "<div>\n",
       "<style scoped>\n",
       "    .dataframe tbody tr th:only-of-type {\n",
       "        vertical-align: middle;\n",
       "    }\n",
       "\n",
       "    .dataframe tbody tr th {\n",
       "        vertical-align: top;\n",
       "    }\n",
       "\n",
       "    .dataframe thead th {\n",
       "        text-align: right;\n",
       "    }\n",
       "</style>\n",
       "<table border=\"1\" class=\"dataframe\">\n",
       "  <thead>\n",
       "    <tr style=\"text-align: right;\">\n",
       "      <th></th>\n",
       "      <th>P</th>\n",
       "      <th>R</th>\n",
       "      <th>F1</th>\n",
       "      <th>MAP</th>\n",
       "      <th>Thr</th>\n",
       "    </tr>\n",
       "  </thead>\n",
       "  <tbody>\n",
       "    <tr>\n",
       "      <th>52</th>\n",
       "      <td>0.643</td>\n",
       "      <td>0.44</td>\n",
       "      <td>0.523</td>\n",
       "      <td>0.467</td>\n",
       "      <td>0.53</td>\n",
       "    </tr>\n",
       "  </tbody>\n",
       "</table>\n",
       "</div>"
      ],
      "text/plain": [
       "        P     R     F1    MAP   Thr\n",
       "52  0.643  0.44  0.523  0.467  0.53"
      ]
     },
     "execution_count": 340,
     "metadata": {},
     "output_type": "execute_result"
    }
   ],
   "source": [
    "df_res_metrics[round(df_res_metrics['Thr'], 2) == best_thr]"
   ]
  },
  {
   "cell_type": "code",
   "execution_count": null,
   "metadata": {},
   "outputs": [],
   "source": [
    "# Sanity check: Manual"
   ]
  },
  {
   "cell_type": "code",
   "execution_count": 345,
   "metadata": {},
   "outputs": [],
   "source": [
    "thr_codiesp_prediction_format(y_pred=doc_preds, label_encoder_classes=mlb_encoder.classes_, \n",
    "                              doc_list=test_doc_list, thr=best_thr)[[\"doc_id\", \"code\"]] \\\n",
    "    .to_csv(path_or_buf=test_pred_file_path, sep=\"\\t\", header=False, index=False)"
   ]
  },
  {
   "cell_type": "code",
   "execution_count": 346,
   "metadata": {},
   "outputs": [
    {
     "name": "stdout",
     "output_type": "stream",
     "text": [
      "\n",
      "MAP estimate: 0.467\n",
      "\n",
      "CPU times: user 11.3 ms, sys: 8.04 ms, total: 19.4 ms\n",
      "Wall time: 757 ms\n"
     ]
    }
   ],
   "source": [
    "%%time\n",
    "# Manual insert (copy + paste) train pred file name\n",
    "!python ../../resources/CodiEsp-Evaluation-Script/codiespD_P_evaluation.py -g ../../datasets/final_dataset_v4_to_publish/test/testP.tsv -p proc_test_frag_preds.tsv -c ../../resources/CodiEsp-Evaluation-Script/codiesp_codes/codiesp-P_codes.tsv  "
   ]
  },
  {
   "cell_type": "code",
   "execution_count": null,
   "metadata": {},
   "outputs": [],
   "source": [
    "## Avg"
   ]
  },
  {
   "cell_type": "code",
   "execution_count": 324,
   "metadata": {},
   "outputs": [
    {
     "data": {
      "text/html": [
       "<div>\n",
       "<style scoped>\n",
       "    .dataframe tbody tr th:only-of-type {\n",
       "        vertical-align: middle;\n",
       "    }\n",
       "\n",
       "    .dataframe tbody tr th {\n",
       "        vertical-align: top;\n",
       "    }\n",
       "\n",
       "    .dataframe thead th {\n",
       "        text-align: right;\n",
       "    }\n",
       "</style>\n",
       "<table border=\"1\" class=\"dataframe\">\n",
       "  <thead>\n",
       "    <tr style=\"text-align: right;\">\n",
       "      <th></th>\n",
       "      <th>P</th>\n",
       "      <th>P_std</th>\n",
       "      <th>P_max</th>\n",
       "      <th>R</th>\n",
       "      <th>R_std</th>\n",
       "      <th>R_max</th>\n",
       "      <th>F1</th>\n",
       "      <th>F1_std</th>\n",
       "      <th>F1_max</th>\n",
       "      <th>Thr</th>\n",
       "    </tr>\n",
       "  </thead>\n",
       "  <tbody>\n",
       "    <tr>\n",
       "      <th>0</th>\n",
       "      <td>0.661</td>\n",
       "      <td>0.013</td>\n",
       "      <td>0.675</td>\n",
       "      <td>0.407</td>\n",
       "      <td>0.019</td>\n",
       "      <td>0.44</td>\n",
       "      <td>0.503</td>\n",
       "      <td>0.013</td>\n",
       "      <td>0.523</td>\n",
       "      <td>0.53</td>\n",
       "    </tr>\n",
       "  </tbody>\n",
       "</table>\n",
       "</div>"
      ],
      "text/plain": [
       "       P  P_std  P_max      R  R_std  R_max     F1  F1_std  F1_max   Thr\n",
       "0  0.661  0.013  0.675  0.407  0.019   0.44  0.503   0.013   0.523  0.53"
      ]
     },
     "execution_count": 324,
     "metadata": {},
     "output_type": "execute_result"
    }
   ],
   "source": [
    "pd.DataFrame(compute_metrics_avg(thr=best_thr, doc_preds_arr=[beto_doc_preds, beto_1_doc_preds, beto_2_doc_preds, \n",
    "                                                              beto_3_doc_preds, beto_4_doc_preds])).transpose()"
   ]
  },
  {
   "cell_type": "code",
   "execution_count": null,
   "metadata": {},
   "outputs": [],
   "source": [
    "## Ensemble"
   ]
  },
  {
   "cell_type": "code",
   "execution_count": 325,
   "metadata": {},
   "outputs": [],
   "source": [
    "sum_ens = (beto_doc_preds + beto_1_doc_preds + beto_2_doc_preds + beto_3_doc_preds + beto_4_doc_preds)/5"
   ]
  },
  {
   "cell_type": "code",
   "execution_count": 326,
   "metadata": {},
   "outputs": [
    {
     "data": {
      "text/html": [
       "<div>\n",
       "<style scoped>\n",
       "    .dataframe tbody tr th:only-of-type {\n",
       "        vertical-align: middle;\n",
       "    }\n",
       "\n",
       "    .dataframe tbody tr th {\n",
       "        vertical-align: top;\n",
       "    }\n",
       "\n",
       "    .dataframe thead th {\n",
       "        text-align: right;\n",
       "    }\n",
       "</style>\n",
       "<table border=\"1\" class=\"dataframe\">\n",
       "  <thead>\n",
       "    <tr style=\"text-align: right;\">\n",
       "      <th></th>\n",
       "      <th>P</th>\n",
       "      <th>R</th>\n",
       "      <th>F1</th>\n",
       "      <th>MAP</th>\n",
       "      <th>Thr</th>\n",
       "    </tr>\n",
       "  </thead>\n",
       "  <tbody>\n",
       "    <tr>\n",
       "      <th>0</th>\n",
       "      <td>0.755</td>\n",
       "      <td>0.404</td>\n",
       "      <td>0.526</td>\n",
       "      <td>0.474</td>\n",
       "      <td>0.53</td>\n",
       "    </tr>\n",
       "  </tbody>\n",
       "</table>\n",
       "</div>"
      ],
      "text/plain": [
       "       P      R     F1    MAP   Thr\n",
       "0  0.755  0.404  0.526  0.474  0.53"
      ]
     },
     "execution_count": 326,
     "metadata": {},
     "output_type": "execute_result"
    }
   ],
   "source": [
    "compute_metrics([best_thr], sum_ens)"
   ]
  },
  {
   "cell_type": "code",
   "execution_count": null,
   "metadata": {},
   "outputs": [],
   "source": [
    "# Sanity check: Manual"
   ]
  },
  {
   "cell_type": "code",
   "execution_count": 294,
   "metadata": {},
   "outputs": [
    {
     "name": "stdout",
     "output_type": "stream",
     "text": [
      "\n",
      "MAP estimate: 0.474\n",
      "\n",
      "CPU times: user 7.63 ms, sys: 7.95 ms, total: 15.6 ms\n",
      "Wall time: 763 ms\n"
     ]
    }
   ],
   "source": [
    "%%time\n",
    "# Manual insert (copy + paste) train pred file name\n",
    "!python ../../resources/CodiEsp-Evaluation-Script/codiespD_P_evaluation.py -g ../../datasets/final_dataset_v4_to_publish/test/testP.tsv -p proc_test_frag_preds.tsv -c ../../resources/CodiEsp-Evaluation-Script/codiesp_codes/codiesp-P_codes.tsv  "
   ]
  },
  {
   "cell_type": "code",
   "execution_count": 262,
   "metadata": {},
   "outputs": [],
   "source": [
    "# BETO-Galén"
   ]
  },
  {
   "cell_type": "code",
   "execution_count": 327,
   "metadata": {},
   "outputs": [],
   "source": [
    "doc_preds = beto_galen_doc_preds"
   ]
  },
  {
   "cell_type": "code",
   "execution_count": 344,
   "metadata": {},
   "outputs": [
    {
     "name": "stdout",
     "output_type": "stream",
     "text": [
      "CPU times: user 35.8 s, sys: 108 ms, total: 35.9 s\n",
      "Wall time: 35.9 s\n"
     ]
    }
   ],
   "source": [
    "%%time\n",
    "df_res_metrics = compute_metrics(thr_arr, doc_preds)"
   ]
  },
  {
   "cell_type": "code",
   "execution_count": 345,
   "metadata": {},
   "outputs": [
    {
     "data": {
      "text/html": [
       "<div>\n",
       "<style scoped>\n",
       "    .dataframe tbody tr th:only-of-type {\n",
       "        vertical-align: middle;\n",
       "    }\n",
       "\n",
       "    .dataframe tbody tr th {\n",
       "        vertical-align: top;\n",
       "    }\n",
       "\n",
       "    .dataframe thead th {\n",
       "        text-align: right;\n",
       "    }\n",
       "</style>\n",
       "<table border=\"1\" class=\"dataframe\">\n",
       "  <thead>\n",
       "    <tr style=\"text-align: right;\">\n",
       "      <th></th>\n",
       "      <th>P</th>\n",
       "      <th>R</th>\n",
       "      <th>F1</th>\n",
       "      <th>MAP</th>\n",
       "      <th>Thr</th>\n",
       "    </tr>\n",
       "  </thead>\n",
       "  <tbody>\n",
       "    <tr>\n",
       "      <th>30</th>\n",
       "      <td>0.642</td>\n",
       "      <td>0.488</td>\n",
       "      <td>0.555</td>\n",
       "      <td>0.509</td>\n",
       "      <td>0.31</td>\n",
       "    </tr>\n",
       "    <tr>\n",
       "      <th>40</th>\n",
       "      <td>0.674</td>\n",
       "      <td>0.472</td>\n",
       "      <td>0.555</td>\n",
       "      <td>0.508</td>\n",
       "      <td>0.41</td>\n",
       "    </tr>\n",
       "    <tr>\n",
       "      <th>44</th>\n",
       "      <td>0.683</td>\n",
       "      <td>0.468</td>\n",
       "      <td>0.555</td>\n",
       "      <td>0.506</td>\n",
       "      <td>0.45</td>\n",
       "    </tr>\n",
       "    <tr>\n",
       "      <th>42</th>\n",
       "      <td>0.680</td>\n",
       "      <td>0.469</td>\n",
       "      <td>0.555</td>\n",
       "      <td>0.504</td>\n",
       "      <td>0.43</td>\n",
       "    </tr>\n",
       "    <tr>\n",
       "      <th>31</th>\n",
       "      <td>0.645</td>\n",
       "      <td>0.485</td>\n",
       "      <td>0.554</td>\n",
       "      <td>0.507</td>\n",
       "      <td>0.32</td>\n",
       "    </tr>\n",
       "    <tr>\n",
       "      <th>38</th>\n",
       "      <td>0.667</td>\n",
       "      <td>0.473</td>\n",
       "      <td>0.554</td>\n",
       "      <td>0.507</td>\n",
       "      <td>0.39</td>\n",
       "    </tr>\n",
       "    <tr>\n",
       "      <th>45</th>\n",
       "      <td>0.683</td>\n",
       "      <td>0.466</td>\n",
       "      <td>0.554</td>\n",
       "      <td>0.506</td>\n",
       "      <td>0.46</td>\n",
       "    </tr>\n",
       "    <tr>\n",
       "      <th>37</th>\n",
       "      <td>0.665</td>\n",
       "      <td>0.474</td>\n",
       "      <td>0.554</td>\n",
       "      <td>0.505</td>\n",
       "      <td>0.38</td>\n",
       "    </tr>\n",
       "    <tr>\n",
       "      <th>41</th>\n",
       "      <td>0.676</td>\n",
       "      <td>0.470</td>\n",
       "      <td>0.554</td>\n",
       "      <td>0.505</td>\n",
       "      <td>0.42</td>\n",
       "    </tr>\n",
       "    <tr>\n",
       "      <th>46</th>\n",
       "      <td>0.685</td>\n",
       "      <td>0.465</td>\n",
       "      <td>0.554</td>\n",
       "      <td>0.505</td>\n",
       "      <td>0.47</td>\n",
       "    </tr>\n",
       "    <tr>\n",
       "      <th>43</th>\n",
       "      <td>0.680</td>\n",
       "      <td>0.468</td>\n",
       "      <td>0.554</td>\n",
       "      <td>0.504</td>\n",
       "      <td>0.44</td>\n",
       "    </tr>\n",
       "    <tr>\n",
       "      <th>22</th>\n",
       "      <td>0.615</td>\n",
       "      <td>0.502</td>\n",
       "      <td>0.553</td>\n",
       "      <td>0.514</td>\n",
       "      <td>0.23</td>\n",
       "    </tr>\n",
       "    <tr>\n",
       "      <th>29</th>\n",
       "      <td>0.636</td>\n",
       "      <td>0.489</td>\n",
       "      <td>0.553</td>\n",
       "      <td>0.509</td>\n",
       "      <td>0.30</td>\n",
       "    </tr>\n",
       "    <tr>\n",
       "      <th>33</th>\n",
       "      <td>0.651</td>\n",
       "      <td>0.480</td>\n",
       "      <td>0.553</td>\n",
       "      <td>0.509</td>\n",
       "      <td>0.34</td>\n",
       "    </tr>\n",
       "    <tr>\n",
       "      <th>36</th>\n",
       "      <td>0.660</td>\n",
       "      <td>0.476</td>\n",
       "      <td>0.553</td>\n",
       "      <td>0.506</td>\n",
       "      <td>0.37</td>\n",
       "    </tr>\n",
       "    <tr>\n",
       "      <th>39</th>\n",
       "      <td>0.668</td>\n",
       "      <td>0.472</td>\n",
       "      <td>0.553</td>\n",
       "      <td>0.506</td>\n",
       "      <td>0.40</td>\n",
       "    </tr>\n",
       "    <tr>\n",
       "      <th>47</th>\n",
       "      <td>0.685</td>\n",
       "      <td>0.463</td>\n",
       "      <td>0.553</td>\n",
       "      <td>0.504</td>\n",
       "      <td>0.48</td>\n",
       "    </tr>\n",
       "    <tr>\n",
       "      <th>48</th>\n",
       "      <td>0.686</td>\n",
       "      <td>0.463</td>\n",
       "      <td>0.553</td>\n",
       "      <td>0.504</td>\n",
       "      <td>0.49</td>\n",
       "    </tr>\n",
       "    <tr>\n",
       "      <th>51</th>\n",
       "      <td>0.697</td>\n",
       "      <td>0.458</td>\n",
       "      <td>0.553</td>\n",
       "      <td>0.504</td>\n",
       "      <td>0.52</td>\n",
       "    </tr>\n",
       "    <tr>\n",
       "      <th>52</th>\n",
       "      <td>0.698</td>\n",
       "      <td>0.457</td>\n",
       "      <td>0.553</td>\n",
       "      <td>0.503</td>\n",
       "      <td>0.53</td>\n",
       "    </tr>\n",
       "  </tbody>\n",
       "</table>\n",
       "</div>"
      ],
      "text/plain": [
       "        P      R     F1    MAP   Thr\n",
       "30  0.642  0.488  0.555  0.509  0.31\n",
       "40  0.674  0.472  0.555  0.508  0.41\n",
       "44  0.683  0.468  0.555  0.506  0.45\n",
       "42  0.680  0.469  0.555  0.504  0.43\n",
       "31  0.645  0.485  0.554  0.507  0.32\n",
       "38  0.667  0.473  0.554  0.507  0.39\n",
       "45  0.683  0.466  0.554  0.506  0.46\n",
       "37  0.665  0.474  0.554  0.505  0.38\n",
       "41  0.676  0.470  0.554  0.505  0.42\n",
       "46  0.685  0.465  0.554  0.505  0.47\n",
       "43  0.680  0.468  0.554  0.504  0.44\n",
       "22  0.615  0.502  0.553  0.514  0.23\n",
       "29  0.636  0.489  0.553  0.509  0.30\n",
       "33  0.651  0.480  0.553  0.509  0.34\n",
       "36  0.660  0.476  0.553  0.506  0.37\n",
       "39  0.668  0.472  0.553  0.506  0.40\n",
       "47  0.685  0.463  0.553  0.504  0.48\n",
       "48  0.686  0.463  0.553  0.504  0.49\n",
       "51  0.697  0.458  0.553  0.504  0.52\n",
       "52  0.698  0.457  0.553  0.503  0.53"
      ]
     },
     "execution_count": 345,
     "metadata": {},
     "output_type": "execute_result"
    }
   ],
   "source": [
    "df_res_metrics.sort_values(by=[\"F1\", \"MAP\"], ascending=False).head(20)"
   ]
  },
  {
   "cell_type": "code",
   "execution_count": 329,
   "metadata": {},
   "outputs": [],
   "source": [
    "best_thr = 0.31"
   ]
  },
  {
   "cell_type": "code",
   "execution_count": 347,
   "metadata": {},
   "outputs": [
    {
     "data": {
      "text/html": [
       "<div>\n",
       "<style scoped>\n",
       "    .dataframe tbody tr th:only-of-type {\n",
       "        vertical-align: middle;\n",
       "    }\n",
       "\n",
       "    .dataframe tbody tr th {\n",
       "        vertical-align: top;\n",
       "    }\n",
       "\n",
       "    .dataframe thead th {\n",
       "        text-align: right;\n",
       "    }\n",
       "</style>\n",
       "<table border=\"1\" class=\"dataframe\">\n",
       "  <thead>\n",
       "    <tr style=\"text-align: right;\">\n",
       "      <th></th>\n",
       "      <th>P</th>\n",
       "      <th>R</th>\n",
       "      <th>F1</th>\n",
       "      <th>MAP</th>\n",
       "      <th>Thr</th>\n",
       "    </tr>\n",
       "  </thead>\n",
       "  <tbody>\n",
       "    <tr>\n",
       "      <th>30</th>\n",
       "      <td>0.642</td>\n",
       "      <td>0.488</td>\n",
       "      <td>0.555</td>\n",
       "      <td>0.509</td>\n",
       "      <td>0.31</td>\n",
       "    </tr>\n",
       "  </tbody>\n",
       "</table>\n",
       "</div>"
      ],
      "text/plain": [
       "        P      R     F1    MAP   Thr\n",
       "30  0.642  0.488  0.555  0.509  0.31"
      ]
     },
     "execution_count": 347,
     "metadata": {},
     "output_type": "execute_result"
    }
   ],
   "source": [
    "df_res_metrics[round(df_res_metrics['Thr'], 2) == best_thr]"
   ]
  },
  {
   "cell_type": "code",
   "execution_count": null,
   "metadata": {},
   "outputs": [],
   "source": [
    "# Sanity check: Manual"
   ]
  },
  {
   "cell_type": "code",
   "execution_count": 354,
   "metadata": {},
   "outputs": [],
   "source": [
    "thr_codiesp_prediction_format(y_pred=doc_preds, label_encoder_classes=mlb_encoder.classes_, \n",
    "                              doc_list=test_doc_list, thr=best_thr)[[\"doc_id\", \"code\"]] \\\n",
    "    .to_csv(path_or_buf=test_pred_file_path, sep=\"\\t\", header=False, index=False)"
   ]
  },
  {
   "cell_type": "code",
   "execution_count": 355,
   "metadata": {},
   "outputs": [
    {
     "name": "stdout",
     "output_type": "stream",
     "text": [
      "\n",
      "MAP estimate: 0.509\n",
      "\n",
      "CPU times: user 13.1 ms, sys: 8.06 ms, total: 21.1 ms\n",
      "Wall time: 763 ms\n"
     ]
    }
   ],
   "source": [
    "%%time\n",
    "# Manual insert (copy + paste) train pred file name\n",
    "!python ../../resources/CodiEsp-Evaluation-Script/codiespD_P_evaluation.py -g ../../datasets/final_dataset_v4_to_publish/test/testP.tsv -p proc_test_frag_preds.tsv -c ../../resources/CodiEsp-Evaluation-Script/codiesp_codes/codiesp-P_codes.tsv  "
   ]
  },
  {
   "cell_type": "code",
   "execution_count": null,
   "metadata": {},
   "outputs": [],
   "source": [
    "## Avg"
   ]
  },
  {
   "cell_type": "code",
   "execution_count": 330,
   "metadata": {},
   "outputs": [
    {
     "data": {
      "text/html": [
       "<div>\n",
       "<style scoped>\n",
       "    .dataframe tbody tr th:only-of-type {\n",
       "        vertical-align: middle;\n",
       "    }\n",
       "\n",
       "    .dataframe tbody tr th {\n",
       "        vertical-align: top;\n",
       "    }\n",
       "\n",
       "    .dataframe thead th {\n",
       "        text-align: right;\n",
       "    }\n",
       "</style>\n",
       "<table border=\"1\" class=\"dataframe\">\n",
       "  <thead>\n",
       "    <tr style=\"text-align: right;\">\n",
       "      <th></th>\n",
       "      <th>P</th>\n",
       "      <th>P_std</th>\n",
       "      <th>P_max</th>\n",
       "      <th>R</th>\n",
       "      <th>R_std</th>\n",
       "      <th>R_max</th>\n",
       "      <th>F1</th>\n",
       "      <th>F1_std</th>\n",
       "      <th>F1_max</th>\n",
       "      <th>Thr</th>\n",
       "    </tr>\n",
       "  </thead>\n",
       "  <tbody>\n",
       "    <tr>\n",
       "      <th>0</th>\n",
       "      <td>0.649</td>\n",
       "      <td>0.009</td>\n",
       "      <td>0.663</td>\n",
       "      <td>0.482</td>\n",
       "      <td>0.008</td>\n",
       "      <td>0.493</td>\n",
       "      <td>0.553</td>\n",
       "      <td>0.005</td>\n",
       "      <td>0.56</td>\n",
       "      <td>0.31</td>\n",
       "    </tr>\n",
       "  </tbody>\n",
       "</table>\n",
       "</div>"
      ],
      "text/plain": [
       "       P  P_std  P_max      R  R_std  R_max     F1  F1_std  F1_max   Thr\n",
       "0  0.649  0.009  0.663  0.482  0.008  0.493  0.553   0.005    0.56  0.31"
      ]
     },
     "execution_count": 330,
     "metadata": {},
     "output_type": "execute_result"
    }
   ],
   "source": [
    "pd.DataFrame(compute_metrics_avg(thr=best_thr, doc_preds_arr=[beto_galen_doc_preds, beto_galen_1_doc_preds, beto_galen_2_doc_preds, \n",
    "                                                              beto_galen_3_doc_preds, beto_galen_4_doc_preds])).transpose()"
   ]
  },
  {
   "cell_type": "code",
   "execution_count": null,
   "metadata": {},
   "outputs": [],
   "source": [
    "## Ensemble"
   ]
  },
  {
   "cell_type": "code",
   "execution_count": 331,
   "metadata": {},
   "outputs": [],
   "source": [
    "sum_ens = (beto_galen_doc_preds + beto_galen_1_doc_preds + beto_galen_2_doc_preds + beto_galen_3_doc_preds + beto_galen_4_doc_preds)/5 "
   ]
  },
  {
   "cell_type": "code",
   "execution_count": 332,
   "metadata": {},
   "outputs": [
    {
     "data": {
      "text/html": [
       "<div>\n",
       "<style scoped>\n",
       "    .dataframe tbody tr th:only-of-type {\n",
       "        vertical-align: middle;\n",
       "    }\n",
       "\n",
       "    .dataframe tbody tr th {\n",
       "        vertical-align: top;\n",
       "    }\n",
       "\n",
       "    .dataframe thead th {\n",
       "        text-align: right;\n",
       "    }\n",
       "</style>\n",
       "<table border=\"1\" class=\"dataframe\">\n",
       "  <thead>\n",
       "    <tr style=\"text-align: right;\">\n",
       "      <th></th>\n",
       "      <th>P</th>\n",
       "      <th>R</th>\n",
       "      <th>F1</th>\n",
       "      <th>MAP</th>\n",
       "      <th>Thr</th>\n",
       "    </tr>\n",
       "  </thead>\n",
       "  <tbody>\n",
       "    <tr>\n",
       "      <th>0</th>\n",
       "      <td>0.664</td>\n",
       "      <td>0.502</td>\n",
       "      <td>0.572</td>\n",
       "      <td>0.532</td>\n",
       "      <td>0.31</td>\n",
       "    </tr>\n",
       "  </tbody>\n",
       "</table>\n",
       "</div>"
      ],
      "text/plain": [
       "       P      R     F1    MAP   Thr\n",
       "0  0.664  0.502  0.572  0.532  0.31"
      ]
     },
     "execution_count": 332,
     "metadata": {},
     "output_type": "execute_result"
    }
   ],
   "source": [
    "compute_metrics([best_thr], sum_ens)"
   ]
  },
  {
   "cell_type": "code",
   "execution_count": null,
   "metadata": {},
   "outputs": [],
   "source": [
    "# Sanity check: Manual"
   ]
  },
  {
   "cell_type": "code",
   "execution_count": 304,
   "metadata": {},
   "outputs": [
    {
     "name": "stdout",
     "output_type": "stream",
     "text": [
      "\n",
      "MAP estimate: 0.532\n",
      "\n",
      "CPU times: user 14.6 ms, sys: 3.98 ms, total: 18.6 ms\n",
      "Wall time: 766 ms\n"
     ]
    }
   ],
   "source": [
    "%%time\n",
    "# Manual insert (copy + paste) train pred file name\n",
    "!python ../../resources/CodiEsp-Evaluation-Script/codiespD_P_evaluation.py -g ../../datasets/final_dataset_v4_to_publish/test/testP.tsv -p proc_test_frag_preds.tsv -c ../../resources/CodiEsp-Evaluation-Script/codiesp_codes/codiesp-P_codes.tsv  "
   ]
  },
  {
   "cell_type": "code",
   "execution_count": 262,
   "metadata": {},
   "outputs": [],
   "source": [
    "# XLM-R"
   ]
  },
  {
   "cell_type": "code",
   "execution_count": 333,
   "metadata": {},
   "outputs": [],
   "source": [
    "doc_preds = xlm_r_doc_preds"
   ]
  },
  {
   "cell_type": "code",
   "execution_count": 334,
   "metadata": {},
   "outputs": [
    {
     "name": "stdout",
     "output_type": "stream",
     "text": [
      "CPU times: user 37.3 s, sys: 505 ms, total: 37.8 s\n",
      "Wall time: 37.7 s\n"
     ]
    }
   ],
   "source": [
    "%%time\n",
    "df_res_metrics = compute_metrics(thr_arr, doc_preds)"
   ]
  },
  {
   "cell_type": "code",
   "execution_count": 335,
   "metadata": {},
   "outputs": [
    {
     "data": {
      "text/html": [
       "<div>\n",
       "<style scoped>\n",
       "    .dataframe tbody tr th:only-of-type {\n",
       "        vertical-align: middle;\n",
       "    }\n",
       "\n",
       "    .dataframe tbody tr th {\n",
       "        vertical-align: top;\n",
       "    }\n",
       "\n",
       "    .dataframe thead th {\n",
       "        text-align: right;\n",
       "    }\n",
       "</style>\n",
       "<table border=\"1\" class=\"dataframe\">\n",
       "  <thead>\n",
       "    <tr style=\"text-align: right;\">\n",
       "      <th></th>\n",
       "      <th>P</th>\n",
       "      <th>R</th>\n",
       "      <th>F1</th>\n",
       "      <th>MAP</th>\n",
       "      <th>Thr</th>\n",
       "    </tr>\n",
       "  </thead>\n",
       "  <tbody>\n",
       "    <tr>\n",
       "      <th>53</th>\n",
       "      <td>0.611</td>\n",
       "      <td>0.473</td>\n",
       "      <td>0.533</td>\n",
       "      <td>0.474</td>\n",
       "      <td>0.54</td>\n",
       "    </tr>\n",
       "    <tr>\n",
       "      <th>50</th>\n",
       "      <td>0.599</td>\n",
       "      <td>0.480</td>\n",
       "      <td>0.533</td>\n",
       "      <td>0.472</td>\n",
       "      <td>0.51</td>\n",
       "    </tr>\n",
       "    <tr>\n",
       "      <th>54</th>\n",
       "      <td>0.612</td>\n",
       "      <td>0.470</td>\n",
       "      <td>0.532</td>\n",
       "      <td>0.474</td>\n",
       "      <td>0.55</td>\n",
       "    </tr>\n",
       "    <tr>\n",
       "      <th>48</th>\n",
       "      <td>0.595</td>\n",
       "      <td>0.481</td>\n",
       "      <td>0.532</td>\n",
       "      <td>0.473</td>\n",
       "      <td>0.49</td>\n",
       "    </tr>\n",
       "    <tr>\n",
       "      <th>55</th>\n",
       "      <td>0.617</td>\n",
       "      <td>0.468</td>\n",
       "      <td>0.532</td>\n",
       "      <td>0.473</td>\n",
       "      <td>0.56</td>\n",
       "    </tr>\n",
       "    <tr>\n",
       "      <th>52</th>\n",
       "      <td>0.606</td>\n",
       "      <td>0.473</td>\n",
       "      <td>0.532</td>\n",
       "      <td>0.470</td>\n",
       "      <td>0.53</td>\n",
       "    </tr>\n",
       "    <tr>\n",
       "      <th>59</th>\n",
       "      <td>0.626</td>\n",
       "      <td>0.461</td>\n",
       "      <td>0.531</td>\n",
       "      <td>0.474</td>\n",
       "      <td>0.60</td>\n",
       "    </tr>\n",
       "    <tr>\n",
       "      <th>47</th>\n",
       "      <td>0.592</td>\n",
       "      <td>0.481</td>\n",
       "      <td>0.531</td>\n",
       "      <td>0.473</td>\n",
       "      <td>0.48</td>\n",
       "    </tr>\n",
       "    <tr>\n",
       "      <th>45</th>\n",
       "      <td>0.588</td>\n",
       "      <td>0.485</td>\n",
       "      <td>0.531</td>\n",
       "      <td>0.472</td>\n",
       "      <td>0.46</td>\n",
       "    </tr>\n",
       "    <tr>\n",
       "      <th>49</th>\n",
       "      <td>0.594</td>\n",
       "      <td>0.480</td>\n",
       "      <td>0.531</td>\n",
       "      <td>0.472</td>\n",
       "      <td>0.50</td>\n",
       "    </tr>\n",
       "    <tr>\n",
       "      <th>51</th>\n",
       "      <td>0.603</td>\n",
       "      <td>0.474</td>\n",
       "      <td>0.531</td>\n",
       "      <td>0.468</td>\n",
       "      <td>0.52</td>\n",
       "    </tr>\n",
       "    <tr>\n",
       "      <th>44</th>\n",
       "      <td>0.584</td>\n",
       "      <td>0.486</td>\n",
       "      <td>0.530</td>\n",
       "      <td>0.473</td>\n",
       "      <td>0.45</td>\n",
       "    </tr>\n",
       "    <tr>\n",
       "      <th>57</th>\n",
       "      <td>0.619</td>\n",
       "      <td>0.463</td>\n",
       "      <td>0.530</td>\n",
       "      <td>0.473</td>\n",
       "      <td>0.58</td>\n",
       "    </tr>\n",
       "    <tr>\n",
       "      <th>58</th>\n",
       "      <td>0.623</td>\n",
       "      <td>0.461</td>\n",
       "      <td>0.530</td>\n",
       "      <td>0.472</td>\n",
       "      <td>0.59</td>\n",
       "    </tr>\n",
       "    <tr>\n",
       "      <th>46</th>\n",
       "      <td>0.588</td>\n",
       "      <td>0.482</td>\n",
       "      <td>0.530</td>\n",
       "      <td>0.471</td>\n",
       "      <td>0.47</td>\n",
       "    </tr>\n",
       "    <tr>\n",
       "      <th>56</th>\n",
       "      <td>0.617</td>\n",
       "      <td>0.465</td>\n",
       "      <td>0.530</td>\n",
       "      <td>0.471</td>\n",
       "      <td>0.57</td>\n",
       "    </tr>\n",
       "    <tr>\n",
       "      <th>43</th>\n",
       "      <td>0.578</td>\n",
       "      <td>0.487</td>\n",
       "      <td>0.529</td>\n",
       "      <td>0.471</td>\n",
       "      <td>0.44</td>\n",
       "    </tr>\n",
       "    <tr>\n",
       "      <th>40</th>\n",
       "      <td>0.570</td>\n",
       "      <td>0.489</td>\n",
       "      <td>0.527</td>\n",
       "      <td>0.471</td>\n",
       "      <td>0.41</td>\n",
       "    </tr>\n",
       "    <tr>\n",
       "      <th>42</th>\n",
       "      <td>0.574</td>\n",
       "      <td>0.487</td>\n",
       "      <td>0.527</td>\n",
       "      <td>0.469</td>\n",
       "      <td>0.43</td>\n",
       "    </tr>\n",
       "    <tr>\n",
       "      <th>39</th>\n",
       "      <td>0.566</td>\n",
       "      <td>0.490</td>\n",
       "      <td>0.526</td>\n",
       "      <td>0.473</td>\n",
       "      <td>0.40</td>\n",
       "    </tr>\n",
       "  </tbody>\n",
       "</table>\n",
       "</div>"
      ],
      "text/plain": [
       "        P      R     F1    MAP   Thr\n",
       "53  0.611  0.473  0.533  0.474  0.54\n",
       "50  0.599  0.480  0.533  0.472  0.51\n",
       "54  0.612  0.470  0.532  0.474  0.55\n",
       "48  0.595  0.481  0.532  0.473  0.49\n",
       "55  0.617  0.468  0.532  0.473  0.56\n",
       "52  0.606  0.473  0.532  0.470  0.53\n",
       "59  0.626  0.461  0.531  0.474  0.60\n",
       "47  0.592  0.481  0.531  0.473  0.48\n",
       "45  0.588  0.485  0.531  0.472  0.46\n",
       "49  0.594  0.480  0.531  0.472  0.50\n",
       "51  0.603  0.474  0.531  0.468  0.52\n",
       "44  0.584  0.486  0.530  0.473  0.45\n",
       "57  0.619  0.463  0.530  0.473  0.58\n",
       "58  0.623  0.461  0.530  0.472  0.59\n",
       "46  0.588  0.482  0.530  0.471  0.47\n",
       "56  0.617  0.465  0.530  0.471  0.57\n",
       "43  0.578  0.487  0.529  0.471  0.44\n",
       "40  0.570  0.489  0.527  0.471  0.41\n",
       "42  0.574  0.487  0.527  0.469  0.43\n",
       "39  0.566  0.490  0.526  0.473  0.40"
      ]
     },
     "execution_count": 335,
     "metadata": {},
     "output_type": "execute_result"
    }
   ],
   "source": [
    "df_res_metrics.sort_values(by=[\"F1\", \"MAP\"], ascending=False).head(20)"
   ]
  },
  {
   "cell_type": "code",
   "execution_count": 350,
   "metadata": {},
   "outputs": [],
   "source": [
    "best_thr = 0.43"
   ]
  },
  {
   "cell_type": "code",
   "execution_count": 351,
   "metadata": {},
   "outputs": [
    {
     "data": {
      "text/html": [
       "<div>\n",
       "<style scoped>\n",
       "    .dataframe tbody tr th:only-of-type {\n",
       "        vertical-align: middle;\n",
       "    }\n",
       "\n",
       "    .dataframe tbody tr th {\n",
       "        vertical-align: top;\n",
       "    }\n",
       "\n",
       "    .dataframe thead th {\n",
       "        text-align: right;\n",
       "    }\n",
       "</style>\n",
       "<table border=\"1\" class=\"dataframe\">\n",
       "  <thead>\n",
       "    <tr style=\"text-align: right;\">\n",
       "      <th></th>\n",
       "      <th>P</th>\n",
       "      <th>R</th>\n",
       "      <th>F1</th>\n",
       "      <th>MAP</th>\n",
       "      <th>Thr</th>\n",
       "    </tr>\n",
       "  </thead>\n",
       "  <tbody>\n",
       "    <tr>\n",
       "      <th>42</th>\n",
       "      <td>0.574</td>\n",
       "      <td>0.487</td>\n",
       "      <td>0.527</td>\n",
       "      <td>0.469</td>\n",
       "      <td>0.43</td>\n",
       "    </tr>\n",
       "  </tbody>\n",
       "</table>\n",
       "</div>"
      ],
      "text/plain": [
       "        P      R     F1    MAP   Thr\n",
       "42  0.574  0.487  0.527  0.469  0.43"
      ]
     },
     "execution_count": 351,
     "metadata": {},
     "output_type": "execute_result"
    }
   ],
   "source": [
    "df_res_metrics[round(df_res_metrics['Thr'], 2) == best_thr]"
   ]
  },
  {
   "cell_type": "code",
   "execution_count": null,
   "metadata": {},
   "outputs": [],
   "source": [
    "# Sanity check: Manual"
   ]
  },
  {
   "cell_type": "code",
   "execution_count": 363,
   "metadata": {},
   "outputs": [],
   "source": [
    "thr_codiesp_prediction_format(y_pred=doc_preds, label_encoder_classes=mlb_encoder.classes_, \n",
    "                              doc_list=test_doc_list, thr=best_thr)[[\"doc_id\", \"code\"]] \\\n",
    "    .to_csv(path_or_buf=test_pred_file_path, sep=\"\\t\", header=False, index=False)"
   ]
  },
  {
   "cell_type": "code",
   "execution_count": 364,
   "metadata": {},
   "outputs": [
    {
     "name": "stdout",
     "output_type": "stream",
     "text": [
      "\n",
      "MAP estimate: 0.474\n",
      "\n",
      "CPU times: user 14 ms, sys: 8.05 ms, total: 22 ms\n",
      "Wall time: 750 ms\n"
     ]
    }
   ],
   "source": [
    "%%time\n",
    "# Manual insert (copy + paste) train pred file name\n",
    "!python ../../resources/CodiEsp-Evaluation-Script/codiespD_P_evaluation.py -g ../../datasets/final_dataset_v4_to_publish/test/testP.tsv -p proc_test_frag_preds.tsv -c ../../resources/CodiEsp-Evaluation-Script/codiesp_codes/codiesp-P_codes.tsv  "
   ]
  },
  {
   "cell_type": "code",
   "execution_count": null,
   "metadata": {},
   "outputs": [],
   "source": [
    "## Avg"
   ]
  },
  {
   "cell_type": "code",
   "execution_count": 352,
   "metadata": {},
   "outputs": [
    {
     "data": {
      "text/html": [
       "<div>\n",
       "<style scoped>\n",
       "    .dataframe tbody tr th:only-of-type {\n",
       "        vertical-align: middle;\n",
       "    }\n",
       "\n",
       "    .dataframe tbody tr th {\n",
       "        vertical-align: top;\n",
       "    }\n",
       "\n",
       "    .dataframe thead th {\n",
       "        text-align: right;\n",
       "    }\n",
       "</style>\n",
       "<table border=\"1\" class=\"dataframe\">\n",
       "  <thead>\n",
       "    <tr style=\"text-align: right;\">\n",
       "      <th></th>\n",
       "      <th>P</th>\n",
       "      <th>P_std</th>\n",
       "      <th>P_max</th>\n",
       "      <th>R</th>\n",
       "      <th>R_std</th>\n",
       "      <th>R_max</th>\n",
       "      <th>F1</th>\n",
       "      <th>F1_std</th>\n",
       "      <th>F1_max</th>\n",
       "      <th>Thr</th>\n",
       "    </tr>\n",
       "  </thead>\n",
       "  <tbody>\n",
       "    <tr>\n",
       "      <th>0</th>\n",
       "      <td>0.608</td>\n",
       "      <td>0.024</td>\n",
       "      <td>0.638</td>\n",
       "      <td>0.461</td>\n",
       "      <td>0.018</td>\n",
       "      <td>0.487</td>\n",
       "      <td>0.524</td>\n",
       "      <td>0.003</td>\n",
       "      <td>0.527</td>\n",
       "      <td>0.43</td>\n",
       "    </tr>\n",
       "  </tbody>\n",
       "</table>\n",
       "</div>"
      ],
      "text/plain": [
       "       P  P_std  P_max      R  R_std  R_max     F1  F1_std  F1_max   Thr\n",
       "0  0.608  0.024  0.638  0.461  0.018  0.487  0.524   0.003   0.527  0.43"
      ]
     },
     "execution_count": 352,
     "metadata": {},
     "output_type": "execute_result"
    }
   ],
   "source": [
    "pd.DataFrame(compute_metrics_avg(thr=best_thr, doc_preds_arr=[xlm_r_doc_preds, xlm_r_1_doc_preds, xlm_r_2_doc_preds, \n",
    "                                                              xlm_r_3_doc_preds, xlm_r_4_doc_preds])).transpose()"
   ]
  },
  {
   "cell_type": "code",
   "execution_count": null,
   "metadata": {},
   "outputs": [],
   "source": [
    "## Ensemble"
   ]
  },
  {
   "cell_type": "code",
   "execution_count": 353,
   "metadata": {},
   "outputs": [],
   "source": [
    "sum_ens = (xlm_r_doc_preds + xlm_r_1_doc_preds + xlm_r_2_doc_preds + xlm_r_3_doc_preds + xlm_r_4_doc_preds)/5 "
   ]
  },
  {
   "cell_type": "code",
   "execution_count": 354,
   "metadata": {},
   "outputs": [
    {
     "data": {
      "text/html": [
       "<div>\n",
       "<style scoped>\n",
       "    .dataframe tbody tr th:only-of-type {\n",
       "        vertical-align: middle;\n",
       "    }\n",
       "\n",
       "    .dataframe tbody tr th {\n",
       "        vertical-align: top;\n",
       "    }\n",
       "\n",
       "    .dataframe thead th {\n",
       "        text-align: right;\n",
       "    }\n",
       "</style>\n",
       "<table border=\"1\" class=\"dataframe\">\n",
       "  <thead>\n",
       "    <tr style=\"text-align: right;\">\n",
       "      <th></th>\n",
       "      <th>P</th>\n",
       "      <th>R</th>\n",
       "      <th>F1</th>\n",
       "      <th>MAP</th>\n",
       "      <th>Thr</th>\n",
       "    </tr>\n",
       "  </thead>\n",
       "  <tbody>\n",
       "    <tr>\n",
       "      <th>0</th>\n",
       "      <td>0.699</td>\n",
       "      <td>0.468</td>\n",
       "      <td>0.56</td>\n",
       "      <td>0.494</td>\n",
       "      <td>0.43</td>\n",
       "    </tr>\n",
       "  </tbody>\n",
       "</table>\n",
       "</div>"
      ],
      "text/plain": [
       "       P      R    F1    MAP   Thr\n",
       "0  0.699  0.468  0.56  0.494  0.43"
      ]
     },
     "execution_count": 354,
     "metadata": {},
     "output_type": "execute_result"
    }
   ],
   "source": [
    "compute_metrics([best_thr], sum_ens)"
   ]
  },
  {
   "cell_type": "code",
   "execution_count": null,
   "metadata": {},
   "outputs": [],
   "source": [
    "# Sanity check: Manual"
   ]
  },
  {
   "cell_type": "code",
   "execution_count": 372,
   "metadata": {},
   "outputs": [
    {
     "name": "stdout",
     "output_type": "stream",
     "text": [
      "\n",
      "MAP estimate: 0.481\n",
      "\n",
      "CPU times: user 10.1 ms, sys: 12 ms, total: 22.2 ms\n",
      "Wall time: 751 ms\n"
     ]
    }
   ],
   "source": [
    "%%time\n",
    "# Manual insert (copy + paste) train pred file name\n",
    "!python ../../resources/CodiEsp-Evaluation-Script/codiespD_P_evaluation.py -g ../../datasets/final_dataset_v4_to_publish/test/testP.tsv -p proc_test_frag_preds.tsv -c ../../resources/CodiEsp-Evaluation-Script/codiesp_codes/codiesp-P_codes.tsv  "
   ]
  },
  {
   "cell_type": "code",
   "execution_count": 262,
   "metadata": {},
   "outputs": [],
   "source": [
    "# XLM-R-Galén"
   ]
  },
  {
   "cell_type": "code",
   "execution_count": 355,
   "metadata": {},
   "outputs": [],
   "source": [
    "doc_preds = xlm_r_galen_doc_preds"
   ]
  },
  {
   "cell_type": "code",
   "execution_count": 359,
   "metadata": {},
   "outputs": [
    {
     "name": "stdout",
     "output_type": "stream",
     "text": [
      "CPU times: user 35.9 s, sys: 148 ms, total: 36 s\n",
      "Wall time: 36 s\n"
     ]
    }
   ],
   "source": [
    "%%time\n",
    "df_res_metrics = compute_metrics(thr_arr, doc_preds)"
   ]
  },
  {
   "cell_type": "code",
   "execution_count": 360,
   "metadata": {},
   "outputs": [
    {
     "data": {
      "text/html": [
       "<div>\n",
       "<style scoped>\n",
       "    .dataframe tbody tr th:only-of-type {\n",
       "        vertical-align: middle;\n",
       "    }\n",
       "\n",
       "    .dataframe tbody tr th {\n",
       "        vertical-align: top;\n",
       "    }\n",
       "\n",
       "    .dataframe thead th {\n",
       "        text-align: right;\n",
       "    }\n",
       "</style>\n",
       "<table border=\"1\" class=\"dataframe\">\n",
       "  <thead>\n",
       "    <tr style=\"text-align: right;\">\n",
       "      <th></th>\n",
       "      <th>P</th>\n",
       "      <th>R</th>\n",
       "      <th>F1</th>\n",
       "      <th>MAP</th>\n",
       "      <th>Thr</th>\n",
       "    </tr>\n",
       "  </thead>\n",
       "  <tbody>\n",
       "    <tr>\n",
       "      <th>42</th>\n",
       "      <td>0.632</td>\n",
       "      <td>0.478</td>\n",
       "      <td>0.544</td>\n",
       "      <td>0.482</td>\n",
       "      <td>0.43</td>\n",
       "    </tr>\n",
       "    <tr>\n",
       "      <th>32</th>\n",
       "      <td>0.612</td>\n",
       "      <td>0.488</td>\n",
       "      <td>0.543</td>\n",
       "      <td>0.487</td>\n",
       "      <td>0.33</td>\n",
       "    </tr>\n",
       "    <tr>\n",
       "      <th>41</th>\n",
       "      <td>0.628</td>\n",
       "      <td>0.478</td>\n",
       "      <td>0.543</td>\n",
       "      <td>0.482</td>\n",
       "      <td>0.42</td>\n",
       "    </tr>\n",
       "    <tr>\n",
       "      <th>43</th>\n",
       "      <td>0.631</td>\n",
       "      <td>0.476</td>\n",
       "      <td>0.543</td>\n",
       "      <td>0.481</td>\n",
       "      <td>0.44</td>\n",
       "    </tr>\n",
       "    <tr>\n",
       "      <th>44</th>\n",
       "      <td>0.633</td>\n",
       "      <td>0.476</td>\n",
       "      <td>0.543</td>\n",
       "      <td>0.481</td>\n",
       "      <td>0.45</td>\n",
       "    </tr>\n",
       "    <tr>\n",
       "      <th>49</th>\n",
       "      <td>0.646</td>\n",
       "      <td>0.468</td>\n",
       "      <td>0.543</td>\n",
       "      <td>0.481</td>\n",
       "      <td>0.50</td>\n",
       "    </tr>\n",
       "    <tr>\n",
       "      <th>45</th>\n",
       "      <td>0.636</td>\n",
       "      <td>0.474</td>\n",
       "      <td>0.543</td>\n",
       "      <td>0.480</td>\n",
       "      <td>0.46</td>\n",
       "    </tr>\n",
       "    <tr>\n",
       "      <th>33</th>\n",
       "      <td>0.614</td>\n",
       "      <td>0.486</td>\n",
       "      <td>0.542</td>\n",
       "      <td>0.488</td>\n",
       "      <td>0.34</td>\n",
       "    </tr>\n",
       "    <tr>\n",
       "      <th>30</th>\n",
       "      <td>0.605</td>\n",
       "      <td>0.490</td>\n",
       "      <td>0.542</td>\n",
       "      <td>0.487</td>\n",
       "      <td>0.31</td>\n",
       "    </tr>\n",
       "    <tr>\n",
       "      <th>31</th>\n",
       "      <td>0.609</td>\n",
       "      <td>0.488</td>\n",
       "      <td>0.542</td>\n",
       "      <td>0.487</td>\n",
       "      <td>0.32</td>\n",
       "    </tr>\n",
       "    <tr>\n",
       "      <th>34</th>\n",
       "      <td>0.616</td>\n",
       "      <td>0.484</td>\n",
       "      <td>0.542</td>\n",
       "      <td>0.487</td>\n",
       "      <td>0.35</td>\n",
       "    </tr>\n",
       "    <tr>\n",
       "      <th>51</th>\n",
       "      <td>0.651</td>\n",
       "      <td>0.464</td>\n",
       "      <td>0.542</td>\n",
       "      <td>0.486</td>\n",
       "      <td>0.52</td>\n",
       "    </tr>\n",
       "    <tr>\n",
       "      <th>36</th>\n",
       "      <td>0.619</td>\n",
       "      <td>0.481</td>\n",
       "      <td>0.542</td>\n",
       "      <td>0.485</td>\n",
       "      <td>0.37</td>\n",
       "    </tr>\n",
       "    <tr>\n",
       "      <th>37</th>\n",
       "      <td>0.622</td>\n",
       "      <td>0.480</td>\n",
       "      <td>0.542</td>\n",
       "      <td>0.484</td>\n",
       "      <td>0.38</td>\n",
       "    </tr>\n",
       "    <tr>\n",
       "      <th>38</th>\n",
       "      <td>0.623</td>\n",
       "      <td>0.480</td>\n",
       "      <td>0.542</td>\n",
       "      <td>0.484</td>\n",
       "      <td>0.39</td>\n",
       "    </tr>\n",
       "    <tr>\n",
       "      <th>39</th>\n",
       "      <td>0.625</td>\n",
       "      <td>0.478</td>\n",
       "      <td>0.542</td>\n",
       "      <td>0.482</td>\n",
       "      <td>0.40</td>\n",
       "    </tr>\n",
       "    <tr>\n",
       "      <th>40</th>\n",
       "      <td>0.626</td>\n",
       "      <td>0.478</td>\n",
       "      <td>0.542</td>\n",
       "      <td>0.482</td>\n",
       "      <td>0.41</td>\n",
       "    </tr>\n",
       "    <tr>\n",
       "      <th>47</th>\n",
       "      <td>0.641</td>\n",
       "      <td>0.470</td>\n",
       "      <td>0.542</td>\n",
       "      <td>0.482</td>\n",
       "      <td>0.48</td>\n",
       "    </tr>\n",
       "    <tr>\n",
       "      <th>48</th>\n",
       "      <td>0.643</td>\n",
       "      <td>0.469</td>\n",
       "      <td>0.542</td>\n",
       "      <td>0.480</td>\n",
       "      <td>0.49</td>\n",
       "    </tr>\n",
       "    <tr>\n",
       "      <th>46</th>\n",
       "      <td>0.637</td>\n",
       "      <td>0.472</td>\n",
       "      <td>0.542</td>\n",
       "      <td>0.479</td>\n",
       "      <td>0.47</td>\n",
       "    </tr>\n",
       "  </tbody>\n",
       "</table>\n",
       "</div>"
      ],
      "text/plain": [
       "        P      R     F1    MAP   Thr\n",
       "42  0.632  0.478  0.544  0.482  0.43\n",
       "32  0.612  0.488  0.543  0.487  0.33\n",
       "41  0.628  0.478  0.543  0.482  0.42\n",
       "43  0.631  0.476  0.543  0.481  0.44\n",
       "44  0.633  0.476  0.543  0.481  0.45\n",
       "49  0.646  0.468  0.543  0.481  0.50\n",
       "45  0.636  0.474  0.543  0.480  0.46\n",
       "33  0.614  0.486  0.542  0.488  0.34\n",
       "30  0.605  0.490  0.542  0.487  0.31\n",
       "31  0.609  0.488  0.542  0.487  0.32\n",
       "34  0.616  0.484  0.542  0.487  0.35\n",
       "51  0.651  0.464  0.542  0.486  0.52\n",
       "36  0.619  0.481  0.542  0.485  0.37\n",
       "37  0.622  0.480  0.542  0.484  0.38\n",
       "38  0.623  0.480  0.542  0.484  0.39\n",
       "39  0.625  0.478  0.542  0.482  0.40\n",
       "40  0.626  0.478  0.542  0.482  0.41\n",
       "47  0.641  0.470  0.542  0.482  0.48\n",
       "48  0.643  0.469  0.542  0.480  0.49\n",
       "46  0.637  0.472  0.542  0.479  0.47"
      ]
     },
     "execution_count": 360,
     "metadata": {},
     "output_type": "execute_result"
    }
   ],
   "source": [
    "df_res_metrics.sort_values(by=[\"F1\", \"MAP\"], ascending=False).head(20)"
   ]
  },
  {
   "cell_type": "code",
   "execution_count": 368,
   "metadata": {},
   "outputs": [],
   "source": [
    "best_thr = 0.33"
   ]
  },
  {
   "cell_type": "code",
   "execution_count": 362,
   "metadata": {},
   "outputs": [
    {
     "data": {
      "text/html": [
       "<div>\n",
       "<style scoped>\n",
       "    .dataframe tbody tr th:only-of-type {\n",
       "        vertical-align: middle;\n",
       "    }\n",
       "\n",
       "    .dataframe tbody tr th {\n",
       "        vertical-align: top;\n",
       "    }\n",
       "\n",
       "    .dataframe thead th {\n",
       "        text-align: right;\n",
       "    }\n",
       "</style>\n",
       "<table border=\"1\" class=\"dataframe\">\n",
       "  <thead>\n",
       "    <tr style=\"text-align: right;\">\n",
       "      <th></th>\n",
       "      <th>P</th>\n",
       "      <th>R</th>\n",
       "      <th>F1</th>\n",
       "      <th>MAP</th>\n",
       "      <th>Thr</th>\n",
       "    </tr>\n",
       "  </thead>\n",
       "  <tbody>\n",
       "    <tr>\n",
       "      <th>32</th>\n",
       "      <td>0.612</td>\n",
       "      <td>0.488</td>\n",
       "      <td>0.543</td>\n",
       "      <td>0.487</td>\n",
       "      <td>0.33</td>\n",
       "    </tr>\n",
       "  </tbody>\n",
       "</table>\n",
       "</div>"
      ],
      "text/plain": [
       "        P      R     F1    MAP   Thr\n",
       "32  0.612  0.488  0.543  0.487  0.33"
      ]
     },
     "execution_count": 362,
     "metadata": {},
     "output_type": "execute_result"
    }
   ],
   "source": [
    "df_res_metrics[round(df_res_metrics['Thr'], 2) == best_thr]"
   ]
  },
  {
   "cell_type": "code",
   "execution_count": null,
   "metadata": {},
   "outputs": [],
   "source": [
    "# Sanity check: Manual"
   ]
  },
  {
   "cell_type": "code",
   "execution_count": 382,
   "metadata": {},
   "outputs": [],
   "source": [
    "thr_codiesp_prediction_format(y_pred=doc_preds, label_encoder_classes=mlb_encoder.classes_, \n",
    "                              doc_list=test_doc_list, thr=best_thr)[[\"doc_id\", \"code\"]] \\\n",
    "    .to_csv(path_or_buf=test_pred_file_path, sep=\"\\t\", header=False, index=False)"
   ]
  },
  {
   "cell_type": "code",
   "execution_count": 383,
   "metadata": {},
   "outputs": [
    {
     "name": "stdout",
     "output_type": "stream",
     "text": [
      "\n",
      "MAP estimate: 0.487\n",
      "\n",
      "CPU times: user 5.29 ms, sys: 16 ms, total: 21.3 ms\n",
      "Wall time: 750 ms\n"
     ]
    }
   ],
   "source": [
    "%%time\n",
    "# Manual insert (copy + paste) train pred file name\n",
    "!python ../../resources/CodiEsp-Evaluation-Script/codiespD_P_evaluation.py -g ../../datasets/final_dataset_v4_to_publish/test/testP.tsv -p proc_test_frag_preds.tsv -c ../../resources/CodiEsp-Evaluation-Script/codiesp_codes/codiesp-P_codes.tsv  "
   ]
  },
  {
   "cell_type": "code",
   "execution_count": null,
   "metadata": {},
   "outputs": [],
   "source": [
    "## Avg"
   ]
  },
  {
   "cell_type": "code",
   "execution_count": 369,
   "metadata": {},
   "outputs": [
    {
     "data": {
      "text/html": [
       "<div>\n",
       "<style scoped>\n",
       "    .dataframe tbody tr th:only-of-type {\n",
       "        vertical-align: middle;\n",
       "    }\n",
       "\n",
       "    .dataframe tbody tr th {\n",
       "        vertical-align: top;\n",
       "    }\n",
       "\n",
       "    .dataframe thead th {\n",
       "        text-align: right;\n",
       "    }\n",
       "</style>\n",
       "<table border=\"1\" class=\"dataframe\">\n",
       "  <thead>\n",
       "    <tr style=\"text-align: right;\">\n",
       "      <th></th>\n",
       "      <th>P</th>\n",
       "      <th>P_std</th>\n",
       "      <th>P_max</th>\n",
       "      <th>R</th>\n",
       "      <th>R_std</th>\n",
       "      <th>R_max</th>\n",
       "      <th>F1</th>\n",
       "      <th>F1_std</th>\n",
       "      <th>F1_max</th>\n",
       "      <th>Thr</th>\n",
       "    </tr>\n",
       "  </thead>\n",
       "  <tbody>\n",
       "    <tr>\n",
       "      <th>0</th>\n",
       "      <td>0.6</td>\n",
       "      <td>0.012</td>\n",
       "      <td>0.612</td>\n",
       "      <td>0.477</td>\n",
       "      <td>0.01</td>\n",
       "      <td>0.49</td>\n",
       "      <td>0.532</td>\n",
       "      <td>0.008</td>\n",
       "      <td>0.543</td>\n",
       "      <td>0.33</td>\n",
       "    </tr>\n",
       "  </tbody>\n",
       "</table>\n",
       "</div>"
      ],
      "text/plain": [
       "     P  P_std  P_max      R  R_std  R_max     F1  F1_std  F1_max   Thr\n",
       "0  0.6  0.012  0.612  0.477   0.01   0.49  0.532   0.008   0.543  0.33"
      ]
     },
     "execution_count": 369,
     "metadata": {},
     "output_type": "execute_result"
    }
   ],
   "source": [
    "pd.DataFrame(compute_metrics_avg(thr=best_thr, doc_preds_arr=[xlm_r_galen_doc_preds, xlm_r_galen_1_doc_preds, xlm_r_galen_2_doc_preds, \n",
    "                                                              xlm_r_galen_3_doc_preds, xlm_r_galen_4_doc_preds])).transpose()"
   ]
  },
  {
   "cell_type": "code",
   "execution_count": null,
   "metadata": {},
   "outputs": [],
   "source": [
    "## Ensemble"
   ]
  },
  {
   "cell_type": "code",
   "execution_count": 372,
   "metadata": {},
   "outputs": [],
   "source": [
    "sum_ens = (xlm_r_galen_doc_preds + xlm_r_galen_1_doc_preds + xlm_r_galen_2_doc_preds + xlm_r_galen_3_doc_preds + xlm_r_galen_4_doc_preds)/5 "
   ]
  },
  {
   "cell_type": "code",
   "execution_count": 373,
   "metadata": {},
   "outputs": [
    {
     "data": {
      "text/html": [
       "<div>\n",
       "<style scoped>\n",
       "    .dataframe tbody tr th:only-of-type {\n",
       "        vertical-align: middle;\n",
       "    }\n",
       "\n",
       "    .dataframe tbody tr th {\n",
       "        vertical-align: top;\n",
       "    }\n",
       "\n",
       "    .dataframe thead th {\n",
       "        text-align: right;\n",
       "    }\n",
       "</style>\n",
       "<table border=\"1\" class=\"dataframe\">\n",
       "  <thead>\n",
       "    <tr style=\"text-align: right;\">\n",
       "      <th></th>\n",
       "      <th>P</th>\n",
       "      <th>R</th>\n",
       "      <th>F1</th>\n",
       "      <th>MAP</th>\n",
       "      <th>Thr</th>\n",
       "    </tr>\n",
       "  </thead>\n",
       "  <tbody>\n",
       "    <tr>\n",
       "      <th>0</th>\n",
       "      <td>0.646</td>\n",
       "      <td>0.503</td>\n",
       "      <td>0.566</td>\n",
       "      <td>0.512</td>\n",
       "      <td>0.33</td>\n",
       "    </tr>\n",
       "  </tbody>\n",
       "</table>\n",
       "</div>"
      ],
      "text/plain": [
       "       P      R     F1    MAP   Thr\n",
       "0  0.646  0.503  0.566  0.512  0.33"
      ]
     },
     "execution_count": 373,
     "metadata": {},
     "output_type": "execute_result"
    }
   ],
   "source": [
    "compute_metrics([best_thr], sum_ens)"
   ]
  },
  {
   "cell_type": "code",
   "execution_count": null,
   "metadata": {},
   "outputs": [],
   "source": [
    "# Sanity check: Manual"
   ]
  },
  {
   "cell_type": "code",
   "execution_count": 388,
   "metadata": {},
   "outputs": [
    {
     "name": "stdout",
     "output_type": "stream",
     "text": [
      "\n",
      "MAP estimate: 0.512\n",
      "\n",
      "CPU times: user 14.7 ms, sys: 20 ms, total: 34.7 ms\n",
      "Wall time: 774 ms\n"
     ]
    }
   ],
   "source": [
    "%%time\n",
    "# Manual insert (copy + paste) train pred file name\n",
    "!python ../../resources/CodiEsp-Evaluation-Script/codiespD_P_evaluation.py -g ../../datasets/final_dataset_v4_to_publish/test/testP.tsv -p proc_test_frag_preds.tsv -c ../../resources/CodiEsp-Evaluation-Script/codiesp_codes/codiesp-P_codes.tsv  "
   ]
  },
  {
   "cell_type": "code",
   "execution_count": null,
   "metadata": {},
   "outputs": [],
   "source": [
    "# Multi + Multi-Galén"
   ]
  },
  {
   "cell_type": "code",
   "execution_count": 374,
   "metadata": {},
   "outputs": [],
   "source": [
    "best_thr = (0.52 + 0.12)/2"
   ]
  },
  {
   "cell_type": "code",
   "execution_count": 375,
   "metadata": {},
   "outputs": [],
   "source": [
    "sum_ens = (multi_doc_preds + multi_1_doc_preds + multi_2_doc_preds + multi_3_doc_preds + multi_4_doc_preds + \n",
    " multi_galen_doc_preds + multi_galen_1_doc_preds + multi_galen_2_doc_preds + multi_galen_3_doc_preds + multi_galen_4_doc_preds)/10 "
   ]
  },
  {
   "cell_type": "code",
   "execution_count": 376,
   "metadata": {},
   "outputs": [
    {
     "data": {
      "text/html": [
       "<div>\n",
       "<style scoped>\n",
       "    .dataframe tbody tr th:only-of-type {\n",
       "        vertical-align: middle;\n",
       "    }\n",
       "\n",
       "    .dataframe tbody tr th {\n",
       "        vertical-align: top;\n",
       "    }\n",
       "\n",
       "    .dataframe thead th {\n",
       "        text-align: right;\n",
       "    }\n",
       "</style>\n",
       "<table border=\"1\" class=\"dataframe\">\n",
       "  <thead>\n",
       "    <tr style=\"text-align: right;\">\n",
       "      <th></th>\n",
       "      <th>P</th>\n",
       "      <th>R</th>\n",
       "      <th>F1</th>\n",
       "      <th>MAP</th>\n",
       "      <th>Thr</th>\n",
       "    </tr>\n",
       "  </thead>\n",
       "  <tbody>\n",
       "    <tr>\n",
       "      <th>0</th>\n",
       "      <td>0.692</td>\n",
       "      <td>0.482</td>\n",
       "      <td>0.568</td>\n",
       "      <td>0.527</td>\n",
       "      <td>0.32</td>\n",
       "    </tr>\n",
       "  </tbody>\n",
       "</table>\n",
       "</div>"
      ],
      "text/plain": [
       "       P      R     F1    MAP   Thr\n",
       "0  0.692  0.482  0.568  0.527  0.32"
      ]
     },
     "execution_count": 376,
     "metadata": {},
     "output_type": "execute_result"
    }
   ],
   "source": [
    "compute_metrics([best_thr], sum_ens)"
   ]
  },
  {
   "cell_type": "code",
   "execution_count": null,
   "metadata": {},
   "outputs": [],
   "source": [
    "# BETO + BETO-Galén"
   ]
  },
  {
   "cell_type": "code",
   "execution_count": 377,
   "metadata": {},
   "outputs": [],
   "source": [
    "best_thr = (0.53 + 0.31)/2"
   ]
  },
  {
   "cell_type": "code",
   "execution_count": 378,
   "metadata": {},
   "outputs": [],
   "source": [
    "sum_ens = (beto_doc_preds + beto_1_doc_preds + beto_2_doc_preds + beto_3_doc_preds + beto_4_doc_preds + \n",
    " beto_galen_doc_preds + beto_galen_1_doc_preds + beto_galen_2_doc_preds + beto_galen_3_doc_preds + beto_galen_4_doc_preds)/10 "
   ]
  },
  {
   "cell_type": "code",
   "execution_count": 379,
   "metadata": {},
   "outputs": [
    {
     "data": {
      "text/html": [
       "<div>\n",
       "<style scoped>\n",
       "    .dataframe tbody tr th:only-of-type {\n",
       "        vertical-align: middle;\n",
       "    }\n",
       "\n",
       "    .dataframe tbody tr th {\n",
       "        vertical-align: top;\n",
       "    }\n",
       "\n",
       "    .dataframe thead th {\n",
       "        text-align: right;\n",
       "    }\n",
       "</style>\n",
       "<table border=\"1\" class=\"dataframe\">\n",
       "  <thead>\n",
       "    <tr style=\"text-align: right;\">\n",
       "      <th></th>\n",
       "      <th>P</th>\n",
       "      <th>R</th>\n",
       "      <th>F1</th>\n",
       "      <th>MAP</th>\n",
       "      <th>Thr</th>\n",
       "    </tr>\n",
       "  </thead>\n",
       "  <tbody>\n",
       "    <tr>\n",
       "      <th>0</th>\n",
       "      <td>0.726</td>\n",
       "      <td>0.456</td>\n",
       "      <td>0.56</td>\n",
       "      <td>0.505</td>\n",
       "      <td>0.42</td>\n",
       "    </tr>\n",
       "  </tbody>\n",
       "</table>\n",
       "</div>"
      ],
      "text/plain": [
       "       P      R    F1    MAP   Thr\n",
       "0  0.726  0.456  0.56  0.505  0.42"
      ]
     },
     "execution_count": 379,
     "metadata": {},
     "output_type": "execute_result"
    }
   ],
   "source": [
    "compute_metrics([best_thr], sum_ens)"
   ]
  },
  {
   "cell_type": "code",
   "execution_count": null,
   "metadata": {},
   "outputs": [],
   "source": [
    "# XLM + XLM-R-Galén"
   ]
  },
  {
   "cell_type": "code",
   "execution_count": 380,
   "metadata": {},
   "outputs": [],
   "source": [
    "best_thr = (0.43 + 0.33)/2"
   ]
  },
  {
   "cell_type": "code",
   "execution_count": 381,
   "metadata": {},
   "outputs": [],
   "source": [
    "sum_ens = (xlm_r_doc_preds + xlm_r_1_doc_preds + xlm_r_2_doc_preds + xlm_r_3_doc_preds + xlm_r_4_doc_preds + \n",
    " xlm_r_galen_doc_preds + xlm_r_galen_1_doc_preds + xlm_r_galen_2_doc_preds + xlm_r_galen_3_doc_preds + xlm_r_galen_4_doc_preds)/10 "
   ]
  },
  {
   "cell_type": "code",
   "execution_count": 382,
   "metadata": {},
   "outputs": [
    {
     "data": {
      "text/html": [
       "<div>\n",
       "<style scoped>\n",
       "    .dataframe tbody tr th:only-of-type {\n",
       "        vertical-align: middle;\n",
       "    }\n",
       "\n",
       "    .dataframe tbody tr th {\n",
       "        vertical-align: top;\n",
       "    }\n",
       "\n",
       "    .dataframe thead th {\n",
       "        text-align: right;\n",
       "    }\n",
       "</style>\n",
       "<table border=\"1\" class=\"dataframe\">\n",
       "  <thead>\n",
       "    <tr style=\"text-align: right;\">\n",
       "      <th></th>\n",
       "      <th>P</th>\n",
       "      <th>R</th>\n",
       "      <th>F1</th>\n",
       "      <th>MAP</th>\n",
       "      <th>Thr</th>\n",
       "    </tr>\n",
       "  </thead>\n",
       "  <tbody>\n",
       "    <tr>\n",
       "      <th>0</th>\n",
       "      <td>0.681</td>\n",
       "      <td>0.484</td>\n",
       "      <td>0.566</td>\n",
       "      <td>0.502</td>\n",
       "      <td>0.38</td>\n",
       "    </tr>\n",
       "  </tbody>\n",
       "</table>\n",
       "</div>"
      ],
      "text/plain": [
       "       P      R     F1    MAP   Thr\n",
       "0  0.681  0.484  0.566  0.502  0.38"
      ]
     },
     "execution_count": 382,
     "metadata": {},
     "output_type": "execute_result"
    }
   ],
   "source": [
    "compute_metrics([best_thr], sum_ens)"
   ]
  },
  {
   "cell_type": "code",
   "execution_count": null,
   "metadata": {},
   "outputs": [],
   "source": [
    "# Multi + BETO + XLM-R"
   ]
  },
  {
   "cell_type": "code",
   "execution_count": 383,
   "metadata": {},
   "outputs": [],
   "source": [
    "best_thr = (0.52 + 0.53 + 0.43)/3"
   ]
  },
  {
   "cell_type": "code",
   "execution_count": 384,
   "metadata": {},
   "outputs": [],
   "source": [
    "sum_ens = (multi_doc_preds + multi_1_doc_preds + multi_2_doc_preds + multi_3_doc_preds + multi_4_doc_preds + \n",
    " beto_doc_preds + beto_1_doc_preds + beto_2_doc_preds + beto_3_doc_preds + beto_4_doc_preds +\n",
    " xlm_r_doc_preds + xlm_r_1_doc_preds + xlm_r_2_doc_preds + xlm_r_3_doc_preds + xlm_r_4_doc_preds)/15 "
   ]
  },
  {
   "cell_type": "code",
   "execution_count": 385,
   "metadata": {},
   "outputs": [
    {
     "data": {
      "text/html": [
       "<div>\n",
       "<style scoped>\n",
       "    .dataframe tbody tr th:only-of-type {\n",
       "        vertical-align: middle;\n",
       "    }\n",
       "\n",
       "    .dataframe tbody tr th {\n",
       "        vertical-align: top;\n",
       "    }\n",
       "\n",
       "    .dataframe thead th {\n",
       "        text-align: right;\n",
       "    }\n",
       "</style>\n",
       "<table border=\"1\" class=\"dataframe\">\n",
       "  <thead>\n",
       "    <tr style=\"text-align: right;\">\n",
       "      <th></th>\n",
       "      <th>P</th>\n",
       "      <th>R</th>\n",
       "      <th>F1</th>\n",
       "      <th>MAP</th>\n",
       "      <th>Thr</th>\n",
       "    </tr>\n",
       "  </thead>\n",
       "  <tbody>\n",
       "    <tr>\n",
       "      <th>0</th>\n",
       "      <td>0.75</td>\n",
       "      <td>0.431</td>\n",
       "      <td>0.548</td>\n",
       "      <td>0.497</td>\n",
       "      <td>0.493333</td>\n",
       "    </tr>\n",
       "  </tbody>\n",
       "</table>\n",
       "</div>"
      ],
      "text/plain": [
       "      P      R     F1    MAP       Thr\n",
       "0  0.75  0.431  0.548  0.497  0.493333"
      ]
     },
     "execution_count": 385,
     "metadata": {},
     "output_type": "execute_result"
    }
   ],
   "source": [
    "compute_metrics([best_thr], sum_ens)"
   ]
  },
  {
   "cell_type": "code",
   "execution_count": null,
   "metadata": {},
   "outputs": [],
   "source": [
    "# Multi-Galén + BETO-Galén + XLM-R-Galén"
   ]
  },
  {
   "cell_type": "code",
   "execution_count": 386,
   "metadata": {},
   "outputs": [],
   "source": [
    "best_thr = (0.12 + 0.31 + 0.33)/3"
   ]
  },
  {
   "cell_type": "code",
   "execution_count": 387,
   "metadata": {},
   "outputs": [],
   "source": [
    "sum_ens = (multi_galen_doc_preds + multi_galen_1_doc_preds + multi_galen_2_doc_preds + multi_galen_3_doc_preds + multi_galen_4_doc_preds + \n",
    "    beto_galen_doc_preds + beto_galen_1_doc_preds + beto_galen_2_doc_preds + beto_galen_3_doc_preds + beto_galen_4_doc_preds +\n",
    "    xlm_r_galen_doc_preds + xlm_r_galen_1_doc_preds + xlm_r_galen_2_doc_preds + xlm_r_galen_3_doc_preds + xlm_r_galen_4_doc_preds)/15 "
   ]
  },
  {
   "cell_type": "code",
   "execution_count": 388,
   "metadata": {},
   "outputs": [
    {
     "data": {
      "text/html": [
       "<div>\n",
       "<style scoped>\n",
       "    .dataframe tbody tr th:only-of-type {\n",
       "        vertical-align: middle;\n",
       "    }\n",
       "\n",
       "    .dataframe tbody tr th {\n",
       "        vertical-align: top;\n",
       "    }\n",
       "\n",
       "    .dataframe thead th {\n",
       "        text-align: right;\n",
       "    }\n",
       "</style>\n",
       "<table border=\"1\" class=\"dataframe\">\n",
       "  <thead>\n",
       "    <tr style=\"text-align: right;\">\n",
       "      <th></th>\n",
       "      <th>P</th>\n",
       "      <th>R</th>\n",
       "      <th>F1</th>\n",
       "      <th>MAP</th>\n",
       "      <th>Thr</th>\n",
       "    </tr>\n",
       "  </thead>\n",
       "  <tbody>\n",
       "    <tr>\n",
       "      <th>0</th>\n",
       "      <td>0.646</td>\n",
       "      <td>0.524</td>\n",
       "      <td>0.579</td>\n",
       "      <td>0.541</td>\n",
       "      <td>0.253333</td>\n",
       "    </tr>\n",
       "  </tbody>\n",
       "</table>\n",
       "</div>"
      ],
      "text/plain": [
       "       P      R     F1    MAP       Thr\n",
       "0  0.646  0.524  0.579  0.541  0.253333"
      ]
     },
     "execution_count": 388,
     "metadata": {},
     "output_type": "execute_result"
    }
   ],
   "source": [
    "compute_metrics([best_thr], sum_ens)"
   ]
  },
  {
   "cell_type": "code",
   "execution_count": null,
   "metadata": {},
   "outputs": [],
   "source": [
    "# Sanity check: Manual"
   ]
  },
  {
   "cell_type": "code",
   "execution_count": 411,
   "metadata": {},
   "outputs": [
    {
     "name": "stdout",
     "output_type": "stream",
     "text": [
      "\n",
      "MAP estimate: 0.541\n",
      "\n",
      "CPU times: user 13.2 ms, sys: 8.04 ms, total: 21.3 ms\n",
      "Wall time: 761 ms\n"
     ]
    }
   ],
   "source": [
    "%%time\n",
    "# Manual insert (copy + paste) train pred file name\n",
    "!python ../../resources/CodiEsp-Evaluation-Script/codiespD_P_evaluation.py -g ../../datasets/final_dataset_v4_to_publish/test/testP.tsv -p proc_test_frag_preds.tsv -c ../../resources/CodiEsp-Evaluation-Script/codiesp_codes/codiesp-P_codes.tsv  "
   ]
  },
  {
   "cell_type": "code",
   "execution_count": null,
   "metadata": {},
   "outputs": [],
   "source": []
  },
  {
   "cell_type": "code",
   "execution_count": null,
   "metadata": {},
   "outputs": [],
   "source": []
  },
  {
   "cell_type": "markdown",
   "metadata": {},
   "source": [
    "### Multi-Scratch + Multi-Galén"
   ]
  },
  {
   "cell_type": "markdown",
   "metadata": {},
   "source": [
    "#### All"
   ]
  },
  {
   "cell_type": "code",
   "execution_count": 262,
   "metadata": {},
   "outputs": [],
   "source": [
    "sum_test_preds = multi_doc_preds + multi_1_doc_preds + multi_2_doc_preds + multi_3_doc_preds + multi_4_doc_preds + multi_galen_doc_preds + multi_galen_1_doc_preds + multi_galen_2_doc_preds + multi_galen_3_doc_preds + multi_galen_4_doc_preds"
   ]
  },
  {
   "cell_type": "code",
   "execution_count": 263,
   "metadata": {},
   "outputs": [
    {
     "data": {
      "text/plain": [
       "(250, 727)"
      ]
     },
     "execution_count": 263,
     "metadata": {},
     "output_type": "execute_result"
    }
   ],
   "source": [
    "sum_test_preds.shape"
   ]
  },
  {
   "cell_type": "code",
   "execution_count": 264,
   "metadata": {},
   "outputs": [
    {
     "name": "stdout",
     "output_type": "stream",
     "text": [
      "CPU times: user 248 ms, sys: 11.9 ms, total: 260 ms\n",
      "Wall time: 259 ms\n"
     ]
    }
   ],
   "source": [
    "%%time\n",
    "test_pred_df = prob_codiesp_prediction_format(y_pred=sum_test_preds,\n",
    "                                      label_encoder_classes=mlb_encoder.classes_, doc_list=test_doc_list)\n",
    "test_pred_df[[\"doc_id\", \"code\"]].to_csv(path_or_buf=test_pred_file_path, sep=\"\\t\", header=False, index=False)"
   ]
  },
  {
   "cell_type": "code",
   "execution_count": 265,
   "metadata": {},
   "outputs": [
    {
     "name": "stdout",
     "output_type": "stream",
     "text": [
      "\n",
      "MAP estimate: 0.528\n",
      "\n",
      "CPU times: user 11.3 ms, sys: 16.2 ms, total: 27.5 ms\n",
      "Wall time: 1.59 s\n"
     ]
    }
   ],
   "source": [
    "%%time\n",
    "# Manual insert (copy + paste) train pred file name\n",
    "!python ../../resources/CodiEsp-Evaluation-Script/codiespD_P_evaluation.py -g ../../datasets/final_dataset_v4_to_publish/test/testP.tsv -p proc_test_frag_preds.tsv -c ../../resources/CodiEsp-Evaluation-Script/codiesp_codes/codiesp-P_codes.tsv  "
   ]
  },
  {
   "cell_type": "markdown",
   "metadata": {},
   "source": [
    "### BETO-Scratch + BETO-Galén"
   ]
  },
  {
   "cell_type": "markdown",
   "metadata": {},
   "source": [
    "#### All"
   ]
  },
  {
   "cell_type": "code",
   "execution_count": 270,
   "metadata": {},
   "outputs": [],
   "source": [
    "sum_test_preds = beto_doc_preds + beto_1_doc_preds + beto_2_doc_preds + beto_3_doc_preds + beto_4_doc_preds + beto_galen_doc_preds + beto_galen_1_doc_preds + beto_galen_2_doc_preds + beto_galen_3_doc_preds + beto_galen_4_doc_preds "
   ]
  },
  {
   "cell_type": "code",
   "execution_count": 271,
   "metadata": {},
   "outputs": [
    {
     "data": {
      "text/plain": [
       "(250, 727)"
      ]
     },
     "execution_count": 271,
     "metadata": {},
     "output_type": "execute_result"
    }
   ],
   "source": [
    "sum_test_preds.shape"
   ]
  },
  {
   "cell_type": "code",
   "execution_count": 272,
   "metadata": {},
   "outputs": [
    {
     "name": "stdout",
     "output_type": "stream",
     "text": [
      "CPU times: user 249 ms, sys: 12.2 ms, total: 261 ms\n",
      "Wall time: 261 ms\n"
     ]
    }
   ],
   "source": [
    "%%time\n",
    "test_pred_df = prob_codiesp_prediction_format(y_pred=sum_test_preds,\n",
    "                                      label_encoder_classes=mlb_encoder.classes_, doc_list=test_doc_list)\n",
    "test_pred_df[[\"doc_id\", \"code\"]].to_csv(path_or_buf=test_pred_file_path, sep=\"\\t\", header=False, index=False)"
   ]
  },
  {
   "cell_type": "code",
   "execution_count": 273,
   "metadata": {},
   "outputs": [
    {
     "name": "stdout",
     "output_type": "stream",
     "text": [
      "\n",
      "MAP estimate: 0.534\n",
      "\n",
      "CPU times: user 15 ms, sys: 12.1 ms, total: 27.1 ms\n",
      "Wall time: 1.61 s\n"
     ]
    }
   ],
   "source": [
    "%%time\n",
    "# Manual insert (copy + paste) train pred file name\n",
    "!python ../../resources/CodiEsp-Evaluation-Script/codiespD_P_evaluation.py -g ../../datasets/final_dataset_v4_to_publish/test/testP.tsv -p proc_test_frag_preds.tsv -c ../../resources/CodiEsp-Evaluation-Script/codiesp_codes/codiesp-P_codes.tsv  "
   ]
  },
  {
   "cell_type": "markdown",
   "metadata": {},
   "source": [
    "### XLM-R-Scratch + XLM-R-Galén"
   ]
  },
  {
   "cell_type": "markdown",
   "metadata": {},
   "source": [
    "#### All"
   ]
  },
  {
   "cell_type": "code",
   "execution_count": 347,
   "metadata": {},
   "outputs": [],
   "source": [
    "sum_test_preds = xlm_r_doc_preds + xlm_r_1_doc_preds + xlm_r_2_doc_preds + xlm_r_3_doc_preds + xlm_r_4_doc_preds + xlm_r_galen_doc_preds + xlm_r_galen_1_doc_preds + xlm_r_galen_2_doc_preds + xlm_r_galen_3_doc_preds + xlm_r_galen_4_doc_preds"
   ]
  },
  {
   "cell_type": "code",
   "execution_count": 348,
   "metadata": {},
   "outputs": [
    {
     "data": {
      "text/plain": [
       "(250, 727)"
      ]
     },
     "execution_count": 348,
     "metadata": {},
     "output_type": "execute_result"
    }
   ],
   "source": [
    "sum_test_preds.shape"
   ]
  },
  {
   "cell_type": "code",
   "execution_count": 349,
   "metadata": {},
   "outputs": [
    {
     "name": "stdout",
     "output_type": "stream",
     "text": [
      "CPU times: user 246 ms, sys: 7.84 ms, total: 253 ms\n",
      "Wall time: 253 ms\n"
     ]
    }
   ],
   "source": [
    "%%time\n",
    "test_pred_df = prob_codiesp_prediction_format(y_pred=sum_test_preds,\n",
    "                                      label_encoder_classes=mlb_encoder.classes_, doc_list=test_doc_list)\n",
    "test_pred_df[[\"doc_id\", \"code\"]].to_csv(path_or_buf=test_pred_file_path, sep=\"\\t\", header=False, index=False)"
   ]
  },
  {
   "cell_type": "code",
   "execution_count": 350,
   "metadata": {},
   "outputs": [
    {
     "name": "stdout",
     "output_type": "stream",
     "text": [
      "\n",
      "MAP estimate: 0.524\n",
      "\n",
      "CPU times: user 12.9 ms, sys: 16.3 ms, total: 29.2 ms\n",
      "Wall time: 1.56 s\n"
     ]
    }
   ],
   "source": [
    "%%time\n",
    "# Manual insert (copy + paste) train pred file name\n",
    "!python ../../resources/CodiEsp-Evaluation-Script/codiespD_P_evaluation.py -g ../../datasets/final_dataset_v4_to_publish/test/testP.tsv -p proc_test_frag_preds.tsv -c ../../resources/CodiEsp-Evaluation-Script/codiesp_codes/codiesp-P_codes.tsv  "
   ]
  },
  {
   "cell_type": "markdown",
   "metadata": {},
   "source": [
    "### Multi-Scratch + BETO-Scratch"
   ]
  },
  {
   "cell_type": "markdown",
   "metadata": {},
   "source": [
    "#### All"
   ]
  },
  {
   "cell_type": "code",
   "execution_count": 278,
   "metadata": {},
   "outputs": [],
   "source": [
    "sum_test_preds = multi_doc_preds + multi_1_doc_preds + multi_2_doc_preds + multi_3_doc_preds + multi_4_doc_preds + beto_doc_preds + beto_1_doc_preds + beto_2_doc_preds + beto_3_doc_preds + beto_4_doc_preds"
   ]
  },
  {
   "cell_type": "code",
   "execution_count": 279,
   "metadata": {},
   "outputs": [
    {
     "data": {
      "text/plain": [
       "(250, 727)"
      ]
     },
     "execution_count": 279,
     "metadata": {},
     "output_type": "execute_result"
    }
   ],
   "source": [
    "sum_test_preds.shape"
   ]
  },
  {
   "cell_type": "code",
   "execution_count": 280,
   "metadata": {},
   "outputs": [
    {
     "name": "stdout",
     "output_type": "stream",
     "text": [
      "CPU times: user 250 ms, sys: 11.7 ms, total: 262 ms\n",
      "Wall time: 261 ms\n"
     ]
    }
   ],
   "source": [
    "%%time\n",
    "test_pred_df = prob_codiesp_prediction_format(y_pred=sum_test_preds,\n",
    "                                      label_encoder_classes=mlb_encoder.classes_, doc_list=test_doc_list)\n",
    "test_pred_df[[\"doc_id\", \"code\"]].to_csv(path_or_buf=test_pred_file_path, sep=\"\\t\", header=False, index=False)"
   ]
  },
  {
   "cell_type": "code",
   "execution_count": 281,
   "metadata": {},
   "outputs": [
    {
     "name": "stdout",
     "output_type": "stream",
     "text": [
      "\n",
      "MAP estimate: 0.515\n",
      "\n",
      "CPU times: user 25.2 ms, sys: 4.69 ms, total: 29.9 ms\n",
      "Wall time: 1.53 s\n"
     ]
    }
   ],
   "source": [
    "%%time\n",
    "# Manual insert (copy + paste) train pred file name\n",
    "!python ../../resources/CodiEsp-Evaluation-Script/codiespD_P_evaluation.py -g ../../datasets/final_dataset_v4_to_publish/test/testP.tsv -p proc_test_frag_preds.tsv -c ../../resources/CodiEsp-Evaluation-Script/codiesp_codes/codiesp-P_codes.tsv  "
   ]
  },
  {
   "cell_type": "markdown",
   "metadata": {},
   "source": [
    "### Multi-Scratch + BETO-Scratch + XLM-R-Scratch"
   ]
  },
  {
   "cell_type": "markdown",
   "metadata": {},
   "source": [
    "#### All"
   ]
  },
  {
   "cell_type": "code",
   "execution_count": 359,
   "metadata": {},
   "outputs": [],
   "source": [
    "sum_test_preds = multi_doc_preds + multi_1_doc_preds + multi_2_doc_preds + multi_3_doc_preds + multi_4_doc_preds + beto_doc_preds + beto_1_doc_preds + beto_2_doc_preds + beto_3_doc_preds + beto_4_doc_preds + xlm_r_doc_preds + xlm_r_1_doc_preds + xlm_r_2_doc_preds + xlm_r_3_doc_preds + xlm_r_4_doc_preds"
   ]
  },
  {
   "cell_type": "code",
   "execution_count": 360,
   "metadata": {},
   "outputs": [
    {
     "data": {
      "text/plain": [
       "(250, 727)"
      ]
     },
     "execution_count": 360,
     "metadata": {},
     "output_type": "execute_result"
    }
   ],
   "source": [
    "sum_test_preds.shape"
   ]
  },
  {
   "cell_type": "code",
   "execution_count": 361,
   "metadata": {},
   "outputs": [
    {
     "name": "stdout",
     "output_type": "stream",
     "text": [
      "CPU times: user 250 ms, sys: 3.84 ms, total: 254 ms\n",
      "Wall time: 253 ms\n"
     ]
    }
   ],
   "source": [
    "%%time\n",
    "test_pred_df = prob_codiesp_prediction_format(y_pred=sum_test_preds,\n",
    "                                      label_encoder_classes=mlb_encoder.classes_, doc_list=test_doc_list)\n",
    "test_pred_df[[\"doc_id\", \"code\"]].to_csv(path_or_buf=test_pred_file_path, sep=\"\\t\", header=False, index=False)"
   ]
  },
  {
   "cell_type": "code",
   "execution_count": 362,
   "metadata": {},
   "outputs": [
    {
     "name": "stdout",
     "output_type": "stream",
     "text": [
      "\n",
      "MAP estimate: 0.52\n",
      "\n",
      "CPU times: user 22 ms, sys: 11.3 ms, total: 33.3 ms\n",
      "Wall time: 1.57 s\n"
     ]
    }
   ],
   "source": [
    "%%time\n",
    "# Manual insert (copy + paste) train pred file name\n",
    "!python ../../resources/CodiEsp-Evaluation-Script/codiespD_P_evaluation.py -g ../../datasets/final_dataset_v4_to_publish/test/testP.tsv -p proc_test_frag_preds.tsv -c ../../resources/CodiEsp-Evaluation-Script/codiesp_codes/codiesp-P_codes.tsv  "
   ]
  },
  {
   "cell_type": "markdown",
   "metadata": {},
   "source": [
    "### Multi-Galén + BETO-Galén"
   ]
  },
  {
   "cell_type": "markdown",
   "metadata": {},
   "source": [
    "#### All"
   ]
  },
  {
   "cell_type": "code",
   "execution_count": 286,
   "metadata": {},
   "outputs": [],
   "source": [
    "sum_test_preds = multi_galen_doc_preds + multi_galen_1_doc_preds + multi_galen_2_doc_preds + multi_galen_3_doc_preds + multi_galen_4_doc_preds + beto_galen_doc_preds + beto_galen_1_doc_preds + beto_galen_2_doc_preds + beto_galen_3_doc_preds + beto_galen_4_doc_preds "
   ]
  },
  {
   "cell_type": "code",
   "execution_count": 287,
   "metadata": {},
   "outputs": [
    {
     "data": {
      "text/plain": [
       "(250, 727)"
      ]
     },
     "execution_count": 287,
     "metadata": {},
     "output_type": "execute_result"
    }
   ],
   "source": [
    "sum_test_preds.shape"
   ]
  },
  {
   "cell_type": "code",
   "execution_count": 288,
   "metadata": {},
   "outputs": [
    {
     "name": "stdout",
     "output_type": "stream",
     "text": [
      "CPU times: user 264 ms, sys: 3.53 ms, total: 267 ms\n",
      "Wall time: 267 ms\n"
     ]
    }
   ],
   "source": [
    "%%time\n",
    "test_pred_df = prob_codiesp_prediction_format(y_pred=sum_test_preds,\n",
    "                                      label_encoder_classes=mlb_encoder.classes_, doc_list=test_doc_list)\n",
    "test_pred_df[[\"doc_id\", \"code\"]].to_csv(path_or_buf=test_pred_file_path, sep=\"\\t\", header=False, index=False)"
   ]
  },
  {
   "cell_type": "code",
   "execution_count": 289,
   "metadata": {},
   "outputs": [
    {
     "name": "stdout",
     "output_type": "stream",
     "text": [
      "\n",
      "MAP estimate: 0.541\n",
      "\n",
      "CPU times: user 19.9 ms, sys: 8.09 ms, total: 28 ms\n",
      "Wall time: 1.6 s\n"
     ]
    }
   ],
   "source": [
    "%%time\n",
    "# Manual insert (copy + paste) train pred file name\n",
    "!python ../../resources/CodiEsp-Evaluation-Script/codiespD_P_evaluation.py -g ../../datasets/final_dataset_v4_to_publish/test/testP.tsv -p proc_test_frag_preds.tsv -c ../../resources/CodiEsp-Evaluation-Script/codiesp_codes/codiesp-P_codes.tsv  "
   ]
  },
  {
   "cell_type": "markdown",
   "metadata": {},
   "source": [
    "### Multi-Galén + BETO-Galén + XLM-R-Galén"
   ]
  },
  {
   "cell_type": "markdown",
   "metadata": {},
   "source": [
    "#### All"
   ]
  },
  {
   "cell_type": "code",
   "execution_count": 371,
   "metadata": {},
   "outputs": [],
   "source": [
    "sum_test_preds = multi_galen_doc_preds + multi_galen_1_doc_preds + multi_galen_2_doc_preds + multi_galen_3_doc_preds + multi_galen_4_doc_preds + beto_galen_doc_preds + beto_galen_1_doc_preds + beto_galen_2_doc_preds + beto_galen_3_doc_preds + beto_galen_4_doc_preds + xlm_r_galen_doc_preds + xlm_r_galen_1_doc_preds + xlm_r_galen_2_doc_preds + xlm_r_galen_3_doc_preds + xlm_r_galen_4_doc_preds "
   ]
  },
  {
   "cell_type": "code",
   "execution_count": 372,
   "metadata": {},
   "outputs": [
    {
     "data": {
      "text/plain": [
       "(250, 727)"
      ]
     },
     "execution_count": 372,
     "metadata": {},
     "output_type": "execute_result"
    }
   ],
   "source": [
    "sum_test_preds.shape"
   ]
  },
  {
   "cell_type": "code",
   "execution_count": 373,
   "metadata": {},
   "outputs": [
    {
     "name": "stdout",
     "output_type": "stream",
     "text": [
      "CPU times: user 248 ms, sys: 7.44 ms, total: 255 ms\n",
      "Wall time: 254 ms\n"
     ]
    }
   ],
   "source": [
    "%%time\n",
    "test_pred_df = prob_codiesp_prediction_format(y_pred=sum_test_preds,\n",
    "                                      label_encoder_classes=mlb_encoder.classes_, doc_list=test_doc_list)\n",
    "test_pred_df[[\"doc_id\", \"code\"]].to_csv(path_or_buf=test_pred_file_path, sep=\"\\t\", header=False, index=False)"
   ]
  },
  {
   "cell_type": "code",
   "execution_count": 374,
   "metadata": {},
   "outputs": [
    {
     "name": "stdout",
     "output_type": "stream",
     "text": [
      "\n",
      "MAP estimate: 0.544\n",
      "\n",
      "CPU times: user 26.4 ms, sys: 4.55 ms, total: 31 ms\n",
      "Wall time: 1.59 s\n"
     ]
    }
   ],
   "source": [
    "%%time\n",
    "# Manual insert (copy + paste) train pred file name\n",
    "!python ../../resources/CodiEsp-Evaluation-Script/codiespD_P_evaluation.py -g ../../datasets/final_dataset_v4_to_publish/test/testP.tsv -p proc_test_frag_preds.tsv -c ../../resources/CodiEsp-Evaluation-Script/codiesp_codes/codiesp-P_codes.tsv  "
   ]
  },
  {
   "cell_type": "markdown",
   "metadata": {},
   "source": [
    "### Multi-Scratch"
   ]
  },
  {
   "cell_type": "markdown",
   "metadata": {},
   "source": [
    "#### All"
   ]
  },
  {
   "cell_type": "code",
   "execution_count": 290,
   "metadata": {},
   "outputs": [],
   "source": [
    "sum_test_preds = multi_doc_preds + multi_1_doc_preds + multi_2_doc_preds + multi_3_doc_preds + multi_4_doc_preds"
   ]
  },
  {
   "cell_type": "code",
   "execution_count": 291,
   "metadata": {},
   "outputs": [
    {
     "data": {
      "text/plain": [
       "(250, 727)"
      ]
     },
     "execution_count": 291,
     "metadata": {},
     "output_type": "execute_result"
    }
   ],
   "source": [
    "sum_test_preds.shape"
   ]
  },
  {
   "cell_type": "code",
   "execution_count": 292,
   "metadata": {},
   "outputs": [
    {
     "name": "stdout",
     "output_type": "stream",
     "text": [
      "CPU times: user 266 ms, sys: 7.61 ms, total: 273 ms\n",
      "Wall time: 273 ms\n"
     ]
    }
   ],
   "source": [
    "%%time\n",
    "test_pred_df = prob_codiesp_prediction_format(y_pred=sum_test_preds,\n",
    "                                      label_encoder_classes=mlb_encoder.classes_, doc_list=test_doc_list)\n",
    "test_pred_df[[\"doc_id\", \"code\"]].to_csv(path_or_buf=test_pred_file_path, sep=\"\\t\", header=False, index=False)"
   ]
  },
  {
   "cell_type": "code",
   "execution_count": 293,
   "metadata": {},
   "outputs": [
    {
     "name": "stdout",
     "output_type": "stream",
     "text": [
      "\n",
      "MAP estimate: 0.508\n",
      "\n",
      "CPU times: user 25.9 ms, sys: 4.97 ms, total: 30.9 ms\n",
      "Wall time: 1.61 s\n"
     ]
    }
   ],
   "source": [
    "%%time\n",
    "# Manual insert (copy + paste) train pred file name\n",
    "!python ../../resources/CodiEsp-Evaluation-Script/codiespD_P_evaluation.py -g ../../datasets/final_dataset_v4_to_publish/test/testP.tsv -p proc_test_frag_preds.tsv -c ../../resources/CodiEsp-Evaluation-Script/codiesp_codes/codiesp-P_codes.tsv  "
   ]
  },
  {
   "cell_type": "markdown",
   "metadata": {},
   "source": [
    "### Multi-Galén"
   ]
  },
  {
   "cell_type": "markdown",
   "metadata": {},
   "source": [
    "#### All"
   ]
  },
  {
   "cell_type": "code",
   "execution_count": 294,
   "metadata": {},
   "outputs": [],
   "source": [
    "sum_test_preds = multi_galen_doc_preds + multi_galen_1_doc_preds + multi_galen_2_doc_preds + multi_galen_3_doc_preds + multi_galen_4_doc_preds"
   ]
  },
  {
   "cell_type": "code",
   "execution_count": 295,
   "metadata": {},
   "outputs": [
    {
     "data": {
      "text/plain": [
       "(250, 727)"
      ]
     },
     "execution_count": 295,
     "metadata": {},
     "output_type": "execute_result"
    }
   ],
   "source": [
    "sum_test_preds.shape"
   ]
  },
  {
   "cell_type": "code",
   "execution_count": 296,
   "metadata": {},
   "outputs": [
    {
     "name": "stdout",
     "output_type": "stream",
     "text": [
      "CPU times: user 264 ms, sys: 3.73 ms, total: 268 ms\n",
      "Wall time: 268 ms\n"
     ]
    }
   ],
   "source": [
    "%%time\n",
    "test_pred_df = prob_codiesp_prediction_format(y_pred=sum_test_preds,\n",
    "                                      label_encoder_classes=mlb_encoder.classes_, doc_list=test_doc_list)\n",
    "test_pred_df[[\"doc_id\", \"code\"]].to_csv(path_or_buf=test_pred_file_path, sep=\"\\t\", header=False, index=False)"
   ]
  },
  {
   "cell_type": "code",
   "execution_count": 297,
   "metadata": {},
   "outputs": [
    {
     "name": "stdout",
     "output_type": "stream",
     "text": [
      "\n",
      "MAP estimate: 0.521\n",
      "\n",
      "CPU times: user 26.8 ms, sys: 4.78 ms, total: 31.6 ms\n",
      "Wall time: 1.58 s\n"
     ]
    }
   ],
   "source": [
    "%%time\n",
    "# Manual insert (copy + paste) train pred file name\n",
    "!python ../../resources/CodiEsp-Evaluation-Script/codiespD_P_evaluation.py -g ../../datasets/final_dataset_v4_to_publish/test/testP.tsv -p proc_test_frag_preds.tsv -c ../../resources/CodiEsp-Evaluation-Script/codiesp_codes/codiesp-P_codes.tsv  "
   ]
  },
  {
   "cell_type": "markdown",
   "metadata": {},
   "source": [
    "### Multi-MIMIC"
   ]
  },
  {
   "cell_type": "markdown",
   "metadata": {},
   "source": [
    "#### All"
   ]
  },
  {
   "cell_type": "code",
   "execution_count": 298,
   "metadata": {},
   "outputs": [],
   "source": [
    "sum_test_preds = multi_mimic_doc_preds + multi_mimic_1_doc_preds + multi_mimic_2_doc_preds + multi_mimic_3_doc_preds + multi_mimic_4_doc_preds"
   ]
  },
  {
   "cell_type": "code",
   "execution_count": 299,
   "metadata": {},
   "outputs": [
    {
     "data": {
      "text/plain": [
       "(250, 727)"
      ]
     },
     "execution_count": 299,
     "metadata": {},
     "output_type": "execute_result"
    }
   ],
   "source": [
    "sum_test_preds.shape"
   ]
  },
  {
   "cell_type": "code",
   "execution_count": 300,
   "metadata": {},
   "outputs": [
    {
     "name": "stdout",
     "output_type": "stream",
     "text": [
      "CPU times: user 252 ms, sys: 7.82 ms, total: 260 ms\n",
      "Wall time: 260 ms\n"
     ]
    }
   ],
   "source": [
    "%%time\n",
    "test_pred_df = prob_codiesp_prediction_format(y_pred=sum_test_preds,\n",
    "                                      label_encoder_classes=mlb_encoder.classes_, doc_list=test_doc_list)\n",
    "test_pred_df[[\"doc_id\", \"code\"]].to_csv(path_or_buf=test_pred_file_path, sep=\"\\t\", header=False, index=False)"
   ]
  },
  {
   "cell_type": "code",
   "execution_count": 301,
   "metadata": {},
   "outputs": [
    {
     "name": "stdout",
     "output_type": "stream",
     "text": [
      "\n",
      "MAP estimate: 0.493\n",
      "\n",
      "CPU times: user 22.7 ms, sys: 8.42 ms, total: 31.1 ms\n",
      "Wall time: 1.63 s\n"
     ]
    }
   ],
   "source": [
    "%%time\n",
    "# Manual insert (copy + paste) train pred file name\n",
    "!python ../../resources/CodiEsp-Evaluation-Script/codiespD_P_evaluation.py -g ../../datasets/final_dataset_v4_to_publish/test/testP.tsv -p proc_test_frag_preds.tsv -c ../../resources/CodiEsp-Evaluation-Script/codiesp_codes/codiesp-P_codes.tsv  "
   ]
  },
  {
   "cell_type": "markdown",
   "metadata": {},
   "source": [
    "### Multi-Galén-MIMIC"
   ]
  },
  {
   "cell_type": "markdown",
   "metadata": {},
   "source": [
    "#### All"
   ]
  },
  {
   "cell_type": "code",
   "execution_count": 304,
   "metadata": {},
   "outputs": [],
   "source": [
    "sum_test_preds = multi_mimic_galen_doc_preds + multi_mimic_galen_1_doc_preds + multi_mimic_galen_2_doc_preds + multi_mimic_galen_3_doc_preds + multi_mimic_galen_4_doc_preds"
   ]
  },
  {
   "cell_type": "code",
   "execution_count": 305,
   "metadata": {},
   "outputs": [
    {
     "data": {
      "text/plain": [
       "(250, 727)"
      ]
     },
     "execution_count": 305,
     "metadata": {},
     "output_type": "execute_result"
    }
   ],
   "source": [
    "sum_test_preds.shape"
   ]
  },
  {
   "cell_type": "code",
   "execution_count": 306,
   "metadata": {},
   "outputs": [
    {
     "name": "stdout",
     "output_type": "stream",
     "text": [
      "CPU times: user 255 ms, sys: 7.83 ms, total: 263 ms\n",
      "Wall time: 261 ms\n"
     ]
    }
   ],
   "source": [
    "%%time\n",
    "test_pred_df = prob_codiesp_prediction_format(y_pred=sum_test_preds,\n",
    "                                      label_encoder_classes=mlb_encoder.classes_, doc_list=test_doc_list)\n",
    "test_pred_df[[\"doc_id\", \"code\"]].to_csv(path_or_buf=test_pred_file_path, sep=\"\\t\", header=False, index=False)"
   ]
  },
  {
   "cell_type": "code",
   "execution_count": 307,
   "metadata": {},
   "outputs": [
    {
     "name": "stdout",
     "output_type": "stream",
     "text": [
      "\n",
      "MAP estimate: 0.526\n",
      "\n",
      "CPU times: user 22.6 ms, sys: 8.5 ms, total: 31.1 ms\n",
      "Wall time: 1.65 s\n"
     ]
    }
   ],
   "source": [
    "%%time\n",
    "# Manual insert (copy + paste) train pred file name\n",
    "!python ../../resources/CodiEsp-Evaluation-Script/codiespD_P_evaluation.py -g ../../datasets/final_dataset_v4_to_publish/test/testP.tsv -p proc_test_frag_preds.tsv -c ../../resources/CodiEsp-Evaluation-Script/codiesp_codes/codiesp-P_codes.tsv  "
   ]
  },
  {
   "cell_type": "markdown",
   "metadata": {},
   "source": [
    "### BETO-Scratch"
   ]
  },
  {
   "cell_type": "markdown",
   "metadata": {},
   "source": [
    "#### All"
   ]
  },
  {
   "cell_type": "code",
   "execution_count": 252,
   "metadata": {},
   "outputs": [],
   "source": [
    "sum_test_preds = beto_doc_preds + beto_1_doc_preds + beto_2_doc_preds + beto_3_doc_preds + beto_4_doc_preds"
   ]
  },
  {
   "cell_type": "code",
   "execution_count": 253,
   "metadata": {},
   "outputs": [
    {
     "data": {
      "text/plain": [
       "(250, 727)"
      ]
     },
     "execution_count": 253,
     "metadata": {},
     "output_type": "execute_result"
    }
   ],
   "source": [
    "sum_test_preds.shape"
   ]
  },
  {
   "cell_type": "code",
   "execution_count": 254,
   "metadata": {},
   "outputs": [
    {
     "name": "stdout",
     "output_type": "stream",
     "text": [
      "CPU times: user 242 ms, sys: 11.7 ms, total: 254 ms\n",
      "Wall time: 254 ms\n"
     ]
    }
   ],
   "source": [
    "%%time\n",
    "test_pred_df = prob_codiesp_prediction_format(y_pred=sum_test_preds,\n",
    "                                      label_encoder_classes=mlb_encoder.classes_, doc_list=test_doc_list)\n",
    "test_pred_df[[\"doc_id\", \"code\"]].to_csv(path_or_buf=test_pred_file_path, sep=\"\\t\", header=False, index=False)"
   ]
  },
  {
   "cell_type": "code",
   "execution_count": 255,
   "metadata": {},
   "outputs": [
    {
     "name": "stdout",
     "output_type": "stream",
     "text": [
      "\n",
      "MAP estimate: 0.496\n",
      "\n",
      "CPU times: user 19.7 ms, sys: 11.5 ms, total: 31.2 ms\n",
      "Wall time: 1.53 s\n"
     ]
    }
   ],
   "source": [
    "%%time\n",
    "# Manual insert (copy + paste) train pred file name\n",
    "!python ../../resources/CodiEsp-Evaluation-Script/codiespD_P_evaluation.py -g ../../datasets/final_dataset_v4_to_publish/test/testP.tsv -p proc_test_frag_preds.tsv -c ../../resources/CodiEsp-Evaluation-Script/codiesp_codes/codiesp-P_codes.tsv  "
   ]
  },
  {
   "cell_type": "markdown",
   "metadata": {},
   "source": [
    "### BETO-Galén"
   ]
  },
  {
   "cell_type": "markdown",
   "metadata": {},
   "source": [
    "#### All"
   ]
  },
  {
   "cell_type": "code",
   "execution_count": 256,
   "metadata": {},
   "outputs": [],
   "source": [
    "sum_test_preds = beto_galen_doc_preds + beto_galen_1_doc_preds + beto_galen_2_doc_preds + beto_galen_3_doc_preds + beto_galen_4_doc_preds"
   ]
  },
  {
   "cell_type": "code",
   "execution_count": 257,
   "metadata": {},
   "outputs": [
    {
     "data": {
      "text/plain": [
       "(250, 727)"
      ]
     },
     "execution_count": 257,
     "metadata": {},
     "output_type": "execute_result"
    }
   ],
   "source": [
    "sum_test_preds.shape"
   ]
  },
  {
   "cell_type": "code",
   "execution_count": 258,
   "metadata": {},
   "outputs": [
    {
     "name": "stdout",
     "output_type": "stream",
     "text": [
      "CPU times: user 260 ms, sys: 0 ns, total: 260 ms\n",
      "Wall time: 259 ms\n"
     ]
    }
   ],
   "source": [
    "%%time\n",
    "test_pred_df = prob_codiesp_prediction_format(y_pred=sum_test_preds,\n",
    "                                      label_encoder_classes=mlb_encoder.classes_, doc_list=test_doc_list)\n",
    "test_pred_df[[\"doc_id\", \"code\"]].to_csv(path_or_buf=test_pred_file_path, sep=\"\\t\", header=False, index=False)"
   ]
  },
  {
   "cell_type": "code",
   "execution_count": 259,
   "metadata": {},
   "outputs": [
    {
     "name": "stdout",
     "output_type": "stream",
     "text": [
      "\n",
      "MAP estimate: 0.537\n",
      "\n",
      "CPU times: user 14.4 ms, sys: 12.8 ms, total: 27.1 ms\n",
      "Wall time: 1.53 s\n"
     ]
    }
   ],
   "source": [
    "%%time\n",
    "# Manual insert (copy + paste) train pred file name\n",
    "!python ../../resources/CodiEsp-Evaluation-Script/codiespD_P_evaluation.py -g ../../datasets/final_dataset_v4_to_publish/test/testP.tsv -p proc_test_frag_preds.tsv -c ../../resources/CodiEsp-Evaluation-Script/codiesp_codes/codiesp-P_codes.tsv  "
   ]
  },
  {
   "cell_type": "markdown",
   "metadata": {},
   "source": [
    "### XLM-R-Scratch"
   ]
  },
  {
   "cell_type": "markdown",
   "metadata": {},
   "source": [
    "#### All"
   ]
  },
  {
   "cell_type": "code",
   "execution_count": 341,
   "metadata": {},
   "outputs": [],
   "source": [
    "sum_test_preds = xlm_r_doc_preds + xlm_r_1_doc_preds + xlm_r_2_doc_preds + xlm_r_3_doc_preds + xlm_r_4_doc_preds"
   ]
  },
  {
   "cell_type": "code",
   "execution_count": 342,
   "metadata": {},
   "outputs": [
    {
     "data": {
      "text/plain": [
       "(250, 727)"
      ]
     },
     "execution_count": 342,
     "metadata": {},
     "output_type": "execute_result"
    }
   ],
   "source": [
    "sum_test_preds.shape"
   ]
  },
  {
   "cell_type": "code",
   "execution_count": 343,
   "metadata": {},
   "outputs": [
    {
     "name": "stdout",
     "output_type": "stream",
     "text": [
      "CPU times: user 252 ms, sys: 3.66 ms, total: 255 ms\n",
      "Wall time: 255 ms\n"
     ]
    }
   ],
   "source": [
    "%%time\n",
    "test_pred_df = prob_codiesp_prediction_format(y_pred=sum_test_preds,\n",
    "                                      label_encoder_classes=mlb_encoder.classes_, doc_list=test_doc_list)\n",
    "test_pred_df[[\"doc_id\", \"code\"]].to_csv(path_or_buf=test_pred_file_path, sep=\"\\t\", header=False, index=False)"
   ]
  },
  {
   "cell_type": "code",
   "execution_count": 344,
   "metadata": {},
   "outputs": [
    {
     "name": "stdout",
     "output_type": "stream",
     "text": [
      "\n",
      "MAP estimate: 0.501\n",
      "\n",
      "CPU times: user 18.2 ms, sys: 12.4 ms, total: 30.6 ms\n",
      "Wall time: 1.6 s\n"
     ]
    }
   ],
   "source": [
    "%%time\n",
    "# Manual insert (copy + paste) train pred file name\n",
    "!python ../../resources/CodiEsp-Evaluation-Script/codiespD_P_evaluation.py -g ../../datasets/final_dataset_v4_to_publish/test/testP.tsv -p proc_test_frag_preds.tsv -c ../../resources/CodiEsp-Evaluation-Script/codiesp_codes/codiesp-P_codes.tsv  "
   ]
  },
  {
   "cell_type": "markdown",
   "metadata": {},
   "source": [
    "### XLM-R-Galén"
   ]
  },
  {
   "cell_type": "markdown",
   "metadata": {},
   "source": [
    "#### All"
   ]
  },
  {
   "cell_type": "code",
   "execution_count": 333,
   "metadata": {},
   "outputs": [],
   "source": [
    "sum_test_preds = xlm_r_galen_doc_preds + xlm_r_galen_1_doc_preds + xlm_r_galen_2_doc_preds + xlm_r_galen_3_doc_preds + xlm_r_galen_4_doc_preds"
   ]
  },
  {
   "cell_type": "code",
   "execution_count": 334,
   "metadata": {},
   "outputs": [
    {
     "data": {
      "text/plain": [
       "(250, 727)"
      ]
     },
     "execution_count": 334,
     "metadata": {},
     "output_type": "execute_result"
    }
   ],
   "source": [
    "sum_test_preds.shape"
   ]
  },
  {
   "cell_type": "code",
   "execution_count": 335,
   "metadata": {},
   "outputs": [
    {
     "name": "stdout",
     "output_type": "stream",
     "text": [
      "CPU times: user 253 ms, sys: 0 ns, total: 253 ms\n",
      "Wall time: 252 ms\n"
     ]
    }
   ],
   "source": [
    "%%time\n",
    "test_pred_df = prob_codiesp_prediction_format(y_pred=sum_test_preds,\n",
    "                                      label_encoder_classes=mlb_encoder.classes_, doc_list=test_doc_list)\n",
    "test_pred_df[[\"doc_id\", \"code\"]].to_csv(path_or_buf=test_pred_file_path, sep=\"\\t\", header=False, index=False)"
   ]
  },
  {
   "cell_type": "code",
   "execution_count": 336,
   "metadata": {},
   "outputs": [
    {
     "name": "stdout",
     "output_type": "stream",
     "text": [
      "\n",
      "MAP estimate: 0.526\n",
      "\n",
      "CPU times: user 22.7 ms, sys: 12.1 ms, total: 34.9 ms\n",
      "Wall time: 1.6 s\n"
     ]
    }
   ],
   "source": [
    "%%time\n",
    "# Manual insert (copy + paste) train pred file name\n",
    "!python ../../resources/CodiEsp-Evaluation-Script/codiespD_P_evaluation.py -g ../../datasets/final_dataset_v4_to_publish/test/testP.tsv -p proc_test_frag_preds.tsv -c ../../resources/CodiEsp-Evaluation-Script/codiesp_codes/codiesp-P_codes.tsv  "
   ]
  }
 ],
 "metadata": {
  "kernelspec": {
   "display_name": "Python 3",
   "language": "python",
   "name": "python3"
  },
  "language_info": {
   "codemirror_mode": {
    "name": "ipython",
    "version": 3
   },
   "file_extension": ".py",
   "mimetype": "text/x-python",
   "name": "python",
   "nbconvert_exporter": "python",
   "pygments_lexer": "ipython3",
   "version": "3.6.5"
  }
 },
 "nbformat": 4,
 "nbformat_minor": 2
}
