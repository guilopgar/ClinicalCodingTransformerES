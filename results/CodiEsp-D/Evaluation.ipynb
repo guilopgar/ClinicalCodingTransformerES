{
 "cells": [
  {
   "cell_type": "markdown",
   "metadata": {},
   "source": [
    "# Model evaluation\n",
    "\n",
    "In this notebook, the transformer-based models analyzed in this work are evaluated according to their clinical coding performance achieved in the CodiEsp-D task."
   ]
  },
  {
   "cell_type": "code",
   "execution_count": 1,
   "metadata": {},
   "outputs": [],
   "source": [
    "# Auxiliary components\n",
    "import sys\n",
    "sys.path.append(\"../../\")\n",
    "from nlp_utils import *"
   ]
  },
  {
   "cell_type": "code",
   "execution_count": 2,
   "metadata": {},
   "outputs": [],
   "source": [
    "corpus_path = \"../../datasets/codiesp_v4/\"\n",
    "\n",
    "# Both arrays were saved in CodiEsp-D_XLM-R_Fine-Tuning.ipynb\n",
    "test_doc_list = np.load(\"test_docs.npy\")\n",
    "codes = np.load(\"classes.npy\")"
   ]
  },
  {
   "cell_type": "markdown",
   "metadata": {},
   "source": [
    "## Load models predictions\n",
    "\n",
    "We load the coding predictions made by the models at sentence-level, and we further convert them to document-level predictions."
   ]
  },
  {
   "cell_type": "code",
   "execution_count": 3,
   "metadata": {},
   "outputs": [],
   "source": [
    "preds_dir = \"predictions/\"\n",
    "rnd_seeds = list(range(5))"
   ]
  },
  {
   "cell_type": "markdown",
   "metadata": {},
   "source": [
    "### mBERT"
   ]
  },
  {
   "cell_type": "code",
   "execution_count": 4,
   "metadata": {},
   "outputs": [],
   "source": [
    "model_name = \"mbert\"\n",
    "mbert_test_frags = np.load(model_name + \"_test_frags.npy\")\n",
    "mbert_doc_preds = [max_fragment(y_frag_pred=np.load(preds_dir + model_name + \"_seed_\" + str(i) + \"_test_preds.npy\"), \n",
    "                            n_fragments=mbert_test_frags) for i in rnd_seeds]"
   ]
  },
  {
   "cell_type": "markdown",
   "metadata": {},
   "source": [
    "### mBERT-Galén"
   ]
  },
  {
   "cell_type": "code",
   "execution_count": 5,
   "metadata": {},
   "outputs": [],
   "source": [
    "model_name = \"mbert_galen\"\n",
    "mbert_galen_doc_preds = [max_fragment(y_frag_pred=np.load(preds_dir + model_name + \"_seed_\" + str(i) + \"_test_preds.npy\"), \n",
    "                            n_fragments=mbert_test_frags) for i in rnd_seeds]"
   ]
  },
  {
   "cell_type": "markdown",
   "metadata": {},
   "source": [
    "### BETO"
   ]
  },
  {
   "cell_type": "code",
   "execution_count": 6,
   "metadata": {},
   "outputs": [],
   "source": [
    "model_name = \"beto\"\n",
    "beto_test_frags = np.load(model_name + \"_test_frags.npy\")\n",
    "beto_doc_preds = [max_fragment(y_frag_pred=np.load(preds_dir + model_name + \"_seed_\" + str(i) + \"_test_preds.npy\"), \n",
    "                            n_fragments=beto_test_frags) for i in rnd_seeds]"
   ]
  },
  {
   "cell_type": "markdown",
   "metadata": {},
   "source": [
    "### BETO-Galén"
   ]
  },
  {
   "cell_type": "code",
   "execution_count": 7,
   "metadata": {},
   "outputs": [],
   "source": [
    "model_name = \"beto_galen\"\n",
    "beto_galen_doc_preds = [max_fragment(y_frag_pred=np.load(preds_dir + model_name + \"_seed_\" + str(i) + \"_test_preds.npy\"), \n",
    "                            n_fragments=beto_test_frags) for i in rnd_seeds]"
   ]
  },
  {
   "cell_type": "markdown",
   "metadata": {},
   "source": [
    "### XLM-R"
   ]
  },
  {
   "cell_type": "code",
   "execution_count": 8,
   "metadata": {},
   "outputs": [],
   "source": [
    "model_name = \"xlm_r\"\n",
    "xlmr_test_frags = np.load(model_name + \"_test_frags.npy\")\n",
    "xlmr_doc_preds = [max_fragment(y_frag_pred=np.load(preds_dir + model_name + \"_seed_\" + str(i) + \"_test_preds.npy\"), \n",
    "                            n_fragments=xlmr_test_frags) for i in rnd_seeds]"
   ]
  },
  {
   "cell_type": "markdown",
   "metadata": {},
   "source": [
    "### XLM-R-Galén"
   ]
  },
  {
   "cell_type": "code",
   "execution_count": 9,
   "metadata": {},
   "outputs": [],
   "source": [
    "model_name = \"xlm_r_galen\"\n",
    "xlmr_galen_doc_preds = [max_fragment(y_frag_pred=np.load(preds_dir + model_name + \"_seed_\" + str(i) + \"_test_preds.npy\"), \n",
    "                            n_fragments=xlmr_test_frags) for i in rnd_seeds]"
   ]
  },
  {
   "cell_type": "markdown",
   "metadata": {},
   "source": [
    "## MAP\n",
    "\n",
    "Firstly, we evaluate the models according to the main evaluation metric of the task, the Mean Average Precision (MAP) score."
   ]
  },
  {
   "cell_type": "code",
   "execution_count": 10,
   "metadata": {},
   "outputs": [],
   "source": [
    "# Load valid codes\n",
    "codes_path = \"../../resources/codiesp-evaluation-script/codiesp_codes/codiesp-D_codes.tsv\"\n",
    "valid_codes = set(pd.read_csv(codes_path, sep='\\t', header=None, \n",
    "                              usecols=[0])[0].tolist())\n",
    "valid_codes = set([x.lower() for x in valid_codes])\n",
    "\n",
    "# Format Gold Standard (GS) annotations\n",
    "test_gs_path = corpus_path + \"test/testD.tsv\"\n",
    "test_gs_out_path = \"./test_intermediate_gs_file.txt\"\n",
    "format_gs(filepath=test_gs_path, output_path=test_gs_out_path)"
   ]
  },
  {
   "cell_type": "code",
   "execution_count": 11,
   "metadata": {},
   "outputs": [],
   "source": [
    "map_res_dict = {}"
   ]
  },
  {
   "cell_type": "code",
   "execution_count": 12,
   "metadata": {},
   "outputs": [],
   "source": [
    "map_res_dict[\"mBERT\"] = compute_map_avg(doc_preds_arr=mbert_doc_preds, codes_labels=codes, docs=test_doc_list, \n",
    "                                        valid_codes=valid_codes, gs_out_path=test_gs_out_path)"
   ]
  },
  {
   "cell_type": "code",
   "execution_count": 13,
   "metadata": {},
   "outputs": [],
   "source": [
    "map_res_dict[\"mBERT-Galén\"] = compute_map_avg(doc_preds_arr=mbert_galen_doc_preds, codes_labels=codes, docs=test_doc_list, \n",
    "                                              valid_codes=valid_codes, gs_out_path=test_gs_out_path)"
   ]
  },
  {
   "cell_type": "code",
   "execution_count": 14,
   "metadata": {},
   "outputs": [],
   "source": [
    "map_res_dict[\"BETO\"] = compute_map_avg(doc_preds_arr=beto_doc_preds, codes_labels=codes, docs=test_doc_list, \n",
    "                                        valid_codes=valid_codes, gs_out_path=test_gs_out_path)"
   ]
  },
  {
   "cell_type": "code",
   "execution_count": 15,
   "metadata": {},
   "outputs": [],
   "source": [
    "map_res_dict[\"BETO-Galén\"] = compute_map_avg(doc_preds_arr=beto_galen_doc_preds, codes_labels=codes, docs=test_doc_list, \n",
    "                                              valid_codes=valid_codes, gs_out_path=test_gs_out_path)"
   ]
  },
  {
   "cell_type": "code",
   "execution_count": 16,
   "metadata": {},
   "outputs": [],
   "source": [
    "map_res_dict[\"XLM-R\"] = compute_map_avg(doc_preds_arr=xlmr_doc_preds, codes_labels=codes, docs=test_doc_list, \n",
    "                                        valid_codes=valid_codes, gs_out_path=test_gs_out_path)"
   ]
  },
  {
   "cell_type": "code",
   "execution_count": 17,
   "metadata": {},
   "outputs": [],
   "source": [
    "map_res_dict[\"XLM-R-Galén\"] = compute_map_avg(doc_preds_arr=xlmr_galen_doc_preds, codes_labels=codes, docs=test_doc_list, \n",
    "                                              valid_codes=valid_codes, gs_out_path=test_gs_out_path)"
   ]
  },
  {
   "cell_type": "code",
   "execution_count": 18,
   "metadata": {
    "scrolled": true
   },
   "outputs": [
    {
     "data": {
      "text/html": [
       "<div>\n",
       "<style scoped>\n",
       "    .dataframe tbody tr th:only-of-type {\n",
       "        vertical-align: middle;\n",
       "    }\n",
       "\n",
       "    .dataframe tbody tr th {\n",
       "        vertical-align: top;\n",
       "    }\n",
       "\n",
       "    .dataframe thead th {\n",
       "        text-align: right;\n",
       "    }\n",
       "</style>\n",
       "<table border=\"1\" class=\"dataframe\">\n",
       "  <thead>\n",
       "    <tr style=\"text-align: right;\">\n",
       "      <th></th>\n",
       "      <th>MAP</th>\n",
       "      <th>MAP_std</th>\n",
       "      <th>MAP_max</th>\n",
       "    </tr>\n",
       "  </thead>\n",
       "  <tbody>\n",
       "    <tr>\n",
       "      <th>mBERT</th>\n",
       "      <td>0.594</td>\n",
       "      <td>0.005</td>\n",
       "      <td>0.602</td>\n",
       "    </tr>\n",
       "    <tr>\n",
       "      <th>mBERT-Galén</th>\n",
       "      <td>0.609</td>\n",
       "      <td>0.006</td>\n",
       "      <td>0.616</td>\n",
       "    </tr>\n",
       "    <tr>\n",
       "      <th>BETO</th>\n",
       "      <td>0.584</td>\n",
       "      <td>0.002</td>\n",
       "      <td>0.586</td>\n",
       "    </tr>\n",
       "    <tr>\n",
       "      <th>BETO-Galén</th>\n",
       "      <td>0.616</td>\n",
       "      <td>0.002</td>\n",
       "      <td>0.619</td>\n",
       "    </tr>\n",
       "    <tr>\n",
       "      <th>XLM-R</th>\n",
       "      <td>0.595</td>\n",
       "      <td>0.004</td>\n",
       "      <td>0.601</td>\n",
       "    </tr>\n",
       "    <tr>\n",
       "      <th>XLM-R-Galén</th>\n",
       "      <td>0.611</td>\n",
       "      <td>0.003</td>\n",
       "      <td>0.615</td>\n",
       "    </tr>\n",
       "  </tbody>\n",
       "</table>\n",
       "</div>"
      ],
      "text/plain": [
       "               MAP  MAP_std  MAP_max\n",
       "mBERT        0.594    0.005    0.602\n",
       "mBERT-Galén  0.609    0.006    0.616\n",
       "BETO         0.584    0.002    0.586\n",
       "BETO-Galén   0.616    0.002    0.619\n",
       "XLM-R        0.595    0.004    0.601\n",
       "XLM-R-Galén  0.611    0.003    0.615"
      ]
     },
     "execution_count": 18,
     "metadata": {},
     "output_type": "execute_result"
    }
   ],
   "source": [
    "pd.DataFrame(map_res_dict).transpose()"
   ]
  },
  {
   "cell_type": "markdown",
   "metadata": {},
   "source": [
    "### Ensemble"
   ]
  },
  {
   "cell_type": "code",
   "execution_count": 19,
   "metadata": {},
   "outputs": [],
   "source": [
    "map_ens_res_dict = {}"
   ]
  },
  {
   "cell_type": "markdown",
   "metadata": {},
   "source": [
    "#### Single-model"
   ]
  },
  {
   "cell_type": "code",
   "execution_count": 20,
   "metadata": {},
   "outputs": [],
   "source": [
    "map_ens_res_dict[\"mBERT\"] = pd.Series({\"MAP\": round(compute_map(valid_codes=valid_codes, \n",
    "        pred=prob_codiesp_prediction_format(y_pred=sum(mbert_doc_preds), label_encoder_classes=codes, doc_list=test_doc_list),\n",
    "        gs_out_path=test_gs_out_path), 3)})"
   ]
  },
  {
   "cell_type": "code",
   "execution_count": 21,
   "metadata": {},
   "outputs": [],
   "source": [
    "map_ens_res_dict[\"mBERT-Galén\"] = pd.Series({\"MAP\": round(compute_map(valid_codes=valid_codes, \n",
    "        pred=prob_codiesp_prediction_format(y_pred=sum(mbert_galen_doc_preds), label_encoder_classes=codes, \n",
    "                                            doc_list=test_doc_list),\n",
    "        gs_out_path=test_gs_out_path), 3)})"
   ]
  },
  {
   "cell_type": "code",
   "execution_count": 22,
   "metadata": {},
   "outputs": [],
   "source": [
    "map_ens_res_dict[\"BETO\"] = pd.Series({\"MAP\": round(compute_map(valid_codes=valid_codes, \n",
    "        pred=prob_codiesp_prediction_format(y_pred=sum(beto_doc_preds), label_encoder_classes=codes, doc_list=test_doc_list),\n",
    "        gs_out_path=test_gs_out_path), 3)})"
   ]
  },
  {
   "cell_type": "code",
   "execution_count": 23,
   "metadata": {},
   "outputs": [],
   "source": [
    "map_ens_res_dict[\"BETO-Galén\"] = pd.Series({\"MAP\": round(compute_map(valid_codes=valid_codes, \n",
    "        pred=prob_codiesp_prediction_format(y_pred=sum(beto_galen_doc_preds), label_encoder_classes=codes, \n",
    "                                            doc_list=test_doc_list),\n",
    "        gs_out_path=test_gs_out_path), 3)})"
   ]
  },
  {
   "cell_type": "code",
   "execution_count": 24,
   "metadata": {},
   "outputs": [],
   "source": [
    "map_ens_res_dict[\"XLM-R\"] = pd.Series({\"MAP\": round(compute_map(valid_codes=valid_codes, \n",
    "        pred=prob_codiesp_prediction_format(y_pred=sum(xlmr_doc_preds), label_encoder_classes=codes, doc_list=test_doc_list),\n",
    "        gs_out_path=test_gs_out_path), 3)})"
   ]
  },
  {
   "cell_type": "code",
   "execution_count": 25,
   "metadata": {},
   "outputs": [],
   "source": [
    "map_ens_res_dict[\"XLM-R-Galén\"] = pd.Series({\"MAP\": round(compute_map(valid_codes=valid_codes, \n",
    "        pred=prob_codiesp_prediction_format(y_pred=sum(xlmr_galen_doc_preds), label_encoder_classes=codes, \n",
    "                                            doc_list=test_doc_list),\n",
    "        gs_out_path=test_gs_out_path), 3)})"
   ]
  },
  {
   "cell_type": "markdown",
   "metadata": {},
   "source": [
    "#### Multiple-model"
   ]
  },
  {
   "cell_type": "code",
   "execution_count": 26,
   "metadata": {},
   "outputs": [],
   "source": [
    "map_ens_res_dict[\"mBERT + mBERT-Galén\"] = pd.Series({\"MAP\": round(compute_map(valid_codes=valid_codes, \n",
    "        pred=prob_codiesp_prediction_format(y_pred=sum([sum(mbert_doc_preds), sum(mbert_galen_doc_preds)]), \n",
    "                                            label_encoder_classes=codes, doc_list=test_doc_list),\n",
    "        gs_out_path=test_gs_out_path), 3)})"
   ]
  },
  {
   "cell_type": "code",
   "execution_count": 27,
   "metadata": {},
   "outputs": [],
   "source": [
    "map_ens_res_dict[\"BETO + BETO-Galén\"] = pd.Series({\"MAP\": round(compute_map(valid_codes=valid_codes, \n",
    "        pred=prob_codiesp_prediction_format(y_pred=sum([sum(beto_doc_preds), sum(beto_galen_doc_preds)]), \n",
    "                                            label_encoder_classes=codes, doc_list=test_doc_list),\n",
    "        gs_out_path=test_gs_out_path), 3)})"
   ]
  },
  {
   "cell_type": "code",
   "execution_count": 28,
   "metadata": {},
   "outputs": [],
   "source": [
    "map_ens_res_dict[\"XLM-R + XLM-R-Galén\"] = pd.Series({\"MAP\": round(compute_map(valid_codes=valid_codes, \n",
    "        pred=prob_codiesp_prediction_format(y_pred=sum([sum(xlmr_doc_preds), sum(xlmr_galen_doc_preds)]), \n",
    "                                            label_encoder_classes=codes, doc_list=test_doc_list),\n",
    "        gs_out_path=test_gs_out_path), 3)})"
   ]
  },
  {
   "cell_type": "code",
   "execution_count": 29,
   "metadata": {},
   "outputs": [],
   "source": [
    "map_ens_res_dict[\"mBERT + BETO + XLM-R\"] = pd.Series({\"MAP\": round(compute_map(valid_codes=valid_codes, \n",
    "        pred=prob_codiesp_prediction_format(y_pred=sum([sum(mbert_doc_preds), sum(beto_doc_preds), sum(xlmr_doc_preds)]), \n",
    "                                            label_encoder_classes=codes, doc_list=test_doc_list),\n",
    "        gs_out_path=test_gs_out_path), 3)})"
   ]
  },
  {
   "cell_type": "code",
   "execution_count": 30,
   "metadata": {},
   "outputs": [],
   "source": [
    "map_ens_res_dict[\"mBERT-Galén + BETO-Galén + XLM-R-Galén\"] = pd.Series({\"MAP\": round(compute_map(valid_codes=valid_codes, \n",
    "        pred=prob_codiesp_prediction_format(y_pred=sum([sum(mbert_galen_doc_preds), sum(beto_galen_doc_preds), \n",
    "                                                        sum(xlmr_galen_doc_preds)]), \n",
    "                                            label_encoder_classes=codes, doc_list=test_doc_list),\n",
    "        gs_out_path=test_gs_out_path), 3)})"
   ]
  },
  {
   "cell_type": "code",
   "execution_count": 31,
   "metadata": {},
   "outputs": [
    {
     "data": {
      "text/html": [
       "<div>\n",
       "<style scoped>\n",
       "    .dataframe tbody tr th:only-of-type {\n",
       "        vertical-align: middle;\n",
       "    }\n",
       "\n",
       "    .dataframe tbody tr th {\n",
       "        vertical-align: top;\n",
       "    }\n",
       "\n",
       "    .dataframe thead th {\n",
       "        text-align: right;\n",
       "    }\n",
       "</style>\n",
       "<table border=\"1\" class=\"dataframe\">\n",
       "  <thead>\n",
       "    <tr style=\"text-align: right;\">\n",
       "      <th></th>\n",
       "      <th>MAP</th>\n",
       "    </tr>\n",
       "  </thead>\n",
       "  <tbody>\n",
       "    <tr>\n",
       "      <th>mBERT</th>\n",
       "      <td>0.633</td>\n",
       "    </tr>\n",
       "    <tr>\n",
       "      <th>mBERT-Galén</th>\n",
       "      <td>0.640</td>\n",
       "    </tr>\n",
       "    <tr>\n",
       "      <th>BETO</th>\n",
       "      <td>0.625</td>\n",
       "    </tr>\n",
       "    <tr>\n",
       "      <th>BETO-Galén</th>\n",
       "      <td>0.648</td>\n",
       "    </tr>\n",
       "    <tr>\n",
       "      <th>XLM-R</th>\n",
       "      <td>0.629</td>\n",
       "    </tr>\n",
       "    <tr>\n",
       "      <th>XLM-R-Galén</th>\n",
       "      <td>0.645</td>\n",
       "    </tr>\n",
       "    <tr>\n",
       "      <th>mBERT + mBERT-Galén</th>\n",
       "      <td>0.650</td>\n",
       "    </tr>\n",
       "    <tr>\n",
       "      <th>BETO + BETO-Galén</th>\n",
       "      <td>0.649</td>\n",
       "    </tr>\n",
       "    <tr>\n",
       "      <th>XLM-R + XLM-R-Galén</th>\n",
       "      <td>0.651</td>\n",
       "    </tr>\n",
       "    <tr>\n",
       "      <th>mBERT + BETO + XLM-R</th>\n",
       "      <td>0.647</td>\n",
       "    </tr>\n",
       "    <tr>\n",
       "      <th>mBERT-Galén + BETO-Galén + XLM-R-Galén</th>\n",
       "      <td>0.662</td>\n",
       "    </tr>\n",
       "  </tbody>\n",
       "</table>\n",
       "</div>"
      ],
      "text/plain": [
       "                                          MAP\n",
       "mBERT                                   0.633\n",
       "mBERT-Galén                             0.640\n",
       "BETO                                    0.625\n",
       "BETO-Galén                              0.648\n",
       "XLM-R                                   0.629\n",
       "XLM-R-Galén                             0.645\n",
       "mBERT + mBERT-Galén                     0.650\n",
       "BETO + BETO-Galén                       0.649\n",
       "XLM-R + XLM-R-Galén                     0.651\n",
       "mBERT + BETO + XLM-R                    0.647\n",
       "mBERT-Galén + BETO-Galén + XLM-R-Galén  0.662"
      ]
     },
     "execution_count": 31,
     "metadata": {},
     "output_type": "execute_result"
    }
   ],
   "source": [
    "pd.DataFrame(map_ens_res_dict).transpose()"
   ]
  },
  {
   "cell_type": "markdown",
   "metadata": {},
   "source": [
    "## Additional metrics\n",
    "\n",
    "Additionally, we also evaluate the models according to the micro-averaged precision, recall and F1-score. For this purpose, we use binary classification thresholds previously estimated on the development set of the CodiEsp-P corpus."
   ]
  },
  {
   "cell_type": "code",
   "execution_count": 32,
   "metadata": {},
   "outputs": [],
   "source": [
    "add_res_dict = {}"
   ]
  },
  {
   "cell_type": "code",
   "execution_count": 33,
   "metadata": {},
   "outputs": [],
   "source": [
    "test_pred_file_path = \"./test_intermediate_pred_file.txt\""
   ]
  },
  {
   "cell_type": "code",
   "execution_count": 34,
   "metadata": {},
   "outputs": [],
   "source": [
    "mbert_thr = 0.16"
   ]
  },
  {
   "cell_type": "code",
   "execution_count": 35,
   "metadata": {},
   "outputs": [
    {
     "name": "stdout",
     "output_type": "stream",
     "text": [
      "CPU times: user 4.8 s, sys: 20 ms, total: 4.82 s\n",
      "Wall time: 4.82 s\n"
     ]
    }
   ],
   "source": [
    "%%time\n",
    "add_res_dict[\"mBERT\"] = compute_metrics_avg(thr=mbert_thr, doc_preds_arr=mbert_doc_preds, codes_labels=codes, \n",
    "                                            docs=list(test_doc_list), pred_file_path=test_pred_file_path, \n",
    "                                            gs_path=test_gs_path, valid_codes_path=codes_path)"
   ]
  },
  {
   "cell_type": "code",
   "execution_count": 36,
   "metadata": {},
   "outputs": [],
   "source": [
    "mbert_galen_thr = 0.23"
   ]
  },
  {
   "cell_type": "code",
   "execution_count": 37,
   "metadata": {},
   "outputs": [
    {
     "name": "stdout",
     "output_type": "stream",
     "text": [
      "CPU times: user 4.84 s, sys: 8.61 ms, total: 4.84 s\n",
      "Wall time: 4.84 s\n"
     ]
    }
   ],
   "source": [
    "%%time\n",
    "add_res_dict[\"mBERT-Galén\"] = compute_metrics_avg(thr=mbert_galen_thr, doc_preds_arr=mbert_galen_doc_preds, codes_labels=codes, \n",
    "                                            docs=list(test_doc_list), pred_file_path=test_pred_file_path, \n",
    "                                            gs_path=test_gs_path, valid_codes_path=codes_path)"
   ]
  },
  {
   "cell_type": "code",
   "execution_count": 38,
   "metadata": {},
   "outputs": [],
   "source": [
    "beto_thr = 0.19"
   ]
  },
  {
   "cell_type": "code",
   "execution_count": 39,
   "metadata": {},
   "outputs": [
    {
     "name": "stdout",
     "output_type": "stream",
     "text": [
      "CPU times: user 4.78 s, sys: 8.62 ms, total: 4.79 s\n",
      "Wall time: 4.79 s\n"
     ]
    }
   ],
   "source": [
    "%%time\n",
    "add_res_dict[\"BETO\"] = compute_metrics_avg(thr=beto_thr, doc_preds_arr=beto_doc_preds, codes_labels=codes, \n",
    "                                            docs=list(test_doc_list), pred_file_path=test_pred_file_path, \n",
    "                                            gs_path=test_gs_path, valid_codes_path=codes_path)"
   ]
  },
  {
   "cell_type": "code",
   "execution_count": 40,
   "metadata": {},
   "outputs": [],
   "source": [
    "beto_galen_thr = 0.31"
   ]
  },
  {
   "cell_type": "code",
   "execution_count": 41,
   "metadata": {},
   "outputs": [
    {
     "name": "stdout",
     "output_type": "stream",
     "text": [
      "CPU times: user 4.8 s, sys: 11.5 ms, total: 4.82 s\n",
      "Wall time: 4.82 s\n"
     ]
    }
   ],
   "source": [
    "%%time\n",
    "add_res_dict[\"BETO-Galén\"] = compute_metrics_avg(thr=beto_galen_thr, doc_preds_arr=beto_galen_doc_preds, codes_labels=codes, \n",
    "                                            docs=list(test_doc_list), pred_file_path=test_pred_file_path, \n",
    "                                            gs_path=test_gs_path, valid_codes_path=codes_path)"
   ]
  },
  {
   "cell_type": "code",
   "execution_count": 42,
   "metadata": {},
   "outputs": [],
   "source": [
    "xlmr_thr = 0.16"
   ]
  },
  {
   "cell_type": "code",
   "execution_count": 43,
   "metadata": {},
   "outputs": [
    {
     "name": "stdout",
     "output_type": "stream",
     "text": [
      "CPU times: user 4.85 s, sys: 18.5 ms, total: 4.86 s\n",
      "Wall time: 4.85 s\n"
     ]
    }
   ],
   "source": [
    "%%time\n",
    "add_res_dict[\"XLM-R\"] = compute_metrics_avg(thr=xlmr_thr, doc_preds_arr=xlmr_doc_preds, codes_labels=codes, \n",
    "                                            docs=list(test_doc_list), pred_file_path=test_pred_file_path, \n",
    "                                            gs_path=test_gs_path, valid_codes_path=codes_path)"
   ]
  },
  {
   "cell_type": "code",
   "execution_count": 44,
   "metadata": {},
   "outputs": [],
   "source": [
    "xlmr_galen_thr = 0.27"
   ]
  },
  {
   "cell_type": "code",
   "execution_count": 45,
   "metadata": {},
   "outputs": [
    {
     "name": "stdout",
     "output_type": "stream",
     "text": [
      "CPU times: user 4.82 s, sys: 12.2 ms, total: 4.83 s\n",
      "Wall time: 4.83 s\n"
     ]
    }
   ],
   "source": [
    "%%time\n",
    "add_res_dict[\"XLM-R-Galén\"] = compute_metrics_avg(thr=xlmr_galen_thr, doc_preds_arr=xlmr_galen_doc_preds, codes_labels=codes, \n",
    "                                            docs=list(test_doc_list), pred_file_path=test_pred_file_path, \n",
    "                                            gs_path=test_gs_path, valid_codes_path=codes_path)"
   ]
  },
  {
   "cell_type": "code",
   "execution_count": 47,
   "metadata": {},
   "outputs": [
    {
     "data": {
      "text/html": [
       "<div>\n",
       "<style scoped>\n",
       "    .dataframe tbody tr th:only-of-type {\n",
       "        vertical-align: middle;\n",
       "    }\n",
       "\n",
       "    .dataframe tbody tr th {\n",
       "        vertical-align: top;\n",
       "    }\n",
       "\n",
       "    .dataframe thead th {\n",
       "        text-align: right;\n",
       "    }\n",
       "</style>\n",
       "<table border=\"1\" class=\"dataframe\">\n",
       "  <thead>\n",
       "    <tr style=\"text-align: right;\">\n",
       "      <th></th>\n",
       "      <th>P</th>\n",
       "      <th>P_std</th>\n",
       "      <th>P_max</th>\n",
       "      <th>R</th>\n",
       "      <th>R_std</th>\n",
       "      <th>R_max</th>\n",
       "      <th>F1</th>\n",
       "      <th>F1_std</th>\n",
       "      <th>F1_max</th>\n",
       "    </tr>\n",
       "  </thead>\n",
       "  <tbody>\n",
       "    <tr>\n",
       "      <th>mBERT</th>\n",
       "      <td>0.685</td>\n",
       "      <td>0.010</td>\n",
       "      <td>0.692</td>\n",
       "      <td>0.576</td>\n",
       "      <td>0.007</td>\n",
       "      <td>0.586</td>\n",
       "      <td>0.626</td>\n",
       "      <td>0.004</td>\n",
       "      <td>0.634</td>\n",
       "    </tr>\n",
       "    <tr>\n",
       "      <th>mBERT-Galén</th>\n",
       "      <td>0.719</td>\n",
       "      <td>0.017</td>\n",
       "      <td>0.742</td>\n",
       "      <td>0.565</td>\n",
       "      <td>0.009</td>\n",
       "      <td>0.577</td>\n",
       "      <td>0.633</td>\n",
       "      <td>0.010</td>\n",
       "      <td>0.646</td>\n",
       "    </tr>\n",
       "    <tr>\n",
       "      <th>BETO</th>\n",
       "      <td>0.696</td>\n",
       "      <td>0.014</td>\n",
       "      <td>0.717</td>\n",
       "      <td>0.553</td>\n",
       "      <td>0.007</td>\n",
       "      <td>0.561</td>\n",
       "      <td>0.616</td>\n",
       "      <td>0.003</td>\n",
       "      <td>0.621</td>\n",
       "    </tr>\n",
       "    <tr>\n",
       "      <th>BETO-Galén</th>\n",
       "      <td>0.754</td>\n",
       "      <td>0.011</td>\n",
       "      <td>0.766</td>\n",
       "      <td>0.559</td>\n",
       "      <td>0.007</td>\n",
       "      <td>0.569</td>\n",
       "      <td>0.642</td>\n",
       "      <td>0.003</td>\n",
       "      <td>0.646</td>\n",
       "    </tr>\n",
       "    <tr>\n",
       "      <th>XLM-R</th>\n",
       "      <td>0.666</td>\n",
       "      <td>0.023</td>\n",
       "      <td>0.691</td>\n",
       "      <td>0.582</td>\n",
       "      <td>0.006</td>\n",
       "      <td>0.594</td>\n",
       "      <td>0.620</td>\n",
       "      <td>0.012</td>\n",
       "      <td>0.635</td>\n",
       "    </tr>\n",
       "    <tr>\n",
       "      <th>XLM-R-Galén</th>\n",
       "      <td>0.710</td>\n",
       "      <td>0.013</td>\n",
       "      <td>0.726</td>\n",
       "      <td>0.574</td>\n",
       "      <td>0.007</td>\n",
       "      <td>0.583</td>\n",
       "      <td>0.635</td>\n",
       "      <td>0.007</td>\n",
       "      <td>0.642</td>\n",
       "    </tr>\n",
       "  </tbody>\n",
       "</table>\n",
       "</div>"
      ],
      "text/plain": [
       "                 P  P_std  P_max      R  R_std  R_max     F1  F1_std  F1_max\n",
       "mBERT        0.685  0.010  0.692  0.576  0.007  0.586  0.626   0.004   0.634\n",
       "mBERT-Galén  0.719  0.017  0.742  0.565  0.009  0.577  0.633   0.010   0.646\n",
       "BETO         0.696  0.014  0.717  0.553  0.007  0.561  0.616   0.003   0.621\n",
       "BETO-Galén   0.754  0.011  0.766  0.559  0.007  0.569  0.642   0.003   0.646\n",
       "XLM-R        0.666  0.023  0.691  0.582  0.006  0.594  0.620   0.012   0.635\n",
       "XLM-R-Galén  0.710  0.013  0.726  0.574  0.007  0.583  0.635   0.007   0.642"
      ]
     },
     "execution_count": 47,
     "metadata": {},
     "output_type": "execute_result"
    }
   ],
   "source": [
    "pd.DataFrame(add_res_dict).transpose()"
   ]
  },
  {
   "cell_type": "markdown",
   "metadata": {},
   "source": [
    "### Ensemble"
   ]
  },
  {
   "cell_type": "code",
   "execution_count": 48,
   "metadata": {},
   "outputs": [],
   "source": [
    "add_ens_res_dict = {}"
   ]
  },
  {
   "cell_type": "markdown",
   "metadata": {},
   "source": [
    "#### Single-model"
   ]
  },
  {
   "cell_type": "code",
   "execution_count": 49,
   "metadata": {},
   "outputs": [],
   "source": [
    "df_test_pred = thr_codiesp_prediction_format(y_pred=sum(mbert_doc_preds)/len(rnd_seeds), label_encoder_classes=codes, \n",
    "                                             doc_list=test_doc_list, thr=mbert_thr)\n",
    "df_test_pred[[\"doc_id\", \"code\"]].to_csv(path_or_buf=test_pred_file_path, sep=\"\\t\", header=False, index=False)\n",
    "p, r, f1 = compute_p_r_f1(gs_path=test_gs_path, pred_path=test_pred_file_path, codes_path=codes_path)\n",
    "add_ens_res_dict[\"mBERT\"] = pd.Series({\"P\": p, \"R\": r, \"F1\": f1})"
   ]
  },
  {
   "cell_type": "code",
   "execution_count": 50,
   "metadata": {},
   "outputs": [],
   "source": [
    "df_test_pred = thr_codiesp_prediction_format(y_pred=sum(mbert_galen_doc_preds)/len(rnd_seeds), label_encoder_classes=codes, \n",
    "                                             doc_list=test_doc_list, thr=mbert_galen_thr)\n",
    "df_test_pred[[\"doc_id\", \"code\"]].to_csv(path_or_buf=test_pred_file_path, sep=\"\\t\", header=False, index=False)\n",
    "p, r, f1 = compute_p_r_f1(gs_path=test_gs_path, pred_path=test_pred_file_path, codes_path=codes_path)\n",
    "add_ens_res_dict[\"mBERT-Galén\"] = pd.Series({\"P\": p, \"R\": r, \"F1\": f1})"
   ]
  },
  {
   "cell_type": "code",
   "execution_count": 51,
   "metadata": {},
   "outputs": [],
   "source": [
    "df_test_pred = thr_codiesp_prediction_format(y_pred=sum(beto_doc_preds)/len(rnd_seeds), label_encoder_classes=codes, \n",
    "                                             doc_list=test_doc_list, thr=beto_thr)\n",
    "df_test_pred[[\"doc_id\", \"code\"]].to_csv(path_or_buf=test_pred_file_path, sep=\"\\t\", header=False, index=False)\n",
    "p, r, f1 = compute_p_r_f1(gs_path=test_gs_path, pred_path=test_pred_file_path, codes_path=codes_path)\n",
    "add_ens_res_dict[\"BETO\"] = pd.Series({\"P\": p, \"R\": r, \"F1\": f1})"
   ]
  },
  {
   "cell_type": "code",
   "execution_count": 52,
   "metadata": {},
   "outputs": [],
   "source": [
    "df_test_pred = thr_codiesp_prediction_format(y_pred=sum(beto_galen_doc_preds)/len(rnd_seeds), label_encoder_classes=codes, \n",
    "                                             doc_list=test_doc_list, thr=beto_galen_thr)\n",
    "df_test_pred[[\"doc_id\", \"code\"]].to_csv(path_or_buf=test_pred_file_path, sep=\"\\t\", header=False, index=False)\n",
    "p, r, f1 = compute_p_r_f1(gs_path=test_gs_path, pred_path=test_pred_file_path, codes_path=codes_path)\n",
    "add_ens_res_dict[\"BETO-Galén\"] = pd.Series({\"P\": p, \"R\": r, \"F1\": f1})"
   ]
  },
  {
   "cell_type": "code",
   "execution_count": 53,
   "metadata": {},
   "outputs": [],
   "source": [
    "df_test_pred = thr_codiesp_prediction_format(y_pred=sum(xlmr_doc_preds)/len(rnd_seeds), label_encoder_classes=codes, \n",
    "                                             doc_list=test_doc_list, thr=xlmr_thr)\n",
    "df_test_pred[[\"doc_id\", \"code\"]].to_csv(path_or_buf=test_pred_file_path, sep=\"\\t\", header=False, index=False)\n",
    "p, r, f1 = compute_p_r_f1(gs_path=test_gs_path, pred_path=test_pred_file_path, codes_path=codes_path)\n",
    "add_ens_res_dict[\"XLM-R\"] = pd.Series({\"P\": p, \"R\": r, \"F1\": f1})"
   ]
  },
  {
   "cell_type": "code",
   "execution_count": 54,
   "metadata": {},
   "outputs": [],
   "source": [
    "df_test_pred = thr_codiesp_prediction_format(y_pred=sum(xlmr_galen_doc_preds)/len(rnd_seeds), label_encoder_classes=codes, \n",
    "                                             doc_list=test_doc_list, thr=xlmr_galen_thr)\n",
    "df_test_pred[[\"doc_id\", \"code\"]].to_csv(path_or_buf=test_pred_file_path, sep=\"\\t\", header=False, index=False)\n",
    "p, r, f1 = compute_p_r_f1(gs_path=test_gs_path, pred_path=test_pred_file_path, codes_path=codes_path)\n",
    "add_ens_res_dict[\"XLM-R-Galén\"] = pd.Series({\"P\": p, \"R\": r, \"F1\": f1})"
   ]
  },
  {
   "cell_type": "markdown",
   "metadata": {},
   "source": [
    "#### Multiple-model"
   ]
  },
  {
   "cell_type": "code",
   "execution_count": 55,
   "metadata": {},
   "outputs": [],
   "source": [
    "df_test_pred = thr_codiesp_prediction_format(y_pred=sum([sum(mbert_doc_preds), sum(mbert_galen_doc_preds)])/(len(rnd_seeds)*2), \n",
    "                                             label_encoder_classes=codes, doc_list=test_doc_list, \n",
    "                                             thr=(mbert_thr + mbert_galen_thr)/2)\n",
    "df_test_pred[[\"doc_id\", \"code\"]].to_csv(path_or_buf=test_pred_file_path, sep=\"\\t\", header=False, index=False)\n",
    "p, r, f1 = compute_p_r_f1(gs_path=test_gs_path, pred_path=test_pred_file_path, codes_path=codes_path)\n",
    "add_ens_res_dict[\"mBERT + mBERT-Galén\"] = pd.Series({\"P\": p, \"R\": r, \"F1\": f1})"
   ]
  },
  {
   "cell_type": "code",
   "execution_count": 56,
   "metadata": {},
   "outputs": [],
   "source": [
    "df_test_pred = thr_codiesp_prediction_format(y_pred=sum([sum(beto_doc_preds), sum(beto_galen_doc_preds)])/(len(rnd_seeds)*2), \n",
    "                                             label_encoder_classes=codes, doc_list=test_doc_list, \n",
    "                                             thr=(beto_thr + beto_galen_thr)/2)\n",
    "df_test_pred[[\"doc_id\", \"code\"]].to_csv(path_or_buf=test_pred_file_path, sep=\"\\t\", header=False, index=False)\n",
    "p, r, f1 = compute_p_r_f1(gs_path=test_gs_path, pred_path=test_pred_file_path, codes_path=codes_path)\n",
    "add_ens_res_dict[\"BETO + BETO-Galén\"] = pd.Series({\"P\": p, \"R\": r, \"F1\": f1})"
   ]
  },
  {
   "cell_type": "code",
   "execution_count": 57,
   "metadata": {},
   "outputs": [],
   "source": [
    "df_test_pred = thr_codiesp_prediction_format(y_pred=sum([sum(xlmr_doc_preds), sum(xlmr_galen_doc_preds)])/(len(rnd_seeds)*2), \n",
    "                                             label_encoder_classes=codes, doc_list=test_doc_list, \n",
    "                                             thr=(xlmr_thr + xlmr_galen_thr)/2)\n",
    "df_test_pred[[\"doc_id\", \"code\"]].to_csv(path_or_buf=test_pred_file_path, sep=\"\\t\", header=False, index=False)\n",
    "p, r, f1 = compute_p_r_f1(gs_path=test_gs_path, pred_path=test_pred_file_path, codes_path=codes_path)\n",
    "add_ens_res_dict[\"XLM-R + XLM-R-Galén\"] = pd.Series({\"P\": p, \"R\": r, \"F1\": f1})"
   ]
  },
  {
   "cell_type": "code",
   "execution_count": 58,
   "metadata": {},
   "outputs": [],
   "source": [
    "df_test_pred = thr_codiesp_prediction_format(y_pred=sum([sum(mbert_doc_preds), sum(beto_doc_preds), \n",
    "                                                         sum(xlmr_doc_preds)])/(len(rnd_seeds)*3), \n",
    "                                             label_encoder_classes=codes, doc_list=test_doc_list, \n",
    "                                             thr=(mbert_thr + beto_thr + xlmr_thr)/3)\n",
    "df_test_pred[[\"doc_id\", \"code\"]].to_csv(path_or_buf=test_pred_file_path, sep=\"\\t\", header=False, index=False)\n",
    "p, r, f1 = compute_p_r_f1(gs_path=test_gs_path, pred_path=test_pred_file_path, codes_path=codes_path)\n",
    "add_ens_res_dict[\"mBERT + BETO + XLM-R\"] = pd.Series({\"P\": p, \"R\": r, \"F1\": f1})"
   ]
  },
  {
   "cell_type": "code",
   "execution_count": 59,
   "metadata": {},
   "outputs": [],
   "source": [
    "df_test_pred = thr_codiesp_prediction_format(y_pred=sum([sum(mbert_galen_doc_preds), sum(beto_galen_doc_preds), \n",
    "                                                         sum(xlmr_galen_doc_preds)])/(len(rnd_seeds)*3), \n",
    "                                             label_encoder_classes=codes, doc_list=test_doc_list, \n",
    "                                             thr=(mbert_galen_thr + beto_galen_thr + xlmr_galen_thr)/3)\n",
    "df_test_pred[[\"doc_id\", \"code\"]].to_csv(path_or_buf=test_pred_file_path, sep=\"\\t\", header=False, index=False)\n",
    "p, r, f1 = compute_p_r_f1(gs_path=test_gs_path, pred_path=test_pred_file_path, codes_path=codes_path)\n",
    "add_ens_res_dict[\"mBERT-Galén + BETO-Galén + XLM-R-Galén\"] = pd.Series({\"P\": p, \"R\": r, \"F1\": f1})"
   ]
  },
  {
   "cell_type": "code",
   "execution_count": 60,
   "metadata": {},
   "outputs": [
    {
     "data": {
      "text/html": [
       "<div>\n",
       "<style scoped>\n",
       "    .dataframe tbody tr th:only-of-type {\n",
       "        vertical-align: middle;\n",
       "    }\n",
       "\n",
       "    .dataframe tbody tr th {\n",
       "        vertical-align: top;\n",
       "    }\n",
       "\n",
       "    .dataframe thead th {\n",
       "        text-align: right;\n",
       "    }\n",
       "</style>\n",
       "<table border=\"1\" class=\"dataframe\">\n",
       "  <thead>\n",
       "    <tr style=\"text-align: right;\">\n",
       "      <th></th>\n",
       "      <th>P</th>\n",
       "      <th>R</th>\n",
       "      <th>F1</th>\n",
       "    </tr>\n",
       "  </thead>\n",
       "  <tbody>\n",
       "    <tr>\n",
       "      <th>mBERT</th>\n",
       "      <td>0.673</td>\n",
       "      <td>0.622</td>\n",
       "      <td>0.647</td>\n",
       "    </tr>\n",
       "    <tr>\n",
       "      <th>mBERT-Galén</th>\n",
       "      <td>0.732</td>\n",
       "      <td>0.600</td>\n",
       "      <td>0.659</td>\n",
       "    </tr>\n",
       "    <tr>\n",
       "      <th>BETO</th>\n",
       "      <td>0.703</td>\n",
       "      <td>0.595</td>\n",
       "      <td>0.645</td>\n",
       "    </tr>\n",
       "    <tr>\n",
       "      <th>BETO-Galén</th>\n",
       "      <td>0.781</td>\n",
       "      <td>0.588</td>\n",
       "      <td>0.671</td>\n",
       "    </tr>\n",
       "    <tr>\n",
       "      <th>XLM-R</th>\n",
       "      <td>0.649</td>\n",
       "      <td>0.627</td>\n",
       "      <td>0.638</td>\n",
       "    </tr>\n",
       "    <tr>\n",
       "      <th>XLM-R-Galén</th>\n",
       "      <td>0.732</td>\n",
       "      <td>0.603</td>\n",
       "      <td>0.662</td>\n",
       "    </tr>\n",
       "    <tr>\n",
       "      <th>mBERT + mBERT-Galén</th>\n",
       "      <td>0.720</td>\n",
       "      <td>0.619</td>\n",
       "      <td>0.665</td>\n",
       "    </tr>\n",
       "    <tr>\n",
       "      <th>BETO + BETO-Galén</th>\n",
       "      <td>0.766</td>\n",
       "      <td>0.599</td>\n",
       "      <td>0.672</td>\n",
       "    </tr>\n",
       "    <tr>\n",
       "      <th>XLM-R + XLM-R-Galén</th>\n",
       "      <td>0.717</td>\n",
       "      <td>0.626</td>\n",
       "      <td>0.669</td>\n",
       "    </tr>\n",
       "    <tr>\n",
       "      <th>mBERT + BETO + XLM-R</th>\n",
       "      <td>0.703</td>\n",
       "      <td>0.624</td>\n",
       "      <td>0.661</td>\n",
       "    </tr>\n",
       "    <tr>\n",
       "      <th>mBERT-Galén + BETO-Galén + XLM-R-Galén</th>\n",
       "      <td>0.763</td>\n",
       "      <td>0.608</td>\n",
       "      <td>0.677</td>\n",
       "    </tr>\n",
       "  </tbody>\n",
       "</table>\n",
       "</div>"
      ],
      "text/plain": [
       "                                            P      R     F1\n",
       "mBERT                                   0.673  0.622  0.647\n",
       "mBERT-Galén                             0.732  0.600  0.659\n",
       "BETO                                    0.703  0.595  0.645\n",
       "BETO-Galén                              0.781  0.588  0.671\n",
       "XLM-R                                   0.649  0.627  0.638\n",
       "XLM-R-Galén                             0.732  0.603  0.662\n",
       "mBERT + mBERT-Galén                     0.720  0.619  0.665\n",
       "BETO + BETO-Galén                       0.766  0.599  0.672\n",
       "XLM-R + XLM-R-Galén                     0.717  0.626  0.669\n",
       "mBERT + BETO + XLM-R                    0.703  0.624  0.661\n",
       "mBERT-Galén + BETO-Galén + XLM-R-Galén  0.763  0.608  0.677"
      ]
     },
     "execution_count": 60,
     "metadata": {},
     "output_type": "execute_result"
    }
   ],
   "source": [
    "pd.DataFrame(add_ens_res_dict).transpose()"
   ]
  }
 ],
 "metadata": {
  "kernelspec": {
   "display_name": "Python 3",
   "language": "python",
   "name": "python3"
  },
  "language_info": {
   "codemirror_mode": {
    "name": "ipython",
    "version": 3
   },
   "file_extension": ".py",
   "mimetype": "text/x-python",
   "name": "python",
   "nbconvert_exporter": "python",
   "pygments_lexer": "ipython3",
   "version": "3.6.5"
  }
 },
 "nbformat": 4,
 "nbformat_minor": 2
}
