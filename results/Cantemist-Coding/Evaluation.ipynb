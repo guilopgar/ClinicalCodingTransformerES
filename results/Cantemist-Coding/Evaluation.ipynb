{
 "cells": [
  {
   "cell_type": "markdown",
   "metadata": {},
   "source": [
    "# Model evaluation\n",
    "\n",
    "In this notebook, the transformer-based models analyzed in this work are evaluated according to their clinical coding performance achieved in the Cantemist-Coding task."
   ]
  },
  {
   "cell_type": "code",
   "execution_count": 1,
   "metadata": {},
   "outputs": [],
   "source": [
    "# Auxiliary components\n",
    "import sys\n",
    "sys.path.append(\"../../\")\n",
    "from nlp_utils import *"
   ]
  },
  {
   "cell_type": "code",
   "execution_count": 2,
   "metadata": {},
   "outputs": [],
   "source": [
    "corpus_path = \"../../datasets/cantemist_v6/\"\n",
    "sub_task_path = \"cantemist-coding/\"\n",
    "\n",
    "# Both arrays were saved in Cantemist-Coding_XLM-R_Fine-Tuning.ipynb\n",
    "test_doc_list = np.load(\"test_docs.npy\")\n",
    "codes = np.load(\"classes.npy\")"
   ]
  },
  {
   "cell_type": "markdown",
   "metadata": {},
   "source": [
    "## Load models predictions\n",
    "\n",
    "We load the coding predictions made by the models at sentence-level, and we further convert them to document-level predictions."
   ]
  },
  {
   "cell_type": "code",
   "execution_count": 3,
   "metadata": {},
   "outputs": [],
   "source": [
    "preds_dir = \"predictions/\"\n",
    "rnd_seeds = list(range(5))"
   ]
  },
  {
   "cell_type": "markdown",
   "metadata": {},
   "source": [
    "### mBERT"
   ]
  },
  {
   "cell_type": "code",
   "execution_count": 4,
   "metadata": {},
   "outputs": [],
   "source": [
    "model_name = \"mbert\"\n",
    "mbert_test_frags = np.load(model_name + \"_test_frags.npy\")\n",
    "mbert_doc_preds = [max_fragment(y_frag_pred=np.load(preds_dir + model_name + \"_seed_\" + str(i) + \"_test_preds.npy\"), \n",
    "                            n_fragments=mbert_test_frags) for i in rnd_seeds]"
   ]
  },
  {
   "cell_type": "markdown",
   "metadata": {},
   "source": [
    "### mBERT-Galén"
   ]
  },
  {
   "cell_type": "code",
   "execution_count": 5,
   "metadata": {},
   "outputs": [],
   "source": [
    "model_name = \"mbert_galen\"\n",
    "mbert_galen_doc_preds = [max_fragment(y_frag_pred=np.load(preds_dir + model_name + \"_seed_\" + str(i) + \"_test_preds.npy\"), \n",
    "                            n_fragments=mbert_test_frags) for i in rnd_seeds]"
   ]
  },
  {
   "cell_type": "markdown",
   "metadata": {},
   "source": [
    "### BETO"
   ]
  },
  {
   "cell_type": "code",
   "execution_count": 6,
   "metadata": {},
   "outputs": [],
   "source": [
    "model_name = \"beto\"\n",
    "beto_test_frags = np.load(model_name + \"_test_frags.npy\")\n",
    "beto_doc_preds = [max_fragment(y_frag_pred=np.load(preds_dir + model_name + \"_seed_\" + str(i) + \"_test_preds.npy\"), \n",
    "                            n_fragments=beto_test_frags) for i in rnd_seeds]"
   ]
  },
  {
   "cell_type": "markdown",
   "metadata": {},
   "source": [
    "### BETO-Galén"
   ]
  },
  {
   "cell_type": "code",
   "execution_count": 7,
   "metadata": {},
   "outputs": [],
   "source": [
    "model_name = \"beto_galen\"\n",
    "beto_galen_doc_preds = [max_fragment(y_frag_pred=np.load(preds_dir + model_name + \"_seed_\" + str(i) + \"_test_preds.npy\"), \n",
    "                            n_fragments=beto_test_frags) for i in rnd_seeds]"
   ]
  },
  {
   "cell_type": "markdown",
   "metadata": {},
   "source": [
    "### XLM-R"
   ]
  },
  {
   "cell_type": "code",
   "execution_count": 8,
   "metadata": {},
   "outputs": [],
   "source": [
    "model_name = \"xlm_r\"\n",
    "xlmr_test_frags = np.load(model_name + \"_test_frags.npy\")\n",
    "xlmr_doc_preds = [max_fragment(y_frag_pred=np.load(preds_dir + model_name + \"_seed_\" + str(i) + \"_test_preds.npy\"), \n",
    "                            n_fragments=xlmr_test_frags) for i in rnd_seeds]"
   ]
  },
  {
   "cell_type": "markdown",
   "metadata": {},
   "source": [
    "### XLM-R-Galén"
   ]
  },
  {
   "cell_type": "code",
   "execution_count": 9,
   "metadata": {},
   "outputs": [],
   "source": [
    "model_name = \"xlm_r_galen\"\n",
    "xlmr_galen_doc_preds = [max_fragment(y_frag_pred=np.load(preds_dir + model_name + \"_seed_\" + str(i) + \"_test_preds.npy\"), \n",
    "                            n_fragments=xlmr_test_frags) for i in rnd_seeds]"
   ]
  },
  {
   "cell_type": "markdown",
   "metadata": {},
   "source": [
    "## MAP\n",
    "\n",
    "Firstly, we evaluate the models according to the main evaluation metric of the task, the Mean Average Precision (MAP) score."
   ]
  },
  {
   "cell_type": "code",
   "execution_count": 10,
   "metadata": {},
   "outputs": [],
   "source": [
    "# Load valid codes\n",
    "codes_path = \"../../resources/cantemist-evaluation-library/valid-codes.tsv\"\n",
    "valid_codes = set(pd.read_csv(codes_path, sep='\\t', header=None, \n",
    "                              usecols=[0])[0].tolist())\n",
    "valid_codes = set([x.lower() for x in valid_codes])\n",
    "\n",
    "# Format Gold Standard (GS) annotations\n",
    "test_gs_path = corpus_path + \"test-set/\" + sub_task_path + \"test-coding.tsv\"\n",
    "test_gs_out_path = \"./test_intermediate_gs_file.txt\"\n",
    "format_gs(filepath=test_gs_path, output_path=test_gs_out_path)"
   ]
  },
  {
   "cell_type": "code",
   "execution_count": 11,
   "metadata": {},
   "outputs": [],
   "source": [
    "map_res_dict = {}"
   ]
  },
  {
   "cell_type": "code",
   "execution_count": 12,
   "metadata": {},
   "outputs": [],
   "source": [
    "map_res_dict[\"mBERT\"] = compute_map_avg(doc_preds_arr=mbert_doc_preds, codes_labels=codes, docs=test_doc_list, \n",
    "                                        valid_codes=valid_codes, gs_out_path=test_gs_out_path)"
   ]
  },
  {
   "cell_type": "code",
   "execution_count": 13,
   "metadata": {},
   "outputs": [],
   "source": [
    "map_res_dict[\"mBERT-Galén\"] = compute_map_avg(doc_preds_arr=mbert_galen_doc_preds, codes_labels=codes, docs=test_doc_list, \n",
    "                                              valid_codes=valid_codes, gs_out_path=test_gs_out_path)"
   ]
  },
  {
   "cell_type": "code",
   "execution_count": 14,
   "metadata": {},
   "outputs": [],
   "source": [
    "map_res_dict[\"BETO\"] = compute_map_avg(doc_preds_arr=beto_doc_preds, codes_labels=codes, docs=test_doc_list, \n",
    "                                        valid_codes=valid_codes, gs_out_path=test_gs_out_path)"
   ]
  },
  {
   "cell_type": "code",
   "execution_count": 15,
   "metadata": {},
   "outputs": [],
   "source": [
    "map_res_dict[\"BETO-Galén\"] = compute_map_avg(doc_preds_arr=beto_galen_doc_preds, codes_labels=codes, docs=test_doc_list, \n",
    "                                              valid_codes=valid_codes, gs_out_path=test_gs_out_path)"
   ]
  },
  {
   "cell_type": "code",
   "execution_count": 16,
   "metadata": {},
   "outputs": [],
   "source": [
    "map_res_dict[\"XLM-R\"] = compute_map_avg(doc_preds_arr=xlmr_doc_preds, codes_labels=codes, docs=test_doc_list, \n",
    "                                        valid_codes=valid_codes, gs_out_path=test_gs_out_path)"
   ]
  },
  {
   "cell_type": "code",
   "execution_count": 17,
   "metadata": {},
   "outputs": [],
   "source": [
    "map_res_dict[\"XLM-R-Galén\"] = compute_map_avg(doc_preds_arr=xlmr_galen_doc_preds, codes_labels=codes, docs=test_doc_list, \n",
    "                                              valid_codes=valid_codes, gs_out_path=test_gs_out_path)"
   ]
  },
  {
   "cell_type": "code",
   "execution_count": 18,
   "metadata": {
    "scrolled": true
   },
   "outputs": [
    {
     "data": {
      "text/html": [
       "<div>\n",
       "<style scoped>\n",
       "    .dataframe tbody tr th:only-of-type {\n",
       "        vertical-align: middle;\n",
       "    }\n",
       "\n",
       "    .dataframe tbody tr th {\n",
       "        vertical-align: top;\n",
       "    }\n",
       "\n",
       "    .dataframe thead th {\n",
       "        text-align: right;\n",
       "    }\n",
       "</style>\n",
       "<table border=\"1\" class=\"dataframe\">\n",
       "  <thead>\n",
       "    <tr style=\"text-align: right;\">\n",
       "      <th></th>\n",
       "      <th>MAP</th>\n",
       "      <th>MAP_std</th>\n",
       "      <th>MAP_max</th>\n",
       "    </tr>\n",
       "  </thead>\n",
       "  <tbody>\n",
       "    <tr>\n",
       "      <th>mBERT</th>\n",
       "      <td>0.834</td>\n",
       "      <td>0.004</td>\n",
       "      <td>0.838</td>\n",
       "    </tr>\n",
       "    <tr>\n",
       "      <th>mBERT-Galén</th>\n",
       "      <td>0.858</td>\n",
       "      <td>0.002</td>\n",
       "      <td>0.860</td>\n",
       "    </tr>\n",
       "    <tr>\n",
       "      <th>BETO</th>\n",
       "      <td>0.818</td>\n",
       "      <td>0.005</td>\n",
       "      <td>0.824</td>\n",
       "    </tr>\n",
       "    <tr>\n",
       "      <th>BETO-Galén</th>\n",
       "      <td>0.862</td>\n",
       "      <td>0.001</td>\n",
       "      <td>0.864</td>\n",
       "    </tr>\n",
       "    <tr>\n",
       "      <th>XLM-R</th>\n",
       "      <td>0.836</td>\n",
       "      <td>0.004</td>\n",
       "      <td>0.841</td>\n",
       "    </tr>\n",
       "    <tr>\n",
       "      <th>XLM-R-Galén</th>\n",
       "      <td>0.859</td>\n",
       "      <td>0.001</td>\n",
       "      <td>0.861</td>\n",
       "    </tr>\n",
       "  </tbody>\n",
       "</table>\n",
       "</div>"
      ],
      "text/plain": [
       "               MAP  MAP_std  MAP_max\n",
       "mBERT        0.834    0.004    0.838\n",
       "mBERT-Galén  0.858    0.002    0.860\n",
       "BETO         0.818    0.005    0.824\n",
       "BETO-Galén   0.862    0.001    0.864\n",
       "XLM-R        0.836    0.004    0.841\n",
       "XLM-R-Galén  0.859    0.001    0.861"
      ]
     },
     "execution_count": 18,
     "metadata": {},
     "output_type": "execute_result"
    }
   ],
   "source": [
    "pd.DataFrame(map_res_dict).transpose()"
   ]
  },
  {
   "cell_type": "markdown",
   "metadata": {},
   "source": [
    "### Ensemble"
   ]
  },
  {
   "cell_type": "code",
   "execution_count": 19,
   "metadata": {},
   "outputs": [],
   "source": [
    "map_ens_res_dict = {}"
   ]
  },
  {
   "cell_type": "markdown",
   "metadata": {},
   "source": [
    "#### Single-model"
   ]
  },
  {
   "cell_type": "code",
   "execution_count": 20,
   "metadata": {},
   "outputs": [],
   "source": [
    "map_ens_res_dict[\"mBERT\"] = pd.Series({\"MAP\": round(compute_map(valid_codes=valid_codes, \n",
    "        pred=prob_codiesp_prediction_format(y_pred=sum(mbert_doc_preds), label_encoder_classes=codes, doc_list=test_doc_list),\n",
    "        gs_out_path=test_gs_out_path), 3)})"
   ]
  },
  {
   "cell_type": "code",
   "execution_count": 21,
   "metadata": {},
   "outputs": [],
   "source": [
    "map_ens_res_dict[\"mBERT-Galén\"] = pd.Series({\"MAP\": round(compute_map(valid_codes=valid_codes, \n",
    "        pred=prob_codiesp_prediction_format(y_pred=sum(mbert_galen_doc_preds), label_encoder_classes=codes, \n",
    "                                            doc_list=test_doc_list),\n",
    "        gs_out_path=test_gs_out_path), 3)})"
   ]
  },
  {
   "cell_type": "code",
   "execution_count": 22,
   "metadata": {},
   "outputs": [],
   "source": [
    "map_ens_res_dict[\"BETO\"] = pd.Series({\"MAP\": round(compute_map(valid_codes=valid_codes, \n",
    "        pred=prob_codiesp_prediction_format(y_pred=sum(beto_doc_preds), label_encoder_classes=codes, doc_list=test_doc_list),\n",
    "        gs_out_path=test_gs_out_path), 3)})"
   ]
  },
  {
   "cell_type": "code",
   "execution_count": 23,
   "metadata": {},
   "outputs": [],
   "source": [
    "map_ens_res_dict[\"BETO-Galén\"] = pd.Series({\"MAP\": round(compute_map(valid_codes=valid_codes, \n",
    "        pred=prob_codiesp_prediction_format(y_pred=sum(beto_galen_doc_preds), label_encoder_classes=codes, \n",
    "                                            doc_list=test_doc_list),\n",
    "        gs_out_path=test_gs_out_path), 3)})"
   ]
  },
  {
   "cell_type": "code",
   "execution_count": 24,
   "metadata": {},
   "outputs": [],
   "source": [
    "map_ens_res_dict[\"XLM-R\"] = pd.Series({\"MAP\": round(compute_map(valid_codes=valid_codes, \n",
    "        pred=prob_codiesp_prediction_format(y_pred=sum(xlmr_doc_preds), label_encoder_classes=codes, doc_list=test_doc_list),\n",
    "        gs_out_path=test_gs_out_path), 3)})"
   ]
  },
  {
   "cell_type": "code",
   "execution_count": 25,
   "metadata": {},
   "outputs": [],
   "source": [
    "map_ens_res_dict[\"XLM-R-Galén\"] = pd.Series({\"MAP\": round(compute_map(valid_codes=valid_codes, \n",
    "        pred=prob_codiesp_prediction_format(y_pred=sum(xlmr_galen_doc_preds), label_encoder_classes=codes, \n",
    "                                            doc_list=test_doc_list),\n",
    "        gs_out_path=test_gs_out_path), 3)})"
   ]
  },
  {
   "cell_type": "markdown",
   "metadata": {},
   "source": [
    "#### Multiple-model"
   ]
  },
  {
   "cell_type": "code",
   "execution_count": 26,
   "metadata": {},
   "outputs": [],
   "source": [
    "map_ens_res_dict[\"mBERT + mBERT-Galén\"] = pd.Series({\"MAP\": round(compute_map(valid_codes=valid_codes, \n",
    "        pred=prob_codiesp_prediction_format(y_pred=sum([sum(mbert_doc_preds), sum(mbert_galen_doc_preds)]), \n",
    "                                            label_encoder_classes=codes, doc_list=test_doc_list),\n",
    "        gs_out_path=test_gs_out_path), 3)})"
   ]
  },
  {
   "cell_type": "code",
   "execution_count": 27,
   "metadata": {},
   "outputs": [],
   "source": [
    "map_ens_res_dict[\"BETO + BETO-Galén\"] = pd.Series({\"MAP\": round(compute_map(valid_codes=valid_codes, \n",
    "        pred=prob_codiesp_prediction_format(y_pred=sum([sum(beto_doc_preds), sum(beto_galen_doc_preds)]), \n",
    "                                            label_encoder_classes=codes, doc_list=test_doc_list),\n",
    "        gs_out_path=test_gs_out_path), 3)})"
   ]
  },
  {
   "cell_type": "code",
   "execution_count": 28,
   "metadata": {},
   "outputs": [],
   "source": [
    "map_ens_res_dict[\"XLM-R + XLM-R-Galén\"] = pd.Series({\"MAP\": round(compute_map(valid_codes=valid_codes, \n",
    "        pred=prob_codiesp_prediction_format(y_pred=sum([sum(xlmr_doc_preds), sum(xlmr_galen_doc_preds)]), \n",
    "                                            label_encoder_classes=codes, doc_list=test_doc_list),\n",
    "        gs_out_path=test_gs_out_path), 3)})"
   ]
  },
  {
   "cell_type": "code",
   "execution_count": 29,
   "metadata": {},
   "outputs": [],
   "source": [
    "map_ens_res_dict[\"mBERT + BETO + XLM-R\"] = pd.Series({\"MAP\": round(compute_map(valid_codes=valid_codes, \n",
    "        pred=prob_codiesp_prediction_format(y_pred=sum([sum(mbert_doc_preds), sum(beto_doc_preds), sum(xlmr_doc_preds)]), \n",
    "                                            label_encoder_classes=codes, doc_list=test_doc_list),\n",
    "        gs_out_path=test_gs_out_path), 3)})"
   ]
  },
  {
   "cell_type": "code",
   "execution_count": 30,
   "metadata": {},
   "outputs": [],
   "source": [
    "map_ens_res_dict[\"mBERT-Galén + BETO-Galén + XLM-R-Galén\"] = pd.Series({\"MAP\": round(compute_map(valid_codes=valid_codes, \n",
    "        pred=prob_codiesp_prediction_format(y_pred=sum([sum(mbert_galen_doc_preds), sum(beto_galen_doc_preds), \n",
    "                                                        sum(xlmr_galen_doc_preds)]), \n",
    "                                            label_encoder_classes=codes, doc_list=test_doc_list),\n",
    "        gs_out_path=test_gs_out_path), 3)})"
   ]
  },
  {
   "cell_type": "code",
   "execution_count": 31,
   "metadata": {},
   "outputs": [
    {
     "data": {
      "text/html": [
       "<div>\n",
       "<style scoped>\n",
       "    .dataframe tbody tr th:only-of-type {\n",
       "        vertical-align: middle;\n",
       "    }\n",
       "\n",
       "    .dataframe tbody tr th {\n",
       "        vertical-align: top;\n",
       "    }\n",
       "\n",
       "    .dataframe thead th {\n",
       "        text-align: right;\n",
       "    }\n",
       "</style>\n",
       "<table border=\"1\" class=\"dataframe\">\n",
       "  <thead>\n",
       "    <tr style=\"text-align: right;\">\n",
       "      <th></th>\n",
       "      <th>MAP</th>\n",
       "    </tr>\n",
       "  </thead>\n",
       "  <tbody>\n",
       "    <tr>\n",
       "      <th>mBERT</th>\n",
       "      <td>0.861</td>\n",
       "    </tr>\n",
       "    <tr>\n",
       "      <th>mBERT-Galén</th>\n",
       "      <td>0.876</td>\n",
       "    </tr>\n",
       "    <tr>\n",
       "      <th>BETO</th>\n",
       "      <td>0.853</td>\n",
       "    </tr>\n",
       "    <tr>\n",
       "      <th>BETO-Galén</th>\n",
       "      <td>0.880</td>\n",
       "    </tr>\n",
       "    <tr>\n",
       "      <th>XLM-R</th>\n",
       "      <td>0.862</td>\n",
       "    </tr>\n",
       "    <tr>\n",
       "      <th>XLM-R-Galén</th>\n",
       "      <td>0.875</td>\n",
       "    </tr>\n",
       "    <tr>\n",
       "      <th>mBERT + mBERT-Galén</th>\n",
       "      <td>0.874</td>\n",
       "    </tr>\n",
       "    <tr>\n",
       "      <th>BETO + BETO-Galén</th>\n",
       "      <td>0.874</td>\n",
       "    </tr>\n",
       "    <tr>\n",
       "      <th>XLM-R + XLM-R-Galén</th>\n",
       "      <td>0.874</td>\n",
       "    </tr>\n",
       "    <tr>\n",
       "      <th>mBERT + BETO + XLM-R</th>\n",
       "      <td>0.870</td>\n",
       "    </tr>\n",
       "    <tr>\n",
       "      <th>mBERT-Galén + BETO-Galén + XLM-R-Galén</th>\n",
       "      <td>0.884</td>\n",
       "    </tr>\n",
       "  </tbody>\n",
       "</table>\n",
       "</div>"
      ],
      "text/plain": [
       "                                          MAP\n",
       "mBERT                                   0.861\n",
       "mBERT-Galén                             0.876\n",
       "BETO                                    0.853\n",
       "BETO-Galén                              0.880\n",
       "XLM-R                                   0.862\n",
       "XLM-R-Galén                             0.875\n",
       "mBERT + mBERT-Galén                     0.874\n",
       "BETO + BETO-Galén                       0.874\n",
       "XLM-R + XLM-R-Galén                     0.874\n",
       "mBERT + BETO + XLM-R                    0.870\n",
       "mBERT-Galén + BETO-Galén + XLM-R-Galén  0.884"
      ]
     },
     "execution_count": 31,
     "metadata": {},
     "output_type": "execute_result"
    }
   ],
   "source": [
    "pd.DataFrame(map_ens_res_dict).transpose()"
   ]
  },
  {
   "cell_type": "markdown",
   "metadata": {},
   "source": [
    "## Additional metrics\n",
    "\n",
    "Additionally, we also evaluate the models according to the micro-averaged precision, recall and F1-score. For this purpose, we use binary classification thresholds previously estimated on the development set of the Cantemist-Coding corpus."
   ]
  },
  {
   "cell_type": "code",
   "execution_count": 32,
   "metadata": {},
   "outputs": [],
   "source": [
    "add_res_dict = {}"
   ]
  },
  {
   "cell_type": "code",
   "execution_count": 33,
   "metadata": {},
   "outputs": [],
   "source": [
    "test_pred_file_path = \"./test_intermediate_pred_file.txt\""
   ]
  },
  {
   "cell_type": "code",
   "execution_count": 34,
   "metadata": {},
   "outputs": [],
   "source": [
    "mbert_thr = 0.66"
   ]
  },
  {
   "cell_type": "code",
   "execution_count": 35,
   "metadata": {},
   "outputs": [
    {
     "name": "stdout",
     "output_type": "stream",
     "text": [
      "CPU times: user 3.05 s, sys: 8.94 ms, total: 3.06 s\n",
      "Wall time: 3.06 s\n"
     ]
    }
   ],
   "source": [
    "%%time\n",
    "add_res_dict[\"mBERT\"] = compute_metrics_avg(thr=mbert_thr, doc_preds_arr=mbert_doc_preds, codes_labels=codes, \n",
    "                                            docs=list(test_doc_list), pred_file_path=test_pred_file_path, \n",
    "                                            gs_path=test_gs_path, valid_codes_path=codes_path)"
   ]
  },
  {
   "cell_type": "code",
   "execution_count": 36,
   "metadata": {},
   "outputs": [],
   "source": [
    "mbert_galen_thr = 0.37"
   ]
  },
  {
   "cell_type": "code",
   "execution_count": 37,
   "metadata": {},
   "outputs": [
    {
     "name": "stdout",
     "output_type": "stream",
     "text": [
      "CPU times: user 3.05 s, sys: 7.76 ms, total: 3.06 s\n",
      "Wall time: 3.05 s\n"
     ]
    }
   ],
   "source": [
    "%%time\n",
    "add_res_dict[\"mBERT-Galén\"] = compute_metrics_avg(thr=mbert_galen_thr, doc_preds_arr=mbert_galen_doc_preds, codes_labels=codes, \n",
    "                                            docs=list(test_doc_list), pred_file_path=test_pred_file_path, \n",
    "                                            gs_path=test_gs_path, valid_codes_path=codes_path)"
   ]
  },
  {
   "cell_type": "code",
   "execution_count": 38,
   "metadata": {},
   "outputs": [],
   "source": [
    "beto_thr = 0.57"
   ]
  },
  {
   "cell_type": "code",
   "execution_count": 39,
   "metadata": {},
   "outputs": [
    {
     "name": "stdout",
     "output_type": "stream",
     "text": [
      "CPU times: user 3.18 s, sys: 5.24 ms, total: 3.19 s\n",
      "Wall time: 3.18 s\n"
     ]
    }
   ],
   "source": [
    "%%time\n",
    "add_res_dict[\"BETO\"] = compute_metrics_avg(thr=beto_thr, doc_preds_arr=beto_doc_preds, codes_labels=codes, \n",
    "                                            docs=list(test_doc_list), pred_file_path=test_pred_file_path, \n",
    "                                            gs_path=test_gs_path, valid_codes_path=codes_path)"
   ]
  },
  {
   "cell_type": "code",
   "execution_count": 40,
   "metadata": {},
   "outputs": [],
   "source": [
    "beto_galen_thr = 0.59"
   ]
  },
  {
   "cell_type": "code",
   "execution_count": 41,
   "metadata": {},
   "outputs": [
    {
     "name": "stdout",
     "output_type": "stream",
     "text": [
      "CPU times: user 3.26 s, sys: 7.1 ms, total: 3.27 s\n",
      "Wall time: 3.27 s\n"
     ]
    }
   ],
   "source": [
    "%%time\n",
    "add_res_dict[\"BETO-Galén\"] = compute_metrics_avg(thr=beto_galen_thr, doc_preds_arr=beto_galen_doc_preds, codes_labels=codes, \n",
    "                                            docs=list(test_doc_list), pred_file_path=test_pred_file_path, \n",
    "                                            gs_path=test_gs_path, valid_codes_path=codes_path)"
   ]
  },
  {
   "cell_type": "code",
   "execution_count": 42,
   "metadata": {},
   "outputs": [],
   "source": [
    "xlmr_thr = 0.42"
   ]
  },
  {
   "cell_type": "code",
   "execution_count": 43,
   "metadata": {},
   "outputs": [
    {
     "name": "stdout",
     "output_type": "stream",
     "text": [
      "CPU times: user 3.34 s, sys: 4.39 ms, total: 3.35 s\n",
      "Wall time: 3.34 s\n"
     ]
    }
   ],
   "source": [
    "%%time\n",
    "add_res_dict[\"XLM-R\"] = compute_metrics_avg(thr=xlmr_thr, doc_preds_arr=xlmr_doc_preds, codes_labels=codes, \n",
    "                                            docs=list(test_doc_list), pred_file_path=test_pred_file_path, \n",
    "                                            gs_path=test_gs_path, valid_codes_path=codes_path)"
   ]
  },
  {
   "cell_type": "code",
   "execution_count": 44,
   "metadata": {},
   "outputs": [],
   "source": [
    "xlmr_galen_thr = 0.45"
   ]
  },
  {
   "cell_type": "code",
   "execution_count": 45,
   "metadata": {},
   "outputs": [
    {
     "name": "stdout",
     "output_type": "stream",
     "text": [
      "CPU times: user 3.05 s, sys: 1.38 ms, total: 3.05 s\n",
      "Wall time: 3.04 s\n"
     ]
    }
   ],
   "source": [
    "%%time\n",
    "add_res_dict[\"XLM-R-Galén\"] = compute_metrics_avg(thr=xlmr_galen_thr, doc_preds_arr=xlmr_galen_doc_preds, codes_labels=codes, \n",
    "                                            docs=list(test_doc_list), pred_file_path=test_pred_file_path, \n",
    "                                            gs_path=test_gs_path, valid_codes_path=codes_path)"
   ]
  },
  {
   "cell_type": "code",
   "execution_count": 46,
   "metadata": {},
   "outputs": [
    {
     "data": {
      "text/html": [
       "<div>\n",
       "<style scoped>\n",
       "    .dataframe tbody tr th:only-of-type {\n",
       "        vertical-align: middle;\n",
       "    }\n",
       "\n",
       "    .dataframe tbody tr th {\n",
       "        vertical-align: top;\n",
       "    }\n",
       "\n",
       "    .dataframe thead th {\n",
       "        text-align: right;\n",
       "    }\n",
       "</style>\n",
       "<table border=\"1\" class=\"dataframe\">\n",
       "  <thead>\n",
       "    <tr style=\"text-align: right;\">\n",
       "      <th></th>\n",
       "      <th>P</th>\n",
       "      <th>P_std</th>\n",
       "      <th>P_max</th>\n",
       "      <th>R</th>\n",
       "      <th>R_std</th>\n",
       "      <th>R_max</th>\n",
       "      <th>F1</th>\n",
       "      <th>F1_std</th>\n",
       "      <th>F1_max</th>\n",
       "    </tr>\n",
       "  </thead>\n",
       "  <tbody>\n",
       "    <tr>\n",
       "      <th>mBERT</th>\n",
       "      <td>0.871</td>\n",
       "      <td>0.012</td>\n",
       "      <td>0.882</td>\n",
       "      <td>0.736</td>\n",
       "      <td>0.004</td>\n",
       "      <td>0.742</td>\n",
       "      <td>0.798</td>\n",
       "      <td>0.005</td>\n",
       "      <td>0.805</td>\n",
       "    </tr>\n",
       "    <tr>\n",
       "      <th>mBERT-Galén</th>\n",
       "      <td>0.878</td>\n",
       "      <td>0.008</td>\n",
       "      <td>0.891</td>\n",
       "      <td>0.763</td>\n",
       "      <td>0.007</td>\n",
       "      <td>0.776</td>\n",
       "      <td>0.817</td>\n",
       "      <td>0.001</td>\n",
       "      <td>0.819</td>\n",
       "    </tr>\n",
       "    <tr>\n",
       "      <th>BETO</th>\n",
       "      <td>0.869</td>\n",
       "      <td>0.016</td>\n",
       "      <td>0.888</td>\n",
       "      <td>0.711</td>\n",
       "      <td>0.014</td>\n",
       "      <td>0.728</td>\n",
       "      <td>0.782</td>\n",
       "      <td>0.005</td>\n",
       "      <td>0.791</td>\n",
       "    </tr>\n",
       "    <tr>\n",
       "      <th>BETO-Galén</th>\n",
       "      <td>0.905</td>\n",
       "      <td>0.007</td>\n",
       "      <td>0.917</td>\n",
       "      <td>0.761</td>\n",
       "      <td>0.004</td>\n",
       "      <td>0.768</td>\n",
       "      <td>0.827</td>\n",
       "      <td>0.003</td>\n",
       "      <td>0.832</td>\n",
       "    </tr>\n",
       "    <tr>\n",
       "      <th>XLM-R</th>\n",
       "      <td>0.852</td>\n",
       "      <td>0.012</td>\n",
       "      <td>0.868</td>\n",
       "      <td>0.751</td>\n",
       "      <td>0.006</td>\n",
       "      <td>0.762</td>\n",
       "      <td>0.799</td>\n",
       "      <td>0.006</td>\n",
       "      <td>0.805</td>\n",
       "    </tr>\n",
       "    <tr>\n",
       "      <th>XLM-R-Galén</th>\n",
       "      <td>0.875</td>\n",
       "      <td>0.008</td>\n",
       "      <td>0.889</td>\n",
       "      <td>0.768</td>\n",
       "      <td>0.003</td>\n",
       "      <td>0.771</td>\n",
       "      <td>0.818</td>\n",
       "      <td>0.003</td>\n",
       "      <td>0.823</td>\n",
       "    </tr>\n",
       "  </tbody>\n",
       "</table>\n",
       "</div>"
      ],
      "text/plain": [
       "                 P  P_std  P_max      R  R_std  R_max     F1  F1_std  F1_max\n",
       "mBERT        0.871  0.012  0.882  0.736  0.004  0.742  0.798   0.005   0.805\n",
       "mBERT-Galén  0.878  0.008  0.891  0.763  0.007  0.776  0.817   0.001   0.819\n",
       "BETO         0.869  0.016  0.888  0.711  0.014  0.728  0.782   0.005   0.791\n",
       "BETO-Galén   0.905  0.007  0.917  0.761  0.004  0.768  0.827   0.003   0.832\n",
       "XLM-R        0.852  0.012  0.868  0.751  0.006  0.762  0.799   0.006   0.805\n",
       "XLM-R-Galén  0.875  0.008  0.889  0.768  0.003  0.771  0.818   0.003   0.823"
      ]
     },
     "execution_count": 46,
     "metadata": {},
     "output_type": "execute_result"
    }
   ],
   "source": [
    "pd.DataFrame(add_res_dict).transpose()"
   ]
  },
  {
   "cell_type": "markdown",
   "metadata": {},
   "source": [
    "### Ensemble"
   ]
  },
  {
   "cell_type": "code",
   "execution_count": 47,
   "metadata": {},
   "outputs": [],
   "source": [
    "add_ens_res_dict = {}"
   ]
  },
  {
   "cell_type": "markdown",
   "metadata": {},
   "source": [
    "#### Single-model"
   ]
  },
  {
   "cell_type": "code",
   "execution_count": 48,
   "metadata": {},
   "outputs": [],
   "source": [
    "df_test_pred = thr_codiesp_prediction_format(y_pred=sum(mbert_doc_preds)/len(rnd_seeds), label_encoder_classes=codes, \n",
    "                                             doc_list=test_doc_list, thr=mbert_thr)\n",
    "df_test_pred[[\"doc_id\", \"code\"]].to_csv(path_or_buf=test_pred_file_path, sep=\"\\t\", header=False, index=False)\n",
    "p, r, f1 = compute_p_r_f1(gs_path=test_gs_path, pred_path=test_pred_file_path, codes_path=codes_path)\n",
    "add_ens_res_dict[\"mBERT\"] = pd.Series({\"P\": p, \"R\": r, \"F1\": f1})"
   ]
  },
  {
   "cell_type": "code",
   "execution_count": 49,
   "metadata": {},
   "outputs": [],
   "source": [
    "df_test_pred = thr_codiesp_prediction_format(y_pred=sum(mbert_galen_doc_preds)/len(rnd_seeds), label_encoder_classes=codes, \n",
    "                                             doc_list=test_doc_list, thr=mbert_galen_thr)\n",
    "df_test_pred[[\"doc_id\", \"code\"]].to_csv(path_or_buf=test_pred_file_path, sep=\"\\t\", header=False, index=False)\n",
    "p, r, f1 = compute_p_r_f1(gs_path=test_gs_path, pred_path=test_pred_file_path, codes_path=codes_path)\n",
    "add_ens_res_dict[\"mBERT-Galén\"] = pd.Series({\"P\": p, \"R\": r, \"F1\": f1})"
   ]
  },
  {
   "cell_type": "code",
   "execution_count": 50,
   "metadata": {},
   "outputs": [],
   "source": [
    "df_test_pred = thr_codiesp_prediction_format(y_pred=sum(beto_doc_preds)/len(rnd_seeds), label_encoder_classes=codes, \n",
    "                                             doc_list=test_doc_list, thr=beto_thr)\n",
    "df_test_pred[[\"doc_id\", \"code\"]].to_csv(path_or_buf=test_pred_file_path, sep=\"\\t\", header=False, index=False)\n",
    "p, r, f1 = compute_p_r_f1(gs_path=test_gs_path, pred_path=test_pred_file_path, codes_path=codes_path)\n",
    "add_ens_res_dict[\"BETO\"] = pd.Series({\"P\": p, \"R\": r, \"F1\": f1})"
   ]
  },
  {
   "cell_type": "code",
   "execution_count": 51,
   "metadata": {},
   "outputs": [],
   "source": [
    "df_test_pred = thr_codiesp_prediction_format(y_pred=sum(beto_galen_doc_preds)/len(rnd_seeds), label_encoder_classes=codes, \n",
    "                                             doc_list=test_doc_list, thr=beto_galen_thr)\n",
    "df_test_pred[[\"doc_id\", \"code\"]].to_csv(path_or_buf=test_pred_file_path, sep=\"\\t\", header=False, index=False)\n",
    "p, r, f1 = compute_p_r_f1(gs_path=test_gs_path, pred_path=test_pred_file_path, codes_path=codes_path)\n",
    "add_ens_res_dict[\"BETO-Galén\"] = pd.Series({\"P\": p, \"R\": r, \"F1\": f1})"
   ]
  },
  {
   "cell_type": "code",
   "execution_count": 52,
   "metadata": {},
   "outputs": [],
   "source": [
    "df_test_pred = thr_codiesp_prediction_format(y_pred=sum(xlmr_doc_preds)/len(rnd_seeds), label_encoder_classes=codes, \n",
    "                                             doc_list=test_doc_list, thr=xlmr_thr)\n",
    "df_test_pred[[\"doc_id\", \"code\"]].to_csv(path_or_buf=test_pred_file_path, sep=\"\\t\", header=False, index=False)\n",
    "p, r, f1 = compute_p_r_f1(gs_path=test_gs_path, pred_path=test_pred_file_path, codes_path=codes_path)\n",
    "add_ens_res_dict[\"XLM-R\"] = pd.Series({\"P\": p, \"R\": r, \"F1\": f1})"
   ]
  },
  {
   "cell_type": "code",
   "execution_count": 53,
   "metadata": {},
   "outputs": [],
   "source": [
    "df_test_pred = thr_codiesp_prediction_format(y_pred=sum(xlmr_galen_doc_preds)/len(rnd_seeds), label_encoder_classes=codes, \n",
    "                                             doc_list=test_doc_list, thr=xlmr_galen_thr)\n",
    "df_test_pred[[\"doc_id\", \"code\"]].to_csv(path_or_buf=test_pred_file_path, sep=\"\\t\", header=False, index=False)\n",
    "p, r, f1 = compute_p_r_f1(gs_path=test_gs_path, pred_path=test_pred_file_path, codes_path=codes_path)\n",
    "add_ens_res_dict[\"XLM-R-Galén\"] = pd.Series({\"P\": p, \"R\": r, \"F1\": f1})"
   ]
  },
  {
   "cell_type": "markdown",
   "metadata": {},
   "source": [
    "#### Multiple-model"
   ]
  },
  {
   "cell_type": "code",
   "execution_count": 54,
   "metadata": {},
   "outputs": [],
   "source": [
    "df_test_pred = thr_codiesp_prediction_format(y_pred=sum([sum(mbert_doc_preds), sum(mbert_galen_doc_preds)])/(len(rnd_seeds)*2), \n",
    "                                             label_encoder_classes=codes, doc_list=test_doc_list, \n",
    "                                             thr=(mbert_thr + mbert_galen_thr)/2)\n",
    "df_test_pred[[\"doc_id\", \"code\"]].to_csv(path_or_buf=test_pred_file_path, sep=\"\\t\", header=False, index=False)\n",
    "p, r, f1 = compute_p_r_f1(gs_path=test_gs_path, pred_path=test_pred_file_path, codes_path=codes_path)\n",
    "add_ens_res_dict[\"mBERT + mBERT-Galén\"] = pd.Series({\"P\": p, \"R\": r, \"F1\": f1})"
   ]
  },
  {
   "cell_type": "code",
   "execution_count": 55,
   "metadata": {},
   "outputs": [],
   "source": [
    "df_test_pred = thr_codiesp_prediction_format(y_pred=sum([sum(beto_doc_preds), sum(beto_galen_doc_preds)])/(len(rnd_seeds)*2), \n",
    "                                             label_encoder_classes=codes, doc_list=test_doc_list, \n",
    "                                             thr=(beto_thr + beto_galen_thr)/2)\n",
    "df_test_pred[[\"doc_id\", \"code\"]].to_csv(path_or_buf=test_pred_file_path, sep=\"\\t\", header=False, index=False)\n",
    "p, r, f1 = compute_p_r_f1(gs_path=test_gs_path, pred_path=test_pred_file_path, codes_path=codes_path)\n",
    "add_ens_res_dict[\"BETO + BETO-Galén\"] = pd.Series({\"P\": p, \"R\": r, \"F1\": f1})"
   ]
  },
  {
   "cell_type": "code",
   "execution_count": 56,
   "metadata": {},
   "outputs": [],
   "source": [
    "df_test_pred = thr_codiesp_prediction_format(y_pred=sum([sum(xlmr_doc_preds), sum(xlmr_galen_doc_preds)])/(len(rnd_seeds)*2), \n",
    "                                             label_encoder_classes=codes, doc_list=test_doc_list, \n",
    "                                             thr=(xlmr_thr + xlmr_galen_thr)/2)\n",
    "df_test_pred[[\"doc_id\", \"code\"]].to_csv(path_or_buf=test_pred_file_path, sep=\"\\t\", header=False, index=False)\n",
    "p, r, f1 = compute_p_r_f1(gs_path=test_gs_path, pred_path=test_pred_file_path, codes_path=codes_path)\n",
    "add_ens_res_dict[\"XLM-R + XLM-R-Galén\"] = pd.Series({\"P\": p, \"R\": r, \"F1\": f1})"
   ]
  },
  {
   "cell_type": "code",
   "execution_count": 57,
   "metadata": {},
   "outputs": [],
   "source": [
    "df_test_pred = thr_codiesp_prediction_format(y_pred=sum([sum(mbert_doc_preds), sum(beto_doc_preds), \n",
    "                                                         sum(xlmr_doc_preds)])/(len(rnd_seeds)*3), \n",
    "                                             label_encoder_classes=codes, doc_list=test_doc_list, \n",
    "                                             thr=(mbert_thr + beto_thr + xlmr_thr)/3)\n",
    "df_test_pred[[\"doc_id\", \"code\"]].to_csv(path_or_buf=test_pred_file_path, sep=\"\\t\", header=False, index=False)\n",
    "p, r, f1 = compute_p_r_f1(gs_path=test_gs_path, pred_path=test_pred_file_path, codes_path=codes_path)\n",
    "add_ens_res_dict[\"mBERT + BETO + XLM-R\"] = pd.Series({\"P\": p, \"R\": r, \"F1\": f1})"
   ]
  },
  {
   "cell_type": "code",
   "execution_count": 58,
   "metadata": {},
   "outputs": [],
   "source": [
    "df_test_pred = thr_codiesp_prediction_format(y_pred=sum([sum(mbert_galen_doc_preds), sum(beto_galen_doc_preds), \n",
    "                                                         sum(xlmr_galen_doc_preds)])/(len(rnd_seeds)*3), \n",
    "                                             label_encoder_classes=codes, doc_list=test_doc_list, \n",
    "                                             thr=(mbert_galen_thr + beto_galen_thr + xlmr_galen_thr)/3)\n",
    "df_test_pred[[\"doc_id\", \"code\"]].to_csv(path_or_buf=test_pred_file_path, sep=\"\\t\", header=False, index=False)\n",
    "p, r, f1 = compute_p_r_f1(gs_path=test_gs_path, pred_path=test_pred_file_path, codes_path=codes_path)\n",
    "add_ens_res_dict[\"mBERT-Galén + BETO-Galén + XLM-R-Galén\"] = pd.Series({\"P\": p, \"R\": r, \"F1\": f1})"
   ]
  },
  {
   "cell_type": "code",
   "execution_count": 59,
   "metadata": {},
   "outputs": [
    {
     "data": {
      "text/html": [
       "<div>\n",
       "<style scoped>\n",
       "    .dataframe tbody tr th:only-of-type {\n",
       "        vertical-align: middle;\n",
       "    }\n",
       "\n",
       "    .dataframe tbody tr th {\n",
       "        vertical-align: top;\n",
       "    }\n",
       "\n",
       "    .dataframe thead th {\n",
       "        text-align: right;\n",
       "    }\n",
       "</style>\n",
       "<table border=\"1\" class=\"dataframe\">\n",
       "  <thead>\n",
       "    <tr style=\"text-align: right;\">\n",
       "      <th></th>\n",
       "      <th>P</th>\n",
       "      <th>R</th>\n",
       "      <th>F1</th>\n",
       "    </tr>\n",
       "  </thead>\n",
       "  <tbody>\n",
       "    <tr>\n",
       "      <th>mBERT</th>\n",
       "      <td>0.936</td>\n",
       "      <td>0.729</td>\n",
       "      <td>0.819</td>\n",
       "    </tr>\n",
       "    <tr>\n",
       "      <th>mBERT-Galén</th>\n",
       "      <td>0.895</td>\n",
       "      <td>0.780</td>\n",
       "      <td>0.833</td>\n",
       "    </tr>\n",
       "    <tr>\n",
       "      <th>BETO</th>\n",
       "      <td>0.927</td>\n",
       "      <td>0.712</td>\n",
       "      <td>0.806</td>\n",
       "    </tr>\n",
       "    <tr>\n",
       "      <th>BETO-Galén</th>\n",
       "      <td>0.935</td>\n",
       "      <td>0.755</td>\n",
       "      <td>0.835</td>\n",
       "    </tr>\n",
       "    <tr>\n",
       "      <th>XLM-R</th>\n",
       "      <td>0.895</td>\n",
       "      <td>0.761</td>\n",
       "      <td>0.822</td>\n",
       "    </tr>\n",
       "    <tr>\n",
       "      <th>XLM-R-Galén</th>\n",
       "      <td>0.902</td>\n",
       "      <td>0.776</td>\n",
       "      <td>0.834</td>\n",
       "    </tr>\n",
       "    <tr>\n",
       "      <th>mBERT + mBERT-Galén</th>\n",
       "      <td>0.925</td>\n",
       "      <td>0.756</td>\n",
       "      <td>0.832</td>\n",
       "    </tr>\n",
       "    <tr>\n",
       "      <th>BETO + BETO-Galén</th>\n",
       "      <td>0.946</td>\n",
       "      <td>0.738</td>\n",
       "      <td>0.829</td>\n",
       "    </tr>\n",
       "    <tr>\n",
       "      <th>XLM-R + XLM-R-Galén</th>\n",
       "      <td>0.907</td>\n",
       "      <td>0.776</td>\n",
       "      <td>0.836</td>\n",
       "    </tr>\n",
       "    <tr>\n",
       "      <th>mBERT + BETO + XLM-R</th>\n",
       "      <td>0.939</td>\n",
       "      <td>0.736</td>\n",
       "      <td>0.825</td>\n",
       "    </tr>\n",
       "    <tr>\n",
       "      <th>mBERT-Galén + BETO-Galén + XLM-R-Galén</th>\n",
       "      <td>0.919</td>\n",
       "      <td>0.778</td>\n",
       "      <td>0.842</td>\n",
       "    </tr>\n",
       "  </tbody>\n",
       "</table>\n",
       "</div>"
      ],
      "text/plain": [
       "                                            P      R     F1\n",
       "mBERT                                   0.936  0.729  0.819\n",
       "mBERT-Galén                             0.895  0.780  0.833\n",
       "BETO                                    0.927  0.712  0.806\n",
       "BETO-Galén                              0.935  0.755  0.835\n",
       "XLM-R                                   0.895  0.761  0.822\n",
       "XLM-R-Galén                             0.902  0.776  0.834\n",
       "mBERT + mBERT-Galén                     0.925  0.756  0.832\n",
       "BETO + BETO-Galén                       0.946  0.738  0.829\n",
       "XLM-R + XLM-R-Galén                     0.907  0.776  0.836\n",
       "mBERT + BETO + XLM-R                    0.939  0.736  0.825\n",
       "mBERT-Galén + BETO-Galén + XLM-R-Galén  0.919  0.778  0.842"
      ]
     },
     "execution_count": 59,
     "metadata": {},
     "output_type": "execute_result"
    }
   ],
   "source": [
    "pd.DataFrame(add_ens_res_dict).transpose()"
   ]
  }
 ],
 "metadata": {
  "kernelspec": {
   "display_name": "Python 3",
   "language": "python",
   "name": "python3"
  },
  "language_info": {
   "codemirror_mode": {
    "name": "ipython",
    "version": 3
   },
   "file_extension": ".py",
   "mimetype": "text/x-python",
   "name": "python",
   "nbconvert_exporter": "python",
   "pygments_lexer": "ipython3",
   "version": "3.6.5"
  }
 },
 "nbformat": 4,
 "nbformat_minor": 2
}
